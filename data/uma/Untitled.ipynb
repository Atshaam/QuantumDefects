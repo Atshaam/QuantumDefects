{
 "cells": [
  {
   "cell_type": "code",
   "execution_count": 1,
   "id": "c543437b-05cd-46cb-a8cf-2040318c8b48",
   "metadata": {},
   "outputs": [],
   "source": [
    "from monty.serialization import *"
   ]
  },
  {
   "cell_type": "code",
   "execution_count": 12,
   "id": "c60f6f7b-e0f9-49af-bd51-1ed200eea5a9",
   "metadata": {},
   "outputs": [],
   "source": [
    "test = loadfn('relaxed_cp_defect_tm.json')"
   ]
  },
  {
   "cell_type": "code",
   "execution_count": 13,
   "id": "5d6c8f92-771a-42da-a0bc-9f78c56327ab",
   "metadata": {},
   "outputs": [
    {
     "data": {
      "text/plain": [
       "dict_keys(['mp-27863V', 'mp-27863Cr', 'mp-24337Mn', 'mp-24336Fe', 'mp-3346642Fe', 'mp-1143Fe', 'mp-1143Cr', 'mp-3953Fe', 'mp-5348Fe', 'mp-3953Mn', 'mp-5348Mn', 'mp-3953Ni', 'mp-5348Ni', 'mp-27219Co', 'mp-27219Mn', 'mp-27219Ni', 'mp-3904Fe', 'mp-2895Mn', 'mp-4481Mn', 'mp-7572Ni', 'mp-12630Ni', 'mp-3142Ni', 'mp-4157Ni', 'mp-4396Ni', 'mp-38322Mn', 'mp-5005Ni', 'mp-5005Co', 'mp-16771Mn', 'mp-23966Ni', 'mp-24041Mn', 'mp-24041Ni', 'mp-24041Fe', 'mp-3653Co', 'mp-3653Fe', 'mp-3653Ni', 'mp-18620Ni', 'mp-18620Mn', 'mp-4555Ni', 'mp-4555Mn', 'mp-769077Ni', 'mp-769077Co', 'mp-1200442Fe', 'mp-1200442Co', 'mp-1200442Ni', 'mp-4417Cr', 'mp-23087Ni', 'mp-1265Ni', 'mp-1342Ni', 'mp-2472Ni', 'mp-2605Ni', 'mp-27863Fe', 'mp-24337Co', 'mp-24618Fe', 'mp-625152Fe', 'mp-24336Co', 'mp-3346642Co', 'mp-1143Ti', 'mp-5416Ag', 'mp-4531Ag', 'mp-8180Ag', 'mp-3953Co', 'mp-5348Co', 'mp-12271Ni', 'mp-27219Fe', 'mp-3904Ni', 'mp-2895Fe', 'mp-4481Fe', 'mp-560647Mn', 'mp-7572Mn', 'mp-12630Co', 'mp-3142Mn', 'mp-4157Mn', 'mp-4396Mn', 'mp-38322Co', 'mp-5005Mn', 'mp-11715Mn', 'mp-14398Mn', 'mp-8000Mn', 'mp-23743Cr', 'mp-562102Ag', 'mp-31269Ag', 'mp-14234Mn', 'mp-558458Mn', 'mp-561437V', 'mp-16771Co', 'mp-23966Mn', 'mp-24041Co', 'mp-3653Cu', 'mp-3118Mn', 'mp-18620Fe', 'mp-4555Co', 'mp-643898Mn', 'mp-14396Co', 'mp-769077Mn', 'mp-1019377Cr', 'mp-555903Fe', 'mp-541415Ag', 'mp-23995Sc', 'mp-730154Ag', 'mp-1200442Mn', 'mp-30983Mn', 'mp-15437Co', 'mp-4417Fe', 'mp-23087Mn', 'mp-24460Mn'])"
      ]
     },
     "execution_count": 13,
     "metadata": {},
     "output_type": "execute_result"
    }
   ],
   "source": [
    "test.keys()"
   ]
  },
  {
   "cell_type": "code",
   "execution_count": 14,
   "id": "4fd50eca-89d8-40d9-8223-d947e8d9320e",
   "metadata": {},
   "outputs": [],
   "source": [
    "test2 = loadfn('relaxed_cp_defect_tm_2.json')"
   ]
  },
  {
   "cell_type": "code",
   "execution_count": 15,
   "id": "f1fbbec5-3081-483b-8aed-d9a4bd5c5ba7",
   "metadata": {},
   "outputs": [
    {
     "data": {
      "text/plain": [
       "dict_keys(['mp-27863V', 'mp-27863Cr', 'mp-24337Mn', 'mp-24336Fe', 'mp-3346642Fe', 'mp-1143Fe', 'mp-1143Cr', 'mp-3953Fe', 'mp-5348Fe', 'mp-3953Mn', 'mp-5348Mn', 'mp-3953Ni', 'mp-5348Ni', 'mp-27219Co', 'mp-27219Mn', 'mp-27219Ni', 'mp-3904Fe', 'mp-2895Mn', 'mp-4481Mn', 'mp-7572Ni', 'mp-12630Ni', 'mp-3142Ni', 'mp-4157Ni', 'mp-4396Ni', 'mp-38322Mn', 'mp-5005Ni', 'mp-5005Co', 'mp-16771Mn', 'mp-23966Ni', 'mp-24041Mn', 'mp-24041Ni', 'mp-24041Fe', 'mp-3653Co', 'mp-3653Fe', 'mp-3653Ni', 'mp-18620Ni', 'mp-18620Mn', 'mp-4555Ni', 'mp-4555Mn', 'mp-769077Ni', 'mp-769077Co', 'mp-1200442Fe', 'mp-1200442Co', 'mp-1200442Ni', 'mp-4417Cr', 'mp-23087Ni'])"
      ]
     },
     "execution_count": 15,
     "metadata": {},
     "output_type": "execute_result"
    }
   ],
   "source": [
    "test2.keys()"
   ]
  },
  {
   "cell_type": "code",
   "execution_count": null,
   "id": "aca2d76a-b0ae-4b44-a66f-c181ea146d4b",
   "metadata": {},
   "outputs": [],
   "source": []
  }
 ],
 "metadata": {
  "kernelspec": {
   "display_name": "Python 3 (ipykernel)",
   "language": "python",
   "name": "python3"
  },
  "language_info": {
   "codemirror_mode": {
    "name": "ipython",
    "version": 3
   },
   "file_extension": ".py",
   "mimetype": "text/x-python",
   "name": "python",
   "nbconvert_exporter": "python",
   "pygments_lexer": "ipython3",
   "version": "3.11.13"
  }
 },
 "nbformat": 4,
 "nbformat_minor": 5
}
