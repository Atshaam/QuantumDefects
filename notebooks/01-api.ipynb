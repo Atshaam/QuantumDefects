{
 "cells": [
  {
   "cell_type": "code",
   "execution_count": 1,
   "id": "6d522c1b-518b-4d49-a658-7532fdca3e81",
   "metadata": {},
   "outputs": [],
   "source": [
    "import os\n",
    "\n",
    "os.environ[\"CUDA_DEVICE_ORDER\"] = \"PCI_BUS_ID\"\n",
    "os.environ[\"CUDA_VISIBLE_DEVICES\"] = \"1\""
   ]
  },
  {
   "cell_type": "code",
   "execution_count": 2,
   "id": "9c819d58",
   "metadata": {
    "scrolled": true
   },
   "outputs": [],
   "source": [
    "from mp_api.client import MPRester\n",
    "from pymatgen.analysis.structure_matcher import StructureMatcher"
   ]
  },
  {
   "cell_type": "code",
   "execution_count": 3,
   "id": "5d9fe777",
   "metadata": {},
   "outputs": [],
   "source": [
    "mpr = MPRester() "
   ]
  },
  {
   "cell_type": "code",
   "execution_count": 4,
   "id": "7cec4403",
   "metadata": {
    "scrolled": true
   },
   "outputs": [
    {
     "data": {
      "application/vnd.jupyter.widget-view+json": {
       "model_id": "633f6957cf284254ad11e00b82b5c821",
       "version_major": 2,
       "version_minor": 0
      },
      "text/plain": [
       "Retrieving SummaryDoc documents:   0%|          | 0/229 [00:00<?, ?it/s]"
      ]
     },
     "metadata": {},
     "output_type": "display_data"
    },
    {
     "name": "stdout",
     "output_type": "stream",
     "text": [
      "Rb3AlO3\n",
      "NbAlO4\n",
      "K3AlO3\n",
      "Al(PO3)3\n",
      "Cs3AlO3\n",
      "Eu3AlO5\n",
      "Cs9AlO4\n",
      "AlAsO4\n",
      "AlPO4\n",
      "LiAlO2\n",
      "PrAlO3\n",
      "NdAlO3\n",
      "Al(IO3)3\n",
      "AlCuO2\n",
      "AlAgO2\n",
      "AlVO4\n",
      "RbAlO2\n",
      "CsAlO2\n",
      "NaAlO2\n",
      "AlClO\n",
      "TaAlO4\n",
      "Na5AlO4\n",
      "Li5AlO4\n",
      "KAlO2\n",
      "Ba3AlO4\n",
      "AlHO2\n",
      "SmAlO3\n",
      "AlWO4\n",
      "CeAlO3\n",
      "K3Al(PO4)2\n",
      "Na3Al(AsO4)2\n",
      "NaAlGeO4\n",
      "KAlP2O7\n",
      "AlFePO5\n",
      "Cs2AlP3O10\n",
      "Li2Al(BO2)5\n",
      "KLi4AlO4\n",
      "Sr4NbAlO8\n",
      "K3AlB8O15\n",
      "NdAlGe2O7\n",
      "MgAlPO5\n",
      "AlH11SO10\n",
      "CsAl(SiO3)2\n",
      "LiAlSiO4\n",
      "AlHSO5\n",
      "AlH6IO4\n",
      "AlH6BrO4\n",
      "AlH12(NO5)3\n",
      "CaTaAlO5\n",
      "Cs3AlGe2O7\n",
      "Cs2Al(NO3)5\n",
      "KAl(MoO4)2\n",
      "AlTl(MoO4)2\n",
      "CsAl(MoO4)2\n",
      "AlH12(ClO2)3\n",
      "KAlGeO4\n",
      "KAlSiO4\n",
      "ScAlCO\n",
      "Rb8AlAu3O4\n",
      "Ba2AlInO5\n",
      "AlSCl3O2\n",
      "RbAlAs2O7\n",
      "KAlSi3O8\n",
      "NaAlSi3O8\n",
      "Na3AlP8O23\n",
      "NaAlSiO4\n",
      "Li3AlSiO5\n",
      "CsAlSiO4\n",
      "RbAlSiO4\n",
      "Li3AlGeO5\n",
      "CaAlBO4\n",
      "AlBPbO4\n",
      "AlVMoO7\n",
      "Ba5AlIr2O11\n",
      "Ba3AlHO4\n",
      "MgAlBO4\n",
      "Na3AlP2H2O9\n",
      "NaAlH12(SO7)2\n",
      "Sr2AlCO3F5\n",
      "Cs2NaAl(PO4)2\n",
      "Na5AlP2(O4F)2\n",
      "K2CeAl(SiO3)4\n",
      "CsAlH4(OF2)2\n",
      "BaAlB4H3O10\n",
      "NaAlAsO4F\n",
      "Na3BeAl(SiO4)2\n",
      "BaAlBO3F2\n",
      "Na3AlP3NO9\n",
      "AlH14SeNO14\n",
      "AlH2PbO2F3\n",
      "Na2AlSi3HO9\n",
      "KAlP4(H2O7)2\n",
      "CsAlH24(SO10)2\n",
      "CsAlH24(SeO10)2\n",
      "KAlH6(OF3)2\n",
      "CsZr2Al(PO4)4\n",
      "Na4AlP2HO9\n",
      "K2AlSO4F3\n",
      "AlH10N2OF5\n",
      "AlH10SO9F\n",
      "KAlH2CO5\n",
      "NaAlH2CO5\n",
      "Na5Ca2Al(PO4)4\n",
      "AlSiH9C3Cl2O\n",
      "RbAlBP2HO9\n",
      "CsAlBP2HO9\n",
      "Na7AlH2C4(O3F)4\n",
      "Na4BeAlSi4ClO12\n",
      "Al2O3\n",
      "Nd4Al2O9\n",
      "Al2(SO4)3\n",
      "BaAl2O4\n",
      "Al2SiO5\n",
      "Sr3Al2O6\n",
      "Al2FeO4\n",
      "Al2ZnO4\n",
      "MgAl2O4\n",
      "MnAl2O4\n",
      "EuAl2O4\n",
      "SrAl2O4\n",
      "Al2PbO4\n",
      "Al2(MoO4)3\n",
      "BeAl2O4\n",
      "Ba4Al2O7\n",
      "Cs2Al2B2O7\n",
      "Al2Si2PbO8\n",
      "Rb2Al2B2O7\n",
      "Al2SnCl6O\n",
      "BaAl2(SiO4)2\n",
      "Al2H16S3O20\n",
      "Rb4Nb35Al2O70\n",
      "Na3Nb34Al2O64\n",
      "BaAl2(GeO4)2\n",
      "K2Al2B2O7\n",
      "BaAl2Sb2O7\n",
      "BaAl2B2O7\n",
      "Na2Al2B2O7\n",
      "K2Al2Sb2O7\n",
      "Cs2Al2Sb2O7\n",
      "Rb2Al2Sb2O7\n",
      "CaAl2B2O7\n",
      "SrAl2B2O7\n",
      "Al2P3(HO3)3\n",
      "Sr3Al2Cl2O5\n",
      "Al2H12(SeO5)3\n",
      "Ba7Sc6Al2O19\n",
      "Cs2Al2P2O9\n",
      "K3Al2(AsO4)3\n",
      "K3Al2(PO4)3\n",
      "Rb3Al2(PO4)3\n",
      "Cs2Al2As2O7\n",
      "Ca2Al2Sn2O9\n",
      "Al2AgCl5O\n",
      "Al2B3HO8\n",
      "Al2Ge(O2F)2\n",
      "Al2Si(O2F)2\n",
      "K4Nb11Al2O20F\n",
      "Rb2NaAl2(PO4)3\n",
      "LiAl2H6ClO6\n",
      "Ba5Er2ZrAl2O13\n",
      "BaAl2Si3(NO)4\n",
      "Al2Si3H8(NO5)2\n",
      "Na2Al2Si3(HO3)4\n",
      "Ba4NaAl2B8(ClO6)3\n",
      "Ba4NaAl2B8(BrO6)3\n",
      "Na2Sr2Al2PO4F9\n",
      "Ba5Al2In2IrClO13\n",
      "NaAl2H18S4N4ClO18\n",
      "Na7Al3O8\n",
      "YAl3(BO3)4\n",
      "RbAl3(P3O10)2\n",
      "NdAl3(PbO4)2\n",
      "SmAl3(PbO4)2\n",
      "Y3Sc2Al3O12\n",
      "Ca2Al3H3O8\n",
      "Na4Al3Si3ClO12\n",
      "Na4Al3Ge3ClO12\n",
      "Li4Al3Ge3IO12\n",
      "Na4Al3Ge3IO12\n",
      "K4Al3Si3ClO12\n",
      "Na4Al3Ge3BrO12\n",
      "Na4Al3Si3IO12\n",
      "Na4Al3Si3BrO12\n",
      "Li4Al3Si3ClO12\n",
      "Li4Al3Ge3BrO12\n",
      "Na14Al4O13\n",
      "Al4(B2O5)3\n",
      "Al4CdO7\n",
      "SrAl4O7\n",
      "CaAl4O7\n",
      "Al4CO4\n",
      "Al4Bi2O9\n",
      "Mn2Al4Si5O18\n",
      "Al4Fe2Si5O18\n",
      "Mg2Al4Si5O18\n",
      "BaAl4(SbO6)2\n",
      "K3Al4P2O8F9\n",
      "Mn13Al4Si2(SbO14)2\n",
      "Na2SrAl4(SiO4)4\n",
      "BaNa2Al4(SiO4)4\n",
      "NaCa2Al4H8C4ClO20\n",
      "K3Ba3Li2Al4B6O20F\n",
      "Lu3Al5O12\n",
      "Tb3Al5O12\n",
      "Gd3Al5O12\n",
      "Ho3Al5O12\n",
      "Er3Al5O12\n",
      "Y3Al5O12\n",
      "Al5BO9\n",
      "NaTi2Al5O12\n",
      "Sr13Al6Si8O\n",
      "Sr4Al6WO16\n",
      "Sr4Al6MoO16\n",
      "Al6B5(O5F)3\n",
      "Ca4Al6TeO12\n",
      "Ca4Al6SO12\n",
      "Al6Cd4SO12\n",
      "Sr4Al6TeO12\n",
      "Sr4Al6SO12\n",
      "Al6Cd4TeO12\n",
      "Ca4Al6SO16\n",
      "Sr4Al6CrO16\n",
      "Ca4Al6MoO16\n",
      "CaAl6H12(SO7)4\n",
      "Ca6Al7O16\n",
      "Al8(Pb3O7)3\n",
      "Ca2Al8PbO15\n",
      "Ba8Al10B12O41\n",
      "NaAl11O17\n"
     ]
    }
   ],
   "source": [
    "candidate_al = mpr.materials.summary.search(energy_above_hull=(0,0), elements=[\"O\", \"Al\"], theoretical=False)\n",
    "for material in candidate_al:\n",
    "    print(material.formula_pretty)"
   ]
  },
  {
   "cell_type": "code",
   "execution_count": 5,
   "id": "f1307c6b",
   "metadata": {
    "scrolled": true
   },
   "outputs": [
    {
     "data": {
      "application/vnd.jupyter.widget-view+json": {
       "model_id": "e72da8002a8c48a4bd93206c833653fe",
       "version_major": 2,
       "version_minor": 0
      },
      "text/plain": [
       "Retrieving SummaryDoc documents:   0%|          | 0/193 [00:00<?, ?it/s]"
      ]
     },
     "metadata": {},
     "output_type": "display_data"
    },
    {
     "name": "stdout",
     "output_type": "stream",
     "text": [
      "CrO2\n",
      "CrPb2O5\n",
      "CrPbO4\n",
      "CrHgO4\n",
      "Ta2CrO6\n",
      "SrCrO4\n",
      "Cr(PO3)3\n",
      "PrCrO4\n",
      "DyCrO4\n",
      "SmCrO4\n",
      "YbCrO4\n",
      "HoCrO4\n",
      "NdCrO4\n",
      "LuCrO4\n",
      "CaCrO4\n",
      "ErCrO4\n",
      "EuCrO4\n",
      "TbCrO4\n",
      "GdCrO4\n",
      "TmCrO4\n",
      "Li2CrO4\n",
      "La2CrO6\n",
      "CrHO2\n",
      "CrPdO2\n",
      "LiCrO2\n",
      "CrAgO2\n",
      "CrCuO2\n",
      "NaCrO2\n",
      "CrBO3\n",
      "KCrO2\n",
      "Na4CrO4\n",
      "Sr2CrO4\n",
      "CrClO\n",
      "UCrO4\n",
      "SmCrO3\n",
      "PrCrO3\n",
      "Rb2CrO4\n",
      "Ba2CrO4\n",
      "GdCrO3\n",
      "BaCrO4\n",
      "YCrO3\n",
      "ErCrO3\n",
      "LaCrO3\n",
      "NdCrO3\n",
      "DyCrO3\n",
      "Cs2CrO4\n",
      "LuCrO3\n",
      "TbCrO3\n",
      "HoCrO3\n",
      "TmCrO3\n",
      "CrNiO4\n",
      "CrCdO4\n",
      "CrCoO4\n",
      "Na2CrO4\n",
      "MgCrO4\n",
      "CrWO4\n",
      "CrAsO4\n",
      "CrPO4\n",
      "Sr2CrSbO6\n",
      "BaCr(Si2O5)2\n",
      "SrCr(Si2O5)2\n",
      "CrHSe3O8\n",
      "CsCrAs2O7\n",
      "RbCrP2O7\n",
      "NaCrP2O7\n",
      "TlCrP2O7\n",
      "RbUCrO6\n",
      "KCrP2O7\n",
      "LaCrHO5\n",
      "KUCrO6\n",
      "CrHg3(PbO4)2\n",
      "K2CrSO7\n",
      "CsLiCrO4\n",
      "CsCrP2O7\n",
      "CsUCrO6\n",
      "ErCrHO5\n",
      "CrH18(O3F)3\n",
      "Sr2CrOsO6\n",
      "NaCr(SiO3)2\n",
      "NaCr(GeO3)2\n",
      "Cs2Cr(NO3)5\n",
      "RbLiCrO4\n",
      "Ca9Cr(PO4)7\n",
      "LaCrTeO6\n",
      "TbCrTeO6\n",
      "DyCrTeO6\n",
      "NdCrTeO6\n",
      "SmCrTeO6\n",
      "TmCrTeO6\n",
      "PrCrTeO6\n",
      "YCrTeO6\n",
      "ErCrTeO6\n",
      "HoCrTeO6\n",
      "GdCrTeO6\n",
      "EuCrTeO6\n",
      "CrH12(ClO2)3\n",
      "ThCr(IO5)2\n",
      "Ba2TaCrO6\n",
      "Ba2NbCrO6\n",
      "Mn2CrPb2O9\n",
      "BaCrP2O7\n",
      "CaCrP2O7\n",
      "CrHg(PbO3)2\n",
      "Na3CrP8O23\n",
      "KLiCrO4\n",
      "Sr4Al6CrO16\n",
      "LiCrP2O7\n",
      "Sr2CrClO4\n",
      "CrBPbO4\n",
      "CrP2Pb5O13\n",
      "TlCr(MoO4)2\n",
      "KUCrNO9\n",
      "CrSiH8(O2F3)2\n",
      "RbUCrNO9\n",
      "K2UCr(IO6)2\n",
      "Rb2UCr(IO6)2\n",
      "SrCrSn(PO4)3\n",
      "CrH20N2O6F5\n",
      "CrH17N4Cl2O3\n",
      "CsCrH24(SeO10)2\n",
      "KCrPO4F\n",
      "CrH10N2Cl5O\n",
      "K2CrH2Cl5O\n",
      "Rb2CrH2Cl5O\n",
      "NaCrH22N6(Cl2O)2\n",
      "Cr2O3\n",
      "Cr2TeO6\n",
      "Cr2WO6\n",
      "SrCr2O7\n",
      "Cs6Cr2O7\n",
      "V4Cr2O13\n",
      "Cr2Te4O11\n",
      "Cr2FeO4\n",
      "Cr2(SO4)3\n",
      "Rb2Cr2O7\n",
      "Cr2P2O7\n",
      "K2Cr2O7\n",
      "BaCr2O7\n",
      "Na2Cr2O7\n",
      "MgCr2O4\n",
      "ZnCr2O4\n",
      "Cr2CdO4\n",
      "Cr2HgO4\n",
      "Cr2CoO4\n",
      "MnCr2O4\n",
      "Cr2(Bi2O5)3\n",
      "BaCr2O4\n",
      "SrCr2O4\n",
      "Cr2(MoO4)3\n",
      "BeCr2O4\n",
      "CaCr2O4\n",
      "KCr2FeO8\n",
      "KLaCr2O8\n",
      "Cr2PBrO4\n",
      "Cr2PIO4\n",
      "K3NaCr2O8\n",
      "KTbCr2O8\n",
      "Ba3Cr2MoO9\n",
      "BaCr2(P2O7)2\n",
      "Rb2UCr2O10\n",
      "Na3Cr2(AsO4)3\n",
      "Ca3Cr2(SiO4)3\n",
      "RbCr2BiO8\n",
      "RbCr2FeO8\n",
      "Rb2Cr2As2O9\n",
      "Cr2P4Pb3O16\n",
      "NaCr2In(H2O5)2\n",
      "K2MgCr2(H2O5)2\n",
      "K2Cr2Cd(H2O5)2\n",
      "Rb2Cr2Cd(H2O5)2\n",
      "ScCr2Ag(H2O5)2\n",
      "KNa2Li3Cr2(Si2O5)6\n",
      "NaCr3O8\n",
      "KCr3O8\n",
      "RbCr3O8\n",
      "Tl2Cr3O12\n",
      "CsCr3O8\n",
      "Cs3NdCr3O12\n",
      "Li9Cr3P8O29\n",
      "Sr5Cr3ClO12\n",
      "Sr5Cr3O12F\n",
      "Na4UCr3O14\n",
      "Ca3Cr3(PO4)4\n",
      "Cr3B7BrO13\n",
      "Cr3B7IO13\n",
      "Cr3B7ClO13\n",
      "KCr3H6(SO7)2\n",
      "YCr4(CuO4)3\n",
      "Cr4Si2Cl2O7\n",
      "Cr4Si2Br2O7\n",
      "Cr4AgBiO14\n",
      "K8UCr4(NO12)2\n",
      "Cs2Cr4Cd(HO4)4\n"
     ]
    }
   ],
   "source": [
    "candidate_cr = mpr.materials.summary.search(energy_above_hull=(0,0), elements=[\"O\", \"Cr\"], theoretical=False)\n",
    "for material in candidate_cr:\n",
    "    print(material.formula_pretty)"
   ]
  },
  {
   "cell_type": "code",
   "execution_count": 6,
   "id": "1bee1b6a",
   "metadata": {},
   "outputs": [],
   "source": [
    "from pymatgen.analysis.structure_matcher import ElementComparator\n",
    "from pymatgen.core import Element, Composition\n",
    "class AlCrComparotor(ElementComparator):\n",
    "\n",
    "    equal_species = (Composition('Al'), Composition('Cr'))\n",
    "\n",
    "    def are_equal(self, el1: Element, el2: Element):\n",
    "        if el1 == el2:\n",
    "            return True\n",
    "        \n",
    "        if el1 in self.equal_species and el2 in self.equal_species:\n",
    "            return True\n",
    "\n",
    "        return False\n",
    "        \n",
    "    def get_hash(self, composition):\n",
    "        \"\"\"Get the fractional composition.\"\"\"\n",
    "        comphash = composition.fractional_composition.formula\n",
    "        for el in self.equal_species:\n",
    "            comphash = comphash.replace(el.reduced_formula, 'J')\n",
    "        return comphash\n",
    "    \n",
    "\n",
    "sm = StructureMatcher(comparator=AlCrComparotor())"
   ]
  },
  {
   "cell_type": "code",
   "execution_count": 7,
   "id": "2f56f5a2-ac1f-4e72-9b95-ba65304a6e28",
   "metadata": {},
   "outputs": [],
   "source": [
    "from monty.serialization import loadfn, dumpfn"
   ]
  },
  {
   "cell_type": "code",
   "execution_count": 8,
   "id": "1e134062",
   "metadata": {
    "scrolled": true
   },
   "outputs": [
    {
     "name": "stdout",
     "output_type": "stream",
     "text": [
      "1: Al(PO3)3 (mp-1019377) and Cr(PO3)3 (mp-554600)\n",
      "2: LiAlO2 (mp-8001) and LiCrO2 (mp-18793)\n",
      "3: AlClO (mp-27863) and CrClO (mp-22946)\n",
      "4: SmAlO3 (mp-7405) and SmCrO3 (mp-1105788)\n",
      "5: AlWO4 (mp-1182867) and CrWO4 (mp-18785)\n",
      "6: KAlP2O7 (mp-17031) and KCrP2O7 (mp-18387)\n",
      "7: Cs2Al(NO3)5 (mp-572149) and Cs2Cr(NO3)5 (mp-560716)\n",
      "8: AlH12(ClO2)3 (mp-23743) and CrH12(ClO2)3 (mp-734815)\n",
      "9: Na3AlP8O23 (mp-14389) and Na3CrP8O23 (mp-8343)\n",
      "10: CsAlH24(SeO10)2 (mp-24523) and CsCrH24(SeO10)2 (mp-1202355)\n",
      "11: Al2O3 (mp-1143) and Cr2O3 (mp-19399)\n",
      "12: Al2(SO4)3 (mp-4417) and Cr2(SO4)3 (mp-19361)\n",
      "13: Al2FeO4 (mp-30084) and Cr2FeO4 (mp-1104680)\n",
      "14: MgAl2O4 (mp-3536) and MgCr2O4 (mp-19202)\n",
      "15: MnAl2O4 (mp-755882) and MnCr2O4 (mp-28226)\n",
      "16: Al2(MoO4)3 (mp-19521) and Cr2(MoO4)3 (mp-647862)\n",
      "17: BeAl2O4 (mp-3081) and BeCr2O4 (mp-1193887)\n",
      "18: Sr4Al6CrO16 (mp-554152) and Sr4Al6CrO16 (mp-554152)\n"
     ]
    }
   ],
   "source": [
    "matching_pairs = {}\n",
    "count = 0\n",
    "for material1 in candidate_al:\n",
    "    for material2 in candidate_cr:\n",
    "        if material1.composition.anonymized_formula == material2.composition.anonymized_formula:\n",
    "            if sm.fit(material1.structure, material2.structure):\n",
    "                count += 1\n",
    "                name1 = material1.formula_pretty\n",
    "                name2 = material2.formula_pretty\n",
    "                print(f\"{count}: {name1} ({material1.material_id}) and {name2} ({material2.material_id})\")\n",
    "                matching_pairs[material1.material_id] = {\n",
    "                    'formula':name1,\n",
    "                    'structure':material1.structure\n",
    "                }\n",
    "\n",
    "dumpfn(matching_pairs, \"../data/matching_AlCr_ox.json\")"
   ]
  },
  {
   "cell_type": "code",
   "execution_count": 9,
   "id": "707481d0",
   "metadata": {},
   "outputs": [],
   "source": [
    "from ase.filters import FrechetCellFilter\n",
    "from fairchem.core import pretrained_mlip, FAIRChemCalculator\n",
    "from ase.optimize import LBFGS\n",
    "from pymatgen.io.ase import AseAtomsAdaptor\n",
    "\n",
    "\n",
    "predictor = pretrained_mlip.get_predict_unit(\"uma-s-1p1\", device=\"cuda\")\n",
    "calc = FAIRChemCalculator(predictor, task_name=\"omat\") # use \"omat\" - inorganic materials"
   ]
  },
  {
   "cell_type": "code",
   "execution_count": 10,
   "id": "743a3809",
   "metadata": {
    "scrolled": true
   },
   "outputs": [
    {
     "name": "stdout",
     "output_type": "stream",
     "text": [
      "       Step     Time          Energy          fmax\n",
      "LBFGS:    0 17:19:35     -380.500792        0.807968\n",
      "LBFGS:    1 17:19:36     -380.656695        0.521350\n",
      "LBFGS:    2 17:19:36     -380.750788        0.380818\n"
     ]
    },
    {
     "name": "stderr",
     "output_type": "stream",
     "text": [
      "/home/atshaam/miniconda3/envs/project_env/lib/python3.11/site-packages/scipy/_lib/_util.py:1226: RuntimeWarning: logm result may be inaccurate, approximate err = 4.708792741480976e-13\n",
      "  return f(*arrays, *other_args, **kwargs)\n",
      "/home/atshaam/miniconda3/envs/project_env/lib/python3.11/site-packages/scipy/_lib/_util.py:1226: RuntimeWarning: logm result may be inaccurate, approximate err = 4.723257670281638e-13\n",
      "  return f(*arrays, *other_args, **kwargs)\n"
     ]
    },
    {
     "name": "stdout",
     "output_type": "stream",
     "text": [
      "LBFGS:    3 17:19:36     -380.793272        0.330472\n",
      "LBFGS:    4 17:19:36     -380.821917        0.290225\n"
     ]
    },
    {
     "name": "stderr",
     "output_type": "stream",
     "text": [
      "/home/atshaam/miniconda3/envs/project_env/lib/python3.11/site-packages/scipy/_lib/_util.py:1226: RuntimeWarning: logm result may be inaccurate, approximate err = 4.739239776320077e-13\n",
      "  return f(*arrays, *other_args, **kwargs)\n",
      "/home/atshaam/miniconda3/envs/project_env/lib/python3.11/site-packages/scipy/_lib/_util.py:1226: RuntimeWarning: logm result may be inaccurate, approximate err = 4.710279883783879e-13\n",
      "  return f(*arrays, *other_args, **kwargs)\n"
     ]
    },
    {
     "name": "stdout",
     "output_type": "stream",
     "text": [
      "LBFGS:    5 17:19:36     -380.845362        0.270131\n",
      "LBFGS:    6 17:19:37     -380.863097        0.256599\n"
     ]
    },
    {
     "name": "stderr",
     "output_type": "stream",
     "text": [
      "/home/atshaam/miniconda3/envs/project_env/lib/python3.11/site-packages/scipy/_lib/_util.py:1226: RuntimeWarning: logm result may be inaccurate, approximate err = 4.735296195725818e-13\n",
      "  return f(*arrays, *other_args, **kwargs)\n",
      "/home/atshaam/miniconda3/envs/project_env/lib/python3.11/site-packages/scipy/_lib/_util.py:1226: RuntimeWarning: logm result may be inaccurate, approximate err = 4.710581484531059e-13\n",
      "  return f(*arrays, *other_args, **kwargs)\n"
     ]
    },
    {
     "name": "stdout",
     "output_type": "stream",
     "text": [
      "LBFGS:    7 17:19:37     -380.883841        0.240961\n",
      "LBFGS:    8 17:19:37     -380.904406        0.214924\n"
     ]
    },
    {
     "name": "stderr",
     "output_type": "stream",
     "text": [
      "/home/atshaam/miniconda3/envs/project_env/lib/python3.11/site-packages/scipy/_lib/_util.py:1226: RuntimeWarning: logm result may be inaccurate, approximate err = 4.740788385625928e-13\n",
      "  return f(*arrays, *other_args, **kwargs)\n",
      "/home/atshaam/miniconda3/envs/project_env/lib/python3.11/site-packages/scipy/_lib/_util.py:1226: RuntimeWarning: logm result may be inaccurate, approximate err = 4.692685821275239e-13\n",
      "  return f(*arrays, *other_args, **kwargs)\n"
     ]
    },
    {
     "name": "stdout",
     "output_type": "stream",
     "text": [
      "LBFGS:    9 17:19:37     -380.919947        0.190801\n",
      "LBFGS:   10 17:19:37     -380.931841        0.175587\n"
     ]
    },
    {
     "name": "stderr",
     "output_type": "stream",
     "text": [
      "/home/atshaam/miniconda3/envs/project_env/lib/python3.11/site-packages/scipy/_lib/_util.py:1226: RuntimeWarning: logm result may be inaccurate, approximate err = 4.766815698722604e-13\n",
      "  return f(*arrays, *other_args, **kwargs)\n",
      "/home/atshaam/miniconda3/envs/project_env/lib/python3.11/site-packages/scipy/_lib/_util.py:1226: RuntimeWarning: logm result may be inaccurate, approximate err = 4.746081098986538e-13\n",
      "  return f(*arrays, *other_args, **kwargs)\n"
     ]
    },
    {
     "name": "stdout",
     "output_type": "stream",
     "text": [
      "LBFGS:   11 17:19:37     -380.945979        0.184583\n"
     ]
    },
    {
     "name": "stderr",
     "output_type": "stream",
     "text": [
      "/home/atshaam/miniconda3/envs/project_env/lib/python3.11/site-packages/scipy/_lib/_util.py:1226: RuntimeWarning: logm result may be inaccurate, approximate err = 4.725883232270998e-13\n",
      "  return f(*arrays, *other_args, **kwargs)\n"
     ]
    },
    {
     "name": "stdout",
     "output_type": "stream",
     "text": [
      "LBFGS:   12 17:19:38     -380.965945        0.242958\n"
     ]
    },
    {
     "name": "stderr",
     "output_type": "stream",
     "text": [
      "/home/atshaam/miniconda3/envs/project_env/lib/python3.11/site-packages/scipy/_lib/_util.py:1226: RuntimeWarning: logm result may be inaccurate, approximate err = 4.744991945899613e-13\n",
      "  return f(*arrays, *other_args, **kwargs)\n"
     ]
    },
    {
     "name": "stdout",
     "output_type": "stream",
     "text": [
      "LBFGS:   13 17:19:38     -380.989314        0.276549\n"
     ]
    },
    {
     "name": "stderr",
     "output_type": "stream",
     "text": [
      "/home/atshaam/miniconda3/envs/project_env/lib/python3.11/site-packages/scipy/_lib/_util.py:1226: RuntimeWarning: logm result may be inaccurate, approximate err = 4.756782641156159e-13\n",
      "  return f(*arrays, *other_args, **kwargs)\n"
     ]
    },
    {
     "name": "stdout",
     "output_type": "stream",
     "text": [
      "LBFGS:   14 17:19:38     -381.009043        0.263991\n"
     ]
    },
    {
     "name": "stderr",
     "output_type": "stream",
     "text": [
      "/home/atshaam/miniconda3/envs/project_env/lib/python3.11/site-packages/scipy/_lib/_util.py:1226: RuntimeWarning: logm result may be inaccurate, approximate err = 4.790225221562583e-13\n",
      "  return f(*arrays, *other_args, **kwargs)\n"
     ]
    },
    {
     "name": "stdout",
     "output_type": "stream",
     "text": [
      "LBFGS:   15 17:19:38     -381.023306        0.180843\n"
     ]
    },
    {
     "name": "stderr",
     "output_type": "stream",
     "text": [
      "/home/atshaam/miniconda3/envs/project_env/lib/python3.11/site-packages/scipy/_lib/_util.py:1226: RuntimeWarning: logm result may be inaccurate, approximate err = 4.796446977462318e-13\n",
      "  return f(*arrays, *other_args, **kwargs)\n"
     ]
    },
    {
     "name": "stdout",
     "output_type": "stream",
     "text": [
      "LBFGS:   16 17:19:39     -381.036005        0.188886\n"
     ]
    },
    {
     "name": "stderr",
     "output_type": "stream",
     "text": [
      "/home/atshaam/miniconda3/envs/project_env/lib/python3.11/site-packages/scipy/_lib/_util.py:1226: RuntimeWarning: logm result may be inaccurate, approximate err = 4.798804058389261e-13\n",
      "  return f(*arrays, *other_args, **kwargs)\n"
     ]
    },
    {
     "name": "stdout",
     "output_type": "stream",
     "text": [
      "LBFGS:   17 17:19:39     -381.050681        0.179717\n",
      "LBFGS:   18 17:19:39     -381.062437        0.146246\n"
     ]
    },
    {
     "name": "stderr",
     "output_type": "stream",
     "text": [
      "/home/atshaam/miniconda3/envs/project_env/lib/python3.11/site-packages/scipy/_lib/_util.py:1226: RuntimeWarning: logm result may be inaccurate, approximate err = 4.808124461680375e-13\n",
      "  return f(*arrays, *other_args, **kwargs)\n",
      "/home/atshaam/miniconda3/envs/project_env/lib/python3.11/site-packages/scipy/_lib/_util.py:1226: RuntimeWarning: logm result may be inaccurate, approximate err = 4.782469643893974e-13\n",
      "  return f(*arrays, *other_args, **kwargs)\n"
     ]
    },
    {
     "name": "stdout",
     "output_type": "stream",
     "text": [
      "LBFGS:   19 17:19:39     -381.069151        0.119889\n",
      "LBFGS:   20 17:19:40     -381.073180        0.103144\n"
     ]
    },
    {
     "name": "stderr",
     "output_type": "stream",
     "text": [
      "/home/atshaam/miniconda3/envs/project_env/lib/python3.11/site-packages/scipy/_lib/_util.py:1226: RuntimeWarning: logm result may be inaccurate, approximate err = 4.770892972670763e-13\n",
      "  return f(*arrays, *other_args, **kwargs)\n",
      "/home/atshaam/miniconda3/envs/project_env/lib/python3.11/site-packages/scipy/_lib/_util.py:1226: RuntimeWarning: logm result may be inaccurate, approximate err = 4.827167804978781e-13\n",
      "  return f(*arrays, *other_args, **kwargs)\n"
     ]
    },
    {
     "name": "stdout",
     "output_type": "stream",
     "text": [
      "LBFGS:   21 17:19:40     -381.077670        0.114534\n"
     ]
    },
    {
     "name": "stderr",
     "output_type": "stream",
     "text": [
      "/home/atshaam/miniconda3/envs/project_env/lib/python3.11/site-packages/scipy/_lib/_util.py:1226: RuntimeWarning: logm result may be inaccurate, approximate err = 4.837490573710572e-13\n",
      "  return f(*arrays, *other_args, **kwargs)\n"
     ]
    },
    {
     "name": "stdout",
     "output_type": "stream",
     "text": [
      "LBFGS:   22 17:19:40     -381.084097        0.135232\n"
     ]
    },
    {
     "name": "stderr",
     "output_type": "stream",
     "text": [
      "/home/atshaam/miniconda3/envs/project_env/lib/python3.11/site-packages/scipy/_lib/_util.py:1226: RuntimeWarning: logm result may be inaccurate, approximate err = 4.846987858011798e-13\n",
      "  return f(*arrays, *other_args, **kwargs)\n"
     ]
    },
    {
     "name": "stdout",
     "output_type": "stream",
     "text": [
      "LBFGS:   23 17:19:40     -381.091772        0.149264\n",
      "LBFGS:   24 17:19:40     -381.098925        0.134595\n"
     ]
    },
    {
     "name": "stderr",
     "output_type": "stream",
     "text": [
      "/home/atshaam/miniconda3/envs/project_env/lib/python3.11/site-packages/scipy/_lib/_util.py:1226: RuntimeWarning: logm result may be inaccurate, approximate err = 4.79550757497253e-13\n",
      "  return f(*arrays, *other_args, **kwargs)\n",
      "/home/atshaam/miniconda3/envs/project_env/lib/python3.11/site-packages/scipy/_lib/_util.py:1226: RuntimeWarning: logm result may be inaccurate, approximate err = 4.810058398679425e-13\n",
      "  return f(*arrays, *other_args, **kwargs)\n"
     ]
    },
    {
     "name": "stdout",
     "output_type": "stream",
     "text": [
      "LBFGS:   25 17:19:41     -381.103732        0.086479\n",
      "LBFGS:   26 17:19:41     -381.106783        0.093230\n"
     ]
    },
    {
     "name": "stderr",
     "output_type": "stream",
     "text": [
      "/home/atshaam/miniconda3/envs/project_env/lib/python3.11/site-packages/scipy/_lib/_util.py:1226: RuntimeWarning: logm result may be inaccurate, approximate err = 4.795917787253258e-13\n",
      "  return f(*arrays, *other_args, **kwargs)\n",
      "/home/atshaam/miniconda3/envs/project_env/lib/python3.11/site-packages/scipy/_lib/_util.py:1226: RuntimeWarning: logm result may be inaccurate, approximate err = 4.812200277699935e-13\n",
      "  return f(*arrays, *other_args, **kwargs)\n"
     ]
    },
    {
     "name": "stdout",
     "output_type": "stream",
     "text": [
      "LBFGS:   27 17:19:42     -381.109431        0.086791\n"
     ]
    },
    {
     "name": "stderr",
     "output_type": "stream",
     "text": [
      "/home/atshaam/miniconda3/envs/project_env/lib/python3.11/site-packages/scipy/_lib/_util.py:1226: RuntimeWarning: logm result may be inaccurate, approximate err = 4.826643801242735e-13\n",
      "  return f(*arrays, *other_args, **kwargs)\n"
     ]
    },
    {
     "name": "stdout",
     "output_type": "stream",
     "text": [
      "LBFGS:   28 17:19:42     -381.112421        0.064427\n"
     ]
    },
    {
     "name": "stderr",
     "output_type": "stream",
     "text": [
      "/home/atshaam/miniconda3/envs/project_env/lib/python3.11/site-packages/scipy/_lib/_util.py:1226: RuntimeWarning: logm result may be inaccurate, approximate err = 4.76788289876988e-13\n",
      "  return f(*arrays, *other_args, **kwargs)\n"
     ]
    },
    {
     "name": "stdout",
     "output_type": "stream",
     "text": [
      "LBFGS:   29 17:19:42     -381.114985        0.065590\n"
     ]
    },
    {
     "name": "stderr",
     "output_type": "stream",
     "text": [
      "/home/atshaam/miniconda3/envs/project_env/lib/python3.11/site-packages/scipy/_lib/_util.py:1226: RuntimeWarning: logm result may be inaccurate, approximate err = 4.874821289815339e-13\n",
      "  return f(*arrays, *other_args, **kwargs)\n"
     ]
    },
    {
     "name": "stdout",
     "output_type": "stream",
     "text": [
      "LBFGS:   30 17:19:42     -381.116873        0.062424\n"
     ]
    },
    {
     "name": "stderr",
     "output_type": "stream",
     "text": [
      "/home/atshaam/miniconda3/envs/project_env/lib/python3.11/site-packages/scipy/_lib/_util.py:1226: RuntimeWarning: logm result may be inaccurate, approximate err = 4.85817435308649e-13\n",
      "  return f(*arrays, *other_args, **kwargs)\n"
     ]
    },
    {
     "name": "stdout",
     "output_type": "stream",
     "text": [
      "LBFGS:   31 17:19:42     -381.118338        0.076226\n"
     ]
    },
    {
     "name": "stderr",
     "output_type": "stream",
     "text": [
      "/home/atshaam/miniconda3/envs/project_env/lib/python3.11/site-packages/scipy/_lib/_util.py:1226: RuntimeWarning: logm result may be inaccurate, approximate err = 4.8611126684704e-13\n",
      "  return f(*arrays, *other_args, **kwargs)\n"
     ]
    },
    {
     "name": "stdout",
     "output_type": "stream",
     "text": [
      "LBFGS:   32 17:19:43     -381.119784        0.068079\n"
     ]
    },
    {
     "name": "stderr",
     "output_type": "stream",
     "text": [
      "/home/atshaam/miniconda3/envs/project_env/lib/python3.11/site-packages/scipy/_lib/_util.py:1226: RuntimeWarning: logm result may be inaccurate, approximate err = 4.812436545553268e-13\n",
      "  return f(*arrays, *other_args, **kwargs)\n"
     ]
    },
    {
     "name": "stdout",
     "output_type": "stream",
     "text": [
      "LBFGS:   33 17:19:43     -381.121252        0.059797\n"
     ]
    },
    {
     "name": "stderr",
     "output_type": "stream",
     "text": [
      "/home/atshaam/miniconda3/envs/project_env/lib/python3.11/site-packages/scipy/_lib/_util.py:1226: RuntimeWarning: logm result may be inaccurate, approximate err = 4.846932790579362e-13\n",
      "  return f(*arrays, *other_args, **kwargs)\n"
     ]
    },
    {
     "name": "stdout",
     "output_type": "stream",
     "text": [
      "LBFGS:   34 17:19:43     -381.122378        0.034162\n",
      "LBFGS:   35 17:19:43     -381.123099        0.037520\n"
     ]
    },
    {
     "name": "stderr",
     "output_type": "stream",
     "text": [
      "/home/atshaam/miniconda3/envs/project_env/lib/python3.11/site-packages/scipy/_lib/_util.py:1226: RuntimeWarning: logm result may be inaccurate, approximate err = 4.874146857631867e-13\n",
      "  return f(*arrays, *other_args, **kwargs)\n",
      "/home/atshaam/miniconda3/envs/project_env/lib/python3.11/site-packages/scipy/_lib/_util.py:1226: RuntimeWarning: logm result may be inaccurate, approximate err = 4.869551482691876e-13\n",
      "  return f(*arrays, *other_args, **kwargs)\n"
     ]
    },
    {
     "name": "stdout",
     "output_type": "stream",
     "text": [
      "LBFGS:   36 17:19:44     -381.123816        0.041328\n",
      "LBFGS:   37 17:19:44     -381.124712        0.045259\n"
     ]
    },
    {
     "name": "stderr",
     "output_type": "stream",
     "text": [
      "/home/atshaam/miniconda3/envs/project_env/lib/python3.11/site-packages/scipy/_lib/_util.py:1226: RuntimeWarning: logm result may be inaccurate, approximate err = 4.901158887975314e-13\n",
      "  return f(*arrays, *other_args, **kwargs)\n",
      "/home/atshaam/miniconda3/envs/project_env/lib/python3.11/site-packages/scipy/_lib/_util.py:1226: RuntimeWarning: logm result may be inaccurate, approximate err = 4.850212755932605e-13\n",
      "  return f(*arrays, *other_args, **kwargs)\n"
     ]
    },
    {
     "name": "stdout",
     "output_type": "stream",
     "text": [
      "LBFGS:   38 17:19:44     -381.125647        0.041146\n",
      "LBFGS:   39 17:19:44     -381.126204        0.028959\n"
     ]
    },
    {
     "name": "stderr",
     "output_type": "stream",
     "text": [
      "/home/atshaam/miniconda3/envs/project_env/lib/python3.11/site-packages/scipy/_lib/_util.py:1226: RuntimeWarning: logm result may be inaccurate, approximate err = 4.854413529742483e-13\n",
      "  return f(*arrays, *other_args, **kwargs)\n",
      "/home/atshaam/miniconda3/envs/project_env/lib/python3.11/site-packages/scipy/_lib/_util.py:1226: RuntimeWarning: logm result may be inaccurate, approximate err = 4.822894543764064e-13\n",
      "  return f(*arrays, *other_args, **kwargs)\n"
     ]
    },
    {
     "name": "stdout",
     "output_type": "stream",
     "text": [
      "LBFGS:   40 17:19:44     -381.126562        0.021248\n",
      "LBFGS:   41 17:19:44     -381.126871        0.023589\n"
     ]
    },
    {
     "name": "stderr",
     "output_type": "stream",
     "text": [
      "/home/atshaam/miniconda3/envs/project_env/lib/python3.11/site-packages/scipy/_lib/_util.py:1226: RuntimeWarning: logm result may be inaccurate, approximate err = 4.892652722814626e-13\n",
      "  return f(*arrays, *other_args, **kwargs)\n",
      "/home/atshaam/miniconda3/envs/project_env/lib/python3.11/site-packages/scipy/_lib/_util.py:1226: RuntimeWarning: logm result may be inaccurate, approximate err = 4.793388101732156e-13\n",
      "  return f(*arrays, *other_args, **kwargs)\n"
     ]
    },
    {
     "name": "stdout",
     "output_type": "stream",
     "text": [
      "LBFGS:   42 17:19:45     -381.127131        0.022165\n",
      "LBFGS:   43 17:19:45     -381.127276        0.019260\n"
     ]
    },
    {
     "name": "stderr",
     "output_type": "stream",
     "text": [
      "/home/atshaam/miniconda3/envs/project_env/lib/python3.11/site-packages/scipy/_lib/_util.py:1226: RuntimeWarning: logm result may be inaccurate, approximate err = 4.88717896244693e-13\n",
      "  return f(*arrays, *other_args, **kwargs)\n",
      "/home/atshaam/miniconda3/envs/project_env/lib/python3.11/site-packages/scipy/_lib/_util.py:1226: RuntimeWarning: logm result may be inaccurate, approximate err = 4.879953913848404e-13\n",
      "  return f(*arrays, *other_args, **kwargs)\n"
     ]
    },
    {
     "name": "stdout",
     "output_type": "stream",
     "text": [
      "LBFGS:   44 17:19:45     -381.127409        0.016092\n"
     ]
    },
    {
     "name": "stderr",
     "output_type": "stream",
     "text": [
      "/home/atshaam/miniconda3/envs/project_env/lib/python3.11/site-packages/scipy/_lib/_util.py:1226: RuntimeWarning: logm result may be inaccurate, approximate err = 4.897772862565167e-13\n",
      "  return f(*arrays, *other_args, **kwargs)\n"
     ]
    },
    {
     "name": "stdout",
     "output_type": "stream",
     "text": [
      "LBFGS:   45 17:19:45     -381.127566        0.017556\n",
      "LBFGS:   46 17:19:45     -381.127730        0.017597\n"
     ]
    },
    {
     "name": "stderr",
     "output_type": "stream",
     "text": [
      "/home/atshaam/miniconda3/envs/project_env/lib/python3.11/site-packages/scipy/_lib/_util.py:1226: RuntimeWarning: logm result may be inaccurate, approximate err = 4.934226545236398e-13\n",
      "  return f(*arrays, *other_args, **kwargs)\n",
      "/home/atshaam/miniconda3/envs/project_env/lib/python3.11/site-packages/scipy/_lib/_util.py:1226: RuntimeWarning: logm result may be inaccurate, approximate err = 4.841851840454707e-13\n",
      "  return f(*arrays, *other_args, **kwargs)\n"
     ]
    },
    {
     "name": "stdout",
     "output_type": "stream",
     "text": [
      "LBFGS:   47 17:19:46     -381.127859        0.016624\n"
     ]
    },
    {
     "name": "stderr",
     "output_type": "stream",
     "text": [
      "/home/atshaam/miniconda3/envs/project_env/lib/python3.11/site-packages/scipy/_lib/_util.py:1226: RuntimeWarning: logm result may be inaccurate, approximate err = 4.872764735450799e-13\n",
      "  return f(*arrays, *other_args, **kwargs)\n"
     ]
    },
    {
     "name": "stdout",
     "output_type": "stream",
     "text": [
      "LBFGS:   48 17:19:46     -381.127947        0.017206\n"
     ]
    },
    {
     "name": "stderr",
     "output_type": "stream",
     "text": [
      "/home/atshaam/miniconda3/envs/project_env/lib/python3.11/site-packages/scipy/_lib/_util.py:1226: RuntimeWarning: logm result may be inaccurate, approximate err = 4.86988264025187e-13\n",
      "  return f(*arrays, *other_args, **kwargs)\n"
     ]
    },
    {
     "name": "stdout",
     "output_type": "stream",
     "text": [
      "LBFGS:   49 17:19:46     -381.128054        0.017541\n"
     ]
    },
    {
     "name": "stderr",
     "output_type": "stream",
     "text": [
      "/home/atshaam/miniconda3/envs/project_env/lib/python3.11/site-packages/scipy/_lib/_util.py:1226: RuntimeWarning: logm result may be inaccurate, approximate err = 4.861437074542382e-13\n",
      "  return f(*arrays, *other_args, **kwargs)\n"
     ]
    },
    {
     "name": "stdout",
     "output_type": "stream",
     "text": [
      "LBFGS:   50 17:19:46     -381.128161        0.017178\n"
     ]
    },
    {
     "name": "stderr",
     "output_type": "stream",
     "text": [
      "/home/atshaam/miniconda3/envs/project_env/lib/python3.11/site-packages/scipy/_lib/_util.py:1226: RuntimeWarning: logm result may be inaccurate, approximate err = 4.88422005290134e-13\n",
      "  return f(*arrays, *other_args, **kwargs)\n"
     ]
    },
    {
     "name": "stdout",
     "output_type": "stream",
     "text": [
      "LBFGS:   51 17:19:47     -381.128306        0.017557\n"
     ]
    },
    {
     "name": "stderr",
     "output_type": "stream",
     "text": [
      "/home/atshaam/miniconda3/envs/project_env/lib/python3.11/site-packages/scipy/_lib/_util.py:1226: RuntimeWarning: logm result may be inaccurate, approximate err = 4.870770058969355e-13\n",
      "  return f(*arrays, *other_args, **kwargs)\n"
     ]
    },
    {
     "name": "stdout",
     "output_type": "stream",
     "text": [
      "LBFGS:   52 17:19:47     -381.128462        0.017383\n"
     ]
    },
    {
     "name": "stderr",
     "output_type": "stream",
     "text": [
      "/home/atshaam/miniconda3/envs/project_env/lib/python3.11/site-packages/scipy/_lib/_util.py:1226: RuntimeWarning: logm result may be inaccurate, approximate err = 4.83196681766094e-13\n",
      "  return f(*arrays, *other_args, **kwargs)\n"
     ]
    },
    {
     "name": "stdout",
     "output_type": "stream",
     "text": [
      "LBFGS:   53 17:19:47     -381.128611        0.019600\n",
      "LBFGS:   54 17:19:47     -381.128775        0.018415\n"
     ]
    },
    {
     "name": "stderr",
     "output_type": "stream",
     "text": [
      "/home/atshaam/miniconda3/envs/project_env/lib/python3.11/site-packages/scipy/_lib/_util.py:1226: RuntimeWarning: logm result may be inaccurate, approximate err = 4.889453148339443e-13\n",
      "  return f(*arrays, *other_args, **kwargs)\n"
     ]
    },
    {
     "name": "stdout",
     "output_type": "stream",
     "text": [
      "LBFGS:   55 17:19:48     -381.128916        0.017512\n"
     ]
    },
    {
     "name": "stderr",
     "output_type": "stream",
     "text": [
      "/home/atshaam/miniconda3/envs/project_env/lib/python3.11/site-packages/scipy/_lib/_util.py:1226: RuntimeWarning: logm result may be inaccurate, approximate err = 4.880108704716981e-13\n",
      "  return f(*arrays, *other_args, **kwargs)\n",
      "/home/atshaam/miniconda3/envs/project_env/lib/python3.11/site-packages/scipy/_lib/_util.py:1226: RuntimeWarning: logm result may be inaccurate, approximate err = 4.89967818315871e-13\n",
      "  return f(*arrays, *other_args, **kwargs)\n"
     ]
    },
    {
     "name": "stdout",
     "output_type": "stream",
     "text": [
      "LBFGS:   56 17:19:48     -381.128989        0.013770\n"
     ]
    },
    {
     "name": "stderr",
     "output_type": "stream",
     "text": [
      "/home/atshaam/miniconda3/envs/project_env/lib/python3.11/site-packages/scipy/_lib/_util.py:1226: RuntimeWarning: logm result may be inaccurate, approximate err = 4.86548891571229e-13\n",
      "  return f(*arrays, *other_args, **kwargs)\n"
     ]
    },
    {
     "name": "stdout",
     "output_type": "stream",
     "text": [
      "LBFGS:   57 17:19:48     -381.129080        0.013207\n"
     ]
    },
    {
     "name": "stderr",
     "output_type": "stream",
     "text": [
      "/home/atshaam/miniconda3/envs/project_env/lib/python3.11/site-packages/scipy/_lib/_util.py:1226: RuntimeWarning: logm result may be inaccurate, approximate err = 4.859041885818035e-13\n",
      "  return f(*arrays, *other_args, **kwargs)\n"
     ]
    },
    {
     "name": "stdout",
     "output_type": "stream",
     "text": [
      "LBFGS:   58 17:19:48     -381.129183        0.017369\n"
     ]
    },
    {
     "name": "stderr",
     "output_type": "stream",
     "text": [
      "/home/atshaam/miniconda3/envs/project_env/lib/python3.11/site-packages/scipy/_lib/_util.py:1226: RuntimeWarning: logm result may be inaccurate, approximate err = 4.874566585625645e-13\n",
      "  return f(*arrays, *other_args, **kwargs)\n"
     ]
    },
    {
     "name": "stdout",
     "output_type": "stream",
     "text": [
      "LBFGS:   59 17:19:48     -381.129282        0.016357\n",
      "LBFGS:   60 17:19:49     -381.129374        0.013074\n"
     ]
    },
    {
     "name": "stderr",
     "output_type": "stream",
     "text": [
      "/home/atshaam/miniconda3/envs/project_env/lib/python3.11/site-packages/scipy/_lib/_util.py:1226: RuntimeWarning: logm result may be inaccurate, approximate err = 4.852495241481097e-13\n",
      "  return f(*arrays, *other_args, **kwargs)\n",
      "/home/atshaam/miniconda3/envs/project_env/lib/python3.11/site-packages/scipy/_lib/_util.py:1226: RuntimeWarning: logm result may be inaccurate, approximate err = 4.821603181549724e-13\n",
      "  return f(*arrays, *other_args, **kwargs)\n"
     ]
    },
    {
     "name": "stdout",
     "output_type": "stream",
     "text": [
      "LBFGS:   61 17:19:49     -381.129431        0.010503\n"
     ]
    },
    {
     "name": "stderr",
     "output_type": "stream",
     "text": [
      "/home/atshaam/miniconda3/envs/project_env/lib/python3.11/site-packages/scipy/_lib/_util.py:1226: RuntimeWarning: logm result may be inaccurate, approximate err = 4.883197329377025e-13\n",
      "  return f(*arrays, *other_args, **kwargs)\n"
     ]
    },
    {
     "name": "stdout",
     "output_type": "stream",
     "text": [
      "LBFGS:   62 17:19:49     -381.129492        0.010641\n"
     ]
    },
    {
     "name": "stderr",
     "output_type": "stream",
     "text": [
      "/home/atshaam/miniconda3/envs/project_env/lib/python3.11/site-packages/scipy/_lib/_util.py:1226: RuntimeWarning: logm result may be inaccurate, approximate err = 4.876774974100987e-13\n",
      "  return f(*arrays, *other_args, **kwargs)\n"
     ]
    },
    {
     "name": "stdout",
     "output_type": "stream",
     "text": [
      "LBFGS:   63 17:19:49     -381.129565        0.013298\n",
      "LBFGS:   64 17:19:50     -381.129671        0.015970\n"
     ]
    },
    {
     "name": "stderr",
     "output_type": "stream",
     "text": [
      "/home/atshaam/miniconda3/envs/project_env/lib/python3.11/site-packages/scipy/_lib/_util.py:1226: RuntimeWarning: logm result may be inaccurate, approximate err = 4.902490910547497e-13\n",
      "  return f(*arrays, *other_args, **kwargs)\n",
      "/home/atshaam/miniconda3/envs/project_env/lib/python3.11/site-packages/scipy/_lib/_util.py:1226: RuntimeWarning: logm result may be inaccurate, approximate err = 4.901947313783995e-13\n",
      "  return f(*arrays, *other_args, **kwargs)\n"
     ]
    },
    {
     "name": "stdout",
     "output_type": "stream",
     "text": [
      "LBFGS:   65 17:19:50     -381.129797        0.017626\n",
      "LBFGS:   66 17:19:50     -381.129919        0.014840\n"
     ]
    },
    {
     "name": "stderr",
     "output_type": "stream",
     "text": [
      "/home/atshaam/miniconda3/envs/project_env/lib/python3.11/site-packages/scipy/_lib/_util.py:1226: RuntimeWarning: logm result may be inaccurate, approximate err = 4.906605994891242e-13\n",
      "  return f(*arrays, *other_args, **kwargs)\n",
      "/home/atshaam/miniconda3/envs/project_env/lib/python3.11/site-packages/scipy/_lib/_util.py:1226: RuntimeWarning: logm result may be inaccurate, approximate err = 4.85427846869592e-13\n",
      "  return f(*arrays, *other_args, **kwargs)\n"
     ]
    },
    {
     "name": "stdout",
     "output_type": "stream",
     "text": [
      "LBFGS:   67 17:19:50     -381.130003        0.011208\n"
     ]
    },
    {
     "name": "stderr",
     "output_type": "stream",
     "text": [
      "/home/atshaam/miniconda3/envs/project_env/lib/python3.11/site-packages/scipy/_lib/_util.py:1226: RuntimeWarning: logm result may be inaccurate, approximate err = 4.814899418991262e-13\n",
      "  return f(*arrays, *other_args, **kwargs)\n"
     ]
    },
    {
     "name": "stdout",
     "output_type": "stream",
     "text": [
      "LBFGS:   68 17:19:50     -381.130045        0.007155\n",
      "       Step     Time          Energy          fmax\n",
      "LBFGS:    0 17:19:51      -26.441866        0.371412\n",
      "LBFGS:    1 17:19:51      -26.449380        0.314609\n",
      "LBFGS:    2 17:19:51      -26.460872        0.199996\n",
      "LBFGS:    3 17:19:51      -26.463089        0.222182\n",
      "LBFGS:    4 17:19:51      -26.468018        0.150812\n",
      "LBFGS:    5 17:19:52      -26.468981        0.055307\n",
      "LBFGS:    6 17:19:52      -26.469186        0.048335\n",
      "LBFGS:    7 17:19:52      -26.469267        0.050774\n",
      "LBFGS:    8 17:19:52      -26.469464        0.046482\n",
      "LBFGS:    9 17:19:52      -26.469645        0.036040\n",
      "LBFGS:   10 17:19:53      -26.469743        0.016720\n",
      "LBFGS:   11 17:19:53      -26.469758        0.003021\n",
      "       Step     Time          Energy          fmax\n",
      "LBFGS:    0 17:19:53      -35.146974        0.412694\n",
      "LBFGS:    1 17:19:53      -35.154086        0.366679\n",
      "LBFGS:    2 17:19:54      -35.175615        0.100898\n",
      "LBFGS:    3 17:19:54      -35.176647        0.097656\n",
      "LBFGS:    4 17:19:54      -35.181344        0.147213\n",
      "LBFGS:    5 17:19:54      -35.183176        0.130650\n",
      "LBFGS:    6 17:19:54      -35.184282        0.081658\n",
      "LBFGS:    7 17:19:55      -35.184942        0.106865\n",
      "LBFGS:    8 17:19:55      -35.185864        0.139977\n",
      "LBFGS:    9 17:19:55      -35.187016        0.159661\n",
      "LBFGS:   10 17:19:55      -35.188676        0.161896\n",
      "LBFGS:   11 17:19:56      -35.190667        0.140780\n",
      "LBFGS:   12 17:19:56      -35.192889        0.158472\n",
      "LBFGS:   13 17:19:56      -35.195485        0.203786\n",
      "LBFGS:   14 17:19:56      -35.199248        0.216687\n",
      "LBFGS:   15 17:19:57      -35.205165        0.292867\n",
      "LBFGS:   16 17:19:57      -35.212770        0.313998\n",
      "LBFGS:   17 17:19:57      -35.217669        0.159986\n",
      "LBFGS:   18 17:19:57      -35.220074        0.091230\n",
      "LBFGS:   19 17:19:58      -35.220590        0.072888\n",
      "LBFGS:   20 17:19:58      -35.221234        0.063814\n",
      "LBFGS:   21 17:19:58      -35.221404        0.059651\n",
      "LBFGS:   22 17:19:58      -35.221704        0.044653\n",
      "LBFGS:   23 17:19:58      -35.222004        0.047414\n",
      "LBFGS:   24 17:19:59      -35.222445        0.043786\n",
      "LBFGS:   25 17:19:59      -35.222711        0.023336\n",
      "LBFGS:   26 17:19:59      -35.222796        0.005302\n",
      "       Step     Time          Energy          fmax\n",
      "LBFGS:    0 17:19:59     -158.582017        0.366752\n",
      "LBFGS:    1 17:20:00     -158.588437        0.356821\n",
      "LBFGS:    2 17:20:00     -158.695912        0.128998\n",
      "LBFGS:    3 17:20:00     -158.697839        0.117141\n",
      "LBFGS:    4 17:20:00     -158.703587        0.046436\n",
      "LBFGS:    5 17:20:01     -158.704079        0.046843\n",
      "LBFGS:    6 17:20:01     -158.704701        0.044872\n",
      "LBFGS:    7 17:20:01     -158.705026        0.044206\n",
      "LBFGS:    8 17:20:01     -158.705392        0.043943\n",
      "LBFGS:    9 17:20:02     -158.705815        0.044547\n",
      "LBFGS:   10 17:20:02     -158.706513        0.041142\n",
      "LBFGS:   11 17:20:02     -158.707368        0.046751\n",
      "LBFGS:   12 17:20:02     -158.708138        0.041995\n",
      "LBFGS:   13 17:20:03     -158.708627        0.035690\n",
      "LBFGS:   14 17:20:03     -158.708890        0.031220\n",
      "LBFGS:   15 17:20:03     -158.709027        0.023296\n",
      "LBFGS:   16 17:20:03     -158.709103        0.020752\n",
      "LBFGS:   17 17:20:04     -158.709153        0.017745\n",
      "LBFGS:   18 17:20:04     -158.709226        0.019509\n",
      "LBFGS:   19 17:20:04     -158.709332        0.022014\n",
      "LBFGS:   20 17:20:04     -158.709435        0.015544\n",
      "LBFGS:   21 17:20:05     -158.709489        0.010748\n",
      "LBFGS:   22 17:20:05     -158.709512        0.008782\n",
      "       Step     Time          Energy          fmax\n",
      "LBFGS:    0 17:20:05      -45.045676        1.274347\n",
      "LBFGS:    1 17:20:05      -45.092802        1.136479\n",
      "LBFGS:    2 17:20:06      -45.167870        0.761505\n",
      "LBFGS:    3 17:20:06      -45.208557        0.673856\n",
      "LBFGS:    4 17:20:06      -45.244958        0.433480\n",
      "LBFGS:    5 17:20:06      -45.259213        0.361742\n",
      "LBFGS:    6 17:20:06      -45.266450        0.352640\n",
      "LBFGS:    7 17:20:07      -45.275629        0.349759\n",
      "LBFGS:    8 17:20:07      -45.294112        0.540677\n",
      "LBFGS:    9 17:20:07      -45.318032        0.533856\n",
      "LBFGS:   10 17:20:07      -45.331790        0.310233\n",
      "LBFGS:   11 17:20:07      -45.337806        0.234427\n",
      "LBFGS:   12 17:20:08      -45.339677        0.166871\n",
      "LBFGS:   13 17:20:08      -45.342051        0.171236\n",
      "LBFGS:   14 17:20:08      -45.344608        0.141142\n",
      "LBFGS:   15 17:20:08      -45.346239        0.111328\n",
      "LBFGS:   16 17:20:09      -45.346762        0.049564\n",
      "LBFGS:   17 17:20:09      -45.346879        0.028788\n",
      "LBFGS:   18 17:20:09      -45.346913        0.015064\n",
      "LBFGS:   19 17:20:09      -45.346921        0.003159\n",
      "       Step     Time          Energy          fmax\n",
      "LBFGS:    0 17:20:09     -311.089586        0.024786\n",
      "LBFGS:    1 17:20:09     -311.089712        0.021836\n"
     ]
    },
    {
     "name": "stderr",
     "output_type": "stream",
     "text": [
      "/home/atshaam/miniconda3/envs/project_env/lib/python3.11/site-packages/scipy/_lib/_util.py:1226: RuntimeWarning: logm result may be inaccurate, approximate err = 3.284645283036464e-13\n",
      "  return f(*arrays, *other_args, **kwargs)\n",
      "/home/atshaam/miniconda3/envs/project_env/lib/python3.11/site-packages/scipy/_lib/_util.py:1226: RuntimeWarning: logm result may be inaccurate, approximate err = 3.310962906466496e-13\n",
      "  return f(*arrays, *other_args, **kwargs)\n"
     ]
    },
    {
     "name": "stdout",
     "output_type": "stream",
     "text": [
      "LBFGS:    2 17:20:10     -311.089818        0.020335\n"
     ]
    },
    {
     "name": "stderr",
     "output_type": "stream",
     "text": [
      "/home/atshaam/miniconda3/envs/project_env/lib/python3.11/site-packages/scipy/_lib/_util.py:1226: RuntimeWarning: logm result may be inaccurate, approximate err = 3.2755738243499754e-13\n",
      "  return f(*arrays, *other_args, **kwargs)\n"
     ]
    },
    {
     "name": "stdout",
     "output_type": "stream",
     "text": [
      "LBFGS:    3 17:20:10     -311.089929        0.019702\n"
     ]
    },
    {
     "name": "stderr",
     "output_type": "stream",
     "text": [
      "/home/atshaam/miniconda3/envs/project_env/lib/python3.11/site-packages/scipy/_lib/_util.py:1226: RuntimeWarning: logm result may be inaccurate, approximate err = 3.3154839914341613e-13\n",
      "  return f(*arrays, *other_args, **kwargs)\n"
     ]
    },
    {
     "name": "stdout",
     "output_type": "stream",
     "text": [
      "LBFGS:    4 17:20:10     -311.090043        0.019912\n"
     ]
    },
    {
     "name": "stderr",
     "output_type": "stream",
     "text": [
      "/home/atshaam/miniconda3/envs/project_env/lib/python3.11/site-packages/scipy/_lib/_util.py:1226: RuntimeWarning: logm result may be inaccurate, approximate err = 3.370730672328668e-13\n",
      "  return f(*arrays, *other_args, **kwargs)\n"
     ]
    },
    {
     "name": "stdout",
     "output_type": "stream",
     "text": [
      "LBFGS:    5 17:20:10     -311.090150        0.021165\n"
     ]
    },
    {
     "name": "stderr",
     "output_type": "stream",
     "text": [
      "/home/atshaam/miniconda3/envs/project_env/lib/python3.11/site-packages/scipy/_lib/_util.py:1226: RuntimeWarning: logm result may be inaccurate, approximate err = 3.32610530726813e-13\n",
      "  return f(*arrays, *other_args, **kwargs)\n"
     ]
    },
    {
     "name": "stdout",
     "output_type": "stream",
     "text": [
      "LBFGS:    6 17:20:11     -311.090303        0.022109\n"
     ]
    },
    {
     "name": "stderr",
     "output_type": "stream",
     "text": [
      "/home/atshaam/miniconda3/envs/project_env/lib/python3.11/site-packages/scipy/_lib/_util.py:1226: RuntimeWarning: logm result may be inaccurate, approximate err = 3.3157188482952065e-13\n",
      "  return f(*arrays, *other_args, **kwargs)\n"
     ]
    },
    {
     "name": "stdout",
     "output_type": "stream",
     "text": [
      "LBFGS:    7 17:20:11     -311.090505        0.020046\n"
     ]
    },
    {
     "name": "stderr",
     "output_type": "stream",
     "text": [
      "/home/atshaam/miniconda3/envs/project_env/lib/python3.11/site-packages/scipy/_lib/_util.py:1226: RuntimeWarning: logm result may be inaccurate, approximate err = 3.3803083035988136e-13\n",
      "  return f(*arrays, *other_args, **kwargs)\n"
     ]
    },
    {
     "name": "stdout",
     "output_type": "stream",
     "text": [
      "LBFGS:    8 17:20:11     -311.090749        0.019817\n"
     ]
    },
    {
     "name": "stderr",
     "output_type": "stream",
     "text": [
      "/home/atshaam/miniconda3/envs/project_env/lib/python3.11/site-packages/scipy/_lib/_util.py:1226: RuntimeWarning: logm result may be inaccurate, approximate err = 3.362041306917937e-13\n",
      "  return f(*arrays, *other_args, **kwargs)\n"
     ]
    },
    {
     "name": "stdout",
     "output_type": "stream",
     "text": [
      "LBFGS:    9 17:20:11     -311.090959        0.019253\n"
     ]
    },
    {
     "name": "stderr",
     "output_type": "stream",
     "text": [
      "/home/atshaam/miniconda3/envs/project_env/lib/python3.11/site-packages/scipy/_lib/_util.py:1226: RuntimeWarning: logm result may be inaccurate, approximate err = 3.316829191739888e-13\n",
      "  return f(*arrays, *other_args, **kwargs)\n"
     ]
    },
    {
     "name": "stdout",
     "output_type": "stream",
     "text": [
      "LBFGS:   10 17:20:12     -311.091123        0.019500\n"
     ]
    },
    {
     "name": "stderr",
     "output_type": "stream",
     "text": [
      "/home/atshaam/miniconda3/envs/project_env/lib/python3.11/site-packages/scipy/_lib/_util.py:1226: RuntimeWarning: logm result may be inaccurate, approximate err = 3.3337511643260757e-13\n",
      "  return f(*arrays, *other_args, **kwargs)\n"
     ]
    },
    {
     "name": "stdout",
     "output_type": "stream",
     "text": [
      "LBFGS:   11 17:20:12     -311.091253        0.017681\n"
     ]
    },
    {
     "name": "stderr",
     "output_type": "stream",
     "text": [
      "/home/atshaam/miniconda3/envs/project_env/lib/python3.11/site-packages/scipy/_lib/_util.py:1226: RuntimeWarning: logm result may be inaccurate, approximate err = 3.3323464505370863e-13\n",
      "  return f(*arrays, *other_args, **kwargs)\n"
     ]
    },
    {
     "name": "stdout",
     "output_type": "stream",
     "text": [
      "LBFGS:   12 17:20:12     -311.091382        0.019700\n"
     ]
    },
    {
     "name": "stderr",
     "output_type": "stream",
     "text": [
      "/home/atshaam/miniconda3/envs/project_env/lib/python3.11/site-packages/scipy/_lib/_util.py:1226: RuntimeWarning: logm result may be inaccurate, approximate err = 3.3630824191971795e-13\n",
      "  return f(*arrays, *other_args, **kwargs)\n"
     ]
    },
    {
     "name": "stdout",
     "output_type": "stream",
     "text": [
      "LBFGS:   13 17:20:12     -311.091508        0.017475\n"
     ]
    },
    {
     "name": "stderr",
     "output_type": "stream",
     "text": [
      "/home/atshaam/miniconda3/envs/project_env/lib/python3.11/site-packages/scipy/_lib/_util.py:1226: RuntimeWarning: logm result may be inaccurate, approximate err = 3.3393506848672116e-13\n",
      "  return f(*arrays, *other_args, **kwargs)\n"
     ]
    },
    {
     "name": "stdout",
     "output_type": "stream",
     "text": [
      "LBFGS:   14 17:20:13     -311.091653        0.017377\n"
     ]
    },
    {
     "name": "stderr",
     "output_type": "stream",
     "text": [
      "/home/atshaam/miniconda3/envs/project_env/lib/python3.11/site-packages/scipy/_lib/_util.py:1226: RuntimeWarning: logm result may be inaccurate, approximate err = 3.342189406653289e-13\n",
      "  return f(*arrays, *other_args, **kwargs)\n"
     ]
    },
    {
     "name": "stdout",
     "output_type": "stream",
     "text": [
      "LBFGS:   15 17:20:13     -311.091768        0.015766\n"
     ]
    },
    {
     "name": "stderr",
     "output_type": "stream",
     "text": [
      "/home/atshaam/miniconda3/envs/project_env/lib/python3.11/site-packages/scipy/_lib/_util.py:1226: RuntimeWarning: logm result may be inaccurate, approximate err = 3.3175971573402853e-13\n",
      "  return f(*arrays, *other_args, **kwargs)\n"
     ]
    },
    {
     "name": "stdout",
     "output_type": "stream",
     "text": [
      "LBFGS:   16 17:20:13     -311.091867        0.015808\n"
     ]
    },
    {
     "name": "stderr",
     "output_type": "stream",
     "text": [
      "/home/atshaam/miniconda3/envs/project_env/lib/python3.11/site-packages/scipy/_lib/_util.py:1226: RuntimeWarning: logm result may be inaccurate, approximate err = 3.3809520171583845e-13\n",
      "  return f(*arrays, *other_args, **kwargs)\n"
     ]
    },
    {
     "name": "stdout",
     "output_type": "stream",
     "text": [
      "LBFGS:   17 17:20:13     -311.091955        0.015422\n"
     ]
    },
    {
     "name": "stderr",
     "output_type": "stream",
     "text": [
      "/home/atshaam/miniconda3/envs/project_env/lib/python3.11/site-packages/scipy/_lib/_util.py:1226: RuntimeWarning: logm result may be inaccurate, approximate err = 3.350581525561632e-13\n",
      "  return f(*arrays, *other_args, **kwargs)\n"
     ]
    },
    {
     "name": "stdout",
     "output_type": "stream",
     "text": [
      "LBFGS:   18 17:20:14     -311.092031        0.012185\n"
     ]
    },
    {
     "name": "stderr",
     "output_type": "stream",
     "text": [
      "/home/atshaam/miniconda3/envs/project_env/lib/python3.11/site-packages/scipy/_lib/_util.py:1226: RuntimeWarning: logm result may be inaccurate, approximate err = 3.38594572804877e-13\n",
      "  return f(*arrays, *other_args, **kwargs)\n"
     ]
    },
    {
     "name": "stdout",
     "output_type": "stream",
     "text": [
      "LBFGS:   19 17:20:14     -311.092077        0.009857\n",
      "       Step     Time          Energy          fmax\n",
      "LBFGS:    0 17:20:14     -426.217480        0.066329\n"
     ]
    },
    {
     "name": "stderr",
     "output_type": "stream",
     "text": [
      "/home/atshaam/miniconda3/envs/project_env/lib/python3.11/site-packages/scipy/_lib/_util.py:1226: RuntimeWarning: logm result may be inaccurate, approximate err = 8.206309008500078e-13\n",
      "  return f(*arrays, *other_args, **kwargs)\n"
     ]
    },
    {
     "name": "stdout",
     "output_type": "stream",
     "text": [
      "LBFGS:    1 17:20:14     -426.218048        0.044373\n",
      "LBFGS:    2 17:20:14     -426.218815        0.052127\n"
     ]
    },
    {
     "name": "stderr",
     "output_type": "stream",
     "text": [
      "/home/atshaam/miniconda3/envs/project_env/lib/python3.11/site-packages/scipy/_lib/_util.py:1226: RuntimeWarning: logm result may be inaccurate, approximate err = 8.231726584995295e-13\n",
      "  return f(*arrays, *other_args, **kwargs)\n"
     ]
    },
    {
     "name": "stdout",
     "output_type": "stream",
     "text": [
      "LBFGS:    3 17:20:15     -426.221264        0.075164\n"
     ]
    },
    {
     "name": "stderr",
     "output_type": "stream",
     "text": [
      "/home/atshaam/miniconda3/envs/project_env/lib/python3.11/site-packages/scipy/_lib/_util.py:1226: RuntimeWarning: logm result may be inaccurate, approximate err = 8.22074908078809e-13\n",
      "  return f(*arrays, *other_args, **kwargs)\n",
      "/home/atshaam/miniconda3/envs/project_env/lib/python3.11/site-packages/scipy/_lib/_util.py:1226: RuntimeWarning: logm result may be inaccurate, approximate err = 8.210743707266058e-13\n",
      "  return f(*arrays, *other_args, **kwargs)\n"
     ]
    },
    {
     "name": "stdout",
     "output_type": "stream",
     "text": [
      "LBFGS:    4 17:20:15     -426.223534        0.072113\n",
      "LBFGS:    5 17:20:15     -426.226220        0.067363\n"
     ]
    },
    {
     "name": "stderr",
     "output_type": "stream",
     "text": [
      "/home/atshaam/miniconda3/envs/project_env/lib/python3.11/site-packages/scipy/_lib/_util.py:1226: RuntimeWarning: logm result may be inaccurate, approximate err = 8.256861927374162e-13\n",
      "  return f(*arrays, *other_args, **kwargs)\n",
      "/home/atshaam/miniconda3/envs/project_env/lib/python3.11/site-packages/scipy/_lib/_util.py:1226: RuntimeWarning: logm result may be inaccurate, approximate err = 8.310573880473893e-13\n",
      "  return f(*arrays, *other_args, **kwargs)\n"
     ]
    },
    {
     "name": "stdout",
     "output_type": "stream",
     "text": [
      "LBFGS:    6 17:20:15     -426.227860        0.064586\n",
      "LBFGS:    7 17:20:15     -426.228737        0.066810\n"
     ]
    },
    {
     "name": "stderr",
     "output_type": "stream",
     "text": [
      "/home/atshaam/miniconda3/envs/project_env/lib/python3.11/site-packages/scipy/_lib/_util.py:1226: RuntimeWarning: logm result may be inaccurate, approximate err = 8.279329553048222e-13\n",
      "  return f(*arrays, *other_args, **kwargs)\n",
      "/home/atshaam/miniconda3/envs/project_env/lib/python3.11/site-packages/scipy/_lib/_util.py:1226: RuntimeWarning: logm result may be inaccurate, approximate err = 8.214965981736022e-13\n",
      "  return f(*arrays, *other_args, **kwargs)\n"
     ]
    },
    {
     "name": "stdout",
     "output_type": "stream",
     "text": [
      "LBFGS:    8 17:20:16     -426.229401        0.066807\n",
      "LBFGS:    9 17:20:16     -426.230496        0.064288\n"
     ]
    },
    {
     "name": "stderr",
     "output_type": "stream",
     "text": [
      "/home/atshaam/miniconda3/envs/project_env/lib/python3.11/site-packages/scipy/_lib/_util.py:1226: RuntimeWarning: logm result may be inaccurate, approximate err = 8.270202015425542e-13\n",
      "  return f(*arrays, *other_args, **kwargs)\n",
      "/home/atshaam/miniconda3/envs/project_env/lib/python3.11/site-packages/scipy/_lib/_util.py:1226: RuntimeWarning: logm result may be inaccurate, approximate err = 8.235275701501876e-13\n",
      "  return f(*arrays, *other_args, **kwargs)\n"
     ]
    },
    {
     "name": "stdout",
     "output_type": "stream",
     "text": [
      "LBFGS:   10 17:20:16     -426.232666        0.065582\n",
      "LBFGS:   11 17:20:16     -426.235619        0.074985\n"
     ]
    },
    {
     "name": "stderr",
     "output_type": "stream",
     "text": [
      "/home/atshaam/miniconda3/envs/project_env/lib/python3.11/site-packages/scipy/_lib/_util.py:1226: RuntimeWarning: logm result may be inaccurate, approximate err = 8.240166177604617e-13\n",
      "  return f(*arrays, *other_args, **kwargs)\n",
      "/home/atshaam/miniconda3/envs/project_env/lib/python3.11/site-packages/scipy/_lib/_util.py:1226: RuntimeWarning: logm result may be inaccurate, approximate err = 8.301725730473013e-13\n",
      "  return f(*arrays, *other_args, **kwargs)\n"
     ]
    },
    {
     "name": "stdout",
     "output_type": "stream",
     "text": [
      "LBFGS:   12 17:20:16     -426.238381        0.058297\n",
      "LBFGS:   13 17:20:17     -426.240086        0.049261\n"
     ]
    },
    {
     "name": "stderr",
     "output_type": "stream",
     "text": [
      "/home/atshaam/miniconda3/envs/project_env/lib/python3.11/site-packages/scipy/_lib/_util.py:1226: RuntimeWarning: logm result may be inaccurate, approximate err = 8.311274113440705e-13\n",
      "  return f(*arrays, *other_args, **kwargs)\n"
     ]
    },
    {
     "name": "stdout",
     "output_type": "stream",
     "text": [
      "LBFGS:   14 17:20:17     -426.241204        0.051405\n"
     ]
    },
    {
     "name": "stderr",
     "output_type": "stream",
     "text": [
      "/home/atshaam/miniconda3/envs/project_env/lib/python3.11/site-packages/scipy/_lib/_util.py:1226: RuntimeWarning: logm result may be inaccurate, approximate err = 8.238404743060531e-13\n",
      "  return f(*arrays, *other_args, **kwargs)\n",
      "/home/atshaam/miniconda3/envs/project_env/lib/python3.11/site-packages/scipy/_lib/_util.py:1226: RuntimeWarning: logm result may be inaccurate, approximate err = 8.271573318258648e-13\n",
      "  return f(*arrays, *other_args, **kwargs)\n"
     ]
    },
    {
     "name": "stdout",
     "output_type": "stream",
     "text": [
      "LBFGS:   15 17:20:17     -426.242600        0.073265\n",
      "LBFGS:   16 17:20:17     -426.244858        0.089798\n"
     ]
    },
    {
     "name": "stderr",
     "output_type": "stream",
     "text": [
      "/home/atshaam/miniconda3/envs/project_env/lib/python3.11/site-packages/scipy/_lib/_util.py:1226: RuntimeWarning: logm result may be inaccurate, approximate err = 8.244079764344211e-13\n",
      "  return f(*arrays, *other_args, **kwargs)\n",
      "/home/atshaam/miniconda3/envs/project_env/lib/python3.11/site-packages/scipy/_lib/_util.py:1226: RuntimeWarning: logm result may be inaccurate, approximate err = 8.325830066597683e-13\n",
      "  return f(*arrays, *other_args, **kwargs)\n"
     ]
    },
    {
     "name": "stdout",
     "output_type": "stream",
     "text": [
      "LBFGS:   17 17:20:17     -426.248032        0.108586\n"
     ]
    },
    {
     "name": "stderr",
     "output_type": "stream",
     "text": [
      "/home/atshaam/miniconda3/envs/project_env/lib/python3.11/site-packages/scipy/_lib/_util.py:1226: RuntimeWarning: logm result may be inaccurate, approximate err = 8.305071887029288e-13\n",
      "  return f(*arrays, *other_args, **kwargs)\n"
     ]
    },
    {
     "name": "stdout",
     "output_type": "stream",
     "text": [
      "LBFGS:   18 17:20:18     -426.251309        0.106848\n"
     ]
    },
    {
     "name": "stderr",
     "output_type": "stream",
     "text": [
      "/home/atshaam/miniconda3/envs/project_env/lib/python3.11/site-packages/scipy/_lib/_util.py:1226: RuntimeWarning: logm result may be inaccurate, approximate err = 8.24786497447374e-13\n",
      "  return f(*arrays, *other_args, **kwargs)\n"
     ]
    },
    {
     "name": "stdout",
     "output_type": "stream",
     "text": [
      "LBFGS:   19 17:20:18     -426.253418        0.060445\n"
     ]
    },
    {
     "name": "stderr",
     "output_type": "stream",
     "text": [
      "/home/atshaam/miniconda3/envs/project_env/lib/python3.11/site-packages/scipy/_lib/_util.py:1226: RuntimeWarning: logm result may be inaccurate, approximate err = 8.310721028910516e-13\n",
      "  return f(*arrays, *other_args, **kwargs)\n"
     ]
    },
    {
     "name": "stdout",
     "output_type": "stream",
     "text": [
      "LBFGS:   20 17:20:18     -426.254574        0.045934\n"
     ]
    },
    {
     "name": "stderr",
     "output_type": "stream",
     "text": [
      "/home/atshaam/miniconda3/envs/project_env/lib/python3.11/site-packages/scipy/_lib/_util.py:1226: RuntimeWarning: logm result may be inaccurate, approximate err = 8.295743829962274e-13\n",
      "  return f(*arrays, *other_args, **kwargs)\n"
     ]
    },
    {
     "name": "stdout",
     "output_type": "stream",
     "text": [
      "LBFGS:   21 17:20:18     -426.255539        0.046683\n"
     ]
    },
    {
     "name": "stderr",
     "output_type": "stream",
     "text": [
      "/home/atshaam/miniconda3/envs/project_env/lib/python3.11/site-packages/scipy/_lib/_util.py:1226: RuntimeWarning: logm result may be inaccurate, approximate err = 8.30415881538548e-13\n",
      "  return f(*arrays, *other_args, **kwargs)\n"
     ]
    },
    {
     "name": "stdout",
     "output_type": "stream",
     "text": [
      "LBFGS:   22 17:20:19     -426.256794        0.084127\n",
      "LBFGS:   23 17:20:19     -426.258709        0.121036\n"
     ]
    },
    {
     "name": "stderr",
     "output_type": "stream",
     "text": [
      "/home/atshaam/miniconda3/envs/project_env/lib/python3.11/site-packages/scipy/_lib/_util.py:1226: RuntimeWarning: logm result may be inaccurate, approximate err = 8.250272609717157e-13\n",
      "  return f(*arrays, *other_args, **kwargs)\n",
      "/home/atshaam/miniconda3/envs/project_env/lib/python3.11/site-packages/scipy/_lib/_util.py:1226: RuntimeWarning: logm result may be inaccurate, approximate err = 8.357506475042558e-13\n",
      "  return f(*arrays, *other_args, **kwargs)\n"
     ]
    },
    {
     "name": "stdout",
     "output_type": "stream",
     "text": [
      "LBFGS:   24 17:20:19     -426.261753        0.137883\n"
     ]
    },
    {
     "name": "stderr",
     "output_type": "stream",
     "text": [
      "/home/atshaam/miniconda3/envs/project_env/lib/python3.11/site-packages/scipy/_lib/_util.py:1226: RuntimeWarning: logm result may be inaccurate, approximate err = 8.33643100304341e-13\n",
      "  return f(*arrays, *other_args, **kwargs)\n"
     ]
    },
    {
     "name": "stdout",
     "output_type": "stream",
     "text": [
      "LBFGS:   25 17:20:19     -426.265320        0.112498\n"
     ]
    },
    {
     "name": "stderr",
     "output_type": "stream",
     "text": [
      "/home/atshaam/miniconda3/envs/project_env/lib/python3.11/site-packages/scipy/_lib/_util.py:1226: RuntimeWarning: logm result may be inaccurate, approximate err = 8.354169353895718e-13\n",
      "  return f(*arrays, *other_args, **kwargs)\n"
     ]
    },
    {
     "name": "stdout",
     "output_type": "stream",
     "text": [
      "LBFGS:   26 17:20:19     -426.267956        0.055251\n"
     ]
    },
    {
     "name": "stderr",
     "output_type": "stream",
     "text": [
      "/home/atshaam/miniconda3/envs/project_env/lib/python3.11/site-packages/scipy/_lib/_util.py:1226: RuntimeWarning: logm result may be inaccurate, approximate err = 8.371386113667393e-13\n",
      "  return f(*arrays, *other_args, **kwargs)\n"
     ]
    },
    {
     "name": "stdout",
     "output_type": "stream",
     "text": [
      "LBFGS:   27 17:20:20     -426.269192        0.050952\n"
     ]
    },
    {
     "name": "stderr",
     "output_type": "stream",
     "text": [
      "/home/atshaam/miniconda3/envs/project_env/lib/python3.11/site-packages/scipy/_lib/_util.py:1226: RuntimeWarning: logm result may be inaccurate, approximate err = 8.375270809338005e-13\n",
      "  return f(*arrays, *other_args, **kwargs)\n"
     ]
    },
    {
     "name": "stdout",
     "output_type": "stream",
     "text": [
      "LBFGS:   28 17:20:20     -426.269829        0.040949\n"
     ]
    },
    {
     "name": "stderr",
     "output_type": "stream",
     "text": [
      "/home/atshaam/miniconda3/envs/project_env/lib/python3.11/site-packages/scipy/_lib/_util.py:1226: RuntimeWarning: logm result may be inaccurate, approximate err = 8.327073322707728e-13\n",
      "  return f(*arrays, *other_args, **kwargs)\n"
     ]
    },
    {
     "name": "stdout",
     "output_type": "stream",
     "text": [
      "LBFGS:   29 17:20:20     -426.270428        0.033012\n"
     ]
    },
    {
     "name": "stderr",
     "output_type": "stream",
     "text": [
      "/home/atshaam/miniconda3/envs/project_env/lib/python3.11/site-packages/scipy/_lib/_util.py:1226: RuntimeWarning: logm result may be inaccurate, approximate err = 8.352487000241996e-13\n",
      "  return f(*arrays, *other_args, **kwargs)\n"
     ]
    },
    {
     "name": "stdout",
     "output_type": "stream",
     "text": [
      "LBFGS:   30 17:20:20     -426.271401        0.039323\n"
     ]
    },
    {
     "name": "stderr",
     "output_type": "stream",
     "text": [
      "/home/atshaam/miniconda3/envs/project_env/lib/python3.11/site-packages/scipy/_lib/_util.py:1226: RuntimeWarning: logm result may be inaccurate, approximate err = 8.350756666666964e-13\n",
      "  return f(*arrays, *other_args, **kwargs)\n"
     ]
    },
    {
     "name": "stdout",
     "output_type": "stream",
     "text": [
      "LBFGS:   31 17:20:21     -426.272763        0.045760\n",
      "LBFGS:   32 17:20:21     -426.273938        0.045868\n"
     ]
    },
    {
     "name": "stderr",
     "output_type": "stream",
     "text": [
      "/home/atshaam/miniconda3/envs/project_env/lib/python3.11/site-packages/scipy/_lib/_util.py:1226: RuntimeWarning: logm result may be inaccurate, approximate err = 8.338080081668969e-13\n",
      "  return f(*arrays, *other_args, **kwargs)\n",
      "/home/atshaam/miniconda3/envs/project_env/lib/python3.11/site-packages/scipy/_lib/_util.py:1226: RuntimeWarning: logm result may be inaccurate, approximate err = 8.378446511045682e-13\n",
      "  return f(*arrays, *other_args, **kwargs)\n"
     ]
    },
    {
     "name": "stdout",
     "output_type": "stream",
     "text": [
      "LBFGS:   33 17:20:21     -426.274636        0.050390\n"
     ]
    },
    {
     "name": "stderr",
     "output_type": "stream",
     "text": [
      "/home/atshaam/miniconda3/envs/project_env/lib/python3.11/site-packages/scipy/_lib/_util.py:1226: RuntimeWarning: logm result may be inaccurate, approximate err = 8.460667474852676e-13\n",
      "  return f(*arrays, *other_args, **kwargs)\n"
     ]
    },
    {
     "name": "stdout",
     "output_type": "stream",
     "text": [
      "LBFGS:   34 17:20:21     -426.275017        0.031451\n",
      "LBFGS:   35 17:20:22     -426.275402        0.030005\n"
     ]
    },
    {
     "name": "stderr",
     "output_type": "stream",
     "text": [
      "/home/atshaam/miniconda3/envs/project_env/lib/python3.11/site-packages/scipy/_lib/_util.py:1226: RuntimeWarning: logm result may be inaccurate, approximate err = 8.392984053467763e-13\n",
      "  return f(*arrays, *other_args, **kwargs)\n"
     ]
    },
    {
     "name": "stdout",
     "output_type": "stream",
     "text": [
      "LBFGS:   36 17:20:22     -426.276276        0.046296\n"
     ]
    },
    {
     "name": "stderr",
     "output_type": "stream",
     "text": [
      "/home/atshaam/miniconda3/envs/project_env/lib/python3.11/site-packages/scipy/_lib/_util.py:1226: RuntimeWarning: logm result may be inaccurate, approximate err = 8.404492646576022e-13\n",
      "  return f(*arrays, *other_args, **kwargs)\n",
      "/home/atshaam/miniconda3/envs/project_env/lib/python3.11/site-packages/scipy/_lib/_util.py:1226: RuntimeWarning: logm result may be inaccurate, approximate err = 8.411663949033421e-13\n",
      "  return f(*arrays, *other_args, **kwargs)\n"
     ]
    },
    {
     "name": "stdout",
     "output_type": "stream",
     "text": [
      "LBFGS:   37 17:20:22     -426.277775        0.073229\n",
      "LBFGS:   38 17:20:22     -426.280072        0.081079\n"
     ]
    },
    {
     "name": "stderr",
     "output_type": "stream",
     "text": [
      "/home/atshaam/miniconda3/envs/project_env/lib/python3.11/site-packages/scipy/_lib/_util.py:1226: RuntimeWarning: logm result may be inaccurate, approximate err = 8.404478984536512e-13\n",
      "  return f(*arrays, *other_args, **kwargs)\n",
      "/home/atshaam/miniconda3/envs/project_env/lib/python3.11/site-packages/scipy/_lib/_util.py:1226: RuntimeWarning: logm result may be inaccurate, approximate err = 8.433762279763741e-13\n",
      "  return f(*arrays, *other_args, **kwargs)\n"
     ]
    },
    {
     "name": "stdout",
     "output_type": "stream",
     "text": [
      "LBFGS:   39 17:20:22     -426.282093        0.062867\n",
      "LBFGS:   40 17:20:22     -426.283017        0.024815\n"
     ]
    },
    {
     "name": "stderr",
     "output_type": "stream",
     "text": [
      "/home/atshaam/miniconda3/envs/project_env/lib/python3.11/site-packages/scipy/_lib/_util.py:1226: RuntimeWarning: logm result may be inaccurate, approximate err = 8.342921246969848e-13\n",
      "  return f(*arrays, *other_args, **kwargs)\n",
      "/home/atshaam/miniconda3/envs/project_env/lib/python3.11/site-packages/scipy/_lib/_util.py:1226: RuntimeWarning: logm result may be inaccurate, approximate err = 8.395868564090881e-13\n",
      "  return f(*arrays, *other_args, **kwargs)\n"
     ]
    },
    {
     "name": "stdout",
     "output_type": "stream",
     "text": [
      "LBFGS:   41 17:20:23     -426.283306        0.022667\n",
      "LBFGS:   42 17:20:23     -426.283593        0.029399\n"
     ]
    },
    {
     "name": "stderr",
     "output_type": "stream",
     "text": [
      "/home/atshaam/miniconda3/envs/project_env/lib/python3.11/site-packages/scipy/_lib/_util.py:1226: RuntimeWarning: logm result may be inaccurate, approximate err = 8.455605811738427e-13\n",
      "  return f(*arrays, *other_args, **kwargs)\n",
      "/home/atshaam/miniconda3/envs/project_env/lib/python3.11/site-packages/scipy/_lib/_util.py:1226: RuntimeWarning: logm result may be inaccurate, approximate err = 8.496884257534534e-13\n",
      "  return f(*arrays, *other_args, **kwargs)\n"
     ]
    },
    {
     "name": "stdout",
     "output_type": "stream",
     "text": [
      "LBFGS:   43 17:20:23     -426.284188        0.042607\n",
      "LBFGS:   44 17:20:23     -426.285168        0.062923\n"
     ]
    },
    {
     "name": "stderr",
     "output_type": "stream",
     "text": [
      "/home/atshaam/miniconda3/envs/project_env/lib/python3.11/site-packages/scipy/_lib/_util.py:1226: RuntimeWarning: logm result may be inaccurate, approximate err = 8.499964029213329e-13\n",
      "  return f(*arrays, *other_args, **kwargs)\n",
      "/home/atshaam/miniconda3/envs/project_env/lib/python3.11/site-packages/scipy/_lib/_util.py:1226: RuntimeWarning: logm result may be inaccurate, approximate err = 8.480414972057398e-13\n",
      "  return f(*arrays, *other_args, **kwargs)\n"
     ]
    },
    {
     "name": "stdout",
     "output_type": "stream",
     "text": [
      "LBFGS:   45 17:20:23     -426.286511        0.101961\n"
     ]
    },
    {
     "name": "stderr",
     "output_type": "stream",
     "text": [
      "/home/atshaam/miniconda3/envs/project_env/lib/python3.11/site-packages/scipy/_lib/_util.py:1226: RuntimeWarning: logm result may be inaccurate, approximate err = 8.41629379174298e-13\n",
      "  return f(*arrays, *other_args, **kwargs)\n"
     ]
    },
    {
     "name": "stdout",
     "output_type": "stream",
     "text": [
      "LBFGS:   46 17:20:24     -426.287835        0.116042\n",
      "LBFGS:   47 17:20:24     -426.288838        0.092128\n"
     ]
    },
    {
     "name": "stderr",
     "output_type": "stream",
     "text": [
      "/home/atshaam/miniconda3/envs/project_env/lib/python3.11/site-packages/scipy/_lib/_util.py:1226: RuntimeWarning: logm result may be inaccurate, approximate err = 8.433241988077678e-13\n",
      "  return f(*arrays, *other_args, **kwargs)\n"
     ]
    },
    {
     "name": "stdout",
     "output_type": "stream",
     "text": [
      "LBFGS:   48 17:20:24     -426.289498        0.048085\n",
      "LBFGS:   49 17:20:24     -426.289864        0.020810\n",
      "LBFGS:   50 17:20:24     -426.290028        0.015432\n",
      "LBFGS:   51 17:20:25     -426.290120        0.016719\n",
      "LBFGS:   52 17:20:25     -426.290215        0.015876\n",
      "LBFGS:   53 17:20:25     -426.290425        0.018870\n",
      "LBFGS:   54 17:20:25     -426.290814        0.029201\n",
      "LBFGS:   55 17:20:25     -426.291409        0.037109\n",
      "LBFGS:   56 17:20:26     -426.292012        0.033124\n",
      "LBFGS:   57 17:20:26     -426.292408        0.026407\n",
      "LBFGS:   58 17:20:26     -426.292611        0.018390\n",
      "LBFGS:   59 17:20:26     -426.292786        0.018914\n",
      "LBFGS:   60 17:20:27     -426.293026        0.023861\n",
      "LBFGS:   61 17:20:27     -426.293457        0.047454\n",
      "LBFGS:   62 17:20:27     -426.294049        0.070331\n",
      "LBFGS:   63 17:20:27     -426.294632        0.073092\n",
      "LBFGS:   64 17:20:28     -426.295082        0.052516\n",
      "LBFGS:   65 17:20:28     -426.295369        0.022360\n",
      "LBFGS:   66 17:20:28     -426.295517        0.017511\n",
      "LBFGS:   67 17:20:28     -426.295609        0.016533\n",
      "LBFGS:   68 17:20:29     -426.295704        0.020821\n",
      "LBFGS:   69 17:20:29     -426.295864        0.023031\n",
      "LBFGS:   70 17:20:29     -426.296147        0.024380\n",
      "LBFGS:   71 17:20:29     -426.296563        0.024360\n",
      "LBFGS:   72 17:20:29     -426.296944        0.021905\n",
      "LBFGS:   73 17:20:30     -426.297135        0.014788\n",
      "LBFGS:   74 17:20:30     -426.297192        0.009967\n",
      "       Step     Time          Energy          fmax\n",
      "LBFGS:    0 17:20:30     -212.329914        0.436704\n"
     ]
    },
    {
     "name": "stderr",
     "output_type": "stream",
     "text": [
      "/home/atshaam/miniconda3/envs/project_env/lib/python3.11/site-packages/scipy/_lib/_util.py:1226: RuntimeWarning: logm result may be inaccurate, approximate err = 3.284645283036463e-13\n",
      "  return f(*arrays, *other_args, **kwargs)\n"
     ]
    },
    {
     "name": "stdout",
     "output_type": "stream",
     "text": [
      "LBFGS:    1 17:20:30     -212.370988        0.210941\n"
     ]
    },
    {
     "name": "stderr",
     "output_type": "stream",
     "text": [
      "/home/atshaam/miniconda3/envs/project_env/lib/python3.11/site-packages/scipy/_lib/_util.py:1226: RuntimeWarning: logm result may be inaccurate, approximate err = 3.3620983098399736e-13\n",
      "  return f(*arrays, *other_args, **kwargs)\n"
     ]
    },
    {
     "name": "stdout",
     "output_type": "stream",
     "text": [
      "LBFGS:    2 17:20:31     -212.384878        0.203193\n"
     ]
    },
    {
     "name": "stderr",
     "output_type": "stream",
     "text": [
      "/home/atshaam/miniconda3/envs/project_env/lib/python3.11/site-packages/scipy/_lib/_util.py:1226: RuntimeWarning: logm result may be inaccurate, approximate err = 3.307625432961962e-13\n",
      "  return f(*arrays, *other_args, **kwargs)\n"
     ]
    },
    {
     "name": "stdout",
     "output_type": "stream",
     "text": [
      "LBFGS:    3 17:20:31     -212.403755        0.080170\n",
      "LBFGS:    4 17:20:31     -212.406379        0.076758\n"
     ]
    },
    {
     "name": "stderr",
     "output_type": "stream",
     "text": [
      "/home/atshaam/miniconda3/envs/project_env/lib/python3.11/site-packages/scipy/_lib/_util.py:1226: RuntimeWarning: logm result may be inaccurate, approximate err = 3.366045927330721e-13\n",
      "  return f(*arrays, *other_args, **kwargs)\n"
     ]
    },
    {
     "name": "stdout",
     "output_type": "stream",
     "text": [
      "LBFGS:    5 17:20:31     -212.412925        0.086050\n"
     ]
    },
    {
     "name": "stderr",
     "output_type": "stream",
     "text": [
      "/home/atshaam/miniconda3/envs/project_env/lib/python3.11/site-packages/scipy/_lib/_util.py:1226: RuntimeWarning: logm result may be inaccurate, approximate err = 3.296194401489603e-13\n",
      "  return f(*arrays, *other_args, **kwargs)\n",
      "/home/atshaam/miniconda3/envs/project_env/lib/python3.11/site-packages/scipy/_lib/_util.py:1226: RuntimeWarning: logm result may be inaccurate, approximate err = 3.38479710477377e-13\n",
      "  return f(*arrays, *other_args, **kwargs)\n"
     ]
    },
    {
     "name": "stdout",
     "output_type": "stream",
     "text": [
      "LBFGS:    6 17:20:32     -212.416593        0.087257\n",
      "LBFGS:    7 17:20:32     -212.418319        0.062370\n"
     ]
    },
    {
     "name": "stderr",
     "output_type": "stream",
     "text": [
      "/home/atshaam/miniconda3/envs/project_env/lib/python3.11/site-packages/scipy/_lib/_util.py:1226: RuntimeWarning: logm result may be inaccurate, approximate err = 3.3632246373483034e-13\n",
      "  return f(*arrays, *other_args, **kwargs)\n",
      "/home/atshaam/miniconda3/envs/project_env/lib/python3.11/site-packages/scipy/_lib/_util.py:1226: RuntimeWarning: logm result may be inaccurate, approximate err = 3.399257695496914e-13\n",
      "  return f(*arrays, *other_args, **kwargs)\n"
     ]
    },
    {
     "name": "stdout",
     "output_type": "stream",
     "text": [
      "LBFGS:    8 17:20:32     -212.418788        0.062244\n",
      "LBFGS:    9 17:20:32     -212.419368        0.062230\n"
     ]
    },
    {
     "name": "stderr",
     "output_type": "stream",
     "text": [
      "/home/atshaam/miniconda3/envs/project_env/lib/python3.11/site-packages/scipy/_lib/_util.py:1226: RuntimeWarning: logm result may be inaccurate, approximate err = 3.3416460470749915e-13\n",
      "  return f(*arrays, *other_args, **kwargs)\n",
      "/home/atshaam/miniconda3/envs/project_env/lib/python3.11/site-packages/scipy/_lib/_util.py:1226: RuntimeWarning: logm result may be inaccurate, approximate err = 3.3681520072789494e-13\n",
      "  return f(*arrays, *other_args, **kwargs)\n"
     ]
    },
    {
     "name": "stdout",
     "output_type": "stream",
     "text": [
      "LBFGS:   10 17:20:32     -212.420700        0.072385\n",
      "LBFGS:   11 17:20:32     -212.423767        0.132767\n"
     ]
    },
    {
     "name": "stderr",
     "output_type": "stream",
     "text": [
      "/home/atshaam/miniconda3/envs/project_env/lib/python3.11/site-packages/scipy/_lib/_util.py:1226: RuntimeWarning: logm result may be inaccurate, approximate err = 3.3348650461522845e-13\n",
      "  return f(*arrays, *other_args, **kwargs)\n",
      "/home/atshaam/miniconda3/envs/project_env/lib/python3.11/site-packages/scipy/_lib/_util.py:1226: RuntimeWarning: logm result may be inaccurate, approximate err = 3.3667339032825876e-13\n",
      "  return f(*arrays, *other_args, **kwargs)\n"
     ]
    },
    {
     "name": "stdout",
     "output_type": "stream",
     "text": [
      "LBFGS:   12 17:20:33     -212.429832        0.189535\n"
     ]
    },
    {
     "name": "stderr",
     "output_type": "stream",
     "text": [
      "/home/atshaam/miniconda3/envs/project_env/lib/python3.11/site-packages/scipy/_lib/_util.py:1226: RuntimeWarning: logm result may be inaccurate, approximate err = 3.43494085046001e-13\n",
      "  return f(*arrays, *other_args, **kwargs)\n"
     ]
    },
    {
     "name": "stdout",
     "output_type": "stream",
     "text": [
      "LBFGS:   13 17:20:33     -212.438514        0.190136\n"
     ]
    },
    {
     "name": "stderr",
     "output_type": "stream",
     "text": [
      "/home/atshaam/miniconda3/envs/project_env/lib/python3.11/site-packages/scipy/_lib/_util.py:1226: RuntimeWarning: logm result may be inaccurate, approximate err = 3.3418713570753326e-13\n",
      "  return f(*arrays, *other_args, **kwargs)\n"
     ]
    },
    {
     "name": "stdout",
     "output_type": "stream",
     "text": [
      "LBFGS:   14 17:20:33     -212.445596        0.105479\n",
      "LBFGS:   15 17:20:33     -212.448797        0.093763\n"
     ]
    },
    {
     "name": "stderr",
     "output_type": "stream",
     "text": [
      "/home/atshaam/miniconda3/envs/project_env/lib/python3.11/site-packages/scipy/_lib/_util.py:1226: RuntimeWarning: logm result may be inaccurate, approximate err = 3.3443141372950283e-13\n",
      "  return f(*arrays, *other_args, **kwargs)\n"
     ]
    },
    {
     "name": "stdout",
     "output_type": "stream",
     "text": [
      "LBFGS:   16 17:20:34     -212.450771        0.086492\n"
     ]
    },
    {
     "name": "stderr",
     "output_type": "stream",
     "text": [
      "/home/atshaam/miniconda3/envs/project_env/lib/python3.11/site-packages/scipy/_lib/_util.py:1226: RuntimeWarning: logm result may be inaccurate, approximate err = 3.402123105006413e-13\n",
      "  return f(*arrays, *other_args, **kwargs)\n",
      "/home/atshaam/miniconda3/envs/project_env/lib/python3.11/site-packages/scipy/_lib/_util.py:1226: RuntimeWarning: logm result may be inaccurate, approximate err = 3.40402974785093e-13\n",
      "  return f(*arrays, *other_args, **kwargs)\n"
     ]
    },
    {
     "name": "stdout",
     "output_type": "stream",
     "text": [
      "LBFGS:   17 17:20:34     -212.453443        0.099005\n",
      "LBFGS:   18 17:20:34     -212.456827        0.113280\n"
     ]
    },
    {
     "name": "stderr",
     "output_type": "stream",
     "text": [
      "/home/atshaam/miniconda3/envs/project_env/lib/python3.11/site-packages/scipy/_lib/_util.py:1226: RuntimeWarning: logm result may be inaccurate, approximate err = 3.383293613004104e-13\n",
      "  return f(*arrays, *other_args, **kwargs)\n",
      "/home/atshaam/miniconda3/envs/project_env/lib/python3.11/site-packages/scipy/_lib/_util.py:1226: RuntimeWarning: logm result may be inaccurate, approximate err = 3.384087332511797e-13\n",
      "  return f(*arrays, *other_args, **kwargs)\n"
     ]
    },
    {
     "name": "stdout",
     "output_type": "stream",
     "text": [
      "LBFGS:   19 17:20:34     -212.459648        0.076851\n",
      "LBFGS:   20 17:20:34     -212.460758        0.035131\n"
     ]
    },
    {
     "name": "stderr",
     "output_type": "stream",
     "text": [
      "/home/atshaam/miniconda3/envs/project_env/lib/python3.11/site-packages/scipy/_lib/_util.py:1226: RuntimeWarning: logm result may be inaccurate, approximate err = 3.401943161691542e-13\n",
      "  return f(*arrays, *other_args, **kwargs)\n",
      "/home/atshaam/miniconda3/envs/project_env/lib/python3.11/site-packages/scipy/_lib/_util.py:1226: RuntimeWarning: logm result may be inaccurate, approximate err = 3.4366991337139705e-13\n",
      "  return f(*arrays, *other_args, **kwargs)\n"
     ]
    },
    {
     "name": "stdout",
     "output_type": "stream",
     "text": [
      "LBFGS:   21 17:20:34     -212.461063        0.030541\n",
      "LBFGS:   22 17:20:35     -212.461360        0.035813\n"
     ]
    },
    {
     "name": "stderr",
     "output_type": "stream",
     "text": [
      "/home/atshaam/miniconda3/envs/project_env/lib/python3.11/site-packages/scipy/_lib/_util.py:1226: RuntimeWarning: logm result may be inaccurate, approximate err = 3.3933253513716e-13\n",
      "  return f(*arrays, *other_args, **kwargs)\n",
      "/home/atshaam/miniconda3/envs/project_env/lib/python3.11/site-packages/scipy/_lib/_util.py:1226: RuntimeWarning: logm result may be inaccurate, approximate err = 3.40126918939171e-13\n",
      "  return f(*arrays, *other_args, **kwargs)\n"
     ]
    },
    {
     "name": "stdout",
     "output_type": "stream",
     "text": [
      "LBFGS:   23 17:20:35     -212.461883        0.042119\n"
     ]
    },
    {
     "name": "stderr",
     "output_type": "stream",
     "text": [
      "/home/atshaam/miniconda3/envs/project_env/lib/python3.11/site-packages/scipy/_lib/_util.py:1226: RuntimeWarning: logm result may be inaccurate, approximate err = 3.385442098620266e-13\n",
      "  return f(*arrays, *other_args, **kwargs)\n"
     ]
    },
    {
     "name": "stdout",
     "output_type": "stream",
     "text": [
      "LBFGS:   24 17:20:35     -212.462440        0.035547\n",
      "LBFGS:   25 17:20:35     -212.462755        0.015826\n"
     ]
    },
    {
     "name": "stderr",
     "output_type": "stream",
     "text": [
      "/home/atshaam/miniconda3/envs/project_env/lib/python3.11/site-packages/scipy/_lib/_util.py:1226: RuntimeWarning: logm result may be inaccurate, approximate err = 3.447823658596045e-13\n",
      "  return f(*arrays, *other_args, **kwargs)\n",
      "/home/atshaam/miniconda3/envs/project_env/lib/python3.11/site-packages/scipy/_lib/_util.py:1226: RuntimeWarning: logm result may be inaccurate, approximate err = 3.385966203881358e-13\n",
      "  return f(*arrays, *other_args, **kwargs)\n"
     ]
    },
    {
     "name": "stdout",
     "output_type": "stream",
     "text": [
      "LBFGS:   26 17:20:36     -212.462839        0.015765\n"
     ]
    },
    {
     "name": "stderr",
     "output_type": "stream",
     "text": [
      "/home/atshaam/miniconda3/envs/project_env/lib/python3.11/site-packages/scipy/_lib/_util.py:1226: RuntimeWarning: logm result may be inaccurate, approximate err = 3.4363619473335393e-13\n",
      "  return f(*arrays, *other_args, **kwargs)\n"
     ]
    },
    {
     "name": "stdout",
     "output_type": "stream",
     "text": [
      "LBFGS:   27 17:20:36     -212.462888        0.015520\n",
      "LBFGS:   28 17:20:36     -212.462972        0.015068\n"
     ]
    },
    {
     "name": "stderr",
     "output_type": "stream",
     "text": [
      "/home/atshaam/miniconda3/envs/project_env/lib/python3.11/site-packages/scipy/_lib/_util.py:1226: RuntimeWarning: logm result may be inaccurate, approximate err = 3.3605280536659324e-13\n",
      "  return f(*arrays, *other_args, **kwargs)\n",
      "/home/atshaam/miniconda3/envs/project_env/lib/python3.11/site-packages/scipy/_lib/_util.py:1226: RuntimeWarning: logm result may be inaccurate, approximate err = 3.4444486532552965e-13\n",
      "  return f(*arrays, *other_args, **kwargs)\n"
     ]
    },
    {
     "name": "stdout",
     "output_type": "stream",
     "text": [
      "LBFGS:   29 17:20:36     -212.463148        0.022084\n",
      "LBFGS:   30 17:20:36     -212.463397        0.025393\n"
     ]
    },
    {
     "name": "stderr",
     "output_type": "stream",
     "text": [
      "/home/atshaam/miniconda3/envs/project_env/lib/python3.11/site-packages/scipy/_lib/_util.py:1226: RuntimeWarning: logm result may be inaccurate, approximate err = 3.403676144658155e-13\n",
      "  return f(*arrays, *other_args, **kwargs)\n",
      "/home/atshaam/miniconda3/envs/project_env/lib/python3.11/site-packages/scipy/_lib/_util.py:1226: RuntimeWarning: logm result may be inaccurate, approximate err = 3.421147141578643e-13\n",
      "  return f(*arrays, *other_args, **kwargs)\n"
     ]
    },
    {
     "name": "stdout",
     "output_type": "stream",
     "text": [
      "LBFGS:   31 17:20:37     -212.463621        0.025986\n",
      "LBFGS:   32 17:20:37     -212.463745        0.016295\n"
     ]
    },
    {
     "name": "stderr",
     "output_type": "stream",
     "text": [
      "/home/atshaam/miniconda3/envs/project_env/lib/python3.11/site-packages/scipy/_lib/_util.py:1226: RuntimeWarning: logm result may be inaccurate, approximate err = 3.415851413918033e-13\n",
      "  return f(*arrays, *other_args, **kwargs)\n",
      "/home/atshaam/miniconda3/envs/project_env/lib/python3.11/site-packages/scipy/_lib/_util.py:1226: RuntimeWarning: logm result may be inaccurate, approximate err = 3.4041679164753715e-13\n",
      "  return f(*arrays, *other_args, **kwargs)\n"
     ]
    },
    {
     "name": "stdout",
     "output_type": "stream",
     "text": [
      "LBFGS:   33 17:20:37     -212.463811        0.014883\n"
     ]
    },
    {
     "name": "stderr",
     "output_type": "stream",
     "text": [
      "/home/atshaam/miniconda3/envs/project_env/lib/python3.11/site-packages/scipy/_lib/_util.py:1226: RuntimeWarning: logm result may be inaccurate, approximate err = 3.419050626996812e-13\n",
      "  return f(*arrays, *other_args, **kwargs)\n"
     ]
    },
    {
     "name": "stdout",
     "output_type": "stream",
     "text": [
      "LBFGS:   34 17:20:37     -212.463882        0.015242\n",
      "LBFGS:   35 17:20:37     -212.464014        0.028430\n"
     ]
    },
    {
     "name": "stderr",
     "output_type": "stream",
     "text": [
      "/home/atshaam/miniconda3/envs/project_env/lib/python3.11/site-packages/scipy/_lib/_util.py:1226: RuntimeWarning: logm result may be inaccurate, approximate err = 3.445430062202971e-13\n",
      "  return f(*arrays, *other_args, **kwargs)\n"
     ]
    },
    {
     "name": "stdout",
     "output_type": "stream",
     "text": [
      "LBFGS:   36 17:20:37     -212.464216        0.049053\n"
     ]
    },
    {
     "name": "stderr",
     "output_type": "stream",
     "text": [
      "/home/atshaam/miniconda3/envs/project_env/lib/python3.11/site-packages/scipy/_lib/_util.py:1226: RuntimeWarning: logm result may be inaccurate, approximate err = 3.3500770214226333e-13\n",
      "  return f(*arrays, *other_args, **kwargs)\n",
      "/home/atshaam/miniconda3/envs/project_env/lib/python3.11/site-packages/scipy/_lib/_util.py:1226: RuntimeWarning: logm result may be inaccurate, approximate err = 3.3916211511502836e-13\n",
      "  return f(*arrays, *other_args, **kwargs)\n"
     ]
    },
    {
     "name": "stdout",
     "output_type": "stream",
     "text": [
      "LBFGS:   37 17:20:38     -212.464488        0.060183\n"
     ]
    },
    {
     "name": "stderr",
     "output_type": "stream",
     "text": [
      "/home/atshaam/miniconda3/envs/project_env/lib/python3.11/site-packages/scipy/_lib/_util.py:1226: RuntimeWarning: logm result may be inaccurate, approximate err = 3.407201264487281e-13\n",
      "  return f(*arrays, *other_args, **kwargs)\n"
     ]
    },
    {
     "name": "stdout",
     "output_type": "stream",
     "text": [
      "LBFGS:   38 17:20:38     -212.464826        0.052301\n"
     ]
    },
    {
     "name": "stderr",
     "output_type": "stream",
     "text": [
      "/home/atshaam/miniconda3/envs/project_env/lib/python3.11/site-packages/scipy/_lib/_util.py:1226: RuntimeWarning: logm result may be inaccurate, approximate err = 3.4200463039819537e-13\n",
      "  return f(*arrays, *other_args, **kwargs)\n"
     ]
    },
    {
     "name": "stdout",
     "output_type": "stream",
     "text": [
      "LBFGS:   39 17:20:38     -212.465187        0.025993\n"
     ]
    },
    {
     "name": "stderr",
     "output_type": "stream",
     "text": [
      "/home/atshaam/miniconda3/envs/project_env/lib/python3.11/site-packages/scipy/_lib/_util.py:1226: RuntimeWarning: logm result may be inaccurate, approximate err = 3.3825957703049093e-13\n",
      "  return f(*arrays, *other_args, **kwargs)\n"
     ]
    },
    {
     "name": "stdout",
     "output_type": "stream",
     "text": [
      "LBFGS:   40 17:20:38     -212.465578        0.025528\n"
     ]
    },
    {
     "name": "stderr",
     "output_type": "stream",
     "text": [
      "/home/atshaam/miniconda3/envs/project_env/lib/python3.11/site-packages/scipy/_lib/_util.py:1226: RuntimeWarning: logm result may be inaccurate, approximate err = 3.4738994415517574e-13\n",
      "  return f(*arrays, *other_args, **kwargs)\n"
     ]
    },
    {
     "name": "stdout",
     "output_type": "stream",
     "text": [
      "LBFGS:   41 17:20:39     -212.465950        0.038716\n"
     ]
    },
    {
     "name": "stderr",
     "output_type": "stream",
     "text": [
      "/home/atshaam/miniconda3/envs/project_env/lib/python3.11/site-packages/scipy/_lib/_util.py:1226: RuntimeWarning: logm result may be inaccurate, approximate err = 3.464639790393103e-13\n",
      "  return f(*arrays, *other_args, **kwargs)\n"
     ]
    },
    {
     "name": "stdout",
     "output_type": "stream",
     "text": [
      "LBFGS:   42 17:20:39     -212.466247        0.044178\n"
     ]
    },
    {
     "name": "stderr",
     "output_type": "stream",
     "text": [
      "/home/atshaam/miniconda3/envs/project_env/lib/python3.11/site-packages/scipy/_lib/_util.py:1226: RuntimeWarning: logm result may be inaccurate, approximate err = 3.4416202338852613e-13\n",
      "  return f(*arrays, *other_args, **kwargs)\n"
     ]
    },
    {
     "name": "stdout",
     "output_type": "stream",
     "text": [
      "LBFGS:   43 17:20:39     -212.466529        0.029858\n"
     ]
    },
    {
     "name": "stderr",
     "output_type": "stream",
     "text": [
      "/home/atshaam/miniconda3/envs/project_env/lib/python3.11/site-packages/scipy/_lib/_util.py:1226: RuntimeWarning: logm result may be inaccurate, approximate err = 3.4206532566974766e-13\n",
      "  return f(*arrays, *other_args, **kwargs)\n"
     ]
    },
    {
     "name": "stdout",
     "output_type": "stream",
     "text": [
      "LBFGS:   44 17:20:39     -212.466880        0.026072\n",
      "LBFGS:   45 17:20:40     -212.467464        0.037758\n"
     ]
    },
    {
     "name": "stderr",
     "output_type": "stream",
     "text": [
      "/home/atshaam/miniconda3/envs/project_env/lib/python3.11/site-packages/scipy/_lib/_util.py:1226: RuntimeWarning: logm result may be inaccurate, approximate err = 3.4535259566858017e-13\n",
      "  return f(*arrays, *other_args, **kwargs)\n"
     ]
    },
    {
     "name": "stdout",
     "output_type": "stream",
     "text": [
      "LBFGS:   46 17:20:40     -212.468265        0.072335\n"
     ]
    },
    {
     "name": "stderr",
     "output_type": "stream",
     "text": [
      "/home/atshaam/miniconda3/envs/project_env/lib/python3.11/site-packages/scipy/_lib/_util.py:1226: RuntimeWarning: logm result may be inaccurate, approximate err = 3.4696660035160325e-13\n",
      "  return f(*arrays, *other_args, **kwargs)\n",
      "/home/atshaam/miniconda3/envs/project_env/lib/python3.11/site-packages/scipy/_lib/_util.py:1226: RuntimeWarning: logm result may be inaccurate, approximate err = 3.496920407443771e-13\n",
      "  return f(*arrays, *other_args, **kwargs)\n"
     ]
    },
    {
     "name": "stdout",
     "output_type": "stream",
     "text": [
      "LBFGS:   47 17:20:40     -212.469051        0.072834\n"
     ]
    },
    {
     "name": "stderr",
     "output_type": "stream",
     "text": [
      "/home/atshaam/miniconda3/envs/project_env/lib/python3.11/site-packages/scipy/_lib/_util.py:1226: RuntimeWarning: logm result may be inaccurate, approximate err = 3.5106985333196777e-13\n",
      "  return f(*arrays, *other_args, **kwargs)\n"
     ]
    },
    {
     "name": "stdout",
     "output_type": "stream",
     "text": [
      "LBFGS:   48 17:20:40     -212.469472        0.037556\n"
     ]
    },
    {
     "name": "stderr",
     "output_type": "stream",
     "text": [
      "/home/atshaam/miniconda3/envs/project_env/lib/python3.11/site-packages/scipy/_lib/_util.py:1226: RuntimeWarning: logm result may be inaccurate, approximate err = 3.4445233070546903e-13\n",
      "  return f(*arrays, *other_args, **kwargs)\n"
     ]
    },
    {
     "name": "stdout",
     "output_type": "stream",
     "text": [
      "LBFGS:   49 17:20:41     -212.469600        0.012336\n"
     ]
    },
    {
     "name": "stderr",
     "output_type": "stream",
     "text": [
      "/home/atshaam/miniconda3/envs/project_env/lib/python3.11/site-packages/scipy/_lib/_util.py:1226: RuntimeWarning: logm result may be inaccurate, approximate err = 3.4507656656774923e-13\n",
      "  return f(*arrays, *other_args, **kwargs)\n"
     ]
    },
    {
     "name": "stdout",
     "output_type": "stream",
     "text": [
      "LBFGS:   50 17:20:41     -212.469659        0.012464\n"
     ]
    },
    {
     "name": "stderr",
     "output_type": "stream",
     "text": [
      "/home/atshaam/miniconda3/envs/project_env/lib/python3.11/site-packages/scipy/_lib/_util.py:1226: RuntimeWarning: logm result may be inaccurate, approximate err = 3.5225012234731867e-13\n",
      "  return f(*arrays, *other_args, **kwargs)\n"
     ]
    },
    {
     "name": "stdout",
     "output_type": "stream",
     "text": [
      "LBFGS:   51 17:20:41     -212.469741        0.022298\n"
     ]
    },
    {
     "name": "stderr",
     "output_type": "stream",
     "text": [
      "/home/atshaam/miniconda3/envs/project_env/lib/python3.11/site-packages/scipy/_lib/_util.py:1226: RuntimeWarning: logm result may be inaccurate, approximate err = 3.4628475401046356e-13\n",
      "  return f(*arrays, *other_args, **kwargs)\n"
     ]
    },
    {
     "name": "stdout",
     "output_type": "stream",
     "text": [
      "LBFGS:   52 17:20:41     -212.469907        0.036295\n"
     ]
    },
    {
     "name": "stderr",
     "output_type": "stream",
     "text": [
      "/home/atshaam/miniconda3/envs/project_env/lib/python3.11/site-packages/scipy/_lib/_util.py:1226: RuntimeWarning: logm result may be inaccurate, approximate err = 3.4664424751624163e-13\n",
      "  return f(*arrays, *other_args, **kwargs)\n"
     ]
    },
    {
     "name": "stdout",
     "output_type": "stream",
     "text": [
      "LBFGS:   53 17:20:42     -212.470283        0.051269\n",
      "LBFGS:   54 17:20:42     -212.471057        0.062647\n"
     ]
    },
    {
     "name": "stderr",
     "output_type": "stream",
     "text": [
      "/home/atshaam/miniconda3/envs/project_env/lib/python3.11/site-packages/scipy/_lib/_util.py:1226: RuntimeWarning: logm result may be inaccurate, approximate err = 3.4675035696592696e-13\n",
      "  return f(*arrays, *other_args, **kwargs)\n",
      "/home/atshaam/miniconda3/envs/project_env/lib/python3.11/site-packages/scipy/_lib/_util.py:1226: RuntimeWarning: logm result may be inaccurate, approximate err = 3.494090075220304e-13\n",
      "  return f(*arrays, *other_args, **kwargs)\n"
     ]
    },
    {
     "name": "stdout",
     "output_type": "stream",
     "text": [
      "LBFGS:   55 17:20:42     -212.472328        0.074575\n",
      "LBFGS:   56 17:20:42     -212.473842        0.064175\n"
     ]
    },
    {
     "name": "stderr",
     "output_type": "stream",
     "text": [
      "/home/atshaam/miniconda3/envs/project_env/lib/python3.11/site-packages/scipy/_lib/_util.py:1226: RuntimeWarning: logm result may be inaccurate, approximate err = 3.4347748301933406e-13\n",
      "  return f(*arrays, *other_args, **kwargs)\n",
      "/home/atshaam/miniconda3/envs/project_env/lib/python3.11/site-packages/scipy/_lib/_util.py:1226: RuntimeWarning: logm result may be inaccurate, approximate err = 3.5062183622862943e-13\n",
      "  return f(*arrays, *other_args, **kwargs)\n"
     ]
    },
    {
     "name": "stdout",
     "output_type": "stream",
     "text": [
      "LBFGS:   57 17:20:42     -212.474954        0.038390\n"
     ]
    },
    {
     "name": "stderr",
     "output_type": "stream",
     "text": [
      "/home/atshaam/miniconda3/envs/project_env/lib/python3.11/site-packages/scipy/_lib/_util.py:1226: RuntimeWarning: logm result may be inaccurate, approximate err = 3.550754650224239e-13\n",
      "  return f(*arrays, *other_args, **kwargs)\n"
     ]
    },
    {
     "name": "stdout",
     "output_type": "stream",
     "text": [
      "LBFGS:   58 17:20:43     -212.475692        0.041510\n"
     ]
    },
    {
     "name": "stderr",
     "output_type": "stream",
     "text": [
      "/home/atshaam/miniconda3/envs/project_env/lib/python3.11/site-packages/scipy/_lib/_util.py:1226: RuntimeWarning: logm result may be inaccurate, approximate err = 3.543313687721569e-13\n",
      "  return f(*arrays, *other_args, **kwargs)\n"
     ]
    },
    {
     "name": "stdout",
     "output_type": "stream",
     "text": [
      "LBFGS:   59 17:20:43     -212.476661        0.048836\n"
     ]
    },
    {
     "name": "stderr",
     "output_type": "stream",
     "text": [
      "/home/atshaam/miniconda3/envs/project_env/lib/python3.11/site-packages/scipy/_lib/_util.py:1226: RuntimeWarning: logm result may be inaccurate, approximate err = 3.556605491807411e-13\n",
      "  return f(*arrays, *other_args, **kwargs)\n"
     ]
    },
    {
     "name": "stdout",
     "output_type": "stream",
     "text": [
      "LBFGS:   60 17:20:43     -212.478443        0.077557\n"
     ]
    },
    {
     "name": "stderr",
     "output_type": "stream",
     "text": [
      "/home/atshaam/miniconda3/envs/project_env/lib/python3.11/site-packages/scipy/_lib/_util.py:1226: RuntimeWarning: logm result may be inaccurate, approximate err = 3.5901410361160505e-13\n",
      "  return f(*arrays, *other_args, **kwargs)\n"
     ]
    },
    {
     "name": "stdout",
     "output_type": "stream",
     "text": [
      "LBFGS:   61 17:20:43     -212.480937        0.086900\n"
     ]
    },
    {
     "name": "stderr",
     "output_type": "stream",
     "text": [
      "/home/atshaam/miniconda3/envs/project_env/lib/python3.11/site-packages/scipy/_lib/_util.py:1226: RuntimeWarning: logm result may be inaccurate, approximate err = 3.602506850408624e-13\n",
      "  return f(*arrays, *other_args, **kwargs)\n"
     ]
    },
    {
     "name": "stdout",
     "output_type": "stream",
     "text": [
      "LBFGS:   62 17:20:44     -212.482940        0.056580\n",
      "LBFGS:   63 17:20:44     -212.483879        0.049898\n"
     ]
    },
    {
     "name": "stderr",
     "output_type": "stream",
     "text": [
      "/home/atshaam/miniconda3/envs/project_env/lib/python3.11/site-packages/scipy/_lib/_util.py:1226: RuntimeWarning: logm result may be inaccurate, approximate err = 3.722734981543125e-13\n",
      "  return f(*arrays, *other_args, **kwargs)\n"
     ]
    },
    {
     "name": "stdout",
     "output_type": "stream",
     "text": [
      "LBFGS:   64 17:20:44     -212.484537        0.047411\n"
     ]
    },
    {
     "name": "stderr",
     "output_type": "stream",
     "text": [
      "/home/atshaam/miniconda3/envs/project_env/lib/python3.11/site-packages/scipy/_lib/_util.py:1226: RuntimeWarning: logm result may be inaccurate, approximate err = 3.7246491942156986e-13\n",
      "  return f(*arrays, *other_args, **kwargs)\n",
      "/home/atshaam/miniconda3/envs/project_env/lib/python3.11/site-packages/scipy/_lib/_util.py:1226: RuntimeWarning: logm result may be inaccurate, approximate err = 3.681827149198965e-13\n",
      "  return f(*arrays, *other_args, **kwargs)\n"
     ]
    },
    {
     "name": "stdout",
     "output_type": "stream",
     "text": [
      "LBFGS:   65 17:20:44     -212.485366        0.049735\n"
     ]
    },
    {
     "name": "stderr",
     "output_type": "stream",
     "text": [
      "/home/atshaam/miniconda3/envs/project_env/lib/python3.11/site-packages/scipy/_lib/_util.py:1226: RuntimeWarning: logm result may be inaccurate, approximate err = 3.6771481626565886e-13\n",
      "  return f(*arrays, *other_args, **kwargs)\n"
     ]
    },
    {
     "name": "stdout",
     "output_type": "stream",
     "text": [
      "LBFGS:   66 17:20:44     -212.486639        0.063940\n",
      "LBFGS:   67 17:20:45     -212.488292        0.075754\n"
     ]
    },
    {
     "name": "stderr",
     "output_type": "stream",
     "text": [
      "/home/atshaam/miniconda3/envs/project_env/lib/python3.11/site-packages/scipy/_lib/_util.py:1226: RuntimeWarning: logm result may be inaccurate, approximate err = 3.6924279768267946e-13\n",
      "  return f(*arrays, *other_args, **kwargs)\n",
      "/home/atshaam/miniconda3/envs/project_env/lib/python3.11/site-packages/scipy/_lib/_util.py:1226: RuntimeWarning: logm result may be inaccurate, approximate err = 3.7470828262490943e-13\n",
      "  return f(*arrays, *other_args, **kwargs)\n"
     ]
    },
    {
     "name": "stdout",
     "output_type": "stream",
     "text": [
      "LBFGS:   68 17:20:45     -212.489915        0.070598\n",
      "LBFGS:   69 17:20:45     -212.491134        0.053759\n"
     ]
    },
    {
     "name": "stderr",
     "output_type": "stream",
     "text": [
      "/home/atshaam/miniconda3/envs/project_env/lib/python3.11/site-packages/scipy/_lib/_util.py:1226: RuntimeWarning: logm result may be inaccurate, approximate err = 3.7732071113017276e-13\n",
      "  return f(*arrays, *other_args, **kwargs)\n",
      "/home/atshaam/miniconda3/envs/project_env/lib/python3.11/site-packages/scipy/_lib/_util.py:1226: RuntimeWarning: logm result may be inaccurate, approximate err = 3.909250088250687e-13\n",
      "  return f(*arrays, *other_args, **kwargs)\n"
     ]
    },
    {
     "name": "stdout",
     "output_type": "stream",
     "text": [
      "LBFGS:   70 17:20:45     -212.491794        0.026832\n"
     ]
    },
    {
     "name": "stderr",
     "output_type": "stream",
     "text": [
      "/home/atshaam/miniconda3/envs/project_env/lib/python3.11/site-packages/scipy/_lib/_util.py:1226: RuntimeWarning: logm result may be inaccurate, approximate err = 3.845144784165312e-13\n",
      "  return f(*arrays, *other_args, **kwargs)\n"
     ]
    },
    {
     "name": "stdout",
     "output_type": "stream",
     "text": [
      "LBFGS:   71 17:20:45     -212.491992        0.010280\n",
      "LBFGS:   72 17:20:46     -212.492046        0.007125\n"
     ]
    },
    {
     "name": "stderr",
     "output_type": "stream",
     "text": [
      "/home/atshaam/miniconda3/envs/project_env/lib/python3.11/site-packages/scipy/_lib/_util.py:1226: RuntimeWarning: logm result may be inaccurate, approximate err = 3.848878910872613e-13\n",
      "  return f(*arrays, *other_args, **kwargs)\n"
     ]
    },
    {
     "name": "stdout",
     "output_type": "stream",
     "text": [
      "       Step     Time          Energy          fmax\n",
      "LBFGS:    0 17:20:46     -972.800625        0.034968\n",
      "LBFGS:    1 17:20:46     -972.801289        0.023840\n",
      "LBFGS:    2 17:20:47     -972.801831        0.022075\n",
      "LBFGS:    3 17:20:47     -972.803105        0.030238\n",
      "LBFGS:    4 17:20:47     -972.803646        0.019722\n",
      "LBFGS:    5 17:20:47     -972.804264        0.017779\n",
      "LBFGS:    6 17:20:48     -972.804577        0.017491\n",
      "LBFGS:    7 17:20:48     -972.804783        0.018278\n",
      "LBFGS:    8 17:20:48     -972.804875        0.018760\n",
      "LBFGS:    9 17:20:48     -972.805027        0.018700\n",
      "LBFGS:   10 17:20:49     -972.805088        0.018357\n",
      "LBFGS:   11 17:20:49     -972.805195        0.018050\n",
      "LBFGS:   12 17:20:49     -972.805233        0.018016\n",
      "LBFGS:   13 17:20:50     -972.805462        0.018475\n",
      "LBFGS:   14 17:20:50     -972.805622        0.019339\n",
      "LBFGS:   15 17:20:50     -972.805783        0.020210\n",
      "LBFGS:   16 17:20:50     -972.806034        0.020697\n",
      "LBFGS:   17 17:20:51     -972.806469        0.020096\n",
      "LBFGS:   18 17:20:51     -972.807095        0.026833\n",
      "LBFGS:   19 17:20:51     -972.807751        0.023970\n",
      "LBFGS:   20 17:20:51     -972.808392        0.024300\n",
      "LBFGS:   21 17:20:52     -972.808941        0.023820\n",
      "LBFGS:   22 17:20:52     -972.809506        0.025138\n",
      "LBFGS:   23 17:20:52     -972.810109        0.023167\n",
      "LBFGS:   24 17:20:52     -972.810582        0.021192\n",
      "LBFGS:   25 17:20:53     -972.811085        0.024230\n",
      "LBFGS:   26 17:20:53     -972.811657        0.022305\n",
      "LBFGS:   27 17:20:53     -972.812138        0.021312\n",
      "LBFGS:   28 17:20:54     -972.812420        0.017427\n",
      "LBFGS:   29 17:20:54     -972.812603        0.013982\n",
      "LBFGS:   30 17:20:54     -972.812718        0.011784\n",
      "LBFGS:   31 17:20:54     -972.812916        0.009678\n",
      "       Step     Time          Energy          fmax\n",
      "LBFGS:    0 17:20:55     -985.031281        0.760945\n",
      "LBFGS:    1 17:20:55     -985.414085        0.364617\n",
      "LBFGS:    2 17:20:55     -985.485512        0.153592\n",
      "LBFGS:    3 17:20:56     -985.503952        0.119141\n",
      "LBFGS:    4 17:20:56     -985.516991        0.113461\n",
      "LBFGS:    5 17:20:56     -985.530937        0.108554\n",
      "LBFGS:    6 17:20:57     -985.540398        0.106461\n",
      "LBFGS:    7 17:20:57     -985.547791        0.105707\n",
      "LBFGS:    8 17:20:58     -985.554901        0.104814\n",
      "LBFGS:    9 17:20:58     -985.561493        0.103057\n",
      "LBFGS:   10 17:20:58     -985.565781        0.100958\n",
      "LBFGS:   11 17:20:59     -985.569160        0.098909\n",
      "LBFGS:   12 17:20:59     -985.573898        0.096107\n",
      "LBFGS:   13 17:20:59     -985.581520        0.104542\n",
      "LBFGS:   14 17:21:00     -985.590538        0.111786\n",
      "LBFGS:   15 17:21:00     -985.597359        0.084930\n",
      "LBFGS:   16 17:21:00     -985.601494        0.084751\n",
      "LBFGS:   17 17:21:01     -985.605598        0.084965\n",
      "LBFGS:   18 17:21:01     -985.612350        0.088640\n",
      "LBFGS:   19 17:21:02     -985.621613        0.123360\n",
      "LBFGS:   20 17:21:02     -985.630341        0.106322\n",
      "LBFGS:   21 17:21:02     -985.636475        0.075416\n",
      "LBFGS:   22 17:21:03     -985.641479        0.073181\n",
      "LBFGS:   23 17:21:03     -985.648102        0.078729\n",
      "LBFGS:   24 17:21:03     -985.657150        0.101903\n",
      "LBFGS:   25 17:21:04     -985.668037        0.109228\n",
      "LBFGS:   26 17:21:04     -985.680855        0.091081\n",
      "LBFGS:   27 17:21:05     -985.699234        0.152413\n",
      "LBFGS:   28 17:21:05     -985.727783        0.212328\n",
      "LBFGS:   29 17:21:05     -985.757614        0.224770\n",
      "LBFGS:   30 17:21:06     -985.787918        0.199419\n",
      "LBFGS:   31 17:21:06     -985.815895        0.146515\n",
      "LBFGS:   32 17:21:06     -985.838776        0.085474\n",
      "LBFGS:   33 17:21:07     -985.854919        0.087614\n",
      "LBFGS:   34 17:21:07     -985.871010        0.128304\n",
      "LBFGS:   35 17:21:07     -985.901779        0.183853\n",
      "LBFGS:   36 17:21:08     -985.934212        0.181428\n",
      "LBFGS:   37 17:21:08     -985.963196        0.130335\n",
      "LBFGS:   38 17:21:09     -985.982803        0.122838\n",
      "LBFGS:   39 17:21:09     -985.998726        0.098617\n",
      "LBFGS:   40 17:21:09     -986.016281        0.121404\n",
      "LBFGS:   41 17:21:10     -986.032745        0.100890\n",
      "LBFGS:   42 17:21:10     -986.047348        0.094854\n",
      "LBFGS:   43 17:21:10     -986.062271        0.131145\n",
      "LBFGS:   44 17:21:11     -986.079544        0.150564\n",
      "LBFGS:   45 17:21:11     -986.095070        0.105824\n",
      "LBFGS:   46 17:21:11     -986.103401        0.050481\n",
      "LBFGS:   47 17:21:12     -986.106850        0.030594\n",
      "LBFGS:   48 17:21:12     -986.109612        0.051253\n",
      "LBFGS:   49 17:21:12     -986.114143        0.070762\n",
      "LBFGS:   50 17:21:13     -986.120110        0.066859\n",
      "LBFGS:   51 17:21:13     -986.125267        0.043011\n",
      "LBFGS:   52 17:21:14     -986.128181        0.038577\n",
      "LBFGS:   53 17:21:14     -986.130363        0.036606\n",
      "LBFGS:   54 17:21:14     -986.133163        0.044207\n",
      "LBFGS:   55 17:21:15     -986.136757        0.048244\n",
      "LBFGS:   56 17:21:15     -986.139496        0.031027\n",
      "LBFGS:   57 17:21:15     -986.140907        0.022673\n",
      "LBFGS:   58 17:21:16     -986.141968        0.034408\n",
      "LBFGS:   59 17:21:16     -986.143814        0.050073\n",
      "LBFGS:   60 17:21:16     -986.147308        0.063822\n",
      "LBFGS:   61 17:21:17     -986.152374        0.092571\n",
      "LBFGS:   62 17:21:17     -986.156952        0.082873\n",
      "LBFGS:   63 17:21:17     -986.159309        0.041058\n",
      "LBFGS:   64 17:21:18     -986.160645        0.026273\n",
      "LBFGS:   65 17:21:18     -986.162514        0.053244\n",
      "LBFGS:   66 17:21:19     -986.165985        0.124122\n",
      "LBFGS:   67 17:21:19     -986.171700        0.191363\n",
      "LBFGS:   68 17:21:19     -986.178596        0.201218\n",
      "LBFGS:   69 17:21:20     -986.183960        0.126068\n",
      "LBFGS:   70 17:21:20     -986.186752        0.027731\n",
      "LBFGS:   71 17:21:20     -986.188400        0.040014\n",
      "LBFGS:   72 17:21:21     -986.189941        0.081244\n",
      "LBFGS:   73 17:21:21     -986.191658        0.091072\n",
      "LBFGS:   74 17:21:21     -986.193840        0.065175\n",
      "LBFGS:   75 17:21:22     -986.196342        0.034632\n",
      "LBFGS:   76 17:21:22     -986.199211        0.050603\n",
      "LBFGS:   77 17:21:23     -986.202049        0.087283\n",
      "LBFGS:   78 17:21:23     -986.204216        0.076374\n",
      "LBFGS:   79 17:21:23     -986.205437        0.036166\n",
      "LBFGS:   80 17:21:24     -986.206093        0.017122\n",
      "LBFGS:   81 17:21:24     -986.206657        0.020452\n",
      "LBFGS:   82 17:21:24     -986.207207        0.028224\n",
      "LBFGS:   83 17:21:25     -986.207710        0.019497\n",
      "LBFGS:   84 17:21:25     -986.207954        0.008490\n",
      "       Step     Time          Energy          fmax\n",
      "LBFGS:    0 17:21:25      -74.798901        0.048016\n",
      "LBFGS:    1 17:21:25      -74.798960        0.046045\n",
      "LBFGS:    2 17:21:26      -74.799330        0.024472\n",
      "LBFGS:    3 17:21:26      -74.799387        0.023058\n",
      "LBFGS:    4 17:21:26      -74.799502        0.010656\n",
      "LBFGS:    5 17:21:26      -74.799515        0.009885\n",
      "       Step     Time          Energy          fmax\n",
      "LBFGS:    0 17:21:27     -221.154367        0.658763\n",
      "LBFGS:    1 17:21:27     -221.225458        0.386892\n",
      "LBFGS:    2 17:21:27     -221.244570        0.349678\n",
      "LBFGS:    3 17:21:27     -221.290013        0.255229\n",
      "LBFGS:    4 17:21:28     -221.304391        0.236495\n",
      "LBFGS:    5 17:21:28     -221.318684        0.222806\n",
      "LBFGS:    6 17:21:28     -221.336751        0.232568\n",
      "LBFGS:    7 17:21:28     -221.359622        0.251099\n",
      "LBFGS:    8 17:21:28     -221.376833        0.178165\n",
      "LBFGS:    9 17:21:29     -221.386318        0.115801\n",
      "LBFGS:   10 17:21:29     -221.391852        0.124807\n",
      "LBFGS:   11 17:21:29     -221.397378        0.124868\n",
      "LBFGS:   12 17:21:29     -221.405834        0.152607\n",
      "LBFGS:   13 17:21:29     -221.418315        0.201733\n",
      "LBFGS:   14 17:21:30     -221.433667        0.210004\n",
      "LBFGS:   15 17:21:30     -221.446814        0.176874\n",
      "LBFGS:   16 17:21:30     -221.455258        0.122107\n",
      "LBFGS:   17 17:21:30     -221.461771        0.137854\n",
      "LBFGS:   18 17:21:31     -221.469270        0.150608\n",
      "LBFGS:   19 17:21:31     -221.477512        0.157577\n",
      "LBFGS:   20 17:21:31     -221.482818        0.121519\n",
      "LBFGS:   21 17:21:31     -221.484897        0.074957\n",
      "LBFGS:   22 17:21:32     -221.486197        0.057003\n",
      "LBFGS:   23 17:21:32     -221.487671        0.059948\n",
      "LBFGS:   24 17:21:32     -221.489028        0.054528\n",
      "LBFGS:   25 17:21:32     -221.489902        0.047554\n",
      "LBFGS:   26 17:21:32     -221.490373        0.040397\n",
      "LBFGS:   27 17:21:33     -221.490689        0.027904\n",
      "LBFGS:   28 17:21:33     -221.490928        0.019325\n",
      "LBFGS:   29 17:21:33     -221.491089        0.019417\n",
      "LBFGS:   30 17:21:33     -221.491163        0.014816\n",
      "LBFGS:   31 17:21:34     -221.491197        0.009128\n",
      "       Step     Time          Energy          fmax\n",
      "LBFGS:    0 17:21:34     -101.455525        0.597398\n",
      "LBFGS:    1 17:21:34     -101.470989        0.574908\n",
      "LBFGS:    2 17:21:34     -101.637325        0.290011\n",
      "LBFGS:    3 17:21:34     -101.647333        0.189747\n",
      "LBFGS:    4 17:21:35     -101.651635        0.030050\n",
      "LBFGS:    5 17:21:35     -101.651760        0.002726\n",
      "       Step     Time          Energy          fmax\n",
      "LBFGS:    0 17:21:35      -99.201331        0.400962\n",
      "LBFGS:    1 17:21:35      -99.211715        0.376843\n",
      "LBFGS:    2 17:21:35      -99.234147        0.286540\n",
      "LBFGS:    3 17:21:36      -99.246070        0.275696\n",
      "LBFGS:    4 17:21:36      -99.276515        0.311070\n",
      "LBFGS:    5 17:21:36      -99.290267        0.181520\n",
      "LBFGS:    6 17:21:36      -99.294152        0.040377\n",
      "LBFGS:    7 17:21:36      -99.294408        0.003242\n",
      "       Step     Time          Energy          fmax\n",
      "LBFGS:    0 17:21:37     -106.144623        0.573250\n",
      "LBFGS:    1 17:21:37     -106.158409        0.549799\n",
      "LBFGS:    2 17:21:37     -106.323906        0.102494\n",
      "LBFGS:    3 17:21:37     -106.325386        0.058174\n",
      "LBFGS:    4 17:21:38     -106.325777        0.011890\n",
      "LBFGS:    5 17:21:38     -106.325802        0.001131\n",
      "       Step     Time          Energy          fmax\n",
      "LBFGS:    0 17:21:38     -494.495317        0.407915\n",
      "LBFGS:    1 17:21:38     -494.520347        0.378479\n",
      "LBFGS:    2 17:21:38     -494.576842        0.298433\n"
     ]
    },
    {
     "name": "stderr",
     "output_type": "stream",
     "text": [
      "/home/atshaam/miniconda3/envs/project_env/lib/python3.11/site-packages/scipy/_lib/_util.py:1226: RuntimeWarning: logm result may be inaccurate, approximate err = 7.984563595018859e-13\n",
      "  return f(*arrays, *other_args, **kwargs)\n",
      "/home/atshaam/miniconda3/envs/project_env/lib/python3.11/site-packages/scipy/_lib/_util.py:1226: RuntimeWarning: logm result may be inaccurate, approximate err = 8.010043557286987e-13\n",
      "  return f(*arrays, *other_args, **kwargs)\n"
     ]
    },
    {
     "name": "stdout",
     "output_type": "stream",
     "text": [
      "LBFGS:    3 17:21:39     -494.606867        0.261225\n"
     ]
    },
    {
     "name": "stderr",
     "output_type": "stream",
     "text": [
      "/home/atshaam/miniconda3/envs/project_env/lib/python3.11/site-packages/scipy/_lib/_util.py:1226: RuntimeWarning: logm result may be inaccurate, approximate err = 8.006090171296902e-13\n",
      "  return f(*arrays, *other_args, **kwargs)\n"
     ]
    },
    {
     "name": "stdout",
     "output_type": "stream",
     "text": [
      "LBFGS:    4 17:21:39     -494.632912        0.235911\n"
     ]
    },
    {
     "name": "stderr",
     "output_type": "stream",
     "text": [
      "/home/atshaam/miniconda3/envs/project_env/lib/python3.11/site-packages/scipy/_lib/_util.py:1226: RuntimeWarning: logm result may be inaccurate, approximate err = 8.024735654078168e-13\n",
      "  return f(*arrays, *other_args, **kwargs)\n"
     ]
    },
    {
     "name": "stdout",
     "output_type": "stream",
     "text": [
      "LBFGS:    5 17:21:39     -494.645630        0.232700\n"
     ]
    },
    {
     "name": "stderr",
     "output_type": "stream",
     "text": [
      "/home/atshaam/miniconda3/envs/project_env/lib/python3.11/site-packages/scipy/_lib/_util.py:1226: RuntimeWarning: logm result may be inaccurate, approximate err = 8.003508360848513e-13\n",
      "  return f(*arrays, *other_args, **kwargs)\n"
     ]
    },
    {
     "name": "stdout",
     "output_type": "stream",
     "text": [
      "LBFGS:    6 17:21:39     -494.661749        0.230739\n"
     ]
    },
    {
     "name": "stderr",
     "output_type": "stream",
     "text": [
      "/home/atshaam/miniconda3/envs/project_env/lib/python3.11/site-packages/scipy/_lib/_util.py:1226: RuntimeWarning: logm result may be inaccurate, approximate err = 8.05923328236516e-13\n",
      "  return f(*arrays, *other_args, **kwargs)\n"
     ]
    },
    {
     "name": "stdout",
     "output_type": "stream",
     "text": [
      "LBFGS:    7 17:21:40     -494.685319        0.221038\n"
     ]
    },
    {
     "name": "stderr",
     "output_type": "stream",
     "text": [
      "/home/atshaam/miniconda3/envs/project_env/lib/python3.11/site-packages/scipy/_lib/_util.py:1226: RuntimeWarning: logm result may be inaccurate, approximate err = 7.991453768451342e-13\n",
      "  return f(*arrays, *other_args, **kwargs)\n"
     ]
    },
    {
     "name": "stdout",
     "output_type": "stream",
     "text": [
      "LBFGS:    8 17:21:40     -494.716653        0.228520\n",
      "LBFGS:    9 17:21:40     -494.746092        0.290439\n"
     ]
    },
    {
     "name": "stderr",
     "output_type": "stream",
     "text": [
      "/home/atshaam/miniconda3/envs/project_env/lib/python3.11/site-packages/scipy/_lib/_util.py:1226: RuntimeWarning: logm result may be inaccurate, approximate err = 8.050369022323906e-13\n",
      "  return f(*arrays, *other_args, **kwargs)\n",
      "/home/atshaam/miniconda3/envs/project_env/lib/python3.11/site-packages/scipy/_lib/_util.py:1226: RuntimeWarning: logm result may be inaccurate, approximate err = 7.99952039548517e-13\n",
      "  return f(*arrays, *other_args, **kwargs)\n"
     ]
    },
    {
     "name": "stdout",
     "output_type": "stream",
     "text": [
      "LBFGS:   10 17:21:40     -494.770201        0.254826\n"
     ]
    },
    {
     "name": "stderr",
     "output_type": "stream",
     "text": [
      "/home/atshaam/miniconda3/envs/project_env/lib/python3.11/site-packages/scipy/_lib/_util.py:1226: RuntimeWarning: logm result may be inaccurate, approximate err = 8.064202842838375e-13\n",
      "  return f(*arrays, *other_args, **kwargs)\n"
     ]
    },
    {
     "name": "stdout",
     "output_type": "stream",
     "text": [
      "LBFGS:   11 17:21:41     -494.789833        0.146771\n"
     ]
    },
    {
     "name": "stderr",
     "output_type": "stream",
     "text": [
      "/home/atshaam/miniconda3/envs/project_env/lib/python3.11/site-packages/scipy/_lib/_util.py:1226: RuntimeWarning: logm result may be inaccurate, approximate err = 8.147714375383659e-13\n",
      "  return f(*arrays, *other_args, **kwargs)\n"
     ]
    },
    {
     "name": "stdout",
     "output_type": "stream",
     "text": [
      "LBFGS:   12 17:21:41     -494.804379        0.110229\n"
     ]
    },
    {
     "name": "stderr",
     "output_type": "stream",
     "text": [
      "/home/atshaam/miniconda3/envs/project_env/lib/python3.11/site-packages/scipy/_lib/_util.py:1226: RuntimeWarning: logm result may be inaccurate, approximate err = 8.13869020947844e-13\n",
      "  return f(*arrays, *other_args, **kwargs)\n"
     ]
    },
    {
     "name": "stdout",
     "output_type": "stream",
     "text": [
      "LBFGS:   13 17:21:41     -494.814733        0.108814\n"
     ]
    },
    {
     "name": "stderr",
     "output_type": "stream",
     "text": [
      "/home/atshaam/miniconda3/envs/project_env/lib/python3.11/site-packages/scipy/_lib/_util.py:1226: RuntimeWarning: logm result may be inaccurate, approximate err = 8.061279200638707e-13\n",
      "  return f(*arrays, *other_args, **kwargs)\n"
     ]
    },
    {
     "name": "stdout",
     "output_type": "stream",
     "text": [
      "LBFGS:   14 17:21:41     -494.823942        0.125259\n"
     ]
    },
    {
     "name": "stderr",
     "output_type": "stream",
     "text": [
      "/home/atshaam/miniconda3/envs/project_env/lib/python3.11/site-packages/scipy/_lib/_util.py:1226: RuntimeWarning: logm result may be inaccurate, approximate err = 8.108805272610246e-13\n",
      "  return f(*arrays, *other_args, **kwargs)\n"
     ]
    },
    {
     "name": "stdout",
     "output_type": "stream",
     "text": [
      "LBFGS:   15 17:21:42     -494.836025        0.134564\n"
     ]
    },
    {
     "name": "stderr",
     "output_type": "stream",
     "text": [
      "/home/atshaam/miniconda3/envs/project_env/lib/python3.11/site-packages/scipy/_lib/_util.py:1226: RuntimeWarning: logm result may be inaccurate, approximate err = 8.09404537926439e-13\n",
      "  return f(*arrays, *other_args, **kwargs)\n"
     ]
    },
    {
     "name": "stdout",
     "output_type": "stream",
     "text": [
      "LBFGS:   16 17:21:42     -494.853079        0.186063\n"
     ]
    },
    {
     "name": "stderr",
     "output_type": "stream",
     "text": [
      "/home/atshaam/miniconda3/envs/project_env/lib/python3.11/site-packages/scipy/_lib/_util.py:1226: RuntimeWarning: logm result may be inaccurate, approximate err = 8.17146434033339e-13\n",
      "  return f(*arrays, *other_args, **kwargs)\n"
     ]
    },
    {
     "name": "stdout",
     "output_type": "stream",
     "text": [
      "LBFGS:   17 17:21:42     -494.870796        0.179540\n",
      "LBFGS:   18 17:21:42     -494.883038        0.115800\n"
     ]
    },
    {
     "name": "stderr",
     "output_type": "stream",
     "text": [
      "/home/atshaam/miniconda3/envs/project_env/lib/python3.11/site-packages/scipy/_lib/_util.py:1226: RuntimeWarning: logm result may be inaccurate, approximate err = 8.154480093134258e-13\n",
      "  return f(*arrays, *other_args, **kwargs)\n",
      "/home/atshaam/miniconda3/envs/project_env/lib/python3.11/site-packages/scipy/_lib/_util.py:1226: RuntimeWarning: logm result may be inaccurate, approximate err = 8.195185956088908e-13\n",
      "  return f(*arrays, *other_args, **kwargs)\n"
     ]
    },
    {
     "name": "stdout",
     "output_type": "stream",
     "text": [
      "LBFGS:   19 17:21:42     -494.891406        0.109195\n",
      "LBFGS:   20 17:21:43     -494.901171        0.143696\n"
     ]
    },
    {
     "name": "stderr",
     "output_type": "stream",
     "text": [
      "/home/atshaam/miniconda3/envs/project_env/lib/python3.11/site-packages/scipy/_lib/_util.py:1226: RuntimeWarning: logm result may be inaccurate, approximate err = 8.157829437645069e-13\n",
      "  return f(*arrays, *other_args, **kwargs)\n",
      "/home/atshaam/miniconda3/envs/project_env/lib/python3.11/site-packages/scipy/_lib/_util.py:1226: RuntimeWarning: logm result may be inaccurate, approximate err = 8.19622476082387e-13\n",
      "  return f(*arrays, *other_args, **kwargs)\n"
     ]
    },
    {
     "name": "stdout",
     "output_type": "stream",
     "text": [
      "LBFGS:   21 17:21:43     -494.913875        0.159939\n"
     ]
    },
    {
     "name": "stderr",
     "output_type": "stream",
     "text": [
      "/home/atshaam/miniconda3/envs/project_env/lib/python3.11/site-packages/scipy/_lib/_util.py:1226: RuntimeWarning: logm result may be inaccurate, approximate err = 8.200785556504895e-13\n",
      "  return f(*arrays, *other_args, **kwargs)\n"
     ]
    },
    {
     "name": "stdout",
     "output_type": "stream",
     "text": [
      "LBFGS:   22 17:21:43     -494.925606        0.131755\n"
     ]
    },
    {
     "name": "stderr",
     "output_type": "stream",
     "text": [
      "/home/atshaam/miniconda3/envs/project_env/lib/python3.11/site-packages/scipy/_lib/_util.py:1226: RuntimeWarning: logm result may be inaccurate, approximate err = 8.167527118867039e-13\n",
      "  return f(*arrays, *other_args, **kwargs)\n"
     ]
    },
    {
     "name": "stdout",
     "output_type": "stream",
     "text": [
      "LBFGS:   23 17:21:43     -494.932663        0.084028\n"
     ]
    },
    {
     "name": "stderr",
     "output_type": "stream",
     "text": [
      "/home/atshaam/miniconda3/envs/project_env/lib/python3.11/site-packages/scipy/_lib/_util.py:1226: RuntimeWarning: logm result may be inaccurate, approximate err = 8.197737410341811e-13\n",
      "  return f(*arrays, *other_args, **kwargs)\n"
     ]
    },
    {
     "name": "stdout",
     "output_type": "stream",
     "text": [
      "LBFGS:   24 17:21:44     -494.936994        0.082131\n"
     ]
    },
    {
     "name": "stderr",
     "output_type": "stream",
     "text": [
      "/home/atshaam/miniconda3/envs/project_env/lib/python3.11/site-packages/scipy/_lib/_util.py:1226: RuntimeWarning: logm result may be inaccurate, approximate err = 8.233546507848656e-13\n",
      "  return f(*arrays, *other_args, **kwargs)\n"
     ]
    },
    {
     "name": "stdout",
     "output_type": "stream",
     "text": [
      "LBFGS:   25 17:21:44     -494.942520        0.121707\n",
      "LBFGS:   26 17:21:44     -494.951336        0.145991\n"
     ]
    },
    {
     "name": "stderr",
     "output_type": "stream",
     "text": [
      "/home/atshaam/miniconda3/envs/project_env/lib/python3.11/site-packages/scipy/_lib/_util.py:1226: RuntimeWarning: logm result may be inaccurate, approximate err = 8.234687269350384e-13\n",
      "  return f(*arrays, *other_args, **kwargs)\n",
      "/home/atshaam/miniconda3/envs/project_env/lib/python3.11/site-packages/scipy/_lib/_util.py:1226: RuntimeWarning: logm result may be inaccurate, approximate err = 8.220188448279954e-13\n",
      "  return f(*arrays, *other_args, **kwargs)\n"
     ]
    },
    {
     "name": "stdout",
     "output_type": "stream",
     "text": [
      "LBFGS:   27 17:21:44     -494.961737        0.142875\n",
      "LBFGS:   28 17:21:44     -494.970114        0.143224\n"
     ]
    },
    {
     "name": "stderr",
     "output_type": "stream",
     "text": [
      "/home/atshaam/miniconda3/envs/project_env/lib/python3.11/site-packages/scipy/_lib/_util.py:1226: RuntimeWarning: logm result may be inaccurate, approximate err = 8.261996646488747e-13\n",
      "  return f(*arrays, *other_args, **kwargs)\n",
      "/home/atshaam/miniconda3/envs/project_env/lib/python3.11/site-packages/scipy/_lib/_util.py:1226: RuntimeWarning: logm result may be inaccurate, approximate err = 8.273218322248291e-13\n",
      "  return f(*arrays, *other_args, **kwargs)\n"
     ]
    },
    {
     "name": "stdout",
     "output_type": "stream",
     "text": [
      "LBFGS:   29 17:21:45     -494.975725        0.109699\n",
      "LBFGS:   30 17:21:45     -494.979763        0.068307\n"
     ]
    },
    {
     "name": "stderr",
     "output_type": "stream",
     "text": [
      "/home/atshaam/miniconda3/envs/project_env/lib/python3.11/site-packages/scipy/_lib/_util.py:1226: RuntimeWarning: logm result may be inaccurate, approximate err = 8.237415811232655e-13\n",
      "  return f(*arrays, *other_args, **kwargs)\n",
      "/home/atshaam/miniconda3/envs/project_env/lib/python3.11/site-packages/scipy/_lib/_util.py:1226: RuntimeWarning: logm result may be inaccurate, approximate err = 8.238072964020443e-13\n",
      "  return f(*arrays, *other_args, **kwargs)\n"
     ]
    },
    {
     "name": "stdout",
     "output_type": "stream",
     "text": [
      "LBFGS:   31 17:21:45     -494.982664        0.070791\n",
      "LBFGS:   32 17:21:45     -494.984574        0.053735\n"
     ]
    },
    {
     "name": "stderr",
     "output_type": "stream",
     "text": [
      "/home/atshaam/miniconda3/envs/project_env/lib/python3.11/site-packages/scipy/_lib/_util.py:1226: RuntimeWarning: logm result may be inaccurate, approximate err = 8.193527695738556e-13\n",
      "  return f(*arrays, *other_args, **kwargs)\n",
      "/home/atshaam/miniconda3/envs/project_env/lib/python3.11/site-packages/scipy/_lib/_util.py:1226: RuntimeWarning: logm result may be inaccurate, approximate err = 8.27698821026635e-13\n",
      "  return f(*arrays, *other_args, **kwargs)\n"
     ]
    },
    {
     "name": "stdout",
     "output_type": "stream",
     "text": [
      "LBFGS:   33 17:21:45     -494.985923        0.056339\n",
      "LBFGS:   34 17:21:46     -494.987481        0.058420\n"
     ]
    },
    {
     "name": "stderr",
     "output_type": "stream",
     "text": [
      "/home/atshaam/miniconda3/envs/project_env/lib/python3.11/site-packages/scipy/_lib/_util.py:1226: RuntimeWarning: logm result may be inaccurate, approximate err = 8.257983978800056e-13\n",
      "  return f(*arrays, *other_args, **kwargs)\n"
     ]
    },
    {
     "name": "stdout",
     "output_type": "stream",
     "text": [
      "LBFGS:   35 17:21:46     -494.989566        0.059576\n"
     ]
    },
    {
     "name": "stderr",
     "output_type": "stream",
     "text": [
      "/home/atshaam/miniconda3/envs/project_env/lib/python3.11/site-packages/scipy/_lib/_util.py:1226: RuntimeWarning: logm result may be inaccurate, approximate err = 8.23417825674732e-13\n",
      "  return f(*arrays, *other_args, **kwargs)\n",
      "/home/atshaam/miniconda3/envs/project_env/lib/python3.11/site-packages/scipy/_lib/_util.py:1226: RuntimeWarning: logm result may be inaccurate, approximate err = 8.241499134196497e-13\n",
      "  return f(*arrays, *other_args, **kwargs)\n"
     ]
    },
    {
     "name": "stdout",
     "output_type": "stream",
     "text": [
      "LBFGS:   36 17:21:46     -494.991649        0.064311\n"
     ]
    },
    {
     "name": "stderr",
     "output_type": "stream",
     "text": [
      "/home/atshaam/miniconda3/envs/project_env/lib/python3.11/site-packages/scipy/_lib/_util.py:1226: RuntimeWarning: logm result may be inaccurate, approximate err = 8.274967101264838e-13\n",
      "  return f(*arrays, *other_args, **kwargs)\n"
     ]
    },
    {
     "name": "stdout",
     "output_type": "stream",
     "text": [
      "LBFGS:   37 17:21:46     -494.993315        0.055244\n",
      "LBFGS:   38 17:21:46     -494.994922        0.057535\n"
     ]
    },
    {
     "name": "stderr",
     "output_type": "stream",
     "text": [
      "/home/atshaam/miniconda3/envs/project_env/lib/python3.11/site-packages/scipy/_lib/_util.py:1226: RuntimeWarning: logm result may be inaccurate, approximate err = 8.230759274250198e-13\n",
      "  return f(*arrays, *other_args, **kwargs)\n",
      "/home/atshaam/miniconda3/envs/project_env/lib/python3.11/site-packages/scipy/_lib/_util.py:1226: RuntimeWarning: logm result may be inaccurate, approximate err = 8.266873197028968e-13\n",
      "  return f(*arrays, *other_args, **kwargs)\n"
     ]
    },
    {
     "name": "stdout",
     "output_type": "stream",
     "text": [
      "LBFGS:   39 17:21:47     -494.997084        0.060439\n"
     ]
    },
    {
     "name": "stderr",
     "output_type": "stream",
     "text": [
      "/home/atshaam/miniconda3/envs/project_env/lib/python3.11/site-packages/scipy/_lib/_util.py:1226: RuntimeWarning: logm result may be inaccurate, approximate err = 8.253371710834723e-13\n",
      "  return f(*arrays, *other_args, **kwargs)\n"
     ]
    },
    {
     "name": "stdout",
     "output_type": "stream",
     "text": [
      "LBFGS:   40 17:21:47     -494.999691        0.061939\n"
     ]
    },
    {
     "name": "stderr",
     "output_type": "stream",
     "text": [
      "/home/atshaam/miniconda3/envs/project_env/lib/python3.11/site-packages/scipy/_lib/_util.py:1226: RuntimeWarning: logm result may be inaccurate, approximate err = 8.216751884120909e-13\n",
      "  return f(*arrays, *other_args, **kwargs)\n"
     ]
    },
    {
     "name": "stdout",
     "output_type": "stream",
     "text": [
      "LBFGS:   41 17:21:47     -495.001768        0.052490\n"
     ]
    },
    {
     "name": "stderr",
     "output_type": "stream",
     "text": [
      "/home/atshaam/miniconda3/envs/project_env/lib/python3.11/site-packages/scipy/_lib/_util.py:1226: RuntimeWarning: logm result may be inaccurate, approximate err = 8.203252230987761e-13\n",
      "  return f(*arrays, *other_args, **kwargs)\n"
     ]
    },
    {
     "name": "stdout",
     "output_type": "stream",
     "text": [
      "LBFGS:   42 17:21:47     -495.002837        0.043217\n"
     ]
    },
    {
     "name": "stderr",
     "output_type": "stream",
     "text": [
      "/home/atshaam/miniconda3/envs/project_env/lib/python3.11/site-packages/scipy/_lib/_util.py:1226: RuntimeWarning: logm result may be inaccurate, approximate err = 8.257370253908678e-13\n",
      "  return f(*arrays, *other_args, **kwargs)\n"
     ]
    },
    {
     "name": "stdout",
     "output_type": "stream",
     "text": [
      "LBFGS:   43 17:21:48     -495.003543        0.046531\n"
     ]
    },
    {
     "name": "stderr",
     "output_type": "stream",
     "text": [
      "/home/atshaam/miniconda3/envs/project_env/lib/python3.11/site-packages/scipy/_lib/_util.py:1226: RuntimeWarning: logm result may be inaccurate, approximate err = 8.265805096059834e-13\n",
      "  return f(*arrays, *other_args, **kwargs)\n"
     ]
    },
    {
     "name": "stdout",
     "output_type": "stream",
     "text": [
      "LBFGS:   44 17:21:48     -495.004574        0.051077\n"
     ]
    },
    {
     "name": "stderr",
     "output_type": "stream",
     "text": [
      "/home/atshaam/miniconda3/envs/project_env/lib/python3.11/site-packages/scipy/_lib/_util.py:1226: RuntimeWarning: logm result may be inaccurate, approximate err = 8.24649803181587e-13\n",
      "  return f(*arrays, *other_args, **kwargs)\n"
     ]
    },
    {
     "name": "stdout",
     "output_type": "stream",
     "text": [
      "LBFGS:   45 17:21:48     -495.006048        0.054642\n"
     ]
    },
    {
     "name": "stderr",
     "output_type": "stream",
     "text": [
      "/home/atshaam/miniconda3/envs/project_env/lib/python3.11/site-packages/scipy/_lib/_util.py:1226: RuntimeWarning: logm result may be inaccurate, approximate err = 8.300997407836044e-13\n",
      "  return f(*arrays, *other_args, **kwargs)\n"
     ]
    },
    {
     "name": "stdout",
     "output_type": "stream",
     "text": [
      "LBFGS:   46 17:21:48     -495.007516        0.053048\n"
     ]
    },
    {
     "name": "stderr",
     "output_type": "stream",
     "text": [
      "/home/atshaam/miniconda3/envs/project_env/lib/python3.11/site-packages/scipy/_lib/_util.py:1226: RuntimeWarning: logm result may be inaccurate, approximate err = 8.229117132771624e-13\n",
      "  return f(*arrays, *other_args, **kwargs)\n"
     ]
    },
    {
     "name": "stdout",
     "output_type": "stream",
     "text": [
      "LBFGS:   47 17:21:49     -495.008547        0.035797\n",
      "LBFGS:   48 17:21:49     -495.009349        0.033455\n"
     ]
    },
    {
     "name": "stderr",
     "output_type": "stream",
     "text": [
      "/home/atshaam/miniconda3/envs/project_env/lib/python3.11/site-packages/scipy/_lib/_util.py:1226: RuntimeWarning: logm result may be inaccurate, approximate err = 8.260840197536249e-13\n",
      "  return f(*arrays, *other_args, **kwargs)\n",
      "/home/atshaam/miniconda3/envs/project_env/lib/python3.11/site-packages/scipy/_lib/_util.py:1226: RuntimeWarning: logm result may be inaccurate, approximate err = 8.252960666135164e-13\n",
      "  return f(*arrays, *other_args, **kwargs)\n"
     ]
    },
    {
     "name": "stdout",
     "output_type": "stream",
     "text": [
      "LBFGS:   49 17:21:49     -495.010267        0.037721\n"
     ]
    },
    {
     "name": "stderr",
     "output_type": "stream",
     "text": [
      "/home/atshaam/miniconda3/envs/project_env/lib/python3.11/site-packages/scipy/_lib/_util.py:1226: RuntimeWarning: logm result may be inaccurate, approximate err = 8.234116392877553e-13\n",
      "  return f(*arrays, *other_args, **kwargs)\n"
     ]
    },
    {
     "name": "stdout",
     "output_type": "stream",
     "text": [
      "LBFGS:   50 17:21:49     -495.011407        0.039198\n"
     ]
    },
    {
     "name": "stderr",
     "output_type": "stream",
     "text": [
      "/home/atshaam/miniconda3/envs/project_env/lib/python3.11/site-packages/scipy/_lib/_util.py:1226: RuntimeWarning: logm result may be inaccurate, approximate err = 8.268123712935175e-13\n",
      "  return f(*arrays, *other_args, **kwargs)\n"
     ]
    },
    {
     "name": "stdout",
     "output_type": "stream",
     "text": [
      "LBFGS:   51 17:21:49     -495.012486        0.042315\n"
     ]
    },
    {
     "name": "stderr",
     "output_type": "stream",
     "text": [
      "/home/atshaam/miniconda3/envs/project_env/lib/python3.11/site-packages/scipy/_lib/_util.py:1226: RuntimeWarning: logm result may be inaccurate, approximate err = 8.305441033267847e-13\n",
      "  return f(*arrays, *other_args, **kwargs)\n"
     ]
    },
    {
     "name": "stdout",
     "output_type": "stream",
     "text": [
      "LBFGS:   52 17:21:50     -495.013308        0.033733\n"
     ]
    },
    {
     "name": "stderr",
     "output_type": "stream",
     "text": [
      "/home/atshaam/miniconda3/envs/project_env/lib/python3.11/site-packages/scipy/_lib/_util.py:1226: RuntimeWarning: logm result may be inaccurate, approximate err = 8.239459980369756e-13\n",
      "  return f(*arrays, *other_args, **kwargs)\n"
     ]
    },
    {
     "name": "stdout",
     "output_type": "stream",
     "text": [
      "LBFGS:   53 17:21:50     -495.014007        0.041633\n"
     ]
    },
    {
     "name": "stderr",
     "output_type": "stream",
     "text": [
      "/home/atshaam/miniconda3/envs/project_env/lib/python3.11/site-packages/scipy/_lib/_util.py:1226: RuntimeWarning: logm result may be inaccurate, approximate err = 8.248712314253223e-13\n",
      "  return f(*arrays, *other_args, **kwargs)\n"
     ]
    },
    {
     "name": "stdout",
     "output_type": "stream",
     "text": [
      "LBFGS:   54 17:21:50     -495.014728        0.037755\n"
     ]
    },
    {
     "name": "stderr",
     "output_type": "stream",
     "text": [
      "/home/atshaam/miniconda3/envs/project_env/lib/python3.11/site-packages/scipy/_lib/_util.py:1226: RuntimeWarning: logm result may be inaccurate, approximate err = 8.223980109838631e-13\n",
      "  return f(*arrays, *other_args, **kwargs)\n"
     ]
    },
    {
     "name": "stdout",
     "output_type": "stream",
     "text": [
      "LBFGS:   55 17:21:50     -495.015366        0.038422\n",
      "LBFGS:   56 17:21:51     -495.015841        0.043713\n"
     ]
    },
    {
     "name": "stderr",
     "output_type": "stream",
     "text": [
      "/home/atshaam/miniconda3/envs/project_env/lib/python3.11/site-packages/scipy/_lib/_util.py:1226: RuntimeWarning: logm result may be inaccurate, approximate err = 8.271006022561538e-13\n",
      "  return f(*arrays, *other_args, **kwargs)\n",
      "/home/atshaam/miniconda3/envs/project_env/lib/python3.11/site-packages/scipy/_lib/_util.py:1226: RuntimeWarning: logm result may be inaccurate, approximate err = 8.259946757513648e-13\n",
      "  return f(*arrays, *other_args, **kwargs)\n"
     ]
    },
    {
     "name": "stdout",
     "output_type": "stream",
     "text": [
      "LBFGS:   57 17:21:51     -495.016242        0.035189\n"
     ]
    },
    {
     "name": "stderr",
     "output_type": "stream",
     "text": [
      "/home/atshaam/miniconda3/envs/project_env/lib/python3.11/site-packages/scipy/_lib/_util.py:1226: RuntimeWarning: logm result may be inaccurate, approximate err = 8.267345437160074e-13\n",
      "  return f(*arrays, *other_args, **kwargs)\n"
     ]
    },
    {
     "name": "stdout",
     "output_type": "stream",
     "text": [
      "LBFGS:   58 17:21:51     -495.016658        0.027680\n"
     ]
    },
    {
     "name": "stderr",
     "output_type": "stream",
     "text": [
      "/home/atshaam/miniconda3/envs/project_env/lib/python3.11/site-packages/scipy/_lib/_util.py:1226: RuntimeWarning: logm result may be inaccurate, approximate err = 8.285087246511851e-13\n",
      "  return f(*arrays, *other_args, **kwargs)\n"
     ]
    },
    {
     "name": "stdout",
     "output_type": "stream",
     "text": [
      "LBFGS:   59 17:21:51     -495.017040        0.028364\n"
     ]
    },
    {
     "name": "stderr",
     "output_type": "stream",
     "text": [
      "/home/atshaam/miniconda3/envs/project_env/lib/python3.11/site-packages/scipy/_lib/_util.py:1226: RuntimeWarning: logm result may be inaccurate, approximate err = 8.317485704115188e-13\n",
      "  return f(*arrays, *other_args, **kwargs)\n"
     ]
    },
    {
     "name": "stdout",
     "output_type": "stream",
     "text": [
      "LBFGS:   60 17:21:51     -495.017310        0.025138\n"
     ]
    },
    {
     "name": "stderr",
     "output_type": "stream",
     "text": [
      "/home/atshaam/miniconda3/envs/project_env/lib/python3.11/site-packages/scipy/_lib/_util.py:1226: RuntimeWarning: logm result may be inaccurate, approximate err = 8.29654935172263e-13\n",
      "  return f(*arrays, *other_args, **kwargs)\n"
     ]
    },
    {
     "name": "stdout",
     "output_type": "stream",
     "text": [
      "LBFGS:   61 17:21:52     -495.017495        0.026457\n"
     ]
    },
    {
     "name": "stderr",
     "output_type": "stream",
     "text": [
      "/home/atshaam/miniconda3/envs/project_env/lib/python3.11/site-packages/scipy/_lib/_util.py:1226: RuntimeWarning: logm result may be inaccurate, approximate err = 8.235178450152573e-13\n",
      "  return f(*arrays, *other_args, **kwargs)\n"
     ]
    },
    {
     "name": "stdout",
     "output_type": "stream",
     "text": [
      "LBFGS:   62 17:21:52     -495.017712        0.027509\n"
     ]
    },
    {
     "name": "stderr",
     "output_type": "stream",
     "text": [
      "/home/atshaam/miniconda3/envs/project_env/lib/python3.11/site-packages/scipy/_lib/_util.py:1226: RuntimeWarning: logm result may be inaccurate, approximate err = 8.415371612863731e-13\n",
      "  return f(*arrays, *other_args, **kwargs)\n"
     ]
    },
    {
     "name": "stdout",
     "output_type": "stream",
     "text": [
      "LBFGS:   63 17:21:52     -495.018064        0.027705\n"
     ]
    },
    {
     "name": "stderr",
     "output_type": "stream",
     "text": [
      "/home/atshaam/miniconda3/envs/project_env/lib/python3.11/site-packages/scipy/_lib/_util.py:1226: RuntimeWarning: logm result may be inaccurate, approximate err = 8.314114144755956e-13\n",
      "  return f(*arrays, *other_args, **kwargs)\n"
     ]
    },
    {
     "name": "stdout",
     "output_type": "stream",
     "text": [
      "LBFGS:   64 17:21:52     -495.018515        0.026165\n"
     ]
    },
    {
     "name": "stderr",
     "output_type": "stream",
     "text": [
      "/home/atshaam/miniconda3/envs/project_env/lib/python3.11/site-packages/scipy/_lib/_util.py:1226: RuntimeWarning: logm result may be inaccurate, approximate err = 8.297202720293688e-13\n",
      "  return f(*arrays, *other_args, **kwargs)\n"
     ]
    },
    {
     "name": "stdout",
     "output_type": "stream",
     "text": [
      "LBFGS:   65 17:21:53     -495.018939        0.021886\n",
      "LBFGS:   66 17:21:53     -495.019267        0.022921\n"
     ]
    },
    {
     "name": "stderr",
     "output_type": "stream",
     "text": [
      "/home/atshaam/miniconda3/envs/project_env/lib/python3.11/site-packages/scipy/_lib/_util.py:1226: RuntimeWarning: logm result may be inaccurate, approximate err = 8.282818468214743e-13\n",
      "  return f(*arrays, *other_args, **kwargs)\n",
      "/home/atshaam/miniconda3/envs/project_env/lib/python3.11/site-packages/scipy/_lib/_util.py:1226: RuntimeWarning: logm result may be inaccurate, approximate err = 8.26059954005979e-13\n",
      "  return f(*arrays, *other_args, **kwargs)\n"
     ]
    },
    {
     "name": "stdout",
     "output_type": "stream",
     "text": [
      "LBFGS:   67 17:21:53     -495.019574        0.023101\n",
      "LBFGS:   68 17:21:53     -495.019972        0.022448\n"
     ]
    },
    {
     "name": "stderr",
     "output_type": "stream",
     "text": [
      "/home/atshaam/miniconda3/envs/project_env/lib/python3.11/site-packages/scipy/_lib/_util.py:1226: RuntimeWarning: logm result may be inaccurate, approximate err = 8.383017577854357e-13\n",
      "  return f(*arrays, *other_args, **kwargs)\n",
      "/home/atshaam/miniconda3/envs/project_env/lib/python3.11/site-packages/scipy/_lib/_util.py:1226: RuntimeWarning: logm result may be inaccurate, approximate err = 8.223131601734677e-13\n",
      "  return f(*arrays, *other_args, **kwargs)\n"
     ]
    },
    {
     "name": "stdout",
     "output_type": "stream",
     "text": [
      "LBFGS:   69 17:21:53     -495.020383        0.021740\n"
     ]
    },
    {
     "name": "stderr",
     "output_type": "stream",
     "text": [
      "/home/atshaam/miniconda3/envs/project_env/lib/python3.11/site-packages/scipy/_lib/_util.py:1226: RuntimeWarning: logm result may be inaccurate, approximate err = 8.295829949719021e-13\n",
      "  return f(*arrays, *other_args, **kwargs)\n"
     ]
    },
    {
     "name": "stdout",
     "output_type": "stream",
     "text": [
      "LBFGS:   70 17:21:54     -495.020642        0.015692\n"
     ]
    },
    {
     "name": "stderr",
     "output_type": "stream",
     "text": [
      "/home/atshaam/miniconda3/envs/project_env/lib/python3.11/site-packages/scipy/_lib/_util.py:1226: RuntimeWarning: logm result may be inaccurate, approximate err = 8.294717141371676e-13\n",
      "  return f(*arrays, *other_args, **kwargs)\n"
     ]
    },
    {
     "name": "stdout",
     "output_type": "stream",
     "text": [
      "LBFGS:   71 17:21:54     -495.020795        0.015449\n"
     ]
    },
    {
     "name": "stderr",
     "output_type": "stream",
     "text": [
      "/home/atshaam/miniconda3/envs/project_env/lib/python3.11/site-packages/scipy/_lib/_util.py:1226: RuntimeWarning: logm result may be inaccurate, approximate err = 8.36163855589106e-13\n",
      "  return f(*arrays, *other_args, **kwargs)\n"
     ]
    },
    {
     "name": "stdout",
     "output_type": "stream",
     "text": [
      "LBFGS:   72 17:21:54     -495.020950        0.014707\n"
     ]
    },
    {
     "name": "stderr",
     "output_type": "stream",
     "text": [
      "/home/atshaam/miniconda3/envs/project_env/lib/python3.11/site-packages/scipy/_lib/_util.py:1226: RuntimeWarning: logm result may be inaccurate, approximate err = 8.290008238378939e-13\n",
      "  return f(*arrays, *other_args, **kwargs)\n"
     ]
    },
    {
     "name": "stdout",
     "output_type": "stream",
     "text": [
      "LBFGS:   73 17:21:54     -495.021160        0.016545\n"
     ]
    },
    {
     "name": "stderr",
     "output_type": "stream",
     "text": [
      "/home/atshaam/miniconda3/envs/project_env/lib/python3.11/site-packages/scipy/_lib/_util.py:1226: RuntimeWarning: logm result may be inaccurate, approximate err = 8.276576146614615e-13\n",
      "  return f(*arrays, *other_args, **kwargs)\n"
     ]
    },
    {
     "name": "stdout",
     "output_type": "stream",
     "text": [
      "LBFGS:   74 17:21:55     -495.021415        0.019460\n",
      "LBFGS:   75 17:21:55     -495.021622        0.021768\n"
     ]
    },
    {
     "name": "stderr",
     "output_type": "stream",
     "text": [
      "/home/atshaam/miniconda3/envs/project_env/lib/python3.11/site-packages/scipy/_lib/_util.py:1226: RuntimeWarning: logm result may be inaccurate, approximate err = 8.321534052873249e-13\n",
      "  return f(*arrays, *other_args, **kwargs)\n",
      "/home/atshaam/miniconda3/envs/project_env/lib/python3.11/site-packages/scipy/_lib/_util.py:1226: RuntimeWarning: logm result may be inaccurate, approximate err = 8.416525743387733e-13\n",
      "  return f(*arrays, *other_args, **kwargs)\n"
     ]
    },
    {
     "name": "stdout",
     "output_type": "stream",
     "text": [
      "LBFGS:   76 17:21:55     -495.021756        0.016907\n"
     ]
    },
    {
     "name": "stderr",
     "output_type": "stream",
     "text": [
      "/home/atshaam/miniconda3/envs/project_env/lib/python3.11/site-packages/scipy/_lib/_util.py:1226: RuntimeWarning: logm result may be inaccurate, approximate err = 8.283262866330382e-13\n",
      "  return f(*arrays, *other_args, **kwargs)\n"
     ]
    },
    {
     "name": "stdout",
     "output_type": "stream",
     "text": [
      "LBFGS:   77 17:21:55     -495.021861        0.012578\n"
     ]
    },
    {
     "name": "stderr",
     "output_type": "stream",
     "text": [
      "/home/atshaam/miniconda3/envs/project_env/lib/python3.11/site-packages/scipy/_lib/_util.py:1226: RuntimeWarning: logm result may be inaccurate, approximate err = 8.374992689269575e-13\n",
      "  return f(*arrays, *other_args, **kwargs)\n"
     ]
    },
    {
     "name": "stdout",
     "output_type": "stream",
     "text": [
      "LBFGS:   78 17:21:56     -495.021968        0.011856\n"
     ]
    },
    {
     "name": "stderr",
     "output_type": "stream",
     "text": [
      "/home/atshaam/miniconda3/envs/project_env/lib/python3.11/site-packages/scipy/_lib/_util.py:1226: RuntimeWarning: logm result may be inaccurate, approximate err = 8.425898763991999e-13\n",
      "  return f(*arrays, *other_args, **kwargs)\n"
     ]
    },
    {
     "name": "stdout",
     "output_type": "stream",
     "text": [
      "LBFGS:   79 17:21:56     -495.022051        0.011837\n",
      "LBFGS:   80 17:21:56     -495.022113        0.012593\n"
     ]
    },
    {
     "name": "stderr",
     "output_type": "stream",
     "text": [
      "/home/atshaam/miniconda3/envs/project_env/lib/python3.11/site-packages/scipy/_lib/_util.py:1226: RuntimeWarning: logm result may be inaccurate, approximate err = 8.36790844888159e-13\n",
      "  return f(*arrays, *other_args, **kwargs)\n",
      "/home/atshaam/miniconda3/envs/project_env/lib/python3.11/site-packages/scipy/_lib/_util.py:1226: RuntimeWarning: logm result may be inaccurate, approximate err = 8.371742275122753e-13\n",
      "  return f(*arrays, *other_args, **kwargs)\n"
     ]
    },
    {
     "name": "stdout",
     "output_type": "stream",
     "text": [
      "LBFGS:   81 17:21:56     -495.022149        0.008398\n",
      "       Step     Time          Energy          fmax\n",
      "LBFGS:    0 17:21:56     -206.779736        0.395309\n",
      "LBFGS:    1 17:21:57     -206.788060        0.386515\n",
      "LBFGS:    2 17:21:57     -206.823342        0.320569\n",
      "LBFGS:    3 17:21:57     -206.844414        0.340870\n",
      "LBFGS:    4 17:21:57     -206.893651        0.385449\n",
      "LBFGS:    5 17:21:57     -206.925130        0.275271\n",
      "LBFGS:    6 17:21:58     -206.941964        0.198488\n",
      "LBFGS:    7 17:21:58     -206.946675        0.102142\n",
      "LBFGS:    8 17:21:58     -206.948731        0.068047\n",
      "LBFGS:    9 17:21:58     -206.949883        0.051864\n",
      "LBFGS:   10 17:21:59     -206.950589        0.036795\n",
      "LBFGS:   11 17:21:59     -206.951104        0.040833\n",
      "LBFGS:   12 17:21:59     -206.951485        0.042559\n",
      "LBFGS:   13 17:21:59     -206.951756        0.031358\n",
      "LBFGS:   14 17:21:59     -206.951909        0.021119\n",
      "LBFGS:   15 17:22:00     -206.952016        0.017147\n",
      "LBFGS:   16 17:22:00     -206.952069        0.012526\n",
      "LBFGS:   17 17:22:00     -206.952107        0.008595\n",
      "       Step     Time          Energy          fmax\n",
      "LBFGS:    0 17:22:00     -770.441262        0.281209\n",
      "LBFGS:    1 17:22:00     -770.451058        0.124203\n",
      "LBFGS:    2 17:22:01     -770.453317        0.027385\n",
      "LBFGS:    3 17:22:01     -770.453561        0.025684\n",
      "LBFGS:    4 17:22:01     -770.456506        0.064995\n",
      "LBFGS:    5 17:22:01     -770.457162        0.045794\n",
      "LBFGS:    6 17:22:01     -770.457635        0.026200\n",
      "LBFGS:    7 17:22:02     -770.457955        0.037501\n",
      "LBFGS:    8 17:22:02     -770.458459        0.042659\n",
      "LBFGS:    9 17:22:02     -770.458917        0.030754\n",
      "LBFGS:   10 17:22:02     -770.459176        0.016412\n",
      "LBFGS:   11 17:22:03     -770.459374        0.022662\n",
      "LBFGS:   12 17:22:03     -770.459527        0.027588\n",
      "LBFGS:   13 17:22:03     -770.459756        0.022840\n",
      "LBFGS:   14 17:22:03     -770.460046        0.021794\n",
      "LBFGS:   15 17:22:04     -770.460122        0.012106\n",
      "LBFGS:   16 17:22:04     -770.460229        0.013898\n",
      "LBFGS:   17 17:22:04     -770.460320        0.013255\n",
      "LBFGS:   18 17:22:04     -770.460397        0.015118\n",
      "LBFGS:   19 17:22:05     -770.460504        0.011243\n",
      "LBFGS:   20 17:22:05     -770.460626        0.009154\n"
     ]
    }
   ],
   "source": [
    "relaxed_Al_prim = {}\n",
    "matching_pairs = loadfn('../data/matching_AlCr_ox.json')\n",
    "for name, val in matching_pairs.items():\n",
    "    atoms = val['structure'].to_ase_atoms()\n",
    "    atoms.calc = calc\n",
    "    opt = LBFGS(FrechetCellFilter(atoms))\n",
    "    opt.run(0.01, 100)\n",
    "    relaxed_Al_prim[name] = {\n",
    "        'formula': val['formula']\n",
    "        'energy': atoms.get_potential_energy(),\n",
    "        'structure': AseAtomsAdaptor.get_structure(atoms)\n",
    "    }\n",
    "\n",
    "dumpfn(relaxed_Al_prim, '../data/relaxed_Al_prim.json')"
   ]
  }
 ],
 "metadata": {
  "kernelspec": {
   "display_name": "Python 3 (ipykernel)",
   "language": "python",
   "name": "python3"
  },
  "language_info": {
   "codemirror_mode": {
    "name": "ipython",
    "version": 3
   },
   "file_extension": ".py",
   "mimetype": "text/x-python",
   "name": "python",
   "nbconvert_exporter": "python",
   "pygments_lexer": "ipython3",
   "version": "3.11.13"
  }
 },
 "nbformat": 4,
 "nbformat_minor": 5
}
