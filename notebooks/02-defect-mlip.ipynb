{
 "cells": [
  {
   "cell_type": "code",
   "execution_count": 1,
   "id": "712c69c2-244d-4cab-8c12-833351f2b530",
   "metadata": {},
   "outputs": [],
   "source": [
    "import os\n",
    "\n",
    "os.environ[\"CUDA_DEVICE_ORDER\"] = \"PCI_BUS_ID\"\n",
    "os.environ[\"CUDA_VISIBLE_DEVICES\"] = \"3\""
   ]
  },
  {
   "cell_type": "code",
   "execution_count": 2,
   "id": "636fb8f1",
   "metadata": {},
   "outputs": [],
   "source": [
    "from monty.serialization import dumpfn, loadfn\n",
    "from collections import defaultdict"
   ]
  },
  {
   "cell_type": "code",
   "execution_count": 3,
   "id": "707481d0",
   "metadata": {},
   "outputs": [
    {
     "name": "stderr",
     "output_type": "stream",
     "text": [
      "/home/atshaam/miniconda3/envs/proj_env/lib/python3.11/site-packages/e3nn/o3/_wigner.py:10: UserWarning: Environment variable TORCH_FORCE_NO_WEIGHTS_ONLY_LOAD detected, since the`weights_only` argument was not explicitly passed to `torch.load`, forcing weights_only=False.\n",
      "  _Jd, _W3j_flat, _W3j_indices = torch.load(os.path.join(os.path.dirname(__file__), 'constants.pt'))\n"
     ]
    },
    {
     "name": "stdout",
     "output_type": "stream",
     "text": [
      "cuequivariance or cuequivariance_torch is not available. Cuequivariance acceleration will be disabled.\n"
     ]
    }
   ],
   "source": [
    "from ase.filters import FrechetCellFilter\n",
    "from ase.optimize import LBFGS\n",
    "from pymatgen.io.ase import AseAtomsAdaptor\n",
    "# from orb_models.forcefield import pretrained\n",
    "# from orb_models.forcefield.calculator import ORBCalculator\n",
    "# from fairchem.core import pretrained_mlip, FAIRChemCalculator\n",
    "from mace.calculators import mace_mp # need e3nn 0.4.4\n",
    "# from sevenn.calculator import SevenNetCalculator # need e3nn 0.5.0 later change numpy to 1.26.4\n",
    "# from mattersim.forcefield import MatterSimCalculator"
   ]
  },
  {
   "cell_type": "code",
   "execution_count": 4,
   "id": "74e66c8d-cda8-44c8-9475-c534bb9953cf",
   "metadata": {},
   "outputs": [],
   "source": [
    "import torch._dynamo\n",
    "torch._dynamo.config.suppress_errors = True"
   ]
  },
  {
   "cell_type": "code",
   "execution_count": 5,
   "id": "23513e03-e81f-4b44-944f-986893a6fb7c",
   "metadata": {},
   "outputs": [],
   "source": [
    "MODEL = \"MPALOE_MatPES\" # \"orb\" or \"uma\" or \"mace\" or \"grace\" or \"seven\" or \"mattersim\" or \"eqnorm\" or \"hienet\""
   ]
  },
  {
   "cell_type": "code",
   "execution_count": 6,
   "id": "9fa329d0-c74e-4fb3-95ed-8d38724dd532",
   "metadata": {
    "scrolled": true
   },
   "outputs": [
    {
     "name": "stdout",
     "output_type": "stream",
     "text": [
      "Using float32 for MACECalculator, which is faster but less accurate. Recommended for MD. Use float64 for geometry optimization.\n"
     ]
    },
    {
     "name": "stderr",
     "output_type": "stream",
     "text": [
      "/home/atshaam/miniconda3/envs/proj_env/lib/python3.11/site-packages/mace/calculators/mace.py:143: UserWarning: Environment variable TORCH_FORCE_NO_WEIGHTS_ONLY_LOAD detected, since the`weights_only` argument was not explicitly passed to `torch.load`, forcing weights_only=False.\n",
      "  torch.load(f=model_path, map_location=device)\n"
     ]
    },
    {
     "name": "stdout",
     "output_type": "stream",
     "text": [
      "Using head Default out of ['Default']\n"
     ]
    }
   ],
   "source": [
    "# orb_ff = pretrained.orb_v3_conservative_inf_omat(device=\"cuda\",precision=\"float32-high\")   # or \"float32-highest\" / \"float64\n",
    "# orb_calc = ORBCalculator(orb_ff, device=\"cuda\")\n",
    "\n",
    "# uma_ff = pretrained_mlip.get_predict_unit(\"uma-m-1p1\", device=\"cuda\")\n",
    "# uma_calc = FAIRChemCalculator(uma_ff, task_name=\"omat\")\n",
    "\n",
    "mace_calc = mace_mp(model=\"MPALOE_MatPES_combined.model\", dispersion=False, device='cuda')\n",
    "\n",
    "# seven_calc = SevenNetCalculator('7net-mf-ompa', modal='omat24')\n",
    "\n",
    "# mattersim_calc = MatterSimCalculator(device=\"cuda\")\n",
    "\n",
    "MODELS = {\n",
    "    # \"orb\":orb_calc,\n",
    "    # \"uma\":uma_calc,\n",
    "    \"MPALOE_MatPES\":mace_calc,\n",
    "    # \"seven\":seven_calc,\n",
    "    # \"mattersim\":mattersim_calc,\n",
    "}"
   ]
  },
  {
   "cell_type": "code",
   "execution_count": 24,
   "id": "a3d25d8c-d42a-469e-89bf-c253a3829d25",
   "metadata": {},
   "outputs": [],
   "source": [
    "# Function used to relax initial primitive cell and for competing phase calculation, full relaxation using FrechetCellFilter\n",
    "def relax_structure(structure):\n",
    "    atoms = structure.to_ase_atoms()\n",
    "    atoms.calc = MODELS[MODEL]\n",
    "\n",
    "    opt = LBFGS(FrechetCellFilter(atoms)) # Delete this FrechetCellFilter when doing the defect structures\n",
    "    opt.run(0.01, 1000)\n",
    "\n",
    "    structure1 = AseAtomsAdaptor.get_structure(atoms)\n",
    "    energy = atoms.get_potential_energy()\n",
    "\n",
    "    return structure1, energy \n",
    "    "
   ]
  },
  {
   "cell_type": "code",
   "execution_count": 25,
   "id": "11c2dc6d",
   "metadata": {},
   "outputs": [],
   "source": [
    "# Function that relaxes defect and pristine supercells, ensuring a fixed lattice by no FrechetCellFilter\n",
    "def relax_defect(structure): # takes in pymatgen structure\n",
    "    atoms = structure.to_ase_atoms()\n",
    "    atoms.calc = MODELS[MODEL]\n",
    "\n",
    "    opt = LBFGS(atoms) # Delete this FrechetCellFilter when doing the defect structures\n",
    "    opt.run(0.01, 1000)\n",
    "\n",
    "    structure1 = AseAtomsAdaptor.get_structure(atoms)\n",
    "    energy = atoms.get_potential_energy()\n",
    "\n",
    "    return structure1, energy "
   ]
  },
  {
   "cell_type": "markdown",
   "id": "d1467430-6ff5-4464-94f6-c86732e86a2c",
   "metadata": {},
   "source": [
    "## Relaxation of Primitive Al Cells"
   ]
  },
  {
   "cell_type": "code",
   "execution_count": 26,
   "id": "77a43986-40b5-4a6b-a74c-82082648d419",
   "metadata": {},
   "outputs": [],
   "source": [
    "matching_pairs = loadfn('../data/matching_AlCr_ox.json')"
   ]
  },
  {
   "cell_type": "code",
   "execution_count": 29,
   "id": "3d9d0d04-8e6d-4259-8241-110e4e09662d",
   "metadata": {
    "scrolled": true
   },
   "outputs": [
    {
     "name": "stdout",
     "output_type": "stream",
     "text": [
      "       Step     Time          Energy          fmax\n",
      "LBFGS:    0 11:43:59     -482.359070        0.290686\n",
      "LBFGS:    1 11:44:00     -482.372772        0.165730\n",
      "LBFGS:    2 11:44:01     -482.380524        0.126121\n"
     ]
    },
    {
     "name": "stderr",
     "output_type": "stream",
     "text": [
      "_util.py:1233: RuntimeWarning: logm result may be inaccurate, approximate err = 4.688220437414131e-13\n"
     ]
    },
    {
     "name": "stdout",
     "output_type": "stream",
     "text": [
      "LBFGS:    3 11:44:01     -482.386719        0.066229\n"
     ]
    },
    {
     "name": "stderr",
     "output_type": "stream",
     "text": [
      "_util.py:1233: RuntimeWarning: logm result may be inaccurate, approximate err = 4.694573690573e-13\n",
      "_util.py:1233: RuntimeWarning: logm result may be inaccurate, approximate err = 4.760477379795446e-13\n"
     ]
    },
    {
     "name": "stdout",
     "output_type": "stream",
     "text": [
      "LBFGS:    4 11:44:01     -482.388855        0.075381\n"
     ]
    },
    {
     "name": "stderr",
     "output_type": "stream",
     "text": [
      "_util.py:1233: RuntimeWarning: logm result may be inaccurate, approximate err = 4.67565031810637e-13\n"
     ]
    },
    {
     "name": "stdout",
     "output_type": "stream",
     "text": [
      "LBFGS:    5 11:44:02     -482.391510        0.059770\n"
     ]
    },
    {
     "name": "stderr",
     "output_type": "stream",
     "text": [
      "_util.py:1233: RuntimeWarning: logm result may be inaccurate, approximate err = 4.699392677276172e-13\n"
     ]
    },
    {
     "name": "stdout",
     "output_type": "stream",
     "text": [
      "LBFGS:    6 11:44:03     -482.392700        0.043693\n",
      "LBFGS:    7 11:44:04     -482.393921        0.041083\n"
     ]
    },
    {
     "name": "stderr",
     "output_type": "stream",
     "text": [
      "_util.py:1233: RuntimeWarning: logm result may be inaccurate, approximate err = 4.718219685011168e-13\n",
      "_util.py:1233: RuntimeWarning: logm result may be inaccurate, approximate err = 4.709444567703708e-13\n"
     ]
    },
    {
     "name": "stdout",
     "output_type": "stream",
     "text": [
      "LBFGS:    8 11:44:04     -482.394592        0.031585\n"
     ]
    },
    {
     "name": "stderr",
     "output_type": "stream",
     "text": [
      "_util.py:1233: RuntimeWarning: logm result may be inaccurate, approximate err = 4.721784489948309e-13\n"
     ]
    },
    {
     "name": "stdout",
     "output_type": "stream",
     "text": [
      "LBFGS:    9 11:44:05     -482.395142        0.021462\n",
      "LBFGS:   10 11:44:05     -482.395447        0.022463\n"
     ]
    },
    {
     "name": "stderr",
     "output_type": "stream",
     "text": [
      "_util.py:1233: RuntimeWarning: logm result may be inaccurate, approximate err = 4.700901769188435e-13\n",
      "_util.py:1233: RuntimeWarning: logm result may be inaccurate, approximate err = 4.712491610651785e-13\n"
     ]
    },
    {
     "name": "stdout",
     "output_type": "stream",
     "text": [
      "LBFGS:   11 11:44:06     -482.395935        0.030016\n",
      "LBFGS:   12 11:44:06     -482.396393        0.029196\n",
      "LBFGS:   13 11:44:06     -482.396698        0.024627\n"
     ]
    },
    {
     "name": "stderr",
     "output_type": "stream",
     "text": [
      "_util.py:1233: RuntimeWarning: logm result may be inaccurate, approximate err = 4.685150255221779e-13\n",
      "_util.py:1233: RuntimeWarning: logm result may be inaccurate, approximate err = 4.716000304649041e-13\n"
     ]
    },
    {
     "name": "stdout",
     "output_type": "stream",
     "text": [
      "LBFGS:   14 11:44:06     -482.397034        0.027210\n",
      "LBFGS:   15 11:44:06     -482.397247        0.024579\n"
     ]
    },
    {
     "name": "stderr",
     "output_type": "stream",
     "text": [
      "_util.py:1233: RuntimeWarning: logm result may be inaccurate, approximate err = 4.675254022940953e-13\n",
      "_util.py:1233: RuntimeWarning: logm result may be inaccurate, approximate err = 4.75759698784146e-13\n"
     ]
    },
    {
     "name": "stdout",
     "output_type": "stream",
     "text": [
      "LBFGS:   16 11:44:06     -482.397491        0.024228\n",
      "LBFGS:   17 11:44:06     -482.397675        0.022315\n"
     ]
    },
    {
     "name": "stderr",
     "output_type": "stream",
     "text": [
      "_util.py:1233: RuntimeWarning: logm result may be inaccurate, approximate err = 4.722521806959274e-13\n",
      "_util.py:1233: RuntimeWarning: logm result may be inaccurate, approximate err = 4.690715784710881e-13\n"
     ]
    },
    {
     "name": "stdout",
     "output_type": "stream",
     "text": [
      "LBFGS:   18 11:44:06     -482.397919        0.015488\n",
      "LBFGS:   19 11:44:06     -482.398041        0.013172\n"
     ]
    },
    {
     "name": "stderr",
     "output_type": "stream",
     "text": [
      "_util.py:1233: RuntimeWarning: logm result may be inaccurate, approximate err = 4.735925299856651e-13\n",
      "_util.py:1233: RuntimeWarning: logm result may be inaccurate, approximate err = 4.669073677113729e-13\n",
      "_util.py:1233: RuntimeWarning: logm result may be inaccurate, approximate err = 4.69371503497154e-13\n"
     ]
    },
    {
     "name": "stdout",
     "output_type": "stream",
     "text": [
      "LBFGS:   20 11:44:06     -482.398163        0.012880\n",
      "LBFGS:   21 11:44:07     -482.398163        0.011206\n",
      "LBFGS:   22 11:44:07     -482.398224        0.009941\n",
      "       Step     Time          Energy          fmax\n",
      "LBFGS:    0 11:44:07      -33.014183        0.051272\n"
     ]
    },
    {
     "name": "stderr",
     "output_type": "stream",
     "text": [
      "_util.py:1233: RuntimeWarning: logm result may be inaccurate, approximate err = 4.686859363091589e-13\n",
      "_util.py:1233: RuntimeWarning: logm result may be inaccurate, approximate err = 4.7129259072174e-13\n"
     ]
    },
    {
     "name": "stdout",
     "output_type": "stream",
     "text": [
      "LBFGS:    1 11:44:07      -33.014248        0.044238\n",
      "LBFGS:    2 11:44:07      -33.014359        0.022997\n",
      "LBFGS:    3 11:44:07      -33.014393        0.027825\n",
      "LBFGS:    4 11:44:07      -33.014515        0.027489\n",
      "LBFGS:    5 11:44:07      -33.014542        0.013308\n",
      "LBFGS:    6 11:44:07      -33.014549        0.004587\n",
      "       Step     Time          Energy          fmax\n",
      "LBFGS:    0 11:44:07      -53.068043        0.176878\n",
      "LBFGS:    1 11:44:07      -53.068954        0.105378\n",
      "LBFGS:    2 11:44:07      -53.069550        0.051244\n",
      "LBFGS:    3 11:44:07      -53.069653        0.049298\n",
      "LBFGS:    4 11:44:07      -53.070953        0.082077\n",
      "LBFGS:    5 11:44:07      -53.071754        0.081951\n",
      "LBFGS:    6 11:44:08      -53.072277        0.058840\n",
      "LBFGS:    7 11:44:08      -53.072495        0.067941\n",
      "LBFGS:    8 11:44:08      -53.072754        0.069501\n",
      "LBFGS:    9 11:44:08      -53.073093        0.063597\n",
      "LBFGS:   10 11:44:08      -53.073486        0.049977\n",
      "LBFGS:   11 11:44:08      -53.073776        0.044261\n",
      "LBFGS:   12 11:44:08      -53.073971        0.049692\n",
      "LBFGS:   13 11:44:08      -53.074150        0.041170\n",
      "LBFGS:   14 11:44:08      -53.074326        0.038181\n",
      "LBFGS:   15 11:44:08      -53.074425        0.022875\n",
      "LBFGS:   16 11:44:08      -53.074455        0.022632\n",
      "LBFGS:   17 11:44:08      -53.074474        0.021201\n",
      "LBFGS:   18 11:44:08      -53.074493        0.016966\n",
      "LBFGS:   19 11:44:09      -53.074524        0.018303\n",
      "LBFGS:   20 11:44:09      -53.074539        0.011635\n",
      "LBFGS:   21 11:44:09      -53.074547        0.003847\n",
      "       Step     Time          Energy          fmax\n",
      "LBFGS:    0 11:44:09     -315.037659        0.228406\n",
      "LBFGS:    1 11:44:09     -315.043182        0.211676\n",
      "LBFGS:    2 11:44:09     -315.090332        0.085067\n",
      "LBFGS:    3 11:44:09     -315.092468        0.071566\n",
      "LBFGS:    4 11:44:09     -315.094238        0.069311\n",
      "LBFGS:    5 11:44:09     -315.095764        0.062231\n",
      "LBFGS:    6 11:44:09     -315.096741        0.056340\n",
      "LBFGS:    7 11:44:10     -315.097107        0.049781\n",
      "LBFGS:    8 11:44:10     -315.097351        0.043376\n",
      "LBFGS:    9 11:44:10     -315.097717        0.035510\n",
      "LBFGS:   10 11:44:10     -315.098022        0.028778\n",
      "LBFGS:   11 11:44:10     -315.098175        0.025796\n",
      "LBFGS:   12 11:44:10     -315.098267        0.024480\n",
      "LBFGS:   13 11:44:10     -315.098328        0.021946\n",
      "LBFGS:   14 11:44:10     -315.098450        0.016372\n",
      "LBFGS:   15 11:44:10     -315.098572        0.013468\n",
      "LBFGS:   16 11:44:10     -315.098633        0.010437\n",
      "LBFGS:   17 11:44:10     -315.098633        0.010228\n",
      "LBFGS:   18 11:44:11     -315.098694        0.009489\n",
      "       Step     Time          Energy          fmax\n",
      "LBFGS:    0 11:44:11      -97.655396        0.339225\n",
      "LBFGS:    1 11:44:11      -97.660538        0.248976\n",
      "LBFGS:    2 11:44:11      -97.665939        0.112272\n",
      "LBFGS:    3 11:44:11      -97.666214        0.111854\n",
      "LBFGS:    4 11:44:11      -97.667938        0.088210\n",
      "LBFGS:    5 11:44:11      -97.668518        0.080769\n",
      "LBFGS:    6 11:44:11      -97.668961        0.045076\n",
      "LBFGS:    7 11:44:11      -97.669075        0.047898\n",
      "LBFGS:    8 11:44:11      -97.669144        0.044945\n",
      "LBFGS:    9 11:44:11      -97.669250        0.035584\n",
      "LBFGS:   10 11:44:12      -97.669388        0.034369\n",
      "LBFGS:   11 11:44:12      -97.669472        0.019593\n",
      "LBFGS:   12 11:44:12      -97.669487        0.004426\n",
      "       Step     Time          Energy          fmax\n",
      "LBFGS:    0 11:44:12     -408.776794        0.576918\n",
      "LBFGS:    1 11:44:12     -408.869385        0.402271\n",
      "LBFGS:    2 11:44:12     -408.916077        0.302317\n"
     ]
    },
    {
     "name": "stderr",
     "output_type": "stream",
     "text": [
      "_util.py:1233: RuntimeWarning: logm result may be inaccurate, approximate err = 3.284645283036464e-13\n",
      "_util.py:1233: RuntimeWarning: logm result may be inaccurate, approximate err = 3.320537801552671e-13\n"
     ]
    },
    {
     "name": "stdout",
     "output_type": "stream",
     "text": [
      "LBFGS:    3 11:44:12     -408.939819        0.260238\n"
     ]
    },
    {
     "name": "stderr",
     "output_type": "stream",
     "text": [
      "_util.py:1233: RuntimeWarning: logm result may be inaccurate, approximate err = 3.3171615884358283e-13\n",
      "_util.py:1233: RuntimeWarning: logm result may be inaccurate, approximate err = 3.311446211163715e-13\n"
     ]
    },
    {
     "name": "stdout",
     "output_type": "stream",
     "text": [
      "LBFGS:    4 11:44:12     -408.964111        0.234503\n",
      "LBFGS:    5 11:44:12     -408.982635        0.243184\n",
      "LBFGS:    6 11:44:12     -409.003601        0.222779\n"
     ]
    },
    {
     "name": "stderr",
     "output_type": "stream",
     "text": [
      "_util.py:1233: RuntimeWarning: logm result may be inaccurate, approximate err = 3.3427860830211945e-13\n",
      "_util.py:1233: RuntimeWarning: logm result may be inaccurate, approximate err = 3.326823989661148e-13\n"
     ]
    },
    {
     "name": "stdout",
     "output_type": "stream",
     "text": [
      "LBFGS:    7 11:44:13     -409.023560        0.229464\n",
      "LBFGS:    8 11:44:13     -409.042542        0.177246\n"
     ]
    },
    {
     "name": "stderr",
     "output_type": "stream",
     "text": [
      "_util.py:1233: RuntimeWarning: logm result may be inaccurate, approximate err = 3.296674392143286e-13\n",
      "_util.py:1233: RuntimeWarning: logm result may be inaccurate, approximate err = 3.3016231170765554e-13\n",
      "_util.py:1233: RuntimeWarning: logm result may be inaccurate, approximate err = 3.2564811733075543e-13\n"
     ]
    },
    {
     "name": "stdout",
     "output_type": "stream",
     "text": [
      "LBFGS:    9 11:44:13     -409.055695        0.151464\n",
      "LBFGS:   10 11:44:13     -409.064758        0.142279\n",
      "LBFGS:   11 11:44:13     -409.072174        0.128245\n"
     ]
    },
    {
     "name": "stderr",
     "output_type": "stream",
     "text": [
      "_util.py:1233: RuntimeWarning: logm result may be inaccurate, approximate err = 3.3445649599282184e-13\n",
      "_util.py:1233: RuntimeWarning: logm result may be inaccurate, approximate err = 3.3060032680457055e-13\n"
     ]
    },
    {
     "name": "stdout",
     "output_type": "stream",
     "text": [
      "LBFGS:   12 11:44:13     -409.079468        0.137551\n",
      "LBFGS:   13 11:44:13     -409.086151        0.107132\n"
     ]
    },
    {
     "name": "stderr",
     "output_type": "stream",
     "text": [
      "_util.py:1233: RuntimeWarning: logm result may be inaccurate, approximate err = 3.293593892187323e-13\n",
      "_util.py:1233: RuntimeWarning: logm result may be inaccurate, approximate err = 3.295952531046716e-13\n",
      "_util.py:1233: RuntimeWarning: logm result may be inaccurate, approximate err = 3.2684032843645414e-13\n"
     ]
    },
    {
     "name": "stdout",
     "output_type": "stream",
     "text": [
      "LBFGS:   14 11:44:13     -409.092194        0.110629\n",
      "LBFGS:   15 11:44:13     -409.098206        0.101758\n",
      "LBFGS:   16 11:44:13     -409.104614        0.115112\n"
     ]
    },
    {
     "name": "stderr",
     "output_type": "stream",
     "text": [
      "_util.py:1233: RuntimeWarning: logm result may be inaccurate, approximate err = 3.308443238437966e-13\n",
      "_util.py:1233: RuntimeWarning: logm result may be inaccurate, approximate err = 3.319477904205977e-13\n"
     ]
    },
    {
     "name": "stdout",
     "output_type": "stream",
     "text": [
      "LBFGS:   17 11:44:14     -409.110962        0.155516\n",
      "LBFGS:   18 11:44:14     -409.116638        0.140688\n"
     ]
    },
    {
     "name": "stderr",
     "output_type": "stream",
     "text": [
      "_util.py:1233: RuntimeWarning: logm result may be inaccurate, approximate err = 3.322671403117765e-13\n",
      "_util.py:1233: RuntimeWarning: logm result may be inaccurate, approximate err = 3.293755593105528e-13\n",
      "_util.py:1233: RuntimeWarning: logm result may be inaccurate, approximate err = 3.280049902017264e-13\n"
     ]
    },
    {
     "name": "stdout",
     "output_type": "stream",
     "text": [
      "LBFGS:   19 11:44:14     -409.121460        0.086830\n",
      "LBFGS:   20 11:44:14     -409.125244        0.077720\n",
      "LBFGS:   21 11:44:14     -409.128357        0.078442\n"
     ]
    },
    {
     "name": "stderr",
     "output_type": "stream",
     "text": [
      "_util.py:1233: RuntimeWarning: logm result may be inaccurate, approximate err = 3.3034591885505897e-13\n",
      "_util.py:1233: RuntimeWarning: logm result may be inaccurate, approximate err = 3.3201897569081314e-13\n",
      "_util.py:1233: RuntimeWarning: logm result may be inaccurate, approximate err = 3.2718272299204984e-13\n"
     ]
    },
    {
     "name": "stdout",
     "output_type": "stream",
     "text": [
      "LBFGS:   22 11:44:14     -409.131287        0.113668\n",
      "LBFGS:   23 11:44:14     -409.135010        0.115243\n",
      "LBFGS:   24 11:44:14     -409.139862        0.106948\n"
     ]
    },
    {
     "name": "stderr",
     "output_type": "stream",
     "text": [
      "_util.py:1233: RuntimeWarning: logm result may be inaccurate, approximate err = 3.307356322036572e-13\n",
      "_util.py:1233: RuntimeWarning: logm result may be inaccurate, approximate err = 3.286163667960941e-13\n",
      "_util.py:1233: RuntimeWarning: logm result may be inaccurate, approximate err = 3.3078892560227935e-13\n"
     ]
    },
    {
     "name": "stdout",
     "output_type": "stream",
     "text": [
      "LBFGS:   25 11:44:14     -409.145294        0.105117\n",
      "LBFGS:   26 11:44:14     -409.149963        0.089673\n",
      "LBFGS:   27 11:44:14     -409.153900        0.102578\n"
     ]
    },
    {
     "name": "stderr",
     "output_type": "stream",
     "text": [
      "_util.py:1233: RuntimeWarning: logm result may be inaccurate, approximate err = 3.248666718353975e-13\n",
      "_util.py:1233: RuntimeWarning: logm result may be inaccurate, approximate err = 3.247831187075995e-13\n",
      "_util.py:1233: RuntimeWarning: logm result may be inaccurate, approximate err = 3.237169566859115e-13\n"
     ]
    },
    {
     "name": "stdout",
     "output_type": "stream",
     "text": [
      "LBFGS:   28 11:44:15     -409.157288        0.096625\n",
      "LBFGS:   29 11:44:15     -409.160553        0.069407\n",
      "LBFGS:   30 11:44:15     -409.163055        0.071536\n"
     ]
    },
    {
     "name": "stderr",
     "output_type": "stream",
     "text": [
      "_util.py:1233: RuntimeWarning: logm result may be inaccurate, approximate err = 3.223296647370704e-13\n",
      "_util.py:1233: RuntimeWarning: logm result may be inaccurate, approximate err = 3.21911397013859e-13\n",
      "_util.py:1233: RuntimeWarning: logm result may be inaccurate, approximate err = 3.2655158230064445e-13\n"
     ]
    },
    {
     "name": "stdout",
     "output_type": "stream",
     "text": [
      "LBFGS:   31 11:44:15     -409.164673        0.051900\n",
      "LBFGS:   32 11:44:15     -409.166229        0.057096\n",
      "LBFGS:   33 11:44:15     -409.167664        0.065665\n"
     ]
    },
    {
     "name": "stderr",
     "output_type": "stream",
     "text": [
      "_util.py:1233: RuntimeWarning: logm result may be inaccurate, approximate err = 3.2589536100701963e-13\n",
      "_util.py:1233: RuntimeWarning: logm result may be inaccurate, approximate err = 3.2345738731682864e-13\n"
     ]
    },
    {
     "name": "stdout",
     "output_type": "stream",
     "text": [
      "LBFGS:   34 11:44:15     -409.168945        0.052848\n",
      "LBFGS:   35 11:44:15     -409.169891        0.044307\n"
     ]
    },
    {
     "name": "stderr",
     "output_type": "stream",
     "text": [
      "_util.py:1233: RuntimeWarning: logm result may be inaccurate, approximate err = 3.2261858514607267e-13\n",
      "_util.py:1233: RuntimeWarning: logm result may be inaccurate, approximate err = 3.197686496770165e-13\n",
      "_util.py:1233: RuntimeWarning: logm result may be inaccurate, approximate err = 3.2576270052306634e-13\n"
     ]
    },
    {
     "name": "stdout",
     "output_type": "stream",
     "text": [
      "LBFGS:   36 11:44:15     -409.170654        0.043081\n",
      "LBFGS:   37 11:44:15     -409.171265        0.043006\n",
      "LBFGS:   38 11:44:16     -409.171783        0.028816\n"
     ]
    },
    {
     "name": "stderr",
     "output_type": "stream",
     "text": [
      "_util.py:1233: RuntimeWarning: logm result may be inaccurate, approximate err = 3.3110405084849413e-13\n",
      "_util.py:1233: RuntimeWarning: logm result may be inaccurate, approximate err = 3.2862085106170535e-13\n",
      "_util.py:1233: RuntimeWarning: logm result may be inaccurate, approximate err = 3.220320315785849e-13\n"
     ]
    },
    {
     "name": "stdout",
     "output_type": "stream",
     "text": [
      "LBFGS:   39 11:44:16     -409.172180        0.030126\n",
      "LBFGS:   40 11:44:16     -409.172577        0.031801\n",
      "LBFGS:   41 11:44:16     -409.173035        0.037950\n"
     ]
    },
    {
     "name": "stderr",
     "output_type": "stream",
     "text": [
      "_util.py:1233: RuntimeWarning: logm result may be inaccurate, approximate err = 3.2732770645321044e-13\n",
      "_util.py:1233: RuntimeWarning: logm result may be inaccurate, approximate err = 3.283863672614529e-13\n"
     ]
    },
    {
     "name": "stdout",
     "output_type": "stream",
     "text": [
      "LBFGS:   42 11:44:16     -409.173584        0.035253\n",
      "LBFGS:   43 11:44:16     -409.174072        0.024407\n"
     ]
    },
    {
     "name": "stderr",
     "output_type": "stream",
     "text": [
      "_util.py:1233: RuntimeWarning: logm result may be inaccurate, approximate err = 3.223038871099903e-13\n",
      "_util.py:1233: RuntimeWarning: logm result may be inaccurate, approximate err = 3.320272395185806e-13\n"
     ]
    },
    {
     "name": "stdout",
     "output_type": "stream",
     "text": [
      "LBFGS:   44 11:44:16     -409.174377        0.021863\n",
      "LBFGS:   45 11:44:16     -409.174622        0.021647\n"
     ]
    },
    {
     "name": "stderr",
     "output_type": "stream",
     "text": [
      "_util.py:1233: RuntimeWarning: logm result may be inaccurate, approximate err = 3.217370457310346e-13\n",
      "_util.py:1233: RuntimeWarning: logm result may be inaccurate, approximate err = 3.233116247431027e-13\n",
      "_util.py:1233: RuntimeWarning: logm result may be inaccurate, approximate err = 3.2267787382800723e-13\n"
     ]
    },
    {
     "name": "stdout",
     "output_type": "stream",
     "text": [
      "LBFGS:   46 11:44:16     -409.174805        0.020903\n",
      "LBFGS:   47 11:44:17     -409.174957        0.022295\n",
      "LBFGS:   48 11:44:17     -409.175079        0.020477\n"
     ]
    },
    {
     "name": "stderr",
     "output_type": "stream",
     "text": [
      "_util.py:1233: RuntimeWarning: logm result may be inaccurate, approximate err = 3.251285186362743e-13\n",
      "_util.py:1233: RuntimeWarning: logm result may be inaccurate, approximate err = 3.267983181810209e-13\n",
      "_util.py:1233: RuntimeWarning: logm result may be inaccurate, approximate err = 3.257402875028415e-13\n"
     ]
    },
    {
     "name": "stdout",
     "output_type": "stream",
     "text": [
      "LBFGS:   49 11:44:17     -409.175201        0.019323\n",
      "LBFGS:   50 11:44:17     -409.175415        0.019186\n"
     ]
    },
    {
     "name": "stderr",
     "output_type": "stream",
     "text": [
      "_util.py:1233: RuntimeWarning: logm result may be inaccurate, approximate err = 3.3168523832482115e-13\n",
      "_util.py:1233: RuntimeWarning: logm result may be inaccurate, approximate err = 3.2357781233518206e-13\n"
     ]
    },
    {
     "name": "stdout",
     "output_type": "stream",
     "text": [
      "LBFGS:   51 11:44:17     -409.175568        0.018166\n",
      "LBFGS:   52 11:44:17     -409.175598        0.018984\n",
      "LBFGS:   53 11:44:17     -409.175812        0.017209\n"
     ]
    },
    {
     "name": "stderr",
     "output_type": "stream",
     "text": [
      "_util.py:1233: RuntimeWarning: logm result may be inaccurate, approximate err = 3.258309382664071e-13\n",
      "_util.py:1233: RuntimeWarning: logm result may be inaccurate, approximate err = 3.274041918487024e-13\n"
     ]
    },
    {
     "name": "stdout",
     "output_type": "stream",
     "text": [
      "LBFGS:   54 11:44:17     -409.175873        0.016417\n",
      "LBFGS:   55 11:44:17     -409.176025        0.015689\n"
     ]
    },
    {
     "name": "stderr",
     "output_type": "stream",
     "text": [
      "_util.py:1233: RuntimeWarning: logm result may be inaccurate, approximate err = 3.257235936099873e-13\n",
      "_util.py:1233: RuntimeWarning: logm result may be inaccurate, approximate err = 3.324100656544511e-13\n",
      "_util.py:1233: RuntimeWarning: logm result may be inaccurate, approximate err = 3.2743633830803714e-13\n"
     ]
    },
    {
     "name": "stdout",
     "output_type": "stream",
     "text": [
      "LBFGS:   56 11:44:17     -409.176117        0.015387\n",
      "LBFGS:   57 11:44:18     -409.176147        0.014743\n",
      "LBFGS:   58 11:44:18     -409.176361        0.013536\n"
     ]
    },
    {
     "name": "stderr",
     "output_type": "stream",
     "text": [
      "_util.py:1233: RuntimeWarning: logm result may be inaccurate, approximate err = 3.2564135582230843e-13\n",
      "_util.py:1233: RuntimeWarning: logm result may be inaccurate, approximate err = 3.2625045447575263e-13\n"
     ]
    },
    {
     "name": "stdout",
     "output_type": "stream",
     "text": [
      "LBFGS:   59 11:44:18     -409.176361        0.016406\n",
      "LBFGS:   60 11:44:18     -409.176453        0.016223\n"
     ]
    },
    {
     "name": "stderr",
     "output_type": "stream",
     "text": [
      "_util.py:1233: RuntimeWarning: logm result may be inaccurate, approximate err = 3.259092345925226e-13\n",
      "_util.py:1233: RuntimeWarning: logm result may be inaccurate, approximate err = 3.238913078068586e-13\n",
      "_util.py:1233: RuntimeWarning: logm result may be inaccurate, approximate err = 3.2798341702890774e-13\n"
     ]
    },
    {
     "name": "stdout",
     "output_type": "stream",
     "text": [
      "LBFGS:   61 11:44:18     -409.176697        0.014740\n",
      "LBFGS:   62 11:44:18     -409.176758        0.017005\n",
      "LBFGS:   63 11:44:18     -409.176819        0.012786\n"
     ]
    },
    {
     "name": "stderr",
     "output_type": "stream",
     "text": [
      "_util.py:1233: RuntimeWarning: logm result may be inaccurate, approximate err = 3.2644975698825506e-13\n",
      "_util.py:1233: RuntimeWarning: logm result may be inaccurate, approximate err = 3.283271470614895e-13\n",
      "_util.py:1233: RuntimeWarning: logm result may be inaccurate, approximate err = 3.2432822583372675e-13\n"
     ]
    },
    {
     "name": "stdout",
     "output_type": "stream",
     "text": [
      "LBFGS:   64 11:44:18     -409.176849        0.011608\n",
      "LBFGS:   65 11:44:18     -409.176910        0.010161\n",
      "LBFGS:   66 11:44:18     -409.176941        0.010764\n"
     ]
    },
    {
     "name": "stderr",
     "output_type": "stream",
     "text": [
      "_util.py:1233: RuntimeWarning: logm result may be inaccurate, approximate err = 3.2450725132520027e-13\n",
      "_util.py:1233: RuntimeWarning: logm result may be inaccurate, approximate err = 3.2573634297939714e-13\n",
      "_util.py:1233: RuntimeWarning: logm result may be inaccurate, approximate err = 3.2658155329339234e-13\n"
     ]
    },
    {
     "name": "stdout",
     "output_type": "stream",
     "text": [
      "LBFGS:   67 11:44:18     -409.176971        0.008735\n",
      "       Step     Time          Energy          fmax\n",
      "LBFGS:    0 11:44:19     -637.282227        0.670661\n",
      "LBFGS:    1 11:44:19     -637.349060        0.726571\n",
      "LBFGS:    2 11:44:19     -637.370422        0.211429\n"
     ]
    },
    {
     "name": "stderr",
     "output_type": "stream",
     "text": [
      "_util.py:1233: RuntimeWarning: logm result may be inaccurate, approximate err = 8.206309008500078e-13\n",
      "_util.py:1233: RuntimeWarning: logm result may be inaccurate, approximate err = 8.177086013103041e-13\n",
      "_util.py:1233: RuntimeWarning: logm result may be inaccurate, approximate err = 8.212452224477147e-13\n"
     ]
    },
    {
     "name": "stdout",
     "output_type": "stream",
     "text": [
      "LBFGS:    3 11:44:19     -637.382812        0.171397\n",
      "LBFGS:    4 11:44:19     -637.398804        0.175823\n"
     ]
    },
    {
     "name": "stderr",
     "output_type": "stream",
     "text": [
      "_util.py:1233: RuntimeWarning: logm result may be inaccurate, approximate err = 8.201314017601127e-13\n",
      "_util.py:1233: RuntimeWarning: logm result may be inaccurate, approximate err = 8.205542425198817e-13\n"
     ]
    },
    {
     "name": "stdout",
     "output_type": "stream",
     "text": [
      "LBFGS:    5 11:44:19     -637.420044        0.236577\n",
      "LBFGS:    6 11:44:19     -637.454102        0.295044\n"
     ]
    },
    {
     "name": "stderr",
     "output_type": "stream",
     "text": [
      "_util.py:1233: RuntimeWarning: logm result may be inaccurate, approximate err = 8.25768346079341e-13\n",
      "_util.py:1233: RuntimeWarning: logm result may be inaccurate, approximate err = 8.176503435854646e-13\n"
     ]
    },
    {
     "name": "stdout",
     "output_type": "stream",
     "text": [
      "LBFGS:    7 11:44:19     -637.504028        0.269736\n",
      "LBFGS:    8 11:44:19     -637.546265        0.284620\n",
      "LBFGS:    9 11:44:20     -637.568176        0.181556\n"
     ]
    },
    {
     "name": "stderr",
     "output_type": "stream",
     "text": [
      "_util.py:1233: RuntimeWarning: logm result may be inaccurate, approximate err = 8.201906956325363e-13\n",
      "_util.py:1233: RuntimeWarning: logm result may be inaccurate, approximate err = 8.173373840675351e-13\n"
     ]
    },
    {
     "name": "stdout",
     "output_type": "stream",
     "text": [
      "LBFGS:   10 11:44:20     -637.575928        0.143771\n",
      "LBFGS:   11 11:44:20     -637.583130        0.142008\n"
     ]
    },
    {
     "name": "stderr",
     "output_type": "stream",
     "text": [
      "_util.py:1233: RuntimeWarning: logm result may be inaccurate, approximate err = 8.174419183984045e-13\n",
      "_util.py:1233: RuntimeWarning: logm result may be inaccurate, approximate err = 8.150904833749571e-13\n",
      "_util.py:1233: RuntimeWarning: logm result may be inaccurate, approximate err = 8.15981662869922e-13\n"
     ]
    },
    {
     "name": "stdout",
     "output_type": "stream",
     "text": [
      "LBFGS:   12 11:44:20     -637.596558        0.222421\n",
      "LBFGS:   13 11:44:20     -637.615845        0.391993\n"
     ]
    },
    {
     "name": "stderr",
     "output_type": "stream",
     "text": [
      "_util.py:1233: RuntimeWarning: logm result may be inaccurate, approximate err = 8.160685103595771e-13\n",
      "_util.py:1233: RuntimeWarning: logm result may be inaccurate, approximate err = 8.211220614874885e-13\n"
     ]
    },
    {
     "name": "stdout",
     "output_type": "stream",
     "text": [
      "LBFGS:   14 11:44:20     -637.644531        0.500186\n",
      "LBFGS:   15 11:44:20     -637.679138        0.460802\n"
     ]
    },
    {
     "name": "stderr",
     "output_type": "stream",
     "text": [
      "_util.py:1233: RuntimeWarning: logm result may be inaccurate, approximate err = 8.187463815958724e-13\n",
      "_util.py:1233: RuntimeWarning: logm result may be inaccurate, approximate err = 8.128880974860109e-13\n"
     ]
    },
    {
     "name": "stdout",
     "output_type": "stream",
     "text": [
      "LBFGS:   16 11:44:20     -637.709961        0.256983\n",
      "LBFGS:   17 11:44:20     -637.728271        0.227049\n",
      "LBFGS:   18 11:44:21     -637.737183        0.163552\n"
     ]
    },
    {
     "name": "stderr",
     "output_type": "stream",
     "text": [
      "_util.py:1233: RuntimeWarning: logm result may be inaccurate, approximate err = 8.120676278848662e-13\n",
      "_util.py:1233: RuntimeWarning: logm result may be inaccurate, approximate err = 8.135835776073218e-13\n"
     ]
    },
    {
     "name": "stdout",
     "output_type": "stream",
     "text": [
      "LBFGS:   19 11:44:21     -637.745117        0.192487\n",
      "LBFGS:   20 11:44:21     -637.759644        0.221466\n"
     ]
    },
    {
     "name": "stderr",
     "output_type": "stream",
     "text": [
      "_util.py:1233: RuntimeWarning: logm result may be inaccurate, approximate err = 8.048585665689973e-13\n",
      "_util.py:1233: RuntimeWarning: logm result may be inaccurate, approximate err = 8.079867430547554e-13\n",
      "_util.py:1233: RuntimeWarning: logm result may be inaccurate, approximate err = 8.079836956226853e-13\n"
     ]
    },
    {
     "name": "stdout",
     "output_type": "stream",
     "text": [
      "LBFGS:   21 11:44:21     -637.785828        0.206925\n",
      "LBFGS:   22 11:44:21     -637.826233        0.240933\n",
      "LBFGS:   23 11:44:21     -637.870667        0.225573\n"
     ]
    },
    {
     "name": "stderr",
     "output_type": "stream",
     "text": [
      "_util.py:1233: RuntimeWarning: logm result may be inaccurate, approximate err = 8.068636181252814e-13\n",
      "_util.py:1233: RuntimeWarning: logm result may be inaccurate, approximate err = 8.044364190440102e-13\n"
     ]
    },
    {
     "name": "stdout",
     "output_type": "stream",
     "text": [
      "LBFGS:   24 11:44:21     -637.900513        0.159043\n",
      "LBFGS:   25 11:44:21     -637.914185        0.127324\n"
     ]
    },
    {
     "name": "stderr",
     "output_type": "stream",
     "text": [
      "_util.py:1233: RuntimeWarning: logm result may be inaccurate, approximate err = 7.939203975004243e-13\n",
      "_util.py:1233: RuntimeWarning: logm result may be inaccurate, approximate err = 7.9493820508426e-13\n"
     ]
    },
    {
     "name": "stdout",
     "output_type": "stream",
     "text": [
      "LBFGS:   26 11:44:21     -637.922119        0.131526\n",
      "LBFGS:   27 11:44:21     -637.934082        0.154541\n"
     ]
    },
    {
     "name": "stderr",
     "output_type": "stream",
     "text": [
      "_util.py:1233: RuntimeWarning: logm result may be inaccurate, approximate err = 7.966976928603582e-13\n",
      "_util.py:1233: RuntimeWarning: logm result may be inaccurate, approximate err = 8.0250854603603e-13\n",
      "_util.py:1233: RuntimeWarning: logm result may be inaccurate, approximate err = 7.975088855151804e-13\n"
     ]
    },
    {
     "name": "stdout",
     "output_type": "stream",
     "text": [
      "LBFGS:   28 11:44:22     -637.954224        0.223104\n",
      "LBFGS:   29 11:44:22     -637.981567        0.239266\n",
      "LBFGS:   30 11:44:22     -638.004578        0.280020\n"
     ]
    },
    {
     "name": "stderr",
     "output_type": "stream",
     "text": [
      "_util.py:1233: RuntimeWarning: logm result may be inaccurate, approximate err = 7.980392145748827e-13\n",
      "_util.py:1233: RuntimeWarning: logm result may be inaccurate, approximate err = 7.913357400032544e-13\n",
      "_util.py:1233: RuntimeWarning: logm result may be inaccurate, approximate err = 7.902873121797127e-13\n"
     ]
    },
    {
     "name": "stdout",
     "output_type": "stream",
     "text": [
      "LBFGS:   31 11:44:22     -638.016113        0.210058\n",
      "LBFGS:   32 11:44:22     -638.021790        0.143632\n",
      "LBFGS:   33 11:44:22     -638.028259        0.149492\n"
     ]
    },
    {
     "name": "stderr",
     "output_type": "stream",
     "text": [
      "_util.py:1233: RuntimeWarning: logm result may be inaccurate, approximate err = 7.923861228203261e-13\n",
      "_util.py:1233: RuntimeWarning: logm result may be inaccurate, approximate err = 7.920263181185794e-13\n",
      "_util.py:1233: RuntimeWarning: logm result may be inaccurate, approximate err = 7.808630510086201e-13\n"
     ]
    },
    {
     "name": "stdout",
     "output_type": "stream",
     "text": [
      "LBFGS:   34 11:44:22     -638.040344        0.206903\n",
      "LBFGS:   35 11:44:22     -638.056091        0.200905\n"
     ]
    },
    {
     "name": "stderr",
     "output_type": "stream",
     "text": [
      "_util.py:1233: RuntimeWarning: logm result may be inaccurate, approximate err = 7.907108656934835e-13\n",
      "_util.py:1233: RuntimeWarning: logm result may be inaccurate, approximate err = 7.938174746649073e-13\n"
     ]
    },
    {
     "name": "stdout",
     "output_type": "stream",
     "text": [
      "LBFGS:   36 11:44:22     -638.069580        0.113294\n",
      "LBFGS:   37 11:44:22     -638.075806        0.087462\n",
      "LBFGS:   38 11:44:23     -638.078369        0.064876\n"
     ]
    },
    {
     "name": "stderr",
     "output_type": "stream",
     "text": [
      "_util.py:1233: RuntimeWarning: logm result may be inaccurate, approximate err = 7.851025556103164e-13\n",
      "_util.py:1233: RuntimeWarning: logm result may be inaccurate, approximate err = 7.747794753505835e-13\n"
     ]
    },
    {
     "name": "stdout",
     "output_type": "stream",
     "text": [
      "LBFGS:   39 11:44:23     -638.080688        0.078644\n",
      "LBFGS:   40 11:44:23     -638.084778        0.102282\n"
     ]
    },
    {
     "name": "stderr",
     "output_type": "stream",
     "text": [
      "_util.py:1233: RuntimeWarning: logm result may be inaccurate, approximate err = 7.756354466756781e-13\n",
      "_util.py:1233: RuntimeWarning: logm result may be inaccurate, approximate err = 7.805457544717642e-13\n",
      "_util.py:1233: RuntimeWarning: logm result may be inaccurate, approximate err = 7.863868212030503e-13\n"
     ]
    },
    {
     "name": "stdout",
     "output_type": "stream",
     "text": [
      "LBFGS:   41 11:44:23     -638.091431        0.122887\n",
      "LBFGS:   42 11:44:23     -638.098633        0.120788\n",
      "LBFGS:   43 11:44:23     -638.102661        0.064669\n"
     ]
    },
    {
     "name": "stderr",
     "output_type": "stream",
     "text": [
      "_util.py:1233: RuntimeWarning: logm result may be inaccurate, approximate err = 7.767279327795221e-13\n",
      "_util.py:1233: RuntimeWarning: logm result may be inaccurate, approximate err = 7.85445901826257e-13\n"
     ]
    },
    {
     "name": "stdout",
     "output_type": "stream",
     "text": [
      "LBFGS:   44 11:44:23     -638.104065        0.047680\n",
      "LBFGS:   45 11:44:23     -638.104858        0.041743\n"
     ]
    },
    {
     "name": "stderr",
     "output_type": "stream",
     "text": [
      "_util.py:1233: RuntimeWarning: logm result may be inaccurate, approximate err = 7.763095604194178e-13\n",
      "_util.py:1233: RuntimeWarning: logm result may be inaccurate, approximate err = 7.789985861784008e-13\n"
     ]
    },
    {
     "name": "stdout",
     "output_type": "stream",
     "text": [
      "LBFGS:   46 11:44:23     -638.106445        0.058899\n",
      "LBFGS:   47 11:44:23     -638.109314        0.093245\n"
     ]
    },
    {
     "name": "stderr",
     "output_type": "stream",
     "text": [
      "_util.py:1233: RuntimeWarning: logm result may be inaccurate, approximate err = 7.844183670708844e-13\n",
      "_util.py:1233: RuntimeWarning: logm result may be inaccurate, approximate err = 7.750457613308805e-13\n"
     ]
    },
    {
     "name": "stdout",
     "output_type": "stream",
     "text": [
      "LBFGS:   48 11:44:24     -638.113281        0.103166\n"
     ]
    },
    {
     "name": "stderr",
     "output_type": "stream",
     "text": [
      "_util.py:1233: RuntimeWarning: logm result may be inaccurate, approximate err = 7.797197987645228e-13\n",
      "_util.py:1233: RuntimeWarning: logm result may be inaccurate, approximate err = 7.803511195284195e-13\n"
     ]
    },
    {
     "name": "stdout",
     "output_type": "stream",
     "text": [
      "LBFGS:   49 11:44:24     -638.116699        0.067602\n",
      "LBFGS:   50 11:44:24     -638.118042        0.048088\n",
      "LBFGS:   51 11:44:24     -638.118652        0.031443\n"
     ]
    },
    {
     "name": "stderr",
     "output_type": "stream",
     "text": [
      "_util.py:1233: RuntimeWarning: logm result may be inaccurate, approximate err = 7.786023284018721e-13\n",
      "_util.py:1233: RuntimeWarning: logm result may be inaccurate, approximate err = 7.780465899016244e-13\n"
     ]
    },
    {
     "name": "stdout",
     "output_type": "stream",
     "text": [
      "LBFGS:   52 11:44:24     -638.119141        0.025478\n"
     ]
    },
    {
     "name": "stderr",
     "output_type": "stream",
     "text": [
      "_util.py:1233: RuntimeWarning: logm result may be inaccurate, approximate err = 7.751079870886914e-13\n",
      "_util.py:1233: RuntimeWarning: logm result may be inaccurate, approximate err = 7.807955472686011e-13\n"
     ]
    },
    {
     "name": "stdout",
     "output_type": "stream",
     "text": [
      "LBFGS:   53 11:44:24     -638.119873        0.031623\n",
      "LBFGS:   54 11:44:24     -638.120850        0.069155\n"
     ]
    },
    {
     "name": "stderr",
     "output_type": "stream",
     "text": [
      "_util.py:1233: RuntimeWarning: logm result may be inaccurate, approximate err = 7.818542788133869e-13\n",
      "_util.py:1233: RuntimeWarning: logm result may be inaccurate, approximate err = 7.84594565112145e-13\n"
     ]
    },
    {
     "name": "stdout",
     "output_type": "stream",
     "text": [
      "LBFGS:   55 11:44:24     -638.121948        0.099240\n",
      "LBFGS:   56 11:44:24     -638.122986        0.100220\n",
      "LBFGS:   57 11:44:25     -638.123840        0.076673\n"
     ]
    },
    {
     "name": "stderr",
     "output_type": "stream",
     "text": [
      "_util.py:1233: RuntimeWarning: logm result may be inaccurate, approximate err = 7.826692641588692e-13\n",
      "_util.py:1233: RuntimeWarning: logm result may be inaccurate, approximate err = 7.735309413870194e-13\n"
     ]
    },
    {
     "name": "stdout",
     "output_type": "stream",
     "text": [
      "LBFGS:   58 11:44:25     -638.124878        0.034902\n",
      "LBFGS:   59 11:44:25     -638.125488        0.028316\n"
     ]
    },
    {
     "name": "stderr",
     "output_type": "stream",
     "text": [
      "_util.py:1233: RuntimeWarning: logm result may be inaccurate, approximate err = 7.805587756473179e-13\n",
      "_util.py:1233: RuntimeWarning: logm result may be inaccurate, approximate err = 7.76906861372931e-13\n",
      "_util.py:1233: RuntimeWarning: logm result may be inaccurate, approximate err = 7.828460522380056e-13\n"
     ]
    },
    {
     "name": "stdout",
     "output_type": "stream",
     "text": [
      "LBFGS:   60 11:44:25     -638.125916        0.035309\n",
      "LBFGS:   61 11:44:25     -638.126221        0.039894\n",
      "LBFGS:   62 11:44:25     -638.126892        0.044666\n"
     ]
    },
    {
     "name": "stderr",
     "output_type": "stream",
     "text": [
      "_util.py:1233: RuntimeWarning: logm result may be inaccurate, approximate err = 7.733392807223208e-13\n",
      "_util.py:1233: RuntimeWarning: logm result may be inaccurate, approximate err = 7.780663438418033e-13\n",
      "_util.py:1233: RuntimeWarning: logm result may be inaccurate, approximate err = 7.799543017169006e-13\n"
     ]
    },
    {
     "name": "stdout",
     "output_type": "stream",
     "text": [
      "LBFGS:   63 11:44:25     -638.128296        0.060054\n",
      "LBFGS:   64 11:44:25     -638.131348        0.097361\n",
      "LBFGS:   65 11:44:25     -638.136597        0.152609\n"
     ]
    },
    {
     "name": "stderr",
     "output_type": "stream",
     "text": [
      "_util.py:1233: RuntimeWarning: logm result may be inaccurate, approximate err = 7.784930946797561e-13\n",
      "_util.py:1233: RuntimeWarning: logm result may be inaccurate, approximate err = 7.778870050236928e-13\n",
      "_util.py:1233: RuntimeWarning: logm result may be inaccurate, approximate err = 7.81124935296535e-13\n"
     ]
    },
    {
     "name": "stdout",
     "output_type": "stream",
     "text": [
      "LBFGS:   66 11:44:25     -638.143555        0.189328\n",
      "LBFGS:   67 11:44:26     -638.152100        0.176900\n"
     ]
    },
    {
     "name": "stderr",
     "output_type": "stream",
     "text": [
      "_util.py:1233: RuntimeWarning: logm result may be inaccurate, approximate err = 7.776991925031277e-13\n",
      "_util.py:1233: RuntimeWarning: logm result may be inaccurate, approximate err = 7.863670120920704e-13\n"
     ]
    },
    {
     "name": "stdout",
     "output_type": "stream",
     "text": [
      "LBFGS:   68 11:44:26     -638.157715        0.120397\n",
      "LBFGS:   69 11:44:26     -638.159302        0.101102\n"
     ]
    },
    {
     "name": "stderr",
     "output_type": "stream",
     "text": [
      "_util.py:1233: RuntimeWarning: logm result may be inaccurate, approximate err = 7.861646625122702e-13\n",
      "_util.py:1233: RuntimeWarning: logm result may be inaccurate, approximate err = 7.721164755442578e-13\n"
     ]
    },
    {
     "name": "stdout",
     "output_type": "stream",
     "text": [
      "LBFGS:   70 11:44:26     -638.161438        0.070495\n",
      "LBFGS:   71 11:44:26     -638.162720        0.055322\n"
     ]
    },
    {
     "name": "stderr",
     "output_type": "stream",
     "text": [
      "_util.py:1233: RuntimeWarning: logm result may be inaccurate, approximate err = 7.790076458793031e-13\n",
      "_util.py:1233: RuntimeWarning: logm result may be inaccurate, approximate err = 7.796883131894435e-13\n"
     ]
    },
    {
     "name": "stdout",
     "output_type": "stream",
     "text": [
      "LBFGS:   72 11:44:26     -638.164917        0.050373\n",
      "LBFGS:   73 11:44:26     -638.166382        0.084027\n",
      "LBFGS:   74 11:44:26     -638.170410        0.143122\n"
     ]
    },
    {
     "name": "stderr",
     "output_type": "stream",
     "text": [
      "_util.py:1233: RuntimeWarning: logm result may be inaccurate, approximate err = 7.751407333272436e-13\n",
      "_util.py:1233: RuntimeWarning: logm result may be inaccurate, approximate err = 7.773260078094186e-13\n"
     ]
    },
    {
     "name": "stdout",
     "output_type": "stream",
     "text": [
      "LBFGS:   75 11:44:27     -638.174194        0.164353\n"
     ]
    },
    {
     "name": "stderr",
     "output_type": "stream",
     "text": [
      "_util.py:1233: RuntimeWarning: logm result may be inaccurate, approximate err = 7.808023840536771e-13\n",
      "_util.py:1233: RuntimeWarning: logm result may be inaccurate, approximate err = 7.721648299547728e-13\n"
     ]
    },
    {
     "name": "stdout",
     "output_type": "stream",
     "text": [
      "LBFGS:   76 11:44:27     -638.178040        0.145554\n",
      "LBFGS:   77 11:44:27     -638.178955        0.198030\n",
      "LBFGS:   78 11:44:27     -638.182007        0.072363\n"
     ]
    },
    {
     "name": "stderr",
     "output_type": "stream",
     "text": [
      "_util.py:1233: RuntimeWarning: logm result may be inaccurate, approximate err = 7.789969646430255e-13\n",
      "_util.py:1233: RuntimeWarning: logm result may be inaccurate, approximate err = 7.821013520502235e-13\n",
      "_util.py:1233: RuntimeWarning: logm result may be inaccurate, approximate err = 7.929813335790269e-13\n"
     ]
    },
    {
     "name": "stdout",
     "output_type": "stream",
     "text": [
      "LBFGS:   79 11:44:27     -638.182861        0.053165\n",
      "LBFGS:   80 11:44:27     -638.183350        0.029842\n",
      "LBFGS:   81 11:44:27     -638.184143        0.055203\n"
     ]
    },
    {
     "name": "stderr",
     "output_type": "stream",
     "text": [
      "_util.py:1233: RuntimeWarning: logm result may be inaccurate, approximate err = 7.763591917835143e-13\n",
      "_util.py:1233: RuntimeWarning: logm result may be inaccurate, approximate err = 7.800938482645344e-13\n",
      "_util.py:1233: RuntimeWarning: logm result may be inaccurate, approximate err = 7.7807598832319e-13\n"
     ]
    },
    {
     "name": "stdout",
     "output_type": "stream",
     "text": [
      "LBFGS:   82 11:44:27     -638.185608        0.076816\n",
      "LBFGS:   83 11:44:27     -638.188354        0.084302\n",
      "LBFGS:   84 11:44:27     -638.192261        0.067201\n"
     ]
    },
    {
     "name": "stderr",
     "output_type": "stream",
     "text": [
      "_util.py:1233: RuntimeWarning: logm result may be inaccurate, approximate err = 7.794483479106679e-13\n",
      "_util.py:1233: RuntimeWarning: logm result may be inaccurate, approximate err = 7.76144320510794e-13\n",
      "_util.py:1233: RuntimeWarning: logm result may be inaccurate, approximate err = 7.717495269052834e-13\n"
     ]
    },
    {
     "name": "stdout",
     "output_type": "stream",
     "text": [
      "LBFGS:   85 11:44:28     -638.195923        0.114336\n",
      "LBFGS:   86 11:44:28     -638.198730        0.122080\n"
     ]
    },
    {
     "name": "stderr",
     "output_type": "stream",
     "text": [
      "_util.py:1233: RuntimeWarning: logm result may be inaccurate, approximate err = 7.793632057030219e-13\n",
      "_util.py:1233: RuntimeWarning: logm result may be inaccurate, approximate err = 7.786229805442749e-13\n"
     ]
    },
    {
     "name": "stdout",
     "output_type": "stream",
     "text": [
      "LBFGS:   87 11:44:28     -638.201050        0.107334\n",
      "LBFGS:   88 11:44:28     -638.203735        0.099062\n",
      "LBFGS:   89 11:44:28     -638.207397        0.075677\n"
     ]
    },
    {
     "name": "stderr",
     "output_type": "stream",
     "text": [
      "_util.py:1233: RuntimeWarning: logm result may be inaccurate, approximate err = 7.718126092243925e-13\n",
      "_util.py:1233: RuntimeWarning: logm result may be inaccurate, approximate err = 7.816171529696896e-13\n"
     ]
    },
    {
     "name": "stdout",
     "output_type": "stream",
     "text": [
      "LBFGS:   90 11:44:28     -638.210876        0.065412\n"
     ]
    },
    {
     "name": "stderr",
     "output_type": "stream",
     "text": [
      "_util.py:1233: RuntimeWarning: logm result may be inaccurate, approximate err = 7.86623052337966e-13\n",
      "_util.py:1233: RuntimeWarning: logm result may be inaccurate, approximate err = 7.787872252260531e-13\n"
     ]
    },
    {
     "name": "stdout",
     "output_type": "stream",
     "text": [
      "LBFGS:   91 11:44:28     -638.212646        0.151320\n",
      "LBFGS:   92 11:44:29     -638.212280        0.103349\n"
     ]
    },
    {
     "name": "stderr",
     "output_type": "stream",
     "text": [
      "_util.py:1233: RuntimeWarning: logm result may be inaccurate, approximate err = 7.783660549299853e-13\n",
      "_util.py:1233: RuntimeWarning: logm result may be inaccurate, approximate err = 7.879877883304821e-13\n"
     ]
    },
    {
     "name": "stdout",
     "output_type": "stream",
     "text": [
      "LBFGS:   93 11:44:29     -638.215088        0.070140\n",
      "LBFGS:   94 11:44:29     -638.216003        0.071226\n"
     ]
    },
    {
     "name": "stderr",
     "output_type": "stream",
     "text": [
      "_util.py:1233: RuntimeWarning: logm result may be inaccurate, approximate err = 7.751191781810612e-13\n",
      "_util.py:1233: RuntimeWarning: logm result may be inaccurate, approximate err = 7.802506735018988e-13\n"
     ]
    },
    {
     "name": "stdout",
     "output_type": "stream",
     "text": [
      "LBFGS:   95 11:44:29     -638.221985        0.106947\n",
      "LBFGS:   96 11:44:29     -638.225220        0.140469\n"
     ]
    },
    {
     "name": "stderr",
     "output_type": "stream",
     "text": [
      "_util.py:1233: RuntimeWarning: logm result may be inaccurate, approximate err = 7.723189301941223e-13\n",
      "_util.py:1233: RuntimeWarning: logm result may be inaccurate, approximate err = 7.823300185375316e-13\n"
     ]
    },
    {
     "name": "stdout",
     "output_type": "stream",
     "text": [
      "LBFGS:   97 11:44:29     -638.231628        0.167037\n",
      "LBFGS:   98 11:44:29     -638.235962        0.130833\n"
     ]
    },
    {
     "name": "stderr",
     "output_type": "stream",
     "text": [
      "_util.py:1233: RuntimeWarning: logm result may be inaccurate, approximate err = 7.779985170946846e-13\n",
      "_util.py:1233: RuntimeWarning: logm result may be inaccurate, approximate err = 7.785096288546163e-13\n"
     ]
    },
    {
     "name": "stdout",
     "output_type": "stream",
     "text": [
      "LBFGS:   99 11:44:29     -638.238770        0.063231\n",
      "LBFGS:  100 11:44:29     -638.240356        0.054297\n",
      "LBFGS:  101 11:44:30     -638.242188        0.059028\n"
     ]
    },
    {
     "name": "stderr",
     "output_type": "stream",
     "text": [
      "_util.py:1233: RuntimeWarning: logm result may be inaccurate, approximate err = 7.833513097745708e-13\n",
      "_util.py:1233: RuntimeWarning: logm result may be inaccurate, approximate err = 7.770966977263872e-13\n"
     ]
    },
    {
     "name": "stdout",
     "output_type": "stream",
     "text": [
      "LBFGS:  102 11:44:30     -638.244873        0.115860\n"
     ]
    },
    {
     "name": "stderr",
     "output_type": "stream",
     "text": [
      "_util.py:1233: RuntimeWarning: logm result may be inaccurate, approximate err = 7.79176923233348e-13\n",
      "_util.py:1233: RuntimeWarning: logm result may be inaccurate, approximate err = 7.817313726170401e-13\n"
     ]
    },
    {
     "name": "stdout",
     "output_type": "stream",
     "text": [
      "LBFGS:  103 11:44:30     -638.248901        0.172549\n",
      "LBFGS:  104 11:44:30     -638.255005        0.209244\n"
     ]
    },
    {
     "name": "stderr",
     "output_type": "stream",
     "text": [
      "_util.py:1233: RuntimeWarning: logm result may be inaccurate, approximate err = 7.825418311619503e-13\n",
      "_util.py:1233: RuntimeWarning: logm result may be inaccurate, approximate err = 7.83373590130631e-13\n"
     ]
    },
    {
     "name": "stdout",
     "output_type": "stream",
     "text": [
      "LBFGS:  105 11:44:30     -638.264404        0.209904\n",
      "LBFGS:  106 11:44:30     -638.275879        0.151529\n",
      "LBFGS:  107 11:44:30     -638.285706        0.119246\n"
     ]
    },
    {
     "name": "stderr",
     "output_type": "stream",
     "text": [
      "_util.py:1233: RuntimeWarning: logm result may be inaccurate, approximate err = 7.780466367111177e-13\n",
      "_util.py:1233: RuntimeWarning: logm result may be inaccurate, approximate err = 7.757124437099824e-13\n"
     ]
    },
    {
     "name": "stdout",
     "output_type": "stream",
     "text": [
      "LBFGS:  108 11:44:30     -638.289429        0.117661\n",
      "LBFGS:  109 11:44:30     -638.286560        0.322085\n"
     ]
    },
    {
     "name": "stderr",
     "output_type": "stream",
     "text": [
      "_util.py:1233: RuntimeWarning: logm result may be inaccurate, approximate err = 7.830603631907859e-13\n",
      "_util.py:1233: RuntimeWarning: logm result may be inaccurate, approximate err = 7.781214665819974e-13\n"
     ]
    },
    {
     "name": "stdout",
     "output_type": "stream",
     "text": [
      "LBFGS:  110 11:44:31     -638.292969        0.103064\n",
      "LBFGS:  111 11:44:31     -638.294800        0.083441\n"
     ]
    },
    {
     "name": "stderr",
     "output_type": "stream",
     "text": [
      "_util.py:1233: RuntimeWarning: logm result may be inaccurate, approximate err = 7.696653623932406e-13\n",
      "_util.py:1233: RuntimeWarning: logm result may be inaccurate, approximate err = 7.757030856056052e-13\n"
     ]
    },
    {
     "name": "stdout",
     "output_type": "stream",
     "text": [
      "LBFGS:  112 11:44:31     -638.297913        0.078882\n",
      "LBFGS:  113 11:44:31     -638.304565        0.086647\n"
     ]
    },
    {
     "name": "stderr",
     "output_type": "stream",
     "text": [
      "_util.py:1233: RuntimeWarning: logm result may be inaccurate, approximate err = 7.788981842284746e-13\n",
      "_util.py:1233: RuntimeWarning: logm result may be inaccurate, approximate err = 7.775799831186e-13\n"
     ]
    },
    {
     "name": "stdout",
     "output_type": "stream",
     "text": [
      "LBFGS:  114 11:44:31     -638.306030        0.071994\n"
     ]
    },
    {
     "name": "stderr",
     "output_type": "stream",
     "text": [
      "_util.py:1233: RuntimeWarning: logm result may be inaccurate, approximate err = 7.777216378986497e-13\n",
      "_util.py:1233: RuntimeWarning: logm result may be inaccurate, approximate err = 7.751437656843978e-13\n"
     ]
    },
    {
     "name": "stdout",
     "output_type": "stream",
     "text": [
      "LBFGS:  115 11:44:31     -638.307312        0.057670\n",
      "LBFGS:  116 11:44:31     -638.308228        0.055895\n",
      "LBFGS:  117 11:44:31     -638.308716        0.047089\n"
     ]
    },
    {
     "name": "stderr",
     "output_type": "stream",
     "text": [
      "_util.py:1233: RuntimeWarning: logm result may be inaccurate, approximate err = 7.727328141907614e-13\n",
      "_util.py:1233: RuntimeWarning: logm result may be inaccurate, approximate err = 7.772163723769907e-13\n",
      "_util.py:1233: RuntimeWarning: logm result may be inaccurate, approximate err = 7.754077998932574e-13\n"
     ]
    },
    {
     "name": "stdout",
     "output_type": "stream",
     "text": [
      "LBFGS:  118 11:44:31     -638.309570        0.049511\n",
      "LBFGS:  119 11:44:32     -638.309814        0.039944\n"
     ]
    },
    {
     "name": "stderr",
     "output_type": "stream",
     "text": [
      "_util.py:1233: RuntimeWarning: logm result may be inaccurate, approximate err = 7.711074107810316e-13\n",
      "_util.py:1233: RuntimeWarning: logm result may be inaccurate, approximate err = 7.719037952671872e-13\n"
     ]
    },
    {
     "name": "stdout",
     "output_type": "stream",
     "text": [
      "LBFGS:  120 11:44:32     -638.310303        0.039428\n",
      "LBFGS:  121 11:44:32     -638.310547        0.038515\n"
     ]
    },
    {
     "name": "stderr",
     "output_type": "stream",
     "text": [
      "_util.py:1233: RuntimeWarning: logm result may be inaccurate, approximate err = 7.799121257646619e-13\n",
      "_util.py:1233: RuntimeWarning: logm result may be inaccurate, approximate err = 7.72362160166442e-13\n"
     ]
    },
    {
     "name": "stdout",
     "output_type": "stream",
     "text": [
      "LBFGS:  122 11:44:32     -638.311035        0.042679\n",
      "LBFGS:  123 11:44:32     -638.311768        0.044112\n"
     ]
    },
    {
     "name": "stderr",
     "output_type": "stream",
     "text": [
      "_util.py:1233: RuntimeWarning: logm result may be inaccurate, approximate err = 7.809444894560491e-13\n",
      "_util.py:1233: RuntimeWarning: logm result may be inaccurate, approximate err = 7.802284747693758e-13\n"
     ]
    },
    {
     "name": "stdout",
     "output_type": "stream",
     "text": [
      "LBFGS:  124 11:44:32     -638.312500        0.045313\n",
      "LBFGS:  125 11:44:32     -638.313232        0.050081\n",
      "LBFGS:  126 11:44:32     -638.313965        0.042614\n"
     ]
    },
    {
     "name": "stderr",
     "output_type": "stream",
     "text": [
      "_util.py:1233: RuntimeWarning: logm result may be inaccurate, approximate err = 7.824249005245961e-13\n",
      "_util.py:1233: RuntimeWarning: logm result may be inaccurate, approximate err = 7.845067015552106e-13\n",
      "_util.py:1233: RuntimeWarning: logm result may be inaccurate, approximate err = 7.830070927767711e-13\n"
     ]
    },
    {
     "name": "stdout",
     "output_type": "stream",
     "text": [
      "LBFGS:  127 11:44:33     -638.314575        0.042822\n",
      "LBFGS:  128 11:44:33     -638.315247        0.042167\n"
     ]
    },
    {
     "name": "stderr",
     "output_type": "stream",
     "text": [
      "_util.py:1233: RuntimeWarning: logm result may be inaccurate, approximate err = 7.771123053396494e-13\n",
      "_util.py:1233: RuntimeWarning: logm result may be inaccurate, approximate err = 7.832235042860952e-13\n"
     ]
    },
    {
     "name": "stdout",
     "output_type": "stream",
     "text": [
      "LBFGS:  129 11:44:33     -638.315918        0.043483\n",
      "LBFGS:  130 11:44:33     -638.316772        0.045796\n"
     ]
    },
    {
     "name": "stderr",
     "output_type": "stream",
     "text": [
      "_util.py:1233: RuntimeWarning: logm result may be inaccurate, approximate err = 7.767000235317e-13\n",
      "_util.py:1233: RuntimeWarning: logm result may be inaccurate, approximate err = 7.832202810910815e-13\n"
     ]
    },
    {
     "name": "stdout",
     "output_type": "stream",
     "text": [
      "LBFGS:  131 11:44:33     -638.317505        0.054501\n",
      "LBFGS:  132 11:44:33     -638.318787        0.061774\n",
      "LBFGS:  133 11:44:33     -638.320312        0.066602\n"
     ]
    },
    {
     "name": "stderr",
     "output_type": "stream",
     "text": [
      "_util.py:1233: RuntimeWarning: logm result may be inaccurate, approximate err = 7.751860954305765e-13\n",
      "_util.py:1233: RuntimeWarning: logm result may be inaccurate, approximate err = 7.785407100174758e-13\n"
     ]
    },
    {
     "name": "stdout",
     "output_type": "stream",
     "text": [
      "LBFGS:  134 11:44:33     -638.322021        0.063095\n",
      "LBFGS:  135 11:44:33     -638.323486        0.057749\n"
     ]
    },
    {
     "name": "stderr",
     "output_type": "stream",
     "text": [
      "_util.py:1233: RuntimeWarning: logm result may be inaccurate, approximate err = 7.786487070608818e-13\n",
      "_util.py:1233: RuntimeWarning: logm result may be inaccurate, approximate err = 7.785406595297343e-13\n"
     ]
    },
    {
     "name": "stdout",
     "output_type": "stream",
     "text": [
      "LBFGS:  136 11:44:33     -638.325134        0.071619\n",
      "LBFGS:  137 11:44:34     -638.326904        0.071237\n"
     ]
    },
    {
     "name": "stderr",
     "output_type": "stream",
     "text": [
      "_util.py:1233: RuntimeWarning: logm result may be inaccurate, approximate err = 7.822133936811614e-13\n",
      "_util.py:1233: RuntimeWarning: logm result may be inaccurate, approximate err = 7.762419612743392e-13\n"
     ]
    },
    {
     "name": "stdout",
     "output_type": "stream",
     "text": [
      "LBFGS:  138 11:44:34     -638.329529        0.087144\n"
     ]
    },
    {
     "name": "stderr",
     "output_type": "stream",
     "text": [
      "_util.py:1233: RuntimeWarning: logm result may be inaccurate, approximate err = 7.75171312883643e-13\n",
      "_util.py:1233: RuntimeWarning: logm result may be inaccurate, approximate err = 7.785470755053442e-13\n"
     ]
    },
    {
     "name": "stdout",
     "output_type": "stream",
     "text": [
      "LBFGS:  139 11:44:34     -638.333130        0.099268\n",
      "LBFGS:  140 11:44:34     -638.337158        0.083690\n"
     ]
    },
    {
     "name": "stderr",
     "output_type": "stream",
     "text": [
      "_util.py:1233: RuntimeWarning: logm result may be inaccurate, approximate err = 7.870794919495041e-13\n",
      "_util.py:1233: RuntimeWarning: logm result may be inaccurate, approximate err = 7.831672568916739e-13\n"
     ]
    },
    {
     "name": "stdout",
     "output_type": "stream",
     "text": [
      "LBFGS:  141 11:44:34     -638.340576        0.081927\n",
      "LBFGS:  142 11:44:34     -638.343262        0.070286\n"
     ]
    },
    {
     "name": "stderr",
     "output_type": "stream",
     "text": [
      "_util.py:1233: RuntimeWarning: logm result may be inaccurate, approximate err = 7.803341904836784e-13\n",
      "_util.py:1233: RuntimeWarning: logm result may be inaccurate, approximate err = 7.861249713340188e-13\n"
     ]
    },
    {
     "name": "stdout",
     "output_type": "stream",
     "text": [
      "LBFGS:  143 11:44:34     -638.345825        0.076514\n",
      "LBFGS:  144 11:44:34     -638.349182        0.084308\n"
     ]
    },
    {
     "name": "stderr",
     "output_type": "stream",
     "text": [
      "_util.py:1233: RuntimeWarning: logm result may be inaccurate, approximate err = 7.816730274418637e-13\n",
      "_util.py:1233: RuntimeWarning: logm result may be inaccurate, approximate err = 7.835293940730998e-13\n"
     ]
    },
    {
     "name": "stdout",
     "output_type": "stream",
     "text": [
      "LBFGS:  145 11:44:35     -638.353638        0.082510\n",
      "LBFGS:  146 11:44:35     -638.358765        0.087742\n",
      "LBFGS:  147 11:44:35     -638.364563        0.109062\n"
     ]
    },
    {
     "name": "stderr",
     "output_type": "stream",
     "text": [
      "_util.py:1233: RuntimeWarning: logm result may be inaccurate, approximate err = 7.796516297403914e-13\n",
      "_util.py:1233: RuntimeWarning: logm result may be inaccurate, approximate err = 7.90135890958296e-13\n",
      "_util.py:1233: RuntimeWarning: logm result may be inaccurate, approximate err = 7.941668901705045e-13\n"
     ]
    },
    {
     "name": "stdout",
     "output_type": "stream",
     "text": [
      "LBFGS:  148 11:44:35     -638.369446        0.104599\n",
      "LBFGS:  149 11:44:35     -638.375122        0.107656\n"
     ]
    },
    {
     "name": "stderr",
     "output_type": "stream",
     "text": [
      "_util.py:1233: RuntimeWarning: logm result may be inaccurate, approximate err = 7.869099161483692e-13\n",
      "_util.py:1233: RuntimeWarning: logm result may be inaccurate, approximate err = 7.923850227559683e-13\n"
     ]
    },
    {
     "name": "stdout",
     "output_type": "stream",
     "text": [
      "LBFGS:  150 11:44:35     -638.379028        0.097968\n",
      "LBFGS:  151 11:44:35     -638.380920        0.063726\n",
      "LBFGS:  152 11:44:35     -638.382202        0.038925\n"
     ]
    },
    {
     "name": "stderr",
     "output_type": "stream",
     "text": [
      "_util.py:1233: RuntimeWarning: logm result may be inaccurate, approximate err = 7.93774600305451e-13\n",
      "_util.py:1233: RuntimeWarning: logm result may be inaccurate, approximate err = 8.048489596305434e-13\n"
     ]
    },
    {
     "name": "stdout",
     "output_type": "stream",
     "text": [
      "LBFGS:  153 11:44:36     -638.382812        0.027931\n"
     ]
    },
    {
     "name": "stderr",
     "output_type": "stream",
     "text": [
      "_util.py:1233: RuntimeWarning: logm result may be inaccurate, approximate err = 7.996192062254878e-13\n",
      "_util.py:1233: RuntimeWarning: logm result may be inaccurate, approximate err = 7.970082825400546e-13\n"
     ]
    },
    {
     "name": "stdout",
     "output_type": "stream",
     "text": [
      "LBFGS:  154 11:44:36     -638.383301        0.029863\n",
      "LBFGS:  155 11:44:36     -638.383667        0.037608\n"
     ]
    },
    {
     "name": "stderr",
     "output_type": "stream",
     "text": [
      "_util.py:1233: RuntimeWarning: logm result may be inaccurate, approximate err = 7.955700121383224e-13\n",
      "_util.py:1233: RuntimeWarning: logm result may be inaccurate, approximate err = 7.981680236554327e-13\n"
     ]
    },
    {
     "name": "stdout",
     "output_type": "stream",
     "text": [
      "LBFGS:  156 11:44:36     -638.384521        0.047408\n",
      "LBFGS:  157 11:44:36     -638.385010        0.040784\n"
     ]
    },
    {
     "name": "stderr",
     "output_type": "stream",
     "text": [
      "_util.py:1233: RuntimeWarning: logm result may be inaccurate, approximate err = 7.972510514076882e-13\n",
      "_util.py:1233: RuntimeWarning: logm result may be inaccurate, approximate err = 8.021545648736301e-13\n"
     ]
    },
    {
     "name": "stdout",
     "output_type": "stream",
     "text": [
      "LBFGS:  158 11:44:36     -638.385498        0.026192\n",
      "LBFGS:  159 11:44:36     -638.385925        0.021955\n",
      "LBFGS:  160 11:44:36     -638.386047        0.017889\n"
     ]
    },
    {
     "name": "stderr",
     "output_type": "stream",
     "text": [
      "_util.py:1233: RuntimeWarning: logm result may be inaccurate, approximate err = 7.920808459359263e-13\n",
      "_util.py:1233: RuntimeWarning: logm result may be inaccurate, approximate err = 7.950561348017487e-13\n"
     ]
    },
    {
     "name": "stdout",
     "output_type": "stream",
     "text": [
      "LBFGS:  161 11:44:37     -638.386292        0.017913\n",
      "LBFGS:  162 11:44:37     -638.386414        0.015477\n"
     ]
    },
    {
     "name": "stderr",
     "output_type": "stream",
     "text": [
      "_util.py:1233: RuntimeWarning: logm result may be inaccurate, approximate err = 7.972969117356737e-13\n",
      "_util.py:1233: RuntimeWarning: logm result may be inaccurate, approximate err = 8.029891064713478e-13\n"
     ]
    },
    {
     "name": "stdout",
     "output_type": "stream",
     "text": [
      "LBFGS:  163 11:44:37     -638.386475        0.013866\n"
     ]
    },
    {
     "name": "stderr",
     "output_type": "stream",
     "text": [
      "_util.py:1233: RuntimeWarning: logm result may be inaccurate, approximate err = 8.086685368290884e-13\n",
      "_util.py:1233: RuntimeWarning: logm result may be inaccurate, approximate err = 7.969465913844597e-13\n"
     ]
    },
    {
     "name": "stdout",
     "output_type": "stream",
     "text": [
      "LBFGS:  164 11:44:37     -638.386658        0.020486\n",
      "LBFGS:  165 11:44:37     -638.386841        0.018584\n",
      "LBFGS:  166 11:44:37     -638.386963        0.016555\n"
     ]
    },
    {
     "name": "stderr",
     "output_type": "stream",
     "text": [
      "_util.py:1233: RuntimeWarning: logm result may be inaccurate, approximate err = 7.927694580506192e-13\n",
      "_util.py:1233: RuntimeWarning: logm result may be inaccurate, approximate err = 8.009019211722893e-13\n"
     ]
    },
    {
     "name": "stdout",
     "output_type": "stream",
     "text": [
      "LBFGS:  167 11:44:37     -638.387146        0.020227\n"
     ]
    },
    {
     "name": "stderr",
     "output_type": "stream",
     "text": [
      "_util.py:1233: RuntimeWarning: logm result may be inaccurate, approximate err = 8.051500543753106e-13\n",
      "_util.py:1233: RuntimeWarning: logm result may be inaccurate, approximate err = 7.970916330738979e-13\n"
     ]
    },
    {
     "name": "stdout",
     "output_type": "stream",
     "text": [
      "LBFGS:  168 11:44:37     -638.387207        0.019235\n",
      "LBFGS:  169 11:44:37     -638.387390        0.020287\n",
      "LBFGS:  170 11:44:37     -638.387451        0.020844\n"
     ]
    },
    {
     "name": "stderr",
     "output_type": "stream",
     "text": [
      "_util.py:1233: RuntimeWarning: logm result may be inaccurate, approximate err = 8.00025271192666e-13\n",
      "_util.py:1233: RuntimeWarning: logm result may be inaccurate, approximate err = 8.066233232574184e-13\n"
     ]
    },
    {
     "name": "stdout",
     "output_type": "stream",
     "text": [
      "LBFGS:  171 11:44:38     -638.387695        0.015891\n"
     ]
    },
    {
     "name": "stderr",
     "output_type": "stream",
     "text": [
      "_util.py:1233: RuntimeWarning: logm result may be inaccurate, approximate err = 7.957905520972806e-13\n",
      "_util.py:1233: RuntimeWarning: logm result may be inaccurate, approximate err = 7.974313286843934e-13\n"
     ]
    },
    {
     "name": "stdout",
     "output_type": "stream",
     "text": [
      "LBFGS:  172 11:44:38     -638.387756        0.008947\n",
      "       Step     Time          Energy          fmax\n",
      "LBFGS:    0 11:44:38     -259.410736        0.509765\n",
      "LBFGS:    1 11:44:38     -259.450958        0.242592\n",
      "LBFGS:    2 11:44:38     -259.510254        0.215870\n"
     ]
    },
    {
     "name": "stderr",
     "output_type": "stream",
     "text": [
      "_util.py:1233: RuntimeWarning: logm result may be inaccurate, approximate err = 3.284645283036463e-13\n",
      "_util.py:1233: RuntimeWarning: logm result may be inaccurate, approximate err = 3.3608061876687347e-13\n"
     ]
    },
    {
     "name": "stdout",
     "output_type": "stream",
     "text": [
      "LBFGS:    3 11:44:38     -259.528442        0.152079\n",
      "LBFGS:    4 11:44:38     -259.539886        0.131672\n"
     ]
    },
    {
     "name": "stderr",
     "output_type": "stream",
     "text": [
      "_util.py:1233: RuntimeWarning: logm result may be inaccurate, approximate err = 3.302215977720864e-13\n",
      "_util.py:1233: RuntimeWarning: logm result may be inaccurate, approximate err = 3.3405727617046984e-13\n"
     ]
    },
    {
     "name": "stdout",
     "output_type": "stream",
     "text": [
      "LBFGS:    5 11:44:38     -259.552765        0.130513\n",
      "LBFGS:    6 11:44:38     -259.561737        0.095039\n"
     ]
    },
    {
     "name": "stderr",
     "output_type": "stream",
     "text": [
      "_util.py:1233: RuntimeWarning: logm result may be inaccurate, approximate err = 3.3509070347574083e-13\n",
      "_util.py:1233: RuntimeWarning: logm result may be inaccurate, approximate err = 3.347435517424103e-13\n",
      "_util.py:1233: RuntimeWarning: logm result may be inaccurate, approximate err = 3.347335872674288e-13\n"
     ]
    },
    {
     "name": "stdout",
     "output_type": "stream",
     "text": [
      "LBFGS:    7 11:44:39     -259.565002        0.065763\n",
      "LBFGS:    8 11:44:39     -259.565674        0.058494\n"
     ]
    },
    {
     "name": "stderr",
     "output_type": "stream",
     "text": [
      "_util.py:1233: RuntimeWarning: logm result may be inaccurate, approximate err = 3.3451906115844223e-13\n",
      "_util.py:1233: RuntimeWarning: logm result may be inaccurate, approximate err = 3.3654767597725875e-13\n"
     ]
    },
    {
     "name": "stdout",
     "output_type": "stream",
     "text": [
      "LBFGS:    9 11:44:39     -259.566071        0.054673\n",
      "LBFGS:   10 11:44:39     -259.567108        0.047182\n",
      "LBFGS:   11 11:44:39     -259.568909        0.065135\n"
     ]
    },
    {
     "name": "stderr",
     "output_type": "stream",
     "text": [
      "_util.py:1233: RuntimeWarning: logm result may be inaccurate, approximate err = 3.380080666037003e-13\n",
      "_util.py:1233: RuntimeWarning: logm result may be inaccurate, approximate err = 3.4287645867578083e-13\n"
     ]
    },
    {
     "name": "stdout",
     "output_type": "stream",
     "text": [
      "LBFGS:   12 11:44:39     -259.571320        0.065370\n"
     ]
    },
    {
     "name": "stderr",
     "output_type": "stream",
     "text": [
      "_util.py:1233: RuntimeWarning: logm result may be inaccurate, approximate err = 3.3359461936796545e-13\n",
      "_util.py:1233: RuntimeWarning: logm result may be inaccurate, approximate err = 3.3735009630446033e-13\n"
     ]
    },
    {
     "name": "stdout",
     "output_type": "stream",
     "text": [
      "LBFGS:   13 11:44:39     -259.573120        0.054081\n",
      "LBFGS:   14 11:44:39     -259.574005        0.058740\n",
      "LBFGS:   15 11:44:40     -259.574951        0.055806\n"
     ]
    },
    {
     "name": "stderr",
     "output_type": "stream",
     "text": [
      "_util.py:1233: RuntimeWarning: logm result may be inaccurate, approximate err = 3.409716665538975e-13\n",
      "_util.py:1233: RuntimeWarning: logm result may be inaccurate, approximate err = 3.3294817960349504e-13\n"
     ]
    },
    {
     "name": "stdout",
     "output_type": "stream",
     "text": [
      "LBFGS:   16 11:44:40     -259.576569        0.060336\n",
      "LBFGS:   17 11:44:40     -259.579590        0.089441\n"
     ]
    },
    {
     "name": "stderr",
     "output_type": "stream",
     "text": [
      "_util.py:1233: RuntimeWarning: logm result may be inaccurate, approximate err = 3.337263428000979e-13\n",
      "_util.py:1233: RuntimeWarning: logm result may be inaccurate, approximate err = 3.332336463375328e-13\n",
      "_util.py:1233: RuntimeWarning: logm result may be inaccurate, approximate err = 3.3354476932240115e-13\n"
     ]
    },
    {
     "name": "stdout",
     "output_type": "stream",
     "text": [
      "LBFGS:   18 11:44:40     -259.583252        0.091270\n",
      "LBFGS:   19 11:44:40     -259.585846        0.056671\n",
      "LBFGS:   20 11:44:40     -259.586670        0.029317\n"
     ]
    },
    {
     "name": "stderr",
     "output_type": "stream",
     "text": [
      "_util.py:1233: RuntimeWarning: logm result may be inaccurate, approximate err = 3.2829429242256284e-13\n",
      "_util.py:1233: RuntimeWarning: logm result may be inaccurate, approximate err = 3.300911825468119e-13\n",
      "_util.py:1233: RuntimeWarning: logm result may be inaccurate, approximate err = 3.31816068530785e-13\n"
     ]
    },
    {
     "name": "stdout",
     "output_type": "stream",
     "text": [
      "LBFGS:   21 11:44:40     -259.587006        0.026017\n",
      "LBFGS:   22 11:44:40     -259.587616        0.036764\n",
      "LBFGS:   23 11:44:40     -259.588562        0.040503\n"
     ]
    },
    {
     "name": "stderr",
     "output_type": "stream",
     "text": [
      "_util.py:1233: RuntimeWarning: logm result may be inaccurate, approximate err = 3.2861295602313844e-13\n",
      "_util.py:1233: RuntimeWarning: logm result may be inaccurate, approximate err = 3.327981722472273e-13\n"
     ]
    },
    {
     "name": "stdout",
     "output_type": "stream",
     "text": [
      "LBFGS:   24 11:44:40     -259.589508        0.034239\n",
      "LBFGS:   25 11:44:40     -259.590027        0.019865\n"
     ]
    },
    {
     "name": "stderr",
     "output_type": "stream",
     "text": [
      "_util.py:1233: RuntimeWarning: logm result may be inaccurate, approximate err = 3.275253636662624e-13\n",
      "_util.py:1233: RuntimeWarning: logm result may be inaccurate, approximate err = 3.359880529764395e-13\n",
      "_util.py:1233: RuntimeWarning: logm result may be inaccurate, approximate err = 3.295482872630426e-13\n"
     ]
    },
    {
     "name": "stdout",
     "output_type": "stream",
     "text": [
      "LBFGS:   26 11:44:41     -259.590271        0.017721\n",
      "LBFGS:   27 11:44:41     -259.590454        0.021352\n",
      "LBFGS:   28 11:44:41     -259.590881        0.026248\n"
     ]
    },
    {
     "name": "stderr",
     "output_type": "stream",
     "text": [
      "_util.py:1233: RuntimeWarning: logm result may be inaccurate, approximate err = 3.299699621244378e-13\n",
      "_util.py:1233: RuntimeWarning: logm result may be inaccurate, approximate err = 3.294371880578125e-13\n",
      "_util.py:1233: RuntimeWarning: logm result may be inaccurate, approximate err = 3.3135016513224607e-13\n"
     ]
    },
    {
     "name": "stdout",
     "output_type": "stream",
     "text": [
      "LBFGS:   29 11:44:41     -259.591492        0.034335\n",
      "LBFGS:   30 11:44:41     -259.592102        0.030616\n"
     ]
    },
    {
     "name": "stderr",
     "output_type": "stream",
     "text": [
      "_util.py:1233: RuntimeWarning: logm result may be inaccurate, approximate err = 3.2791153682815586e-13\n",
      "_util.py:1233: RuntimeWarning: logm result may be inaccurate, approximate err = 3.33934018911356e-13\n"
     ]
    },
    {
     "name": "stdout",
     "output_type": "stream",
     "text": [
      "LBFGS:   31 11:44:41     -259.592529        0.016009\n",
      "LBFGS:   32 11:44:41     -259.592590        0.014143\n",
      "LBFGS:   33 11:44:41     -259.592651        0.013883\n"
     ]
    },
    {
     "name": "stderr",
     "output_type": "stream",
     "text": [
      "_util.py:1233: RuntimeWarning: logm result may be inaccurate, approximate err = 3.292845551709041e-13\n",
      "_util.py:1233: RuntimeWarning: logm result may be inaccurate, approximate err = 3.2946182292518074e-13\n",
      "_util.py:1233: RuntimeWarning: logm result may be inaccurate, approximate err = 3.2969009267879185e-13\n"
     ]
    },
    {
     "name": "stdout",
     "output_type": "stream",
     "text": [
      "LBFGS:   34 11:44:41     -259.592773        0.016081\n",
      "LBFGS:   35 11:44:41     -259.593018        0.023281\n",
      "LBFGS:   36 11:44:42     -259.593445        0.027980\n"
     ]
    },
    {
     "name": "stderr",
     "output_type": "stream",
     "text": [
      "_util.py:1233: RuntimeWarning: logm result may be inaccurate, approximate err = 3.339812528511929e-13\n",
      "_util.py:1233: RuntimeWarning: logm result may be inaccurate, approximate err = 3.3124843695349845e-13\n"
     ]
    },
    {
     "name": "stdout",
     "output_type": "stream",
     "text": [
      "LBFGS:   37 11:44:42     -259.593933        0.024421\n",
      "LBFGS:   38 11:44:42     -259.594177        0.017689\n"
     ]
    },
    {
     "name": "stderr",
     "output_type": "stream",
     "text": [
      "_util.py:1233: RuntimeWarning: logm result may be inaccurate, approximate err = 3.345181438237142e-13\n",
      "_util.py:1233: RuntimeWarning: logm result may be inaccurate, approximate err = 3.337185407184884e-13\n",
      "_util.py:1233: RuntimeWarning: logm result may be inaccurate, approximate err = 3.29764701321482e-13\n"
     ]
    },
    {
     "name": "stdout",
     "output_type": "stream",
     "text": [
      "LBFGS:   39 11:44:42     -259.594299        0.014598\n",
      "LBFGS:   40 11:44:42     -259.594513        0.015423\n",
      "LBFGS:   41 11:44:42     -259.594788        0.022284\n"
     ]
    },
    {
     "name": "stderr",
     "output_type": "stream",
     "text": [
      "_util.py:1233: RuntimeWarning: logm result may be inaccurate, approximate err = 3.316190629229429e-13\n",
      "_util.py:1233: RuntimeWarning: logm result may be inaccurate, approximate err = 3.303665678322468e-13\n",
      "_util.py:1233: RuntimeWarning: logm result may be inaccurate, approximate err = 3.2948528373180977e-13\n"
     ]
    },
    {
     "name": "stdout",
     "output_type": "stream",
     "text": [
      "LBFGS:   42 11:44:42     -259.595367        0.034895\n",
      "LBFGS:   43 11:44:42     -259.596375        0.041464\n",
      "LBFGS:   44 11:44:42     -259.597290        0.030561\n"
     ]
    },
    {
     "name": "stderr",
     "output_type": "stream",
     "text": [
      "_util.py:1233: RuntimeWarning: logm result may be inaccurate, approximate err = 3.3035506811316564e-13\n",
      "_util.py:1233: RuntimeWarning: logm result may be inaccurate, approximate err = 3.3064614023183905e-13\n",
      "_util.py:1233: RuntimeWarning: logm result may be inaccurate, approximate err = 3.262045057705647e-13\n"
     ]
    },
    {
     "name": "stdout",
     "output_type": "stream",
     "text": [
      "LBFGS:   45 11:44:42     -259.597656        0.013657\n",
      "LBFGS:   46 11:44:42     -259.597717        0.013365\n",
      "LBFGS:   47 11:44:42     -259.597687        0.013279\n"
     ]
    },
    {
     "name": "stderr",
     "output_type": "stream",
     "text": [
      "_util.py:1233: RuntimeWarning: logm result may be inaccurate, approximate err = 3.2600241553584817e-13\n",
      "_util.py:1233: RuntimeWarning: logm result may be inaccurate, approximate err = 3.264064153383242e-13\n",
      "_util.py:1233: RuntimeWarning: logm result may be inaccurate, approximate err = 3.3009780024101583e-13\n"
     ]
    },
    {
     "name": "stdout",
     "output_type": "stream",
     "text": [
      "LBFGS:   48 11:44:43     -259.597778        0.013158\n",
      "LBFGS:   49 11:44:43     -259.597900        0.015363\n",
      "LBFGS:   50 11:44:43     -259.598053        0.027237\n"
     ]
    },
    {
     "name": "stderr",
     "output_type": "stream",
     "text": [
      "_util.py:1233: RuntimeWarning: logm result may be inaccurate, approximate err = 3.3146830417928595e-13\n",
      "_util.py:1233: RuntimeWarning: logm result may be inaccurate, approximate err = 3.288290461535892e-13\n",
      "_util.py:1233: RuntimeWarning: logm result may be inaccurate, approximate err = 3.303327946331582e-13\n"
     ]
    },
    {
     "name": "stdout",
     "output_type": "stream",
     "text": [
      "LBFGS:   51 11:44:43     -259.598480        0.042212\n",
      "LBFGS:   52 11:44:43     -259.599182        0.068525\n",
      "LBFGS:   53 11:44:43     -259.600403        0.100060\n"
     ]
    },
    {
     "name": "stderr",
     "output_type": "stream",
     "text": [
      "_util.py:1233: RuntimeWarning: logm result may be inaccurate, approximate err = 3.3173787522359074e-13\n",
      "_util.py:1233: RuntimeWarning: logm result may be inaccurate, approximate err = 3.289644278436925e-13\n",
      "_util.py:1233: RuntimeWarning: logm result may be inaccurate, approximate err = 3.281960859911123e-13\n"
     ]
    },
    {
     "name": "stdout",
     "output_type": "stream",
     "text": [
      "LBFGS:   54 11:44:43     -259.602600        0.128951\n",
      "LBFGS:   55 11:44:43     -259.605377        0.135786\n",
      "LBFGS:   56 11:44:43     -259.608490        0.125266\n"
     ]
    },
    {
     "name": "stderr",
     "output_type": "stream",
     "text": [
      "_util.py:1233: RuntimeWarning: logm result may be inaccurate, approximate err = 3.3076557755525314e-13\n",
      "_util.py:1233: RuntimeWarning: logm result may be inaccurate, approximate err = 3.363283574292779e-13\n",
      "_util.py:1233: RuntimeWarning: logm result may be inaccurate, approximate err = 3.3600006149931e-13\n"
     ]
    },
    {
     "name": "stdout",
     "output_type": "stream",
     "text": [
      "LBFGS:   57 11:44:43     -259.611969        0.096441\n",
      "LBFGS:   58 11:44:43     -259.615417        0.057989\n",
      "LBFGS:   59 11:44:43     -259.617004        0.043466\n"
     ]
    },
    {
     "name": "stderr",
     "output_type": "stream",
     "text": [
      "_util.py:1233: RuntimeWarning: logm result may be inaccurate, approximate err = 3.333580806562166e-13\n",
      "_util.py:1233: RuntimeWarning: logm result may be inaccurate, approximate err = 3.319678627699971e-13\n",
      "_util.py:1233: RuntimeWarning: logm result may be inaccurate, approximate err = 3.404976916066923e-13\n"
     ]
    },
    {
     "name": "stdout",
     "output_type": "stream",
     "text": [
      "LBFGS:   60 11:44:44     -259.617615        0.041983\n",
      "LBFGS:   61 11:44:44     -259.618134        0.035579\n",
      "LBFGS:   62 11:44:44     -259.618683        0.029815\n"
     ]
    },
    {
     "name": "stderr",
     "output_type": "stream",
     "text": [
      "_util.py:1233: RuntimeWarning: logm result may be inaccurate, approximate err = 3.376666255159483e-13\n",
      "_util.py:1233: RuntimeWarning: logm result may be inaccurate, approximate err = 3.409000328499442e-13\n",
      "_util.py:1233: RuntimeWarning: logm result may be inaccurate, approximate err = 3.355741311158878e-13\n"
     ]
    },
    {
     "name": "stdout",
     "output_type": "stream",
     "text": [
      "LBFGS:   63 11:44:44     -259.619537        0.043125\n",
      "LBFGS:   64 11:44:44     -259.620636        0.056282\n",
      "LBFGS:   65 11:44:44     -259.621674        0.064252\n"
     ]
    },
    {
     "name": "stderr",
     "output_type": "stream",
     "text": [
      "_util.py:1233: RuntimeWarning: logm result may be inaccurate, approximate err = 3.3272104978218727e-13\n",
      "_util.py:1233: RuntimeWarning: logm result may be inaccurate, approximate err = 3.428301161116877e-13\n",
      "_util.py:1233: RuntimeWarning: logm result may be inaccurate, approximate err = 3.390406714348504e-13\n"
     ]
    },
    {
     "name": "stdout",
     "output_type": "stream",
     "text": [
      "LBFGS:   66 11:44:44     -259.622467        0.055698\n",
      "LBFGS:   67 11:44:44     -259.623077        0.034671\n",
      "LBFGS:   68 11:44:44     -259.623383        0.016529\n"
     ]
    },
    {
     "name": "stderr",
     "output_type": "stream",
     "text": [
      "_util.py:1233: RuntimeWarning: logm result may be inaccurate, approximate err = 3.3804791122985126e-13\n",
      "_util.py:1233: RuntimeWarning: logm result may be inaccurate, approximate err = 3.4000903961566273e-13\n",
      "_util.py:1233: RuntimeWarning: logm result may be inaccurate, approximate err = 3.3436040881045755e-13\n"
     ]
    },
    {
     "name": "stdout",
     "output_type": "stream",
     "text": [
      "LBFGS:   69 11:44:44     -259.623505        0.007459\n",
      "       Step     Time          Energy          fmax\n",
      "LBFGS:    0 11:44:45    -1244.464111        0.891991\n",
      "LBFGS:    1 11:44:45    -1244.766602        0.510104\n",
      "LBFGS:    2 11:44:45    -1244.935913        0.339468\n",
      "LBFGS:    3 11:44:45    -1245.111206        0.257520\n",
      "LBFGS:    4 11:44:45    -1245.170166        0.236465\n",
      "LBFGS:    5 11:44:45    -1245.274048        0.201075\n",
      "LBFGS:    6 11:44:46    -1245.294556        0.200095\n",
      "LBFGS:    7 11:44:46    -1245.304932        0.202520\n",
      "LBFGS:    8 11:44:46    -1245.315918        0.202244\n",
      "LBFGS:    9 11:44:46    -1245.332764        0.196492\n",
      "LBFGS:   10 11:44:46    -1245.350098        0.186240\n",
      "LBFGS:   11 11:44:47    -1245.368408        0.174401\n",
      "LBFGS:   12 11:44:47    -1245.390381        0.177194\n",
      "LBFGS:   13 11:44:47    -1245.419922        0.194868\n",
      "LBFGS:   14 11:44:47    -1245.452271        0.159908\n",
      "LBFGS:   15 11:44:47    -1245.477295        0.167713\n",
      "LBFGS:   16 11:44:47    -1245.493896        0.175812\n",
      "LBFGS:   17 11:44:48    -1245.511841        0.182409\n",
      "LBFGS:   18 11:44:48    -1245.546631        0.235579\n",
      "LBFGS:   19 11:44:48    -1245.614990        0.353710\n",
      "LBFGS:   20 11:44:48    -1245.686768        0.376981\n",
      "LBFGS:   21 11:44:48    -1245.759033        0.333195\n",
      "LBFGS:   22 11:44:49    -1245.828247        0.238070\n",
      "LBFGS:   23 11:44:49    -1245.884766        0.142587\n",
      "LBFGS:   24 11:44:49    -1245.923584        0.130596\n",
      "LBFGS:   25 11:44:49    -1245.947021        0.191547\n",
      "LBFGS:   26 11:44:49    -1246.018188        0.302910\n",
      "LBFGS:   27 11:44:50    -1246.089600        0.325103\n",
      "LBFGS:   28 11:44:50    -1246.157471        0.265187\n",
      "LBFGS:   29 11:44:50    -1246.219116        0.194522\n",
      "LBFGS:   30 11:44:50    -1246.272949        0.194738\n",
      "LBFGS:   31 11:44:50    -1246.324219        0.189535\n",
      "LBFGS:   32 11:44:51    -1246.385010        0.263929\n",
      "LBFGS:   33 11:44:51    -1246.446045        0.239040\n",
      "LBFGS:   34 11:44:51    -1246.484009        0.111740\n",
      "LBFGS:   35 11:44:51    -1246.495850        0.092270\n",
      "LBFGS:   36 11:44:51    -1246.501953        0.081749\n",
      "LBFGS:   37 11:44:52    -1246.505859        0.069983\n",
      "LBFGS:   38 11:44:52    -1246.511353        0.053145\n",
      "LBFGS:   39 11:44:52    -1246.515137        0.049253\n",
      "LBFGS:   40 11:44:52    -1246.518311        0.042617\n",
      "LBFGS:   41 11:44:52    -1246.520020        0.027687\n",
      "LBFGS:   42 11:44:52    -1246.522217        0.023453\n",
      "LBFGS:   43 11:44:53    -1246.521851        0.016266\n",
      "LBFGS:   44 11:44:53    -1246.522461        0.012933\n",
      "LBFGS:   45 11:44:53    -1246.522461        0.016974\n",
      "LBFGS:   46 11:44:53    -1246.523804        0.015321\n",
      "LBFGS:   47 11:44:53    -1246.523071        0.009204\n",
      "       Step     Time          Energy          fmax\n",
      "LBFGS:    0 11:44:54    -1274.921387        0.299557\n",
      "LBFGS:    1 11:44:54    -1274.949463        0.183638\n",
      "LBFGS:    2 11:44:54    -1274.987061        0.131041\n",
      "LBFGS:    3 11:44:55    -1275.013550        0.138003\n",
      "LBFGS:    4 11:44:55    -1275.030151        0.085566\n",
      "LBFGS:    5 11:44:55    -1275.040527        0.064254\n",
      "LBFGS:    6 11:44:55    -1275.049561        0.067738\n",
      "LBFGS:    7 11:44:56    -1275.057617        0.082825\n",
      "LBFGS:    8 11:44:56    -1275.063477        0.059122\n",
      "LBFGS:    9 11:44:57    -1275.067017        0.045318\n",
      "LBFGS:   10 11:44:57    -1275.070068        0.048611\n",
      "LBFGS:   11 11:44:58    -1275.074585        0.071358\n",
      "LBFGS:   12 11:44:58    -1275.078613        0.066430\n",
      "LBFGS:   13 11:44:58    -1275.081055        0.035123\n",
      "LBFGS:   14 11:44:59    -1275.083252        0.031786\n",
      "LBFGS:   15 11:44:59    -1275.085815        0.040419\n",
      "LBFGS:   16 11:45:00    -1275.087646        0.059458\n",
      "LBFGS:   17 11:45:00    -1275.091064        0.053267\n",
      "LBFGS:   18 11:45:00    -1275.093018        0.027254\n",
      "LBFGS:   19 11:45:01    -1275.093506        0.017829\n",
      "LBFGS:   20 11:45:01    -1275.093262        0.025060\n",
      "LBFGS:   21 11:45:02    -1275.095093        0.026850\n",
      "LBFGS:   22 11:45:02    -1275.094971        0.021159\n",
      "LBFGS:   23 11:45:02    -1275.095703        0.017216\n",
      "LBFGS:   24 11:45:03    -1275.096924        0.035174\n",
      "LBFGS:   25 11:45:03    -1275.098633        0.045150\n",
      "LBFGS:   26 11:45:04    -1275.098877        0.037563\n",
      "LBFGS:   27 11:45:04    -1275.099121        0.015994\n",
      "LBFGS:   28 11:45:04    -1275.100098        0.017633\n",
      "LBFGS:   29 11:45:05    -1275.101196        0.026522\n",
      "LBFGS:   30 11:45:05    -1275.101562        0.041125\n",
      "LBFGS:   31 11:45:06    -1275.103760        0.038134\n",
      "LBFGS:   32 11:45:06    -1275.103516        0.018173\n",
      "LBFGS:   33 11:45:06    -1275.104736        0.014763\n",
      "LBFGS:   34 11:45:07    -1275.104492        0.020436\n",
      "LBFGS:   35 11:45:07    -1275.104736        0.029821\n",
      "LBFGS:   36 11:45:07    -1275.105347        0.026160\n",
      "LBFGS:   37 11:45:08    -1275.105957        0.013877\n",
      "LBFGS:   38 11:45:08    -1275.106689        0.017670\n",
      "LBFGS:   39 11:45:09    -1275.106445        0.023867\n",
      "LBFGS:   40 11:45:09    -1275.107178        0.019317\n",
      "LBFGS:   41 11:45:10    -1275.107300        0.012233\n",
      "LBFGS:   42 11:45:10    -1275.107910        0.013073\n",
      "LBFGS:   43 11:45:10    -1275.107666        0.013593\n",
      "LBFGS:   44 11:45:11    -1275.108398        0.017245\n",
      "LBFGS:   45 11:45:11    -1275.107544        0.017325\n",
      "LBFGS:   46 11:45:12    -1275.108643        0.012624\n",
      "LBFGS:   47 11:45:12    -1275.109131        0.011969\n",
      "LBFGS:   48 11:45:13    -1275.109131        0.011484\n",
      "LBFGS:   49 11:45:13    -1275.108887        0.014872\n",
      "LBFGS:   50 11:45:13    -1275.108521        0.021025\n",
      "LBFGS:   51 11:45:14    -1275.109741        0.018366\n",
      "LBFGS:   52 11:45:14    -1275.109131        0.011148\n",
      "LBFGS:   53 11:45:15    -1275.108398        0.011702\n",
      "LBFGS:   54 11:45:15    -1275.109131        0.012168\n",
      "LBFGS:   55 11:45:16    -1275.109863        0.018194\n",
      "LBFGS:   56 11:45:16    -1275.110474        0.025999\n",
      "LBFGS:   57 11:45:16    -1275.110718        0.024872\n",
      "LBFGS:   58 11:45:17    -1275.111084        0.013132\n",
      "LBFGS:   59 11:45:17    -1275.111328        0.011859\n",
      "LBFGS:   60 11:45:17    -1275.111694        0.011897\n",
      "LBFGS:   61 11:45:18    -1275.112061        0.022986\n",
      "LBFGS:   62 11:45:18    -1275.112061        0.035954\n",
      "LBFGS:   63 11:45:18    -1275.113403        0.045320\n",
      "LBFGS:   64 11:45:19    -1275.114258        0.039703\n",
      "LBFGS:   65 11:45:19    -1275.115723        0.017342\n",
      "LBFGS:   66 11:45:20    -1275.116577        0.018022\n",
      "LBFGS:   67 11:45:20    -1275.116943        0.023178\n",
      "LBFGS:   68 11:45:20    -1275.118408        0.043553\n",
      "LBFGS:   69 11:45:21    -1275.120117        0.063707\n",
      "LBFGS:   70 11:45:21    -1275.123779        0.067783\n",
      "LBFGS:   71 11:45:22    -1275.126099        0.043216\n",
      "LBFGS:   72 11:45:22    -1275.127197        0.015748\n",
      "LBFGS:   73 11:45:22    -1275.127441        0.015160\n",
      "LBFGS:   74 11:45:23    -1275.127686        0.018684\n",
      "LBFGS:   75 11:45:23    -1275.128662        0.030462\n",
      "LBFGS:   76 11:45:23    -1275.130127        0.032011\n",
      "LBFGS:   77 11:45:24    -1275.130859        0.019596\n",
      "LBFGS:   78 11:45:24    -1275.130859        0.008476\n",
      "       Step     Time          Energy          fmax\n",
      "LBFGS:    0 11:45:24      -95.718719        0.418491\n",
      "LBFGS:    1 11:45:25      -95.726135        0.396822\n",
      "LBFGS:    2 11:45:25      -95.784966        0.140081\n",
      "LBFGS:    3 11:45:25      -95.785988        0.099028\n",
      "LBFGS:    4 11:45:25      -95.787117        0.014244\n",
      "LBFGS:    5 11:45:25      -95.787170        0.013021\n",
      "LBFGS:    6 11:45:25      -95.787193        0.007412\n",
      "       Step     Time          Energy          fmax\n",
      "LBFGS:    0 11:45:25     -287.921082        0.342397\n",
      "LBFGS:    1 11:45:25     -287.927368        0.139070\n",
      "LBFGS:    2 11:45:25     -287.930481        0.088745\n",
      "LBFGS:    3 11:45:25     -287.934204        0.084712\n",
      "LBFGS:    4 11:45:25     -287.935608        0.080481\n",
      "LBFGS:    5 11:45:25     -287.937988        0.055796\n",
      "LBFGS:    6 11:45:25     -287.939453        0.061115\n",
      "LBFGS:    7 11:45:25     -287.940704        0.059167\n",
      "LBFGS:    8 11:45:26     -287.941650        0.049369\n",
      "LBFGS:    9 11:45:26     -287.942291        0.031595\n",
      "LBFGS:   10 11:45:26     -287.942505        0.016230\n",
      "LBFGS:   11 11:45:26     -287.942596        0.013669\n",
      "LBFGS:   12 11:45:26     -287.942719        0.013625\n",
      "LBFGS:   13 11:45:27     -287.942810        0.018931\n",
      "LBFGS:   14 11:45:27     -287.943024        0.023454\n",
      "LBFGS:   15 11:45:27     -287.943329        0.029019\n",
      "LBFGS:   16 11:45:28     -287.943604        0.028496\n",
      "LBFGS:   17 11:45:28     -287.943787        0.020250\n",
      "LBFGS:   18 11:45:28     -287.943848        0.020561\n",
      "LBFGS:   19 11:45:28     -287.943970        0.020663\n",
      "LBFGS:   20 11:45:29     -287.944092        0.022563\n",
      "LBFGS:   21 11:45:29     -287.944214        0.023908\n",
      "LBFGS:   22 11:45:29     -287.944305        0.021625\n",
      "LBFGS:   23 11:45:29     -287.944427        0.021282\n",
      "LBFGS:   24 11:45:30     -287.944580        0.020960\n",
      "LBFGS:   25 11:45:30     -287.944763        0.032017\n",
      "LBFGS:   26 11:45:30     -287.945007        0.039091\n",
      "LBFGS:   27 11:45:30     -287.945282        0.033245\n",
      "LBFGS:   28 11:45:31     -287.945557        0.027975\n",
      "LBFGS:   29 11:45:31     -287.945862        0.027552\n",
      "LBFGS:   30 11:45:31     -287.946228        0.027977\n",
      "LBFGS:   31 11:45:31     -287.946411        0.019939\n",
      "LBFGS:   32 11:45:31     -287.946503        0.014663\n",
      "LBFGS:   33 11:45:31     -287.946625        0.016373\n",
      "LBFGS:   34 11:45:32     -287.946777        0.018179\n",
      "LBFGS:   35 11:45:32     -287.946838        0.017951\n",
      "LBFGS:   36 11:45:32     -287.946899        0.007760\n",
      "       Step     Time          Energy          fmax\n",
      "LBFGS:    0 11:45:32     -141.301071        0.114096\n",
      "LBFGS:    1 11:45:33     -141.302246        0.068304\n",
      "LBFGS:    2 11:45:33     -141.302887        0.009072\n",
      "       Step     Time          Energy          fmax\n",
      "LBFGS:    0 11:45:33     -128.660492        0.025195\n",
      "LBFGS:    1 11:45:33     -128.660522        0.024518\n",
      "LBFGS:    2 11:45:33     -128.660767        0.020267\n",
      "LBFGS:    3 11:45:33     -128.660828        0.017917\n",
      "LBFGS:    4 11:45:34     -128.660889        0.004640\n",
      "       Step     Time          Energy          fmax\n",
      "LBFGS:    0 11:45:34     -144.953735        0.070740\n",
      "LBFGS:    1 11:45:34     -144.954269        0.050108\n",
      "LBFGS:    2 11:45:35     -144.954773        0.050193\n",
      "LBFGS:    3 11:45:35     -144.954926        0.047548\n",
      "LBFGS:    4 11:45:36     -144.955688        0.041292\n",
      "LBFGS:    5 11:45:36     -144.956055        0.029573\n",
      "LBFGS:    6 11:45:36     -144.956161        0.007893\n",
      "       Step     Time          Energy          fmax\n",
      "LBFGS:    0 11:45:36     -818.111084        0.251793\n",
      "LBFGS:    1 11:45:36     -818.131226        0.136784\n",
      "LBFGS:    2 11:45:36     -818.138489        0.124596\n",
      "LBFGS:    3 11:45:37     -818.147217        0.134361\n"
     ]
    },
    {
     "name": "stderr",
     "output_type": "stream",
     "text": [
      "_util.py:1233: RuntimeWarning: logm result may be inaccurate, approximate err = 8.038502334256837e-13\n",
      "_util.py:1233: RuntimeWarning: logm result may be inaccurate, approximate err = 7.986960295955828e-13\n"
     ]
    },
    {
     "name": "stdout",
     "output_type": "stream",
     "text": [
      "LBFGS:    4 11:45:37     -818.160217        0.136061\n",
      "LBFGS:    5 11:45:37     -818.168335        0.124493\n"
     ]
    },
    {
     "name": "stderr",
     "output_type": "stream",
     "text": [
      "_util.py:1233: RuntimeWarning: logm result may be inaccurate, approximate err = 7.972729744953495e-13\n",
      "_util.py:1233: RuntimeWarning: logm result may be inaccurate, approximate err = 7.987667493803907e-13\n"
     ]
    },
    {
     "name": "stdout",
     "output_type": "stream",
     "text": [
      "LBFGS:    6 11:45:37     -818.173462        0.109685\n",
      "LBFGS:    7 11:45:37     -818.178223        0.096139\n"
     ]
    },
    {
     "name": "stderr",
     "output_type": "stream",
     "text": [
      "_util.py:1233: RuntimeWarning: logm result may be inaccurate, approximate err = 8.024025399796401e-13\n",
      "_util.py:1233: RuntimeWarning: logm result may be inaccurate, approximate err = 8.022159105815116e-13\n"
     ]
    },
    {
     "name": "stdout",
     "output_type": "stream",
     "text": [
      "LBFGS:    8 11:45:37     -818.183594        0.095598\n"
     ]
    },
    {
     "name": "stderr",
     "output_type": "stream",
     "text": [
      "_util.py:1233: RuntimeWarning: logm result may be inaccurate, approximate err = 7.998584264793501e-13\n"
     ]
    },
    {
     "name": "stdout",
     "output_type": "stream",
     "text": [
      "LBFGS:    9 11:45:38     -818.188965        0.080838\n"
     ]
    },
    {
     "name": "stderr",
     "output_type": "stream",
     "text": [
      "_util.py:1233: RuntimeWarning: logm result may be inaccurate, approximate err = 8.002880430697626e-13\n"
     ]
    },
    {
     "name": "stdout",
     "output_type": "stream",
     "text": [
      "LBFGS:   10 11:45:38     -818.193665        0.105030\n"
     ]
    },
    {
     "name": "stderr",
     "output_type": "stream",
     "text": [
      "_util.py:1233: RuntimeWarning: logm result may be inaccurate, approximate err = 8.02218145042208e-13\n"
     ]
    },
    {
     "name": "stdout",
     "output_type": "stream",
     "text": [
      "LBFGS:   11 11:45:38     -818.198120        0.093632\n"
     ]
    },
    {
     "name": "stderr",
     "output_type": "stream",
     "text": [
      "_util.py:1233: RuntimeWarning: logm result may be inaccurate, approximate err = 8.008357076006288e-13\n",
      "_util.py:1233: RuntimeWarning: logm result may be inaccurate, approximate err = 8.07190915989517e-13\n"
     ]
    },
    {
     "name": "stdout",
     "output_type": "stream",
     "text": [
      "LBFGS:   12 11:45:39     -818.202148        0.077864\n",
      "LBFGS:   13 11:45:39     -818.205566        0.066159\n"
     ]
    },
    {
     "name": "stderr",
     "output_type": "stream",
     "text": [
      "_util.py:1233: RuntimeWarning: logm result may be inaccurate, approximate err = 8.029124915734486e-13\n"
     ]
    },
    {
     "name": "stdout",
     "output_type": "stream",
     "text": [
      "LBFGS:   14 11:45:39     -818.207520        0.052979\n"
     ]
    },
    {
     "name": "stderr",
     "output_type": "stream",
     "text": [
      "_util.py:1233: RuntimeWarning: logm result may be inaccurate, approximate err = 8.068782596176449e-13\n",
      "_util.py:1233: RuntimeWarning: logm result may be inaccurate, approximate err = 8.062300275149304e-13\n"
     ]
    },
    {
     "name": "stdout",
     "output_type": "stream",
     "text": [
      "LBFGS:   15 11:45:40     -818.209595        0.055612\n"
     ]
    },
    {
     "name": "stderr",
     "output_type": "stream",
     "text": [
      "_util.py:1233: RuntimeWarning: logm result may be inaccurate, approximate err = 8.037295032195559e-13\n"
     ]
    },
    {
     "name": "stdout",
     "output_type": "stream",
     "text": [
      "LBFGS:   16 11:45:41     -818.212036        0.070229\n",
      "LBFGS:   17 11:45:42     -818.214966        0.068100\n"
     ]
    },
    {
     "name": "stderr",
     "output_type": "stream",
     "text": [
      "_util.py:1233: RuntimeWarning: logm result may be inaccurate, approximate err = 8.048190088952341e-13\n"
     ]
    },
    {
     "name": "stdout",
     "output_type": "stream",
     "text": [
      "LBFGS:   18 11:45:42     -818.216736        0.049050\n"
     ]
    },
    {
     "name": "stderr",
     "output_type": "stream",
     "text": [
      "_util.py:1233: RuntimeWarning: logm result may be inaccurate, approximate err = 8.039940279934767e-13\n"
     ]
    },
    {
     "name": "stdout",
     "output_type": "stream",
     "text": [
      "LBFGS:   19 11:45:42     -818.217651        0.040742\n"
     ]
    },
    {
     "name": "stderr",
     "output_type": "stream",
     "text": [
      "_util.py:1233: RuntimeWarning: logm result may be inaccurate, approximate err = 7.998787494606872e-13\n"
     ]
    },
    {
     "name": "stdout",
     "output_type": "stream",
     "text": [
      "LBFGS:   20 11:45:43     -818.218628        0.046512\n"
     ]
    },
    {
     "name": "stderr",
     "output_type": "stream",
     "text": [
      "_util.py:1233: RuntimeWarning: logm result may be inaccurate, approximate err = 8.034438558951059e-13\n"
     ]
    },
    {
     "name": "stdout",
     "output_type": "stream",
     "text": [
      "LBFGS:   21 11:45:43     -818.220093        0.050516\n"
     ]
    },
    {
     "name": "stderr",
     "output_type": "stream",
     "text": [
      "_util.py:1233: RuntimeWarning: logm result may be inaccurate, approximate err = 8.039384920655902e-13\n"
     ]
    },
    {
     "name": "stdout",
     "output_type": "stream",
     "text": [
      "LBFGS:   22 11:45:43     -818.221436        0.047432\n"
     ]
    },
    {
     "name": "stderr",
     "output_type": "stream",
     "text": [
      "_util.py:1233: RuntimeWarning: logm result may be inaccurate, approximate err = 7.985681843254111e-13\n"
     ]
    },
    {
     "name": "stdout",
     "output_type": "stream",
     "text": [
      "LBFGS:   23 11:45:44     -818.222534        0.036524\n"
     ]
    },
    {
     "name": "stderr",
     "output_type": "stream",
     "text": [
      "_util.py:1233: RuntimeWarning: logm result may be inaccurate, approximate err = 8.059433875041456e-13\n",
      "_util.py:1233: RuntimeWarning: logm result may be inaccurate, approximate err = 8.091659660253207e-13\n"
     ]
    },
    {
     "name": "stdout",
     "output_type": "stream",
     "text": [
      "LBFGS:   24 11:45:44     -818.222900        0.022740\n"
     ]
    },
    {
     "name": "stderr",
     "output_type": "stream",
     "text": [
      "_util.py:1233: RuntimeWarning: logm result may be inaccurate, approximate err = 8.074521863147697e-13\n"
     ]
    },
    {
     "name": "stdout",
     "output_type": "stream",
     "text": [
      "LBFGS:   25 11:45:45     -818.223511        0.028003\n"
     ]
    },
    {
     "name": "stderr",
     "output_type": "stream",
     "text": [
      "_util.py:1233: RuntimeWarning: logm result may be inaccurate, approximate err = 8.057371007909609e-13\n"
     ]
    },
    {
     "name": "stdout",
     "output_type": "stream",
     "text": [
      "LBFGS:   26 11:45:46     -818.223999        0.030218\n"
     ]
    },
    {
     "name": "stderr",
     "output_type": "stream",
     "text": [
      "_util.py:1233: RuntimeWarning: logm result may be inaccurate, approximate err = 8.013804173347643e-13\n"
     ]
    },
    {
     "name": "stdout",
     "output_type": "stream",
     "text": [
      "LBFGS:   27 11:45:47     -818.224792        0.028617\n"
     ]
    },
    {
     "name": "stderr",
     "output_type": "stream",
     "text": [
      "_util.py:1233: RuntimeWarning: logm result may be inaccurate, approximate err = 8.03517281282796e-13\n"
     ]
    },
    {
     "name": "stdout",
     "output_type": "stream",
     "text": [
      "LBFGS:   28 11:45:48     -818.225220        0.020682\n"
     ]
    },
    {
     "name": "stderr",
     "output_type": "stream",
     "text": [
      "_util.py:1233: RuntimeWarning: logm result may be inaccurate, approximate err = 8.044754929635917e-13\n"
     ]
    },
    {
     "name": "stdout",
     "output_type": "stream",
     "text": [
      "LBFGS:   29 11:45:49     -818.225586        0.014167\n",
      "LBFGS:   30 11:45:49     -818.225464        0.015241\n"
     ]
    },
    {
     "name": "stderr",
     "output_type": "stream",
     "text": [
      "_util.py:1233: RuntimeWarning: logm result may be inaccurate, approximate err = 8.096371198341393e-13\n"
     ]
    },
    {
     "name": "stdout",
     "output_type": "stream",
     "text": [
      "LBFGS:   31 11:45:50     -818.225647        0.015476\n"
     ]
    },
    {
     "name": "stderr",
     "output_type": "stream",
     "text": [
      "_util.py:1233: RuntimeWarning: logm result may be inaccurate, approximate err = 7.987914425152645e-13\n",
      "_util.py:1233: RuntimeWarning: logm result may be inaccurate, approximate err = 8.047999123322105e-13\n"
     ]
    },
    {
     "name": "stdout",
     "output_type": "stream",
     "text": [
      "LBFGS:   32 11:45:50     -818.225891        0.014302\n"
     ]
    },
    {
     "name": "stderr",
     "output_type": "stream",
     "text": [
      "_util.py:1233: RuntimeWarning: logm result may be inaccurate, approximate err = 8.0263314298184e-13\n"
     ]
    },
    {
     "name": "stdout",
     "output_type": "stream",
     "text": [
      "LBFGS:   33 11:45:51     -818.225952        0.013523\n",
      "LBFGS:   34 11:45:52     -818.226257        0.011235\n"
     ]
    },
    {
     "name": "stderr",
     "output_type": "stream",
     "text": [
      "_util.py:1233: RuntimeWarning: logm result may be inaccurate, approximate err = 7.995403613492688e-13\n",
      "_util.py:1233: RuntimeWarning: logm result may be inaccurate, approximate err = 8.039893961370906e-13\n"
     ]
    },
    {
     "name": "stdout",
     "output_type": "stream",
     "text": [
      "LBFGS:   35 11:45:53     -818.226074        0.010602\n"
     ]
    },
    {
     "name": "stderr",
     "output_type": "stream",
     "text": [
      "_util.py:1233: RuntimeWarning: logm result may be inaccurate, approximate err = 8.009549318596692e-13\n"
     ]
    },
    {
     "name": "stdout",
     "output_type": "stream",
     "text": [
      "LBFGS:   36 11:45:54     -818.226318        0.010853\n"
     ]
    },
    {
     "name": "stderr",
     "output_type": "stream",
     "text": [
      "_util.py:1233: RuntimeWarning: logm result may be inaccurate, approximate err = 8.057175141976248e-13\n"
     ]
    },
    {
     "name": "stdout",
     "output_type": "stream",
     "text": [
      "LBFGS:   37 11:45:55     -818.226318        0.011655\n",
      "LBFGS:   38 11:45:56     -818.226196        0.012483\n"
     ]
    },
    {
     "name": "stderr",
     "output_type": "stream",
     "text": [
      "_util.py:1233: RuntimeWarning: logm result may be inaccurate, approximate err = 8.011182327770568e-13\n",
      "_util.py:1233: RuntimeWarning: logm result may be inaccurate, approximate err = 8.075485981142657e-13\n"
     ]
    },
    {
     "name": "stdout",
     "output_type": "stream",
     "text": [
      "LBFGS:   39 11:45:57     -818.226379        0.013066\n"
     ]
    },
    {
     "name": "stderr",
     "output_type": "stream",
     "text": [
      "_util.py:1233: RuntimeWarning: logm result may be inaccurate, approximate err = 8.016970741428453e-13\n"
     ]
    },
    {
     "name": "stdout",
     "output_type": "stream",
     "text": [
      "LBFGS:   40 11:45:58     -818.226440        0.012988\n"
     ]
    },
    {
     "name": "stderr",
     "output_type": "stream",
     "text": [
      "_util.py:1233: RuntimeWarning: logm result may be inaccurate, approximate err = 8.005802412929594e-13\n"
     ]
    },
    {
     "name": "stdout",
     "output_type": "stream",
     "text": [
      "LBFGS:   41 11:45:59     -818.226440        0.012182\n"
     ]
    },
    {
     "name": "stderr",
     "output_type": "stream",
     "text": [
      "_util.py:1233: RuntimeWarning: logm result may be inaccurate, approximate err = 8.077750870525132e-13\n"
     ]
    },
    {
     "name": "stdout",
     "output_type": "stream",
     "text": [
      "LBFGS:   42 11:46:00     -818.226440        0.011178\n"
     ]
    },
    {
     "name": "stderr",
     "output_type": "stream",
     "text": [
      "_util.py:1233: RuntimeWarning: logm result may be inaccurate, approximate err = 8.059937260363404e-13\n"
     ]
    },
    {
     "name": "stdout",
     "output_type": "stream",
     "text": [
      "LBFGS:   43 11:46:01     -818.226562        0.009958\n",
      "       Step     Time          Energy          fmax\n",
      "LBFGS:    0 11:46:02     -257.339020        0.271894\n",
      "LBFGS:    1 11:46:03     -257.346100        0.154906\n",
      "LBFGS:    2 11:46:03     -257.351410        0.067550\n",
      "LBFGS:    3 11:46:04     -257.351898        0.066296\n",
      "LBFGS:    4 11:46:04     -257.352661        0.061455\n",
      "LBFGS:    5 11:46:05     -257.353058        0.058520\n",
      "LBFGS:    6 11:46:05     -257.353790        0.051358\n",
      "LBFGS:    7 11:46:06     -257.354156        0.046186\n",
      "LBFGS:    8 11:46:06     -257.354553        0.040274\n",
      "LBFGS:    9 11:46:07     -257.354889        0.044540\n",
      "LBFGS:   10 11:46:07     -257.355286        0.037037\n",
      "LBFGS:   11 11:46:07     -257.355560        0.032199\n",
      "LBFGS:   12 11:46:07     -257.355743        0.024582\n",
      "LBFGS:   13 11:46:07     -257.355896        0.018934\n",
      "LBFGS:   14 11:46:07     -257.355988        0.013864\n",
      "LBFGS:   15 11:46:07     -257.355988        0.013661\n",
      "LBFGS:   16 11:46:07     -257.355988        0.013463\n",
      "LBFGS:   17 11:46:07     -257.356079        0.013051\n",
      "LBFGS:   18 11:46:08     -257.356049        0.012493\n",
      "LBFGS:   19 11:46:08     -257.356079        0.011841\n",
      "LBFGS:   20 11:46:08     -257.356049        0.010921\n",
      "LBFGS:   21 11:46:08     -257.356110        0.009355\n",
      "       Step     Time          Energy          fmax\n",
      "LBFGS:    0 11:46:09    -1184.625977        0.329484\n",
      "LBFGS:    1 11:46:09    -1184.681152        0.310014\n",
      "LBFGS:    2 11:46:10    -1184.776733        0.292451\n",
      "LBFGS:    3 11:46:11    -1184.810059        0.306478\n",
      "LBFGS:    4 11:46:12    -1184.849854        0.225959\n",
      "LBFGS:    5 11:46:13    -1184.856934        0.228143\n",
      "LBFGS:    6 11:46:13    -1184.866577        0.230192\n",
      "LBFGS:    7 11:46:14    -1184.881714        0.227418\n",
      "LBFGS:    8 11:46:15    -1184.909668        0.265674\n",
      "LBFGS:    9 11:46:15    -1184.943604        0.226719\n",
      "LBFGS:   10 11:46:16    -1184.975098        0.150270\n",
      "LBFGS:   11 11:46:16    -1184.995605        0.136961\n",
      "LBFGS:   12 11:46:16    -1185.013184        0.187732\n",
      "LBFGS:   13 11:46:17    -1185.031494        0.166124\n",
      "LBFGS:   14 11:46:17    -1185.049561        0.119522\n",
      "LBFGS:   15 11:46:18    -1185.065796        0.115706\n",
      "LBFGS:   16 11:46:18    -1185.080566        0.175334\n",
      "LBFGS:   17 11:46:19    -1185.093872        0.181525\n",
      "LBFGS:   18 11:46:19    -1185.106079        0.144788\n",
      "LBFGS:   19 11:46:19    -1185.119385        0.134381\n",
      "LBFGS:   20 11:46:20    -1185.134521        0.134120\n",
      "LBFGS:   21 11:46:21    -1185.148193        0.167029\n",
      "LBFGS:   22 11:46:21    -1185.158081        0.115068\n",
      "LBFGS:   23 11:46:22    -1185.164307        0.075422\n",
      "LBFGS:   24 11:46:22    -1185.169922        0.087619\n",
      "LBFGS:   25 11:46:23    -1185.177246        0.113442\n",
      "LBFGS:   26 11:46:23    -1185.185059        0.121046\n",
      "LBFGS:   27 11:46:24    -1185.189453        0.074976\n",
      "LBFGS:   28 11:46:24    -1185.192383        0.052624\n",
      "LBFGS:   29 11:46:25    -1185.194458        0.063645\n",
      "LBFGS:   30 11:46:25    -1185.197510        0.076082\n",
      "LBFGS:   31 11:46:25    -1185.200562        0.070731\n",
      "LBFGS:   32 11:46:26    -1185.202393        0.043084\n",
      "LBFGS:   33 11:46:26    -1185.203613        0.033000\n",
      "LBFGS:   34 11:46:27    -1185.204712        0.042318\n",
      "LBFGS:   35 11:46:27    -1185.205566        0.038007\n",
      "LBFGS:   36 11:46:28    -1185.206421        0.036241\n",
      "LBFGS:   37 11:46:29    -1185.207031        0.028183\n",
      "LBFGS:   38 11:46:29    -1185.207886        0.026590\n",
      "LBFGS:   39 11:46:29    -1185.208374        0.032324\n",
      "LBFGS:   40 11:46:29    -1185.209106        0.035093\n",
      "LBFGS:   41 11:46:30    -1185.209961        0.037687\n",
      "LBFGS:   42 11:46:30    -1185.210571        0.031010\n",
      "LBFGS:   43 11:46:31    -1185.211670        0.028064\n",
      "LBFGS:   44 11:46:32    -1185.211914        0.026826\n",
      "LBFGS:   45 11:46:33    -1185.212402        0.018564\n",
      "LBFGS:   46 11:46:34    -1185.212402        0.016250\n",
      "LBFGS:   47 11:46:36    -1185.212646        0.017107\n",
      "LBFGS:   48 11:46:37    -1185.212891        0.022843\n",
      "LBFGS:   49 11:46:38    -1185.213257        0.019053\n",
      "LBFGS:   50 11:46:39    -1185.213501        0.009679\n"
     ]
    }
   ],
   "source": [
    "relaxed_Al_prim = {}\n",
    "for name, val in matching_pairs.items():\n",
    "    structure, energy = relax_structure(val['structure'])\n",
    "    relaxed_Al_prim[name] = {\n",
    "        'formula': val['formula'],\n",
    "        'energy': energy,\n",
    "        'structure': structure\n",
    "    }"
   ]
  },
  {
   "cell_type": "code",
   "execution_count": 30,
   "id": "8bf5ea43-f03d-4ced-92c8-71298fe5c28c",
   "metadata": {},
   "outputs": [],
   "source": [
    "dumpfn(relaxed_Al_prim, f'../data/{MODEL}_relaxed_Al_prim.json')"
   ]
  },
  {
   "cell_type": "markdown",
   "id": "edd567a7-2c37-4379-82e2-589474094495",
   "metadata": {},
   "source": [
    "## Defect Creation and Relaxation"
   ]
  },
  {
   "cell_type": "markdown",
   "id": "3b9abc49-cf18-4082-a3f5-7445b288c416",
   "metadata": {},
   "source": [
    "Load in all relaxed primitive Al Oxide structures\n",
    "<br>Loop through all Al oxides \n",
    "<br>Create function using doped and shakenbreak for each structure\n",
    "<br>Create function that loops over unpertubed and all disortions and uses MLIP to calc energies - append structure and energies to data dict\n",
    "<br>get energy difference from unperturbed for each Al oxide and append to dictionary or list for bar chart - can do this manually in loop \n",
    "<br>dumpfn the data dict and list of energy differences, or maybe add energy diff to data dict as 'delta_e' key?\n",
    "<br>Plot bar chart for all metal oxides and their energy relative to unperturbed"
   ]
  },
  {
   "cell_type": "code",
   "execution_count": 31,
   "id": "7c6909ac-570b-4dc3-ad3c-d363d59de520",
   "metadata": {
    "scrolled": true
   },
   "outputs": [],
   "source": [
    "from doped.generation import DefectsGenerator\n",
    "from shakenbreak.input import Distortions"
   ]
  },
  {
   "cell_type": "code",
   "execution_count": 32,
   "id": "98705953-4a4f-443a-af00-ffcdb3b77e39",
   "metadata": {},
   "outputs": [],
   "source": [
    "supercell_size = 10"
   ]
  },
  {
   "cell_type": "code",
   "execution_count": 33,
   "id": "7fbf047a-4b68-461c-ae60-f318b2ba7dab",
   "metadata": {},
   "outputs": [],
   "source": [
    "def create_defect(structure):\n",
    "    defect_gen = DefectsGenerator(structure, extrinsic=\"Cr\", interstitial_gen_kwargs=False, supercell_gen_kwargs={'min_image_distance':supercell_size} ) # set large super cell 25 Angstroms 'supercell_gen_kwargs={'min_image_distance':15}'\n",
    "    valid_keys = []\n",
    "    for key in defect_gen.keys():\n",
    "        if  key[:5] == 'Cr_Al' and key[-1] == '0':\n",
    "            valid_keys.append(key)\n",
    "    Dist = Distortions(\n",
    "        defect_entries = {key: defect_gen[key] for key in valid_keys}, # NO Cr_Al_0 for Al2(SO4)3\n",
    "        # oxidation_states={} # oxidation states predicted are good for now\n",
    "    )\n",
    "    distorted_defects_dict, Dist.distortion_metadata = Dist.apply_distortions()\n",
    "    unperturbed_structures = {}\n",
    "    distortions = {}\n",
    "    for key in valid_keys:\n",
    "        unperturbed_structures[key] = distorted_defects_dict[key[:-2]]['charges'][0]['structures']['Unperturbed']\n",
    "        distortions[key] = distorted_defects_dict[key[:-2]]['charges'][0]['structures']['distortions']\n",
    "\n",
    "    return dict(unperturbed_structures), dict(distortions), defect_gen.bulk_supercell"
   ]
  },
  {
   "cell_type": "code",
   "execution_count": 34,
   "id": "3d853a80-f382-4a88-9c24-c1bff035724a",
   "metadata": {},
   "outputs": [],
   "source": [
    "def get_energy(unperturbed_structures, distortions, supercell):\n",
    "    data = defaultdict(dict)\n",
    "    supercell_struct, supercell_e = relax_defect(supercell)\n",
    "    data['supercell'] = {\n",
    "        'structure': supercell_struct,\n",
    "        'energy': supercell_e\n",
    "    }\n",
    "    \n",
    "    for site, unperturbed_structure in unperturbed_structures.items():\n",
    "        data[site] = defaultdict(dict)\n",
    "        data[site]['unperturbed'] = defaultdict(dict)\n",
    "        unperturbed_structure1, unp_energy = relax_defect(unperturbed_structure)\n",
    "        data[site]['unperturbed'] = {\n",
    "        'structure':unperturbed_structure1,\n",
    "        'energy': unp_energy,\n",
    "        'distortion_amount':'N/A'\n",
    "        }\n",
    "        data[site]['distortions'] = defaultdict(dict)\n",
    "        for key, structure in distortions[site].items():\n",
    "            structure1, energy = relax_defect(structure)\n",
    "            if key != 'Rattled':\n",
    "                distortion_amount = float(key.split(\"_\")[-1].replace(\"%\", \"\").replace(\"-\", \"-\"))/100\n",
    "            else:\n",
    "                distortion_amount = 0\n",
    "            data[site]['distortions'][key] = {\n",
    "                'structure': structure1,\n",
    "                'energy': energy,\n",
    "                'distortion_amount': distortion_amount,\n",
    "                'delta_e': energy - unp_energy\n",
    "            }\n",
    "    \n",
    "    return dict(data)"
   ]
  },
  {
   "cell_type": "code",
   "execution_count": 35,
   "id": "eef481f7",
   "metadata": {},
   "outputs": [],
   "source": [
    "Al_prim = loadfn(f'../data/{MODEL}_relaxed_Al_prim.json')\n",
    "del Al_prim['mp-554152']"
   ]
  },
  {
   "cell_type": "code",
   "execution_count": 36,
   "id": "1785cd8a-7d25-4fdd-9535-cf967659688c",
   "metadata": {
    "scrolled": true
   },
   "outputs": [
    {
     "name": "stderr",
     "output_type": "stream",
     "text": [
      "Generating DefectEntry objects: 100.0%|████████████████████████████████████████████████████████████| [02:35,   1.55s/it]\n"
     ]
    },
    {
     "name": "stdout",
     "output_type": "stream",
     "text": [
      "Vacancies                 Guessed Charges        Conv. Cell Coords    Wyckoff\n",
      "------------------------  ---------------------  -------------------  ---------\n",
      "v_Al                      [+1,0,-1,-2,-3]        [0.385,0.361,0.121]  4e\n",
      "v_P_C1_O1.47              [+1,0,-1,-2,-3,-4,-5]  [0.298,0.338,0.482]  4e\n",
      "v_P_C1_O1.48O1.58         [+1,0,-1,-2,-3,-4,-5]  [0.355,0.045,0.282]  4e\n",
      "v_P_C1_O1.48O1.59         [+1,0,-1,-2,-3,-4,-5]  [0.086,0.887,0.293]  4e\n",
      "v_O_C1_P1.47              [+2,+1,0,-1]           [0.324,0.241,0.091]  4e\n",
      "v_O_C1_P1.48Al1.87O2.49   [+2,+1,0,-1]           [0.694,0.341,0.143]  4e\n",
      "v_O_C1_P1.48Al1.87O2.50a  [+2,+1,0,-1]           [0.077,0.386,0.100]  4e\n",
      "v_O_C1_P1.48Al1.87O2.50b  [+2,+1,0,-1]           [0.335,0.122,0.388]  4e\n",
      "v_O_C1_P1.49Al1.89        [+2,+1,0,-1]           [0.437,0.347,0.358]  4e\n",
      "v_O_C1_P1.49Al1.92        [+2,+1,0,-1]           [0.444,0.485,0.161]  4e\n",
      "v_O_C1_P1.58              [+2,+1,0,-1]           [0.346,0.076,0.097]  4e\n",
      "v_O_C1_P1.59O2.44         [+2,+1,0,-1]           [0.127,0.512,0.748]  4e\n",
      "v_O_C1_P1.59O2.46         [+2,+1,0,-1]           [0.035,0.348,0.389]  4e\n",
      "\n",
      "Substitutions              Guessed Charges              Conv. Cell Coords    Wyckoff\n",
      "-------------------------  ---------------------------  -------------------  ---------\n",
      "Al_P_C1_O1.47              [0,-1,-2]                    [0.298,0.338,0.482]  4e\n",
      "Al_P_C1_O1.48O1.58         [0,-1,-2]                    [0.355,0.045,0.282]  4e\n",
      "Al_P_C1_O1.48O1.59         [0,-1,-2]                    [0.086,0.887,0.293]  4e\n",
      "Al_O_C1_P1.47              [+5,+4,+3,+2,+1,0]           [0.324,0.241,0.091]  4e\n",
      "Al_O_C1_P1.48Al1.87O2.49   [+5,+4,+3,+2,+1,0]           [0.694,0.341,0.143]  4e\n",
      "Al_O_C1_P1.48Al1.87O2.50a  [+5,+4,+3,+2,+1,0]           [0.077,0.386,0.100]  4e\n",
      "Al_O_C1_P1.48Al1.87O2.50b  [+5,+4,+3,+2,+1,0]           [0.335,0.122,0.388]  4e\n",
      "Al_O_C1_P1.49Al1.89        [+5,+4,+3,+2,+1,0]           [0.437,0.347,0.358]  4e\n",
      "Al_O_C1_P1.49Al1.92        [+5,+4,+3,+2,+1,0]           [0.444,0.485,0.161]  4e\n",
      "Al_O_C1_P1.58              [+5,+4,+3,+2,+1,0]           [0.346,0.076,0.097]  4e\n",
      "Al_O_C1_P1.59O2.44         [+5,+4,+3,+2,+1,0]           [0.127,0.512,0.748]  4e\n",
      "Al_O_C1_P1.59O2.46         [+5,+4,+3,+2,+1,0]           [0.035,0.348,0.389]  4e\n",
      "P_Al                       [+2,+1,0,-1,-2,-3,-4,-5,-6]  [0.385,0.361,0.121]  4e\n",
      "P_O_C1_P1.47               [+7,+6,+5,+4,+3,+2,+1,0,-1]  [0.324,0.241,0.091]  4e\n",
      "P_O_C1_P1.48Al1.87O2.49    [+7,+6,+5,+4,+3,+2,+1,0,-1]  [0.694,0.341,0.143]  4e\n",
      "P_O_C1_P1.48Al1.87O2.50a   [+7,+6,+5,+4,+3,+2,+1,0,-1]  [0.077,0.386,0.100]  4e\n",
      "P_O_C1_P1.48Al1.87O2.50b   [+7,+6,+5,+4,+3,+2,+1,0,-1]  [0.335,0.122,0.388]  4e\n",
      "P_O_C1_P1.49Al1.89         [+7,+6,+5,+4,+3,+2,+1,0,-1]  [0.437,0.347,0.358]  4e\n",
      "P_O_C1_P1.49Al1.92         [+7,+6,+5,+4,+3,+2,+1,0,-1]  [0.444,0.485,0.161]  4e\n",
      "P_O_C1_P1.58               [+7,+6,+5,+4,+3,+2,+1,0,-1]  [0.346,0.076,0.097]  4e\n",
      "P_O_C1_P1.59O2.44          [+7,+6,+5,+4,+3,+2,+1,0,-1]  [0.127,0.512,0.748]  4e\n",
      "P_O_C1_P1.59O2.46          [+7,+6,+5,+4,+3,+2,+1,0,-1]  [0.035,0.348,0.389]  4e\n",
      "O_Al                       [0,-1,-2,-3,-4,-5]           [0.385,0.361,0.121]  4e\n",
      "O_P_C1_O1.47               [0,-1,-2,-3,-4,-5,-6,-7]     [0.298,0.338,0.482]  4e\n",
      "O_P_C1_O1.48O1.58          [0,-1,-2,-3,-4,-5,-6,-7]     [0.355,0.045,0.282]  4e\n",
      "O_P_C1_O1.48O1.59          [0,-1,-2,-3,-4,-5,-6,-7]     [0.086,0.887,0.293]  4e\n",
      "Cr_Al                      [+3,+2,+1,0,-1]              [0.385,0.361,0.121]  4e\n",
      "Cr_P_C1_O1.47              [+1,0,-1,-2,-3]              [0.298,0.338,0.482]  4e\n",
      "Cr_P_C1_O1.48O1.58         [+1,0,-1,-2,-3]              [0.355,0.045,0.282]  4e\n",
      "Cr_P_C1_O1.48O1.59         [+1,0,-1,-2,-3]              [0.086,0.887,0.293]  4e\n",
      "Cr_O_C1_P1.47              [+8,+7,+6,+5,+4,+3,+2,+1,0]  [0.324,0.241,0.091]  4e\n",
      "Cr_O_C1_P1.48Al1.87O2.49   [+8,+7,+6,+5,+4,+3,+2,+1,0]  [0.694,0.341,0.143]  4e\n",
      "Cr_O_C1_P1.48Al1.87O2.50a  [+8,+7,+6,+5,+4,+3,+2,+1,0]  [0.077,0.386,0.100]  4e\n",
      "Cr_O_C1_P1.48Al1.87O2.50b  [+8,+7,+6,+5,+4,+3,+2,+1,0]  [0.335,0.122,0.388]  4e\n",
      "Cr_O_C1_P1.49Al1.89        [+8,+7,+6,+5,+4,+3,+2,+1,0]  [0.437,0.347,0.358]  4e\n",
      "Cr_O_C1_P1.49Al1.92        [+8,+7,+6,+5,+4,+3,+2,+1,0]  [0.444,0.485,0.161]  4e\n",
      "Cr_O_C1_P1.58              [+8,+7,+6,+5,+4,+3,+2,+1,0]  [0.346,0.076,0.097]  4e\n",
      "Cr_O_C1_P1.59O2.44         [+8,+7,+6,+5,+4,+3,+2,+1,0]  [0.127,0.512,0.748]  4e\n",
      "Cr_O_C1_P1.59O2.46         [+8,+7,+6,+5,+4,+3,+2,+1,0]  [0.035,0.348,0.389]  4e\n",
      "\n",
      "The number in the Wyckoff label is the site multiplicity/degeneracy of that defect in the conventional ('conv.') unit cell, which comprises 4 formula unit(s) of Al(PO3)3.\n",
      "\n",
      "Oxidation states were not explicitly set, thus have been guessed as {'Al': 3.0, 'P': 5.0, 'O': -2.0, 'Cr': 3.0}. If this is unreasonable you should manually set oxidation_states\n",
      "Applying ShakeNBreak... Will apply the following bond distortions: ['-0.6', '-0.5', '-0.4', '-0.3', '-0.2', '-0.1', '0.0', '0.1', '0.2', '0.3', '0.4', '0.5', '0.6', 'Dimer (for vacancies)']. Then, will rattle with a std dev of 0.15 Å \n",
      "\n"
     ]
    },
    {
     "name": "stderr",
     "output_type": "stream",
     "text": [
      "Generating distorted defect structures...100.0%|███████████████████████████████████████████████████| [00:00,   9.35it/s]\n"
     ]
    },
    {
     "name": "stdout",
     "output_type": "stream",
     "text": [
      "\u001b[1m\n",
      "Defect: Cr_Al\u001b[0m\n",
      "\u001b[1mNumber of missing electrons in neutral state: 0\u001b[0m\n",
      "\n",
      "Defect Cr_Al in charge state: 0. Number of distorted neighbours: 0\n",
      "       Step     Time          Energy          fmax\n",
      "LBFGS:    0 11:50:22    -1447.195190        0.006873\n",
      "       Step     Time          Energy          fmax\n",
      "LBFGS:    0 11:50:22    -1452.219360        0.988623\n",
      "LBFGS:    1 11:50:23    -1452.281738        0.502730\n",
      "LBFGS:    2 11:50:23    -1452.311646        0.316418\n",
      "LBFGS:    3 11:50:24    -1452.327881        0.153319\n",
      "LBFGS:    4 11:50:24    -1452.336060        0.142761\n",
      "LBFGS:    5 11:50:25    -1452.342041        0.126353\n",
      "LBFGS:    6 11:50:25    -1452.347656        0.110864\n",
      "LBFGS:    7 11:50:26    -1452.351807        0.135551\n",
      "LBFGS:    8 11:50:27    -1452.355225        0.125801\n",
      "LBFGS:    9 11:50:27    -1452.357056        0.087081\n",
      "LBFGS:   10 11:50:28    -1452.358643        0.060114\n",
      "LBFGS:   11 11:50:28    -1452.359497        0.058984\n",
      "LBFGS:   12 11:50:29    -1452.360840        0.052793\n",
      "LBFGS:   13 11:50:29    -1452.361328        0.049980\n",
      "LBFGS:   14 11:50:30    -1452.362305        0.047237\n",
      "LBFGS:   15 11:50:30    -1452.363281        0.039653\n",
      "LBFGS:   16 11:50:31    -1452.364136        0.058485\n",
      "LBFGS:   17 11:50:32    -1452.364746        0.067669\n",
      "LBFGS:   18 11:50:32    -1452.365723        0.051078\n",
      "LBFGS:   19 11:50:33    -1452.365967        0.029609\n",
      "LBFGS:   20 11:50:33    -1452.366211        0.029773\n",
      "LBFGS:   21 11:50:34    -1452.366577        0.032843\n",
      "LBFGS:   22 11:50:34    -1452.366943        0.036722\n",
      "LBFGS:   23 11:50:35    -1452.367310        0.026582\n",
      "LBFGS:   24 11:50:35    -1452.367920        0.019247\n",
      "LBFGS:   25 11:50:36    -1452.367920        0.019047\n",
      "LBFGS:   26 11:50:37    -1452.368164        0.018492\n",
      "LBFGS:   27 11:50:37    -1452.368408        0.019755\n",
      "LBFGS:   28 11:50:38    -1452.368530        0.015448\n",
      "LBFGS:   29 11:50:38    -1452.369141        0.013717\n",
      "LBFGS:   30 11:50:39    -1452.368896        0.015874\n",
      "LBFGS:   31 11:50:39    -1452.368652        0.015940\n",
      "LBFGS:   32 11:50:40    -1452.369019        0.013731\n",
      "LBFGS:   33 11:50:40    -1452.369385        0.012191\n",
      "LBFGS:   34 11:50:41    -1452.369263        0.011822\n",
      "LBFGS:   35 11:50:42    -1452.369385        0.011104\n",
      "LBFGS:   36 11:50:42    -1452.369507        0.011993\n",
      "LBFGS:   37 11:50:43    -1452.369629        0.013102\n",
      "LBFGS:   38 11:50:43    -1452.370117        0.012404\n",
      "LBFGS:   39 11:50:44    -1452.369751        0.010802\n",
      "LBFGS:   40 11:50:44    -1452.369873        0.009829\n",
      "       Step     Time          Energy          fmax\n",
      "LBFGS:    0 11:50:45    -1292.389160       65.032575\n",
      "LBFGS:    1 11:50:46    -1375.954346       17.488109\n",
      "LBFGS:    2 11:50:46    -1418.831909       11.727166\n",
      "LBFGS:    3 11:50:47    -1437.369385        6.545846\n",
      "LBFGS:    4 11:50:48    -1444.429688        4.277933\n",
      "LBFGS:    5 11:50:48    -1447.851807        2.399978\n",
      "LBFGS:    6 11:50:49    -1449.411621        2.037298\n",
      "LBFGS:    7 11:50:49    -1450.522217        1.228530\n",
      "LBFGS:    8 11:50:50    -1451.061157        1.057855\n",
      "LBFGS:    9 11:50:50    -1451.453491        0.727833\n",
      "LBFGS:   10 11:50:51    -1451.692383        0.555292\n",
      "LBFGS:   11 11:50:51    -1451.855469        0.428471\n",
      "LBFGS:   12 11:50:52    -1451.971191        0.479593\n",
      "LBFGS:   13 11:50:53    -1452.060425        0.353672\n",
      "LBFGS:   14 11:50:53    -1452.125244        0.359867\n",
      "LBFGS:   15 11:50:54    -1452.173584        0.275003\n",
      "LBFGS:   16 11:50:54    -1452.208130        0.229898\n",
      "LBFGS:   17 11:50:55    -1452.231689        0.228170\n",
      "LBFGS:   18 11:50:56    -1452.249634        0.164557\n",
      "LBFGS:   19 11:50:56    -1452.264893        0.116585\n",
      "LBFGS:   20 11:50:57    -1452.279053        0.119467\n",
      "LBFGS:   21 11:50:57    -1452.291382        0.148684\n",
      "LBFGS:   22 11:50:58    -1452.301270        0.105321\n",
      "LBFGS:   23 11:50:59    -1452.309570        0.102400\n",
      "LBFGS:   24 11:50:59    -1452.316895        0.089438\n",
      "LBFGS:   25 11:51:00    -1452.323608        0.087348\n",
      "LBFGS:   26 11:51:01    -1452.329102        0.083402\n",
      "LBFGS:   27 11:51:01    -1452.334106        0.083440\n",
      "LBFGS:   28 11:51:02    -1452.338989        0.076583\n",
      "LBFGS:   29 11:51:02    -1452.343018        0.067667\n",
      "LBFGS:   30 11:51:03    -1452.346313        0.065153\n",
      "LBFGS:   31 11:51:04    -1452.349121        0.059753\n",
      "LBFGS:   32 11:51:04    -1452.351929        0.058103\n",
      "LBFGS:   33 11:51:05    -1452.354614        0.049180\n",
      "LBFGS:   34 11:51:05    -1452.356323        0.046036\n",
      "LBFGS:   35 11:51:06    -1452.357666        0.040075\n",
      "LBFGS:   36 11:51:07    -1452.359131        0.049252\n",
      "LBFGS:   37 11:51:07    -1452.360352        0.047609\n",
      "LBFGS:   38 11:51:08    -1452.361694        0.042643\n",
      "LBFGS:   39 11:51:08    -1452.362793        0.034711\n",
      "LBFGS:   40 11:51:09    -1452.363525        0.046205\n",
      "LBFGS:   41 11:51:10    -1452.364502        0.045399\n",
      "LBFGS:   42 11:51:10    -1452.365234        0.027044\n",
      "LBFGS:   43 11:51:11    -1452.365845        0.023894\n",
      "LBFGS:   44 11:51:11    -1452.366455        0.028039\n",
      "LBFGS:   45 11:51:12    -1452.366943        0.035474\n",
      "LBFGS:   46 11:51:12    -1452.367310        0.027778\n",
      "LBFGS:   47 11:51:13    -1452.367554        0.018244\n",
      "LBFGS:   48 11:51:14    -1452.367920        0.019021\n",
      "LBFGS:   49 11:51:14    -1452.367676        0.026366\n",
      "LBFGS:   50 11:51:15    -1452.368286        0.030492\n",
      "LBFGS:   51 11:51:16    -1452.368530        0.023575\n",
      "LBFGS:   52 11:51:16    -1452.368896        0.017662\n",
      "LBFGS:   53 11:51:17    -1452.369019        0.013875\n",
      "LBFGS:   54 11:51:17    -1452.369507        0.013888\n",
      "LBFGS:   55 11:51:18    -1452.369873        0.012304\n",
      "LBFGS:   56 11:51:19    -1452.369507        0.011864\n",
      "LBFGS:   57 11:51:19    -1452.369385        0.012286\n",
      "LBFGS:   58 11:51:20    -1452.369873        0.009967\n"
     ]
    },
    {
     "name": "stderr",
     "output_type": "stream",
     "text": [
      "Generating DefectEntry objects: 100.0%|████████████████████████████████████████████████████████████| [00:27,   3.70it/s]\n"
     ]
    },
    {
     "name": "stdout",
     "output_type": "stream",
     "text": [
      "Vacancies    Guessed Charges    Conv. Cell Coords    Wyckoff\n",
      "-----------  -----------------  -------------------  ---------\n",
      "v_Li         [+1,0,-1]          [0.000,0.000,0.000]  3a\n",
      "v_Al         [+1,0,-1,-2,-3]    [0.000,0.000,0.500]  3b\n",
      "v_O          [+2,+1,0,-1]       [0.000,0.000,0.239]  6c\n",
      "\n",
      "Substitutions    Guessed Charges     Conv. Cell Coords    Wyckoff\n",
      "---------------  ------------------  -------------------  ---------\n",
      "Li_Al            [0,-1,-2]           [0.000,0.000,0.500]  3b\n",
      "Li_O             [+3,+2,+1,0]        [0.000,0.000,0.239]  6c\n",
      "Al_Li            [+2,+1,0]           [0.000,0.000,0.000]  3a\n",
      "Al_O             [+5,+4,+3,+2,+1,0]  [0.000,0.000,0.239]  6c\n",
      "O_Li             [0,-1,-2,-3]        [0.000,0.000,0.000]  3a\n",
      "O_Al             [0,-1,-2,-3,-4,-5]  [0.000,0.000,0.500]  3b\n",
      "Cr_Li            [+5,+4,+3,+2,+1,0]  [0.000,0.000,0.000]  3a\n",
      "Cr_Al            [+3,+2,+1,0,-1]     [0.000,0.000,0.500]  3b\n",
      "Cr_O             [+5,+4,+3,+2,+1,0]  [0.000,0.000,0.239]  6c\n",
      "\n",
      "The number in the Wyckoff label is the site multiplicity/degeneracy of that defect in the conventional ('conv.') unit cell, which comprises 3 formula unit(s) of LiAlO2.\n",
      "\n",
      "Oxidation states were not explicitly set, thus have been guessed as {'Li': 1.0, 'Al': 3.0, 'O': -2.0, 'Cr': 3.0}. If this is unreasonable you should manually set oxidation_states\n",
      "Applying ShakeNBreak... Will apply the following bond distortions: ['-0.6', '-0.5', '-0.4', '-0.3', '-0.2', '-0.1', '0.0', '0.1', '0.2', '0.3', '0.4', '0.5', '0.6', 'Dimer (for vacancies)']. Then, will rattle with a std dev of 0.19 Å \n",
      "\n"
     ]
    },
    {
     "name": "stderr",
     "output_type": "stream",
     "text": [
      "Generating distorted defect structures...0.0%|                                                         | [00:00,  ?it/s]"
     ]
    },
    {
     "name": "stdout",
     "output_type": "stream",
     "text": [
      "\u001b[1m\n",
      "Defect: Cr_Al\u001b[0m\n",
      "\u001b[1mNumber of missing electrons in neutral state: 0\u001b[0m\n",
      "\n",
      "Defect Cr_Al in charge state: 0. Number of distorted neighbours: 0\n"
     ]
    },
    {
     "name": "stderr",
     "output_type": "stream",
     "text": [
      "Generating distorted defect structures...100.0%|███████████████████████████████████████████████████| [00:00,   1.95it/s]\n"
     ]
    },
    {
     "name": "stdout",
     "output_type": "stream",
     "text": [
      "       Step     Time          Energy          fmax\n",
      "LBFGS:    0 11:51:48     -858.378052        0.002422\n",
      "       Step     Time          Energy          fmax\n",
      "LBFGS:    0 11:51:49     -863.937500        1.190106\n",
      "LBFGS:    1 11:51:49     -864.043152        0.842292\n",
      "LBFGS:    2 11:51:50     -864.160522        0.102932\n",
      "LBFGS:    3 11:51:51     -864.164612        0.069957\n",
      "LBFGS:    4 11:51:52     -864.167969        0.071985\n",
      "LBFGS:    5 11:51:52     -864.169922        0.057789\n",
      "LBFGS:    6 11:51:53     -864.171143        0.024592\n",
      "LBFGS:    7 11:51:54     -864.171509        0.020993\n",
      "LBFGS:    8 11:51:54     -864.171997        0.017616\n",
      "LBFGS:    9 11:51:55     -864.172119        0.020328\n",
      "LBFGS:   10 11:51:56     -864.172424        0.015891\n",
      "LBFGS:   11 11:51:57     -864.172729        0.012315\n",
      "LBFGS:   12 11:51:57     -864.172729        0.010543\n",
      "LBFGS:   13 11:51:58     -864.172913        0.006820\n",
      "       Step     Time          Energy          fmax\n",
      "LBFGS:    0 11:51:59     -794.401062       15.236652\n",
      "LBFGS:    1 11:52:00     -833.152039        5.937410\n",
      "LBFGS:    2 11:52:01     -851.438232        4.298984\n",
      "LBFGS:    3 11:52:01     -857.517944        2.662701\n",
      "LBFGS:    4 11:52:02     -859.811279        2.054036\n",
      "LBFGS:    5 11:52:03     -861.631165        1.134936\n",
      "LBFGS:    6 11:52:03     -862.492554        0.923661\n",
      "LBFGS:    7 11:52:04     -863.023499        0.824314\n",
      "LBFGS:    8 11:52:05     -863.337341        0.796132\n",
      "LBFGS:    9 11:52:06     -863.596985        0.569367\n",
      "LBFGS:   10 11:52:06     -863.777161        0.522827\n",
      "LBFGS:   11 11:52:07     -863.910034        0.461173\n",
      "LBFGS:   12 11:52:08     -863.991882        0.286489\n",
      "LBFGS:   13 11:52:08     -864.042419        0.247195\n",
      "LBFGS:   14 11:52:09     -864.078735        0.195357\n",
      "LBFGS:   15 11:52:10     -864.104797        0.184638\n",
      "LBFGS:   16 11:52:11     -864.122559        0.139081\n",
      "LBFGS:   17 11:52:11     -864.136230        0.136835\n",
      "LBFGS:   18 11:52:12     -864.147583        0.138022\n",
      "LBFGS:   19 11:52:13     -864.155945        0.102869\n",
      "LBFGS:   20 11:52:14     -864.161377        0.076742\n",
      "LBFGS:   21 11:52:14     -864.164856        0.067007\n",
      "LBFGS:   22 11:52:15     -864.167053        0.065502\n",
      "LBFGS:   23 11:52:16     -864.168640        0.043860\n",
      "LBFGS:   24 11:52:17     -864.169800        0.034337\n",
      "LBFGS:   25 11:52:17     -864.170715        0.030675\n",
      "LBFGS:   26 11:52:18     -864.171265        0.035977\n",
      "LBFGS:   27 11:52:19     -864.171936        0.027904\n",
      "LBFGS:   28 11:52:20     -864.172180        0.021227\n",
      "LBFGS:   29 11:52:21     -864.172485        0.016884\n",
      "LBFGS:   30 11:52:21     -864.172485        0.015931\n",
      "LBFGS:   31 11:52:22     -864.172729        0.013981\n",
      "LBFGS:   32 11:52:23     -864.172852        0.009566\n"
     ]
    },
    {
     "name": "stderr",
     "output_type": "stream",
     "text": [
      "Generating DefectEntry objects: 100.0%|████████████████████████████████████████████████████████████| [00:23,   4.27it/s]\n"
     ]
    },
    {
     "name": "stdout",
     "output_type": "stream",
     "text": [
      "Vacancies    Guessed Charges    Conv. Cell Coords    Wyckoff\n",
      "-----------  -----------------  -------------------  ---------\n",
      "v_Al         [+1,0,-1,-2,-3]    [0.000,0.500,0.106]  2b\n",
      "v_Cl         [+1,0,-1]          [0.000,0.000,0.680]  2a\n",
      "v_O          [+2,+1,0,-1]       [0.000,0.000,0.050]  2a\n",
      "\n",
      "Substitutions    Guessed Charges     Conv. Cell Coords    Wyckoff\n",
      "---------------  ------------------  -------------------  ---------\n",
      "Al_Cl            [+4,+3,+2,+1,0]     [0.000,0.000,0.680]  2a\n",
      "Al_O             [+5,+4,+3,+2,+1,0]  [0.000,0.000,0.050]  2a\n",
      "Cl_Al            [0,-1,-2,-3,-4]     [0.000,0.500,0.106]  2b\n",
      "Cl_O             [+1,0]              [0.000,0.000,0.050]  2a\n",
      "O_Al             [0,-1,-2,-3,-4,-5]  [0.000,0.500,0.106]  2b\n",
      "O_Cl             [0,-1]              [0.000,0.000,0.680]  2a\n",
      "Cr_Al            [+3,+2,+1,0,-1]     [0.000,0.500,0.106]  2b\n",
      "Cr_Cl            [+4,+3,+2,+1,0]     [0.000,0.000,0.680]  2a\n",
      "Cr_O             [+5,+4,+3,+2,+1,0]  [0.000,0.000,0.050]  2a\n",
      "\n",
      "The number in the Wyckoff label is the site multiplicity/degeneracy of that defect in the conventional ('conv.') unit cell, which comprises 2 formula unit(s) of AlOCl.\n",
      "\n",
      "Oxidation states were not explicitly set, thus have been guessed as {'Al': 3.0, 'Cl': -1.0, 'O': -2.0, 'Cr': 3.0}. If this is unreasonable you should manually set oxidation_states\n",
      "Applying ShakeNBreak... Will apply the following bond distortions: ['-0.6', '-0.5', '-0.4', '-0.3', '-0.2', '-0.1', '0.0', '0.1', '0.2', '0.3', '0.4', '0.5', '0.6', 'Dimer (for vacancies)']. Then, will rattle with a std dev of 0.19 Å \n",
      "\n"
     ]
    },
    {
     "name": "stderr",
     "output_type": "stream",
     "text": [
      "Generating distorted defect structures...0.0%|                                                         | [00:00,  ?it/s]"
     ]
    },
    {
     "name": "stdout",
     "output_type": "stream",
     "text": [
      "\u001b[1m\n",
      "Defect: Cr_Al\u001b[0m\n",
      "\u001b[1mNumber of missing electrons in neutral state: 0\u001b[0m\n",
      "\n",
      "Defect Cr_Al in charge state: 0. Number of distorted neighbours: 0\n"
     ]
    },
    {
     "name": "stderr",
     "output_type": "stream",
     "text": [
      "Generating distorted defect structures...100.0%|███████████████████████████████████████████████████| [00:00,   3.19it/s]"
     ]
    },
    {
     "name": "stdout",
     "output_type": "stream",
     "text": [
      "       Step     Time          Energy          fmax\n",
      "LBFGS:    0 11:52:47     -530.745483        0.003933\n"
     ]
    },
    {
     "name": "stderr",
     "output_type": "stream",
     "text": [
      "\n"
     ]
    },
    {
     "name": "stdout",
     "output_type": "stream",
     "text": [
      "       Step     Time          Energy          fmax\n",
      "LBFGS:    0 11:52:47     -536.588501        2.121595\n",
      "LBFGS:    1 11:52:48     -536.724976        1.102586\n",
      "LBFGS:    2 11:52:48     -536.814209        0.455905\n",
      "LBFGS:    3 11:52:48     -536.835938        0.343608\n",
      "LBFGS:    4 11:52:49     -536.856689        0.239896\n",
      "LBFGS:    5 11:52:49     -536.863037        0.159783\n",
      "LBFGS:    6 11:52:49     -536.867432        0.114052\n",
      "LBFGS:    7 11:52:49     -536.869995        0.121371\n",
      "LBFGS:    8 11:52:50     -536.872070        0.108350\n",
      "LBFGS:    9 11:52:50     -536.873413        0.066344\n",
      "LBFGS:   10 11:52:50     -536.874146        0.039695\n",
      "LBFGS:   11 11:52:51     -536.874756        0.052457\n",
      "LBFGS:   12 11:52:51     -536.875488        0.046124\n",
      "LBFGS:   13 11:52:51     -536.875854        0.035577\n",
      "LBFGS:   14 11:52:51     -536.876282        0.027847\n",
      "LBFGS:   15 11:52:52     -536.876648        0.027336\n",
      "LBFGS:   16 11:52:52     -536.876831        0.021733\n",
      "LBFGS:   17 11:52:52     -536.876953        0.016577\n",
      "LBFGS:   18 11:52:52     -536.877075        0.015194\n",
      "LBFGS:   19 11:52:53     -536.877197        0.015942\n",
      "LBFGS:   20 11:52:53     -536.877319        0.015420\n",
      "LBFGS:   21 11:52:53     -536.877319        0.011388\n",
      "LBFGS:   22 11:52:53     -536.877441        0.009198\n",
      "       Step     Time          Energy          fmax\n",
      "LBFGS:    0 11:52:54     -501.156372       19.913388\n",
      "LBFGS:    1 11:52:54     -516.993530        6.893913\n",
      "LBFGS:    2 11:52:54     -528.849792        2.922337\n",
      "LBFGS:    3 11:52:55     -532.416992        2.792674\n",
      "LBFGS:    4 11:52:55     -534.047241        2.012395\n",
      "LBFGS:    5 11:52:55     -535.091309        1.355733\n",
      "LBFGS:    6 11:52:55     -535.645752        0.974673\n",
      "LBFGS:    7 11:52:55     -535.980835        1.023286\n",
      "LBFGS:    8 11:52:56     -536.266479        0.859518\n",
      "LBFGS:    9 11:52:56     -536.490112        0.807825\n",
      "LBFGS:   10 11:52:56     -536.622437        0.435972\n",
      "LBFGS:   11 11:52:56     -536.698120        0.461921\n",
      "LBFGS:   12 11:52:57     -536.750610        0.294996\n",
      "LBFGS:   13 11:52:57     -536.788818        0.239713\n",
      "LBFGS:   14 11:52:57     -536.816833        0.223096\n",
      "LBFGS:   15 11:52:57     -536.835938        0.196595\n",
      "LBFGS:   16 11:52:58     -536.848328        0.172866\n",
      "LBFGS:   17 11:52:58     -536.856445        0.114614\n",
      "LBFGS:   18 11:52:58     -536.862671        0.107738\n",
      "LBFGS:   19 11:52:58     -536.867188        0.086152\n",
      "LBFGS:   20 11:52:59     -536.870117        0.081036\n",
      "LBFGS:   21 11:52:59     -536.871948        0.065194\n",
      "LBFGS:   22 11:52:59     -536.873413        0.056073\n",
      "LBFGS:   23 11:52:59     -536.874512        0.043685\n",
      "LBFGS:   24 11:53:00     -536.875488        0.041627\n",
      "LBFGS:   25 11:53:00     -536.876038        0.029337\n",
      "LBFGS:   26 11:53:00     -536.876343        0.025890\n",
      "LBFGS:   27 11:53:00     -536.876648        0.026604\n",
      "LBFGS:   28 11:53:00     -536.876831        0.024046\n",
      "LBFGS:   29 11:53:01     -536.877075        0.021907\n",
      "LBFGS:   30 11:53:01     -536.877136        0.016273\n",
      "LBFGS:   31 11:53:01     -536.877258        0.016783\n",
      "LBFGS:   32 11:53:01     -536.877319        0.017560\n",
      "LBFGS:   33 11:53:02     -536.877380        0.012034\n",
      "LBFGS:   34 11:53:02     -536.877441        0.009357\n"
     ]
    },
    {
     "name": "stderr",
     "output_type": "stream",
     "text": [
      "Generating DefectEntry objects: 100.0%|████████████████████████████████████████████████████████████| [00:23,   4.22it/s]\n"
     ]
    },
    {
     "name": "stdout",
     "output_type": "stream",
     "text": [
      "Vacancies    Guessed Charges    Conv. Cell Coords    Wyckoff\n",
      "-----------  -----------------  -------------------  ---------\n",
      "v_Sm         [+1,0,-1,-2,-3]    [0.483,0.250,0.503]  4c\n",
      "v_Al         [+1,0,-1,-2,-3]    [0.000,0.000,0.500]  4b\n",
      "v_O_C1       [+2,+1,0,-1]       [0.277,0.529,0.277]  8d\n",
      "v_O_Cs       [+2,+1,0,-1]       [0.007,0.250,0.444]  4c\n",
      "\n",
      "Substitutions    Guessed Charges     Conv. Cell Coords    Wyckoff\n",
      "---------------  ------------------  -------------------  ---------\n",
      "Sm_Al            [+1,0,-1]           [0.000,0.000,0.500]  4b\n",
      "Sm_O_C1          [+5,+4,+3,+2,+1,0]  [0.277,0.529,0.277]  8d\n",
      "Sm_O_Cs          [+5,+4,+3,+2,+1,0]  [0.007,0.250,0.444]  4c\n",
      "Al_Sm            [+1,0,-1]           [0.483,0.250,0.503]  4c\n",
      "Al_O_C1          [+5,+4,+3,+2,+1,0]  [0.277,0.529,0.277]  8d\n",
      "Al_O_Cs          [+5,+4,+3,+2,+1,0]  [0.007,0.250,0.444]  4c\n",
      "O_Sm             [0,-1,-2,-3,-4,-5]  [0.483,0.250,0.503]  4c\n",
      "O_Al             [0,-1,-2,-3,-4,-5]  [0.000,0.000,0.500]  4b\n",
      "Cr_Sm            [+3,+2,+1,0,-1]     [0.483,0.250,0.503]  4c\n",
      "Cr_Al            [+3,+2,+1,0,-1]     [0.000,0.000,0.500]  4b\n",
      "Cr_O_C1          [+5,+4,+3,+2,+1,0]  [0.277,0.529,0.277]  8d\n",
      "Cr_O_Cs          [+5,+4,+3,+2,+1,0]  [0.007,0.250,0.444]  4c\n",
      "\n",
      "The number in the Wyckoff label is the site multiplicity/degeneracy of that defect in the conventional ('conv.') unit cell, which comprises 4 formula unit(s) of SmAlO3.\n",
      "\n",
      "Oxidation states were not explicitly set, thus have been guessed as {'Sm': 3.0, 'Al': 3.0, 'O': -2.0, 'Cr': 3.0}. If this is unreasonable you should manually set oxidation_states\n",
      "Applying ShakeNBreak... Will apply the following bond distortions: ['-0.6', '-0.5', '-0.4', '-0.3', '-0.2', '-0.1', '0.0', '0.1', '0.2', '0.3', '0.4', '0.5', '0.6', 'Dimer (for vacancies)']. Then, will rattle with a std dev of 0.19 Å \n",
      "\n"
     ]
    },
    {
     "name": "stderr",
     "output_type": "stream",
     "text": [
      "Generating distorted defect structures...0.0%|                                                         | [00:00,  ?it/s]"
     ]
    },
    {
     "name": "stdout",
     "output_type": "stream",
     "text": [
      "\u001b[1m\n",
      "Defect: Cr_Al\u001b[0m\n",
      "\u001b[1mNumber of missing electrons in neutral state: 0\u001b[0m\n",
      "\n",
      "Defect Cr_Al in charge state: 0. Number of distorted neighbours: 0\n"
     ]
    },
    {
     "name": "stderr",
     "output_type": "stream",
     "text": [
      "Generating distorted defect structures...100.0%|███████████████████████████████████████████████████| [00:00,   1.40it/s]"
     ]
    },
    {
     "name": "stdout",
     "output_type": "stream",
     "text": [
      "       Step     Time          Energy          fmax\n",
      "LBFGS:    0 11:53:27    -1260.395508        0.004143\n"
     ]
    },
    {
     "name": "stderr",
     "output_type": "stream",
     "text": [
      "\n"
     ]
    },
    {
     "name": "stdout",
     "output_type": "stream",
     "text": [
      "       Step     Time          Energy          fmax\n",
      "LBFGS:    0 11:53:27    -1265.945068        0.585173\n",
      "LBFGS:    1 11:53:27    -1265.991211        0.401878\n",
      "LBFGS:    2 11:53:28    -1266.033936        0.091294\n",
      "LBFGS:    3 11:53:28    -1266.036377        0.080542\n",
      "LBFGS:    4 11:53:29    -1266.040649        0.056838\n",
      "LBFGS:    5 11:53:29    -1266.041992        0.044313\n",
      "LBFGS:    6 11:53:29    -1266.042969        0.032096\n",
      "LBFGS:    7 11:53:30    -1266.043457        0.033421\n",
      "LBFGS:    8 11:53:30    -1266.044312        0.035829\n",
      "LBFGS:    9 11:53:31    -1266.044678        0.035680\n",
      "LBFGS:   10 11:53:31    -1266.045410        0.033941\n",
      "LBFGS:   11 11:53:31    -1266.045410        0.024646\n",
      "LBFGS:   12 11:53:32    -1266.046265        0.020764\n",
      "LBFGS:   13 11:53:32    -1266.046875        0.020375\n",
      "LBFGS:   14 11:53:32    -1266.046631        0.015168\n",
      "LBFGS:   15 11:53:33    -1266.047119        0.013900\n",
      "LBFGS:   16 11:53:33    -1266.046753        0.018204\n",
      "LBFGS:   17 11:53:34    -1266.047363        0.021415\n",
      "LBFGS:   18 11:53:34    -1266.047607        0.017340\n",
      "LBFGS:   19 11:53:34    -1266.046875        0.011323\n",
      "LBFGS:   20 11:53:35    -1266.047363        0.009870\n",
      "       Step     Time          Energy          fmax\n",
      "LBFGS:    0 11:53:35    -1214.691406       22.337173\n",
      "LBFGS:    1 11:53:36    -1236.720215        6.972638\n",
      "LBFGS:    2 11:53:36    -1252.831787        4.285376\n",
      "LBFGS:    3 11:53:36    -1260.020752        2.885193\n",
      "LBFGS:    4 11:53:37    -1262.373291        2.566434\n",
      "LBFGS:    5 11:53:37    -1264.140625        1.569712\n",
      "LBFGS:    6 11:53:38    -1264.940918        0.972618\n",
      "LBFGS:    7 11:53:38    -1265.359497        0.758759\n",
      "LBFGS:    8 11:53:38    -1265.554199        0.623964\n",
      "LBFGS:    9 11:53:39    -1265.719971        0.432326\n",
      "LBFGS:   10 11:53:39    -1265.804810        0.385760\n",
      "LBFGS:   11 11:53:40    -1265.864258        0.352177\n",
      "LBFGS:   12 11:53:40    -1265.909546        0.305958\n",
      "LBFGS:   13 11:53:40    -1265.941528        0.253533\n",
      "LBFGS:   14 11:53:41    -1265.965088        0.211779\n",
      "LBFGS:   15 11:53:41    -1265.984741        0.223710\n",
      "LBFGS:   16 11:53:42    -1266.002197        0.171746\n",
      "LBFGS:   17 11:53:42    -1266.013672        0.145063\n",
      "LBFGS:   18 11:53:42    -1266.021240        0.114488\n",
      "LBFGS:   19 11:53:43    -1266.025146        0.112370\n",
      "LBFGS:   20 11:53:43    -1266.029785        0.085739\n",
      "LBFGS:   21 11:53:43    -1266.032593        0.068811\n",
      "LBFGS:   22 11:53:44    -1266.035156        0.056322\n",
      "LBFGS:   23 11:53:44    -1266.036621        0.058608\n",
      "LBFGS:   24 11:53:45    -1266.038696        0.058605\n",
      "LBFGS:   25 11:53:45    -1266.040161        0.053006\n",
      "LBFGS:   26 11:53:45    -1266.041504        0.047220\n",
      "LBFGS:   27 11:53:46    -1266.042725        0.049813\n",
      "LBFGS:   28 11:53:46    -1266.042969        0.037605\n",
      "LBFGS:   29 11:53:47    -1266.044067        0.039483\n",
      "LBFGS:   30 11:53:47    -1266.045044        0.033120\n",
      "LBFGS:   31 11:53:47    -1266.045410        0.037027\n",
      "LBFGS:   32 11:53:48    -1266.046021        0.031254\n",
      "LBFGS:   33 11:53:48    -1266.046265        0.029087\n",
      "LBFGS:   34 11:53:49    -1266.046875        0.023830\n",
      "LBFGS:   35 11:53:49    -1266.046387        0.019249\n",
      "LBFGS:   36 11:53:49    -1266.046631        0.022636\n",
      "LBFGS:   37 11:53:50    -1266.047241        0.021835\n",
      "LBFGS:   38 11:53:50    -1266.046631        0.017850\n",
      "LBFGS:   39 11:53:50    -1266.047119        0.012877\n",
      "LBFGS:   40 11:53:51    -1266.047607        0.010536\n",
      "LBFGS:   41 11:53:51    -1266.047119        0.011601\n",
      "LBFGS:   42 11:53:52    -1266.047852        0.007923\n"
     ]
    },
    {
     "name": "stderr",
     "output_type": "stream",
     "text": [
      "Generating DefectEntry objects: 100.0%|████████████████████████████████████████████████████████████| [00:31,   3.20it/s]\n"
     ]
    },
    {
     "name": "stdout",
     "output_type": "stream",
     "text": [
      "Vacancies       Guessed Charges        Conv. Cell Coords    Wyckoff\n",
      "--------------  ---------------------  -------------------  ---------\n",
      "v_Al            [+1,0,-1,-2,-3]        [0.000,0.500,0.500]  2c\n",
      "v_W             [+1,0,-1,-2,-3,-4,-5]  [0.000,0.000,0.000]  2a\n",
      "v_O_C2v_Al1.89  [+2,+1,0,-1]           [0.304,0.000,0.000]  4g\n",
      "v_O_C2v_Al1.90  [+2,+1,0,-1]           [0.500,0.288,0.500]  4j\n",
      "\n",
      "Substitutions    Guessed Charges              Conv. Cell Coords    Wyckoff\n",
      "---------------  ---------------------------  -------------------  ---------\n",
      "Al_O_C2v_Al1.89  [+5,+4,+3,+2,+1,0]           [0.304,0.000,0.000]  4g\n",
      "Al_O_C2v_Al1.90  [+5,+4,+3,+2,+1,0]           [0.500,0.288,0.500]  4j\n",
      "Al_W             [0,-1,-2]                    [0.000,0.000,0.000]  2a\n",
      "W_Al             [+3,+2,+1,0,-1]              [0.000,0.500,0.500]  2c\n",
      "W_O_C2v_Al1.89   [+8,+7,+6,+5,+4,+3,+2,+1,0]  [0.304,0.000,0.000]  4g\n",
      "W_O_C2v_Al1.90   [+8,+7,+6,+5,+4,+3,+2,+1,0]  [0.500,0.288,0.500]  4j\n",
      "O_Al             [0,-1,-2,-3,-4,-5]           [0.000,0.500,0.500]  2c\n",
      "O_W              [0,-1,-2,-3,-4,-5,-6,-7]     [0.000,0.000,0.000]  2a\n",
      "Cr_Al            [+3,+2,+1,0,-1]              [0.000,0.500,0.500]  2c\n",
      "Cr_W             [+1,0,-1,-2,-3]              [0.000,0.000,0.000]  2a\n",
      "Cr_O_C2v_Al1.89  [+8,+7,+6,+5,+4,+3,+2,+1,0]  [0.304,0.000,0.000]  4g\n",
      "Cr_O_C2v_Al1.90  [+8,+7,+6,+5,+4,+3,+2,+1,0]  [0.500,0.288,0.500]  4j\n",
      "\n",
      "The number in the Wyckoff label is the site multiplicity/degeneracy of that defect in the conventional ('conv.') unit cell, which comprises 2 formula unit(s) of WAlO4.\n",
      "\n",
      "Oxidation states were not explicitly set, thus have been guessed as {'Al': 3.0, 'W': 5.0, 'O': -2.0, 'Cr': 3.0}. If this is unreasonable you should manually set oxidation_states\n",
      "Applying ShakeNBreak... Will apply the following bond distortions: ['-0.6', '-0.5', '-0.4', '-0.3', '-0.2', '-0.1', '0.0', '0.1', '0.2', '0.3', '0.4', '0.5', '0.6', 'Dimer (for vacancies)']. Then, will rattle with a std dev of 0.19 Å \n",
      "\n"
     ]
    },
    {
     "name": "stderr",
     "output_type": "stream",
     "text": [
      "Generating distorted defect structures...0.0%|                                                         | [00:00,  ?it/s]"
     ]
    },
    {
     "name": "stdout",
     "output_type": "stream",
     "text": [
      "\u001b[1m\n",
      "Defect: Cr_Al\u001b[0m\n",
      "\u001b[1mNumber of missing electrons in neutral state: 0\u001b[0m\n",
      "\n",
      "Defect Cr_Al in charge state: 0. Number of distorted neighbours: 0\n"
     ]
    },
    {
     "name": "stderr",
     "output_type": "stream",
     "text": [
      "Generating distorted defect structures...100.0%|███████████████████████████████████████████████████| [00:00,   2.56it/s]\n"
     ]
    },
    {
     "name": "stdout",
     "output_type": "stream",
     "text": [
      "       Step     Time          Energy          fmax\n",
      "LBFGS:    0 11:54:24    -1562.712891        0.004472\n",
      "       Step     Time          Energy          fmax\n",
      "LBFGS:    0 11:54:24    -1567.891602        1.077694\n",
      "LBFGS:    1 11:54:25    -1567.976318        0.776702\n",
      "LBFGS:    2 11:54:25    -1568.080566        0.376106\n",
      "LBFGS:    3 11:54:26    -1568.096924        0.283704\n",
      "LBFGS:    4 11:54:26    -1568.115967        0.126683\n",
      "LBFGS:    5 11:54:27    -1568.120483        0.101186\n",
      "LBFGS:    6 11:54:27    -1568.127197        0.133128\n",
      "LBFGS:    7 11:54:28    -1568.131226        0.111242\n",
      "LBFGS:    8 11:54:28    -1568.133301        0.067357\n",
      "LBFGS:    9 11:54:29    -1568.136719        0.054163\n",
      "LBFGS:   10 11:54:29    -1568.138672        0.050735\n",
      "LBFGS:   11 11:54:30    -1568.139038        0.051215\n",
      "LBFGS:   12 11:54:30    -1568.141235        0.046788\n",
      "LBFGS:   13 11:54:31    -1568.142334        0.046044\n",
      "LBFGS:   14 11:54:31    -1568.142456        0.030478\n",
      "LBFGS:   15 11:54:32    -1568.143066        0.021464\n",
      "LBFGS:   16 11:54:32    -1568.143555        0.022653\n",
      "LBFGS:   17 11:54:33    -1568.142334        0.030850\n",
      "LBFGS:   18 11:54:33    -1568.144043        0.027588\n",
      "LBFGS:   19 11:54:34    -1568.144043        0.026796\n",
      "LBFGS:   20 11:54:34    -1568.144775        0.026785\n",
      "LBFGS:   21 11:54:35    -1568.145264        0.034113\n",
      "LBFGS:   22 11:54:35    -1568.145386        0.042169\n",
      "LBFGS:   23 11:54:36    -1568.146484        0.042728\n",
      "LBFGS:   24 11:54:36    -1568.147095        0.035256\n",
      "LBFGS:   25 11:54:37    -1568.148315        0.046497\n",
      "LBFGS:   26 11:54:37    -1568.149170        0.055134\n",
      "LBFGS:   27 11:54:38    -1568.150879        0.056986\n",
      "LBFGS:   28 11:54:38    -1568.151367        0.039304\n",
      "LBFGS:   29 11:54:39    -1568.152344        0.023975\n",
      "LBFGS:   30 11:54:39    -1568.152344        0.028758\n",
      "LBFGS:   31 11:54:40    -1568.152344        0.023899\n",
      "LBFGS:   32 11:54:40    -1568.152710        0.019241\n",
      "LBFGS:   33 11:54:41    -1568.153320        0.014893\n",
      "LBFGS:   34 11:54:41    -1568.151855        0.009881\n",
      "       Step     Time          Energy          fmax\n",
      "LBFGS:    0 11:54:42    -1484.166748       30.007596\n",
      "LBFGS:    1 11:54:42    -1522.758057       10.710284\n",
      "LBFGS:    2 11:54:43    -1550.488281        4.398688\n",
      "LBFGS:    3 11:54:43    -1558.859619        3.290936\n",
      "LBFGS:    4 11:54:44    -1562.745117        2.390274\n",
      "LBFGS:    5 11:54:44    -1564.984497        2.547609\n",
      "LBFGS:    6 11:54:45    -1566.321777        1.608091\n",
      "LBFGS:    7 11:54:45    -1567.085205        1.003110\n",
      "LBFGS:    8 11:54:46    -1567.476562        0.758291\n",
      "LBFGS:    9 11:54:46    -1567.728516        0.650200\n",
      "LBFGS:   10 11:54:47    -1567.882812        0.520807\n",
      "LBFGS:   11 11:54:47    -1567.979980        0.370497\n",
      "LBFGS:   12 11:54:48    -1568.046631        0.364247\n",
      "LBFGS:   13 11:54:48    -1568.094482        0.264336\n",
      "LBFGS:   14 11:54:49    -1568.132080        0.230713\n",
      "LBFGS:   15 11:54:49    -1568.161377        0.209606\n",
      "LBFGS:   16 11:54:50    -1568.183105        0.182339\n",
      "LBFGS:   17 11:54:50    -1568.197021        0.134951\n",
      "LBFGS:   18 11:54:51    -1568.207275        0.109863\n",
      "LBFGS:   19 11:54:51    -1568.214722        0.138910\n",
      "LBFGS:   20 11:54:52    -1568.221069        0.150302\n",
      "LBFGS:   21 11:54:52    -1568.225708        0.108070\n",
      "LBFGS:   22 11:54:53    -1568.229248        0.089146\n",
      "LBFGS:   23 11:54:53    -1568.233643        0.071712\n",
      "LBFGS:   24 11:54:54    -1568.235474        0.103293\n",
      "LBFGS:   25 11:54:54    -1568.239502        0.098039\n",
      "LBFGS:   26 11:54:55    -1568.242188        0.062959\n",
      "LBFGS:   27 11:54:55    -1568.243530        0.042016\n",
      "LBFGS:   28 11:54:56    -1568.244629        0.040649\n",
      "LBFGS:   29 11:54:56    -1568.243896        0.030731\n",
      "LBFGS:   30 11:54:57    -1568.244629        0.028431\n",
      "LBFGS:   31 11:54:57    -1568.245972        0.027398\n",
      "LBFGS:   32 11:54:58    -1568.245117        0.026977\n",
      "LBFGS:   33 11:54:58    -1568.245361        0.021789\n",
      "LBFGS:   34 11:54:59    -1568.245728        0.022064\n",
      "LBFGS:   35 11:54:59    -1568.247437        0.017182\n",
      "LBFGS:   36 11:55:00    -1568.247314        0.013933\n",
      "LBFGS:   37 11:55:00    -1568.246216        0.012574\n",
      "LBFGS:   38 11:55:01    -1568.246338        0.013769\n",
      "LBFGS:   39 11:55:01    -1568.248047        0.010552\n",
      "LBFGS:   40 11:55:02    -1568.247803        0.006310\n"
     ]
    },
    {
     "name": "stderr",
     "output_type": "stream",
     "text": [
      "Generating DefectEntry objects: 100.0%|████████████████████████████████████████████████████████████| [01:15,   1.32it/s]\n"
     ]
    },
    {
     "name": "stdout",
     "output_type": "stream",
     "text": [
      "Vacancies           Guessed Charges        Conv. Cell Coords    Wyckoff\n",
      "------------------  ---------------------  -------------------  ---------\n",
      "v_K                 [+1,0,-1]              [0.683,0.316,0.053]  4e\n",
      "v_Al                [+1,0,-1,-2,-3]        [0.263,0.400,0.240]  4e\n",
      "v_P_C1_O1.49        [+1,0,-1,-2,-3,-4,-5]  [0.370,0.094,0.169]  4e\n",
      "v_P_C1_O1.50        [+1,0,-1,-2,-3,-4,-5]  [0.063,0.133,0.313]  4e\n",
      "v_O_C1_P1.49        [+2,+1,0,-1]           [0.346,0.410,0.479]  4e\n",
      "v_O_C1_P1.50        [+2,+1,0,-1]           [0.178,0.106,0.497]  4e\n",
      "v_O_C1_P1.51Al1.89  [+2,+1,0,-1]           [0.483,0.495,0.225]  4e\n",
      "v_O_C1_P1.51Al1.90  [+2,+1,0,-1]           [0.135,0.572,0.233]  4e\n",
      "v_O_C1_P1.52Al1.89  [+2,+1,0,-1]           [0.412,0.239,0.245]  4e\n",
      "v_O_C1_P1.52Al1.92  [+2,+1,0,-1]           [0.057,0.283,0.255]  4e\n",
      "v_O_C1_P1.60        [+2,+1,0,-1]           [0.171,0.047,0.197]  4e\n",
      "\n",
      "Substitutions        Guessed Charges              Conv. Cell Coords    Wyckoff\n",
      "-------------------  ---------------------------  -------------------  ---------\n",
      "K_Al                 [0,-1,-2]                    [0.263,0.400,0.240]  4e\n",
      "K_P_C1_O1.49         [0,-1,-2,-3,-4]              [0.370,0.094,0.169]  4e\n",
      "K_P_C1_O1.50         [0,-1,-2,-3,-4]              [0.063,0.133,0.313]  4e\n",
      "K_O_C1_P1.49         [+3,+2,+1,0]                 [0.346,0.410,0.479]  4e\n",
      "K_O_C1_P1.50         [+3,+2,+1,0]                 [0.178,0.106,0.497]  4e\n",
      "K_O_C1_P1.51Al1.89   [+3,+2,+1,0]                 [0.483,0.495,0.225]  4e\n",
      "K_O_C1_P1.51Al1.90   [+3,+2,+1,0]                 [0.135,0.572,0.233]  4e\n",
      "K_O_C1_P1.52Al1.89   [+3,+2,+1,0]                 [0.412,0.239,0.245]  4e\n",
      "K_O_C1_P1.52Al1.92   [+3,+2,+1,0]                 [0.057,0.283,0.255]  4e\n",
      "K_O_C1_P1.60         [+3,+2,+1,0]                 [0.171,0.047,0.197]  4e\n",
      "Al_K                 [+2,+1,0]                    [0.683,0.316,0.053]  4e\n",
      "Al_P_C1_O1.49        [0,-1,-2]                    [0.370,0.094,0.169]  4e\n",
      "Al_P_C1_O1.50        [0,-1,-2]                    [0.063,0.133,0.313]  4e\n",
      "Al_O_C1_P1.49        [+5,+4,+3,+2,+1,0]           [0.346,0.410,0.479]  4e\n",
      "Al_O_C1_P1.50        [+5,+4,+3,+2,+1,0]           [0.178,0.106,0.497]  4e\n",
      "Al_O_C1_P1.51Al1.89  [+5,+4,+3,+2,+1,0]           [0.483,0.495,0.225]  4e\n",
      "Al_O_C1_P1.51Al1.90  [+5,+4,+3,+2,+1,0]           [0.135,0.572,0.233]  4e\n",
      "Al_O_C1_P1.52Al1.89  [+5,+4,+3,+2,+1,0]           [0.412,0.239,0.245]  4e\n",
      "Al_O_C1_P1.52Al1.92  [+5,+4,+3,+2,+1,0]           [0.057,0.283,0.255]  4e\n",
      "Al_O_C1_P1.60        [+5,+4,+3,+2,+1,0]           [0.171,0.047,0.197]  4e\n",
      "P_K                  [+4,+3,+2,+1,0,-1,-2,-3,-4]  [0.683,0.316,0.053]  4e\n",
      "P_Al                 [+2,+1,0,-1,-2,-3,-4,-5,-6]  [0.263,0.400,0.240]  4e\n",
      "P_O_C1_P1.49         [+7,+6,+5,+4,+3,+2,+1,0,-1]  [0.346,0.410,0.479]  4e\n",
      "P_O_C1_P1.50         [+7,+6,+5,+4,+3,+2,+1,0,-1]  [0.178,0.106,0.497]  4e\n",
      "P_O_C1_P1.51Al1.89   [+7,+6,+5,+4,+3,+2,+1,0,-1]  [0.483,0.495,0.225]  4e\n",
      "P_O_C1_P1.51Al1.90   [+7,+6,+5,+4,+3,+2,+1,0,-1]  [0.135,0.572,0.233]  4e\n",
      "P_O_C1_P1.52Al1.89   [+7,+6,+5,+4,+3,+2,+1,0,-1]  [0.412,0.239,0.245]  4e\n",
      "P_O_C1_P1.52Al1.92   [+7,+6,+5,+4,+3,+2,+1,0,-1]  [0.057,0.283,0.255]  4e\n",
      "P_O_C1_P1.60         [+7,+6,+5,+4,+3,+2,+1,0,-1]  [0.171,0.047,0.197]  4e\n",
      "O_K                  [0,-1,-2,-3]                 [0.683,0.316,0.053]  4e\n",
      "O_Al                 [0,-1,-2,-3,-4,-5]           [0.263,0.400,0.240]  4e\n",
      "O_P_C1_O1.49         [0,-1,-2,-3,-4,-5,-6,-7]     [0.370,0.094,0.169]  4e\n",
      "O_P_C1_O1.50         [0,-1,-2,-3,-4,-5,-6,-7]     [0.063,0.133,0.313]  4e\n",
      "Cr_K                 [+5,+4,+3,+2,+1,0]           [0.683,0.316,0.053]  4e\n",
      "Cr_Al                [+3,+2,+1,0,-1]              [0.263,0.400,0.240]  4e\n",
      "Cr_P_C1_O1.49        [+1,0,-1,-2,-3]              [0.370,0.094,0.169]  4e\n",
      "Cr_P_C1_O1.50        [+1,0,-1,-2,-3]              [0.063,0.133,0.313]  4e\n",
      "Cr_O_C1_P1.49        [+8,+7,+6,+5,+4,+3,+2,+1,0]  [0.346,0.410,0.479]  4e\n",
      "Cr_O_C1_P1.50        [+8,+7,+6,+5,+4,+3,+2,+1,0]  [0.178,0.106,0.497]  4e\n",
      "Cr_O_C1_P1.51Al1.89  [+8,+7,+6,+5,+4,+3,+2,+1,0]  [0.483,0.495,0.225]  4e\n",
      "Cr_O_C1_P1.51Al1.90  [+8,+7,+6,+5,+4,+3,+2,+1,0]  [0.135,0.572,0.233]  4e\n",
      "Cr_O_C1_P1.52Al1.89  [+8,+7,+6,+5,+4,+3,+2,+1,0]  [0.412,0.239,0.245]  4e\n",
      "Cr_O_C1_P1.52Al1.92  [+8,+7,+6,+5,+4,+3,+2,+1,0]  [0.057,0.283,0.255]  4e\n",
      "Cr_O_C1_P1.60        [+8,+7,+6,+5,+4,+3,+2,+1,0]  [0.171,0.047,0.197]  4e\n",
      "\n",
      "The number in the Wyckoff label is the site multiplicity/degeneracy of that defect in the conventional ('conv.') unit cell, which comprises 4 formula unit(s) of KAlP2O7.\n",
      "\n",
      "Oxidation states were not explicitly set, thus have been guessed as {'K': 1.0, 'Al': 3.0, 'P': 5.0, 'O': -2.0, 'Cr': 3.0}. If this is unreasonable you should manually set oxidation_states\n",
      "Applying ShakeNBreak... Will apply the following bond distortions: ['-0.6', '-0.5', '-0.4', '-0.3', '-0.2', '-0.1', '0.0', '0.1', '0.2', '0.3', '0.4', '0.5', '0.6', 'Dimer (for vacancies)']. Then, will rattle with a std dev of 0.15 Å \n",
      "\n"
     ]
    },
    {
     "name": "stderr",
     "output_type": "stream",
     "text": [
      "Generating distorted defect structures...0.0%|                                                         | [00:00,  ?it/s]"
     ]
    },
    {
     "name": "stdout",
     "output_type": "stream",
     "text": [
      "\u001b[1m\n",
      "Defect: Cr_Al\u001b[0m\n",
      "\u001b[1mNumber of missing electrons in neutral state: 0\u001b[0m\n",
      "\n",
      "Defect Cr_Al in charge state: 0. Number of distorted neighbours: 0\n"
     ]
    },
    {
     "name": "stderr",
     "output_type": "stream",
     "text": [
      "Generating distorted defect structures...100.0%|███████████████████████████████████████████████████| [00:00,   2.17it/s]\n"
     ]
    },
    {
     "name": "stdout",
     "output_type": "stream",
     "text": [
      "       Step     Time          Energy          fmax\n",
      "LBFGS:    0 11:56:19    -1227.531006        0.008888\n",
      "       Step     Time          Energy          fmax\n",
      "LBFGS:    0 11:56:19    -1232.602539        0.864325\n",
      "LBFGS:    1 11:56:20    -1232.659546        0.552914\n",
      "LBFGS:    2 11:56:20    -1232.696045        0.293525\n",
      "LBFGS:    3 11:56:21    -1232.711182        0.213740\n",
      "LBFGS:    4 11:56:21    -1232.720459        0.165176\n",
      "LBFGS:    5 11:56:22    -1232.727783        0.128570\n",
      "LBFGS:    6 11:56:22    -1232.733521        0.116078\n",
      "LBFGS:    7 11:56:23    -1232.737305        0.088607\n",
      "LBFGS:    8 11:56:24    -1232.739746        0.064152\n",
      "LBFGS:    9 11:56:24    -1232.741943        0.066624\n",
      "LBFGS:   10 11:56:25    -1232.743774        0.067419\n",
      "LBFGS:   11 11:56:25    -1232.745361        0.058428\n",
      "LBFGS:   12 11:56:26    -1232.746216        0.048867\n",
      "LBFGS:   13 11:56:26    -1232.747559        0.045900\n",
      "LBFGS:   14 11:56:27    -1232.748535        0.047256\n",
      "LBFGS:   15 11:56:27    -1232.749023        0.041455\n",
      "LBFGS:   16 11:56:28    -1232.750000        0.032673\n",
      "LBFGS:   17 11:56:28    -1232.750244        0.034188\n",
      "LBFGS:   18 11:56:29    -1232.750610        0.031875\n",
      "LBFGS:   19 11:56:29    -1232.750732        0.029654\n",
      "LBFGS:   20 11:56:30    -1232.751221        0.019123\n",
      "LBFGS:   21 11:56:30    -1232.751221        0.018309\n",
      "LBFGS:   22 11:56:31    -1232.751587        0.016615\n",
      "LBFGS:   23 11:56:31    -1232.751953        0.019027\n",
      "LBFGS:   24 11:56:32    -1232.751953        0.013765\n",
      "LBFGS:   25 11:56:33    -1232.752197        0.014379\n",
      "LBFGS:   26 11:56:33    -1232.752441        0.015189\n",
      "LBFGS:   27 11:56:34    -1232.752197        0.013942\n",
      "LBFGS:   28 11:56:34    -1232.752319        0.008712\n",
      "       Step     Time          Energy          fmax\n",
      "LBFGS:    0 11:56:35    -1132.199219       48.792672\n",
      "LBFGS:    1 11:56:35    -1184.348145       15.569276\n",
      "LBFGS:    2 11:56:36    -1211.387329        7.796148\n",
      "LBFGS:    3 11:56:37    -1223.364502        4.001044\n",
      "LBFGS:    4 11:56:37    -1226.864136        3.046048\n",
      "LBFGS:    5 11:56:38    -1229.094604        2.176950\n",
      "LBFGS:    6 11:56:38    -1230.273438        1.857199\n",
      "LBFGS:    7 11:56:39    -1230.983398        1.137438\n",
      "LBFGS:    8 11:56:39    -1231.480957        0.719623\n",
      "LBFGS:    9 11:56:40    -1231.796631        0.794395\n",
      "LBFGS:   10 11:56:40    -1232.033936        0.827623\n",
      "LBFGS:   11 11:56:41    -1232.214111        0.619764\n",
      "LBFGS:   12 11:56:41    -1232.344238        0.404349\n",
      "LBFGS:   13 11:56:42    -1232.437988        0.345317\n",
      "LBFGS:   14 11:56:42    -1232.507446        0.321030\n",
      "LBFGS:   15 11:56:43    -1232.561768        0.321872\n",
      "LBFGS:   16 11:56:43    -1232.606445        0.260243\n",
      "LBFGS:   17 11:56:44    -1232.642090        0.192233\n",
      "LBFGS:   18 11:56:45    -1232.668823        0.177760\n",
      "LBFGS:   19 11:56:45    -1232.688965        0.144278\n",
      "LBFGS:   20 11:56:46    -1232.704346        0.153265\n",
      "LBFGS:   21 11:56:46    -1232.714844        0.100402\n",
      "LBFGS:   22 11:56:47    -1232.721680        0.099518\n",
      "LBFGS:   23 11:56:47    -1232.726562        0.087159\n",
      "LBFGS:   24 11:56:48    -1232.730225        0.073156\n",
      "LBFGS:   25 11:56:48    -1232.733521        0.070331\n",
      "LBFGS:   26 11:56:49    -1232.736084        0.051871\n",
      "LBFGS:   27 11:56:49    -1232.738525        0.056677\n",
      "LBFGS:   28 11:56:50    -1232.740112        0.059121\n",
      "LBFGS:   29 11:56:50    -1232.741699        0.045129\n",
      "LBFGS:   30 11:56:51    -1232.742676        0.034739\n",
      "LBFGS:   31 11:56:51    -1232.743774        0.033234\n",
      "LBFGS:   32 11:56:52    -1232.744873        0.041073\n",
      "LBFGS:   33 11:56:53    -1232.745850        0.031879\n",
      "LBFGS:   34 11:56:53    -1232.746338        0.031485\n",
      "LBFGS:   35 11:56:54    -1232.746826        0.025896\n",
      "LBFGS:   36 11:56:54    -1232.747559        0.027973\n",
      "LBFGS:   37 11:56:55    -1232.747803        0.026734\n",
      "LBFGS:   38 11:56:55    -1232.748413        0.024284\n",
      "LBFGS:   39 11:56:56    -1232.748657        0.019413\n",
      "LBFGS:   40 11:56:56    -1232.749146        0.021819\n",
      "LBFGS:   41 11:56:57    -1232.749512        0.020223\n",
      "LBFGS:   42 11:56:57    -1232.749756        0.015205\n",
      "LBFGS:   43 11:56:58    -1232.750244        0.015936\n",
      "LBFGS:   44 11:56:58    -1232.750122        0.016191\n",
      "LBFGS:   45 11:56:59    -1232.750244        0.016780\n",
      "LBFGS:   46 11:56:59    -1232.750488        0.015099\n",
      "LBFGS:   47 11:57:00    -1232.750732        0.013540\n",
      "LBFGS:   48 11:57:01    -1232.750732        0.014669\n",
      "LBFGS:   49 11:57:01    -1232.750977        0.013552\n",
      "LBFGS:   50 11:57:02    -1232.751221        0.017186\n",
      "LBFGS:   51 11:57:02    -1232.751221        0.015145\n",
      "LBFGS:   52 11:57:03    -1232.751587        0.014636\n",
      "LBFGS:   53 11:57:03    -1232.751465        0.013066\n",
      "LBFGS:   54 11:57:04    -1232.751709        0.011535\n",
      "LBFGS:   55 11:57:04    -1232.751831        0.012641\n",
      "LBFGS:   56 11:57:05    -1232.751709        0.012550\n",
      "LBFGS:   57 11:57:05    -1232.751709        0.012378\n",
      "LBFGS:   58 11:57:06    -1232.751953        0.010761\n",
      "LBFGS:   59 11:57:06    -1232.751953        0.010236\n",
      "LBFGS:   60 11:57:07    -1232.752075        0.011115\n",
      "LBFGS:   61 11:57:08    -1232.752075        0.012956\n",
      "LBFGS:   62 11:57:08    -1232.752075        0.009829\n"
     ]
    },
    {
     "name": "stderr",
     "output_type": "stream",
     "text": [
      "Generating DefectEntry objects: 100.0%|████████████████████████████████████████████████████████████| [01:17,   1.29it/s]\n"
     ]
    },
    {
     "name": "stdout",
     "output_type": "stream",
     "text": [
      "Vacancies               Guessed Charges        Conv. Cell Coords    Wyckoff\n",
      "----------------------  ---------------------  -------------------  ---------\n",
      "v_Cs_C2_O3.07           [+1,0,-1]              [0.267,0.267,0.000]  3a\n",
      "v_Cs_C2_O3.12           [+1,0,-1]              [0.418,0.418,0.500]  3b\n",
      "v_Al                    [+1,0,-1,-2,-3]        [0.645,0.645,0.000]  3a\n",
      "v_N_C1_O1.23O1.31       [+1,0,-1,-2,-3,-4,-5]  [0.073,0.340,0.375]  6c\n",
      "v_N_C1_O1.23O1.34       [+1,0,-1,-2,-3,-4,-5]  [0.573,0.234,0.199]  6c\n",
      "v_N_C2                  [+1,0,-1,-2,-3,-4,-5]  [0.864,0.864,0.000]  3a\n",
      "v_O_C1_N1.23O2.18       [+2,+1,0,-1]           [0.147,0.311,0.300]  6c\n",
      "v_O_C1_N1.23O2.19N2.96  [+2,+1,0,-1]           [0.318,0.604,0.205]  6c\n",
      "v_O_C1_N1.23O2.19O2.62  [+2,+1,0,-1]           [0.502,0.287,0.222]  6c\n",
      "v_O_C1_N1.24            [+2,+1,0,-1]           [0.363,0.042,0.003]  6c\n",
      "v_O_C1_N1.30            [+2,+1,0,-1]           [0.246,0.090,0.264]  6c\n",
      "v_O_C1_N1.31            [+2,+1,0,-1]           [0.395,0.120,0.497]  6c\n",
      "v_O_C1_N1.34            [+2,+1,0,-1]           [0.530,0.108,0.255]  6c\n",
      "v_O_C2                  [+2,+1,0,-1]           [0.973,0.973,0.000]  3a\n",
      "\n",
      "Substitutions            Guessed Charges              Conv. Cell Coords    Wyckoff\n",
      "-----------------------  ---------------------------  -------------------  ---------\n",
      "Cs_Al                    [0,-1,-2]                    [0.645,0.645,0.000]  3a\n",
      "Cs_N_C1_O1.23O1.31       [0,-1,-2,-3,-4]              [0.073,0.340,0.375]  6c\n",
      "Cs_N_C1_O1.23O1.34       [0,-1,-2,-3,-4]              [0.573,0.234,0.199]  6c\n",
      "Cs_N_C2                  [0,-1,-2,-3,-4]              [0.864,0.864,0.000]  3a\n",
      "Cs_O_C1_N1.23O2.18       [+3,+2,+1,0]                 [0.147,0.311,0.300]  6c\n",
      "Cs_O_C1_N1.23O2.19N2.96  [+3,+2,+1,0]                 [0.318,0.604,0.205]  6c\n",
      "Cs_O_C1_N1.23O2.19O2.62  [+3,+2,+1,0]                 [0.502,0.287,0.222]  6c\n",
      "Cs_O_C1_N1.24            [+3,+2,+1,0]                 [0.363,0.042,0.003]  6c\n",
      "Cs_O_C1_N1.30            [+3,+2,+1,0]                 [0.246,0.090,0.264]  6c\n",
      "Cs_O_C1_N1.31            [+3,+2,+1,0]                 [0.395,0.120,0.497]  6c\n",
      "Cs_O_C1_N1.34            [+3,+2,+1,0]                 [0.530,0.108,0.255]  6c\n",
      "Cs_O_C2                  [+3,+2,+1,0]                 [0.973,0.973,0.000]  3a\n",
      "Al_Cs_C2_O3.07           [+2,+1,0]                    [0.267,0.267,0.000]  3a\n",
      "Al_Cs_C2_O3.12           [+2,+1,0]                    [0.418,0.418,0.500]  3b\n",
      "Al_N_C1_O1.23O1.31       [0,-1,-2]                    [0.073,0.340,0.375]  6c\n",
      "Al_N_C1_O1.23O1.34       [0,-1,-2]                    [0.573,0.234,0.199]  6c\n",
      "Al_N_C2                  [0,-1,-2]                    [0.864,0.864,0.000]  3a\n",
      "Al_O_C1_N1.23O2.18       [+5,+4,+3,+2,+1,0]           [0.147,0.311,0.300]  6c\n",
      "Al_O_C1_N1.23O2.19N2.96  [+5,+4,+3,+2,+1,0]           [0.318,0.604,0.205]  6c\n",
      "Al_O_C1_N1.23O2.19O2.62  [+5,+4,+3,+2,+1,0]           [0.502,0.287,0.222]  6c\n",
      "Al_O_C1_N1.24            [+5,+4,+3,+2,+1,0]           [0.363,0.042,0.003]  6c\n",
      "Al_O_C1_N1.30            [+5,+4,+3,+2,+1,0]           [0.246,0.090,0.264]  6c\n",
      "Al_O_C1_N1.31            [+5,+4,+3,+2,+1,0]           [0.395,0.120,0.497]  6c\n",
      "Al_O_C1_N1.34            [+5,+4,+3,+2,+1,0]           [0.530,0.108,0.255]  6c\n",
      "Al_O_C2                  [+5,+4,+3,+2,+1,0]           [0.973,0.973,0.000]  3a\n",
      "N_Cs_C2_O3.07            [+4,+3,+2,+1,0,-1,-2,-3,-4]  [0.267,0.267,0.000]  3a\n",
      "N_Cs_C2_O3.12            [+4,+3,+2,+1,0,-1,-2,-3,-4]  [0.418,0.418,0.500]  3b\n",
      "N_Al                     [+2,+1,0,-1,-2,-3,-4,-5,-6]  [0.645,0.645,0.000]  3a\n",
      "N_O_C1_N1.23O2.18        [+7,+6,+5,+4,+3,+2,+1,0,-1]  [0.147,0.311,0.300]  6c\n",
      "N_O_C1_N1.23O2.19N2.96   [+7,+6,+5,+4,+3,+2,+1,0,-1]  [0.318,0.604,0.205]  6c\n",
      "N_O_C1_N1.23O2.19O2.62   [+7,+6,+5,+4,+3,+2,+1,0,-1]  [0.502,0.287,0.222]  6c\n",
      "N_O_C1_N1.24             [+7,+6,+5,+4,+3,+2,+1,0,-1]  [0.363,0.042,0.003]  6c\n",
      "N_O_C1_N1.30             [+7,+6,+5,+4,+3,+2,+1,0,-1]  [0.246,0.090,0.264]  6c\n",
      "N_O_C1_N1.31             [+7,+6,+5,+4,+3,+2,+1,0,-1]  [0.395,0.120,0.497]  6c\n",
      "N_O_C1_N1.34             [+7,+6,+5,+4,+3,+2,+1,0,-1]  [0.530,0.108,0.255]  6c\n",
      "N_O_C2                   [+7,+6,+5,+4,+3,+2,+1,0,-1]  [0.973,0.973,0.000]  3a\n",
      "O_Cs_C2_O3.07            [0,-1,-2,-3]                 [0.267,0.267,0.000]  3a\n",
      "O_Cs_C2_O3.12            [0,-1,-2,-3]                 [0.418,0.418,0.500]  3b\n",
      "O_Al                     [0,-1,-2,-3,-4,-5]           [0.645,0.645,0.000]  3a\n",
      "O_N_C1_O1.23O1.31        [0,-1,-2,-3,-4,-5,-6,-7]     [0.073,0.340,0.375]  6c\n",
      "O_N_C1_O1.23O1.34        [0,-1,-2,-3,-4,-5,-6,-7]     [0.573,0.234,0.199]  6c\n",
      "O_N_C2                   [0,-1,-2,-3,-4,-5,-6,-7]     [0.864,0.864,0.000]  3a\n",
      "Cr_Cs_C2_O3.07           [+5,+4,+3,+2,+1,0]           [0.267,0.267,0.000]  3a\n",
      "Cr_Cs_C2_O3.12           [+5,+4,+3,+2,+1,0]           [0.418,0.418,0.500]  3b\n",
      "Cr_Al                    [+3,+2,+1,0,-1]              [0.645,0.645,0.000]  3a\n",
      "Cr_N_C1_O1.23O1.31       [+1,0,-1,-2,-3]              [0.073,0.340,0.375]  6c\n",
      "Cr_N_C1_O1.23O1.34       [+1,0,-1,-2,-3]              [0.573,0.234,0.199]  6c\n",
      "Cr_N_C2                  [+1,0,-1,-2,-3]              [0.864,0.864,0.000]  3a\n",
      "Cr_O_C1_N1.23O2.18       [+8,+7,+6,+5,+4,+3,+2,+1,0]  [0.147,0.311,0.300]  6c\n",
      "Cr_O_C1_N1.23O2.19N2.96  [+8,+7,+6,+5,+4,+3,+2,+1,0]  [0.318,0.604,0.205]  6c\n",
      "Cr_O_C1_N1.23O2.19O2.62  [+8,+7,+6,+5,+4,+3,+2,+1,0]  [0.502,0.287,0.222]  6c\n",
      "Cr_O_C1_N1.24            [+8,+7,+6,+5,+4,+3,+2,+1,0]  [0.363,0.042,0.003]  6c\n",
      "Cr_O_C1_N1.30            [+8,+7,+6,+5,+4,+3,+2,+1,0]  [0.246,0.090,0.264]  6c\n",
      "Cr_O_C1_N1.31            [+8,+7,+6,+5,+4,+3,+2,+1,0]  [0.395,0.120,0.497]  6c\n",
      "Cr_O_C1_N1.34            [+8,+7,+6,+5,+4,+3,+2,+1,0]  [0.530,0.108,0.255]  6c\n",
      "Cr_O_C2                  [+8,+7,+6,+5,+4,+3,+2,+1,0]  [0.973,0.973,0.000]  3a\n",
      "\n",
      "The number in the Wyckoff label is the site multiplicity/degeneracy of that defect in the conventional ('conv.') unit cell, which comprises 3 formula unit(s) of Cs2Al(NO3)5.\n",
      "\n",
      "Oxidation states were not explicitly set, thus have been guessed as {'Cs': 1.0, 'Al': 3.0, 'N': 5.0, 'O': -2.0, 'Cr': 3.0}. If this is unreasonable you should manually set oxidation_states\n",
      "Applying ShakeNBreak... Will apply the following bond distortions: ['-0.6', '-0.5', '-0.4', '-0.3', '-0.2', '-0.1', '0.0', '0.1', '0.2', '0.3', '0.4', '0.5', '0.6', 'Dimer (for vacancies)']. Then, will rattle with a std dev of 0.12 Å \n",
      "\n"
     ]
    },
    {
     "name": "stderr",
     "output_type": "stream",
     "text": [
      "Generating distorted defect structures...0.0%|                                                         | [00:00,  ?it/s]distortions.py:577: UserWarning: Automatic bond-length detection gave a bulk bond length of 1.208348719099427 Å, which is almost certainly too small. Reverting to 2.25 Å. If this is too large, set `d_min` manually\n"
     ]
    },
    {
     "name": "stdout",
     "output_type": "stream",
     "text": [
      "\u001b[1m\n",
      "Defect: Cr_Al\u001b[0m\n",
      "\u001b[1mNumber of missing electrons in neutral state: 0\u001b[0m\n",
      "\n",
      "Defect Cr_Al in charge state: 0. Number of distorted neighbours: 0\n"
     ]
    },
    {
     "name": "stderr",
     "output_type": "stream",
     "text": [
      "Generating distorted defect structures...100.0%|███████████████████████████████████████████████████| [00:13,  13.77s/it]\n"
     ]
    },
    {
     "name": "stdout",
     "output_type": "stream",
     "text": [
      "       Step     Time          Energy          fmax\n",
      "LBFGS:    0 11:58:40    -1276.777344        0.009332\n",
      "       Step     Time          Energy          fmax\n",
      "LBFGS:    0 11:58:40    -1282.811035        1.117345\n",
      "LBFGS:    1 11:58:41    -1282.863037        0.564791\n",
      "LBFGS:    2 11:58:41    -1282.886719        0.447379\n",
      "LBFGS:    3 11:58:42    -1282.916626        0.345370\n",
      "LBFGS:    4 11:58:42    -1282.941772        0.432615\n",
      "LBFGS:    5 11:58:43    -1282.964722        0.229664\n",
      "LBFGS:    6 11:58:43    -1282.969727        0.146865\n",
      "LBFGS:    7 11:58:44    -1282.971680        0.110108\n",
      "LBFGS:    8 11:58:44    -1282.973022        0.097763\n",
      "LBFGS:    9 11:58:45    -1282.975830        0.111638\n",
      "LBFGS:   10 11:58:45    -1282.979004        0.134143\n",
      "LBFGS:   11 11:58:46    -1282.981201        0.115921\n",
      "LBFGS:   12 11:58:46    -1282.983643        0.056690\n",
      "LBFGS:   13 11:58:47    -1282.983398        0.054513\n",
      "LBFGS:   14 11:58:47    -1282.983887        0.053932\n",
      "LBFGS:   15 11:58:48    -1282.985107        0.044189\n",
      "LBFGS:   16 11:58:48    -1282.985107        0.044549\n",
      "LBFGS:   17 11:58:49    -1282.986572        0.048104\n",
      "LBFGS:   18 11:58:49    -1282.985840        0.043240\n",
      "LBFGS:   19 11:58:50    -1282.987061        0.029325\n",
      "LBFGS:   20 11:58:50    -1282.987427        0.025020\n",
      "LBFGS:   21 11:58:51    -1282.987793        0.029970\n",
      "LBFGS:   22 11:58:51    -1282.987549        0.032280\n",
      "LBFGS:   23 11:58:52    -1282.987793        0.033506\n",
      "LBFGS:   24 11:58:52    -1282.988037        0.044163\n",
      "LBFGS:   25 11:58:53    -1282.987793        0.046999\n",
      "LBFGS:   26 11:58:53    -1282.989380        0.043096\n",
      "LBFGS:   27 11:58:54    -1282.989258        0.027166\n",
      "LBFGS:   28 11:58:54    -1282.989380        0.017939\n",
      "LBFGS:   29 11:58:55    -1282.989746        0.017484\n",
      "LBFGS:   30 11:58:55    -1282.989746        0.026033\n",
      "LBFGS:   31 11:58:56    -1282.989868        0.029863\n",
      "LBFGS:   32 11:58:56    -1282.989990        0.045208\n",
      "LBFGS:   33 11:58:57    -1282.989380        0.057236\n",
      "LBFGS:   34 11:58:57    -1282.989746        0.047254\n",
      "LBFGS:   35 11:58:58    -1282.989746        0.020466\n",
      "LBFGS:   36 11:58:58    -1282.989868        0.018077\n",
      "LBFGS:   37 11:58:59    -1282.991089        0.019468\n",
      "LBFGS:   38 11:58:59    -1282.990967        0.024311\n",
      "LBFGS:   39 11:59:00    -1282.990234        0.024157\n",
      "LBFGS:   40 11:59:00    -1282.991211        0.028067\n",
      "LBFGS:   41 11:59:01    -1282.991455        0.033854\n",
      "LBFGS:   42 11:59:01    -1282.991577        0.026530\n",
      "LBFGS:   43 11:59:02    -1282.990845        0.016912\n",
      "LBFGS:   44 11:59:02    -1282.992188        0.018589\n",
      "LBFGS:   45 11:59:03    -1282.991089        0.013488\n",
      "LBFGS:   46 11:59:03    -1282.990967        0.014807\n",
      "LBFGS:   47 11:59:03    -1282.991455        0.020087\n",
      "LBFGS:   48 11:59:04    -1282.991455        0.024848\n",
      "LBFGS:   49 11:59:04    -1282.991699        0.023247\n",
      "LBFGS:   50 11:59:05    -1282.992432        0.015573\n",
      "LBFGS:   51 11:59:05    -1282.991699        0.013425\n",
      "LBFGS:   52 11:59:06    -1282.991943        0.015817\n",
      "LBFGS:   53 11:59:06    -1282.992676        0.013706\n",
      "LBFGS:   54 11:59:07    -1282.992920        0.016708\n",
      "LBFGS:   55 11:59:07    -1282.992188        0.017790\n",
      "LBFGS:   56 11:59:08    -1282.992065        0.024516\n",
      "LBFGS:   57 11:59:08    -1282.992310        0.020309\n",
      "LBFGS:   58 11:59:09    -1282.992188        0.008874\n",
      "       Step     Time          Energy          fmax\n",
      "LBFGS:    0 11:59:10    -1218.714722        8.880855\n",
      "LBFGS:    1 11:59:10    -1258.008301        5.932426\n",
      "LBFGS:    2 11:59:11    -1260.635864       22.672956\n",
      "LBFGS:    3 11:59:11    -1277.863403        7.409677\n",
      "LBFGS:    4 11:59:12    -1280.266602        2.416294\n",
      "LBFGS:    5 11:59:12    -1281.250244        3.267224\n",
      "LBFGS:    6 11:59:13    -1281.610474        1.204267\n",
      "LBFGS:    7 11:59:13    -1281.848145        0.846714\n",
      "LBFGS:    8 11:59:14    -1282.188477        0.805928\n",
      "LBFGS:    9 11:59:14    -1282.359985        0.636295\n",
      "LBFGS:   10 11:59:15    -1282.536377        0.734627\n",
      "LBFGS:   11 11:59:15    -1282.626343        0.540013\n",
      "LBFGS:   12 11:59:16    -1282.680054        0.378842\n",
      "LBFGS:   13 11:59:16    -1282.727539        0.337764\n",
      "LBFGS:   14 11:59:17    -1282.769287        0.305731\n",
      "LBFGS:   15 11:59:17    -1282.801270        0.384545\n",
      "LBFGS:   16 11:59:18    -1282.835205        0.344355\n",
      "LBFGS:   17 11:59:18    -1282.868164        0.260275\n",
      "LBFGS:   18 11:59:19    -1282.893311        0.218899\n",
      "LBFGS:   19 11:59:19    -1282.905518        0.156085\n",
      "LBFGS:   20 11:59:20    -1282.912964        0.107811\n",
      "LBFGS:   21 11:59:20    -1282.918457        0.129434\n",
      "LBFGS:   22 11:59:21    -1282.924561        0.125955\n",
      "LBFGS:   23 11:59:21    -1282.933105        0.130504\n",
      "LBFGS:   24 11:59:22    -1282.941528        0.171616\n",
      "LBFGS:   25 11:59:22    -1282.949829        0.168890\n",
      "LBFGS:   26 11:59:23    -1282.955811        0.126892\n",
      "LBFGS:   27 11:59:23    -1282.958984        0.079033\n",
      "LBFGS:   28 11:59:24    -1282.961426        0.082455\n",
      "LBFGS:   29 11:59:24    -1282.963867        0.075949\n",
      "LBFGS:   30 11:59:25    -1282.965576        0.114770\n",
      "LBFGS:   31 11:59:25    -1282.968262        0.125677\n",
      "LBFGS:   32 11:59:26    -1282.972168        0.097816\n",
      "LBFGS:   33 11:59:26    -1282.974365        0.058682\n",
      "LBFGS:   34 11:59:27    -1282.975586        0.044384\n",
      "LBFGS:   35 11:59:27    -1282.975220        0.040746\n",
      "LBFGS:   36 11:59:27    -1282.976074        0.044429\n",
      "LBFGS:   37 11:59:28    -1282.977783        0.049758\n",
      "LBFGS:   38 11:59:29    -1282.978271        0.048952\n",
      "LBFGS:   39 11:59:29    -1282.980347        0.052067\n",
      "LBFGS:   40 11:59:30    -1282.980225        0.042487\n",
      "LBFGS:   41 11:59:30    -1282.981934        0.032577\n",
      "LBFGS:   42 11:59:31    -1282.982178        0.031956\n",
      "LBFGS:   43 11:59:31    -1282.981934        0.032042\n",
      "LBFGS:   44 11:59:31    -1282.982422        0.046205\n",
      "LBFGS:   45 11:59:32    -1282.983154        0.051760\n",
      "LBFGS:   46 11:59:32    -1282.983398        0.042244\n",
      "LBFGS:   47 11:59:33    -1282.984375        0.025470\n",
      "LBFGS:   48 11:59:33    -1282.984619        0.023752\n",
      "LBFGS:   49 11:59:34    -1282.984497        0.022422\n",
      "LBFGS:   50 11:59:34    -1282.985229        0.026458\n",
      "LBFGS:   51 11:59:35    -1282.985352        0.026524\n",
      "LBFGS:   52 11:59:35    -1282.986084        0.036622\n",
      "LBFGS:   53 11:59:36    -1282.987549        0.038661\n",
      "LBFGS:   54 11:59:36    -1282.988037        0.026050\n",
      "LBFGS:   55 11:59:37    -1282.988037        0.017118\n",
      "LBFGS:   56 11:59:37    -1282.987549        0.014484\n",
      "LBFGS:   57 11:59:38    -1282.987549        0.017747\n",
      "LBFGS:   58 11:59:38    -1282.987793        0.029161\n",
      "LBFGS:   59 11:59:39    -1282.989014        0.043087\n",
      "LBFGS:   60 11:59:39    -1282.989502        0.047810\n",
      "LBFGS:   61 11:59:40    -1282.989868        0.035293\n",
      "LBFGS:   62 11:59:40    -1282.989990        0.020120\n",
      "LBFGS:   63 11:59:41    -1282.989258        0.015830\n",
      "LBFGS:   64 11:59:41    -1282.989502        0.014244\n",
      "LBFGS:   65 11:59:42    -1282.990234        0.023379\n",
      "LBFGS:   66 11:59:42    -1282.990723        0.029231\n",
      "LBFGS:   67 11:59:43    -1282.989868        0.030813\n",
      "LBFGS:   68 11:59:43    -1282.990479        0.025776\n",
      "LBFGS:   69 11:59:44    -1282.990479        0.017423\n",
      "LBFGS:   70 11:59:44    -1282.991455        0.013839\n",
      "LBFGS:   71 11:59:45    -1282.991699        0.011531\n",
      "LBFGS:   72 11:59:45    -1282.990723        0.013825\n",
      "LBFGS:   73 11:59:46    -1282.990723        0.016813\n",
      "LBFGS:   74 11:59:46    -1282.991943        0.020800\n",
      "LBFGS:   75 11:59:47    -1282.991333        0.023135\n",
      "LBFGS:   76 11:59:47    -1282.992310        0.020633\n",
      "LBFGS:   77 11:59:48    -1282.992310        0.012349\n",
      "LBFGS:   78 11:59:48    -1282.991455        0.012183\n",
      "LBFGS:   79 11:59:49    -1282.992676        0.012077\n",
      "LBFGS:   80 11:59:49    -1282.991821        0.019985\n",
      "LBFGS:   81 11:59:50    -1282.992676        0.023011\n",
      "LBFGS:   82 11:59:50    -1282.992188        0.019532\n",
      "LBFGS:   83 11:59:51    -1282.993164        0.016048\n",
      "LBFGS:   84 11:59:51    -1282.991943        0.013196\n",
      "LBFGS:   85 11:59:52    -1282.992432        0.011482\n",
      "LBFGS:   86 11:59:52    -1282.992432        0.010297\n",
      "LBFGS:   87 11:59:53    -1282.992188        0.012352\n",
      "LBFGS:   88 11:59:53    -1282.993530        0.016911\n",
      "LBFGS:   89 11:59:54    -1282.992676        0.015485\n",
      "LBFGS:   90 11:59:54    -1282.993774        0.012457\n",
      "LBFGS:   91 11:59:55    -1282.993896        0.008219\n"
     ]
    },
    {
     "name": "stderr",
     "output_type": "stream",
     "text": [
      "Generating DefectEntry objects: 100.0%|████████████████████████████████████████████████████████████| [01:01,   1.62it/s]\n"
     ]
    },
    {
     "name": "stdout",
     "output_type": "stream",
     "text": [
      "Vacancies                Guessed Charges    Conv. Cell Coords    Wyckoff\n",
      "-----------------------  -----------------  -------------------  ---------\n",
      "v_Al                     [+1,0,-1,-2,-3]    [0.000,0.000,0.000]  6b\n",
      "v_H_C1_O0.99H1.62Cl1.98  [+1,0,-1]          [0.115,0.188,0.150]  36f\n",
      "v_H_C1_O0.99H1.62Cl1.99  [+1,0,-1]          [0.204,0.003,0.092]  36f\n",
      "v_Cl                     [+1,0,-1]          [0.274,0.274,0.250]  18e\n",
      "v_O                      [+2,+1,0,-1]       [0.037,0.145,0.099]  36f\n",
      "\n",
      "Substitutions             Guessed Charges     Conv. Cell Coords    Wyckoff\n",
      "------------------------  ------------------  -------------------  ---------\n",
      "Al_H_C1_O0.99H1.62Cl1.98  [+2,+1,0]           [0.115,0.188,0.150]  36f\n",
      "Al_H_C1_O0.99H1.62Cl1.99  [+2,+1,0]           [0.204,0.003,0.092]  36f\n",
      "Al_Cl                     [+4,+3,+2,+1,0]     [0.274,0.274,0.250]  18e\n",
      "Al_O                      [+5,+4,+3,+2,+1,0]  [0.037,0.145,0.099]  36f\n",
      "H_Al                      [0,-1,-2,-3,-4]     [0.000,0.000,0.000]  6b\n",
      "H_Cl                      [+2,+1,0]           [0.274,0.274,0.250]  18e\n",
      "H_O                       [+3,+2,+1,0]        [0.037,0.145,0.099]  36f\n",
      "Cl_Al                     [0,-1,-2,-3,-4]     [0.000,0.000,0.000]  6b\n",
      "Cl_H_C1_O0.99H1.62Cl1.98  [0,-1,-2]           [0.115,0.188,0.150]  36f\n",
      "Cl_H_C1_O0.99H1.62Cl1.99  [0,-1,-2]           [0.204,0.003,0.092]  36f\n",
      "Cl_O                      [+1,0]              [0.037,0.145,0.099]  36f\n",
      "O_Al                      [0,-1,-2,-3,-4,-5]  [0.000,0.000,0.000]  6b\n",
      "O_H_C1_O0.99H1.62Cl1.98   [0,-1,-2,-3]        [0.115,0.188,0.150]  36f\n",
      "O_H_C1_O0.99H1.62Cl1.99   [0,-1,-2,-3]        [0.204,0.003,0.092]  36f\n",
      "O_Cl                      [0,-1]              [0.274,0.274,0.250]  18e\n",
      "Cr_Al                     [+3,+2,+1,0,-1]     [0.000,0.000,0.000]  6b\n",
      "Cr_H_C1_O0.99H1.62Cl1.98  [+5,+4,+3,+2,+1,0]  [0.115,0.188,0.150]  36f\n",
      "Cr_H_C1_O0.99H1.62Cl1.99  [+5,+4,+3,+2,+1,0]  [0.204,0.003,0.092]  36f\n",
      "Cr_Cl                     [+4,+3,+2,+1,0]     [0.274,0.274,0.250]  18e\n",
      "Cr_O                      [+5,+4,+3,+2,+1,0]  [0.037,0.145,0.099]  36f\n",
      "\n",
      "The number in the Wyckoff label is the site multiplicity/degeneracy of that defect in the conventional ('conv.') unit cell, which comprises 6 formula unit(s) of AlH12(O2Cl)3.\n",
      "\n",
      "Oxidation states were not explicitly set, thus have been guessed as {'Al': 3.0, 'H': 1.0, 'Cl': -1.0, 'O': -2.0, 'Cr': 3.0}. If this is unreasonable you should manually set oxidation_states\n",
      "Applying ShakeNBreak... Will apply the following bond distortions: ['-0.6', '-0.5', '-0.4', '-0.3', '-0.2', '-0.1', '0.0', '0.1', '0.2', '0.3', '0.4', '0.5', '0.6', 'Dimer (for vacancies)']. Then, will rattle with a std dev of 0.10 Å \n",
      "\n"
     ]
    },
    {
     "name": "stderr",
     "output_type": "stream",
     "text": [
      "Generating distorted defect structures...0.0%|                                                         | [00:00,  ?it/s]distortions.py:577: UserWarning: Automatic bond-length detection gave a bulk bond length of 0.9898316498451907 Å, which is almost certainly too small. Reverting to 2.25 Å. If this is too large, set `d_min` manually\n"
     ]
    },
    {
     "name": "stdout",
     "output_type": "stream",
     "text": [
      "\u001b[1m\n",
      "Defect: Cr_Al\u001b[0m\n",
      "\u001b[1mNumber of missing electrons in neutral state: 0\u001b[0m\n",
      "\n",
      "Defect Cr_Al in charge state: 0. Number of distorted neighbours: 0\n"
     ]
    },
    {
     "name": "stderr",
     "output_type": "stream",
     "text": [
      "Generating distorted defect structures...100.0%|███████████████████████████████████████████████████| [00:58,  58.75s/it]"
     ]
    },
    {
     "name": "stdout",
     "output_type": "stream",
     "text": [
      "       Step     Time          Energy          fmax\n",
      "LBFGS:    0 12:01:56     -519.247192        0.007502\n"
     ]
    },
    {
     "name": "stderr",
     "output_type": "stream",
     "text": [
      "\n"
     ]
    },
    {
     "name": "stdout",
     "output_type": "stream",
     "text": [
      "       Step     Time          Energy          fmax\n",
      "LBFGS:    0 12:01:56     -524.538635        0.933270\n",
      "LBFGS:    1 12:01:57     -524.588562        0.348605\n",
      "LBFGS:    2 12:01:57     -524.618286        0.280670\n",
      "LBFGS:    3 12:01:57     -524.656128        0.231930\n",
      "LBFGS:    4 12:01:58     -524.673584        0.191747\n",
      "LBFGS:    5 12:01:58     -524.691528        0.225092\n",
      "LBFGS:    6 12:01:59     -524.714233        0.278080\n",
      "LBFGS:    7 12:01:59     -524.733765        0.246583\n",
      "LBFGS:    8 12:01:59     -524.744751        0.115219\n",
      "LBFGS:    9 12:02:00     -524.747437        0.050677\n",
      "LBFGS:   10 12:02:00     -524.748962        0.066350\n",
      "LBFGS:   11 12:02:01     -524.753052        0.136376\n",
      "LBFGS:   12 12:02:01     -524.757324        0.151937\n",
      "LBFGS:   13 12:02:02     -524.760559        0.091105\n",
      "LBFGS:   14 12:02:02     -524.762085        0.052055\n",
      "LBFGS:   15 12:02:02     -524.762939        0.049713\n",
      "LBFGS:   16 12:02:03     -524.764221        0.067262\n",
      "LBFGS:   17 12:02:03     -524.765625        0.074733\n",
      "LBFGS:   18 12:02:04     -524.767212        0.093086\n",
      "LBFGS:   19 12:02:04     -524.768677        0.075476\n",
      "LBFGS:   20 12:02:05     -524.769897        0.055969\n",
      "LBFGS:   21 12:02:05     -524.771240        0.060272\n",
      "LBFGS:   22 12:02:05     -524.772217        0.038914\n",
      "LBFGS:   23 12:02:06     -524.772583        0.033689\n",
      "LBFGS:   24 12:02:06     -524.773193        0.036305\n",
      "LBFGS:   25 12:02:07     -524.774109        0.053934\n",
      "LBFGS:   26 12:02:07     -524.775208        0.056321\n",
      "LBFGS:   27 12:02:08     -524.776245        0.059951\n",
      "LBFGS:   28 12:02:08     -524.776794        0.031036\n",
      "LBFGS:   29 12:02:09     -524.777222        0.028214\n",
      "LBFGS:   30 12:02:09     -524.777588        0.033277\n",
      "LBFGS:   31 12:02:09     -524.778015        0.044878\n",
      "LBFGS:   32 12:02:10     -524.778137        0.036167\n",
      "LBFGS:   33 12:02:10     -524.778564        0.029815\n",
      "LBFGS:   34 12:02:11     -524.778931        0.027797\n",
      "LBFGS:   35 12:02:11     -524.779297        0.045939\n",
      "LBFGS:   36 12:02:11     -524.779480        0.042633\n",
      "LBFGS:   37 12:02:12     -524.779602        0.020145\n",
      "LBFGS:   38 12:02:12     -524.779785        0.014409\n",
      "LBFGS:   39 12:02:13     -524.779846        0.023400\n",
      "LBFGS:   40 12:02:13     -524.780029        0.032234\n",
      "LBFGS:   41 12:02:14     -524.780090        0.031705\n",
      "LBFGS:   42 12:02:14     -524.780212        0.023373\n",
      "LBFGS:   43 12:02:15     -524.780273        0.013216\n",
      "LBFGS:   44 12:02:15     -524.780396        0.006004\n",
      "       Step     Time          Energy          fmax\n",
      "LBFGS:    0 12:02:16     -455.154785       21.492649\n",
      "LBFGS:    1 12:02:16     -485.035980        9.208518\n",
      "LBFGS:    2 12:02:16     -513.847839        4.182961\n",
      "LBFGS:    3 12:02:17     -518.900024        5.376065\n",
      "LBFGS:    4 12:02:17     -521.336548        2.107381\n",
      "LBFGS:    5 12:02:18     -522.749878        1.938173\n",
      "LBFGS:    6 12:02:18     -523.594116        1.157351\n",
      "LBFGS:    7 12:02:19     -523.918945        0.745743\n",
      "LBFGS:    8 12:02:19     -524.073364        0.585039\n",
      "LBFGS:    9 12:02:19     -524.209839        0.760982\n",
      "LBFGS:   10 12:02:20     -524.445190        0.840288\n",
      "LBFGS:   11 12:02:20     -524.537354        0.614281\n",
      "LBFGS:   12 12:02:21     -524.580994        0.433479\n",
      "LBFGS:   13 12:02:21     -524.610718        0.285172\n",
      "LBFGS:   14 12:02:21     -524.628784        0.236437\n",
      "LBFGS:   15 12:02:22     -524.646423        0.318550\n",
      "LBFGS:   16 12:02:22     -524.664673        0.345380\n",
      "LBFGS:   17 12:02:23     -524.685852        0.430890\n",
      "LBFGS:   18 12:02:23     -524.705017        0.345348\n",
      "LBFGS:   19 12:02:24     -524.718201        0.237068\n",
      "LBFGS:   20 12:02:24     -524.726562        0.203031\n",
      "LBFGS:   21 12:02:24     -524.732971        0.170189\n",
      "LBFGS:   22 12:02:25     -524.737976        0.151740\n",
      "LBFGS:   23 12:02:25     -524.741699        0.124255\n",
      "LBFGS:   24 12:02:26     -524.746338        0.148322\n",
      "LBFGS:   25 12:02:26     -524.751221        0.156150\n",
      "LBFGS:   26 12:02:27     -524.755493        0.126642\n",
      "LBFGS:   27 12:02:27     -524.758118        0.072477\n",
      "LBFGS:   28 12:02:28     -524.759705        0.063240\n",
      "LBFGS:   29 12:02:28     -524.761230        0.074254\n",
      "LBFGS:   30 12:02:29     -524.762817        0.104004\n",
      "LBFGS:   31 12:02:29     -524.764771        0.111793\n",
      "LBFGS:   32 12:02:30     -524.766541        0.085529\n",
      "LBFGS:   33 12:02:30     -524.768066        0.055177\n",
      "LBFGS:   34 12:02:31     -524.769287        0.053341\n",
      "LBFGS:   35 12:02:31     -524.770264        0.078076\n",
      "LBFGS:   36 12:02:32     -524.771179        0.077157\n",
      "LBFGS:   37 12:02:33     -524.772278        0.060371\n",
      "LBFGS:   38 12:02:33     -524.773315        0.056715\n",
      "LBFGS:   39 12:02:34     -524.774170        0.053978\n",
      "LBFGS:   40 12:02:34     -524.774963        0.066627\n",
      "LBFGS:   41 12:02:35     -524.775513        0.053509\n",
      "LBFGS:   42 12:02:35     -524.776001        0.036993\n",
      "LBFGS:   43 12:02:35     -524.776489        0.022082\n",
      "LBFGS:   44 12:02:36     -524.776672        0.031662\n",
      "LBFGS:   45 12:02:36     -524.776978        0.037354\n",
      "LBFGS:   46 12:02:37     -524.777405        0.044986\n",
      "LBFGS:   47 12:02:37     -524.777893        0.041371\n",
      "LBFGS:   48 12:02:37     -524.778137        0.028550\n",
      "LBFGS:   49 12:02:38     -524.778320        0.017761\n",
      "LBFGS:   50 12:02:38     -524.778564        0.022440\n",
      "LBFGS:   51 12:02:39     -524.778870        0.032092\n",
      "LBFGS:   52 12:02:39     -524.778992        0.035129\n",
      "LBFGS:   53 12:02:40     -524.779236        0.033378\n",
      "LBFGS:   54 12:02:40     -524.779419        0.019042\n",
      "LBFGS:   55 12:02:40     -524.779541        0.022895\n",
      "LBFGS:   56 12:02:41     -524.779602        0.021165\n",
      "LBFGS:   57 12:02:41     -524.779785        0.026026\n",
      "LBFGS:   58 12:02:42     -524.779907        0.018327\n",
      "LBFGS:   59 12:02:42     -524.779907        0.014325\n",
      "LBFGS:   60 12:02:43     -524.779968        0.017381\n",
      "LBFGS:   61 12:02:43     -524.780151        0.027297\n",
      "LBFGS:   62 12:02:43     -524.780151        0.024088\n",
      "LBFGS:   63 12:02:44     -524.780212        0.009501\n"
     ]
    },
    {
     "name": "stderr",
     "output_type": "stream",
     "text": [
      "Generating DefectEntry objects: 100.0%|████████████████████████████████████████████████████████████| [00:35,   2.83it/s]\n"
     ]
    },
    {
     "name": "stdout",
     "output_type": "stream",
     "text": [
      "Vacancies     Guessed Charges        Conv. Cell Coords    Wyckoff\n",
      "------------  ---------------------  -------------------  ---------\n",
      "v_Na          [+1,0,-1]              [0.042,0.292,0.125]  12d\n",
      "v_Al          [+1,0,-1,-2,-3]        [0.375,0.375,0.375]  4a\n",
      "v_P_C1        [+1,0,-1,-2,-3,-4,-5]  [0.112,0.319,0.395]  24e\n",
      "v_P_C3        [+1,0,-1,-2,-3,-4,-5]  [0.021,0.021,0.021]  8c\n",
      "v_O_C1_P1.47  [+2,+1,0,-1]           [0.069,0.234,0.314]  24e\n",
      "v_O_C1_P1.49  [+2,+1,0,-1]           [0.217,0.384,0.370]  24e\n",
      "v_O_C1_P1.55  [+2,+1,0,-1]           [0.011,0.408,0.419]  24e\n",
      "v_O_C2        [+2,+1,0,-1]           [0.125,0.271,0.521]  12d\n",
      "v_O_C3        [+2,+1,0,-1]           [0.093,0.093,0.093]  8c\n",
      "\n",
      "Substitutions    Guessed Charges              Conv. Cell Coords    Wyckoff\n",
      "---------------  ---------------------------  -------------------  ---------\n",
      "Na_Al            [0,-1,-2]                    [0.375,0.375,0.375]  4a\n",
      "Na_P_C1          [0,-1,-2,-3,-4]              [0.112,0.319,0.395]  24e\n",
      "Na_P_C3          [0,-1,-2,-3,-4]              [0.021,0.021,0.021]  8c\n",
      "Na_O_C1_P1.47    [+3,+2,+1,0]                 [0.069,0.234,0.314]  24e\n",
      "Na_O_C1_P1.49    [+3,+2,+1,0]                 [0.217,0.384,0.370]  24e\n",
      "Na_O_C1_P1.55    [+3,+2,+1,0]                 [0.011,0.408,0.419]  24e\n",
      "Na_O_C2          [+3,+2,+1,0]                 [0.125,0.271,0.521]  12d\n",
      "Na_O_C3          [+3,+2,+1,0]                 [0.093,0.093,0.093]  8c\n",
      "Al_Na            [+2,+1,0]                    [0.042,0.292,0.125]  12d\n",
      "Al_P_C1          [0,-1,-2]                    [0.112,0.319,0.395]  24e\n",
      "Al_P_C3          [0,-1,-2]                    [0.021,0.021,0.021]  8c\n",
      "Al_O_C1_P1.47    [+5,+4,+3,+2,+1,0]           [0.069,0.234,0.314]  24e\n",
      "Al_O_C1_P1.49    [+5,+4,+3,+2,+1,0]           [0.217,0.384,0.370]  24e\n",
      "Al_O_C1_P1.55    [+5,+4,+3,+2,+1,0]           [0.011,0.408,0.419]  24e\n",
      "Al_O_C2          [+5,+4,+3,+2,+1,0]           [0.125,0.271,0.521]  12d\n",
      "Al_O_C3          [+5,+4,+3,+2,+1,0]           [0.093,0.093,0.093]  8c\n",
      "P_Na             [+4,+3,+2,+1,0,-1,-2,-3,-4]  [0.042,0.292,0.125]  12d\n",
      "P_Al             [+2,+1,0,-1,-2,-3,-4,-5,-6]  [0.375,0.375,0.375]  4a\n",
      "P_O_C1_P1.47     [+7,+6,+5,+4,+3,+2,+1,0,-1]  [0.069,0.234,0.314]  24e\n",
      "P_O_C1_P1.49     [+7,+6,+5,+4,+3,+2,+1,0,-1]  [0.217,0.384,0.370]  24e\n",
      "P_O_C1_P1.55     [+7,+6,+5,+4,+3,+2,+1,0,-1]  [0.011,0.408,0.419]  24e\n",
      "P_O_C2           [+7,+6,+5,+4,+3,+2,+1,0,-1]  [0.125,0.271,0.521]  12d\n",
      "P_O_C3           [+7,+6,+5,+4,+3,+2,+1,0,-1]  [0.093,0.093,0.093]  8c\n",
      "O_Na             [0,-1,-2,-3]                 [0.042,0.292,0.125]  12d\n",
      "O_Al             [0,-1,-2,-3,-4,-5]           [0.375,0.375,0.375]  4a\n",
      "O_P_C1           [0,-1,-2,-3,-4,-5,-6,-7]     [0.112,0.319,0.395]  24e\n",
      "O_P_C3           [0,-1,-2,-3,-4,-5,-6,-7]     [0.021,0.021,0.021]  8c\n",
      "Cr_Na            [+5,+4,+3,+2,+1,0]           [0.042,0.292,0.125]  12d\n",
      "Cr_Al            [+3,+2,+1,0,-1]              [0.375,0.375,0.375]  4a\n",
      "Cr_P_C1          [+1,0,-1,-2,-3]              [0.112,0.319,0.395]  24e\n",
      "Cr_P_C3          [+1,0,-1,-2,-3]              [0.021,0.021,0.021]  8c\n",
      "Cr_O_C1_P1.47    [+8,+7,+6,+5,+4,+3,+2,+1,0]  [0.069,0.234,0.314]  24e\n",
      "Cr_O_C1_P1.49    [+8,+7,+6,+5,+4,+3,+2,+1,0]  [0.217,0.384,0.370]  24e\n",
      "Cr_O_C1_P1.55    [+8,+7,+6,+5,+4,+3,+2,+1,0]  [0.011,0.408,0.419]  24e\n",
      "Cr_O_C2          [+8,+7,+6,+5,+4,+3,+2,+1,0]  [0.125,0.271,0.521]  12d\n",
      "Cr_O_C3          [+8,+7,+6,+5,+4,+3,+2,+1,0]  [0.093,0.093,0.093]  8c\n",
      "\n",
      "The number in the Wyckoff label is the site multiplicity/degeneracy of that defect in the conventional ('conv.') unit cell, which comprises 4 formula unit(s) of Na3AlP8O23.\n",
      "\n",
      "Oxidation states were not explicitly set, thus have been guessed as {'Na': 1.0, 'Al': 3.0, 'P': 5.0, 'O': -2.0, 'Cr': 3.0}. If this is unreasonable you should manually set oxidation_states\n",
      "Applying ShakeNBreak... Will apply the following bond distortions: ['-0.6', '-0.5', '-0.4', '-0.3', '-0.2', '-0.1', '0.0', '0.1', '0.2', '0.3', '0.4', '0.5', '0.6', 'Dimer (for vacancies)']. Then, will rattle with a std dev of 0.15 Å \n",
      "\n"
     ]
    },
    {
     "name": "stderr",
     "output_type": "stream",
     "text": [
      "Generating distorted defect structures...0.0%|                                                         | [00:00,  ?it/s]"
     ]
    },
    {
     "name": "stdout",
     "output_type": "stream",
     "text": [
      "\u001b[1m\n",
      "Defect: Cr_Al\u001b[0m\n",
      "\u001b[1mNumber of missing electrons in neutral state: 0\u001b[0m\n",
      "\n",
      "Defect Cr_Al in charge state: 0. Number of distorted neighbours: 0\n"
     ]
    },
    {
     "name": "stderr",
     "output_type": "stream",
     "text": [
      "Generating distorted defect structures...100.0%|███████████████████████████████████████████████████| [00:00,   5.33it/s]\n"
     ]
    },
    {
     "name": "stdout",
     "output_type": "stream",
     "text": [
      "       Step     Time          Energy          fmax\n",
      "LBFGS:    0 12:03:20    -1246.522827        0.009449\n",
      "       Step     Time          Energy          fmax\n",
      "LBFGS:    0 12:03:20    -1251.459961        0.817198\n",
      "LBFGS:    1 12:03:20    -1251.517822        0.402245\n",
      "LBFGS:    2 12:03:20    -1251.548584        0.279479\n",
      "LBFGS:    3 12:03:21    -1251.564453        0.168238\n",
      "LBFGS:    4 12:03:21    -1251.573364        0.113224\n",
      "LBFGS:    5 12:03:21    -1251.579346        0.110711\n",
      "LBFGS:    6 12:03:21    -1251.587158        0.124749\n",
      "LBFGS:    7 12:03:21    -1251.593262        0.104847\n",
      "LBFGS:    8 12:03:21    -1251.596313        0.063566\n",
      "LBFGS:    9 12:03:22    -1251.597900        0.055978\n",
      "LBFGS:   10 12:03:22    -1251.600586        0.070985\n",
      "LBFGS:   11 12:03:22    -1251.603760        0.085600\n",
      "LBFGS:   12 12:03:22    -1251.607300        0.093036\n",
      "LBFGS:   13 12:03:22    -1251.609863        0.061147\n",
      "LBFGS:   14 12:03:22    -1251.611206        0.036458\n",
      "LBFGS:   15 12:03:22    -1251.612305        0.035506\n",
      "LBFGS:   16 12:03:23    -1251.612671        0.039962\n",
      "LBFGS:   17 12:03:23    -1251.614258        0.034873\n",
      "LBFGS:   18 12:03:23    -1251.615479        0.032512\n",
      "LBFGS:   19 12:03:23    -1251.616699        0.031905\n",
      "LBFGS:   20 12:03:23    -1251.616943        0.034417\n",
      "LBFGS:   21 12:03:23    -1251.617676        0.032642\n",
      "LBFGS:   22 12:03:24    -1251.617920        0.025876\n",
      "LBFGS:   23 12:03:24    -1251.618652        0.017611\n",
      "LBFGS:   24 12:03:24    -1251.619141        0.016147\n",
      "LBFGS:   25 12:03:24    -1251.619141        0.013269\n",
      "LBFGS:   26 12:03:24    -1251.619385        0.017848\n",
      "LBFGS:   27 12:03:24    -1251.619751        0.019588\n",
      "LBFGS:   28 12:03:25    -1251.619751        0.013565\n",
      "LBFGS:   29 12:03:25    -1251.619873        0.010408\n",
      "LBFGS:   30 12:03:25    -1251.620117        0.013267\n",
      "LBFGS:   31 12:03:25    -1251.619873        0.014304\n",
      "LBFGS:   32 12:03:25    -1251.620117        0.012876\n",
      "LBFGS:   33 12:03:25    -1251.620850        0.010987\n",
      "LBFGS:   34 12:03:26    -1251.620605        0.009486\n",
      "       Step     Time          Energy          fmax\n",
      "LBFGS:    0 12:03:26    -1134.997314       71.859876\n",
      "LBFGS:    1 12:03:26    -1193.256714       16.912426\n",
      "LBFGS:    2 12:03:26    -1228.534546       21.769935\n",
      "LBFGS:    3 12:03:26    -1238.997803        6.067333\n",
      "LBFGS:    4 12:03:26    -1244.595947        3.769035\n",
      "LBFGS:    5 12:03:27    -1247.367676        2.734208\n",
      "LBFGS:    6 12:03:27    -1248.770996        2.227554\n",
      "LBFGS:    7 12:03:27    -1249.811768        1.413608\n",
      "LBFGS:    8 12:03:27    -1250.411133        0.859587\n",
      "LBFGS:    9 12:03:27    -1250.721191        0.634320\n",
      "LBFGS:   10 12:03:27    -1250.957275        0.899322\n",
      "LBFGS:   11 12:03:28    -1251.123779        0.851789\n",
      "LBFGS:   12 12:03:28    -1251.248535        0.637043\n",
      "LBFGS:   13 12:03:28    -1251.337036        0.368155\n",
      "LBFGS:   14 12:03:28    -1251.393188        0.276528\n",
      "LBFGS:   15 12:03:28    -1251.432007        0.325311\n",
      "LBFGS:   16 12:03:28    -1251.463745        0.311525\n",
      "LBFGS:   17 12:03:29    -1251.489990        0.204505\n",
      "LBFGS:   18 12:03:29    -1251.511353        0.184102\n",
      "LBFGS:   19 12:03:29    -1251.528564        0.153177\n",
      "LBFGS:   20 12:03:29    -1251.542480        0.167245\n",
      "LBFGS:   21 12:03:29    -1251.553711        0.148983\n",
      "LBFGS:   22 12:03:30    -1251.561768        0.128491\n",
      "LBFGS:   23 12:03:30    -1251.568115        0.090082\n",
      "LBFGS:   24 12:03:30    -1251.574707        0.084900\n",
      "LBFGS:   25 12:03:30    -1251.580078        0.090861\n",
      "LBFGS:   26 12:03:30    -1251.584961        0.114871\n",
      "LBFGS:   27 12:03:30    -1251.589111        0.123046\n",
      "LBFGS:   28 12:03:31    -1251.593506        0.108537\n",
      "LBFGS:   29 12:03:31    -1251.597656        0.087644\n",
      "LBFGS:   30 12:03:31    -1251.600830        0.076808\n",
      "LBFGS:   31 12:03:31    -1251.603516        0.071452\n",
      "LBFGS:   32 12:03:31    -1251.605713        0.063072\n",
      "LBFGS:   33 12:03:31    -1251.608154        0.053500\n",
      "LBFGS:   34 12:03:32    -1251.609985        0.053297\n",
      "LBFGS:   35 12:03:32    -1251.611572        0.047186\n",
      "LBFGS:   36 12:03:32    -1251.612549        0.044837\n",
      "LBFGS:   37 12:03:32    -1251.613892        0.038566\n",
      "LBFGS:   38 12:03:32    -1251.614868        0.037388\n",
      "LBFGS:   39 12:03:32    -1251.615723        0.037055\n",
      "LBFGS:   40 12:03:33    -1251.616699        0.037345\n",
      "LBFGS:   41 12:03:33    -1251.617432        0.029853\n",
      "LBFGS:   42 12:03:33    -1251.617676        0.023609\n",
      "LBFGS:   43 12:03:33    -1251.618164        0.022746\n",
      "LBFGS:   44 12:03:33    -1251.618408        0.023879\n",
      "LBFGS:   45 12:03:33    -1251.618652        0.019828\n",
      "LBFGS:   46 12:03:34    -1251.618896        0.018758\n",
      "LBFGS:   47 12:03:34    -1251.619019        0.015900\n",
      "LBFGS:   48 12:03:34    -1251.619141        0.017058\n",
      "LBFGS:   49 12:03:34    -1251.619141        0.014203\n",
      "LBFGS:   50 12:03:35    -1251.619385        0.015205\n",
      "LBFGS:   51 12:03:35    -1251.619629        0.017223\n",
      "LBFGS:   52 12:03:35    -1251.620117        0.016048\n",
      "LBFGS:   53 12:03:35    -1251.619873        0.014234\n",
      "LBFGS:   54 12:03:35    -1251.620117        0.016577\n",
      "LBFGS:   55 12:03:36    -1251.620361        0.020725\n",
      "LBFGS:   56 12:03:36    -1251.620117        0.020969\n",
      "LBFGS:   57 12:03:36    -1251.620239        0.015895\n",
      "LBFGS:   58 12:03:36    -1251.620361        0.009678\n"
     ]
    },
    {
     "name": "stderr",
     "output_type": "stream",
     "text": [
      "Generating DefectEntry objects: 100.0%|████████████████████████████████████████████████████████████| [00:43,   2.28it/s]\n"
     ]
    },
    {
     "name": "stdout",
     "output_type": "stream",
     "text": [
      "Vacancies               Guessed Charges           Conv. Cell Coords    Wyckoff\n",
      "----------------------  ------------------------  -------------------  ---------\n",
      "v_Cs                    [+1,0,-1]                 [0.500,0.500,0.500]  4b\n",
      "v_Al                    [+1,0,-1,-2,-3]           [0.000,0.000,0.000]  4a\n",
      "v_H_C1_O0.98H1.54O1.76  [+1,0,-1]                 [0.004,0.200,0.277]  24d\n",
      "v_H_C1_O0.98H1.54O1.83  [+1,0,-1]                 [0.122,0.163,0.285]  24d\n",
      "v_H_C1_O0.99            [+1,0,-1]                 [0.189,0.471,0.421]  24d\n",
      "v_H_C1_O1.01            [+1,0,-1]                 [0.026,0.050,0.202]  24d\n",
      "v_Se                    [+1,0,-1,-2,-3,-4,-5,-6]  [0.317,0.317,0.317]  8c\n",
      "v_O_C1_H0.98            [+2,+1,0,-1]              [0.048,0.136,0.290]  24d\n",
      "v_O_C1_H0.99            [+2,+1,0,-1]              [0.151,0.488,0.488]  24d\n",
      "v_O_C1_H1.63            [+2,+1,0,-1]              [0.268,0.441,0.320]  24d\n",
      "v_O_C3                  [+2,+1,0,-1]              [0.240,0.240,0.240]  8c\n",
      "\n",
      "Substitutions            Guessed Charges              Conv. Cell Coords    Wyckoff\n",
      "-----------------------  ---------------------------  -------------------  ---------\n",
      "Cs_Al                    [0,-1,-2]                    [0.000,0.000,0.000]  4a\n",
      "Cs_H_C1_O0.98H1.54O1.76  [+1,0,-1]                    [0.004,0.200,0.277]  24d\n",
      "Cs_H_C1_O0.98H1.54O1.83  [+1,0,-1]                    [0.122,0.163,0.285]  24d\n",
      "Cs_H_C1_O0.99            [+1,0,-1]                    [0.189,0.471,0.421]  24d\n",
      "Cs_H_C1_O1.01            [+1,0,-1]                    [0.026,0.050,0.202]  24d\n",
      "Cs_Se                    [0,-1,-2,-3,-4,-5]           [0.317,0.317,0.317]  8c\n",
      "Cs_O_C1_H0.98            [+3,+2,+1,0]                 [0.048,0.136,0.290]  24d\n",
      "Cs_O_C1_H0.99            [+3,+2,+1,0]                 [0.151,0.488,0.488]  24d\n",
      "Cs_O_C1_H1.63            [+3,+2,+1,0]                 [0.268,0.441,0.320]  24d\n",
      "Cs_O_C3                  [+3,+2,+1,0]                 [0.240,0.240,0.240]  8c\n",
      "Al_Cs                    [+2,+1,0]                    [0.500,0.500,0.500]  4b\n",
      "Al_H_C1_O0.98H1.54O1.76  [+2,+1,0]                    [0.004,0.200,0.277]  24d\n",
      "Al_H_C1_O0.98H1.54O1.83  [+2,+1,0]                    [0.122,0.163,0.285]  24d\n",
      "Al_H_C1_O0.99            [+2,+1,0]                    [0.189,0.471,0.421]  24d\n",
      "Al_H_C1_O1.01            [+2,+1,0]                    [0.026,0.050,0.202]  24d\n",
      "Al_Se                    [0,-1,-2,-3]                 [0.317,0.317,0.317]  8c\n",
      "Al_O_C1_H0.98            [+5,+4,+3,+2,+1,0]           [0.048,0.136,0.290]  24d\n",
      "Al_O_C1_H0.99            [+5,+4,+3,+2,+1,0]           [0.151,0.488,0.488]  24d\n",
      "Al_O_C1_H1.63            [+5,+4,+3,+2,+1,0]           [0.268,0.441,0.320]  24d\n",
      "Al_O_C3                  [+5,+4,+3,+2,+1,0]           [0.240,0.240,0.240]  8c\n",
      "H_Cs                     [+1,0,-1,-2]                 [0.500,0.500,0.500]  4b\n",
      "H_Al                     [0,-1,-2,-3,-4]              [0.000,0.000,0.000]  4a\n",
      "H_Se                     [0,-1,-2,-3,-4,-5,-6,-7]     [0.317,0.317,0.317]  8c\n",
      "H_O_C1_H0.98             [+3,+2,+1,0]                 [0.048,0.136,0.290]  24d\n",
      "H_O_C1_H0.99             [+3,+2,+1,0]                 [0.151,0.488,0.488]  24d\n",
      "H_O_C1_H1.63             [+3,+2,+1,0]                 [0.268,0.441,0.320]  24d\n",
      "H_O_C3                   [+3,+2,+1,0]                 [0.240,0.240,0.240]  8c\n",
      "Se_Cs                    [+5,+4,+3,+2,+1,0,-1,-2,-3]  [0.500,0.500,0.500]  4b\n",
      "Se_Al                    [+3,+2,+1,0,-1,-2,-3,-4,-5]  [0.000,0.000,0.000]  4a\n",
      "Se_H_C1_O0.98H1.54O1.76  [+5,+4,+3,+2,+1,0,-1,-2,-3]  [0.004,0.200,0.277]  24d\n",
      "Se_H_C1_O0.98H1.54O1.83  [+5,+4,+3,+2,+1,0,-1,-2,-3]  [0.122,0.163,0.285]  24d\n",
      "Se_H_C1_O0.99            [+5,+4,+3,+2,+1,0,-1,-2,-3]  [0.189,0.471,0.421]  24d\n",
      "Se_H_C1_O1.01            [+5,+4,+3,+2,+1,0,-1,-2,-3]  [0.026,0.050,0.202]  24d\n",
      "Se_O_C1_H0.98            [+8,+7,+6,+5,+4,+3,+2,+1,0]  [0.048,0.136,0.290]  24d\n",
      "Se_O_C1_H0.99            [+8,+7,+6,+5,+4,+3,+2,+1,0]  [0.151,0.488,0.488]  24d\n",
      "Se_O_C1_H1.63            [+8,+7,+6,+5,+4,+3,+2,+1,0]  [0.268,0.441,0.320]  24d\n",
      "Se_O_C3                  [+8,+7,+6,+5,+4,+3,+2,+1,0]  [0.240,0.240,0.240]  8c\n",
      "O_Cs                     [0,-1,-2,-3]                 [0.500,0.500,0.500]  4b\n",
      "O_Al                     [0,-1,-2,-3,-4,-5]           [0.000,0.000,0.000]  4a\n",
      "O_H_C1_O0.98H1.54O1.76   [0,-1,-2,-3]                 [0.004,0.200,0.277]  24d\n",
      "O_H_C1_O0.98H1.54O1.83   [0,-1,-2,-3]                 [0.122,0.163,0.285]  24d\n",
      "O_H_C1_O0.99             [0,-1,-2,-3]                 [0.189,0.471,0.421]  24d\n",
      "O_H_C1_O1.01             [0,-1,-2,-3]                 [0.026,0.050,0.202]  24d\n",
      "O_Se                     [0,-1,-2,-3,-4,-5,-6,-7,-8]  [0.317,0.317,0.317]  8c\n",
      "Cr_Cs                    [+5,+4,+3,+2,+1,0]           [0.500,0.500,0.500]  4b\n",
      "Cr_Al                    [+3,+2,+1,0,-1]              [0.000,0.000,0.000]  4a\n",
      "Cr_H_C1_O0.98H1.54O1.76  [+5,+4,+3,+2,+1,0]           [0.004,0.200,0.277]  24d\n",
      "Cr_H_C1_O0.98H1.54O1.83  [+5,+4,+3,+2,+1,0]           [0.122,0.163,0.285]  24d\n",
      "Cr_H_C1_O0.99            [+5,+4,+3,+2,+1,0]           [0.189,0.471,0.421]  24d\n",
      "Cr_H_C1_O1.01            [+5,+4,+3,+2,+1,0]           [0.026,0.050,0.202]  24d\n",
      "Cr_Se                    [0,-1,-2,-3,-4]              [0.317,0.317,0.317]  8c\n",
      "Cr_O_C1_H0.98            [+8,+7,+6,+5,+4,+3,+2,+1,0]  [0.048,0.136,0.290]  24d\n",
      "Cr_O_C1_H0.99            [+8,+7,+6,+5,+4,+3,+2,+1,0]  [0.151,0.488,0.488]  24d\n",
      "Cr_O_C1_H1.63            [+8,+7,+6,+5,+4,+3,+2,+1,0]  [0.268,0.441,0.320]  24d\n",
      "Cr_O_C3                  [+8,+7,+6,+5,+4,+3,+2,+1,0]  [0.240,0.240,0.240]  8c\n",
      "\n",
      "The number in the Wyckoff label is the site multiplicity/degeneracy of that defect in the conventional ('conv.') unit cell, which comprises 4 formula unit(s) of CsAlH24(SeO10)2.\n",
      "\n",
      "Oxidation states were not explicitly set, thus have been guessed as {'Cs': 1.0, 'Al': 3.0, 'H': 1.0, 'Se': 6.0, 'O': -2.0, 'Cr': 3.0}. If this is unreasonable you should manually set oxidation_states\n",
      "Applying ShakeNBreak... Will apply the following bond distortions: ['-0.6', '-0.5', '-0.4', '-0.3', '-0.2', '-0.1', '0.0', '0.1', '0.2', '0.3', '0.4', '0.5', '0.6', 'Dimer (for vacancies)']. Then, will rattle with a std dev of 0.10 Å \n",
      "\n"
     ]
    },
    {
     "name": "stderr",
     "output_type": "stream",
     "text": [
      "Generating distorted defect structures...0.0%|                                                         | [00:00,  ?it/s]distortions.py:577: UserWarning: Automatic bond-length detection gave a bulk bond length of 0.977122914140885 Å, which is almost certainly too small. Reverting to 2.25 Å. If this is too large, set `d_min` manually\n"
     ]
    },
    {
     "name": "stdout",
     "output_type": "stream",
     "text": [
      "\u001b[1m\n",
      "Defect: Cr_Al\u001b[0m\n",
      "\u001b[1mNumber of missing electrons in neutral state: 0\u001b[0m\n",
      "\n",
      "Defect Cr_Al in charge state: 0. Number of distorted neighbours: 0\n"
     ]
    },
    {
     "name": "stderr",
     "output_type": "stream",
     "text": [
      "Generating distorted defect structures...100.0%|███████████████████████████████████████████████████| [00:28,  28.30s/it]\n"
     ]
    },
    {
     "name": "stdout",
     "output_type": "stream",
     "text": [
      "       Step     Time          Energy          fmax\n",
      "LBFGS:    0 12:04:49    -1275.130859        0.008522\n",
      "       Step     Time          Energy          fmax\n",
      "LBFGS:    0 12:04:50    -1280.138672        0.585679\n",
      "LBFGS:    1 12:04:51    -1280.169189        0.329648\n",
      "LBFGS:    2 12:04:52    -1280.208252        0.225868\n",
      "LBFGS:    3 12:04:53    -1280.225098        0.166550\n",
      "LBFGS:    4 12:04:54    -1280.234863        0.144128\n",
      "LBFGS:    5 12:04:55    -1280.243408        0.148398\n",
      "LBFGS:    6 12:04:56    -1280.252930        0.137722\n",
      "LBFGS:    7 12:04:57    -1280.259277        0.100344\n",
      "LBFGS:    8 12:04:57    -1280.263184        0.070712\n",
      "LBFGS:    9 12:04:58    -1280.265869        0.075325\n",
      "LBFGS:   10 12:04:59    -1280.269531        0.105140\n",
      "LBFGS:   11 12:05:00    -1280.275146        0.135852\n",
      "LBFGS:   12 12:05:01    -1280.278687        0.094869\n",
      "LBFGS:   13 12:05:02    -1280.281006        0.038421\n",
      "LBFGS:   14 12:05:03    -1280.282227        0.045318\n",
      "LBFGS:   15 12:05:04    -1280.283936        0.069075\n",
      "LBFGS:   16 12:05:05    -1280.285645        0.081192\n",
      "LBFGS:   17 12:05:06    -1280.287598        0.050986\n",
      "LBFGS:   18 12:05:07    -1280.289062        0.031787\n",
      "LBFGS:   19 12:05:08    -1280.289795        0.045341\n",
      "LBFGS:   20 12:05:08    -1280.290527        0.058624\n",
      "LBFGS:   21 12:05:09    -1280.291992        0.041186\n",
      "LBFGS:   22 12:05:10    -1280.292480        0.027708\n",
      "LBFGS:   23 12:05:11    -1280.292969        0.031600\n",
      "LBFGS:   24 12:05:12    -1280.293457        0.059526\n",
      "LBFGS:   25 12:05:13    -1280.294678        0.064675\n",
      "LBFGS:   26 12:05:14    -1280.295654        0.038111\n",
      "LBFGS:   27 12:05:15    -1280.295898        0.025669\n",
      "LBFGS:   28 12:05:16    -1280.296387        0.032083\n",
      "LBFGS:   29 12:05:17    -1280.297119        0.056553\n",
      "LBFGS:   30 12:05:18    -1280.297607        0.059513\n",
      "LBFGS:   31 12:05:19    -1280.298096        0.033053\n",
      "LBFGS:   32 12:05:20    -1280.298828        0.011957\n",
      "LBFGS:   33 12:05:21    -1280.299072        0.017396\n",
      "LBFGS:   34 12:05:22    -1280.298828        0.027460\n",
      "LBFGS:   35 12:05:23    -1280.299072        0.024786\n",
      "LBFGS:   36 12:05:24    -1280.299561        0.013108\n",
      "LBFGS:   37 12:05:25    -1280.299561        0.011362\n",
      "LBFGS:   38 12:05:25    -1280.299805        0.025396\n",
      "LBFGS:   39 12:05:26    -1280.299927        0.028332\n",
      "LBFGS:   40 12:05:27    -1280.300049        0.016430\n",
      "LBFGS:   41 12:05:28    -1280.300293        0.011403\n",
      "LBFGS:   42 12:05:29    -1280.300537        0.015693\n",
      "LBFGS:   43 12:05:30    -1280.300781        0.026296\n",
      "LBFGS:   44 12:05:31    -1280.300781        0.026396\n",
      "LBFGS:   45 12:05:32    -1280.301025        0.014039\n",
      "LBFGS:   46 12:05:33    -1280.301270        0.008176\n",
      "       Step     Time          Energy          fmax\n",
      "LBFGS:    0 12:05:35    -1161.048340       34.340626\n",
      "LBFGS:    1 12:05:36    -1197.056885        9.063229\n",
      "LBFGS:    2 12:05:37    -1252.440918        5.074974\n",
      "LBFGS:    3 12:05:38    -1261.028076        8.223644\n",
      "LBFGS:    4 12:05:39    -1270.717651        3.288254\n",
      "LBFGS:    5 12:05:39    -1273.735596        3.145230\n",
      "LBFGS:    6 12:05:40    -1277.288818        3.241219\n",
      "LBFGS:    7 12:05:41    -1278.239746        1.237782\n",
      "LBFGS:    8 12:05:42    -1278.754883        0.688318\n",
      "LBFGS:    9 12:05:43    -1279.009521        0.827526\n",
      "LBFGS:   10 12:05:44    -1279.376221        0.856982\n",
      "LBFGS:   11 12:05:45    -1279.600342        0.790957\n",
      "LBFGS:   12 12:05:46    -1279.758301        0.429363\n",
      "LBFGS:   13 12:05:47    -1279.853760        0.377553\n",
      "LBFGS:   14 12:05:48    -1279.934326        0.280842\n",
      "LBFGS:   15 12:05:49    -1280.002808        0.339202\n",
      "LBFGS:   16 12:05:50    -1280.059692        0.341147\n",
      "LBFGS:   17 12:05:51    -1280.098755        0.320353\n",
      "LBFGS:   18 12:05:52    -1280.129395        0.260091\n",
      "LBFGS:   19 12:05:53    -1280.155151        0.205981\n",
      "LBFGS:   20 12:05:54    -1280.179199        0.248126\n",
      "LBFGS:   21 12:05:55    -1280.198975        0.254043\n",
      "LBFGS:   22 12:05:55    -1280.215088        0.187774\n",
      "LBFGS:   23 12:05:56    -1280.229248        0.159905\n",
      "LBFGS:   24 12:05:57    -1280.242188        0.241290\n",
      "LBFGS:   25 12:05:58    -1280.252930        0.270682\n",
      "LBFGS:   26 12:05:59    -1280.260620        0.178487\n",
      "LBFGS:   27 12:06:00    -1280.265137        0.060712\n",
      "LBFGS:   28 12:06:01    -1280.268311        0.088831\n",
      "LBFGS:   29 12:06:02    -1280.271973        0.166239\n",
      "LBFGS:   30 12:06:03    -1280.275635        0.165181\n",
      "LBFGS:   31 12:06:04    -1280.279053        0.099784\n",
      "LBFGS:   32 12:06:05    -1280.281738        0.065926\n",
      "LBFGS:   33 12:06:06    -1280.283447        0.089956\n",
      "LBFGS:   34 12:06:07    -1280.285156        0.118776\n",
      "LBFGS:   35 12:06:08    -1280.287109        0.087189\n",
      "LBFGS:   36 12:06:09    -1280.288574        0.065128\n",
      "LBFGS:   37 12:06:10    -1280.290039        0.050872\n",
      "LBFGS:   38 12:06:11    -1280.291260        0.074008\n",
      "LBFGS:   39 12:06:12    -1280.292603        0.078651\n",
      "LBFGS:   40 12:06:13    -1280.293701        0.051745\n",
      "LBFGS:   41 12:06:14    -1280.294189        0.037152\n",
      "LBFGS:   42 12:06:15    -1280.295044        0.030349\n",
      "LBFGS:   43 12:06:16    -1280.295410        0.042894\n",
      "LBFGS:   44 12:06:17    -1280.296387        0.050952\n",
      "LBFGS:   45 12:06:18    -1280.296875        0.048325\n",
      "LBFGS:   46 12:06:19    -1280.297119        0.024717\n",
      "LBFGS:   47 12:06:20    -1280.297363        0.023345\n",
      "LBFGS:   48 12:06:21    -1280.297729        0.031962\n",
      "LBFGS:   49 12:06:22    -1280.298096        0.040321\n",
      "LBFGS:   50 12:06:23    -1280.298584        0.031452\n",
      "LBFGS:   51 12:06:24    -1280.298584        0.020828\n",
      "LBFGS:   52 12:06:25    -1280.299072        0.026267\n",
      "LBFGS:   53 12:06:26    -1280.299316        0.035100\n",
      "LBFGS:   54 12:06:27    -1280.299805        0.027487\n",
      "LBFGS:   55 12:06:28    -1280.299561        0.014739\n",
      "LBFGS:   56 12:06:28    -1280.299927        0.017322\n",
      "LBFGS:   57 12:06:29    -1280.300171        0.033046\n",
      "LBFGS:   58 12:06:30    -1280.300171        0.039779\n",
      "LBFGS:   59 12:06:31    -1280.300537        0.031948\n",
      "LBFGS:   60 12:06:32    -1280.300537        0.015659\n",
      "LBFGS:   61 12:06:33    -1280.300659        0.013558\n",
      "LBFGS:   62 12:06:34    -1280.301025        0.017872\n",
      "LBFGS:   63 12:06:35    -1280.301147        0.017846\n",
      "LBFGS:   64 12:06:36    -1280.301147        0.015575\n",
      "LBFGS:   65 12:06:37    -1280.301514        0.016528\n",
      "LBFGS:   66 12:06:38    -1280.301514        0.017393\n",
      "LBFGS:   67 12:06:38    -1280.301758        0.014421\n",
      "LBFGS:   68 12:06:39    -1280.301636        0.011108\n",
      "LBFGS:   69 12:06:40    -1280.301514        0.011399\n",
      "LBFGS:   70 12:06:41    -1280.301758        0.013998\n",
      "LBFGS:   71 12:06:42    -1280.301758        0.013263\n",
      "LBFGS:   72 12:06:43    -1280.301880        0.011388\n",
      "LBFGS:   73 12:06:44    -1280.301880        0.012597\n",
      "LBFGS:   74 12:06:45    -1280.302246        0.013496\n",
      "LBFGS:   75 12:06:46    -1280.302368        0.009883\n"
     ]
    },
    {
     "name": "stderr",
     "output_type": "stream",
     "text": [
      "Generating DefectEntry objects: 100.0%|████████████████████████████████████████████████████████████| [00:47,   2.10it/s]\n"
     ]
    },
    {
     "name": "stdout",
     "output_type": "stream",
     "text": [
      "Vacancies    Guessed Charges    Conv. Cell Coords    Wyckoff\n",
      "-----------  -----------------  -------------------  ---------\n",
      "v_Al         [+1,0,-1,-2,-3]    [0.000,0.000,0.148]  12c\n",
      "v_O          [+2,+1,0,-1]       [0.307,0.307,0.250]  18e\n",
      "\n",
      "Substitutions    Guessed Charges     Conv. Cell Coords    Wyckoff\n",
      "---------------  ------------------  -------------------  ---------\n",
      "Al_O             [+5,+4,+3,+2,+1,0]  [0.307,0.307,0.250]  18e\n",
      "O_Al             [0,-1,-2,-3,-4,-5]  [0.000,0.000,0.148]  12c\n",
      "Cr_Al            [+3,+2,+1,0,-1]     [0.000,0.000,0.148]  12c\n",
      "Cr_O             [+5,+4,+3,+2,+1,0]  [0.307,0.307,0.250]  18e\n",
      "\n",
      "The number in the Wyckoff label is the site multiplicity/degeneracy of that defect in the conventional ('conv.') unit cell, which comprises 6 formula unit(s) of Al2O3.\n",
      "\n",
      "Oxidation states were not explicitly set, thus have been guessed as {'Al': 3.0, 'O': -2.0, 'Cr': 3.0}. If this is unreasonable you should manually set oxidation_states\n",
      "Applying ShakeNBreak... Will apply the following bond distortions: ['-0.6', '-0.5', '-0.4', '-0.3', '-0.2', '-0.1', '0.0', '0.1', '0.2', '0.3', '0.4', '0.5', '0.6', 'Dimer (for vacancies)']. Then, will rattle with a std dev of 0.19 Å \n",
      "\n"
     ]
    },
    {
     "name": "stderr",
     "output_type": "stream",
     "text": [
      "Generating distorted defect structures...0.0%|                                                         | [00:00,  ?it/s]"
     ]
    },
    {
     "name": "stdout",
     "output_type": "stream",
     "text": [
      "\u001b[1m\n",
      "Defect: Cr_Al\u001b[0m\n",
      "\u001b[1mNumber of missing electrons in neutral state: 0\u001b[0m\n",
      "\n",
      "Defect Cr_Al in charge state: 0. Number of distorted neighbours: 0\n"
     ]
    },
    {
     "name": "stderr",
     "output_type": "stream",
     "text": [
      "Generating distorted defect structures...100.0%|███████████████████████████████████████████████████| [00:01,   1.24s/it]\n"
     ]
    },
    {
     "name": "stdout",
     "output_type": "stream",
     "text": [
      "       Step     Time          Energy          fmax\n",
      "LBFGS:    0 12:07:35    -1149.446533        0.007498\n",
      "       Step     Time          Energy          fmax\n",
      "LBFGS:    0 12:07:36    -1154.698730        1.750841\n",
      "LBFGS:    1 12:07:37    -1154.847290        1.007224\n",
      "LBFGS:    2 12:07:38    -1154.950073        0.231034\n",
      "LBFGS:    3 12:07:39    -1154.964478        0.188839\n",
      "LBFGS:    4 12:07:39    -1154.973999        0.114449\n",
      "LBFGS:    5 12:07:40    -1154.977905        0.067661\n",
      "LBFGS:    6 12:07:41    -1154.979858        0.056674\n",
      "LBFGS:    7 12:07:42    -1154.980713        0.043677\n",
      "LBFGS:    8 12:07:43    -1154.981323        0.022655\n",
      "LBFGS:    9 12:07:43    -1154.981445        0.016383\n",
      "LBFGS:   10 12:07:44    -1154.981567        0.013079\n",
      "LBFGS:   11 12:07:45    -1154.981567        0.010449\n",
      "LBFGS:   12 12:07:45    -1154.981689        0.006973\n",
      "       Step     Time          Energy          fmax\n",
      "LBFGS:    0 12:07:47    -1051.677979       24.436973\n",
      "LBFGS:    1 12:07:47    -1104.933594       10.332603\n",
      "LBFGS:    2 12:07:48    -1135.025391        4.104780\n",
      "LBFGS:    3 12:07:49    -1147.472290        2.738475\n",
      "LBFGS:    4 12:07:50    -1150.667725        1.973005\n",
      "LBFGS:    5 12:07:50    -1152.756592        1.302114\n",
      "LBFGS:    6 12:07:51    -1153.749634        0.945989\n",
      "LBFGS:    7 12:07:52    -1154.232910        0.706969\n",
      "LBFGS:    8 12:07:53    -1154.515137        0.492764\n",
      "LBFGS:    9 12:07:53    -1154.695557        0.456382\n",
      "LBFGS:   10 12:07:54    -1154.794312        0.365248\n",
      "LBFGS:   11 12:07:55    -1154.861572        0.273209\n",
      "LBFGS:   12 12:07:56    -1154.906250        0.204658\n",
      "LBFGS:   13 12:07:56    -1154.934326        0.195737\n",
      "LBFGS:   14 12:07:57    -1154.952026        0.140783\n",
      "LBFGS:   15 12:07:58    -1154.964355        0.121406\n",
      "LBFGS:   16 12:07:59    -1154.971680        0.079637\n",
      "LBFGS:   17 12:07:59    -1154.976196        0.063309\n",
      "LBFGS:   18 12:08:00    -1154.978516        0.045401\n",
      "LBFGS:   19 12:08:01    -1154.979858        0.035327\n",
      "LBFGS:   20 12:08:01    -1154.980835        0.027925\n",
      "LBFGS:   21 12:08:02    -1154.981201        0.020398\n",
      "LBFGS:   22 12:08:03    -1154.981445        0.016924\n",
      "LBFGS:   23 12:08:04    -1154.981445        0.014036\n",
      "LBFGS:   24 12:08:04    -1154.981812        0.010759\n",
      "LBFGS:   25 12:08:05    -1154.981689        0.009796\n"
     ]
    },
    {
     "name": "stderr",
     "output_type": "stream",
     "text": [
      "Generating DefectEntry objects: 100.0%|████████████████████████████████████████████████████████████| [02:20,   1.40s/it]\n"
     ]
    },
    {
     "name": "stdout",
     "output_type": "stream",
     "text": [
      "Vacancies                 Guessed Charges           Conv. Cell Coords    Wyckoff\n",
      "------------------------  ------------------------  -------------------  ---------\n",
      "v_Al_C3_O1.86             [+1,0,-1,-2,-3]           [0.000,0.000,0.351]  6c\n",
      "v_Al_C3_O1.87             [+1,0,-1,-2,-3]           [0.000,0.000,0.144]  6c\n",
      "v_S                       [+1,0,-1,-2,-3,-4,-5,-6]  [0.288,0.003,0.251]  18f\n",
      "v_O_C1_S1.46Al1.86        [+2,+1,0,-1]              [0.145,0.219,0.400]  18f\n",
      "v_O_C1_S1.46Al1.87O2.36a  [+2,+1,0,-1]              [0.173,0.195,0.091]  18f\n",
      "v_O_C1_S1.46Al1.87O2.36b  [+2,+1,0,-1]              [0.015,0.201,0.193]  18f\n",
      "v_O_C1_S1.46Al1.88        [+2,+1,0,-1]              [0.219,0.077,0.301]  18f\n",
      "\n",
      "Substitutions              Guessed Charges              Conv. Cell Coords    Wyckoff\n",
      "-------------------------  ---------------------------  -------------------  ---------\n",
      "Al_S                       [0,-1,-2,-3]                 [0.288,0.003,0.251]  18f\n",
      "Al_O_C1_S1.46Al1.86        [+5,+4,+3,+2,+1,0]           [0.145,0.219,0.400]  18f\n",
      "Al_O_C1_S1.46Al1.87O2.36a  [+5,+4,+3,+2,+1,0]           [0.173,0.195,0.091]  18f\n",
      "Al_O_C1_S1.46Al1.87O2.36b  [+5,+4,+3,+2,+1,0]           [0.015,0.201,0.193]  18f\n",
      "Al_O_C1_S1.46Al1.88        [+5,+4,+3,+2,+1,0]           [0.219,0.077,0.301]  18f\n",
      "S_Al_C3_O1.86              [+3,+2,+1,0,-1,-2,-3,-4,-5]  [0.000,0.000,0.351]  6c\n",
      "S_Al_C3_O1.87              [+3,+2,+1,0,-1,-2,-3,-4,-5]  [0.000,0.000,0.144]  6c\n",
      "S_O_C1_S1.46Al1.86         [+8,+7,+6,+5,+4,+3,+2,+1,0]  [0.145,0.219,0.400]  18f\n",
      "S_O_C1_S1.46Al1.87O2.36a   [+8,+7,+6,+5,+4,+3,+2,+1,0]  [0.173,0.195,0.091]  18f\n",
      "S_O_C1_S1.46Al1.87O2.36b   [+8,+7,+6,+5,+4,+3,+2,+1,0]  [0.015,0.201,0.193]  18f\n",
      "S_O_C1_S1.46Al1.88         [+8,+7,+6,+5,+4,+3,+2,+1,0]  [0.219,0.077,0.301]  18f\n",
      "O_Al_C3_O1.86              [0,-1,-2,-3,-4,-5]           [0.000,0.000,0.351]  6c\n",
      "O_Al_C3_O1.87              [0,-1,-2,-3,-4,-5]           [0.000,0.000,0.144]  6c\n",
      "O_S                        [0,-1,-2,-3,-4,-5,-6,-7,-8]  [0.288,0.003,0.251]  18f\n",
      "Cr_Al_C3_O1.86             [+3,+2,+1,0,-1]              [0.000,0.000,0.351]  6c\n",
      "Cr_Al_C3_O1.87             [+3,+2,+1,0,-1]              [0.000,0.000,0.144]  6c\n",
      "Cr_S                       [0,-1,-2,-3,-4]              [0.288,0.003,0.251]  18f\n",
      "Cr_O_C1_S1.46Al1.86        [+8,+7,+6,+5,+4,+3,+2,+1,0]  [0.145,0.219,0.400]  18f\n",
      "Cr_O_C1_S1.46Al1.87O2.36a  [+8,+7,+6,+5,+4,+3,+2,+1,0]  [0.173,0.195,0.091]  18f\n",
      "Cr_O_C1_S1.46Al1.87O2.36b  [+8,+7,+6,+5,+4,+3,+2,+1,0]  [0.015,0.201,0.193]  18f\n",
      "Cr_O_C1_S1.46Al1.88        [+8,+7,+6,+5,+4,+3,+2,+1,0]  [0.219,0.077,0.301]  18f\n",
      "\n",
      "The number in the Wyckoff label is the site multiplicity/degeneracy of that defect in the conventional ('conv.') unit cell, which comprises 6 formula unit(s) of Al2(SO4)3.\n",
      "\n",
      "Oxidation states were not explicitly set, thus have been guessed as {'Al': 3.0, 'S': 6.0, 'O': -2.0, 'Cr': 3.0}. If this is unreasonable you should manually set oxidation_states\n",
      "Applying ShakeNBreak... Will apply the following bond distortions: ['-0.6', '-0.5', '-0.4', '-0.3', '-0.2', '-0.1', '0.0', '0.1', '0.2', '0.3', '0.4', '0.5', '0.6', 'Dimer (for vacancies)']. Then, will rattle with a std dev of 0.15 Å \n",
      "\n"
     ]
    },
    {
     "name": "stderr",
     "output_type": "stream",
     "text": [
      "Generating distorted defect structures...50.0%|██████████████████████████                          | [00:00,   6.81it/s]"
     ]
    },
    {
     "name": "stdout",
     "output_type": "stream",
     "text": [
      "\u001b[1m\n",
      "Defect: Cr_Al_C3_O1.86\u001b[0m\n",
      "\u001b[1mNumber of missing electrons in neutral state: 0\u001b[0m\n",
      "\n",
      "Defect Cr_Al_C3_O1.86 in charge state: 0. Number of distorted neighbours: 0\n",
      "\u001b[1m\n",
      "Defect: Cr_Al_C3_O1.87\u001b[0m\n",
      "\u001b[1mNumber of missing electrons in neutral state: 0\u001b[0m\n",
      "\n",
      "Defect Cr_Al_C3_O1.87 in charge state: 0. Number of distorted neighbours: 0\n"
     ]
    },
    {
     "name": "stderr",
     "output_type": "stream",
     "text": [
      "Generating distorted defect structures...100.0%|███████████████████████████████████████████████████| [00:00,   7.65it/s]\n"
     ]
    },
    {
     "name": "stdout",
     "output_type": "stream",
     "text": [
      "       Step     Time          Energy          fmax\n",
      "LBFGS:    0 12:10:26    -1151.787354        0.007738\n",
      "       Step     Time          Energy          fmax\n",
      "LBFGS:    0 12:10:27    -1156.946533        1.133195\n",
      "LBFGS:    1 12:10:28    -1157.030151        0.494843\n",
      "LBFGS:    2 12:10:28    -1157.057373        0.308944\n",
      "LBFGS:    3 12:10:29    -1157.080078        0.179874\n",
      "LBFGS:    4 12:10:29    -1157.086792        0.177878\n",
      "LBFGS:    5 12:10:30    -1157.098389        0.145181\n",
      "LBFGS:    6 12:10:31    -1157.103760        0.089648\n",
      "LBFGS:    7 12:10:31    -1157.108032        0.090858\n",
      "LBFGS:    8 12:10:32    -1157.111084        0.090562\n",
      "LBFGS:    9 12:10:32    -1157.113892        0.081736\n",
      "LBFGS:   10 12:10:33    -1157.115723        0.056286\n",
      "LBFGS:   11 12:10:34    -1157.117065        0.047310\n",
      "LBFGS:   12 12:10:34    -1157.118286        0.058019\n",
      "LBFGS:   13 12:10:35    -1157.119507        0.056240\n",
      "LBFGS:   14 12:10:35    -1157.120605        0.040990\n",
      "LBFGS:   15 12:10:36    -1157.121338        0.041762\n",
      "LBFGS:   16 12:10:37    -1157.121948        0.027145\n",
      "LBFGS:   17 12:10:37    -1157.121826        0.018461\n",
      "LBFGS:   18 12:10:38    -1157.122314        0.014832\n",
      "LBFGS:   19 12:10:39    -1157.122192        0.013221\n",
      "LBFGS:   20 12:10:39    -1157.122314        0.009981\n",
      "       Step     Time          Energy          fmax\n",
      "LBFGS:    0 12:10:40    -1034.268555       74.271817\n",
      "LBFGS:    1 12:10:41    -1088.981934       24.881808\n",
      "LBFGS:    2 12:10:41    -1122.230469       13.402940\n",
      "LBFGS:    3 12:10:42    -1144.098022        4.995011\n",
      "LBFGS:    4 12:10:43    -1150.748169        5.953819\n",
      "LBFGS:    5 12:10:43    -1152.949951        1.865126\n",
      "LBFGS:    6 12:10:44    -1154.405884        1.491644\n",
      "LBFGS:    7 12:10:44    -1155.213867        1.722851\n",
      "LBFGS:    8 12:10:45    -1155.734863        0.951176\n",
      "LBFGS:    9 12:10:46    -1156.035400        0.674414\n",
      "LBFGS:   10 12:10:46    -1156.262573        0.756009\n",
      "LBFGS:   11 12:10:47    -1156.478271        0.883008\n",
      "LBFGS:   12 12:10:48    -1156.649170        0.635458\n",
      "LBFGS:   13 12:10:48    -1156.758545        0.394347\n",
      "LBFGS:   14 12:10:49    -1156.822388        0.282666\n",
      "LBFGS:   15 12:10:49    -1156.865234        0.331854\n",
      "LBFGS:   16 12:10:50    -1156.900269        0.237011\n",
      "LBFGS:   17 12:10:51    -1156.933350        0.245767\n",
      "LBFGS:   18 12:10:51    -1156.965332        0.209733\n",
      "LBFGS:   19 12:10:52    -1156.995728        0.269157\n",
      "LBFGS:   20 12:10:52    -1157.023926        0.227175\n",
      "LBFGS:   21 12:10:53    -1157.046631        0.150960\n",
      "LBFGS:   22 12:10:54    -1157.062256        0.123829\n",
      "LBFGS:   23 12:10:54    -1157.072266        0.106768\n",
      "LBFGS:   24 12:10:55    -1157.079834        0.107330\n",
      "LBFGS:   25 12:10:56    -1157.086304        0.087247\n",
      "LBFGS:   26 12:10:56    -1157.091064        0.076333\n",
      "LBFGS:   27 12:10:57    -1157.095459        0.067366\n",
      "LBFGS:   28 12:10:57    -1157.099121        0.063893\n",
      "LBFGS:   29 12:10:58    -1157.102051        0.074597\n",
      "LBFGS:   30 12:10:59    -1157.104736        0.067278\n",
      "LBFGS:   31 12:10:59    -1157.106812        0.058493\n",
      "LBFGS:   32 12:11:00    -1157.108765        0.054755\n",
      "LBFGS:   33 12:11:00    -1157.110962        0.055967\n",
      "LBFGS:   34 12:11:01    -1157.112793        0.054482\n",
      "LBFGS:   35 12:11:02    -1157.114624        0.051480\n",
      "LBFGS:   36 12:11:02    -1157.115723        0.045020\n",
      "LBFGS:   37 12:11:03    -1157.116699        0.045155\n",
      "LBFGS:   38 12:11:04    -1157.117676        0.034659\n",
      "LBFGS:   39 12:11:04    -1157.118286        0.037373\n",
      "LBFGS:   40 12:11:05    -1157.119019        0.038776\n",
      "LBFGS:   41 12:11:05    -1157.119629        0.035706\n",
      "LBFGS:   42 12:11:06    -1157.120117        0.030177\n",
      "LBFGS:   43 12:11:07    -1157.120361        0.025122\n",
      "LBFGS:   44 12:11:07    -1157.120972        0.020928\n",
      "LBFGS:   45 12:11:08    -1157.120972        0.019090\n",
      "LBFGS:   46 12:11:09    -1157.121094        0.015742\n",
      "LBFGS:   47 12:11:09    -1157.121338        0.014724\n",
      "LBFGS:   48 12:11:10    -1157.121582        0.017945\n",
      "LBFGS:   49 12:11:10    -1157.121826        0.020696\n",
      "LBFGS:   50 12:11:11    -1157.122070        0.016981\n",
      "LBFGS:   51 12:11:12    -1157.121948        0.012772\n",
      "LBFGS:   52 12:11:12    -1157.122070        0.013618\n",
      "LBFGS:   53 12:11:13    -1157.122314        0.012439\n",
      "LBFGS:   54 12:11:13    -1157.122437        0.012168\n",
      "LBFGS:   55 12:11:14    -1157.122559        0.008179\n",
      "       Step     Time          Energy          fmax\n",
      "LBFGS:    0 12:11:15    -1156.854004        1.178131\n",
      "LBFGS:    1 12:11:16    -1156.934814        0.480018\n",
      "LBFGS:    2 12:11:16    -1156.959106        0.309544\n",
      "LBFGS:    3 12:11:17    -1156.981445        0.165457\n",
      "LBFGS:    4 12:11:17    -1156.988525        0.148798\n",
      "LBFGS:    5 12:11:18    -1157.002441        0.152327\n",
      "LBFGS:    6 12:11:19    -1157.009521        0.149550\n",
      "LBFGS:    7 12:11:19    -1157.014526        0.119137\n",
      "LBFGS:    8 12:11:20    -1157.018555        0.108050\n",
      "LBFGS:    9 12:11:20    -1157.021729        0.086346\n",
      "LBFGS:   10 12:11:21    -1157.024902        0.057210\n",
      "LBFGS:   11 12:11:22    -1157.026489        0.064454\n",
      "LBFGS:   12 12:11:22    -1157.028198        0.061538\n",
      "LBFGS:   13 12:11:23    -1157.030518        0.065187\n",
      "LBFGS:   14 12:11:24    -1157.032471        0.059425\n",
      "LBFGS:   15 12:11:24    -1157.033569        0.041755\n",
      "LBFGS:   16 12:11:25    -1157.034668        0.035203\n",
      "LBFGS:   17 12:11:25    -1157.035156        0.029249\n",
      "LBFGS:   18 12:11:26    -1157.035889        0.037872\n",
      "LBFGS:   19 12:11:27    -1157.036133        0.038209\n",
      "LBFGS:   20 12:11:27    -1157.037109        0.027502\n",
      "LBFGS:   21 12:11:28    -1157.037598        0.029731\n",
      "LBFGS:   22 12:11:28    -1157.038208        0.023084\n",
      "LBFGS:   23 12:11:29    -1157.038574        0.020533\n",
      "LBFGS:   24 12:11:30    -1157.038574        0.019059\n",
      "LBFGS:   25 12:11:30    -1157.038818        0.015449\n",
      "LBFGS:   26 12:11:31    -1157.039185        0.011667\n",
      "LBFGS:   27 12:11:32    -1157.039307        0.013083\n",
      "LBFGS:   28 12:11:32    -1157.039307        0.014515\n",
      "LBFGS:   29 12:11:33    -1157.039307        0.012025\n",
      "LBFGS:   30 12:11:33    -1157.039429        0.009805\n",
      "       Step     Time          Energy          fmax\n",
      "LBFGS:    0 12:11:34    -1033.478271       74.509401\n",
      "LBFGS:    1 12:11:35    -1089.490723       24.664906\n",
      "LBFGS:    2 12:11:36    -1121.691040       14.458076\n",
      "LBFGS:    3 12:11:36    -1144.225220        4.650434\n",
      "LBFGS:    4 12:11:37    -1150.699463        4.854447\n",
      "LBFGS:    5 12:11:37    -1153.020630        1.767382\n",
      "LBFGS:    6 12:11:38    -1154.443848        1.414851\n",
      "LBFGS:    7 12:11:39    -1155.261108        1.781084\n",
      "LBFGS:    8 12:11:39    -1155.706055        1.030665\n",
      "LBFGS:    9 12:11:40    -1155.980469        0.559494\n",
      "LBFGS:   10 12:11:40    -1156.190918        0.818657\n",
      "LBFGS:   11 12:11:41    -1156.395874        1.090273\n",
      "LBFGS:   12 12:11:42    -1156.554199        0.760155\n",
      "LBFGS:   13 12:11:42    -1156.657227        0.424447\n",
      "LBFGS:   14 12:11:43    -1156.721558        0.292316\n",
      "LBFGS:   15 12:11:44    -1156.767578        0.430470\n",
      "LBFGS:   16 12:11:44    -1156.805908        0.326077\n",
      "LBFGS:   17 12:11:45    -1156.840942        0.231895\n",
      "LBFGS:   18 12:11:45    -1156.873779        0.240062\n",
      "LBFGS:   19 12:11:46    -1156.904175        0.221422\n",
      "LBFGS:   20 12:11:47    -1156.932007        0.193675\n",
      "LBFGS:   21 12:11:47    -1156.955688        0.188096\n",
      "LBFGS:   22 12:11:48    -1156.971924        0.172585\n",
      "LBFGS:   23 12:11:48    -1156.982910        0.117278\n",
      "LBFGS:   24 12:11:49    -1156.990234        0.103958\n",
      "LBFGS:   25 12:11:50    -1156.996704        0.096391\n",
      "LBFGS:   26 12:11:50    -1157.002808        0.110333\n",
      "LBFGS:   27 12:11:51    -1157.007812        0.099134\n",
      "LBFGS:   28 12:11:52    -1157.012085        0.068179\n",
      "LBFGS:   29 12:11:52    -1157.015869        0.061649\n",
      "LBFGS:   30 12:11:53    -1157.018799        0.064623\n",
      "LBFGS:   31 12:11:53    -1157.021606        0.056098\n",
      "LBFGS:   32 12:11:54    -1157.024048        0.057978\n",
      "LBFGS:   33 12:11:55    -1157.026367        0.067193\n",
      "LBFGS:   34 12:11:55    -1157.028687        0.067939\n",
      "LBFGS:   35 12:11:56    -1157.030884        0.055733\n",
      "LBFGS:   36 12:11:56    -1157.032104        0.047157\n",
      "LBFGS:   37 12:11:57    -1157.033691        0.042680\n",
      "LBFGS:   38 12:11:58    -1157.034424        0.031706\n",
      "LBFGS:   39 12:11:58    -1157.035278        0.034839\n",
      "LBFGS:   40 12:11:59    -1157.035645        0.034857\n",
      "LBFGS:   41 12:12:00    -1157.036621        0.027924\n",
      "LBFGS:   42 12:12:00    -1157.037109        0.031892\n",
      "LBFGS:   43 12:12:01    -1157.037598        0.027983\n",
      "LBFGS:   44 12:12:01    -1157.038086        0.023568\n",
      "LBFGS:   45 12:12:02    -1157.038086        0.018869\n",
      "LBFGS:   46 12:12:03    -1157.038574        0.019508\n",
      "LBFGS:   47 12:12:03    -1157.038818        0.016264\n",
      "LBFGS:   48 12:12:04    -1157.038818        0.015767\n",
      "LBFGS:   49 12:12:05    -1157.039062        0.015763\n",
      "LBFGS:   50 12:12:05    -1157.039307        0.016194\n",
      "LBFGS:   51 12:12:06    -1157.039307        0.011617\n",
      "LBFGS:   52 12:12:06    -1157.039551        0.011212\n",
      "LBFGS:   53 12:12:07    -1157.039795        0.009659\n"
     ]
    },
    {
     "name": "stderr",
     "output_type": "stream",
     "text": [
      "Generating DefectEntry objects: 100.0%|████████████████████████████████████████████████████████████| [00:52,   1.90it/s]\n"
     ]
    },
    {
     "name": "stdout",
     "output_type": "stream",
     "text": [
      "Vacancies    Guessed Charges    Conv. Cell Coords    Wyckoff\n",
      "-----------  -----------------  -------------------  ---------\n",
      "v_Al         [+1,0,-1,-2,-3]    [0.625,0.625,0.625]  16d\n",
      "v_Fe         [+1,0,-1,-2]       [0.000,0.000,0.000]  8a\n",
      "v_O          [+2,+1,0,-1]       [0.391,0.391,0.391]  32e\n",
      "\n",
      "Substitutions    Guessed Charges     Conv. Cell Coords    Wyckoff\n",
      "---------------  ------------------  -------------------  ---------\n",
      "Al_Fe            [+1,0]              [0.000,0.000,0.000]  8a\n",
      "Al_O             [+5,+4,+3,+2,+1,0]  [0.391,0.391,0.391]  32e\n",
      "Fe_Al            [+1,0,-1,-2]        [0.625,0.625,0.625]  16d\n",
      "Fe_O             [+5,+4,+3,+2,+1,0]  [0.391,0.391,0.391]  32e\n",
      "O_Al             [0,-1,-2,-3,-4,-5]  [0.625,0.625,0.625]  16d\n",
      "O_Fe             [0,-1,-2,-3,-4]     [0.000,0.000,0.000]  8a\n",
      "Cr_Al            [+3,+2,+1,0,-1]     [0.625,0.625,0.625]  16d\n",
      "Cr_Fe            [+4,+3,+2,+1,0]     [0.000,0.000,0.000]  8a\n",
      "Cr_O             [+5,+4,+3,+2,+1,0]  [0.391,0.391,0.391]  32e\n",
      "\n",
      "The number in the Wyckoff label is the site multiplicity/degeneracy of that defect in the conventional ('conv.') unit cell, which comprises 8 formula unit(s) of FeAl2O4.\n",
      "\n",
      "Oxidation states were not explicitly set, thus have been guessed as {'Al': 3.0, 'Fe': 2.0, 'O': -2.0, 'Cr': 3.0}. If this is unreasonable you should manually set oxidation_states\n",
      "Applying ShakeNBreak... Will apply the following bond distortions: ['-0.6', '-0.5', '-0.4', '-0.3', '-0.2', '-0.1', '0.0', '0.1', '0.2', '0.3', '0.4', '0.5', '0.6', 'Dimer (for vacancies)']. Then, will rattle with a std dev of 0.19 Å \n",
      "\n"
     ]
    },
    {
     "name": "stderr",
     "output_type": "stream",
     "text": [
      "Generating distorted defect structures...0.0%|                                                         | [00:00,  ?it/s]"
     ]
    },
    {
     "name": "stdout",
     "output_type": "stream",
     "text": [
      "\u001b[1m\n",
      "Defect: Cr_Al\u001b[0m\n",
      "\u001b[1mNumber of missing electrons in neutral state: 0\u001b[0m\n",
      "\n",
      "Defect Cr_Al in charge state: 0. Number of distorted neighbours: 0\n"
     ]
    },
    {
     "name": "stderr",
     "output_type": "stream",
     "text": [
      "Generating distorted defect structures...100.0%|███████████████████████████████████████████████████| [00:00,   4.28it/s]"
     ]
    },
    {
     "name": "stdout",
     "output_type": "stream",
     "text": [
      "       Step     Time          Energy          fmax\n",
      "LBFGS:    0 12:13:00    -1130.423218        0.000208\n"
     ]
    },
    {
     "name": "stderr",
     "output_type": "stream",
     "text": [
      "\n"
     ]
    },
    {
     "name": "stdout",
     "output_type": "stream",
     "text": [
      "       Step     Time          Energy          fmax\n",
      "LBFGS:    0 12:13:01    -1136.130127        1.586565\n",
      "LBFGS:    1 12:13:01    -1136.318604        1.121564\n",
      "LBFGS:    2 12:13:02    -1136.540405        0.297360\n",
      "LBFGS:    3 12:13:03    -1136.562134        0.227332\n",
      "LBFGS:    4 12:13:03    -1136.586426        0.192252\n",
      "LBFGS:    5 12:13:04    -1136.601807        0.155239\n",
      "LBFGS:    6 12:13:04    -1136.612549        0.156872\n",
      "LBFGS:    7 12:13:05    -1136.618652        0.176879\n",
      "LBFGS:    8 12:13:05    -1136.624146        0.163525\n",
      "LBFGS:    9 12:13:06    -1136.629272        0.120529\n",
      "LBFGS:   10 12:13:06    -1136.633911        0.068051\n",
      "LBFGS:   11 12:13:07    -1136.636963        0.054846\n",
      "LBFGS:   12 12:13:08    -1136.639282        0.048255\n",
      "LBFGS:   13 12:13:08    -1136.641357        0.043515\n",
      "LBFGS:   14 12:13:09    -1136.642822        0.061312\n",
      "LBFGS:   15 12:13:09    -1136.643799        0.049284\n",
      "LBFGS:   16 12:13:10    -1136.643677        0.025466\n",
      "LBFGS:   17 12:13:10    -1136.644531        0.023061\n",
      "LBFGS:   18 12:13:11    -1136.644775        0.033243\n",
      "LBFGS:   19 12:13:11    -1136.645020        0.041271\n",
      "LBFGS:   20 12:13:12    -1136.645264        0.031462\n",
      "LBFGS:   21 12:13:13    -1136.645264        0.015660\n",
      "LBFGS:   22 12:13:13    -1136.645264        0.014634\n",
      "LBFGS:   23 12:13:14    -1136.645508        0.013027\n",
      "LBFGS:   24 12:13:14    -1136.645386        0.010703\n",
      "LBFGS:   25 12:13:15    -1136.645508        0.007688\n",
      "       Step     Time          Energy          fmax\n",
      "LBFGS:    0 12:13:16    -1059.748535       21.095173\n",
      "LBFGS:    1 12:13:16    -1096.834351        9.861879\n",
      "LBFGS:    2 12:13:17    -1118.049805        4.267852\n",
      "LBFGS:    3 12:13:17    -1128.950073        2.522852\n",
      "LBFGS:    4 12:13:18    -1131.560547        2.007774\n",
      "LBFGS:    5 12:13:19    -1133.683105        1.343380\n",
      "LBFGS:    6 12:13:19    -1134.818726        1.102967\n",
      "LBFGS:    7 12:13:20    -1135.486938        0.861753\n",
      "LBFGS:    8 12:13:20    -1135.825195        0.839157\n",
      "LBFGS:    9 12:13:21    -1136.069702        0.512097\n",
      "LBFGS:   10 12:13:21    -1136.218262        0.501336\n",
      "LBFGS:   11 12:13:22    -1136.312378        0.464802\n",
      "LBFGS:   12 12:13:22    -1136.389648        0.398421\n",
      "LBFGS:   13 12:13:23    -1136.448975        0.342345\n",
      "LBFGS:   14 12:13:24    -1136.487305        0.305552\n",
      "LBFGS:   15 12:13:24    -1136.514893        0.250994\n",
      "LBFGS:   16 12:13:25    -1136.538574        0.161689\n",
      "LBFGS:   17 12:13:25    -1136.558105        0.158440\n",
      "LBFGS:   18 12:13:26    -1136.572754        0.165250\n",
      "LBFGS:   19 12:13:26    -1136.583496        0.126712\n",
      "LBFGS:   20 12:13:27    -1136.591797        0.093956\n",
      "LBFGS:   21 12:13:28    -1136.598511        0.087114\n",
      "LBFGS:   22 12:13:28    -1136.603760        0.091664\n",
      "LBFGS:   23 12:13:29    -1136.608276        0.081634\n",
      "LBFGS:   24 12:13:29    -1136.612427        0.073213\n",
      "LBFGS:   25 12:13:30    -1136.615967        0.067977\n",
      "LBFGS:   26 12:13:30    -1136.618896        0.065756\n",
      "LBFGS:   27 12:13:31    -1136.621704        0.081709\n",
      "LBFGS:   28 12:13:31    -1136.624023        0.062519\n",
      "LBFGS:   29 12:13:32    -1136.625610        0.048584\n",
      "LBFGS:   30 12:13:33    -1136.627441        0.044512\n",
      "LBFGS:   31 12:13:33    -1136.628662        0.051416\n",
      "LBFGS:   32 12:13:34    -1136.629883        0.042048\n",
      "LBFGS:   33 12:13:34    -1136.631226        0.034763\n",
      "LBFGS:   34 12:13:35    -1136.632324        0.037603\n",
      "LBFGS:   35 12:13:35    -1136.632935        0.032601\n",
      "LBFGS:   36 12:13:36    -1136.633789        0.034835\n",
      "LBFGS:   37 12:13:37    -1136.634399        0.033847\n",
      "LBFGS:   38 12:13:37    -1136.635254        0.029489\n",
      "LBFGS:   39 12:13:38    -1136.635986        0.027649\n",
      "LBFGS:   40 12:13:38    -1136.635986        0.031753\n",
      "LBFGS:   41 12:13:39    -1136.636963        0.035820\n",
      "LBFGS:   42 12:13:39    -1136.637451        0.039506\n",
      "LBFGS:   43 12:13:40    -1136.637695        0.042030\n",
      "LBFGS:   44 12:13:40    -1136.638306        0.042663\n",
      "LBFGS:   45 12:13:41    -1136.638428        0.041539\n",
      "LBFGS:   46 12:13:42    -1136.639038        0.039258\n",
      "LBFGS:   47 12:13:42    -1136.639404        0.035856\n",
      "LBFGS:   48 12:13:43    -1136.639771        0.031055\n",
      "LBFGS:   49 12:13:43    -1136.639893        0.031165\n",
      "LBFGS:   50 12:13:44    -1136.640869        0.027388\n",
      "LBFGS:   51 12:13:44    -1136.641235        0.036291\n",
      "LBFGS:   52 12:13:45    -1136.641968        0.032096\n",
      "LBFGS:   53 12:13:46    -1136.642578        0.030356\n",
      "LBFGS:   54 12:13:46    -1136.643188        0.030000\n",
      "LBFGS:   55 12:13:47    -1136.643799        0.024486\n",
      "LBFGS:   56 12:13:47    -1136.643799        0.023195\n",
      "LBFGS:   57 12:13:48    -1136.644165        0.017244\n",
      "LBFGS:   58 12:13:48    -1136.644531        0.020952\n",
      "LBFGS:   59 12:13:49    -1136.644409        0.017266\n",
      "LBFGS:   60 12:13:50    -1136.644531        0.015747\n",
      "LBFGS:   61 12:13:50    -1136.644653        0.014376\n",
      "LBFGS:   62 12:13:51    -1136.644897        0.013049\n",
      "LBFGS:   63 12:13:51    -1136.645142        0.015663\n",
      "LBFGS:   64 12:13:52    -1136.644897        0.014535\n",
      "LBFGS:   65 12:13:52    -1136.645264        0.011591\n",
      "LBFGS:   66 12:13:53    -1136.645020        0.011377\n",
      "LBFGS:   67 12:13:53    -1136.645142        0.012923\n",
      "LBFGS:   68 12:13:54    -1136.645752        0.013247\n",
      "LBFGS:   69 12:13:55    -1136.645874        0.007844\n"
     ]
    },
    {
     "name": "stderr",
     "output_type": "stream",
     "text": [
      "Generating DefectEntry objects: 100.0%|████████████████████████████████████████████████████████████| [00:41,   2.39it/s]\n"
     ]
    },
    {
     "name": "stdout",
     "output_type": "stream",
     "text": [
      "Vacancies    Guessed Charges    Conv. Cell Coords    Wyckoff\n",
      "-----------  -----------------  -------------------  ---------\n",
      "v_Mg         [+1,0,-1,-2]       [0.000,0.000,0.000]  8a\n",
      "v_Al         [+1,0,-1,-2,-3]    [0.625,0.625,0.625]  16d\n",
      "v_O          [+2,+1,0,-1]       [0.389,0.389,0.389]  32e\n",
      "\n",
      "Substitutions    Guessed Charges     Conv. Cell Coords    Wyckoff\n",
      "---------------  ------------------  -------------------  ---------\n",
      "Mg_Al            [0,-1]              [0.625,0.625,0.625]  16d\n",
      "Mg_O             [+4,+3,+2,+1,0]     [0.389,0.389,0.389]  32e\n",
      "Al_Mg            [+1,0]              [0.000,0.000,0.000]  8a\n",
      "Al_O             [+5,+4,+3,+2,+1,0]  [0.389,0.389,0.389]  32e\n",
      "O_Mg             [0,-1,-2,-3,-4]     [0.000,0.000,0.000]  8a\n",
      "O_Al             [0,-1,-2,-3,-4,-5]  [0.625,0.625,0.625]  16d\n",
      "Cr_Mg            [+4,+3,+2,+1,0]     [0.000,0.000,0.000]  8a\n",
      "Cr_Al            [+3,+2,+1,0,-1]     [0.625,0.625,0.625]  16d\n",
      "Cr_O             [+5,+4,+3,+2,+1,0]  [0.389,0.389,0.389]  32e\n",
      "\n",
      "The number in the Wyckoff label is the site multiplicity/degeneracy of that defect in the conventional ('conv.') unit cell, which comprises 8 formula unit(s) of MgAl2O4.\n",
      "\n",
      "Oxidation states were not explicitly set, thus have been guessed as {'Mg': 2.0, 'Al': 3.0, 'O': -2.0, 'Cr': 3.0}. If this is unreasonable you should manually set oxidation_states\n",
      "Applying ShakeNBreak... Will apply the following bond distortions: ['-0.6', '-0.5', '-0.4', '-0.3', '-0.2', '-0.1', '0.0', '0.1', '0.2', '0.3', '0.4', '0.5', '0.6', 'Dimer (for vacancies)']. Then, will rattle with a std dev of 0.19 Å \n",
      "\n"
     ]
    },
    {
     "name": "stderr",
     "output_type": "stream",
     "text": [
      "Generating distorted defect structures...0.0%|                                                         | [00:00,  ?it/s]"
     ]
    },
    {
     "name": "stdout",
     "output_type": "stream",
     "text": [
      "\u001b[1m\n",
      "Defect: Cr_Al\u001b[0m\n",
      "\u001b[1mNumber of missing electrons in neutral state: 0\u001b[0m\n",
      "\n",
      "Defect Cr_Al in charge state: 0. Number of distorted neighbours: 0\n"
     ]
    },
    {
     "name": "stderr",
     "output_type": "stream",
     "text": [
      "Generating distorted defect structures...100.0%|███████████████████████████████████████████████████| [00:00,   2.61it/s]"
     ]
    },
    {
     "name": "stdout",
     "output_type": "stream",
     "text": [
      "       Step     Time          Energy          fmax\n",
      "LBFGS:    0 12:14:37    -1029.287354        0.004652\n"
     ]
    },
    {
     "name": "stderr",
     "output_type": "stream",
     "text": [
      "\n"
     ]
    },
    {
     "name": "stdout",
     "output_type": "stream",
     "text": [
      "       Step     Time          Energy          fmax\n",
      "LBFGS:    0 12:14:38    -1034.849487        1.142775\n",
      "LBFGS:    1 12:14:38    -1034.948975        0.815183\n",
      "LBFGS:    2 12:14:39    -1035.064453        0.194541\n",
      "LBFGS:    3 12:14:40    -1035.075928        0.174896\n",
      "LBFGS:    4 12:14:40    -1035.086426        0.142943\n",
      "LBFGS:    5 12:14:41    -1035.091187        0.116308\n",
      "LBFGS:    6 12:14:41    -1035.093994        0.129468\n",
      "LBFGS:    7 12:14:42    -1035.095703        0.102666\n",
      "LBFGS:    8 12:14:42    -1035.096924        0.053580\n",
      "LBFGS:    9 12:14:43    -1035.097656        0.027183\n",
      "LBFGS:   10 12:14:44    -1035.098267        0.021145\n",
      "LBFGS:   11 12:14:44    -1035.098633        0.018561\n",
      "LBFGS:   12 12:14:45    -1035.098633        0.011814\n",
      "LBFGS:   13 12:14:45    -1035.098633        0.009136\n",
      "       Step     Time          Energy          fmax\n",
      "LBFGS:    0 12:14:46     -942.895874       16.604279\n",
      "LBFGS:    1 12:14:47     -995.755737        6.561036\n",
      "LBFGS:    2 12:14:47    -1019.134216        3.563711\n",
      "LBFGS:    3 12:14:48    -1026.342651        2.827104\n",
      "LBFGS:    4 12:14:48    -1029.740234        2.036081\n",
      "LBFGS:    5 12:14:49    -1032.414551        1.521082\n",
      "LBFGS:    6 12:14:50    -1033.646973        1.050180\n",
      "LBFGS:    7 12:14:50    -1034.286133        0.744446\n",
      "LBFGS:    8 12:14:51    -1034.599243        0.557597\n",
      "LBFGS:    9 12:14:51    -1034.804199        0.407382\n",
      "LBFGS:   10 12:14:52    -1034.913330        0.362573\n",
      "LBFGS:   11 12:14:52    -1034.981567        0.270101\n",
      "LBFGS:   12 12:14:53    -1035.022827        0.230774\n",
      "LBFGS:   13 12:14:54    -1035.047729        0.173682\n",
      "LBFGS:   14 12:14:54    -1035.063599        0.131061\n",
      "LBFGS:   15 12:14:55    -1035.073975        0.099436\n",
      "LBFGS:   16 12:14:55    -1035.081543        0.082910\n",
      "LBFGS:   17 12:14:56    -1035.086304        0.078520\n",
      "LBFGS:   18 12:14:56    -1035.089844        0.064586\n",
      "LBFGS:   19 12:14:57    -1035.091919        0.049967\n",
      "LBFGS:   20 12:14:57    -1035.093506        0.044515\n",
      "LBFGS:   21 12:14:58    -1035.094727        0.041427\n",
      "LBFGS:   22 12:14:59    -1035.095703        0.032389\n",
      "LBFGS:   23 12:14:59    -1035.096436        0.031642\n",
      "LBFGS:   24 12:15:00    -1035.097168        0.033316\n",
      "LBFGS:   25 12:15:00    -1035.097046        0.031048\n",
      "LBFGS:   26 12:15:01    -1035.098022        0.025156\n",
      "LBFGS:   27 12:15:01    -1035.098145        0.019548\n",
      "LBFGS:   28 12:15:02    -1035.098633        0.015887\n",
      "LBFGS:   29 12:15:02    -1035.098511        0.011249\n",
      "LBFGS:   30 12:15:03    -1035.098877        0.009500\n"
     ]
    },
    {
     "name": "stderr",
     "output_type": "stream",
     "text": [
      "Generating DefectEntry objects: 100.0%|████████████████████████████████████████████████████████████| [00:40,   2.47it/s]\n"
     ]
    },
    {
     "name": "stdout",
     "output_type": "stream",
     "text": [
      "Vacancies    Guessed Charges    Conv. Cell Coords    Wyckoff\n",
      "-----------  -----------------  -------------------  ---------\n",
      "v_Mn         [+1,0,-1,-2]       [0.000,0.000,0.000]  8a\n",
      "v_Al         [+1,0,-1,-2,-3]    [0.625,0.625,0.625]  16d\n",
      "v_O          [+2,+1,0,-1]       [0.392,0.392,0.392]  32e\n",
      "\n",
      "Substitutions    Guessed Charges     Conv. Cell Coords    Wyckoff\n",
      "---------------  ------------------  -------------------  ---------\n",
      "Mn_Al            [+1,0,-1]           [0.625,0.625,0.625]  16d\n",
      "Mn_O             [+5,+4,+3,+2,+1,0]  [0.392,0.392,0.392]  32e\n",
      "Al_Mn            [+1,0]              [0.000,0.000,0.000]  8a\n",
      "Al_O             [+5,+4,+3,+2,+1,0]  [0.392,0.392,0.392]  32e\n",
      "O_Mn             [0,-1,-2,-3,-4]     [0.000,0.000,0.000]  8a\n",
      "O_Al             [0,-1,-2,-3,-4,-5]  [0.625,0.625,0.625]  16d\n",
      "Cr_Mn            [+4,+3,+2,+1,0]     [0.000,0.000,0.000]  8a\n",
      "Cr_Al            [+3,+2,+1,0,-1]     [0.625,0.625,0.625]  16d\n",
      "Cr_O             [+5,+4,+3,+2,+1,0]  [0.392,0.392,0.392]  32e\n",
      "\n",
      "The number in the Wyckoff label is the site multiplicity/degeneracy of that defect in the conventional ('conv.') unit cell, which comprises 8 formula unit(s) of MnAl2O4.\n",
      "\n",
      "Oxidation states were not explicitly set, thus have been guessed as {'Mn': 2.0, 'Al': 3.0, 'O': -2.0, 'Cr': 3.0}. If this is unreasonable you should manually set oxidation_states\n",
      "Applying ShakeNBreak... Will apply the following bond distortions: ['-0.6', '-0.5', '-0.4', '-0.3', '-0.2', '-0.1', '0.0', '0.1', '0.2', '0.3', '0.4', '0.5', '0.6', 'Dimer (for vacancies)']. Then, will rattle with a std dev of 0.19 Å \n",
      "\n"
     ]
    },
    {
     "name": "stderr",
     "output_type": "stream",
     "text": [
      "Generating distorted defect structures...0.0%|                                                         | [00:00,  ?it/s]"
     ]
    },
    {
     "name": "stdout",
     "output_type": "stream",
     "text": [
      "\u001b[1m\n",
      "Defect: Cr_Al\u001b[0m\n",
      "\u001b[1mNumber of missing electrons in neutral state: 0\u001b[0m\n",
      "\n",
      "Defect Cr_Al in charge state: 0. Number of distorted neighbours: 0\n"
     ]
    },
    {
     "name": "stderr",
     "output_type": "stream",
     "text": [
      "Generating distorted defect structures...100.0%|███████████████████████████████████████████████████| [00:00,   4.95it/s]"
     ]
    },
    {
     "name": "stdout",
     "output_type": "stream",
     "text": [
      "       Step     Time          Energy          fmax\n",
      "LBFGS:    0 12:15:44     -869.736938        0.007884\n"
     ]
    },
    {
     "name": "stderr",
     "output_type": "stream",
     "text": [
      "\n"
     ]
    },
    {
     "name": "stdout",
     "output_type": "stream",
     "text": [
      "       Step     Time          Energy          fmax\n",
      "LBFGS:    0 12:15:45     -875.435547        1.288126\n",
      "LBFGS:    1 12:15:45     -875.561401        0.937302\n",
      "LBFGS:    2 12:15:46     -875.728638        0.296121\n",
      "LBFGS:    3 12:15:46     -875.747437        0.220937\n",
      "LBFGS:    4 12:15:46     -875.766968        0.171818\n",
      "LBFGS:    5 12:15:47     -875.777161        0.148306\n",
      "LBFGS:    6 12:15:47     -875.786133        0.181596\n",
      "LBFGS:    7 12:15:48     -875.792480        0.179510\n",
      "LBFGS:    8 12:15:48     -875.798096        0.137629\n",
      "LBFGS:    9 12:15:49     -875.801880        0.076083\n",
      "LBFGS:   10 12:15:49     -875.804077        0.049252\n",
      "LBFGS:   11 12:15:49     -875.805542        0.037541\n",
      "LBFGS:   12 12:15:50     -875.806580        0.029832\n",
      "LBFGS:   13 12:15:50     -875.806946        0.033082\n",
      "LBFGS:   14 12:15:51     -875.807312        0.019015\n",
      "LBFGS:   15 12:15:51     -875.807617        0.017132\n",
      "LBFGS:   16 12:15:52     -875.807861        0.018535\n",
      "LBFGS:   17 12:15:52     -875.807739        0.022845\n",
      "LBFGS:   18 12:15:53     -875.808105        0.015414\n",
      "LBFGS:   19 12:15:53     -875.808167        0.005326\n",
      "       Step     Time          Energy          fmax\n",
      "LBFGS:    0 12:15:54     -820.684265       15.734049\n",
      "LBFGS:    1 12:15:54     -848.663208        5.755955\n",
      "LBFGS:    2 12:15:55     -864.657471        3.322808\n",
      "LBFGS:    3 12:15:55     -869.693726        2.767191\n",
      "LBFGS:    4 12:15:55     -871.942505        2.235631\n",
      "LBFGS:    5 12:15:56     -873.677612        1.262384\n",
      "LBFGS:    6 12:15:56     -874.520508        1.138658\n",
      "LBFGS:    7 12:15:57     -874.975586        1.055105\n",
      "LBFGS:    8 12:15:57     -875.286255        0.719092\n",
      "LBFGS:    9 12:15:58     -875.482300        0.455009\n",
      "LBFGS:   10 12:15:58     -875.582520        0.350014\n",
      "LBFGS:   11 12:15:58     -875.643799        0.323140\n",
      "LBFGS:   12 12:15:59     -875.692017        0.275311\n",
      "LBFGS:   13 12:15:59     -875.726562        0.208739\n",
      "LBFGS:   14 12:16:00     -875.747803        0.226100\n",
      "LBFGS:   15 12:16:00     -875.762939        0.170925\n",
      "LBFGS:   16 12:16:01     -875.774414        0.126039\n",
      "LBFGS:   17 12:16:01     -875.782715        0.111973\n",
      "LBFGS:   18 12:16:02     -875.788452        0.088139\n",
      "LBFGS:   19 12:16:02     -875.792847        0.082275\n",
      "LBFGS:   20 12:16:02     -875.796021        0.062023\n",
      "LBFGS:   21 12:16:03     -875.798462        0.052178\n",
      "LBFGS:   22 12:16:03     -875.800110        0.045497\n",
      "LBFGS:   23 12:16:04     -875.801636        0.048812\n",
      "LBFGS:   24 12:16:04     -875.802734        0.049935\n",
      "LBFGS:   25 12:16:05     -875.803955        0.046545\n",
      "LBFGS:   26 12:16:05     -875.804932        0.034690\n",
      "LBFGS:   27 12:16:05     -875.805786        0.035235\n",
      "LBFGS:   28 12:16:06     -875.806580        0.030406\n",
      "LBFGS:   29 12:16:06     -875.807007        0.022398\n",
      "LBFGS:   30 12:16:07     -875.807251        0.021067\n",
      "LBFGS:   31 12:16:07     -875.807556        0.018165\n",
      "LBFGS:   32 12:16:08     -875.807739        0.014754\n",
      "LBFGS:   33 12:16:08     -875.807861        0.011554\n",
      "LBFGS:   34 12:16:08     -875.807800        0.010460\n",
      "LBFGS:   35 12:16:09     -875.807861        0.008535\n"
     ]
    },
    {
     "name": "stderr",
     "output_type": "stream",
     "text": [
      "Generating DefectEntry objects: 100.0%|████████████████████████████████████████████████████████████| [00:58,   1.70it/s]\n"
     ]
    },
    {
     "name": "stdout",
     "output_type": "stream",
     "text": [
      "Vacancies            Guessed Charges           Conv. Cell Coords    Wyckoff\n",
      "-------------------  ------------------------  -------------------  ---------\n",
      "v_Al                 [+1,0,-1,-2,-3]           [0.118,0.250,0.464]  8d\n",
      "v_Mo_C1              [+1,0,-1,-2,-3,-4,-5,-6]  [0.147,0.100,0.123]  8d\n",
      "v_Mo_C2              [+1,0,-1,-2,-3,-4,-5,-6]  [0.500,0.022,0.250]  4c\n",
      "v_O_C1_Mo1.75Al1.87  [+2,+1,0,-1]              [0.247,0.177,0.013]  8d\n",
      "v_O_C1_Mo1.75Al1.89  [+2,+1,0,-1]              [0.442,0.133,0.115]  8d\n",
      "v_O_C1_Mo1.76Al1.88  [+2,+1,0,-1]              [0.639,0.409,0.408]  8d\n",
      "v_O_C1_Mo1.76Al1.89  [+2,+1,0,-1]              [0.174,0.135,0.309]  8d\n",
      "v_O_C1_Mo1.76Al1.90  [+2,+1,0,-1]              [0.098,0.408,0.329]  8d\n",
      "v_O_C1_Mo1.76Al1.92  [+2,+1,0,-1]              [0.023,0.179,0.079]  8d\n",
      "\n",
      "Substitutions         Guessed Charges              Conv. Cell Coords    Wyckoff\n",
      "--------------------  ---------------------------  -------------------  ---------\n",
      "Al_Mo_C1              [0,-1,-2,-3]                 [0.147,0.100,0.123]  8d\n",
      "Al_Mo_C2              [0,-1,-2,-3]                 [0.500,0.022,0.250]  4c\n",
      "Al_O_C1_Mo1.75Al1.87  [+5,+4,+3,+2,+1,0]           [0.247,0.177,0.013]  8d\n",
      "Al_O_C1_Mo1.75Al1.89  [+5,+4,+3,+2,+1,0]           [0.442,0.133,0.115]  8d\n",
      "Al_O_C1_Mo1.76Al1.88  [+5,+4,+3,+2,+1,0]           [0.639,0.409,0.408]  8d\n",
      "Al_O_C1_Mo1.76Al1.89  [+5,+4,+3,+2,+1,0]           [0.174,0.135,0.309]  8d\n",
      "Al_O_C1_Mo1.76Al1.90  [+5,+4,+3,+2,+1,0]           [0.098,0.408,0.329]  8d\n",
      "Al_O_C1_Mo1.76Al1.92  [+5,+4,+3,+2,+1,0]           [0.023,0.179,0.079]  8d\n",
      "Mo_Al                 [+3,+2,+1,0,-1]              [0.118,0.250,0.464]  8d\n",
      "Mo_O_C1_Mo1.75Al1.87  [+8,+7,+6,+5,+4,+3,+2,+1,0]  [0.247,0.177,0.013]  8d\n",
      "Mo_O_C1_Mo1.75Al1.89  [+8,+7,+6,+5,+4,+3,+2,+1,0]  [0.442,0.133,0.115]  8d\n",
      "Mo_O_C1_Mo1.76Al1.88  [+8,+7,+6,+5,+4,+3,+2,+1,0]  [0.639,0.409,0.408]  8d\n",
      "Mo_O_C1_Mo1.76Al1.89  [+8,+7,+6,+5,+4,+3,+2,+1,0]  [0.174,0.135,0.309]  8d\n",
      "Mo_O_C1_Mo1.76Al1.90  [+8,+7,+6,+5,+4,+3,+2,+1,0]  [0.098,0.408,0.329]  8d\n",
      "Mo_O_C1_Mo1.76Al1.92  [+8,+7,+6,+5,+4,+3,+2,+1,0]  [0.023,0.179,0.079]  8d\n",
      "O_Al                  [0,-1,-2,-3,-4,-5]           [0.118,0.250,0.464]  8d\n",
      "O_Mo_C1               [0,-1,-2,-3,-4,-5,-6,-7,-8]  [0.147,0.100,0.123]  8d\n",
      "O_Mo_C2               [0,-1,-2,-3,-4,-5,-6,-7,-8]  [0.500,0.022,0.250]  4c\n",
      "Cr_Al                 [+3,+2,+1,0,-1]              [0.118,0.250,0.464]  8d\n",
      "Cr_Mo_C1              [0,-1,-2,-3,-4]              [0.147,0.100,0.123]  8d\n",
      "Cr_Mo_C2              [0,-1,-2,-3,-4]              [0.500,0.022,0.250]  4c\n",
      "Cr_O_C1_Mo1.75Al1.87  [+8,+7,+6,+5,+4,+3,+2,+1,0]  [0.247,0.177,0.013]  8d\n",
      "Cr_O_C1_Mo1.75Al1.89  [+8,+7,+6,+5,+4,+3,+2,+1,0]  [0.442,0.133,0.115]  8d\n",
      "Cr_O_C1_Mo1.76Al1.88  [+8,+7,+6,+5,+4,+3,+2,+1,0]  [0.639,0.409,0.408]  8d\n",
      "Cr_O_C1_Mo1.76Al1.89  [+8,+7,+6,+5,+4,+3,+2,+1,0]  [0.174,0.135,0.309]  8d\n",
      "Cr_O_C1_Mo1.76Al1.90  [+8,+7,+6,+5,+4,+3,+2,+1,0]  [0.098,0.408,0.329]  8d\n",
      "Cr_O_C1_Mo1.76Al1.92  [+8,+7,+6,+5,+4,+3,+2,+1,0]  [0.023,0.179,0.079]  8d\n",
      "\n",
      "The number in the Wyckoff label is the site multiplicity/degeneracy of that defect in the conventional ('conv.') unit cell, which comprises 4 formula unit(s) of Al2(MoO4)3.\n",
      "\n",
      "Oxidation states were not explicitly set, thus have been guessed as {'Al': 3.0, 'Mo': 6.0, 'O': -2.0, 'Cr': 3.0}. If this is unreasonable you should manually set oxidation_states\n",
      "Applying ShakeNBreak... Will apply the following bond distortions: ['-0.6', '-0.5', '-0.4', '-0.3', '-0.2', '-0.1', '0.0', '0.1', '0.2', '0.3', '0.4', '0.5', '0.6', 'Dimer (for vacancies)']. Then, will rattle with a std dev of 0.17 Å \n",
      "\n"
     ]
    },
    {
     "name": "stderr",
     "output_type": "stream",
     "text": [
      "Generating distorted defect structures...100.0%|███████████████████████████████████████████████████| [00:00,  12.71it/s]\n"
     ]
    },
    {
     "name": "stdout",
     "output_type": "stream",
     "text": [
      "\u001b[1m\n",
      "Defect: Cr_Al\u001b[0m\n",
      "\u001b[1mNumber of missing electrons in neutral state: 0\u001b[0m\n",
      "\n",
      "Defect Cr_Al in charge state: 0. Number of distorted neighbours: 0\n",
      "       Step     Time          Energy          fmax\n",
      "LBFGS:    0 12:17:08    -1636.455322        0.006436\n",
      "       Step     Time          Energy          fmax\n",
      "LBFGS:    0 12:17:09    -1641.534546        0.664561\n",
      "LBFGS:    1 12:17:09    -1641.562866        0.588510\n",
      "LBFGS:    2 12:17:10    -1641.619141        0.343492\n",
      "LBFGS:    3 12:17:10    -1641.646484        0.296806\n",
      "LBFGS:    4 12:17:11    -1641.657471        0.247681\n",
      "LBFGS:    5 12:17:11    -1641.662598        0.193364\n",
      "LBFGS:    6 12:17:12    -1641.672119        0.173441\n",
      "LBFGS:    7 12:17:12    -1641.681152        0.175724\n",
      "LBFGS:    8 12:17:13    -1641.684326        0.133735\n",
      "LBFGS:    9 12:17:13    -1641.688721        0.129384\n",
      "LBFGS:   10 12:17:14    -1641.690552        0.110122\n",
      "LBFGS:   11 12:17:14    -1641.696289        0.117939\n",
      "LBFGS:   12 12:17:15    -1641.698242        0.092071\n",
      "LBFGS:   13 12:17:15    -1641.702393        0.127684\n",
      "LBFGS:   14 12:17:16    -1641.704834        0.123664\n",
      "LBFGS:   15 12:17:16    -1641.707275        0.094867\n",
      "LBFGS:   16 12:17:17    -1641.708374        0.068548\n",
      "LBFGS:   17 12:17:17    -1641.711304        0.071178\n",
      "LBFGS:   18 12:17:18    -1641.710938        0.053661\n",
      "LBFGS:   19 12:17:18    -1641.711670        0.074232\n",
      "LBFGS:   20 12:17:19    -1641.714355        0.058364\n",
      "LBFGS:   21 12:17:19    -1641.715332        0.061307\n",
      "LBFGS:   22 12:17:20    -1641.714355        0.050623\n",
      "LBFGS:   23 12:17:20    -1641.715332        0.059512\n",
      "LBFGS:   24 12:17:21    -1641.717163        0.058399\n",
      "LBFGS:   25 12:17:21    -1641.717896        0.043961\n",
      "LBFGS:   26 12:17:22    -1641.718140        0.046041\n",
      "LBFGS:   27 12:17:22    -1641.717529        0.042610\n",
      "LBFGS:   28 12:17:23    -1641.719116        0.049008\n",
      "LBFGS:   29 12:17:23    -1641.718140        0.031068\n",
      "LBFGS:   30 12:17:24    -1641.719727        0.027206\n",
      "LBFGS:   31 12:17:24    -1641.719971        0.020179\n",
      "LBFGS:   32 12:17:25    -1641.718872        0.030511\n",
      "LBFGS:   33 12:17:25    -1641.720215        0.028956\n",
      "LBFGS:   34 12:17:26    -1641.719238        0.022456\n",
      "LBFGS:   35 12:17:26    -1641.719116        0.018195\n",
      "LBFGS:   36 12:17:27    -1641.720825        0.018179\n",
      "LBFGS:   37 12:17:27    -1641.720703        0.020036\n",
      "LBFGS:   38 12:17:28    -1641.720947        0.017794\n",
      "LBFGS:   39 12:17:28    -1641.721313        0.018617\n",
      "LBFGS:   40 12:17:29    -1641.719849        0.014155\n",
      "LBFGS:   41 12:17:29    -1641.720947        0.019507\n",
      "LBFGS:   42 12:17:30    -1641.719727        0.014459\n",
      "LBFGS:   43 12:17:30    -1641.721069        0.013813\n",
      "LBFGS:   44 12:17:31    -1641.720947        0.011167\n",
      "LBFGS:   45 12:17:31    -1641.719971        0.017532\n",
      "LBFGS:   46 12:17:32    -1641.721558        0.017921\n",
      "LBFGS:   47 12:17:32    -1641.719971        0.009990\n",
      "       Step     Time          Energy          fmax\n",
      "LBFGS:    0 12:17:33    -1518.638672       47.477955\n",
      "LBFGS:    1 12:17:33    -1582.039062       16.399472\n",
      "LBFGS:    2 12:17:34    -1612.033691        9.290882\n",
      "LBFGS:    3 12:17:34    -1627.002930        6.671286\n",
      "LBFGS:    4 12:17:35    -1632.051880        2.867322\n",
      "LBFGS:    5 12:17:35    -1634.994751        2.782326\n",
      "LBFGS:    6 12:17:36    -1637.348877        3.149016\n",
      "LBFGS:    7 12:17:36    -1639.085571        2.187956\n",
      "LBFGS:    8 12:17:37    -1639.823242        0.958725\n",
      "LBFGS:    9 12:17:37    -1640.309570        0.887928\n",
      "LBFGS:   10 12:17:38    -1640.635254        0.855729\n",
      "LBFGS:   11 12:17:38    -1640.901123        0.730109\n",
      "LBFGS:   12 12:17:39    -1641.061279        0.598163\n",
      "LBFGS:   13 12:17:39    -1641.194824        0.636404\n",
      "LBFGS:   14 12:17:40    -1641.313477        0.690049\n",
      "LBFGS:   15 12:17:40    -1641.387939        0.571639\n",
      "LBFGS:   16 12:17:41    -1641.435547        0.291644\n",
      "LBFGS:   17 12:17:41    -1641.476807        0.290991\n",
      "LBFGS:   18 12:17:42    -1641.512695        0.483885\n",
      "LBFGS:   19 12:17:42    -1641.546387        0.446042\n",
      "LBFGS:   20 12:17:43    -1641.570679        0.233181\n",
      "LBFGS:   21 12:17:43    -1641.588867        0.176530\n",
      "LBFGS:   22 12:17:44    -1641.605225        0.274207\n",
      "LBFGS:   23 12:17:44    -1641.618408        0.316648\n",
      "LBFGS:   24 12:17:45    -1641.631836        0.241797\n",
      "LBFGS:   25 12:17:45    -1641.643555        0.127159\n",
      "LBFGS:   26 12:17:46    -1641.652344        0.160369\n",
      "LBFGS:   27 12:17:46    -1641.659424        0.202213\n",
      "LBFGS:   28 12:17:47    -1641.666260        0.160579\n",
      "LBFGS:   29 12:17:47    -1641.672119        0.083436\n",
      "LBFGS:   30 12:17:48    -1641.677734        0.089995\n",
      "LBFGS:   31 12:17:48    -1641.681885        0.114103\n",
      "LBFGS:   32 12:17:49    -1641.686523        0.119959\n",
      "LBFGS:   33 12:17:49    -1641.691650        0.089794\n",
      "LBFGS:   34 12:17:50    -1641.693970        0.058053\n",
      "LBFGS:   35 12:17:50    -1641.697998        0.073846\n",
      "LBFGS:   36 12:17:51    -1641.699951        0.087739\n",
      "LBFGS:   37 12:17:51    -1641.702393        0.070131\n",
      "LBFGS:   38 12:17:52    -1641.704590        0.054966\n",
      "LBFGS:   39 12:17:52    -1641.706299        0.045354\n",
      "LBFGS:   40 12:17:53    -1641.706543        0.052071\n",
      "LBFGS:   41 12:17:53    -1641.708008        0.059511\n",
      "LBFGS:   42 12:17:54    -1641.710693        0.055440\n",
      "LBFGS:   43 12:17:54    -1641.711060        0.038787\n",
      "LBFGS:   44 12:17:55    -1641.711914        0.034113\n",
      "LBFGS:   45 12:17:55    -1641.712769        0.039211\n",
      "LBFGS:   46 12:17:56    -1641.713867        0.051778\n",
      "LBFGS:   47 12:17:56    -1641.714600        0.042809\n",
      "LBFGS:   48 12:17:57    -1641.715332        0.027408\n",
      "LBFGS:   49 12:17:57    -1641.715698        0.025192\n",
      "LBFGS:   50 12:17:58    -1641.717285        0.031090\n",
      "LBFGS:   51 12:17:58    -1641.716797        0.033177\n",
      "LBFGS:   52 12:17:59    -1641.718262        0.031361\n",
      "LBFGS:   53 12:17:59    -1641.718994        0.026341\n",
      "LBFGS:   54 12:18:00    -1641.718994        0.022770\n",
      "LBFGS:   55 12:18:00    -1641.718262        0.025098\n",
      "LBFGS:   56 12:18:01    -1641.718018        0.018177\n",
      "LBFGS:   57 12:18:01    -1641.718750        0.018988\n",
      "LBFGS:   58 12:18:02    -1641.720337        0.015032\n",
      "LBFGS:   59 12:18:02    -1641.720459        0.021027\n",
      "LBFGS:   60 12:18:03    -1641.719238        0.017759\n",
      "LBFGS:   61 12:18:03    -1641.720825        0.015320\n",
      "LBFGS:   62 12:18:04    -1641.720825        0.011656\n",
      "LBFGS:   63 12:18:04    -1641.719482        0.015054\n",
      "LBFGS:   64 12:18:05    -1641.721069        0.017237\n",
      "LBFGS:   65 12:18:05    -1641.719727        0.013795\n",
      "LBFGS:   66 12:18:06    -1641.719971        0.015576\n",
      "LBFGS:   67 12:18:06    -1641.719971        0.012765\n",
      "LBFGS:   68 12:18:07    -1641.721191        0.013311\n",
      "LBFGS:   69 12:18:07    -1641.721680        0.011232\n",
      "LBFGS:   70 12:18:08    -1641.720947        0.006709\n"
     ]
    },
    {
     "name": "stderr",
     "output_type": "stream",
     "text": [
      "Generating DefectEntry objects: 100.0%|████████████████████████████████████████████████████████████| [00:32,   3.12it/s]\n"
     ]
    },
    {
     "name": "stdout",
     "output_type": "stream",
     "text": [
      "Vacancies      Guessed Charges    Conv. Cell Coords    Wyckoff\n",
      "-------------  -----------------  -------------------  ---------\n",
      "v_Be           [+1,0,-1,-2]       [0.568,0.250,0.093]  4c\n",
      "v_Al_Ci        [+1,0,-1,-2,-3]    [0.000,0.000,0.000]  4a\n",
      "v_Al_Cs        [+1,0,-1,-2,-3]    [0.005,0.250,0.272]  4c\n",
      "v_O_C1         [+2,+1,0,-1]       [0.242,0.516,0.337]  8d\n",
      "v_O_Cs_Be1.58  [+2,+1,0,-1]       [0.212,0.250,0.091]  4c\n",
      "v_O_Cs_Be1.68  [+2,+1,0,-1]       [0.261,0.750,0.066]  4c\n",
      "\n",
      "Substitutions    Guessed Charges     Conv. Cell Coords    Wyckoff\n",
      "---------------  ------------------  -------------------  ---------\n",
      "Be_Al_Ci         [0,-1]              [0.000,0.000,0.000]  4a\n",
      "Be_Al_Cs         [0,-1]              [0.005,0.250,0.272]  4c\n",
      "Be_O_C1          [+4,+3,+2,+1,0]     [0.242,0.516,0.337]  8d\n",
      "Be_O_Cs_Be1.58   [+4,+3,+2,+1,0]     [0.212,0.250,0.091]  4c\n",
      "Be_O_Cs_Be1.68   [+4,+3,+2,+1,0]     [0.261,0.750,0.066]  4c\n",
      "Al_Be            [+1,0]              [0.568,0.250,0.093]  4c\n",
      "Al_O_C1          [+5,+4,+3,+2,+1,0]  [0.242,0.516,0.337]  8d\n",
      "Al_O_Cs_Be1.58   [+5,+4,+3,+2,+1,0]  [0.212,0.250,0.091]  4c\n",
      "Al_O_Cs_Be1.68   [+5,+4,+3,+2,+1,0]  [0.261,0.750,0.066]  4c\n",
      "O_Be             [0,-1,-2,-3,-4]     [0.568,0.250,0.093]  4c\n",
      "O_Al_Ci          [0,-1,-2,-3,-4,-5]  [0.000,0.000,0.000]  4a\n",
      "O_Al_Cs          [0,-1,-2,-3,-4,-5]  [0.005,0.250,0.272]  4c\n",
      "Cr_Be            [+4,+3,+2,+1,0]     [0.568,0.250,0.093]  4c\n",
      "Cr_Al_Ci         [+3,+2,+1,0,-1]     [0.000,0.000,0.000]  4a\n",
      "Cr_Al_Cs         [+3,+2,+1,0,-1]     [0.005,0.250,0.272]  4c\n",
      "Cr_O_C1          [+5,+4,+3,+2,+1,0]  [0.242,0.516,0.337]  8d\n",
      "Cr_O_Cs_Be1.58   [+5,+4,+3,+2,+1,0]  [0.212,0.250,0.091]  4c\n",
      "Cr_O_Cs_Be1.68   [+5,+4,+3,+2,+1,0]  [0.261,0.750,0.066]  4c\n",
      "\n",
      "The number in the Wyckoff label is the site multiplicity/degeneracy of that defect in the conventional ('conv.') unit cell, which comprises 4 formula unit(s) of BeAl2O4.\n",
      "\n",
      "Oxidation states were not explicitly set, thus have been guessed as {'Be': 2.0, 'Al': 3.0, 'O': -2.0, 'Cr': 3.0}. If this is unreasonable you should manually set oxidation_states\n",
      "Applying ShakeNBreak... Will apply the following bond distortions: ['-0.6', '-0.5', '-0.4', '-0.3', '-0.2', '-0.1', '0.0', '0.1', '0.2', '0.3', '0.4', '0.5', '0.6', 'Dimer (for vacancies)']. Then, will rattle with a std dev of 0.16 Å \n",
      "\n"
     ]
    },
    {
     "name": "stderr",
     "output_type": "stream",
     "text": [
      "Generating distorted defect structures...0.0%|                                                         | [00:00,  ?it/s]"
     ]
    },
    {
     "name": "stdout",
     "output_type": "stream",
     "text": [
      "\u001b[1m\n",
      "Defect: Cr_Al_Ci\u001b[0m\n",
      "\u001b[1mNumber of missing electrons in neutral state: 0\u001b[0m\n",
      "\n",
      "Defect Cr_Al_Ci in charge state: 0. Number of distorted neighbours: 0\n"
     ]
    },
    {
     "name": "stderr",
     "output_type": "stream",
     "text": [
      "Generating distorted defect structures...50.0%|██████████████████████████                          | [00:00,   2.23it/s]"
     ]
    },
    {
     "name": "stdout",
     "output_type": "stream",
     "text": [
      "\u001b[1m\n",
      "Defect: Cr_Al_Cs\u001b[0m\n",
      "\u001b[1mNumber of missing electrons in neutral state: 0\u001b[0m\n",
      "\n",
      "Defect Cr_Al_Cs in charge state: 0. Number of distorted neighbours: 0\n"
     ]
    },
    {
     "name": "stderr",
     "output_type": "stream",
     "text": [
      "Generating distorted defect structures...100.0%|███████████████████████████████████████████████████| [00:00,   2.27it/s]\n"
     ]
    },
    {
     "name": "stdout",
     "output_type": "stream",
     "text": [
      "       Step     Time          Energy          fmax\n",
      "LBFGS:    0 12:18:41    -1029.424316        0.009240\n",
      "       Step     Time          Energy          fmax\n",
      "LBFGS:    0 12:18:42    -1034.632935        1.456237\n",
      "LBFGS:    1 12:18:43    -1034.761597        0.897007\n",
      "LBFGS:    2 12:18:43    -1034.868652        0.226421\n",
      "LBFGS:    3 12:18:44    -1034.880127        0.168199\n",
      "LBFGS:    4 12:18:45    -1034.889648        0.120512\n",
      "LBFGS:    5 12:18:46    -1034.892944        0.082267\n",
      "LBFGS:    6 12:18:46    -1034.895142        0.061225\n",
      "LBFGS:    7 12:18:47    -1034.896362        0.053179\n",
      "LBFGS:    8 12:18:48    -1034.897095        0.034793\n",
      "LBFGS:    9 12:18:49    -1034.897583        0.020699\n",
      "LBFGS:   10 12:18:49    -1034.897827        0.019157\n",
      "LBFGS:   11 12:18:50    -1034.898071        0.016183\n",
      "LBFGS:   12 12:18:51    -1034.897949        0.017138\n",
      "LBFGS:   13 12:18:52    -1034.898071        0.011178\n",
      "LBFGS:   14 12:18:52    -1034.898315        0.006652\n",
      "       Step     Time          Energy          fmax\n",
      "LBFGS:    0 12:18:53     -938.337891       56.963504\n",
      "LBFGS:    1 12:18:54     -974.895264       15.666975\n",
      "LBFGS:    2 12:18:55    -1006.878174       14.439019\n",
      "LBFGS:    3 12:18:55    -1025.384521        3.336460\n",
      "LBFGS:    4 12:18:56    -1029.650024        2.717540\n",
      "LBFGS:    5 12:18:57    -1032.228516        1.916100\n",
      "LBFGS:    6 12:18:58    -1033.432251        1.164305\n",
      "LBFGS:    7 12:18:58    -1034.093750        0.949169\n",
      "LBFGS:    8 12:18:59    -1034.437134        0.666802\n",
      "LBFGS:    9 12:19:00    -1034.620117        0.487232\n",
      "LBFGS:   10 12:19:01    -1034.726807        0.330544\n",
      "LBFGS:   11 12:19:01    -1034.786743        0.255834\n",
      "LBFGS:   12 12:19:02    -1034.826660        0.209315\n",
      "LBFGS:   13 12:19:03    -1034.851929        0.138915\n",
      "LBFGS:   14 12:19:03    -1034.867920        0.128245\n",
      "LBFGS:   15 12:19:04    -1034.878052        0.108436\n",
      "LBFGS:   16 12:19:05    -1034.884521        0.083408\n",
      "LBFGS:   17 12:19:06    -1034.889282        0.066920\n",
      "LBFGS:   18 12:19:06    -1034.891846        0.051525\n",
      "LBFGS:   19 12:19:07    -1034.893799        0.046619\n",
      "LBFGS:   20 12:19:08    -1034.895264        0.038704\n",
      "LBFGS:   21 12:19:09    -1034.895752        0.027815\n",
      "LBFGS:   22 12:19:09    -1034.896484        0.025920\n",
      "LBFGS:   23 12:19:10    -1034.896729        0.023482\n",
      "LBFGS:   24 12:19:11    -1034.897095        0.021020\n",
      "LBFGS:   25 12:19:12    -1034.897339        0.018542\n",
      "LBFGS:   26 12:19:12    -1034.897827        0.018575\n",
      "LBFGS:   27 12:19:13    -1034.897827        0.018140\n",
      "LBFGS:   28 12:19:14    -1034.897705        0.018909\n",
      "LBFGS:   29 12:19:15    -1034.897949        0.016088\n",
      "LBFGS:   30 12:19:15    -1034.898071        0.012092\n",
      "LBFGS:   31 12:19:16    -1034.898315        0.008454\n",
      "       Step     Time          Energy          fmax\n",
      "LBFGS:    0 12:19:17    -1034.903564        1.629992\n",
      "LBFGS:    1 12:19:18    -1035.022217        0.816162\n",
      "LBFGS:    2 12:19:19    -1035.103271        0.329095\n",
      "LBFGS:    3 12:19:19    -1035.117554        0.189492\n",
      "LBFGS:    4 12:19:20    -1035.128418        0.176087\n",
      "LBFGS:    5 12:19:21    -1035.133179        0.095993\n",
      "LBFGS:    6 12:19:22    -1035.135742        0.085228\n",
      "LBFGS:    7 12:19:22    -1035.136475        0.068363\n",
      "LBFGS:    8 12:19:23    -1035.137207        0.036240\n",
      "LBFGS:    9 12:19:24    -1035.137939        0.034372\n",
      "LBFGS:   10 12:19:25    -1035.138062        0.028668\n",
      "LBFGS:   11 12:19:25    -1035.138062        0.018907\n",
      "LBFGS:   12 12:19:26    -1035.138306        0.013878\n",
      "LBFGS:   13 12:19:27    -1035.138550        0.012065\n",
      "LBFGS:   14 12:19:28    -1035.138428        0.013168\n",
      "LBFGS:   15 12:19:28    -1035.138306        0.007834\n",
      "       Step     Time          Energy          fmax\n",
      "LBFGS:    0 12:19:29     -933.007812       56.563886\n",
      "LBFGS:    1 12:19:30     -974.228149       12.709761\n",
      "LBFGS:    2 12:19:31    -1013.972046       15.001954\n",
      "LBFGS:    3 12:19:32    -1026.184570        3.770772\n",
      "LBFGS:    4 12:19:32    -1030.681030        2.535391\n",
      "LBFGS:    5 12:19:33    -1032.906250        1.720941\n",
      "LBFGS:    6 12:19:34    -1033.894775        1.091124\n",
      "LBFGS:    7 12:19:35    -1034.428467        0.772256\n",
      "LBFGS:    8 12:19:35    -1034.698730        0.569386\n",
      "LBFGS:    9 12:19:36    -1034.864502        0.569960\n",
      "LBFGS:   10 12:19:37    -1034.965820        0.428208\n",
      "LBFGS:   11 12:19:38    -1035.025635        0.256178\n",
      "LBFGS:   12 12:19:38    -1035.064819        0.236001\n",
      "LBFGS:   13 12:19:39    -1035.090820        0.216716\n",
      "LBFGS:   14 12:19:40    -1035.108398        0.153199\n",
      "LBFGS:   15 12:19:41    -1035.119507        0.098929\n",
      "LBFGS:   16 12:19:42    -1035.126221        0.086210\n",
      "LBFGS:   17 12:19:42    -1035.130127        0.058212\n",
      "LBFGS:   18 12:19:43    -1035.132324        0.049883\n",
      "LBFGS:   19 12:19:44    -1035.133911        0.049529\n",
      "LBFGS:   20 12:19:44    -1035.135010        0.040974\n",
      "LBFGS:   21 12:19:45    -1035.135986        0.034541\n",
      "LBFGS:   22 12:19:46    -1035.136475        0.030958\n",
      "LBFGS:   23 12:19:47    -1035.136963        0.022250\n",
      "LBFGS:   24 12:19:47    -1035.137695        0.023854\n",
      "LBFGS:   25 12:19:48    -1035.137695        0.019270\n",
      "LBFGS:   26 12:19:49    -1035.137939        0.019096\n",
      "LBFGS:   27 12:19:50    -1035.138306        0.017112\n",
      "LBFGS:   28 12:19:50    -1035.138428        0.015639\n",
      "LBFGS:   29 12:19:51    -1035.138550        0.011982\n",
      "LBFGS:   30 12:19:52    -1035.138672        0.007195\n"
     ]
    }
   ],
   "source": [
    "data = {}\n",
    "for key, val in Al_prim.items():\n",
    "    unperturbed_structures, distortions, supercell = create_defect(val['structure'])\n",
    "    mini_data = get_energy(unperturbed_structures, distortions, supercell) # add in host supercell relaxation\n",
    "    data[key] = mini_data\n"
   ]
  },
  {
   "cell_type": "code",
   "execution_count": 37,
   "id": "296e7e90-bc77-4270-b092-7c4c98e1535c",
   "metadata": {},
   "outputs": [],
   "source": [
    "for key, val in Al_prim.items():\n",
    "    data[key]['formula'] = val['formula']"
   ]
  },
  {
   "cell_type": "code",
   "execution_count": 38,
   "id": "1405fe05-3eef-4943-99e2-1e48ac416fb1",
   "metadata": {},
   "outputs": [],
   "source": [
    "for key,val in data.items(): # goes through mp id's\n",
    "    min_energy = [float('inf'), '']\n",
    "    for key1, val1 in val.items(): # goes through supercell and sites\n",
    "        if key1 != 'supercell' and key1 != 'formula':\n",
    "            for key2, val2 in val1.items(): \n",
    "                if key2 == 'unperturbed':\n",
    "                    if val2['energy'] < min_energy[0]:\n",
    "                        min_energy[0] = val2['energy']\n",
    "                        min_energy[1] = [key1, key2]\n",
    "                else:\n",
    "                    for key3, val3 in val2.items():\n",
    "                        if val3['energy'] < min_energy[0]:\n",
    "                            min_energy[0] = val3['energy']\n",
    "                            min_energy[1] = [key1, key2, key3]\n",
    "    data[key]['minimum energy site'] = {\n",
    "        'energy': min_energy[0],\n",
    "        'information': min_energy[1]\n",
    "    }"
   ]
  },
  {
   "cell_type": "code",
   "execution_count": 39,
   "id": "8218d7f1-ebcd-4bac-ad7e-f37f0b3319cd",
   "metadata": {},
   "outputs": [],
   "source": [
    "dumpfn(data, f'../data/{MODEL}_doped_defect_energies_{supercell_size}A.json')"
   ]
  },
  {
   "cell_type": "code",
   "execution_count": 40,
   "id": "2fa86ac6-de23-400d-9d8c-b70c3660955c",
   "metadata": {
    "scrolled": true
   },
   "outputs": [],
   "source": [
    "data_load = loadfn(f'../data/{MODEL}_doped_defect_energies_{supercell_size}A.json')"
   ]
  },
  {
   "cell_type": "code",
   "execution_count": 41,
   "id": "55e28db8-81cc-42f6-a8b7-e381a7abaf0c",
   "metadata": {},
   "outputs": [],
   "source": [
    "compounds = []\n",
    "delta_e = []\n",
    "for key, val in data_load.items():\n",
    "    min_energy = float('inf')\n",
    "    for key1, val1 in val.items():\n",
    "        if key1 != 'supercell' and key1 != 'formula' and key1 != 'minimum energy site':\n",
    "            for key2, val2 in val1.items():\n",
    "                if key2 != 'unperturbed':\n",
    "                    for key3, val3 in val2.items():\n",
    "                        if val3['energy'] < min_energy:\n",
    "                            min_energy = val3['energy']\n",
    "                            min_delta_e = val3['delta_e'] # filters for lowest energy rattled site, may be higher or lower than unperturbed\n",
    "    delta_e.append(min_delta_e)\n",
    "    compounds.append(data_load[key]['formula'])"
   ]
  },
  {
   "cell_type": "code",
   "execution_count": 42,
   "id": "654200f7-294b-46b7-b704-c2dadbe22d88",
   "metadata": {},
   "outputs": [],
   "source": [
    "import matplotlib.pyplot as plt"
   ]
  },
  {
   "cell_type": "code",
   "execution_count": 43,
   "id": "df3b5d12-bd91-4ab2-ba09-594a861c8413",
   "metadata": {},
   "outputs": [
    {
     "data": {
      "image/png": "[encoded data removed]",
      "text/plain": [
       "<Figure size 640x480 with 1 Axes>"
      ]
     },
     "metadata": {},
     "output_type": "display_data"
    }
   ],
   "source": [
    "fig, ax = plt.subplots()\n",
    "bars = ax.bar(compounds, delta_e)  # Assuming you have these lists already\n",
    "\n",
    "# Add labels on top of each bar\n",
    "ax.set_title(\"Energy Difference of Rattled Structure with Respect to Unperturbed Structure\")\n",
    "ax.set_ylabel(\"$\\Delta$E(eV)\")\n",
    "plt.xticks(rotation=90)\n",
    "plt.tight_layout()\n",
    "plt.savefig(f\"../figures/{MODEL}_energy_difference_plot_{supercell_size}A.png\", dpi=300, bbox_inches='tight')\n",
    "\n",
    "plt.show()"
   ]
  },
  {
   "cell_type": "code",
   "execution_count": null,
   "id": "10345744-e395-4cfc-a703-92407d235601",
   "metadata": {},
   "outputs": [],
   "source": []
  }
 ],
 "metadata": {
  "kernelspec": {
   "display_name": "Python 3 (ipykernel)",
   "language": "python",
   "name": "python3"
  },
  "language_info": {
   "codemirror_mode": {
    "name": "ipython",
    "version": 3
   },
   "file_extension": ".py",
   "mimetype": "text/x-python",
   "name": "python",
   "nbconvert_exporter": "python",
   "pygments_lexer": "ipython3",
   "version": "3.11.13"
  }
 },
 "nbformat": 4,
 "nbformat_minor": 5
}
