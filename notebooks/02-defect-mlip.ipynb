{
 "cells": [
  {
   "cell_type": "code",
   "execution_count": 1,
   "id": "712c69c2-244d-4cab-8c12-833351f2b530",
   "metadata": {},
   "outputs": [],
   "source": [
    "import os\n",
    "\n",
    "os.environ[\"CUDA_DEVICE_ORDER\"] = \"PCI_BUS_ID\"\n",
    "os.environ[\"CUDA_VISIBLE_DEVICES\"] = \"3\""
   ]
  },
  {
   "cell_type": "code",
   "execution_count": 2,
   "id": "636fb8f1",
   "metadata": {},
   "outputs": [],
   "source": [
    "from monty.serialization import dumpfn, loadfn\n",
    "from collections import defaultdict"
   ]
  },
  {
   "cell_type": "code",
   "execution_count": 3,
   "id": "707481d0",
   "metadata": {},
   "outputs": [
    {
     "name": "stderr",
     "output_type": "stream",
     "text": [
      "/home/atshaam/miniconda3/envs/proj_env/lib/python3.11/site-packages/tqdm/auto.py:21: TqdmWarning: IProgress not found. Please update jupyter and ipywidgets. See https://ipywidgets.readthedocs.io/en/stable/user_install.html\n",
      "  from .autonotebook import tqdm as notebook_tqdm\n"
     ]
    }
   ],
   "source": [
    "from ase.filters import FrechetCellFilter\n",
    "from ase.optimize import LBFGS\n",
    "from pymatgen.io.ase import AseAtomsAdaptor\n",
    "# from orb_models.forcefield import pretrained\n",
    "# from orb_models.forcefield.calculator import ORBCalculator\n",
    "from fairchem.core import pretrained_mlip, FAIRChemCalculator\n",
    "# from mace.calculators import mace_mp # need e3nn 0.4.4\n",
    "# from sevenn.calculator import SevenNetCalculator # need e3nn 0.5.0 later change numpy to 1.26.4\n",
    "# from mattersim.forcefield import MatterSimCalculator"
   ]
  },
  {
   "cell_type": "code",
   "execution_count": 4,
   "id": "74e66c8d-cda8-44c8-9475-c534bb9953cf",
   "metadata": {},
   "outputs": [],
   "source": [
    "import torch._dynamo\n",
    "torch._dynamo.config.suppress_errors = True"
   ]
  },
  {
   "cell_type": "code",
   "execution_count": 5,
   "id": "23513e03-e81f-4b44-944f-986893a6fb7c",
   "metadata": {},
   "outputs": [],
   "source": [
    "MODEL = \"uma\" # \"orb\" or \"uma\" or \"mace\" or \"grace\" or \"seven\" or \"mattersim\" or \"eqnorm\" or \"hienet\""
   ]
  },
  {
   "cell_type": "code",
   "execution_count": 6,
   "id": "9fa329d0-c74e-4fb3-95ed-8d38724dd532",
   "metadata": {
    "scrolled": true
   },
   "outputs": [],
   "source": [
    "# orb_ff = pretrained.orb_v3_conservative_inf_omat(device=\"cuda\",precision=\"float32-high\")   # or \"float32-highest\" / \"float64\n",
    "# orb_calc = ORBCalculator(orb_ff, device=\"cuda\")\n",
    "\n",
    "uma_ff = pretrained_mlip.get_predict_unit(\"uma-m-1p1\", device=\"cuda\")\n",
    "uma_calc = FAIRChemCalculator(uma_ff, task_name=\"omat\")\n",
    "\n",
    "\n",
    "# seven_calc = SevenNetCalculator('7net-mf-ompa', modal='omat24')\n",
    "\n",
    "# mattersim_calc = MatterSimCalculator(device=\"cuda\")\n",
    "\n",
    "MODELS = {\n",
    "    # \"orb\":orb_calc,\n",
    "    \"uma\":uma_calc,\n",
    "    # \"MPALOE_MatPES\":mace_calc,\n",
    "    # \"seven\":seven_calc,\n",
    "    # \"mattersim\":mattersim_calc,\n",
    "}"
   ]
  },
  {
   "cell_type": "code",
   "execution_count": 7,
   "id": "a3d25d8c-d42a-469e-89bf-c253a3829d25",
   "metadata": {},
   "outputs": [],
   "source": [
    "# Function used to relax initial primitive cell and for competing phase calculation, full relaxation using FrechetCellFilter\n",
    "def relax_structure(structure):\n",
    "    atoms = structure.to_ase_atoms()\n",
    "    atoms.calc = MODELS[MODEL]\n",
    "\n",
    "    opt = LBFGS(FrechetCellFilter(atoms)) # Delete this FrechetCellFilter when doing the defect structures\n",
    "    opt.run(0.01, 1000)\n",
    "\n",
    "    structure1 = AseAtomsAdaptor.get_structure(atoms)\n",
    "    energy = atoms.get_potential_energy()\n",
    "\n",
    "    return structure1, energy \n",
    "    "
   ]
  },
  {
   "cell_type": "code",
   "execution_count": 8,
   "id": "11c2dc6d",
   "metadata": {},
   "outputs": [],
   "source": [
    "# Function that relaxes defect and pristine supercells, ensuring a fixed lattice by no FrechetCellFilter\n",
    "def relax_defect(structure): # takes in pymatgen structure\n",
    "    atoms = structure.to_ase_atoms()\n",
    "    atoms.calc = MODELS[MODEL]\n",
    "\n",
    "    opt = LBFGS(atoms) # Delete this FrechetCellFilter when doing the defect structures\n",
    "    opt.run(0.01, 1000)\n",
    "\n",
    "    structure1 = AseAtomsAdaptor.get_structure(atoms)\n",
    "    energy = atoms.get_potential_energy()\n",
    "\n",
    "    return structure1, energy "
   ]
  },
  {
   "cell_type": "markdown",
   "id": "d1467430-6ff5-4464-94f6-c86732e86a2c",
   "metadata": {},
   "source": [
    "## Relaxation of Primitive Al Cells"
   ]
  },
  {
   "cell_type": "code",
   "execution_count": 9,
   "id": "77a43986-40b5-4a6b-a74c-82082648d419",
   "metadata": {},
   "outputs": [],
   "source": [
    "matching_pairs = loadfn('../data/matching_AlCr_ox.json')"
   ]
  },
  {
   "cell_type": "code",
   "execution_count": 10,
   "id": "3d9d0d04-8e6d-4259-8241-110e4e09662d",
   "metadata": {
    "scrolled": true
   },
   "outputs": [
    {
     "name": "stdout",
     "output_type": "stream",
     "text": [
      "       Step     Time          Energy          fmax\n",
      "LBFGS:    0 18:21:02     -380.434084        0.808930\n",
      "LBFGS:    1 18:21:03     -380.590289        0.524302\n"
     ]
    },
    {
     "name": "stderr",
     "output_type": "stream",
     "text": [
      "/home/atshaam/miniconda3/envs/proj_env/lib/python3.11/site-packages/scipy/_lib/_util.py:1233: RuntimeWarning: logm result may be inaccurate, approximate err = 4.719861941977749e-13\n",
      "  return f(*arrays, *other_args, **kwargs)\n"
     ]
    },
    {
     "name": "stdout",
     "output_type": "stream",
     "text": [
      "LBFGS:    2 18:21:04     -380.685107        0.379665\n"
     ]
    },
    {
     "name": "stderr",
     "output_type": "stream",
     "text": [
      "/home/atshaam/miniconda3/envs/proj_env/lib/python3.11/site-packages/scipy/_lib/_util.py:1233: RuntimeWarning: logm result may be inaccurate, approximate err = 4.72735915189905e-13\n",
      "  return f(*arrays, *other_args, **kwargs)\n"
     ]
    },
    {
     "name": "stdout",
     "output_type": "stream",
     "text": [
      "LBFGS:    3 18:21:04     -380.725905        0.335460\n"
     ]
    },
    {
     "name": "stderr",
     "output_type": "stream",
     "text": [
      "/home/atshaam/miniconda3/envs/proj_env/lib/python3.11/site-packages/scipy/_lib/_util.py:1233: RuntimeWarning: logm result may be inaccurate, approximate err = 4.699138365346192e-13\n",
      "  return f(*arrays, *other_args, **kwargs)\n"
     ]
    },
    {
     "name": "stdout",
     "output_type": "stream",
     "text": [
      "LBFGS:    4 18:21:05     -380.755026        0.294177\n"
     ]
    },
    {
     "name": "stderr",
     "output_type": "stream",
     "text": [
      "/home/atshaam/miniconda3/envs/proj_env/lib/python3.11/site-packages/scipy/_lib/_util.py:1233: RuntimeWarning: logm result may be inaccurate, approximate err = 4.722232076809331e-13\n",
      "  return f(*arrays, *other_args, **kwargs)\n"
     ]
    },
    {
     "name": "stdout",
     "output_type": "stream",
     "text": [
      "LBFGS:    5 18:21:05     -380.778330        0.275428\n"
     ]
    },
    {
     "name": "stderr",
     "output_type": "stream",
     "text": [
      "/home/atshaam/miniconda3/envs/proj_env/lib/python3.11/site-packages/scipy/_lib/_util.py:1233: RuntimeWarning: logm result may be inaccurate, approximate err = 4.710200744117937e-13\n",
      "  return f(*arrays, *other_args, **kwargs)\n"
     ]
    },
    {
     "name": "stdout",
     "output_type": "stream",
     "text": [
      "LBFGS:    6 18:21:06     -380.796629        0.261811\n"
     ]
    },
    {
     "name": "stderr",
     "output_type": "stream",
     "text": [
      "/home/atshaam/miniconda3/envs/proj_env/lib/python3.11/site-packages/scipy/_lib/_util.py:1233: RuntimeWarning: logm result may be inaccurate, approximate err = 4.670745386636728e-13\n",
      "  return f(*arrays, *other_args, **kwargs)\n"
     ]
    },
    {
     "name": "stdout",
     "output_type": "stream",
     "text": [
      "LBFGS:    7 18:21:06     -380.817923        0.245291\n"
     ]
    },
    {
     "name": "stderr",
     "output_type": "stream",
     "text": [
      "/home/atshaam/miniconda3/envs/proj_env/lib/python3.11/site-packages/scipy/_lib/_util.py:1233: RuntimeWarning: logm result may be inaccurate, approximate err = 4.693065004344432e-13\n",
      "  return f(*arrays, *other_args, **kwargs)\n"
     ]
    },
    {
     "name": "stdout",
     "output_type": "stream",
     "text": [
      "LBFGS:    8 18:21:07     -380.838694        0.218156\n"
     ]
    },
    {
     "name": "stderr",
     "output_type": "stream",
     "text": [
      "/home/atshaam/miniconda3/envs/proj_env/lib/python3.11/site-packages/scipy/_lib/_util.py:1233: RuntimeWarning: logm result may be inaccurate, approximate err = 4.73944673534396e-13\n",
      "  return f(*arrays, *other_args, **kwargs)\n"
     ]
    },
    {
     "name": "stdout",
     "output_type": "stream",
     "text": [
      "LBFGS:    9 18:21:07     -380.854304        0.191695\n"
     ]
    },
    {
     "name": "stderr",
     "output_type": "stream",
     "text": [
      "/home/atshaam/miniconda3/envs/proj_env/lib/python3.11/site-packages/scipy/_lib/_util.py:1233: RuntimeWarning: logm result may be inaccurate, approximate err = 4.716604562897957e-13\n",
      "  return f(*arrays, *other_args, **kwargs)\n"
     ]
    },
    {
     "name": "stdout",
     "output_type": "stream",
     "text": [
      "LBFGS:   10 18:21:08     -380.866461        0.170804\n"
     ]
    },
    {
     "name": "stderr",
     "output_type": "stream",
     "text": [
      "/home/atshaam/miniconda3/envs/proj_env/lib/python3.11/site-packages/scipy/_lib/_util.py:1233: RuntimeWarning: logm result may be inaccurate, approximate err = 4.772820178776848e-13\n",
      "  return f(*arrays, *other_args, **kwargs)\n"
     ]
    },
    {
     "name": "stdout",
     "output_type": "stream",
     "text": [
      "LBFGS:   11 18:21:08     -380.881087        0.178419\n"
     ]
    },
    {
     "name": "stderr",
     "output_type": "stream",
     "text": [
      "/home/atshaam/miniconda3/envs/proj_env/lib/python3.11/site-packages/scipy/_lib/_util.py:1233: RuntimeWarning: logm result may be inaccurate, approximate err = 4.745461096372504e-13\n",
      "  return f(*arrays, *other_args, **kwargs)\n"
     ]
    },
    {
     "name": "stdout",
     "output_type": "stream",
     "text": [
      "LBFGS:   12 18:21:09     -380.901804        0.249436\n"
     ]
    },
    {
     "name": "stderr",
     "output_type": "stream",
     "text": [
      "/home/atshaam/miniconda3/envs/proj_env/lib/python3.11/site-packages/scipy/_lib/_util.py:1233: RuntimeWarning: logm result may be inaccurate, approximate err = 4.79637501745152e-13\n",
      "  return f(*arrays, *other_args, **kwargs)\n"
     ]
    },
    {
     "name": "stdout",
     "output_type": "stream",
     "text": [
      "LBFGS:   13 18:21:09     -380.926123        0.255327\n"
     ]
    },
    {
     "name": "stderr",
     "output_type": "stream",
     "text": [
      "/home/atshaam/miniconda3/envs/proj_env/lib/python3.11/site-packages/scipy/_lib/_util.py:1233: RuntimeWarning: logm result may be inaccurate, approximate err = 4.74446617165524e-13\n",
      "  return f(*arrays, *other_args, **kwargs)\n"
     ]
    },
    {
     "name": "stdout",
     "output_type": "stream",
     "text": [
      "LBFGS:   14 18:21:10     -380.946440        0.237479\n"
     ]
    },
    {
     "name": "stderr",
     "output_type": "stream",
     "text": [
      "/home/atshaam/miniconda3/envs/proj_env/lib/python3.11/site-packages/scipy/_lib/_util.py:1233: RuntimeWarning: logm result may be inaccurate, approximate err = 4.758966122635399e-13\n",
      "  return f(*arrays, *other_args, **kwargs)\n"
     ]
    },
    {
     "name": "stdout",
     "output_type": "stream",
     "text": [
      "LBFGS:   15 18:21:10     -380.960696        0.164298\n"
     ]
    },
    {
     "name": "stderr",
     "output_type": "stream",
     "text": [
      "/home/atshaam/miniconda3/envs/proj_env/lib/python3.11/site-packages/scipy/_lib/_util.py:1233: RuntimeWarning: logm result may be inaccurate, approximate err = 4.81489577799954e-13\n",
      "  return f(*arrays, *other_args, **kwargs)\n"
     ]
    },
    {
     "name": "stdout",
     "output_type": "stream",
     "text": [
      "LBFGS:   16 18:21:11     -380.973162        0.199216\n"
     ]
    },
    {
     "name": "stderr",
     "output_type": "stream",
     "text": [
      "/home/atshaam/miniconda3/envs/proj_env/lib/python3.11/site-packages/scipy/_lib/_util.py:1233: RuntimeWarning: logm result may be inaccurate, approximate err = 4.860401493479272e-13\n",
      "  return f(*arrays, *other_args, **kwargs)\n"
     ]
    },
    {
     "name": "stdout",
     "output_type": "stream",
     "text": [
      "LBFGS:   17 18:21:12     -380.987223        0.184970\n"
     ]
    },
    {
     "name": "stderr",
     "output_type": "stream",
     "text": [
      "/home/atshaam/miniconda3/envs/proj_env/lib/python3.11/site-packages/scipy/_lib/_util.py:1233: RuntimeWarning: logm result may be inaccurate, approximate err = 4.836411361145022e-13\n",
      "  return f(*arrays, *other_args, **kwargs)\n"
     ]
    },
    {
     "name": "stdout",
     "output_type": "stream",
     "text": [
      "LBFGS:   18 18:21:12     -380.999125        0.135305\n"
     ]
    },
    {
     "name": "stderr",
     "output_type": "stream",
     "text": [
      "/home/atshaam/miniconda3/envs/proj_env/lib/python3.11/site-packages/scipy/_lib/_util.py:1233: RuntimeWarning: logm result may be inaccurate, approximate err = 4.840252239737918e-13\n",
      "  return f(*arrays, *other_args, **kwargs)\n"
     ]
    },
    {
     "name": "stdout",
     "output_type": "stream",
     "text": [
      "LBFGS:   19 18:21:13     -381.005831        0.120782\n"
     ]
    },
    {
     "name": "stderr",
     "output_type": "stream",
     "text": [
      "/home/atshaam/miniconda3/envs/proj_env/lib/python3.11/site-packages/scipy/_lib/_util.py:1233: RuntimeWarning: logm result may be inaccurate, approximate err = 4.774508254092228e-13\n",
      "  return f(*arrays, *other_args, **kwargs)\n"
     ]
    },
    {
     "name": "stdout",
     "output_type": "stream",
     "text": [
      "LBFGS:   20 18:21:13     -381.009917        0.109466\n"
     ]
    },
    {
     "name": "stderr",
     "output_type": "stream",
     "text": [
      "/home/atshaam/miniconda3/envs/proj_env/lib/python3.11/site-packages/scipy/_lib/_util.py:1233: RuntimeWarning: logm result may be inaccurate, approximate err = 4.822491081081718e-13\n",
      "  return f(*arrays, *other_args, **kwargs)\n"
     ]
    },
    {
     "name": "stdout",
     "output_type": "stream",
     "text": [
      "LBFGS:   21 18:21:14     -381.014429        0.104085\n"
     ]
    },
    {
     "name": "stderr",
     "output_type": "stream",
     "text": [
      "/home/atshaam/miniconda3/envs/proj_env/lib/python3.11/site-packages/scipy/_lib/_util.py:1233: RuntimeWarning: logm result may be inaccurate, approximate err = 4.824790747304548e-13\n",
      "  return f(*arrays, *other_args, **kwargs)\n"
     ]
    },
    {
     "name": "stdout",
     "output_type": "stream",
     "text": [
      "LBFGS:   22 18:21:14     -381.020998        0.114668\n"
     ]
    },
    {
     "name": "stderr",
     "output_type": "stream",
     "text": [
      "/home/atshaam/miniconda3/envs/proj_env/lib/python3.11/site-packages/scipy/_lib/_util.py:1233: RuntimeWarning: logm result may be inaccurate, approximate err = 4.830382806773904e-13\n",
      "  return f(*arrays, *other_args, **kwargs)\n"
     ]
    },
    {
     "name": "stdout",
     "output_type": "stream",
     "text": [
      "LBFGS:   23 18:21:15     -381.029120        0.120619\n"
     ]
    },
    {
     "name": "stderr",
     "output_type": "stream",
     "text": [
      "/home/atshaam/miniconda3/envs/proj_env/lib/python3.11/site-packages/scipy/_lib/_util.py:1233: RuntimeWarning: logm result may be inaccurate, approximate err = 4.82323222524013e-13\n",
      "  return f(*arrays, *other_args, **kwargs)\n"
     ]
    },
    {
     "name": "stdout",
     "output_type": "stream",
     "text": [
      "LBFGS:   24 18:21:15     -381.036932        0.101233\n"
     ]
    },
    {
     "name": "stderr",
     "output_type": "stream",
     "text": [
      "/home/atshaam/miniconda3/envs/proj_env/lib/python3.11/site-packages/scipy/_lib/_util.py:1233: RuntimeWarning: logm result may be inaccurate, approximate err = 4.888237286083105e-13\n",
      "  return f(*arrays, *other_args, **kwargs)\n"
     ]
    },
    {
     "name": "stdout",
     "output_type": "stream",
     "text": [
      "LBFGS:   25 18:21:16     -381.042071        0.086108\n"
     ]
    },
    {
     "name": "stderr",
     "output_type": "stream",
     "text": [
      "/home/atshaam/miniconda3/envs/proj_env/lib/python3.11/site-packages/scipy/_lib/_util.py:1233: RuntimeWarning: logm result may be inaccurate, approximate err = 4.837875194744611e-13\n",
      "  return f(*arrays, *other_args, **kwargs)\n"
     ]
    },
    {
     "name": "stdout",
     "output_type": "stream",
     "text": [
      "LBFGS:   26 18:21:17     -381.045111        0.087596\n"
     ]
    },
    {
     "name": "stderr",
     "output_type": "stream",
     "text": [
      "/home/atshaam/miniconda3/envs/proj_env/lib/python3.11/site-packages/scipy/_lib/_util.py:1233: RuntimeWarning: logm result may be inaccurate, approximate err = 4.88109566851854e-13\n",
      "  return f(*arrays, *other_args, **kwargs)\n"
     ]
    },
    {
     "name": "stdout",
     "output_type": "stream",
     "text": [
      "LBFGS:   27 18:21:17     -381.047633        0.102801\n"
     ]
    },
    {
     "name": "stderr",
     "output_type": "stream",
     "text": [
      "/home/atshaam/miniconda3/envs/proj_env/lib/python3.11/site-packages/scipy/_lib/_util.py:1233: RuntimeWarning: logm result may be inaccurate, approximate err = 4.856686017887404e-13\n",
      "  return f(*arrays, *other_args, **kwargs)\n"
     ]
    },
    {
     "name": "stdout",
     "output_type": "stream",
     "text": [
      "LBFGS:   28 18:21:18     -381.050425        0.074139\n"
     ]
    },
    {
     "name": "stderr",
     "output_type": "stream",
     "text": [
      "/home/atshaam/miniconda3/envs/proj_env/lib/python3.11/site-packages/scipy/_lib/_util.py:1233: RuntimeWarning: logm result may be inaccurate, approximate err = 4.874627786637491e-13\n",
      "  return f(*arrays, *other_args, **kwargs)\n"
     ]
    },
    {
     "name": "stdout",
     "output_type": "stream",
     "text": [
      "LBFGS:   29 18:21:18     -381.053431        0.072122\n"
     ]
    },
    {
     "name": "stderr",
     "output_type": "stream",
     "text": [
      "/home/atshaam/miniconda3/envs/proj_env/lib/python3.11/site-packages/scipy/_lib/_util.py:1233: RuntimeWarning: logm result may be inaccurate, approximate err = 4.902147805266626e-13\n",
      "  return f(*arrays, *other_args, **kwargs)\n"
     ]
    },
    {
     "name": "stdout",
     "output_type": "stream",
     "text": [
      "LBFGS:   30 18:21:19     -381.055437        0.060956\n"
     ]
    },
    {
     "name": "stderr",
     "output_type": "stream",
     "text": [
      "/home/atshaam/miniconda3/envs/proj_env/lib/python3.11/site-packages/scipy/_lib/_util.py:1233: RuntimeWarning: logm result may be inaccurate, approximate err = 4.897590711105397e-13\n",
      "  return f(*arrays, *other_args, **kwargs)\n"
     ]
    },
    {
     "name": "stdout",
     "output_type": "stream",
     "text": [
      "LBFGS:   31 18:21:19     -381.056860        0.075053\n"
     ]
    },
    {
     "name": "stderr",
     "output_type": "stream",
     "text": [
      "/home/atshaam/miniconda3/envs/proj_env/lib/python3.11/site-packages/scipy/_lib/_util.py:1233: RuntimeWarning: logm result may be inaccurate, approximate err = 4.849888369414869e-13\n",
      "  return f(*arrays, *other_args, **kwargs)\n"
     ]
    },
    {
     "name": "stdout",
     "output_type": "stream",
     "text": [
      "LBFGS:   32 18:21:20     -381.058348        0.066615\n"
     ]
    },
    {
     "name": "stderr",
     "output_type": "stream",
     "text": [
      "/home/atshaam/miniconda3/envs/proj_env/lib/python3.11/site-packages/scipy/_lib/_util.py:1233: RuntimeWarning: logm result may be inaccurate, approximate err = 4.841402493108775e-13\n",
      "  return f(*arrays, *other_args, **kwargs)\n"
     ]
    },
    {
     "name": "stdout",
     "output_type": "stream",
     "text": [
      "LBFGS:   33 18:21:20     -381.059939        0.058382\n"
     ]
    },
    {
     "name": "stderr",
     "output_type": "stream",
     "text": [
      "/home/atshaam/miniconda3/envs/proj_env/lib/python3.11/site-packages/scipy/_lib/_util.py:1233: RuntimeWarning: logm result may be inaccurate, approximate err = 4.86694697804671e-13\n",
      "  return f(*arrays, *other_args, **kwargs)\n"
     ]
    },
    {
     "name": "stdout",
     "output_type": "stream",
     "text": [
      "LBFGS:   34 18:21:21     -381.061106        0.032941\n"
     ]
    },
    {
     "name": "stderr",
     "output_type": "stream",
     "text": [
      "/home/atshaam/miniconda3/envs/proj_env/lib/python3.11/site-packages/scipy/_lib/_util.py:1233: RuntimeWarning: logm result may be inaccurate, approximate err = 4.850080043182878e-13\n",
      "  return f(*arrays, *other_args, **kwargs)\n"
     ]
    },
    {
     "name": "stdout",
     "output_type": "stream",
     "text": [
      "LBFGS:   35 18:21:22     -381.061880        0.037441\n"
     ]
    },
    {
     "name": "stderr",
     "output_type": "stream",
     "text": [
      "/home/atshaam/miniconda3/envs/proj_env/lib/python3.11/site-packages/scipy/_lib/_util.py:1233: RuntimeWarning: logm result may be inaccurate, approximate err = 4.855445432134513e-13\n",
      "  return f(*arrays, *other_args, **kwargs)\n"
     ]
    },
    {
     "name": "stdout",
     "output_type": "stream",
     "text": [
      "LBFGS:   36 18:21:22     -381.062731        0.043859\n"
     ]
    },
    {
     "name": "stderr",
     "output_type": "stream",
     "text": [
      "/home/atshaam/miniconda3/envs/proj_env/lib/python3.11/site-packages/scipy/_lib/_util.py:1233: RuntimeWarning: logm result may be inaccurate, approximate err = 4.8349391504166e-13\n",
      "  return f(*arrays, *other_args, **kwargs)\n"
     ]
    },
    {
     "name": "stdout",
     "output_type": "stream",
     "text": [
      "LBFGS:   37 18:21:23     -381.063757        0.049786\n"
     ]
    },
    {
     "name": "stderr",
     "output_type": "stream",
     "text": [
      "/home/atshaam/miniconda3/envs/proj_env/lib/python3.11/site-packages/scipy/_lib/_util.py:1233: RuntimeWarning: logm result may be inaccurate, approximate err = 4.978047433559932e-13\n",
      "  return f(*arrays, *other_args, **kwargs)\n"
     ]
    },
    {
     "name": "stdout",
     "output_type": "stream",
     "text": [
      "LBFGS:   38 18:21:23     -381.064707        0.039077\n"
     ]
    },
    {
     "name": "stderr",
     "output_type": "stream",
     "text": [
      "/home/atshaam/miniconda3/envs/proj_env/lib/python3.11/site-packages/scipy/_lib/_util.py:1233: RuntimeWarning: logm result may be inaccurate, approximate err = 4.897921724590801e-13\n",
      "  return f(*arrays, *other_args, **kwargs)\n"
     ]
    },
    {
     "name": "stdout",
     "output_type": "stream",
     "text": [
      "LBFGS:   39 18:21:24     -381.065291        0.026128\n"
     ]
    },
    {
     "name": "stderr",
     "output_type": "stream",
     "text": [
      "/home/atshaam/miniconda3/envs/proj_env/lib/python3.11/site-packages/scipy/_lib/_util.py:1233: RuntimeWarning: logm result may be inaccurate, approximate err = 4.858992421423685e-13\n",
      "  return f(*arrays, *other_args, **kwargs)\n"
     ]
    },
    {
     "name": "stdout",
     "output_type": "stream",
     "text": [
      "LBFGS:   40 18:21:24     -381.065619        0.021988\n"
     ]
    },
    {
     "name": "stderr",
     "output_type": "stream",
     "text": [
      "/home/atshaam/miniconda3/envs/proj_env/lib/python3.11/site-packages/scipy/_lib/_util.py:1233: RuntimeWarning: logm result may be inaccurate, approximate err = 4.885153666391304e-13\n",
      "  return f(*arrays, *other_args, **kwargs)\n"
     ]
    },
    {
     "name": "stdout",
     "output_type": "stream",
     "text": [
      "LBFGS:   41 18:21:25     -381.065958        0.023736\n"
     ]
    },
    {
     "name": "stderr",
     "output_type": "stream",
     "text": [
      "/home/atshaam/miniconda3/envs/proj_env/lib/python3.11/site-packages/scipy/_lib/_util.py:1233: RuntimeWarning: logm result may be inaccurate, approximate err = 4.843784686098498e-13\n",
      "  return f(*arrays, *other_args, **kwargs)\n"
     ]
    },
    {
     "name": "stdout",
     "output_type": "stream",
     "text": [
      "LBFGS:   42 18:21:25     -381.066241        0.023668\n"
     ]
    },
    {
     "name": "stderr",
     "output_type": "stream",
     "text": [
      "/home/atshaam/miniconda3/envs/proj_env/lib/python3.11/site-packages/scipy/_lib/_util.py:1233: RuntimeWarning: logm result may be inaccurate, approximate err = 4.890152584670647e-13\n",
      "  return f(*arrays, *other_args, **kwargs)\n"
     ]
    },
    {
     "name": "stdout",
     "output_type": "stream",
     "text": [
      "LBFGS:   43 18:21:26     -381.066424        0.018791\n"
     ]
    },
    {
     "name": "stderr",
     "output_type": "stream",
     "text": [
      "/home/atshaam/miniconda3/envs/proj_env/lib/python3.11/site-packages/scipy/_lib/_util.py:1233: RuntimeWarning: logm result may be inaccurate, approximate err = 4.870646131323769e-13\n",
      "  return f(*arrays, *other_args, **kwargs)\n"
     ]
    },
    {
     "name": "stdout",
     "output_type": "stream",
     "text": [
      "LBFGS:   44 18:21:26     -381.066576        0.016960\n"
     ]
    },
    {
     "name": "stderr",
     "output_type": "stream",
     "text": [
      "/home/atshaam/miniconda3/envs/proj_env/lib/python3.11/site-packages/scipy/_lib/_util.py:1233: RuntimeWarning: logm result may be inaccurate, approximate err = 4.815075523111006e-13\n",
      "  return f(*arrays, *other_args, **kwargs)\n"
     ]
    },
    {
     "name": "stdout",
     "output_type": "stream",
     "text": [
      "LBFGS:   45 18:21:27     -381.066725        0.017275\n"
     ]
    },
    {
     "name": "stderr",
     "output_type": "stream",
     "text": [
      "/home/atshaam/miniconda3/envs/proj_env/lib/python3.11/site-packages/scipy/_lib/_util.py:1233: RuntimeWarning: logm result may be inaccurate, approximate err = 4.843460440570421e-13\n",
      "  return f(*arrays, *other_args, **kwargs)\n"
     ]
    },
    {
     "name": "stdout",
     "output_type": "stream",
     "text": [
      "LBFGS:   46 18:21:27     -381.066912        0.017645\n"
     ]
    },
    {
     "name": "stderr",
     "output_type": "stream",
     "text": [
      "/home/atshaam/miniconda3/envs/proj_env/lib/python3.11/site-packages/scipy/_lib/_util.py:1233: RuntimeWarning: logm result may be inaccurate, approximate err = 4.843473709706303e-13\n",
      "  return f(*arrays, *other_args, **kwargs)\n"
     ]
    },
    {
     "name": "stdout",
     "output_type": "stream",
     "text": [
      "LBFGS:   47 18:21:28     -381.067049        0.017444\n"
     ]
    },
    {
     "name": "stderr",
     "output_type": "stream",
     "text": [
      "/home/atshaam/miniconda3/envs/proj_env/lib/python3.11/site-packages/scipy/_lib/_util.py:1233: RuntimeWarning: logm result may be inaccurate, approximate err = 4.845134780864503e-13\n",
      "  return f(*arrays, *other_args, **kwargs)\n"
     ]
    },
    {
     "name": "stdout",
     "output_type": "stream",
     "text": [
      "LBFGS:   48 18:21:28     -381.067156        0.017853\n"
     ]
    },
    {
     "name": "stderr",
     "output_type": "stream",
     "text": [
      "/home/atshaam/miniconda3/envs/proj_env/lib/python3.11/site-packages/scipy/_lib/_util.py:1233: RuntimeWarning: logm result may be inaccurate, approximate err = 4.866841747636178e-13\n",
      "  return f(*arrays, *other_args, **kwargs)\n"
     ]
    },
    {
     "name": "stdout",
     "output_type": "stream",
     "text": [
      "LBFGS:   49 18:21:29     -381.067267        0.018336\n"
     ]
    },
    {
     "name": "stderr",
     "output_type": "stream",
     "text": [
      "/home/atshaam/miniconda3/envs/proj_env/lib/python3.11/site-packages/scipy/_lib/_util.py:1233: RuntimeWarning: logm result may be inaccurate, approximate err = 4.85685905059477e-13\n",
      "  return f(*arrays, *other_args, **kwargs)\n"
     ]
    },
    {
     "name": "stdout",
     "output_type": "stream",
     "text": [
      "LBFGS:   50 18:21:30     -381.067404        0.018209\n"
     ]
    },
    {
     "name": "stderr",
     "output_type": "stream",
     "text": [
      "/home/atshaam/miniconda3/envs/proj_env/lib/python3.11/site-packages/scipy/_lib/_util.py:1233: RuntimeWarning: logm result may be inaccurate, approximate err = 4.897745943893458e-13\n",
      "  return f(*arrays, *other_args, **kwargs)\n"
     ]
    },
    {
     "name": "stdout",
     "output_type": "stream",
     "text": [
      "LBFGS:   51 18:21:30     -381.067572        0.018740\n"
     ]
    },
    {
     "name": "stderr",
     "output_type": "stream",
     "text": [
      "/home/atshaam/miniconda3/envs/proj_env/lib/python3.11/site-packages/scipy/_lib/_util.py:1233: RuntimeWarning: logm result may be inaccurate, approximate err = 4.887779341267877e-13\n",
      "  return f(*arrays, *other_args, **kwargs)\n"
     ]
    },
    {
     "name": "stdout",
     "output_type": "stream",
     "text": [
      "LBFGS:   52 18:21:31     -381.067736        0.016332\n"
     ]
    },
    {
     "name": "stderr",
     "output_type": "stream",
     "text": [
      "/home/atshaam/miniconda3/envs/proj_env/lib/python3.11/site-packages/scipy/_lib/_util.py:1233: RuntimeWarning: logm result may be inaccurate, approximate err = 4.823335472761635e-13\n",
      "  return f(*arrays, *other_args, **kwargs)\n"
     ]
    },
    {
     "name": "stdout",
     "output_type": "stream",
     "text": [
      "LBFGS:   53 18:21:31     -381.067908        0.016767\n"
     ]
    },
    {
     "name": "stderr",
     "output_type": "stream",
     "text": [
      "/home/atshaam/miniconda3/envs/proj_env/lib/python3.11/site-packages/scipy/_lib/_util.py:1233: RuntimeWarning: logm result may be inaccurate, approximate err = 4.861408422501136e-13\n",
      "  return f(*arrays, *other_args, **kwargs)\n"
     ]
    },
    {
     "name": "stdout",
     "output_type": "stream",
     "text": [
      "LBFGS:   54 18:21:32     -381.068079        0.017791\n"
     ]
    },
    {
     "name": "stderr",
     "output_type": "stream",
     "text": [
      "/home/atshaam/miniconda3/envs/proj_env/lib/python3.11/site-packages/scipy/_lib/_util.py:1233: RuntimeWarning: logm result may be inaccurate, approximate err = 4.866431046555187e-13\n",
      "  return f(*arrays, *other_args, **kwargs)\n"
     ]
    },
    {
     "name": "stdout",
     "output_type": "stream",
     "text": [
      "LBFGS:   55 18:21:32     -381.068217        0.016692\n"
     ]
    },
    {
     "name": "stderr",
     "output_type": "stream",
     "text": [
      "/home/atshaam/miniconda3/envs/proj_env/lib/python3.11/site-packages/scipy/_lib/_util.py:1233: RuntimeWarning: logm result may be inaccurate, approximate err = 4.943892311407359e-13\n",
      "  return f(*arrays, *other_args, **kwargs)\n"
     ]
    },
    {
     "name": "stdout",
     "output_type": "stream",
     "text": [
      "LBFGS:   56 18:21:33     -381.068320        0.013857\n"
     ]
    },
    {
     "name": "stderr",
     "output_type": "stream",
     "text": [
      "/home/atshaam/miniconda3/envs/proj_env/lib/python3.11/site-packages/scipy/_lib/_util.py:1233: RuntimeWarning: logm result may be inaccurate, approximate err = 4.863480671908758e-13\n",
      "  return f(*arrays, *other_args, **kwargs)\n"
     ]
    },
    {
     "name": "stdout",
     "output_type": "stream",
     "text": [
      "LBFGS:   57 18:21:33     -381.068392        0.013220\n"
     ]
    },
    {
     "name": "stderr",
     "output_type": "stream",
     "text": [
      "/home/atshaam/miniconda3/envs/proj_env/lib/python3.11/site-packages/scipy/_lib/_util.py:1233: RuntimeWarning: logm result may be inaccurate, approximate err = 4.894770090988423e-13\n",
      "  return f(*arrays, *other_args, **kwargs)\n"
     ]
    },
    {
     "name": "stdout",
     "output_type": "stream",
     "text": [
      "LBFGS:   58 18:21:34     -381.068507        0.017694\n"
     ]
    },
    {
     "name": "stderr",
     "output_type": "stream",
     "text": [
      "/home/atshaam/miniconda3/envs/proj_env/lib/python3.11/site-packages/scipy/_lib/_util.py:1233: RuntimeWarning: logm result may be inaccurate, approximate err = 4.927519099859855e-13\n",
      "  return f(*arrays, *other_args, **kwargs)\n"
     ]
    },
    {
     "name": "stdout",
     "output_type": "stream",
     "text": [
      "LBFGS:   59 18:21:34     -381.068610        0.016022\n"
     ]
    },
    {
     "name": "stderr",
     "output_type": "stream",
     "text": [
      "/home/atshaam/miniconda3/envs/proj_env/lib/python3.11/site-packages/scipy/_lib/_util.py:1233: RuntimeWarning: logm result may be inaccurate, approximate err = 4.820463949005966e-13\n",
      "  return f(*arrays, *other_args, **kwargs)\n"
     ]
    },
    {
     "name": "stdout",
     "output_type": "stream",
     "text": [
      "LBFGS:   60 18:21:35     -381.068713        0.010435\n"
     ]
    },
    {
     "name": "stderr",
     "output_type": "stream",
     "text": [
      "/home/atshaam/miniconda3/envs/proj_env/lib/python3.11/site-packages/scipy/_lib/_util.py:1233: RuntimeWarning: logm result may be inaccurate, approximate err = 4.926609507098666e-13\n",
      "  return f(*arrays, *other_args, **kwargs)\n"
     ]
    },
    {
     "name": "stdout",
     "output_type": "stream",
     "text": [
      "LBFGS:   61 18:21:35     -381.068770        0.010917\n"
     ]
    },
    {
     "name": "stderr",
     "output_type": "stream",
     "text": [
      "/home/atshaam/miniconda3/envs/proj_env/lib/python3.11/site-packages/scipy/_lib/_util.py:1233: RuntimeWarning: logm result may be inaccurate, approximate err = 4.865569925543429e-13\n",
      "  return f(*arrays, *other_args, **kwargs)\n"
     ]
    },
    {
     "name": "stdout",
     "output_type": "stream",
     "text": [
      "LBFGS:   62 18:21:36     -381.068839        0.011539\n"
     ]
    },
    {
     "name": "stderr",
     "output_type": "stream",
     "text": [
      "/home/atshaam/miniconda3/envs/proj_env/lib/python3.11/site-packages/scipy/_lib/_util.py:1233: RuntimeWarning: logm result may be inaccurate, approximate err = 4.925818139682839e-13\n",
      "  return f(*arrays, *other_args, **kwargs)\n"
     ]
    },
    {
     "name": "stdout",
     "output_type": "stream",
     "text": [
      "LBFGS:   63 18:21:36     -381.068926        0.016368\n"
     ]
    },
    {
     "name": "stderr",
     "output_type": "stream",
     "text": [
      "/home/atshaam/miniconda3/envs/proj_env/lib/python3.11/site-packages/scipy/_lib/_util.py:1233: RuntimeWarning: logm result may be inaccurate, approximate err = 4.869106876211053e-13\n",
      "  return f(*arrays, *other_args, **kwargs)\n"
     ]
    },
    {
     "name": "stdout",
     "output_type": "stream",
     "text": [
      "LBFGS:   64 18:21:37     -381.069071        0.018254\n"
     ]
    },
    {
     "name": "stderr",
     "output_type": "stream",
     "text": [
      "/home/atshaam/miniconda3/envs/proj_env/lib/python3.11/site-packages/scipy/_lib/_util.py:1233: RuntimeWarning: logm result may be inaccurate, approximate err = 4.792629677878196e-13\n",
      "  return f(*arrays, *other_args, **kwargs)\n"
     ]
    },
    {
     "name": "stdout",
     "output_type": "stream",
     "text": [
      "LBFGS:   65 18:21:37     -381.069209        0.019479\n"
     ]
    },
    {
     "name": "stderr",
     "output_type": "stream",
     "text": [
      "/home/atshaam/miniconda3/envs/proj_env/lib/python3.11/site-packages/scipy/_lib/_util.py:1233: RuntimeWarning: logm result may be inaccurate, approximate err = 4.828457598766065e-13\n",
      "  return f(*arrays, *other_args, **kwargs)\n"
     ]
    },
    {
     "name": "stdout",
     "output_type": "stream",
     "text": [
      "LBFGS:   66 18:21:38     -381.069342        0.015229\n"
     ]
    },
    {
     "name": "stderr",
     "output_type": "stream",
     "text": [
      "/home/atshaam/miniconda3/envs/proj_env/lib/python3.11/site-packages/scipy/_lib/_util.py:1233: RuntimeWarning: logm result may be inaccurate, approximate err = 4.876911304843743e-13\n",
      "  return f(*arrays, *other_args, **kwargs)\n"
     ]
    },
    {
     "name": "stdout",
     "output_type": "stream",
     "text": [
      "LBFGS:   67 18:21:38     -381.069411        0.011586\n"
     ]
    },
    {
     "name": "stderr",
     "output_type": "stream",
     "text": [
      "/home/atshaam/miniconda3/envs/proj_env/lib/python3.11/site-packages/scipy/_lib/_util.py:1233: RuntimeWarning: logm result may be inaccurate, approximate err = 4.867665058081052e-13\n",
      "  return f(*arrays, *other_args, **kwargs)\n"
     ]
    },
    {
     "name": "stdout",
     "output_type": "stream",
     "text": [
      "LBFGS:   68 18:21:39     -381.069468        0.007471\n",
      "       Step     Time          Energy          fmax\n",
      "LBFGS:    0 18:21:39      -26.444063        0.385960\n",
      "LBFGS:    1 18:21:40      -26.451408        0.316380\n",
      "LBFGS:    2 18:21:40      -26.463084        0.203184\n",
      "LBFGS:    3 18:21:41      -26.465173        0.219246\n",
      "LBFGS:    4 18:21:41      -26.470321        0.130700\n",
      "LBFGS:    5 18:21:41      -26.471066        0.041676\n",
      "LBFGS:    6 18:21:42      -26.471208        0.043584\n",
      "LBFGS:    7 18:21:42      -26.471284        0.045535\n",
      "LBFGS:    8 18:21:43      -26.471447        0.040162\n",
      "LBFGS:    9 18:21:43      -26.471588        0.030712\n",
      "LBFGS:   10 18:21:43      -26.471654        0.012513\n",
      "LBFGS:   11 18:21:44      -26.471662        0.001899\n",
      "       Step     Time          Energy          fmax\n",
      "LBFGS:    0 18:21:44      -35.136176        0.418707\n",
      "LBFGS:    1 18:21:44      -35.143677        0.370641\n",
      "LBFGS:    2 18:21:45      -35.164570        0.099608\n",
      "LBFGS:    3 18:21:45      -35.165521        0.092846\n",
      "LBFGS:    4 18:21:46      -35.169802        0.144360\n",
      "LBFGS:    5 18:21:46      -35.171764        0.139595\n",
      "LBFGS:    6 18:21:47      -35.173039        0.094889\n",
      "LBFGS:    7 18:21:47      -35.173704        0.090846\n",
      "LBFGS:    8 18:21:47      -35.174486        0.122186\n",
      "LBFGS:    9 18:21:48      -35.175406        0.141407\n",
      "LBFGS:   10 18:21:48      -35.176789        0.148426\n",
      "LBFGS:   11 18:21:48      -35.178541        0.136793\n",
      "LBFGS:   12 18:21:49      -35.180457        0.129954\n",
      "LBFGS:   13 18:21:49      -35.182439        0.170937\n",
      "LBFGS:   14 18:21:50      -35.184987        0.179338\n",
      "LBFGS:   15 18:21:50      -35.188716        0.241324\n",
      "LBFGS:   16 18:21:51      -35.193342        0.244423\n",
      "LBFGS:   17 18:21:51      -35.196825        0.123362\n",
      "LBFGS:   18 18:21:51      -35.197558        0.060663\n",
      "LBFGS:   19 18:21:52      -35.197711        0.051368\n",
      "LBFGS:   20 18:21:52      -35.197822        0.048303\n",
      "LBFGS:   21 18:21:53      -35.198084        0.053115\n",
      "LBFGS:   22 18:21:53      -35.198442        0.046264\n",
      "LBFGS:   23 18:21:53      -35.198712        0.024567\n",
      "LBFGS:   24 18:21:54      -35.198830        0.010725\n",
      "LBFGS:   25 18:21:54      -35.198843        0.001286\n",
      "       Step     Time          Energy          fmax\n",
      "LBFGS:    0 18:21:55     -158.581021        0.348285\n",
      "LBFGS:    1 18:21:55     -158.586770        0.339000\n",
      "LBFGS:    2 18:21:55     -158.683827        0.121179\n",
      "LBFGS:    3 18:21:56     -158.685677        0.108180\n",
      "LBFGS:    4 18:21:56     -158.690358        0.047787\n",
      "LBFGS:    5 18:21:57     -158.691064        0.039650\n",
      "LBFGS:    6 18:21:57     -158.691468        0.038731\n",
      "LBFGS:    7 18:21:58     -158.691823        0.043142\n",
      "LBFGS:    8 18:21:58     -158.692246        0.043689\n",
      "LBFGS:    9 18:21:58     -158.692593        0.039245\n",
      "LBFGS:   10 18:21:59     -158.692963        0.031795\n",
      "LBFGS:   11 18:21:59     -158.693498        0.043154\n",
      "LBFGS:   12 18:22:00     -158.694260        0.048805\n",
      "LBFGS:   13 18:22:00     -158.694962        0.039647\n",
      "LBFGS:   14 18:22:01     -158.695351        0.023085\n",
      "LBFGS:   15 18:22:01     -158.695496        0.019284\n",
      "LBFGS:   16 18:22:01     -158.695580        0.017764\n",
      "LBFGS:   17 18:22:02     -158.695668        0.017733\n",
      "LBFGS:   18 18:22:02     -158.695760        0.016967\n",
      "LBFGS:   19 18:22:03     -158.695851        0.018589\n",
      "LBFGS:   20 18:22:03     -158.695939        0.015910\n",
      "LBFGS:   21 18:22:03     -158.695996        0.013016\n",
      "LBFGS:   22 18:22:04     -158.696030        0.010135\n",
      "LBFGS:   23 18:22:04     -158.696057        0.009253\n",
      "       Step     Time          Energy          fmax\n",
      "LBFGS:    0 18:22:05      -44.921280        1.227525\n",
      "LBFGS:    1 18:22:05      -44.961409        1.102444\n",
      "LBFGS:    2 18:22:05      -45.041426        0.690928\n",
      "LBFGS:    3 18:22:06      -45.076885        0.588717\n",
      "LBFGS:    4 18:22:06      -45.112315        0.402373\n",
      "LBFGS:    5 18:22:07      -45.130456        0.484880\n",
      "LBFGS:    6 18:22:07      -45.145757        0.541388\n",
      "LBFGS:    7 18:22:08      -45.168579        0.571353\n",
      "LBFGS:    8 18:22:08      -45.196536        0.715727\n",
      "LBFGS:    9 18:22:08      -45.237586        0.789543\n",
      "LBFGS:   10 18:22:09      -45.271459        0.436350\n",
      "LBFGS:   11 18:22:09      -45.280153        0.247006\n",
      "LBFGS:   12 18:22:10      -45.285722        0.220161\n",
      "LBFGS:   13 18:22:10      -45.288693        0.167067\n",
      "LBFGS:   14 18:22:10      -45.290942        0.144178\n",
      "LBFGS:   15 18:22:11      -45.292826        0.130203\n",
      "LBFGS:   16 18:22:11      -45.294415        0.134714\n",
      "LBFGS:   17 18:22:11      -45.295079        0.064133\n",
      "LBFGS:   18 18:22:12      -45.295193        0.011758\n",
      "LBFGS:   19 18:22:12      -45.295200        0.001198\n",
      "       Step     Time          Energy          fmax\n",
      "LBFGS:    0 18:22:13     -311.060556        0.015607\n"
     ]
    },
    {
     "name": "stderr",
     "output_type": "stream",
     "text": [
      "/home/atshaam/miniconda3/envs/proj_env/lib/python3.11/site-packages/scipy/_lib/_util.py:1233: RuntimeWarning: logm result may be inaccurate, approximate err = 3.284645283036464e-13\n",
      "  return f(*arrays, *other_args, **kwargs)\n"
     ]
    },
    {
     "name": "stdout",
     "output_type": "stream",
     "text": [
      "LBFGS:    1 18:22:13     -311.060609        0.014720\n"
     ]
    },
    {
     "name": "stderr",
     "output_type": "stream",
     "text": [
      "/home/atshaam/miniconda3/envs/proj_env/lib/python3.11/site-packages/scipy/_lib/_util.py:1233: RuntimeWarning: logm result may be inaccurate, approximate err = 3.367854723288505e-13\n",
      "  return f(*arrays, *other_args, **kwargs)\n"
     ]
    },
    {
     "name": "stdout",
     "output_type": "stream",
     "text": [
      "LBFGS:    2 18:22:14     -311.060663        0.013446\n"
     ]
    },
    {
     "name": "stderr",
     "output_type": "stream",
     "text": [
      "/home/atshaam/miniconda3/envs/proj_env/lib/python3.11/site-packages/scipy/_lib/_util.py:1233: RuntimeWarning: logm result may be inaccurate, approximate err = 3.3677987280644756e-13\n",
      "  return f(*arrays, *other_args, **kwargs)\n"
     ]
    },
    {
     "name": "stdout",
     "output_type": "stream",
     "text": [
      "LBFGS:    3 18:22:14     -311.060708        0.012411\n"
     ]
    },
    {
     "name": "stderr",
     "output_type": "stream",
     "text": [
      "/home/atshaam/miniconda3/envs/proj_env/lib/python3.11/site-packages/scipy/_lib/_util.py:1233: RuntimeWarning: logm result may be inaccurate, approximate err = 3.332923738956411e-13\n",
      "  return f(*arrays, *other_args, **kwargs)\n"
     ]
    },
    {
     "name": "stdout",
     "output_type": "stream",
     "text": [
      "LBFGS:    4 18:22:15     -311.060739        0.011652\n"
     ]
    },
    {
     "name": "stderr",
     "output_type": "stream",
     "text": [
      "/home/atshaam/miniconda3/envs/proj_env/lib/python3.11/site-packages/scipy/_lib/_util.py:1233: RuntimeWarning: logm result may be inaccurate, approximate err = 3.373274045578751e-13\n",
      "  return f(*arrays, *other_args, **kwargs)\n"
     ]
    },
    {
     "name": "stdout",
     "output_type": "stream",
     "text": [
      "LBFGS:    5 18:22:15     -311.060811        0.013962\n"
     ]
    },
    {
     "name": "stderr",
     "output_type": "stream",
     "text": [
      "/home/atshaam/miniconda3/envs/proj_env/lib/python3.11/site-packages/scipy/_lib/_util.py:1233: RuntimeWarning: logm result may be inaccurate, approximate err = 3.342564611523615e-13\n",
      "  return f(*arrays, *other_args, **kwargs)\n"
     ]
    },
    {
     "name": "stdout",
     "output_type": "stream",
     "text": [
      "LBFGS:    6 18:22:16     -311.060926        0.022656\n"
     ]
    },
    {
     "name": "stderr",
     "output_type": "stream",
     "text": [
      "/home/atshaam/miniconda3/envs/proj_env/lib/python3.11/site-packages/scipy/_lib/_util.py:1233: RuntimeWarning: logm result may be inaccurate, approximate err = 3.3486574820547194e-13\n",
      "  return f(*arrays, *other_args, **kwargs)\n"
     ]
    },
    {
     "name": "stdout",
     "output_type": "stream",
     "text": [
      "LBFGS:    7 18:22:16     -311.061033        0.021807\n"
     ]
    },
    {
     "name": "stderr",
     "output_type": "stream",
     "text": [
      "/home/atshaam/miniconda3/envs/proj_env/lib/python3.11/site-packages/scipy/_lib/_util.py:1233: RuntimeWarning: logm result may be inaccurate, approximate err = 3.3654977418482526e-13\n",
      "  return f(*arrays, *other_args, **kwargs)\n"
     ]
    },
    {
     "name": "stdout",
     "output_type": "stream",
     "text": [
      "LBFGS:    8 18:22:17     -311.061155        0.016607\n"
     ]
    },
    {
     "name": "stderr",
     "output_type": "stream",
     "text": [
      "/home/atshaam/miniconda3/envs/proj_env/lib/python3.11/site-packages/scipy/_lib/_util.py:1233: RuntimeWarning: logm result may be inaccurate, approximate err = 3.371710640922237e-13\n",
      "  return f(*arrays, *other_args, **kwargs)\n"
     ]
    },
    {
     "name": "stdout",
     "output_type": "stream",
     "text": [
      "LBFGS:    9 18:22:17     -311.061239        0.014261\n"
     ]
    },
    {
     "name": "stderr",
     "output_type": "stream",
     "text": [
      "/home/atshaam/miniconda3/envs/proj_env/lib/python3.11/site-packages/scipy/_lib/_util.py:1233: RuntimeWarning: logm result may be inaccurate, approximate err = 3.321997071686488e-13\n",
      "  return f(*arrays, *other_args, **kwargs)\n"
     ]
    },
    {
     "name": "stdout",
     "output_type": "stream",
     "text": [
      "LBFGS:   10 18:22:18     -311.061330        0.015107\n"
     ]
    },
    {
     "name": "stderr",
     "output_type": "stream",
     "text": [
      "/home/atshaam/miniconda3/envs/proj_env/lib/python3.11/site-packages/scipy/_lib/_util.py:1233: RuntimeWarning: logm result may be inaccurate, approximate err = 3.3285606123459926e-13\n",
      "  return f(*arrays, *other_args, **kwargs)\n"
     ]
    },
    {
     "name": "stdout",
     "output_type": "stream",
     "text": [
      "LBFGS:   11 18:22:19     -311.061437        0.021196\n"
     ]
    },
    {
     "name": "stderr",
     "output_type": "stream",
     "text": [
      "/home/atshaam/miniconda3/envs/proj_env/lib/python3.11/site-packages/scipy/_lib/_util.py:1233: RuntimeWarning: logm result may be inaccurate, approximate err = 3.31486292252905e-13\n",
      "  return f(*arrays, *other_args, **kwargs)\n"
     ]
    },
    {
     "name": "stdout",
     "output_type": "stream",
     "text": [
      "LBFGS:   12 18:22:19     -311.061521        0.017830\n"
     ]
    },
    {
     "name": "stderr",
     "output_type": "stream",
     "text": [
      "/home/atshaam/miniconda3/envs/proj_env/lib/python3.11/site-packages/scipy/_lib/_util.py:1233: RuntimeWarning: logm result may be inaccurate, approximate err = 3.3615075023904683e-13\n",
      "  return f(*arrays, *other_args, **kwargs)\n"
     ]
    },
    {
     "name": "stdout",
     "output_type": "stream",
     "text": [
      "LBFGS:   13 18:22:20     -311.061597        0.014290\n"
     ]
    },
    {
     "name": "stderr",
     "output_type": "stream",
     "text": [
      "/home/atshaam/miniconda3/envs/proj_env/lib/python3.11/site-packages/scipy/_lib/_util.py:1233: RuntimeWarning: logm result may be inaccurate, approximate err = 3.3723614367446643e-13\n",
      "  return f(*arrays, *other_args, **kwargs)\n"
     ]
    },
    {
     "name": "stdout",
     "output_type": "stream",
     "text": [
      "LBFGS:   14 18:22:20     -311.061689        0.014608\n"
     ]
    },
    {
     "name": "stderr",
     "output_type": "stream",
     "text": [
      "/home/atshaam/miniconda3/envs/proj_env/lib/python3.11/site-packages/scipy/_lib/_util.py:1233: RuntimeWarning: logm result may be inaccurate, approximate err = 3.3222703478049777e-13\n",
      "  return f(*arrays, *other_args, **kwargs)\n"
     ]
    },
    {
     "name": "stdout",
     "output_type": "stream",
     "text": [
      "LBFGS:   15 18:22:21     -311.061754        0.014412\n"
     ]
    },
    {
     "name": "stderr",
     "output_type": "stream",
     "text": [
      "/home/atshaam/miniconda3/envs/proj_env/lib/python3.11/site-packages/scipy/_lib/_util.py:1233: RuntimeWarning: logm result may be inaccurate, approximate err = 3.3768593079725046e-13\n",
      "  return f(*arrays, *other_args, **kwargs)\n"
     ]
    },
    {
     "name": "stdout",
     "output_type": "stream",
     "text": [
      "LBFGS:   16 18:22:21     -311.061815        0.011324\n"
     ]
    },
    {
     "name": "stderr",
     "output_type": "stream",
     "text": [
      "/home/atshaam/miniconda3/envs/proj_env/lib/python3.11/site-packages/scipy/_lib/_util.py:1233: RuntimeWarning: logm result may be inaccurate, approximate err = 3.357213331272235e-13\n",
      "  return f(*arrays, *other_args, **kwargs)\n"
     ]
    },
    {
     "name": "stdout",
     "output_type": "stream",
     "text": [
      "LBFGS:   17 18:22:22     -311.061876        0.011543\n"
     ]
    },
    {
     "name": "stderr",
     "output_type": "stream",
     "text": [
      "/home/atshaam/miniconda3/envs/proj_env/lib/python3.11/site-packages/scipy/_lib/_util.py:1233: RuntimeWarning: logm result may be inaccurate, approximate err = 3.355876888068339e-13\n",
      "  return f(*arrays, *other_args, **kwargs)\n"
     ]
    },
    {
     "name": "stdout",
     "output_type": "stream",
     "text": [
      "LBFGS:   18 18:22:22     -311.061906        0.008960\n",
      "       Step     Time          Energy          fmax\n",
      "LBFGS:    0 18:22:23     -426.244255        0.038023\n"
     ]
    },
    {
     "name": "stderr",
     "output_type": "stream",
     "text": [
      "/home/atshaam/miniconda3/envs/proj_env/lib/python3.11/site-packages/scipy/_lib/_util.py:1233: RuntimeWarning: logm result may be inaccurate, approximate err = 8.206309008500078e-13\n",
      "  return f(*arrays, *other_args, **kwargs)\n"
     ]
    },
    {
     "name": "stdout",
     "output_type": "stream",
     "text": [
      "LBFGS:    1 18:22:23     -426.244587        0.036861\n"
     ]
    },
    {
     "name": "stderr",
     "output_type": "stream",
     "text": [
      "/home/atshaam/miniconda3/envs/proj_env/lib/python3.11/site-packages/scipy/_lib/_util.py:1233: RuntimeWarning: logm result may be inaccurate, approximate err = 8.27386878715615e-13\n",
      "  return f(*arrays, *other_args, **kwargs)\n"
     ]
    },
    {
     "name": "stdout",
     "output_type": "stream",
     "text": [
      "LBFGS:    2 18:22:24     -426.244931        0.036234\n"
     ]
    },
    {
     "name": "stderr",
     "output_type": "stream",
     "text": [
      "/home/atshaam/miniconda3/envs/proj_env/lib/python3.11/site-packages/scipy/_lib/_util.py:1233: RuntimeWarning: logm result may be inaccurate, approximate err = 8.203252100729633e-13\n",
      "  return f(*arrays, *other_args, **kwargs)\n"
     ]
    },
    {
     "name": "stdout",
     "output_type": "stream",
     "text": [
      "LBFGS:    3 18:22:25     -426.245526        0.044658\n"
     ]
    },
    {
     "name": "stderr",
     "output_type": "stream",
     "text": [
      "/home/atshaam/miniconda3/envs/proj_env/lib/python3.11/site-packages/scipy/_lib/_util.py:1233: RuntimeWarning: logm result may be inaccurate, approximate err = 8.250028588610135e-13\n",
      "  return f(*arrays, *other_args, **kwargs)\n"
     ]
    },
    {
     "name": "stdout",
     "output_type": "stream",
     "text": [
      "LBFGS:    4 18:22:25     -426.246521        0.059058\n"
     ]
    },
    {
     "name": "stderr",
     "output_type": "stream",
     "text": [
      "/home/atshaam/miniconda3/envs/proj_env/lib/python3.11/site-packages/scipy/_lib/_util.py:1233: RuntimeWarning: logm result may be inaccurate, approximate err = 8.215312457598316e-13\n",
      "  return f(*arrays, *other_args, **kwargs)\n"
     ]
    },
    {
     "name": "stdout",
     "output_type": "stream",
     "text": [
      "LBFGS:    5 18:22:26     -426.247879        0.051904\n"
     ]
    },
    {
     "name": "stderr",
     "output_type": "stream",
     "text": [
      "/home/atshaam/miniconda3/envs/proj_env/lib/python3.11/site-packages/scipy/_lib/_util.py:1233: RuntimeWarning: logm result may be inaccurate, approximate err = 8.218118071281732e-13\n",
      "  return f(*arrays, *other_args, **kwargs)\n"
     ]
    },
    {
     "name": "stdout",
     "output_type": "stream",
     "text": [
      "LBFGS:    6 18:22:27     -426.249195        0.056169\n"
     ]
    },
    {
     "name": "stderr",
     "output_type": "stream",
     "text": [
      "/home/atshaam/miniconda3/envs/proj_env/lib/python3.11/site-packages/scipy/_lib/_util.py:1233: RuntimeWarning: logm result may be inaccurate, approximate err = 8.20971738393455e-13\n",
      "  return f(*arrays, *other_args, **kwargs)\n"
     ]
    },
    {
     "name": "stdout",
     "output_type": "stream",
     "text": [
      "LBFGS:    7 18:22:27     -426.250019        0.059450\n"
     ]
    },
    {
     "name": "stderr",
     "output_type": "stream",
     "text": [
      "/home/atshaam/miniconda3/envs/proj_env/lib/python3.11/site-packages/scipy/_lib/_util.py:1233: RuntimeWarning: logm result may be inaccurate, approximate err = 8.239134726909634e-13\n",
      "  return f(*arrays, *other_args, **kwargs)\n"
     ]
    },
    {
     "name": "stdout",
     "output_type": "stream",
     "text": [
      "LBFGS:    8 18:22:28     -426.250519        0.059348\n"
     ]
    },
    {
     "name": "stderr",
     "output_type": "stream",
     "text": [
      "/home/atshaam/miniconda3/envs/proj_env/lib/python3.11/site-packages/scipy/_lib/_util.py:1233: RuntimeWarning: logm result may be inaccurate, approximate err = 8.20859926140719e-13\n",
      "  return f(*arrays, *other_args, **kwargs)\n"
     ]
    },
    {
     "name": "stdout",
     "output_type": "stream",
     "text": [
      "LBFGS:    9 18:22:28     -426.251046        0.057338\n"
     ]
    },
    {
     "name": "stderr",
     "output_type": "stream",
     "text": [
      "/home/atshaam/miniconda3/envs/proj_env/lib/python3.11/site-packages/scipy/_lib/_util.py:1233: RuntimeWarning: logm result may be inaccurate, approximate err = 8.281986633887488e-13\n",
      "  return f(*arrays, *other_args, **kwargs)\n"
     ]
    },
    {
     "name": "stdout",
     "output_type": "stream",
     "text": [
      "LBFGS:   10 18:22:29     -426.252064        0.053584\n"
     ]
    },
    {
     "name": "stderr",
     "output_type": "stream",
     "text": [
      "/home/atshaam/miniconda3/envs/proj_env/lib/python3.11/site-packages/scipy/_lib/_util.py:1233: RuntimeWarning: logm result may be inaccurate, approximate err = 8.253734834288926e-13\n",
      "  return f(*arrays, *other_args, **kwargs)\n"
     ]
    },
    {
     "name": "stdout",
     "output_type": "stream",
     "text": [
      "LBFGS:   11 18:22:30     -426.253437        0.084406\n"
     ]
    },
    {
     "name": "stderr",
     "output_type": "stream",
     "text": [
      "/home/atshaam/miniconda3/envs/proj_env/lib/python3.11/site-packages/scipy/_lib/_util.py:1233: RuntimeWarning: logm result may be inaccurate, approximate err = 8.233410147361501e-13\n",
      "  return f(*arrays, *other_args, **kwargs)\n"
     ]
    },
    {
     "name": "stdout",
     "output_type": "stream",
     "text": [
      "LBFGS:   12 18:22:30     -426.255024        0.095358\n"
     ]
    },
    {
     "name": "stderr",
     "output_type": "stream",
     "text": [
      "/home/atshaam/miniconda3/envs/proj_env/lib/python3.11/site-packages/scipy/_lib/_util.py:1233: RuntimeWarning: logm result may be inaccurate, approximate err = 8.226694648546391e-13\n",
      "  return f(*arrays, *other_args, **kwargs)\n"
     ]
    },
    {
     "name": "stdout",
     "output_type": "stream",
     "text": [
      "LBFGS:   13 18:22:31     -426.256325        0.069401\n"
     ]
    },
    {
     "name": "stderr",
     "output_type": "stream",
     "text": [
      "/home/atshaam/miniconda3/envs/proj_env/lib/python3.11/site-packages/scipy/_lib/_util.py:1233: RuntimeWarning: logm result may be inaccurate, approximate err = 8.21330017227351e-13\n",
      "  return f(*arrays, *other_args, **kwargs)\n"
     ]
    },
    {
     "name": "stdout",
     "output_type": "stream",
     "text": [
      "LBFGS:   14 18:22:31     -426.257283        0.049388\n"
     ]
    },
    {
     "name": "stderr",
     "output_type": "stream",
     "text": [
      "/home/atshaam/miniconda3/envs/proj_env/lib/python3.11/site-packages/scipy/_lib/_util.py:1233: RuntimeWarning: logm result may be inaccurate, approximate err = 8.226637486506723e-13\n",
      "  return f(*arrays, *other_args, **kwargs)\n"
     ]
    },
    {
     "name": "stdout",
     "output_type": "stream",
     "text": [
      "LBFGS:   15 18:22:32     -426.258053        0.050121\n"
     ]
    },
    {
     "name": "stderr",
     "output_type": "stream",
     "text": [
      "/home/atshaam/miniconda3/envs/proj_env/lib/python3.11/site-packages/scipy/_lib/_util.py:1233: RuntimeWarning: logm result may be inaccurate, approximate err = 8.231578206522899e-13\n",
      "  return f(*arrays, *other_args, **kwargs)\n"
     ]
    },
    {
     "name": "stdout",
     "output_type": "stream",
     "text": [
      "LBFGS:   16 18:22:33     -426.258923        0.057414\n"
     ]
    },
    {
     "name": "stderr",
     "output_type": "stream",
     "text": [
      "/home/atshaam/miniconda3/envs/proj_env/lib/python3.11/site-packages/scipy/_lib/_util.py:1233: RuntimeWarning: logm result may be inaccurate, approximate err = 8.317003896785891e-13\n",
      "  return f(*arrays, *other_args, **kwargs)\n"
     ]
    },
    {
     "name": "stdout",
     "output_type": "stream",
     "text": [
      "LBFGS:   17 18:22:33     -426.260216        0.087643\n"
     ]
    },
    {
     "name": "stderr",
     "output_type": "stream",
     "text": [
      "/home/atshaam/miniconda3/envs/proj_env/lib/python3.11/site-packages/scipy/_lib/_util.py:1233: RuntimeWarning: logm result may be inaccurate, approximate err = 8.281490973374782e-13\n",
      "  return f(*arrays, *other_args, **kwargs)\n"
     ]
    },
    {
     "name": "stdout",
     "output_type": "stream",
     "text": [
      "LBFGS:   18 18:22:34     -426.262204        0.101517\n"
     ]
    },
    {
     "name": "stderr",
     "output_type": "stream",
     "text": [
      "/home/atshaam/miniconda3/envs/proj_env/lib/python3.11/site-packages/scipy/_lib/_util.py:1233: RuntimeWarning: logm result may be inaccurate, approximate err = 8.31346080621999e-13\n",
      "  return f(*arrays, *other_args, **kwargs)\n"
     ]
    },
    {
     "name": "stdout",
     "output_type": "stream",
     "text": [
      "LBFGS:   19 18:22:34     -426.264946        0.087234\n"
     ]
    },
    {
     "name": "stderr",
     "output_type": "stream",
     "text": [
      "/home/atshaam/miniconda3/envs/proj_env/lib/python3.11/site-packages/scipy/_lib/_util.py:1233: RuntimeWarning: logm result may be inaccurate, approximate err = 8.295866654185246e-13\n",
      "  return f(*arrays, *other_args, **kwargs)\n"
     ]
    },
    {
     "name": "stdout",
     "output_type": "stream",
     "text": [
      "LBFGS:   20 18:22:35     -426.267693        0.066939\n"
     ]
    },
    {
     "name": "stderr",
     "output_type": "stream",
     "text": [
      "/home/atshaam/miniconda3/envs/proj_env/lib/python3.11/site-packages/scipy/_lib/_util.py:1233: RuntimeWarning: logm result may be inaccurate, approximate err = 8.300211604163733e-13\n",
      "  return f(*arrays, *other_args, **kwargs)\n"
     ]
    },
    {
     "name": "stdout",
     "output_type": "stream",
     "text": [
      "LBFGS:   21 18:22:36     -426.269467        0.056599\n"
     ]
    },
    {
     "name": "stderr",
     "output_type": "stream",
     "text": [
      "/home/atshaam/miniconda3/envs/proj_env/lib/python3.11/site-packages/scipy/_lib/_util.py:1233: RuntimeWarning: logm result may be inaccurate, approximate err = 8.41605984436282e-13\n",
      "  return f(*arrays, *other_args, **kwargs)\n"
     ]
    },
    {
     "name": "stdout",
     "output_type": "stream",
     "text": [
      "LBFGS:   22 18:22:36     -426.270447        0.046029\n"
     ]
    },
    {
     "name": "stderr",
     "output_type": "stream",
     "text": [
      "/home/atshaam/miniconda3/envs/proj_env/lib/python3.11/site-packages/scipy/_lib/_util.py:1233: RuntimeWarning: logm result may be inaccurate, approximate err = 8.395447421969797e-13\n",
      "  return f(*arrays, *other_args, **kwargs)\n"
     ]
    },
    {
     "name": "stdout",
     "output_type": "stream",
     "text": [
      "LBFGS:   23 18:22:37     -426.271595        0.046511\n"
     ]
    },
    {
     "name": "stderr",
     "output_type": "stream",
     "text": [
      "/home/atshaam/miniconda3/envs/proj_env/lib/python3.11/site-packages/scipy/_lib/_util.py:1233: RuntimeWarning: logm result may be inaccurate, approximate err = 8.295429373911156e-13\n",
      "  return f(*arrays, *other_args, **kwargs)\n"
     ]
    },
    {
     "name": "stdout",
     "output_type": "stream",
     "text": [
      "LBFGS:   24 18:22:37     -426.273919        0.081588\n"
     ]
    },
    {
     "name": "stderr",
     "output_type": "stream",
     "text": [
      "/home/atshaam/miniconda3/envs/proj_env/lib/python3.11/site-packages/scipy/_lib/_util.py:1233: RuntimeWarning: logm result may be inaccurate, approximate err = 8.32269082691324e-13\n",
      "  return f(*arrays, *other_args, **kwargs)\n"
     ]
    },
    {
     "name": "stdout",
     "output_type": "stream",
     "text": [
      "LBFGS:   25 18:22:38     -426.277699        0.112758\n"
     ]
    },
    {
     "name": "stderr",
     "output_type": "stream",
     "text": [
      "/home/atshaam/miniconda3/envs/proj_env/lib/python3.11/site-packages/scipy/_lib/_util.py:1233: RuntimeWarning: logm result may be inaccurate, approximate err = 8.35111583004745e-13\n",
      "  return f(*arrays, *other_args, **kwargs)\n"
     ]
    },
    {
     "name": "stdout",
     "output_type": "stream",
     "text": [
      "LBFGS:   26 18:22:39     -426.282189        0.113871\n"
     ]
    },
    {
     "name": "stderr",
     "output_type": "stream",
     "text": [
      "/home/atshaam/miniconda3/envs/proj_env/lib/python3.11/site-packages/scipy/_lib/_util.py:1233: RuntimeWarning: logm result may be inaccurate, approximate err = 8.421357226689449e-13\n",
      "  return f(*arrays, *other_args, **kwargs)\n"
     ]
    },
    {
     "name": "stdout",
     "output_type": "stream",
     "text": [
      "LBFGS:   27 18:22:39     -426.285210        0.078254\n"
     ]
    },
    {
     "name": "stderr",
     "output_type": "stream",
     "text": [
      "/home/atshaam/miniconda3/envs/proj_env/lib/python3.11/site-packages/scipy/_lib/_util.py:1233: RuntimeWarning: logm result may be inaccurate, approximate err = 8.370969360178339e-13\n",
      "  return f(*arrays, *other_args, **kwargs)\n"
     ]
    },
    {
     "name": "stdout",
     "output_type": "stream",
     "text": [
      "LBFGS:   28 18:22:40     -426.286431        0.046081\n"
     ]
    },
    {
     "name": "stderr",
     "output_type": "stream",
     "text": [
      "/home/atshaam/miniconda3/envs/proj_env/lib/python3.11/site-packages/scipy/_lib/_util.py:1233: RuntimeWarning: logm result may be inaccurate, approximate err = 8.435397041778839e-13\n",
      "  return f(*arrays, *other_args, **kwargs)\n"
     ]
    },
    {
     "name": "stdout",
     "output_type": "stream",
     "text": [
      "LBFGS:   29 18:22:40     -426.286991        0.043894\n"
     ]
    },
    {
     "name": "stderr",
     "output_type": "stream",
     "text": [
      "/home/atshaam/miniconda3/envs/proj_env/lib/python3.11/site-packages/scipy/_lib/_util.py:1233: RuntimeWarning: logm result may be inaccurate, approximate err = 8.385176569771821e-13\n",
      "  return f(*arrays, *other_args, **kwargs)\n"
     ]
    },
    {
     "name": "stdout",
     "output_type": "stream",
     "text": [
      "LBFGS:   30 18:22:41     -426.287590        0.041559\n"
     ]
    },
    {
     "name": "stderr",
     "output_type": "stream",
     "text": [
      "/home/atshaam/miniconda3/envs/proj_env/lib/python3.11/site-packages/scipy/_lib/_util.py:1233: RuntimeWarning: logm result may be inaccurate, approximate err = 8.415619616827813e-13\n",
      "  return f(*arrays, *other_args, **kwargs)\n"
     ]
    },
    {
     "name": "stdout",
     "output_type": "stream",
     "text": [
      "LBFGS:   31 18:22:42     -426.288514        0.042402\n"
     ]
    },
    {
     "name": "stderr",
     "output_type": "stream",
     "text": [
      "/home/atshaam/miniconda3/envs/proj_env/lib/python3.11/site-packages/scipy/_lib/_util.py:1233: RuntimeWarning: logm result may be inaccurate, approximate err = 8.365697252849248e-13\n",
      "  return f(*arrays, *other_args, **kwargs)\n"
     ]
    },
    {
     "name": "stdout",
     "output_type": "stream",
     "text": [
      "LBFGS:   32 18:22:42     -426.289494        0.039374\n"
     ]
    },
    {
     "name": "stderr",
     "output_type": "stream",
     "text": [
      "/home/atshaam/miniconda3/envs/proj_env/lib/python3.11/site-packages/scipy/_lib/_util.py:1233: RuntimeWarning: logm result may be inaccurate, approximate err = 8.402024192653853e-13\n",
      "  return f(*arrays, *other_args, **kwargs)\n"
     ]
    },
    {
     "name": "stdout",
     "output_type": "stream",
     "text": [
      "LBFGS:   33 18:22:43     -426.290192        0.040771\n"
     ]
    },
    {
     "name": "stderr",
     "output_type": "stream",
     "text": [
      "/home/atshaam/miniconda3/envs/proj_env/lib/python3.11/site-packages/scipy/_lib/_util.py:1233: RuntimeWarning: logm result may be inaccurate, approximate err = 8.441515329702065e-13\n",
      "  return f(*arrays, *other_args, **kwargs)\n"
     ]
    },
    {
     "name": "stdout",
     "output_type": "stream",
     "text": [
      "LBFGS:   34 18:22:44     -426.290493        0.028360\n"
     ]
    },
    {
     "name": "stderr",
     "output_type": "stream",
     "text": [
      "/home/atshaam/miniconda3/envs/proj_env/lib/python3.11/site-packages/scipy/_lib/_util.py:1233: RuntimeWarning: logm result may be inaccurate, approximate err = 8.491529209934971e-13\n",
      "  return f(*arrays, *other_args, **kwargs)\n"
     ]
    },
    {
     "name": "stdout",
     "output_type": "stream",
     "text": [
      "LBFGS:   35 18:22:44     -426.290635        0.016921\n"
     ]
    },
    {
     "name": "stderr",
     "output_type": "stream",
     "text": [
      "/home/atshaam/miniconda3/envs/proj_env/lib/python3.11/site-packages/scipy/_lib/_util.py:1233: RuntimeWarning: logm result may be inaccurate, approximate err = 8.424849077289745e-13\n",
      "  return f(*arrays, *other_args, **kwargs)\n"
     ]
    },
    {
     "name": "stdout",
     "output_type": "stream",
     "text": [
      "LBFGS:   36 18:22:45     -426.290802        0.023409\n"
     ]
    },
    {
     "name": "stderr",
     "output_type": "stream",
     "text": [
      "/home/atshaam/miniconda3/envs/proj_env/lib/python3.11/site-packages/scipy/_lib/_util.py:1233: RuntimeWarning: logm result may be inaccurate, approximate err = 8.461122938271765e-13\n",
      "  return f(*arrays, *other_args, **kwargs)\n"
     ]
    },
    {
     "name": "stdout",
     "output_type": "stream",
     "text": [
      "LBFGS:   37 18:22:45     -426.291161        0.032584\n"
     ]
    },
    {
     "name": "stderr",
     "output_type": "stream",
     "text": [
      "/home/atshaam/miniconda3/envs/proj_env/lib/python3.11/site-packages/scipy/_lib/_util.py:1233: RuntimeWarning: logm result may be inaccurate, approximate err = 8.465237657705001e-13\n",
      "  return f(*arrays, *other_args, **kwargs)\n"
     ]
    },
    {
     "name": "stdout",
     "output_type": "stream",
     "text": [
      "LBFGS:   38 18:22:46     -426.291912        0.040984\n"
     ]
    },
    {
     "name": "stderr",
     "output_type": "stream",
     "text": [
      "/home/atshaam/miniconda3/envs/proj_env/lib/python3.11/site-packages/scipy/_lib/_util.py:1233: RuntimeWarning: logm result may be inaccurate, approximate err = 8.486007115426687e-13\n",
      "  return f(*arrays, *other_args, **kwargs)\n"
     ]
    },
    {
     "name": "stdout",
     "output_type": "stream",
     "text": [
      "LBFGS:   39 18:22:47     -426.293106        0.047744\n"
     ]
    },
    {
     "name": "stderr",
     "output_type": "stream",
     "text": [
      "/home/atshaam/miniconda3/envs/proj_env/lib/python3.11/site-packages/scipy/_lib/_util.py:1233: RuntimeWarning: logm result may be inaccurate, approximate err = 8.424257774197978e-13\n",
      "  return f(*arrays, *other_args, **kwargs)\n"
     ]
    },
    {
     "name": "stdout",
     "output_type": "stream",
     "text": [
      "LBFGS:   40 18:22:47     -426.294220        0.039763\n",
      "LBFGS:   41 18:22:48     -426.294762        0.033420\n",
      "LBFGS:   42 18:22:48     -426.294960        0.020879\n",
      "LBFGS:   43 18:22:49     -426.295109        0.020461\n",
      "LBFGS:   44 18:22:49     -426.295338        0.019828\n",
      "LBFGS:   45 18:22:50     -426.295727        0.049240\n",
      "LBFGS:   46 18:22:51     -426.296196        0.076517\n",
      "LBFGS:   47 18:22:51     -426.296822        0.093795\n",
      "LBFGS:   48 18:22:52     -426.297642        0.089454\n",
      "LBFGS:   49 18:22:52     -426.298546        0.060519\n",
      "LBFGS:   50 18:22:53     -426.299179        0.026176\n",
      "LBFGS:   51 18:22:54     -426.299412        0.014375\n",
      "LBFGS:   52 18:22:54     -426.299508        0.014865\n",
      "LBFGS:   53 18:22:55     -426.299584        0.014890\n",
      "LBFGS:   54 18:22:55     -426.299733        0.020374\n",
      "LBFGS:   55 18:22:56     -426.300026        0.030771\n",
      "LBFGS:   56 18:22:57     -426.300476        0.051360\n",
      "LBFGS:   57 18:22:57     -426.300984        0.061740\n",
      "LBFGS:   58 18:22:58     -426.301350        0.052438\n",
      "LBFGS:   59 18:22:58     -426.301579        0.030031\n",
      "LBFGS:   60 18:22:59     -426.301724        0.024393\n",
      "LBFGS:   61 18:23:00     -426.301854        0.017536\n",
      "LBFGS:   62 18:23:00     -426.301972        0.028654\n",
      "LBFGS:   63 18:23:01     -426.302117        0.036742\n",
      "LBFGS:   64 18:23:01     -426.302388        0.041395\n",
      "LBFGS:   65 18:23:02     -426.302853        0.040806\n",
      "LBFGS:   66 18:23:03     -426.303448        0.040810\n",
      "LBFGS:   67 18:23:03     -426.303872        0.022502\n",
      "LBFGS:   68 18:23:04     -426.304039        0.015059\n",
      "LBFGS:   69 18:23:04     -426.304146        0.017308\n",
      "LBFGS:   70 18:23:05     -426.304306        0.018976\n",
      "LBFGS:   71 18:23:05     -426.304642        0.028387\n",
      "LBFGS:   72 18:23:06     -426.305180        0.038043\n",
      "LBFGS:   73 18:23:07     -426.305790        0.044689\n",
      "LBFGS:   74 18:23:07     -426.306233        0.042798\n",
      "LBFGS:   75 18:23:08     -426.306473        0.025682\n",
      "LBFGS:   76 18:23:08     -426.306622        0.017339\n",
      "LBFGS:   77 18:23:09     -426.306805        0.020412\n",
      "LBFGS:   78 18:23:10     -426.307118        0.053295\n",
      "LBFGS:   79 18:23:10     -426.307660        0.092696\n",
      "LBFGS:   80 18:23:11     -426.308556        0.124761\n",
      "LBFGS:   81 18:23:11     -426.309647        0.122866\n",
      "LBFGS:   82 18:23:12     -426.310513        0.074072\n",
      "LBFGS:   83 18:23:13     -426.310982        0.027871\n",
      "LBFGS:   84 18:23:13     -426.311215        0.022005\n",
      "LBFGS:   85 18:23:14     -426.311417        0.034540\n",
      "LBFGS:   86 18:23:14     -426.311695        0.040616\n",
      "LBFGS:   87 18:23:15     -426.312127        0.036743\n",
      "LBFGS:   88 18:23:15     -426.312783        0.038396\n",
      "LBFGS:   89 18:23:16     -426.313527        0.040177\n",
      "LBFGS:   90 18:23:17     -426.314080        0.029368\n",
      "LBFGS:   91 18:23:17     -426.314431        0.029623\n",
      "LBFGS:   92 18:23:18     -426.314816        0.032173\n",
      "LBFGS:   93 18:23:18     -426.315495        0.042025\n",
      "LBFGS:   94 18:23:19     -426.316647        0.050069\n",
      "LBFGS:   95 18:23:19     -426.317776        0.036710\n",
      "LBFGS:   96 18:23:20     -426.318341        0.019678\n",
      "LBFGS:   97 18:23:21     -426.318558        0.019080\n",
      "LBFGS:   98 18:23:21     -426.318772        0.021550\n",
      "LBFGS:   99 18:23:22     -426.319260        0.032588\n",
      "LBFGS:  100 18:23:22     -426.320122        0.043211\n",
      "LBFGS:  101 18:23:23     -426.321255        0.040347\n",
      "LBFGS:  102 18:23:24     -426.322037        0.023737\n",
      "LBFGS:  103 18:23:24     -426.322297        0.015488\n",
      "LBFGS:  104 18:23:25     -426.322392        0.015225\n",
      "LBFGS:  105 18:23:25     -426.322499        0.014924\n",
      "LBFGS:  106 18:23:26     -426.322716        0.018134\n",
      "LBFGS:  107 18:23:27     -426.323105        0.029823\n",
      "LBFGS:  108 18:23:27     -426.323651        0.047007\n",
      "LBFGS:  109 18:23:28     -426.324101        0.050900\n",
      "LBFGS:  110 18:23:28     -426.324353        0.037627\n",
      "LBFGS:  111 18:23:29     -426.324501        0.021045\n",
      "LBFGS:  112 18:23:30     -426.324620        0.012110\n",
      "LBFGS:  113 18:23:30     -426.324726        0.016762\n",
      "LBFGS:  114 18:23:31     -426.324795        0.023592\n",
      "LBFGS:  115 18:23:31     -426.324879        0.025305\n",
      "LBFGS:  116 18:23:32     -426.324982        0.021117\n",
      "LBFGS:  117 18:23:33     -426.325104        0.013341\n",
      "LBFGS:  118 18:23:33     -426.325184        0.010366\n",
      "LBFGS:  119 18:23:34     -426.325230        0.009150\n",
      "       Step     Time          Energy          fmax\n",
      "LBFGS:    0 18:23:34     -212.330070        0.439196\n"
     ]
    },
    {
     "name": "stderr",
     "output_type": "stream",
     "text": [
      "/home/atshaam/miniconda3/envs/proj_env/lib/python3.11/site-packages/scipy/_lib/_util.py:1233: RuntimeWarning: logm result may be inaccurate, approximate err = 3.284645283036463e-13\n",
      "  return f(*arrays, *other_args, **kwargs)\n"
     ]
    },
    {
     "name": "stdout",
     "output_type": "stream",
     "text": [
      "LBFGS:    1 18:23:35     -212.371906        0.214873\n"
     ]
    },
    {
     "name": "stderr",
     "output_type": "stream",
     "text": [
      "/home/atshaam/miniconda3/envs/proj_env/lib/python3.11/site-packages/scipy/_lib/_util.py:1233: RuntimeWarning: logm result may be inaccurate, approximate err = 3.352324802395987e-13\n",
      "  return f(*arrays, *other_args, **kwargs)\n"
     ]
    },
    {
     "name": "stdout",
     "output_type": "stream",
     "text": [
      "LBFGS:    2 18:23:35     -212.386926        0.210037\n"
     ]
    },
    {
     "name": "stderr",
     "output_type": "stream",
     "text": [
      "/home/atshaam/miniconda3/envs/proj_env/lib/python3.11/site-packages/scipy/_lib/_util.py:1233: RuntimeWarning: logm result may be inaccurate, approximate err = 3.39632169665985e-13\n",
      "  return f(*arrays, *other_args, **kwargs)\n"
     ]
    },
    {
     "name": "stdout",
     "output_type": "stream",
     "text": [
      "LBFGS:    3 18:23:36     -212.406669        0.094753\n"
     ]
    },
    {
     "name": "stderr",
     "output_type": "stream",
     "text": [
      "/home/atshaam/miniconda3/envs/proj_env/lib/python3.11/site-packages/scipy/_lib/_util.py:1233: RuntimeWarning: logm result may be inaccurate, approximate err = 3.3715891911218554e-13\n",
      "  return f(*arrays, *other_args, **kwargs)\n"
     ]
    },
    {
     "name": "stdout",
     "output_type": "stream",
     "text": [
      "LBFGS:    4 18:23:37     -212.409589        0.091127\n"
     ]
    },
    {
     "name": "stderr",
     "output_type": "stream",
     "text": [
      "/home/atshaam/miniconda3/envs/proj_env/lib/python3.11/site-packages/scipy/_lib/_util.py:1233: RuntimeWarning: logm result may be inaccurate, approximate err = 3.3366083587943226e-13\n",
      "  return f(*arrays, *other_args, **kwargs)\n"
     ]
    },
    {
     "name": "stdout",
     "output_type": "stream",
     "text": [
      "LBFGS:    5 18:23:37     -212.416526        0.092521\n"
     ]
    },
    {
     "name": "stderr",
     "output_type": "stream",
     "text": [
      "/home/atshaam/miniconda3/envs/proj_env/lib/python3.11/site-packages/scipy/_lib/_util.py:1233: RuntimeWarning: logm result may be inaccurate, approximate err = 3.3570792320624986e-13\n",
      "  return f(*arrays, *other_args, **kwargs)\n"
     ]
    },
    {
     "name": "stdout",
     "output_type": "stream",
     "text": [
      "LBFGS:    6 18:23:38     -212.421106        0.103765\n"
     ]
    },
    {
     "name": "stderr",
     "output_type": "stream",
     "text": [
      "/home/atshaam/miniconda3/envs/proj_env/lib/python3.11/site-packages/scipy/_lib/_util.py:1233: RuntimeWarning: logm result may be inaccurate, approximate err = 3.4292816937051096e-13\n",
      "  return f(*arrays, *other_args, **kwargs)\n"
     ]
    },
    {
     "name": "stdout",
     "output_type": "stream",
     "text": [
      "LBFGS:    7 18:23:38     -212.423667        0.079781\n"
     ]
    },
    {
     "name": "stderr",
     "output_type": "stream",
     "text": [
      "/home/atshaam/miniconda3/envs/proj_env/lib/python3.11/site-packages/scipy/_lib/_util.py:1233: RuntimeWarning: logm result may be inaccurate, approximate err = 3.3151124408270364e-13\n",
      "  return f(*arrays, *other_args, **kwargs)\n"
     ]
    },
    {
     "ename": "KeyboardInterrupt",
     "evalue": "",
     "output_type": "error",
     "traceback": [
      "\u001b[31m---------------------------------------------------------------------------\u001b[39m",
      "\u001b[31mKeyboardInterrupt\u001b[39m                         Traceback (most recent call last)",
      "\u001b[36mCell\u001b[39m\u001b[36m \u001b[39m\u001b[32mIn[10]\u001b[39m\u001b[32m, line 3\u001b[39m\n\u001b[32m      1\u001b[39m relaxed_Al_prim = {}\n\u001b[32m      2\u001b[39m \u001b[38;5;28;01mfor\u001b[39;00m name, val \u001b[38;5;129;01min\u001b[39;00m matching_pairs.items():\n\u001b[32m----> \u001b[39m\u001b[32m3\u001b[39m     structure, energy = \u001b[43mrelax_structure\u001b[49m\u001b[43m(\u001b[49m\u001b[43mval\u001b[49m\u001b[43m[\u001b[49m\u001b[33;43m'\u001b[39;49m\u001b[33;43mstructure\u001b[39;49m\u001b[33;43m'\u001b[39;49m\u001b[43m]\u001b[49m\u001b[43m)\u001b[49m\n\u001b[32m      4\u001b[39m     relaxed_Al_prim[name] = {\n\u001b[32m      5\u001b[39m         \u001b[33m'\u001b[39m\u001b[33mformula\u001b[39m\u001b[33m'\u001b[39m: val[\u001b[33m'\u001b[39m\u001b[33mformula\u001b[39m\u001b[33m'\u001b[39m],\n\u001b[32m      6\u001b[39m         \u001b[33m'\u001b[39m\u001b[33menergy\u001b[39m\u001b[33m'\u001b[39m: energy,\n\u001b[32m      7\u001b[39m         \u001b[33m'\u001b[39m\u001b[33mstructure\u001b[39m\u001b[33m'\u001b[39m: structure\n\u001b[32m      8\u001b[39m     }\n",
      "\u001b[36mCell\u001b[39m\u001b[36m \u001b[39m\u001b[32mIn[7]\u001b[39m\u001b[32m, line 7\u001b[39m, in \u001b[36mrelax_structure\u001b[39m\u001b[34m(structure)\u001b[39m\n\u001b[32m      4\u001b[39m atoms.calc = MODELS[MODEL]\n\u001b[32m      6\u001b[39m opt = LBFGS(FrechetCellFilter(atoms)) \u001b[38;5;66;03m# Delete this FrechetCellFilter when doing the defect structures\u001b[39;00m\n\u001b[32m----> \u001b[39m\u001b[32m7\u001b[39m \u001b[43mopt\u001b[49m\u001b[43m.\u001b[49m\u001b[43mrun\u001b[49m\u001b[43m(\u001b[49m\u001b[32;43m0.01\u001b[39;49m\u001b[43m,\u001b[49m\u001b[43m \u001b[49m\u001b[32;43m1000\u001b[39;49m\u001b[43m)\u001b[49m\n\u001b[32m      9\u001b[39m structure1 = AseAtomsAdaptor.get_structure(atoms)\n\u001b[32m     10\u001b[39m energy = atoms.get_potential_energy()\n",
      "\u001b[36mFile \u001b[39m\u001b[32m~/miniconda3/envs/proj_env/lib/python3.11/site-packages/ase/optimize/optimize.py:417\u001b[39m, in \u001b[36mOptimizer.run\u001b[39m\u001b[34m(self, fmax, steps)\u001b[39m\n\u001b[32m    402\u001b[39m \u001b[38;5;250m\u001b[39m\u001b[33;03m\"\"\"Run optimizer.\u001b[39;00m\n\u001b[32m    403\u001b[39m \n\u001b[32m    404\u001b[39m \u001b[33;03mParameters\u001b[39;00m\n\u001b[32m   (...)\u001b[39m\u001b[32m    414\u001b[39m \u001b[33;03m    True if the forces on atoms are converged.\u001b[39;00m\n\u001b[32m    415\u001b[39m \u001b[33;03m\"\"\"\u001b[39;00m\n\u001b[32m    416\u001b[39m \u001b[38;5;28mself\u001b[39m.fmax = fmax\n\u001b[32m--> \u001b[39m\u001b[32m417\u001b[39m \u001b[38;5;28;01mreturn\u001b[39;00m \u001b[43mDynamics\u001b[49m\u001b[43m.\u001b[49m\u001b[43mrun\u001b[49m\u001b[43m(\u001b[49m\u001b[38;5;28;43mself\u001b[39;49m\u001b[43m,\u001b[49m\u001b[43m \u001b[49m\u001b[43msteps\u001b[49m\u001b[43m=\u001b[49m\u001b[43msteps\u001b[49m\u001b[43m)\u001b[49m\n",
      "\u001b[36mFile \u001b[39m\u001b[32m~/miniconda3/envs/proj_env/lib/python3.11/site-packages/ase/optimize/optimize.py:286\u001b[39m, in \u001b[36mDynamics.run\u001b[39m\u001b[34m(self, steps)\u001b[39m\n\u001b[32m    268\u001b[39m \u001b[38;5;28;01mdef\u001b[39;00m\u001b[38;5;250m \u001b[39m\u001b[34mrun\u001b[39m(\u001b[38;5;28mself\u001b[39m, steps=DEFAULT_MAX_STEPS):\n\u001b[32m    269\u001b[39m \u001b[38;5;250m    \u001b[39m\u001b[33;03m\"\"\"Run dynamics algorithm.\u001b[39;00m\n\u001b[32m    270\u001b[39m \n\u001b[32m    271\u001b[39m \u001b[33;03m    This method will return when the forces on all individual\u001b[39;00m\n\u001b[32m   (...)\u001b[39m\u001b[32m    283\u001b[39m \u001b[33;03m        True if the forces on atoms are converged.\u001b[39;00m\n\u001b[32m    284\u001b[39m \u001b[33;03m    \"\"\"\u001b[39;00m\n\u001b[32m--> \u001b[39m\u001b[32m286\u001b[39m \u001b[43m    \u001b[49m\u001b[38;5;28;43;01mfor\u001b[39;49;00m\u001b[43m \u001b[49m\u001b[43mconverged\u001b[49m\u001b[43m \u001b[49m\u001b[38;5;129;43;01min\u001b[39;49;00m\u001b[43m \u001b[49m\u001b[43mDynamics\u001b[49m\u001b[43m.\u001b[49m\u001b[43mirun\u001b[49m\u001b[43m(\u001b[49m\u001b[38;5;28;43mself\u001b[39;49m\u001b[43m,\u001b[49m\u001b[43m \u001b[49m\u001b[43msteps\u001b[49m\u001b[43m=\u001b[49m\u001b[43msteps\u001b[49m\u001b[43m)\u001b[49m\u001b[43m:\u001b[49m\n\u001b[32m    287\u001b[39m \u001b[43m        \u001b[49m\u001b[38;5;28;43;01mpass\u001b[39;49;00m\n\u001b[32m    288\u001b[39m     \u001b[38;5;28;01mreturn\u001b[39;00m converged\n",
      "\u001b[36mFile \u001b[39m\u001b[32m~/miniconda3/envs/proj_env/lib/python3.11/site-packages/ase/optimize/optimize.py:261\u001b[39m, in \u001b[36mDynamics.irun\u001b[39m\u001b[34m(self, steps)\u001b[39m\n\u001b[32m    258\u001b[39m \u001b[38;5;28mself\u001b[39m.nsteps += \u001b[32m1\u001b[39m\n\u001b[32m    260\u001b[39m \u001b[38;5;66;03m# log the step\u001b[39;00m\n\u001b[32m--> \u001b[39m\u001b[32m261\u001b[39m \u001b[38;5;28;43mself\u001b[39;49m\u001b[43m.\u001b[49m\u001b[43mlog\u001b[49m\u001b[43m(\u001b[49m\u001b[43m)\u001b[49m\n\u001b[32m    262\u001b[39m \u001b[38;5;28mself\u001b[39m.call_observers()\n\u001b[32m    264\u001b[39m \u001b[38;5;66;03m# check convergence\u001b[39;00m\n",
      "\u001b[36mFile \u001b[39m\u001b[32m~/miniconda3/envs/proj_env/lib/python3.11/site-packages/ase/optimize/optimize.py:427\u001b[39m, in \u001b[36mOptimizer.log\u001b[39m\u001b[34m(self, forces)\u001b[39m\n\u001b[32m    425\u001b[39m \u001b[38;5;28;01mdef\u001b[39;00m\u001b[38;5;250m \u001b[39m\u001b[34mlog\u001b[39m(\u001b[38;5;28mself\u001b[39m, forces=\u001b[38;5;28;01mNone\u001b[39;00m):\n\u001b[32m    426\u001b[39m     \u001b[38;5;28;01mif\u001b[39;00m forces \u001b[38;5;129;01mis\u001b[39;00m \u001b[38;5;28;01mNone\u001b[39;00m:\n\u001b[32m--> \u001b[39m\u001b[32m427\u001b[39m         forces = \u001b[38;5;28;43mself\u001b[39;49m\u001b[43m.\u001b[49m\u001b[43moptimizable\u001b[49m\u001b[43m.\u001b[49m\u001b[43mget_forces\u001b[49m\u001b[43m(\u001b[49m\u001b[43m)\u001b[49m\n\u001b[32m    428\u001b[39m     fmax = sqrt((forces ** \u001b[32m2\u001b[39m).sum(axis=\u001b[32m1\u001b[39m).max())\n\u001b[32m    429\u001b[39m     e = \u001b[38;5;28mself\u001b[39m.optimizable.get_potential_energy()\n",
      "\u001b[36mFile \u001b[39m\u001b[32m~/miniconda3/envs/proj_env/lib/python3.11/site-packages/ase/filters.py:32\u001b[39m, in \u001b[36mOptimizableFilter.get_forces\u001b[39m\u001b[34m(self)\u001b[39m\n\u001b[32m     31\u001b[39m \u001b[38;5;28;01mdef\u001b[39;00m\u001b[38;5;250m \u001b[39m\u001b[34mget_forces\u001b[39m(\u001b[38;5;28mself\u001b[39m):\n\u001b[32m---> \u001b[39m\u001b[32m32\u001b[39m     \u001b[38;5;28;01mreturn\u001b[39;00m \u001b[38;5;28;43mself\u001b[39;49m\u001b[43m.\u001b[49m\u001b[43mfilterobj\u001b[49m\u001b[43m.\u001b[49m\u001b[43mget_forces\u001b[49m\u001b[43m(\u001b[49m\u001b[43m)\u001b[49m\n",
      "\u001b[36mFile \u001b[39m\u001b[32m~/miniconda3/envs/proj_env/lib/python3.11/site-packages/ase/filters.py:618\u001b[39m, in \u001b[36mFrechetCellFilter.get_forces\u001b[39m\u001b[34m(self, **kwargs)\u001b[39m\n\u001b[32m    615\u001b[39m \u001b[38;5;28;01mdef\u001b[39;00m\u001b[38;5;250m \u001b[39m\u001b[34mget_forces\u001b[39m(\u001b[38;5;28mself\u001b[39m, **kwargs):\n\u001b[32m    616\u001b[39m     \u001b[38;5;66;03m# forces on atoms are same as UnitCellFilter, we just\u001b[39;00m\n\u001b[32m    617\u001b[39m     \u001b[38;5;66;03m# need to modify the stress contribution\u001b[39;00m\n\u001b[32m--> \u001b[39m\u001b[32m618\u001b[39m     stress = \u001b[38;5;28;43mself\u001b[39;49m\u001b[43m.\u001b[49m\u001b[43matoms\u001b[49m\u001b[43m.\u001b[49m\u001b[43mget_stress\u001b[49m\u001b[43m(\u001b[49m\u001b[43m*\u001b[49m\u001b[43m*\u001b[49m\u001b[43mkwargs\u001b[49m\u001b[43m)\u001b[49m\n\u001b[32m    619\u001b[39m     volume = \u001b[38;5;28mself\u001b[39m.atoms.get_volume()\n\u001b[32m    620\u001b[39m     virial = -volume * (voigt_6_to_full_3x3_stress(stress) +\n\u001b[32m    621\u001b[39m                         np.diag([\u001b[38;5;28mself\u001b[39m.scalar_pressure] * \u001b[32m3\u001b[39m))\n",
      "\u001b[36mFile \u001b[39m\u001b[32m~/miniconda3/envs/proj_env/lib/python3.11/site-packages/ase/atoms.py:861\u001b[39m, in \u001b[36mAtoms.get_stress\u001b[39m\u001b[34m(self, voigt, apply_constraint, include_ideal_gas)\u001b[39m\n\u001b[32m    858\u001b[39m \u001b[38;5;28;01mif\u001b[39;00m \u001b[38;5;28mself\u001b[39m._calc \u001b[38;5;129;01mis\u001b[39;00m \u001b[38;5;28;01mNone\u001b[39;00m:\n\u001b[32m    859\u001b[39m     \u001b[38;5;28;01mraise\u001b[39;00m \u001b[38;5;167;01mRuntimeError\u001b[39;00m(\u001b[33m'\u001b[39m\u001b[33mAtoms object has no calculator.\u001b[39m\u001b[33m'\u001b[39m)\n\u001b[32m--> \u001b[39m\u001b[32m861\u001b[39m stress = \u001b[38;5;28;43mself\u001b[39;49m\u001b[43m.\u001b[49m\u001b[43m_calc\u001b[49m\u001b[43m.\u001b[49m\u001b[43mget_stress\u001b[49m\u001b[43m(\u001b[49m\u001b[38;5;28;43mself\u001b[39;49m\u001b[43m)\u001b[49m\n\u001b[32m    862\u001b[39m shape = stress.shape\n\u001b[32m    864\u001b[39m \u001b[38;5;28;01mif\u001b[39;00m shape == (\u001b[32m3\u001b[39m, \u001b[32m3\u001b[39m):\n\u001b[32m    865\u001b[39m     \u001b[38;5;66;03m# Convert to the Voigt form before possibly applying\u001b[39;00m\n\u001b[32m    866\u001b[39m     \u001b[38;5;66;03m# constraints and adding the dynamic part of the stress\u001b[39;00m\n\u001b[32m    867\u001b[39m     \u001b[38;5;66;03m# (the \"ideal gas contribution\").\u001b[39;00m\n",
      "\u001b[36mFile \u001b[39m\u001b[32m~/miniconda3/envs/proj_env/lib/python3.11/site-packages/ase/calculators/abc.py:35\u001b[39m, in \u001b[36mGetPropertiesMixin.get_stress\u001b[39m\u001b[34m(self, atoms)\u001b[39m\n\u001b[32m     34\u001b[39m \u001b[38;5;28;01mdef\u001b[39;00m\u001b[38;5;250m \u001b[39m\u001b[34mget_stress\u001b[39m(\u001b[38;5;28mself\u001b[39m, atoms=\u001b[38;5;28;01mNone\u001b[39;00m):\n\u001b[32m---> \u001b[39m\u001b[32m35\u001b[39m     \u001b[38;5;28;01mreturn\u001b[39;00m \u001b[38;5;28;43mself\u001b[39;49m\u001b[43m.\u001b[49m\u001b[43mget_property\u001b[49m\u001b[43m(\u001b[49m\u001b[33;43m'\u001b[39;49m\u001b[33;43mstress\u001b[39;49m\u001b[33;43m'\u001b[39;49m\u001b[43m,\u001b[49m\u001b[43m \u001b[49m\u001b[43matoms\u001b[49m\u001b[43m)\u001b[49m\n",
      "\u001b[36mFile \u001b[39m\u001b[32m~/miniconda3/envs/proj_env/lib/python3.11/site-packages/ase/calculators/calculator.py:515\u001b[39m, in \u001b[36mBaseCalculator.get_property\u001b[39m\u001b[34m(self, name, atoms, allow_calculation)\u001b[39m\n\u001b[32m    512\u001b[39m     \u001b[38;5;28;01mif\u001b[39;00m \u001b[38;5;28mself\u001b[39m.use_cache:\n\u001b[32m    513\u001b[39m         \u001b[38;5;28mself\u001b[39m.atoms = atoms.copy()\n\u001b[32m--> \u001b[39m\u001b[32m515\u001b[39m     \u001b[38;5;28;43mself\u001b[39;49m\u001b[43m.\u001b[49m\u001b[43mcalculate\u001b[49m\u001b[43m(\u001b[49m\u001b[43matoms\u001b[49m\u001b[43m,\u001b[49m\u001b[43m \u001b[49m\u001b[43m[\u001b[49m\u001b[43mname\u001b[49m\u001b[43m]\u001b[49m\u001b[43m,\u001b[49m\u001b[43m \u001b[49m\u001b[43msystem_changes\u001b[49m\u001b[43m)\u001b[49m\n\u001b[32m    517\u001b[39m \u001b[38;5;28;01mif\u001b[39;00m name \u001b[38;5;129;01mnot\u001b[39;00m \u001b[38;5;129;01min\u001b[39;00m \u001b[38;5;28mself\u001b[39m.results:\n\u001b[32m    518\u001b[39m     \u001b[38;5;66;03m# For some reason the calculator was not able to do what we want,\u001b[39;00m\n\u001b[32m    519\u001b[39m     \u001b[38;5;66;03m# and that is OK.\u001b[39;00m\n\u001b[32m    520\u001b[39m     \u001b[38;5;28;01mraise\u001b[39;00m PropertyNotImplementedError(\n\u001b[32m    521\u001b[39m         \u001b[33m'\u001b[39m\u001b[38;5;132;01m{}\u001b[39;00m\u001b[33m not present in this \u001b[39m\u001b[33m'\u001b[39m \u001b[33m'\u001b[39m\u001b[33mcalculation\u001b[39m\u001b[33m'\u001b[39m.format(name)\n\u001b[32m    522\u001b[39m     )\n",
      "\u001b[36mFile \u001b[39m\u001b[32m~/miniconda3/envs/proj_env/lib/python3.11/site-packages/fairchem/core/calculate/ase_calculator.py:218\u001b[39m, in \u001b[36mFAIRChemCalculator.calculate\u001b[39m\u001b[34m(self, atoms, properties, system_changes)\u001b[39m\n\u001b[32m    216\u001b[39m \u001b[38;5;66;03m# Batch and predict\u001b[39;00m\n\u001b[32m    217\u001b[39m batch = data_list_collater([data_object], otf_graph=\u001b[38;5;28;01mTrue\u001b[39;00m)\n\u001b[32m--> \u001b[39m\u001b[32m218\u001b[39m pred = \u001b[38;5;28;43mself\u001b[39;49m\u001b[43m.\u001b[49m\u001b[43mpredictor\u001b[49m\u001b[43m.\u001b[49m\u001b[43mpredict\u001b[49m\u001b[43m(\u001b[49m\u001b[43mbatch\u001b[49m\u001b[43m)\u001b[49m\n\u001b[32m    220\u001b[39m \u001b[38;5;66;03m# Collect the results into self.results\u001b[39;00m\n\u001b[32m    221\u001b[39m \u001b[38;5;28mself\u001b[39m.results = {}\n",
      "\u001b[36mFile \u001b[39m\u001b[32m~/miniconda3/envs/proj_env/lib/python3.11/site-packages/fairchem/core/units/mlip_unit/predict.py:44\u001b[39m, in \u001b[36mcollate_predictions.<locals>.collated_predict\u001b[39m\u001b[34m(predict_unit, data, undo_element_references)\u001b[39m\n\u001b[32m     39\u001b[39m \u001b[38;5;129m@wraps\u001b[39m(predict_fn)\n\u001b[32m     40\u001b[39m \u001b[38;5;28;01mdef\u001b[39;00m\u001b[38;5;250m \u001b[39m\u001b[34mcollated_predict\u001b[39m(\n\u001b[32m     41\u001b[39m     predict_unit, data: AtomicData, undo_element_references: \u001b[38;5;28mbool\u001b[39m = \u001b[38;5;28;01mTrue\u001b[39;00m\n\u001b[32m     42\u001b[39m ):\n\u001b[32m     43\u001b[39m     \u001b[38;5;66;03m# Get the full prediction dictionary from the original predict method\u001b[39;00m\n\u001b[32m---> \u001b[39m\u001b[32m44\u001b[39m     preds = \u001b[43mpredict_fn\u001b[49m\u001b[43m(\u001b[49m\u001b[43mpredict_unit\u001b[49m\u001b[43m,\u001b[49m\u001b[43m \u001b[49m\u001b[43mdata\u001b[49m\u001b[43m,\u001b[49m\u001b[43m \u001b[49m\u001b[43mundo_element_references\u001b[49m\u001b[43m)\u001b[49m\n\u001b[32m     45\u001b[39m     collated_preds = defaultdict(\u001b[38;5;28mlist\u001b[39m)\n\u001b[32m     46\u001b[39m     \u001b[38;5;28;01mfor\u001b[39;00m i, dataset \u001b[38;5;129;01min\u001b[39;00m \u001b[38;5;28menumerate\u001b[39m(data.dataset):\n",
      "\u001b[36mFile \u001b[39m\u001b[32m~/miniconda3/envs/proj_env/lib/python3.11/site-packages/fairchem/core/units/mlip_unit/predict.py:233\u001b[39m, in \u001b[36mMLIPPredictUnit.predict\u001b[39m\u001b[34m(self, data, undo_element_references)\u001b[39m\n\u001b[32m    231\u001b[39m pred_output = {}\n\u001b[32m    232\u001b[39m \u001b[38;5;28;01mwith\u001b[39;00m inference_context, tf32_context:\n\u001b[32m--> \u001b[39m\u001b[32m233\u001b[39m     output = \u001b[38;5;28;43mself\u001b[39;49m\u001b[43m.\u001b[49m\u001b[43mmodel\u001b[49m\u001b[43m(\u001b[49m\u001b[43mdata_device\u001b[49m\u001b[43m)\u001b[49m\n\u001b[32m    234\u001b[39m     \u001b[38;5;28;01mfor\u001b[39;00m task_name, task \u001b[38;5;129;01min\u001b[39;00m \u001b[38;5;28mself\u001b[39m.tasks.items():\n\u001b[32m    235\u001b[39m         pred_output[task_name] = task.normalizer.denorm(\n\u001b[32m    236\u001b[39m             output[task_name][task.property]\n\u001b[32m    237\u001b[39m         )\n",
      "\u001b[36mFile \u001b[39m\u001b[32m~/miniconda3/envs/proj_env/lib/python3.11/site-packages/torch/nn/modules/module.py:1739\u001b[39m, in \u001b[36mModule._wrapped_call_impl\u001b[39m\u001b[34m(self, *args, **kwargs)\u001b[39m\n\u001b[32m   1737\u001b[39m     \u001b[38;5;28;01mreturn\u001b[39;00m \u001b[38;5;28mself\u001b[39m._compiled_call_impl(*args, **kwargs)  \u001b[38;5;66;03m# type: ignore[misc]\u001b[39;00m\n\u001b[32m   1738\u001b[39m \u001b[38;5;28;01melse\u001b[39;00m:\n\u001b[32m-> \u001b[39m\u001b[32m1739\u001b[39m     \u001b[38;5;28;01mreturn\u001b[39;00m \u001b[38;5;28;43mself\u001b[39;49m\u001b[43m.\u001b[49m\u001b[43m_call_impl\u001b[49m\u001b[43m(\u001b[49m\u001b[43m*\u001b[49m\u001b[43margs\u001b[49m\u001b[43m,\u001b[49m\u001b[43m \u001b[49m\u001b[43m*\u001b[49m\u001b[43m*\u001b[49m\u001b[43mkwargs\u001b[49m\u001b[43m)\u001b[49m\n",
      "\u001b[36mFile \u001b[39m\u001b[32m~/miniconda3/envs/proj_env/lib/python3.11/site-packages/torch/nn/modules/module.py:1750\u001b[39m, in \u001b[36mModule._call_impl\u001b[39m\u001b[34m(self, *args, **kwargs)\u001b[39m\n\u001b[32m   1745\u001b[39m \u001b[38;5;66;03m# If we don't have any hooks, we want to skip the rest of the logic in\u001b[39;00m\n\u001b[32m   1746\u001b[39m \u001b[38;5;66;03m# this function, and just call forward.\u001b[39;00m\n\u001b[32m   1747\u001b[39m \u001b[38;5;28;01mif\u001b[39;00m \u001b[38;5;129;01mnot\u001b[39;00m (\u001b[38;5;28mself\u001b[39m._backward_hooks \u001b[38;5;129;01mor\u001b[39;00m \u001b[38;5;28mself\u001b[39m._backward_pre_hooks \u001b[38;5;129;01mor\u001b[39;00m \u001b[38;5;28mself\u001b[39m._forward_hooks \u001b[38;5;129;01mor\u001b[39;00m \u001b[38;5;28mself\u001b[39m._forward_pre_hooks\n\u001b[32m   1748\u001b[39m         \u001b[38;5;129;01mor\u001b[39;00m _global_backward_pre_hooks \u001b[38;5;129;01mor\u001b[39;00m _global_backward_hooks\n\u001b[32m   1749\u001b[39m         \u001b[38;5;129;01mor\u001b[39;00m _global_forward_hooks \u001b[38;5;129;01mor\u001b[39;00m _global_forward_pre_hooks):\n\u001b[32m-> \u001b[39m\u001b[32m1750\u001b[39m     \u001b[38;5;28;01mreturn\u001b[39;00m \u001b[43mforward_call\u001b[49m\u001b[43m(\u001b[49m\u001b[43m*\u001b[49m\u001b[43margs\u001b[49m\u001b[43m,\u001b[49m\u001b[43m \u001b[49m\u001b[43m*\u001b[49m\u001b[43m*\u001b[49m\u001b[43mkwargs\u001b[49m\u001b[43m)\u001b[49m\n\u001b[32m   1752\u001b[39m result = \u001b[38;5;28;01mNone\u001b[39;00m\n\u001b[32m   1753\u001b[39m called_always_called_hooks = \u001b[38;5;28mset\u001b[39m()\n",
      "\u001b[36mFile \u001b[39m\u001b[32m~/miniconda3/envs/proj_env/lib/python3.11/site-packages/torch/optim/swa_utils.py:242\u001b[39m, in \u001b[36mAveragedModel.forward\u001b[39m\u001b[34m(self, *args, **kwargs)\u001b[39m\n\u001b[32m    240\u001b[39m \u001b[38;5;28;01mdef\u001b[39;00m\u001b[38;5;250m \u001b[39m\u001b[34mforward\u001b[39m(\u001b[38;5;28mself\u001b[39m, *args, **kwargs):\n\u001b[32m    241\u001b[39m \u001b[38;5;250m    \u001b[39m\u001b[33;03m\"\"\"Forward pass.\"\"\"\u001b[39;00m\n\u001b[32m--> \u001b[39m\u001b[32m242\u001b[39m     \u001b[38;5;28;01mreturn\u001b[39;00m \u001b[38;5;28;43mself\u001b[39;49m\u001b[43m.\u001b[49m\u001b[43mmodule\u001b[49m\u001b[43m(\u001b[49m\u001b[43m*\u001b[49m\u001b[43margs\u001b[49m\u001b[43m,\u001b[49m\u001b[43m \u001b[49m\u001b[43m*\u001b[49m\u001b[43m*\u001b[49m\u001b[43mkwargs\u001b[49m\u001b[43m)\u001b[49m\n",
      "\u001b[36mFile \u001b[39m\u001b[32m~/miniconda3/envs/proj_env/lib/python3.11/site-packages/torch/nn/modules/module.py:1739\u001b[39m, in \u001b[36mModule._wrapped_call_impl\u001b[39m\u001b[34m(self, *args, **kwargs)\u001b[39m\n\u001b[32m   1737\u001b[39m     \u001b[38;5;28;01mreturn\u001b[39;00m \u001b[38;5;28mself\u001b[39m._compiled_call_impl(*args, **kwargs)  \u001b[38;5;66;03m# type: ignore[misc]\u001b[39;00m\n\u001b[32m   1738\u001b[39m \u001b[38;5;28;01melse\u001b[39;00m:\n\u001b[32m-> \u001b[39m\u001b[32m1739\u001b[39m     \u001b[38;5;28;01mreturn\u001b[39;00m \u001b[38;5;28;43mself\u001b[39;49m\u001b[43m.\u001b[49m\u001b[43m_call_impl\u001b[49m\u001b[43m(\u001b[49m\u001b[43m*\u001b[49m\u001b[43margs\u001b[49m\u001b[43m,\u001b[49m\u001b[43m \u001b[49m\u001b[43m*\u001b[49m\u001b[43m*\u001b[49m\u001b[43mkwargs\u001b[49m\u001b[43m)\u001b[49m\n",
      "\u001b[36mFile \u001b[39m\u001b[32m~/miniconda3/envs/proj_env/lib/python3.11/site-packages/torch/nn/modules/module.py:1750\u001b[39m, in \u001b[36mModule._call_impl\u001b[39m\u001b[34m(self, *args, **kwargs)\u001b[39m\n\u001b[32m   1745\u001b[39m \u001b[38;5;66;03m# If we don't have any hooks, we want to skip the rest of the logic in\u001b[39;00m\n\u001b[32m   1746\u001b[39m \u001b[38;5;66;03m# this function, and just call forward.\u001b[39;00m\n\u001b[32m   1747\u001b[39m \u001b[38;5;28;01mif\u001b[39;00m \u001b[38;5;129;01mnot\u001b[39;00m (\u001b[38;5;28mself\u001b[39m._backward_hooks \u001b[38;5;129;01mor\u001b[39;00m \u001b[38;5;28mself\u001b[39m._backward_pre_hooks \u001b[38;5;129;01mor\u001b[39;00m \u001b[38;5;28mself\u001b[39m._forward_hooks \u001b[38;5;129;01mor\u001b[39;00m \u001b[38;5;28mself\u001b[39m._forward_pre_hooks\n\u001b[32m   1748\u001b[39m         \u001b[38;5;129;01mor\u001b[39;00m _global_backward_pre_hooks \u001b[38;5;129;01mor\u001b[39;00m _global_backward_hooks\n\u001b[32m   1749\u001b[39m         \u001b[38;5;129;01mor\u001b[39;00m _global_forward_hooks \u001b[38;5;129;01mor\u001b[39;00m _global_forward_pre_hooks):\n\u001b[32m-> \u001b[39m\u001b[32m1750\u001b[39m     \u001b[38;5;28;01mreturn\u001b[39;00m \u001b[43mforward_call\u001b[49m\u001b[43m(\u001b[49m\u001b[43m*\u001b[49m\u001b[43margs\u001b[49m\u001b[43m,\u001b[49m\u001b[43m \u001b[49m\u001b[43m*\u001b[49m\u001b[43m*\u001b[49m\u001b[43mkwargs\u001b[49m\u001b[43m)\u001b[49m\n\u001b[32m   1752\u001b[39m result = \u001b[38;5;28;01mNone\u001b[39;00m\n\u001b[32m   1753\u001b[39m called_always_called_hooks = \u001b[38;5;28mset\u001b[39m()\n",
      "\u001b[36mFile \u001b[39m\u001b[32m~/miniconda3/envs/proj_env/lib/python3.11/site-packages/fairchem/core/models/base.py:186\u001b[39m, in \u001b[36mHydraModel.forward\u001b[39m\u001b[34m(self, data)\u001b[39m\n\u001b[32m    182\u001b[39m \u001b[38;5;28;01mwith\u001b[39;00m torch.autocast(\n\u001b[32m    183\u001b[39m     device_type=\u001b[38;5;28mself\u001b[39m.device, enabled=\u001b[38;5;28mself\u001b[39m.output_heads[k].use_amp\n\u001b[32m    184\u001b[39m ):\n\u001b[32m    185\u001b[39m     \u001b[38;5;28;01mif\u001b[39;00m \u001b[38;5;28mself\u001b[39m.pass_through_head_outputs:\n\u001b[32m--> \u001b[39m\u001b[32m186\u001b[39m         out.update(\u001b[38;5;28;43mself\u001b[39;49m\u001b[43m.\u001b[49m\u001b[43moutput_heads\u001b[49m\u001b[43m[\u001b[49m\u001b[43mk\u001b[49m\u001b[43m]\u001b[49m\u001b[43m(\u001b[49m\u001b[43mdata\u001b[49m\u001b[43m,\u001b[49m\u001b[43m \u001b[49m\u001b[43memb\u001b[49m\u001b[43m)\u001b[49m)\n\u001b[32m    187\u001b[39m     \u001b[38;5;28;01melse\u001b[39;00m:\n\u001b[32m    188\u001b[39m         out[k] = \u001b[38;5;28mself\u001b[39m.output_heads[k](data, emb)\n",
      "\u001b[36mFile \u001b[39m\u001b[32m~/miniconda3/envs/proj_env/lib/python3.11/site-packages/torch/nn/modules/module.py:1739\u001b[39m, in \u001b[36mModule._wrapped_call_impl\u001b[39m\u001b[34m(self, *args, **kwargs)\u001b[39m\n\u001b[32m   1737\u001b[39m     \u001b[38;5;28;01mreturn\u001b[39;00m \u001b[38;5;28mself\u001b[39m._compiled_call_impl(*args, **kwargs)  \u001b[38;5;66;03m# type: ignore[misc]\u001b[39;00m\n\u001b[32m   1738\u001b[39m \u001b[38;5;28;01melse\u001b[39;00m:\n\u001b[32m-> \u001b[39m\u001b[32m1739\u001b[39m     \u001b[38;5;28;01mreturn\u001b[39;00m \u001b[38;5;28;43mself\u001b[39;49m\u001b[43m.\u001b[49m\u001b[43m_call_impl\u001b[49m\u001b[43m(\u001b[49m\u001b[43m*\u001b[49m\u001b[43margs\u001b[49m\u001b[43m,\u001b[49m\u001b[43m \u001b[49m\u001b[43m*\u001b[49m\u001b[43m*\u001b[49m\u001b[43mkwargs\u001b[49m\u001b[43m)\u001b[49m\n",
      "\u001b[36mFile \u001b[39m\u001b[32m~/miniconda3/envs/proj_env/lib/python3.11/site-packages/torch/nn/modules/module.py:1750\u001b[39m, in \u001b[36mModule._call_impl\u001b[39m\u001b[34m(self, *args, **kwargs)\u001b[39m\n\u001b[32m   1745\u001b[39m \u001b[38;5;66;03m# If we don't have any hooks, we want to skip the rest of the logic in\u001b[39;00m\n\u001b[32m   1746\u001b[39m \u001b[38;5;66;03m# this function, and just call forward.\u001b[39;00m\n\u001b[32m   1747\u001b[39m \u001b[38;5;28;01mif\u001b[39;00m \u001b[38;5;129;01mnot\u001b[39;00m (\u001b[38;5;28mself\u001b[39m._backward_hooks \u001b[38;5;129;01mor\u001b[39;00m \u001b[38;5;28mself\u001b[39m._backward_pre_hooks \u001b[38;5;129;01mor\u001b[39;00m \u001b[38;5;28mself\u001b[39m._forward_hooks \u001b[38;5;129;01mor\u001b[39;00m \u001b[38;5;28mself\u001b[39m._forward_pre_hooks\n\u001b[32m   1748\u001b[39m         \u001b[38;5;129;01mor\u001b[39;00m _global_backward_pre_hooks \u001b[38;5;129;01mor\u001b[39;00m _global_backward_hooks\n\u001b[32m   1749\u001b[39m         \u001b[38;5;129;01mor\u001b[39;00m _global_forward_hooks \u001b[38;5;129;01mor\u001b[39;00m _global_forward_pre_hooks):\n\u001b[32m-> \u001b[39m\u001b[32m1750\u001b[39m     \u001b[38;5;28;01mreturn\u001b[39;00m \u001b[43mforward_call\u001b[49m\u001b[43m(\u001b[49m\u001b[43m*\u001b[49m\u001b[43margs\u001b[49m\u001b[43m,\u001b[49m\u001b[43m \u001b[49m\u001b[43m*\u001b[49m\u001b[43m*\u001b[49m\u001b[43mkwargs\u001b[49m\u001b[43m)\u001b[49m\n\u001b[32m   1752\u001b[39m result = \u001b[38;5;28;01mNone\u001b[39;00m\n\u001b[32m   1753\u001b[39m called_always_called_hooks = \u001b[38;5;28mset\u001b[39m()\n",
      "\u001b[36mFile \u001b[39m\u001b[32m~/miniconda3/envs/proj_env/lib/python3.11/site-packages/fairchem/core/common/utils.py:71\u001b[39m, in \u001b[36mconditional_grad.<locals>.decorator.<locals>.cls_method\u001b[39m\u001b[34m(self, *args, **kwargs)\u001b[39m\n\u001b[32m     69\u001b[39m \u001b[38;5;28;01mif\u001b[39;00m \u001b[38;5;28mself\u001b[39m.regress_forces \u001b[38;5;129;01mand\u001b[39;00m \u001b[38;5;129;01mnot\u001b[39;00m \u001b[38;5;28mgetattr\u001b[39m(\u001b[38;5;28mself\u001b[39m, \u001b[33m\"\u001b[39m\u001b[33mdirect_forces\u001b[39m\u001b[33m\"\u001b[39m, \u001b[32m0\u001b[39m):\n\u001b[32m     70\u001b[39m     f = dec(func)\n\u001b[32m---> \u001b[39m\u001b[32m71\u001b[39m \u001b[38;5;28;01mreturn\u001b[39;00m \u001b[43mf\u001b[49m\u001b[43m(\u001b[49m\u001b[38;5;28;43mself\u001b[39;49m\u001b[43m,\u001b[49m\u001b[43m \u001b[49m\u001b[43m*\u001b[49m\u001b[43margs\u001b[49m\u001b[43m,\u001b[49m\u001b[43m \u001b[49m\u001b[43m*\u001b[49m\u001b[43m*\u001b[49m\u001b[43mkwargs\u001b[49m\u001b[43m)\u001b[49m\n",
      "\u001b[36mFile \u001b[39m\u001b[32m~/miniconda3/envs/proj_env/lib/python3.11/site-packages/torch/utils/_contextlib.py:116\u001b[39m, in \u001b[36mcontext_decorator.<locals>.decorate_context\u001b[39m\u001b[34m(*args, **kwargs)\u001b[39m\n\u001b[32m    113\u001b[39m \u001b[38;5;129m@functools\u001b[39m.wraps(func)\n\u001b[32m    114\u001b[39m \u001b[38;5;28;01mdef\u001b[39;00m\u001b[38;5;250m \u001b[39m\u001b[34mdecorate_context\u001b[39m(*args, **kwargs):\n\u001b[32m    115\u001b[39m     \u001b[38;5;28;01mwith\u001b[39;00m ctx_factory():\n\u001b[32m--> \u001b[39m\u001b[32m116\u001b[39m         \u001b[38;5;28;01mreturn\u001b[39;00m \u001b[43mfunc\u001b[49m\u001b[43m(\u001b[49m\u001b[43m*\u001b[49m\u001b[43margs\u001b[49m\u001b[43m,\u001b[49m\u001b[43m \u001b[49m\u001b[43m*\u001b[49m\u001b[43m*\u001b[49m\u001b[43mkwargs\u001b[49m\u001b[43m)\u001b[49m\n",
      "\u001b[36mFile \u001b[39m\u001b[32m~/miniconda3/envs/proj_env/lib/python3.11/site-packages/fairchem/core/models/uma/escn_moe.py:307\u001b[39m, in \u001b[36mDatasetSpecificSingleHeadWrapper.forward\u001b[39m\u001b[34m(self, data, emb)\u001b[39m\n\u001b[32m    305\u001b[39m data_batch_full = data.batch_full.cpu()\n\u001b[32m    306\u001b[39m \u001b[38;5;66;03m# run the internal head\u001b[39;00m\n\u001b[32m--> \u001b[39m\u001b[32m307\u001b[39m head_output = \u001b[38;5;28;43mself\u001b[39;49m\u001b[43m.\u001b[49m\u001b[43mhead\u001b[49m\u001b[43m(\u001b[49m\u001b[43mdata\u001b[49m\u001b[43m,\u001b[49m\u001b[43m \u001b[49m\u001b[43memb\u001b[49m\u001b[43m)\u001b[49m\n\u001b[32m    309\u001b[39m \u001b[38;5;66;03m# check that all the input dataset names is a strict subset of dataset names\u001b[39;00m\n\u001b[32m    310\u001b[39m \u001b[38;5;28;01massert\u001b[39;00m (\n\u001b[32m    311\u001b[39m     \u001b[38;5;28mset\u001b[39m(data.dataset) <= \u001b[38;5;28mset\u001b[39m(\u001b[38;5;28mself\u001b[39m.dataset_names)\n\u001b[32m    312\u001b[39m ), \u001b[33mf\u001b[39m\u001b[33m\"\u001b[39m\u001b[33mInput dataset names: \u001b[39m\u001b[38;5;132;01m{\u001b[39;00m\u001b[38;5;28mset\u001b[39m(data.dataset)\u001b[38;5;132;01m}\u001b[39;00m\u001b[33m must be a strict subset of model\u001b[39m\u001b[33m'\u001b[39m\u001b[33ms valid datset names: \u001b[39m\u001b[38;5;132;01m{\u001b[39;00m\u001b[38;5;28mset\u001b[39m(\u001b[38;5;28mself\u001b[39m.dataset_names)\u001b[38;5;132;01m}\u001b[39;00m\u001b[33m \u001b[39m\u001b[33m\"\u001b[39m\n",
      "\u001b[36mFile \u001b[39m\u001b[32m~/miniconda3/envs/proj_env/lib/python3.11/site-packages/torch/nn/modules/module.py:1739\u001b[39m, in \u001b[36mModule._wrapped_call_impl\u001b[39m\u001b[34m(self, *args, **kwargs)\u001b[39m\n\u001b[32m   1737\u001b[39m     \u001b[38;5;28;01mreturn\u001b[39;00m \u001b[38;5;28mself\u001b[39m._compiled_call_impl(*args, **kwargs)  \u001b[38;5;66;03m# type: ignore[misc]\u001b[39;00m\n\u001b[32m   1738\u001b[39m \u001b[38;5;28;01melse\u001b[39;00m:\n\u001b[32m-> \u001b[39m\u001b[32m1739\u001b[39m     \u001b[38;5;28;01mreturn\u001b[39;00m \u001b[38;5;28;43mself\u001b[39;49m\u001b[43m.\u001b[49m\u001b[43m_call_impl\u001b[49m\u001b[43m(\u001b[49m\u001b[43m*\u001b[49m\u001b[43margs\u001b[49m\u001b[43m,\u001b[49m\u001b[43m \u001b[49m\u001b[43m*\u001b[49m\u001b[43m*\u001b[49m\u001b[43mkwargs\u001b[49m\u001b[43m)\u001b[49m\n",
      "\u001b[36mFile \u001b[39m\u001b[32m~/miniconda3/envs/proj_env/lib/python3.11/site-packages/torch/nn/modules/module.py:1750\u001b[39m, in \u001b[36mModule._call_impl\u001b[39m\u001b[34m(self, *args, **kwargs)\u001b[39m\n\u001b[32m   1745\u001b[39m \u001b[38;5;66;03m# If we don't have any hooks, we want to skip the rest of the logic in\u001b[39;00m\n\u001b[32m   1746\u001b[39m \u001b[38;5;66;03m# this function, and just call forward.\u001b[39;00m\n\u001b[32m   1747\u001b[39m \u001b[38;5;28;01mif\u001b[39;00m \u001b[38;5;129;01mnot\u001b[39;00m (\u001b[38;5;28mself\u001b[39m._backward_hooks \u001b[38;5;129;01mor\u001b[39;00m \u001b[38;5;28mself\u001b[39m._backward_pre_hooks \u001b[38;5;129;01mor\u001b[39;00m \u001b[38;5;28mself\u001b[39m._forward_hooks \u001b[38;5;129;01mor\u001b[39;00m \u001b[38;5;28mself\u001b[39m._forward_pre_hooks\n\u001b[32m   1748\u001b[39m         \u001b[38;5;129;01mor\u001b[39;00m _global_backward_pre_hooks \u001b[38;5;129;01mor\u001b[39;00m _global_backward_hooks\n\u001b[32m   1749\u001b[39m         \u001b[38;5;129;01mor\u001b[39;00m _global_forward_hooks \u001b[38;5;129;01mor\u001b[39;00m _global_forward_pre_hooks):\n\u001b[32m-> \u001b[39m\u001b[32m1750\u001b[39m     \u001b[38;5;28;01mreturn\u001b[39;00m \u001b[43mforward_call\u001b[49m\u001b[43m(\u001b[49m\u001b[43m*\u001b[49m\u001b[43margs\u001b[49m\u001b[43m,\u001b[49m\u001b[43m \u001b[49m\u001b[43m*\u001b[49m\u001b[43m*\u001b[49m\u001b[43mkwargs\u001b[49m\u001b[43m)\u001b[49m\n\u001b[32m   1752\u001b[39m result = \u001b[38;5;28;01mNone\u001b[39;00m\n\u001b[32m   1753\u001b[39m called_always_called_hooks = \u001b[38;5;28mset\u001b[39m()\n",
      "\u001b[36mFile \u001b[39m\u001b[32m~/miniconda3/envs/proj_env/lib/python3.11/site-packages/fairchem/core/common/utils.py:71\u001b[39m, in \u001b[36mconditional_grad.<locals>.decorator.<locals>.cls_method\u001b[39m\u001b[34m(self, *args, **kwargs)\u001b[39m\n\u001b[32m     69\u001b[39m \u001b[38;5;28;01mif\u001b[39;00m \u001b[38;5;28mself\u001b[39m.regress_forces \u001b[38;5;129;01mand\u001b[39;00m \u001b[38;5;129;01mnot\u001b[39;00m \u001b[38;5;28mgetattr\u001b[39m(\u001b[38;5;28mself\u001b[39m, \u001b[33m\"\u001b[39m\u001b[33mdirect_forces\u001b[39m\u001b[33m\"\u001b[39m, \u001b[32m0\u001b[39m):\n\u001b[32m     70\u001b[39m     f = dec(func)\n\u001b[32m---> \u001b[39m\u001b[32m71\u001b[39m \u001b[38;5;28;01mreturn\u001b[39;00m \u001b[43mf\u001b[49m\u001b[43m(\u001b[49m\u001b[38;5;28;43mself\u001b[39;49m\u001b[43m,\u001b[49m\u001b[43m \u001b[49m\u001b[43m*\u001b[49m\u001b[43margs\u001b[49m\u001b[43m,\u001b[49m\u001b[43m \u001b[49m\u001b[43m*\u001b[49m\u001b[43m*\u001b[49m\u001b[43mkwargs\u001b[49m\u001b[43m)\u001b[49m\n",
      "\u001b[36mFile \u001b[39m\u001b[32m~/miniconda3/envs/proj_env/lib/python3.11/site-packages/torch/utils/_contextlib.py:116\u001b[39m, in \u001b[36mcontext_decorator.<locals>.decorate_context\u001b[39m\u001b[34m(*args, **kwargs)\u001b[39m\n\u001b[32m    113\u001b[39m \u001b[38;5;129m@functools\u001b[39m.wraps(func)\n\u001b[32m    114\u001b[39m \u001b[38;5;28;01mdef\u001b[39;00m\u001b[38;5;250m \u001b[39m\u001b[34mdecorate_context\u001b[39m(*args, **kwargs):\n\u001b[32m    115\u001b[39m     \u001b[38;5;28;01mwith\u001b[39;00m ctx_factory():\n\u001b[32m--> \u001b[39m\u001b[32m116\u001b[39m         \u001b[38;5;28;01mreturn\u001b[39;00m \u001b[43mfunc\u001b[49m\u001b[43m(\u001b[49m\u001b[43m*\u001b[49m\u001b[43margs\u001b[49m\u001b[43m,\u001b[49m\u001b[43m \u001b[49m\u001b[43m*\u001b[49m\u001b[43m*\u001b[49m\u001b[43mkwargs\u001b[49m\u001b[43m)\u001b[49m\n",
      "\u001b[36mFile \u001b[39m\u001b[32m~/miniconda3/envs/proj_env/lib/python3.11/site-packages/fairchem/core/models/uma/escn_md.py:678\u001b[39m, in \u001b[36mMLP_EFS_Head.forward\u001b[39m\u001b[34m(self, data, emb)\u001b[39m\n\u001b[32m    675\u001b[39m outputs[energy_key] = {\u001b[33m\"\u001b[39m\u001b[33menergy\u001b[39m\u001b[33m\"\u001b[39m: energy} \u001b[38;5;28;01mif\u001b[39;00m \u001b[38;5;28mself\u001b[39m.wrap_property \u001b[38;5;28;01melse\u001b[39;00m energy\n\u001b[32m    677\u001b[39m \u001b[38;5;28;01mif\u001b[39;00m \u001b[38;5;28mself\u001b[39m.regress_stress:\n\u001b[32m--> \u001b[39m\u001b[32m678\u001b[39m     grads = \u001b[43mtorch\u001b[49m\u001b[43m.\u001b[49m\u001b[43mautograd\u001b[49m\u001b[43m.\u001b[49m\u001b[43mgrad\u001b[49m\u001b[43m(\u001b[49m\n\u001b[32m    679\u001b[39m \u001b[43m        \u001b[49m\u001b[43m[\u001b[49m\u001b[43menergy_part\u001b[49m\u001b[43m.\u001b[49m\u001b[43msum\u001b[49m\u001b[43m(\u001b[49m\u001b[43m)\u001b[49m\u001b[43m]\u001b[49m\u001b[43m,\u001b[49m\n\u001b[32m    680\u001b[39m \u001b[43m        \u001b[49m\u001b[43m[\u001b[49m\u001b[43mdata\u001b[49m\u001b[43m[\u001b[49m\u001b[33;43m\"\u001b[39;49m\u001b[33;43mpos_original\u001b[39;49m\u001b[33;43m\"\u001b[39;49m\u001b[43m]\u001b[49m\u001b[43m,\u001b[49m\u001b[43m \u001b[49m\u001b[43memb\u001b[49m\u001b[43m[\u001b[49m\u001b[33;43m\"\u001b[39;49m\u001b[33;43mdisplacement\u001b[39;49m\u001b[33;43m\"\u001b[39;49m\u001b[43m]\u001b[49m\u001b[43m]\u001b[49m\u001b[43m,\u001b[49m\n\u001b[32m    681\u001b[39m \u001b[43m        \u001b[49m\u001b[43mcreate_graph\u001b[49m\u001b[43m=\u001b[49m\u001b[38;5;28;43mself\u001b[39;49m\u001b[43m.\u001b[49m\u001b[43mtraining\u001b[49m\u001b[43m,\u001b[49m\n\u001b[32m    682\u001b[39m \u001b[43m    \u001b[49m\u001b[43m)\u001b[49m\n\u001b[32m    683\u001b[39m     \u001b[38;5;28;01mif\u001b[39;00m gp_utils.initialized():\n\u001b[32m    684\u001b[39m         grads = (\n\u001b[32m    685\u001b[39m             gp_utils.reduce_from_model_parallel_region(grads[\u001b[32m0\u001b[39m]),\n\u001b[32m    686\u001b[39m             gp_utils.reduce_from_model_parallel_region(grads[\u001b[32m1\u001b[39m]),\n\u001b[32m    687\u001b[39m         )\n",
      "\u001b[36mFile \u001b[39m\u001b[32m~/miniconda3/envs/proj_env/lib/python3.11/site-packages/torch/autograd/__init__.py:496\u001b[39m, in \u001b[36mgrad\u001b[39m\u001b[34m(outputs, inputs, grad_outputs, retain_graph, create_graph, only_inputs, allow_unused, is_grads_batched, materialize_grads)\u001b[39m\n\u001b[32m    492\u001b[39m     result = _vmap_internals._vmap(vjp, \u001b[32m0\u001b[39m, \u001b[32m0\u001b[39m, allow_none_pass_through=\u001b[38;5;28;01mTrue\u001b[39;00m)(\n\u001b[32m    493\u001b[39m         grad_outputs_\n\u001b[32m    494\u001b[39m     )\n\u001b[32m    495\u001b[39m \u001b[38;5;28;01melse\u001b[39;00m:\n\u001b[32m--> \u001b[39m\u001b[32m496\u001b[39m     result = \u001b[43m_engine_run_backward\u001b[49m\u001b[43m(\u001b[49m\n\u001b[32m    497\u001b[39m \u001b[43m        \u001b[49m\u001b[43moutputs\u001b[49m\u001b[43m,\u001b[49m\n\u001b[32m    498\u001b[39m \u001b[43m        \u001b[49m\u001b[43mgrad_outputs_\u001b[49m\u001b[43m,\u001b[49m\n\u001b[32m    499\u001b[39m \u001b[43m        \u001b[49m\u001b[43mretain_graph\u001b[49m\u001b[43m,\u001b[49m\n\u001b[32m    500\u001b[39m \u001b[43m        \u001b[49m\u001b[43mcreate_graph\u001b[49m\u001b[43m,\u001b[49m\n\u001b[32m    501\u001b[39m \u001b[43m        \u001b[49m\u001b[43minputs\u001b[49m\u001b[43m,\u001b[49m\n\u001b[32m    502\u001b[39m \u001b[43m        \u001b[49m\u001b[43mallow_unused\u001b[49m\u001b[43m,\u001b[49m\n\u001b[32m    503\u001b[39m \u001b[43m        \u001b[49m\u001b[43maccumulate_grad\u001b[49m\u001b[43m=\u001b[49m\u001b[38;5;28;43;01mFalse\u001b[39;49;00m\u001b[43m,\u001b[49m\n\u001b[32m    504\u001b[39m \u001b[43m    \u001b[49m\u001b[43m)\u001b[49m\n\u001b[32m    505\u001b[39m \u001b[38;5;28;01mif\u001b[39;00m materialize_grads:\n\u001b[32m    506\u001b[39m     \u001b[38;5;28;01mif\u001b[39;00m \u001b[38;5;28many\u001b[39m(\n\u001b[32m    507\u001b[39m         result[i] \u001b[38;5;129;01mis\u001b[39;00m \u001b[38;5;28;01mNone\u001b[39;00m \u001b[38;5;129;01mand\u001b[39;00m \u001b[38;5;129;01mnot\u001b[39;00m is_tensor_like(inputs[i])\n\u001b[32m    508\u001b[39m         \u001b[38;5;28;01mfor\u001b[39;00m i \u001b[38;5;129;01min\u001b[39;00m \u001b[38;5;28mrange\u001b[39m(\u001b[38;5;28mlen\u001b[39m(inputs))\n\u001b[32m    509\u001b[39m     ):\n",
      "\u001b[36mFile \u001b[39m\u001b[32m~/miniconda3/envs/proj_env/lib/python3.11/site-packages/torch/autograd/graph.py:823\u001b[39m, in \u001b[36m_engine_run_backward\u001b[39m\u001b[34m(t_outputs, *args, **kwargs)\u001b[39m\n\u001b[32m    821\u001b[39m     unregister_hooks = _register_logging_hooks_on_whole_graph(t_outputs)\n\u001b[32m    822\u001b[39m \u001b[38;5;28;01mtry\u001b[39;00m:\n\u001b[32m--> \u001b[39m\u001b[32m823\u001b[39m     \u001b[38;5;28;01mreturn\u001b[39;00m \u001b[43mVariable\u001b[49m\u001b[43m.\u001b[49m\u001b[43m_execution_engine\u001b[49m\u001b[43m.\u001b[49m\u001b[43mrun_backward\u001b[49m\u001b[43m(\u001b[49m\u001b[43m  \u001b[49m\u001b[38;5;66;43;03m# Calls into the C++ engine to run the backward pass\u001b[39;49;00m\n\u001b[32m    824\u001b[39m \u001b[43m        \u001b[49m\u001b[43mt_outputs\u001b[49m\u001b[43m,\u001b[49m\u001b[43m \u001b[49m\u001b[43m*\u001b[49m\u001b[43margs\u001b[49m\u001b[43m,\u001b[49m\u001b[43m \u001b[49m\u001b[43m*\u001b[49m\u001b[43m*\u001b[49m\u001b[43mkwargs\u001b[49m\n\u001b[32m    825\u001b[39m \u001b[43m    \u001b[49m\u001b[43m)\u001b[49m  \u001b[38;5;66;03m# Calls into the C++ engine to run the backward pass\u001b[39;00m\n\u001b[32m    826\u001b[39m \u001b[38;5;28;01mfinally\u001b[39;00m:\n\u001b[32m    827\u001b[39m     \u001b[38;5;28;01mif\u001b[39;00m attach_logging_hooks:\n",
      "\u001b[31mKeyboardInterrupt\u001b[39m: "
     ]
    }
   ],
   "source": [
    "relaxed_Al_prim = {}\n",
    "for name, val in matching_pairs.items():\n",
    "    structure, energy = relax_structure(val['structure'])\n",
    "    relaxed_Al_prim[name] = {\n",
    "        'formula': val['formula'],\n",
    "        'energy': energy,\n",
    "        'structure': structure\n",
    "    }"
   ]
  },
  {
   "cell_type": "code",
   "execution_count": 11,
   "id": "8bf5ea43-f03d-4ced-92c8-71298fe5c28c",
   "metadata": {},
   "outputs": [],
   "source": [
    "dumpfn(relaxed_Al_prim, f'../data/{MODEL}/{MODEL}_relaxed_Al_prim.json')"
   ]
  },
  {
   "cell_type": "markdown",
   "id": "edd567a7-2c37-4379-82e2-589474094495",
   "metadata": {},
   "source": [
    "## Defect Creation and Relaxation"
   ]
  },
  {
   "cell_type": "markdown",
   "id": "3b9abc49-cf18-4082-a3f5-7445b288c416",
   "metadata": {},
   "source": [
    "Load in all relaxed primitive Al Oxide structures\n",
    "<br>Loop through all Al oxides \n",
    "<br>Create function using doped and shakenbreak for each structure\n",
    "<br>Create function that loops over unpertubed and all disortions and uses MLIP to calc energies - append structure and energies to data dict\n",
    "<br>get energy difference from unperturbed for each Al oxide and append to dictionary or list for bar chart - can do this manually in loop \n",
    "<br>dumpfn the data dict and list of energy differences, or maybe add energy diff to data dict as 'delta_e' key?\n",
    "<br>Plot bar chart for all metal oxides and their energy relative to unperturbed"
   ]
  },
  {
   "cell_type": "code",
   "execution_count": 29,
   "id": "7c6909ac-570b-4dc3-ad3c-d363d59de520",
   "metadata": {
    "scrolled": true
   },
   "outputs": [],
   "source": [
    "from doped.generation import DefectsGenerator\n",
    "from shakenbreak.input import Distortions"
   ]
  },
  {
   "cell_type": "code",
   "execution_count": 30,
   "id": "98705953-4a4f-443a-af00-ffcdb3b77e39",
   "metadata": {},
   "outputs": [],
   "source": [
    "supercell_size = 10.1"
   ]
  },
  {
   "cell_type": "code",
   "execution_count": 31,
   "id": "7fbf047a-4b68-461c-ae60-f318b2ba7dab",
   "metadata": {},
   "outputs": [],
   "source": [
    "def create_defect(structure):\n",
    "    defect_gen = DefectsGenerator(structure, extrinsic=\"Cr\", interstitial_gen_kwargs=False, supercell_gen_kwargs={'min_image_distance':supercell_size} ) # set large super cell 25 Angstroms 'supercell_gen_kwargs={'min_image_distance':15}'\n",
    "    valid_keys = []\n",
    "    for key in defect_gen.keys():\n",
    "        if  key[:5] == 'Cr_Al' and key[-1] == '0':\n",
    "            valid_keys.append(key)\n",
    "    Dist = Distortions(\n",
    "        defect_entries = {key: defect_gen[key] for key in valid_keys}, # NO Cr_Al_0 for Al2(SO4)3\n",
    "        # oxidation_states={} # oxidation states predicted are good for now\n",
    "    )\n",
    "    distorted_defects_dict, Dist.distortion_metadata = Dist.apply_distortions()\n",
    "    unperturbed_structures = {}\n",
    "    distortions = {}\n",
    "    for key in valid_keys:\n",
    "        unperturbed_structures[key] = distorted_defects_dict[key[:-2]]['charges'][0]['structures']['Unperturbed']\n",
    "        distortions[key] = distorted_defects_dict[key[:-2]]['charges'][0]['structures']['distortions']\n",
    "\n",
    "    return dict(unperturbed_structures), dict(distortions), defect_gen.bulk_supercell"
   ]
  },
  {
   "cell_type": "code",
   "execution_count": 32,
   "id": "3d853a80-f382-4a88-9c24-c1bff035724a",
   "metadata": {},
   "outputs": [],
   "source": [
    "def get_energy(unperturbed_structures, distortions, supercell):\n",
    "    data = defaultdict(dict)\n",
    "    supercell_struct, supercell_e = relax_defect(supercell)\n",
    "    data['supercell'] = {\n",
    "        'structure': supercell_struct,\n",
    "        'energy': supercell_e\n",
    "    }\n",
    "    \n",
    "    for site, unperturbed_structure in unperturbed_structures.items():\n",
    "        data[site] = defaultdict(dict)\n",
    "        data[site]['unperturbed'] = defaultdict(dict)\n",
    "        unperturbed_structure1, unp_energy = relax_defect(unperturbed_structure)\n",
    "        data[site]['unperturbed'] = {\n",
    "        'structure':unperturbed_structure1,\n",
    "        'energy': unp_energy,\n",
    "        'distortion_amount':'N/A'\n",
    "        }\n",
    "        data[site]['distortions'] = defaultdict(dict)\n",
    "        for key, structure in distortions[site].items():\n",
    "            structure1, energy = relax_defect(structure)\n",
    "            if key != 'Rattled':\n",
    "                distortion_amount = float(key.split(\"_\")[-1].replace(\"%\", \"\").replace(\"-\", \"-\"))/100\n",
    "            else:\n",
    "                distortion_amount = 0\n",
    "            data[site]['distortions'][key] = {\n",
    "                'structure': structure1,\n",
    "                'energy': energy,\n",
    "                'distortion_amount': distortion_amount,\n",
    "                'delta_e': energy - unp_energy\n",
    "            }\n",
    "    \n",
    "    return dict(data)"
   ]
  },
  {
   "cell_type": "code",
   "execution_count": 46,
   "id": "eef481f7",
   "metadata": {},
   "outputs": [],
   "source": [
    "Al_prim = loadfn(f'../data/{MODEL}/{MODEL}_relaxed_Al_prim.json')\n",
    "del Al_prim['mp-554152']"
   ]
  },
  {
   "cell_type": "code",
   "execution_count": 53,
   "id": "1e494fc8-2bd5-4788-8559-c97cebfb7c64",
   "metadata": {},
   "outputs": [
    {
     "data": {
      "text/plain": [
       "34"
      ]
     },
     "execution_count": 53,
     "metadata": {},
     "output_type": "execute_result"
    }
   ],
   "source": [
    "Al_prim['mp-4417']['structure'].num_sites"
   ]
  },
  {
   "cell_type": "code",
   "execution_count": 41,
   "id": "1785cd8a-7d25-4fdd-9535-cf967659688c",
   "metadata": {
    "scrolled": true
   },
   "outputs": [
    {
     "name": "stderr",
     "output_type": "stream",
     "text": [
      "Generating DefectEntry objects: 100.0%|████████████████████████████████████████████████████████████| [02:19,   1.39s/it]\n"
     ]
    },
    {
     "name": "stdout",
     "output_type": "stream",
     "text": [
      "Vacancies                 Guessed Charges        Conv. Cell Coords    Wyckoff\n",
      "------------------------  ---------------------  -------------------  ---------\n",
      "v_Al                      [+1,0,-1,-2,-3]        [0.116,0.637,0.375]  4e\n",
      "v_P_C1_O1.49              [+1,0,-1,-2,-3,-4,-5]  [0.203,0.664,0.016]  4e\n",
      "v_P_C1_O1.50O1.60         [+1,0,-1,-2,-3,-4,-5]  [0.145,0.544,0.718]  4e\n",
      "v_P_C1_O1.50O1.61         [+1,0,-1,-2,-3,-4,-5]  [0.415,0.112,0.213]  4e\n",
      "v_O_C1_P1.49              [+2,+1,0,-1]           [0.822,0.257,0.090]  4e\n",
      "v_O_C1_P1.50Al1.90O2.52   [+2,+1,0,-1]           [0.194,0.158,0.148]  4e\n",
      "v_O_C1_P1.50Al1.90O2.53a  [+2,+1,0,-1]           [0.576,0.114,0.107]  4e\n",
      "v_O_C1_P1.50Al1.90O2.53b  [+2,+1,0,-1]           [0.165,0.619,0.608]  4e\n",
      "v_O_C1_P1.50Al1.91        [+2,+1,0,-1]           [0.068,0.655,0.141]  4e\n",
      "v_O_C1_P1.50Al1.92        [+2,+1,0,-1]           [0.055,0.515,0.335]  4e\n",
      "v_O_C1_P1.60              [+2,+1,0,-1]           [0.853,0.421,0.100]  4e\n",
      "v_O_C1_P1.61              [+2,+1,0,-1]           [0.532,0.152,0.395]  4e\n",
      "v_O_C1_P1.62              [+2,+1,0,-1]           [0.374,0.012,0.257]  4e\n",
      "\n",
      "Substitutions              Guessed Charges              Conv. Cell Coords    Wyckoff\n",
      "-------------------------  ---------------------------  -------------------  ---------\n",
      "Al_P_C1_O1.49              [0,-1,-2]                    [0.203,0.664,0.016]  4e\n",
      "Al_P_C1_O1.50O1.60         [0,-1,-2]                    [0.145,0.544,0.718]  4e\n",
      "Al_P_C1_O1.50O1.61         [0,-1,-2]                    [0.415,0.112,0.213]  4e\n",
      "Al_O_C1_P1.49              [+5,+4,+3,+2,+1,0]           [0.822,0.257,0.090]  4e\n",
      "Al_O_C1_P1.50Al1.90O2.52   [+5,+4,+3,+2,+1,0]           [0.194,0.158,0.148]  4e\n",
      "Al_O_C1_P1.50Al1.90O2.53a  [+5,+4,+3,+2,+1,0]           [0.576,0.114,0.107]  4e\n",
      "Al_O_C1_P1.50Al1.90O2.53b  [+5,+4,+3,+2,+1,0]           [0.165,0.619,0.608]  4e\n",
      "Al_O_C1_P1.50Al1.91        [+5,+4,+3,+2,+1,0]           [0.068,0.655,0.141]  4e\n",
      "Al_O_C1_P1.50Al1.92        [+5,+4,+3,+2,+1,0]           [0.055,0.515,0.335]  4e\n",
      "Al_O_C1_P1.60              [+5,+4,+3,+2,+1,0]           [0.853,0.421,0.100]  4e\n",
      "Al_O_C1_P1.61              [+5,+4,+3,+2,+1,0]           [0.532,0.152,0.395]  4e\n",
      "Al_O_C1_P1.62              [+5,+4,+3,+2,+1,0]           [0.374,0.012,0.257]  4e\n",
      "P_Al                       [+2,+1,0,-1,-2,-3,-4,-5,-6]  [0.116,0.637,0.375]  4e\n",
      "P_O_C1_P1.49               [+7,+6,+5,+4,+3,+2,+1,0,-1]  [0.822,0.257,0.090]  4e\n",
      "P_O_C1_P1.50Al1.90O2.52    [+7,+6,+5,+4,+3,+2,+1,0,-1]  [0.194,0.158,0.148]  4e\n",
      "P_O_C1_P1.50Al1.90O2.53a   [+7,+6,+5,+4,+3,+2,+1,0,-1]  [0.576,0.114,0.107]  4e\n",
      "P_O_C1_P1.50Al1.90O2.53b   [+7,+6,+5,+4,+3,+2,+1,0,-1]  [0.165,0.619,0.608]  4e\n",
      "P_O_C1_P1.50Al1.91         [+7,+6,+5,+4,+3,+2,+1,0,-1]  [0.068,0.655,0.141]  4e\n",
      "P_O_C1_P1.50Al1.92         [+7,+6,+5,+4,+3,+2,+1,0,-1]  [0.055,0.515,0.335]  4e\n",
      "P_O_C1_P1.60               [+7,+6,+5,+4,+3,+2,+1,0,-1]  [0.853,0.421,0.100]  4e\n",
      "P_O_C1_P1.61               [+7,+6,+5,+4,+3,+2,+1,0,-1]  [0.532,0.152,0.395]  4e\n",
      "P_O_C1_P1.62               [+7,+6,+5,+4,+3,+2,+1,0,-1]  [0.374,0.012,0.257]  4e\n",
      "O_Al                       [0,-1,-2,-3,-4,-5]           [0.116,0.637,0.375]  4e\n",
      "O_P_C1_O1.49               [0,-1,-2,-3,-4,-5,-6,-7]     [0.203,0.664,0.016]  4e\n",
      "O_P_C1_O1.50O1.60          [0,-1,-2,-3,-4,-5,-6,-7]     [0.145,0.544,0.718]  4e\n",
      "O_P_C1_O1.50O1.61          [0,-1,-2,-3,-4,-5,-6,-7]     [0.415,0.112,0.213]  4e\n",
      "Cr_Al                      [+3,+2,+1,0,-1]              [0.116,0.637,0.375]  4e\n",
      "Cr_P_C1_O1.49              [+1,0,-1,-2,-3]              [0.203,0.664,0.016]  4e\n",
      "Cr_P_C1_O1.50O1.60         [+1,0,-1,-2,-3]              [0.145,0.544,0.718]  4e\n",
      "Cr_P_C1_O1.50O1.61         [+1,0,-1,-2,-3]              [0.415,0.112,0.213]  4e\n",
      "Cr_O_C1_P1.49              [+8,+7,+6,+5,+4,+3,+2,+1,0]  [0.822,0.257,0.090]  4e\n",
      "Cr_O_C1_P1.50Al1.90O2.52   [+8,+7,+6,+5,+4,+3,+2,+1,0]  [0.194,0.158,0.148]  4e\n",
      "Cr_O_C1_P1.50Al1.90O2.53a  [+8,+7,+6,+5,+4,+3,+2,+1,0]  [0.576,0.114,0.107]  4e\n",
      "Cr_O_C1_P1.50Al1.90O2.53b  [+8,+7,+6,+5,+4,+3,+2,+1,0]  [0.165,0.619,0.608]  4e\n",
      "Cr_O_C1_P1.50Al1.91        [+8,+7,+6,+5,+4,+3,+2,+1,0]  [0.068,0.655,0.141]  4e\n",
      "Cr_O_C1_P1.50Al1.92        [+8,+7,+6,+5,+4,+3,+2,+1,0]  [0.055,0.515,0.335]  4e\n",
      "Cr_O_C1_P1.60              [+8,+7,+6,+5,+4,+3,+2,+1,0]  [0.853,0.421,0.100]  4e\n",
      "Cr_O_C1_P1.61              [+8,+7,+6,+5,+4,+3,+2,+1,0]  [0.532,0.152,0.395]  4e\n",
      "Cr_O_C1_P1.62              [+8,+7,+6,+5,+4,+3,+2,+1,0]  [0.374,0.012,0.257]  4e\n",
      "\n",
      "The number in the Wyckoff label is the site multiplicity/degeneracy of that defect in the conventional ('conv.') unit cell, which comprises 4 formula unit(s) of Al(PO3)3.\n",
      "\n",
      "Oxidation states were not explicitly set, thus have been guessed as {'Al': 3.0, 'P': 5.0, 'O': -2.0, 'Cr': 3.0}. If this is unreasonable you should manually set oxidation_states\n",
      "Applying ShakeNBreak... Will apply the following bond distortions: ['-0.6', '-0.5', '-0.4', '-0.3', '-0.2', '-0.1', '0.0', '0.1', '0.2', '0.3', '0.4', '0.5', '0.6', 'Dimer (for vacancies)']. Then, will rattle with a std dev of 0.15 Å \n",
      "\n"
     ]
    },
    {
     "name": "stderr",
     "output_type": "stream",
     "text": [
      "Generating distorted defect structures...0.0%|                                                         | [00:00,  ?it/s]"
     ]
    },
    {
     "name": "stdout",
     "output_type": "stream",
     "text": [
      "\u001b[1m\n",
      "Defect: Cr_Al\u001b[0m\n",
      "\u001b[1mNumber of missing electrons in neutral state: 0\u001b[0m\n",
      "\n",
      "Defect Cr_Al in charge state: 0. Number of distorted neighbours: 0\n"
     ]
    },
    {
     "name": "stderr",
     "output_type": "stream",
     "text": [
      "Generating distorted defect structures...100.0%|███████████████████████████████████████████████████| [00:00,   1.57it/s]\n"
     ]
    },
    {
     "name": "stdout",
     "output_type": "stream",
     "text": [
      "       Step     Time          Energy          fmax\n",
      "LBFGS:    0 11:38:04    -1143.208343        0.007474\n",
      "       Step     Time          Energy          fmax\n",
      "LBFGS:    0 11:38:09    -1143.582998        1.965486\n",
      "LBFGS:    1 11:38:14    -1143.738332        1.312480\n",
      "LBFGS:    2 11:38:19    -1143.871831        0.596136\n",
      "LBFGS:    3 11:38:24    -1143.919637        0.378882\n",
      "LBFGS:    4 11:38:29    -1143.947607        0.303818\n",
      "LBFGS:    5 11:38:33    -1143.967870        0.176623\n",
      "LBFGS:    6 11:38:39    -1143.978902        0.213225\n",
      "LBFGS:    7 11:38:44    -1143.989065        0.194208\n",
      "LBFGS:    8 11:38:49    -1143.996328        0.100056\n",
      "LBFGS:    9 11:38:54    -1144.000127        0.103004\n",
      "LBFGS:   10 11:38:59    -1144.002370        0.068736\n",
      "LBFGS:   11 11:39:04    -1144.004278        0.079721\n",
      "LBFGS:   12 11:39:09    -1144.005849        0.065175\n",
      "LBFGS:   13 11:39:14    -1144.007253        0.053657\n",
      "LBFGS:   14 11:39:19    -1144.008596        0.055589\n",
      "LBFGS:   15 11:39:24    -1144.009771        0.062748\n",
      "LBFGS:   16 11:39:29    -1144.010747        0.057580\n",
      "LBFGS:   17 11:39:34    -1144.011632        0.041415\n",
      "LBFGS:   18 11:39:39    -1144.012578        0.039357\n",
      "LBFGS:   19 11:39:44    -1144.013387        0.037332\n",
      "LBFGS:   20 11:39:50    -1144.013998        0.034478\n",
      "LBFGS:   21 11:39:55    -1144.014593        0.033226\n",
      "LBFGS:   22 11:40:00    -1144.015066        0.033792\n",
      "LBFGS:   23 11:40:05    -1144.015630        0.034449\n",
      "LBFGS:   24 11:40:10    -1144.016149        0.031084\n",
      "LBFGS:   25 11:40:15    -1144.016500        0.024566\n",
      "LBFGS:   26 11:40:20    -1144.016805        0.022603\n",
      "LBFGS:   27 11:40:25    -1144.017141        0.023228\n",
      "LBFGS:   28 11:40:30    -1144.017477        0.023630\n",
      "LBFGS:   29 11:40:35    -1144.017766        0.026841\n",
      "LBFGS:   30 11:40:40    -1144.017980        0.020120\n",
      "LBFGS:   31 11:40:45    -1144.018178        0.018907\n",
      "LBFGS:   32 11:40:50    -1144.018407        0.016909\n",
      "LBFGS:   33 11:40:55    -1144.018514        0.014472\n",
      "LBFGS:   34 11:41:01    -1144.018728        0.014158\n",
      "LBFGS:   35 11:41:06    -1144.018789        0.014895\n",
      "LBFGS:   36 11:41:11    -1144.018987        0.018380\n",
      "LBFGS:   37 11:41:16    -1144.019018        0.012887\n",
      "LBFGS:   38 11:41:21    -1144.019170        0.011670\n",
      "LBFGS:   39 11:41:26    -1144.019201        0.011018\n",
      "LBFGS:   40 11:41:31    -1144.019323        0.014474\n",
      "LBFGS:   41 11:41:36    -1144.019369        0.011045\n",
      "LBFGS:   42 11:41:41    -1144.019475        0.009786\n",
      "       Step     Time          Energy          fmax\n",
      "LBFGS:    0 11:41:49     -980.785081       63.280222\n",
      "LBFGS:    1 11:41:54    -1066.351373       17.177037\n",
      "LBFGS:    2 11:41:59    -1109.265920       17.092738\n",
      "LBFGS:    3 11:42:04    -1125.576360       14.365278\n",
      "LBFGS:    4 11:42:09    -1134.446218        6.386372\n",
      "LBFGS:    5 11:42:14    -1137.976095        5.109647\n",
      "LBFGS:    6 11:42:20    -1140.108633        2.825963\n",
      "LBFGS:    7 11:42:25    -1141.602193        1.840395\n",
      "LBFGS:    8 11:42:30    -1142.329290        1.267681\n",
      "LBFGS:    9 11:42:35    -1142.822881        0.677487\n",
      "LBFGS:   10 11:42:40    -1143.115728        0.774936\n",
      "LBFGS:   11 11:42:45    -1143.340002        0.702179\n",
      "LBFGS:   12 11:42:50    -1143.510366        0.623819\n",
      "LBFGS:   13 11:42:55    -1143.626363        0.355114\n",
      "LBFGS:   14 11:43:00    -1143.707632        0.416382\n",
      "LBFGS:   15 11:43:05    -1143.768774        0.322454\n",
      "LBFGS:   16 11:43:10    -1143.814367        0.281143\n",
      "LBFGS:   17 11:43:15    -1143.848287        0.220232\n",
      "LBFGS:   18 11:43:21    -1143.874151        0.187455\n",
      "LBFGS:   19 11:43:26    -1143.894964        0.178280\n",
      "LBFGS:   20 11:43:31    -1143.912633        0.231749\n",
      "LBFGS:   21 11:43:36    -1143.928304        0.155717\n",
      "LBFGS:   22 11:43:41    -1143.942281        0.150192\n",
      "LBFGS:   23 11:43:47    -1143.953847        0.120153\n",
      "LBFGS:   24 11:43:52    -1143.962987        0.117412\n",
      "LBFGS:   25 11:43:57    -1143.970769        0.101697\n",
      "LBFGS:   26 11:44:02    -1143.977758        0.107227\n",
      "LBFGS:   27 11:44:07    -1143.984151        0.097184\n",
      "LBFGS:   28 11:44:12    -1143.989782        0.099223\n",
      "LBFGS:   29 11:44:17    -1143.994359        0.071041\n",
      "LBFGS:   30 11:44:22    -1143.998205        0.074929\n",
      "LBFGS:   31 11:44:27    -1144.001409        0.061915\n",
      "LBFGS:   32 11:44:32    -1144.004003        0.050808\n",
      "LBFGS:   33 11:44:37    -1144.006155        0.051091\n",
      "LBFGS:   34 11:44:43    -1144.007864        0.054949\n",
      "LBFGS:   35 11:44:48    -1144.009466        0.046253\n",
      "LBFGS:   36 11:44:53    -1144.010793        0.034991\n",
      "LBFGS:   37 11:44:58    -1144.011770        0.034465\n",
      "LBFGS:   38 11:45:03    -1144.012655        0.034302\n",
      "LBFGS:   39 11:45:08    -1144.013464        0.032051\n",
      "LBFGS:   40 11:45:13    -1144.014211        0.031602\n",
      "LBFGS:   41 11:45:18    -1144.014928        0.030548\n",
      "LBFGS:   42 11:45:23    -1144.015554        0.025948\n",
      "LBFGS:   43 11:45:28    -1144.016042        0.023042\n",
      "LBFGS:   44 11:45:33    -1144.016485        0.031060\n",
      "LBFGS:   45 11:45:39    -1144.016805        0.028324\n",
      "LBFGS:   46 11:45:44    -1144.017110        0.023672\n",
      "LBFGS:   47 11:45:49    -1144.017431        0.019137\n",
      "LBFGS:   48 11:45:54    -1144.017751        0.022181\n",
      "LBFGS:   49 11:45:59    -1144.018011        0.017335\n",
      "LBFGS:   50 11:46:04    -1144.018224        0.016541\n",
      "LBFGS:   51 11:46:09    -1144.018423        0.014702\n",
      "LBFGS:   52 11:46:14    -1144.018529        0.015237\n",
      "LBFGS:   53 11:46:20    -1144.018758        0.013493\n",
      "LBFGS:   54 11:46:25    -1144.018926        0.013529\n",
      "LBFGS:   55 11:46:30    -1144.019048        0.014027\n",
      "LBFGS:   56 11:46:35    -1144.019140        0.014073\n",
      "LBFGS:   57 11:46:40    -1144.019231        0.011876\n",
      "LBFGS:   58 11:46:45    -1144.019292        0.010270\n",
      "LBFGS:   59 11:46:50    -1144.019369        0.008956\n"
     ]
    },
    {
     "name": "stderr",
     "output_type": "stream",
     "text": [
      "Generating DefectEntry objects: 100.0%|████████████████████████████████████████████████████████████| [00:32,   3.06it/s]\n"
     ]
    },
    {
     "name": "stdout",
     "output_type": "stream",
     "text": [
      "Vacancies    Guessed Charges    Conv. Cell Coords    Wyckoff\n",
      "-----------  -----------------  -------------------  ---------\n",
      "v_Li         [+1,0,-1]          [0.000,0.000,0.000]  3a\n",
      "v_Al         [+1,0,-1,-2,-3]    [0.000,0.000,0.500]  3b\n",
      "v_O          [+2,+1,0,-1]       [0.000,0.000,0.238]  6c\n",
      "\n",
      "Substitutions    Guessed Charges     Conv. Cell Coords    Wyckoff\n",
      "---------------  ------------------  -------------------  ---------\n",
      "Li_Al            [0,-1,-2]           [0.000,0.000,0.500]  3b\n",
      "Li_O             [+3,+2,+1,0]        [0.000,0.000,0.238]  6c\n",
      "Al_Li            [+2,+1,0]           [0.000,0.000,0.000]  3a\n",
      "Al_O             [+5,+4,+3,+2,+1,0]  [0.000,0.000,0.238]  6c\n",
      "O_Li             [0,-1,-2,-3]        [0.000,0.000,0.000]  3a\n",
      "O_Al             [0,-1,-2,-3,-4,-5]  [0.000,0.000,0.500]  3b\n",
      "Cr_Li            [+5,+4,+3,+2,+1,0]  [0.000,0.000,0.000]  3a\n",
      "Cr_Al            [+3,+2,+1,0,-1]     [0.000,0.000,0.500]  3b\n",
      "Cr_O             [+5,+4,+3,+2,+1,0]  [0.000,0.000,0.238]  6c\n",
      "\n",
      "The number in the Wyckoff label is the site multiplicity/degeneracy of that defect in the conventional ('conv.') unit cell, which comprises 3 formula unit(s) of LiAlO2.\n",
      "\n",
      "Oxidation states were not explicitly set, thus have been guessed as {'Li': 1.0, 'Al': 3.0, 'O': -2.0, 'Cr': 3.0}. If this is unreasonable you should manually set oxidation_states\n",
      "Applying ShakeNBreak... Will apply the following bond distortions: ['-0.6', '-0.5', '-0.4', '-0.3', '-0.2', '-0.1', '0.0', '0.1', '0.2', '0.3', '0.4', '0.5', '0.6', 'Dimer (for vacancies)']. Then, will rattle with a std dev of 0.19 Å \n",
      "\n"
     ]
    },
    {
     "name": "stderr",
     "output_type": "stream",
     "text": [
      "Generating distorted defect structures...0.0%|                                                         | [00:00,  ?it/s]"
     ]
    },
    {
     "name": "stdout",
     "output_type": "stream",
     "text": [
      "\u001b[1m\n",
      "Defect: Cr_Al\u001b[0m\n",
      "\u001b[1mNumber of missing electrons in neutral state: 0\u001b[0m\n",
      "\n",
      "Defect Cr_Al in charge state: 0. Number of distorted neighbours: 0\n"
     ]
    },
    {
     "name": "stderr",
     "output_type": "stream",
     "text": [
      "Generating distorted defect structures...100.0%|███████████████████████████████████████████████████| [00:00,   1.31it/s]\n"
     ]
    },
    {
     "name": "stdout",
     "output_type": "stream",
     "text": [
      "       Step     Time          Energy          fmax\n",
      "LBFGS:    0 11:47:28     -688.263277        0.001867\n",
      "       Step     Time          Energy          fmax\n",
      "LBFGS:    0 11:47:34     -688.903038        1.693452\n",
      "LBFGS:    1 11:47:40     -689.100182        1.030938\n",
      "LBFGS:    2 11:47:46     -689.237069        0.216193\n",
      "LBFGS:    3 11:47:52     -689.245095        0.138489\n",
      "LBFGS:    4 11:47:57     -689.250283        0.080497\n",
      "LBFGS:    5 11:48:03     -689.252968        0.060102\n",
      "LBFGS:    6 11:48:09     -689.254433        0.048848\n",
      "LBFGS:    7 11:48:15     -689.255074        0.028129\n",
      "LBFGS:    8 11:48:21     -689.255425        0.020982\n",
      "LBFGS:    9 11:48:27     -689.255776        0.018547\n",
      "LBFGS:   10 11:48:33     -689.256051        0.020992\n",
      "LBFGS:   11 11:48:39     -689.256279        0.013579\n",
      "LBFGS:   12 11:48:45     -689.256432        0.011445\n",
      "LBFGS:   13 11:48:51     -689.256462        0.009499\n",
      "       Step     Time          Energy          fmax\n",
      "LBFGS:    0 11:49:00     -626.821000       15.396258\n",
      "LBFGS:    1 11:49:05     -656.987465        6.702557\n",
      "LBFGS:    2 11:49:11     -675.062828        4.035320\n",
      "LBFGS:    3 11:49:17     -680.734581        2.843328\n",
      "LBFGS:    4 11:49:23     -683.920800        2.024029\n",
      "LBFGS:    5 11:49:29     -686.230385        1.484969\n",
      "LBFGS:    6 11:49:34     -687.281960        1.235599\n",
      "LBFGS:    7 11:49:40     -688.009377        0.962268\n",
      "LBFGS:    8 11:49:46     -688.387856        0.688169\n",
      "LBFGS:    9 11:49:52     -688.640099        0.516449\n",
      "LBFGS:   10 11:49:57     -688.809182        0.535867\n",
      "LBFGS:   11 11:50:03     -688.948265        0.540452\n",
      "LBFGS:   12 11:50:09     -689.045494        0.332850\n",
      "LBFGS:   13 11:50:14     -689.104012        0.239189\n",
      "LBFGS:   14 11:50:20     -689.139672        0.208001\n",
      "LBFGS:   15 11:50:26     -689.167183        0.215634\n",
      "LBFGS:   16 11:50:32     -689.189186        0.169475\n",
      "LBFGS:   17 11:50:38     -689.205529        0.183844\n",
      "LBFGS:   18 11:50:44     -689.217965        0.144012\n",
      "LBFGS:   19 11:50:50     -689.227913        0.122850\n",
      "LBFGS:   20 11:50:56     -689.235344        0.106449\n",
      "LBFGS:   21 11:51:02     -689.240487        0.079354\n",
      "LBFGS:   22 11:51:08     -689.244255        0.077742\n",
      "LBFGS:   23 11:51:14     -689.247216        0.067008\n",
      "LBFGS:   24 11:51:20     -689.249184        0.060771\n",
      "LBFGS:   25 11:51:26     -689.250466        0.041497\n",
      "LBFGS:   26 11:51:32     -689.251503        0.038915\n",
      "LBFGS:   27 11:51:38     -689.252434        0.045237\n",
      "LBFGS:   28 11:51:44     -689.253289        0.046280\n",
      "LBFGS:   29 11:51:50     -689.253991        0.047459\n",
      "LBFGS:   30 11:51:56     -689.254494        0.036716\n",
      "LBFGS:   31 11:52:02     -689.254921        0.024947\n",
      "LBFGS:   32 11:52:08     -689.255150        0.019212\n",
      "LBFGS:   33 11:52:14     -689.255410        0.017608\n",
      "LBFGS:   34 11:52:20     -689.255593        0.017941\n",
      "LBFGS:   35 11:52:26     -689.255761        0.019551\n",
      "LBFGS:   36 11:52:32     -689.255913        0.016845\n",
      "LBFGS:   37 11:52:37     -689.256066        0.013748\n",
      "LBFGS:   38 11:52:43     -689.256249        0.014306\n",
      "LBFGS:   39 11:52:49     -689.256310        0.012311\n",
      "LBFGS:   40 11:52:55     -689.256386        0.008769\n"
     ]
    },
    {
     "name": "stderr",
     "output_type": "stream",
     "text": [
      "Generating DefectEntry objects: 100.0%|████████████████████████████████████████████████████████████| [00:29,   3.44it/s]\n"
     ]
    },
    {
     "name": "stdout",
     "output_type": "stream",
     "text": [
      "Vacancies    Guessed Charges    Conv. Cell Coords    Wyckoff\n",
      "-----------  -----------------  -------------------  ---------\n",
      "v_Al         [+1,0,-1,-2,-3]    [0.500,0.000,0.405]  2b\n",
      "v_Cl         [+1,0,-1]          [0.000,0.000,0.213]  2a\n",
      "v_O          [+2,+1,0,-1]       [0.000,0.000,0.545]  2a\n",
      "\n",
      "Substitutions    Guessed Charges     Conv. Cell Coords    Wyckoff\n",
      "---------------  ------------------  -------------------  ---------\n",
      "Al_Cl            [+4,+3,+2,+1,0]     [0.000,0.000,0.213]  2a\n",
      "Al_O             [+5,+4,+3,+2,+1,0]  [0.000,0.000,0.545]  2a\n",
      "Cl_Al            [0,-1,-2,-3,-4]     [0.500,0.000,0.405]  2b\n",
      "Cl_O             [+1,0]              [0.000,0.000,0.545]  2a\n",
      "O_Al             [0,-1,-2,-3,-4,-5]  [0.500,0.000,0.405]  2b\n",
      "O_Cl             [0,-1]              [0.000,0.000,0.213]  2a\n",
      "Cr_Al            [+3,+2,+1,0,-1]     [0.500,0.000,0.405]  2b\n",
      "Cr_Cl            [+4,+3,+2,+1,0]     [0.000,0.000,0.213]  2a\n",
      "Cr_O             [+5,+4,+3,+2,+1,0]  [0.000,0.000,0.545]  2a\n",
      "\n",
      "The number in the Wyckoff label is the site multiplicity/degeneracy of that defect in the conventional ('conv.') unit cell, which comprises 2 formula unit(s) of AlOCl.\n",
      "\n",
      "Oxidation states were not explicitly set, thus have been guessed as {'Al': 3.0, 'Cl': -1.0, 'O': -2.0, 'Cr': 3.0}. If this is unreasonable you should manually set oxidation_states\n",
      "Applying ShakeNBreak... Will apply the following bond distortions: ['-0.6', '-0.5', '-0.4', '-0.3', '-0.2', '-0.1', '0.0', '0.1', '0.2', '0.3', '0.4', '0.5', '0.6', 'Dimer (for vacancies)']. Then, will rattle with a std dev of 0.19 Å \n",
      "\n"
     ]
    },
    {
     "name": "stderr",
     "output_type": "stream",
     "text": [
      "Generating distorted defect structures...0.0%|                                                         | [00:00,  ?it/s]"
     ]
    },
    {
     "name": "stdout",
     "output_type": "stream",
     "text": [
      "\u001b[1m\n",
      "Defect: Cr_Al\u001b[0m\n",
      "\u001b[1mNumber of missing electrons in neutral state: 0\u001b[0m\n",
      "\n",
      "Defect Cr_Al in charge state: 0. Number of distorted neighbours: 0\n"
     ]
    },
    {
     "name": "stderr",
     "output_type": "stream",
     "text": [
      "Generating distorted defect structures...100.0%|███████████████████████████████████████████████████| [00:00,   2.09it/s]\n"
     ]
    },
    {
     "name": "stdout",
     "output_type": "stream",
     "text": [
      "       Step     Time          Energy          fmax\n",
      "LBFGS:    0 11:53:28     -351.988397        0.000592\n",
      "       Step     Time          Energy          fmax\n",
      "LBFGS:    0 11:53:31     -353.124848        2.179835\n",
      "LBFGS:    1 11:53:33     -353.270584        1.064786\n",
      "LBFGS:    2 11:53:36     -353.347389        0.383142\n",
      "LBFGS:    3 11:53:38     -353.364006        0.294769\n",
      "LBFGS:    4 11:53:40     -353.381867        0.189227\n",
      "LBFGS:    5 11:53:42     -353.386757        0.148433\n",
      "LBFGS:    6 11:53:45     -353.389847        0.099376\n",
      "LBFGS:    7 11:53:47     -353.391594        0.094904\n",
      "LBFGS:    8 11:53:49     -353.393158        0.101088\n",
      "LBFGS:    9 11:53:52     -353.394089        0.067521\n",
      "LBFGS:   10 11:53:54     -353.394669        0.035103\n",
      "LBFGS:   11 11:53:56     -353.395088        0.042211\n",
      "LBFGS:   12 11:53:58     -353.395546        0.036952\n",
      "LBFGS:   13 11:54:01     -353.395958        0.037965\n",
      "LBFGS:   14 11:54:03     -353.396370        0.031337\n",
      "LBFGS:   15 11:54:05     -353.396721        0.023833\n",
      "LBFGS:   16 11:54:07     -353.396935        0.020245\n",
      "LBFGS:   17 11:54:09     -353.397087        0.021720\n",
      "LBFGS:   18 11:54:12     -353.397217        0.015581\n",
      "LBFGS:   19 11:54:14     -353.397354        0.017927\n",
      "LBFGS:   20 11:54:16     -353.397446        0.015360\n",
      "LBFGS:   21 11:54:19     -353.397545        0.015213\n",
      "LBFGS:   22 11:54:21     -353.397614        0.011903\n",
      "LBFGS:   23 11:54:23     -353.397667        0.011683\n",
      "LBFGS:   24 11:54:26     -353.397713        0.011635\n",
      "LBFGS:   25 11:54:28     -353.397759        0.010451\n",
      "LBFGS:   26 11:54:31     -353.397781        0.010592\n",
      "LBFGS:   27 11:54:33     -353.397804        0.008350\n",
      "       Step     Time          Energy          fmax\n",
      "LBFGS:    0 11:54:37     -316.171608       16.260797\n",
      "LBFGS:    1 11:54:39     -335.597405        7.290881\n",
      "LBFGS:    2 11:54:41     -346.258118        2.826886\n",
      "LBFGS:    3 11:54:43     -349.453980        2.141050\n",
      "LBFGS:    4 11:54:46     -350.543396        1.716921\n",
      "LBFGS:    5 11:54:48     -351.632721        1.285209\n",
      "LBFGS:    6 11:54:50     -352.093804        0.946558\n",
      "LBFGS:    7 11:54:52     -352.513886        0.916730\n",
      "LBFGS:    8 11:54:54     -352.801010        0.791394\n",
      "LBFGS:    9 11:54:57     -353.001778        0.715235\n",
      "LBFGS:   10 11:54:59     -353.111412        0.464570\n",
      "LBFGS:   11 11:55:01     -353.183029        0.429864\n",
      "LBFGS:   12 11:55:04     -353.242310        0.354588\n",
      "LBFGS:   13 11:55:06     -353.288391        0.323761\n",
      "LBFGS:   14 11:55:09     -353.321152        0.269506\n",
      "LBFGS:   15 11:55:11     -353.343613        0.201200\n",
      "LBFGS:   16 11:55:13     -353.358872        0.215140\n",
      "LBFGS:   17 11:55:16     -353.369805        0.180288\n",
      "LBFGS:   18 11:55:18     -353.377670        0.143284\n",
      "LBFGS:   19 11:55:20     -353.383415        0.143436\n",
      "LBFGS:   20 11:55:23     -353.387467        0.134900\n",
      "LBFGS:   21 11:55:25     -353.390312        0.089449\n",
      "LBFGS:   22 11:55:27     -353.392342        0.066912\n",
      "LBFGS:   23 11:55:30     -353.393814        0.067509\n",
      "LBFGS:   24 11:55:32     -353.394859        0.054943\n",
      "LBFGS:   25 11:55:34     -353.395607        0.044140\n",
      "LBFGS:   26 11:55:36     -353.396126        0.036633\n",
      "LBFGS:   27 11:55:38     -353.396523        0.032671\n",
      "LBFGS:   28 11:55:41     -353.396813        0.027676\n",
      "LBFGS:   29 11:55:43     -353.397102        0.024293\n",
      "LBFGS:   30 11:55:45     -353.397255        0.020155\n",
      "LBFGS:   31 11:55:47     -353.397392        0.017743\n",
      "LBFGS:   32 11:55:50     -353.397514        0.013818\n",
      "LBFGS:   33 11:55:52     -353.397614        0.012827\n",
      "LBFGS:   34 11:55:54     -353.397637        0.010478\n",
      "LBFGS:   35 11:55:57     -353.397713        0.010380\n",
      "LBFGS:   36 11:55:59     -353.397766        0.011968\n",
      "LBFGS:   37 11:56:01     -353.397781        0.008733\n"
     ]
    },
    {
     "name": "stderr",
     "output_type": "stream",
     "text": [
      "Generating DefectEntry objects: 100.0%|████████████████████████████████████████████████████████████| [00:41,   2.41it/s]\n"
     ]
    },
    {
     "name": "stdout",
     "output_type": "stream",
     "text": [
      "Vacancies    Guessed Charges    Conv. Cell Coords    Wyckoff\n",
      "-----------  -----------------  -------------------  ---------\n",
      "v_Sm         [+1,0,-1,-2,-3]    [0.491,0.750,0.036]  4c\n",
      "v_Al         [+1,0,-1,-2,-3]    [0.000,0.000,0.000]  4a\n",
      "v_O_C1       [+2,+1,0,-1]       [0.219,0.538,0.282]  8d\n",
      "v_O_Cs       [+2,+1,0,-1]       [0.072,0.250,0.013]  4c\n",
      "\n",
      "Substitutions    Guessed Charges     Conv. Cell Coords    Wyckoff\n",
      "---------------  ------------------  -------------------  ---------\n",
      "Sm_Al            [+1,0,-1]           [0.000,0.000,0.000]  4a\n",
      "Sm_O_C1          [+5,+4,+3,+2,+1,0]  [0.219,0.538,0.282]  8d\n",
      "Sm_O_Cs          [+5,+4,+3,+2,+1,0]  [0.072,0.250,0.013]  4c\n",
      "Al_Sm            [+1,0,-1]           [0.491,0.750,0.036]  4c\n",
      "Al_O_C1          [+5,+4,+3,+2,+1,0]  [0.219,0.538,0.282]  8d\n",
      "Al_O_Cs          [+5,+4,+3,+2,+1,0]  [0.072,0.250,0.013]  4c\n",
      "O_Sm             [0,-1,-2,-3,-4,-5]  [0.491,0.750,0.036]  4c\n",
      "O_Al             [0,-1,-2,-3,-4,-5]  [0.000,0.000,0.000]  4a\n",
      "Cr_Sm            [+3,+2,+1,0,-1]     [0.491,0.750,0.036]  4c\n",
      "Cr_Al            [+3,+2,+1,0,-1]     [0.000,0.000,0.000]  4a\n",
      "Cr_O_C1          [+5,+4,+3,+2,+1,0]  [0.219,0.538,0.282]  8d\n",
      "Cr_O_Cs          [+5,+4,+3,+2,+1,0]  [0.072,0.250,0.013]  4c\n",
      "\n",
      "The number in the Wyckoff label is the site multiplicity/degeneracy of that defect in the conventional ('conv.') unit cell, which comprises 4 formula unit(s) of SmAlO3.\n",
      "\n",
      "Oxidation states were not explicitly set, thus have been guessed as {'Sm': 3.0, 'Al': 3.0, 'O': -2.0, 'Cr': 3.0}. If this is unreasonable you should manually set oxidation_states\n",
      "Applying ShakeNBreak... Will apply the following bond distortions: ['-0.6', '-0.5', '-0.4', '-0.3', '-0.2', '-0.1', '0.0', '0.1', '0.2', '0.3', '0.4', '0.5', '0.6', 'Dimer (for vacancies)']. Then, will rattle with a std dev of 0.19 Å \n",
      "\n"
     ]
    },
    {
     "name": "stderr",
     "output_type": "stream",
     "text": [
      "Generating distorted defect structures...0.0%|                                                         | [00:00,  ?it/s]"
     ]
    },
    {
     "name": "stdout",
     "output_type": "stream",
     "text": [
      "\u001b[1m\n",
      "Defect: Cr_Al\u001b[0m\n",
      "\u001b[1mNumber of missing electrons in neutral state: 0\u001b[0m\n",
      "\n",
      "Defect Cr_Al in charge state: 0. Number of distorted neighbours: 0\n"
     ]
    },
    {
     "name": "stderr",
     "output_type": "stream",
     "text": [
      "Generating distorted defect structures...100.0%|███████████████████████████████████████████████████| [00:00,   2.32it/s]\n"
     ]
    },
    {
     "name": "stdout",
     "output_type": "stream",
     "text": [
      "       Step     Time          Energy          fmax\n",
      "LBFGS:    0 11:56:45     -634.784229        0.008149\n",
      "       Step     Time          Energy          fmax\n",
      "LBFGS:    0 11:56:49     -635.443948        1.687027\n",
      "LBFGS:    1 11:56:53     -635.618677        0.923087\n",
      "LBFGS:    2 11:56:57     -635.708734        0.236160\n",
      "LBFGS:    3 11:57:01     -635.719446        0.166736\n",
      "LBFGS:    4 11:57:04     -635.732614        0.131197\n",
      "LBFGS:    5 11:57:08     -635.736490        0.095743\n",
      "LBFGS:    6 11:57:12     -635.739847        0.068554\n",
      "LBFGS:    7 11:57:16     -635.741632        0.049313\n",
      "LBFGS:    8 11:57:20     -635.743417        0.044865\n",
      "LBFGS:    9 11:57:24     -635.745020        0.048004\n",
      "LBFGS:   10 11:57:28     -635.746301        0.042849\n",
      "LBFGS:   11 11:57:32     -635.747034        0.028761\n",
      "LBFGS:   12 11:57:36     -635.747431        0.023698\n",
      "LBFGS:   13 11:57:39     -635.747690        0.020611\n",
      "LBFGS:   14 11:57:43     -635.748026        0.020409\n",
      "LBFGS:   15 11:57:47     -635.748163        0.015894\n",
      "LBFGS:   16 11:57:51     -635.748331        0.010871\n",
      "LBFGS:   17 11:57:55     -635.748392        0.010614\n",
      "LBFGS:   18 11:57:59     -635.748468        0.009692\n",
      "       Step     Time          Energy          fmax\n",
      "LBFGS:    0 11:58:04     -571.399652       20.369118\n",
      "LBFGS:    1 11:58:08     -601.901926        8.067005\n",
      "LBFGS:    2 11:58:12     -622.632059        4.418053\n",
      "LBFGS:    3 11:58:16     -629.744013        3.166477\n",
      "LBFGS:    4 11:58:20     -632.111582        2.112410\n",
      "LBFGS:    5 11:58:24     -633.618234        1.382603\n",
      "LBFGS:    6 11:58:27     -634.458658        1.000315\n",
      "LBFGS:    7 11:58:31     -634.893106        0.833499\n",
      "LBFGS:    8 11:58:35     -635.180597        0.694817\n",
      "LBFGS:    9 11:58:39     -635.383981        0.553230\n",
      "LBFGS:   10 11:58:43     -635.500498        0.461038\n",
      "LBFGS:   11 11:58:47     -635.576242        0.337738\n",
      "LBFGS:   12 11:58:51     -635.628153        0.289050\n",
      "LBFGS:   13 11:58:55     -635.661646        0.261683\n",
      "LBFGS:   14 11:58:59     -635.684351        0.187512\n",
      "LBFGS:   15 11:59:03     -635.702020        0.165291\n",
      "LBFGS:   16 11:59:06     -635.715341        0.134355\n",
      "LBFGS:   17 11:59:11     -635.724329        0.140507\n",
      "LBFGS:   18 11:59:14     -635.730692        0.091554\n",
      "LBFGS:   19 11:59:18     -635.735742        0.089618\n",
      "LBFGS:   20 11:59:22     -635.739740        0.074334\n",
      "LBFGS:   21 11:59:26     -635.742517        0.070285\n",
      "LBFGS:   22 11:59:30     -635.744348        0.056234\n",
      "LBFGS:   23 11:59:34     -635.745722        0.043948\n",
      "LBFGS:   24 11:59:38     -635.746668        0.034354\n",
      "LBFGS:   25 11:59:42     -635.747263        0.028003\n",
      "LBFGS:   26 11:59:46     -635.747629        0.025016\n",
      "LBFGS:   27 11:59:50     -635.747965        0.019850\n",
      "LBFGS:   28 11:59:53     -635.748117        0.015987\n",
      "LBFGS:   29 11:59:57     -635.748224        0.014841\n",
      "LBFGS:   30 12:00:01     -635.748316        0.012184\n",
      "LBFGS:   31 12:00:05     -635.748392        0.010495\n",
      "LBFGS:   32 12:00:09     -635.748422        0.007997\n"
     ]
    },
    {
     "name": "stderr",
     "output_type": "stream",
     "text": [
      "Generating DefectEntry objects: 100.0%|████████████████████████████████████████████████████████████| [00:43,   2.29it/s]\n"
     ]
    },
    {
     "name": "stdout",
     "output_type": "stream",
     "text": [
      "Vacancies       Guessed Charges        Conv. Cell Coords    Wyckoff\n",
      "--------------  ---------------------  -------------------  ---------\n",
      "v_Al            [+1,0,-1,-2,-3]        [0.000,0.000,0.000]  2a\n",
      "v_W             [+1,0,-1,-2,-3,-4,-5]  [0.000,0.500,0.500]  2c\n",
      "v_O_C2v_Al1.89  [+2,+1,0,-1]           [0.000,0.294,0.000]  4i\n",
      "v_O_C2v_W1.95   [+2,+1,0,-1]           [0.305,0.500,0.500]  4h\n",
      "\n",
      "Substitutions    Guessed Charges              Conv. Cell Coords    Wyckoff\n",
      "---------------  ---------------------------  -------------------  ---------\n",
      "Al_O_C2v_Al1.89  [+5,+4,+3,+2,+1,0]           [0.000,0.294,0.000]  4i\n",
      "Al_W             [0,-1,-2]                    [0.000,0.500,0.500]  2c\n",
      "Al_O_C2v_W1.95   [+5,+4,+3,+2,+1,0]           [0.305,0.500,0.500]  4h\n",
      "W_Al             [+3,+2,+1,0,-1]              [0.000,0.000,0.000]  2a\n",
      "W_O_C2v_Al1.89   [+8,+7,+6,+5,+4,+3,+2,+1,0]  [0.000,0.294,0.000]  4i\n",
      "W_O_C2v_W1.95    [+8,+7,+6,+5,+4,+3,+2,+1,0]  [0.305,0.500,0.500]  4h\n",
      "O_Al             [0,-1,-2,-3,-4,-5]           [0.000,0.000,0.000]  2a\n",
      "O_W              [0,-1,-2,-3,-4,-5,-6,-7]     [0.000,0.500,0.500]  2c\n",
      "Cr_Al            [+3,+2,+1,0,-1]              [0.000,0.000,0.000]  2a\n",
      "Cr_W             [+1,0,-1,-2,-3]              [0.000,0.500,0.500]  2c\n",
      "Cr_O_C2v_Al1.89  [+8,+7,+6,+5,+4,+3,+2,+1,0]  [0.000,0.294,0.000]  4i\n",
      "Cr_O_C2v_W1.95   [+8,+7,+6,+5,+4,+3,+2,+1,0]  [0.305,0.500,0.500]  4h\n",
      "\n",
      "The number in the Wyckoff label is the site multiplicity/degeneracy of that defect in the conventional ('conv.') unit cell, which comprises 2 formula unit(s) of WAlO4.\n",
      "\n",
      "Oxidation states were not explicitly set, thus have been guessed as {'Al': 3.0, 'W': 5.0, 'O': -2.0, 'Cr': 3.0}. If this is unreasonable you should manually set oxidation_states\n",
      "Applying ShakeNBreak... Will apply the following bond distortions: ['-0.6', '-0.5', '-0.4', '-0.3', '-0.2', '-0.1', '0.0', '0.1', '0.2', '0.3', '0.4', '0.5', '0.6', 'Dimer (for vacancies)']. Then, will rattle with a std dev of 0.19 Å \n",
      "\n"
     ]
    },
    {
     "name": "stderr",
     "output_type": "stream",
     "text": [
      "Generating distorted defect structures...0.0%|                                                         | [00:00,  ?it/s]"
     ]
    },
    {
     "name": "stdout",
     "output_type": "stream",
     "text": [
      "\u001b[1m\n",
      "Defect: Cr_Al\u001b[0m\n",
      "\u001b[1mNumber of missing electrons in neutral state: 0\u001b[0m\n",
      "\n",
      "Defect Cr_Al in charge state: 0. Number of distorted neighbours: 0\n"
     ]
    },
    {
     "name": "stderr",
     "output_type": "stream",
     "text": [
      "Generating distorted defect structures...100.0%|███████████████████████████████████████████████████| [00:00,   1.59it/s]\n"
     ]
    },
    {
     "name": "stdout",
     "output_type": "stream",
     "text": [
      "       Step     Time          Energy          fmax\n",
      "LBFGS:    0 12:00:56     -634.132811        0.001249\n",
      "       Step     Time          Energy          fmax\n",
      "LBFGS:    0 12:01:00     -635.135197        1.882383\n",
      "LBFGS:    1 12:01:05     -635.264509        0.936362\n",
      "LBFGS:    2 12:01:09     -635.360420        0.311136\n",
      "LBFGS:    3 12:01:13     -635.380047        0.256638\n",
      "LBFGS:    4 12:01:18     -635.396368        0.211474\n",
      "LBFGS:    5 12:01:22     -635.402889        0.081698\n",
      "LBFGS:    6 12:01:26     -635.406327        0.064067\n",
      "LBFGS:    7 12:01:30     -635.407950        0.068966\n",
      "LBFGS:    8 12:01:35     -635.409174        0.058948\n",
      "LBFGS:    9 12:01:39     -635.410059        0.033216\n",
      "LBFGS:   10 12:01:43     -635.410675        0.028796\n",
      "LBFGS:   11 12:01:47     -635.411047        0.023216\n",
      "LBFGS:   12 12:01:51     -635.411289        0.018680\n",
      "LBFGS:   13 12:01:56     -635.411427        0.014682\n",
      "LBFGS:   14 12:02:00     -635.411520        0.010967\n",
      "LBFGS:   15 12:02:04     -635.411579        0.009156\n",
      "       Step     Time          Energy          fmax\n",
      "LBFGS:    0 12:02:10     -566.955078       33.502226\n",
      "LBFGS:    1 12:02:14     -593.150587       10.079652\n",
      "LBFGS:    2 12:02:19     -615.981354        6.101603\n",
      "LBFGS:    3 12:02:23     -625.402378        5.770644\n",
      "LBFGS:    4 12:02:27     -629.000691        3.180689\n",
      "LBFGS:    5 12:02:32     -632.067520        1.672456\n",
      "LBFGS:    6 12:02:36     -633.131510        1.442850\n",
      "LBFGS:    7 12:02:40     -634.145350        1.100470\n",
      "LBFGS:    8 12:02:44     -634.609627        0.846708\n",
      "LBFGS:    9 12:02:48     -634.904862        0.649593\n",
      "LBFGS:   10 12:02:52     -635.058098        0.459637\n",
      "LBFGS:   11 12:02:57     -635.179510        0.500095\n",
      "LBFGS:   12 12:03:01     -635.255627        0.367318\n",
      "LBFGS:   13 12:03:05     -635.308378        0.279316\n",
      "LBFGS:   14 12:03:10     -635.340946        0.198395\n",
      "LBFGS:   15 12:03:14     -635.361546        0.173006\n",
      "LBFGS:   16 12:03:18     -635.376185        0.141328\n",
      "LBFGS:   17 12:03:23     -635.386883        0.140540\n",
      "LBFGS:   18 12:03:27     -635.394257        0.105975\n",
      "LBFGS:   19 12:03:31     -635.399451        0.079297\n",
      "LBFGS:   20 12:03:35     -635.403155        0.076276\n",
      "LBFGS:   21 12:03:40     -635.405781        0.077365\n",
      "LBFGS:   22 12:03:44     -635.407513        0.054177\n",
      "LBFGS:   23 12:03:48     -635.408732        0.039161\n",
      "LBFGS:   24 12:03:52     -635.409691        0.036232\n",
      "LBFGS:   25 12:03:56     -635.410349        0.031876\n",
      "LBFGS:   26 12:04:01     -635.410801        0.022821\n",
      "LBFGS:   27 12:04:05     -635.411087        0.020702\n",
      "LBFGS:   28 12:04:09     -635.411316        0.016272\n",
      "LBFGS:   29 12:04:13     -635.411471        0.012306\n",
      "LBFGS:   30 12:04:17     -635.411541        0.011127\n",
      "LBFGS:   31 12:04:21     -635.411585        0.011332\n",
      "LBFGS:   32 12:04:26     -635.411614        0.007748\n"
     ]
    },
    {
     "name": "stderr",
     "output_type": "stream",
     "text": [
      "Generating DefectEntry objects: 100.0%|████████████████████████████████████████████████████████████| [02:10,   1.31s/it]\n"
     ]
    },
    {
     "name": "stdout",
     "output_type": "stream",
     "text": [
      "Vacancies                 Guessed Charges        Conv. Cell Coords    Wyckoff\n",
      "------------------------  ---------------------  -------------------  ---------\n",
      "v_K_C1_O2.80O2.88O2.92    [+1,0,-1]              [0.319,0.682,0.191]  2a\n",
      "v_K_C1_O2.80O2.88O2.93    [+1,0,-1]              [0.682,0.318,0.309]  2a\n",
      "v_Al_C1_O1.87O1.90O1.94   [+1,0,-1,-2,-3]        [0.261,0.400,0.491]  2a\n",
      "v_Al_C1_O1.87O1.90O1.95   [+1,0,-1,-2,-3]        [0.739,0.600,0.009]  2a\n",
      "v_P_C1_O1.50O1.53O1.63a   [+1,0,-1,-2,-3,-4,-5]  [0.374,0.098,0.419]  2a\n",
      "v_P_C1_O1.50O1.53O1.63b   [+1,0,-1,-2,-3,-4,-5]  [0.374,0.403,0.919]  2a\n",
      "v_P_C1_O1.52O1.64P2.89a   [+1,0,-1,-2,-3,-4,-5]  [0.066,0.369,0.062]  2a\n",
      "v_P_C1_O1.52O1.64P2.89b   [+1,0,-1,-2,-3,-4,-5]  [0.067,0.131,0.562]  2a\n",
      "v_O_C1_P1.50Al1.87O2.52a  [+2,+1,0,-1]           [0.350,0.092,0.230]  2a\n",
      "v_O_C1_P1.50Al1.87O2.52b  [+2,+1,0,-1]           [0.350,0.407,0.730]  2a\n",
      "v_O_C1_P1.52Al1.90O2.51a  [+2,+1,0,-1]           [0.177,0.396,0.247]  2a\n",
      "v_O_C1_P1.52Al1.90O2.51b  [+2,+1,0,-1]           [0.177,0.104,0.747]  2a\n",
      "v_O_C1_P1.53Al1.92O2.49a  [+2,+1,0,-1]           [0.523,0.500,0.025]  2a\n",
      "v_O_C1_P1.53Al1.92O2.49b  [+2,+1,0,-1]           [0.524,0.000,0.526]  2a\n",
      "v_O_C1_P1.53Al1.92O2.51a  [+2,+1,0,-1]           [0.130,0.569,0.489]  2a\n",
      "v_O_C1_P1.53Al1.92O2.51b  [+2,+1,0,-1]           [0.870,0.431,0.011]  2a\n",
      "v_O_C1_P1.54Al1.92O2.49a  [+2,+1,0,-1]           [0.415,0.242,0.495]  2a\n",
      "v_O_C1_P1.54Al1.92O2.49b  [+2,+1,0,-1]           [0.585,0.759,0.005]  2a\n",
      "v_O_C1_P1.54Al1.94        [+2,+1,0,-1]           [0.058,0.281,0.505]  2a\n",
      "v_O_C1_P1.54Al1.95        [+2,+1,0,-1]           [0.057,0.219,0.004]  2a\n",
      "v_O_C1_P1.63O2.51O2.55a   [+2,+1,0,-1]           [0.178,0.047,0.448]  2a\n",
      "v_O_C1_P1.63O2.51O2.55b   [+2,+1,0,-1]           [0.178,0.453,0.948]  2a\n",
      "\n",
      "Substitutions              Guessed Charges              Conv. Cell Coords    Wyckoff\n",
      "-------------------------  ---------------------------  -------------------  ---------\n",
      "K_Al_C1_O1.87O1.90O1.94    [0,-1,-2]                    [0.261,0.400,0.491]  2a\n",
      "K_Al_C1_O1.87O1.90O1.95    [0,-1,-2]                    [0.739,0.600,0.009]  2a\n",
      "K_P_C1_O1.50O1.53O1.63a    [0,-1,-2,-3,-4]              [0.374,0.098,0.419]  2a\n",
      "K_P_C1_O1.50O1.53O1.63b    [0,-1,-2,-3,-4]              [0.374,0.403,0.919]  2a\n",
      "K_P_C1_O1.52O1.64P2.89a    [0,-1,-2,-3,-4]              [0.066,0.369,0.062]  2a\n",
      "K_P_C1_O1.52O1.64P2.89b    [0,-1,-2,-3,-4]              [0.067,0.131,0.562]  2a\n",
      "K_O_C1_P1.50Al1.87O2.52a   [+3,+2,+1,0]                 [0.350,0.092,0.230]  2a\n",
      "K_O_C1_P1.50Al1.87O2.52b   [+3,+2,+1,0]                 [0.350,0.407,0.730]  2a\n",
      "K_O_C1_P1.52Al1.90O2.51a   [+3,+2,+1,0]                 [0.177,0.396,0.247]  2a\n",
      "K_O_C1_P1.52Al1.90O2.51b   [+3,+2,+1,0]                 [0.177,0.104,0.747]  2a\n",
      "K_O_C1_P1.53Al1.92O2.49a   [+3,+2,+1,0]                 [0.523,0.500,0.025]  2a\n",
      "K_O_C1_P1.53Al1.92O2.49b   [+3,+2,+1,0]                 [0.524,0.000,0.526]  2a\n",
      "K_O_C1_P1.53Al1.92O2.51a   [+3,+2,+1,0]                 [0.130,0.569,0.489]  2a\n",
      "K_O_C1_P1.53Al1.92O2.51b   [+3,+2,+1,0]                 [0.870,0.431,0.011]  2a\n",
      "K_O_C1_P1.54Al1.92O2.49a   [+3,+2,+1,0]                 [0.415,0.242,0.495]  2a\n",
      "K_O_C1_P1.54Al1.92O2.49b   [+3,+2,+1,0]                 [0.585,0.759,0.005]  2a\n",
      "K_O_C1_P1.54Al1.94         [+3,+2,+1,0]                 [0.058,0.281,0.505]  2a\n",
      "K_O_C1_P1.54Al1.95         [+3,+2,+1,0]                 [0.057,0.219,0.004]  2a\n",
      "K_O_C1_P1.63O2.51O2.55a    [+3,+2,+1,0]                 [0.178,0.047,0.448]  2a\n",
      "K_O_C1_P1.63O2.51O2.55b    [+3,+2,+1,0]                 [0.178,0.453,0.948]  2a\n",
      "Al_K_C1_O2.80O2.88O2.92    [+2,+1,0]                    [0.319,0.682,0.191]  2a\n",
      "Al_K_C1_O2.80O2.88O2.93    [+2,+1,0]                    [0.682,0.318,0.309]  2a\n",
      "Al_P_C1_O1.50O1.53O1.63a   [0,-1,-2]                    [0.374,0.098,0.419]  2a\n",
      "Al_P_C1_O1.50O1.53O1.63b   [0,-1,-2]                    [0.374,0.403,0.919]  2a\n",
      "Al_P_C1_O1.52O1.64P2.89a   [0,-1,-2]                    [0.066,0.369,0.062]  2a\n",
      "Al_P_C1_O1.52O1.64P2.89b   [0,-1,-2]                    [0.067,0.131,0.562]  2a\n",
      "Al_O_C1_P1.50Al1.87O2.52a  [+5,+4,+3,+2,+1,0]           [0.350,0.092,0.230]  2a\n",
      "Al_O_C1_P1.50Al1.87O2.52b  [+5,+4,+3,+2,+1,0]           [0.350,0.407,0.730]  2a\n",
      "Al_O_C1_P1.52Al1.90O2.51a  [+5,+4,+3,+2,+1,0]           [0.177,0.396,0.247]  2a\n",
      "Al_O_C1_P1.52Al1.90O2.51b  [+5,+4,+3,+2,+1,0]           [0.177,0.104,0.747]  2a\n",
      "Al_O_C1_P1.53Al1.92O2.49a  [+5,+4,+3,+2,+1,0]           [0.523,0.500,0.025]  2a\n",
      "Al_O_C1_P1.53Al1.92O2.49b  [+5,+4,+3,+2,+1,0]           [0.524,0.000,0.526]  2a\n",
      "Al_O_C1_P1.53Al1.92O2.51a  [+5,+4,+3,+2,+1,0]           [0.130,0.569,0.489]  2a\n",
      "Al_O_C1_P1.53Al1.92O2.51b  [+5,+4,+3,+2,+1,0]           [0.870,0.431,0.011]  2a\n",
      "Al_O_C1_P1.54Al1.92O2.49a  [+5,+4,+3,+2,+1,0]           [0.415,0.242,0.495]  2a\n",
      "Al_O_C1_P1.54Al1.92O2.49b  [+5,+4,+3,+2,+1,0]           [0.585,0.759,0.005]  2a\n",
      "Al_O_C1_P1.54Al1.94        [+5,+4,+3,+2,+1,0]           [0.058,0.281,0.505]  2a\n",
      "Al_O_C1_P1.54Al1.95        [+5,+4,+3,+2,+1,0]           [0.057,0.219,0.004]  2a\n",
      "Al_O_C1_P1.63O2.51O2.55a   [+5,+4,+3,+2,+1,0]           [0.178,0.047,0.448]  2a\n",
      "Al_O_C1_P1.63O2.51O2.55b   [+5,+4,+3,+2,+1,0]           [0.178,0.453,0.948]  2a\n",
      "P_K_C1_O2.80O2.88O2.92     [+4,+3,+2,+1,0,-1,-2,-3,-4]  [0.319,0.682,0.191]  2a\n",
      "P_K_C1_O2.80O2.88O2.93     [+4,+3,+2,+1,0,-1,-2,-3,-4]  [0.682,0.318,0.309]  2a\n",
      "P_Al_C1_O1.87O1.90O1.94    [+2,+1,0,-1,-2,-3,-4,-5,-6]  [0.261,0.400,0.491]  2a\n",
      "P_Al_C1_O1.87O1.90O1.95    [+2,+1,0,-1,-2,-3,-4,-5,-6]  [0.739,0.600,0.009]  2a\n",
      "P_O_C1_P1.50Al1.87O2.52a   [+7,+6,+5,+4,+3,+2,+1,0,-1]  [0.350,0.092,0.230]  2a\n",
      "P_O_C1_P1.50Al1.87O2.52b   [+7,+6,+5,+4,+3,+2,+1,0,-1]  [0.350,0.407,0.730]  2a\n",
      "P_O_C1_P1.52Al1.90O2.51a   [+7,+6,+5,+4,+3,+2,+1,0,-1]  [0.177,0.396,0.247]  2a\n",
      "P_O_C1_P1.52Al1.90O2.51b   [+7,+6,+5,+4,+3,+2,+1,0,-1]  [0.177,0.104,0.747]  2a\n",
      "P_O_C1_P1.53Al1.92O2.49a   [+7,+6,+5,+4,+3,+2,+1,0,-1]  [0.523,0.500,0.025]  2a\n",
      "P_O_C1_P1.53Al1.92O2.49b   [+7,+6,+5,+4,+3,+2,+1,0,-1]  [0.524,0.000,0.526]  2a\n",
      "P_O_C1_P1.53Al1.92O2.51a   [+7,+6,+5,+4,+3,+2,+1,0,-1]  [0.130,0.569,0.489]  2a\n",
      "P_O_C1_P1.53Al1.92O2.51b   [+7,+6,+5,+4,+3,+2,+1,0,-1]  [0.870,0.431,0.011]  2a\n",
      "P_O_C1_P1.54Al1.92O2.49a   [+7,+6,+5,+4,+3,+2,+1,0,-1]  [0.415,0.242,0.495]  2a\n",
      "P_O_C1_P1.54Al1.92O2.49b   [+7,+6,+5,+4,+3,+2,+1,0,-1]  [0.585,0.759,0.005]  2a\n",
      "P_O_C1_P1.54Al1.94         [+7,+6,+5,+4,+3,+2,+1,0,-1]  [0.058,0.281,0.505]  2a\n",
      "P_O_C1_P1.54Al1.95         [+7,+6,+5,+4,+3,+2,+1,0,-1]  [0.057,0.219,0.004]  2a\n",
      "P_O_C1_P1.63O2.51O2.55a    [+7,+6,+5,+4,+3,+2,+1,0,-1]  [0.178,0.047,0.448]  2a\n",
      "P_O_C1_P1.63O2.51O2.55b    [+7,+6,+5,+4,+3,+2,+1,0,-1]  [0.178,0.453,0.948]  2a\n",
      "O_K_C1_O2.80O2.88O2.92     [0,-1,-2,-3]                 [0.319,0.682,0.191]  2a\n",
      "O_K_C1_O2.80O2.88O2.93     [0,-1,-2,-3]                 [0.682,0.318,0.309]  2a\n",
      "O_Al_C1_O1.87O1.90O1.94    [0,-1,-2,-3,-4,-5]           [0.261,0.400,0.491]  2a\n",
      "O_Al_C1_O1.87O1.90O1.95    [0,-1,-2,-3,-4,-5]           [0.739,0.600,0.009]  2a\n",
      "O_P_C1_O1.50O1.53O1.63a    [0,-1,-2,-3,-4,-5,-6,-7]     [0.374,0.098,0.419]  2a\n",
      "O_P_C1_O1.50O1.53O1.63b    [0,-1,-2,-3,-4,-5,-6,-7]     [0.374,0.403,0.919]  2a\n",
      "O_P_C1_O1.52O1.64P2.89a    [0,-1,-2,-3,-4,-5,-6,-7]     [0.066,0.369,0.062]  2a\n",
      "O_P_C1_O1.52O1.64P2.89b    [0,-1,-2,-3,-4,-5,-6,-7]     [0.067,0.131,0.562]  2a\n",
      "Cr_K_C1_O2.80O2.88O2.92    [+5,+4,+3,+2,+1,0]           [0.319,0.682,0.191]  2a\n",
      "Cr_K_C1_O2.80O2.88O2.93    [+5,+4,+3,+2,+1,0]           [0.682,0.318,0.309]  2a\n",
      "Cr_Al_C1_O1.87O1.90O1.94   [+3,+2,+1,0,-1]              [0.261,0.400,0.491]  2a\n",
      "Cr_Al_C1_O1.87O1.90O1.95   [+3,+2,+1,0,-1]              [0.739,0.600,0.009]  2a\n",
      "Cr_P_C1_O1.50O1.53O1.63a   [+1,0,-1,-2,-3]              [0.374,0.098,0.419]  2a\n",
      "Cr_P_C1_O1.50O1.53O1.63b   [+1,0,-1,-2,-3]              [0.374,0.403,0.919]  2a\n",
      "Cr_P_C1_O1.52O1.64P2.89a   [+1,0,-1,-2,-3]              [0.066,0.369,0.062]  2a\n",
      "Cr_P_C1_O1.52O1.64P2.89b   [+1,0,-1,-2,-3]              [0.067,0.131,0.562]  2a\n",
      "Cr_O_C1_P1.50Al1.87O2.52a  [+8,+7,+6,+5,+4,+3,+2,+1,0]  [0.350,0.092,0.230]  2a\n",
      "Cr_O_C1_P1.50Al1.87O2.52b  [+8,+7,+6,+5,+4,+3,+2,+1,0]  [0.350,0.407,0.730]  2a\n",
      "Cr_O_C1_P1.52Al1.90O2.51a  [+8,+7,+6,+5,+4,+3,+2,+1,0]  [0.177,0.396,0.247]  2a\n",
      "Cr_O_C1_P1.52Al1.90O2.51b  [+8,+7,+6,+5,+4,+3,+2,+1,0]  [0.177,0.104,0.747]  2a\n",
      "Cr_O_C1_P1.53Al1.92O2.49a  [+8,+7,+6,+5,+4,+3,+2,+1,0]  [0.523,0.500,0.025]  2a\n",
      "Cr_O_C1_P1.53Al1.92O2.49b  [+8,+7,+6,+5,+4,+3,+2,+1,0]  [0.524,0.000,0.526]  2a\n",
      "Cr_O_C1_P1.53Al1.92O2.51a  [+8,+7,+6,+5,+4,+3,+2,+1,0]  [0.130,0.569,0.489]  2a\n",
      "Cr_O_C1_P1.53Al1.92O2.51b  [+8,+7,+6,+5,+4,+3,+2,+1,0]  [0.870,0.431,0.011]  2a\n",
      "Cr_O_C1_P1.54Al1.92O2.49a  [+8,+7,+6,+5,+4,+3,+2,+1,0]  [0.415,0.242,0.495]  2a\n",
      "Cr_O_C1_P1.54Al1.92O2.49b  [+8,+7,+6,+5,+4,+3,+2,+1,0]  [0.585,0.759,0.005]  2a\n",
      "Cr_O_C1_P1.54Al1.94        [+8,+7,+6,+5,+4,+3,+2,+1,0]  [0.058,0.281,0.505]  2a\n",
      "Cr_O_C1_P1.54Al1.95        [+8,+7,+6,+5,+4,+3,+2,+1,0]  [0.057,0.219,0.004]  2a\n",
      "Cr_O_C1_P1.63O2.51O2.55a   [+8,+7,+6,+5,+4,+3,+2,+1,0]  [0.178,0.047,0.448]  2a\n",
      "Cr_O_C1_P1.63O2.51O2.55b   [+8,+7,+6,+5,+4,+3,+2,+1,0]  [0.178,0.453,0.948]  2a\n",
      "\n",
      "The number in the Wyckoff label is the site multiplicity/degeneracy of that defect in the conventional ('conv.') unit cell, which comprises 4 formula unit(s) of KAlP2O7.\n",
      "\n",
      "Oxidation states were not explicitly set, thus have been guessed as {'K': 1.0, 'Al': 3.0, 'P': 5.0, 'O': -2.0, 'Cr': 3.0}. If this is unreasonable you should manually set oxidation_states\n",
      "Applying ShakeNBreak... Will apply the following bond distortions: ['-0.6', '-0.5', '-0.4', '-0.3', '-0.2', '-0.1', '0.0', '0.1', '0.2', '0.3', '0.4', '0.5', '0.6', 'Dimer (for vacancies)']. Then, will rattle with a std dev of 0.15 Å \n",
      "\n"
     ]
    },
    {
     "name": "stderr",
     "output_type": "stream",
     "text": [
      "Generating distorted defect structures...0.0%|                                                         | [00:00,  ?it/s]"
     ]
    },
    {
     "name": "stdout",
     "output_type": "stream",
     "text": [
      "\u001b[1m\n",
      "Defect: Cr_Al_C1_O1.87O1.90O1.94\u001b[0m\n",
      "\u001b[1mNumber of missing electrons in neutral state: 0\u001b[0m\n",
      "\n",
      "Defect Cr_Al_C1_O1.87O1.90O1.94 in charge state: 0. Number of distorted neighbours: 0\n"
     ]
    },
    {
     "name": "stderr",
     "output_type": "stream",
     "text": [
      "Generating distorted defect structures...50.0%|██████████████████████████                          | [00:00,   3.49it/s]"
     ]
    },
    {
     "name": "stdout",
     "output_type": "stream",
     "text": [
      "\u001b[1m\n",
      "Defect: Cr_Al_C1_O1.87O1.90O1.95\u001b[0m\n",
      "\u001b[1mNumber of missing electrons in neutral state: 0\u001b[0m\n",
      "\n",
      "Defect Cr_Al_C1_O1.87O1.90O1.95 in charge state: 0. Number of distorted neighbours: 0\n"
     ]
    },
    {
     "name": "stderr",
     "output_type": "stream",
     "text": [
      "Generating distorted defect structures...100.0%|███████████████████████████████████████████████████| [00:00,   3.63it/s]\n"
     ]
    },
    {
     "name": "stdout",
     "output_type": "stream",
     "text": [
      "       Step     Time          Energy          fmax\n",
      "LBFGS:    0 12:06:40     -933.185654        0.008968\n",
      "       Step     Time          Energy          fmax\n",
      "LBFGS:    0 12:06:45     -933.707495        1.918703\n",
      "LBFGS:    1 12:06:50     -933.849585        1.334226\n",
      "LBFGS:    2 12:06:55     -933.956610        0.456133\n",
      "LBFGS:    3 12:07:00     -934.008795        0.406664\n",
      "LBFGS:    4 12:07:05     -934.037024        0.284979\n",
      "LBFGS:    5 12:07:10     -934.058371        0.211776\n",
      "LBFGS:    6 12:07:15     -934.070944        0.170151\n",
      "LBFGS:    7 12:07:19     -934.078421        0.133182\n",
      "LBFGS:    8 12:07:24     -934.084128        0.122103\n",
      "LBFGS:    9 12:07:29     -934.089758        0.113735\n",
      "LBFGS:   10 12:07:34     -934.095007        0.114769\n",
      "LBFGS:   11 12:07:39     -934.098700        0.096647\n",
      "LBFGS:   12 12:07:44     -934.101218        0.084851\n",
      "LBFGS:   13 12:07:49     -934.103415        0.080158\n",
      "LBFGS:   14 12:07:54     -934.105719        0.080380\n",
      "LBFGS:   15 12:07:59     -934.107626        0.068985\n",
      "LBFGS:   16 12:08:04     -934.109045        0.056368\n",
      "LBFGS:   17 12:08:08     -934.110266        0.054043\n",
      "LBFGS:   18 12:08:13     -934.111227        0.045953\n",
      "LBFGS:   19 12:08:18     -934.112128        0.051838\n",
      "LBFGS:   20 12:08:23     -934.112830        0.045368\n",
      "LBFGS:   21 12:08:28     -934.113333        0.035416\n",
      "LBFGS:   22 12:08:33     -934.113821        0.042885\n",
      "LBFGS:   23 12:08:38     -934.114310        0.039372\n",
      "LBFGS:   24 12:08:43     -934.114722        0.040758\n",
      "LBFGS:   25 12:08:48     -934.115149        0.029620\n",
      "LBFGS:   26 12:08:53     -934.115485        0.024420\n",
      "LBFGS:   27 12:08:58     -934.115729        0.017348\n",
      "LBFGS:   28 12:09:03     -934.115897        0.018317\n",
      "LBFGS:   29 12:09:08     -934.116095        0.018303\n",
      "LBFGS:   30 12:09:13     -934.116293        0.019661\n",
      "LBFGS:   31 12:09:18     -934.116431        0.016118\n",
      "LBFGS:   32 12:09:23     -934.116522        0.011926\n",
      "LBFGS:   33 12:09:28     -934.116629        0.012021\n",
      "LBFGS:   34 12:09:33     -934.116690        0.014702\n",
      "LBFGS:   35 12:09:38     -934.116705        0.010924\n",
      "LBFGS:   36 12:09:43     -934.116797        0.009045\n",
      "       Step     Time          Energy          fmax\n",
      "LBFGS:    0 12:09:51     -825.404795       47.484264\n",
      "LBFGS:    1 12:09:55     -881.339514       13.729880\n",
      "LBFGS:    2 12:10:00     -911.572554        9.105943\n",
      "LBFGS:    3 12:10:05     -922.434500        9.341466\n",
      "LBFGS:    4 12:10:10     -927.532050        4.063606\n",
      "LBFGS:    5 12:10:15     -929.684912        2.701401\n",
      "LBFGS:    6 12:10:20     -931.281165        1.858175\n",
      "LBFGS:    7 12:10:25     -932.242712        1.038604\n",
      "LBFGS:    8 12:10:29     -932.721045        1.129634\n",
      "LBFGS:    9 12:10:34     -933.118231        0.738580\n",
      "LBFGS:   10 12:10:39     -933.366522        0.575970\n",
      "LBFGS:   11 12:10:44     -933.545111        0.452738\n",
      "LBFGS:   12 12:10:49     -933.672980        0.422441\n",
      "LBFGS:   13 12:10:54     -933.768347        0.356611\n",
      "LBFGS:   14 12:10:59     -933.838019        0.287779\n",
      "LBFGS:   15 12:11:03     -933.894675        0.307154\n",
      "LBFGS:   16 12:11:08     -933.942648        0.271847\n",
      "LBFGS:   17 12:11:13     -933.980521        0.247591\n",
      "LBFGS:   18 12:11:18     -934.008719        0.181393\n",
      "LBFGS:   19 12:11:23     -934.030371        0.154514\n",
      "LBFGS:   20 12:11:28     -934.047079        0.164822\n",
      "LBFGS:   21 12:11:33     -934.059134        0.163528\n",
      "LBFGS:   22 12:11:38     -934.067999        0.140915\n",
      "LBFGS:   23 12:11:42     -934.074759        0.098320\n",
      "LBFGS:   24 12:11:47     -934.080145        0.076655\n",
      "LBFGS:   25 12:11:52     -934.084372        0.075362\n",
      "LBFGS:   26 12:11:57     -934.087958        0.070207\n",
      "LBFGS:   27 12:12:02     -934.091132        0.074454\n",
      "LBFGS:   28 12:12:07     -934.093863        0.062232\n",
      "LBFGS:   29 12:12:12     -934.095999        0.060796\n",
      "LBFGS:   30 12:12:17     -934.098013        0.054282\n",
      "LBFGS:   31 12:12:22     -934.099997        0.056980\n",
      "LBFGS:   32 12:12:27     -934.101767        0.063544\n",
      "LBFGS:   33 12:12:32     -934.103278        0.045483\n",
      "LBFGS:   34 12:12:37     -934.104636        0.044516\n",
      "LBFGS:   35 12:12:42     -934.105978        0.046801\n",
      "LBFGS:   36 12:12:47     -934.107275        0.044232\n",
      "LBFGS:   37 12:12:52     -934.108405        0.039475\n",
      "LBFGS:   38 12:12:57     -934.109366        0.033501\n",
      "LBFGS:   39 12:13:02     -934.110190        0.035443\n",
      "LBFGS:   40 12:13:07     -934.110892        0.039597\n",
      "LBFGS:   41 12:13:12     -934.111472        0.030884\n",
      "LBFGS:   42 12:13:17     -934.111899        0.021941\n",
      "LBFGS:   43 12:13:22     -934.112357        0.024490\n",
      "LBFGS:   44 12:13:27     -934.112784        0.023782\n",
      "LBFGS:   45 12:13:32     -934.113196        0.028208\n",
      "LBFGS:   46 12:13:37     -934.113531        0.022786\n",
      "LBFGS:   47 12:13:42     -934.113806        0.019320\n",
      "LBFGS:   48 12:13:47     -934.114142        0.019453\n",
      "LBFGS:   49 12:13:52     -934.114325        0.018983\n",
      "LBFGS:   50 12:13:57     -934.114645        0.020839\n",
      "LBFGS:   51 12:14:02     -934.114905        0.024603\n",
      "LBFGS:   52 12:14:07     -934.115179        0.020460\n",
      "LBFGS:   53 12:14:11     -934.115439        0.020662\n",
      "LBFGS:   54 12:14:16     -934.115683        0.015390\n",
      "LBFGS:   55 12:14:21     -934.115912        0.020063\n",
      "LBFGS:   56 12:14:26     -934.116003        0.017102\n",
      "LBFGS:   57 12:14:31     -934.116156        0.015780\n",
      "LBFGS:   58 12:14:36     -934.116293        0.014494\n",
      "LBFGS:   59 12:14:41     -934.116400        0.016855\n",
      "LBFGS:   60 12:14:46     -934.116522        0.014568\n",
      "LBFGS:   61 12:14:51     -934.116660        0.014062\n",
      "LBFGS:   62 12:14:56     -934.116736        0.011067\n",
      "LBFGS:   63 12:15:01     -934.116812        0.011298\n",
      "LBFGS:   64 12:15:06     -934.116919        0.013221\n",
      "LBFGS:   65 12:15:11     -934.117026        0.008166\n",
      "       Step     Time          Energy          fmax\n",
      "LBFGS:    0 12:15:18     -933.706671        1.936136\n",
      "LBFGS:    1 12:15:23     -933.848959        1.350526\n",
      "LBFGS:    2 12:15:28     -933.955786        0.459517\n",
      "LBFGS:    3 12:15:33     -934.008292        0.407744\n",
      "LBFGS:    4 12:15:38     -934.036688        0.287306\n",
      "LBFGS:    5 12:15:43     -934.058112        0.213237\n",
      "LBFGS:    6 12:15:48     -934.070868        0.169570\n",
      "LBFGS:    7 12:15:53     -934.078467        0.133456\n",
      "LBFGS:    8 12:15:58     -934.084097        0.122614\n",
      "LBFGS:    9 12:16:03     -934.089835        0.114570\n",
      "LBFGS:   10 12:16:08     -934.095175        0.114811\n",
      "LBFGS:   11 12:16:13     -934.098792        0.095762\n",
      "LBFGS:   12 12:16:18     -934.101263        0.083746\n",
      "LBFGS:   13 12:16:23     -934.103522        0.079250\n",
      "LBFGS:   14 12:16:28     -934.105795        0.080071\n",
      "LBFGS:   15 12:16:33     -934.107672        0.068428\n",
      "LBFGS:   16 12:16:38     -934.109091        0.055449\n",
      "LBFGS:   17 12:16:43     -934.110220        0.053741\n",
      "LBFGS:   18 12:16:48     -934.111243        0.045206\n",
      "LBFGS:   19 12:16:53     -934.112112        0.051397\n",
      "LBFGS:   20 12:16:58     -934.112769        0.044708\n",
      "LBFGS:   21 12:17:03     -934.113272        0.035393\n",
      "LBFGS:   22 12:17:08     -934.113760        0.042091\n",
      "LBFGS:   23 12:17:13     -934.114188        0.039381\n",
      "LBFGS:   24 12:17:18     -934.114584        0.040426\n",
      "LBFGS:   25 12:17:23     -934.115042        0.029340\n",
      "LBFGS:   26 12:17:28     -934.115378        0.024627\n",
      "LBFGS:   27 12:17:33     -934.115637        0.016654\n",
      "LBFGS:   28 12:17:37     -934.115805        0.018394\n",
      "LBFGS:   29 12:17:42     -934.115973        0.016881\n",
      "LBFGS:   30 12:17:47     -934.116187        0.018348\n",
      "LBFGS:   31 12:17:52     -934.116324        0.014874\n",
      "LBFGS:   32 12:17:57     -934.116370        0.011805\n",
      "LBFGS:   33 12:18:02     -934.116507        0.011838\n",
      "LBFGS:   34 12:18:07     -934.116553        0.013857\n",
      "LBFGS:   35 12:18:12     -934.116614        0.011571\n",
      "LBFGS:   36 12:18:17     -934.116690        0.008743\n",
      "       Step     Time          Energy          fmax\n",
      "LBFGS:    0 12:18:25     -824.975462       47.652497\n",
      "LBFGS:    1 12:18:30     -880.518042       13.920801\n",
      "LBFGS:    2 12:18:35     -911.727126        8.958622\n",
      "LBFGS:    3 12:18:40     -922.937537        7.589529\n",
      "LBFGS:    4 12:18:44     -927.554663        3.687482\n",
      "LBFGS:    5 12:18:49     -929.587378        2.527497\n",
      "LBFGS:    6 12:18:54     -931.312506        1.665543\n",
      "LBFGS:    7 12:18:59     -932.263281        1.047879\n",
      "LBFGS:    8 12:19:04     -932.771750        1.063464\n",
      "LBFGS:    9 12:19:09     -933.164542        0.741873\n",
      "LBFGS:   10 12:19:14     -933.390860        0.606564\n",
      "LBFGS:   11 12:19:19     -933.563193        0.480606\n",
      "LBFGS:   12 12:19:24     -933.693945        0.388372\n",
      "LBFGS:   13 12:19:28     -933.787619        0.386083\n",
      "LBFGS:   14 12:19:33     -933.851447        0.304198\n",
      "LBFGS:   15 12:19:38     -933.903937        0.257445\n",
      "LBFGS:   16 12:19:43     -933.950125        0.260736\n",
      "LBFGS:   17 12:19:48     -933.986319        0.274892\n",
      "LBFGS:   18 12:19:53     -934.012686        0.205018\n",
      "LBFGS:   19 12:19:58     -934.033301        0.205178\n",
      "LBFGS:   20 12:20:03     -934.049918        0.175928\n",
      "LBFGS:   21 12:20:08     -934.061972        0.166289\n",
      "LBFGS:   22 12:20:13     -934.070410        0.136534\n",
      "LBFGS:   23 12:20:18     -934.076666        0.098099\n",
      "LBFGS:   24 12:20:22     -934.081625        0.097691\n",
      "LBFGS:   25 12:20:27     -934.085516        0.076638\n",
      "LBFGS:   26 12:20:32     -934.088812        0.064089\n",
      "LBFGS:   27 12:20:37     -934.091681        0.069583\n",
      "LBFGS:   28 12:20:42     -934.093863        0.064655\n",
      "LBFGS:   29 12:20:47     -934.095618        0.051050\n",
      "LBFGS:   30 12:20:52     -934.097205        0.047274\n",
      "LBFGS:   31 12:20:58     -934.098868        0.047444\n",
      "LBFGS:   32 12:21:03     -934.100302        0.051687\n",
      "LBFGS:   33 12:21:08     -934.101614        0.043583\n",
      "LBFGS:   34 12:21:12     -934.102774        0.043978\n",
      "LBFGS:   35 12:21:17     -934.103903        0.046437\n",
      "LBFGS:   36 12:21:22     -934.105048        0.044243\n",
      "LBFGS:   37 12:21:27     -934.106162        0.043086\n",
      "LBFGS:   38 12:21:32     -934.107230        0.034742\n",
      "LBFGS:   39 12:21:37     -934.108084        0.035387\n",
      "LBFGS:   40 12:21:42     -934.108939        0.038345\n",
      "LBFGS:   41 12:21:47     -934.109579        0.038657\n",
      "LBFGS:   42 12:21:52     -934.110159        0.025859\n",
      "LBFGS:   43 12:21:57     -934.110709        0.028233\n",
      "LBFGS:   44 12:22:02     -934.111273        0.028342\n",
      "LBFGS:   45 12:22:07     -934.111807        0.034227\n",
      "LBFGS:   46 12:22:12     -934.112219        0.028287\n",
      "LBFGS:   47 12:22:17     -934.112708        0.021860\n",
      "LBFGS:   48 12:22:22     -934.113135        0.024678\n",
      "LBFGS:   49 12:22:27     -934.113516        0.029912\n",
      "LBFGS:   50 12:22:32     -934.113959        0.028921\n",
      "LBFGS:   51 12:22:37     -934.114325        0.025792\n",
      "LBFGS:   52 12:22:42     -934.114706        0.025676\n",
      "LBFGS:   53 12:22:47     -934.115027        0.023565\n",
      "LBFGS:   54 12:22:52     -934.115347        0.019897\n",
      "LBFGS:   55 12:22:57     -934.115576        0.017373\n",
      "LBFGS:   56 12:23:01     -934.115836        0.020407\n",
      "LBFGS:   57 12:23:06     -934.116034        0.018890\n",
      "LBFGS:   58 12:23:11     -934.116217        0.015802\n",
      "LBFGS:   59 12:23:16     -934.116415        0.013215\n",
      "LBFGS:   60 12:23:21     -934.116553        0.016513\n",
      "LBFGS:   61 12:23:26     -934.116644        0.018173\n",
      "LBFGS:   62 12:23:31     -934.116705        0.012689\n",
      "LBFGS:   63 12:23:36     -934.116797        0.010688\n",
      "LBFGS:   64 12:23:41     -934.116812        0.012995\n",
      "LBFGS:   65 12:23:46     -934.116934        0.015055\n",
      "LBFGS:   66 12:23:51     -934.116949        0.011805\n",
      "LBFGS:   67 12:23:56     -934.117041        0.008485\n"
     ]
    },
    {
     "name": "stderr",
     "output_type": "stream",
     "text": [
      "Generating DefectEntry objects: 100.0%|████████████████████████████████████████████████████████████| [00:27,   3.61it/s]\n"
     ]
    },
    {
     "name": "stdout",
     "output_type": "stream",
     "text": [
      "Vacancies                Guessed Charges        Conv. Cell Coords    Wyckoff\n",
      "-----------------------  ---------------------  -------------------  ---------\n",
      "v_Cs_C2_O3.22            [+1,0,-1]              [0.297,0.297,0.000]  3a\n",
      "v_Cs_C2_O3.32            [+1,0,-1]              [0.464,0.464,0.500]  3b\n",
      "v_Al                     [+1,0,-1,-2,-3]        [0.690,0.690,0.000]  3a\n",
      "v_N_C1_O1.24O1.33Al2.90  [+1,0,-1,-2,-3,-4,-5]  [0.555,0.242,0.245]  6c\n",
      "v_N_C1_O1.24O1.33Al2.93  [+1,0,-1,-2,-3,-4,-5]  [0.089,0.348,0.405]  6c\n",
      "v_N_C2                   [+1,0,-1,-2,-3,-4,-5]  [0.904,0.904,0.000]  3a\n",
      "v_O_C1_N1.24O2.18O2.20   [+2,+1,0,-1]           [0.321,0.614,0.108]  6c\n",
      "v_O_C1_N1.24O2.18O3.27   [+2,+1,0,-1]           [0.185,0.385,0.330]  6c\n",
      "v_O_C1_N1.25O2.20O2.23   [+2,+1,0,-1]           [0.335,0.032,0.041]  6c\n",
      "v_O_C1_N1.25O2.20O2.93   [+2,+1,0,-1]           [0.491,0.305,0.242]  6c\n",
      "v_O_C1_N1.30             [+2,+1,0,-1]           [0.205,0.090,0.274]  6c\n",
      "v_O_C1_N1.33Al1.87       [+2,+1,0,-1]           [0.487,0.108,0.269]  6c\n",
      "v_O_C1_N1.33Al1.93       [+2,+1,0,-1]           [0.358,0.122,0.474]  6c\n",
      "v_O_C2                   [+2,+1,0,-1]           [0.012,0.012,0.000]  3a\n",
      "\n",
      "Substitutions             Guessed Charges              Conv. Cell Coords    Wyckoff\n",
      "------------------------  ---------------------------  -------------------  ---------\n",
      "Cs_Al                     [0,-1,-2]                    [0.690,0.690,0.000]  3a\n",
      "Cs_N_C1_O1.24O1.33Al2.90  [0,-1,-2,-3,-4]              [0.555,0.242,0.245]  6c\n",
      "Cs_N_C1_O1.24O1.33Al2.93  [0,-1,-2,-3,-4]              [0.089,0.348,0.405]  6c\n",
      "Cs_N_C2                   [0,-1,-2,-3,-4]              [0.904,0.904,0.000]  3a\n",
      "Cs_O_C1_N1.24O2.18O2.20   [+3,+2,+1,0]                 [0.321,0.614,0.108]  6c\n",
      "Cs_O_C1_N1.24O2.18O3.27   [+3,+2,+1,0]                 [0.185,0.385,0.330]  6c\n",
      "Cs_O_C1_N1.25O2.20O2.23   [+3,+2,+1,0]                 [0.335,0.032,0.041]  6c\n",
      "Cs_O_C1_N1.25O2.20O2.93   [+3,+2,+1,0]                 [0.491,0.305,0.242]  6c\n",
      "Cs_O_C1_N1.30             [+3,+2,+1,0]                 [0.205,0.090,0.274]  6c\n",
      "Cs_O_C1_N1.33Al1.87       [+3,+2,+1,0]                 [0.487,0.108,0.269]  6c\n",
      "Cs_O_C1_N1.33Al1.93       [+3,+2,+1,0]                 [0.358,0.122,0.474]  6c\n",
      "Cs_O_C2                   [+3,+2,+1,0]                 [0.012,0.012,0.000]  3a\n",
      "Al_Cs_C2_O3.22            [+2,+1,0]                    [0.297,0.297,0.000]  3a\n",
      "Al_Cs_C2_O3.32            [+2,+1,0]                    [0.464,0.464,0.500]  3b\n",
      "Al_N_C1_O1.24O1.33Al2.90  [0,-1,-2]                    [0.555,0.242,0.245]  6c\n",
      "Al_N_C1_O1.24O1.33Al2.93  [0,-1,-2]                    [0.089,0.348,0.405]  6c\n",
      "Al_N_C2                   [0,-1,-2]                    [0.904,0.904,0.000]  3a\n",
      "Al_O_C1_N1.24O2.18O2.20   [+5,+4,+3,+2,+1,0]           [0.321,0.614,0.108]  6c\n",
      "Al_O_C1_N1.24O2.18O3.27   [+5,+4,+3,+2,+1,0]           [0.185,0.385,0.330]  6c\n",
      "Al_O_C1_N1.25O2.20O2.23   [+5,+4,+3,+2,+1,0]           [0.335,0.032,0.041]  6c\n",
      "Al_O_C1_N1.25O2.20O2.93   [+5,+4,+3,+2,+1,0]           [0.491,0.305,0.242]  6c\n",
      "Al_O_C1_N1.30             [+5,+4,+3,+2,+1,0]           [0.205,0.090,0.274]  6c\n",
      "Al_O_C1_N1.33Al1.87       [+5,+4,+3,+2,+1,0]           [0.487,0.108,0.269]  6c\n",
      "Al_O_C1_N1.33Al1.93       [+5,+4,+3,+2,+1,0]           [0.358,0.122,0.474]  6c\n",
      "Al_O_C2                   [+5,+4,+3,+2,+1,0]           [0.012,0.012,0.000]  3a\n",
      "N_Cs_C2_O3.22             [+4,+3,+2,+1,0,-1,-2,-3,-4]  [0.297,0.297,0.000]  3a\n",
      "N_Cs_C2_O3.32             [+4,+3,+2,+1,0,-1,-2,-3,-4]  [0.464,0.464,0.500]  3b\n",
      "N_Al                      [+2,+1,0,-1,-2,-3,-4,-5,-6]  [0.690,0.690,0.000]  3a\n",
      "N_O_C1_N1.24O2.18O2.20    [+7,+6,+5,+4,+3,+2,+1,0,-1]  [0.321,0.614,0.108]  6c\n",
      "N_O_C1_N1.24O2.18O3.27    [+7,+6,+5,+4,+3,+2,+1,0,-1]  [0.185,0.385,0.330]  6c\n",
      "N_O_C1_N1.25O2.20O2.23    [+7,+6,+5,+4,+3,+2,+1,0,-1]  [0.335,0.032,0.041]  6c\n",
      "N_O_C1_N1.25O2.20O2.93    [+7,+6,+5,+4,+3,+2,+1,0,-1]  [0.491,0.305,0.242]  6c\n",
      "N_O_C1_N1.30              [+7,+6,+5,+4,+3,+2,+1,0,-1]  [0.205,0.090,0.274]  6c\n",
      "N_O_C1_N1.33Al1.87        [+7,+6,+5,+4,+3,+2,+1,0,-1]  [0.487,0.108,0.269]  6c\n",
      "N_O_C1_N1.33Al1.93        [+7,+6,+5,+4,+3,+2,+1,0,-1]  [0.358,0.122,0.474]  6c\n",
      "N_O_C2                    [+7,+6,+5,+4,+3,+2,+1,0,-1]  [0.012,0.012,0.000]  3a\n",
      "O_Cs_C2_O3.22             [0,-1,-2,-3]                 [0.297,0.297,0.000]  3a\n",
      "O_Cs_C2_O3.32             [0,-1,-2,-3]                 [0.464,0.464,0.500]  3b\n",
      "O_Al                      [0,-1,-2,-3,-4,-5]           [0.690,0.690,0.000]  3a\n",
      "O_N_C1_O1.24O1.33Al2.90   [0,-1,-2,-3,-4,-5,-6,-7]     [0.555,0.242,0.245]  6c\n",
      "O_N_C1_O1.24O1.33Al2.93   [0,-1,-2,-3,-4,-5,-6,-7]     [0.089,0.348,0.405]  6c\n",
      "O_N_C2                    [0,-1,-2,-3,-4,-5,-6,-7]     [0.904,0.904,0.000]  3a\n",
      "Cr_Cs_C2_O3.22            [+5,+4,+3,+2,+1,0]           [0.297,0.297,0.000]  3a\n",
      "Cr_Cs_C2_O3.32            [+5,+4,+3,+2,+1,0]           [0.464,0.464,0.500]  3b\n",
      "Cr_Al                     [+3,+2,+1,0,-1]              [0.690,0.690,0.000]  3a\n",
      "Cr_N_C1_O1.24O1.33Al2.90  [+1,0,-1,-2,-3]              [0.555,0.242,0.245]  6c\n",
      "Cr_N_C1_O1.24O1.33Al2.93  [+1,0,-1,-2,-3]              [0.089,0.348,0.405]  6c\n",
      "Cr_N_C2                   [+1,0,-1,-2,-3]              [0.904,0.904,0.000]  3a\n",
      "Cr_O_C1_N1.24O2.18O2.20   [+8,+7,+6,+5,+4,+3,+2,+1,0]  [0.321,0.614,0.108]  6c\n",
      "Cr_O_C1_N1.24O2.18O3.27   [+8,+7,+6,+5,+4,+3,+2,+1,0]  [0.185,0.385,0.330]  6c\n",
      "Cr_O_C1_N1.25O2.20O2.23   [+8,+7,+6,+5,+4,+3,+2,+1,0]  [0.335,0.032,0.041]  6c\n",
      "Cr_O_C1_N1.25O2.20O2.93   [+8,+7,+6,+5,+4,+3,+2,+1,0]  [0.491,0.305,0.242]  6c\n",
      "Cr_O_C1_N1.30             [+8,+7,+6,+5,+4,+3,+2,+1,0]  [0.205,0.090,0.274]  6c\n",
      "Cr_O_C1_N1.33Al1.87       [+8,+7,+6,+5,+4,+3,+2,+1,0]  [0.487,0.108,0.269]  6c\n",
      "Cr_O_C1_N1.33Al1.93       [+8,+7,+6,+5,+4,+3,+2,+1,0]  [0.358,0.122,0.474]  6c\n",
      "Cr_O_C2                   [+8,+7,+6,+5,+4,+3,+2,+1,0]  [0.012,0.012,0.000]  3a\n",
      "\n",
      "The number in the Wyckoff label is the site multiplicity/degeneracy of that defect in the conventional ('conv.') unit cell, which comprises 3 formula unit(s) of Cs2Al(NO3)5.\n",
      "\n",
      "Oxidation states were not explicitly set, thus have been guessed as {'Cs': 1.0, 'Al': 3.0, 'N': 5.0, 'O': -2.0, 'Cr': 3.0}. If this is unreasonable you should manually set oxidation_states\n",
      "Applying ShakeNBreak... Will apply the following bond distortions: ['-0.6', '-0.5', '-0.4', '-0.3', '-0.2', '-0.1', '0.0', '0.1', '0.2', '0.3', '0.4', '0.5', '0.6', 'Dimer (for vacancies)']. Then, will rattle with a std dev of 0.12 Å \n",
      "\n"
     ]
    },
    {
     "name": "stderr",
     "output_type": "stream",
     "text": [
      "Generating distorted defect structures...0.0%|                                                         | [00:00,  ?it/s]distortions.py:577: UserWarning: Automatic bond-length detection gave a bulk bond length of 1.2187558443149134 Å, which is almost certainly too small. Reverting to 2.25 Å. If this is too large, set `d_min` manually\n"
     ]
    },
    {
     "name": "stdout",
     "output_type": "stream",
     "text": [
      "\u001b[1m\n",
      "Defect: Cr_Al\u001b[0m\n",
      "\u001b[1mNumber of missing electrons in neutral state: 0\u001b[0m\n",
      "\n",
      "Defect Cr_Al in charge state: 0. Number of distorted neighbours: 0\n"
     ]
    },
    {
     "name": "stderr",
     "output_type": "stream",
     "text": [
      "Generating distorted defect structures...100.0%|███████████████████████████████████████████████████| [00:34,  34.51s/it]\n"
     ]
    },
    {
     "name": "stdout",
     "output_type": "stream",
     "text": [
      "       Step     Time          Energy          fmax\n",
      "LBFGS:    0 12:25:01     -426.325180        0.009357\n",
      "       Step     Time          Energy          fmax\n",
      "LBFGS:    0 12:25:04     -427.403140        1.996245\n",
      "LBFGS:    1 12:25:06     -427.557421        0.810191\n",
      "LBFGS:    2 12:25:09     -427.649275        0.651996\n",
      "LBFGS:    3 12:25:11     -427.718985        0.743035\n",
      "LBFGS:    4 12:25:14     -427.793082        0.800252\n",
      "LBFGS:    5 12:25:16     -427.843123        0.586334\n",
      "LBFGS:    6 12:25:18     -427.859454        0.254720\n",
      "LBFGS:    7 12:25:21     -427.862010        0.119478\n",
      "LBFGS:    8 12:25:24     -427.862807        0.092726\n",
      "LBFGS:    9 12:25:27     -427.863742        0.082815\n",
      "LBFGS:   10 12:25:29     -427.865485        0.118320\n",
      "LBFGS:   11 12:25:31     -427.867781        0.142595\n",
      "LBFGS:   12 12:25:34     -427.869746        0.094183\n",
      "LBFGS:   13 12:25:36     -427.870589        0.052766\n",
      "LBFGS:   14 12:25:38     -427.870841        0.026436\n",
      "LBFGS:   15 12:25:41     -427.870948        0.021487\n",
      "LBFGS:   16 12:25:43     -427.871093        0.021687\n",
      "LBFGS:   17 12:25:46     -427.871306        0.028443\n",
      "LBFGS:   18 12:25:48     -427.871665        0.041004\n",
      "LBFGS:   19 12:25:51     -427.872061        0.048038\n",
      "LBFGS:   20 12:25:53     -427.872348        0.037827\n",
      "LBFGS:   21 12:25:55     -427.872489        0.017446\n",
      "LBFGS:   22 12:25:57     -427.872565        0.015211\n",
      "LBFGS:   23 12:26:00     -427.872595        0.014370\n",
      "LBFGS:   24 12:26:02     -427.872657        0.018377\n",
      "LBFGS:   25 12:26:05     -427.872744        0.025686\n",
      "LBFGS:   26 12:26:07     -427.872893        0.031529\n",
      "LBFGS:   27 12:26:10     -427.873122        0.035500\n",
      "LBFGS:   28 12:26:12     -427.873343        0.027120\n",
      "LBFGS:   29 12:26:14     -427.873469        0.015590\n",
      "LBFGS:   30 12:26:17     -427.873519        0.011961\n",
      "LBFGS:   31 12:26:19     -427.873564        0.011862\n",
      "LBFGS:   32 12:26:21     -427.873610        0.012625\n",
      "LBFGS:   33 12:26:24     -427.873671        0.017960\n",
      "LBFGS:   34 12:26:26     -427.873744        0.024873\n",
      "LBFGS:   35 12:26:28     -427.873828        0.026085\n",
      "LBFGS:   36 12:26:31     -427.873912        0.020397\n",
      "LBFGS:   37 12:26:33     -427.873988        0.013755\n",
      "LBFGS:   38 12:26:35     -427.874026        0.014846\n",
      "LBFGS:   39 12:26:38     -427.874064        0.013898\n",
      "LBFGS:   40 12:26:40     -427.874106        0.016205\n",
      "LBFGS:   41 12:26:42     -427.874163        0.018614\n",
      "LBFGS:   42 12:26:45     -427.874228        0.016799\n",
      "LBFGS:   43 12:26:47     -427.874304        0.015278\n",
      "LBFGS:   44 12:26:50     -427.874335        0.010482\n",
      "LBFGS:   45 12:26:52     -427.874358        0.005981\n",
      "       Step     Time          Energy          fmax\n",
      "LBFGS:    0 12:26:56     -398.076419       10.784317\n",
      "LBFGS:    1 12:26:58     -417.644206        5.890536\n",
      "LBFGS:    2 12:27:01     -418.689376       17.230088\n",
      "LBFGS:    3 12:27:03     -425.969962        4.980761\n",
      "LBFGS:    4 12:27:06     -426.841151        1.780688\n",
      "LBFGS:    5 12:27:08     -427.199996        1.105642\n",
      "LBFGS:    6 12:27:11     -427.287368        0.524259\n",
      "LBFGS:    7 12:27:13     -427.370948        0.529974\n",
      "LBFGS:    8 12:27:16     -427.483668        0.827735\n",
      "LBFGS:    9 12:27:18     -427.573771        0.556456\n",
      "LBFGS:   10 12:27:20     -427.657626        0.551217\n",
      "LBFGS:   11 12:27:24     -427.708060        0.411993\n",
      "LBFGS:   12 12:27:26     -427.731398        0.224669\n",
      "LBFGS:   13 12:27:29     -427.744857        0.197379\n",
      "LBFGS:   14 12:27:31     -427.759738        0.247149\n",
      "LBFGS:   15 12:27:34     -427.775794        0.337008\n",
      "LBFGS:   16 12:27:36     -427.792433        0.404677\n",
      "LBFGS:   17 12:27:38     -427.809619        0.347814\n",
      "LBFGS:   18 12:27:41     -427.824286        0.247983\n",
      "LBFGS:   19 12:27:43     -427.832446        0.174806\n",
      "LBFGS:   20 12:27:46     -427.836116        0.095912\n",
      "LBFGS:   21 12:27:48     -427.838774        0.091829\n",
      "LBFGS:   22 12:27:50     -427.842116        0.119390\n",
      "LBFGS:   23 12:27:53     -427.846389        0.140472\n",
      "LBFGS:   24 12:27:55     -427.850768        0.155639\n",
      "LBFGS:   25 12:27:58     -427.854232        0.145183\n",
      "LBFGS:   26 12:28:00     -427.856330        0.093939\n",
      "LBFGS:   27 12:28:03     -427.857474        0.054900\n",
      "LBFGS:   28 12:28:05     -427.858298        0.046836\n",
      "LBFGS:   29 12:28:08     -427.859172        0.061571\n",
      "LBFGS:   30 12:28:10     -427.860266        0.084171\n",
      "LBFGS:   31 12:28:13     -427.861518        0.088420\n",
      "LBFGS:   32 12:28:15     -427.862879        0.081220\n",
      "LBFGS:   33 12:28:18     -427.864009        0.048106\n",
      "LBFGS:   34 12:28:20     -427.864695        0.031794\n",
      "LBFGS:   35 12:28:23     -427.865081        0.033138\n",
      "LBFGS:   36 12:28:25     -427.865466        0.035573\n",
      "LBFGS:   37 12:28:28     -427.866088        0.041752\n",
      "LBFGS:   38 12:28:30     -427.866954        0.057822\n",
      "LBFGS:   39 12:28:32     -427.867835        0.062950\n",
      "LBFGS:   40 12:28:34     -427.868449        0.060765\n",
      "LBFGS:   41 12:28:37     -427.868769        0.041518\n",
      "LBFGS:   42 12:28:39     -427.869055        0.026143\n",
      "LBFGS:   43 12:28:41     -427.869395        0.029499\n",
      "LBFGS:   44 12:28:44     -427.869773        0.067087\n",
      "LBFGS:   45 12:28:46     -427.870219        0.089521\n",
      "LBFGS:   46 12:28:49     -427.870692        0.086371\n",
      "LBFGS:   47 12:28:51     -427.871157        0.056798\n",
      "LBFGS:   48 12:28:54     -427.871504        0.028139\n",
      "LBFGS:   49 12:28:56     -427.871714        0.022383\n",
      "LBFGS:   50 12:28:59     -427.871871        0.026788\n",
      "LBFGS:   51 12:29:01     -427.872004        0.025704\n",
      "LBFGS:   52 12:29:04     -427.872191        0.025387\n",
      "LBFGS:   53 12:29:06     -427.872416        0.029067\n",
      "LBFGS:   54 12:29:09     -427.872641        0.033016\n",
      "LBFGS:   55 12:29:11     -427.872824        0.026699\n",
      "LBFGS:   56 12:29:14     -427.872912        0.013886\n",
      "LBFGS:   57 12:29:16     -427.872981        0.011730\n",
      "LBFGS:   58 12:29:18     -427.873042        0.014075\n",
      "LBFGS:   59 12:29:21     -427.873122        0.024056\n",
      "LBFGS:   60 12:29:24     -427.873236        0.032982\n",
      "LBFGS:   61 12:29:26     -427.873366        0.033895\n",
      "LBFGS:   62 12:29:29     -427.873484        0.024874\n",
      "LBFGS:   63 12:29:31     -427.873595        0.013423\n",
      "LBFGS:   64 12:29:34     -427.873641        0.010630\n",
      "LBFGS:   65 12:29:36     -427.873683        0.009611\n"
     ]
    },
    {
     "name": "stderr",
     "output_type": "stream",
     "text": [
      "Generating DefectEntry objects: 100.0%|████████████████████████████████████████████████████████████| [01:34,   1.06it/s]\n"
     ]
    },
    {
     "name": "stdout",
     "output_type": "stream",
     "text": [
      "Vacancies                 Guessed Charges    Conv. Cell Coords    Wyckoff\n",
      "------------------------  -----------------  -------------------  ---------\n",
      "v_Al                      [+1,0,-1,-2,-3]    [0.000,0.000,0.250]  6c\n",
      "v_H_C1_O1.00H1.64Cl2.05a  [+1,0,-1]          [0.184,0.070,0.111]  18f\n",
      "v_H_C1_O1.00H1.64Cl2.05b  [+1,0,-1]          [0.114,0.184,0.389]  18f\n",
      "v_H_C1_O1.00H1.64Cl2.06a  [+1,0,-1]          [0.204,0.206,0.165]  18f\n",
      "v_H_C1_O1.00H1.64Cl2.06b  [+1,0,-1]          [0.206,0.002,0.334]  18f\n",
      "v_Cl_C2_H2.05O3.05H3.46   [+1,0,-1]          [0.259,0.000,0.000]  9d\n",
      "v_Cl_C2_H2.05O3.05H3.47   [+1,0,-1]          [0.258,0.258,0.500]  9e\n",
      "v_O_C1_H1.00Al1.90O2.68a  [+2,+1,0,-1]       [0.151,0.106,0.166]  18f\n",
      "v_O_C1_H1.00Al1.90O2.68b  [+2,+1,0,-1]       [0.044,0.151,0.334]  18f\n",
      "\n",
      "Substitutions              Guessed Charges     Conv. Cell Coords    Wyckoff\n",
      "-------------------------  ------------------  -------------------  ---------\n",
      "Al_H_C1_O1.00H1.64Cl2.05a  [+2,+1,0]           [0.184,0.070,0.111]  18f\n",
      "Al_H_C1_O1.00H1.64Cl2.05b  [+2,+1,0]           [0.114,0.184,0.389]  18f\n",
      "Al_H_C1_O1.00H1.64Cl2.06a  [+2,+1,0]           [0.204,0.206,0.165]  18f\n",
      "Al_H_C1_O1.00H1.64Cl2.06b  [+2,+1,0]           [0.206,0.002,0.334]  18f\n",
      "Al_Cl_C2_H2.05O3.05H3.46   [+4,+3,+2,+1,0]     [0.259,0.000,0.000]  9d\n",
      "Al_Cl_C2_H2.05O3.05H3.47   [+4,+3,+2,+1,0]     [0.258,0.258,0.500]  9e\n",
      "Al_O_C1_H1.00Al1.90O2.68a  [+5,+4,+3,+2,+1,0]  [0.151,0.106,0.166]  18f\n",
      "Al_O_C1_H1.00Al1.90O2.68b  [+5,+4,+3,+2,+1,0]  [0.044,0.151,0.334]  18f\n",
      "H_Al                       [0,-1,-2,-3,-4]     [0.000,0.000,0.250]  6c\n",
      "H_Cl_C2_H2.05O3.05H3.46    [+2,+1,0]           [0.259,0.000,0.000]  9d\n",
      "H_Cl_C2_H2.05O3.05H3.47    [+2,+1,0]           [0.258,0.258,0.500]  9e\n",
      "H_O_C1_H1.00Al1.90O2.68a   [+3,+2,+1,0]        [0.151,0.106,0.166]  18f\n",
      "H_O_C1_H1.00Al1.90O2.68b   [+3,+2,+1,0]        [0.044,0.151,0.334]  18f\n",
      "Cl_Al                      [0,-1,-2,-3,-4]     [0.000,0.000,0.250]  6c\n",
      "Cl_H_C1_O1.00H1.64Cl2.05a  [0,-1,-2]           [0.184,0.070,0.111]  18f\n",
      "Cl_H_C1_O1.00H1.64Cl2.05b  [0,-1,-2]           [0.114,0.184,0.389]  18f\n",
      "Cl_H_C1_O1.00H1.64Cl2.06a  [0,-1,-2]           [0.204,0.206,0.165]  18f\n",
      "Cl_H_C1_O1.00H1.64Cl2.06b  [0,-1,-2]           [0.206,0.002,0.334]  18f\n",
      "Cl_O_C1_H1.00Al1.90O2.68a  [+1,0]              [0.151,0.106,0.166]  18f\n",
      "Cl_O_C1_H1.00Al1.90O2.68b  [+1,0]              [0.044,0.151,0.334]  18f\n",
      "O_Al                       [0,-1,-2,-3,-4,-5]  [0.000,0.000,0.250]  6c\n",
      "O_H_C1_O1.00H1.64Cl2.05a   [0,-1,-2,-3]        [0.184,0.070,0.111]  18f\n",
      "O_H_C1_O1.00H1.64Cl2.05b   [0,-1,-2,-3]        [0.114,0.184,0.389]  18f\n",
      "O_H_C1_O1.00H1.64Cl2.06a   [0,-1,-2,-3]        [0.204,0.206,0.165]  18f\n",
      "O_H_C1_O1.00H1.64Cl2.06b   [0,-1,-2,-3]        [0.206,0.002,0.334]  18f\n",
      "O_Cl_C2_H2.05O3.05H3.46    [0,-1]              [0.259,0.000,0.000]  9d\n",
      "O_Cl_C2_H2.05O3.05H3.47    [0,-1]              [0.258,0.258,0.500]  9e\n",
      "Cr_Al                      [+3,+2,+1,0,-1]     [0.000,0.000,0.250]  6c\n",
      "Cr_H_C1_O1.00H1.64Cl2.05a  [+5,+4,+3,+2,+1,0]  [0.184,0.070,0.111]  18f\n",
      "Cr_H_C1_O1.00H1.64Cl2.05b  [+5,+4,+3,+2,+1,0]  [0.114,0.184,0.389]  18f\n",
      "Cr_H_C1_O1.00H1.64Cl2.06a  [+5,+4,+3,+2,+1,0]  [0.204,0.206,0.165]  18f\n",
      "Cr_H_C1_O1.00H1.64Cl2.06b  [+5,+4,+3,+2,+1,0]  [0.206,0.002,0.334]  18f\n",
      "Cr_Cl_C2_H2.05O3.05H3.46   [+4,+3,+2,+1,0]     [0.259,0.000,0.000]  9d\n",
      "Cr_Cl_C2_H2.05O3.05H3.47   [+4,+3,+2,+1,0]     [0.258,0.258,0.500]  9e\n",
      "Cr_O_C1_H1.00Al1.90O2.68a  [+5,+4,+3,+2,+1,0]  [0.151,0.106,0.166]  18f\n",
      "Cr_O_C1_H1.00Al1.90O2.68b  [+5,+4,+3,+2,+1,0]  [0.044,0.151,0.334]  18f\n",
      "\n",
      "The number in the Wyckoff label is the site multiplicity/degeneracy of that defect in the conventional ('conv.') unit cell, which comprises 6 formula unit(s) of AlH12(O2Cl)3.\n",
      "\n",
      "Oxidation states were not explicitly set, thus have been guessed as {'Al': 3.0, 'H': 1.0, 'Cl': -1.0, 'O': -2.0, 'Cr': 3.0}. If this is unreasonable you should manually set oxidation_states\n",
      "Applying ShakeNBreak... Will apply the following bond distortions: ['-0.6', '-0.5', '-0.4', '-0.3', '-0.2', '-0.1', '0.0', '0.1', '0.2', '0.3', '0.4', '0.5', '0.6', 'Dimer (for vacancies)']. Then, will rattle with a std dev of 0.10 Å \n",
      "\n"
     ]
    },
    {
     "name": "stderr",
     "output_type": "stream",
     "text": [
      "Generating distorted defect structures...0.0%|                                                         | [00:00,  ?it/s]distortions.py:577: UserWarning: Automatic bond-length detection gave a bulk bond length of 1.000538837225975 Å, which is almost certainly too small. Reverting to 2.25 Å. If this is too large, set `d_min` manually\n"
     ]
    },
    {
     "name": "stdout",
     "output_type": "stream",
     "text": [
      "\u001b[1m\n",
      "Defect: Cr_Al\u001b[0m\n",
      "\u001b[1mNumber of missing electrons in neutral state: 0\u001b[0m\n",
      "\n",
      "Defect Cr_Al in charge state: 0. Number of distorted neighbours: 0\n"
     ]
    },
    {
     "name": "stderr",
     "output_type": "stream",
     "text": [
      "Generating distorted defect structures...100.0%|██████████████████████████████████████████████████| [04:37,  277.62s/it]\n"
     ]
    },
    {
     "name": "stdout",
     "output_type": "stream",
     "text": [
      "       Step     Time          Energy          fmax\n",
      "LBFGS:    0 12:35:51     -425.033534        0.007782\n",
      "       Step     Time          Energy          fmax\n",
      "LBFGS:    0 12:35:54     -425.372567        1.715683\n",
      "LBFGS:    1 12:35:58     -425.532777        0.568034\n",
      "LBFGS:    2 12:36:02     -425.632097        0.542044\n",
      "LBFGS:    3 12:36:06     -425.737832        0.334150\n",
      "LBFGS:    4 12:36:10     -425.765573        0.295738\n",
      "LBFGS:    5 12:36:14     -425.802495        0.300346\n",
      "LBFGS:    6 12:36:18     -425.830430        0.260764\n",
      "LBFGS:    7 12:36:22     -425.845025        0.132077\n",
      "LBFGS:    8 12:36:26     -425.848569        0.053912\n",
      "LBFGS:    9 12:36:30     -425.849515        0.049150\n",
      "LBFGS:   10 12:36:34     -425.850904        0.057512\n",
      "LBFGS:   11 12:36:38     -425.852815        0.069877\n",
      "LBFGS:   12 12:36:42     -425.854299        0.048959\n",
      "LBFGS:   13 12:36:46     -425.854856        0.016161\n",
      "LBFGS:   14 12:36:50     -425.855008        0.015357\n",
      "LBFGS:   15 12:36:54     -425.855184        0.019308\n",
      "LBFGS:   16 12:36:58     -425.855474        0.028399\n",
      "LBFGS:   17 12:37:01     -425.855767        0.024872\n",
      "LBFGS:   18 12:37:05     -425.855966        0.011921\n",
      "LBFGS:   19 12:37:09     -425.856035        0.009181\n",
      "       Step     Time          Energy          fmax\n",
      "LBFGS:    0 12:37:15     -365.433862       21.276935\n",
      "LBFGS:    1 12:37:19     -391.793590        7.086926\n",
      "LBFGS:    2 12:37:23     -417.238324        5.004710\n",
      "LBFGS:    3 12:37:27     -420.517575        2.672172\n",
      "LBFGS:    4 12:37:31     -422.814767        3.078720\n",
      "LBFGS:    5 12:37:35     -424.158773        1.800574\n",
      "LBFGS:    6 12:37:39     -424.910920        2.270294\n",
      "LBFGS:    7 12:37:43     -425.077684        0.644607\n",
      "LBFGS:    8 12:37:47     -425.210309        0.790554\n",
      "LBFGS:    9 12:37:51     -425.453573        0.940776\n",
      "LBFGS:   10 12:37:55     -425.557096        0.781656\n",
      "LBFGS:   11 12:37:59     -425.651761        0.787951\n",
      "LBFGS:   12 12:38:03     -425.701921        0.467233\n",
      "LBFGS:   13 12:38:07     -425.730142        0.203553\n",
      "LBFGS:   14 12:38:11     -425.741987        0.179614\n",
      "LBFGS:   15 12:38:15     -425.755449        0.276705\n",
      "LBFGS:   16 12:38:19     -425.771867        0.324999\n",
      "LBFGS:   17 12:38:23     -425.790231        0.260583\n",
      "LBFGS:   18 12:38:27     -425.804853        0.242497\n",
      "LBFGS:   19 12:38:31     -425.814485        0.169474\n",
      "LBFGS:   20 12:38:34     -425.820817        0.160360\n",
      "LBFGS:   21 12:38:38     -425.825124        0.147645\n",
      "LBFGS:   22 12:38:42     -425.827947        0.105410\n",
      "LBFGS:   23 12:38:46     -425.830327        0.099961\n",
      "LBFGS:   24 12:38:50     -425.833051        0.142305\n",
      "LBFGS:   25 12:38:54     -425.836217        0.138984\n",
      "LBFGS:   26 12:38:58     -425.839238        0.129912\n",
      "LBFGS:   27 12:39:02     -425.841447        0.090624\n",
      "LBFGS:   28 12:39:06     -425.842775        0.053289\n",
      "LBFGS:   29 12:39:10     -425.843705        0.059371\n",
      "LBFGS:   30 12:39:14     -425.844651        0.076610\n",
      "LBFGS:   31 12:39:18     -425.845823        0.082964\n",
      "LBFGS:   32 12:39:22     -425.847188        0.086241\n",
      "LBFGS:   33 12:39:26     -425.848459        0.069661\n",
      "LBFGS:   34 12:39:30     -425.849389        0.055619\n",
      "LBFGS:   35 12:39:34     -425.850053        0.060586\n",
      "LBFGS:   36 12:39:38     -425.850641        0.051654\n",
      "LBFGS:   37 12:39:42     -425.851259        0.045156\n",
      "LBFGS:   38 12:39:46     -425.851880        0.050675\n",
      "LBFGS:   39 12:39:50     -425.852609        0.070815\n",
      "LBFGS:   40 12:39:54     -425.853391        0.060831\n",
      "LBFGS:   41 12:39:58     -425.854058        0.053558\n",
      "LBFGS:   42 12:40:02     -425.854413        0.030476\n",
      "LBFGS:   43 12:40:06     -425.854581        0.028063\n",
      "LBFGS:   44 12:40:10     -425.854741        0.022542\n",
      "LBFGS:   45 12:40:13     -425.854970        0.039047\n",
      "LBFGS:   46 12:40:17     -425.855298        0.050758\n",
      "LBFGS:   47 12:40:21     -425.855634        0.041833\n",
      "LBFGS:   48 12:40:25     -425.855867        0.031527\n",
      "LBFGS:   49 12:40:29     -425.855958        0.012515\n",
      "LBFGS:   50 12:40:33     -425.856023        0.012307\n",
      "LBFGS:   51 12:40:37     -425.856099        0.027716\n",
      "LBFGS:   52 12:40:41     -425.856202        0.034558\n",
      "LBFGS:   53 12:40:45     -425.856317        0.025737\n",
      "LBFGS:   54 12:40:49     -425.856405        0.012860\n",
      "LBFGS:   55 12:40:53     -425.856492        0.015893\n",
      "LBFGS:   56 12:40:57     -425.856530        0.023651\n",
      "LBFGS:   57 12:41:01     -425.856561        0.019378\n",
      "LBFGS:   58 12:41:05     -425.856614        0.009333\n"
     ]
    },
    {
     "name": "stderr",
     "output_type": "stream",
     "text": [
      "Generating DefectEntry objects: 100.0%|████████████████████████████████████████████████████████████| [01:00,   1.64it/s]\n"
     ]
    },
    {
     "name": "stdout",
     "output_type": "stream",
     "text": [
      "Vacancies     Guessed Charges        Conv. Cell Coords    Wyckoff\n",
      "------------  ---------------------  -------------------  ---------\n",
      "v_Na          [+1,0,-1]              [0.044,0.706,0.375]  12d\n",
      "v_Al          [+1,0,-1,-2,-3]        [0.875,0.875,0.875]  4b\n",
      "v_P_C1        [+1,0,-1,-2,-3,-4,-5]  [0.146,0.431,0.365]  24e\n",
      "v_P_C3        [+1,0,-1,-2,-3,-4,-5]  [0.233,0.233,0.233]  8c\n",
      "v_O_C1_P1.49  [+2,+1,0,-1]           [0.063,0.511,0.323]  24e\n",
      "v_O_C1_P1.50  [+2,+1,0,-1]           [0.123,0.367,0.468]  24e\n",
      "v_O_C1_P1.58  [+2,+1,0,-1]           [0.170,0.342,0.266]  24e\n",
      "v_O_C2        [+2,+1,0,-1]           [0.268,0.482,0.375]  12d\n",
      "v_O_C3        [+2,+1,0,-1]           [0.162,0.162,0.162]  8c\n",
      "\n",
      "Substitutions    Guessed Charges              Conv. Cell Coords    Wyckoff\n",
      "---------------  ---------------------------  -------------------  ---------\n",
      "Na_Al            [0,-1,-2]                    [0.875,0.875,0.875]  4b\n",
      "Na_P_C1          [0,-1,-2,-3,-4]              [0.146,0.431,0.365]  24e\n",
      "Na_P_C3          [0,-1,-2,-3,-4]              [0.233,0.233,0.233]  8c\n",
      "Na_O_C1_P1.49    [+3,+2,+1,0]                 [0.063,0.511,0.323]  24e\n",
      "Na_O_C1_P1.50    [+3,+2,+1,0]                 [0.123,0.367,0.468]  24e\n",
      "Na_O_C1_P1.58    [+3,+2,+1,0]                 [0.170,0.342,0.266]  24e\n",
      "Na_O_C2          [+3,+2,+1,0]                 [0.268,0.482,0.375]  12d\n",
      "Na_O_C3          [+3,+2,+1,0]                 [0.162,0.162,0.162]  8c\n",
      "Al_Na            [+2,+1,0]                    [0.044,0.706,0.375]  12d\n",
      "Al_P_C1          [0,-1,-2]                    [0.146,0.431,0.365]  24e\n",
      "Al_P_C3          [0,-1,-2]                    [0.233,0.233,0.233]  8c\n",
      "Al_O_C1_P1.49    [+5,+4,+3,+2,+1,0]           [0.063,0.511,0.323]  24e\n",
      "Al_O_C1_P1.50    [+5,+4,+3,+2,+1,0]           [0.123,0.367,0.468]  24e\n",
      "Al_O_C1_P1.58    [+5,+4,+3,+2,+1,0]           [0.170,0.342,0.266]  24e\n",
      "Al_O_C2          [+5,+4,+3,+2,+1,0]           [0.268,0.482,0.375]  12d\n",
      "Al_O_C3          [+5,+4,+3,+2,+1,0]           [0.162,0.162,0.162]  8c\n",
      "P_Na             [+4,+3,+2,+1,0,-1,-2,-3,-4]  [0.044,0.706,0.375]  12d\n",
      "P_Al             [+2,+1,0,-1,-2,-3,-4,-5,-6]  [0.875,0.875,0.875]  4b\n",
      "P_O_C1_P1.49     [+7,+6,+5,+4,+3,+2,+1,0,-1]  [0.063,0.511,0.323]  24e\n",
      "P_O_C1_P1.50     [+7,+6,+5,+4,+3,+2,+1,0,-1]  [0.123,0.367,0.468]  24e\n",
      "P_O_C1_P1.58     [+7,+6,+5,+4,+3,+2,+1,0,-1]  [0.170,0.342,0.266]  24e\n",
      "P_O_C2           [+7,+6,+5,+4,+3,+2,+1,0,-1]  [0.268,0.482,0.375]  12d\n",
      "P_O_C3           [+7,+6,+5,+4,+3,+2,+1,0,-1]  [0.162,0.162,0.162]  8c\n",
      "O_Na             [0,-1,-2,-3]                 [0.044,0.706,0.375]  12d\n",
      "O_Al             [0,-1,-2,-3,-4,-5]           [0.875,0.875,0.875]  4b\n",
      "O_P_C1           [0,-1,-2,-3,-4,-5,-6,-7]     [0.146,0.431,0.365]  24e\n",
      "O_P_C3           [0,-1,-2,-3,-4,-5,-6,-7]     [0.233,0.233,0.233]  8c\n",
      "Cr_Na            [+5,+4,+3,+2,+1,0]           [0.044,0.706,0.375]  12d\n",
      "Cr_Al            [+3,+2,+1,0,-1]              [0.875,0.875,0.875]  4b\n",
      "Cr_P_C1          [+1,0,-1,-2,-3]              [0.146,0.431,0.365]  24e\n",
      "Cr_P_C3          [+1,0,-1,-2,-3]              [0.233,0.233,0.233]  8c\n",
      "Cr_O_C1_P1.49    [+8,+7,+6,+5,+4,+3,+2,+1,0]  [0.063,0.511,0.323]  24e\n",
      "Cr_O_C1_P1.50    [+8,+7,+6,+5,+4,+3,+2,+1,0]  [0.123,0.367,0.468]  24e\n",
      "Cr_O_C1_P1.58    [+8,+7,+6,+5,+4,+3,+2,+1,0]  [0.170,0.342,0.266]  24e\n",
      "Cr_O_C2          [+8,+7,+6,+5,+4,+3,+2,+1,0]  [0.268,0.482,0.375]  12d\n",
      "Cr_O_C3          [+8,+7,+6,+5,+4,+3,+2,+1,0]  [0.162,0.162,0.162]  8c\n",
      "\n",
      "The number in the Wyckoff label is the site multiplicity/degeneracy of that defect in the conventional ('conv.') unit cell, which comprises 4 formula unit(s) of Na3AlP8O23.\n",
      "\n",
      "Oxidation states were not explicitly set, thus have been guessed as {'Na': 1.0, 'Al': 3.0, 'P': 5.0, 'O': -2.0, 'Cr': 3.0}. If this is unreasonable you should manually set oxidation_states\n",
      "Applying ShakeNBreak... Will apply the following bond distortions: ['-0.6', '-0.5', '-0.4', '-0.3', '-0.2', '-0.1', '0.0', '0.1', '0.2', '0.3', '0.4', '0.5', '0.6', 'Dimer (for vacancies)']. Then, will rattle with a std dev of 0.15 Å \n",
      "\n"
     ]
    },
    {
     "name": "stderr",
     "output_type": "stream",
     "text": [
      "Generating distorted defect structures...0.0%|                                                         | [00:00,  ?it/s]"
     ]
    },
    {
     "name": "stdout",
     "output_type": "stream",
     "text": [
      "\u001b[1m\n",
      "Defect: Cr_Al\u001b[0m\n",
      "\u001b[1mNumber of missing electrons in neutral state: 0\u001b[0m\n",
      "\n",
      "Defect Cr_Al in charge state: 0. Number of distorted neighbours: 0\n"
     ]
    },
    {
     "name": "stderr",
     "output_type": "stream",
     "text": [
      "Generating distorted defect structures...100.0%|███████████████████████████████████████████████████| [00:00,   2.39it/s]\n"
     ]
    },
    {
     "name": "stdout",
     "output_type": "stream",
     "text": [
      "       Step     Time          Energy          fmax\n",
      "LBFGS:    0 12:42:10     -972.760113        0.008169\n",
      "       Step     Time          Energy          fmax\n",
      "LBFGS:    0 12:42:16     -973.123454        1.703406\n",
      "LBFGS:    1 12:42:21     -973.274157        1.042017\n",
      "LBFGS:    2 12:42:26     -973.409014        0.512582\n",
      "LBFGS:    3 12:42:32     -973.470515        0.343289\n",
      "LBFGS:    4 12:42:37     -973.500880        0.300647\n",
      "LBFGS:    5 12:42:42     -973.530749        0.202218\n",
      "LBFGS:    6 12:42:48     -973.546839        0.120964\n",
      "LBFGS:    7 12:42:53     -973.557978        0.110722\n",
      "LBFGS:    8 12:42:59     -973.563746        0.087504\n",
      "LBFGS:    9 12:43:04     -973.567965        0.086716\n",
      "LBFGS:   10 12:43:10     -973.572894        0.081193\n",
      "LBFGS:   11 12:43:15     -973.577647        0.079689\n",
      "LBFGS:   12 12:43:21     -973.580775        0.055551\n",
      "LBFGS:   13 12:43:26     -973.582545        0.040194\n",
      "LBFGS:   14 12:43:32     -973.583750        0.042798\n",
      "LBFGS:   15 12:43:37     -973.584750        0.036163\n",
      "LBFGS:   16 12:43:42     -973.585627        0.027023\n",
      "LBFGS:   17 12:43:48     -973.586260        0.025274\n",
      "LBFGS:   18 12:43:53     -973.586627        0.021802\n",
      "LBFGS:   19 12:43:59     -973.587054        0.016707\n",
      "LBFGS:   20 12:44:04     -973.587420        0.016702\n",
      "LBFGS:   21 12:44:10     -973.587672        0.014734\n",
      "LBFGS:   22 12:44:15     -973.587901        0.016003\n",
      "LBFGS:   23 12:44:21     -973.588061        0.017154\n",
      "LBFGS:   24 12:44:26     -973.588168        0.014587\n",
      "LBFGS:   25 12:44:32     -973.588298        0.013389\n",
      "LBFGS:   26 12:44:37     -973.588412        0.009675\n",
      "       Step     Time          Energy          fmax\n",
      "LBFGS:    0 12:44:45     -866.508848       50.214647\n",
      "LBFGS:    1 12:44:51     -920.279006       17.581600\n",
      "LBFGS:    2 12:44:56     -947.377360       12.357546\n",
      "LBFGS:    3 12:45:02     -960.339221        6.292897\n",
      "LBFGS:    4 12:45:07     -966.187716        5.882296\n",
      "LBFGS:    5 12:45:13     -969.192614        4.313842\n",
      "LBFGS:    6 12:45:18     -970.659953        2.628919\n",
      "LBFGS:    7 12:45:23     -971.557887        1.261044\n",
      "LBFGS:    8 12:45:29     -972.173976        0.935701\n",
      "LBFGS:    9 12:45:34     -972.535937        0.642801\n",
      "LBFGS:   10 12:45:40     -972.762667        0.722681\n",
      "LBFGS:   11 12:45:45     -972.937068        0.700198\n",
      "LBFGS:   12 12:45:51     -973.076083        0.523389\n",
      "LBFGS:   13 12:45:56     -973.170764        0.338673\n",
      "LBFGS:   14 12:46:02     -973.247271        0.434395\n",
      "LBFGS:   15 12:46:07     -973.314639        0.465527\n",
      "LBFGS:   16 12:46:13     -973.372004        0.347957\n",
      "LBFGS:   17 12:46:18     -973.410403        0.207964\n",
      "LBFGS:   18 12:46:24     -973.439044        0.232668\n",
      "LBFGS:   19 12:46:30     -973.463793        0.238105\n",
      "LBFGS:   20 12:46:35     -973.484530        0.186835\n",
      "LBFGS:   21 12:46:41     -973.499713        0.125586\n",
      "LBFGS:   22 12:46:46     -973.511042        0.122285\n",
      "LBFGS:   23 12:46:52     -973.520838        0.129556\n",
      "LBFGS:   24 12:46:57     -973.529826        0.111125\n",
      "LBFGS:   25 12:47:03     -973.537371        0.114870\n",
      "LBFGS:   26 12:47:08     -973.543757        0.085577\n",
      "LBFGS:   27 12:47:14     -973.549220        0.108293\n",
      "LBFGS:   28 12:47:20     -973.554072        0.107481\n",
      "LBFGS:   29 12:47:25     -973.558238        0.092968\n",
      "LBFGS:   30 12:47:31     -973.561984        0.082201\n",
      "LBFGS:   31 12:47:36     -973.565592        0.077203\n",
      "LBFGS:   32 12:47:42     -973.568858        0.084640\n",
      "LBFGS:   33 12:47:47     -973.571536        0.066495\n",
      "LBFGS:   34 12:47:53     -973.573687        0.073119\n",
      "LBFGS:   35 12:47:58     -973.575602        0.053695\n",
      "LBFGS:   36 12:48:04     -973.577273        0.055946\n",
      "LBFGS:   37 12:48:09     -973.578791        0.044800\n",
      "LBFGS:   38 12:48:15     -973.580058        0.048290\n",
      "LBFGS:   39 12:48:21     -973.581187        0.044597\n",
      "LBFGS:   40 12:48:27     -973.582240        0.046988\n",
      "LBFGS:   41 12:48:32     -973.583178        0.035641\n",
      "LBFGS:   42 12:48:38     -973.583934        0.034188\n",
      "LBFGS:   43 12:48:43     -973.584674        0.032298\n",
      "LBFGS:   44 12:48:49     -973.585208        0.030302\n",
      "LBFGS:   45 12:48:54     -973.585818        0.026568\n",
      "LBFGS:   46 12:49:00     -973.586192        0.023786\n",
      "LBFGS:   47 12:49:05     -973.586589        0.023666\n",
      "LBFGS:   48 12:49:11     -973.586932        0.021129\n",
      "LBFGS:   49 12:49:16     -973.587237        0.021057\n",
      "LBFGS:   50 12:49:22     -973.587565        0.016799\n",
      "LBFGS:   51 12:49:27     -973.587748        0.014854\n",
      "LBFGS:   52 12:49:33     -973.587908        0.017240\n",
      "LBFGS:   53 12:49:38     -973.588114        0.016763\n",
      "LBFGS:   54 12:49:44     -973.588236        0.015679\n",
      "LBFGS:   55 12:49:49     -973.588366        0.011145\n",
      "LBFGS:   56 12:49:55     -973.588496        0.012859\n",
      "LBFGS:   57 12:50:00     -973.588595        0.013189\n",
      "LBFGS:   58 12:50:06     -973.588656        0.010667\n",
      "LBFGS:   59 12:50:11     -973.588748        0.009610\n"
     ]
    },
    {
     "name": "stderr",
     "output_type": "stream",
     "text": [
      "Generating DefectEntry objects: 100.0%|████████████████████████████████████████████████████████████| [01:30,   1.10it/s]\n"
     ]
    },
    {
     "name": "stdout",
     "output_type": "stream",
     "text": [
      "Vacancies                 Guessed Charges           Conv. Cell Coords    Wyckoff\n",
      "------------------------  ------------------------  -------------------  ---------\n",
      "v_Cs                      [+1,0,-1]                 [0.000,0.000,0.000]  4a\n",
      "v_Al                      [+1,0,-1,-2,-3]           [0.500,0.500,0.500]  4a\n",
      "v_H_C1_O0.99H1.56O1.77a   [+1,0,-1]                 [0.227,0.390,0.336]  12b\n",
      "v_H_C1_O0.99H1.56O1.77b   [+1,0,-1]                 [0.226,0.508,0.308]  12b\n",
      "v_H_C1_O0.99H1.56O1.77c   [+1,0,-1]                 [0.164,0.727,0.390]  12b\n",
      "v_H_C1_O1.00H1.56         [+1,0,-1]                 [0.009,0.308,0.275]  12b\n",
      "v_H_C1_O1.00H1.65O1.70a   [+1,0,-1]                 [0.042,0.083,0.319]  12b\n",
      "v_H_C1_O1.00H1.65O1.70b   [+1,0,-1]                 [0.084,0.181,0.542]  12b\n",
      "v_H_C1_O1.02O1.59         [+1,0,-1]                 [0.043,0.801,0.475]  12b\n",
      "v_H_C1_O1.02O1.60         [+1,0,-1]                 [0.301,0.475,0.457]  12b\n",
      "v_Se_C3_O1.68H2.92H2.97a  [+1,0,-1,-2,-3,-4,-5,-6]  [0.199,0.199,0.199]  4a\n",
      "v_Se_C3_O1.68H2.92H2.97b  [+1,0,-1,-2,-3,-4,-5,-6]  [0.801,0.801,0.801]  4a\n",
      "v_O_C1_H0.99H1.59         [+2,+1,0,-1]              [0.132,0.715,0.460]  12b\n",
      "v_O_C1_H0.99H1.60         [+2,+1,0,-1]              [0.215,0.459,0.368]  12b\n",
      "v_O_C1_H1.00Al1.91        [+2,+1,0,-1]              [0.017,0.147,0.518]  12b\n",
      "v_O_C1_H1.00H1.02         [+2,+1,0,-1]              [0.017,0.353,0.018]  12b\n",
      "v_O_C1_Se1.68H1.70H1.77a  [+2,+1,0,-1]              [0.079,0.191,0.251]  12b\n",
      "v_O_C1_Se1.68H1.70H1.77b  [+2,+1,0,-1]              [0.191,0.249,0.579]  12b\n",
      "v_O_C3_Se1.69H1.77O2.74a  [+2,+1,0,-1]              [0.275,0.275,0.275]  4a\n",
      "v_O_C3_Se1.69H1.77O2.74b  [+2,+1,0,-1]              [0.725,0.725,0.725]  4a\n",
      "\n",
      "Substitutions              Guessed Charges              Conv. Cell Coords    Wyckoff\n",
      "-------------------------  ---------------------------  -------------------  ---------\n",
      "Cs_Al                      [0,-1,-2]                    [0.500,0.500,0.500]  4a\n",
      "Cs_H_C1_O0.99H1.56O1.77a   [+1,0,-1]                    [0.227,0.390,0.336]  12b\n",
      "Cs_H_C1_O0.99H1.56O1.77b   [+1,0,-1]                    [0.226,0.508,0.308]  12b\n",
      "Cs_H_C1_O0.99H1.56O1.77c   [+1,0,-1]                    [0.164,0.727,0.390]  12b\n",
      "Cs_H_C1_O1.00H1.56         [+1,0,-1]                    [0.009,0.308,0.275]  12b\n",
      "Cs_H_C1_O1.00H1.65O1.70a   [+1,0,-1]                    [0.042,0.083,0.319]  12b\n",
      "Cs_H_C1_O1.00H1.65O1.70b   [+1,0,-1]                    [0.084,0.181,0.542]  12b\n",
      "Cs_H_C1_O1.02O1.59         [+1,0,-1]                    [0.043,0.801,0.475]  12b\n",
      "Cs_H_C1_O1.02O1.60         [+1,0,-1]                    [0.301,0.475,0.457]  12b\n",
      "Cs_Se_C3_O1.68H2.92H2.97a  [0,-1,-2,-3,-4,-5]           [0.199,0.199,0.199]  4a\n",
      "Cs_Se_C3_O1.68H2.92H2.97b  [0,-1,-2,-3,-4,-5]           [0.801,0.801,0.801]  4a\n",
      "Cs_O_C1_H0.99H1.59         [+3,+2,+1,0]                 [0.132,0.715,0.460]  12b\n",
      "Cs_O_C1_H0.99H1.60         [+3,+2,+1,0]                 [0.215,0.459,0.368]  12b\n",
      "Cs_O_C1_H1.00Al1.91        [+3,+2,+1,0]                 [0.017,0.147,0.518]  12b\n",
      "Cs_O_C1_H1.00H1.02         [+3,+2,+1,0]                 [0.017,0.353,0.018]  12b\n",
      "Cs_O_C1_Se1.68H1.70H1.77a  [+3,+2,+1,0]                 [0.079,0.191,0.251]  12b\n",
      "Cs_O_C1_Se1.68H1.70H1.77b  [+3,+2,+1,0]                 [0.191,0.249,0.579]  12b\n",
      "Cs_O_C3_Se1.69H1.77O2.74a  [+3,+2,+1,0]                 [0.275,0.275,0.275]  4a\n",
      "Cs_O_C3_Se1.69H1.77O2.74b  [+3,+2,+1,0]                 [0.725,0.725,0.725]  4a\n",
      "Al_Cs                      [+2,+1,0]                    [0.000,0.000,0.000]  4a\n",
      "Al_H_C1_O0.99H1.56O1.77a   [+2,+1,0]                    [0.227,0.390,0.336]  12b\n",
      "Al_H_C1_O0.99H1.56O1.77b   [+2,+1,0]                    [0.226,0.508,0.308]  12b\n",
      "Al_H_C1_O0.99H1.56O1.77c   [+2,+1,0]                    [0.164,0.727,0.390]  12b\n",
      "Al_H_C1_O1.00H1.56         [+2,+1,0]                    [0.009,0.308,0.275]  12b\n",
      "Al_H_C1_O1.00H1.65O1.70a   [+2,+1,0]                    [0.042,0.083,0.319]  12b\n",
      "Al_H_C1_O1.00H1.65O1.70b   [+2,+1,0]                    [0.084,0.181,0.542]  12b\n",
      "Al_H_C1_O1.02O1.59         [+2,+1,0]                    [0.043,0.801,0.475]  12b\n",
      "Al_H_C1_O1.02O1.60         [+2,+1,0]                    [0.301,0.475,0.457]  12b\n",
      "Al_Se_C3_O1.68H2.92H2.97a  [0,-1,-2,-3]                 [0.199,0.199,0.199]  4a\n",
      "Al_Se_C3_O1.68H2.92H2.97b  [0,-1,-2,-3]                 [0.801,0.801,0.801]  4a\n",
      "Al_O_C1_H0.99H1.59         [+5,+4,+3,+2,+1,0]           [0.132,0.715,0.460]  12b\n",
      "Al_O_C1_H0.99H1.60         [+5,+4,+3,+2,+1,0]           [0.215,0.459,0.368]  12b\n",
      "Al_O_C1_H1.00Al1.91        [+5,+4,+3,+2,+1,0]           [0.017,0.147,0.518]  12b\n",
      "Al_O_C1_H1.00H1.02         [+5,+4,+3,+2,+1,0]           [0.017,0.353,0.018]  12b\n",
      "Al_O_C1_Se1.68H1.70H1.77a  [+5,+4,+3,+2,+1,0]           [0.079,0.191,0.251]  12b\n",
      "Al_O_C1_Se1.68H1.70H1.77b  [+5,+4,+3,+2,+1,0]           [0.191,0.249,0.579]  12b\n",
      "Al_O_C3_Se1.69H1.77O2.74a  [+5,+4,+3,+2,+1,0]           [0.275,0.275,0.275]  4a\n",
      "Al_O_C3_Se1.69H1.77O2.74b  [+5,+4,+3,+2,+1,0]           [0.725,0.725,0.725]  4a\n",
      "H_Cs                       [+1,0,-1,-2]                 [0.000,0.000,0.000]  4a\n",
      "H_Al                       [0,-1,-2,-3,-4]              [0.500,0.500,0.500]  4a\n",
      "H_Se_C3_O1.68H2.92H2.97a   [0,-1,-2,-3,-4,-5,-6,-7]     [0.199,0.199,0.199]  4a\n",
      "H_Se_C3_O1.68H2.92H2.97b   [0,-1,-2,-3,-4,-5,-6,-7]     [0.801,0.801,0.801]  4a\n",
      "H_O_C1_H0.99H1.59          [+3,+2,+1,0]                 [0.132,0.715,0.460]  12b\n",
      "H_O_C1_H0.99H1.60          [+3,+2,+1,0]                 [0.215,0.459,0.368]  12b\n",
      "H_O_C1_H1.00Al1.91         [+3,+2,+1,0]                 [0.017,0.147,0.518]  12b\n",
      "H_O_C1_H1.00H1.02          [+3,+2,+1,0]                 [0.017,0.353,0.018]  12b\n",
      "H_O_C1_Se1.68H1.70H1.77a   [+3,+2,+1,0]                 [0.079,0.191,0.251]  12b\n",
      "H_O_C1_Se1.68H1.70H1.77b   [+3,+2,+1,0]                 [0.191,0.249,0.579]  12b\n",
      "H_O_C3_Se1.69H1.77O2.74a   [+3,+2,+1,0]                 [0.275,0.275,0.275]  4a\n",
      "H_O_C3_Se1.69H1.77O2.74b   [+3,+2,+1,0]                 [0.725,0.725,0.725]  4a\n",
      "Se_Cs                      [+5,+4,+3,+2,+1,0,-1,-2,-3]  [0.000,0.000,0.000]  4a\n",
      "Se_Al                      [+3,+2,+1,0,-1,-2,-3,-4,-5]  [0.500,0.500,0.500]  4a\n",
      "Se_H_C1_O0.99H1.56O1.77a   [+5,+4,+3,+2,+1,0,-1,-2,-3]  [0.227,0.390,0.336]  12b\n",
      "Se_H_C1_O0.99H1.56O1.77b   [+5,+4,+3,+2,+1,0,-1,-2,-3]  [0.226,0.508,0.308]  12b\n",
      "Se_H_C1_O0.99H1.56O1.77c   [+5,+4,+3,+2,+1,0,-1,-2,-3]  [0.164,0.727,0.390]  12b\n",
      "Se_H_C1_O1.00H1.56         [+5,+4,+3,+2,+1,0,-1,-2,-3]  [0.009,0.308,0.275]  12b\n",
      "Se_H_C1_O1.00H1.65O1.70a   [+5,+4,+3,+2,+1,0,-1,-2,-3]  [0.042,0.083,0.319]  12b\n",
      "Se_H_C1_O1.00H1.65O1.70b   [+5,+4,+3,+2,+1,0,-1,-2,-3]  [0.084,0.181,0.542]  12b\n",
      "Se_H_C1_O1.02O1.59         [+5,+4,+3,+2,+1,0,-1,-2,-3]  [0.043,0.801,0.475]  12b\n",
      "Se_H_C1_O1.02O1.60         [+5,+4,+3,+2,+1,0,-1,-2,-3]  [0.301,0.475,0.457]  12b\n",
      "Se_O_C1_H0.99H1.59         [+8,+7,+6,+5,+4,+3,+2,+1,0]  [0.132,0.715,0.460]  12b\n",
      "Se_O_C1_H0.99H1.60         [+8,+7,+6,+5,+4,+3,+2,+1,0]  [0.215,0.459,0.368]  12b\n",
      "Se_O_C1_H1.00Al1.91        [+8,+7,+6,+5,+4,+3,+2,+1,0]  [0.017,0.147,0.518]  12b\n",
      "Se_O_C1_H1.00H1.02         [+8,+7,+6,+5,+4,+3,+2,+1,0]  [0.017,0.353,0.018]  12b\n",
      "Se_O_C1_Se1.68H1.70H1.77a  [+8,+7,+6,+5,+4,+3,+2,+1,0]  [0.079,0.191,0.251]  12b\n",
      "Se_O_C1_Se1.68H1.70H1.77b  [+8,+7,+6,+5,+4,+3,+2,+1,0]  [0.191,0.249,0.579]  12b\n",
      "Se_O_C3_Se1.69H1.77O2.74a  [+8,+7,+6,+5,+4,+3,+2,+1,0]  [0.275,0.275,0.275]  4a\n",
      "Se_O_C3_Se1.69H1.77O2.74b  [+8,+7,+6,+5,+4,+3,+2,+1,0]  [0.725,0.725,0.725]  4a\n",
      "O_Cs                       [0,-1,-2,-3]                 [0.000,0.000,0.000]  4a\n",
      "O_Al                       [0,-1,-2,-3,-4,-5]           [0.500,0.500,0.500]  4a\n",
      "O_H_C1_O0.99H1.56O1.77a    [0,-1,-2,-3]                 [0.227,0.390,0.336]  12b\n",
      "O_H_C1_O0.99H1.56O1.77b    [0,-1,-2,-3]                 [0.226,0.508,0.308]  12b\n",
      "O_H_C1_O0.99H1.56O1.77c    [0,-1,-2,-3]                 [0.164,0.727,0.390]  12b\n",
      "O_H_C1_O1.00H1.56          [0,-1,-2,-3]                 [0.009,0.308,0.275]  12b\n",
      "O_H_C1_O1.00H1.65O1.70a    [0,-1,-2,-3]                 [0.042,0.083,0.319]  12b\n",
      "O_H_C1_O1.00H1.65O1.70b    [0,-1,-2,-3]                 [0.084,0.181,0.542]  12b\n",
      "O_H_C1_O1.02O1.59          [0,-1,-2,-3]                 [0.043,0.801,0.475]  12b\n",
      "O_H_C1_O1.02O1.60          [0,-1,-2,-3]                 [0.301,0.475,0.457]  12b\n",
      "O_Se_C3_O1.68H2.92H2.97a   [0,-1,-2,-3,-4,-5,-6,-7,-8]  [0.199,0.199,0.199]  4a\n",
      "O_Se_C3_O1.68H2.92H2.97b   [0,-1,-2,-3,-4,-5,-6,-7,-8]  [0.801,0.801,0.801]  4a\n",
      "Cr_Cs                      [+5,+4,+3,+2,+1,0]           [0.000,0.000,0.000]  4a\n",
      "Cr_Al                      [+3,+2,+1,0,-1]              [0.500,0.500,0.500]  4a\n",
      "Cr_H_C1_O0.99H1.56O1.77a   [+5,+4,+3,+2,+1,0]           [0.227,0.390,0.336]  12b\n",
      "Cr_H_C1_O0.99H1.56O1.77b   [+5,+4,+3,+2,+1,0]           [0.226,0.508,0.308]  12b\n",
      "Cr_H_C1_O0.99H1.56O1.77c   [+5,+4,+3,+2,+1,0]           [0.164,0.727,0.390]  12b\n",
      "Cr_H_C1_O1.00H1.56         [+5,+4,+3,+2,+1,0]           [0.009,0.308,0.275]  12b\n",
      "Cr_H_C1_O1.00H1.65O1.70a   [+5,+4,+3,+2,+1,0]           [0.042,0.083,0.319]  12b\n",
      "Cr_H_C1_O1.00H1.65O1.70b   [+5,+4,+3,+2,+1,0]           [0.084,0.181,0.542]  12b\n",
      "Cr_H_C1_O1.02O1.59         [+5,+4,+3,+2,+1,0]           [0.043,0.801,0.475]  12b\n",
      "Cr_H_C1_O1.02O1.60         [+5,+4,+3,+2,+1,0]           [0.301,0.475,0.457]  12b\n",
      "Cr_Se_C3_O1.68H2.92H2.97a  [0,-1,-2,-3,-4]              [0.199,0.199,0.199]  4a\n",
      "Cr_Se_C3_O1.68H2.92H2.97b  [0,-1,-2,-3,-4]              [0.801,0.801,0.801]  4a\n",
      "Cr_O_C1_H0.99H1.59         [+8,+7,+6,+5,+4,+3,+2,+1,0]  [0.132,0.715,0.460]  12b\n",
      "Cr_O_C1_H0.99H1.60         [+8,+7,+6,+5,+4,+3,+2,+1,0]  [0.215,0.459,0.368]  12b\n",
      "Cr_O_C1_H1.00Al1.91        [+8,+7,+6,+5,+4,+3,+2,+1,0]  [0.017,0.147,0.518]  12b\n",
      "Cr_O_C1_H1.00H1.02         [+8,+7,+6,+5,+4,+3,+2,+1,0]  [0.017,0.353,0.018]  12b\n",
      "Cr_O_C1_Se1.68H1.70H1.77a  [+8,+7,+6,+5,+4,+3,+2,+1,0]  [0.079,0.191,0.251]  12b\n",
      "Cr_O_C1_Se1.68H1.70H1.77b  [+8,+7,+6,+5,+4,+3,+2,+1,0]  [0.191,0.249,0.579]  12b\n",
      "Cr_O_C3_Se1.69H1.77O2.74a  [+8,+7,+6,+5,+4,+3,+2,+1,0]  [0.275,0.275,0.275]  4a\n",
      "Cr_O_C3_Se1.69H1.77O2.74b  [+8,+7,+6,+5,+4,+3,+2,+1,0]  [0.725,0.725,0.725]  4a\n",
      "\n",
      "The number in the Wyckoff label is the site multiplicity/degeneracy of that defect in the conventional ('conv.') unit cell, which comprises 4 formula unit(s) of CsAlH24(SeO10)2.\n",
      "\n",
      "Oxidation states were not explicitly set, thus have been guessed as {'Cs': 1.0, 'Al': 3.0, 'H': 1.0, 'Se': 6.0, 'O': -2.0, 'Cr': 3.0}. If this is unreasonable you should manually set oxidation_states\n",
      "Applying ShakeNBreak... Will apply the following bond distortions: ['-0.6', '-0.5', '-0.4', '-0.3', '-0.2', '-0.1', '0.0', '0.1', '0.2', '0.3', '0.4', '0.5', '0.6', 'Dimer (for vacancies)']. Then, will rattle with a std dev of 0.10 Å \n",
      "\n"
     ]
    },
    {
     "name": "stderr",
     "output_type": "stream",
     "text": [
      "Generating distorted defect structures...0.0%|                                                         | [00:00,  ?it/s]"
     ]
    },
    {
     "name": "stdout",
     "output_type": "stream",
     "text": [
      "\u001b[1m\n",
      "Defect: Cr_Al\u001b[0m\n",
      "\u001b[1mNumber of missing electrons in neutral state: 0\u001b[0m\n",
      "\n",
      "Defect Cr_Al in charge state: 0. Number of distorted neighbours: 0\n"
     ]
    },
    {
     "name": "stderr",
     "output_type": "stream",
     "text": [
      "distortions.py:577: UserWarning: Automatic bond-length detection gave a bulk bond length of 0.9928829576180047 Å, which is almost certainly too small. Reverting to 2.25 Å. If this is too large, set `d_min` manually\n",
      "Generating distorted defect structures...100.0%|███████████████████████████████████████████████████| [01:22,  82.91s/it]\n"
     ]
    },
    {
     "name": "stdout",
     "output_type": "stream",
     "text": [
      "       Step     Time          Energy          fmax\n",
      "LBFGS:    0 12:53:10     -986.646500        0.005847\n",
      "       Step     Time          Energy          fmax\n",
      "LBFGS:    0 12:53:18     -986.973700        1.705448\n",
      "LBFGS:    1 12:53:26     -987.135420        0.538223\n",
      "LBFGS:    2 12:53:34     -987.233900        0.544889\n",
      "LBFGS:    3 12:53:42     -987.337294        0.346547\n",
      "LBFGS:    4 12:53:50     -987.367697        0.281698\n",
      "LBFGS:    5 12:53:57     -987.396086        0.266268\n",
      "LBFGS:    6 12:54:05     -987.419585        0.232727\n",
      "LBFGS:    7 12:54:13     -987.433691        0.138202\n",
      "LBFGS:    8 12:54:21     -987.438757        0.070849\n",
      "LBFGS:    9 12:54:29     -987.440893        0.067830\n",
      "LBFGS:   10 12:54:37     -987.444022        0.100971\n",
      "LBFGS:   11 12:54:45     -987.448004        0.120352\n",
      "LBFGS:   12 12:54:53     -987.450934        0.081443\n",
      "LBFGS:   13 12:55:01     -987.452292        0.042282\n",
      "LBFGS:   14 12:55:09     -987.453154        0.040146\n",
      "LBFGS:   15 12:55:17     -987.454397        0.071700\n",
      "LBFGS:   16 12:55:25     -987.455946        0.085378\n",
      "LBFGS:   17 12:55:33     -987.457411        0.057063\n",
      "LBFGS:   18 12:55:41     -987.458411        0.031003\n",
      "LBFGS:   19 12:55:49     -987.459105        0.037417\n",
      "LBFGS:   20 12:55:57     -987.459853        0.054029\n",
      "LBFGS:   21 12:56:05     -987.460486        0.042322\n",
      "LBFGS:   22 12:56:13     -987.460852        0.017166\n",
      "LBFGS:   23 12:56:21     -987.461088        0.016100\n",
      "LBFGS:   24 12:56:29     -987.461417        0.036280\n",
      "LBFGS:   25 12:56:37     -987.461783        0.041841\n",
      "LBFGS:   26 12:56:45     -987.462103        0.026198\n",
      "LBFGS:   27 12:56:53     -987.462340        0.017644\n",
      "LBFGS:   28 12:57:01     -987.462553        0.026087\n",
      "LBFGS:   29 12:57:09     -987.462881        0.040040\n",
      "LBFGS:   30 12:57:17     -987.463270        0.042086\n",
      "LBFGS:   31 12:57:25     -987.463522        0.022986\n",
      "LBFGS:   32 12:57:33     -987.463690        0.009929\n",
      "       Step     Time          Energy          fmax\n",
      "LBFGS:    0 12:57:45     -866.735522       29.015184\n",
      "LBFGS:    1 12:57:53     -905.170943       10.089506\n",
      "LBFGS:    2 12:58:01     -951.844443        4.733082\n",
      "LBFGS:    3 12:58:09     -968.629744        8.057030\n",
      "LBFGS:    4 12:58:17     -977.163241        3.453376\n",
      "LBFGS:    5 12:58:25     -980.863840        2.798738\n",
      "LBFGS:    6 12:58:33     -984.201063        3.307845\n",
      "LBFGS:    7 12:58:41     -985.462630        1.595619\n",
      "LBFGS:    8 12:58:49     -986.078780        0.682035\n",
      "LBFGS:    9 12:58:57     -986.300406        0.558040\n",
      "LBFGS:   10 12:59:06     -986.691969        0.651805\n",
      "LBFGS:   11 12:59:14     -986.875220        0.688212\n",
      "LBFGS:   12 12:59:22     -987.042319        0.615749\n",
      "LBFGS:   13 12:59:30     -987.133772        0.384400\n",
      "LBFGS:   14 12:59:38     -987.198569        0.349704\n",
      "LBFGS:   15 12:59:46     -987.240217        0.311602\n",
      "LBFGS:   16 12:59:54     -987.276350        0.261620\n",
      "LBFGS:   17 13:00:02     -987.304068        0.253836\n",
      "LBFGS:   18 13:00:10     -987.326895        0.259846\n",
      "LBFGS:   19 13:00:18     -987.347227        0.273263\n",
      "LBFGS:   20 13:00:26     -987.365324        0.286585\n",
      "LBFGS:   21 13:00:34     -987.378966        0.183968\n",
      "LBFGS:   22 13:00:42     -987.389097        0.169817\n",
      "LBFGS:   23 13:00:51     -987.398070        0.160509\n",
      "LBFGS:   24 13:00:59     -987.408057        0.247150\n",
      "LBFGS:   25 13:01:07     -987.417708        0.211507\n",
      "LBFGS:   26 13:01:15     -987.424086        0.125940\n",
      "LBFGS:   27 13:01:23     -987.427756        0.109172\n",
      "LBFGS:   28 13:01:31     -987.430586        0.091595\n",
      "LBFGS:   29 13:01:39     -987.433417        0.110460\n",
      "LBFGS:   30 13:01:47     -987.436407        0.142680\n",
      "LBFGS:   31 13:01:55     -987.439322        0.117984\n",
      "LBFGS:   32 13:02:03     -987.442015        0.092366\n",
      "LBFGS:   33 13:02:11     -987.444464        0.088468\n",
      "LBFGS:   34 13:02:20     -987.446707        0.126832\n",
      "LBFGS:   35 13:02:28     -987.448622        0.122412\n",
      "LBFGS:   36 13:02:36     -987.450209        0.057892\n",
      "LBFGS:   37 13:02:44     -987.451468        0.051568\n",
      "LBFGS:   38 13:02:52     -987.452635        0.097014\n",
      "LBFGS:   39 13:03:00     -987.453856        0.125003\n",
      "LBFGS:   40 13:03:08     -987.454939        0.092847\n",
      "LBFGS:   41 13:03:16     -987.455733        0.033722\n",
      "LBFGS:   42 13:03:24     -987.456297        0.037515\n",
      "LBFGS:   43 13:03:32     -987.456862        0.081016\n",
      "LBFGS:   44 13:03:40     -987.457716        0.101755\n",
      "LBFGS:   45 13:03:48     -987.458739        0.081365\n",
      "LBFGS:   46 13:03:56     -987.459608        0.045931\n",
      "LBFGS:   47 13:04:04     -987.460158        0.025514\n",
      "LBFGS:   48 13:04:12     -987.460493        0.043098\n",
      "LBFGS:   49 13:04:20     -987.460905        0.043202\n",
      "LBFGS:   50 13:04:28     -987.461378        0.045752\n",
      "LBFGS:   51 13:04:36     -987.461905        0.043498\n",
      "LBFGS:   52 13:04:44     -987.462302        0.030861\n",
      "LBFGS:   53 13:04:52     -987.462637        0.033653\n",
      "LBFGS:   54 13:05:00     -987.462942        0.024501\n",
      "LBFGS:   55 13:05:08     -987.463133        0.026116\n",
      "LBFGS:   56 13:05:16     -987.463309        0.016550\n",
      "LBFGS:   57 13:05:24     -987.463461        0.020745\n",
      "LBFGS:   58 13:05:33     -987.463629        0.023212\n",
      "LBFGS:   59 13:05:40     -987.463843        0.033268\n",
      "LBFGS:   60 13:05:48     -987.464049        0.031058\n",
      "LBFGS:   61 13:05:56     -987.464224        0.022629\n",
      "LBFGS:   62 13:06:04     -987.464377        0.017746\n",
      "LBFGS:   63 13:06:12     -987.464461        0.014872\n",
      "LBFGS:   64 13:06:20     -987.464560        0.018450\n",
      "LBFGS:   65 13:06:28     -987.464667        0.022072\n",
      "LBFGS:   66 13:06:36     -987.464766        0.025507\n",
      "LBFGS:   67 13:06:44     -987.464842        0.017097\n",
      "LBFGS:   68 13:06:52     -987.464957        0.013382\n",
      "LBFGS:   69 13:07:00     -987.465033        0.014568\n",
      "LBFGS:   70 13:07:08     -987.465094        0.018736\n",
      "LBFGS:   71 13:07:16     -987.465170        0.017591\n",
      "LBFGS:   72 13:07:24     -987.465239        0.009061\n"
     ]
    },
    {
     "name": "stderr",
     "output_type": "stream",
     "text": [
      "Generating DefectEntry objects: 100.0%|████████████████████████████████████████████████████████████| [01:25,   1.17it/s]\n"
     ]
    },
    {
     "name": "stdout",
     "output_type": "stream",
     "text": [
      "Vacancies    Guessed Charges    Conv. Cell Coords    Wyckoff\n",
      "-----------  -----------------  -------------------  ---------\n",
      "v_Al         [+1,0,-1,-2,-3]    [0.000,0.000,0.148]  12c\n",
      "v_O          [+2,+1,0,-1]       [0.306,0.306,0.250]  18e\n",
      "\n",
      "Substitutions    Guessed Charges     Conv. Cell Coords    Wyckoff\n",
      "---------------  ------------------  -------------------  ---------\n",
      "Al_O             [+5,+4,+3,+2,+1,0]  [0.306,0.306,0.250]  18e\n",
      "O_Al             [0,-1,-2,-3,-4,-5]  [0.000,0.000,0.148]  12c\n",
      "Cr_Al            [+3,+2,+1,0,-1]     [0.000,0.000,0.148]  12c\n",
      "Cr_O             [+5,+4,+3,+2,+1,0]  [0.306,0.306,0.250]  18e\n",
      "\n",
      "The number in the Wyckoff label is the site multiplicity/degeneracy of that defect in the conventional ('conv.') unit cell, which comprises 6 formula unit(s) of Al2O3.\n",
      "\n",
      "Oxidation states were not explicitly set, thus have been guessed as {'Al': 3.0, 'O': -2.0, 'Cr': 3.0}. If this is unreasonable you should manually set oxidation_states\n",
      "Applying ShakeNBreak... Will apply the following bond distortions: ['-0.6', '-0.5', '-0.4', '-0.3', '-0.2', '-0.1', '0.0', '0.1', '0.2', '0.3', '0.4', '0.5', '0.6', 'Dimer (for vacancies)']. Then, will rattle with a std dev of 0.19 Å \n",
      "\n"
     ]
    },
    {
     "name": "stderr",
     "output_type": "stream",
     "text": [
      "Generating distorted defect structures...0.0%|                                                         | [00:00,  ?it/s]"
     ]
    },
    {
     "name": "stdout",
     "output_type": "stream",
     "text": [
      "\u001b[1m\n",
      "Defect: Cr_Al\u001b[0m\n",
      "\u001b[1mNumber of missing electrons in neutral state: 0\u001b[0m\n",
      "\n",
      "Defect Cr_Al in charge state: 0. Number of distorted neighbours: 0\n"
     ]
    },
    {
     "name": "stderr",
     "output_type": "stream",
     "text": [
      "Generating distorted defect structures...100.0%|███████████████████████████████████████████████████| [00:00,   1.63it/s]\n"
     ]
    },
    {
     "name": "stdout",
     "output_type": "stream",
     "text": [
      "       Step     Time          Energy          fmax\n",
      "LBFGS:    0 13:08:56     -897.796069        0.009224\n",
      "       Step     Time          Energy          fmax\n",
      "LBFGS:    0 13:09:03     -898.323281        2.269423\n",
      "LBFGS:    1 13:09:09     -898.545113        1.107771\n",
      "LBFGS:    2 13:09:16     -898.651116        0.299514\n",
      "LBFGS:    3 13:09:23     -898.669976        0.182035\n",
      "LBFGS:    4 13:09:29     -898.681710        0.133068\n",
      "LBFGS:    5 13:09:36     -898.686532        0.078210\n",
      "LBFGS:    6 13:09:42     -898.689065        0.065261\n",
      "LBFGS:    7 13:09:49     -898.690301        0.048129\n",
      "LBFGS:    8 13:09:55     -898.691079        0.025255\n",
      "LBFGS:    9 13:10:02     -898.691461        0.024744\n",
      "LBFGS:   10 13:10:09     -898.691613        0.019326\n",
      "LBFGS:   11 13:10:15     -898.691720        0.012390\n",
      "LBFGS:   12 13:10:22     -898.691827        0.009367\n",
      "       Step     Time          Energy          fmax\n",
      "LBFGS:    0 13:10:32     -802.695939       22.732712\n",
      "LBFGS:    1 13:10:38     -850.964257        9.594565\n",
      "LBFGS:    2 13:10:45     -878.899316        4.181870\n",
      "LBFGS:    3 13:10:52     -890.758675        3.130778\n",
      "LBFGS:    4 13:10:58     -894.093453        2.016651\n",
      "LBFGS:    5 13:11:05     -896.313134        1.268290\n",
      "LBFGS:    6 13:11:12     -897.349069        0.973552\n",
      "LBFGS:    7 13:11:18     -897.863946        0.892034\n",
      "LBFGS:    8 13:11:25     -898.171487        0.688742\n",
      "LBFGS:    9 13:11:32     -898.372613        0.447791\n",
      "LBFGS:   10 13:11:39     -898.480462        0.354721\n",
      "LBFGS:   11 13:11:46     -898.553643        0.331684\n",
      "LBFGS:   12 13:11:52     -898.603799        0.269501\n",
      "LBFGS:   13 13:11:59     -898.635232        0.217756\n",
      "LBFGS:   14 13:12:06     -898.655175        0.181938\n",
      "LBFGS:   15 13:12:12     -898.668939        0.137686\n",
      "LBFGS:   16 13:12:19     -898.678368        0.107226\n",
      "LBFGS:   17 13:12:25     -898.684136        0.068193\n",
      "LBFGS:   18 13:12:32     -898.687158        0.051670\n",
      "LBFGS:   19 13:12:39     -898.689095        0.039306\n",
      "LBFGS:   20 13:12:45     -898.690240        0.034298\n",
      "LBFGS:   21 13:12:52     -898.690926        0.024607\n",
      "LBFGS:   22 13:12:58     -898.691308        0.018505\n",
      "LBFGS:   23 13:13:05     -898.691476        0.016177\n",
      "LBFGS:   24 13:13:12     -898.691735        0.013150\n",
      "LBFGS:   25 13:13:18     -898.691796        0.009896\n"
     ]
    },
    {
     "name": "stderr",
     "output_type": "stream",
     "text": [
      "Generating DefectEntry objects: 100.0%|████████████████████████████████████████████████████████████| [03:54,   2.34s/it]\n"
     ]
    },
    {
     "name": "stdout",
     "output_type": "stream",
     "text": [
      "Vacancies                 Guessed Charges           Conv. Cell Coords    Wyckoff\n",
      "------------------------  ------------------------  -------------------  ---------\n",
      "v_Al_C3_O1.89             [+1,0,-1,-2,-3]           [0.000,0.000,0.145]  6c\n",
      "v_Al_C3_O1.90             [+1,0,-1,-2,-3]           [0.000,0.000,0.351]  6c\n",
      "v_S                       [+1,0,-1,-2,-3,-4,-5,-6]  [0.378,0.046,0.083]  18f\n",
      "v_O_C1_S1.47              [+2,+1,0,-1]              [0.014,0.191,0.091]  18f\n",
      "v_O_C1_S1.48Al1.90O2.38a  [+2,+1,0,-1]              [0.183,0.202,0.193]  18f\n",
      "v_O_C1_S1.48Al1.90O2.38b  [+2,+1,0,-1]              [0.217,0.148,0.302]  18f\n",
      "v_O_C1_S1.48Al1.90O2.38c  [+2,+1,0,-1]              [0.066,0.214,0.402]  18f\n",
      "\n",
      "Substitutions              Guessed Charges              Conv. Cell Coords    Wyckoff\n",
      "-------------------------  ---------------------------  -------------------  ---------\n",
      "Al_S                       [0,-1,-2,-3]                 [0.378,0.046,0.083]  18f\n",
      "Al_O_C1_S1.47              [+5,+4,+3,+2,+1,0]           [0.014,0.191,0.091]  18f\n",
      "Al_O_C1_S1.48Al1.90O2.38a  [+5,+4,+3,+2,+1,0]           [0.183,0.202,0.193]  18f\n",
      "Al_O_C1_S1.48Al1.90O2.38b  [+5,+4,+3,+2,+1,0]           [0.217,0.148,0.302]  18f\n",
      "Al_O_C1_S1.48Al1.90O2.38c  [+5,+4,+3,+2,+1,0]           [0.066,0.214,0.402]  18f\n",
      "S_Al_C3_O1.89              [+3,+2,+1,0,-1,-2,-3,-4,-5]  [0.000,0.000,0.145]  6c\n",
      "S_Al_C3_O1.90              [+3,+2,+1,0,-1,-2,-3,-4,-5]  [0.000,0.000,0.351]  6c\n",
      "S_O_C1_S1.47               [+8,+7,+6,+5,+4,+3,+2,+1,0]  [0.014,0.191,0.091]  18f\n",
      "S_O_C1_S1.48Al1.90O2.38a   [+8,+7,+6,+5,+4,+3,+2,+1,0]  [0.183,0.202,0.193]  18f\n",
      "S_O_C1_S1.48Al1.90O2.38b   [+8,+7,+6,+5,+4,+3,+2,+1,0]  [0.217,0.148,0.302]  18f\n",
      "S_O_C1_S1.48Al1.90O2.38c   [+8,+7,+6,+5,+4,+3,+2,+1,0]  [0.066,0.214,0.402]  18f\n",
      "O_Al_C3_O1.89              [0,-1,-2,-3,-4,-5]           [0.000,0.000,0.145]  6c\n",
      "O_Al_C3_O1.90              [0,-1,-2,-3,-4,-5]           [0.000,0.000,0.351]  6c\n",
      "O_S                        [0,-1,-2,-3,-4,-5,-6,-7,-8]  [0.378,0.046,0.083]  18f\n",
      "Cr_Al_C3_O1.89             [+3,+2,+1,0,-1]              [0.000,0.000,0.145]  6c\n",
      "Cr_Al_C3_O1.90             [+3,+2,+1,0,-1]              [0.000,0.000,0.351]  6c\n",
      "Cr_S                       [0,-1,-2,-3,-4]              [0.378,0.046,0.083]  18f\n",
      "Cr_O_C1_S1.47              [+8,+7,+6,+5,+4,+3,+2,+1,0]  [0.014,0.191,0.091]  18f\n",
      "Cr_O_C1_S1.48Al1.90O2.38a  [+8,+7,+6,+5,+4,+3,+2,+1,0]  [0.183,0.202,0.193]  18f\n",
      "Cr_O_C1_S1.48Al1.90O2.38b  [+8,+7,+6,+5,+4,+3,+2,+1,0]  [0.217,0.148,0.302]  18f\n",
      "Cr_O_C1_S1.48Al1.90O2.38c  [+8,+7,+6,+5,+4,+3,+2,+1,0]  [0.066,0.214,0.402]  18f\n",
      "\n",
      "The number in the Wyckoff label is the site multiplicity/degeneracy of that defect in the conventional ('conv.') unit cell, which comprises 6 formula unit(s) of Al2(SO4)3.\n",
      "\n",
      "Oxidation states were not explicitly set, thus have been guessed as {'Al': 3.0, 'S': 6.0, 'O': -2.0, 'Cr': 3.0}. If this is unreasonable you should manually set oxidation_states\n",
      "Applying ShakeNBreak... Will apply the following bond distortions: ['-0.6', '-0.5', '-0.4', '-0.3', '-0.2', '-0.1', '0.0', '0.1', '0.2', '0.3', '0.4', '0.5', '0.6', 'Dimer (for vacancies)']. Then, will rattle with a std dev of 0.15 Å \n",
      "\n"
     ]
    },
    {
     "name": "stderr",
     "output_type": "stream",
     "text": [
      "Generating distorted defect structures...0.0%|                                                         | [00:00,  ?it/s]"
     ]
    },
    {
     "name": "stdout",
     "output_type": "stream",
     "text": [
      "\u001b[1m\n",
      "Defect: Cr_Al_C3_O1.89\u001b[0m\n",
      "\u001b[1mNumber of missing electrons in neutral state: 0\u001b[0m\n",
      "\n",
      "Defect Cr_Al_C3_O1.89 in charge state: 0. Number of distorted neighbours: 0\n"
     ]
    },
    {
     "name": "stderr",
     "output_type": "stream",
     "text": [
      "Generating distorted defect structures...50.0%|██████████████████████████                          | [00:00,   1.09it/s]"
     ]
    },
    {
     "name": "stdout",
     "output_type": "stream",
     "text": [
      "\u001b[1m\n",
      "Defect: Cr_Al_C3_O1.90\u001b[0m\n",
      "\u001b[1mNumber of missing electrons in neutral state: 0\u001b[0m\n",
      "\n",
      "Defect Cr_Al_C3_O1.90 in charge state: 0. Number of distorted neighbours: 0\n"
     ]
    },
    {
     "name": "stderr",
     "output_type": "stream",
     "text": [
      "Generating distorted defect structures...100.0%|███████████████████████████████████████████████████| [00:01,   1.17it/s]\n"
     ]
    },
    {
     "name": "stdout",
     "output_type": "stream",
     "text": [
      "       Step     Time          Energy          fmax\n",
      "LBFGS:    0 13:17:19     -885.849204        0.009273\n",
      "       Step     Time          Energy          fmax\n",
      "LBFGS:    0 13:17:24     -886.236225        1.765042\n",
      "LBFGS:    1 13:17:29     -886.388671        1.117932\n",
      "LBFGS:    2 13:17:35     -886.497630        0.434310\n",
      "LBFGS:    3 13:17:40     -886.555818        0.364547\n",
      "LBFGS:    4 13:17:46     -886.601697        0.313946\n",
      "LBFGS:    5 13:17:51     -886.635358        0.225630\n",
      "LBFGS:    6 13:17:57     -886.653036        0.148385\n",
      "LBFGS:    7 13:18:02     -886.659676        0.114349\n",
      "LBFGS:    8 13:18:07     -886.664126        0.124915\n",
      "LBFGS:    9 13:18:13     -886.669575        0.103533\n",
      "LBFGS:   10 13:18:18     -886.674360        0.110569\n",
      "LBFGS:   11 13:18:23     -886.677886        0.091245\n",
      "LBFGS:   12 13:18:29     -886.681176        0.080461\n",
      "LBFGS:   13 13:18:34     -886.684325        0.088222\n",
      "LBFGS:   14 13:18:39     -886.687147        0.090152\n",
      "LBFGS:   15 13:18:45     -886.689336        0.057006\n",
      "LBFGS:   16 13:18:50     -886.690796        0.043394\n",
      "LBFGS:   17 13:18:56     -886.691679        0.031665\n",
      "LBFGS:   18 13:19:01     -886.692246        0.035590\n",
      "LBFGS:   19 13:19:06     -886.692806        0.036177\n",
      "LBFGS:   20 13:19:12     -886.693457        0.036957\n",
      "LBFGS:   21 13:19:17     -886.694016        0.038982\n",
      "LBFGS:   22 13:19:22     -886.694411        0.040897\n",
      "LBFGS:   23 13:19:28     -886.694716        0.030631\n",
      "LBFGS:   24 13:19:33     -886.694995        0.025149\n",
      "LBFGS:   25 13:19:39     -886.695266        0.021335\n",
      "LBFGS:   26 13:19:44     -886.695465        0.020824\n",
      "LBFGS:   27 13:19:49     -886.695611        0.017487\n",
      "LBFGS:   28 13:19:55     -886.695741        0.017406\n",
      "LBFGS:   29 13:20:00     -886.695889        0.017928\n",
      "LBFGS:   30 13:20:06     -886.696001        0.015069\n",
      "LBFGS:   31 13:20:11     -886.696102        0.014586\n",
      "LBFGS:   32 13:20:16     -886.696157        0.012168\n",
      "LBFGS:   33 13:20:22     -886.696224        0.010299\n",
      "LBFGS:   34 13:20:27     -886.696285        0.009637\n",
      "       Step     Time          Energy          fmax\n",
      "LBFGS:    0 13:20:35     -766.640283       73.498894\n",
      "LBFGS:    1 13:20:40     -818.730756       23.306691\n",
      "LBFGS:    2 13:20:46     -850.638523       12.355946\n",
      "LBFGS:    3 13:20:51     -872.272808        5.809699\n",
      "LBFGS:    4 13:20:57     -879.009859        5.865324\n",
      "LBFGS:    5 13:21:02     -882.136416        3.875843\n",
      "LBFGS:    6 13:21:08     -883.613582        2.022788\n",
      "LBFGS:    7 13:21:13     -884.659109        1.950802\n",
      "LBFGS:    8 13:21:18     -885.167696        1.052488\n",
      "LBFGS:    9 13:21:24     -885.537029        0.761827\n",
      "LBFGS:   10 13:21:29     -885.783351        1.158499\n",
      "LBFGS:   11 13:21:35     -885.987226        0.929744\n",
      "LBFGS:   12 13:21:40     -886.160476        0.552682\n",
      "LBFGS:   13 13:21:45     -886.289829        0.579652\n",
      "LBFGS:   14 13:21:51     -886.387601        0.716091\n",
      "LBFGS:   15 13:21:56     -886.450153        0.446610\n",
      "LBFGS:   16 13:22:01     -886.487343        0.239696\n",
      "LBFGS:   17 13:22:06     -886.516031        0.305722\n",
      "LBFGS:   18 13:22:12     -886.543124        0.348113\n",
      "LBFGS:   19 13:22:17     -886.568996        0.285267\n",
      "LBFGS:   20 13:22:22     -886.592653        0.190745\n",
      "LBFGS:   21 13:22:28     -886.614242        0.184445\n",
      "LBFGS:   22 13:22:33     -886.631622        0.216558\n",
      "LBFGS:   23 13:22:39     -886.643508        0.205925\n",
      "LBFGS:   24 13:22:44     -886.651525        0.107270\n",
      "LBFGS:   25 13:22:50     -886.657807        0.103795\n",
      "LBFGS:   26 13:22:56     -886.663362        0.091845\n",
      "LBFGS:   27 13:23:01     -886.668252        0.109758\n",
      "LBFGS:   28 13:23:07     -886.672587        0.088598\n",
      "LBFGS:   29 13:23:12     -886.676624        0.082955\n",
      "LBFGS:   30 13:23:17     -886.680099        0.086738\n",
      "LBFGS:   31 13:23:23     -886.682846        0.062770\n",
      "LBFGS:   32 13:23:28     -886.684915        0.060627\n",
      "LBFGS:   33 13:23:33     -886.686516        0.047575\n",
      "LBFGS:   34 13:23:39     -886.687817        0.048577\n",
      "LBFGS:   35 13:23:44     -886.689037        0.057192\n",
      "LBFGS:   36 13:23:50     -886.690290        0.062840\n",
      "LBFGS:   37 13:23:55     -886.691473        0.046782\n",
      "LBFGS:   38 13:24:01     -886.692363        0.036138\n",
      "LBFGS:   39 13:24:06     -886.692968        0.049377\n",
      "LBFGS:   40 13:24:12     -886.693413        0.051352\n",
      "LBFGS:   41 13:24:17     -886.693793        0.028654\n",
      "LBFGS:   42 13:24:22     -886.694126        0.021904\n",
      "LBFGS:   43 13:24:28     -886.694465        0.041775\n",
      "LBFGS:   44 13:24:33     -886.694804        0.055734\n",
      "LBFGS:   45 13:24:39     -886.695102        0.040289\n",
      "LBFGS:   46 13:24:44     -886.695338        0.017488\n",
      "LBFGS:   47 13:24:50     -886.695516        0.020532\n",
      "LBFGS:   48 13:24:55     -886.695662        0.029757\n",
      "LBFGS:   49 13:25:00     -886.695773        0.022507\n",
      "LBFGS:   50 13:25:06     -886.695878        0.011865\n",
      "LBFGS:   51 13:25:11     -886.695976        0.016249\n",
      "LBFGS:   52 13:25:17     -886.696069        0.028084\n",
      "LBFGS:   53 13:25:22     -886.696153        0.025210\n",
      "LBFGS:   54 13:25:28     -886.696224        0.010531\n",
      "LBFGS:   55 13:25:33     -886.696263        0.008566\n",
      "       Step     Time          Energy          fmax\n",
      "LBFGS:    0 13:25:41     -886.357164        1.820873\n",
      "LBFGS:    1 13:25:47     -886.510829        1.035019\n",
      "LBFGS:    2 13:25:52     -886.623925        0.521631\n",
      "LBFGS:    3 13:25:57     -886.680916        0.409379\n",
      "LBFGS:    4 13:26:03     -886.723152        0.337897\n",
      "LBFGS:    5 13:26:08     -886.754439        0.288839\n",
      "LBFGS:    6 13:26:14     -886.771050        0.169559\n",
      "LBFGS:    7 13:26:19     -886.779161        0.123566\n",
      "LBFGS:    8 13:26:25     -886.785576        0.130799\n",
      "LBFGS:    9 13:26:30     -886.792487        0.133089\n",
      "LBFGS:   10 13:26:36     -886.797376        0.121657\n",
      "LBFGS:   11 13:26:41     -886.800849        0.115580\n",
      "LBFGS:   12 13:26:47     -886.804498        0.104830\n",
      "LBFGS:   13 13:26:52     -886.808713        0.095894\n",
      "LBFGS:   14 13:26:58     -886.812578        0.094391\n",
      "LBFGS:   15 13:27:03     -886.815119        0.062524\n",
      "LBFGS:   16 13:27:08     -886.816389        0.046638\n",
      "LBFGS:   17 13:27:14     -886.816979        0.028647\n",
      "LBFGS:   18 13:27:20     -886.817363        0.029957\n",
      "LBFGS:   19 13:27:25     -886.817752        0.025289\n",
      "LBFGS:   20 13:27:30     -886.818180        0.027848\n",
      "LBFGS:   21 13:27:36     -886.818500        0.024949\n",
      "LBFGS:   22 13:27:41     -886.818692        0.016425\n",
      "LBFGS:   23 13:27:47     -886.818849        0.015019\n",
      "LBFGS:   24 13:27:52     -886.818993        0.016019\n",
      "LBFGS:   25 13:27:58     -886.819129        0.013993\n",
      "LBFGS:   26 13:28:03     -886.819242        0.012078\n",
      "LBFGS:   27 13:28:09     -886.819343        0.012777\n",
      "LBFGS:   28 13:28:14     -886.819428        0.013699\n",
      "LBFGS:   29 13:28:20     -886.819521        0.015001\n",
      "LBFGS:   30 13:28:25     -886.819597        0.014203\n",
      "LBFGS:   31 13:28:31     -886.819649        0.009979\n",
      "       Step     Time          Energy          fmax\n",
      "LBFGS:    0 13:28:39     -767.768366       73.697369\n",
      "LBFGS:    1 13:28:44     -819.615850       22.227022\n",
      "LBFGS:    2 13:28:51     -851.668939       12.602805\n",
      "LBFGS:    3 13:28:57     -871.654059        6.502563\n",
      "LBFGS:    4 13:29:02     -878.467397        6.974983\n",
      "LBFGS:    5 13:29:07     -881.794900        3.960812\n",
      "LBFGS:    6 13:29:13     -883.467465        2.337476\n",
      "LBFGS:    7 13:29:18     -884.685344        1.929402\n",
      "LBFGS:    8 13:29:23     -885.210087        1.028294\n",
      "LBFGS:    9 13:29:29     -885.576530        0.932107\n",
      "LBFGS:   10 13:29:34     -885.856513        1.367909\n",
      "LBFGS:   11 13:29:40     -886.079252        0.978567\n",
      "LBFGS:   12 13:29:45     -886.259598        0.515000\n",
      "LBFGS:   13 13:29:51     -886.390717        0.728661\n",
      "LBFGS:   14 13:29:56     -886.489486        0.776512\n",
      "LBFGS:   15 13:30:01     -886.551764        0.486901\n",
      "LBFGS:   16 13:30:07     -886.589444        0.197904\n",
      "LBFGS:   17 13:30:12     -886.619171        0.313486\n",
      "LBFGS:   18 13:30:18     -886.647685        0.379422\n",
      "LBFGS:   19 13:30:23     -886.673417        0.320141\n",
      "LBFGS:   20 13:30:29     -886.696969        0.213997\n",
      "LBFGS:   21 13:30:34     -886.720275        0.231034\n",
      "LBFGS:   22 13:30:39     -886.741391        0.276257\n",
      "LBFGS:   23 13:30:45     -886.756915        0.253605\n",
      "LBFGS:   24 13:30:50     -886.767477        0.154435\n",
      "LBFGS:   25 13:30:56     -886.775578        0.118020\n",
      "LBFGS:   26 13:31:01     -886.782687        0.119422\n",
      "LBFGS:   27 13:31:07     -886.788795        0.151407\n",
      "LBFGS:   28 13:31:12     -886.793952        0.115279\n",
      "LBFGS:   29 13:31:17     -886.798525        0.090396\n",
      "LBFGS:   30 13:31:23     -886.802286        0.088693\n",
      "LBFGS:   31 13:31:28     -886.805144        0.066379\n",
      "LBFGS:   32 13:31:34     -886.807379        0.057437\n",
      "LBFGS:   33 13:31:39     -886.809304        0.061762\n",
      "LBFGS:   34 13:31:44     -886.811019        0.055558\n",
      "LBFGS:   35 13:31:50     -886.812537        0.059484\n",
      "LBFGS:   36 13:31:55     -886.813955        0.067759\n",
      "LBFGS:   37 13:32:01     -886.815217        0.043168\n",
      "LBFGS:   38 13:32:06     -886.816134        0.033297\n",
      "LBFGS:   39 13:32:12     -886.816754        0.041573\n",
      "LBFGS:   40 13:32:17     -886.817198        0.047973\n",
      "LBFGS:   41 13:32:23     -886.817622        0.028266\n",
      "LBFGS:   42 13:32:28     -886.818045        0.024082\n",
      "LBFGS:   43 13:32:33     -886.818409        0.039943\n",
      "LBFGS:   44 13:32:39     -886.818728        0.046761\n",
      "LBFGS:   45 13:32:44     -886.818982        0.027637\n",
      "LBFGS:   46 13:32:50     -886.819178        0.016759\n",
      "LBFGS:   47 13:32:55     -886.819317        0.024501\n",
      "LBFGS:   48 13:33:01     -886.819439        0.029153\n",
      "LBFGS:   49 13:33:06     -886.819524        0.018791\n",
      "LBFGS:   50 13:33:12     -886.819601        0.011494\n",
      "LBFGS:   51 13:33:17     -886.819691        0.018001\n",
      "LBFGS:   52 13:33:23     -886.819751        0.023192\n",
      "LBFGS:   53 13:33:28     -886.819810        0.016263\n",
      "LBFGS:   54 13:33:33     -886.819850        0.006552\n"
     ]
    },
    {
     "name": "stderr",
     "output_type": "stream",
     "text": [
      "Generating DefectEntry objects: 100.0%|████████████████████████████████████████████████████████████| [01:10,   1.43it/s]\n"
     ]
    },
    {
     "name": "stdout",
     "output_type": "stream",
     "text": [
      "Vacancies    Guessed Charges    Conv. Cell Coords    Wyckoff\n",
      "-----------  -----------------  -------------------  ---------\n",
      "v_Al         [+1,0,-1,-2,-3]    [0.125,0.125,0.125]  16c\n",
      "v_Fe         [+1,0,-1,-2]       [0.500,0.500,0.500]  8b\n",
      "v_O          [+2,+1,0,-1]       [0.359,0.359,0.359]  32e\n",
      "\n",
      "Substitutions    Guessed Charges     Conv. Cell Coords    Wyckoff\n",
      "---------------  ------------------  -------------------  ---------\n",
      "Al_Fe            [+1,0]              [0.500,0.500,0.500]  8b\n",
      "Al_O             [+5,+4,+3,+2,+1,0]  [0.359,0.359,0.359]  32e\n",
      "Fe_Al            [+1,0,-1,-2]        [0.125,0.125,0.125]  16c\n",
      "Fe_O             [+5,+4,+3,+2,+1,0]  [0.359,0.359,0.359]  32e\n",
      "O_Al             [0,-1,-2,-3,-4,-5]  [0.125,0.125,0.125]  16c\n",
      "O_Fe             [0,-1,-2,-3,-4]     [0.500,0.500,0.500]  8b\n",
      "Cr_Al            [+3,+2,+1,0,-1]     [0.125,0.125,0.125]  16c\n",
      "Cr_Fe            [+4,+3,+2,+1,0]     [0.500,0.500,0.500]  8b\n",
      "Cr_O             [+5,+4,+3,+2,+1,0]  [0.359,0.359,0.359]  32e\n",
      "\n",
      "The number in the Wyckoff label is the site multiplicity/degeneracy of that defect in the conventional ('conv.') unit cell, which comprises 8 formula unit(s) of FeAl2O4.\n",
      "\n",
      "Oxidation states were not explicitly set, thus have been guessed as {'Al': 3.0, 'Fe': 2.0, 'O': -2.0, 'Cr': 3.0}. If this is unreasonable you should manually set oxidation_states\n",
      "Applying ShakeNBreak... Will apply the following bond distortions: ['-0.6', '-0.5', '-0.4', '-0.3', '-0.2', '-0.1', '0.0', '0.1', '0.2', '0.3', '0.4', '0.5', '0.6', 'Dimer (for vacancies)']. Then, will rattle with a std dev of 0.19 Å \n",
      "\n"
     ]
    },
    {
     "name": "stderr",
     "output_type": "stream",
     "text": [
      "Generating distorted defect structures...0.0%|                                                         | [00:00,  ?it/s]"
     ]
    },
    {
     "name": "stdout",
     "output_type": "stream",
     "text": [
      "\u001b[1m\n",
      "Defect: Cr_Al\u001b[0m\n",
      "\u001b[1mNumber of missing electrons in neutral state: 0\u001b[0m\n",
      "\n",
      "Defect Cr_Al in charge state: 0. Number of distorted neighbours: 0\n"
     ]
    },
    {
     "name": "stderr",
     "output_type": "stream",
     "text": [
      "Generating distorted defect structures...100.0%|███████████████████████████████████████████████████| [00:00,   1.64it/s]\n"
     ]
    },
    {
     "name": "stdout",
     "output_type": "stream",
     "text": [
      "       Step     Time          Energy          fmax\n",
      "LBFGS:    0 13:34:48     -609.861051        0.009682\n",
      "       Step     Time          Energy          fmax\n",
      "LBFGS:    0 13:34:52     -610.711444        1.557942\n",
      "LBFGS:    1 13:34:56     -610.881770        1.029251\n",
      "LBFGS:    2 13:35:01     -611.046062        0.268835\n",
      "LBFGS:    3 13:35:05     -611.066440        0.216874\n",
      "LBFGS:    4 13:35:09     -611.086353        0.214833\n",
      "LBFGS:    5 13:35:13     -611.094898        0.179086\n",
      "LBFGS:    6 13:35:19     -611.102580        0.143289\n",
      "LBFGS:    7 13:35:23     -611.106876        0.162597\n",
      "LBFGS:    8 13:35:27     -611.112048        0.152674\n",
      "LBFGS:    9 13:35:31     -611.116664        0.118144\n",
      "LBFGS:   10 13:35:35     -611.120227        0.075398\n",
      "LBFGS:   11 13:35:40     -611.122340        0.059898\n",
      "LBFGS:   12 13:35:44     -611.123584        0.050231\n",
      "LBFGS:   13 13:35:48     -611.124408        0.056765\n",
      "LBFGS:   14 13:35:52     -611.125133        0.039203\n",
      "LBFGS:   15 13:35:56     -611.125491        0.024019\n",
      "LBFGS:   16 13:36:01     -611.125705        0.017857\n",
      "LBFGS:   17 13:36:05     -611.125896        0.030024\n",
      "LBFGS:   18 13:36:09     -611.126087        0.028652\n",
      "LBFGS:   19 13:36:13     -611.126216        0.014877\n",
      "LBFGS:   20 13:36:18     -611.126285        0.010969\n",
      "LBFGS:   21 13:36:22     -611.126384        0.011872\n",
      "LBFGS:   22 13:36:26     -611.126422        0.016342\n",
      "LBFGS:   23 13:36:31     -611.126499        0.013364\n",
      "LBFGS:   24 13:36:35     -611.126552        0.007741\n",
      "       Step     Time          Energy          fmax\n",
      "LBFGS:    0 13:36:41     -551.817867       18.911719\n",
      "LBFGS:    1 13:36:45     -578.582053        7.419551\n",
      "LBFGS:    2 13:36:49     -596.156528        3.597796\n",
      "LBFGS:    3 13:36:54     -603.681880        2.789902\n",
      "LBFGS:    4 13:36:58     -605.933421        2.014195\n",
      "LBFGS:    5 13:37:02     -608.492648        1.489468\n",
      "LBFGS:    6 13:37:06     -609.308887        1.200852\n",
      "LBFGS:    7 13:37:10     -610.124172        1.149264\n",
      "LBFGS:    8 13:37:15     -610.495441        0.812537\n",
      "LBFGS:    9 13:37:19     -610.757213        0.657821\n",
      "LBFGS:   10 13:37:23     -610.892635        0.519873\n",
      "LBFGS:   11 13:37:27     -610.985637        0.369172\n",
      "LBFGS:   12 13:37:31     -611.030162        0.244388\n",
      "LBFGS:   13 13:37:35     -611.055202        0.176635\n",
      "LBFGS:   14 13:37:40     -611.072467        0.154419\n",
      "LBFGS:   15 13:37:44     -611.084529        0.143725\n",
      "LBFGS:   16 13:37:48     -611.092708        0.119830\n",
      "LBFGS:   17 13:37:52     -611.098956        0.095044\n",
      "LBFGS:   18 13:37:57     -611.103992        0.081907\n",
      "LBFGS:   19 13:38:01     -611.108096        0.080890\n",
      "LBFGS:   20 13:38:05     -611.111629        0.072537\n",
      "LBFGS:   21 13:38:09     -611.114734        0.075227\n",
      "LBFGS:   22 13:38:13     -611.117206        0.056151\n",
      "LBFGS:   23 13:38:18     -611.119006        0.054990\n",
      "LBFGS:   24 13:38:22     -611.120273        0.043778\n",
      "LBFGS:   25 13:38:26     -611.121280        0.039859\n",
      "LBFGS:   26 13:38:30     -611.122112        0.037905\n",
      "LBFGS:   27 13:38:34     -611.122798        0.034162\n",
      "LBFGS:   28 13:38:39     -611.123355        0.031354\n",
      "LBFGS:   29 13:38:43     -611.123851        0.029584\n",
      "LBFGS:   30 13:38:47     -611.124294        0.023266\n",
      "LBFGS:   31 13:38:52     -611.124698        0.024521\n",
      "LBFGS:   32 13:38:56     -611.125003        0.024175\n",
      "LBFGS:   33 13:39:00     -611.125263        0.020684\n",
      "LBFGS:   34 13:39:05     -611.125461        0.018118\n",
      "LBFGS:   35 13:39:09     -611.125629        0.018406\n",
      "LBFGS:   36 13:39:13     -611.125797        0.018131\n",
      "LBFGS:   37 13:39:17     -611.125926        0.014241\n",
      "LBFGS:   38 13:39:22     -611.126033        0.012819\n",
      "LBFGS:   39 13:39:26     -611.126132        0.011534\n",
      "LBFGS:   40 13:39:30     -611.126231        0.012537\n",
      "LBFGS:   41 13:39:34     -611.126308        0.011675\n",
      "LBFGS:   42 13:39:39     -611.126361        0.011149\n",
      "LBFGS:   43 13:39:43     -611.126437        0.010697\n",
      "LBFGS:   44 13:39:47     -611.126460        0.009769\n"
     ]
    },
    {
     "name": "stderr",
     "output_type": "stream",
     "text": [
      "Generating DefectEntry objects: 100.0%|████████████████████████████████████████████████████████████| [01:14,   1.35it/s]\n"
     ]
    },
    {
     "name": "stdout",
     "output_type": "stream",
     "text": [
      "Vacancies    Guessed Charges    Conv. Cell Coords    Wyckoff\n",
      "-----------  -----------------  -------------------  ---------\n",
      "v_Mg         [+1,0,-1,-2]       [0.000,0.000,0.000]  8a\n",
      "v_Al         [+1,0,-1,-2,-3]    [0.625,0.625,0.625]  16d\n",
      "v_O          [+2,+1,0,-1]       [0.389,0.389,0.389]  32e\n",
      "\n",
      "Substitutions    Guessed Charges     Conv. Cell Coords    Wyckoff\n",
      "---------------  ------------------  -------------------  ---------\n",
      "Mg_Al            [0,-1]              [0.625,0.625,0.625]  16d\n",
      "Mg_O             [+4,+3,+2,+1,0]     [0.389,0.389,0.389]  32e\n",
      "Al_Mg            [+1,0]              [0.000,0.000,0.000]  8a\n",
      "Al_O             [+5,+4,+3,+2,+1,0]  [0.389,0.389,0.389]  32e\n",
      "O_Mg             [0,-1,-2,-3,-4]     [0.000,0.000,0.000]  8a\n",
      "O_Al             [0,-1,-2,-3,-4,-5]  [0.625,0.625,0.625]  16d\n",
      "Cr_Mg            [+4,+3,+2,+1,0]     [0.000,0.000,0.000]  8a\n",
      "Cr_Al            [+3,+2,+1,0,-1]     [0.625,0.625,0.625]  16d\n",
      "Cr_O             [+5,+4,+3,+2,+1,0]  [0.389,0.389,0.389]  32e\n",
      "\n",
      "The number in the Wyckoff label is the site multiplicity/degeneracy of that defect in the conventional ('conv.') unit cell, which comprises 8 formula unit(s) of MgAl2O4.\n",
      "\n",
      "Oxidation states were not explicitly set, thus have been guessed as {'Mg': 2.0, 'Al': 3.0, 'O': -2.0, 'Cr': 3.0}. If this is unreasonable you should manually set oxidation_states\n",
      "Applying ShakeNBreak... Will apply the following bond distortions: ['-0.6', '-0.5', '-0.4', '-0.3', '-0.2', '-0.1', '0.0', '0.1', '0.2', '0.3', '0.4', '0.5', '0.6', 'Dimer (for vacancies)']. Then, will rattle with a std dev of 0.19 Å \n",
      "\n"
     ]
    },
    {
     "name": "stderr",
     "output_type": "stream",
     "text": [
      "Generating distorted defect structures...0.0%|                                                         | [00:00,  ?it/s]"
     ]
    },
    {
     "name": "stdout",
     "output_type": "stream",
     "text": [
      "\u001b[1m\n",
      "Defect: Cr_Al\u001b[0m\n",
      "\u001b[1mNumber of missing electrons in neutral state: 0\u001b[0m\n",
      "\n",
      "Defect Cr_Al in charge state: 0. Number of distorted neighbours: 0\n"
     ]
    },
    {
     "name": "stderr",
     "output_type": "stream",
     "text": [
      "Generating distorted defect structures...100.0%|███████████████████████████████████████████████████| [00:00,   2.50it/s]\n"
     ]
    },
    {
     "name": "stdout",
     "output_type": "stream",
     "text": [
      "       Step     Time          Energy          fmax\n",
      "LBFGS:    0 13:41:05     -794.586801        0.002873\n",
      "       Step     Time          Energy          fmax\n",
      "LBFGS:    0 13:41:10     -795.367095        1.563229\n",
      "LBFGS:    1 13:41:15     -795.536636        0.986429\n",
      "LBFGS:    2 13:41:21     -795.678573        0.242540\n",
      "LBFGS:    3 13:41:26     -795.695800        0.187928\n",
      "LBFGS:    4 13:41:31     -795.709777        0.171504\n",
      "LBFGS:    5 13:41:37     -795.715682        0.147868\n",
      "LBFGS:    6 13:41:42     -795.719238        0.105961\n",
      "LBFGS:    7 13:41:48     -795.721084        0.105993\n",
      "LBFGS:    8 13:41:53     -795.722473        0.075356\n",
      "LBFGS:    9 13:41:59     -795.723342        0.038028\n",
      "LBFGS:   10 13:42:04     -795.723983        0.023325\n",
      "LBFGS:   11 13:42:09     -795.724288        0.019924\n",
      "LBFGS:   12 13:42:15     -795.724563        0.023397\n",
      "LBFGS:   13 13:42:20     -795.724716        0.016938\n",
      "LBFGS:   14 13:42:26     -795.724777        0.007962\n",
      "       Step     Time          Energy          fmax\n",
      "LBFGS:    0 13:42:34     -716.301444       16.616396\n",
      "LBFGS:    1 13:42:39     -758.994644        6.723869\n",
      "LBFGS:    2 13:42:45     -779.609878        3.280862\n",
      "LBFGS:    3 13:42:50     -786.616744        3.464774\n",
      "LBFGS:    4 13:42:56     -789.585815        2.250322\n",
      "LBFGS:    5 13:43:01     -792.084548        1.681131\n",
      "LBFGS:    6 13:43:06     -793.487853        1.315714\n",
      "LBFGS:    7 13:43:12     -794.430084        1.177176\n",
      "LBFGS:    8 13:43:17     -794.947189        0.877293\n",
      "LBFGS:    9 13:43:22     -795.257034        0.563459\n",
      "LBFGS:   10 13:43:28     -795.421691        0.493339\n",
      "LBFGS:   11 13:43:33     -795.533187        0.362576\n",
      "LBFGS:   12 13:43:39     -795.602554        0.270394\n",
      "LBFGS:   13 13:43:44     -795.642288        0.183025\n",
      "LBFGS:   14 13:43:50     -795.666442        0.175458\n",
      "LBFGS:   15 13:43:55     -795.683288        0.146886\n",
      "LBFGS:   16 13:44:01     -795.695053        0.119140\n",
      "LBFGS:   17 13:44:06     -795.703277        0.110517\n",
      "LBFGS:   18 13:44:12     -795.709625        0.095151\n",
      "LBFGS:   19 13:44:17     -795.713989        0.072741\n",
      "LBFGS:   20 13:44:23     -795.717056        0.058749\n",
      "LBFGS:   21 13:44:28     -795.719024        0.052734\n",
      "LBFGS:   22 13:44:34     -795.720367        0.045279\n",
      "LBFGS:   23 13:44:39     -795.721328        0.044806\n",
      "LBFGS:   24 13:44:44     -795.722152        0.033167\n",
      "LBFGS:   25 13:44:50     -795.722854        0.039450\n",
      "LBFGS:   26 13:44:55     -795.723388        0.035556\n",
      "LBFGS:   27 13:45:01     -795.723892        0.022231\n",
      "LBFGS:   28 13:45:06     -795.724258        0.020273\n",
      "LBFGS:   29 13:45:12     -795.724456        0.015384\n",
      "LBFGS:   30 13:45:17     -795.724624        0.011855\n",
      "LBFGS:   31 13:45:23     -795.724700        0.009894\n"
     ]
    },
    {
     "name": "stderr",
     "output_type": "stream",
     "text": [
      "Generating DefectEntry objects: 100.0%|████████████████████████████████████████████████████████████| [01:07,   1.47it/s]\n"
     ]
    },
    {
     "name": "stdout",
     "output_type": "stream",
     "text": [
      "Vacancies    Guessed Charges    Conv. Cell Coords    Wyckoff\n",
      "-----------  -----------------  -------------------  ---------\n",
      "v_Mn         [+1,0,-1,-2]       [0.000,0.000,0.000]  8a\n",
      "v_Al         [+1,0,-1,-2,-3]    [0.625,0.625,0.625]  16d\n",
      "v_O          [+2,+1,0,-1]       [0.392,0.392,0.392]  32e\n",
      "\n",
      "Substitutions    Guessed Charges     Conv. Cell Coords    Wyckoff\n",
      "---------------  ------------------  -------------------  ---------\n",
      "Mn_Al            [+1,0,-1]           [0.625,0.625,0.625]  16d\n",
      "Mn_O             [+5,+4,+3,+2,+1,0]  [0.392,0.392,0.392]  32e\n",
      "Al_Mn            [+1,0]              [0.000,0.000,0.000]  8a\n",
      "Al_O             [+5,+4,+3,+2,+1,0]  [0.392,0.392,0.392]  32e\n",
      "O_Mn             [0,-1,-2,-3,-4]     [0.000,0.000,0.000]  8a\n",
      "O_Al             [0,-1,-2,-3,-4,-5]  [0.625,0.625,0.625]  16d\n",
      "Cr_Mn            [+4,+3,+2,+1,0]     [0.000,0.000,0.000]  8a\n",
      "Cr_Al            [+3,+2,+1,0,-1]     [0.625,0.625,0.625]  16d\n",
      "Cr_O             [+5,+4,+3,+2,+1,0]  [0.392,0.392,0.392]  32e\n",
      "\n",
      "The number in the Wyckoff label is the site multiplicity/degeneracy of that defect in the conventional ('conv.') unit cell, which comprises 8 formula unit(s) of MnAl2O4.\n",
      "\n",
      "Oxidation states were not explicitly set, thus have been guessed as {'Mn': 2.0, 'Al': 3.0, 'O': -2.0, 'Cr': 3.0}. If this is unreasonable you should manually set oxidation_states\n",
      "Applying ShakeNBreak... Will apply the following bond distortions: ['-0.6', '-0.5', '-0.4', '-0.3', '-0.2', '-0.1', '0.0', '0.1', '0.2', '0.3', '0.4', '0.5', '0.6', 'Dimer (for vacancies)']. Then, will rattle with a std dev of 0.19 Å \n",
      "\n"
     ]
    },
    {
     "name": "stderr",
     "output_type": "stream",
     "text": [
      "Generating distorted defect structures...0.0%|                                                         | [00:00,  ?it/s]"
     ]
    },
    {
     "name": "stdout",
     "output_type": "stream",
     "text": [
      "\u001b[1m\n",
      "Defect: Cr_Al\u001b[0m\n",
      "\u001b[1mNumber of missing electrons in neutral state: 0\u001b[0m\n",
      "\n",
      "Defect Cr_Al in charge state: 0. Number of distorted neighbours: 0\n"
     ]
    },
    {
     "name": "stderr",
     "output_type": "stream",
     "text": [
      "Generating distorted defect structures...100.0%|███████████████████████████████████████████████████| [00:00,   2.30it/s]\n"
     ]
    },
    {
     "name": "stdout",
     "output_type": "stream",
     "text": [
      "       Step     Time          Energy          fmax\n",
      "LBFGS:    0 13:46:35     -637.992559        0.002540\n",
      "       Step     Time          Energy          fmax\n",
      "LBFGS:    0 13:46:40     -638.893886        1.511544\n",
      "LBFGS:    1 13:46:44     -639.055172        0.993409\n",
      "LBFGS:    2 13:46:48     -639.209179        0.257966\n",
      "LBFGS:    3 13:46:52     -639.228611        0.212619\n",
      "LBFGS:    4 13:46:57     -639.245060        0.192319\n",
      "LBFGS:    5 13:47:01     -639.253071        0.162470\n",
      "LBFGS:    6 13:47:05     -639.258869        0.131836\n",
      "LBFGS:    7 13:47:09     -639.262493        0.138899\n",
      "LBFGS:    8 13:47:13     -639.265621        0.114248\n",
      "LBFGS:    9 13:47:17     -639.267879        0.066587\n",
      "LBFGS:   10 13:47:22     -639.269375        0.035136\n",
      "LBFGS:   11 13:47:26     -639.270275        0.028550\n",
      "LBFGS:   12 13:47:30     -639.270794        0.033964\n",
      "LBFGS:   13 13:47:34     -639.271168        0.033374\n",
      "LBFGS:   14 13:47:38     -639.271419        0.017052\n",
      "LBFGS:   15 13:47:43     -639.271549        0.012354\n",
      "LBFGS:   16 13:47:47     -639.271633        0.014936\n",
      "LBFGS:   17 13:47:51     -639.271702        0.016525\n",
      "LBFGS:   18 13:47:55     -639.271702        0.010008\n",
      "LBFGS:   19 13:47:59     -639.271732        0.003949\n",
      "       Step     Time          Energy          fmax\n",
      "LBFGS:    0 13:48:05     -577.422138       17.509610\n",
      "LBFGS:    1 13:48:09     -605.808315        6.822169\n",
      "LBFGS:    2 13:48:13     -625.884205        3.812241\n",
      "LBFGS:    3 13:48:17     -632.166546        3.504946\n",
      "LBFGS:    4 13:48:21     -634.703464        2.561369\n",
      "LBFGS:    5 13:48:25     -636.686756        1.920081\n",
      "LBFGS:    6 13:48:29     -637.772358        1.119460\n",
      "LBFGS:    7 13:48:33     -638.374233        0.872125\n",
      "LBFGS:    8 13:48:37     -638.726085        0.650965\n",
      "LBFGS:    9 13:48:41     -638.964199        0.458059\n",
      "LBFGS:   10 13:48:46     -639.077183        0.360104\n",
      "LBFGS:   11 13:48:50     -639.142490        0.356501\n",
      "LBFGS:   12 13:48:54     -639.185558        0.258394\n",
      "LBFGS:   13 13:48:58     -639.213657        0.166876\n",
      "LBFGS:   14 13:49:02     -639.231983        0.147359\n",
      "LBFGS:   15 13:49:06     -639.243328        0.131379\n",
      "LBFGS:   16 13:49:11     -639.250515        0.096995\n",
      "LBFGS:   17 13:49:15     -639.255825        0.088437\n",
      "LBFGS:   18 13:49:19     -639.259952        0.074979\n",
      "LBFGS:   19 13:49:23     -639.263042        0.076588\n",
      "LBFGS:   20 13:49:27     -639.265285        0.060168\n",
      "LBFGS:   21 13:49:31     -639.266865        0.055515\n",
      "LBFGS:   22 13:49:36     -639.268062        0.043548\n",
      "LBFGS:   23 13:49:40     -639.268970        0.034905\n",
      "LBFGS:   24 13:49:44     -639.269649        0.030636\n",
      "LBFGS:   25 13:49:48     -639.270153        0.032754\n",
      "LBFGS:   26 13:49:52     -639.270603        0.031930\n",
      "LBFGS:   27 13:49:56     -639.270916        0.022390\n",
      "LBFGS:   28 13:50:00     -639.271137        0.019708\n",
      "LBFGS:   29 13:50:05     -639.271328        0.015405\n",
      "LBFGS:   30 13:50:09     -639.271480        0.015303\n",
      "LBFGS:   31 13:50:13     -639.271580        0.013928\n",
      "LBFGS:   32 13:50:18     -639.271641        0.010420\n",
      "LBFGS:   33 13:50:22     -639.271686        0.007859\n"
     ]
    },
    {
     "name": "stderr",
     "output_type": "stream",
     "text": [
      "Generating DefectEntry objects: 100.0%|████████████████████████████████████████████████████████████| [01:40,   1.00s/it]\n"
     ]
    },
    {
     "name": "stdout",
     "output_type": "stream",
     "text": [
      "Vacancies            Guessed Charges           Conv. Cell Coords    Wyckoff\n",
      "-------------------  ------------------------  -------------------  ---------\n",
      "v_Al                 [+1,0,-1,-2,-3]           [0.382,0.250,0.033]  8d\n",
      "v_Mo_C1              [+1,0,-1,-2,-3,-4,-5,-6]  [0.355,0.107,0.386]  8d\n",
      "v_Mo_C2              [+1,0,-1,-2,-3,-4,-5,-6]  [0.000,0.027,0.250]  4c\n",
      "v_O_C1_Mo1.76Al1.89  [+2,+1,0,-1]              [0.070,0.139,0.373]  8d\n",
      "v_O_C1_Mo1.76Al1.93  [+2,+1,0,-1]              [0.523,0.184,0.064]  8d\n",
      "v_O_C1_Mo1.77Al1.89  [+2,+1,0,-1]              [0.255,0.185,0.494]  8d\n",
      "v_O_C1_Mo1.77Al1.90  [+2,+1,0,-1]              [0.140,0.416,0.412]  8d\n",
      "v_O_C1_Mo1.77Al1.91  [+2,+1,0,-1]              [0.335,0.143,0.199]  8d\n",
      "v_O_C1_Mo1.77Al1.92  [+2,+1,0,-1]              [0.410,0.415,0.156]  8d\n",
      "\n",
      "Substitutions         Guessed Charges              Conv. Cell Coords    Wyckoff\n",
      "--------------------  ---------------------------  -------------------  ---------\n",
      "Al_Mo_C1              [0,-1,-2,-3]                 [0.355,0.107,0.386]  8d\n",
      "Al_Mo_C2              [0,-1,-2,-3]                 [0.000,0.027,0.250]  4c\n",
      "Al_O_C1_Mo1.76Al1.89  [+5,+4,+3,+2,+1,0]           [0.070,0.139,0.373]  8d\n",
      "Al_O_C1_Mo1.76Al1.93  [+5,+4,+3,+2,+1,0]           [0.523,0.184,0.064]  8d\n",
      "Al_O_C1_Mo1.77Al1.89  [+5,+4,+3,+2,+1,0]           [0.255,0.185,0.494]  8d\n",
      "Al_O_C1_Mo1.77Al1.90  [+5,+4,+3,+2,+1,0]           [0.140,0.416,0.412]  8d\n",
      "Al_O_C1_Mo1.77Al1.91  [+5,+4,+3,+2,+1,0]           [0.335,0.143,0.199]  8d\n",
      "Al_O_C1_Mo1.77Al1.92  [+5,+4,+3,+2,+1,0]           [0.410,0.415,0.156]  8d\n",
      "Mo_Al                 [+3,+2,+1,0,-1]              [0.382,0.250,0.033]  8d\n",
      "Mo_O_C1_Mo1.76Al1.89  [+8,+7,+6,+5,+4,+3,+2,+1,0]  [0.070,0.139,0.373]  8d\n",
      "Mo_O_C1_Mo1.76Al1.93  [+8,+7,+6,+5,+4,+3,+2,+1,0]  [0.523,0.184,0.064]  8d\n",
      "Mo_O_C1_Mo1.77Al1.89  [+8,+7,+6,+5,+4,+3,+2,+1,0]  [0.255,0.185,0.494]  8d\n",
      "Mo_O_C1_Mo1.77Al1.90  [+8,+7,+6,+5,+4,+3,+2,+1,0]  [0.140,0.416,0.412]  8d\n",
      "Mo_O_C1_Mo1.77Al1.91  [+8,+7,+6,+5,+4,+3,+2,+1,0]  [0.335,0.143,0.199]  8d\n",
      "Mo_O_C1_Mo1.77Al1.92  [+8,+7,+6,+5,+4,+3,+2,+1,0]  [0.410,0.415,0.156]  8d\n",
      "O_Al                  [0,-1,-2,-3,-4,-5]           [0.382,0.250,0.033]  8d\n",
      "O_Mo_C1               [0,-1,-2,-3,-4,-5,-6,-7,-8]  [0.355,0.107,0.386]  8d\n",
      "O_Mo_C2               [0,-1,-2,-3,-4,-5,-6,-7,-8]  [0.000,0.027,0.250]  4c\n",
      "Cr_Al                 [+3,+2,+1,0,-1]              [0.382,0.250,0.033]  8d\n",
      "Cr_Mo_C1              [0,-1,-2,-3,-4]              [0.355,0.107,0.386]  8d\n",
      "Cr_Mo_C2              [0,-1,-2,-3,-4]              [0.000,0.027,0.250]  4c\n",
      "Cr_O_C1_Mo1.76Al1.89  [+8,+7,+6,+5,+4,+3,+2,+1,0]  [0.070,0.139,0.373]  8d\n",
      "Cr_O_C1_Mo1.76Al1.93  [+8,+7,+6,+5,+4,+3,+2,+1,0]  [0.523,0.184,0.064]  8d\n",
      "Cr_O_C1_Mo1.77Al1.89  [+8,+7,+6,+5,+4,+3,+2,+1,0]  [0.255,0.185,0.494]  8d\n",
      "Cr_O_C1_Mo1.77Al1.90  [+8,+7,+6,+5,+4,+3,+2,+1,0]  [0.140,0.416,0.412]  8d\n",
      "Cr_O_C1_Mo1.77Al1.91  [+8,+7,+6,+5,+4,+3,+2,+1,0]  [0.335,0.143,0.199]  8d\n",
      "Cr_O_C1_Mo1.77Al1.92  [+8,+7,+6,+5,+4,+3,+2,+1,0]  [0.410,0.415,0.156]  8d\n",
      "\n",
      "The number in the Wyckoff label is the site multiplicity/degeneracy of that defect in the conventional ('conv.') unit cell, which comprises 4 formula unit(s) of Al2(MoO4)3.\n",
      "\n",
      "Oxidation states were not explicitly set, thus have been guessed as {'Al': 3.0, 'Mo': 6.0, 'O': -2.0, 'Cr': 3.0}. If this is unreasonable you should manually set oxidation_states\n",
      "Applying ShakeNBreak... Will apply the following bond distortions: ['-0.6', '-0.5', '-0.4', '-0.3', '-0.2', '-0.1', '0.0', '0.1', '0.2', '0.3', '0.4', '0.5', '0.6', 'Dimer (for vacancies)']. Then, will rattle with a std dev of 0.18 Å \n",
      "\n"
     ]
    },
    {
     "name": "stderr",
     "output_type": "stream",
     "text": [
      "Generating distorted defect structures...0.0%|                                                         | [00:00,  ?it/s]"
     ]
    },
    {
     "name": "stdout",
     "output_type": "stream",
     "text": [
      "\u001b[1m\n",
      "Defect: Cr_Al\u001b[0m\n",
      "\u001b[1mNumber of missing electrons in neutral state: 0\u001b[0m\n",
      "\n",
      "Defect Cr_Al in charge state: 0. Number of distorted neighbours: 0\n"
     ]
    },
    {
     "name": "stderr",
     "output_type": "stream",
     "text": [
      "Generating distorted defect structures...100.0%|███████████████████████████████████████████████████| [00:00,   2.96it/s]\n"
     ]
    },
    {
     "name": "stdout",
     "output_type": "stream",
     "text": [
      "       Step     Time          Energy          fmax\n",
      "LBFGS:    0 13:52:06     -989.908084        0.009325\n",
      "       Step     Time          Energy          fmax\n",
      "LBFGS:    0 13:52:10     -990.635160        1.618500\n",
      "LBFGS:    1 13:52:15     -990.760044        0.825693\n",
      "LBFGS:    2 13:52:19     -990.856624        0.529231\n",
      "LBFGS:    3 13:52:23     -990.913467        0.229155\n",
      "LBFGS:    4 13:52:28     -990.928667        0.166482\n",
      "LBFGS:    5 13:52:32     -990.936535        0.135392\n",
      "LBFGS:    6 13:52:36     -990.944931        0.131662\n",
      "LBFGS:    7 13:52:40     -990.951526        0.129866\n",
      "LBFGS:    8 13:52:45     -990.955654        0.095663\n",
      "LBFGS:    9 13:52:49     -990.958139        0.058456\n",
      "LBFGS:   10 13:52:53     -990.960106        0.062955\n",
      "LBFGS:   11 13:52:57     -990.961769        0.064405\n",
      "LBFGS:   12 13:53:02     -990.963094        0.085001\n",
      "LBFGS:   13 13:53:06     -990.964340        0.070585\n",
      "LBFGS:   14 13:53:11     -990.965801        0.054792\n",
      "LBFGS:   15 13:53:15     -990.967239        0.055123\n",
      "LBFGS:   16 13:53:19     -990.968343        0.064620\n",
      "LBFGS:   17 13:53:24     -990.969167        0.060795\n",
      "LBFGS:   18 13:53:28     -990.969984        0.038484\n",
      "LBFGS:   19 13:53:33     -990.970937        0.044751\n",
      "LBFGS:   20 13:53:37     -990.971721        0.055359\n",
      "LBFGS:   21 13:53:41     -990.972294        0.060428\n",
      "LBFGS:   22 13:53:46     -990.972774        0.038216\n",
      "LBFGS:   23 13:53:50     -990.973194        0.025655\n",
      "LBFGS:   24 13:53:54     -990.973596        0.036024\n",
      "LBFGS:   25 13:53:59     -990.973903        0.049086\n",
      "LBFGS:   26 13:54:03     -990.974151        0.039682\n",
      "LBFGS:   27 13:54:07     -990.974434        0.023182\n",
      "LBFGS:   28 13:54:12     -990.974678        0.018950\n",
      "LBFGS:   29 13:54:16     -990.974863        0.033292\n",
      "LBFGS:   30 13:54:20     -990.975000        0.030605\n",
      "LBFGS:   31 13:54:25     -990.975158        0.017794\n",
      "LBFGS:   32 13:54:29     -990.975294        0.017305\n",
      "LBFGS:   33 13:54:33     -990.975448        0.027637\n",
      "LBFGS:   34 13:54:38     -990.975542        0.032516\n",
      "LBFGS:   35 13:54:42     -990.975668        0.024267\n",
      "LBFGS:   36 13:54:46     -990.975795        0.016994\n",
      "LBFGS:   37 13:54:51     -990.975887        0.012007\n",
      "LBFGS:   38 13:54:55     -990.975963        0.018713\n",
      "LBFGS:   39 13:55:00     -990.976024        0.017817\n",
      "LBFGS:   40 13:55:04     -990.976108        0.013932\n",
      "LBFGS:   41 13:55:08     -990.976177        0.010665\n",
      "LBFGS:   42 13:55:13     -990.976230        0.010953\n",
      "LBFGS:   43 13:55:17     -990.976274        0.012939\n",
      "LBFGS:   44 13:55:21     -990.976364        0.012656\n",
      "LBFGS:   45 13:55:25     -990.976419        0.012233\n",
      "LBFGS:   46 13:55:30     -990.976463        0.009655\n",
      "       Step     Time          Energy          fmax\n",
      "LBFGS:    0 13:55:36     -877.294151       28.716041\n",
      "LBFGS:    1 13:55:41     -936.308056       13.037447\n",
      "LBFGS:    2 13:55:45     -967.817679        6.723036\n",
      "LBFGS:    3 13:55:49     -976.652996        8.431251\n",
      "LBFGS:    4 13:55:54     -981.785502        2.048439\n",
      "LBFGS:    5 13:55:58     -984.722849        4.139229\n",
      "LBFGS:    6 13:56:02     -987.228734        2.654658\n",
      "LBFGS:    7 13:56:07     -988.447125        1.581833\n",
      "LBFGS:    8 13:56:11     -989.078798        0.856270\n",
      "LBFGS:    9 13:56:15     -989.482193        0.974266\n",
      "LBFGS:   10 13:56:20     -989.823307        0.944352\n",
      "LBFGS:   11 13:56:24     -990.092312        0.768914\n",
      "LBFGS:   12 13:56:29     -990.255945        0.706559\n",
      "LBFGS:   13 13:56:33     -990.415571        0.875108\n",
      "LBFGS:   14 13:56:37     -990.557579        0.699466\n",
      "LBFGS:   15 13:56:42     -990.653965        0.451665\n",
      "LBFGS:   16 13:56:46     -990.714065        0.432247\n",
      "LBFGS:   17 13:56:50     -990.762188        0.356867\n",
      "LBFGS:   18 13:56:55     -990.807018        0.373229\n",
      "LBFGS:   19 13:56:59     -990.841690        0.283825\n",
      "LBFGS:   20 13:57:03     -990.865232        0.284210\n",
      "LBFGS:   21 13:57:08     -990.884662        0.212180\n",
      "LBFGS:   22 13:57:12     -990.902097        0.245156\n",
      "LBFGS:   23 13:57:16     -990.914404        0.212515\n",
      "LBFGS:   24 13:57:20     -990.922287        0.221204\n",
      "LBFGS:   25 13:57:25     -990.928905        0.136730\n",
      "LBFGS:   26 13:57:29     -990.935451        0.131265\n",
      "LBFGS:   27 13:57:34     -990.940805        0.131741\n",
      "LBFGS:   28 13:57:38     -990.944709        0.166828\n",
      "LBFGS:   29 13:57:42     -990.948103        0.123753\n",
      "LBFGS:   30 13:57:47     -990.951694        0.088732\n",
      "LBFGS:   31 13:57:51     -990.955059        0.091786\n",
      "LBFGS:   32 13:57:55     -990.957815        0.148797\n",
      "LBFGS:   33 13:58:00     -990.960195        0.138166\n",
      "LBFGS:   34 13:58:04     -990.962581        0.079893\n",
      "LBFGS:   35 13:58:08     -990.964697        0.068249\n",
      "LBFGS:   36 13:58:13     -990.966221        0.084294\n",
      "LBFGS:   37 13:58:17     -990.967401        0.093084\n",
      "LBFGS:   38 13:58:21     -990.968591        0.060270\n",
      "LBFGS:   39 13:58:26     -990.969711        0.046586\n",
      "LBFGS:   40 13:58:30     -990.970602        0.050001\n",
      "LBFGS:   41 13:58:35     -990.971283        0.063822\n",
      "LBFGS:   42 13:58:39     -990.971918        0.048014\n",
      "LBFGS:   43 13:58:43     -990.972541        0.039898\n",
      "LBFGS:   44 13:58:47     -990.973074        0.028408\n",
      "LBFGS:   45 13:58:52     -990.973474        0.046821\n",
      "LBFGS:   46 13:58:56     -990.973884        0.044299\n",
      "LBFGS:   47 13:59:01     -990.974277        0.035445\n",
      "LBFGS:   48 13:59:05     -990.974624        0.025471\n",
      "LBFGS:   49 13:59:09     -990.974867        0.022269\n",
      "LBFGS:   50 13:59:14     -990.975048        0.025347\n",
      "LBFGS:   51 13:59:18     -990.975271        0.023859\n",
      "LBFGS:   52 13:59:22     -990.975519        0.023962\n",
      "LBFGS:   53 13:59:27     -990.975692        0.019893\n",
      "LBFGS:   54 13:59:31     -990.975855        0.019316\n",
      "LBFGS:   55 13:59:35     -990.975986        0.017283\n",
      "LBFGS:   56 13:59:40     -990.976125        0.018267\n",
      "LBFGS:   57 13:59:44     -990.976240        0.012003\n",
      "LBFGS:   58 13:59:48     -990.976318        0.012298\n",
      "LBFGS:   59 13:59:53     -990.976410        0.013638\n",
      "LBFGS:   60 13:59:57     -990.976518        0.017219\n",
      "LBFGS:   61 14:00:02     -990.976604        0.015139\n",
      "LBFGS:   62 14:00:06     -990.976673        0.009235\n"
     ]
    },
    {
     "name": "stderr",
     "output_type": "stream",
     "text": [
      "Generating DefectEntry objects: 100.0%|████████████████████████████████████████████████████████████| [00:42,   2.34it/s]\n"
     ]
    },
    {
     "name": "stdout",
     "output_type": "stream",
     "text": [
      "Vacancies      Guessed Charges    Conv. Cell Coords    Wyckoff\n",
      "-------------  -----------------  -------------------  ---------\n",
      "v_Be           [+1,0,-1,-2]       [0.067,0.250,0.407]  4c\n",
      "v_Al_Ci        [+1,0,-1,-2,-3]    [0.000,0.000,0.000]  4a\n",
      "v_Al_Cs        [+1,0,-1,-2,-3]    [0.505,0.250,0.227]  4c\n",
      "v_O_C1         [+2,+1,0,-1]       [0.242,0.016,0.337]  8d\n",
      "v_O_Cs_Be1.58  [+2,+1,0,-1]       [0.213,0.750,0.090]  4c\n",
      "v_O_Cs_Be1.70  [+2,+1,0,-1]       [0.259,0.250,0.067]  4c\n",
      "\n",
      "Substitutions    Guessed Charges     Conv. Cell Coords    Wyckoff\n",
      "---------------  ------------------  -------------------  ---------\n",
      "Be_Al_Ci         [0,-1]              [0.000,0.000,0.000]  4a\n",
      "Be_Al_Cs         [0,-1]              [0.505,0.250,0.227]  4c\n",
      "Be_O_C1          [+4,+3,+2,+1,0]     [0.242,0.016,0.337]  8d\n",
      "Be_O_Cs_Be1.58   [+4,+3,+2,+1,0]     [0.213,0.750,0.090]  4c\n",
      "Be_O_Cs_Be1.70   [+4,+3,+2,+1,0]     [0.259,0.250,0.067]  4c\n",
      "Al_Be            [+1,0]              [0.067,0.250,0.407]  4c\n",
      "Al_O_C1          [+5,+4,+3,+2,+1,0]  [0.242,0.016,0.337]  8d\n",
      "Al_O_Cs_Be1.58   [+5,+4,+3,+2,+1,0]  [0.213,0.750,0.090]  4c\n",
      "Al_O_Cs_Be1.70   [+5,+4,+3,+2,+1,0]  [0.259,0.250,0.067]  4c\n",
      "O_Be             [0,-1,-2,-3,-4]     [0.067,0.250,0.407]  4c\n",
      "O_Al_Ci          [0,-1,-2,-3,-4,-5]  [0.000,0.000,0.000]  4a\n",
      "O_Al_Cs          [0,-1,-2,-3,-4,-5]  [0.505,0.250,0.227]  4c\n",
      "Cr_Be            [+4,+3,+2,+1,0]     [0.067,0.250,0.407]  4c\n",
      "Cr_Al_Ci         [+3,+2,+1,0,-1]     [0.000,0.000,0.000]  4a\n",
      "Cr_Al_Cs         [+3,+2,+1,0,-1]     [0.505,0.250,0.227]  4c\n",
      "Cr_O_C1          [+5,+4,+3,+2,+1,0]  [0.242,0.016,0.337]  8d\n",
      "Cr_O_Cs_Be1.58   [+5,+4,+3,+2,+1,0]  [0.213,0.750,0.090]  4c\n",
      "Cr_O_Cs_Be1.70   [+5,+4,+3,+2,+1,0]  [0.259,0.250,0.067]  4c\n",
      "\n",
      "The number in the Wyckoff label is the site multiplicity/degeneracy of that defect in the conventional ('conv.') unit cell, which comprises 4 formula unit(s) of BeAl2O4.\n",
      "\n",
      "Oxidation states were not explicitly set, thus have been guessed as {'Be': 2.0, 'Al': 3.0, 'O': -2.0, 'Cr': 3.0}. If this is unreasonable you should manually set oxidation_states\n",
      "Applying ShakeNBreak... Will apply the following bond distortions: ['-0.6', '-0.5', '-0.4', '-0.3', '-0.2', '-0.1', '0.0', '0.1', '0.2', '0.3', '0.4', '0.5', '0.6', 'Dimer (for vacancies)']. Then, will rattle with a std dev of 0.16 Å \n",
      "\n"
     ]
    },
    {
     "name": "stderr",
     "output_type": "stream",
     "text": [
      "Generating distorted defect structures...0.0%|                                                         | [00:00,  ?it/s]"
     ]
    },
    {
     "name": "stdout",
     "output_type": "stream",
     "text": [
      "\u001b[1m\n",
      "Defect: Cr_Al_Ci\u001b[0m\n",
      "\u001b[1mNumber of missing electrons in neutral state: 0\u001b[0m\n",
      "\n",
      "Defect Cr_Al_Ci in charge state: 0. Number of distorted neighbours: 0\n"
     ]
    },
    {
     "name": "stderr",
     "output_type": "stream",
     "text": [
      "Generating distorted defect structures...50.0%|██████████████████████████                          | [00:00,   1.64it/s]"
     ]
    },
    {
     "name": "stdout",
     "output_type": "stream",
     "text": [
      "\u001b[1m\n",
      "Defect: Cr_Al_Cs\u001b[0m\n",
      "\u001b[1mNumber of missing electrons in neutral state: 0\u001b[0m\n",
      "\n",
      "Defect Cr_Al_Cs in charge state: 0. Number of distorted neighbours: 0\n"
     ]
    },
    {
     "name": "stderr",
     "output_type": "stream",
     "text": [
      "Generating distorted defect structures...100.0%|███████████████████████████████████████████████████| [00:00,   2.19it/s]\n"
     ]
    },
    {
     "name": "stdout",
     "output_type": "stream",
     "text": [
      "       Step     Time          Energy          fmax\n",
      "LBFGS:    0 14:00:53     -827.937121        0.008069\n",
      "       Step     Time          Energy          fmax\n",
      "LBFGS:    0 14:01:00     -828.399575        2.074157\n",
      "LBFGS:    1 14:01:06     -828.621789        1.129071\n",
      "LBFGS:    2 14:01:12     -828.756158        0.261361\n",
      "LBFGS:    3 14:01:19     -828.774911        0.185099\n",
      "LBFGS:    4 14:01:25     -828.787789        0.172088\n",
      "LBFGS:    5 14:01:31     -828.793649        0.149450\n",
      "LBFGS:    6 14:01:38     -828.797235        0.082072\n",
      "LBFGS:    7 14:01:44     -828.798944        0.065527\n",
      "LBFGS:    8 14:01:50     -828.800164        0.053546\n",
      "LBFGS:    9 14:01:57     -828.800927        0.031621\n",
      "LBFGS:   10 14:02:03     -828.801354        0.024882\n",
      "LBFGS:   11 14:02:10     -828.801660        0.021205\n",
      "LBFGS:   12 14:02:16     -828.801843        0.019904\n",
      "LBFGS:   13 14:02:22     -828.802011        0.018557\n",
      "LBFGS:   14 14:02:29     -828.801995        0.009245\n",
      "       Step     Time          Energy          fmax\n",
      "LBFGS:    0 14:02:39     -725.629739       52.156594\n",
      "LBFGS:    1 14:02:45     -770.542764       14.634713\n",
      "LBFGS:    2 14:02:52     -802.092675       13.086589\n",
      "LBFGS:    3 14:02:58     -819.468957        4.301443\n",
      "LBFGS:    4 14:03:04     -823.909966        2.205895\n",
      "LBFGS:    5 14:03:11     -826.346627        1.657944\n",
      "LBFGS:    6 14:03:17     -827.456903        1.125937\n",
      "LBFGS:    7 14:03:24     -828.038552        0.868943\n",
      "LBFGS:    8 14:03:31     -828.354196        0.653320\n",
      "LBFGS:    9 14:03:38     -828.521890        0.511454\n",
      "LBFGS:   10 14:03:44     -828.620431        0.389450\n",
      "LBFGS:   11 14:03:51     -828.681924        0.279471\n",
      "LBFGS:   12 14:03:58     -828.724603        0.221730\n",
      "LBFGS:   13 14:04:04     -828.751702        0.187764\n",
      "LBFGS:   14 14:04:11     -828.768502        0.154880\n",
      "LBFGS:   15 14:04:18     -828.779778        0.150773\n",
      "LBFGS:   16 14:04:25     -828.787469        0.118154\n",
      "LBFGS:   17 14:04:31     -828.792184        0.081688\n",
      "LBFGS:   18 14:04:38     -828.795022        0.068749\n",
      "LBFGS:   19 14:04:45     -828.796868        0.055512\n",
      "LBFGS:   20 14:04:51     -828.798272        0.047448\n",
      "LBFGS:   21 14:04:58     -828.799279        0.034834\n",
      "LBFGS:   22 14:05:05     -828.799951        0.026594\n",
      "LBFGS:   23 14:05:12     -828.800500        0.024750\n",
      "LBFGS:   24 14:05:18     -828.800912        0.025490\n",
      "LBFGS:   25 14:05:25     -828.801293        0.020044\n",
      "LBFGS:   26 14:05:32     -828.801492        0.018403\n",
      "LBFGS:   27 14:05:38     -828.801660        0.018602\n",
      "LBFGS:   28 14:05:45     -828.801888        0.016767\n",
      "LBFGS:   29 14:05:51     -828.801950        0.013093\n",
      "LBFGS:   30 14:05:57     -828.802041        0.009437\n",
      "       Step     Time          Energy          fmax\n",
      "LBFGS:    0 14:06:07     -828.706582        2.231136\n",
      "LBFGS:    1 14:06:14     -828.889794        0.964036\n",
      "LBFGS:    2 14:06:21     -828.975778        0.320558\n",
      "LBFGS:    3 14:06:27     -828.993173        0.183097\n",
      "LBFGS:    4 14:06:34     -829.006310        0.177762\n",
      "LBFGS:    5 14:06:40     -829.012094        0.140206\n",
      "LBFGS:    6 14:06:46     -829.015328        0.092356\n",
      "LBFGS:    7 14:06:53     -829.016931        0.062930\n",
      "LBFGS:    8 14:06:59     -829.017755        0.045141\n",
      "LBFGS:    9 14:07:05     -829.018472        0.033151\n",
      "LBFGS:   10 14:07:12     -829.018823        0.026467\n",
      "LBFGS:   11 14:07:18     -829.019174        0.021772\n",
      "LBFGS:   12 14:07:25     -829.019296        0.016445\n",
      "LBFGS:   13 14:07:31     -829.019433        0.011989\n",
      "LBFGS:   14 14:07:37     -829.019494        0.008998\n",
      "       Step     Time          Energy          fmax\n",
      "LBFGS:    0 14:07:47     -728.408586       32.851032\n",
      "LBFGS:    1 14:07:54     -780.875573        9.935459\n",
      "LBFGS:    2 14:08:00     -810.767648        4.274929\n",
      "LBFGS:    3 14:08:07     -821.526681        3.165998\n",
      "LBFGS:    4 14:08:13     -825.086404        2.519759\n",
      "LBFGS:    5 14:08:20     -826.990548        1.543671\n",
      "LBFGS:    6 14:08:27     -827.902764        1.291179\n",
      "LBFGS:    7 14:08:34     -828.392892        0.882745\n",
      "LBFGS:    8 14:08:40     -828.665368        0.489044\n",
      "LBFGS:    9 14:08:47     -828.817575        0.428391\n",
      "LBFGS:   10 14:08:54     -828.895944        0.297479\n",
      "LBFGS:   11 14:09:00     -828.944039        0.233552\n",
      "LBFGS:   12 14:09:07     -828.972726        0.163241\n",
      "LBFGS:   13 14:09:13     -828.990151        0.142328\n",
      "LBFGS:   14 14:09:20     -829.001077        0.097803\n",
      "LBFGS:   15 14:09:26     -829.008065        0.081887\n",
      "LBFGS:   16 14:09:32     -829.012429        0.073981\n",
      "LBFGS:   17 14:09:39     -829.015100        0.058406\n",
      "LBFGS:   18 14:09:45     -829.016625        0.039603\n",
      "LBFGS:   19 14:09:52     -829.017495        0.031732\n",
      "LBFGS:   20 14:09:59     -829.018014        0.024926\n",
      "LBFGS:   21 14:10:05     -829.018426        0.019948\n",
      "LBFGS:   22 14:10:12     -829.018731        0.017506\n",
      "LBFGS:   23 14:10:18     -829.018884        0.014977\n",
      "LBFGS:   24 14:10:24     -829.019021        0.018517\n",
      "LBFGS:   25 14:10:31     -829.019204        0.014018\n",
      "LBFGS:   26 14:10:37     -829.019326        0.011488\n",
      "LBFGS:   27 14:10:43     -829.019326        0.010980\n",
      "LBFGS:   28 14:10:50     -829.019494        0.008672\n"
     ]
    }
   ],
   "source": [
    "data = {}\n",
    "for key, val in Al_prim.items():\n",
    "    unperturbed_structures, distortions, supercell = create_defect(val['structure'])\n",
    "    mini_data = get_energy(unperturbed_structures, distortions, supercell) # add in host supercell relaxation\n",
    "    data[key] = mini_data\n"
   ]
  },
  {
   "cell_type": "code",
   "execution_count": 42,
   "id": "296e7e90-bc77-4270-b092-7c4c98e1535c",
   "metadata": {},
   "outputs": [],
   "source": [
    "for key, val in Al_prim.items():\n",
    "    data[key]['formula'] = val['formula']"
   ]
  },
  {
   "cell_type": "code",
   "execution_count": 43,
   "id": "1405fe05-3eef-4943-99e2-1e48ac416fb1",
   "metadata": {},
   "outputs": [],
   "source": [
    "for key,val in data.items(): # goes through mp id's\n",
    "    min_energy = [float('inf'), '']\n",
    "    for key1, val1 in val.items(): # goes through supercell and sites\n",
    "        if key1 != 'supercell' and key1 != 'formula':\n",
    "            for key2, val2 in val1.items(): \n",
    "                if key2 == 'unperturbed':\n",
    "                    if val2['energy'] < min_energy[0]:\n",
    "                        min_energy[0] = val2['energy']\n",
    "                        min_energy[1] = [key1, key2]\n",
    "                else:\n",
    "                    for key3, val3 in val2.items():\n",
    "                        if val3['energy'] < min_energy[0]:\n",
    "                            min_energy[0] = val3['energy']\n",
    "                            min_energy[1] = [key1, key2, key3]\n",
    "    data[key]['minimum energy site'] = {\n",
    "        'energy': min_energy[0],\n",
    "        'information': min_energy[1]\n",
    "    }"
   ]
  },
  {
   "cell_type": "code",
   "execution_count": 44,
   "id": "55e28db8-81cc-42f6-a8b7-e381a7abaf0c",
   "metadata": {},
   "outputs": [],
   "source": [
    "compounds = []\n",
    "delta_e = []\n",
    "for key, val in data.items():\n",
    "    min_energy = float('inf')\n",
    "    for key1, val1 in val.items():\n",
    "        if key1 != 'supercell' and key1 != 'formula' and key1 != 'minimum energy site':\n",
    "            for key2, val2 in val1.items():\n",
    "                if key2 != 'unperturbed':\n",
    "                    for key3, val3 in val2.items():\n",
    "                        if val3['energy'] < min_energy:\n",
    "                            min_energy = val3['energy']\n",
    "                            min_delta_e = val3['delta_e'] # filters for lowest energy rattled site, may be higher or lower than unperturbed\n",
    "    delta_e.append(min_delta_e)\n",
    "    compounds.append(data[key]['formula'])"
   ]
  },
  {
   "cell_type": "code",
   "execution_count": 45,
   "id": "8218d7f1-ebcd-4bac-ad7e-f37f0b3319cd",
   "metadata": {},
   "outputs": [],
   "source": [
    "dumpfn(data, f'../data/{MODEL}/{MODEL}_doped_defect_energies_{supercell_size}A.json')"
   ]
  },
  {
   "cell_type": "code",
   "execution_count": 56,
   "id": "9b404ccd-aa74-4293-9879-5f589050960a",
   "metadata": {},
   "outputs": [
    {
     "data": {
      "text/plain": [
       "-885.8492035071326"
      ]
     },
     "execution_count": 56,
     "metadata": {},
     "output_type": "execute_result"
    }
   ],
   "source": [
    "data['mp-4417']['supercell']['energy']"
   ]
  },
  {
   "cell_type": "code",
   "execution_count": 40,
   "id": "2fa86ac6-de23-400d-9d8c-b70c3660955c",
   "metadata": {
    "scrolled": true
   },
   "outputs": [],
   "source": [
    "data_load = loadfn(f'../data/{MODEL}_doped_defect_energies_{supercell_size}A.json')"
   ]
  },
  {
   "cell_type": "code",
   "execution_count": 42,
   "id": "654200f7-294b-46b7-b704-c2dadbe22d88",
   "metadata": {},
   "outputs": [],
   "source": [
    "import matplotlib.pyplot as plt"
   ]
  },
  {
   "cell_type": "code",
   "execution_count": 43,
   "id": "df3b5d12-bd91-4ab2-ba09-594a861c8413",
   "metadata": {},
   "outputs": [
    {
     "data": {
      "image/png": "[encoded data removed]",
      "text/plain": [
       "<Figure size 640x480 with 1 Axes>"
      ]
     },
     "metadata": {},
     "output_type": "display_data"
    }
   ],
   "source": [
    "fig, ax = plt.subplots()\n",
    "bars = ax.bar(compounds, delta_e)  # Assuming you have these lists already\n",
    "\n",
    "# Add labels on top of each bar\n",
    "ax.set_title(\"Energy Difference of Rattled Structure with Respect to Unperturbed Structure\")\n",
    "ax.set_ylabel(\"$\\Delta$E(eV)\")\n",
    "plt.xticks(rotation=90)\n",
    "plt.tight_layout()\n",
    "plt.savefig(f\"../figures/{MODEL}_energy_difference_plot_{supercell_size}A.png\", dpi=300, bbox_inches='tight')\n",
    "\n",
    "plt.show()"
   ]
  },
  {
   "cell_type": "code",
   "execution_count": null,
   "id": "10345744-e395-4cfc-a703-92407d235601",
   "metadata": {},
   "outputs": [],
   "source": []
  }
 ],
 "metadata": {
  "kernelspec": {
   "display_name": "Python 3 (ipykernel)",
   "language": "python",
   "name": "python3"
  },
  "language_info": {
   "codemirror_mode": {
    "name": "ipython",
    "version": 3
   },
   "file_extension": ".py",
   "mimetype": "text/x-python",
   "name": "python",
   "nbconvert_exporter": "python",
   "pygments_lexer": "ipython3",
   "version": "3.11.13"
  }
 },
 "nbformat": 4,
 "nbformat_minor": 5
}
