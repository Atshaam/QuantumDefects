{
 "cells": [
  {
   "cell_type": "code",
   "execution_count": 33,
   "id": "d057ab01-7372-4bbf-9968-e8e3c58b13ee",
   "metadata": {},
   "outputs": [],
   "source": [
    "from doped.generation import DefectsGenerator\n",
    "from monty.serialization import loadfn, dumpfn\n",
    "from pymatgen.core import Structure\n",
    "from pymatgen.io.vasp.sets import MPRelaxSet, MPMetalRelaxSet"
   ]
  },
  {
   "cell_type": "code",
   "execution_count": 10,
   "id": "a8d4e469-57d8-4f91-9c18-96688411303c",
   "metadata": {},
   "outputs": [],
   "source": [
    "Al_prim = loadfn('../../data/matching_AlCr_ox.json')"
   ]
  },
  {
   "cell_type": "code",
   "execution_count": 14,
   "id": "5027dcb1-c775-45a2-9a38-d2ed8febd780",
   "metadata": {},
   "outputs": [],
   "source": [
    "structure = Al_prim['mp-27863']['structure']\n",
    "mp_relax_set = MPRelaxSet(structure)\n",
    "mp_relax_set.write_input(\"relax_prim_AlClO\", potcar_spec=True)"
   ]
  },
  {
   "cell_type": "code",
   "execution_count": 23,
   "id": "622a66cc-7416-412b-9729-ba4a315c9162",
   "metadata": {},
   "outputs": [],
   "source": [
    "from pymatgen.io.vasp import Poscar\n",
    "poscar = Poscar.from_file(\"relax_prim_AlClO-Copy1/CONTCAR\")\n",
    "relaxed_structure = poscar.structure"
   ]
  },
  {
   "cell_type": "code",
   "execution_count": 24,
   "id": "8fa2567d",
   "metadata": {
    "scrolled": true
   },
   "outputs": [
    {
     "name": "stderr",
     "output_type": "stream",
     "text": [
      "Generating DefectEntry objects: 100.0%|████████████████████████████████████████████████████████████| [00:17,   5.64it/s]"
     ]
    },
    {
     "name": "stdout",
     "output_type": "stream",
     "text": [
      "Vacancies    Guessed Charges    Conv. Cell Coords    Wyckoff\n",
      "-----------  -----------------  -------------------  ---------\n",
      "v_Al         [+1,0,-1,-2,-3]    [0.000,0.500,0.104]  2b\n",
      "v_Cl         [+1,0,-1]          [0.000,0.000,0.685]  2a\n",
      "v_O          [+2,+1,0,-1]       [0.000,0.000,0.049]  2a\n",
      "\n",
      "Substitutions    Guessed Charges     Conv. Cell Coords    Wyckoff\n",
      "---------------  ------------------  -------------------  ---------\n",
      "Al_Cl            [+4,+3,+2,+1,0]     [0.000,0.000,0.685]  2a\n",
      "Al_O             [+5,+4,+3,+2,+1,0]  [0.000,0.000,0.049]  2a\n",
      "Cl_Al            [0,-1,-2,-3,-4]     [0.000,0.500,0.104]  2b\n",
      "Cl_O             [+1,0]              [0.000,0.000,0.049]  2a\n",
      "O_Al             [0,-1,-2,-3,-4,-5]  [0.000,0.500,0.104]  2b\n",
      "O_Cl             [0,-1]              [0.000,0.000,0.685]  2a\n",
      "Cr_Al            [+3,+2,+1,0,-1]     [0.000,0.500,0.104]  2b\n",
      "Cr_Cl            [+4,+3,+2,+1,0]     [0.000,0.000,0.685]  2a\n",
      "Cr_O             [+5,+4,+3,+2,+1,0]  [0.000,0.000,0.049]  2a\n",
      "\n",
      "The number in the Wyckoff label is the site multiplicity/degeneracy of that defect in the conventional ('conv.') unit cell, which comprises 2 formula unit(s) of AlOCl.\n",
      "\n"
     ]
    },
    {
     "name": "stderr",
     "output_type": "stream",
     "text": [
      "\n"
     ]
    }
   ],
   "source": [
    "defect_gen = DefectsGenerator(\n",
    "    relaxed_structure, \n",
    "    extrinsic=[\"Cr\"],\n",
    "    interstitial_gen_kwargs=False\n",
    ")"
   ]
  },
  {
   "cell_type": "code",
   "execution_count": 25,
   "id": "582deaac",
   "metadata": {},
   "outputs": [
    {
     "data": {
      "text/plain": [
       "DefectsGenerator for input composition AlOCl, space group Pmmn with 1 defect entries created.\n",
       "---------------------------------------------------------\n",
       "Substitutions    Guessed Charges    Conv. Cell Coords    Wyckoff\n",
       "---------------  -----------------  -------------------  ---------\n",
       "Cr_Al            [0]                [0.000,0.500,0.104]  2b\n",
       "\n",
       "The number in the Wyckoff label is the site multiplicity/degeneracy of that defect in the conventional ('conv.') unit cell, which comprises 2 formula unit(s) of AlOCl."
      ]
     },
     "execution_count": 25,
     "metadata": {},
     "output_type": "execute_result"
    }
   ],
   "source": [
    "defect_gen.defects = {\"substitutions\": [d for d in defect_gen.defects[\"substitutions\"] if d.name == \"Cr_Al\"]}\n",
    "defect_gen.defect_entries = {k: v for k, v in defect_gen.defect_entries.items() if \"Cr_Al\" in k and k[-1] == \"0\"}\n",
    "defect_gen"
   ]
  },
  {
   "cell_type": "code",
   "execution_count": 27,
   "id": "5a847aba",
   "metadata": {},
   "outputs": [
    {
     "name": "stderr",
     "output_type": "stream",
     "text": [
      "Generating and writing input files: 100%|█████████████████████████████████████████████████| 1/1 [00:00<00:00,  1.94it/s]\n"
     ]
    }
   ],
   "source": [
    "from doped.vasp import DefectsSet\n",
    "\n",
    "LDAU_PARAMS = {\n",
    "  \"LDAU\": True,\n",
    "    \"LDAUJ\": {\n",
    "        \"F\": {\n",
    "            \"Co\": 0,\n",
    "            \"Cr\": 0,\n",
    "            \"Fe\": 0,\n",
    "            \"Mn\": 0,\n",
    "            \"Mo\": 0,\n",
    "            \"Ni\": 0,\n",
    "            \"V\": 0,\n",
    "            \"W\": 0\n",
    "        },\n",
    "        \"O\": {\n",
    "            \"Co\": 0,\n",
    "            \"Cr\": 0,\n",
    "            \"Fe\": 0,\n",
    "            \"Mn\": 0,\n",
    "            \"Mo\": 0,\n",
    "            \"Ni\": 0,\n",
    "            \"V\": 0,\n",
    "            \"W\": 0\n",
    "        }\n",
    "    },\n",
    "    \"LDAUL\": {\n",
    "        \"F\": {\n",
    "            \"Co\": 2,\n",
    "            \"Cr\": 2,\n",
    "            \"Fe\": 2,\n",
    "            \"Mn\": 2,\n",
    "            \"Mo\": 2,\n",
    "            \"Ni\": 2,\n",
    "            \"V\": 2,\n",
    "            \"W\": 2\n",
    "        },\n",
    "        \"O\": {\n",
    "            \"Co\": 2,\n",
    "            \"Cr\": 2,\n",
    "            \"Fe\": 2,\n",
    "            \"Mn\": 2,\n",
    "            \"Mo\": 2,\n",
    "            \"Ni\": 2,\n",
    "            \"V\": 2,\n",
    "            \"W\": 2\n",
    "        }\n",
    "    },\n",
    "    \"LDAUTYPE\": 2,\n",
    "    \"LDAUU\": {\n",
    "        \"F\": {\n",
    "            \"Co\": 3.32,\n",
    "            \"Cr\": 3.7,\n",
    "            \"Fe\": 5.3,\n",
    "            \"Mn\": 3.9,\n",
    "            \"Mo\": 4.38,\n",
    "            \"Ni\": 6.2,\n",
    "            \"V\": 3.25,\n",
    "            \"W\": 6.2\n",
    "        },\n",
    "        \"O\": {\n",
    "            \"Co\": 3.32,\n",
    "            \"Cr\": 3.7,\n",
    "            \"Fe\": 5.3,\n",
    "            \"Mn\": 3.9,\n",
    "            \"Mo\": 4.38,\n",
    "            \"Ni\": 6.2,\n",
    "            \"V\": 3.25,\n",
    "            \"W\": 6.2\n",
    "        }\n",
    "    },\n",
    "    \"MAGMOM\": {\n",
    "        \"Ce\": 5,\n",
    "        \"Ce3+\": 1,\n",
    "        \"Co\": 0.6,\n",
    "        \"Co3+\": 0.6,\n",
    "        \"Co4+\": 1,\n",
    "        \"Cr\": 5,\n",
    "        \"Dy3+\": 5,\n",
    "        \"Er3+\": 3,\n",
    "        \"Eu\": 10,\n",
    "        \"Eu2+\": 7,\n",
    "        \"Eu3+\": 6,\n",
    "        \"Fe\": 5,\n",
    "        \"Gd3+\": 7,\n",
    "        \"Ho3+\": 4,\n",
    "        \"La3+\": 0.6,\n",
    "        \"Lu3+\": 0.6,\n",
    "        \"Mn\": 5,\n",
    "        \"Mn3+\": 4,\n",
    "        \"Mn4+\": 3,\n",
    "        \"Mo\": 5,\n",
    "        \"Nd3+\": 3,\n",
    "        \"Ni\": 5,\n",
    "        \"Pm3+\": 4,\n",
    "        \"Pr3+\": 2,\n",
    "        \"Sm3+\": 5,\n",
    "        \"Tb3+\": 6,\n",
    "        \"Tm3+\": 2,\n",
    "        \"V\": 5,\n",
    "        \"W\": 5,\n",
    "        \"Yb3+\": 1\n",
    "    }\n",
    "}\n",
    "\n",
    "defect_set = DefectsSet(\n",
    "    defect_gen,\n",
    "    user_incar_settings={\"ENCUT\": 520, \"LHFCALC\": None, \"HFSCREEN\": None, \"AEXX\": None, **LDAU_PARAMS},\n",
    "    soc=False,\n",
    "    user_potcar_functional=\"PBE\",\n",
    ")\n",
    "defect_set.write_files(\"doped-defs-AlClO\", poscar=True)"
   ]
  },
  {
   "cell_type": "markdown",
   "id": "506dae24-9228-4ee9-b1b6-9aca1bf0fb45",
   "metadata": {},
   "source": [
    "bulk supercell DFT: -339.20300145"
   ]
  },
  {
   "cell_type": "markdown",
   "id": "bf616cda-16c1-41ca-a0a1-8960fae2a16d",
   "metadata": {},
   "source": [
    "Defect supercell DFT: -334.57118997"
   ]
  },
  {
   "cell_type": "code",
   "execution_count": 29,
   "id": "c18a654c-3d87-474a-b419-183e8b2e1035",
   "metadata": {},
   "outputs": [],
   "source": [
    "relaxed = loadfn('../../data/uma/uma_corrected_doped_defect_energies_10A.json')"
   ]
  },
  {
   "cell_type": "code",
   "execution_count": 30,
   "id": "f51cccb0-5e0e-48e3-a263-9fb35085fce4",
   "metadata": {},
   "outputs": [
    {
     "data": {
      "text/plain": [
       "-340.20755234766307"
      ]
     },
     "execution_count": 30,
     "metadata": {},
     "output_type": "execute_result"
    }
   ],
   "source": [
    "relaxed['mp-27863']['supercell']['energy']"
   ]
  },
  {
   "cell_type": "code",
   "execution_count": 31,
   "id": "5cd1c6c6-193b-4908-aa1e-81b67cad6798",
   "metadata": {},
   "outputs": [
    {
     "data": {
      "text/plain": [
       "-332.5626203417144"
      ]
     },
     "execution_count": 31,
     "metadata": {},
     "output_type": "execute_result"
    }
   ],
   "source": [
    "relaxed['mp-27863']['minimum energy site']['energy']"
   ]
  },
  {
   "cell_type": "code",
   "execution_count": null,
   "id": "4758355c-63ab-464d-b33b-4555e212447c",
   "metadata": {},
   "outputs": [],
   "source": []
  }
 ],
 "metadata": {
  "kernelspec": {
   "display_name": "Python 3 (ipykernel)",
   "language": "python",
   "name": "python3"
  },
  "language_info": {
   "codemirror_mode": {
    "name": "ipython",
    "version": 3
   },
   "file_extension": ".py",
   "mimetype": "text/x-python",
   "name": "python",
   "nbconvert_exporter": "python",
   "pygments_lexer": "ipython3",
   "version": "3.11.13"
  }
 },
 "nbformat": 4,
 "nbformat_minor": 5
}
