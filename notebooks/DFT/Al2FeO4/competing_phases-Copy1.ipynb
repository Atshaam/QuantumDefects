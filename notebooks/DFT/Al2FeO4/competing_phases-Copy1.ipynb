{
 "cells": [
  {
   "cell_type": "code",
   "execution_count": 11,
   "id": "33f34b5b-79c4-42c6-9c69-b090ceb8470e",
   "metadata": {},
   "outputs": [],
   "source": [
    "from monty.serialization import loadfn, dumpfn\n",
    "from pymatgen.core import Structure\n",
    "from pymatgen.io.vasp.sets import MPRelaxSet, MPMetalRelaxSet\n",
    "from pymatgen.io.vasp import Poscar\n",
    "from doped.chemical_potentials import CompetingPhases, CompetingPhasesAnalyzer\n",
    "from pymatgen.entries.computed_entries import ComputedEntry\n",
    "import os"
   ]
  },
  {
   "cell_type": "code",
   "execution_count": 3,
   "id": "d0b6ee20-b3e6-4265-8e8e-284952087952",
   "metadata": {},
   "outputs": [],
   "source": [
    "supercell = Poscar.from_file(\"doped-defs-AlClO/AlOCl_bulk/vasp_std/CONTCAR\")\n",
    "bulk_supercell = supercell.structure"
   ]
  },
  {
   "cell_type": "code",
   "execution_count": 7,
   "id": "22e3bfc6-3826-435f-a32f-924d6ec4afbe",
   "metadata": {},
   "outputs": [],
   "source": [
    "cp = CompetingPhases(composition='AlClO', extrinsic='Cr', energy_above_hull=0.05)"
   ]
  },
  {
   "cell_type": "code",
   "execution_count": 55,
   "id": "173ac34e-8d1f-47a5-9fa0-9d5ee140113e",
   "metadata": {
    "scrolled": true
   },
   "outputs": [],
   "source": [
    "for entry in cp.entries:\n",
    "    dir_path = os.path.join(\n",
    "        \"AlClO\",\n",
    "        \"AlClO_competing_phases\",\n",
    "        f\"{entry.data['formula_pretty']}_EaH_{entry.data['energy_above_hull']}\",\n",
    "        \"vasp_std\"\n",
    "    )\n",
    "    os.makedirs(dir_path, exist_ok=True)"
   ]
  },
  {
   "cell_type": "code",
   "execution_count": 56,
   "id": "9bffe0a0-fa72-41af-a7f2-02a8dd820443",
   "metadata": {},
   "outputs": [],
   "source": [
    "calculated_entries = {}\n",
    "for entry in cp.entries:\n",
    "    key =  entry.data['material_id'] + '-' + entry.structure.composition.reduced_formula\n",
    "    if key in calculated_entries:\n",
    "        continue\n",
    "    # if entry.data['summary']['band_gap'] == 0:\n",
    "    else:\n",
    "        entries.append(key)\n",
    "        if entry.data['summary']['band_gap'] == 0:\n",
    "            mp_relax_set = MPMetalRelaxSet(entry.structure)\n",
    "            mp_relax_set.write_input(f\"AlClO/AlClO_competing_phases/{entry.data['formula_pretty']}_EaH_{entry.data['energy_above_hull']}/vasp_std\", poscar=True)\n",
    "        else:\n",
    "            mp_relax_set = MPRelaxSet(entry.structure)\n",
    "            mp_relax_set.write_input(f\"AlClO/AlClO_competing_phases/{entry.data['formula_pretty']}_EaH_{entry.data['energy_above_hull']}/vasp_std\", poscar=True)\n",
    "        calculated_entries[key] = entry"
   ]
  },
  {
   "cell_type": "code",
   "execution_count": 58,
   "id": "0385b828-af9e-44c8-92ef-1741706442a2",
   "metadata": {},
   "outputs": [
    {
     "name": "stderr",
     "output_type": "stream",
     "text": [
      "Parsing vaspruns...: 100%|██████████████████████████████████████████████████████████████| 22/22 [00:08<00:00,  2.64it/s]\n"
     ]
    }
   ],
   "source": [
    "cpa = CompetingPhasesAnalyzer(composition='AlClO', entries=\"AlClO/AlClO_competing_phases/\")"
   ]
  },
  {
   "cell_type": "code",
   "execution_count": 60,
   "id": "10e81fbd-01cf-4aed-b1a7-265cf8d10b56",
   "metadata": {},
   "outputs": [
    {
     "data": {
      "text/plain": [
       "False"
      ]
     },
     "execution_count": 60,
     "metadata": {},
     "output_type": "execute_result"
    }
   ],
   "source": [
    "cpa.unstable_host"
   ]
  },
  {
   "cell_type": "code",
   "execution_count": 61,
   "id": "a242f678-03b6-42e7-90ef-5c8012dc9e1c",
   "metadata": {},
   "outputs": [],
   "source": [
    "chempots = cpa.chempots"
   ]
  },
  {
   "cell_type": "code",
   "execution_count": 72,
   "id": "de71a2e7-3718-4455-85d2-68da70d3a6b1",
   "metadata": {},
   "outputs": [],
   "source": [
    "formation_energies = {}\n",
    "for key in chempots['limits'].keys():\n",
    "    def_form_e = -337.73769164 + chempots['limits'][key]['Al'] - (-351.69390352) - chempots['limits'][key]['Cr']\n",
    "    formation_energies[key] = def_form_e"
   ]
  },
  {
   "cell_type": "code",
   "execution_count": 73,
   "id": "153e07c1-80a1-4b95-be04-acc3919ea801",
   "metadata": {},
   "outputs": [
    {
     "data": {
      "text/plain": [
       "{'AlClO-Cl2-Al2O3-CrCl3': 5.815879809999988,\n",
       " 'AlClO-AlCl3-Cl2-CrCl3': 5.8858598100000314,\n",
       " 'AlClO-Al-Al2O3-Al45Cr7': 8.297749809999997,\n",
       " 'AlClO-AlCl3-Al-Al45Cr7': 8.297749809999997}"
      ]
     },
     "execution_count": 73,
     "metadata": {},
     "output_type": "execute_result"
    }
   ],
   "source": [
    "formation_energies"
   ]
  }
 ],
 "metadata": {
  "kernelspec": {
   "display_name": "Python 3 (ipykernel)",
   "language": "python",
   "name": "python3"
  },
  "language_info": {
   "codemirror_mode": {
    "name": "ipython",
    "version": 3
   },
   "file_extension": ".py",
   "mimetype": "text/x-python",
   "name": "python",
   "nbconvert_exporter": "python",
   "pygments_lexer": "ipython3",
   "version": "3.11.13"
  }
 },
 "nbformat": 4,
 "nbformat_minor": 5
}
