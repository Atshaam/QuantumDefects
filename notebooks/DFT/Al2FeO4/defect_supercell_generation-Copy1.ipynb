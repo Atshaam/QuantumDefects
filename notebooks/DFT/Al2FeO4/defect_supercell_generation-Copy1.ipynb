{
 "cells": [
  {
   "cell_type": "code",
   "execution_count": 1,
   "id": "d057ab01-7372-4bbf-9968-e8e3c58b13ee",
   "metadata": {},
   "outputs": [],
   "source": [
    "from doped.generation import DefectsGenerator\n",
    "from monty.serialization import loadfn, dumpfn\n",
    "from pymatgen.core import Structure\n",
    "from pymatgen.io.vasp.sets import MPRelaxSet, MPMetalRelaxSet\n",
    "from pymatgen.io.vasp import Poscar"
   ]
  },
  {
   "cell_type": "code",
   "execution_count": 3,
   "id": "a8d4e469-57d8-4f91-9c18-96688411303c",
   "metadata": {},
   "outputs": [],
   "source": [
    "Al_prim = loadfn('../../../data/matching_AlCr_ox.json')"
   ]
  },
  {
   "cell_type": "code",
   "execution_count": 5,
   "id": "5027dcb1-c775-45a2-9a38-d2ed8febd780",
   "metadata": {},
   "outputs": [],
   "source": [
    "structure = Al_prim['mp-30084']['structure']\n",
    "mp_relax_set = MPRelaxSet(structure)\n",
    "mp_relax_set.write_input(\"relax_prim_Al2FeO4\")"
   ]
  },
  {
   "cell_type": "code",
   "execution_count": 7,
   "id": "622a66cc-7416-412b-9729-ba4a315c9162",
   "metadata": {},
   "outputs": [],
   "source": [
    "from pymatgen.io.vasp import Poscar\n",
    "poscar = Poscar.from_file(\"relax_prim_Al2FeO4/CONTCAR\")\n",
    "relaxed_structure = poscar.structure"
   ]
  },
  {
   "cell_type": "code",
   "execution_count": 13,
   "id": "8fa2567d",
   "metadata": {
    "scrolled": true
   },
   "outputs": [
    {
     "name": "stderr",
     "output_type": "stream",
     "text": [
      "Generating DefectEntry objects: 100.0%|████████████████████████████████████████████████████████████| [01:10,   1.43it/s]\n"
     ]
    },
    {
     "name": "stdout",
     "output_type": "stream",
     "text": [
      "Vacancies    Guessed Charges    Conv. Cell Coords    Wyckoff\n",
      "-----------  -----------------  -------------------  ---------\n",
      "v_Al         [+1,0,-1,-2,-3]    [0.625,0.625,0.625]  16d\n",
      "v_Fe         [+1,0,-1,-2]       [0.000,0.000,0.000]  8a\n",
      "v_O          [+2,+1,0,-1]       [0.391,0.391,0.391]  32e\n",
      "\n",
      "Substitutions    Guessed Charges     Conv. Cell Coords    Wyckoff\n",
      "---------------  ------------------  -------------------  ---------\n",
      "Al_Fe            [+1,0]              [0.000,0.000,0.000]  8a\n",
      "Al_O             [+5,+4,+3,+2,+1,0]  [0.391,0.391,0.391]  32e\n",
      "Fe_Al            [+1,0,-1,-2]        [0.625,0.625,0.625]  16d\n",
      "Fe_O             [+5,+4,+3,+2,+1,0]  [0.391,0.391,0.391]  32e\n",
      "O_Al             [0,-1,-2,-3,-4,-5]  [0.625,0.625,0.625]  16d\n",
      "O_Fe             [0,-1,-2,-3,-4]     [0.000,0.000,0.000]  8a\n",
      "Cr_Al            [+3,+2,+1,0,-1]     [0.625,0.625,0.625]  16d\n",
      "Cr_Fe            [+4,+3,+2,+1,0]     [0.000,0.000,0.000]  8a\n",
      "Cr_O             [+5,+4,+3,+2,+1,0]  [0.391,0.391,0.391]  32e\n",
      "\n",
      "The number in the Wyckoff label is the site multiplicity/degeneracy of that defect in the conventional ('conv.') unit cell, which comprises 8 formula unit(s) of FeAl2O4.\n",
      "\n"
     ]
    }
   ],
   "source": [
    "defect_gen = DefectsGenerator(\n",
    "    relaxed_structure, \n",
    "    extrinsic=[\"Cr\"],\n",
    "    interstitial_gen_kwargs=False,\n",
    "    supercell_gen_kwargs={'min_image_distance':5}\n",
    ")"
   ]
  },
  {
   "cell_type": "code",
   "execution_count": 14,
   "id": "582deaac",
   "metadata": {},
   "outputs": [
    {
     "data": {
      "text/plain": [
       "DefectsGenerator for input composition FeAl2O4, space group Fd-3m with 1 defect entries created.\n",
       "---------------------------------------------------------\n",
       "Substitutions    Guessed Charges    Conv. Cell Coords    Wyckoff\n",
       "---------------  -----------------  -------------------  ---------\n",
       "Cr_Al            [0]                [0.625,0.625,0.625]  16d\n",
       "\n",
       "The number in the Wyckoff label is the site multiplicity/degeneracy of that defect in the conventional ('conv.') unit cell, which comprises 8 formula unit(s) of FeAl2O4."
      ]
     },
     "execution_count": 14,
     "metadata": {},
     "output_type": "execute_result"
    }
   ],
   "source": [
    "defect_gen.defects = {\"substitutions\": [d for d in defect_gen.defects[\"substitutions\"] if d.name == \"Cr_Al\"]}\n",
    "defect_gen.defect_entries = {k: v for k, v in defect_gen.defect_entries.items() if \"Cr_Al\" in k and k[-1] == \"0\"}\n",
    "defect_gen"
   ]
  },
  {
   "cell_type": "code",
   "execution_count": 15,
   "id": "5a847aba",
   "metadata": {},
   "outputs": [
    {
     "name": "stderr",
     "output_type": "stream",
     "text": [
      "vasp.py:229: BadIncarWarning: Cannot find GGE from your user_incar_settings in the list of INCAR flags\n",
      "vasp.py:229: BadIncarWarning: Cannot find GGE from your user_incar_settings in the list of INCAR flags\n",
      "vasp.py:229: BadIncarWarning: Cannot find GGE from your user_incar_settings in the list of INCAR flags\n",
      "vasp.py:229: BadIncarWarning: Cannot find GGE from your user_incar_settings in the list of INCAR flags\n",
      "vasp.py:229: BadIncarWarning: Cannot find GGE from your user_incar_settings in the list of INCAR flags\n",
      "vasp.py:229: BadIncarWarning: Cannot find GGE from your user_incar_settings in the list of INCAR flags\n",
      "Generating and writing input files: 100%|█████████████████████████████████████████████████| 1/1 [00:01<00:00,  1.46s/it]\n"
     ]
    }
   ],
   "source": [
    "from doped.vasp import DefectsSet\n",
    "\n",
    "LDAU_PARAMS = {\n",
    "  \"LDAU\": True,\n",
    "    \"LDAUJ\": {\n",
    "        \"F\": {\n",
    "            \"Co\": 0,\n",
    "            \"Cr\": 0,\n",
    "            \"Fe\": 0,\n",
    "            \"Mn\": 0,\n",
    "            \"Mo\": 0,\n",
    "            \"Ni\": 0,\n",
    "            \"V\": 0,\n",
    "            \"W\": 0\n",
    "        },\n",
    "        \"O\": {\n",
    "            \"Co\": 0,\n",
    "            \"Cr\": 0,\n",
    "            \"Fe\": 0,\n",
    "            \"Mn\": 0,\n",
    "            \"Mo\": 0,\n",
    "            \"Ni\": 0,\n",
    "            \"V\": 0,\n",
    "            \"W\": 0\n",
    "        }\n",
    "    },\n",
    "    \"LDAUL\": {\n",
    "        \"F\": {\n",
    "            \"Co\": 2,\n",
    "            \"Cr\": 2,\n",
    "            \"Fe\": 2,\n",
    "            \"Mn\": 2,\n",
    "            \"Mo\": 2,\n",
    "            \"Ni\": 2,\n",
    "            \"V\": 2,\n",
    "            \"W\": 2\n",
    "        },\n",
    "        \"O\": {\n",
    "            \"Co\": 2,\n",
    "            \"Cr\": 2,\n",
    "            \"Fe\": 2,\n",
    "            \"Mn\": 2,\n",
    "            \"Mo\": 2,\n",
    "            \"Ni\": 2,\n",
    "            \"V\": 2,\n",
    "            \"W\": 2\n",
    "        }\n",
    "    },\n",
    "    \"LDAUTYPE\": 2,\n",
    "    \"LDAUU\": {\n",
    "        \"F\": {\n",
    "            \"Co\": 3.32,\n",
    "            \"Cr\": 3.7,\n",
    "            \"Fe\": 5.3,\n",
    "            \"Mn\": 3.9,\n",
    "            \"Mo\": 4.38,\n",
    "            \"Ni\": 6.2,\n",
    "            \"V\": 3.25,\n",
    "            \"W\": 6.2\n",
    "        },\n",
    "        \"O\": {\n",
    "            \"Co\": 3.32,\n",
    "            \"Cr\": 3.7,\n",
    "            \"Fe\": 5.3,\n",
    "            \"Mn\": 3.9,\n",
    "            \"Mo\": 4.38,\n",
    "            \"Ni\": 6.2,\n",
    "            \"V\": 3.25,\n",
    "            \"W\": 6.2\n",
    "        }\n",
    "    },\n",
    "    \"MAGMOM\": {\n",
    "        \"Ce\": 5,\n",
    "        \"Ce3+\": 1,\n",
    "        \"Co\": 0.6,\n",
    "        \"Co3+\": 0.6,\n",
    "        \"Co4+\": 1,\n",
    "        \"Cr\": 5,\n",
    "        \"Dy3+\": 5,\n",
    "        \"Er3+\": 3,\n",
    "        \"Eu\": 10,\n",
    "        \"Eu2+\": 7,\n",
    "        \"Eu3+\": 6,\n",
    "        \"Fe\": 5,\n",
    "        \"Gd3+\": 7,\n",
    "        \"Ho3+\": 4,\n",
    "        \"La3+\": 0.6,\n",
    "        \"Lu3+\": 0.6,\n",
    "        \"Mn\": 5,\n",
    "        \"Mn3+\": 4,\n",
    "        \"Mn4+\": 3,\n",
    "        \"Mo\": 5,\n",
    "        \"Nd3+\": 3,\n",
    "        \"Ni\": 5,\n",
    "        \"Pm3+\": 4,\n",
    "        \"Pr3+\": 2,\n",
    "        \"Sm3+\": 5,\n",
    "        \"Tb3+\": 6,\n",
    "        \"Tm3+\": 2,\n",
    "        \"V\": 5,\n",
    "        \"W\": 5,\n",
    "        \"Yb3+\": 1\n",
    "    }\n",
    "}\n",
    "\n",
    "defect_set = DefectsSet(\n",
    "    defect_gen,\n",
    "    user_incar_settings={\"ENCUT\": 520, \"LHFCALC\": None, \"HFSCREEN\": None, \"AEXX\": None, \"GGE\":\"PBE\", **LDAU_PARAMS},\n",
    "    soc=False,\n",
    "    user_potcar_functional=\"PBE\",\n",
    ")\n",
    "defect_set.write_files(\"5_doped-defs-Al2FeO4\", poscar=True)"
   ]
  },
  {
   "cell_type": "code",
   "execution_count": null,
   "id": "65aa055b-dee1-41d3-aaef-3ea0da64c914",
   "metadata": {},
   "outputs": [],
   "source": []
  }
 ],
 "metadata": {
  "kernelspec": {
   "display_name": "Python 3 (ipykernel)",
   "language": "python",
   "name": "python3"
  },
  "language_info": {
   "codemirror_mode": {
    "name": "ipython",
    "version": 3
   },
   "file_extension": ".py",
   "mimetype": "text/x-python",
   "name": "python",
   "nbconvert_exporter": "python",
   "pygments_lexer": "ipython3",
   "version": "3.11.13"
  }
 },
 "nbformat": 4,
 "nbformat_minor": 5
}
