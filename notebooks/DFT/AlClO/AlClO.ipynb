{
 "cells": [
  {
   "cell_type": "code",
   "execution_count": 17,
   "id": "7d8ad0bb-4fd7-4ad2-997c-c5e5bf069a32",
   "metadata": {},
   "outputs": [],
   "source": [
    "from monty.serialization import dumpfn, loadfn"
   ]
  },
  {
   "cell_type": "code",
   "execution_count": 13,
   "id": "485bd974-6fca-499b-8359-a716f2976239",
   "metadata": {},
   "outputs": [],
   "source": [
    "MODEL = \"uma\""
   ]
  },
  {
   "cell_type": "code",
   "execution_count": 2,
   "id": "bd7a51f5-8c1a-49d5-a3e1-5305641bcaa8",
   "metadata": {},
   "outputs": [],
   "source": [
    "matching_structure = loadfn('../../data/matching_AlCr_ox.json')"
   ]
  },
  {
   "cell_type": "code",
   "execution_count": 10,
   "id": "cd4a8240-5a16-495b-94ad-6875017d0614",
   "metadata": {},
   "outputs": [],
   "source": [
    "AlClO = matching_structure['mp-27863']['structure']"
   ]
  },
  {
   "cell_type": "code",
   "execution_count": 18,
   "id": "2344309d-91a1-4143-81d0-a094e49a53a6",
   "metadata": {},
   "outputs": [
    {
     "data": {
      "text/plain": [
       "'Al2 Cl2 O2\\n1.0\\n   3.6190233400000000   -0.0000000000000000    0.0000000000000000\\n   0.0000000000000000    3.1414401500000002    0.0000000000000000\\n   0.0000000000000000    0.0000000000000000    7.9259865999999999\\nAl Cl O\\n2 2 2\\ndirect\\n   0.7500000000000000    0.2500000000000000    0.8963734200000000 Al\\n   0.2500000000000000    0.7500000000000000    0.1036265800000000 Al\\n   0.7500000000000000    0.7500000000000000    0.6855508800000000 Cl\\n   0.2500000000000000    0.2500000000000000    0.3144491200000000 Cl\\n   0.2500000000000000    0.2500000000000000    0.9513887500000000 O\\n   0.7500000000000000    0.7500000000000000    0.0486112500000000 O\\n'"
      ]
     },
     "execution_count": 18,
     "metadata": {},
     "output_type": "execute_result"
    }
   ],
   "source": [
    "AlClO.to_file('POSCAR', 'POSCAR')"
   ]
  },
  {
   "cell_type": "code",
   "execution_count": 9,
   "id": "ee91c638-29ab-4309-99fb-80826844c377",
   "metadata": {},
   "outputs": [],
   "source": [
    "from pymatgen.io.vasp import Poscar"
   ]
  },
  {
   "cell_type": "code",
   "execution_count": 11,
   "id": "33094e57-a93c-4570-98d6-f7c74159bb36",
   "metadata": {},
   "outputs": [],
   "source": [
    "poscar = Poscar(AlClO)\n",
    "poscar.write_file(\"AlClO_POSCAR\")"
   ]
  },
  {
   "cell_type": "code",
   "execution_count": 15,
   "id": "47c59476-08a6-46bf-a553-d155b68a8379",
   "metadata": {},
   "outputs": [],
   "source": [
    "relaxed_energies = loadfn(f'../../data/{MODEL}/{MODEL}_relaxed_Al_prim.json')"
   ]
  },
  {
   "cell_type": "code",
   "execution_count": 16,
   "id": "ff8245c2-03dc-4841-a158-7b45f3bd5637",
   "metadata": {},
   "outputs": [
    {
     "data": {
      "text/plain": [
       "-35.1988412690166"
      ]
     },
     "execution_count": 16,
     "metadata": {},
     "output_type": "execute_result"
    }
   ],
   "source": [
    "relaxed_energies['mp-27863']['energy']"
   ]
  },
  {
   "cell_type": "markdown",
   "id": "2c12d974-641c-4786-b4eb-b9f1ea1e946f",
   "metadata": {},
   "source": [
    "DFT: -35.16686981"
   ]
  },
  {
   "cell_type": "code",
   "execution_count": null,
   "id": "a711649c-f639-4abe-a0cb-a35dd2dee686",
   "metadata": {},
   "outputs": [],
   "source": []
  }
 ],
 "metadata": {
  "kernelspec": {
   "display_name": "Python 3 (ipykernel)",
   "language": "python",
   "name": "python3"
  },
  "language_info": {
   "codemirror_mode": {
    "name": "ipython",
    "version": 3
   },
   "file_extension": ".py",
   "mimetype": "text/x-python",
   "name": "python",
   "nbconvert_exporter": "python",
   "pygments_lexer": "ipython3",
   "version": "3.11.13"
  }
 },
 "nbformat": 4,
 "nbformat_minor": 5
}
