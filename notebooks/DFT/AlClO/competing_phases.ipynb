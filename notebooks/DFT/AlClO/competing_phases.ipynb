{
 "cells": [
  {
   "cell_type": "code",
   "execution_count": 2,
   "id": "33f34b5b-79c4-42c6-9c69-b090ceb8470e",
   "metadata": {},
   "outputs": [],
   "source": [
    "from monty.serialization import loadfn, dumpfn\n",
    "from pymatgen.core import Structure\n",
    "from pymatgen.io.vasp.sets import MPRelaxSet, MPMetalRelaxSet\n",
    "from pymatgen.io.vasp import Poscar\n",
    "from doped.chemical_potentials import CompetingPhases, CompetingPhasesAnalyzer\n",
    "from pymatgen.entries.computed_entries import ComputedEntry\n",
    "import os"
   ]
  },
  {
   "cell_type": "code",
   "execution_count": 3,
   "id": "d0b6ee20-b3e6-4265-8e8e-284952087952",
   "metadata": {},
   "outputs": [],
   "source": [
    "supercell = Poscar.from_file(\"doped-defs-AlClO/AlOCl_bulk/vasp_std/CONTCAR\")\n",
    "bulk_supercell = supercell.structure"
   ]
  },
  {
   "cell_type": "code",
   "execution_count": 7,
   "id": "22e3bfc6-3826-435f-a32f-924d6ec4afbe",
   "metadata": {},
   "outputs": [],
   "source": [
    "cp = CompetingPhases(composition='AlClO', extrinsic='Cr', energy_above_hull=0.05)"
   ]
  },
  {
   "cell_type": "code",
   "execution_count": 55,
   "id": "173ac34e-8d1f-47a5-9fa0-9d5ee140113e",
   "metadata": {
    "scrolled": true
   },
   "outputs": [],
   "source": [
    "for entry in cp.entries:\n",
    "    dir_path = os.path.join(\n",
    "        \"AlClO\",\n",
    "        \"AlClO_competing_phases\",\n",
    "        f\"{entry.data['formula_pretty']}_EaH_{entry.data['energy_above_hull']}\",\n",
    "        \"vasp_std\"\n",
    "    )\n",
    "    os.makedirs(dir_path, exist_ok=True)"
   ]
  },
  {
   "cell_type": "code",
   "execution_count": 56,
   "id": "9bffe0a0-fa72-41af-a7f2-02a8dd820443",
   "metadata": {},
   "outputs": [],
   "source": [
    "calculated_entries = {}\n",
    "for entry in cp.entries:\n",
    "    key =  entry.data['material_id'] + '-' + entry.structure.composition.reduced_formula\n",
    "    if key in calculated_entries:\n",
    "        continue\n",
    "    # if entry.data['summary']['band_gap'] == 0:\n",
    "    else:\n",
    "        entries.append(key)\n",
    "        if entry.data['summary']['band_gap'] == 0:\n",
    "            mp_relax_set = MPMetalRelaxSet(entry.structure)\n",
    "            mp_relax_set.write_input(f\"AlClO/AlClO_competing_phases/{entry.data['formula_pretty']}_EaH_{entry.data['energy_above_hull']}/vasp_std\", poscar=True)\n",
    "        else:\n",
    "            mp_relax_set = MPRelaxSet(entry.structure)\n",
    "            mp_relax_set.write_input(f\"AlClO/AlClO_competing_phases/{entry.data['formula_pretty']}_EaH_{entry.data['energy_above_hull']}/vasp_std\", poscar=True)\n",
    "        calculated_entries[key] = entry"
   ]
  },
  {
   "cell_type": "code",
   "execution_count": 5,
   "id": "0385b828-af9e-44c8-92ef-1741706442a2",
   "metadata": {},
   "outputs": [
    {
     "name": "stderr",
     "output_type": "stream",
     "text": [
      "Parsing vaspruns...: 100%|██████████████████████████████████████████████████████████████| 22/22 [00:08<00:00,  2.58it/s]\n"
     ]
    }
   ],
   "source": [
    "cpa = CompetingPhasesAnalyzer(composition='AlClO', entries=\"AlClO/AlClO_competing_phases\")"
   ]
  },
  {
   "cell_type": "code",
   "execution_count": 60,
   "id": "10e81fbd-01cf-4aed-b1a7-265cf8d10b56",
   "metadata": {},
   "outputs": [
    {
     "data": {
      "text/plain": [
       "False"
      ]
     },
     "execution_count": 60,
     "metadata": {},
     "output_type": "execute_result"
    }
   ],
   "source": [
    "cpa.unstable_host"
   ]
  },
  {
   "cell_type": "code",
   "execution_count": 9,
   "id": "a242f678-03b6-42e7-90ef-5c8012dc9e1c",
   "metadata": {},
   "outputs": [],
   "source": [
    "chempots = cpa.chempots"
   ]
  },
  {
   "cell_type": "code",
   "execution_count": 12,
   "id": "b0ca2d05-fe49-4015-a052-35ea61efd111",
   "metadata": {},
   "outputs": [
    {
     "data": {
      "text/plain": [
       "{'AlClO-Cl2-Al2O3-CrCl3': {'Al': -9.98493,\n",
       "  'Cl': -1.79927,\n",
       "  'O': -5.81225,\n",
       "  'Cr': -14.3355},\n",
       " 'AlClO-AlCl3-Cl2-CrCl3': {'Al': -9.91495,\n",
       "  'Cl': -1.79927,\n",
       "  'O': -5.88223,\n",
       "  'Cr': -14.3355},\n",
       " 'AlClO-Al-Al2O3-Al45Cr7': {'Al': -3.7375,\n",
       "  'Cl': -3.88175,\n",
       "  'O': -9.9772,\n",
       "  'Cr': -10.56994},\n",
       " 'AlClO-AlCl3-Al-Al45Cr7': {'Al': -3.7375,\n",
       "  'Cl': -3.85842,\n",
       "  'O': -10.00053,\n",
       "  'Cr': -10.56994}}"
      ]
     },
     "execution_count": 12,
     "metadata": {},
     "output_type": "execute_result"
    }
   ],
   "source": [
    "chempots['limits']"
   ]
  },
  {
   "cell_type": "code",
   "execution_count": 6,
   "id": "3166128d-d1a7-4586-8f51-02661de113e8",
   "metadata": {},
   "outputs": [],
   "source": [
    "formation_energy = cpa.get_formation_energy_df(prune_polymorphs=True, include_dft_energies=True)"
   ]
  },
  {
   "cell_type": "code",
   "execution_count": 7,
   "id": "9d1b4b35-8ed6-4e74-a574-4794d83a8cfc",
   "metadata": {},
   "outputs": [
    {
     "data": {
      "text/html": [
       "<div>\n",
       "<style scoped>\n",
       "    .dataframe tbody tr th:only-of-type {\n",
       "        vertical-align: middle;\n",
       "    }\n",
       "\n",
       "    .dataframe tbody tr th {\n",
       "        vertical-align: top;\n",
       "    }\n",
       "\n",
       "    .dataframe thead th {\n",
       "        text-align: right;\n",
       "    }\n",
       "</style>\n",
       "<table border=\"1\" class=\"dataframe\">\n",
       "  <thead>\n",
       "    <tr style=\"text-align: right;\">\n",
       "      <th></th>\n",
       "      <th>Space Group</th>\n",
       "      <th>Energy above Hull (eV/atom)</th>\n",
       "      <th>Formation Energy (eV/fu)</th>\n",
       "      <th>Formation Energy (eV/atom)</th>\n",
       "      <th>DFT Energy (eV/fu)</th>\n",
       "      <th>DFT Energy (eV/atom)</th>\n",
       "      <th>k-points</th>\n",
       "    </tr>\n",
       "    <tr>\n",
       "      <th>Formula</th>\n",
       "      <th></th>\n",
       "      <th></th>\n",
       "      <th></th>\n",
       "      <th></th>\n",
       "      <th></th>\n",
       "      <th></th>\n",
       "      <th></th>\n",
       "    </tr>\n",
       "  </thead>\n",
       "  <tbody>\n",
       "    <tr>\n",
       "      <th>AlClO</th>\n",
       "      <td>Pmmn</td>\n",
       "      <td>0.000</td>\n",
       "      <td>-7.117</td>\n",
       "      <td>-2.372</td>\n",
       "      <td>-17.596</td>\n",
       "      <td>-5.865</td>\n",
       "      <td>7x6x2</td>\n",
       "    </tr>\n",
       "    <tr>\n",
       "      <th>Cr</th>\n",
       "      <td>Im-3m</td>\n",
       "      <td>0.000</td>\n",
       "      <td>0.000</td>\n",
       "      <td>0.000</td>\n",
       "      <td>-9.635</td>\n",
       "      <td>-9.635</td>\n",
       "      <td>12x12x12</td>\n",
       "    </tr>\n",
       "    <tr>\n",
       "      <th>Al</th>\n",
       "      <td>Fm-3m</td>\n",
       "      <td>0.000</td>\n",
       "      <td>0.000</td>\n",
       "      <td>0.000</td>\n",
       "      <td>-3.737</td>\n",
       "      <td>-3.737</td>\n",
       "      <td>14x14x14</td>\n",
       "    </tr>\n",
       "    <tr>\n",
       "      <th>O2</th>\n",
       "      <td>P4/mmm</td>\n",
       "      <td>0.000</td>\n",
       "      <td>0.000</td>\n",
       "      <td>0.000</td>\n",
       "      <td>-9.886</td>\n",
       "      <td>-4.943</td>\n",
       "      <td>1x1x1</td>\n",
       "    </tr>\n",
       "    <tr>\n",
       "      <th>Cl2</th>\n",
       "      <td>P4/mmm</td>\n",
       "      <td>0.000</td>\n",
       "      <td>0.000</td>\n",
       "      <td>0.000</td>\n",
       "      <td>-3.599</td>\n",
       "      <td>-1.799</td>\n",
       "      <td>1x1x1</td>\n",
       "    </tr>\n",
       "    <tr>\n",
       "      <th>Al45Cr7</th>\n",
       "      <td>C2/m</td>\n",
       "      <td>0.000</td>\n",
       "      <td>-6.547</td>\n",
       "      <td>-0.126</td>\n",
       "      <td>-242.177</td>\n",
       "      <td>-4.657</td>\n",
       "      <td>3x3x3</td>\n",
       "    </tr>\n",
       "    <tr>\n",
       "      <th>CrCl3</th>\n",
       "      <td>R-3</td>\n",
       "      <td>0.000</td>\n",
       "      <td>-4.701</td>\n",
       "      <td>-1.175</td>\n",
       "      <td>-19.733</td>\n",
       "      <td>-4.933</td>\n",
       "      <td>4x4x3</td>\n",
       "    </tr>\n",
       "    <tr>\n",
       "      <th>Al2O3</th>\n",
       "      <td>R-3c</td>\n",
       "      <td>0.000</td>\n",
       "      <td>-15.102</td>\n",
       "      <td>-3.020</td>\n",
       "      <td>-37.407</td>\n",
       "      <td>-7.481</td>\n",
       "      <td>5x5x5</td>\n",
       "    </tr>\n",
       "    <tr>\n",
       "      <th>AlCl3</th>\n",
       "      <td>C2/m</td>\n",
       "      <td>0.000</td>\n",
       "      <td>-6.177</td>\n",
       "      <td>-1.544</td>\n",
       "      <td>-15.313</td>\n",
       "      <td>-3.828</td>\n",
       "      <td>4x4x4</td>\n",
       "    </tr>\n",
       "    <tr>\n",
       "      <th>ClO2</th>\n",
       "      <td>Pbca</td>\n",
       "      <td>0.085</td>\n",
       "      <td>0.256</td>\n",
       "      <td>0.085</td>\n",
       "      <td>-11.429</td>\n",
       "      <td>-3.810</td>\n",
       "      <td>4x3x2</td>\n",
       "    </tr>\n",
       "  </tbody>\n",
       "</table>\n",
       "</div>"
      ],
      "text/plain": [
       "        Space Group  Energy above Hull (eV/atom)  Formation Energy (eV/fu)  \\\n",
       "Formula                                                                      \n",
       "AlClO          Pmmn                        0.000                    -7.117   \n",
       "Cr            Im-3m                        0.000                     0.000   \n",
       "Al            Fm-3m                        0.000                     0.000   \n",
       "O2           P4/mmm                        0.000                     0.000   \n",
       "Cl2          P4/mmm                        0.000                     0.000   \n",
       "Al45Cr7        C2/m                        0.000                    -6.547   \n",
       "CrCl3           R-3                        0.000                    -4.701   \n",
       "Al2O3          R-3c                        0.000                   -15.102   \n",
       "AlCl3          C2/m                        0.000                    -6.177   \n",
       "ClO2           Pbca                        0.085                     0.256   \n",
       "\n",
       "         Formation Energy (eV/atom)  DFT Energy (eV/fu)  DFT Energy (eV/atom)  \\\n",
       "Formula                                                                         \n",
       "AlClO                        -2.372             -17.596                -5.865   \n",
       "Cr                            0.000              -9.635                -9.635   \n",
       "Al                            0.000              -3.737                -3.737   \n",
       "O2                            0.000              -9.886                -4.943   \n",
       "Cl2                           0.000              -3.599                -1.799   \n",
       "Al45Cr7                      -0.126            -242.177                -4.657   \n",
       "CrCl3                        -1.175             -19.733                -4.933   \n",
       "Al2O3                        -3.020             -37.407                -7.481   \n",
       "AlCl3                        -1.544             -15.313                -3.828   \n",
       "ClO2                          0.085             -11.429                -3.810   \n",
       "\n",
       "         k-points  \n",
       "Formula            \n",
       "AlClO       7x6x2  \n",
       "Cr       12x12x12  \n",
       "Al       14x14x14  \n",
       "O2          1x1x1  \n",
       "Cl2         1x1x1  \n",
       "Al45Cr7     3x3x3  \n",
       "CrCl3       4x4x3  \n",
       "Al2O3       5x5x5  \n",
       "AlCl3       4x4x4  \n",
       "ClO2        4x3x2  "
      ]
     },
     "execution_count": 7,
     "metadata": {},
     "output_type": "execute_result"
    }
   ],
   "source": [
    "formation_energy"
   ]
  },
  {
   "cell_type": "code",
   "execution_count": 10,
   "id": "de71a2e7-3718-4455-85d2-68da70d3a6b1",
   "metadata": {},
   "outputs": [],
   "source": [
    "formation_energies = {}\n",
    "for key in chempots['limits'].keys():\n",
    "    def_form_e = -352.20748489 + chempots['limits'][key]['Al'] - (-351.69390352) - chempots['limits'][key]['Cr']\n",
    "    formation_energies[key] = def_form_e"
   ]
  },
  {
   "cell_type": "code",
   "execution_count": 11,
   "id": "153e07c1-80a1-4b95-be04-acc3919ea801",
   "metadata": {},
   "outputs": [
    {
     "data": {
      "text/plain": [
       "{'AlClO-Cl2-Al2O3-CrCl3': 3.8369886299999827,\n",
       " 'AlClO-AlCl3-Cl2-CrCl3': 3.9069686300000264,\n",
       " 'AlClO-Al-Al2O3-Al45Cr7': 6.318858629999992,\n",
       " 'AlClO-AlCl3-Al-Al45Cr7': 6.318858629999992}"
      ]
     },
     "execution_count": 11,
     "metadata": {},
     "output_type": "execute_result"
    }
   ],
   "source": [
    "formation_energies"
   ]
  },
  {
   "cell_type": "code",
   "execution_count": null,
   "id": "513cad09-fcf1-40ec-82a1-d50aa9202572",
   "metadata": {},
   "outputs": [],
   "source": []
  }
 ],
 "metadata": {
  "kernelspec": {
   "display_name": "Python 3 (ipykernel)",
   "language": "python",
   "name": "python3"
  },
  "language_info": {
   "codemirror_mode": {
    "name": "ipython",
    "version": 3
   },
   "file_extension": ".py",
   "mimetype": "text/x-python",
   "name": "python",
   "nbconvert_exporter": "python",
   "pygments_lexer": "ipython3",
   "version": "3.11.13"
  }
 },
 "nbformat": 4,
 "nbformat_minor": 5
}
