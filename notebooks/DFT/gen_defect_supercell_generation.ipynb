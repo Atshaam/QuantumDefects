{
 "cells": [
  {
   "cell_type": "code",
   "execution_count": 2,
   "id": "d057ab01-7372-4bbf-9968-e8e3c58b13ee",
   "metadata": {},
   "outputs": [],
   "source": [
    "from doped.generation import DefectsGenerator\n",
    "from monty.serialization import loadfn, dumpfn\n",
    "from pymatgen.core import Structure\n",
    "from pymatgen.io.vasp.sets import MPRelaxSet, MPMetalRelaxSet\n",
    "from pymatgen.io.vasp import Poscar"
   ]
  },
  {
   "cell_type": "code",
   "execution_count": 4,
   "id": "a8d4e469-57d8-4f91-9c18-96688411303c",
   "metadata": {},
   "outputs": [],
   "source": [
    "Al_prim = loadfn('../../data/matching_AlCr_ox.json')"
   ]
  },
  {
   "cell_type": "code",
   "execution_count": 5,
   "id": "5027dcb1-c775-45a2-9a38-d2ed8febd780",
   "metadata": {},
   "outputs": [],
   "source": [
    "for key in Al_prim.keys():\n",
    "    structure = Al_prim[key]['structure']\n",
    "    mp_relax_set = MPRelaxSet(structure)\n",
    "    mp_relax_set.write_input(f\"{Al_prim[key]['formula']}/relax_prim_{Al_prim[key]['formula']}\")"
   ]
  },
  {
   "cell_type": "code",
   "execution_count": 7,
   "id": "622a66cc-7416-412b-9729-ba4a315c9162",
   "metadata": {},
   "outputs": [],
   "source": [
    "poscar = Poscar.from_file(\"Al2(SO4)3/relax_prim_Al2(SO4)3/CONTCAR\")\n",
    "relaxed_structure = poscar.structure"
   ]
  },
  {
   "cell_type": "code",
   "execution_count": 8,
   "id": "8fa2567d",
   "metadata": {
    "scrolled": true
   },
   "outputs": [
    {
     "name": "stderr",
     "output_type": "stream",
     "text": [
      "Generating DefectEntry objects: 100.0%|████████████████████████████████████████████████████████████| [02:35,   1.55s/it]"
     ]
    },
    {
     "name": "stdout",
     "output_type": "stream",
     "text": [
      "Vacancies                 Guessed Charges           Conv. Cell Coords    Wyckoff\n",
      "------------------------  ------------------------  -------------------  ---------\n",
      "v_Al_C3_O1.89             [+1,0,-1,-2,-3]           [0.000,0.000,0.143]  6c\n",
      "v_Al_C3_O1.90             [+1,0,-1,-2,-3]           [0.000,0.000,0.352]  6c\n",
      "v_S                       [+1,0,-1,-2,-3,-4,-5,-6]  [0.289,0.002,0.251]  18f\n",
      "v_O_C1_S1.47              [+2,+1,0,-1]              [0.173,0.195,0.090]  18f\n",
      "v_O_C1_S1.48Al1.89        [+2,+1,0,-1]              [0.013,0.200,0.192]  18f\n",
      "v_O_C1_S1.48Al1.90O2.38a  [+2,+1,0,-1]              [0.219,0.073,0.302]  18f\n",
      "v_O_C1_S1.48Al1.90O2.38b  [+2,+1,0,-1]              [0.144,0.218,0.402]  18f\n",
      "\n",
      "Substitutions              Guessed Charges              Conv. Cell Coords    Wyckoff\n",
      "-------------------------  ---------------------------  -------------------  ---------\n",
      "Al_S                       [0,-1,-2,-3]                 [0.289,0.002,0.251]  18f\n",
      "Al_O_C1_S1.47              [+5,+4,+3,+2,+1,0]           [0.173,0.195,0.090]  18f\n",
      "Al_O_C1_S1.48Al1.89        [+5,+4,+3,+2,+1,0]           [0.013,0.200,0.192]  18f\n",
      "Al_O_C1_S1.48Al1.90O2.38a  [+5,+4,+3,+2,+1,0]           [0.219,0.073,0.302]  18f\n",
      "Al_O_C1_S1.48Al1.90O2.38b  [+5,+4,+3,+2,+1,0]           [0.144,0.218,0.402]  18f\n",
      "S_Al_C3_O1.89              [+3,+2,+1,0,-1,-2,-3,-4,-5]  [0.000,0.000,0.143]  6c\n",
      "S_Al_C3_O1.90              [+3,+2,+1,0,-1,-2,-3,-4,-5]  [0.000,0.000,0.352]  6c\n",
      "S_O_C1_S1.47               [+8,+7,+6,+5,+4,+3,+2,+1,0]  [0.173,0.195,0.090]  18f\n",
      "S_O_C1_S1.48Al1.89         [+8,+7,+6,+5,+4,+3,+2,+1,0]  [0.013,0.200,0.192]  18f\n",
      "S_O_C1_S1.48Al1.90O2.38a   [+8,+7,+6,+5,+4,+3,+2,+1,0]  [0.219,0.073,0.302]  18f\n",
      "S_O_C1_S1.48Al1.90O2.38b   [+8,+7,+6,+5,+4,+3,+2,+1,0]  [0.144,0.218,0.402]  18f\n",
      "O_Al_C3_O1.89              [0,-1,-2,-3,-4,-5]           [0.000,0.000,0.143]  6c\n",
      "O_Al_C3_O1.90              [0,-1,-2,-3,-4,-5]           [0.000,0.000,0.352]  6c\n",
      "O_S                        [0,-1,-2,-3,-4,-5,-6,-7,-8]  [0.289,0.002,0.251]  18f\n",
      "Cr_Al_C3_O1.89             [+3,+2,+1,0,-1]              [0.000,0.000,0.143]  6c\n",
      "Cr_Al_C3_O1.90             [+3,+2,+1,0,-1]              [0.000,0.000,0.352]  6c\n",
      "Cr_S                       [0,-1,-2,-3,-4]              [0.289,0.002,0.251]  18f\n",
      "Cr_O_C1_S1.47              [+8,+7,+6,+5,+4,+3,+2,+1,0]  [0.173,0.195,0.090]  18f\n",
      "Cr_O_C1_S1.48Al1.89        [+8,+7,+6,+5,+4,+3,+2,+1,0]  [0.013,0.200,0.192]  18f\n",
      "Cr_O_C1_S1.48Al1.90O2.38a  [+8,+7,+6,+5,+4,+3,+2,+1,0]  [0.219,0.073,0.302]  18f\n",
      "Cr_O_C1_S1.48Al1.90O2.38b  [+8,+7,+6,+5,+4,+3,+2,+1,0]  [0.144,0.218,0.402]  18f\n",
      "\n",
      "The number in the Wyckoff label is the site multiplicity/degeneracy of that defect in the conventional ('conv.') unit cell, which comprises 6 formula unit(s) of Al2(SO4)3.\n",
      "\n"
     ]
    },
    {
     "name": "stderr",
     "output_type": "stream",
     "text": [
      "\n"
     ]
    }
   ],
   "source": [
    "defect_gen = DefectsGenerator(\n",
    "    relaxed_structure, \n",
    "    extrinsic=[\"Cr\"],\n",
    "    interstitial_gen_kwargs=False\n",
    ")"
   ]
  },
  {
   "cell_type": "code",
   "execution_count": 9,
   "id": "582deaac",
   "metadata": {},
   "outputs": [
    {
     "data": {
      "text/plain": [
       "DefectsGenerator for input composition Al2(SO4)3, space group R-3 with 2 defect entries created.\n",
       "---------------------------------------------------------\n",
       "Substitutions    Guessed Charges    Conv. Cell Coords    Wyckoff\n",
       "---------------  -----------------  -------------------  ---------\n",
       "Cr_Al_C3_O1.89   [0]                [0.000,0.000,0.143]  6c\n",
       "Cr_Al_C3_O1.90   [0]                [0.000,0.000,0.352]  6c\n",
       "\n",
       "The number in the Wyckoff label is the site multiplicity/degeneracy of that defect in the conventional ('conv.') unit cell, which comprises 6 formula unit(s) of Al2(SO4)3."
      ]
     },
     "execution_count": 9,
     "metadata": {},
     "output_type": "execute_result"
    }
   ],
   "source": [
    "defect_gen.defects = {\"substitutions\": [d for d in defect_gen.defects[\"substitutions\"] if d.name == \"Cr_Al\"]}\n",
    "defect_gen.defect_entries = {k: v for k, v in defect_gen.defect_entries.items() if \"Cr_Al\" in k and k[-1] == \"0\"}\n",
    "defect_gen"
   ]
  },
  {
   "cell_type": "code",
   "execution_count": 12,
   "id": "5a847aba",
   "metadata": {},
   "outputs": [
    {
     "name": "stderr",
     "output_type": "stream",
     "text": [
      "vasp.py:229: BadIncarWarning: Cannot find GGE from your user_incar_settings in the list of INCAR flags\n",
      "vasp.py:229: BadIncarWarning: Cannot find GGE from your user_incar_settings in the list of INCAR flags\n",
      "vasp.py:229: BadIncarWarning: Cannot find GGE from your user_incar_settings in the list of INCAR flags\n",
      "vasp.py:229: BadIncarWarning: Cannot find GGE from your user_incar_settings in the list of INCAR flags\n",
      "vasp.py:229: BadIncarWarning: Cannot find GGE from your user_incar_settings in the list of INCAR flags\n",
      "vasp.py:229: BadIncarWarning: Cannot find GGE from your user_incar_settings in the list of INCAR flags\n",
      "Generating and writing input files: 100%|█████████████████████████████████████████████████| 2/2 [00:01<00:00,  1.36it/s]\n"
     ]
    }
   ],
   "source": [
    "from doped.vasp import DefectsSet\n",
    "\n",
    "LDAU_PARAMS = {\n",
    "  \"LDAU\": True,\n",
    "    \"LDAUJ\": {\n",
    "        \"F\": {\n",
    "            \"Co\": 0,\n",
    "            \"Cr\": 0,\n",
    "            \"Fe\": 0,\n",
    "            \"Mn\": 0,\n",
    "            \"Mo\": 0,\n",
    "            \"Ni\": 0,\n",
    "            \"V\": 0,\n",
    "            \"W\": 0\n",
    "        },\n",
    "        \"O\": {\n",
    "            \"Co\": 0,\n",
    "            \"Cr\": 0,\n",
    "            \"Fe\": 0,\n",
    "            \"Mn\": 0,\n",
    "            \"Mo\": 0,\n",
    "            \"Ni\": 0,\n",
    "            \"V\": 0,\n",
    "            \"W\": 0\n",
    "        }\n",
    "    },\n",
    "    \"LDAUL\": {\n",
    "        \"F\": {\n",
    "            \"Co\": 2,\n",
    "            \"Cr\": 2,\n",
    "            \"Fe\": 2,\n",
    "            \"Mn\": 2,\n",
    "            \"Mo\": 2,\n",
    "            \"Ni\": 2,\n",
    "            \"V\": 2,\n",
    "            \"W\": 2\n",
    "        },\n",
    "        \"O\": {\n",
    "            \"Co\": 2,\n",
    "            \"Cr\": 2,\n",
    "            \"Fe\": 2,\n",
    "            \"Mn\": 2,\n",
    "            \"Mo\": 2,\n",
    "            \"Ni\": 2,\n",
    "            \"V\": 2,\n",
    "            \"W\": 2\n",
    "        }\n",
    "    },\n",
    "    \"LDAUTYPE\": 2,\n",
    "    \"LDAUU\": {\n",
    "        \"F\": {\n",
    "            \"Co\": 3.32,\n",
    "            \"Cr\": 3.7,\n",
    "            \"Fe\": 5.3,\n",
    "            \"Mn\": 3.9,\n",
    "            \"Mo\": 4.38,\n",
    "            \"Ni\": 6.2,\n",
    "            \"V\": 3.25,\n",
    "            \"W\": 6.2\n",
    "        },\n",
    "        \"O\": {\n",
    "            \"Co\": 3.32,\n",
    "            \"Cr\": 3.7,\n",
    "            \"Fe\": 5.3,\n",
    "            \"Mn\": 3.9,\n",
    "            \"Mo\": 4.38,\n",
    "            \"Ni\": 6.2,\n",
    "            \"V\": 3.25,\n",
    "            \"W\": 6.2\n",
    "        }\n",
    "    },\n",
    "    \"MAGMOM\": {\n",
    "        \"Ce\": 5,\n",
    "        \"Ce3+\": 1,\n",
    "        \"Co\": 0.6,\n",
    "        \"Co3+\": 0.6,\n",
    "        \"Co4+\": 1,\n",
    "        \"Cr\": 5,\n",
    "        \"Dy3+\": 5,\n",
    "        \"Er3+\": 3,\n",
    "        \"Eu\": 10,\n",
    "        \"Eu2+\": 7,\n",
    "        \"Eu3+\": 6,\n",
    "        \"Fe\": 5,\n",
    "        \"Gd3+\": 7,\n",
    "        \"Ho3+\": 4,\n",
    "        \"La3+\": 0.6,\n",
    "        \"Lu3+\": 0.6,\n",
    "        \"Mn\": 5,\n",
    "        \"Mn3+\": 4,\n",
    "        \"Mn4+\": 3,\n",
    "        \"Mo\": 5,\n",
    "        \"Nd3+\": 3,\n",
    "        \"Ni\": 5,\n",
    "        \"Pm3+\": 4,\n",
    "        \"Pr3+\": 2,\n",
    "        \"Sm3+\": 5,\n",
    "        \"Tb3+\": 6,\n",
    "        \"Tm3+\": 2,\n",
    "        \"V\": 5,\n",
    "        \"W\": 5,\n",
    "        \"Yb3+\": 1\n",
    "    }\n",
    "}\n",
    "\n",
    "defect_set = DefectsSet(\n",
    "    defect_gen,\n",
    "    user_incar_settings={\"ENCUT\": 520, \"LHFCALC\": None, \"HFSCREEN\": None, \"AEXX\": None, \"GGE\":\"PBE\", **LDAU_PARAMS},\n",
    "    soc=False,\n",
    "    user_potcar_functional=\"PBE\",\n",
    ")\n",
    "defect_set.write_files(\"doped-defs-Al2SO43\", poscar=True)"
   ]
  },
  {
   "cell_type": "code",
   "execution_count": null,
   "id": "65aa055b-dee1-41d3-aaef-3ea0da64c914",
   "metadata": {},
   "outputs": [],
   "source": []
  }
 ],
 "metadata": {
  "kernelspec": {
   "display_name": "Python 3 (ipykernel)",
   "language": "python",
   "name": "python3"
  },
  "language_info": {
   "codemirror_mode": {
    "name": "ipython",
    "version": 3
   },
   "file_extension": ".py",
   "mimetype": "text/x-python",
   "name": "python",
   "nbconvert_exporter": "python",
   "pygments_lexer": "ipython3",
   "version": "3.11.13"
  }
 },
 "nbformat": 4,
 "nbformat_minor": 5
}
