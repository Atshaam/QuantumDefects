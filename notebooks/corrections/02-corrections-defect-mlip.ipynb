{
 "cells": [
  {
   "cell_type": "code",
   "execution_count": 1,
   "id": "712c69c2-244d-4cab-8c12-833351f2b530",
   "metadata": {},
   "outputs": [],
   "source": [
    "import os\n",
    "\n",
    "os.environ[\"CUDA_DEVICE_ORDER\"] = \"PCI_BUS_ID\"\n",
    "os.environ[\"CUDA_VISIBLE_DEVICES\"] = \"1\""
   ]
  },
  {
   "cell_type": "code",
   "execution_count": 2,
   "id": "636fb8f1",
   "metadata": {},
   "outputs": [],
   "source": [
    "from monty.serialization import dumpfn, loadfn\n",
    "from collections import defaultdict"
   ]
  },
  {
   "cell_type": "code",
   "execution_count": 3,
   "id": "707481d0",
   "metadata": {},
   "outputs": [
    {
     "name": "stderr",
     "output_type": "stream",
     "text": [
      "/home/atshaam/miniconda3/envs/proj_env/lib/python3.11/site-packages/tqdm/auto.py:21: TqdmWarning: IProgress not found. Please update jupyter and ipywidgets. See https://ipywidgets.readthedocs.io/en/stable/user_install.html\n",
      "  from .autonotebook import tqdm as notebook_tqdm\n"
     ]
    }
   ],
   "source": [
    "from ase.filters import FrechetCellFilter\n",
    "from ase.optimize import LBFGS\n",
    "from pymatgen.io.ase import AseAtomsAdaptor\n",
    "from fairchem.core import pretrained_mlip, FAIRChemCalculator\n",
    "# from mace.calculators import mace_mp # need e3nn 0.4.4\n",
    "# from sevenn.calculator import SevenNetCalculator # need e3nn 0.5.0 later change numpy to 1.26.4"
   ]
  },
  {
   "cell_type": "code",
   "execution_count": 4,
   "id": "74e66c8d-cda8-44c8-9475-c534bb9953cf",
   "metadata": {},
   "outputs": [],
   "source": [
    "import torch._dynamo\n",
    "torch._dynamo.config.suppress_errors = True"
   ]
  },
  {
   "cell_type": "code",
   "execution_count": 5,
   "id": "23513e03-e81f-4b44-944f-986893a6fb7c",
   "metadata": {},
   "outputs": [],
   "source": [
    "MODEL = \"uma\" # \"orb\" or \"uma\" or \"mace\" or \"seven\" or \"mattersim\""
   ]
  },
  {
   "cell_type": "code",
   "execution_count": 6,
   "id": "9fa329d0-c74e-4fb3-95ed-8d38724dd532",
   "metadata": {
    "scrolled": true
   },
   "outputs": [],
   "source": [
    "# orb_ff = pretrained.orb_v3_conservative_inf_omat(device=\"cuda\",precision=\"float32-high\")   # or \"float32-highest\" / \"float64\n",
    "# orb_calc = ORBCalculator(orb_ff, device=\"cuda\")\n",
    "\n",
    "uma_ff = pretrained_mlip.get_predict_unit(\"uma-m-1p1\", device=\"cuda\")\n",
    "uma_calc = FAIRChemCalculator(uma_ff, task_name=\"omat\")\n",
    "\n",
    "# mace_calc = mace_mp(model=\"MACE-matpes-r2scan-omat-ft.model\", dispersion=False, device='cuda')\n",
    "\n",
    "# seven_calc = SevenNetCalculator('7net-mf-ompa', modal='omat24')\n",
    "\n",
    "# mattersim_calc = MatterSimCalculator(device=\"cuda\")\n",
    "\n",
    "MODELS = {\n",
    "    # \"orb\":orb_calc,\n",
    "    \"uma\":uma_calc,\n",
    "    # \"mace\":mace_calc,\n",
    "    # \"seven\":seven_calc,\n",
    "    # \"mattersim\":mattersim_calc,\n",
    "}"
   ]
  },
  {
   "cell_type": "code",
   "execution_count": 7,
   "id": "a3d25d8c-d42a-469e-89bf-c253a3829d25",
   "metadata": {},
   "outputs": [],
   "source": [
    "# Function used to relax initial primitive cell and for competing phase calculation, full relaxation using FrechetCellFilter\n",
    "def relax_structure(structure):\n",
    "    atoms = structure.to_ase_atoms()\n",
    "    atoms.calc = MODELS[MODEL]\n",
    "\n",
    "    opt = LBFGS(FrechetCellFilter(atoms)) # Delete this FrechetCellFilter when doing the defect structures\n",
    "    opt.run(0.01, 1000)\n",
    "\n",
    "    relaxed_structure = AseAtomsAdaptor.get_structure(atoms)\n",
    "    energy = atoms.get_potential_energy()\n",
    "\n",
    "    return relaxed_structure, energy\n",
    "    "
   ]
  },
  {
   "cell_type": "code",
   "execution_count": 8,
   "id": "11c2dc6d",
   "metadata": {},
   "outputs": [],
   "source": [
    "# Function that relaxes defect and pristine supercells, ensuring a fixed lattice by no FrechetCellFilter\n",
    "def relax_defect(structure): # takes in pymatgen structure\n",
    "    atoms = structure.to_ase_atoms()\n",
    "    atoms.calc = MODELS[MODEL]\n",
    "\n",
    "    opt = LBFGS(atoms) # Delete this FrechetCellFilter when doing the defect structures\n",
    "    opt.run(0.01, 1000)\n",
    "\n",
    "    relaxed_structure = AseAtomsAdaptor.get_structure(atoms)\n",
    "    energy = atoms.get_potential_energy()\n",
    "\n",
    "    return relaxed_structure, energy"
   ]
  },
  {
   "cell_type": "markdown",
   "id": "d1467430-6ff5-4464-94f6-c86732e86a2c",
   "metadata": {},
   "source": [
    "## Relaxation of Primitive Al Cells"
   ]
  },
  {
   "cell_type": "code",
   "execution_count": 8,
   "id": "77a43986-40b5-4a6b-a74c-82082648d419",
   "metadata": {},
   "outputs": [],
   "source": [
    "matching_pairs = loadfn('../../data/matching_AlCr_ox.json')"
   ]
  },
  {
   "cell_type": "code",
   "execution_count": null,
   "id": "49794e4d-2e5a-4908-baa3-25b73206e7c2",
   "metadata": {},
   "outputs": [],
   "source": [
    "del matching_pairs['mp-554152']"
   ]
  },
  {
   "cell_type": "code",
   "execution_count": 3,
   "id": "3d9d0d04-8e6d-4259-8241-110e4e09662d",
   "metadata": {
    "scrolled": true
   },
   "outputs": [
    {
     "ename": "NameError",
     "evalue": "name 'matching_pairs' is not defined",
     "output_type": "error",
     "traceback": [
      "\u001b[31m---------------------------------------------------------------------------\u001b[39m",
      "\u001b[31mNameError\u001b[39m                                 Traceback (most recent call last)",
      "\u001b[36mCell\u001b[39m\u001b[36m \u001b[39m\u001b[32mIn[3]\u001b[39m\u001b[32m, line 2\u001b[39m\n\u001b[32m      1\u001b[39m relaxed_Al_prim = {}\n\u001b[32m----> \u001b[39m\u001b[32m2\u001b[39m \u001b[38;5;28;01mfor\u001b[39;00m name, val \u001b[38;5;129;01min\u001b[39;00m \u001b[43mmatching_pairs\u001b[49m.items():\n\u001b[32m      3\u001b[39m     structure, energy = relax_structure(val[\u001b[33m'\u001b[39m\u001b[33mstructure\u001b[39m\u001b[33m'\u001b[39m])\n\u001b[32m      4\u001b[39m     relaxed_Al_prim[name] = {\n\u001b[32m      5\u001b[39m         \u001b[33m'\u001b[39m\u001b[33mformula\u001b[39m\u001b[33m'\u001b[39m: val[\u001b[33m'\u001b[39m\u001b[33mformula\u001b[39m\u001b[33m'\u001b[39m],\n\u001b[32m      6\u001b[39m         \u001b[33m'\u001b[39m\u001b[33menergy\u001b[39m\u001b[33m'\u001b[39m: energy,\n\u001b[32m      7\u001b[39m         \u001b[33m'\u001b[39m\u001b[33mstructure\u001b[39m\u001b[33m'\u001b[39m: structure\n\u001b[32m      8\u001b[39m     }\n",
      "\u001b[31mNameError\u001b[39m: name 'matching_pairs' is not defined"
     ]
    }
   ],
   "source": [
    "relaxed_Al_prim = {}\n",
    "for name, val in matching_pairs.items():\n",
    "    structure, energy = relax_structure(val['structure'])\n",
    "    relaxed_Al_prim[name] = {\n",
    "        'formula': val['formula'],\n",
    "        'energy': energy,\n",
    "        'structure': structure\n",
    "    }"
   ]
  },
  {
   "cell_type": "code",
   "execution_count": 17,
   "id": "8bf5ea43-f03d-4ced-92c8-71298fe5c28c",
   "metadata": {},
   "outputs": [],
   "source": [
    "dumpfn(relaxed_Al_prim, f'../../data/{MODEL}/{MODEL}_relaxed_Al_prim.json')"
   ]
  },
  {
   "cell_type": "markdown",
   "id": "edd567a7-2c37-4379-82e2-589474094495",
   "metadata": {},
   "source": [
    "## Defect Creation and Relaxation"
   ]
  },
  {
   "cell_type": "markdown",
   "id": "3b9abc49-cf18-4082-a3f5-7445b288c416",
   "metadata": {},
   "source": [
    "Load in all relaxed primitive Al Oxide structures\n",
    "<br>Loop through all Al oxides \n",
    "<br>Create function using doped and shakenbreak for each structure\n",
    "<br>Create function that loops over unpertubed and all disortions and uses MLIP to calc energies - append structure and energies to data dict\n",
    "<br>get energy difference from unperturbed for each Al oxide and append to dictionary or list for bar chart - can do this manually in loop \n",
    "<br>dumpfn the data dict and list of energy differences, or maybe add energy diff to data dict as 'delta_e' key?\n",
    "<br>Plot bar chart for all metal oxides and their energy relative to unperturbed"
   ]
  },
  {
   "cell_type": "code",
   "execution_count": 9,
   "id": "7c6909ac-570b-4dc3-ad3c-d363d59de520",
   "metadata": {
    "scrolled": true
   },
   "outputs": [],
   "source": [
    "from doped.generation import DefectsGenerator\n",
    "from shakenbreak.input import Distortions\n",
    "from pymatgen.entries.computed_entries import ComputedEntry\n",
    "from doped.core import DefectEntry\n",
    "from pymatgen.entries.compatibility import MaterialsProject2020Compatibility\n",
    "from pymatgen.core import Element"
   ]
  },
  {
   "cell_type": "code",
   "execution_count": 10,
   "id": "98705953-4a4f-443a-af00-ffcdb3b77e39",
   "metadata": {},
   "outputs": [],
   "source": [
    "supercell_size = 10.1"
   ]
  },
  {
   "cell_type": "code",
   "execution_count": 11,
   "id": "01e78d78-fc6c-468d-9f5c-7affe12b989d",
   "metadata": {},
   "outputs": [],
   "source": [
    "MP_U_VALUES = {\n",
    "    \"Co\": 3.32,\n",
    "    \"Cr\": 3.7,\n",
    "    \"Fe\": 5.3,\n",
    "    \"Mn\": 3.98,\n",
    "    \"Mo\": 4.38,\n",
    "    \"Ni\": 6.2,\n",
    "    \"V\": 3.25,\n",
    "    \"W\": 6.2,\n",
    "}\n",
    "from pymatgen.core import Species\n",
    "\n",
    "def add_parameters(entry):\n",
    "    elements = entry.composition.elements\n",
    "    elements = [el.element if isinstance(el, Species) else el for el in elements]\n",
    "    parameters = {}\n",
    "    if any([Element(el) in elements for el in MP_U_VALUES]):\n",
    "        parameters[\"run_type\"] = \"GGA+U\"\n",
    "        parameters[\"hubbards\"] = {el.name: MP_U_VALUES.get(el.symbol, 0.0) for el in elements}\n",
    "        parameters[\"is_hubbard\"] = True\n",
    "    else:\n",
    "        parameters[\"run_type\"] = \"GGA\"\n",
    "        parameters[\"hubbards\"] = None\n",
    "        parameters[\"is_hubbard\"] = False\n",
    "    entry.parameters = parameters\n",
    "    return entry"
   ]
  },
  {
   "cell_type": "code",
   "execution_count": 12,
   "id": "7fbf047a-4b68-461c-ae60-f318b2ba7dab",
   "metadata": {},
   "outputs": [],
   "source": [
    "def create_defect(structure):\n",
    "    defect_gen = DefectsGenerator(structure, extrinsic=\"Cr\", interstitial_gen_kwargs=False, supercell_gen_kwargs={'min_image_distance':supercell_size} ) # set large super cell 25 Angstroms 'supercell_gen_kwargs={'min_image_distance':15}'\n",
    "    valid_keys = []\n",
    "    for key in defect_gen.keys():\n",
    "        if  key[:5] == 'Cr_Al' and key[-1] == '0':\n",
    "            valid_keys.append(key)\n",
    "    distortions = Distortions(\n",
    "        defect_entries = {key: defect_gen[key] for key in valid_keys}, # NO Cr_Al_0 for Al2(SO4)3\n",
    "        # oxidation_states={} # oxidation states predicted are good for now\n",
    "    )\n",
    "    distorted_defects_dict, distortions.distortion_metadata = distortions.apply_distortions()\n",
    "    unperturbed_structures = {}\n",
    "    defect_distortions = {}\n",
    "    for key in valid_keys:\n",
    "        unperturbed_structures[key] = distorted_defects_dict[key[:-2]]['charges'][0]['structures']['Unperturbed']\n",
    "        defect_distortions[key] = distorted_defects_dict[key[:-2]]['charges'][0]['structures']['distortions']\n",
    "\n",
    "    return unperturbed_structures, defect_distortions, defect_gen.bulk_supercell"
   ]
  },
  {
   "cell_type": "code",
   "execution_count": 13,
   "id": "a6e66448-46c6-4ea5-8c80-c75b0cef90fc",
   "metadata": {},
   "outputs": [],
   "source": [
    "def make_entry(structure, energy, material_id):\n",
    "    new_entry = ComputedEntry(\n",
    "        structure.composition,\n",
    "        energy, \n",
    "        data={'material_id':material_id}\n",
    "    )\n",
    "    new_entry.structure = structure\n",
    "    new_entry = add_parameters(new_entry)\n",
    "    compat = MaterialsProject2020Compatibility(check_potcar=False, check_potcar_hash=False)\n",
    "    compat.process_entry(new_entry, on_error=\"warn\")\n",
    "    return new_entry"
   ]
  },
  {
   "cell_type": "code",
   "execution_count": 14,
   "id": "3d853a80-f382-4a88-9c24-c1bff035724a",
   "metadata": {},
   "outputs": [],
   "source": [
    "def get_energy(unperturbed_structures, distortions, supercell, material_id):\n",
    "    data = defaultdict(dict)\n",
    "    supercell_struct, supercell_e = relax_defect(supercell)\n",
    "    new_entries_sup = make_entry(supercell_struct, supercell_e, material_id)\n",
    "    data['supercell'] = {\n",
    "        'structure': new_entries_sup.structure,\n",
    "        'energy': new_entries_sup.energy\n",
    "    }\n",
    "    \n",
    "    for site, unperturbed_structure in unperturbed_structures.items():\n",
    "        data[site] = defaultdict(dict)\n",
    "        data[site]['unperturbed'] = defaultdict(dict)\n",
    "        unperturbed_structure1, unp_energy = relax_defect(unperturbed_structure)\n",
    "        new_entries_unp = make_entry(unperturbed_structure1, unp_energy, material_id)\n",
    "        data[site]['unperturbed'] = {\n",
    "        'structure':new_entries_unp.structure,\n",
    "        'energy': new_entries_unp.energy,\n",
    "        'distortion_amount':'N/A'\n",
    "        }\n",
    "        data[site]['distortions'] = defaultdict(dict)\n",
    "        for key, structure in distortions[site].items():\n",
    "            structure1, energy = relax_defect(structure)\n",
    "            new_entries_def = make_entry(structure1, energy, material_id)\n",
    "            if key != 'Rattled':\n",
    "                distortion_amount = float(key.split(\"_\")[-1].replace(\"%\", \"\").replace(\"-\", \"-\"))/100\n",
    "            else:\n",
    "                distortion_amount = 0\n",
    "            data[site]['distortions'][key] = {\n",
    "                'structure': new_entries_def.structure,\n",
    "                'energy': new_entries_def.energy,\n",
    "                'distortion_amount': distortion_amount,\n",
    "                'delta_e': new_entries_def.energy - data[site]['unperturbed']['energy']\n",
    "            }\n",
    "        \n",
    "    return dict(data)"
   ]
  },
  {
   "cell_type": "code",
   "execution_count": 15,
   "id": "eef481f7",
   "metadata": {},
   "outputs": [],
   "source": [
    "Al_prim = loadfn(f'../../data/{MODEL}/{MODEL}_relaxed_Al_prim.json')"
   ]
  },
  {
   "cell_type": "code",
   "execution_count": 21,
   "id": "1785cd8a-7d25-4fdd-9535-cf967659688c",
   "metadata": {
    "scrolled": true
   },
   "outputs": [
    {
     "name": "stderr",
     "output_type": "stream",
     "text": [
      "Generating DefectEntry objects: 100.0%|████████████████████████████████████████████████████████████| [00:36,   2.71it/s]\n"
     ]
    },
    {
     "name": "stdout",
     "output_type": "stream",
     "text": [
      "Vacancies    Guessed Charges    Conv. Cell Coords    Wyckoff\n",
      "-----------  -----------------  -------------------  ---------\n",
      "v_Mn         [+1,0,-1,-2]       [0.000,0.000,0.000]  8a\n",
      "v_Al         [+1,0,-1,-2,-3]    [0.625,0.625,0.625]  16d\n",
      "v_O          [+2,+1,0,-1]       [0.392,0.392,0.392]  32e\n",
      "\n",
      "Substitutions    Guessed Charges     Conv. Cell Coords    Wyckoff\n",
      "---------------  ------------------  -------------------  ---------\n",
      "Mn_Al            [+1,0,-1]           [0.625,0.625,0.625]  16d\n",
      "Mn_O             [+5,+4,+3,+2,+1,0]  [0.392,0.392,0.392]  32e\n",
      "Al_Mn            [+1,0]              [0.000,0.000,0.000]  8a\n",
      "Al_O             [+5,+4,+3,+2,+1,0]  [0.392,0.392,0.392]  32e\n",
      "O_Mn             [0,-1,-2,-3,-4]     [0.000,0.000,0.000]  8a\n",
      "O_Al             [0,-1,-2,-3,-4,-5]  [0.625,0.625,0.625]  16d\n",
      "Cr_Mn            [+4,+3,+2,+1,0]     [0.000,0.000,0.000]  8a\n",
      "Cr_Al            [+3,+2,+1,0,-1]     [0.625,0.625,0.625]  16d\n",
      "Cr_O             [+5,+4,+3,+2,+1,0]  [0.392,0.392,0.392]  32e\n",
      "\n",
      "The number in the Wyckoff label is the site multiplicity/degeneracy of that defect in the conventional ('conv.') unit cell, which comprises 8 formula unit(s) of MnAl2O4.\n",
      "\n",
      "Oxidation states were not explicitly set, thus have been guessed as {'Mn': 2.0, 'Al': 3.0, 'O': -2.0, 'Cr': 3.0}. If this is unreasonable you should manually set oxidation_states\n",
      "Applying ShakeNBreak... Will apply the following bond distortions: ['-0.6', '-0.5', '-0.4', '-0.3', '-0.2', '-0.1', '0.0', '0.1', '0.2', '0.3', '0.4', '0.5', '0.6', 'Dimer (for vacancies)']. Then, will rattle with a std dev of 0.19 Å \n",
      "\n"
     ]
    },
    {
     "name": "stderr",
     "output_type": "stream",
     "text": [
      "Generating distorted defect structures...0.0%|                                                         | [00:00,  ?it/s]"
     ]
    },
    {
     "name": "stdout",
     "output_type": "stream",
     "text": [
      "\u001b[1m\n",
      "Defect: Cr_Al\u001b[0m\n",
      "\u001b[1mNumber of missing electrons in neutral state: 0\u001b[0m\n",
      "\n",
      "Defect Cr_Al in charge state: 0. Number of distorted neighbours: 0\n"
     ]
    },
    {
     "name": "stderr",
     "output_type": "stream",
     "text": [
      "Generating distorted defect structures...100.0%|███████████████████████████████████████████████████| [00:00,   4.22it/s]\n"
     ]
    },
    {
     "name": "stdout",
     "output_type": "stream",
     "text": [
      "       Step     Time          Energy          fmax\n",
      "LBFGS:    0 16:15:47     -637.992589        0.002540\n"
     ]
    },
    {
     "name": "stderr",
     "output_type": "stream",
     "text": [
      "compatibility.py:598: UserWarning: Invalid U value of 3.98 on Mn, expected 3.9 for {'@module': 'pymatgen.entries.computed_entries', '@class': 'ComputedEntry', 'energy': -637.9925894490916, 'composition': {'Mn2+': 12.0, 'Al3+': 24.0, 'O2-': 48.0}, 'entry_id': None, 'correction': 0.0, 'energy_adjustments': [], 'parameters': {'run_type': 'GGA+U', 'hubbards': {'Mn': 3.98, 'Al': 0.0, 'O': 0.0}, 'is_hubbard': True}, 'data': {'material_id': 'mp-755882', 'oxidation_states': {'Mn': 2.0, 'Al': 3.0, 'O': -2.0}}}\n"
     ]
    },
    {
     "name": "stdout",
     "output_type": "stream",
     "text": [
      "       Step     Time          Energy          fmax\n",
      "LBFGS:    0 16:15:50     -638.893886        1.511544\n",
      "LBFGS:    1 16:15:54     -639.055164        0.993409\n",
      "LBFGS:    2 16:15:58     -639.209133        0.257964\n",
      "LBFGS:    3 16:16:02     -639.228588        0.212619\n",
      "LBFGS:    4 16:16:06     -639.245067        0.192317\n",
      "LBFGS:    5 16:16:10     -639.253032        0.162471\n",
      "LBFGS:    6 16:16:14     -639.258854        0.131837\n",
      "LBFGS:    7 16:16:18     -639.262493        0.138895\n",
      "LBFGS:    8 16:16:22     -639.265606        0.114248\n",
      "LBFGS:    9 16:16:26     -639.267887        0.066589\n",
      "LBFGS:   10 16:16:30     -639.269352        0.035138\n",
      "LBFGS:   11 16:16:34     -639.270244        0.028556\n",
      "LBFGS:   12 16:16:38     -639.270809        0.033967\n",
      "LBFGS:   13 16:16:42     -639.271175        0.033382\n",
      "LBFGS:   14 16:16:46     -639.271427        0.017055\n",
      "LBFGS:   15 16:16:50     -639.271564        0.012358\n",
      "LBFGS:   16 16:16:54     -639.271633        0.014939\n",
      "LBFGS:   17 16:16:58     -639.271663        0.016525\n",
      "LBFGS:   18 16:17:02     -639.271732        0.010022\n",
      "LBFGS:   19 16:17:06     -639.271755        0.003946\n"
     ]
    },
    {
     "name": "stderr",
     "output_type": "stream",
     "text": [
      "compatibility.py:629: UserWarning: Failed to guess oxidation states for Entry None (Mn12Al23CrO48). Assigning anion correction to only the most electronegative atom.\n",
      "compatibility.py:598: UserWarning: Invalid U value of 3.98 on Mn, expected 3.9 for {'@module': 'pymatgen.entries.computed_entries', '@class': 'ComputedEntry', 'energy': -639.2717550078404, 'composition': {'Mn2+': 12.0, 'Al3+': 23.0, 'Cr3+': 1.0, 'O2-': 48.0}, 'entry_id': None, 'correction': 0.0, 'energy_adjustments': [], 'parameters': {'run_type': 'GGA+U', 'hubbards': {'Mn': 3.98, 'Al': 0.0, 'Cr': 3.7, 'O': 0.0}, 'is_hubbard': True}, 'data': {'material_id': 'mp-755882', 'oxidation_states': {}}}\n"
     ]
    },
    {
     "name": "stdout",
     "output_type": "stream",
     "text": [
      "       Step     Time          Energy          fmax\n",
      "LBFGS:    0 16:17:11     -577.422138       17.509613\n",
      "LBFGS:    1 16:17:15     -605.808315        6.822168\n",
      "LBFGS:    2 16:17:19     -625.884228        3.812242\n",
      "LBFGS:    3 16:17:23     -632.166546        3.504947\n",
      "LBFGS:    4 16:17:27     -634.703449        2.561366\n",
      "LBFGS:    5 16:17:31     -636.686771        1.920092\n",
      "LBFGS:    6 16:17:34     -637.772358        1.119458\n",
      "LBFGS:    7 16:17:38     -638.374248        0.872125\n",
      "LBFGS:    8 16:17:42     -638.726078        0.650965\n",
      "LBFGS:    9 16:17:46     -638.964199        0.458036\n",
      "LBFGS:   10 16:17:50     -639.077167        0.360105\n",
      "LBFGS:   11 16:17:54     -639.142536        0.356502\n",
      "LBFGS:   12 16:17:58     -639.185581        0.258393\n",
      "LBFGS:   13 16:18:02     -639.213680        0.166879\n",
      "LBFGS:   14 16:18:06     -639.231960        0.147355\n",
      "LBFGS:   15 16:18:10     -639.243343        0.131382\n",
      "LBFGS:   16 16:18:14     -639.250538        0.096999\n",
      "LBFGS:   17 16:18:18     -639.255779        0.088435\n",
      "LBFGS:   18 16:18:22     -639.259952        0.074980\n",
      "LBFGS:   19 16:18:26     -639.263035        0.076577\n",
      "LBFGS:   20 16:18:30     -639.265285        0.060176\n",
      "LBFGS:   21 16:18:34     -639.266857        0.055513\n",
      "LBFGS:   22 16:18:38     -639.268070        0.043548\n",
      "LBFGS:   23 16:18:42     -639.268970        0.034899\n",
      "LBFGS:   24 16:18:46     -639.269634        0.030633\n",
      "LBFGS:   25 16:18:50     -639.270176        0.032751\n",
      "LBFGS:   26 16:18:54     -639.270572        0.031936\n",
      "LBFGS:   27 16:18:58     -639.270931        0.022388\n",
      "LBFGS:   28 16:19:02     -639.271152        0.019717\n",
      "LBFGS:   29 16:19:06     -639.271351        0.015410\n",
      "LBFGS:   30 16:19:10     -639.271473        0.015305\n",
      "LBFGS:   31 16:19:14     -639.271580        0.013923\n",
      "LBFGS:   32 16:19:18     -639.271633        0.010424\n",
      "LBFGS:   33 16:19:22     -639.271656        0.007861\n"
     ]
    },
    {
     "name": "stderr",
     "output_type": "stream",
     "text": [
      "compatibility.py:598: UserWarning: Invalid U value of 3.98 on Mn, expected 3.9 for {'@module': 'pymatgen.entries.computed_entries', '@class': 'ComputedEntry', 'energy': -639.2716787138958, 'composition': {'Mn2+': 12.0, 'Al3+': 23.0, 'Cr3+': 1.0, 'O2-': 48.0}, 'entry_id': None, 'correction': 0.0, 'energy_adjustments': [], 'parameters': {'run_type': 'GGA+U', 'hubbards': {'Mn': 3.98, 'Al': 0.0, 'Cr': 3.7, 'O': 0.0}, 'is_hubbard': True}, 'data': {'material_id': 'mp-755882', 'oxidation_states': {}}}\n"
     ]
    }
   ],
   "source": [
    "for key, val in Al_prim.items():\n",
    "    unperturbed_structures, distortions, supercell = create_defect(Al_prim[key]['structure'])\n",
    "    mini_data = get_energy(unperturbed_structures, distortions, supercell, key) # add in host supercell relaxation move back from the front then see whats gonna happen \n",
    "    Al_prim[key]['defects'] = mini_data"
   ]
  },
  {
   "cell_type": "code",
   "execution_count": 22,
   "id": "1405fe05-3eef-4943-99e2-1e48ac416fb1",
   "metadata": {},
   "outputs": [],
   "source": [
    "for key,val in Al_prim.items(): # goes through mp id's\n",
    "    if 'minimum energy site' not in val.keys():\n",
    "        min_energy = [float('inf'), '']\n",
    "        for key1, val1 in val['defects'].items(): # goes through supercell and sites\n",
    "            if key1 != 'supercell' and key1 != 'formula':\n",
    "                for key2, val2 in val1.items(): \n",
    "                    if key2 == 'unperturbed':\n",
    "                        if val2['energy'] < min_energy[0]:\n",
    "                            min_energy[0] = val2['energy']\n",
    "                            min_energy[1] = [key1, key2]\n",
    "                    else:\n",
    "                        for key3, val3 in val2.items():\n",
    "                            if val3['energy'] < min_energy[0]:\n",
    "                                min_energy[0] = val3['energy']\n",
    "                                min_energy[1] = [key1, key2, key3]\n",
    "        Al_prim[key]['minimum energy site'] = {\n",
    "            'energy': min_energy[0],\n",
    "            'information': min_energy[1]\n",
    "        }"
   ]
  },
  {
   "cell_type": "code",
   "execution_count": 28,
   "id": "28e3fde3-6ec6-4f2c-96a7-3ca0346a6a1a",
   "metadata": {},
   "outputs": [],
   "source": [
    "dumpfn(Al_prim, f'../../data/{MODEL}/{MODEL}_corrected_doped_defect_energies_{supercell_size}A.json')"
   ]
  },
  {
   "cell_type": "code",
   "execution_count": null,
   "id": "55e28db8-81cc-42f6-a8b7-e381a7abaf0c",
   "metadata": {},
   "outputs": [],
   "source": [
    "compounds = []\n",
    "delta_e = []\n",
    "for key, val in data_load.items():\n",
    "    min_energy = float('inf')\n",
    "    for key1, val1 in val.items():\n",
    "        if key1 != 'supercell' and key1 != 'formula' and key1 != 'minimum energy site' and key1 != 'defects':\n",
    "            for key2, val2 in val1.items():\n",
    "                if key2 != 'unperturbed':\n",
    "                    for key3, val3 in val2.items():\n",
    "                        if val3['energy'] < min_energy:\n",
    "                            min_energy = val3['energy']\n",
    "                            min_delta_e = val3['delta_e'] # filters for lowest energy rattled site, may be higher or lower than unperturbed\n",
    "    delta_e.append(min_delta_e)\n",
    "    compounds.append(data_load[key]['formula'])"
   ]
  },
  {
   "cell_type": "code",
   "execution_count": 28,
   "id": "654200f7-294b-46b7-b704-c2dadbe22d88",
   "metadata": {},
   "outputs": [],
   "source": [
    "import matplotlib.pyplot as plt"
   ]
  },
  {
   "cell_type": "code",
   "execution_count": null,
   "id": "df3b5d12-bd91-4ab2-ba09-594a861c8413",
   "metadata": {},
   "outputs": [],
   "source": [
    "fig, ax = plt.subplots()\n",
    "bars = ax.bar(compounds, delta_e)  # Assuming you have these lists already\n",
    "\n",
    "# Add labels on top of each bar\n",
    "ax.set_title(f\"Energy Difference of Rattled Structure with Respect to Unperturbed Structure with {MODEL} per atom\")\n",
    "ax.set_ylabel(\"$\\Delta$E(eV)\")\n",
    "plt.xticks(rotation=90)\n",
    "plt.tight_layout()\n",
    "plt.savefig(f\"../../figures/{MODEL}/{MODEL}_corrected_energy_difference_plot_{supercell_size}A.png\", dpi=300, bbox_inches='tight')\n",
    "\n",
    "plt.show()"
   ]
  }
 ],
 "metadata": {
  "kernelspec": {
   "display_name": "Python 3 (ipykernel)",
   "language": "python",
   "name": "python3"
  },
  "language_info": {
   "codemirror_mode": {
    "name": "ipython",
    "version": 3
   },
   "file_extension": ".py",
   "mimetype": "text/x-python",
   "name": "python",
   "nbconvert_exporter": "python",
   "pygments_lexer": "ipython3",
   "version": "3.11.13"
  }
 },
 "nbformat": 4,
 "nbformat_minor": 5
}
