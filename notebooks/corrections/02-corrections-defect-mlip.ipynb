{
 "cells": [
  {
   "cell_type": "code",
   "execution_count": 2,
   "id": "712c69c2-244d-4cab-8c12-833351f2b530",
   "metadata": {},
   "outputs": [],
   "source": [
    "import os\n",
    "\n",
    "os.environ[\"CUDA_DEVICE_ORDER\"] = \"PCI_BUS_ID\"\n",
    "os.environ[\"CUDA_VISIBLE_DEVICES\"] = \"2\""
   ]
  },
  {
   "cell_type": "code",
   "execution_count": 3,
   "id": "636fb8f1",
   "metadata": {},
   "outputs": [],
   "source": [
    "from monty.serialization import dumpfn, loadfn\n",
    "from collections import defaultdict"
   ]
  },
  {
   "cell_type": "code",
   "execution_count": 4,
   "id": "707481d0",
   "metadata": {},
   "outputs": [
    {
     "name": "stderr",
     "output_type": "stream",
     "text": [
      "/home/atshaam/miniconda3/envs/proj_env/lib/python3.11/site-packages/tqdm/auto.py:21: TqdmWarning: IProgress not found. Please update jupyter and ipywidgets. See https://ipywidgets.readthedocs.io/en/stable/user_install.html\n",
      "  from .autonotebook import tqdm as notebook_tqdm\n",
      "/home/atshaam/miniconda3/envs/proj_env/lib/python3.11/site-packages/torch_geometric/typing.py:86: UserWarning: An issue occurred while importing 'torch-scatter'. Disabling its usage. Stacktrace: libcudart.so.11.0: cannot open shared object file: No such file or directory\n",
      "  warnings.warn(f\"An issue occurred while importing 'torch-scatter'. \"\n"
     ]
    }
   ],
   "source": [
    "from ase.filters import FrechetCellFilter\n",
    "from ase.optimize import LBFGS\n",
    "from pymatgen.io.ase import AseAtomsAdaptor\n",
    "from orb_models.forcefield import pretrained\n",
    "from orb_models.forcefield.calculator import ORBCalculator\n",
    "from fairchem.core import pretrained_mlip, FAIRChemCalculator\n",
    "# from mace.calculators import mace_mp # need e3nn 0.4.4\n",
    "# from sevenn.calculator import SevenNetCalculator # need e3nn 0.5.0 later change numpy to 1.26.4\n",
    "from mattersim.forcefield import MatterSimCalculator"
   ]
  },
  {
   "cell_type": "code",
   "execution_count": 5,
   "id": "74e66c8d-cda8-44c8-9475-c534bb9953cf",
   "metadata": {},
   "outputs": [],
   "source": [
    "# import torch._dynamo\n",
    "# torch._dynamo.config.suppress_errors = True"
   ]
  },
  {
   "cell_type": "code",
   "execution_count": 6,
   "id": "23513e03-e81f-4b44-944f-986893a6fb7c",
   "metadata": {},
   "outputs": [],
   "source": [
    "MODEL = \"uma\" # \"orb\" or \"uma\" or \"mace\" or \"seven\" or \"mattersim\""
   ]
  },
  {
   "cell_type": "code",
   "execution_count": 7,
   "id": "9fa329d0-c74e-4fb3-95ed-8d38724dd532",
   "metadata": {
    "scrolled": true
   },
   "outputs": [],
   "source": [
    "# orb_ff = pretrained.orb_v3_conservative_inf_omat(device=\"cuda\",precision=\"float32-high\")   # or \"float32-highest\" / \"float64\n",
    "# orb_calc = ORBCalculator(orb_ff, device=\"cuda\")\n",
    "\n",
    "uma_ff = pretrained_mlip.get_predict_unit(\"uma-m-1p1\", device=\"cuda\")\n",
    "uma_calc = FAIRChemCalculator(uma_ff, task_name=\"omat\")\n",
    "\n",
    "# # mace_calc = mace_mp(model=\"MACE-matpes-r2scan-omat-ft.model\", dispersion=False, device='cuda')\n",
    "\n",
    "# seven_calc = SevenNetCalculator('7net-mf-ompa', modal='omat24')\n",
    "\n",
    "# mattersim_calc = MatterSimCalculator(device=\"cuda\")\n",
    "\n",
    "MODELS = {\n",
    "    # \"orb\":orb_calc,\n",
    "    \"uma\":uma_calc,\n",
    "    # \"mace\":mace_calc,\n",
    "    # \"seven\":seven_calc,\n",
    "    # \"mattersim\":mattersim_calc,\n",
    "}"
   ]
  },
  {
   "cell_type": "code",
   "execution_count": 14,
   "id": "a3d25d8c-d42a-469e-89bf-c253a3829d25",
   "metadata": {},
   "outputs": [],
   "source": [
    "# Function used to relax initial primitive cell and for competing phase calculation, full relaxation using FrechetCellFilter\n",
    "def relax_structure(structure):\n",
    "    atoms = structure.to_ase_atoms()\n",
    "    atoms.calc = MODELS[MODEL]\n",
    "\n",
    "    opt = LBFGS(FrechetCellFilter(atoms)) # Delete this FrechetCellFilter when doing the defect structures\n",
    "    opt.run(0.01, 1000)\n",
    "\n",
    "    relaxed_structure = AseAtomsAdaptor.get_structure(atoms)\n",
    "    energy = atoms.get_potential_energy()\n",
    "    energy_per_atom = energy / len(atoms)\n",
    "\n",
    "    return relaxed_structure, energy_per_atom \n",
    "    "
   ]
  },
  {
   "cell_type": "code",
   "execution_count": 21,
   "id": "11c2dc6d",
   "metadata": {},
   "outputs": [],
   "source": [
    "# Function that relaxes defect and pristine supercells, ensuring a fixed lattice by no FrechetCellFilter\n",
    "def relax_defect(structure): # takes in pymatgen structure\n",
    "    atoms = structure.to_ase_atoms()\n",
    "    atoms.calc = MODELS[MODEL]\n",
    "\n",
    "    opt = LBFGS(atoms) # Delete this FrechetCellFilter when doing the defect structures\n",
    "    opt.run(0.01, 1000)\n",
    "\n",
    "    relaxed_structure = AseAtomsAdaptor.get_structure(atoms)\n",
    "    energy = atoms.get_potential_energy()\n",
    "    energy_per_atom = energy / len(atoms)\n",
    "\n",
    "    return relaxed_structure, energy_per_atom"
   ]
  },
  {
   "cell_type": "markdown",
   "id": "d1467430-6ff5-4464-94f6-c86732e86a2c",
   "metadata": {},
   "source": [
    "## Relaxation of Primitive Al Cells"
   ]
  },
  {
   "cell_type": "code",
   "execution_count": 11,
   "id": "77a43986-40b5-4a6b-a74c-82082648d419",
   "metadata": {},
   "outputs": [],
   "source": [
    "matching_pairs = loadfn('../../data/matching_AlCr_ox.json')"
   ]
  },
  {
   "cell_type": "code",
   "execution_count": 15,
   "id": "3d9d0d04-8e6d-4259-8241-110e4e09662d",
   "metadata": {
    "scrolled": true
   },
   "outputs": [
    {
     "name": "stdout",
     "output_type": "stream",
     "text": [
      "       Step     Time          Energy          fmax\n",
      "LBFGS:    0 18:45:16     -380.434092        0.808930\n",
      "LBFGS:    1 18:45:16     -380.590292        0.524302\n"
     ]
    },
    {
     "name": "stderr",
     "output_type": "stream",
     "text": [
      "/home/atshaam/miniconda3/envs/proj_env/lib/python3.11/site-packages/scipy/_lib/_util.py:1233: RuntimeWarning: logm result may be inaccurate, approximate err = 4.711360190712929e-13\n",
      "  return f(*arrays, *other_args, **kwargs)\n"
     ]
    },
    {
     "name": "stdout",
     "output_type": "stream",
     "text": [
      "LBFGS:    2 18:45:17     -380.685107        0.379665\n"
     ]
    },
    {
     "name": "stderr",
     "output_type": "stream",
     "text": [
      "/home/atshaam/miniconda3/envs/proj_env/lib/python3.11/site-packages/scipy/_lib/_util.py:1233: RuntimeWarning: logm result may be inaccurate, approximate err = 4.66870987942106e-13\n",
      "  return f(*arrays, *other_args, **kwargs)\n"
     ]
    },
    {
     "name": "stdout",
     "output_type": "stream",
     "text": [
      "LBFGS:    3 18:45:18     -380.725912        0.335461\n"
     ]
    },
    {
     "name": "stderr",
     "output_type": "stream",
     "text": [
      "/home/atshaam/miniconda3/envs/proj_env/lib/python3.11/site-packages/scipy/_lib/_util.py:1233: RuntimeWarning: logm result may be inaccurate, approximate err = 4.700223972721688e-13\n",
      "  return f(*arrays, *other_args, **kwargs)\n"
     ]
    },
    {
     "name": "stdout",
     "output_type": "stream",
     "text": [
      "LBFGS:    4 18:45:18     -380.755026        0.294176\n"
     ]
    },
    {
     "name": "stderr",
     "output_type": "stream",
     "text": [
      "/home/atshaam/miniconda3/envs/proj_env/lib/python3.11/site-packages/scipy/_lib/_util.py:1233: RuntimeWarning: logm result may be inaccurate, approximate err = 4.702837920263563e-13\n",
      "  return f(*arrays, *other_args, **kwargs)\n"
     ]
    },
    {
     "name": "stdout",
     "output_type": "stream",
     "text": [
      "LBFGS:    5 18:45:19     -380.778330        0.275428\n"
     ]
    },
    {
     "name": "stderr",
     "output_type": "stream",
     "text": [
      "/home/atshaam/miniconda3/envs/proj_env/lib/python3.11/site-packages/scipy/_lib/_util.py:1233: RuntimeWarning: logm result may be inaccurate, approximate err = 4.711686382591534e-13\n",
      "  return f(*arrays, *other_args, **kwargs)\n"
     ]
    },
    {
     "name": "stdout",
     "output_type": "stream",
     "text": [
      "LBFGS:    6 18:45:19     -380.796622        0.261812\n"
     ]
    },
    {
     "name": "stderr",
     "output_type": "stream",
     "text": [
      "/home/atshaam/miniconda3/envs/proj_env/lib/python3.11/site-packages/scipy/_lib/_util.py:1233: RuntimeWarning: logm result may be inaccurate, approximate err = 4.77106984227037e-13\n",
      "  return f(*arrays, *other_args, **kwargs)\n"
     ]
    },
    {
     "name": "stdout",
     "output_type": "stream",
     "text": [
      "LBFGS:    7 18:45:20     -380.817912        0.245287\n"
     ]
    },
    {
     "name": "stderr",
     "output_type": "stream",
     "text": [
      "/home/atshaam/miniconda3/envs/proj_env/lib/python3.11/site-packages/scipy/_lib/_util.py:1233: RuntimeWarning: logm result may be inaccurate, approximate err = 4.75151059019503e-13\n",
      "  return f(*arrays, *other_args, **kwargs)\n"
     ]
    },
    {
     "name": "stdout",
     "output_type": "stream",
     "text": [
      "LBFGS:    8 18:45:20     -380.838694        0.218163\n"
     ]
    },
    {
     "name": "stderr",
     "output_type": "stream",
     "text": [
      "/home/atshaam/miniconda3/envs/proj_env/lib/python3.11/site-packages/scipy/_lib/_util.py:1233: RuntimeWarning: logm result may be inaccurate, approximate err = 4.717488085470356e-13\n",
      "  return f(*arrays, *other_args, **kwargs)\n"
     ]
    },
    {
     "name": "stdout",
     "output_type": "stream",
     "text": [
      "LBFGS:    9 18:45:21     -380.854315        0.191684\n"
     ]
    },
    {
     "name": "stderr",
     "output_type": "stream",
     "text": [
      "/home/atshaam/miniconda3/envs/proj_env/lib/python3.11/site-packages/scipy/_lib/_util.py:1233: RuntimeWarning: logm result may be inaccurate, approximate err = 4.804695073491913e-13\n",
      "  return f(*arrays, *other_args, **kwargs)\n"
     ]
    },
    {
     "name": "stdout",
     "output_type": "stream",
     "text": [
      "LBFGS:   10 18:45:21     -380.866446        0.170794\n"
     ]
    },
    {
     "name": "stderr",
     "output_type": "stream",
     "text": [
      "/home/atshaam/miniconda3/envs/proj_env/lib/python3.11/site-packages/scipy/_lib/_util.py:1233: RuntimeWarning: logm result may be inaccurate, approximate err = 4.722686364671865e-13\n",
      "  return f(*arrays, *other_args, **kwargs)\n"
     ]
    },
    {
     "name": "stdout",
     "output_type": "stream",
     "text": [
      "LBFGS:   11 18:45:22     -380.881106        0.179030\n"
     ]
    },
    {
     "name": "stderr",
     "output_type": "stream",
     "text": [
      "/home/atshaam/miniconda3/envs/proj_env/lib/python3.11/site-packages/scipy/_lib/_util.py:1233: RuntimeWarning: logm result may be inaccurate, approximate err = 4.747831037519805e-13\n",
      "  return f(*arrays, *other_args, **kwargs)\n"
     ]
    },
    {
     "name": "stdout",
     "output_type": "stream",
     "text": [
      "LBFGS:   12 18:45:22     -380.901823        0.249147\n"
     ]
    },
    {
     "name": "stderr",
     "output_type": "stream",
     "text": [
      "/home/atshaam/miniconda3/envs/proj_env/lib/python3.11/site-packages/scipy/_lib/_util.py:1233: RuntimeWarning: logm result may be inaccurate, approximate err = 4.806648325600483e-13\n",
      "  return f(*arrays, *other_args, **kwargs)\n"
     ]
    },
    {
     "name": "stdout",
     "output_type": "stream",
     "text": [
      "LBFGS:   13 18:45:23     -380.926115        0.255925\n"
     ]
    },
    {
     "name": "stderr",
     "output_type": "stream",
     "text": [
      "/home/atshaam/miniconda3/envs/proj_env/lib/python3.11/site-packages/scipy/_lib/_util.py:1233: RuntimeWarning: logm result may be inaccurate, approximate err = 4.760018199548577e-13\n",
      "  return f(*arrays, *other_args, **kwargs)\n"
     ]
    },
    {
     "name": "stdout",
     "output_type": "stream",
     "text": [
      "LBFGS:   14 18:45:23     -380.946432        0.235878\n"
     ]
    },
    {
     "name": "stderr",
     "output_type": "stream",
     "text": [
      "/home/atshaam/miniconda3/envs/proj_env/lib/python3.11/site-packages/scipy/_lib/_util.py:1233: RuntimeWarning: logm result may be inaccurate, approximate err = 4.734918004422481e-13\n",
      "  return f(*arrays, *other_args, **kwargs)\n"
     ]
    },
    {
     "name": "stdout",
     "output_type": "stream",
     "text": [
      "LBFGS:   15 18:45:24     -380.960665        0.178671\n"
     ]
    },
    {
     "name": "stderr",
     "output_type": "stream",
     "text": [
      "/home/atshaam/miniconda3/envs/proj_env/lib/python3.11/site-packages/scipy/_lib/_util.py:1233: RuntimeWarning: logm result may be inaccurate, approximate err = 4.77483776784936e-13\n",
      "  return f(*arrays, *other_args, **kwargs)\n"
     ]
    },
    {
     "name": "stdout",
     "output_type": "stream",
     "text": [
      "LBFGS:   16 18:45:25     -380.973112        0.211813\n"
     ]
    },
    {
     "name": "stderr",
     "output_type": "stream",
     "text": [
      "/home/atshaam/miniconda3/envs/proj_env/lib/python3.11/site-packages/scipy/_lib/_util.py:1233: RuntimeWarning: logm result may be inaccurate, approximate err = 4.868101270336547e-13\n",
      "  return f(*arrays, *other_args, **kwargs)\n"
     ]
    },
    {
     "name": "stdout",
     "output_type": "stream",
     "text": [
      "LBFGS:   17 18:45:25     -380.987170        0.188844\n"
     ]
    },
    {
     "name": "stderr",
     "output_type": "stream",
     "text": [
      "/home/atshaam/miniconda3/envs/proj_env/lib/python3.11/site-packages/scipy/_lib/_util.py:1233: RuntimeWarning: logm result may be inaccurate, approximate err = 4.824758990807256e-13\n",
      "  return f(*arrays, *other_args, **kwargs)\n"
     ]
    },
    {
     "name": "stdout",
     "output_type": "stream",
     "text": [
      "LBFGS:   18 18:45:26     -380.999091        0.149053\n"
     ]
    },
    {
     "name": "stderr",
     "output_type": "stream",
     "text": [
      "/home/atshaam/miniconda3/envs/proj_env/lib/python3.11/site-packages/scipy/_lib/_util.py:1233: RuntimeWarning: logm result may be inaccurate, approximate err = 4.76315400604995e-13\n",
      "  return f(*arrays, *other_args, **kwargs)\n"
     ]
    },
    {
     "name": "stdout",
     "output_type": "stream",
     "text": [
      "LBFGS:   19 18:45:26     -381.005816        0.121512\n"
     ]
    },
    {
     "name": "stderr",
     "output_type": "stream",
     "text": [
      "/home/atshaam/miniconda3/envs/proj_env/lib/python3.11/site-packages/scipy/_lib/_util.py:1233: RuntimeWarning: logm result may be inaccurate, approximate err = 4.832547870695885e-13\n",
      "  return f(*arrays, *other_args, **kwargs)\n"
     ]
    },
    {
     "name": "stdout",
     "output_type": "stream",
     "text": [
      "LBFGS:   20 18:45:27     -381.009905        0.108916\n"
     ]
    },
    {
     "name": "stderr",
     "output_type": "stream",
     "text": [
      "/home/atshaam/miniconda3/envs/proj_env/lib/python3.11/site-packages/scipy/_lib/_util.py:1233: RuntimeWarning: logm result may be inaccurate, approximate err = 4.823762949118513e-13\n",
      "  return f(*arrays, *other_args, **kwargs)\n"
     ]
    },
    {
     "name": "stdout",
     "output_type": "stream",
     "text": [
      "LBFGS:   21 18:45:27     -381.014395        0.107846\n"
     ]
    },
    {
     "name": "stderr",
     "output_type": "stream",
     "text": [
      "/home/atshaam/miniconda3/envs/proj_env/lib/python3.11/site-packages/scipy/_lib/_util.py:1233: RuntimeWarning: logm result may be inaccurate, approximate err = 4.790000289378599e-13\n",
      "  return f(*arrays, *other_args, **kwargs)\n"
     ]
    },
    {
     "name": "stdout",
     "output_type": "stream",
     "text": [
      "LBFGS:   22 18:45:28     -381.020960        0.115259\n"
     ]
    },
    {
     "name": "stderr",
     "output_type": "stream",
     "text": [
      "/home/atshaam/miniconda3/envs/proj_env/lib/python3.11/site-packages/scipy/_lib/_util.py:1233: RuntimeWarning: logm result may be inaccurate, approximate err = 4.78908010786989e-13\n",
      "  return f(*arrays, *other_args, **kwargs)\n"
     ]
    },
    {
     "name": "stdout",
     "output_type": "stream",
     "text": [
      "LBFGS:   23 18:45:28     -381.029078        0.140805\n"
     ]
    },
    {
     "name": "stderr",
     "output_type": "stream",
     "text": [
      "/home/atshaam/miniconda3/envs/proj_env/lib/python3.11/site-packages/scipy/_lib/_util.py:1233: RuntimeWarning: logm result may be inaccurate, approximate err = 4.857928559087989e-13\n",
      "  return f(*arrays, *other_args, **kwargs)\n"
     ]
    },
    {
     "name": "stdout",
     "output_type": "stream",
     "text": [
      "LBFGS:   24 18:45:29     -381.036848        0.123362\n"
     ]
    },
    {
     "name": "stderr",
     "output_type": "stream",
     "text": [
      "/home/atshaam/miniconda3/envs/proj_env/lib/python3.11/site-packages/scipy/_lib/_util.py:1233: RuntimeWarning: logm result may be inaccurate, approximate err = 4.841084395494688e-13\n",
      "  return f(*arrays, *other_args, **kwargs)\n"
     ]
    },
    {
     "name": "stdout",
     "output_type": "stream",
     "text": [
      "LBFGS:   25 18:45:29     -381.041899        0.110524\n"
     ]
    },
    {
     "name": "stderr",
     "output_type": "stream",
     "text": [
      "/home/atshaam/miniconda3/envs/proj_env/lib/python3.11/site-packages/scipy/_lib/_util.py:1233: RuntimeWarning: logm result may be inaccurate, approximate err = 4.826631678581996e-13\n",
      "  return f(*arrays, *other_args, **kwargs)\n"
     ]
    },
    {
     "name": "stdout",
     "output_type": "stream",
     "text": [
      "LBFGS:   26 18:45:30     -381.044886        0.104640\n"
     ]
    },
    {
     "name": "stderr",
     "output_type": "stream",
     "text": [
      "/home/atshaam/miniconda3/envs/proj_env/lib/python3.11/site-packages/scipy/_lib/_util.py:1233: RuntimeWarning: logm result may be inaccurate, approximate err = 4.848162999404502e-13\n",
      "  return f(*arrays, *other_args, **kwargs)\n"
     ]
    },
    {
     "name": "stdout",
     "output_type": "stream",
     "text": [
      "LBFGS:   27 18:45:30     -381.047415        0.087241\n"
     ]
    },
    {
     "name": "stderr",
     "output_type": "stream",
     "text": [
      "/home/atshaam/miniconda3/envs/proj_env/lib/python3.11/site-packages/scipy/_lib/_util.py:1233: RuntimeWarning: logm result may be inaccurate, approximate err = 4.848309028709635e-13\n",
      "  return f(*arrays, *other_args, **kwargs)\n"
     ]
    },
    {
     "name": "stdout",
     "output_type": "stream",
     "text": [
      "LBFGS:   28 18:45:31     -381.050566        0.073107\n"
     ]
    },
    {
     "name": "stderr",
     "output_type": "stream",
     "text": [
      "/home/atshaam/miniconda3/envs/proj_env/lib/python3.11/site-packages/scipy/_lib/_util.py:1233: RuntimeWarning: logm result may be inaccurate, approximate err = 4.887134662886014e-13\n",
      "  return f(*arrays, *other_args, **kwargs)\n"
     ]
    },
    {
     "name": "stdout",
     "output_type": "stream",
     "text": [
      "LBFGS:   29 18:45:32     -381.053370        0.070912\n"
     ]
    },
    {
     "name": "stderr",
     "output_type": "stream",
     "text": [
      "/home/atshaam/miniconda3/envs/proj_env/lib/python3.11/site-packages/scipy/_lib/_util.py:1233: RuntimeWarning: logm result may be inaccurate, approximate err = 4.863533227717301e-13\n",
      "  return f(*arrays, *other_args, **kwargs)\n"
     ]
    },
    {
     "name": "stdout",
     "output_type": "stream",
     "text": [
      "LBFGS:   30 18:45:32     -381.055365        0.061020\n"
     ]
    },
    {
     "name": "stderr",
     "output_type": "stream",
     "text": [
      "/home/atshaam/miniconda3/envs/proj_env/lib/python3.11/site-packages/scipy/_lib/_util.py:1233: RuntimeWarning: logm result may be inaccurate, approximate err = 4.833140830689788e-13\n",
      "  return f(*arrays, *other_args, **kwargs)\n"
     ]
    },
    {
     "name": "stdout",
     "output_type": "stream",
     "text": [
      "LBFGS:   31 18:45:33     -381.056872        0.073995\n"
     ]
    },
    {
     "name": "stderr",
     "output_type": "stream",
     "text": [
      "/home/atshaam/miniconda3/envs/proj_env/lib/python3.11/site-packages/scipy/_lib/_util.py:1233: RuntimeWarning: logm result may be inaccurate, approximate err = 4.812338521991348e-13\n",
      "  return f(*arrays, *other_args, **kwargs)\n"
     ]
    },
    {
     "name": "stdout",
     "output_type": "stream",
     "text": [
      "LBFGS:   32 18:45:33     -381.058333        0.065444\n"
     ]
    },
    {
     "name": "stderr",
     "output_type": "stream",
     "text": [
      "/home/atshaam/miniconda3/envs/proj_env/lib/python3.11/site-packages/scipy/_lib/_util.py:1233: RuntimeWarning: logm result may be inaccurate, approximate err = 4.942945922507899e-13\n",
      "  return f(*arrays, *other_args, **kwargs)\n"
     ]
    },
    {
     "name": "stdout",
     "output_type": "stream",
     "text": [
      "LBFGS:   33 18:45:34     -381.059878        0.064606\n"
     ]
    },
    {
     "name": "stderr",
     "output_type": "stream",
     "text": [
      "/home/atshaam/miniconda3/envs/proj_env/lib/python3.11/site-packages/scipy/_lib/_util.py:1233: RuntimeWarning: logm result may be inaccurate, approximate err = 4.889177738002131e-13\n",
      "  return f(*arrays, *other_args, **kwargs)\n"
     ]
    },
    {
     "name": "stdout",
     "output_type": "stream",
     "text": [
      "LBFGS:   34 18:45:34     -381.061079        0.037694\n"
     ]
    },
    {
     "name": "stderr",
     "output_type": "stream",
     "text": [
      "/home/atshaam/miniconda3/envs/proj_env/lib/python3.11/site-packages/scipy/_lib/_util.py:1233: RuntimeWarning: logm result may be inaccurate, approximate err = 4.854215926785952e-13\n",
      "  return f(*arrays, *other_args, **kwargs)\n"
     ]
    },
    {
     "name": "stdout",
     "output_type": "stream",
     "text": [
      "LBFGS:   35 18:45:35     -381.061854        0.039523\n"
     ]
    },
    {
     "name": "stderr",
     "output_type": "stream",
     "text": [
      "/home/atshaam/miniconda3/envs/proj_env/lib/python3.11/site-packages/scipy/_lib/_util.py:1233: RuntimeWarning: logm result may be inaccurate, approximate err = 4.874271967503737e-13\n",
      "  return f(*arrays, *other_args, **kwargs)\n"
     ]
    },
    {
     "name": "stdout",
     "output_type": "stream",
     "text": [
      "LBFGS:   36 18:45:35     -381.062663        0.043238\n"
     ]
    },
    {
     "name": "stderr",
     "output_type": "stream",
     "text": [
      "/home/atshaam/miniconda3/envs/proj_env/lib/python3.11/site-packages/scipy/_lib/_util.py:1233: RuntimeWarning: logm result may be inaccurate, approximate err = 4.884921881552847e-13\n",
      "  return f(*arrays, *other_args, **kwargs)\n"
     ]
    },
    {
     "name": "stdout",
     "output_type": "stream",
     "text": [
      "LBFGS:   37 18:45:36     -381.063673        0.048823\n"
     ]
    },
    {
     "name": "stderr",
     "output_type": "stream",
     "text": [
      "/home/atshaam/miniconda3/envs/proj_env/lib/python3.11/site-packages/scipy/_lib/_util.py:1233: RuntimeWarning: logm result may be inaccurate, approximate err = 4.848304540844286e-13\n",
      "  return f(*arrays, *other_args, **kwargs)\n"
     ]
    },
    {
     "name": "stdout",
     "output_type": "stream",
     "text": [
      "LBFGS:   38 18:45:36     -381.064696        0.039364\n"
     ]
    },
    {
     "name": "stderr",
     "output_type": "stream",
     "text": [
      "/home/atshaam/miniconda3/envs/proj_env/lib/python3.11/site-packages/scipy/_lib/_util.py:1233: RuntimeWarning: logm result may be inaccurate, approximate err = 4.866610811513224e-13\n",
      "  return f(*arrays, *other_args, **kwargs)\n"
     ]
    },
    {
     "name": "stdout",
     "output_type": "stream",
     "text": [
      "LBFGS:   39 18:45:37     -381.065276        0.026463\n"
     ]
    },
    {
     "name": "stderr",
     "output_type": "stream",
     "text": [
      "/home/atshaam/miniconda3/envs/proj_env/lib/python3.11/site-packages/scipy/_lib/_util.py:1233: RuntimeWarning: logm result may be inaccurate, approximate err = 4.864141348195465e-13\n",
      "  return f(*arrays, *other_args, **kwargs)\n"
     ]
    },
    {
     "name": "stdout",
     "output_type": "stream",
     "text": [
      "LBFGS:   40 18:45:37     -381.065615        0.021815\n"
     ]
    },
    {
     "name": "stderr",
     "output_type": "stream",
     "text": [
      "/home/atshaam/miniconda3/envs/proj_env/lib/python3.11/site-packages/scipy/_lib/_util.py:1233: RuntimeWarning: logm result may be inaccurate, approximate err = 4.896961732306552e-13\n",
      "  return f(*arrays, *other_args, **kwargs)\n"
     ]
    },
    {
     "name": "stdout",
     "output_type": "stream",
     "text": [
      "LBFGS:   41 18:45:38     -381.065955        0.024817\n"
     ]
    },
    {
     "name": "stderr",
     "output_type": "stream",
     "text": [
      "/home/atshaam/miniconda3/envs/proj_env/lib/python3.11/site-packages/scipy/_lib/_util.py:1233: RuntimeWarning: logm result may be inaccurate, approximate err = 4.86648568683035e-13\n",
      "  return f(*arrays, *other_args, **kwargs)\n"
     ]
    },
    {
     "name": "stdout",
     "output_type": "stream",
     "text": [
      "LBFGS:   42 18:45:38     -381.066241        0.023993\n"
     ]
    },
    {
     "name": "stderr",
     "output_type": "stream",
     "text": [
      "/home/atshaam/miniconda3/envs/proj_env/lib/python3.11/site-packages/scipy/_lib/_util.py:1233: RuntimeWarning: logm result may be inaccurate, approximate err = 4.896147585155204e-13\n",
      "  return f(*arrays, *other_args, **kwargs)\n"
     ]
    },
    {
     "name": "stdout",
     "output_type": "stream",
     "text": [
      "LBFGS:   43 18:45:39     -381.066424        0.018700\n"
     ]
    },
    {
     "name": "stderr",
     "output_type": "stream",
     "text": [
      "/home/atshaam/miniconda3/envs/proj_env/lib/python3.11/site-packages/scipy/_lib/_util.py:1233: RuntimeWarning: logm result may be inaccurate, approximate err = 4.859573341288532e-13\n",
      "  return f(*arrays, *other_args, **kwargs)\n"
     ]
    },
    {
     "name": "stdout",
     "output_type": "stream",
     "text": [
      "LBFGS:   44 18:45:40     -381.066561        0.016975\n"
     ]
    },
    {
     "name": "stderr",
     "output_type": "stream",
     "text": [
      "/home/atshaam/miniconda3/envs/proj_env/lib/python3.11/site-packages/scipy/_lib/_util.py:1233: RuntimeWarning: logm result may be inaccurate, approximate err = 4.846681904607623e-13\n",
      "  return f(*arrays, *other_args, **kwargs)\n"
     ]
    },
    {
     "name": "stdout",
     "output_type": "stream",
     "text": [
      "LBFGS:   45 18:45:40     -381.066729        0.017885\n"
     ]
    },
    {
     "name": "stderr",
     "output_type": "stream",
     "text": [
      "/home/atshaam/miniconda3/envs/proj_env/lib/python3.11/site-packages/scipy/_lib/_util.py:1233: RuntimeWarning: logm result may be inaccurate, approximate err = 4.932882673642868e-13\n",
      "  return f(*arrays, *other_args, **kwargs)\n"
     ]
    },
    {
     "name": "stdout",
     "output_type": "stream",
     "text": [
      "LBFGS:   46 18:45:41     -381.066908        0.018848\n"
     ]
    },
    {
     "name": "stderr",
     "output_type": "stream",
     "text": [
      "/home/atshaam/miniconda3/envs/proj_env/lib/python3.11/site-packages/scipy/_lib/_util.py:1233: RuntimeWarning: logm result may be inaccurate, approximate err = 4.879791559536633e-13\n",
      "  return f(*arrays, *other_args, **kwargs)\n"
     ]
    },
    {
     "name": "stdout",
     "output_type": "stream",
     "text": [
      "LBFGS:   47 18:45:41     -381.067046        0.017457\n"
     ]
    },
    {
     "name": "stderr",
     "output_type": "stream",
     "text": [
      "/home/atshaam/miniconda3/envs/proj_env/lib/python3.11/site-packages/scipy/_lib/_util.py:1233: RuntimeWarning: logm result may be inaccurate, approximate err = 4.849479833367225e-13\n",
      "  return f(*arrays, *other_args, **kwargs)\n"
     ]
    },
    {
     "name": "stdout",
     "output_type": "stream",
     "text": [
      "LBFGS:   48 18:45:42     -381.067141        0.017832\n"
     ]
    },
    {
     "name": "stderr",
     "output_type": "stream",
     "text": [
      "/home/atshaam/miniconda3/envs/proj_env/lib/python3.11/site-packages/scipy/_lib/_util.py:1233: RuntimeWarning: logm result may be inaccurate, approximate err = 4.856770790277071e-13\n",
      "  return f(*arrays, *other_args, **kwargs)\n"
     ]
    },
    {
     "name": "stdout",
     "output_type": "stream",
     "text": [
      "LBFGS:   49 18:45:42     -381.067263        0.018386\n"
     ]
    },
    {
     "name": "stderr",
     "output_type": "stream",
     "text": [
      "/home/atshaam/miniconda3/envs/proj_env/lib/python3.11/site-packages/scipy/_lib/_util.py:1233: RuntimeWarning: logm result may be inaccurate, approximate err = 4.881603957606281e-13\n",
      "  return f(*arrays, *other_args, **kwargs)\n"
     ]
    },
    {
     "name": "stdout",
     "output_type": "stream",
     "text": [
      "LBFGS:   50 18:45:43     -381.067408        0.018315\n"
     ]
    },
    {
     "name": "stderr",
     "output_type": "stream",
     "text": [
      "/home/atshaam/miniconda3/envs/proj_env/lib/python3.11/site-packages/scipy/_lib/_util.py:1233: RuntimeWarning: logm result may be inaccurate, approximate err = 4.87992195341725e-13\n",
      "  return f(*arrays, *other_args, **kwargs)\n"
     ]
    },
    {
     "name": "stdout",
     "output_type": "stream",
     "text": [
      "LBFGS:   51 18:45:43     -381.067564        0.017320\n"
     ]
    },
    {
     "name": "stderr",
     "output_type": "stream",
     "text": [
      "/home/atshaam/miniconda3/envs/proj_env/lib/python3.11/site-packages/scipy/_lib/_util.py:1233: RuntimeWarning: logm result may be inaccurate, approximate err = 4.841759221891443e-13\n",
      "  return f(*arrays, *other_args, **kwargs)\n"
     ]
    },
    {
     "name": "stdout",
     "output_type": "stream",
     "text": [
      "LBFGS:   52 18:45:44     -381.067744        0.015671\n"
     ]
    },
    {
     "name": "stderr",
     "output_type": "stream",
     "text": [
      "/home/atshaam/miniconda3/envs/proj_env/lib/python3.11/site-packages/scipy/_lib/_util.py:1233: RuntimeWarning: logm result may be inaccurate, approximate err = 4.849505482603663e-13\n",
      "  return f(*arrays, *other_args, **kwargs)\n"
     ]
    },
    {
     "name": "stdout",
     "output_type": "stream",
     "text": [
      "LBFGS:   53 18:45:44     -381.067904        0.016373\n"
     ]
    },
    {
     "name": "stderr",
     "output_type": "stream",
     "text": [
      "/home/atshaam/miniconda3/envs/proj_env/lib/python3.11/site-packages/scipy/_lib/_util.py:1233: RuntimeWarning: logm result may be inaccurate, approximate err = 4.871832251931288e-13\n",
      "  return f(*arrays, *other_args, **kwargs)\n"
     ]
    },
    {
     "name": "stdout",
     "output_type": "stream",
     "text": [
      "LBFGS:   54 18:45:45     -381.068068        0.018885\n"
     ]
    },
    {
     "name": "stderr",
     "output_type": "stream",
     "text": [
      "/home/atshaam/miniconda3/envs/proj_env/lib/python3.11/site-packages/scipy/_lib/_util.py:1233: RuntimeWarning: logm result may be inaccurate, approximate err = 4.896922606840215e-13\n",
      "  return f(*arrays, *other_args, **kwargs)\n"
     ]
    },
    {
     "name": "stdout",
     "output_type": "stream",
     "text": [
      "LBFGS:   55 18:45:46     -381.068198        0.019441\n"
     ]
    },
    {
     "name": "stderr",
     "output_type": "stream",
     "text": [
      "/home/atshaam/miniconda3/envs/proj_env/lib/python3.11/site-packages/scipy/_lib/_util.py:1233: RuntimeWarning: logm result may be inaccurate, approximate err = 4.872748519888248e-13\n",
      "  return f(*arrays, *other_args, **kwargs)\n"
     ]
    },
    {
     "name": "stdout",
     "output_type": "stream",
     "text": [
      "LBFGS:   56 18:45:46     -381.068301        0.016200\n"
     ]
    },
    {
     "name": "stderr",
     "output_type": "stream",
     "text": [
      "/home/atshaam/miniconda3/envs/proj_env/lib/python3.11/site-packages/scipy/_lib/_util.py:1233: RuntimeWarning: logm result may be inaccurate, approximate err = 4.880369057893276e-13\n",
      "  return f(*arrays, *other_args, **kwargs)\n"
     ]
    },
    {
     "name": "stdout",
     "output_type": "stream",
     "text": [
      "LBFGS:   57 18:45:47     -381.068392        0.013263\n"
     ]
    },
    {
     "name": "stderr",
     "output_type": "stream",
     "text": [
      "/home/atshaam/miniconda3/envs/proj_env/lib/python3.11/site-packages/scipy/_lib/_util.py:1233: RuntimeWarning: logm result may be inaccurate, approximate err = 4.885240842353011e-13\n",
      "  return f(*arrays, *other_args, **kwargs)\n"
     ]
    },
    {
     "name": "stdout",
     "output_type": "stream",
     "text": [
      "LBFGS:   58 18:45:47     -381.068499        0.016985\n"
     ]
    },
    {
     "name": "stderr",
     "output_type": "stream",
     "text": [
      "/home/atshaam/miniconda3/envs/proj_env/lib/python3.11/site-packages/scipy/_lib/_util.py:1233: RuntimeWarning: logm result may be inaccurate, approximate err = 4.847224563553764e-13\n",
      "  return f(*arrays, *other_args, **kwargs)\n"
     ]
    },
    {
     "name": "stdout",
     "output_type": "stream",
     "text": [
      "LBFGS:   59 18:45:48     -381.068613        0.015848\n"
     ]
    },
    {
     "name": "stderr",
     "output_type": "stream",
     "text": [
      "/home/atshaam/miniconda3/envs/proj_env/lib/python3.11/site-packages/scipy/_lib/_util.py:1233: RuntimeWarning: logm result may be inaccurate, approximate err = 4.827164029948909e-13\n",
      "  return f(*arrays, *other_args, **kwargs)\n"
     ]
    },
    {
     "name": "stdout",
     "output_type": "stream",
     "text": [
      "LBFGS:   60 18:45:48     -381.068701        0.010539\n"
     ]
    },
    {
     "name": "stderr",
     "output_type": "stream",
     "text": [
      "/home/atshaam/miniconda3/envs/proj_env/lib/python3.11/site-packages/scipy/_lib/_util.py:1233: RuntimeWarning: logm result may be inaccurate, approximate err = 4.828940091294736e-13\n",
      "  return f(*arrays, *other_args, **kwargs)\n"
     ]
    },
    {
     "name": "stdout",
     "output_type": "stream",
     "text": [
      "LBFGS:   61 18:45:49     -381.068770        0.010330\n"
     ]
    },
    {
     "name": "stderr",
     "output_type": "stream",
     "text": [
      "/home/atshaam/miniconda3/envs/proj_env/lib/python3.11/site-packages/scipy/_lib/_util.py:1233: RuntimeWarning: logm result may be inaccurate, approximate err = 4.849845165638627e-13\n",
      "  return f(*arrays, *other_args, **kwargs)\n"
     ]
    },
    {
     "name": "stdout",
     "output_type": "stream",
     "text": [
      "LBFGS:   62 18:45:50     -381.068835        0.011385\n"
     ]
    },
    {
     "name": "stderr",
     "output_type": "stream",
     "text": [
      "/home/atshaam/miniconda3/envs/proj_env/lib/python3.11/site-packages/scipy/_lib/_util.py:1233: RuntimeWarning: logm result may be inaccurate, approximate err = 4.842050984208882e-13\n",
      "  return f(*arrays, *other_args, **kwargs)\n"
     ]
    },
    {
     "name": "stdout",
     "output_type": "stream",
     "text": [
      "LBFGS:   63 18:45:50     -381.068930        0.015038\n"
     ]
    },
    {
     "name": "stderr",
     "output_type": "stream",
     "text": [
      "/home/atshaam/miniconda3/envs/proj_env/lib/python3.11/site-packages/scipy/_lib/_util.py:1233: RuntimeWarning: logm result may be inaccurate, approximate err = 4.912579448389551e-13\n",
      "  return f(*arrays, *other_args, **kwargs)\n"
     ]
    },
    {
     "name": "stdout",
     "output_type": "stream",
     "text": [
      "LBFGS:   64 18:45:51     -381.069064        0.018372\n"
     ]
    },
    {
     "name": "stderr",
     "output_type": "stream",
     "text": [
      "/home/atshaam/miniconda3/envs/proj_env/lib/python3.11/site-packages/scipy/_lib/_util.py:1233: RuntimeWarning: logm result may be inaccurate, approximate err = 4.840685693922731e-13\n",
      "  return f(*arrays, *other_args, **kwargs)\n"
     ]
    },
    {
     "name": "stdout",
     "output_type": "stream",
     "text": [
      "LBFGS:   65 18:45:51     -381.069212        0.020819\n"
     ]
    },
    {
     "name": "stderr",
     "output_type": "stream",
     "text": [
      "/home/atshaam/miniconda3/envs/proj_env/lib/python3.11/site-packages/scipy/_lib/_util.py:1233: RuntimeWarning: logm result may be inaccurate, approximate err = 4.962558099295188e-13\n",
      "  return f(*arrays, *other_args, **kwargs)\n"
     ]
    },
    {
     "name": "stdout",
     "output_type": "stream",
     "text": [
      "LBFGS:   66 18:45:52     -381.069331        0.015819\n"
     ]
    },
    {
     "name": "stderr",
     "output_type": "stream",
     "text": [
      "/home/atshaam/miniconda3/envs/proj_env/lib/python3.11/site-packages/scipy/_lib/_util.py:1233: RuntimeWarning: logm result may be inaccurate, approximate err = 4.909169669708913e-13\n",
      "  return f(*arrays, *other_args, **kwargs)\n"
     ]
    },
    {
     "name": "stdout",
     "output_type": "stream",
     "text": [
      "LBFGS:   67 18:45:52     -381.069399        0.011643\n"
     ]
    },
    {
     "name": "stderr",
     "output_type": "stream",
     "text": [
      "/home/atshaam/miniconda3/envs/proj_env/lib/python3.11/site-packages/scipy/_lib/_util.py:1233: RuntimeWarning: logm result may be inaccurate, approximate err = 4.891754898497012e-13\n",
      "  return f(*arrays, *other_args, **kwargs)\n"
     ]
    },
    {
     "name": "stdout",
     "output_type": "stream",
     "text": [
      "LBFGS:   68 18:45:53     -381.069456        0.007569\n"
     ]
    },
    {
     "name": "stderr",
     "output_type": "stream",
     "text": [
      "/tmp/ipykernel_325/1103831978.py:11: FutureWarning: Please use len(self) or, if your atoms are distributed, self.get_global_number_of_atoms.\n",
      "  energy_per_atom = energy / atoms.get_number_of_atoms()\n"
     ]
    },
    {
     "name": "stdout",
     "output_type": "stream",
     "text": [
      "       Step     Time          Energy          fmax\n",
      "LBFGS:    0 18:45:53      -26.444063        0.385959\n",
      "LBFGS:    1 18:45:54      -26.451408        0.316382\n",
      "LBFGS:    2 18:45:54      -26.463084        0.203199\n",
      "LBFGS:    3 18:45:54      -26.465172        0.219256\n",
      "LBFGS:    4 18:45:55      -26.470320        0.130670\n",
      "LBFGS:    5 18:45:55      -26.471066        0.041673\n",
      "LBFGS:    6 18:45:56      -26.471208        0.043587\n",
      "LBFGS:    7 18:45:56      -26.471283        0.045533\n",
      "LBFGS:    8 18:45:56      -26.471447        0.040158\n",
      "LBFGS:    9 18:45:57      -26.471587        0.030718\n",
      "LBFGS:   10 18:45:57      -26.471654        0.012509\n",
      "LBFGS:   11 18:45:57      -26.471662        0.001890\n",
      "       Step     Time          Energy          fmax\n",
      "LBFGS:    0 18:45:58      -35.136176        0.418706\n",
      "LBFGS:    1 18:45:58      -35.143677        0.370641\n",
      "LBFGS:    2 18:45:59      -35.164570        0.099606\n",
      "LBFGS:    3 18:45:59      -35.165521        0.092851\n",
      "LBFGS:    4 18:46:00      -35.169802        0.144368\n",
      "LBFGS:    5 18:46:00      -35.171764        0.139597\n",
      "LBFGS:    6 18:46:00      -35.173039        0.094890\n",
      "LBFGS:    7 18:46:01      -35.173706        0.090848\n",
      "LBFGS:    8 18:46:01      -35.174486        0.122179\n",
      "LBFGS:    9 18:46:02      -35.175404        0.141383\n",
      "LBFGS:   10 18:46:02      -35.176790        0.148434\n",
      "LBFGS:   11 18:46:03      -35.178542        0.136828\n",
      "LBFGS:   12 18:46:03      -35.180455        0.129915\n",
      "LBFGS:   13 18:46:03      -35.182440        0.170942\n",
      "LBFGS:   14 18:46:04      -35.184987        0.179328\n",
      "LBFGS:   15 18:46:04      -35.188715        0.241343\n",
      "LBFGS:   16 18:46:05      -35.193343        0.244463\n",
      "LBFGS:   17 18:46:05      -35.196825        0.123393\n",
      "LBFGS:   18 18:46:06      -35.197557        0.060659\n",
      "LBFGS:   19 18:46:06      -35.197711        0.051369\n",
      "LBFGS:   20 18:46:06      -35.197822        0.048302\n",
      "LBFGS:   21 18:46:07      -35.198084        0.053114\n",
      "LBFGS:   22 18:46:07      -35.198441        0.046261\n",
      "LBFGS:   23 18:46:08      -35.198712        0.024565\n",
      "LBFGS:   24 18:46:08      -35.198829        0.010767\n",
      "LBFGS:   25 18:46:08      -35.198843        0.001291\n",
      "       Step     Time          Energy          fmax\n",
      "LBFGS:    0 18:46:09     -158.581014        0.348285\n",
      "LBFGS:    1 18:46:09     -158.586762        0.339000\n",
      "LBFGS:    2 18:46:10     -158.683823        0.121182\n",
      "LBFGS:    3 18:46:10     -158.685681        0.108184\n",
      "LBFGS:    4 18:46:11     -158.690366        0.047784\n",
      "LBFGS:    5 18:46:11     -158.691068        0.039658\n",
      "LBFGS:    6 18:46:11     -158.691464        0.038733\n",
      "LBFGS:    7 18:46:12     -158.691819        0.043142\n",
      "LBFGS:    8 18:46:12     -158.692242        0.043686\n",
      "LBFGS:    9 18:46:13     -158.692586        0.039242\n",
      "LBFGS:   10 18:46:13     -158.692967        0.031790\n",
      "LBFGS:   11 18:46:14     -158.693494        0.043167\n",
      "LBFGS:   12 18:46:14     -158.694257        0.048815\n",
      "LBFGS:   13 18:46:14     -158.694959        0.039647\n",
      "LBFGS:   14 18:46:15     -158.695351        0.023077\n",
      "LBFGS:   15 18:46:15     -158.695504        0.019287\n",
      "LBFGS:   16 18:46:16     -158.695580        0.017765\n",
      "LBFGS:   17 18:46:16     -158.695672        0.017732\n",
      "LBFGS:   18 18:46:17     -158.695760        0.016980\n",
      "LBFGS:   19 18:46:17     -158.695855        0.018585\n",
      "LBFGS:   20 18:46:17     -158.695943        0.015905\n",
      "LBFGS:   21 18:46:18     -158.696004        0.013013\n",
      "LBFGS:   22 18:46:18     -158.696030        0.010129\n",
      "LBFGS:   23 18:46:19     -158.696057        0.009253\n",
      "       Step     Time          Energy          fmax\n",
      "LBFGS:    0 18:46:19      -44.921280        1.227525\n",
      "LBFGS:    1 18:46:20      -44.961409        1.102445\n",
      "LBFGS:    2 18:46:20      -45.041426        0.690927\n",
      "LBFGS:    3 18:46:20      -45.076885        0.588711\n",
      "LBFGS:    4 18:46:21      -45.112316        0.402380\n",
      "LBFGS:    5 18:46:21      -45.130456        0.484889\n",
      "LBFGS:    6 18:46:22      -45.145760        0.541375\n",
      "LBFGS:    7 18:46:22      -45.168579        0.571365\n",
      "LBFGS:    8 18:46:22      -45.196536        0.715642\n",
      "LBFGS:    9 18:46:23      -45.237595        0.789565\n",
      "LBFGS:   10 18:46:23      -45.271456        0.436461\n",
      "LBFGS:   11 18:46:24      -45.280153        0.247021\n",
      "LBFGS:   12 18:46:24      -45.285722        0.220194\n",
      "LBFGS:   13 18:46:25      -45.288692        0.167068\n",
      "LBFGS:   14 18:46:25      -45.290940        0.144176\n",
      "LBFGS:   15 18:46:25      -45.292824        0.130184\n",
      "LBFGS:   16 18:46:26      -45.294415        0.134728\n",
      "LBFGS:   17 18:46:26      -45.295079        0.064149\n",
      "LBFGS:   18 18:46:27      -45.295194        0.011759\n",
      "LBFGS:   19 18:46:27      -45.295201        0.001203\n",
      "       Step     Time          Energy          fmax\n",
      "LBFGS:    0 18:46:28     -311.060556        0.015607\n"
     ]
    },
    {
     "name": "stderr",
     "output_type": "stream",
     "text": [
      "/home/atshaam/miniconda3/envs/proj_env/lib/python3.11/site-packages/scipy/_lib/_util.py:1233: RuntimeWarning: logm result may be inaccurate, approximate err = 3.284645283036464e-13\n",
      "  return f(*arrays, *other_args, **kwargs)\n"
     ]
    },
    {
     "name": "stdout",
     "output_type": "stream",
     "text": [
      "LBFGS:    1 18:46:28     -311.060609        0.014720\n"
     ]
    },
    {
     "name": "stderr",
     "output_type": "stream",
     "text": [
      "/home/atshaam/miniconda3/envs/proj_env/lib/python3.11/site-packages/scipy/_lib/_util.py:1233: RuntimeWarning: logm result may be inaccurate, approximate err = 3.3695646736856616e-13\n",
      "  return f(*arrays, *other_args, **kwargs)\n"
     ]
    },
    {
     "name": "stdout",
     "output_type": "stream",
     "text": [
      "LBFGS:    2 18:46:29     -311.060663        0.013447\n"
     ]
    },
    {
     "name": "stderr",
     "output_type": "stream",
     "text": [
      "/home/atshaam/miniconda3/envs/proj_env/lib/python3.11/site-packages/scipy/_lib/_util.py:1233: RuntimeWarning: logm result may be inaccurate, approximate err = 3.336290033691264e-13\n",
      "  return f(*arrays, *other_args, **kwargs)\n"
     ]
    },
    {
     "name": "stdout",
     "output_type": "stream",
     "text": [
      "LBFGS:    3 18:46:29     -311.060697        0.012410\n"
     ]
    },
    {
     "name": "stderr",
     "output_type": "stream",
     "text": [
      "/home/atshaam/miniconda3/envs/proj_env/lib/python3.11/site-packages/scipy/_lib/_util.py:1233: RuntimeWarning: logm result may be inaccurate, approximate err = 3.3588149309288854e-13\n",
      "  return f(*arrays, *other_args, **kwargs)\n"
     ]
    },
    {
     "name": "stdout",
     "output_type": "stream",
     "text": [
      "LBFGS:    4 18:46:30     -311.060747        0.011653\n"
     ]
    },
    {
     "name": "stderr",
     "output_type": "stream",
     "text": [
      "/home/atshaam/miniconda3/envs/proj_env/lib/python3.11/site-packages/scipy/_lib/_util.py:1233: RuntimeWarning: logm result may be inaccurate, approximate err = 3.343472700428871e-13\n",
      "  return f(*arrays, *other_args, **kwargs)\n"
     ]
    },
    {
     "name": "stdout",
     "output_type": "stream",
     "text": [
      "LBFGS:    5 18:46:30     -311.060811        0.013980\n"
     ]
    },
    {
     "name": "stderr",
     "output_type": "stream",
     "text": [
      "/home/atshaam/miniconda3/envs/proj_env/lib/python3.11/site-packages/scipy/_lib/_util.py:1233: RuntimeWarning: logm result may be inaccurate, approximate err = 3.3503458703346727e-13\n",
      "  return f(*arrays, *other_args, **kwargs)\n"
     ]
    },
    {
     "name": "stdout",
     "output_type": "stream",
     "text": [
      "LBFGS:    6 18:46:31     -311.060918        0.022598\n"
     ]
    },
    {
     "name": "stderr",
     "output_type": "stream",
     "text": [
      "/home/atshaam/miniconda3/envs/proj_env/lib/python3.11/site-packages/scipy/_lib/_util.py:1233: RuntimeWarning: logm result may be inaccurate, approximate err = 3.3685884731264315e-13\n",
      "  return f(*arrays, *other_args, **kwargs)\n"
     ]
    },
    {
     "name": "stdout",
     "output_type": "stream",
     "text": [
      "LBFGS:    7 18:46:31     -311.061040        0.021831\n"
     ]
    },
    {
     "name": "stderr",
     "output_type": "stream",
     "text": [
      "/home/atshaam/miniconda3/envs/proj_env/lib/python3.11/site-packages/scipy/_lib/_util.py:1233: RuntimeWarning: logm result may be inaccurate, approximate err = 3.3241267299564467e-13\n",
      "  return f(*arrays, *other_args, **kwargs)\n"
     ]
    },
    {
     "name": "stdout",
     "output_type": "stream",
     "text": [
      "LBFGS:    8 18:46:32     -311.061143        0.016625\n"
     ]
    },
    {
     "name": "stderr",
     "output_type": "stream",
     "text": [
      "/home/atshaam/miniconda3/envs/proj_env/lib/python3.11/site-packages/scipy/_lib/_util.py:1233: RuntimeWarning: logm result may be inaccurate, approximate err = 3.3180117396512827e-13\n",
      "  return f(*arrays, *other_args, **kwargs)\n"
     ]
    },
    {
     "name": "stdout",
     "output_type": "stream",
     "text": [
      "LBFGS:    9 18:46:32     -311.061239        0.014255\n"
     ]
    },
    {
     "name": "stderr",
     "output_type": "stream",
     "text": [
      "/home/atshaam/miniconda3/envs/proj_env/lib/python3.11/site-packages/scipy/_lib/_util.py:1233: RuntimeWarning: logm result may be inaccurate, approximate err = 3.3229391197377124e-13\n",
      "  return f(*arrays, *other_args, **kwargs)\n"
     ]
    },
    {
     "name": "stdout",
     "output_type": "stream",
     "text": [
      "LBFGS:   10 18:46:33     -311.061326        0.015071\n"
     ]
    },
    {
     "name": "stderr",
     "output_type": "stream",
     "text": [
      "/home/atshaam/miniconda3/envs/proj_env/lib/python3.11/site-packages/scipy/_lib/_util.py:1233: RuntimeWarning: logm result may be inaccurate, approximate err = 3.3124661199458774e-13\n",
      "  return f(*arrays, *other_args, **kwargs)\n"
     ]
    },
    {
     "name": "stdout",
     "output_type": "stream",
     "text": [
      "LBFGS:   11 18:46:33     -311.061437        0.021148\n"
     ]
    },
    {
     "name": "stderr",
     "output_type": "stream",
     "text": [
      "/home/atshaam/miniconda3/envs/proj_env/lib/python3.11/site-packages/scipy/_lib/_util.py:1233: RuntimeWarning: logm result may be inaccurate, approximate err = 3.3331509098610617e-13\n",
      "  return f(*arrays, *other_args, **kwargs)\n"
     ]
    },
    {
     "name": "stdout",
     "output_type": "stream",
     "text": [
      "LBFGS:   12 18:46:34     -311.061521        0.017844\n"
     ]
    },
    {
     "name": "stderr",
     "output_type": "stream",
     "text": [
      "/home/atshaam/miniconda3/envs/proj_env/lib/python3.11/site-packages/scipy/_lib/_util.py:1233: RuntimeWarning: logm result may be inaccurate, approximate err = 3.3389627103198465e-13\n",
      "  return f(*arrays, *other_args, **kwargs)\n"
     ]
    },
    {
     "name": "stdout",
     "output_type": "stream",
     "text": [
      "LBFGS:   13 18:46:35     -311.061609        0.014213\n"
     ]
    },
    {
     "name": "stderr",
     "output_type": "stream",
     "text": [
      "/home/atshaam/miniconda3/envs/proj_env/lib/python3.11/site-packages/scipy/_lib/_util.py:1233: RuntimeWarning: logm result may be inaccurate, approximate err = 3.3238356106182077e-13\n",
      "  return f(*arrays, *other_args, **kwargs)\n"
     ]
    },
    {
     "name": "stdout",
     "output_type": "stream",
     "text": [
      "LBFGS:   14 18:46:35     -311.061674        0.014648\n"
     ]
    },
    {
     "name": "stderr",
     "output_type": "stream",
     "text": [
      "/home/atshaam/miniconda3/envs/proj_env/lib/python3.11/site-packages/scipy/_lib/_util.py:1233: RuntimeWarning: logm result may be inaccurate, approximate err = 3.334796718499429e-13\n",
      "  return f(*arrays, *other_args, **kwargs)\n"
     ]
    },
    {
     "name": "stdout",
     "output_type": "stream",
     "text": [
      "LBFGS:   15 18:46:36     -311.061750        0.014518\n"
     ]
    },
    {
     "name": "stderr",
     "output_type": "stream",
     "text": [
      "/home/atshaam/miniconda3/envs/proj_env/lib/python3.11/site-packages/scipy/_lib/_util.py:1233: RuntimeWarning: logm result may be inaccurate, approximate err = 3.3670301728243316e-13\n",
      "  return f(*arrays, *other_args, **kwargs)\n"
     ]
    },
    {
     "name": "stdout",
     "output_type": "stream",
     "text": [
      "LBFGS:   16 18:46:36     -311.061822        0.011472\n"
     ]
    },
    {
     "name": "stderr",
     "output_type": "stream",
     "text": [
      "/home/atshaam/miniconda3/envs/proj_env/lib/python3.11/site-packages/scipy/_lib/_util.py:1233: RuntimeWarning: logm result may be inaccurate, approximate err = 3.334679598249399e-13\n",
      "  return f(*arrays, *other_args, **kwargs)\n"
     ]
    },
    {
     "name": "stdout",
     "output_type": "stream",
     "text": [
      "LBFGS:   17 18:46:37     -311.061876        0.011553\n"
     ]
    },
    {
     "name": "stderr",
     "output_type": "stream",
     "text": [
      "/home/atshaam/miniconda3/envs/proj_env/lib/python3.11/site-packages/scipy/_lib/_util.py:1233: RuntimeWarning: logm result may be inaccurate, approximate err = 3.380219791578499e-13\n",
      "  return f(*arrays, *other_args, **kwargs)\n"
     ]
    },
    {
     "name": "stdout",
     "output_type": "stream",
     "text": [
      "LBFGS:   18 18:46:37     -311.061914        0.008957\n",
      "       Step     Time          Energy          fmax\n",
      "LBFGS:    0 18:46:38     -426.244263        0.038023\n"
     ]
    },
    {
     "name": "stderr",
     "output_type": "stream",
     "text": [
      "/home/atshaam/miniconda3/envs/proj_env/lib/python3.11/site-packages/scipy/_lib/_util.py:1233: RuntimeWarning: logm result may be inaccurate, approximate err = 8.206309008500078e-13\n",
      "  return f(*arrays, *other_args, **kwargs)\n"
     ]
    },
    {
     "name": "stdout",
     "output_type": "stream",
     "text": [
      "LBFGS:    1 18:46:38     -426.244587        0.036861\n"
     ]
    },
    {
     "name": "stderr",
     "output_type": "stream",
     "text": [
      "/home/atshaam/miniconda3/envs/proj_env/lib/python3.11/site-packages/scipy/_lib/_util.py:1233: RuntimeWarning: logm result may be inaccurate, approximate err = 8.277064164411457e-13\n",
      "  return f(*arrays, *other_args, **kwargs)\n"
     ]
    },
    {
     "name": "stdout",
     "output_type": "stream",
     "text": [
      "LBFGS:    2 18:46:39     -426.244934        0.036234\n"
     ]
    },
    {
     "name": "stderr",
     "output_type": "stream",
     "text": [
      "/home/atshaam/miniconda3/envs/proj_env/lib/python3.11/site-packages/scipy/_lib/_util.py:1233: RuntimeWarning: logm result may be inaccurate, approximate err = 8.223555177331126e-13\n",
      "  return f(*arrays, *other_args, **kwargs)\n"
     ]
    },
    {
     "name": "stdout",
     "output_type": "stream",
     "text": [
      "LBFGS:    3 18:46:40     -426.245526        0.044657\n"
     ]
    },
    {
     "name": "stderr",
     "output_type": "stream",
     "text": [
      "/home/atshaam/miniconda3/envs/proj_env/lib/python3.11/site-packages/scipy/_lib/_util.py:1233: RuntimeWarning: logm result may be inaccurate, approximate err = 8.30970074721774e-13\n",
      "  return f(*arrays, *other_args, **kwargs)\n"
     ]
    },
    {
     "name": "stdout",
     "output_type": "stream",
     "text": [
      "LBFGS:    4 18:46:40     -426.246525        0.059054\n"
     ]
    },
    {
     "name": "stderr",
     "output_type": "stream",
     "text": [
      "/home/atshaam/miniconda3/envs/proj_env/lib/python3.11/site-packages/scipy/_lib/_util.py:1233: RuntimeWarning: logm result may be inaccurate, approximate err = 8.237535526329543e-13\n",
      "  return f(*arrays, *other_args, **kwargs)\n"
     ]
    },
    {
     "name": "stdout",
     "output_type": "stream",
     "text": [
      "LBFGS:    5 18:46:41     -426.247883        0.051906\n"
     ]
    },
    {
     "name": "stderr",
     "output_type": "stream",
     "text": [
      "/home/atshaam/miniconda3/envs/proj_env/lib/python3.11/site-packages/scipy/_lib/_util.py:1233: RuntimeWarning: logm result may be inaccurate, approximate err = 8.250045641051786e-13\n",
      "  return f(*arrays, *other_args, **kwargs)\n"
     ]
    },
    {
     "name": "stdout",
     "output_type": "stream",
     "text": [
      "LBFGS:    6 18:46:41     -426.249203        0.056169\n"
     ]
    },
    {
     "name": "stderr",
     "output_type": "stream",
     "text": [
      "/home/atshaam/miniconda3/envs/proj_env/lib/python3.11/site-packages/scipy/_lib/_util.py:1233: RuntimeWarning: logm result may be inaccurate, approximate err = 8.238981702124339e-13\n",
      "  return f(*arrays, *other_args, **kwargs)\n"
     ]
    },
    {
     "name": "stdout",
     "output_type": "stream",
     "text": [
      "LBFGS:    7 18:46:42     -426.250019        0.059450\n"
     ]
    },
    {
     "name": "stderr",
     "output_type": "stream",
     "text": [
      "/home/atshaam/miniconda3/envs/proj_env/lib/python3.11/site-packages/scipy/_lib/_util.py:1233: RuntimeWarning: logm result may be inaccurate, approximate err = 8.248139292107507e-13\n",
      "  return f(*arrays, *other_args, **kwargs)\n"
     ]
    },
    {
     "name": "stdout",
     "output_type": "stream",
     "text": [
      "LBFGS:    8 18:46:43     -426.250519        0.059347\n"
     ]
    },
    {
     "name": "stderr",
     "output_type": "stream",
     "text": [
      "/home/atshaam/miniconda3/envs/proj_env/lib/python3.11/site-packages/scipy/_lib/_util.py:1233: RuntimeWarning: logm result may be inaccurate, approximate err = 8.198362598260916e-13\n",
      "  return f(*arrays, *other_args, **kwargs)\n"
     ]
    },
    {
     "name": "stdout",
     "output_type": "stream",
     "text": [
      "LBFGS:    9 18:46:43     -426.251038        0.057334\n"
     ]
    },
    {
     "name": "stderr",
     "output_type": "stream",
     "text": [
      "/home/atshaam/miniconda3/envs/proj_env/lib/python3.11/site-packages/scipy/_lib/_util.py:1233: RuntimeWarning: logm result may be inaccurate, approximate err = 8.257427468614185e-13\n",
      "  return f(*arrays, *other_args, **kwargs)\n"
     ]
    },
    {
     "name": "stdout",
     "output_type": "stream",
     "text": [
      "LBFGS:   10 18:46:44     -426.252064        0.053584\n"
     ]
    },
    {
     "name": "stderr",
     "output_type": "stream",
     "text": [
      "/home/atshaam/miniconda3/envs/proj_env/lib/python3.11/site-packages/scipy/_lib/_util.py:1233: RuntimeWarning: logm result may be inaccurate, approximate err = 8.220871978264477e-13\n",
      "  return f(*arrays, *other_args, **kwargs)\n"
     ]
    },
    {
     "name": "stdout",
     "output_type": "stream",
     "text": [
      "LBFGS:   11 18:46:44     -426.253437        0.084468\n"
     ]
    },
    {
     "name": "stderr",
     "output_type": "stream",
     "text": [
      "/home/atshaam/miniconda3/envs/proj_env/lib/python3.11/site-packages/scipy/_lib/_util.py:1233: RuntimeWarning: logm result may be inaccurate, approximate err = 8.18583774865023e-13\n",
      "  return f(*arrays, *other_args, **kwargs)\n"
     ]
    },
    {
     "name": "stdout",
     "output_type": "stream",
     "text": [
      "LBFGS:   12 18:46:45     -426.255009        0.095150\n"
     ]
    },
    {
     "name": "stderr",
     "output_type": "stream",
     "text": [
      "/home/atshaam/miniconda3/envs/proj_env/lib/python3.11/site-packages/scipy/_lib/_util.py:1233: RuntimeWarning: logm result may be inaccurate, approximate err = 8.236113633688956e-13\n",
      "  return f(*arrays, *other_args, **kwargs)\n"
     ]
    },
    {
     "name": "stdout",
     "output_type": "stream",
     "text": [
      "LBFGS:   13 18:46:46     -426.256318        0.069325\n"
     ]
    },
    {
     "name": "stderr",
     "output_type": "stream",
     "text": [
      "/home/atshaam/miniconda3/envs/proj_env/lib/python3.11/site-packages/scipy/_lib/_util.py:1233: RuntimeWarning: logm result may be inaccurate, approximate err = 8.304788180036287e-13\n",
      "  return f(*arrays, *other_args, **kwargs)\n"
     ]
    },
    {
     "name": "stdout",
     "output_type": "stream",
     "text": [
      "LBFGS:   14 18:46:46     -426.257286        0.049380\n"
     ]
    },
    {
     "name": "stderr",
     "output_type": "stream",
     "text": [
      "/home/atshaam/miniconda3/envs/proj_env/lib/python3.11/site-packages/scipy/_lib/_util.py:1233: RuntimeWarning: logm result may be inaccurate, approximate err = 8.266563630242944e-13\n",
      "  return f(*arrays, *other_args, **kwargs)\n"
     ]
    },
    {
     "name": "stdout",
     "output_type": "stream",
     "text": [
      "LBFGS:   15 18:46:47     -426.258057        0.050125\n"
     ]
    },
    {
     "name": "stderr",
     "output_type": "stream",
     "text": [
      "/home/atshaam/miniconda3/envs/proj_env/lib/python3.11/site-packages/scipy/_lib/_util.py:1233: RuntimeWarning: logm result may be inaccurate, approximate err = 8.207475659035641e-13\n",
      "  return f(*arrays, *other_args, **kwargs)\n"
     ]
    },
    {
     "name": "stdout",
     "output_type": "stream",
     "text": [
      "LBFGS:   16 18:46:48     -426.258927        0.057230\n"
     ]
    },
    {
     "name": "stderr",
     "output_type": "stream",
     "text": [
      "/home/atshaam/miniconda3/envs/proj_env/lib/python3.11/site-packages/scipy/_lib/_util.py:1233: RuntimeWarning: logm result may be inaccurate, approximate err = 8.307046052377463e-13\n",
      "  return f(*arrays, *other_args, **kwargs)\n"
     ]
    },
    {
     "name": "stdout",
     "output_type": "stream",
     "text": [
      "LBFGS:   17 18:46:48     -426.260220        0.086548\n"
     ]
    },
    {
     "name": "stderr",
     "output_type": "stream",
     "text": [
      "/home/atshaam/miniconda3/envs/proj_env/lib/python3.11/site-packages/scipy/_lib/_util.py:1233: RuntimeWarning: logm result may be inaccurate, approximate err = 8.291133744602552e-13\n",
      "  return f(*arrays, *other_args, **kwargs)\n"
     ]
    },
    {
     "name": "stdout",
     "output_type": "stream",
     "text": [
      "LBFGS:   18 18:46:49     -426.262230        0.101612\n"
     ]
    },
    {
     "name": "stderr",
     "output_type": "stream",
     "text": [
      "/home/atshaam/miniconda3/envs/proj_env/lib/python3.11/site-packages/scipy/_lib/_util.py:1233: RuntimeWarning: logm result may be inaccurate, approximate err = 8.274831505177086e-13\n",
      "  return f(*arrays, *other_args, **kwargs)\n"
     ]
    },
    {
     "name": "stdout",
     "output_type": "stream",
     "text": [
      "LBFGS:   19 18:46:49     -426.264973        0.086268\n"
     ]
    },
    {
     "name": "stderr",
     "output_type": "stream",
     "text": [
      "/home/atshaam/miniconda3/envs/proj_env/lib/python3.11/site-packages/scipy/_lib/_util.py:1233: RuntimeWarning: logm result may be inaccurate, approximate err = 8.248369086063915e-13\n",
      "  return f(*arrays, *other_args, **kwargs)\n"
     ]
    },
    {
     "name": "stdout",
     "output_type": "stream",
     "text": [
      "LBFGS:   20 18:46:50     -426.267689        0.067511\n"
     ]
    },
    {
     "name": "stderr",
     "output_type": "stream",
     "text": [
      "/home/atshaam/miniconda3/envs/proj_env/lib/python3.11/site-packages/scipy/_lib/_util.py:1233: RuntimeWarning: logm result may be inaccurate, approximate err = 8.289194574381864e-13\n",
      "  return f(*arrays, *other_args, **kwargs)\n"
     ]
    },
    {
     "name": "stdout",
     "output_type": "stream",
     "text": [
      "LBFGS:   21 18:46:50     -426.269444        0.057645\n"
     ]
    },
    {
     "name": "stderr",
     "output_type": "stream",
     "text": [
      "/home/atshaam/miniconda3/envs/proj_env/lib/python3.11/site-packages/scipy/_lib/_util.py:1233: RuntimeWarning: logm result may be inaccurate, approximate err = 8.333772425878044e-13\n",
      "  return f(*arrays, *other_args, **kwargs)\n"
     ]
    },
    {
     "name": "stdout",
     "output_type": "stream",
     "text": [
      "LBFGS:   22 18:46:51     -426.270440        0.046006\n"
     ]
    },
    {
     "name": "stderr",
     "output_type": "stream",
     "text": [
      "/home/atshaam/miniconda3/envs/proj_env/lib/python3.11/site-packages/scipy/_lib/_util.py:1233: RuntimeWarning: logm result may be inaccurate, approximate err = 8.338466829027073e-13\n",
      "  return f(*arrays, *other_args, **kwargs)\n"
     ]
    },
    {
     "name": "stdout",
     "output_type": "stream",
     "text": [
      "LBFGS:   23 18:46:52     -426.271580        0.046276\n"
     ]
    },
    {
     "name": "stderr",
     "output_type": "stream",
     "text": [
      "/home/atshaam/miniconda3/envs/proj_env/lib/python3.11/site-packages/scipy/_lib/_util.py:1233: RuntimeWarning: logm result may be inaccurate, approximate err = 8.356222257603104e-13\n",
      "  return f(*arrays, *other_args, **kwargs)\n"
     ]
    },
    {
     "name": "stdout",
     "output_type": "stream",
     "text": [
      "LBFGS:   24 18:46:52     -426.273899        0.080722\n"
     ]
    },
    {
     "name": "stderr",
     "output_type": "stream",
     "text": [
      "/home/atshaam/miniconda3/envs/proj_env/lib/python3.11/site-packages/scipy/_lib/_util.py:1233: RuntimeWarning: logm result may be inaccurate, approximate err = 8.356623255004038e-13\n",
      "  return f(*arrays, *other_args, **kwargs)\n"
     ]
    },
    {
     "name": "stdout",
     "output_type": "stream",
     "text": [
      "LBFGS:   25 18:46:53     -426.277672        0.111919\n"
     ]
    },
    {
     "name": "stderr",
     "output_type": "stream",
     "text": [
      "/home/atshaam/miniconda3/envs/proj_env/lib/python3.11/site-packages/scipy/_lib/_util.py:1233: RuntimeWarning: logm result may be inaccurate, approximate err = 8.336225551170311e-13\n",
      "  return f(*arrays, *other_args, **kwargs)\n"
     ]
    },
    {
     "name": "stdout",
     "output_type": "stream",
     "text": [
      "LBFGS:   26 18:46:54     -426.282174        0.114122\n"
     ]
    },
    {
     "name": "stderr",
     "output_type": "stream",
     "text": [
      "/home/atshaam/miniconda3/envs/proj_env/lib/python3.11/site-packages/scipy/_lib/_util.py:1233: RuntimeWarning: logm result may be inaccurate, approximate err = 8.446001263909601e-13\n",
      "  return f(*arrays, *other_args, **kwargs)\n"
     ]
    },
    {
     "name": "stdout",
     "output_type": "stream",
     "text": [
      "LBFGS:   27 18:46:54     -426.285187        0.073736\n"
     ]
    },
    {
     "name": "stderr",
     "output_type": "stream",
     "text": [
      "/home/atshaam/miniconda3/envs/proj_env/lib/python3.11/site-packages/scipy/_lib/_util.py:1233: RuntimeWarning: logm result may be inaccurate, approximate err = 8.425283441147778e-13\n",
      "  return f(*arrays, *other_args, **kwargs)\n"
     ]
    },
    {
     "name": "stdout",
     "output_type": "stream",
     "text": [
      "LBFGS:   28 18:46:55     -426.286419        0.051567\n"
     ]
    },
    {
     "name": "stderr",
     "output_type": "stream",
     "text": [
      "/home/atshaam/miniconda3/envs/proj_env/lib/python3.11/site-packages/scipy/_lib/_util.py:1233: RuntimeWarning: logm result may be inaccurate, approximate err = 8.4353958107522e-13\n",
      "  return f(*arrays, *other_args, **kwargs)\n"
     ]
    },
    {
     "name": "stdout",
     "output_type": "stream",
     "text": [
      "LBFGS:   29 18:46:55     -426.286976        0.043256\n"
     ]
    },
    {
     "name": "stderr",
     "output_type": "stream",
     "text": [
      "/home/atshaam/miniconda3/envs/proj_env/lib/python3.11/site-packages/scipy/_lib/_util.py:1233: RuntimeWarning: logm result may be inaccurate, approximate err = 8.40492542746042e-13\n",
      "  return f(*arrays, *other_args, **kwargs)\n"
     ]
    },
    {
     "name": "stdout",
     "output_type": "stream",
     "text": [
      "LBFGS:   30 18:46:56     -426.287560        0.043243\n"
     ]
    },
    {
     "name": "stderr",
     "output_type": "stream",
     "text": [
      "/home/atshaam/miniconda3/envs/proj_env/lib/python3.11/site-packages/scipy/_lib/_util.py:1233: RuntimeWarning: logm result may be inaccurate, approximate err = 8.423524194370196e-13\n",
      "  return f(*arrays, *other_args, **kwargs)\n"
     ]
    },
    {
     "name": "stdout",
     "output_type": "stream",
     "text": [
      "LBFGS:   31 18:46:57     -426.288472        0.050683\n"
     ]
    },
    {
     "name": "stderr",
     "output_type": "stream",
     "text": [
      "/home/atshaam/miniconda3/envs/proj_env/lib/python3.11/site-packages/scipy/_lib/_util.py:1233: RuntimeWarning: logm result may be inaccurate, approximate err = 8.420487957828834e-13\n",
      "  return f(*arrays, *other_args, **kwargs)\n"
     ]
    },
    {
     "name": "stdout",
     "output_type": "stream",
     "text": [
      "LBFGS:   32 18:46:57     -426.289433        0.041383\n"
     ]
    },
    {
     "name": "stderr",
     "output_type": "stream",
     "text": [
      "/home/atshaam/miniconda3/envs/proj_env/lib/python3.11/site-packages/scipy/_lib/_util.py:1233: RuntimeWarning: logm result may be inaccurate, approximate err = 8.453805937850511e-13\n",
      "  return f(*arrays, *other_args, **kwargs)\n"
     ]
    },
    {
     "name": "stdout",
     "output_type": "stream",
     "text": [
      "LBFGS:   33 18:46:58     -426.290177        0.033784\n"
     ]
    },
    {
     "name": "stderr",
     "output_type": "stream",
     "text": [
      "/home/atshaam/miniconda3/envs/proj_env/lib/python3.11/site-packages/scipy/_lib/_util.py:1233: RuntimeWarning: logm result may be inaccurate, approximate err = 8.38455778807908e-13\n",
      "  return f(*arrays, *other_args, **kwargs)\n"
     ]
    },
    {
     "name": "stdout",
     "output_type": "stream",
     "text": [
      "LBFGS:   34 18:46:58     -426.290497        0.023805\n"
     ]
    },
    {
     "name": "stderr",
     "output_type": "stream",
     "text": [
      "/home/atshaam/miniconda3/envs/proj_env/lib/python3.11/site-packages/scipy/_lib/_util.py:1233: RuntimeWarning: logm result may be inaccurate, approximate err = 8.435027527942586e-13\n",
      "  return f(*arrays, *other_args, **kwargs)\n"
     ]
    },
    {
     "name": "stdout",
     "output_type": "stream",
     "text": [
      "LBFGS:   35 18:46:59     -426.290635        0.017055\n"
     ]
    },
    {
     "name": "stderr",
     "output_type": "stream",
     "text": [
      "/home/atshaam/miniconda3/envs/proj_env/lib/python3.11/site-packages/scipy/_lib/_util.py:1233: RuntimeWarning: logm result may be inaccurate, approximate err = 8.464521760028919e-13\n",
      "  return f(*arrays, *other_args, **kwargs)\n"
     ]
    },
    {
     "name": "stdout",
     "output_type": "stream",
     "text": [
      "LBFGS:   36 18:47:00     -426.290818        0.024421\n"
     ]
    },
    {
     "name": "stderr",
     "output_type": "stream",
     "text": [
      "/home/atshaam/miniconda3/envs/proj_env/lib/python3.11/site-packages/scipy/_lib/_util.py:1233: RuntimeWarning: logm result may be inaccurate, approximate err = 8.513138201540506e-13\n",
      "  return f(*arrays, *other_args, **kwargs)\n"
     ]
    },
    {
     "name": "stdout",
     "output_type": "stream",
     "text": [
      "LBFGS:   37 18:47:00     -426.291180        0.031177\n"
     ]
    },
    {
     "name": "stderr",
     "output_type": "stream",
     "text": [
      "/home/atshaam/miniconda3/envs/proj_env/lib/python3.11/site-packages/scipy/_lib/_util.py:1233: RuntimeWarning: logm result may be inaccurate, approximate err = 8.466814623672314e-13\n",
      "  return f(*arrays, *other_args, **kwargs)\n"
     ]
    },
    {
     "name": "stdout",
     "output_type": "stream",
     "text": [
      "LBFGS:   38 18:47:01     -426.291916        0.042931\n"
     ]
    },
    {
     "name": "stderr",
     "output_type": "stream",
     "text": [
      "/home/atshaam/miniconda3/envs/proj_env/lib/python3.11/site-packages/scipy/_lib/_util.py:1233: RuntimeWarning: logm result may be inaccurate, approximate err = 8.484131910115582e-13\n",
      "  return f(*arrays, *other_args, **kwargs)\n"
     ]
    },
    {
     "name": "stdout",
     "output_type": "stream",
     "text": [
      "LBFGS:   39 18:47:01     -426.293103        0.049129\n"
     ]
    },
    {
     "name": "stderr",
     "output_type": "stream",
     "text": [
      "/home/atshaam/miniconda3/envs/proj_env/lib/python3.11/site-packages/scipy/_lib/_util.py:1233: RuntimeWarning: logm result may be inaccurate, approximate err = 8.455201507028298e-13\n",
      "  return f(*arrays, *other_args, **kwargs)\n"
     ]
    },
    {
     "name": "stdout",
     "output_type": "stream",
     "text": [
      "LBFGS:   40 18:47:02     -426.294220        0.039706\n",
      "LBFGS:   41 18:47:03     -426.294777        0.032765\n",
      "LBFGS:   42 18:47:03     -426.294957        0.020509\n",
      "LBFGS:   43 18:47:04     -426.295105        0.020569\n",
      "LBFGS:   44 18:47:04     -426.295338        0.020203\n",
      "LBFGS:   45 18:47:05     -426.295735        0.048830\n",
      "LBFGS:   46 18:47:06     -426.296204        0.076152\n",
      "LBFGS:   47 18:47:06     -426.296837        0.092154\n",
      "LBFGS:   48 18:47:07     -426.297661        0.087501\n",
      "LBFGS:   49 18:47:07     -426.298577        0.058021\n",
      "LBFGS:   50 18:47:08     -426.299179        0.026926\n",
      "LBFGS:   51 18:47:09     -426.299405        0.023998\n",
      "LBFGS:   52 18:47:09     -426.299504        0.014881\n",
      "LBFGS:   53 18:47:10     -426.299584        0.014899\n",
      "LBFGS:   54 18:47:10     -426.299755        0.019918\n",
      "LBFGS:   55 18:47:11     -426.300034        0.031632\n",
      "LBFGS:   56 18:47:12     -426.300476        0.053123\n",
      "LBFGS:   57 18:47:12     -426.300965        0.063142\n",
      "LBFGS:   58 18:47:13     -426.301358        0.052626\n",
      "LBFGS:   59 18:47:13     -426.301579        0.029823\n",
      "LBFGS:   60 18:47:14     -426.301728        0.022091\n",
      "LBFGS:   61 18:47:15     -426.301857        0.016857\n",
      "LBFGS:   62 18:47:15     -426.301979        0.029076\n",
      "LBFGS:   63 18:47:16     -426.302132        0.037191\n",
      "LBFGS:   64 18:47:16     -426.302395        0.041850\n",
      "LBFGS:   65 18:47:17     -426.302861        0.041565\n",
      "LBFGS:   66 18:47:18     -426.303460        0.038392\n",
      "LBFGS:   67 18:47:18     -426.303879        0.021737\n",
      "LBFGS:   68 18:47:19     -426.304043        0.013703\n",
      "LBFGS:   69 18:47:19     -426.304150        0.016913\n",
      "LBFGS:   70 18:47:20     -426.304333        0.019176\n",
      "LBFGS:   71 18:47:20     -426.304661        0.030561\n",
      "LBFGS:   72 18:47:21     -426.305172        0.041336\n",
      "LBFGS:   73 18:47:22     -426.305794        0.041606\n",
      "LBFGS:   74 18:47:22     -426.306244        0.040776\n",
      "LBFGS:   75 18:47:23     -426.306469        0.025461\n",
      "LBFGS:   76 18:47:23     -426.306618        0.017347\n",
      "LBFGS:   77 18:47:24     -426.306794        0.017058\n",
      "LBFGS:   78 18:47:25     -426.307125        0.051713\n",
      "LBFGS:   79 18:47:25     -426.307667        0.089259\n",
      "LBFGS:   80 18:47:26     -426.308545        0.121110\n",
      "LBFGS:   81 18:47:26     -426.309616        0.119893\n",
      "LBFGS:   82 18:47:27     -426.310513        0.074737\n",
      "LBFGS:   83 18:47:28     -426.310974        0.026365\n",
      "LBFGS:   84 18:47:28     -426.311215        0.020849\n",
      "LBFGS:   85 18:47:29     -426.311402        0.033708\n",
      "LBFGS:   86 18:47:29     -426.311688        0.040045\n",
      "LBFGS:   87 18:47:30     -426.312107        0.036974\n",
      "LBFGS:   88 18:47:31     -426.312767        0.037755\n",
      "LBFGS:   89 18:47:31     -426.313511        0.041677\n",
      "LBFGS:   90 18:47:32     -426.314080        0.030260\n",
      "LBFGS:   91 18:47:32     -426.314453        0.030289\n",
      "LBFGS:   92 18:47:33     -426.314831        0.030294\n",
      "LBFGS:   93 18:47:34     -426.315510        0.042681\n",
      "LBFGS:   94 18:47:34     -426.316586        0.047709\n",
      "LBFGS:   95 18:47:35     -426.317715        0.041575\n",
      "LBFGS:   96 18:47:35     -426.318329        0.021312\n",
      "LBFGS:   97 18:47:36     -426.318554        0.019278\n",
      "LBFGS:   98 18:47:37     -426.318749        0.021565\n",
      "LBFGS:   99 18:47:37     -426.319222        0.031730\n",
      "LBFGS:  100 18:47:38     -426.320084        0.045381\n",
      "LBFGS:  101 18:47:38     -426.321244        0.044273\n",
      "LBFGS:  102 18:47:39     -426.322022        0.025193\n",
      "LBFGS:  103 18:47:39     -426.322281        0.015851\n",
      "LBFGS:  104 18:47:40     -426.322373        0.015608\n",
      "LBFGS:  105 18:47:41     -426.322491        0.014630\n",
      "LBFGS:  106 18:47:41     -426.322709        0.018210\n",
      "LBFGS:  107 18:47:42     -426.323117        0.034638\n",
      "LBFGS:  108 18:47:42     -426.323677        0.053239\n",
      "LBFGS:  109 18:47:43     -426.324086        0.054069\n",
      "LBFGS:  110 18:47:44     -426.324299        0.038431\n",
      "LBFGS:  111 18:47:44     -426.324448        0.017353\n",
      "LBFGS:  112 18:47:45     -426.324570        0.016860\n",
      "LBFGS:  113 18:47:45     -426.324681        0.023444\n",
      "LBFGS:  114 18:47:46     -426.324768        0.029234\n",
      "LBFGS:  115 18:47:47     -426.324871        0.027666\n",
      "LBFGS:  116 18:47:47     -426.325001        0.019116\n",
      "LBFGS:  117 18:47:48     -426.325112        0.013329\n",
      "LBFGS:  118 18:47:48     -426.325177        0.009448\n",
      "       Step     Time          Energy          fmax\n",
      "LBFGS:    0 18:47:49     -212.330062        0.439196\n"
     ]
    },
    {
     "name": "stderr",
     "output_type": "stream",
     "text": [
      "/home/atshaam/miniconda3/envs/proj_env/lib/python3.11/site-packages/scipy/_lib/_util.py:1233: RuntimeWarning: logm result may be inaccurate, approximate err = 3.284645283036463e-13\n",
      "  return f(*arrays, *other_args, **kwargs)\n"
     ]
    },
    {
     "name": "stdout",
     "output_type": "stream",
     "text": [
      "LBFGS:    1 18:47:50     -212.371911        0.214873\n"
     ]
    },
    {
     "name": "stderr",
     "output_type": "stream",
     "text": [
      "/home/atshaam/miniconda3/envs/proj_env/lib/python3.11/site-packages/scipy/_lib/_util.py:1233: RuntimeWarning: logm result may be inaccurate, approximate err = 3.340888259775454e-13\n",
      "  return f(*arrays, *other_args, **kwargs)\n"
     ]
    },
    {
     "name": "stdout",
     "output_type": "stream",
     "text": [
      "LBFGS:    2 18:47:50     -212.386930        0.210037\n"
     ]
    },
    {
     "name": "stderr",
     "output_type": "stream",
     "text": [
      "/home/atshaam/miniconda3/envs/proj_env/lib/python3.11/site-packages/scipy/_lib/_util.py:1233: RuntimeWarning: logm result may be inaccurate, approximate err = 3.3381622969462325e-13\n",
      "  return f(*arrays, *other_args, **kwargs)\n"
     ]
    },
    {
     "name": "stdout",
     "output_type": "stream",
     "text": [
      "LBFGS:    3 18:47:51     -212.406667        0.094754\n"
     ]
    },
    {
     "name": "stderr",
     "output_type": "stream",
     "text": [
      "/home/atshaam/miniconda3/envs/proj_env/lib/python3.11/site-packages/scipy/_lib/_util.py:1233: RuntimeWarning: logm result may be inaccurate, approximate err = 3.3418297574147043e-13\n",
      "  return f(*arrays, *other_args, **kwargs)\n"
     ]
    },
    {
     "name": "stdout",
     "output_type": "stream",
     "text": [
      "LBFGS:    4 18:47:51     -212.409595        0.091127\n"
     ]
    },
    {
     "name": "stderr",
     "output_type": "stream",
     "text": [
      "/home/atshaam/miniconda3/envs/proj_env/lib/python3.11/site-packages/scipy/_lib/_util.py:1233: RuntimeWarning: logm result may be inaccurate, approximate err = 3.3870578897981124e-13\n",
      "  return f(*arrays, *other_args, **kwargs)\n"
     ]
    },
    {
     "name": "stdout",
     "output_type": "stream",
     "text": [
      "LBFGS:    5 18:47:52     -212.416517        0.092528\n"
     ]
    },
    {
     "name": "stderr",
     "output_type": "stream",
     "text": [
      "/home/atshaam/miniconda3/envs/proj_env/lib/python3.11/site-packages/scipy/_lib/_util.py:1233: RuntimeWarning: logm result may be inaccurate, approximate err = 3.410629633932824e-13\n",
      "  return f(*arrays, *other_args, **kwargs)\n"
     ]
    },
    {
     "name": "stdout",
     "output_type": "stream",
     "text": [
      "LBFGS:    6 18:47:53     -212.421113        0.103741\n"
     ]
    },
    {
     "name": "stderr",
     "output_type": "stream",
     "text": [
      "/home/atshaam/miniconda3/envs/proj_env/lib/python3.11/site-packages/scipy/_lib/_util.py:1233: RuntimeWarning: logm result may be inaccurate, approximate err = 3.332072990936096e-13\n",
      "  return f(*arrays, *other_args, **kwargs)\n"
     ]
    },
    {
     "name": "stdout",
     "output_type": "stream",
     "text": [
      "LBFGS:    7 18:47:53     -212.423664        0.079783\n"
     ]
    },
    {
     "name": "stderr",
     "output_type": "stream",
     "text": [
      "/home/atshaam/miniconda3/envs/proj_env/lib/python3.11/site-packages/scipy/_lib/_util.py:1233: RuntimeWarning: logm result may be inaccurate, approximate err = 3.374068910234955e-13\n",
      "  return f(*arrays, *other_args, **kwargs)\n"
     ]
    },
    {
     "name": "stdout",
     "output_type": "stream",
     "text": [
      "LBFGS:    8 18:47:54     -212.424468        0.078489\n"
     ]
    },
    {
     "name": "stderr",
     "output_type": "stream",
     "text": [
      "/home/atshaam/miniconda3/envs/proj_env/lib/python3.11/site-packages/scipy/_lib/_util.py:1233: RuntimeWarning: logm result may be inaccurate, approximate err = 3.3707245228529283e-13\n",
      "  return f(*arrays, *other_args, **kwargs)\n"
     ]
    },
    {
     "name": "stdout",
     "output_type": "stream",
     "text": [
      "LBFGS:    9 18:47:54     -212.425348        0.077266\n"
     ]
    },
    {
     "name": "stderr",
     "output_type": "stream",
     "text": [
      "/home/atshaam/miniconda3/envs/proj_env/lib/python3.11/site-packages/scipy/_lib/_util.py:1233: RuntimeWarning: logm result may be inaccurate, approximate err = 3.3290594696850773e-13\n",
      "  return f(*arrays, *other_args, **kwargs)\n"
     ]
    },
    {
     "name": "stdout",
     "output_type": "stream",
     "text": [
      "LBFGS:   10 18:47:55     -212.427322        0.085479\n"
     ]
    },
    {
     "name": "stderr",
     "output_type": "stream",
     "text": [
      "/home/atshaam/miniconda3/envs/proj_env/lib/python3.11/site-packages/scipy/_lib/_util.py:1233: RuntimeWarning: logm result may be inaccurate, approximate err = 3.3510663509665753e-13\n",
      "  return f(*arrays, *other_args, **kwargs)\n"
     ]
    },
    {
     "name": "stdout",
     "output_type": "stream",
     "text": [
      "LBFGS:   11 18:47:55     -212.431838        0.159412\n"
     ]
    },
    {
     "name": "stderr",
     "output_type": "stream",
     "text": [
      "/home/atshaam/miniconda3/envs/proj_env/lib/python3.11/site-packages/scipy/_lib/_util.py:1233: RuntimeWarning: logm result may be inaccurate, approximate err = 3.378682294488665e-13\n",
      "  return f(*arrays, *other_args, **kwargs)\n"
     ]
    },
    {
     "name": "stdout",
     "output_type": "stream",
     "text": [
      "LBFGS:   12 18:47:56     -212.440710        0.228948\n"
     ]
    },
    {
     "name": "stderr",
     "output_type": "stream",
     "text": [
      "/home/atshaam/miniconda3/envs/proj_env/lib/python3.11/site-packages/scipy/_lib/_util.py:1233: RuntimeWarning: logm result may be inaccurate, approximate err = 3.3938849007188266e-13\n",
      "  return f(*arrays, *other_args, **kwargs)\n"
     ]
    },
    {
     "name": "stdout",
     "output_type": "stream",
     "text": [
      "LBFGS:   13 18:47:57     -212.453189        0.228756\n"
     ]
    },
    {
     "name": "stderr",
     "output_type": "stream",
     "text": [
      "/home/atshaam/miniconda3/envs/proj_env/lib/python3.11/site-packages/scipy/_lib/_util.py:1233: RuntimeWarning: logm result may be inaccurate, approximate err = 3.4111881492715783e-13\n",
      "  return f(*arrays, *other_args, **kwargs)\n"
     ]
    },
    {
     "name": "stdout",
     "output_type": "stream",
     "text": [
      "LBFGS:   14 18:47:57     -212.462800        0.125434\n"
     ]
    },
    {
     "name": "stderr",
     "output_type": "stream",
     "text": [
      "/home/atshaam/miniconda3/envs/proj_env/lib/python3.11/site-packages/scipy/_lib/_util.py:1233: RuntimeWarning: logm result may be inaccurate, approximate err = 3.399137970544131e-13\n",
      "  return f(*arrays, *other_args, **kwargs)\n"
     ]
    },
    {
     "name": "stdout",
     "output_type": "stream",
     "text": [
      "LBFGS:   15 18:47:58     -212.466567        0.085813\n"
     ]
    },
    {
     "name": "stderr",
     "output_type": "stream",
     "text": [
      "/home/atshaam/miniconda3/envs/proj_env/lib/python3.11/site-packages/scipy/_lib/_util.py:1233: RuntimeWarning: logm result may be inaccurate, approximate err = 3.385111426788794e-13\n",
      "  return f(*arrays, *other_args, **kwargs)\n"
     ]
    },
    {
     "name": "stdout",
     "output_type": "stream",
     "text": [
      "LBFGS:   16 18:47:58     -212.468463        0.077948\n"
     ]
    },
    {
     "name": "stderr",
     "output_type": "stream",
     "text": [
      "/home/atshaam/miniconda3/envs/proj_env/lib/python3.11/site-packages/scipy/_lib/_util.py:1233: RuntimeWarning: logm result may be inaccurate, approximate err = 3.403357765977618e-13\n",
      "  return f(*arrays, *other_args, **kwargs)\n"
     ]
    },
    {
     "name": "stdout",
     "output_type": "stream",
     "text": [
      "LBFGS:   17 18:47:59     -212.470994        0.094702\n"
     ]
    },
    {
     "name": "stderr",
     "output_type": "stream",
     "text": [
      "/home/atshaam/miniconda3/envs/proj_env/lib/python3.11/site-packages/scipy/_lib/_util.py:1233: RuntimeWarning: logm result may be inaccurate, approximate err = 3.4073393677561546e-13\n",
      "  return f(*arrays, *other_args, **kwargs)\n"
     ]
    },
    {
     "name": "stdout",
     "output_type": "stream",
     "text": [
      "LBFGS:   18 18:48:00     -212.474439        0.113460\n"
     ]
    },
    {
     "name": "stderr",
     "output_type": "stream",
     "text": [
      "/home/atshaam/miniconda3/envs/proj_env/lib/python3.11/site-packages/scipy/_lib/_util.py:1233: RuntimeWarning: logm result may be inaccurate, approximate err = 3.3885506536858316e-13\n",
      "  return f(*arrays, *other_args, **kwargs)\n"
     ]
    },
    {
     "name": "stdout",
     "output_type": "stream",
     "text": [
      "LBFGS:   19 18:48:00     -212.477609        0.083321\n"
     ]
    },
    {
     "name": "stderr",
     "output_type": "stream",
     "text": [
      "/home/atshaam/miniconda3/envs/proj_env/lib/python3.11/site-packages/scipy/_lib/_util.py:1233: RuntimeWarning: logm result may be inaccurate, approximate err = 3.388004307293356e-13\n",
      "  return f(*arrays, *other_args, **kwargs)\n"
     ]
    },
    {
     "name": "stdout",
     "output_type": "stream",
     "text": [
      "LBFGS:   20 18:48:01     -212.479070        0.041325\n"
     ]
    },
    {
     "name": "stderr",
     "output_type": "stream",
     "text": [
      "/home/atshaam/miniconda3/envs/proj_env/lib/python3.11/site-packages/scipy/_lib/_util.py:1233: RuntimeWarning: logm result may be inaccurate, approximate err = 3.4180640366695696e-13\n",
      "  return f(*arrays, *other_args, **kwargs)\n"
     ]
    },
    {
     "name": "stdout",
     "output_type": "stream",
     "text": [
      "LBFGS:   21 18:48:01     -212.479560        0.035701\n"
     ]
    },
    {
     "name": "stderr",
     "output_type": "stream",
     "text": [
      "/home/atshaam/miniconda3/envs/proj_env/lib/python3.11/site-packages/scipy/_lib/_util.py:1233: RuntimeWarning: logm result may be inaccurate, approximate err = 3.406687952904353e-13\n",
      "  return f(*arrays, *other_args, **kwargs)\n"
     ]
    },
    {
     "name": "stdout",
     "output_type": "stream",
     "text": [
      "LBFGS:   22 18:48:02     -212.480047        0.043478\n"
     ]
    },
    {
     "name": "stderr",
     "output_type": "stream",
     "text": [
      "/home/atshaam/miniconda3/envs/proj_env/lib/python3.11/site-packages/scipy/_lib/_util.py:1233: RuntimeWarning: logm result may be inaccurate, approximate err = 3.3791879758849326e-13\n",
      "  return f(*arrays, *other_args, **kwargs)\n"
     ]
    },
    {
     "name": "stdout",
     "output_type": "stream",
     "text": [
      "LBFGS:   23 18:48:03     -212.480905        0.055369\n"
     ]
    },
    {
     "name": "stderr",
     "output_type": "stream",
     "text": [
      "/home/atshaam/miniconda3/envs/proj_env/lib/python3.11/site-packages/scipy/_lib/_util.py:1233: RuntimeWarning: logm result may be inaccurate, approximate err = 3.4215889641752747e-13\n",
      "  return f(*arrays, *other_args, **kwargs)\n"
     ]
    },
    {
     "name": "stdout",
     "output_type": "stream",
     "text": [
      "LBFGS:   24 18:48:03     -212.481927        0.051612\n"
     ]
    },
    {
     "name": "stderr",
     "output_type": "stream",
     "text": [
      "/home/atshaam/miniconda3/envs/proj_env/lib/python3.11/site-packages/scipy/_lib/_util.py:1233: RuntimeWarning: logm result may be inaccurate, approximate err = 3.3945084969056434e-13\n",
      "  return f(*arrays, *other_args, **kwargs)\n"
     ]
    },
    {
     "name": "stdout",
     "output_type": "stream",
     "text": [
      "LBFGS:   25 18:48:04     -212.482599        0.026305\n"
     ]
    },
    {
     "name": "stderr",
     "output_type": "stream",
     "text": [
      "/home/atshaam/miniconda3/envs/proj_env/lib/python3.11/site-packages/scipy/_lib/_util.py:1233: RuntimeWarning: logm result may be inaccurate, approximate err = 3.498039328015102e-13\n",
      "  return f(*arrays, *other_args, **kwargs)\n"
     ]
    },
    {
     "name": "stdout",
     "output_type": "stream",
     "text": [
      "LBFGS:   26 18:48:04     -212.482810        0.016534\n"
     ]
    },
    {
     "name": "stderr",
     "output_type": "stream",
     "text": [
      "/home/atshaam/miniconda3/envs/proj_env/lib/python3.11/site-packages/scipy/_lib/_util.py:1233: RuntimeWarning: logm result may be inaccurate, approximate err = 3.4133357781926605e-13\n",
      "  return f(*arrays, *other_args, **kwargs)\n"
     ]
    },
    {
     "name": "stdout",
     "output_type": "stream",
     "text": [
      "LBFGS:   27 18:48:05     -212.482896        0.016237\n"
     ]
    },
    {
     "name": "stderr",
     "output_type": "stream",
     "text": [
      "/home/atshaam/miniconda3/envs/proj_env/lib/python3.11/site-packages/scipy/_lib/_util.py:1233: RuntimeWarning: logm result may be inaccurate, approximate err = 3.45718497623853e-13\n",
      "  return f(*arrays, *other_args, **kwargs)\n"
     ]
    },
    {
     "name": "stdout",
     "output_type": "stream",
     "text": [
      "LBFGS:   28 18:48:06     -212.483043        0.018083\n"
     ]
    },
    {
     "name": "stderr",
     "output_type": "stream",
     "text": [
      "/home/atshaam/miniconda3/envs/proj_env/lib/python3.11/site-packages/scipy/_lib/_util.py:1233: RuntimeWarning: logm result may be inaccurate, approximate err = 3.4588166703018653e-13\n",
      "  return f(*arrays, *other_args, **kwargs)\n"
     ]
    },
    {
     "name": "stdout",
     "output_type": "stream",
     "text": [
      "LBFGS:   29 18:48:06     -212.483304        0.027208\n"
     ]
    },
    {
     "name": "stderr",
     "output_type": "stream",
     "text": [
      "/home/atshaam/miniconda3/envs/proj_env/lib/python3.11/site-packages/scipy/_lib/_util.py:1233: RuntimeWarning: logm result may be inaccurate, approximate err = 3.4268667989538055e-13\n",
      "  return f(*arrays, *other_args, **kwargs)\n"
     ]
    },
    {
     "name": "stdout",
     "output_type": "stream",
     "text": [
      "LBFGS:   30 18:48:07     -212.483638        0.027705\n"
     ]
    },
    {
     "name": "stderr",
     "output_type": "stream",
     "text": [
      "/home/atshaam/miniconda3/envs/proj_env/lib/python3.11/site-packages/scipy/_lib/_util.py:1233: RuntimeWarning: logm result may be inaccurate, approximate err = 3.47056647587331e-13\n",
      "  return f(*arrays, *other_args, **kwargs)\n"
     ]
    },
    {
     "name": "stdout",
     "output_type": "stream",
     "text": [
      "LBFGS:   31 18:48:07     -212.483905        0.020504\n"
     ]
    },
    {
     "name": "stderr",
     "output_type": "stream",
     "text": [
      "/home/atshaam/miniconda3/envs/proj_env/lib/python3.11/site-packages/scipy/_lib/_util.py:1233: RuntimeWarning: logm result may be inaccurate, approximate err = 3.4350380745426423e-13\n",
      "  return f(*arrays, *other_args, **kwargs)\n"
     ]
    },
    {
     "name": "stdout",
     "output_type": "stream",
     "text": [
      "LBFGS:   32 18:48:08     -212.484052        0.016695\n"
     ]
    },
    {
     "name": "stderr",
     "output_type": "stream",
     "text": [
      "/home/atshaam/miniconda3/envs/proj_env/lib/python3.11/site-packages/scipy/_lib/_util.py:1233: RuntimeWarning: logm result may be inaccurate, approximate err = 3.4776921792447874e-13\n",
      "  return f(*arrays, *other_args, **kwargs)\n"
     ]
    },
    {
     "name": "stdout",
     "output_type": "stream",
     "text": [
      "LBFGS:   33 18:48:09     -212.484161        0.014612\n"
     ]
    },
    {
     "name": "stderr",
     "output_type": "stream",
     "text": [
      "/home/atshaam/miniconda3/envs/proj_env/lib/python3.11/site-packages/scipy/_lib/_util.py:1233: RuntimeWarning: logm result may be inaccurate, approximate err = 3.445579048161513e-13\n",
      "  return f(*arrays, *other_args, **kwargs)\n"
     ]
    },
    {
     "name": "stdout",
     "output_type": "stream",
     "text": [
      "LBFGS:   34 18:48:09     -212.484264        0.014745\n"
     ]
    },
    {
     "name": "stderr",
     "output_type": "stream",
     "text": [
      "/home/atshaam/miniconda3/envs/proj_env/lib/python3.11/site-packages/scipy/_lib/_util.py:1233: RuntimeWarning: logm result may be inaccurate, approximate err = 3.4523127325011614e-13\n",
      "  return f(*arrays, *other_args, **kwargs)\n"
     ]
    },
    {
     "name": "stdout",
     "output_type": "stream",
     "text": [
      "LBFGS:   35 18:48:10     -212.484380        0.014641\n"
     ]
    },
    {
     "name": "stderr",
     "output_type": "stream",
     "text": [
      "/home/atshaam/miniconda3/envs/proj_env/lib/python3.11/site-packages/scipy/_lib/_util.py:1233: RuntimeWarning: logm result may be inaccurate, approximate err = 3.401001814958525e-13\n",
      "  return f(*arrays, *other_args, **kwargs)\n"
     ]
    },
    {
     "name": "stdout",
     "output_type": "stream",
     "text": [
      "LBFGS:   36 18:48:10     -212.484495        0.018270\n"
     ]
    },
    {
     "name": "stderr",
     "output_type": "stream",
     "text": [
      "/home/atshaam/miniconda3/envs/proj_env/lib/python3.11/site-packages/scipy/_lib/_util.py:1233: RuntimeWarning: logm result may be inaccurate, approximate err = 3.4002664637476025e-13\n",
      "  return f(*arrays, *other_args, **kwargs)\n"
     ]
    },
    {
     "name": "stdout",
     "output_type": "stream",
     "text": [
      "LBFGS:   37 18:48:11     -212.484659        0.022002\n"
     ]
    },
    {
     "name": "stderr",
     "output_type": "stream",
     "text": [
      "/home/atshaam/miniconda3/envs/proj_env/lib/python3.11/site-packages/scipy/_lib/_util.py:1233: RuntimeWarning: logm result may be inaccurate, approximate err = 3.486047012047037e-13\n",
      "  return f(*arrays, *other_args, **kwargs)\n"
     ]
    },
    {
     "name": "stdout",
     "output_type": "stream",
     "text": [
      "LBFGS:   38 18:48:11     -212.484924        0.026346\n"
     ]
    },
    {
     "name": "stderr",
     "output_type": "stream",
     "text": [
      "/home/atshaam/miniconda3/envs/proj_env/lib/python3.11/site-packages/scipy/_lib/_util.py:1233: RuntimeWarning: logm result may be inaccurate, approximate err = 3.4225295574061817e-13\n",
      "  return f(*arrays, *other_args, **kwargs)\n"
     ]
    },
    {
     "name": "stdout",
     "output_type": "stream",
     "text": [
      "LBFGS:   39 18:48:12     -212.485404        0.037064\n"
     ]
    },
    {
     "name": "stderr",
     "output_type": "stream",
     "text": [
      "/home/atshaam/miniconda3/envs/proj_env/lib/python3.11/site-packages/scipy/_lib/_util.py:1233: RuntimeWarning: logm result may be inaccurate, approximate err = 3.404945313728558e-13\n",
      "  return f(*arrays, *other_args, **kwargs)\n"
     ]
    },
    {
     "name": "stdout",
     "output_type": "stream",
     "text": [
      "LBFGS:   40 18:48:13     -212.486042        0.036333\n"
     ]
    },
    {
     "name": "stderr",
     "output_type": "stream",
     "text": [
      "/home/atshaam/miniconda3/envs/proj_env/lib/python3.11/site-packages/scipy/_lib/_util.py:1233: RuntimeWarning: logm result may be inaccurate, approximate err = 3.4048677411194927e-13\n",
      "  return f(*arrays, *other_args, **kwargs)\n"
     ]
    },
    {
     "name": "stdout",
     "output_type": "stream",
     "text": [
      "LBFGS:   41 18:48:14     -212.486515        0.020646\n"
     ]
    },
    {
     "name": "stderr",
     "output_type": "stream",
     "text": [
      "/home/atshaam/miniconda3/envs/proj_env/lib/python3.11/site-packages/scipy/_lib/_util.py:1233: RuntimeWarning: logm result may be inaccurate, approximate err = 3.4517404797843727e-13\n",
      "  return f(*arrays, *other_args, **kwargs)\n"
     ]
    },
    {
     "name": "stdout",
     "output_type": "stream",
     "text": [
      "LBFGS:   42 18:48:14     -212.486740        0.016343\n"
     ]
    },
    {
     "name": "stderr",
     "output_type": "stream",
     "text": [
      "/home/atshaam/miniconda3/envs/proj_env/lib/python3.11/site-packages/scipy/_lib/_util.py:1233: RuntimeWarning: logm result may be inaccurate, approximate err = 3.4608327317414097e-13\n",
      "  return f(*arrays, *other_args, **kwargs)\n"
     ]
    },
    {
     "name": "stdout",
     "output_type": "stream",
     "text": [
      "LBFGS:   43 18:48:15     -212.486888        0.016644\n"
     ]
    },
    {
     "name": "stderr",
     "output_type": "stream",
     "text": [
      "/home/atshaam/miniconda3/envs/proj_env/lib/python3.11/site-packages/scipy/_lib/_util.py:1233: RuntimeWarning: logm result may be inaccurate, approximate err = 3.4334443048194025e-13\n",
      "  return f(*arrays, *other_args, **kwargs)\n"
     ]
    },
    {
     "name": "stdout",
     "output_type": "stream",
     "text": [
      "LBFGS:   44 18:48:15     -212.487133        0.022819\n"
     ]
    },
    {
     "name": "stderr",
     "output_type": "stream",
     "text": [
      "/home/atshaam/miniconda3/envs/proj_env/lib/python3.11/site-packages/scipy/_lib/_util.py:1233: RuntimeWarning: logm result may be inaccurate, approximate err = 3.379741867218906e-13\n",
      "  return f(*arrays, *other_args, **kwargs)\n"
     ]
    },
    {
     "name": "stdout",
     "output_type": "stream",
     "text": [
      "LBFGS:   45 18:48:16     -212.487554        0.031160\n"
     ]
    },
    {
     "name": "stderr",
     "output_type": "stream",
     "text": [
      "/home/atshaam/miniconda3/envs/proj_env/lib/python3.11/site-packages/scipy/_lib/_util.py:1233: RuntimeWarning: logm result may be inaccurate, approximate err = 3.487352488548058e-13\n",
      "  return f(*arrays, *other_args, **kwargs)\n"
     ]
    },
    {
     "name": "stdout",
     "output_type": "stream",
     "text": [
      "LBFGS:   46 18:48:17     -212.488050        0.028432\n"
     ]
    },
    {
     "name": "stderr",
     "output_type": "stream",
     "text": [
      "/home/atshaam/miniconda3/envs/proj_env/lib/python3.11/site-packages/scipy/_lib/_util.py:1233: RuntimeWarning: logm result may be inaccurate, approximate err = 3.492929072593984e-13\n",
      "  return f(*arrays, *other_args, **kwargs)\n"
     ]
    },
    {
     "name": "stdout",
     "output_type": "stream",
     "text": [
      "LBFGS:   47 18:48:17     -212.488330        0.013432\n"
     ]
    },
    {
     "name": "stderr",
     "output_type": "stream",
     "text": [
      "/home/atshaam/miniconda3/envs/proj_env/lib/python3.11/site-packages/scipy/_lib/_util.py:1233: RuntimeWarning: logm result may be inaccurate, approximate err = 3.452287870604598e-13\n",
      "  return f(*arrays, *other_args, **kwargs)\n"
     ]
    },
    {
     "name": "stdout",
     "output_type": "stream",
     "text": [
      "LBFGS:   48 18:48:18     -212.488395        0.012327\n"
     ]
    },
    {
     "name": "stderr",
     "output_type": "stream",
     "text": [
      "/home/atshaam/miniconda3/envs/proj_env/lib/python3.11/site-packages/scipy/_lib/_util.py:1233: RuntimeWarning: logm result may be inaccurate, approximate err = 3.441326255977175e-13\n",
      "  return f(*arrays, *other_args, **kwargs)\n"
     ]
    },
    {
     "name": "stdout",
     "output_type": "stream",
     "text": [
      "LBFGS:   49 18:48:18     -212.488426        0.012267\n"
     ]
    },
    {
     "name": "stderr",
     "output_type": "stream",
     "text": [
      "/home/atshaam/miniconda3/envs/proj_env/lib/python3.11/site-packages/scipy/_lib/_util.py:1233: RuntimeWarning: logm result may be inaccurate, approximate err = 3.457080391168339e-13\n",
      "  return f(*arrays, *other_args, **kwargs)\n"
     ]
    },
    {
     "name": "stdout",
     "output_type": "stream",
     "text": [
      "LBFGS:   50 18:48:19     -212.488471        0.012224\n"
     ]
    },
    {
     "name": "stderr",
     "output_type": "stream",
     "text": [
      "/home/atshaam/miniconda3/envs/proj_env/lib/python3.11/site-packages/scipy/_lib/_util.py:1233: RuntimeWarning: logm result may be inaccurate, approximate err = 3.463851579141166e-13\n",
      "  return f(*arrays, *other_args, **kwargs)\n"
     ]
    },
    {
     "name": "stdout",
     "output_type": "stream",
     "text": [
      "LBFGS:   51 18:48:20     -212.488573        0.014182\n"
     ]
    },
    {
     "name": "stderr",
     "output_type": "stream",
     "text": [
      "/home/atshaam/miniconda3/envs/proj_env/lib/python3.11/site-packages/scipy/_lib/_util.py:1233: RuntimeWarning: logm result may be inaccurate, approximate err = 3.483572313531511e-13\n",
      "  return f(*arrays, *other_args, **kwargs)\n"
     ]
    },
    {
     "name": "stdout",
     "output_type": "stream",
     "text": [
      "LBFGS:   52 18:48:20     -212.488811        0.023986\n"
     ]
    },
    {
     "name": "stderr",
     "output_type": "stream",
     "text": [
      "/home/atshaam/miniconda3/envs/proj_env/lib/python3.11/site-packages/scipy/_lib/_util.py:1233: RuntimeWarning: logm result may be inaccurate, approximate err = 3.479313308713443e-13\n",
      "  return f(*arrays, *other_args, **kwargs)\n"
     ]
    },
    {
     "name": "stdout",
     "output_type": "stream",
     "text": [
      "LBFGS:   53 18:48:21     -212.489299        0.034670\n"
     ]
    },
    {
     "name": "stderr",
     "output_type": "stream",
     "text": [
      "/home/atshaam/miniconda3/envs/proj_env/lib/python3.11/site-packages/scipy/_lib/_util.py:1233: RuntimeWarning: logm result may be inaccurate, approximate err = 3.5161915873352314e-13\n",
      "  return f(*arrays, *other_args, **kwargs)\n"
     ]
    },
    {
     "name": "stdout",
     "output_type": "stream",
     "text": [
      "LBFGS:   54 18:48:21     -212.490089        0.038687\n"
     ]
    },
    {
     "name": "stderr",
     "output_type": "stream",
     "text": [
      "/home/atshaam/miniconda3/envs/proj_env/lib/python3.11/site-packages/scipy/_lib/_util.py:1233: RuntimeWarning: logm result may be inaccurate, approximate err = 3.460910639816149e-13\n",
      "  return f(*arrays, *other_args, **kwargs)\n"
     ]
    },
    {
     "name": "stdout",
     "output_type": "stream",
     "text": [
      "LBFGS:   55 18:48:22     -212.490890        0.029258\n"
     ]
    },
    {
     "name": "stderr",
     "output_type": "stream",
     "text": [
      "/home/atshaam/miniconda3/envs/proj_env/lib/python3.11/site-packages/scipy/_lib/_util.py:1233: RuntimeWarning: logm result may be inaccurate, approximate err = 3.46077723064245e-13\n",
      "  return f(*arrays, *other_args, **kwargs)\n"
     ]
    },
    {
     "name": "stdout",
     "output_type": "stream",
     "text": [
      "LBFGS:   56 18:48:22     -212.491386        0.027804\n"
     ]
    },
    {
     "name": "stderr",
     "output_type": "stream",
     "text": [
      "/home/atshaam/miniconda3/envs/proj_env/lib/python3.11/site-packages/scipy/_lib/_util.py:1233: RuntimeWarning: logm result may be inaccurate, approximate err = 3.49366763512193e-13\n",
      "  return f(*arrays, *other_args, **kwargs)\n"
     ]
    },
    {
     "name": "stdout",
     "output_type": "stream",
     "text": [
      "LBFGS:   57 18:48:23     -212.491737        0.024961\n"
     ]
    },
    {
     "name": "stderr",
     "output_type": "stream",
     "text": [
      "/home/atshaam/miniconda3/envs/proj_env/lib/python3.11/site-packages/scipy/_lib/_util.py:1233: RuntimeWarning: logm result may be inaccurate, approximate err = 3.4696153745412187e-13\n",
      "  return f(*arrays, *other_args, **kwargs)\n"
     ]
    },
    {
     "name": "stdout",
     "output_type": "stream",
     "text": [
      "LBFGS:   58 18:48:24     -212.492259        0.027743\n"
     ]
    },
    {
     "name": "stderr",
     "output_type": "stream",
     "text": [
      "/home/atshaam/miniconda3/envs/proj_env/lib/python3.11/site-packages/scipy/_lib/_util.py:1233: RuntimeWarning: logm result may be inaccurate, approximate err = 3.4980396277623026e-13\n",
      "  return f(*arrays, *other_args, **kwargs)\n"
     ]
    },
    {
     "name": "stdout",
     "output_type": "stream",
     "text": [
      "LBFGS:   59 18:48:24     -212.493324        0.044185\n"
     ]
    },
    {
     "name": "stderr",
     "output_type": "stream",
     "text": [
      "/home/atshaam/miniconda3/envs/proj_env/lib/python3.11/site-packages/scipy/_lib/_util.py:1233: RuntimeWarning: logm result may be inaccurate, approximate err = 3.613927981429447e-13\n",
      "  return f(*arrays, *other_args, **kwargs)\n"
     ]
    },
    {
     "name": "stdout",
     "output_type": "stream",
     "text": [
      "LBFGS:   60 18:48:25     -212.495214        0.060315\n"
     ]
    },
    {
     "name": "stderr",
     "output_type": "stream",
     "text": [
      "/home/atshaam/miniconda3/envs/proj_env/lib/python3.11/site-packages/scipy/_lib/_util.py:1233: RuntimeWarning: logm result may be inaccurate, approximate err = 3.5170107380249816e-13\n",
      "  return f(*arrays, *other_args, **kwargs)\n"
     ]
    },
    {
     "name": "stdout",
     "output_type": "stream",
     "text": [
      "LBFGS:   61 18:48:25     -212.497615        0.075158\n"
     ]
    },
    {
     "name": "stderr",
     "output_type": "stream",
     "text": [
      "/home/atshaam/miniconda3/envs/proj_env/lib/python3.11/site-packages/scipy/_lib/_util.py:1233: RuntimeWarning: logm result may be inaccurate, approximate err = 3.5669432927066685e-13\n",
      "  return f(*arrays, *other_args, **kwargs)\n"
     ]
    },
    {
     "name": "stdout",
     "output_type": "stream",
     "text": [
      "LBFGS:   62 18:48:26     -212.499719        0.066629\n"
     ]
    },
    {
     "name": "stderr",
     "output_type": "stream",
     "text": [
      "/home/atshaam/miniconda3/envs/proj_env/lib/python3.11/site-packages/scipy/_lib/_util.py:1233: RuntimeWarning: logm result may be inaccurate, approximate err = 3.5937147474493353e-13\n",
      "  return f(*arrays, *other_args, **kwargs)\n"
     ]
    },
    {
     "name": "stdout",
     "output_type": "stream",
     "text": [
      "LBFGS:   63 18:48:27     -212.501127        0.060423\n"
     ]
    },
    {
     "name": "stderr",
     "output_type": "stream",
     "text": [
      "/home/atshaam/miniconda3/envs/proj_env/lib/python3.11/site-packages/scipy/_lib/_util.py:1233: RuntimeWarning: logm result may be inaccurate, approximate err = 3.6107048786316614e-13\n",
      "  return f(*arrays, *other_args, **kwargs)\n"
     ]
    },
    {
     "name": "stdout",
     "output_type": "stream",
     "text": [
      "LBFGS:   64 18:48:27     -212.502622        0.054674\n"
     ]
    },
    {
     "name": "stderr",
     "output_type": "stream",
     "text": [
      "/home/atshaam/miniconda3/envs/proj_env/lib/python3.11/site-packages/scipy/_lib/_util.py:1233: RuntimeWarning: logm result may be inaccurate, approximate err = 3.6569460652977305e-13\n",
      "  return f(*arrays, *other_args, **kwargs)\n"
     ]
    },
    {
     "name": "stdout",
     "output_type": "stream",
     "text": [
      "LBFGS:   65 18:48:28     -212.504899        0.072784\n"
     ]
    },
    {
     "name": "stderr",
     "output_type": "stream",
     "text": [
      "/home/atshaam/miniconda3/envs/proj_env/lib/python3.11/site-packages/scipy/_lib/_util.py:1233: RuntimeWarning: logm result may be inaccurate, approximate err = 3.689170730878128e-13\n",
      "  return f(*arrays, *other_args, **kwargs)\n"
     ]
    },
    {
     "name": "stdout",
     "output_type": "stream",
     "text": [
      "LBFGS:   66 18:48:28     -212.507419        0.092812\n"
     ]
    },
    {
     "name": "stderr",
     "output_type": "stream",
     "text": [
      "/home/atshaam/miniconda3/envs/proj_env/lib/python3.11/site-packages/scipy/_lib/_util.py:1233: RuntimeWarning: logm result may be inaccurate, approximate err = 3.785616723448962e-13\n",
      "  return f(*arrays, *other_args, **kwargs)\n"
     ]
    },
    {
     "name": "stdout",
     "output_type": "stream",
     "text": [
      "LBFGS:   67 18:48:29     -212.510126        0.104843\n"
     ]
    },
    {
     "name": "stderr",
     "output_type": "stream",
     "text": [
      "/home/atshaam/miniconda3/envs/proj_env/lib/python3.11/site-packages/scipy/_lib/_util.py:1233: RuntimeWarning: logm result may be inaccurate, approximate err = 3.7860340309375835e-13\n",
      "  return f(*arrays, *other_args, **kwargs)\n"
     ]
    },
    {
     "name": "stdout",
     "output_type": "stream",
     "text": [
      "LBFGS:   68 18:48:30     -212.512651        0.094825\n"
     ]
    },
    {
     "name": "stderr",
     "output_type": "stream",
     "text": [
      "/home/atshaam/miniconda3/envs/proj_env/lib/python3.11/site-packages/scipy/_lib/_util.py:1233: RuntimeWarning: logm result may be inaccurate, approximate err = 3.789458571530029e-13\n",
      "  return f(*arrays, *other_args, **kwargs)\n"
     ]
    },
    {
     "name": "stdout",
     "output_type": "stream",
     "text": [
      "LBFGS:   69 18:48:30     -212.514427        0.074308\n"
     ]
    },
    {
     "name": "stderr",
     "output_type": "stream",
     "text": [
      "/home/atshaam/miniconda3/envs/proj_env/lib/python3.11/site-packages/scipy/_lib/_util.py:1233: RuntimeWarning: logm result may be inaccurate, approximate err = 3.9104000570666974e-13\n",
      "  return f(*arrays, *other_args, **kwargs)\n"
     ]
    },
    {
     "name": "stdout",
     "output_type": "stream",
     "text": [
      "LBFGS:   70 18:48:31     -212.515497        0.043598\n"
     ]
    },
    {
     "name": "stderr",
     "output_type": "stream",
     "text": [
      "/home/atshaam/miniconda3/envs/proj_env/lib/python3.11/site-packages/scipy/_lib/_util.py:1233: RuntimeWarning: logm result may be inaccurate, approximate err = 3.910983079744603e-13\n",
      "  return f(*arrays, *other_args, **kwargs)\n"
     ]
    },
    {
     "name": "stdout",
     "output_type": "stream",
     "text": [
      "LBFGS:   71 18:48:31     -212.515930        0.022778\n"
     ]
    },
    {
     "name": "stderr",
     "output_type": "stream",
     "text": [
      "/home/atshaam/miniconda3/envs/proj_env/lib/python3.11/site-packages/scipy/_lib/_util.py:1233: RuntimeWarning: logm result may be inaccurate, approximate err = 3.9341004733638545e-13\n",
      "  return f(*arrays, *other_args, **kwargs)\n"
     ]
    },
    {
     "name": "stdout",
     "output_type": "stream",
     "text": [
      "LBFGS:   72 18:48:32     -212.516088        0.027455\n"
     ]
    },
    {
     "name": "stderr",
     "output_type": "stream",
     "text": [
      "/home/atshaam/miniconda3/envs/proj_env/lib/python3.11/site-packages/scipy/_lib/_util.py:1233: RuntimeWarning: logm result may be inaccurate, approximate err = 3.929163703481249e-13\n",
      "  return f(*arrays, *other_args, **kwargs)\n"
     ]
    },
    {
     "name": "stdout",
     "output_type": "stream",
     "text": [
      "LBFGS:   73 18:48:33     -212.516191        0.017081\n"
     ]
    },
    {
     "name": "stderr",
     "output_type": "stream",
     "text": [
      "/home/atshaam/miniconda3/envs/proj_env/lib/python3.11/site-packages/scipy/_lib/_util.py:1233: RuntimeWarning: logm result may be inaccurate, approximate err = 3.944379961663486e-13\n",
      "  return f(*arrays, *other_args, **kwargs)\n"
     ]
    },
    {
     "name": "stdout",
     "output_type": "stream",
     "text": [
      "LBFGS:   74 18:48:33     -212.516319        0.011347\n"
     ]
    },
    {
     "name": "stderr",
     "output_type": "stream",
     "text": [
      "/home/atshaam/miniconda3/envs/proj_env/lib/python3.11/site-packages/scipy/_lib/_util.py:1233: RuntimeWarning: logm result may be inaccurate, approximate err = 3.966266652117685e-13\n",
      "  return f(*arrays, *other_args, **kwargs)\n"
     ]
    },
    {
     "name": "stdout",
     "output_type": "stream",
     "text": [
      "LBFGS:   75 18:48:34     -212.516454        0.020833\n"
     ]
    },
    {
     "name": "stderr",
     "output_type": "stream",
     "text": [
      "/home/atshaam/miniconda3/envs/proj_env/lib/python3.11/site-packages/scipy/_lib/_util.py:1233: RuntimeWarning: logm result may be inaccurate, approximate err = 3.9057464756737963e-13\n",
      "  return f(*arrays, *other_args, **kwargs)\n"
     ]
    },
    {
     "name": "stdout",
     "output_type": "stream",
     "text": [
      "LBFGS:   76 18:48:34     -212.516626        0.024431\n"
     ]
    },
    {
     "name": "stderr",
     "output_type": "stream",
     "text": [
      "/home/atshaam/miniconda3/envs/proj_env/lib/python3.11/site-packages/scipy/_lib/_util.py:1233: RuntimeWarning: logm result may be inaccurate, approximate err = 3.9659865163873413e-13\n",
      "  return f(*arrays, *other_args, **kwargs)\n"
     ]
    },
    {
     "name": "stdout",
     "output_type": "stream",
     "text": [
      "LBFGS:   77 18:48:35     -212.516723        0.016817\n"
     ]
    },
    {
     "name": "stderr",
     "output_type": "stream",
     "text": [
      "/home/atshaam/miniconda3/envs/proj_env/lib/python3.11/site-packages/scipy/_lib/_util.py:1233: RuntimeWarning: logm result may be inaccurate, approximate err = 4.008184681358036e-13\n",
      "  return f(*arrays, *other_args, **kwargs)\n"
     ]
    },
    {
     "name": "stdout",
     "output_type": "stream",
     "text": [
      "LBFGS:   78 18:48:36     -212.516769        0.008400\n",
      "       Step     Time          Energy          fmax\n",
      "LBFGS:    0 18:48:37     -972.753270        0.018966\n",
      "LBFGS:    1 18:48:38     -972.753262        0.017997\n",
      "LBFGS:    2 18:48:40     -972.753422        0.016876\n",
      "LBFGS:    3 18:48:41     -972.753430        0.015779\n",
      "LBFGS:    4 18:48:43     -972.753453        0.014867\n",
      "LBFGS:    5 18:48:44     -972.753575        0.013810\n",
      "LBFGS:    6 18:48:45     -972.753788        0.013438\n",
      "LBFGS:    7 18:48:47     -972.753857        0.013858\n",
      "LBFGS:    8 18:48:48     -972.753987        0.014624\n",
      "LBFGS:    9 18:48:49     -972.754170        0.015495\n",
      "LBFGS:   10 18:48:51     -972.754467        0.019245\n",
      "LBFGS:   11 18:48:52     -972.754727        0.016766\n",
      "LBFGS:   12 18:48:54     -972.754887        0.015551\n",
      "LBFGS:   13 18:48:55     -972.755108        0.014605\n",
      "LBFGS:   14 18:48:56     -972.755375        0.017786\n",
      "LBFGS:   15 18:48:58     -972.755780        0.023717\n",
      "LBFGS:   16 18:48:59     -972.756146        0.027876\n",
      "LBFGS:   17 18:49:01     -972.756596        0.023672\n",
      "LBFGS:   18 18:49:02     -972.757038        0.021912\n",
      "LBFGS:   19 18:49:03     -972.757626        0.027032\n",
      "LBFGS:   20 18:49:05     -972.758198        0.027549\n",
      "LBFGS:   21 18:49:06     -972.758602        0.017782\n",
      "LBFGS:   22 18:49:07     -972.758839        0.019188\n",
      "LBFGS:   23 18:49:09     -972.759037        0.015881\n",
      "LBFGS:   24 18:49:10     -972.759213        0.014184\n",
      "LBFGS:   25 18:49:12     -972.759343        0.012332\n",
      "LBFGS:   26 18:49:13     -972.759480        0.016991\n",
      "LBFGS:   27 18:49:14     -972.759655        0.015872\n",
      "LBFGS:   28 18:49:16     -972.759831        0.012871\n",
      "LBFGS:   29 18:49:17     -972.760014        0.012453\n",
      "LBFGS:   30 18:49:18     -972.760060        0.010094\n",
      "LBFGS:   31 18:49:20     -972.760098        0.006950\n",
      "       Step     Time          Energy          fmax\n",
      "LBFGS:    0 18:49:22     -985.375282        0.806301\n",
      "LBFGS:    1 18:49:24     -985.745094        0.382104\n",
      "LBFGS:    2 18:49:26     -985.813156        0.146861\n",
      "LBFGS:    3 18:49:28     -985.830284        0.131636\n",
      "LBFGS:    4 18:49:30     -985.843994        0.125422\n",
      "LBFGS:    5 18:49:33     -985.859718        0.119511\n",
      "LBFGS:    6 18:49:35     -985.871490        0.116558\n",
      "LBFGS:    7 18:49:37     -985.880951        0.115395\n",
      "LBFGS:    8 18:49:39     -985.890259        0.114406\n",
      "LBFGS:    9 18:49:41     -985.898773        0.112637\n",
      "LBFGS:   10 18:49:43     -985.904648        0.110436\n",
      "LBFGS:   11 18:49:45     -985.909309        0.108137\n",
      "LBFGS:   12 18:49:47     -985.915863        0.104919\n",
      "LBFGS:   13 18:49:49     -985.926254        0.116692\n",
      "LBFGS:   14 18:49:51     -985.938438        0.117800\n",
      "LBFGS:   15 18:49:53     -985.947365        0.092873\n",
      "LBFGS:   16 18:49:55     -985.952782        0.092941\n",
      "LBFGS:   17 18:49:57     -985.958183        0.093365\n",
      "LBFGS:   18 18:49:59     -985.967171        0.099931\n",
      "LBFGS:   19 18:50:01     -985.979485        0.124733\n",
      "LBFGS:   20 18:50:03     -985.990486        0.092192\n",
      "LBFGS:   21 18:50:05     -985.997147        0.083305\n",
      "LBFGS:   22 18:50:07     -986.002411        0.081108\n",
      "LBFGS:   23 18:50:09     -986.010010        0.084996\n",
      "LBFGS:   24 18:50:11     -986.021950        0.125603\n",
      "LBFGS:   25 18:50:13     -986.038200        0.136843\n",
      "LBFGS:   26 18:50:15     -986.057434        0.097596\n",
      "LBFGS:   27 18:50:17     -986.080605        0.121926\n",
      "LBFGS:   28 18:50:20     -986.110573        0.177410\n",
      "LBFGS:   29 18:50:22     -986.142830        0.179533\n",
      "LBFGS:   30 18:50:24     -986.173958        0.130176\n",
      "LBFGS:   31 18:50:26     -986.193542        0.101689\n",
      "LBFGS:   32 18:50:28     -986.209061        0.087056\n",
      "LBFGS:   33 18:50:30     -986.228020        0.138506\n",
      "LBFGS:   34 18:50:32     -986.250351        0.148978\n",
      "LBFGS:   35 18:50:34     -986.270843        0.094543\n",
      "LBFGS:   36 18:50:36     -986.285858        0.096891\n",
      "LBFGS:   37 18:50:39     -986.300125        0.087836\n",
      "LBFGS:   38 18:50:41     -986.319504        0.136998\n",
      "LBFGS:   39 18:50:43     -986.342850        0.153372\n",
      "LBFGS:   40 18:50:45     -986.362343        0.103517\n",
      "LBFGS:   41 18:50:47     -986.375496        0.109025\n",
      "LBFGS:   42 18:50:49     -986.387100        0.136661\n",
      "LBFGS:   43 18:50:51     -986.400124        0.114132\n",
      "LBFGS:   44 18:50:53     -986.411888        0.088883\n",
      "LBFGS:   45 18:50:55     -986.419891        0.064107\n",
      "LBFGS:   46 18:50:57     -986.426178        0.092929\n",
      "LBFGS:   47 18:50:59     -986.433350        0.116224\n",
      "LBFGS:   48 18:51:01     -986.441696        0.096168\n",
      "LBFGS:   49 18:51:03     -986.447952        0.057179\n",
      "LBFGS:   50 18:51:05     -986.451614        0.040191\n",
      "LBFGS:   51 18:51:07     -986.454864        0.055019\n",
      "LBFGS:   52 18:51:09     -986.460442        0.084853\n",
      "LBFGS:   53 18:51:12     -986.469543        0.099203\n",
      "LBFGS:   54 18:51:13     -986.479836        0.091690\n",
      "LBFGS:   55 18:51:15     -986.486259        0.048742\n",
      "LBFGS:   56 18:51:17     -986.488968        0.038532\n",
      "LBFGS:   57 18:51:20     -986.491768        0.064903\n",
      "LBFGS:   58 18:51:22     -986.497742        0.095769\n",
      "LBFGS:   59 18:51:23     -986.508804        0.125424\n",
      "LBFGS:   60 18:51:25     -986.524330        0.123661\n",
      "LBFGS:   61 18:51:27     -986.536331        0.076979\n",
      "LBFGS:   62 18:51:29     -986.541534        0.054134\n",
      "LBFGS:   63 18:51:32     -986.544640        0.049557\n",
      "LBFGS:   64 18:51:34     -986.549728        0.066545\n",
      "LBFGS:   65 18:51:36     -986.559135        0.101273\n",
      "LBFGS:   66 18:51:38     -986.571968        0.132519\n",
      "LBFGS:   67 18:51:40     -986.582466        0.112010\n",
      "LBFGS:   68 18:51:42     -986.587448        0.052237\n",
      "LBFGS:   69 18:51:44     -986.589874        0.052620\n",
      "LBFGS:   70 18:51:46     -986.592110        0.044862\n",
      "LBFGS:   71 18:51:48     -986.594849        0.075157\n",
      "LBFGS:   72 18:51:50     -986.597618        0.072936\n",
      "LBFGS:   73 18:51:52     -986.600594        0.061719\n",
      "LBFGS:   74 18:51:54     -986.604385        0.077655\n",
      "LBFGS:   75 18:51:56     -986.609299        0.082299\n",
      "LBFGS:   76 18:51:58     -986.614204        0.110652\n",
      "LBFGS:   77 18:52:00     -986.617424        0.078190\n",
      "LBFGS:   78 18:52:02     -986.619057        0.025606\n",
      "LBFGS:   79 18:52:04     -986.620224        0.030794\n",
      "LBFGS:   80 18:52:06     -986.621559        0.069979\n",
      "LBFGS:   81 18:52:08     -986.623268        0.090058\n",
      "LBFGS:   82 18:52:10     -986.625160        0.071807\n",
      "LBFGS:   83 18:52:12     -986.626778        0.025985\n",
      "LBFGS:   84 18:52:14     -986.627930        0.026172\n",
      "LBFGS:   85 18:52:16     -986.628937        0.054081\n",
      "LBFGS:   86 18:52:18     -986.630058        0.059920\n",
      "LBFGS:   87 18:52:20     -986.631561        0.040664\n",
      "LBFGS:   88 18:52:22     -986.633591        0.041327\n",
      "LBFGS:   89 18:52:24     -986.636086        0.053241\n",
      "LBFGS:   90 18:52:26     -986.638855        0.089032\n",
      "LBFGS:   91 18:52:28     -986.641533        0.087082\n",
      "LBFGS:   92 18:52:30     -986.643394        0.049247\n",
      "LBFGS:   93 18:52:32     -986.644440        0.020058\n",
      "LBFGS:   94 18:52:34     -986.645042        0.017874\n",
      "LBFGS:   95 18:52:36     -986.645538        0.024359\n",
      "LBFGS:   96 18:52:38     -986.646072        0.019933\n",
      "LBFGS:   97 18:52:40     -986.646370        0.010197\n",
      "LBFGS:   98 18:52:42     -986.646530        0.005975\n",
      "       Step     Time          Energy          fmax\n",
      "LBFGS:    0 18:52:42      -74.816225        0.017275\n",
      "LBFGS:    1 18:52:42      -74.816248        0.016485\n",
      "LBFGS:    2 18:52:43      -74.816305        0.011939\n",
      "LBFGS:    3 18:52:43      -74.816315        0.010403\n",
      "LBFGS:    4 18:52:44      -74.816349        0.009225\n",
      "       Step     Time          Energy          fmax\n",
      "LBFGS:    0 18:52:44     -221.124905        0.637965\n",
      "LBFGS:    1 18:52:45     -221.194334        0.391945\n",
      "LBFGS:    2 18:52:45     -221.215239        0.349599\n",
      "LBFGS:    3 18:52:46     -221.261655        0.252033\n",
      "LBFGS:    4 18:52:46     -221.275494        0.237225\n",
      "LBFGS:    5 18:52:47     -221.289271        0.227250\n",
      "LBFGS:    6 18:52:47     -221.307632        0.236524\n",
      "LBFGS:    7 18:52:48     -221.330882        0.254931\n",
      "LBFGS:    8 18:52:48     -221.348550        0.182409\n",
      "LBFGS:    9 18:52:49     -221.358052        0.110598\n",
      "LBFGS:   10 18:52:49     -221.363433        0.125879\n",
      "LBFGS:   11 18:52:50     -221.368726        0.122740\n",
      "LBFGS:   12 18:52:50     -221.376839        0.143527\n",
      "LBFGS:   13 18:52:51     -221.388651        0.204153\n",
      "LBFGS:   14 18:52:51     -221.403164        0.217565\n",
      "LBFGS:   15 18:52:52     -221.415921        0.190582\n",
      "LBFGS:   16 18:52:52     -221.424563        0.134684\n",
      "LBFGS:   17 18:52:53     -221.431553        0.129852\n",
      "LBFGS:   18 18:52:53     -221.439988        0.146653\n",
      "LBFGS:   19 18:52:54     -221.448885        0.145672\n",
      "LBFGS:   20 18:52:54     -221.454051        0.115370\n",
      "LBFGS:   21 18:52:55     -221.456255        0.068473\n",
      "LBFGS:   22 18:52:55     -221.457457        0.057731\n",
      "LBFGS:   23 18:52:56     -221.458778        0.049160\n",
      "LBFGS:   24 18:52:56     -221.460156        0.052255\n",
      "LBFGS:   25 18:52:57     -221.460940        0.044205\n",
      "LBFGS:   26 18:52:57     -221.461412        0.038183\n",
      "LBFGS:   27 18:52:58     -221.461762        0.028790\n",
      "LBFGS:   28 18:52:58     -221.462035        0.021127\n",
      "LBFGS:   29 18:52:59     -221.462202        0.021499\n",
      "LBFGS:   30 18:52:59     -221.462274        0.015793\n",
      "LBFGS:   31 18:53:00     -221.462301        0.009451\n",
      "       Step     Time          Energy          fmax\n",
      "LBFGS:    0 18:53:00     -101.456314        0.590409\n",
      "LBFGS:    1 18:53:00     -101.470948        0.565195\n",
      "LBFGS:    2 18:53:01     -101.642131        0.044214\n",
      "LBFGS:    3 18:53:01     -101.643476        0.020854\n",
      "LBFGS:    4 18:53:02     -101.643509        0.009829\n",
      "       Step     Time          Energy          fmax\n",
      "LBFGS:    0 18:53:02      -99.234384        0.385301\n",
      "LBFGS:    1 18:53:03      -99.244212        0.362214\n",
      "LBFGS:    2 18:53:03      -99.264619        0.278301\n",
      "LBFGS:    3 18:53:03      -99.275457        0.262798\n",
      "LBFGS:    4 18:53:04      -99.305074        0.308157\n",
      "LBFGS:    5 18:53:04      -99.319028        0.185325\n",
      "LBFGS:    6 18:53:05      -99.323060        0.043962\n",
      "LBFGS:    7 18:53:05      -99.323360        0.003413\n",
      "       Step     Time          Energy          fmax\n",
      "LBFGS:    0 18:53:06     -106.180727        0.518403\n",
      "LBFGS:    1 18:53:06     -106.192044        0.496568\n",
      "LBFGS:    2 18:53:06     -106.323612        0.211494\n",
      "LBFGS:    3 18:53:07     -106.329771        0.134684\n",
      "LBFGS:    4 18:53:07     -106.331984        0.027212\n",
      "LBFGS:    5 18:53:08     -106.332091        0.002572\n",
      "       Step     Time          Energy          fmax\n",
      "LBFGS:    0 18:53:08     -494.437000        0.403931\n",
      "LBFGS:    1 18:53:09     -494.464903        0.376207\n"
     ]
    },
    {
     "name": "stderr",
     "output_type": "stream",
     "text": [
      "/home/atshaam/miniconda3/envs/proj_env/lib/python3.11/site-packages/scipy/_lib/_util.py:1233: RuntimeWarning: logm result may be inaccurate, approximate err = 7.957859303381874e-13\n",
      "  return f(*arrays, *other_args, **kwargs)\n"
     ]
    },
    {
     "name": "stdout",
     "output_type": "stream",
     "text": [
      "LBFGS:    2 18:53:10     -494.532548        0.292188\n"
     ]
    },
    {
     "name": "stderr",
     "output_type": "stream",
     "text": [
      "/home/atshaam/miniconda3/envs/proj_env/lib/python3.11/site-packages/scipy/_lib/_util.py:1233: RuntimeWarning: logm result may be inaccurate, approximate err = 7.972360650735581e-13\n",
      "  return f(*arrays, *other_args, **kwargs)\n"
     ]
    },
    {
     "name": "stdout",
     "output_type": "stream",
     "text": [
      "LBFGS:    3 18:53:10     -494.561128        0.260582\n"
     ]
    },
    {
     "name": "stderr",
     "output_type": "stream",
     "text": [
      "/home/atshaam/miniconda3/envs/proj_env/lib/python3.11/site-packages/scipy/_lib/_util.py:1233: RuntimeWarning: logm result may be inaccurate, approximate err = 7.995747421232819e-13\n",
      "  return f(*arrays, *other_args, **kwargs)\n"
     ]
    },
    {
     "name": "stdout",
     "output_type": "stream",
     "text": [
      "LBFGS:    4 18:53:11     -494.583340        0.242833\n"
     ]
    },
    {
     "name": "stderr",
     "output_type": "stream",
     "text": [
      "/home/atshaam/miniconda3/envs/proj_env/lib/python3.11/site-packages/scipy/_lib/_util.py:1233: RuntimeWarning: logm result may be inaccurate, approximate err = 8.096865497776358e-13\n",
      "  return f(*arrays, *other_args, **kwargs)\n"
     ]
    },
    {
     "name": "stdout",
     "output_type": "stream",
     "text": [
      "LBFGS:    5 18:53:12     -494.594341        0.240591\n"
     ]
    },
    {
     "name": "stderr",
     "output_type": "stream",
     "text": [
      "/home/atshaam/miniconda3/envs/proj_env/lib/python3.11/site-packages/scipy/_lib/_util.py:1233: RuntimeWarning: logm result may be inaccurate, approximate err = 8.077135714326861e-13\n",
      "  return f(*arrays, *other_args, **kwargs)\n"
     ]
    },
    {
     "name": "stdout",
     "output_type": "stream",
     "text": [
      "LBFGS:    6 18:53:12     -494.610814        0.235359\n"
     ]
    },
    {
     "name": "stderr",
     "output_type": "stream",
     "text": [
      "/home/atshaam/miniconda3/envs/proj_env/lib/python3.11/site-packages/scipy/_lib/_util.py:1233: RuntimeWarning: logm result may be inaccurate, approximate err = 8.041901180757839e-13\n",
      "  return f(*arrays, *other_args, **kwargs)\n"
     ]
    },
    {
     "name": "stdout",
     "output_type": "stream",
     "text": [
      "LBFGS:    7 18:53:13     -494.633072        0.219403\n"
     ]
    },
    {
     "name": "stderr",
     "output_type": "stream",
     "text": [
      "/home/atshaam/miniconda3/envs/proj_env/lib/python3.11/site-packages/scipy/_lib/_util.py:1233: RuntimeWarning: logm result may be inaccurate, approximate err = 8.055721509955679e-13\n",
      "  return f(*arrays, *other_args, **kwargs)\n"
     ]
    },
    {
     "name": "stdout",
     "output_type": "stream",
     "text": [
      "LBFGS:    8 18:53:14     -494.660258        0.247171\n"
     ]
    },
    {
     "name": "stderr",
     "output_type": "stream",
     "text": [
      "/home/atshaam/miniconda3/envs/proj_env/lib/python3.11/site-packages/scipy/_lib/_util.py:1233: RuntimeWarning: logm result may be inaccurate, approximate err = 8.015939619147318e-13\n",
      "  return f(*arrays, *other_args, **kwargs)\n"
     ]
    },
    {
     "name": "stdout",
     "output_type": "stream",
     "text": [
      "LBFGS:    9 18:53:14     -494.686135        0.287994\n"
     ]
    },
    {
     "name": "stderr",
     "output_type": "stream",
     "text": [
      "/home/atshaam/miniconda3/envs/proj_env/lib/python3.11/site-packages/scipy/_lib/_util.py:1233: RuntimeWarning: logm result may be inaccurate, approximate err = 8.073026208951837e-13\n",
      "  return f(*arrays, *other_args, **kwargs)\n"
     ]
    },
    {
     "name": "stdout",
     "output_type": "stream",
     "text": [
      "LBFGS:   10 18:53:15     -494.710703        0.237049\n"
     ]
    },
    {
     "name": "stderr",
     "output_type": "stream",
     "text": [
      "/home/atshaam/miniconda3/envs/proj_env/lib/python3.11/site-packages/scipy/_lib/_util.py:1233: RuntimeWarning: logm result may be inaccurate, approximate err = 8.135622655230979e-13\n",
      "  return f(*arrays, *other_args, **kwargs)\n"
     ]
    },
    {
     "name": "stdout",
     "output_type": "stream",
     "text": [
      "LBFGS:   11 18:53:16     -494.732069        0.138770\n"
     ]
    },
    {
     "name": "stderr",
     "output_type": "stream",
     "text": [
      "/home/atshaam/miniconda3/envs/proj_env/lib/python3.11/site-packages/scipy/_lib/_util.py:1233: RuntimeWarning: logm result may be inaccurate, approximate err = 8.086154070098785e-13\n",
      "  return f(*arrays, *other_args, **kwargs)\n"
     ]
    },
    {
     "name": "stdout",
     "output_type": "stream",
     "text": [
      "LBFGS:   12 18:53:16     -494.747200        0.110905\n"
     ]
    },
    {
     "name": "stderr",
     "output_type": "stream",
     "text": [
      "/home/atshaam/miniconda3/envs/proj_env/lib/python3.11/site-packages/scipy/_lib/_util.py:1233: RuntimeWarning: logm result may be inaccurate, approximate err = 8.120876790105594e-13\n",
      "  return f(*arrays, *other_args, **kwargs)\n"
     ]
    },
    {
     "name": "stdout",
     "output_type": "stream",
     "text": [
      "LBFGS:   13 18:53:17     -494.757268        0.098552\n"
     ]
    },
    {
     "name": "stderr",
     "output_type": "stream",
     "text": [
      "/home/atshaam/miniconda3/envs/proj_env/lib/python3.11/site-packages/scipy/_lib/_util.py:1233: RuntimeWarning: logm result may be inaccurate, approximate err = 8.130013012824342e-13\n",
      "  return f(*arrays, *other_args, **kwargs)\n"
     ]
    },
    {
     "name": "stdout",
     "output_type": "stream",
     "text": [
      "LBFGS:   14 18:53:18     -494.766645        0.113274\n"
     ]
    },
    {
     "name": "stderr",
     "output_type": "stream",
     "text": [
      "/home/atshaam/miniconda3/envs/proj_env/lib/python3.11/site-packages/scipy/_lib/_util.py:1233: RuntimeWarning: logm result may be inaccurate, approximate err = 8.141229121273043e-13\n",
      "  return f(*arrays, *other_args, **kwargs)\n"
     ]
    },
    {
     "name": "stdout",
     "output_type": "stream",
     "text": [
      "LBFGS:   15 18:53:18     -494.779692        0.151352\n"
     ]
    },
    {
     "name": "stderr",
     "output_type": "stream",
     "text": [
      "/home/atshaam/miniconda3/envs/proj_env/lib/python3.11/site-packages/scipy/_lib/_util.py:1233: RuntimeWarning: logm result may be inaccurate, approximate err = 8.141781462662488e-13\n",
      "  return f(*arrays, *other_args, **kwargs)\n"
     ]
    },
    {
     "name": "stdout",
     "output_type": "stream",
     "text": [
      "LBFGS:   16 18:53:19     -494.796151        0.163109\n"
     ]
    },
    {
     "name": "stderr",
     "output_type": "stream",
     "text": [
      "/home/atshaam/miniconda3/envs/proj_env/lib/python3.11/site-packages/scipy/_lib/_util.py:1233: RuntimeWarning: logm result may be inaccurate, approximate err = 8.185050162312681e-13\n",
      "  return f(*arrays, *other_args, **kwargs)\n"
     ]
    },
    {
     "name": "stdout",
     "output_type": "stream",
     "text": [
      "LBFGS:   17 18:53:19     -494.810468        0.132741\n"
     ]
    },
    {
     "name": "stderr",
     "output_type": "stream",
     "text": [
      "/home/atshaam/miniconda3/envs/proj_env/lib/python3.11/site-packages/scipy/_lib/_util.py:1233: RuntimeWarning: logm result may be inaccurate, approximate err = 8.186670736094663e-13\n",
      "  return f(*arrays, *other_args, **kwargs)\n"
     ]
    },
    {
     "name": "stdout",
     "output_type": "stream",
     "text": [
      "LBFGS:   18 18:53:20     -494.819717        0.107800\n"
     ]
    },
    {
     "name": "stderr",
     "output_type": "stream",
     "text": [
      "/home/atshaam/miniconda3/envs/proj_env/lib/python3.11/site-packages/scipy/_lib/_util.py:1233: RuntimeWarning: logm result may be inaccurate, approximate err = 8.217778475335698e-13\n",
      "  return f(*arrays, *other_args, **kwargs)\n"
     ]
    },
    {
     "name": "stdout",
     "output_type": "stream",
     "text": [
      "LBFGS:   19 18:53:21     -494.827796        0.122089\n"
     ]
    },
    {
     "name": "stderr",
     "output_type": "stream",
     "text": [
      "/home/atshaam/miniconda3/envs/proj_env/lib/python3.11/site-packages/scipy/_lib/_util.py:1233: RuntimeWarning: logm result may be inaccurate, approximate err = 8.127093100444389e-13\n",
      "  return f(*arrays, *other_args, **kwargs)\n"
     ]
    },
    {
     "name": "stdout",
     "output_type": "stream",
     "text": [
      "LBFGS:   20 18:53:21     -494.839110        0.152495\n"
     ]
    },
    {
     "name": "stderr",
     "output_type": "stream",
     "text": [
      "/home/atshaam/miniconda3/envs/proj_env/lib/python3.11/site-packages/scipy/_lib/_util.py:1233: RuntimeWarning: logm result may be inaccurate, approximate err = 8.11728659445102e-13\n",
      "  return f(*arrays, *other_args, **kwargs)\n"
     ]
    },
    {
     "name": "stdout",
     "output_type": "stream",
     "text": [
      "LBFGS:   21 18:53:22     -494.852844        0.152779\n"
     ]
    },
    {
     "name": "stderr",
     "output_type": "stream",
     "text": [
      "/home/atshaam/miniconda3/envs/proj_env/lib/python3.11/site-packages/scipy/_lib/_util.py:1233: RuntimeWarning: logm result may be inaccurate, approximate err = 8.180959193584911e-13\n",
      "  return f(*arrays, *other_args, **kwargs)\n"
     ]
    },
    {
     "name": "stdout",
     "output_type": "stream",
     "text": [
      "LBFGS:   22 18:53:23     -494.863745        0.109095\n"
     ]
    },
    {
     "name": "stderr",
     "output_type": "stream",
     "text": [
      "/home/atshaam/miniconda3/envs/proj_env/lib/python3.11/site-packages/scipy/_lib/_util.py:1233: RuntimeWarning: logm result may be inaccurate, approximate err = 8.237087179867772e-13\n",
      "  return f(*arrays, *other_args, **kwargs)\n"
     ]
    },
    {
     "name": "stdout",
     "output_type": "stream",
     "text": [
      "LBFGS:   23 18:53:23     -494.869413        0.081508\n"
     ]
    },
    {
     "name": "stderr",
     "output_type": "stream",
     "text": [
      "/home/atshaam/miniconda3/envs/proj_env/lib/python3.11/site-packages/scipy/_lib/_util.py:1233: RuntimeWarning: logm result may be inaccurate, approximate err = 8.173958701049337e-13\n",
      "  return f(*arrays, *other_args, **kwargs)\n"
     ]
    },
    {
     "name": "stdout",
     "output_type": "stream",
     "text": [
      "LBFGS:   24 18:53:24     -494.873231        0.083718\n"
     ]
    },
    {
     "name": "stderr",
     "output_type": "stream",
     "text": [
      "/home/atshaam/miniconda3/envs/proj_env/lib/python3.11/site-packages/scipy/_lib/_util.py:1233: RuntimeWarning: logm result may be inaccurate, approximate err = 8.178291163931779e-13\n",
      "  return f(*arrays, *other_args, **kwargs)\n"
     ]
    },
    {
     "name": "stdout",
     "output_type": "stream",
     "text": [
      "LBFGS:   25 18:53:25     -494.878802        0.116242\n"
     ]
    },
    {
     "name": "stderr",
     "output_type": "stream",
     "text": [
      "/home/atshaam/miniconda3/envs/proj_env/lib/python3.11/site-packages/scipy/_lib/_util.py:1233: RuntimeWarning: logm result may be inaccurate, approximate err = 8.187971454348941e-13\n",
      "  return f(*arrays, *other_args, **kwargs)\n"
     ]
    },
    {
     "name": "stdout",
     "output_type": "stream",
     "text": [
      "LBFGS:   26 18:53:25     -494.886856        0.124197\n"
     ]
    },
    {
     "name": "stderr",
     "output_type": "stream",
     "text": [
      "/home/atshaam/miniconda3/envs/proj_env/lib/python3.11/site-packages/scipy/_lib/_util.py:1233: RuntimeWarning: logm result may be inaccurate, approximate err = 8.217348478424403e-13\n",
      "  return f(*arrays, *other_args, **kwargs)\n"
     ]
    },
    {
     "name": "stdout",
     "output_type": "stream",
     "text": [
      "LBFGS:   27 18:53:26     -494.895456        0.133332\n"
     ]
    },
    {
     "name": "stderr",
     "output_type": "stream",
     "text": [
      "/home/atshaam/miniconda3/envs/proj_env/lib/python3.11/site-packages/scipy/_lib/_util.py:1233: RuntimeWarning: logm result may be inaccurate, approximate err = 8.180271088913319e-13\n",
      "  return f(*arrays, *other_args, **kwargs)\n"
     ]
    },
    {
     "name": "stdout",
     "output_type": "stream",
     "text": [
      "LBFGS:   28 18:53:26     -494.902358        0.135864\n"
     ]
    },
    {
     "name": "stderr",
     "output_type": "stream",
     "text": [
      "/home/atshaam/miniconda3/envs/proj_env/lib/python3.11/site-packages/scipy/_lib/_util.py:1233: RuntimeWarning: logm result may be inaccurate, approximate err = 8.235134124919946e-13\n",
      "  return f(*arrays, *other_args, **kwargs)\n"
     ]
    },
    {
     "name": "stdout",
     "output_type": "stream",
     "text": [
      "LBFGS:   29 18:53:27     -494.907695        0.093392\n"
     ]
    },
    {
     "name": "stderr",
     "output_type": "stream",
     "text": [
      "/home/atshaam/miniconda3/envs/proj_env/lib/python3.11/site-packages/scipy/_lib/_util.py:1233: RuntimeWarning: logm result may be inaccurate, approximate err = 8.242879957735291e-13\n",
      "  return f(*arrays, *other_args, **kwargs)\n"
     ]
    },
    {
     "name": "stdout",
     "output_type": "stream",
     "text": [
      "LBFGS:   30 18:53:28     -494.911919        0.082835\n"
     ]
    },
    {
     "name": "stderr",
     "output_type": "stream",
     "text": [
      "/home/atshaam/miniconda3/envs/proj_env/lib/python3.11/site-packages/scipy/_lib/_util.py:1233: RuntimeWarning: logm result may be inaccurate, approximate err = 8.183289562760817e-13\n",
      "  return f(*arrays, *other_args, **kwargs)\n"
     ]
    },
    {
     "name": "stdout",
     "output_type": "stream",
     "text": [
      "LBFGS:   31 18:53:28     -494.914938        0.073236\n"
     ]
    },
    {
     "name": "stderr",
     "output_type": "stream",
     "text": [
      "/home/atshaam/miniconda3/envs/proj_env/lib/python3.11/site-packages/scipy/_lib/_util.py:1233: RuntimeWarning: logm result may be inaccurate, approximate err = 8.227946533305623e-13\n",
      "  return f(*arrays, *other_args, **kwargs)\n"
     ]
    },
    {
     "name": "stdout",
     "output_type": "stream",
     "text": [
      "LBFGS:   32 18:53:29     -494.916804        0.053165\n"
     ]
    },
    {
     "name": "stderr",
     "output_type": "stream",
     "text": [
      "/home/atshaam/miniconda3/envs/proj_env/lib/python3.11/site-packages/scipy/_lib/_util.py:1233: RuntimeWarning: logm result may be inaccurate, approximate err = 8.187766424278032e-13\n",
      "  return f(*arrays, *other_args, **kwargs)\n"
     ]
    },
    {
     "name": "stdout",
     "output_type": "stream",
     "text": [
      "LBFGS:   33 18:53:30     -494.918281        0.055434\n"
     ]
    },
    {
     "name": "stderr",
     "output_type": "stream",
     "text": [
      "/home/atshaam/miniconda3/envs/proj_env/lib/python3.11/site-packages/scipy/_lib/_util.py:1233: RuntimeWarning: logm result may be inaccurate, approximate err = 8.304122531181475e-13\n",
      "  return f(*arrays, *other_args, **kwargs)\n"
     ]
    },
    {
     "name": "stdout",
     "output_type": "stream",
     "text": [
      "LBFGS:   34 18:53:30     -494.920100        0.060045\n"
     ]
    },
    {
     "name": "stderr",
     "output_type": "stream",
     "text": [
      "/home/atshaam/miniconda3/envs/proj_env/lib/python3.11/site-packages/scipy/_lib/_util.py:1233: RuntimeWarning: logm result may be inaccurate, approximate err = 8.262170580008278e-13\n",
      "  return f(*arrays, *other_args, **kwargs)\n"
     ]
    },
    {
     "name": "stdout",
     "output_type": "stream",
     "text": [
      "LBFGS:   35 18:53:31     -494.922188        0.057539\n"
     ]
    },
    {
     "name": "stderr",
     "output_type": "stream",
     "text": [
      "/home/atshaam/miniconda3/envs/proj_env/lib/python3.11/site-packages/scipy/_lib/_util.py:1233: RuntimeWarning: logm result may be inaccurate, approximate err = 8.240546872385159e-13\n",
      "  return f(*arrays, *other_args, **kwargs)\n"
     ]
    },
    {
     "name": "stdout",
     "output_type": "stream",
     "text": [
      "LBFGS:   36 18:53:32     -494.923958        0.056085\n"
     ]
    },
    {
     "name": "stderr",
     "output_type": "stream",
     "text": [
      "/home/atshaam/miniconda3/envs/proj_env/lib/python3.11/site-packages/scipy/_lib/_util.py:1233: RuntimeWarning: logm result may be inaccurate, approximate err = 8.209642606230754e-13\n",
      "  return f(*arrays, *other_args, **kwargs)\n"
     ]
    },
    {
     "name": "stdout",
     "output_type": "stream",
     "text": [
      "LBFGS:   37 18:53:32     -494.925392        0.053679\n"
     ]
    },
    {
     "name": "stderr",
     "output_type": "stream",
     "text": [
      "/home/atshaam/miniconda3/envs/proj_env/lib/python3.11/site-packages/scipy/_lib/_util.py:1233: RuntimeWarning: logm result may be inaccurate, approximate err = 8.210109810012924e-13\n",
      "  return f(*arrays, *other_args, **kwargs)\n"
     ]
    },
    {
     "name": "stdout",
     "output_type": "stream",
     "text": [
      "LBFGS:   38 18:53:33     -494.927079        0.063047\n"
     ]
    },
    {
     "name": "stderr",
     "output_type": "stream",
     "text": [
      "/home/atshaam/miniconda3/envs/proj_env/lib/python3.11/site-packages/scipy/_lib/_util.py:1233: RuntimeWarning: logm result may be inaccurate, approximate err = 8.291045555197983e-13\n",
      "  return f(*arrays, *other_args, **kwargs)\n"
     ]
    },
    {
     "name": "stdout",
     "output_type": "stream",
     "text": [
      "LBFGS:   39 18:53:33     -494.929469        0.064906\n"
     ]
    },
    {
     "name": "stderr",
     "output_type": "stream",
     "text": [
      "/home/atshaam/miniconda3/envs/proj_env/lib/python3.11/site-packages/scipy/_lib/_util.py:1233: RuntimeWarning: logm result may be inaccurate, approximate err = 8.246578314873953e-13\n",
      "  return f(*arrays, *other_args, **kwargs)\n"
     ]
    },
    {
     "name": "stdout",
     "output_type": "stream",
     "text": [
      "LBFGS:   40 18:53:34     -494.932015        0.058758\n"
     ]
    },
    {
     "name": "stderr",
     "output_type": "stream",
     "text": [
      "/home/atshaam/miniconda3/envs/proj_env/lib/python3.11/site-packages/scipy/_lib/_util.py:1233: RuntimeWarning: logm result may be inaccurate, approximate err = 8.233667491927375e-13\n",
      "  return f(*arrays, *other_args, **kwargs)\n"
     ]
    },
    {
     "name": "stdout",
     "output_type": "stream",
     "text": [
      "LBFGS:   41 18:53:35     -494.933687        0.044964\n"
     ]
    },
    {
     "name": "stderr",
     "output_type": "stream",
     "text": [
      "/home/atshaam/miniconda3/envs/proj_env/lib/python3.11/site-packages/scipy/_lib/_util.py:1233: RuntimeWarning: logm result may be inaccurate, approximate err = 8.213185978094296e-13\n",
      "  return f(*arrays, *other_args, **kwargs)\n"
     ]
    },
    {
     "name": "stdout",
     "output_type": "stream",
     "text": [
      "LBFGS:   42 18:53:36     -494.934551        0.046394\n"
     ]
    },
    {
     "name": "stderr",
     "output_type": "stream",
     "text": [
      "/home/atshaam/miniconda3/envs/proj_env/lib/python3.11/site-packages/scipy/_lib/_util.py:1233: RuntimeWarning: logm result may be inaccurate, approximate err = 8.230102684390377e-13\n",
      "  return f(*arrays, *other_args, **kwargs)\n"
     ]
    },
    {
     "name": "stdout",
     "output_type": "stream",
     "text": [
      "LBFGS:   43 18:53:36     -494.935379        0.049736\n"
     ]
    },
    {
     "name": "stderr",
     "output_type": "stream",
     "text": [
      "/home/atshaam/miniconda3/envs/proj_env/lib/python3.11/site-packages/scipy/_lib/_util.py:1233: RuntimeWarning: logm result may be inaccurate, approximate err = 8.247513058463284e-13\n",
      "  return f(*arrays, *other_args, **kwargs)\n"
     ]
    },
    {
     "name": "stdout",
     "output_type": "stream",
     "text": [
      "LBFGS:   44 18:53:37     -494.936749        0.056902\n"
     ]
    },
    {
     "name": "stderr",
     "output_type": "stream",
     "text": [
      "/home/atshaam/miniconda3/envs/proj_env/lib/python3.11/site-packages/scipy/_lib/_util.py:1233: RuntimeWarning: logm result may be inaccurate, approximate err = 8.257023167516348e-13\n",
      "  return f(*arrays, *other_args, **kwargs)\n"
     ]
    },
    {
     "name": "stdout",
     "output_type": "stream",
     "text": [
      "LBFGS:   45 18:53:37     -494.938518        0.060102\n"
     ]
    },
    {
     "name": "stderr",
     "output_type": "stream",
     "text": [
      "/home/atshaam/miniconda3/envs/proj_env/lib/python3.11/site-packages/scipy/_lib/_util.py:1233: RuntimeWarning: logm result may be inaccurate, approximate err = 8.201314530707677e-13\n",
      "  return f(*arrays, *other_args, **kwargs)\n"
     ]
    },
    {
     "name": "stdout",
     "output_type": "stream",
     "text": [
      "LBFGS:   46 18:53:38     -494.939974        0.045524\n"
     ]
    },
    {
     "name": "stderr",
     "output_type": "stream",
     "text": [
      "/home/atshaam/miniconda3/envs/proj_env/lib/python3.11/site-packages/scipy/_lib/_util.py:1233: RuntimeWarning: logm result may be inaccurate, approximate err = 8.287854711059989e-13\n",
      "  return f(*arrays, *other_args, **kwargs)\n"
     ]
    },
    {
     "name": "stdout",
     "output_type": "stream",
     "text": [
      "LBFGS:   47 18:53:39     -494.940788        0.035038\n"
     ]
    },
    {
     "name": "stderr",
     "output_type": "stream",
     "text": [
      "/home/atshaam/miniconda3/envs/proj_env/lib/python3.11/site-packages/scipy/_lib/_util.py:1233: RuntimeWarning: logm result may be inaccurate, approximate err = 8.208900661242719e-13\n",
      "  return f(*arrays, *other_args, **kwargs)\n"
     ]
    },
    {
     "name": "stdout",
     "output_type": "stream",
     "text": [
      "LBFGS:   48 18:53:39     -494.941380        0.032600\n"
     ]
    },
    {
     "name": "stderr",
     "output_type": "stream",
     "text": [
      "/home/atshaam/miniconda3/envs/proj_env/lib/python3.11/site-packages/scipy/_lib/_util.py:1233: RuntimeWarning: logm result may be inaccurate, approximate err = 8.203489887262018e-13\n",
      "  return f(*arrays, *other_args, **kwargs)\n"
     ]
    },
    {
     "name": "stdout",
     "output_type": "stream",
     "text": [
      "LBFGS:   49 18:53:40     -494.942140        0.033139\n"
     ]
    },
    {
     "name": "stderr",
     "output_type": "stream",
     "text": [
      "/home/atshaam/miniconda3/envs/proj_env/lib/python3.11/site-packages/scipy/_lib/_util.py:1233: RuntimeWarning: logm result may be inaccurate, approximate err = 8.251199040076053e-13\n",
      "  return f(*arrays, *other_args, **kwargs)\n"
     ]
    },
    {
     "name": "stdout",
     "output_type": "stream",
     "text": [
      "LBFGS:   50 18:53:41     -494.943115        0.041287\n"
     ]
    },
    {
     "name": "stderr",
     "output_type": "stream",
     "text": [
      "/home/atshaam/miniconda3/envs/proj_env/lib/python3.11/site-packages/scipy/_lib/_util.py:1233: RuntimeWarning: logm result may be inaccurate, approximate err = 8.212360458900039e-13\n",
      "  return f(*arrays, *other_args, **kwargs)\n"
     ]
    },
    {
     "name": "stdout",
     "output_type": "stream",
     "text": [
      "LBFGS:   51 18:53:41     -494.944083        0.039264\n"
     ]
    },
    {
     "name": "stderr",
     "output_type": "stream",
     "text": [
      "/home/atshaam/miniconda3/envs/proj_env/lib/python3.11/site-packages/scipy/_lib/_util.py:1233: RuntimeWarning: logm result may be inaccurate, approximate err = 8.279939243326253e-13\n",
      "  return f(*arrays, *other_args, **kwargs)\n"
     ]
    },
    {
     "name": "stdout",
     "output_type": "stream",
     "text": [
      "LBFGS:   52 18:53:42     -494.944882        0.033005\n"
     ]
    },
    {
     "name": "stderr",
     "output_type": "stream",
     "text": [
      "/home/atshaam/miniconda3/envs/proj_env/lib/python3.11/site-packages/scipy/_lib/_util.py:1233: RuntimeWarning: logm result may be inaccurate, approximate err = 8.311832048438434e-13\n",
      "  return f(*arrays, *other_args, **kwargs)\n"
     ]
    },
    {
     "name": "stdout",
     "output_type": "stream",
     "text": [
      "LBFGS:   53 18:53:42     -494.945618        0.036256\n"
     ]
    },
    {
     "name": "stderr",
     "output_type": "stream",
     "text": [
      "/home/atshaam/miniconda3/envs/proj_env/lib/python3.11/site-packages/scipy/_lib/_util.py:1233: RuntimeWarning: logm result may be inaccurate, approximate err = 8.255135256269799e-13\n",
      "  return f(*arrays, *other_args, **kwargs)\n"
     ]
    },
    {
     "name": "stdout",
     "output_type": "stream",
     "text": [
      "LBFGS:   54 18:53:43     -494.946381        0.035363\n"
     ]
    },
    {
     "name": "stderr",
     "output_type": "stream",
     "text": [
      "/home/atshaam/miniconda3/envs/proj_env/lib/python3.11/site-packages/scipy/_lib/_util.py:1233: RuntimeWarning: logm result may be inaccurate, approximate err = 8.291175895522047e-13\n",
      "  return f(*arrays, *other_args, **kwargs)\n"
     ]
    },
    {
     "name": "stdout",
     "output_type": "stream",
     "text": [
      "LBFGS:   55 18:53:44     -494.947039        0.039741\n"
     ]
    },
    {
     "name": "stderr",
     "output_type": "stream",
     "text": [
      "/home/atshaam/miniconda3/envs/proj_env/lib/python3.11/site-packages/scipy/_lib/_util.py:1233: RuntimeWarning: logm result may be inaccurate, approximate err = 8.284267450761836e-13\n",
      "  return f(*arrays, *other_args, **kwargs)\n"
     ]
    },
    {
     "name": "stdout",
     "output_type": "stream",
     "text": [
      "LBFGS:   56 18:53:44     -494.947550        0.044033\n"
     ]
    },
    {
     "name": "stderr",
     "output_type": "stream",
     "text": [
      "/home/atshaam/miniconda3/envs/proj_env/lib/python3.11/site-packages/scipy/_lib/_util.py:1233: RuntimeWarning: logm result may be inaccurate, approximate err = 8.213793632357275e-13\n",
      "  return f(*arrays, *other_args, **kwargs)\n"
     ]
    },
    {
     "name": "stdout",
     "output_type": "stream",
     "text": [
      "LBFGS:   57 18:53:45     -494.948008        0.035234\n"
     ]
    },
    {
     "name": "stderr",
     "output_type": "stream",
     "text": [
      "/home/atshaam/miniconda3/envs/proj_env/lib/python3.11/site-packages/scipy/_lib/_util.py:1233: RuntimeWarning: logm result may be inaccurate, approximate err = 8.296592011862678e-13\n",
      "  return f(*arrays, *other_args, **kwargs)\n"
     ]
    },
    {
     "name": "stdout",
     "output_type": "stream",
     "text": [
      "LBFGS:   58 18:53:46     -494.948492        0.029712\n"
     ]
    },
    {
     "name": "stderr",
     "output_type": "stream",
     "text": [
      "/home/atshaam/miniconda3/envs/proj_env/lib/python3.11/site-packages/scipy/_lib/_util.py:1233: RuntimeWarning: logm result may be inaccurate, approximate err = 8.294158447092353e-13\n",
      "  return f(*arrays, *other_args, **kwargs)\n"
     ]
    },
    {
     "name": "stdout",
     "output_type": "stream",
     "text": [
      "LBFGS:   59 18:53:46     -494.948907        0.024709\n"
     ]
    },
    {
     "name": "stderr",
     "output_type": "stream",
     "text": [
      "/home/atshaam/miniconda3/envs/proj_env/lib/python3.11/site-packages/scipy/_lib/_util.py:1233: RuntimeWarning: logm result may be inaccurate, approximate err = 8.285256838284566e-13\n",
      "  return f(*arrays, *other_args, **kwargs)\n"
     ]
    },
    {
     "name": "stdout",
     "output_type": "stream",
     "text": [
      "LBFGS:   60 18:53:47     -494.949145        0.025347\n"
     ]
    },
    {
     "name": "stderr",
     "output_type": "stream",
     "text": [
      "/home/atshaam/miniconda3/envs/proj_env/lib/python3.11/site-packages/scipy/_lib/_util.py:1233: RuntimeWarning: logm result may be inaccurate, approximate err = 8.293354325396436e-13\n",
      "  return f(*arrays, *other_args, **kwargs)\n"
     ]
    },
    {
     "name": "stdout",
     "output_type": "stream",
     "text": [
      "LBFGS:   61 18:53:47     -494.949300        0.026298\n"
     ]
    },
    {
     "name": "stderr",
     "output_type": "stream",
     "text": [
      "/home/atshaam/miniconda3/envs/proj_env/lib/python3.11/site-packages/scipy/_lib/_util.py:1233: RuntimeWarning: logm result may be inaccurate, approximate err = 8.288552753035306e-13\n",
      "  return f(*arrays, *other_args, **kwargs)\n"
     ]
    },
    {
     "name": "stdout",
     "output_type": "stream",
     "text": [
      "LBFGS:   62 18:53:48     -494.949508        0.027012\n"
     ]
    },
    {
     "name": "stderr",
     "output_type": "stream",
     "text": [
      "/home/atshaam/miniconda3/envs/proj_env/lib/python3.11/site-packages/scipy/_lib/_util.py:1233: RuntimeWarning: logm result may be inaccurate, approximate err = 8.267404417462533e-13\n",
      "  return f(*arrays, *other_args, **kwargs)\n"
     ]
    },
    {
     "name": "stdout",
     "output_type": "stream",
     "text": [
      "LBFGS:   63 18:53:49     -494.949873        0.028274\n"
     ]
    },
    {
     "name": "stderr",
     "output_type": "stream",
     "text": [
      "/home/atshaam/miniconda3/envs/proj_env/lib/python3.11/site-packages/scipy/_lib/_util.py:1233: RuntimeWarning: logm result may be inaccurate, approximate err = 8.238302245756779e-13\n",
      "  return f(*arrays, *other_args, **kwargs)\n"
     ]
    },
    {
     "name": "stdout",
     "output_type": "stream",
     "text": [
      "LBFGS:   64 18:53:49     -494.950425        0.030639\n"
     ]
    },
    {
     "name": "stderr",
     "output_type": "stream",
     "text": [
      "/home/atshaam/miniconda3/envs/proj_env/lib/python3.11/site-packages/scipy/_lib/_util.py:1233: RuntimeWarning: logm result may be inaccurate, approximate err = 8.327838246931016e-13\n",
      "  return f(*arrays, *other_args, **kwargs)\n"
     ]
    },
    {
     "name": "stdout",
     "output_type": "stream",
     "text": [
      "LBFGS:   65 18:53:50     -494.950970        0.025128\n"
     ]
    },
    {
     "name": "stderr",
     "output_type": "stream",
     "text": [
      "/home/atshaam/miniconda3/envs/proj_env/lib/python3.11/site-packages/scipy/_lib/_util.py:1233: RuntimeWarning: logm result may be inaccurate, approximate err = 8.335331557472123e-13\n",
      "  return f(*arrays, *other_args, **kwargs)\n"
     ]
    },
    {
     "name": "stdout",
     "output_type": "stream",
     "text": [
      "LBFGS:   66 18:53:51     -494.951352        0.018874\n"
     ]
    },
    {
     "name": "stderr",
     "output_type": "stream",
     "text": [
      "/home/atshaam/miniconda3/envs/proj_env/lib/python3.11/site-packages/scipy/_lib/_util.py:1233: RuntimeWarning: logm result may be inaccurate, approximate err = 8.348040446383438e-13\n",
      "  return f(*arrays, *other_args, **kwargs)\n"
     ]
    },
    {
     "name": "stdout",
     "output_type": "stream",
     "text": [
      "LBFGS:   67 18:53:51     -494.951675        0.019995\n"
     ]
    },
    {
     "name": "stderr",
     "output_type": "stream",
     "text": [
      "/home/atshaam/miniconda3/envs/proj_env/lib/python3.11/site-packages/scipy/_lib/_util.py:1233: RuntimeWarning: logm result may be inaccurate, approximate err = 8.363484219098104e-13\n",
      "  return f(*arrays, *other_args, **kwargs)\n"
     ]
    },
    {
     "name": "stdout",
     "output_type": "stream",
     "text": [
      "LBFGS:   68 18:53:52     -494.952041        0.024776\n"
     ]
    },
    {
     "name": "stderr",
     "output_type": "stream",
     "text": [
      "/home/atshaam/miniconda3/envs/proj_env/lib/python3.11/site-packages/scipy/_lib/_util.py:1233: RuntimeWarning: logm result may be inaccurate, approximate err = 8.249743991891024e-13\n",
      "  return f(*arrays, *other_args, **kwargs)\n"
     ]
    },
    {
     "name": "stdout",
     "output_type": "stream",
     "text": [
      "LBFGS:   69 18:53:53     -494.952441        0.021767\n"
     ]
    },
    {
     "name": "stderr",
     "output_type": "stream",
     "text": [
      "/home/atshaam/miniconda3/envs/proj_env/lib/python3.11/site-packages/scipy/_lib/_util.py:1233: RuntimeWarning: logm result may be inaccurate, approximate err = 8.294692041112231e-13\n",
      "  return f(*arrays, *other_args, **kwargs)\n"
     ]
    },
    {
     "name": "stdout",
     "output_type": "stream",
     "text": [
      "LBFGS:   70 18:53:53     -494.952738        0.014449\n"
     ]
    },
    {
     "name": "stderr",
     "output_type": "stream",
     "text": [
      "/home/atshaam/miniconda3/envs/proj_env/lib/python3.11/site-packages/scipy/_lib/_util.py:1233: RuntimeWarning: logm result may be inaccurate, approximate err = 8.257621874615842e-13\n",
      "  return f(*arrays, *other_args, **kwargs)\n"
     ]
    },
    {
     "name": "stdout",
     "output_type": "stream",
     "text": [
      "LBFGS:   71 18:53:54     -494.952898        0.014389\n"
     ]
    },
    {
     "name": "stderr",
     "output_type": "stream",
     "text": [
      "/home/atshaam/miniconda3/envs/proj_env/lib/python3.11/site-packages/scipy/_lib/_util.py:1233: RuntimeWarning: logm result may be inaccurate, approximate err = 8.364541959569384e-13\n",
      "  return f(*arrays, *other_args, **kwargs)\n"
     ]
    },
    {
     "name": "stdout",
     "output_type": "stream",
     "text": [
      "LBFGS:   72 18:53:55     -494.953021        0.013393\n"
     ]
    },
    {
     "name": "stderr",
     "output_type": "stream",
     "text": [
      "/home/atshaam/miniconda3/envs/proj_env/lib/python3.11/site-packages/scipy/_lib/_util.py:1233: RuntimeWarning: logm result may be inaccurate, approximate err = 8.320579857490181e-13\n",
      "  return f(*arrays, *other_args, **kwargs)\n"
     ]
    },
    {
     "name": "stdout",
     "output_type": "stream",
     "text": [
      "LBFGS:   73 18:53:55     -494.953198        0.016312\n"
     ]
    },
    {
     "name": "stderr",
     "output_type": "stream",
     "text": [
      "/home/atshaam/miniconda3/envs/proj_env/lib/python3.11/site-packages/scipy/_lib/_util.py:1233: RuntimeWarning: logm result may be inaccurate, approximate err = 8.320158760854655e-13\n",
      "  return f(*arrays, *other_args, **kwargs)\n"
     ]
    },
    {
     "name": "stdout",
     "output_type": "stream",
     "text": [
      "LBFGS:   74 18:53:56     -494.953408        0.015712\n"
     ]
    },
    {
     "name": "stderr",
     "output_type": "stream",
     "text": [
      "/home/atshaam/miniconda3/envs/proj_env/lib/python3.11/site-packages/scipy/_lib/_util.py:1233: RuntimeWarning: logm result may be inaccurate, approximate err = 8.281411362942821e-13\n",
      "  return f(*arrays, *other_args, **kwargs)\n"
     ]
    },
    {
     "name": "stdout",
     "output_type": "stream",
     "text": [
      "LBFGS:   75 18:53:56     -494.953583        0.014957\n"
     ]
    },
    {
     "name": "stderr",
     "output_type": "stream",
     "text": [
      "/home/atshaam/miniconda3/envs/proj_env/lib/python3.11/site-packages/scipy/_lib/_util.py:1233: RuntimeWarning: logm result may be inaccurate, approximate err = 8.286468802125021e-13\n",
      "  return f(*arrays, *other_args, **kwargs)\n"
     ]
    },
    {
     "name": "stdout",
     "output_type": "stream",
     "text": [
      "LBFGS:   76 18:53:57     -494.953691        0.013192\n"
     ]
    },
    {
     "name": "stderr",
     "output_type": "stream",
     "text": [
      "/home/atshaam/miniconda3/envs/proj_env/lib/python3.11/site-packages/scipy/_lib/_util.py:1233: RuntimeWarning: logm result may be inaccurate, approximate err = 8.270224078679591e-13\n",
      "  return f(*arrays, *other_args, **kwargs)\n"
     ]
    },
    {
     "name": "stdout",
     "output_type": "stream",
     "text": [
      "LBFGS:   77 18:53:58     -494.953784        0.011818\n"
     ]
    },
    {
     "name": "stderr",
     "output_type": "stream",
     "text": [
      "/home/atshaam/miniconda3/envs/proj_env/lib/python3.11/site-packages/scipy/_lib/_util.py:1233: RuntimeWarning: logm result may be inaccurate, approximate err = 8.296617118664843e-13\n",
      "  return f(*arrays, *other_args, **kwargs)\n"
     ]
    },
    {
     "name": "stdout",
     "output_type": "stream",
     "text": [
      "LBFGS:   78 18:53:58     -494.953889        0.011179\n"
     ]
    },
    {
     "name": "stderr",
     "output_type": "stream",
     "text": [
      "/home/atshaam/miniconda3/envs/proj_env/lib/python3.11/site-packages/scipy/_lib/_util.py:1233: RuntimeWarning: logm result may be inaccurate, approximate err = 8.27131135075126e-13\n",
      "  return f(*arrays, *other_args, **kwargs)\n"
     ]
    },
    {
     "name": "stdout",
     "output_type": "stream",
     "text": [
      "LBFGS:   79 18:53:59     -494.953980        0.010960\n"
     ]
    },
    {
     "name": "stderr",
     "output_type": "stream",
     "text": [
      "/home/atshaam/miniconda3/envs/proj_env/lib/python3.11/site-packages/scipy/_lib/_util.py:1233: RuntimeWarning: logm result may be inaccurate, approximate err = 8.281479089815715e-13\n",
      "  return f(*arrays, *other_args, **kwargs)\n"
     ]
    },
    {
     "name": "stdout",
     "output_type": "stream",
     "text": [
      "LBFGS:   80 18:54:00     -494.954047        0.009469\n",
      "       Step     Time          Energy          fmax\n",
      "LBFGS:    0 18:54:00     -206.820302        0.380331\n",
      "LBFGS:    1 18:54:01     -206.828999        0.367542\n",
      "LBFGS:    2 18:54:01     -206.853959        0.311288\n",
      "LBFGS:    3 18:54:02     -206.870396        0.272319\n",
      "LBFGS:    4 18:54:02     -206.914788        0.334179\n",
      "LBFGS:    5 18:54:03     -206.949425        0.264400\n",
      "LBFGS:    6 18:54:03     -206.971326        0.204900\n",
      "LBFGS:    7 18:54:04     -206.978131        0.118178\n",
      "LBFGS:    8 18:54:05     -206.980675        0.080988\n",
      "LBFGS:    9 18:54:05     -206.982087        0.049583\n",
      "LBFGS:   10 18:54:06     -206.982842        0.034715\n",
      "LBFGS:   11 18:54:06     -206.983292        0.028905\n",
      "LBFGS:   12 18:54:07     -206.983609        0.032288\n",
      "LBFGS:   13 18:54:07     -206.983842        0.026486\n",
      "LBFGS:   14 18:54:08     -206.983983        0.017594\n",
      "LBFGS:   15 18:54:08     -206.984086        0.014824\n",
      "LBFGS:   16 18:54:09     -206.984147        0.012008\n",
      "LBFGS:   17 18:54:10     -206.984177        0.011444\n",
      "LBFGS:   18 18:54:10     -206.984200        0.011587\n",
      "LBFGS:   19 18:54:11     -206.984215        0.011757\n",
      "LBFGS:   20 18:54:11     -206.984238        0.011567\n",
      "LBFGS:   21 18:54:12     -206.984254        0.010808\n",
      "LBFGS:   22 18:54:12     -206.984273        0.009409\n",
      "       Step     Time          Energy          fmax\n",
      "LBFGS:    0 18:54:13     -770.537988        0.314159\n",
      "LBFGS:    1 18:54:14     -770.551217        0.146704\n",
      "LBFGS:    2 18:54:15     -770.554086        0.023665\n",
      "LBFGS:    3 18:54:16     -770.554315        0.021340\n",
      "LBFGS:    4 18:54:17     -770.556161        0.058465\n",
      "LBFGS:    5 18:54:18     -770.556619        0.034908\n",
      "LBFGS:    6 18:54:19     -770.556954        0.019866\n",
      "LBFGS:    7 18:54:20     -770.557366        0.036642\n",
      "LBFGS:    8 18:54:21     -770.557946        0.049527\n",
      "LBFGS:    9 18:54:22     -770.558328        0.032378\n",
      "LBFGS:   10 18:54:23     -770.558480        0.015081\n",
      "LBFGS:   11 18:54:24     -770.558572        0.013680\n",
      "LBFGS:   12 18:54:25     -770.558694        0.022033\n",
      "LBFGS:   13 18:54:26     -770.558801        0.023004\n",
      "LBFGS:   14 18:54:27     -770.558938        0.013073\n",
      "LBFGS:   15 18:54:28     -770.559091        0.009923\n"
     ]
    }
   ],
   "source": [
    "relaxed_Al_prim = {}\n",
    "for name, val in matching_pairs.items():\n",
    "    structure, energy = relax_structure(val['structure'])\n",
    "    relaxed_Al_prim[name] = {\n",
    "        'formula': val['formula'],\n",
    "        'energy': energy,\n",
    "        'structure': structure\n",
    "    }"
   ]
  },
  {
   "cell_type": "code",
   "execution_count": 16,
   "id": "9ae30096-c6c6-4717-9af2-94a4e7912bdf",
   "metadata": {},
   "outputs": [
    {
     "name": "stdout",
     "output_type": "stream",
     "text": [
      "-7.328258778494641\n",
      "-6.617915411335435\n",
      "-5.866473783254679\n",
      "-7.934802858943118\n",
      "-7.54920013684744\n",
      "-7.069588950888632\n",
      "-6.178625748012966\n",
      "-4.829926565958371\n",
      "-6.948286413147613\n",
      "-5.138784011161463\n",
      "-7.48163492357092\n",
      "-6.513597091623593\n",
      "-7.260250647941782\n",
      "-7.094525687046359\n",
      "-7.595149329437199\n",
      "-7.278735983779881\n",
      "-7.392295451789543\n",
      "-7.134806394214936\n"
     ]
    }
   ],
   "source": [
    "for key,val in relaxed_Al_prim.items():\n",
    "    print(val['energy'])"
   ]
  },
  {
   "cell_type": "code",
   "execution_count": 17,
   "id": "8bf5ea43-f03d-4ced-92c8-71298fe5c28c",
   "metadata": {},
   "outputs": [],
   "source": [
    "dumpfn(relaxed_Al_prim, f'../../data/{MODEL}_relaxed_Al_prim_per_atom.json')"
   ]
  },
  {
   "cell_type": "markdown",
   "id": "edd567a7-2c37-4379-82e2-589474094495",
   "metadata": {},
   "source": [
    "## Defect Creation and Relaxation"
   ]
  },
  {
   "cell_type": "markdown",
   "id": "3b9abc49-cf18-4082-a3f5-7445b288c416",
   "metadata": {},
   "source": [
    "Load in all relaxed primitive Al Oxide structures\n",
    "<br>Loop through all Al oxides \n",
    "<br>Create function using doped and shakenbreak for each structure\n",
    "<br>Create function that loops over unpertubed and all disortions and uses MLIP to calc energies - append structure and energies to data dict\n",
    "<br>get energy difference from unperturbed for each Al oxide and append to dictionary or list for bar chart - can do this manually in loop \n",
    "<br>dumpfn the data dict and list of energy differences, or maybe add energy diff to data dict as 'delta_e' key?\n",
    "<br>Plot bar chart for all metal oxides and their energy relative to unperturbed"
   ]
  },
  {
   "cell_type": "code",
   "execution_count": 18,
   "id": "7c6909ac-570b-4dc3-ad3c-d363d59de520",
   "metadata": {
    "scrolled": true
   },
   "outputs": [],
   "source": [
    "from doped.generation import DefectsGenerator\n",
    "from shakenbreak.input import Distortions\n",
    "from pymatgen.entries.computed_entries import ComputedEntry\n",
    "from doped.core import DefectEntry\n",
    "from pymatgen.entries.compatibility import MaterialsProject2020Compatibility\n",
    "from pymatgen.core import Element"
   ]
  },
  {
   "cell_type": "code",
   "execution_count": 19,
   "id": "98705953-4a4f-443a-af00-ffcdb3b77e39",
   "metadata": {},
   "outputs": [],
   "source": [
    "supercell_size = 10"
   ]
  },
  {
   "cell_type": "code",
   "execution_count": 20,
   "id": "01e78d78-fc6c-468d-9f5c-7affe12b989d",
   "metadata": {},
   "outputs": [],
   "source": [
    "MP_U_VALUES = {\n",
    "    \"Co\": 3.32,\n",
    "    \"Cr\": 3.7,\n",
    "    \"Fe\": 5.3,\n",
    "    \"Mn\": 3.98,\n",
    "    \"Mo\": 4.38,\n",
    "    \"Ni\": 6.2,\n",
    "    \"V\": 3.25,\n",
    "    \"W\": 6.2,\n",
    "}\n",
    "from pymatgen.core import Species\n",
    "\n",
    "def add_parameters(entry):\n",
    "    elements = entry.composition.elements\n",
    "    elements = [el.element if isinstance(el, Species) else el for el in elements]\n",
    "    parameters = {}\n",
    "    if any([Element(el) in elements for el in MP_U_VALUES]):\n",
    "        parameters[\"run_type\"] = \"GGA+U\"\n",
    "        parameters[\"hubbards\"] = {el.name: MP_U_VALUES.get(el.symbol, 0.0) for el in elements}\n",
    "        parameters[\"is_hubbard\"] = True\n",
    "    else:\n",
    "        parameters[\"run_type\"] = \"GGA\"\n",
    "        parameters[\"hubbards\"] = None\n",
    "        parameters[\"is_hubbard\"] = False\n",
    "    entry.parameters = parameters\n",
    "    return entry"
   ]
  },
  {
   "cell_type": "code",
   "execution_count": 22,
   "id": "7fbf047a-4b68-461c-ae60-f318b2ba7dab",
   "metadata": {},
   "outputs": [],
   "source": [
    "def create_defect(structure):\n",
    "    defect_gen = DefectsGenerator(structure, extrinsic=\"Cr\", interstitial_gen_kwargs=False, supercell_gen_kwargs={'min_image_distance':supercell_size} ) # set large super cell 25 Angstroms 'supercell_gen_kwargs={'min_image_distance':15}'\n",
    "    valid_keys = []\n",
    "    for key in defect_gen.keys():\n",
    "        if  key[:5] == 'Cr_Al' and key[-1] == '0':\n",
    "            valid_keys.append(key)\n",
    "    distortions = Distortions(\n",
    "        defect_entries = {key: defect_gen[key] for key in valid_keys}, # NO Cr_Al_0 for Al2(SO4)3\n",
    "        # oxidation_states={} # oxidation states predicted are good for now\n",
    "    )\n",
    "    distorted_defects_dict, distortions.distortion_metadata = distortions.apply_distortions()\n",
    "    unperturbed_structures = {}\n",
    "    defect_distortions = {}\n",
    "    for key in valid_keys:\n",
    "        unperturbed_structures[key] = distorted_defects_dict[key[:-2]]['charges'][0]['structures']['Unperturbed']\n",
    "        defect_distortions[key] = distorted_defects_dict[key[:-2]]['charges'][0]['structures']['distortions']\n",
    "\n",
    "    return unperturbed_structures, defect_distortions, defect_gen.bulk_supercell"
   ]
  },
  {
   "cell_type": "code",
   "execution_count": 23,
   "id": "a6e66448-46c6-4ea5-8c80-c75b0cef90fc",
   "metadata": {},
   "outputs": [],
   "source": [
    "def make_entry(structure, energy, material_id):\n",
    "    new_entry = ComputedEntry(\n",
    "        structure.composition,\n",
    "        energy, \n",
    "        data={'material_id':material_id}\n",
    "    )\n",
    "    new_entry.structure = structure\n",
    "    new_entry = add_parameters(new_entry)\n",
    "    compat = MaterialsProject2020Compatibility(check_potcar=False, check_potcar_hash=False)\n",
    "    compat.process_entry(new_entry, on_error=\"warn\")\n",
    "    return new_entry"
   ]
  },
  {
   "cell_type": "code",
   "execution_count": 24,
   "id": "3d853a80-f382-4a88-9c24-c1bff035724a",
   "metadata": {},
   "outputs": [],
   "source": [
    "def get_energy(unperturbed_structures, distortions, supercell, material_id):\n",
    "    data = defaultdict(dict)\n",
    "    supercell_struct, supercell_e = relax_defect(supercell)\n",
    "    new_entries_sup = make_entry(supercell_struct, supercell_e, material_id)\n",
    "    data['supercell'] = {\n",
    "        'structure': new_entries_sup.structure,\n",
    "        'energy': new_entries_sup.energy\n",
    "    }\n",
    "    \n",
    "    for site, unperturbed_structure in unperturbed_structures.items():\n",
    "        data[site] = defaultdict(dict)\n",
    "        data[site]['unperturbed'] = defaultdict(dict)\n",
    "        unperturbed_structure1, unp_energy = relax_defect(unperturbed_structure)\n",
    "        new_entries_unp = make_entry(unperturbed_structure1, unp_energy, material_id)\n",
    "        data[site]['unperturbed'] = {\n",
    "        'structure':new_entries_unp.structure,\n",
    "        'energy': new_entries_unp.energy,\n",
    "        'distortion_amount':'N/A'\n",
    "        }\n",
    "        data[site]['distortions'] = defaultdict(dict)\n",
    "        for key, structure in distortions[site].items():\n",
    "            structure1, energy = relax_defect(structure)\n",
    "            new_entries_def = make_entry(structure1, energy, material_id)\n",
    "            if key != 'Rattled':\n",
    "                distortion_amount = float(key.split(\"_\")[-1].replace(\"%\", \"\").replace(\"-\", \"-\"))/100\n",
    "            else:\n",
    "                distortion_amount = 0\n",
    "            data[site]['distortions'][key] = {\n",
    "                'structure': new_entries_def.structure,\n",
    "                'energy': new_entries_def.energy,\n",
    "                'distortion_amount': distortion_amount,\n",
    "                'delta_e': new_entries_def.energy - data[site]['unperturbed']['energy']\n",
    "            }\n",
    "        \n",
    "    return dict(data)"
   ]
  },
  {
   "cell_type": "code",
   "execution_count": 25,
   "id": "eef481f7",
   "metadata": {},
   "outputs": [],
   "source": [
    "Al_prim = loadfn(f'../../data/{MODEL}_relaxed_Al_prim_per_atom.json')\n",
    "del Al_prim['mp-554152']"
   ]
  },
  {
   "cell_type": "code",
   "execution_count": 26,
   "id": "1785cd8a-7d25-4fdd-9535-cf967659688c",
   "metadata": {
    "scrolled": true
   },
   "outputs": [
    {
     "name": "stderr",
     "output_type": "stream",
     "text": [
      "Generating DefectEntry objects: 100.0%|████████████████████████████████████████████████████████████| [01:34,   1.06it/s]\n"
     ]
    },
    {
     "name": "stdout",
     "output_type": "stream",
     "text": [
      "Vacancies                 Guessed Charges        Conv. Cell Coords    Wyckoff\n",
      "------------------------  ---------------------  -------------------  ---------\n",
      "v_Al                      [+1,0,-1,-2,-3]        [0.116,0.863,0.375]  4e\n",
      "v_P_C1_O1.49              [+1,0,-1,-2,-3,-4,-5]  [0.203,0.836,0.016]  4e\n",
      "v_P_C1_O1.50O1.60         [+1,0,-1,-2,-3,-4,-5]  [0.145,0.544,0.218]  4e\n",
      "v_P_C1_O1.50O1.61         [+1,0,-1,-2,-3,-4,-5]  [0.415,0.388,0.213]  4e\n",
      "v_O_C1_P1.49              [+2,+1,0,-1]           [0.822,0.243,0.090]  4e\n",
      "v_O_C1_P1.50Al1.90O2.52   [+2,+1,0,-1]           [0.194,0.343,0.148]  4e\n",
      "v_O_C1_P1.50Al1.90O2.53a  [+2,+1,0,-1]           [0.165,0.619,0.108]  4e\n",
      "v_O_C1_P1.50Al1.90O2.53b  [+2,+1,0,-1]           [0.576,0.386,0.107]  4e\n",
      "v_O_C1_P1.50Al1.91        [+2,+1,0,-1]           [0.068,0.845,0.141]  4e\n",
      "v_O_C1_P1.50Al1.92        [+2,+1,0,-1]           [0.055,0.515,0.835]  4e\n",
      "v_O_C1_P1.60              [+2,+1,0,-1]           [0.147,0.579,0.400]  4e\n",
      "v_O_C1_P1.61              [+2,+1,0,-1]           [0.532,0.348,0.395]  4e\n",
      "v_O_C1_P1.62              [+2,+1,0,-1]           [0.374,0.488,0.257]  4e\n",
      "\n",
      "Substitutions              Guessed Charges              Conv. Cell Coords    Wyckoff\n",
      "-------------------------  ---------------------------  -------------------  ---------\n",
      "Al_P_C1_O1.49              [0,-1,-2]                    [0.203,0.836,0.016]  4e\n",
      "Al_P_C1_O1.50O1.60         [0,-1,-2]                    [0.145,0.544,0.218]  4e\n",
      "Al_P_C1_O1.50O1.61         [0,-1,-2]                    [0.415,0.388,0.213]  4e\n",
      "Al_O_C1_P1.49              [+5,+4,+3,+2,+1,0]           [0.822,0.243,0.090]  4e\n",
      "Al_O_C1_P1.50Al1.90O2.52   [+5,+4,+3,+2,+1,0]           [0.194,0.343,0.148]  4e\n",
      "Al_O_C1_P1.50Al1.90O2.53a  [+5,+4,+3,+2,+1,0]           [0.165,0.619,0.108]  4e\n",
      "Al_O_C1_P1.50Al1.90O2.53b  [+5,+4,+3,+2,+1,0]           [0.576,0.386,0.107]  4e\n",
      "Al_O_C1_P1.50Al1.91        [+5,+4,+3,+2,+1,0]           [0.068,0.845,0.141]  4e\n",
      "Al_O_C1_P1.50Al1.92        [+5,+4,+3,+2,+1,0]           [0.055,0.515,0.835]  4e\n",
      "Al_O_C1_P1.60              [+5,+4,+3,+2,+1,0]           [0.147,0.579,0.400]  4e\n",
      "Al_O_C1_P1.61              [+5,+4,+3,+2,+1,0]           [0.532,0.348,0.395]  4e\n",
      "Al_O_C1_P1.62              [+5,+4,+3,+2,+1,0]           [0.374,0.488,0.257]  4e\n",
      "P_Al                       [+2,+1,0,-1,-2,-3,-4,-5,-6]  [0.116,0.863,0.375]  4e\n",
      "P_O_C1_P1.49               [+7,+6,+5,+4,+3,+2,+1,0,-1]  [0.822,0.243,0.090]  4e\n",
      "P_O_C1_P1.50Al1.90O2.52    [+7,+6,+5,+4,+3,+2,+1,0,-1]  [0.194,0.343,0.148]  4e\n",
      "P_O_C1_P1.50Al1.90O2.53a   [+7,+6,+5,+4,+3,+2,+1,0,-1]  [0.165,0.619,0.108]  4e\n",
      "P_O_C1_P1.50Al1.90O2.53b   [+7,+6,+5,+4,+3,+2,+1,0,-1]  [0.576,0.386,0.107]  4e\n",
      "P_O_C1_P1.50Al1.91         [+7,+6,+5,+4,+3,+2,+1,0,-1]  [0.068,0.845,0.141]  4e\n",
      "P_O_C1_P1.50Al1.92         [+7,+6,+5,+4,+3,+2,+1,0,-1]  [0.055,0.515,0.835]  4e\n",
      "P_O_C1_P1.60               [+7,+6,+5,+4,+3,+2,+1,0,-1]  [0.147,0.579,0.400]  4e\n",
      "P_O_C1_P1.61               [+7,+6,+5,+4,+3,+2,+1,0,-1]  [0.532,0.348,0.395]  4e\n",
      "P_O_C1_P1.62               [+7,+6,+5,+4,+3,+2,+1,0,-1]  [0.374,0.488,0.257]  4e\n",
      "O_Al                       [0,-1,-2,-3,-4,-5]           [0.116,0.863,0.375]  4e\n",
      "O_P_C1_O1.49               [0,-1,-2,-3,-4,-5,-6,-7]     [0.203,0.836,0.016]  4e\n",
      "O_P_C1_O1.50O1.60          [0,-1,-2,-3,-4,-5,-6,-7]     [0.145,0.544,0.218]  4e\n",
      "O_P_C1_O1.50O1.61          [0,-1,-2,-3,-4,-5,-6,-7]     [0.415,0.388,0.213]  4e\n",
      "Cr_Al                      [+3,+2,+1,0,-1]              [0.116,0.863,0.375]  4e\n",
      "Cr_P_C1_O1.49              [+1,0,-1,-2,-3]              [0.203,0.836,0.016]  4e\n",
      "Cr_P_C1_O1.50O1.60         [+1,0,-1,-2,-3]              [0.145,0.544,0.218]  4e\n",
      "Cr_P_C1_O1.50O1.61         [+1,0,-1,-2,-3]              [0.415,0.388,0.213]  4e\n",
      "Cr_O_C1_P1.49              [+8,+7,+6,+5,+4,+3,+2,+1,0]  [0.822,0.243,0.090]  4e\n",
      "Cr_O_C1_P1.50Al1.90O2.52   [+8,+7,+6,+5,+4,+3,+2,+1,0]  [0.194,0.343,0.148]  4e\n",
      "Cr_O_C1_P1.50Al1.90O2.53a  [+8,+7,+6,+5,+4,+3,+2,+1,0]  [0.165,0.619,0.108]  4e\n",
      "Cr_O_C1_P1.50Al1.90O2.53b  [+8,+7,+6,+5,+4,+3,+2,+1,0]  [0.576,0.386,0.107]  4e\n",
      "Cr_O_C1_P1.50Al1.91        [+8,+7,+6,+5,+4,+3,+2,+1,0]  [0.068,0.845,0.141]  4e\n",
      "Cr_O_C1_P1.50Al1.92        [+8,+7,+6,+5,+4,+3,+2,+1,0]  [0.055,0.515,0.835]  4e\n",
      "Cr_O_C1_P1.60              [+8,+7,+6,+5,+4,+3,+2,+1,0]  [0.147,0.579,0.400]  4e\n",
      "Cr_O_C1_P1.61              [+8,+7,+6,+5,+4,+3,+2,+1,0]  [0.532,0.348,0.395]  4e\n",
      "Cr_O_C1_P1.62              [+8,+7,+6,+5,+4,+3,+2,+1,0]  [0.374,0.488,0.257]  4e\n",
      "\n",
      "The number in the Wyckoff label is the site multiplicity/degeneracy of that defect in the conventional ('conv.') unit cell, which comprises 4 formula unit(s) of Al(PO3)3.\n",
      "\n",
      "Oxidation states were not explicitly set, thus have been guessed as {'Al': 3.0, 'P': 5.0, 'O': -2.0, 'Cr': 3.0}. If this is unreasonable you should manually set oxidation_states\n",
      "Applying ShakeNBreak... Will apply the following bond distortions: ['-0.6', '-0.5', '-0.4', '-0.3', '-0.2', '-0.1', '0.0', '0.1', '0.2', '0.3', '0.4', '0.5', '0.6', 'Dimer (for vacancies)']. Then, will rattle with a std dev of 0.15 Å \n",
      "\n"
     ]
    },
    {
     "name": "stderr",
     "output_type": "stream",
     "text": [
      "Generating distorted defect structures...0.0%|                                                         | [00:00,  ?it/s]"
     ]
    },
    {
     "name": "stdout",
     "output_type": "stream",
     "text": [
      "\u001b[1m\n",
      "Defect: Cr_Al\u001b[0m\n",
      "\u001b[1mNumber of missing electrons in neutral state: 0\u001b[0m\n",
      "\n",
      "Defect Cr_Al in charge state: 0. Number of distorted neighbours: 0\n"
     ]
    },
    {
     "name": "stderr",
     "output_type": "stream",
     "text": [
      "Generating distorted defect structures...100.0%|███████████████████████████████████████████████████| [00:00,   5.02it/s]\n"
     ]
    },
    {
     "name": "stdout",
     "output_type": "stream",
     "text": [
      "       Step     Time          Energy          fmax\n",
      "LBFGS:    0 18:59:47    -1143.208389        0.007449\n"
     ]
    },
    {
     "name": "stderr",
     "output_type": "stream",
     "text": [
      "672513604.py:11: FutureWarning: Please use len(self) or, if your atoms are distributed, self.get_global_number_of_atoms.\n"
     ]
    },
    {
     "name": "stdout",
     "output_type": "stream",
     "text": [
      "       Step     Time          Energy          fmax\n",
      "LBFGS:    0 18:59:52    -1143.583044        1.964550\n",
      "LBFGS:    1 18:59:56    -1143.738363        1.310597\n",
      "LBFGS:    2 19:00:01    -1143.871877        0.596318\n",
      "LBFGS:    3 19:00:06    -1143.919683        0.378798\n",
      "LBFGS:    4 19:00:11    -1143.947637        0.303659\n",
      "LBFGS:    5 19:00:16    -1143.967870        0.176574\n",
      "LBFGS:    6 19:00:21    -1143.978887        0.213197\n",
      "LBFGS:    7 19:00:26    -1143.989095        0.194127\n",
      "LBFGS:    8 19:00:31    -1143.996267        0.099816\n",
      "LBFGS:    9 19:00:35    -1144.000097        0.102609\n",
      "LBFGS:   10 19:00:40    -1144.002370        0.068589\n",
      "LBFGS:   11 19:00:45    -1144.004293        0.079749\n",
      "LBFGS:   12 19:00:50    -1144.005834        0.065157\n",
      "LBFGS:   13 19:00:55    -1144.007207        0.053512\n",
      "LBFGS:   14 19:01:00    -1144.008550        0.055417\n",
      "LBFGS:   15 19:01:05    -1144.009756        0.062733\n",
      "LBFGS:   16 19:01:10    -1144.010717        0.057561\n",
      "LBFGS:   17 19:01:15    -1144.011648        0.041407\n",
      "LBFGS:   18 19:01:20    -1144.012563        0.039373\n",
      "LBFGS:   19 19:01:25    -1144.013418        0.037222\n",
      "LBFGS:   20 19:01:30    -1144.013998        0.034442\n",
      "LBFGS:   21 19:01:34    -1144.014501        0.033549\n",
      "LBFGS:   22 19:01:39    -1144.015081        0.034085\n",
      "LBFGS:   23 19:01:44    -1144.015600        0.033982\n",
      "LBFGS:   24 19:01:49    -1144.016103        0.031080\n",
      "LBFGS:   25 19:01:54    -1144.016500        0.024547\n",
      "LBFGS:   26 19:01:59    -1144.016851        0.022542\n",
      "LBFGS:   27 19:02:04    -1144.017095        0.023180\n",
      "LBFGS:   28 19:02:09    -1144.017416        0.023626\n",
      "LBFGS:   29 19:02:14    -1144.017721        0.026753\n",
      "LBFGS:   30 19:02:19    -1144.017980        0.020120\n",
      "LBFGS:   31 19:02:24    -1144.018209        0.018834\n",
      "LBFGS:   32 19:02:29    -1144.018392        0.016909\n",
      "LBFGS:   33 19:02:34    -1144.018575        0.014461\n",
      "LBFGS:   34 19:02:39    -1144.018728        0.014212\n",
      "LBFGS:   35 19:02:44    -1144.018835        0.014890\n",
      "LBFGS:   36 19:02:49    -1144.018957        0.018374\n",
      "LBFGS:   37 19:02:54    -1144.019018        0.013082\n",
      "LBFGS:   38 19:02:59    -1144.019094        0.010580\n",
      "LBFGS:   39 19:03:04    -1144.019231        0.011878\n",
      "LBFGS:   40 19:03:08    -1144.019338        0.014463\n",
      "LBFGS:   41 19:03:13    -1144.019399        0.011069\n",
      "LBFGS:   42 19:03:18    -1144.019460        0.009766\n"
     ]
    },
    {
     "name": "stderr",
     "output_type": "stream",
     "text": [
      "compatibility.py:629: UserWarning: Failed to guess oxidation states for Entry None (Al11Cr(PO3)36). Assigning anion correction to only the most electronegative atom.\n"
     ]
    },
    {
     "name": "stdout",
     "output_type": "stream",
     "text": [
      "       Step     Time          Energy          fmax\n",
      "LBFGS:    0 19:03:26     -980.780593       63.284676\n",
      "LBFGS:    1 19:03:31    -1066.346982       17.177792\n",
      "LBFGS:    2 19:03:36    -1109.263769       17.093789\n",
      "LBFGS:    3 19:03:41    -1125.575712       14.364560\n",
      "LBFGS:    4 19:03:46    -1134.445882        6.386939\n",
      "LBFGS:    5 19:03:51    -1137.975812        5.110168\n",
      "LBFGS:    6 19:03:56    -1140.108526        2.825837\n",
      "LBFGS:    7 19:04:01    -1141.602117        1.840449\n",
      "LBFGS:    8 19:04:06    -1142.329259        1.267616\n",
      "LBFGS:    9 19:04:11    -1142.822835        0.677353\n",
      "LBFGS:   10 19:04:16    -1143.115713        0.775111\n",
      "LBFGS:   11 19:04:21    -1143.339986        0.702166\n",
      "LBFGS:   12 19:04:26    -1143.510351        0.624040\n",
      "LBFGS:   13 19:04:31    -1143.626379        0.355220\n",
      "LBFGS:   14 19:04:36    -1143.707632        0.415945\n",
      "LBFGS:   15 19:04:41    -1143.768774        0.322394\n",
      "LBFGS:   16 19:04:46    -1143.814382        0.281115\n",
      "LBFGS:   17 19:04:50    -1143.848180        0.220235\n",
      "LBFGS:   18 19:04:55    -1143.874151        0.187462\n",
      "LBFGS:   19 19:05:00    -1143.894933        0.178351\n",
      "LBFGS:   20 19:05:05    -1143.912618        0.231516\n",
      "LBFGS:   21 19:05:10    -1143.928289        0.155594\n",
      "LBFGS:   22 19:05:15    -1143.942266        0.150737\n",
      "LBFGS:   23 19:05:20    -1143.953832        0.119866\n",
      "LBFGS:   24 19:05:25    -1143.962911        0.116886\n",
      "LBFGS:   25 19:05:30    -1143.970739        0.101681\n",
      "LBFGS:   26 19:05:35    -1143.977758        0.107238\n",
      "LBFGS:   27 19:05:40    -1143.984136        0.097178\n",
      "LBFGS:   28 19:05:45    -1143.989797        0.099229\n",
      "LBFGS:   29 19:05:50    -1143.994375        0.071013\n",
      "LBFGS:   30 19:05:55    -1143.998189        0.074936\n",
      "LBFGS:   31 19:06:00    -1144.001409        0.061937\n",
      "LBFGS:   32 19:06:05    -1144.004034        0.050766\n",
      "LBFGS:   33 19:06:10    -1144.006124        0.051142\n",
      "LBFGS:   34 19:06:15    -1144.007864        0.055052\n",
      "LBFGS:   35 19:06:20    -1144.009435        0.046251\n",
      "LBFGS:   36 19:06:25    -1144.010763        0.034980\n",
      "LBFGS:   37 19:06:30    -1144.011800        0.034321\n",
      "LBFGS:   38 19:06:34    -1144.012670        0.034324\n",
      "LBFGS:   39 19:06:39    -1144.013464        0.032103\n",
      "LBFGS:   40 19:06:44    -1144.014242        0.031606\n",
      "LBFGS:   41 19:06:49    -1144.014928        0.030538\n",
      "LBFGS:   42 19:06:54    -1144.015539        0.025609\n",
      "LBFGS:   43 19:06:59    -1144.016027        0.023038\n",
      "LBFGS:   44 19:07:04    -1144.016469        0.031064\n",
      "LBFGS:   45 19:07:09    -1144.016805        0.028334\n",
      "LBFGS:   46 19:07:14    -1144.017110        0.023672\n",
      "LBFGS:   47 19:07:19    -1144.017370        0.019152\n",
      "LBFGS:   48 19:07:24    -1144.017751        0.022233\n",
      "LBFGS:   49 19:07:29    -1144.017980        0.017194\n",
      "LBFGS:   50 19:07:34    -1144.018163        0.016511\n",
      "LBFGS:   51 19:07:39    -1144.018423        0.014758\n",
      "LBFGS:   52 19:07:44    -1144.018560        0.014964\n",
      "LBFGS:   53 19:07:49    -1144.018728        0.013495\n",
      "LBFGS:   54 19:07:54    -1144.018896        0.013268\n",
      "LBFGS:   55 19:07:59    -1144.019033        0.013957\n",
      "LBFGS:   56 19:08:04    -1144.019125        0.013915\n",
      "LBFGS:   57 19:08:09    -1144.019231        0.011888\n",
      "LBFGS:   58 19:08:14    -1144.019308        0.011753\n",
      "LBFGS:   59 19:08:19    -1144.019323        0.008182\n"
     ]
    },
    {
     "name": "stderr",
     "output_type": "stream",
     "text": [
      "Generating DefectEntry objects: 100.0%|████████████████████████████████████████████████████████████| [00:27,   3.59it/s]\n"
     ]
    },
    {
     "name": "stdout",
     "output_type": "stream",
     "text": [
      "Vacancies    Guessed Charges    Conv. Cell Coords    Wyckoff\n",
      "-----------  -----------------  -------------------  ---------\n",
      "v_Li         [+1,0,-1]          [0.000,0.000,0.000]  3a\n",
      "v_Al         [+1,0,-1,-2,-3]    [0.000,0.000,0.500]  3b\n",
      "v_O          [+2,+1,0,-1]       [0.000,0.000,0.238]  6c\n",
      "\n",
      "Substitutions    Guessed Charges     Conv. Cell Coords    Wyckoff\n",
      "---------------  ------------------  -------------------  ---------\n",
      "Li_Al            [0,-1,-2]           [0.000,0.000,0.500]  3b\n",
      "Li_O             [+3,+2,+1,0]        [0.000,0.000,0.238]  6c\n",
      "Al_Li            [+2,+1,0]           [0.000,0.000,0.000]  3a\n",
      "Al_O             [+5,+4,+3,+2,+1,0]  [0.000,0.000,0.238]  6c\n",
      "O_Li             [0,-1,-2,-3]        [0.000,0.000,0.000]  3a\n",
      "O_Al             [0,-1,-2,-3,-4,-5]  [0.000,0.000,0.500]  3b\n",
      "Cr_Li            [+5,+4,+3,+2,+1,0]  [0.000,0.000,0.000]  3a\n",
      "Cr_Al            [+3,+2,+1,0,-1]     [0.000,0.000,0.500]  3b\n",
      "Cr_O             [+5,+4,+3,+2,+1,0]  [0.000,0.000,0.238]  6c\n",
      "\n",
      "The number in the Wyckoff label is the site multiplicity/degeneracy of that defect in the conventional ('conv.') unit cell, which comprises 3 formula unit(s) of LiAlO2.\n",
      "\n",
      "Oxidation states were not explicitly set, thus have been guessed as {'Li': 1.0, 'Al': 3.0, 'O': -2.0, 'Cr': 3.0}. If this is unreasonable you should manually set oxidation_states\n",
      "Applying ShakeNBreak... Will apply the following bond distortions: ['-0.6', '-0.5', '-0.4', '-0.3', '-0.2', '-0.1', '0.0', '0.1', '0.2', '0.3', '0.4', '0.5', '0.6', 'Dimer (for vacancies)']. Then, will rattle with a std dev of 0.19 Å \n",
      "\n"
     ]
    },
    {
     "name": "stderr",
     "output_type": "stream",
     "text": [
      "Generating distorted defect structures...0.0%|                                                         | [00:00,  ?it/s]"
     ]
    },
    {
     "name": "stdout",
     "output_type": "stream",
     "text": [
      "\u001b[1m\n",
      "Defect: Cr_Al\u001b[0m\n",
      "\u001b[1mNumber of missing electrons in neutral state: 0\u001b[0m\n",
      "\n",
      "Defect Cr_Al in charge state: 0. Number of distorted neighbours: 0\n"
     ]
    },
    {
     "name": "stderr",
     "output_type": "stream",
     "text": [
      "Generating distorted defect structures...100.0%|███████████████████████████████████████████████████| [00:00,   3.93it/s]\n"
     ]
    },
    {
     "name": "stdout",
     "output_type": "stream",
     "text": [
      "       Step     Time          Energy          fmax\n",
      "LBFGS:    0 19:08:51     -688.263277        0.001868\n"
     ]
    },
    {
     "name": "stderr",
     "output_type": "stream",
     "text": [
      "672513604.py:11: FutureWarning: Please use len(self) or, if your atoms are distributed, self.get_global_number_of_atoms.\n"
     ]
    },
    {
     "name": "stdout",
     "output_type": "stream",
     "text": [
      "       Step     Time          Energy          fmax\n",
      "LBFGS:    0 19:08:57     -688.903069        1.693446\n",
      "LBFGS:    1 19:09:02     -689.100212        1.030939\n",
      "LBFGS:    2 19:09:08     -689.237053        0.216195\n",
      "LBFGS:    3 19:09:14     -689.245095        0.138482\n",
      "LBFGS:    4 19:09:20     -689.250298        0.080499\n",
      "LBFGS:    5 19:09:25     -689.252938        0.060103\n",
      "LBFGS:    6 19:09:31     -689.254479        0.048842\n",
      "LBFGS:    7 19:09:37     -689.255104        0.028126\n",
      "LBFGS:    8 19:09:43     -689.255440        0.020976\n",
      "LBFGS:    9 19:09:49     -689.255791        0.018546\n",
      "LBFGS:   10 19:09:55     -689.256035        0.020990\n",
      "LBFGS:   11 19:10:00     -689.256295        0.013583\n",
      "LBFGS:   12 19:10:06     -689.256417        0.011444\n",
      "LBFGS:   13 19:10:12     -689.256462        0.009498\n"
     ]
    },
    {
     "name": "stderr",
     "output_type": "stream",
     "text": [
      "compatibility.py:629: UserWarning: Failed to guess oxidation states for Entry None (Li26Al25CrO52). Assigning anion correction to only the most electronegative atom.\n"
     ]
    },
    {
     "name": "stdout",
     "output_type": "stream",
     "text": [
      "       Step     Time          Energy          fmax\n",
      "LBFGS:    0 19:10:21     -625.147690       15.393959\n",
      "LBFGS:    1 19:10:26     -656.416314        7.574615\n",
      "LBFGS:    2 19:10:32     -675.256524        3.977551\n",
      "LBFGS:    3 19:10:38     -681.401925        2.622799\n",
      "LBFGS:    4 19:10:43     -684.068886        2.544896\n",
      "LBFGS:    5 19:10:49     -686.278527        1.336196\n",
      "LBFGS:    6 19:10:55     -687.216408        1.334202\n",
      "LBFGS:    7 19:11:00     -687.950463        1.116045\n",
      "LBFGS:    8 19:11:06     -688.374230        0.873919\n",
      "LBFGS:    9 19:11:12     -688.657128        0.579166\n",
      "LBFGS:   10 19:11:17     -688.825203        0.449918\n",
      "LBFGS:   11 19:11:23     -688.964684        0.501584\n",
      "LBFGS:   12 19:11:28     -689.056801        0.338865\n",
      "LBFGS:   13 19:11:34     -689.109948        0.270168\n",
      "LBFGS:   14 19:11:39     -689.144234        0.214412\n",
      "LBFGS:   15 19:11:45     -689.172402        0.214223\n",
      "LBFGS:   16 19:11:51     -689.194344        0.164814\n",
      "LBFGS:   17 19:11:57     -689.209786        0.157300\n",
      "LBFGS:   18 19:12:02     -689.221566        0.162974\n",
      "LBFGS:   19 19:12:08     -689.231591        0.161991\n",
      "LBFGS:   20 19:12:14     -689.239159        0.101848\n",
      "LBFGS:   21 19:12:20     -689.244164        0.075358\n",
      "LBFGS:   22 19:12:26     -689.247643        0.064323\n",
      "LBFGS:   23 19:12:31     -689.250237        0.071995\n",
      "LBFGS:   24 19:12:37     -689.251992        0.045508\n",
      "LBFGS:   25 19:12:43     -689.253045        0.032914\n",
      "LBFGS:   26 19:12:49     -689.253777        0.026846\n",
      "LBFGS:   27 19:12:55     -689.254403        0.030655\n",
      "LBFGS:   28 19:13:01     -689.254952        0.030012\n",
      "LBFGS:   29 19:13:07     -689.255303        0.029783\n",
      "LBFGS:   30 19:13:12     -689.255669        0.019504\n",
      "LBFGS:   31 19:13:18     -689.255791        0.020986\n",
      "LBFGS:   32 19:13:24     -689.255959        0.016099\n",
      "LBFGS:   33 19:13:30     -689.256051        0.012805\n",
      "LBFGS:   34 19:13:36     -689.256127        0.012940\n",
      "LBFGS:   35 19:13:42     -689.256249        0.013523\n",
      "LBFGS:   36 19:13:48     -689.256279        0.010590\n",
      "LBFGS:   37 19:13:53     -689.256386        0.010055\n",
      "LBFGS:   38 19:13:59     -689.256386        0.009591\n"
     ]
    },
    {
     "name": "stderr",
     "output_type": "stream",
     "text": [
      "Generating DefectEntry objects: 100.0%|████████████████████████████████████████████████████████████| [00:16,   5.96it/s]\n"
     ]
    },
    {
     "name": "stdout",
     "output_type": "stream",
     "text": [
      "Vacancies    Guessed Charges    Conv. Cell Coords    Wyckoff\n",
      "-----------  -----------------  -------------------  ---------\n",
      "v_Al         [+1,0,-1,-2,-3]    [0.000,0.500,0.095]  2b\n",
      "v_Cl         [+1,0,-1]          [0.000,0.000,0.713]  2a\n",
      "v_O          [+2,+1,0,-1]       [0.000,0.000,0.045]  2a\n",
      "\n",
      "Substitutions    Guessed Charges     Conv. Cell Coords    Wyckoff\n",
      "---------------  ------------------  -------------------  ---------\n",
      "Al_Cl            [+4,+3,+2,+1,0]     [0.000,0.000,0.713]  2a\n",
      "Al_O             [+5,+4,+3,+2,+1,0]  [0.000,0.000,0.045]  2a\n",
      "Cl_Al            [0,-1,-2,-3,-4]     [0.000,0.500,0.095]  2b\n",
      "Cl_O             [+1,0]              [0.000,0.000,0.045]  2a\n",
      "O_Al             [0,-1,-2,-3,-4,-5]  [0.000,0.500,0.095]  2b\n",
      "O_Cl             [0,-1]              [0.000,0.000,0.713]  2a\n",
      "Cr_Al            [+3,+2,+1,0,-1]     [0.000,0.500,0.095]  2b\n",
      "Cr_Cl            [+4,+3,+2,+1,0]     [0.000,0.000,0.713]  2a\n",
      "Cr_O             [+5,+4,+3,+2,+1,0]  [0.000,0.000,0.045]  2a\n",
      "\n",
      "The number in the Wyckoff label is the site multiplicity/degeneracy of that defect in the conventional ('conv.') unit cell, which comprises 2 formula unit(s) of AlOCl.\n",
      "\n",
      "Oxidation states were not explicitly set, thus have been guessed as {'Al': 3.0, 'Cl': -1.0, 'O': -2.0, 'Cr': 3.0}. If this is unreasonable you should manually set oxidation_states\n",
      "Applying ShakeNBreak... Will apply the following bond distortions: ['-0.6', '-0.5', '-0.4', '-0.3', '-0.2', '-0.1', '0.0', '0.1', '0.2', '0.3', '0.4', '0.5', '0.6', 'Dimer (for vacancies)']. Then, will rattle with a std dev of 0.19 Å \n",
      "\n"
     ]
    },
    {
     "name": "stderr",
     "output_type": "stream",
     "text": [
      "Generating distorted defect structures...0.0%|                                                         | [00:00,  ?it/s]"
     ]
    },
    {
     "name": "stdout",
     "output_type": "stream",
     "text": [
      "\u001b[1m\n",
      "Defect: Cr_Al\u001b[0m\n",
      "\u001b[1mNumber of missing electrons in neutral state: 0\u001b[0m\n",
      "\n",
      "Defect Cr_Al in charge state: 0. Number of distorted neighbours: 0\n"
     ]
    },
    {
     "name": "stderr",
     "output_type": "stream",
     "text": [
      "Generating distorted defect structures...100.0%|███████████████████████████████████████████████████| [00:00,   4.10it/s]\n"
     ]
    },
    {
     "name": "stdout",
     "output_type": "stream",
     "text": [
      "       Step     Time          Energy          fmax\n",
      "LBFGS:    0 19:14:20     -316.789583        0.000658\n"
     ]
    },
    {
     "name": "stderr",
     "output_type": "stream",
     "text": [
      "672513604.py:11: FutureWarning: Please use len(self) or, if your atoms are distributed, self.get_global_number_of_atoms.\n"
     ]
    },
    {
     "name": "stdout",
     "output_type": "stream",
     "text": [
      "       Step     Time          Energy          fmax\n",
      "LBFGS:    0 19:14:22     -317.925510        2.179477\n",
      "LBFGS:    1 19:14:24     -318.071190        1.064950\n",
      "LBFGS:    2 19:14:26     -318.148060        0.383005\n",
      "LBFGS:    3 19:14:27     -318.164143        0.295007\n",
      "LBFGS:    4 19:14:29     -318.180977        0.185173\n",
      "LBFGS:    5 19:14:31     -318.186012        0.144760\n",
      "LBFGS:    6 19:14:34     -318.189552        0.097021\n",
      "LBFGS:    7 19:14:35     -318.191528        0.097906\n",
      "LBFGS:    8 19:14:37     -318.193153        0.096795\n",
      "LBFGS:    9 19:14:39     -318.194115        0.059689\n",
      "LBFGS:   10 19:14:41     -318.194698        0.050485\n",
      "LBFGS:   11 19:14:43     -318.195133        0.038332\n",
      "LBFGS:   12 19:14:45     -318.195568        0.035036\n",
      "LBFGS:   13 19:14:47     -318.196014        0.037739\n",
      "LBFGS:   14 19:14:49     -318.196430        0.041576\n",
      "LBFGS:   15 19:14:51     -318.196823        0.028402\n",
      "LBFGS:   16 19:14:53     -318.197056        0.020815\n",
      "LBFGS:   17 19:14:55     -318.197197        0.020155\n",
      "LBFGS:   18 19:14:57     -318.197311        0.016812\n",
      "LBFGS:   19 19:14:59     -318.197403        0.013807\n",
      "LBFGS:   20 19:15:01     -318.197491        0.013901\n",
      "LBFGS:   21 19:15:02     -318.197533        0.012956\n",
      "LBFGS:   22 19:15:04     -318.197575        0.009631\n"
     ]
    },
    {
     "name": "stderr",
     "output_type": "stream",
     "text": [
      "compatibility.py:629: UserWarning: Failed to guess oxidation states for Entry None (Al17Cr(ClO)18). Assigning anion correction to only the most electronegative atom.\n"
     ]
    },
    {
     "name": "stdout",
     "output_type": "stream",
     "text": [
      "       Step     Time          Energy          fmax\n",
      "LBFGS:    0 19:15:07     -288.846893       12.164274\n",
      "LBFGS:    1 19:15:09     -304.383488        4.746742\n",
      "LBFGS:    2 19:15:11     -310.654156        2.399075\n",
      "LBFGS:    3 19:15:13     -313.669083        1.773860\n",
      "LBFGS:    4 19:15:15     -314.817696        1.355060\n",
      "LBFGS:    5 19:15:17     -315.812214        1.536513\n",
      "LBFGS:    6 19:15:19     -316.552345        1.195025\n",
      "LBFGS:    7 19:15:21     -317.095486        1.333831\n",
      "LBFGS:    8 19:15:23     -317.465801        1.056012\n",
      "LBFGS:    9 19:15:25     -317.731209        0.579809\n",
      "LBFGS:   10 19:15:27     -317.874130        0.526085\n",
      "LBFGS:   11 19:15:29     -317.970413        0.467171\n",
      "LBFGS:   12 19:15:31     -318.037800        0.432447\n",
      "LBFGS:   13 19:15:33     -318.081730        0.335738\n",
      "LBFGS:   14 19:15:35     -318.109383        0.287489\n",
      "LBFGS:   15 19:15:36     -318.129787        0.241157\n",
      "LBFGS:   16 19:15:38     -318.145870        0.237221\n",
      "LBFGS:   17 19:15:40     -318.159161        0.236436\n",
      "LBFGS:   18 19:15:42     -318.169727        0.154847\n",
      "LBFGS:   19 19:15:44     -318.178074        0.153442\n",
      "LBFGS:   20 19:15:46     -318.184406        0.125479\n",
      "LBFGS:   21 19:15:48     -318.188702        0.104274\n",
      "LBFGS:   22 19:15:50     -318.191441        0.082197\n",
      "LBFGS:   23 19:15:53     -318.193275        0.070252\n",
      "LBFGS:   24 19:15:55     -318.194466        0.045168\n",
      "LBFGS:   25 19:15:57     -318.195232        0.047468\n",
      "LBFGS:   26 19:15:59     -318.195709        0.036909\n",
      "LBFGS:   27 19:16:01     -318.196094        0.032117\n",
      "LBFGS:   28 19:16:03     -318.196392        0.028390\n",
      "LBFGS:   29 19:16:05     -318.196644        0.029477\n",
      "LBFGS:   30 19:16:07     -318.196876        0.021019\n",
      "LBFGS:   31 19:16:09     -318.197048        0.026050\n",
      "LBFGS:   32 19:16:11     -318.197201        0.021159\n",
      "LBFGS:   33 19:16:13     -318.197330        0.021540\n",
      "LBFGS:   34 19:16:15     -318.197426        0.014676\n",
      "LBFGS:   35 19:16:17     -318.197491        0.014400\n",
      "LBFGS:   36 19:16:19     -318.197529        0.013289\n",
      "LBFGS:   37 19:16:21     -318.197597        0.010380\n",
      "LBFGS:   38 19:16:23     -318.197639        0.009010\n"
     ]
    },
    {
     "name": "stderr",
     "output_type": "stream",
     "text": [
      "Generating DefectEntry objects: 100.0%|████████████████████████████████████████████████████████████| [00:26,   3.77it/s]\n"
     ]
    },
    {
     "name": "stdout",
     "output_type": "stream",
     "text": [
      "Vacancies    Guessed Charges    Conv. Cell Coords    Wyckoff\n",
      "-----------  -----------------  -------------------  ---------\n",
      "v_Sm         [+1,0,-1,-2,-3]    [0.491,0.750,0.036]  4c\n",
      "v_Al         [+1,0,-1,-2,-3]    [0.000,0.000,0.000]  4a\n",
      "v_O_C1       [+2,+1,0,-1]       [0.219,0.538,0.282]  8d\n",
      "v_O_Cs       [+2,+1,0,-1]       [0.072,0.250,0.013]  4c\n",
      "\n",
      "Substitutions    Guessed Charges     Conv. Cell Coords    Wyckoff\n",
      "---------------  ------------------  -------------------  ---------\n",
      "Sm_Al            [+1,0,-1]           [0.000,0.000,0.000]  4a\n",
      "Sm_O_C1          [+5,+4,+3,+2,+1,0]  [0.219,0.538,0.282]  8d\n",
      "Sm_O_Cs          [+5,+4,+3,+2,+1,0]  [0.072,0.250,0.013]  4c\n",
      "Al_Sm            [+1,0,-1]           [0.491,0.750,0.036]  4c\n",
      "Al_O_C1          [+5,+4,+3,+2,+1,0]  [0.219,0.538,0.282]  8d\n",
      "Al_O_Cs          [+5,+4,+3,+2,+1,0]  [0.072,0.250,0.013]  4c\n",
      "O_Sm             [0,-1,-2,-3,-4,-5]  [0.491,0.750,0.036]  4c\n",
      "O_Al             [0,-1,-2,-3,-4,-5]  [0.000,0.000,0.000]  4a\n",
      "Cr_Sm            [+3,+2,+1,0,-1]     [0.491,0.750,0.036]  4c\n",
      "Cr_Al            [+3,+2,+1,0,-1]     [0.000,0.000,0.000]  4a\n",
      "Cr_O_C1          [+5,+4,+3,+2,+1,0]  [0.219,0.538,0.282]  8d\n",
      "Cr_O_Cs          [+5,+4,+3,+2,+1,0]  [0.072,0.250,0.013]  4c\n",
      "\n",
      "The number in the Wyckoff label is the site multiplicity/degeneracy of that defect in the conventional ('conv.') unit cell, which comprises 4 formula unit(s) of SmAlO3.\n",
      "\n",
      "Oxidation states were not explicitly set, thus have been guessed as {'Sm': 3.0, 'Al': 3.0, 'O': -2.0, 'Cr': 3.0}. If this is unreasonable you should manually set oxidation_states\n",
      "Applying ShakeNBreak... Will apply the following bond distortions: ['-0.6', '-0.5', '-0.4', '-0.3', '-0.2', '-0.1', '0.0', '0.1', '0.2', '0.3', '0.4', '0.5', '0.6', 'Dimer (for vacancies)']. Then, will rattle with a std dev of 0.19 Å \n",
      "\n"
     ]
    },
    {
     "name": "stderr",
     "output_type": "stream",
     "text": [
      "Generating distorted defect structures...0.0%|                                                         | [00:00,  ?it/s]"
     ]
    },
    {
     "name": "stdout",
     "output_type": "stream",
     "text": [
      "\u001b[1m\n",
      "Defect: Cr_Al\u001b[0m\n",
      "\u001b[1mNumber of missing electrons in neutral state: 0\u001b[0m\n",
      "\n",
      "Defect Cr_Al in charge state: 0. Number of distorted neighbours: 0\n"
     ]
    },
    {
     "name": "stderr",
     "output_type": "stream",
     "text": [
      "Generating distorted defect structures...100.0%|███████████████████████████████████████████████████| [00:00,   4.40it/s]\n"
     ]
    },
    {
     "name": "stdout",
     "output_type": "stream",
     "text": [
      "       Step     Time          Energy          fmax\n",
      "LBFGS:    0 19:16:52     -634.784107        0.008147\n"
     ]
    },
    {
     "name": "stderr",
     "output_type": "stream",
     "text": [
      "672513604.py:11: FutureWarning: Please use len(self) or, if your atoms are distributed, self.get_global_number_of_atoms.\n"
     ]
    },
    {
     "name": "stdout",
     "output_type": "stream",
     "text": [
      "       Step     Time          Energy          fmax\n",
      "LBFGS:    0 19:16:55     -635.443964        1.687031\n",
      "LBFGS:    1 19:16:59     -635.618677        0.923069\n",
      "LBFGS:    2 19:17:03     -635.708734        0.236154\n",
      "LBFGS:    3 19:17:06     -635.719446        0.166740\n",
      "LBFGS:    4 19:17:10     -635.732660        0.131203\n",
      "LBFGS:    5 19:17:14     -635.736490        0.095734\n",
      "LBFGS:    6 19:17:17     -635.739847        0.068537\n",
      "LBFGS:    7 19:17:21     -635.741586        0.049318\n",
      "LBFGS:    8 19:17:25     -635.743417        0.044876\n",
      "LBFGS:    9 19:17:29     -635.745020        0.048002\n",
      "LBFGS:   10 19:17:32     -635.746271        0.042866\n",
      "LBFGS:   11 19:17:36     -635.746988        0.028765\n",
      "LBFGS:   12 19:17:40     -635.747415        0.023695\n",
      "LBFGS:   13 19:17:44     -635.747675        0.020611\n",
      "LBFGS:   14 19:17:47     -635.747995        0.020403\n",
      "LBFGS:   15 19:17:51     -635.748163        0.015894\n",
      "LBFGS:   16 19:17:55     -635.748316        0.010878\n",
      "LBFGS:   17 19:17:59     -635.748422        0.010606\n",
      "LBFGS:   18 19:18:02     -635.748468        0.009705\n"
     ]
    },
    {
     "name": "stderr",
     "output_type": "stream",
     "text": [
      "compatibility.py:629: UserWarning: Failed to guess oxidation states for Entry None (Sm16Al15CrO48). Assigning anion correction to only the most electronegative atom.\n"
     ]
    },
    {
     "name": "stdout",
     "output_type": "stream",
     "text": [
      "       Step     Time          Energy          fmax\n",
      "LBFGS:    0 19:18:08     -571.399645       20.369195\n",
      "LBFGS:    1 19:18:12     -601.901872        8.067054\n",
      "LBFGS:    2 19:18:15     -622.631998        4.418038\n",
      "LBFGS:    3 19:18:20     -629.743967        3.166483\n",
      "LBFGS:    4 19:18:23     -632.111582        2.112409\n",
      "LBFGS:    5 19:18:27     -633.618189        1.382599\n",
      "LBFGS:    6 19:18:31     -634.458643        1.000308\n",
      "LBFGS:    7 19:18:35     -634.893076        0.833501\n",
      "LBFGS:    8 19:18:39     -635.180597        0.694822\n",
      "LBFGS:    9 19:18:42     -635.383981        0.553229\n",
      "LBFGS:   10 19:18:46     -635.500482        0.461043\n",
      "LBFGS:   11 19:18:50     -635.576257        0.337738\n",
      "LBFGS:   12 19:18:54     -635.628122        0.289048\n",
      "LBFGS:   13 19:18:57     -635.661646        0.261691\n",
      "LBFGS:   14 19:19:01     -635.684335        0.187517\n",
      "LBFGS:   15 19:19:05     -635.702036        0.165280\n",
      "LBFGS:   16 19:19:08     -635.715341        0.134362\n",
      "LBFGS:   17 19:19:12     -635.724329        0.140513\n",
      "LBFGS:   18 19:19:16     -635.730707        0.091561\n",
      "LBFGS:   19 19:19:20     -635.735803        0.089618\n",
      "LBFGS:   20 19:19:23     -635.739771        0.074347\n",
      "LBFGS:   21 19:19:27     -635.742502        0.070276\n",
      "LBFGS:   22 19:19:31     -635.744348        0.056243\n",
      "LBFGS:   23 19:19:34     -635.745722        0.043954\n",
      "LBFGS:   24 19:19:38     -635.746668        0.034361\n",
      "LBFGS:   25 19:19:42     -635.747247        0.028010\n",
      "LBFGS:   26 19:19:45     -635.747629        0.025026\n",
      "LBFGS:   27 19:19:49     -635.747858        0.019856\n",
      "LBFGS:   28 19:19:53     -635.748102        0.015996\n",
      "LBFGS:   29 19:19:57     -635.748209        0.014853\n",
      "LBFGS:   30 19:20:00     -635.748316        0.012199\n",
      "LBFGS:   31 19:20:04     -635.748392        0.010489\n",
      "LBFGS:   32 19:20:08     -635.748438        0.007996\n"
     ]
    },
    {
     "name": "stderr",
     "output_type": "stream",
     "text": [
      "Generating DefectEntry objects: 100.0%|████████████████████████████████████████████████████████████| [00:27,   3.63it/s]\n"
     ]
    },
    {
     "name": "stdout",
     "output_type": "stream",
     "text": [
      "Vacancies       Guessed Charges        Conv. Cell Coords    Wyckoff\n",
      "--------------  ---------------------  -------------------  ---------\n",
      "v_Al            [+1,0,-1,-2,-3]        [0.000,0.500,0.000]  2b\n",
      "v_W             [+1,0,-1,-2,-3,-4,-5]  [0.500,0.500,0.500]  2d\n",
      "v_O_C2v_Al1.89  [+2,+1,0,-1]           [0.000,0.205,0.000]  4i\n",
      "v_O_C2v_W1.95   [+2,+1,0,-1]           [0.195,0.500,0.500]  4h\n",
      "\n",
      "Substitutions    Guessed Charges              Conv. Cell Coords    Wyckoff\n",
      "---------------  ---------------------------  -------------------  ---------\n",
      "Al_O_C2v_Al1.89  [+5,+4,+3,+2,+1,0]           [0.000,0.205,0.000]  4i\n",
      "Al_W             [0,-1,-2]                    [0.500,0.500,0.500]  2d\n",
      "Al_O_C2v_W1.95   [+5,+4,+3,+2,+1,0]           [0.195,0.500,0.500]  4h\n",
      "W_Al             [+3,+2,+1,0,-1]              [0.000,0.500,0.000]  2b\n",
      "W_O_C2v_Al1.89   [+8,+7,+6,+5,+4,+3,+2,+1,0]  [0.000,0.205,0.000]  4i\n",
      "W_O_C2v_W1.95    [+8,+7,+6,+5,+4,+3,+2,+1,0]  [0.195,0.500,0.500]  4h\n",
      "O_Al             [0,-1,-2,-3,-4,-5]           [0.000,0.500,0.000]  2b\n",
      "O_W              [0,-1,-2,-3,-4,-5,-6,-7]     [0.500,0.500,0.500]  2d\n",
      "Cr_Al            [+3,+2,+1,0,-1]              [0.000,0.500,0.000]  2b\n",
      "Cr_W             [+1,0,-1,-2,-3]              [0.500,0.500,0.500]  2d\n",
      "Cr_O_C2v_Al1.89  [+8,+7,+6,+5,+4,+3,+2,+1,0]  [0.000,0.205,0.000]  4i\n",
      "Cr_O_C2v_W1.95   [+8,+7,+6,+5,+4,+3,+2,+1,0]  [0.195,0.500,0.500]  4h\n",
      "\n",
      "The number in the Wyckoff label is the site multiplicity/degeneracy of that defect in the conventional ('conv.') unit cell, which comprises 2 formula unit(s) of WAlO4.\n",
      "\n",
      "Oxidation states were not explicitly set, thus have been guessed as {'Al': 3.0, 'W': 5.0, 'O': -2.0, 'Cr': 3.0}. If this is unreasonable you should manually set oxidation_states\n",
      "Applying ShakeNBreak... Will apply the following bond distortions: ['-0.6', '-0.5', '-0.4', '-0.3', '-0.2', '-0.1', '0.0', '0.1', '0.2', '0.3', '0.4', '0.5', '0.6', 'Dimer (for vacancies)']. Then, will rattle with a std dev of 0.19 Å \n",
      "\n"
     ]
    },
    {
     "name": "stderr",
     "output_type": "stream",
     "text": [
      "Generating distorted defect structures...100.0%|███████████████████████████████████████████████████| [00:00,   7.86it/s]\n"
     ]
    },
    {
     "name": "stdout",
     "output_type": "stream",
     "text": [
      "\u001b[1m\n",
      "Defect: Cr_Al\u001b[0m\n",
      "\u001b[1mNumber of missing electrons in neutral state: 0\u001b[0m\n",
      "\n",
      "Defect Cr_Al in charge state: 0. Number of distorted neighbours: 0\n",
      "       Step     Time          Energy          fmax\n",
      "LBFGS:    0 19:20:38     -634.132826        0.001251\n"
     ]
    },
    {
     "name": "stderr",
     "output_type": "stream",
     "text": [
      "672513604.py:11: FutureWarning: Please use len(self) or, if your atoms are distributed, self.get_global_number_of_atoms.\n"
     ]
    },
    {
     "name": "stdout",
     "output_type": "stream",
     "text": [
      "       Step     Time          Energy          fmax\n",
      "LBFGS:    0 19:20:42     -635.135180        1.882387\n",
      "LBFGS:    1 19:20:47     -635.264502        0.936363\n",
      "LBFGS:    2 19:20:51     -635.360432        0.311136\n",
      "LBFGS:    3 19:20:55     -635.380049        0.256632\n",
      "LBFGS:    4 19:20:59     -635.396380        0.211485\n",
      "LBFGS:    5 19:21:04     -635.402899        0.081709\n",
      "LBFGS:    6 19:21:08     -635.406319        0.064078\n",
      "LBFGS:    7 19:21:12     -635.407950        0.068987\n",
      "LBFGS:    8 19:21:16     -635.409168        0.058938\n",
      "LBFGS:    9 19:21:20     -635.410065        0.033243\n",
      "LBFGS:   10 19:21:25     -635.410692        0.028790\n",
      "LBFGS:   11 19:21:29     -635.411064        0.023215\n",
      "LBFGS:   12 19:21:33     -635.411278        0.018672\n",
      "LBFGS:   13 19:21:37     -635.411421        0.014682\n",
      "LBFGS:   14 19:21:41     -635.411524        0.010976\n",
      "LBFGS:   15 19:21:45     -635.411574        0.009160\n"
     ]
    },
    {
     "name": "stderr",
     "output_type": "stream",
     "text": [
      "compatibility.py:629: UserWarning: Failed to guess oxidation states for Entry None (Al13Cr(WO4)14). Assigning anion correction to only the most electronegative atom.\n"
     ]
    },
    {
     "name": "stdout",
     "output_type": "stream",
     "text": [
      "       Step     Time          Energy          fmax\n",
      "LBFGS:    0 19:21:51     -560.266670       34.647424\n",
      "LBFGS:    1 19:21:55     -589.164534       11.194745\n",
      "LBFGS:    2 19:21:59     -614.551291        6.826730\n",
      "LBFGS:    3 19:22:04     -625.725029        4.718128\n",
      "LBFGS:    4 19:22:09     -629.488011        3.226946\n",
      "LBFGS:    5 19:22:13     -631.889385        1.910465\n",
      "LBFGS:    6 19:22:17     -633.037123        1.598387\n",
      "LBFGS:    7 19:22:22     -634.090733        1.528461\n",
      "LBFGS:    8 19:22:26     -634.607002        0.946083\n",
      "LBFGS:    9 19:22:30     -634.919619        0.673614\n",
      "LBFGS:   10 19:22:34     -635.076098        0.513009\n",
      "LBFGS:   11 19:22:38     -635.191443        0.474169\n",
      "LBFGS:   12 19:22:42     -635.259318        0.369154\n",
      "LBFGS:   13 19:22:46     -635.303910        0.269509\n",
      "LBFGS:   14 19:22:50     -635.337881        0.219105\n",
      "LBFGS:   15 19:22:54     -635.361658        0.207301\n",
      "LBFGS:   16 19:22:59     -635.376423        0.158078\n",
      "LBFGS:   17 19:23:03     -635.386091        0.139617\n",
      "LBFGS:   18 19:23:07     -635.393221        0.119030\n",
      "LBFGS:   19 19:23:11     -635.398730        0.109322\n",
      "LBFGS:   20 19:23:15     -635.402685        0.081185\n",
      "LBFGS:   21 19:23:19     -635.405424        0.072724\n",
      "LBFGS:   22 19:23:23     -635.407435        0.057477\n",
      "LBFGS:   23 19:23:27     -635.408871        0.050907\n",
      "LBFGS:   24 19:23:31     -635.409880        0.042952\n",
      "LBFGS:   25 19:23:36     -635.410527        0.030164\n",
      "LBFGS:   26 19:23:40     -635.410927        0.022937\n",
      "LBFGS:   27 19:23:44     -635.411183        0.018306\n",
      "LBFGS:   28 19:23:48     -635.411356        0.014735\n",
      "LBFGS:   29 19:23:52     -635.411469        0.012938\n",
      "LBFGS:   30 19:23:56     -635.411539        0.009883\n"
     ]
    },
    {
     "name": "stderr",
     "output_type": "stream",
     "text": [
      "Generating DefectEntry objects: 100.0%|████████████████████████████████████████████████████████████| [01:28,   1.13it/s]\n"
     ]
    },
    {
     "name": "stdout",
     "output_type": "stream",
     "text": [
      "Vacancies                 Guessed Charges        Conv. Cell Coords    Wyckoff\n",
      "------------------------  ---------------------  -------------------  ---------\n",
      "v_K_C1_O2.80O2.88O2.92    [+1,0,-1]              [0.319,0.682,0.191]  2a\n",
      "v_K_C1_O2.80O2.88O2.93    [+1,0,-1]              [0.682,0.318,0.309]  2a\n",
      "v_Al_C1_O1.87O1.90O1.94   [+1,0,-1,-2,-3]        [0.261,0.400,0.491]  2a\n",
      "v_Al_C1_O1.87O1.90O1.95   [+1,0,-1,-2,-3]        [0.739,0.600,0.009]  2a\n",
      "v_P_C1_O1.50O1.53O1.63a   [+1,0,-1,-2,-3,-4,-5]  [0.374,0.098,0.419]  2a\n",
      "v_P_C1_O1.50O1.53O1.63b   [+1,0,-1,-2,-3,-4,-5]  [0.374,0.403,0.919]  2a\n",
      "v_P_C1_O1.52O1.64P2.89a   [+1,0,-1,-2,-3,-4,-5]  [0.066,0.369,0.062]  2a\n",
      "v_P_C1_O1.52O1.64P2.89b   [+1,0,-1,-2,-3,-4,-5]  [0.067,0.131,0.562]  2a\n",
      "v_O_C1_P1.50Al1.87O2.52a  [+2,+1,0,-1]           [0.350,0.092,0.230]  2a\n",
      "v_O_C1_P1.50Al1.87O2.52b  [+2,+1,0,-1]           [0.350,0.407,0.730]  2a\n",
      "v_O_C1_P1.52Al1.90O2.51a  [+2,+1,0,-1]           [0.177,0.396,0.247]  2a\n",
      "v_O_C1_P1.52Al1.90O2.51b  [+2,+1,0,-1]           [0.177,0.104,0.747]  2a\n",
      "v_O_C1_P1.53Al1.92O2.49a  [+2,+1,0,-1]           [0.523,0.500,0.025]  2a\n",
      "v_O_C1_P1.53Al1.92O2.49b  [+2,+1,0,-1]           [0.524,0.000,0.526]  2a\n",
      "v_O_C1_P1.53Al1.92O2.51a  [+2,+1,0,-1]           [0.130,0.569,0.489]  2a\n",
      "v_O_C1_P1.53Al1.92O2.51b  [+2,+1,0,-1]           [0.870,0.431,0.011]  2a\n",
      "v_O_C1_P1.54Al1.92O2.49a  [+2,+1,0,-1]           [0.415,0.242,0.495]  2a\n",
      "v_O_C1_P1.54Al1.92O2.49b  [+2,+1,0,-1]           [0.585,0.759,0.005]  2a\n",
      "v_O_C1_P1.54Al1.94        [+2,+1,0,-1]           [0.058,0.281,0.505]  2a\n",
      "v_O_C1_P1.54Al1.95        [+2,+1,0,-1]           [0.057,0.219,0.004]  2a\n",
      "v_O_C1_P1.63O2.51O2.55a   [+2,+1,0,-1]           [0.178,0.047,0.448]  2a\n",
      "v_O_C1_P1.63O2.51O2.55b   [+2,+1,0,-1]           [0.178,0.453,0.948]  2a\n",
      "\n",
      "Substitutions              Guessed Charges              Conv. Cell Coords    Wyckoff\n",
      "-------------------------  ---------------------------  -------------------  ---------\n",
      "K_Al_C1_O1.87O1.90O1.94    [0,-1,-2]                    [0.261,0.400,0.491]  2a\n",
      "K_Al_C1_O1.87O1.90O1.95    [0,-1,-2]                    [0.739,0.600,0.009]  2a\n",
      "K_P_C1_O1.50O1.53O1.63a    [0,-1,-2,-3,-4]              [0.374,0.098,0.419]  2a\n",
      "K_P_C1_O1.50O1.53O1.63b    [0,-1,-2,-3,-4]              [0.374,0.403,0.919]  2a\n",
      "K_P_C1_O1.52O1.64P2.89a    [0,-1,-2,-3,-4]              [0.066,0.369,0.062]  2a\n",
      "K_P_C1_O1.52O1.64P2.89b    [0,-1,-2,-3,-4]              [0.067,0.131,0.562]  2a\n",
      "K_O_C1_P1.50Al1.87O2.52a   [+3,+2,+1,0]                 [0.350,0.092,0.230]  2a\n",
      "K_O_C1_P1.50Al1.87O2.52b   [+3,+2,+1,0]                 [0.350,0.407,0.730]  2a\n",
      "K_O_C1_P1.52Al1.90O2.51a   [+3,+2,+1,0]                 [0.177,0.396,0.247]  2a\n",
      "K_O_C1_P1.52Al1.90O2.51b   [+3,+2,+1,0]                 [0.177,0.104,0.747]  2a\n",
      "K_O_C1_P1.53Al1.92O2.49a   [+3,+2,+1,0]                 [0.523,0.500,0.025]  2a\n",
      "K_O_C1_P1.53Al1.92O2.49b   [+3,+2,+1,0]                 [0.524,0.000,0.526]  2a\n",
      "K_O_C1_P1.53Al1.92O2.51a   [+3,+2,+1,0]                 [0.130,0.569,0.489]  2a\n",
      "K_O_C1_P1.53Al1.92O2.51b   [+3,+2,+1,0]                 [0.870,0.431,0.011]  2a\n",
      "K_O_C1_P1.54Al1.92O2.49a   [+3,+2,+1,0]                 [0.415,0.242,0.495]  2a\n",
      "K_O_C1_P1.54Al1.92O2.49b   [+3,+2,+1,0]                 [0.585,0.759,0.005]  2a\n",
      "K_O_C1_P1.54Al1.94         [+3,+2,+1,0]                 [0.058,0.281,0.505]  2a\n",
      "K_O_C1_P1.54Al1.95         [+3,+2,+1,0]                 [0.057,0.219,0.004]  2a\n",
      "K_O_C1_P1.63O2.51O2.55a    [+3,+2,+1,0]                 [0.178,0.047,0.448]  2a\n",
      "K_O_C1_P1.63O2.51O2.55b    [+3,+2,+1,0]                 [0.178,0.453,0.948]  2a\n",
      "Al_K_C1_O2.80O2.88O2.92    [+2,+1,0]                    [0.319,0.682,0.191]  2a\n",
      "Al_K_C1_O2.80O2.88O2.93    [+2,+1,0]                    [0.682,0.318,0.309]  2a\n",
      "Al_P_C1_O1.50O1.53O1.63a   [0,-1,-2]                    [0.374,0.098,0.419]  2a\n",
      "Al_P_C1_O1.50O1.53O1.63b   [0,-1,-2]                    [0.374,0.403,0.919]  2a\n",
      "Al_P_C1_O1.52O1.64P2.89a   [0,-1,-2]                    [0.066,0.369,0.062]  2a\n",
      "Al_P_C1_O1.52O1.64P2.89b   [0,-1,-2]                    [0.067,0.131,0.562]  2a\n",
      "Al_O_C1_P1.50Al1.87O2.52a  [+5,+4,+3,+2,+1,0]           [0.350,0.092,0.230]  2a\n",
      "Al_O_C1_P1.50Al1.87O2.52b  [+5,+4,+3,+2,+1,0]           [0.350,0.407,0.730]  2a\n",
      "Al_O_C1_P1.52Al1.90O2.51a  [+5,+4,+3,+2,+1,0]           [0.177,0.396,0.247]  2a\n",
      "Al_O_C1_P1.52Al1.90O2.51b  [+5,+4,+3,+2,+1,0]           [0.177,0.104,0.747]  2a\n",
      "Al_O_C1_P1.53Al1.92O2.49a  [+5,+4,+3,+2,+1,0]           [0.523,0.500,0.025]  2a\n",
      "Al_O_C1_P1.53Al1.92O2.49b  [+5,+4,+3,+2,+1,0]           [0.524,0.000,0.526]  2a\n",
      "Al_O_C1_P1.53Al1.92O2.51a  [+5,+4,+3,+2,+1,0]           [0.130,0.569,0.489]  2a\n",
      "Al_O_C1_P1.53Al1.92O2.51b  [+5,+4,+3,+2,+1,0]           [0.870,0.431,0.011]  2a\n",
      "Al_O_C1_P1.54Al1.92O2.49a  [+5,+4,+3,+2,+1,0]           [0.415,0.242,0.495]  2a\n",
      "Al_O_C1_P1.54Al1.92O2.49b  [+5,+4,+3,+2,+1,0]           [0.585,0.759,0.005]  2a\n",
      "Al_O_C1_P1.54Al1.94        [+5,+4,+3,+2,+1,0]           [0.058,0.281,0.505]  2a\n",
      "Al_O_C1_P1.54Al1.95        [+5,+4,+3,+2,+1,0]           [0.057,0.219,0.004]  2a\n",
      "Al_O_C1_P1.63O2.51O2.55a   [+5,+4,+3,+2,+1,0]           [0.178,0.047,0.448]  2a\n",
      "Al_O_C1_P1.63O2.51O2.55b   [+5,+4,+3,+2,+1,0]           [0.178,0.453,0.948]  2a\n",
      "P_K_C1_O2.80O2.88O2.92     [+4,+3,+2,+1,0,-1,-2,-3,-4]  [0.319,0.682,0.191]  2a\n",
      "P_K_C1_O2.80O2.88O2.93     [+4,+3,+2,+1,0,-1,-2,-3,-4]  [0.682,0.318,0.309]  2a\n",
      "P_Al_C1_O1.87O1.90O1.94    [+2,+1,0,-1,-2,-3,-4,-5,-6]  [0.261,0.400,0.491]  2a\n",
      "P_Al_C1_O1.87O1.90O1.95    [+2,+1,0,-1,-2,-3,-4,-5,-6]  [0.739,0.600,0.009]  2a\n",
      "P_O_C1_P1.50Al1.87O2.52a   [+7,+6,+5,+4,+3,+2,+1,0,-1]  [0.350,0.092,0.230]  2a\n",
      "P_O_C1_P1.50Al1.87O2.52b   [+7,+6,+5,+4,+3,+2,+1,0,-1]  [0.350,0.407,0.730]  2a\n",
      "P_O_C1_P1.52Al1.90O2.51a   [+7,+6,+5,+4,+3,+2,+1,0,-1]  [0.177,0.396,0.247]  2a\n",
      "P_O_C1_P1.52Al1.90O2.51b   [+7,+6,+5,+4,+3,+2,+1,0,-1]  [0.177,0.104,0.747]  2a\n",
      "P_O_C1_P1.53Al1.92O2.49a   [+7,+6,+5,+4,+3,+2,+1,0,-1]  [0.523,0.500,0.025]  2a\n",
      "P_O_C1_P1.53Al1.92O2.49b   [+7,+6,+5,+4,+3,+2,+1,0,-1]  [0.524,0.000,0.526]  2a\n",
      "P_O_C1_P1.53Al1.92O2.51a   [+7,+6,+5,+4,+3,+2,+1,0,-1]  [0.130,0.569,0.489]  2a\n",
      "P_O_C1_P1.53Al1.92O2.51b   [+7,+6,+5,+4,+3,+2,+1,0,-1]  [0.870,0.431,0.011]  2a\n",
      "P_O_C1_P1.54Al1.92O2.49a   [+7,+6,+5,+4,+3,+2,+1,0,-1]  [0.415,0.242,0.495]  2a\n",
      "P_O_C1_P1.54Al1.92O2.49b   [+7,+6,+5,+4,+3,+2,+1,0,-1]  [0.585,0.759,0.005]  2a\n",
      "P_O_C1_P1.54Al1.94         [+7,+6,+5,+4,+3,+2,+1,0,-1]  [0.058,0.281,0.505]  2a\n",
      "P_O_C1_P1.54Al1.95         [+7,+6,+5,+4,+3,+2,+1,0,-1]  [0.057,0.219,0.004]  2a\n",
      "P_O_C1_P1.63O2.51O2.55a    [+7,+6,+5,+4,+3,+2,+1,0,-1]  [0.178,0.047,0.448]  2a\n",
      "P_O_C1_P1.63O2.51O2.55b    [+7,+6,+5,+4,+3,+2,+1,0,-1]  [0.178,0.453,0.948]  2a\n",
      "O_K_C1_O2.80O2.88O2.92     [0,-1,-2,-3]                 [0.319,0.682,0.191]  2a\n",
      "O_K_C1_O2.80O2.88O2.93     [0,-1,-2,-3]                 [0.682,0.318,0.309]  2a\n",
      "O_Al_C1_O1.87O1.90O1.94    [0,-1,-2,-3,-4,-5]           [0.261,0.400,0.491]  2a\n",
      "O_Al_C1_O1.87O1.90O1.95    [0,-1,-2,-3,-4,-5]           [0.739,0.600,0.009]  2a\n",
      "O_P_C1_O1.50O1.53O1.63a    [0,-1,-2,-3,-4,-5,-6,-7]     [0.374,0.098,0.419]  2a\n",
      "O_P_C1_O1.50O1.53O1.63b    [0,-1,-2,-3,-4,-5,-6,-7]     [0.374,0.403,0.919]  2a\n",
      "O_P_C1_O1.52O1.64P2.89a    [0,-1,-2,-3,-4,-5,-6,-7]     [0.066,0.369,0.062]  2a\n",
      "O_P_C1_O1.52O1.64P2.89b    [0,-1,-2,-3,-4,-5,-6,-7]     [0.067,0.131,0.562]  2a\n",
      "Cr_K_C1_O2.80O2.88O2.92    [+5,+4,+3,+2,+1,0]           [0.319,0.682,0.191]  2a\n",
      "Cr_K_C1_O2.80O2.88O2.93    [+5,+4,+3,+2,+1,0]           [0.682,0.318,0.309]  2a\n",
      "Cr_Al_C1_O1.87O1.90O1.94   [+3,+2,+1,0,-1]              [0.261,0.400,0.491]  2a\n",
      "Cr_Al_C1_O1.87O1.90O1.95   [+3,+2,+1,0,-1]              [0.739,0.600,0.009]  2a\n",
      "Cr_P_C1_O1.50O1.53O1.63a   [+1,0,-1,-2,-3]              [0.374,0.098,0.419]  2a\n",
      "Cr_P_C1_O1.50O1.53O1.63b   [+1,0,-1,-2,-3]              [0.374,0.403,0.919]  2a\n",
      "Cr_P_C1_O1.52O1.64P2.89a   [+1,0,-1,-2,-3]              [0.066,0.369,0.062]  2a\n",
      "Cr_P_C1_O1.52O1.64P2.89b   [+1,0,-1,-2,-3]              [0.067,0.131,0.562]  2a\n",
      "Cr_O_C1_P1.50Al1.87O2.52a  [+8,+7,+6,+5,+4,+3,+2,+1,0]  [0.350,0.092,0.230]  2a\n",
      "Cr_O_C1_P1.50Al1.87O2.52b  [+8,+7,+6,+5,+4,+3,+2,+1,0]  [0.350,0.407,0.730]  2a\n",
      "Cr_O_C1_P1.52Al1.90O2.51a  [+8,+7,+6,+5,+4,+3,+2,+1,0]  [0.177,0.396,0.247]  2a\n",
      "Cr_O_C1_P1.52Al1.90O2.51b  [+8,+7,+6,+5,+4,+3,+2,+1,0]  [0.177,0.104,0.747]  2a\n",
      "Cr_O_C1_P1.53Al1.92O2.49a  [+8,+7,+6,+5,+4,+3,+2,+1,0]  [0.523,0.500,0.025]  2a\n",
      "Cr_O_C1_P1.53Al1.92O2.49b  [+8,+7,+6,+5,+4,+3,+2,+1,0]  [0.524,0.000,0.526]  2a\n",
      "Cr_O_C1_P1.53Al1.92O2.51a  [+8,+7,+6,+5,+4,+3,+2,+1,0]  [0.130,0.569,0.489]  2a\n",
      "Cr_O_C1_P1.53Al1.92O2.51b  [+8,+7,+6,+5,+4,+3,+2,+1,0]  [0.870,0.431,0.011]  2a\n",
      "Cr_O_C1_P1.54Al1.92O2.49a  [+8,+7,+6,+5,+4,+3,+2,+1,0]  [0.415,0.242,0.495]  2a\n",
      "Cr_O_C1_P1.54Al1.92O2.49b  [+8,+7,+6,+5,+4,+3,+2,+1,0]  [0.585,0.759,0.005]  2a\n",
      "Cr_O_C1_P1.54Al1.94        [+8,+7,+6,+5,+4,+3,+2,+1,0]  [0.058,0.281,0.505]  2a\n",
      "Cr_O_C1_P1.54Al1.95        [+8,+7,+6,+5,+4,+3,+2,+1,0]  [0.057,0.219,0.004]  2a\n",
      "Cr_O_C1_P1.63O2.51O2.55a   [+8,+7,+6,+5,+4,+3,+2,+1,0]  [0.178,0.047,0.448]  2a\n",
      "Cr_O_C1_P1.63O2.51O2.55b   [+8,+7,+6,+5,+4,+3,+2,+1,0]  [0.178,0.453,0.948]  2a\n",
      "\n",
      "The number in the Wyckoff label is the site multiplicity/degeneracy of that defect in the conventional ('conv.') unit cell, which comprises 4 formula unit(s) of KAlP2O7.\n",
      "\n",
      "Oxidation states were not explicitly set, thus have been guessed as {'K': 1.0, 'Al': 3.0, 'P': 5.0, 'O': -2.0, 'Cr': 3.0}. If this is unreasonable you should manually set oxidation_states\n",
      "Applying ShakeNBreak... Will apply the following bond distortions: ['-0.6', '-0.5', '-0.4', '-0.3', '-0.2', '-0.1', '0.0', '0.1', '0.2', '0.3', '0.4', '0.5', '0.6', 'Dimer (for vacancies)']. Then, will rattle with a std dev of 0.15 Å \n",
      "\n"
     ]
    },
    {
     "name": "stderr",
     "output_type": "stream",
     "text": [
      "Generating distorted defect structures...50.0%|██████████████████████████                          | [00:00,   6.80it/s]"
     ]
    },
    {
     "name": "stdout",
     "output_type": "stream",
     "text": [
      "\u001b[1m\n",
      "Defect: Cr_Al_C1_O1.87O1.90O1.94\u001b[0m\n",
      "\u001b[1mNumber of missing electrons in neutral state: 0\u001b[0m\n",
      "\n",
      "Defect Cr_Al_C1_O1.87O1.90O1.94 in charge state: 0. Number of distorted neighbours: 0\n",
      "\u001b[1m\n",
      "Defect: Cr_Al_C1_O1.87O1.90O1.95\u001b[0m\n",
      "\u001b[1mNumber of missing electrons in neutral state: 0\u001b[0m\n",
      "\n",
      "Defect Cr_Al_C1_O1.87O1.90O1.95 in charge state: 0. Number of distorted neighbours: 0\n"
     ]
    },
    {
     "name": "stderr",
     "output_type": "stream",
     "text": [
      "Generating distorted defect structures...100.0%|███████████████████████████████████████████████████| [00:00,   6.47it/s]\n"
     ]
    },
    {
     "name": "stdout",
     "output_type": "stream",
     "text": [
      "       Step     Time          Energy          fmax\n",
      "LBFGS:    0 19:25:28     -933.185715        0.008957\n"
     ]
    },
    {
     "name": "stderr",
     "output_type": "stream",
     "text": [
      "672513604.py:11: FutureWarning: Please use len(self) or, if your atoms are distributed, self.get_global_number_of_atoms.\n"
     ]
    },
    {
     "name": "stdout",
     "output_type": "stream",
     "text": [
      "       Step     Time          Energy          fmax\n",
      "LBFGS:    0 19:25:33     -933.707465        1.918602\n",
      "LBFGS:    1 19:25:37     -933.849692        1.334119\n",
      "LBFGS:    2 19:25:42     -933.956549        0.456004\n",
      "LBFGS:    3 19:25:47     -934.008810        0.406646\n",
      "LBFGS:    4 19:25:52     -934.037085        0.284973\n",
      "LBFGS:    5 19:25:56     -934.058371        0.211775\n",
      "LBFGS:    6 19:26:01     -934.070975        0.170268\n",
      "LBFGS:    7 19:26:06     -934.078452        0.133292\n",
      "LBFGS:    8 19:26:11     -934.084113        0.122036\n",
      "LBFGS:    9 19:26:16     -934.089819        0.113769\n",
      "LBFGS:   10 19:26:21     -934.095023        0.114772\n",
      "LBFGS:   11 19:26:26     -934.098715        0.096647\n",
      "LBFGS:   12 19:26:31     -934.101172        0.084876\n",
      "LBFGS:   13 19:26:35     -934.103415        0.080153\n",
      "LBFGS:   14 19:26:40     -934.105704        0.080490\n",
      "LBFGS:   15 19:26:45     -934.107596        0.069003\n",
      "LBFGS:   16 19:26:50     -934.109076        0.056340\n",
      "LBFGS:   17 19:26:55     -934.110190        0.054047\n",
      "LBFGS:   18 19:27:00     -934.111288        0.045952\n",
      "LBFGS:   19 19:27:05     -934.112097        0.051840\n",
      "LBFGS:   20 19:27:10     -934.112814        0.045376\n",
      "LBFGS:   21 19:27:15     -934.113364        0.035391\n",
      "LBFGS:   22 19:27:19     -934.113837        0.042931\n",
      "LBFGS:   23 19:27:24     -934.114310        0.039351\n",
      "LBFGS:   24 19:27:29     -934.114722        0.040771\n",
      "LBFGS:   25 19:27:34     -934.115195        0.029597\n",
      "LBFGS:   26 19:27:39     -934.115469        0.024712\n",
      "LBFGS:   27 19:27:44     -934.115683        0.017223\n",
      "LBFGS:   28 19:27:49     -934.115958        0.018320\n",
      "LBFGS:   29 19:27:54     -934.116095        0.017852\n",
      "LBFGS:   30 19:27:59     -934.116278        0.019213\n",
      "LBFGS:   31 19:28:04     -934.116415        0.015872\n",
      "LBFGS:   32 19:28:09     -934.116507        0.011884\n",
      "LBFGS:   33 19:28:14     -934.116614        0.012064\n",
      "LBFGS:   34 19:28:19     -934.116705        0.014666\n",
      "LBFGS:   35 19:28:23     -934.116721        0.010936\n",
      "LBFGS:   36 19:28:28     -934.116751        0.008859\n"
     ]
    },
    {
     "name": "stderr",
     "output_type": "stream",
     "text": [
      "compatibility.py:629: UserWarning: Failed to guess oxidation states for Entry None (K12Al11Cr(P2O7)12). Assigning anion correction to only the most electronegative atom.\n"
     ]
    },
    {
     "name": "stdout",
     "output_type": "stream",
     "text": [
      "       Step     Time          Energy          fmax\n",
      "LBFGS:    0 19:28:36     -825.405630       47.483509\n",
      "LBFGS:    1 19:28:40     -881.340620       13.729642\n",
      "LBFGS:    2 19:28:45     -911.573126        9.105802\n",
      "LBFGS:    3 19:28:50     -922.434851        9.341080\n",
      "LBFGS:    4 19:28:55     -927.532217        4.063808\n",
      "LBFGS:    5 19:29:00     -929.685004        2.701352\n",
      "LBFGS:    6 19:29:05     -931.281241        1.858117\n",
      "LBFGS:    7 19:29:09     -932.242758        1.038685\n",
      "LBFGS:    8 19:29:14     -932.721060        1.129754\n",
      "LBFGS:    9 19:29:19     -933.118246        0.738441\n",
      "LBFGS:   10 19:29:24     -933.366522        0.576046\n",
      "LBFGS:   11 19:29:28     -933.545081        0.452755\n",
      "LBFGS:   12 19:29:33     -933.672949        0.422388\n",
      "LBFGS:   13 19:29:38     -933.768378        0.356659\n",
      "LBFGS:   14 19:29:43     -933.837973        0.287705\n",
      "LBFGS:   15 19:29:48     -933.894675        0.307148\n",
      "LBFGS:   16 19:29:53     -933.942725        0.271875\n",
      "LBFGS:   17 19:29:59     -933.980505        0.247538\n",
      "LBFGS:   18 19:30:04     -934.008719        0.181367\n",
      "LBFGS:   19 19:30:09     -934.030371        0.154520\n",
      "LBFGS:   20 19:30:14     -934.047110        0.164819\n",
      "LBFGS:   21 19:30:19     -934.059164        0.163596\n",
      "LBFGS:   22 19:30:24     -934.067984        0.140827\n",
      "LBFGS:   23 19:30:30     -934.074774        0.098320\n",
      "LBFGS:   24 19:30:35     -934.080130        0.076650\n",
      "LBFGS:   25 19:30:40     -934.084387        0.075330\n",
      "LBFGS:   26 19:30:45     -934.087943        0.070193\n",
      "LBFGS:   27 19:30:52     -934.091147        0.074466\n",
      "LBFGS:   28 19:30:57     -934.093817        0.062230\n",
      "LBFGS:   29 19:31:02     -934.096030        0.061370\n",
      "LBFGS:   30 19:31:07     -934.098029        0.054261\n",
      "LBFGS:   31 19:31:13     -934.099951        0.056958\n",
      "LBFGS:   32 19:31:18     -934.101767        0.063569\n",
      "LBFGS:   33 19:31:23     -934.103293        0.045461\n",
      "LBFGS:   34 19:31:28     -934.104697        0.044506\n",
      "LBFGS:   35 19:31:33     -934.105948        0.046816\n",
      "LBFGS:   36 19:31:38     -934.107275        0.044210\n",
      "LBFGS:   37 19:31:43     -934.108420        0.039467\n",
      "LBFGS:   38 19:31:49     -934.109427        0.033207\n",
      "LBFGS:   39 19:31:54     -934.110190        0.035423\n",
      "LBFGS:   40 19:31:59     -934.110846        0.039602\n",
      "LBFGS:   41 19:32:04     -934.111441        0.030896\n",
      "LBFGS:   42 19:32:09     -934.111945        0.021958\n",
      "LBFGS:   43 19:32:15     -934.112372        0.024375\n",
      "LBFGS:   44 19:32:20     -934.112784        0.023799\n",
      "LBFGS:   45 19:32:25     -934.113226        0.028215\n",
      "LBFGS:   46 19:32:30     -934.113531        0.023001\n",
      "LBFGS:   47 19:32:36     -934.113882        0.019105\n",
      "LBFGS:   48 19:32:41     -934.114142        0.019593\n",
      "LBFGS:   49 19:32:46     -934.114401        0.019088\n",
      "LBFGS:   50 19:32:51     -934.114661        0.020776\n",
      "LBFGS:   51 19:32:57     -934.114890        0.024664\n",
      "LBFGS:   52 19:33:02     -934.115195        0.020462\n",
      "LBFGS:   53 19:33:07     -934.115439        0.020714\n",
      "LBFGS:   54 19:33:12     -934.115591        0.015375\n",
      "LBFGS:   55 19:33:17     -934.115881        0.019413\n",
      "LBFGS:   56 19:33:23     -934.115988        0.018030\n",
      "LBFGS:   57 19:33:28     -934.116156        0.015777\n",
      "LBFGS:   58 19:33:33     -934.116278        0.014624\n",
      "LBFGS:   59 19:33:37     -934.116415        0.017797\n",
      "LBFGS:   60 19:33:42     -934.116507        0.014469\n",
      "LBFGS:   61 19:33:47     -934.116660        0.013945\n",
      "LBFGS:   62 19:33:52     -934.116721        0.011326\n",
      "LBFGS:   63 19:33:57     -934.116827        0.011303\n",
      "LBFGS:   64 19:34:02     -934.116919        0.013113\n",
      "LBFGS:   65 19:34:06     -934.117011        0.008062\n",
      "       Step     Time          Energy          fmax\n",
      "LBFGS:    0 19:34:14     -933.706702        1.935613\n",
      "LBFGS:    1 19:34:18     -933.848914        1.349957\n",
      "LBFGS:    2 19:34:23     -933.955893        0.459759\n",
      "LBFGS:    3 19:34:28     -934.008246        0.407696\n",
      "LBFGS:    4 19:34:33     -934.036688        0.287270\n",
      "LBFGS:    5 19:34:38     -934.058112        0.213244\n",
      "LBFGS:    6 19:34:43     -934.070868        0.169518\n",
      "LBFGS:    7 19:34:48     -934.078467        0.133465\n",
      "LBFGS:    8 19:34:53     -934.084097        0.122562\n",
      "LBFGS:    9 19:34:58     -934.089819        0.114418\n",
      "LBFGS:   10 19:35:03     -934.095145        0.114817\n",
      "LBFGS:   11 19:35:08     -934.098837        0.095753\n",
      "LBFGS:   12 19:35:13     -934.101279        0.083792\n",
      "LBFGS:   13 19:35:17     -934.103537        0.079267\n",
      "LBFGS:   14 19:35:22     -934.105780        0.080248\n",
      "LBFGS:   15 19:35:27     -934.107687        0.068459\n",
      "LBFGS:   16 19:35:32     -934.109137        0.055434\n",
      "LBFGS:   17 19:35:37     -934.110220        0.053727\n",
      "LBFGS:   18 19:35:42     -934.111212        0.045182\n",
      "LBFGS:   19 19:35:47     -934.112143        0.051391\n",
      "LBFGS:   20 19:35:51     -934.112753        0.044706\n",
      "LBFGS:   21 19:35:56     -934.113287        0.035378\n",
      "LBFGS:   22 19:36:01     -934.113760        0.042120\n",
      "LBFGS:   23 19:36:06     -934.114249        0.039388\n",
      "LBFGS:   24 19:36:11     -934.114615        0.040465\n",
      "LBFGS:   25 19:36:16     -934.115042        0.029335\n",
      "LBFGS:   26 19:36:21     -934.115378        0.024493\n",
      "LBFGS:   27 19:36:26     -934.115683        0.016590\n",
      "LBFGS:   28 19:36:30     -934.115836        0.018392\n",
      "LBFGS:   29 19:36:35     -934.115973        0.016863\n",
      "LBFGS:   30 19:36:40     -934.116202        0.018341\n",
      "LBFGS:   31 19:36:45     -934.116293        0.014880\n",
      "LBFGS:   32 19:36:50     -934.116370        0.011819\n",
      "LBFGS:   33 19:36:55     -934.116492        0.011850\n",
      "LBFGS:   34 19:36:59     -934.116553        0.013915\n",
      "LBFGS:   35 19:37:04     -934.116629        0.011520\n",
      "LBFGS:   36 19:37:09     -934.116629        0.008726\n",
      "       Step     Time          Energy          fmax\n",
      "LBFGS:    0 19:37:16     -824.976366       47.651731\n",
      "LBFGS:    1 19:37:21     -880.519194       13.920560\n",
      "LBFGS:    2 19:37:26     -911.727660        8.958436\n",
      "LBFGS:    3 19:37:31     -922.937796        7.589268\n",
      "LBFGS:    4 19:37:35     -927.554770        3.687505\n",
      "LBFGS:    5 19:37:40     -929.587515        2.527361\n",
      "LBFGS:    6 19:37:45     -931.312674        1.665474\n",
      "LBFGS:    7 19:37:50     -932.263327        1.047889\n",
      "LBFGS:    8 19:37:54     -932.771735        1.063470\n",
      "LBFGS:    9 19:37:59     -933.164511        0.741803\n",
      "LBFGS:   10 19:38:04     -933.390906        0.606529\n",
      "LBFGS:   11 19:38:09     -933.563147        0.480621\n",
      "LBFGS:   12 19:38:13     -933.694006        0.388424\n",
      "LBFGS:   13 19:38:18     -933.787619        0.386052\n",
      "LBFGS:   14 19:38:23     -933.851416        0.304169\n",
      "LBFGS:   15 19:38:28     -933.903952        0.257347\n",
      "LBFGS:   16 19:38:32     -933.950079        0.260783\n",
      "LBFGS:   17 19:38:38     -933.986349        0.274871\n",
      "LBFGS:   18 19:38:42     -934.012778        0.205024\n",
      "LBFGS:   19 19:38:47     -934.033316        0.205181\n",
      "LBFGS:   20 19:38:52     -934.049948        0.175938\n",
      "LBFGS:   21 19:38:57     -934.062018        0.166197\n",
      "LBFGS:   22 19:39:02     -934.070395        0.136622\n",
      "LBFGS:   23 19:39:07     -934.076697        0.098090\n",
      "LBFGS:   24 19:39:12     -934.081580        0.097721\n",
      "LBFGS:   25 19:39:16     -934.085501        0.076721\n",
      "LBFGS:   26 19:39:21     -934.088797        0.064089\n",
      "LBFGS:   27 19:39:26     -934.091681        0.069540\n",
      "LBFGS:   28 19:39:31     -934.093893        0.064681\n",
      "LBFGS:   29 19:39:36     -934.095587        0.051027\n",
      "LBFGS:   30 19:39:41     -934.097189        0.047247\n",
      "LBFGS:   31 19:39:46     -934.098883        0.047408\n",
      "LBFGS:   32 19:39:51     -934.100333        0.051683\n",
      "LBFGS:   33 19:39:55     -934.101614        0.043584\n",
      "LBFGS:   34 19:40:00     -934.102759        0.043980\n",
      "LBFGS:   35 19:40:05     -934.103888        0.046531\n",
      "LBFGS:   36 19:40:10     -934.105063        0.044274\n",
      "LBFGS:   37 19:40:15     -934.106162        0.043049\n",
      "LBFGS:   38 19:40:20     -934.107214        0.034632\n",
      "LBFGS:   39 19:40:25     -934.108130        0.035392\n",
      "LBFGS:   40 19:40:30     -934.108908        0.038369\n",
      "LBFGS:   41 19:40:35     -934.109564        0.038622\n",
      "LBFGS:   42 19:40:39     -934.110144        0.026048\n",
      "LBFGS:   43 19:40:44     -934.110693        0.028114\n",
      "LBFGS:   44 19:40:49     -934.111243        0.028381\n",
      "LBFGS:   45 19:40:54     -934.111777        0.034219\n",
      "LBFGS:   46 19:40:59     -934.112250        0.028305\n",
      "LBFGS:   47 19:41:04     -934.112646        0.021779\n",
      "LBFGS:   48 19:41:09     -934.113150        0.024768\n",
      "LBFGS:   49 19:41:13     -934.113516        0.029982\n",
      "LBFGS:   50 19:41:18     -934.113913        0.028924\n",
      "LBFGS:   51 19:41:23     -934.114294        0.025806\n",
      "LBFGS:   52 19:41:28     -934.114691        0.025762\n",
      "LBFGS:   53 19:41:33     -934.115042        0.023642\n",
      "LBFGS:   54 19:41:38     -934.115363        0.020048\n",
      "LBFGS:   55 19:41:43     -934.115607        0.017352\n",
      "LBFGS:   56 19:41:47     -934.115851        0.020445\n",
      "LBFGS:   57 19:41:52     -934.116003        0.018839\n",
      "LBFGS:   58 19:41:57     -934.116187        0.015671\n",
      "LBFGS:   59 19:42:02     -934.116309        0.013214\n",
      "LBFGS:   60 19:42:07     -934.116507        0.016520\n",
      "LBFGS:   61 19:42:12     -934.116629        0.018175\n",
      "LBFGS:   62 19:42:17     -934.116721        0.012662\n",
      "LBFGS:   63 19:42:21     -934.116797        0.010691\n",
      "LBFGS:   64 19:42:27     -934.116888        0.013001\n",
      "LBFGS:   65 19:42:31     -934.116949        0.015057\n",
      "LBFGS:   66 19:42:36     -934.116995        0.011780\n",
      "LBFGS:   67 19:42:41     -934.117041        0.008494\n"
     ]
    },
    {
     "name": "stderr",
     "output_type": "stream",
     "text": [
      "Generating DefectEntry objects: 100.0%|████████████████████████████████████████████████████████████| [00:14,   6.81it/s]\n"
     ]
    },
    {
     "name": "stdout",
     "output_type": "stream",
     "text": [
      "Vacancies                Guessed Charges        Conv. Cell Coords    Wyckoff\n",
      "-----------------------  ---------------------  -------------------  ---------\n",
      "v_Cs_C2_O3.22            [+1,0,-1]              [0.297,0.297,0.000]  3a\n",
      "v_Cs_C2_O3.32            [+1,0,-1]              [0.464,0.464,0.500]  3b\n",
      "v_Al                     [+1,0,-1,-2,-3]        [0.690,0.690,0.000]  3a\n",
      "v_N_C1_O1.24O1.33Al2.90  [+1,0,-1,-2,-3,-4,-5]  [0.555,0.242,0.245]  6c\n",
      "v_N_C1_O1.24O1.33Al2.93  [+1,0,-1,-2,-3,-4,-5]  [0.089,0.348,0.405]  6c\n",
      "v_N_C2                   [+1,0,-1,-2,-3,-4,-5]  [0.904,0.904,0.000]  3a\n",
      "v_O_C1_N1.24O2.18O2.20   [+2,+1,0,-1]           [0.321,0.614,0.108]  6c\n",
      "v_O_C1_N1.24O2.18O3.27   [+2,+1,0,-1]           [0.185,0.385,0.330]  6c\n",
      "v_O_C1_N1.25O2.20O2.23   [+2,+1,0,-1]           [0.335,0.032,0.041]  6c\n",
      "v_O_C1_N1.25O2.20O2.93   [+2,+1,0,-1]           [0.491,0.305,0.242]  6c\n",
      "v_O_C1_N1.30             [+2,+1,0,-1]           [0.205,0.090,0.274]  6c\n",
      "v_O_C1_N1.33Al1.87       [+2,+1,0,-1]           [0.487,0.108,0.270]  6c\n",
      "v_O_C1_N1.33Al1.93       [+2,+1,0,-1]           [0.358,0.122,0.474]  6c\n",
      "v_O_C2                   [+2,+1,0,-1]           [0.012,0.012,0.000]  3a\n",
      "\n",
      "Substitutions             Guessed Charges              Conv. Cell Coords    Wyckoff\n",
      "------------------------  ---------------------------  -------------------  ---------\n",
      "Cs_Al                     [0,-1,-2]                    [0.690,0.690,0.000]  3a\n",
      "Cs_N_C1_O1.24O1.33Al2.90  [0,-1,-2,-3,-4]              [0.555,0.242,0.245]  6c\n",
      "Cs_N_C1_O1.24O1.33Al2.93  [0,-1,-2,-3,-4]              [0.089,0.348,0.405]  6c\n",
      "Cs_N_C2                   [0,-1,-2,-3,-4]              [0.904,0.904,0.000]  3a\n",
      "Cs_O_C1_N1.24O2.18O2.20   [+3,+2,+1,0]                 [0.321,0.614,0.108]  6c\n",
      "Cs_O_C1_N1.24O2.18O3.27   [+3,+2,+1,0]                 [0.185,0.385,0.330]  6c\n",
      "Cs_O_C1_N1.25O2.20O2.23   [+3,+2,+1,0]                 [0.335,0.032,0.041]  6c\n",
      "Cs_O_C1_N1.25O2.20O2.93   [+3,+2,+1,0]                 [0.491,0.305,0.242]  6c\n",
      "Cs_O_C1_N1.30             [+3,+2,+1,0]                 [0.205,0.090,0.274]  6c\n",
      "Cs_O_C1_N1.33Al1.87       [+3,+2,+1,0]                 [0.487,0.108,0.270]  6c\n",
      "Cs_O_C1_N1.33Al1.93       [+3,+2,+1,0]                 [0.358,0.122,0.474]  6c\n",
      "Cs_O_C2                   [+3,+2,+1,0]                 [0.012,0.012,0.000]  3a\n",
      "Al_Cs_C2_O3.22            [+2,+1,0]                    [0.297,0.297,0.000]  3a\n",
      "Al_Cs_C2_O3.32            [+2,+1,0]                    [0.464,0.464,0.500]  3b\n",
      "Al_N_C1_O1.24O1.33Al2.90  [0,-1,-2]                    [0.555,0.242,0.245]  6c\n",
      "Al_N_C1_O1.24O1.33Al2.93  [0,-1,-2]                    [0.089,0.348,0.405]  6c\n",
      "Al_N_C2                   [0,-1,-2]                    [0.904,0.904,0.000]  3a\n",
      "Al_O_C1_N1.24O2.18O2.20   [+5,+4,+3,+2,+1,0]           [0.321,0.614,0.108]  6c\n",
      "Al_O_C1_N1.24O2.18O3.27   [+5,+4,+3,+2,+1,0]           [0.185,0.385,0.330]  6c\n",
      "Al_O_C1_N1.25O2.20O2.23   [+5,+4,+3,+2,+1,0]           [0.335,0.032,0.041]  6c\n",
      "Al_O_C1_N1.25O2.20O2.93   [+5,+4,+3,+2,+1,0]           [0.491,0.305,0.242]  6c\n",
      "Al_O_C1_N1.30             [+5,+4,+3,+2,+1,0]           [0.205,0.090,0.274]  6c\n",
      "Al_O_C1_N1.33Al1.87       [+5,+4,+3,+2,+1,0]           [0.487,0.108,0.270]  6c\n",
      "Al_O_C1_N1.33Al1.93       [+5,+4,+3,+2,+1,0]           [0.358,0.122,0.474]  6c\n",
      "Al_O_C2                   [+5,+4,+3,+2,+1,0]           [0.012,0.012,0.000]  3a\n",
      "N_Cs_C2_O3.22             [+4,+3,+2,+1,0,-1,-2,-3,-4]  [0.297,0.297,0.000]  3a\n",
      "N_Cs_C2_O3.32             [+4,+3,+2,+1,0,-1,-2,-3,-4]  [0.464,0.464,0.500]  3b\n",
      "N_Al                      [+2,+1,0,-1,-2,-3,-4,-5,-6]  [0.690,0.690,0.000]  3a\n",
      "N_O_C1_N1.24O2.18O2.20    [+7,+6,+5,+4,+3,+2,+1,0,-1]  [0.321,0.614,0.108]  6c\n",
      "N_O_C1_N1.24O2.18O3.27    [+7,+6,+5,+4,+3,+2,+1,0,-1]  [0.185,0.385,0.330]  6c\n",
      "N_O_C1_N1.25O2.20O2.23    [+7,+6,+5,+4,+3,+2,+1,0,-1]  [0.335,0.032,0.041]  6c\n",
      "N_O_C1_N1.25O2.20O2.93    [+7,+6,+5,+4,+3,+2,+1,0,-1]  [0.491,0.305,0.242]  6c\n",
      "N_O_C1_N1.30              [+7,+6,+5,+4,+3,+2,+1,0,-1]  [0.205,0.090,0.274]  6c\n",
      "N_O_C1_N1.33Al1.87        [+7,+6,+5,+4,+3,+2,+1,0,-1]  [0.487,0.108,0.270]  6c\n",
      "N_O_C1_N1.33Al1.93        [+7,+6,+5,+4,+3,+2,+1,0,-1]  [0.358,0.122,0.474]  6c\n",
      "N_O_C2                    [+7,+6,+5,+4,+3,+2,+1,0,-1]  [0.012,0.012,0.000]  3a\n",
      "O_Cs_C2_O3.22             [0,-1,-2,-3]                 [0.297,0.297,0.000]  3a\n",
      "O_Cs_C2_O3.32             [0,-1,-2,-3]                 [0.464,0.464,0.500]  3b\n",
      "O_Al                      [0,-1,-2,-3,-4,-5]           [0.690,0.690,0.000]  3a\n",
      "O_N_C1_O1.24O1.33Al2.90   [0,-1,-2,-3,-4,-5,-6,-7]     [0.555,0.242,0.245]  6c\n",
      "O_N_C1_O1.24O1.33Al2.93   [0,-1,-2,-3,-4,-5,-6,-7]     [0.089,0.348,0.405]  6c\n",
      "O_N_C2                    [0,-1,-2,-3,-4,-5,-6,-7]     [0.904,0.904,0.000]  3a\n",
      "Cr_Cs_C2_O3.22            [+5,+4,+3,+2,+1,0]           [0.297,0.297,0.000]  3a\n",
      "Cr_Cs_C2_O3.32            [+5,+4,+3,+2,+1,0]           [0.464,0.464,0.500]  3b\n",
      "Cr_Al                     [+3,+2,+1,0,-1]              [0.690,0.690,0.000]  3a\n",
      "Cr_N_C1_O1.24O1.33Al2.90  [+1,0,-1,-2,-3]              [0.555,0.242,0.245]  6c\n",
      "Cr_N_C1_O1.24O1.33Al2.93  [+1,0,-1,-2,-3]              [0.089,0.348,0.405]  6c\n",
      "Cr_N_C2                   [+1,0,-1,-2,-3]              [0.904,0.904,0.000]  3a\n",
      "Cr_O_C1_N1.24O2.18O2.20   [+8,+7,+6,+5,+4,+3,+2,+1,0]  [0.321,0.614,0.108]  6c\n",
      "Cr_O_C1_N1.24O2.18O3.27   [+8,+7,+6,+5,+4,+3,+2,+1,0]  [0.185,0.385,0.330]  6c\n",
      "Cr_O_C1_N1.25O2.20O2.23   [+8,+7,+6,+5,+4,+3,+2,+1,0]  [0.335,0.032,0.041]  6c\n",
      "Cr_O_C1_N1.25O2.20O2.93   [+8,+7,+6,+5,+4,+3,+2,+1,0]  [0.491,0.305,0.242]  6c\n",
      "Cr_O_C1_N1.30             [+8,+7,+6,+5,+4,+3,+2,+1,0]  [0.205,0.090,0.274]  6c\n",
      "Cr_O_C1_N1.33Al1.87       [+8,+7,+6,+5,+4,+3,+2,+1,0]  [0.487,0.108,0.270]  6c\n",
      "Cr_O_C1_N1.33Al1.93       [+8,+7,+6,+5,+4,+3,+2,+1,0]  [0.358,0.122,0.474]  6c\n",
      "Cr_O_C2                   [+8,+7,+6,+5,+4,+3,+2,+1,0]  [0.012,0.012,0.000]  3a\n",
      "\n",
      "The number in the Wyckoff label is the site multiplicity/degeneracy of that defect in the conventional ('conv.') unit cell, which comprises 3 formula unit(s) of Cs2Al(NO3)5.\n",
      "\n",
      "Oxidation states were not explicitly set, thus have been guessed as {'Cs': 1.0, 'Al': 3.0, 'N': 5.0, 'O': -2.0, 'Cr': 3.0}. If this is unreasonable you should manually set oxidation_states\n",
      "Applying ShakeNBreak... Will apply the following bond distortions: ['-0.6', '-0.5', '-0.4', '-0.3', '-0.2', '-0.1', '0.0', '0.1', '0.2', '0.3', '0.4', '0.5', '0.6', 'Dimer (for vacancies)']. Then, will rattle with a std dev of 0.12 Å \n",
      "\n"
     ]
    },
    {
     "name": "stderr",
     "output_type": "stream",
     "text": [
      "Generating distorted defect structures...0.0%|                                                         | [00:00,  ?it/s]distortions.py:577: UserWarning: Automatic bond-length detection gave a bulk bond length of 1.2187370390006582 Å, which is almost certainly too small. Reverting to 2.25 Å. If this is too large, set `d_min` manually\n"
     ]
    },
    {
     "name": "stdout",
     "output_type": "stream",
     "text": [
      "\u001b[1m\n",
      "Defect: Cr_Al\u001b[0m\n",
      "\u001b[1mNumber of missing electrons in neutral state: 0\u001b[0m\n",
      "\n",
      "Defect Cr_Al in charge state: 0. Number of distorted neighbours: 0\n"
     ]
    },
    {
     "name": "stderr",
     "output_type": "stream",
     "text": [
      "Generating distorted defect structures...100.0%|███████████████████████████████████████████████████| [00:09,   9.52s/it]\n"
     ]
    },
    {
     "name": "stdout",
     "output_type": "stream",
     "text": [
      "       Step     Time          Energy          fmax\n",
      "LBFGS:    0 19:43:08     -426.325177        0.009463\n"
     ]
    },
    {
     "name": "stderr",
     "output_type": "stream",
     "text": [
      "672513604.py:11: FutureWarning: Please use len(self) or, if your atoms are distributed, self.get_global_number_of_atoms.\n",
      "compatibility.py:629: UserWarning: Failed to guess oxidation states for Entry None (Cs2Al(NO3)5). Assigning anion correction to only the most electronegative atom.\n"
     ]
    },
    {
     "name": "stdout",
     "output_type": "stream",
     "text": [
      "       Step     Time          Energy          fmax\n",
      "LBFGS:    0 19:43:11     -427.404170        1.994665\n",
      "LBFGS:    1 19:43:13     -427.557948        0.811172\n",
      "LBFGS:    2 19:43:15     -427.649729        0.650351\n",
      "LBFGS:    3 19:43:17     -427.719245        0.739175\n",
      "LBFGS:    4 19:43:19     -427.793242        0.797927\n",
      "LBFGS:    5 19:43:22     -427.843169        0.587865\n",
      "LBFGS:    6 19:43:24     -427.859439        0.255161\n",
      "LBFGS:    7 19:43:26     -427.861991        0.119487\n",
      "LBFGS:    8 19:43:28     -427.862796        0.092628\n",
      "LBFGS:    9 19:43:30     -427.863715        0.082973\n",
      "LBFGS:   10 19:43:33     -427.865485        0.118922\n",
      "LBFGS:   11 19:43:35     -427.867789        0.142848\n",
      "LBFGS:   12 19:43:38     -427.869761        0.093395\n",
      "LBFGS:   13 19:43:40     -427.870597        0.045685\n",
      "LBFGS:   14 19:43:43     -427.870829        0.027792\n",
      "LBFGS:   15 19:43:45     -427.870928        0.021757\n",
      "LBFGS:   16 19:43:47     -427.871089        0.021899\n",
      "LBFGS:   17 19:43:49     -427.871306        0.028923\n",
      "LBFGS:   18 19:43:52     -427.871676        0.040081\n",
      "LBFGS:   19 19:43:54     -427.872084        0.047228\n",
      "LBFGS:   20 19:43:56     -427.872363        0.037126\n",
      "LBFGS:   21 19:43:58     -427.872493        0.017014\n",
      "LBFGS:   22 19:44:01     -427.872554        0.015170\n",
      "LBFGS:   23 19:44:03     -427.872595        0.014314\n",
      "LBFGS:   24 19:44:05     -427.872660        0.020800\n",
      "LBFGS:   25 19:44:08     -427.872744        0.029697\n",
      "LBFGS:   26 19:44:10     -427.872912        0.034197\n",
      "LBFGS:   27 19:44:12     -427.873149        0.034916\n",
      "LBFGS:   28 19:44:14     -427.873358        0.026954\n",
      "LBFGS:   29 19:44:17     -427.873473        0.015057\n",
      "LBFGS:   30 19:44:19     -427.873526        0.010869\n",
      "LBFGS:   31 19:44:21     -427.873545        0.010715\n",
      "LBFGS:   32 19:44:23     -427.873606        0.013324\n",
      "LBFGS:   33 19:44:26     -427.873690        0.017954\n",
      "LBFGS:   34 19:44:28     -427.873782        0.022879\n",
      "LBFGS:   35 19:44:30     -427.873870        0.023444\n",
      "LBFGS:   36 19:44:32     -427.873938        0.017431\n",
      "LBFGS:   37 19:44:35     -427.873980        0.011952\n",
      "LBFGS:   38 19:44:37     -427.874022        0.015087\n",
      "LBFGS:   39 19:44:39     -427.874076        0.016150\n",
      "LBFGS:   40 19:44:41     -427.874129        0.024573\n",
      "LBFGS:   41 19:44:44     -427.874190        0.028074\n",
      "LBFGS:   42 19:44:46     -427.874251        0.023178\n",
      "LBFGS:   43 19:44:48     -427.874308        0.012166\n",
      "LBFGS:   44 19:44:50     -427.874335        0.009256\n"
     ]
    },
    {
     "name": "stderr",
     "output_type": "stream",
     "text": [
      "compatibility.py:629: UserWarning: Failed to guess oxidation states for Entry None (Cs6Al2Cr(NO3)15). Assigning anion correction to only the most electronegative atom.\n"
     ]
    },
    {
     "name": "stdout",
     "output_type": "stream",
     "text": [
      "       Step     Time          Energy          fmax\n",
      "LBFGS:    0 19:44:54     -397.643580       10.232702\n",
      "LBFGS:    1 19:44:56     -417.561289        5.955946\n",
      "LBFGS:    2 19:44:58     -418.263804       20.900819\n",
      "LBFGS:    3 19:45:00     -425.759879        6.398415\n",
      "LBFGS:    4 19:45:03     -426.643809        2.056469\n",
      "LBFGS:    5 19:45:05     -427.075644        0.997373\n",
      "LBFGS:    6 19:45:07     -427.193625        0.803039\n",
      "LBFGS:    7 19:45:10     -427.327937        1.089690\n",
      "LBFGS:    8 19:45:12     -427.453395        0.888950\n",
      "LBFGS:    9 19:45:14     -427.560942        0.722887\n",
      "LBFGS:   10 19:45:16     -427.638484        0.707215\n",
      "LBFGS:   11 19:45:19     -427.689521        0.496369\n",
      "LBFGS:   12 19:45:21     -427.716742        0.233574\n",
      "LBFGS:   13 19:45:23     -427.735190        0.198145\n",
      "LBFGS:   14 19:45:25     -427.752295        0.292915\n",
      "LBFGS:   15 19:45:28     -427.769198        0.412408\n",
      "LBFGS:   16 19:45:30     -427.787429        0.393060\n",
      "LBFGS:   17 19:45:32     -427.807399        0.319636\n",
      "LBFGS:   18 19:45:34     -427.823481        0.239886\n",
      "LBFGS:   19 19:45:37     -427.831137        0.144176\n",
      "LBFGS:   20 19:45:39     -427.834513        0.104509\n",
      "LBFGS:   21 19:45:42     -427.837027        0.093202\n",
      "LBFGS:   22 19:45:44     -427.840609        0.123932\n",
      "LBFGS:   23 19:45:46     -427.844569        0.169849\n",
      "LBFGS:   24 19:45:48     -427.848506        0.202032\n",
      "LBFGS:   25 19:45:51     -427.851824        0.169180\n",
      "LBFGS:   26 19:45:53     -427.854274        0.097804\n",
      "LBFGS:   27 19:45:55     -427.855895        0.070175\n",
      "LBFGS:   28 19:45:57     -427.856959        0.050280\n",
      "LBFGS:   29 19:45:59     -427.857779        0.057224\n",
      "LBFGS:   30 19:46:02     -427.858626        0.067877\n",
      "LBFGS:   31 19:46:04     -427.859729        0.086443\n",
      "LBFGS:   32 19:46:06     -427.861262        0.094158\n",
      "LBFGS:   33 19:46:08     -427.862899        0.077014\n",
      "LBFGS:   34 19:46:11     -427.863932        0.048654\n",
      "LBFGS:   35 19:46:13     -427.864451        0.035105\n",
      "LBFGS:   36 19:46:15     -427.864806        0.034919\n",
      "LBFGS:   37 19:46:17     -427.865287        0.041592\n",
      "LBFGS:   38 19:46:20     -427.865916        0.063994\n",
      "LBFGS:   39 19:46:22     -427.866702        0.087297\n",
      "LBFGS:   40 19:46:24     -427.867530        0.083917\n",
      "LBFGS:   41 19:46:26     -427.868239        0.053731\n",
      "LBFGS:   42 19:46:29     -427.868758        0.033578\n",
      "LBFGS:   43 19:46:31     -427.869109        0.036171\n",
      "LBFGS:   44 19:46:33     -427.869433        0.044835\n",
      "LBFGS:   45 19:46:35     -427.869841        0.043824\n",
      "LBFGS:   46 19:46:38     -427.870413        0.050373\n",
      "LBFGS:   47 19:46:40     -427.871020        0.041990\n",
      "LBFGS:   48 19:46:42     -427.871459        0.038142\n",
      "LBFGS:   49 19:46:45     -427.871676        0.027058\n",
      "LBFGS:   50 19:46:47     -427.871798        0.021068\n",
      "LBFGS:   51 19:46:50     -427.871928        0.020531\n",
      "LBFGS:   52 19:46:52     -427.872092        0.027395\n",
      "LBFGS:   53 19:46:54     -427.872313        0.034448\n",
      "LBFGS:   54 19:46:57     -427.872550        0.037919\n",
      "LBFGS:   55 19:46:59     -427.872756        0.030884\n",
      "LBFGS:   56 19:47:01     -427.872889        0.017778\n",
      "LBFGS:   57 19:47:04     -427.872981        0.011889\n",
      "LBFGS:   58 19:47:06     -427.873038        0.013258\n",
      "LBFGS:   59 19:47:08     -427.873114        0.019420\n",
      "LBFGS:   60 19:47:10     -427.873217        0.026478\n",
      "LBFGS:   61 19:47:13     -427.873339        0.028559\n",
      "LBFGS:   62 19:47:15     -427.873477        0.021330\n",
      "LBFGS:   63 19:47:17     -427.873580        0.020903\n",
      "LBFGS:   64 19:47:19     -427.873633        0.014528\n",
      "LBFGS:   65 19:47:21     -427.873675        0.010380\n",
      "LBFGS:   66 19:47:24     -427.873725        0.011891\n",
      "LBFGS:   67 19:47:26     -427.873786        0.020629\n",
      "LBFGS:   68 19:47:28     -427.873877        0.032147\n",
      "LBFGS:   69 19:47:30     -427.873976        0.035770\n",
      "LBFGS:   70 19:47:33     -427.874083        0.026727\n",
      "LBFGS:   71 19:47:35     -427.874140        0.010519\n",
      "LBFGS:   72 19:47:37     -427.874160        0.009735\n"
     ]
    },
    {
     "name": "stderr",
     "output_type": "stream",
     "text": [
      "Generating DefectEntry objects: 100.0%|████████████████████████████████████████████████████████████| [00:54,   1.84it/s]\n"
     ]
    },
    {
     "name": "stdout",
     "output_type": "stream",
     "text": [
      "Vacancies                 Guessed Charges    Conv. Cell Coords    Wyckoff\n",
      "------------------------  -----------------  -------------------  ---------\n",
      "v_Al                      [+1,0,-1,-2,-3]    [0.000,0.000,0.250]  6c\n",
      "v_H_C1_O1.00H1.64Cl2.05a  [+1,0,-1]          [0.184,0.070,0.111]  18f\n",
      "v_H_C1_O1.00H1.64Cl2.05b  [+1,0,-1]          [0.114,0.184,0.389]  18f\n",
      "v_H_C1_O1.00H1.64Cl2.06a  [+1,0,-1]          [0.204,0.206,0.165]  18f\n",
      "v_H_C1_O1.00H1.64Cl2.06b  [+1,0,-1]          [0.206,0.002,0.334]  18f\n",
      "v_Cl_C2_H2.05O3.05H3.46   [+1,0,-1]          [0.259,0.000,0.000]  9d\n",
      "v_Cl_C2_H2.05O3.05H3.47   [+1,0,-1]          [0.258,0.258,0.500]  9e\n",
      "v_O_C1_H1.00Al1.90O2.68a  [+2,+1,0,-1]       [0.151,0.106,0.166]  18f\n",
      "v_O_C1_H1.00Al1.90O2.68b  [+2,+1,0,-1]       [0.044,0.151,0.334]  18f\n",
      "\n",
      "Substitutions              Guessed Charges     Conv. Cell Coords    Wyckoff\n",
      "-------------------------  ------------------  -------------------  ---------\n",
      "Al_H_C1_O1.00H1.64Cl2.05a  [+2,+1,0]           [0.184,0.070,0.111]  18f\n",
      "Al_H_C1_O1.00H1.64Cl2.05b  [+2,+1,0]           [0.114,0.184,0.389]  18f\n",
      "Al_H_C1_O1.00H1.64Cl2.06a  [+2,+1,0]           [0.204,0.206,0.165]  18f\n",
      "Al_H_C1_O1.00H1.64Cl2.06b  [+2,+1,0]           [0.206,0.002,0.334]  18f\n",
      "Al_Cl_C2_H2.05O3.05H3.46   [+4,+3,+2,+1,0]     [0.259,0.000,0.000]  9d\n",
      "Al_Cl_C2_H2.05O3.05H3.47   [+4,+3,+2,+1,0]     [0.258,0.258,0.500]  9e\n",
      "Al_O_C1_H1.00Al1.90O2.68a  [+5,+4,+3,+2,+1,0]  [0.151,0.106,0.166]  18f\n",
      "Al_O_C1_H1.00Al1.90O2.68b  [+5,+4,+3,+2,+1,0]  [0.044,0.151,0.334]  18f\n",
      "H_Al                       [0,-1,-2,-3,-4]     [0.000,0.000,0.250]  6c\n",
      "H_Cl_C2_H2.05O3.05H3.46    [+2,+1,0]           [0.259,0.000,0.000]  9d\n",
      "H_Cl_C2_H2.05O3.05H3.47    [+2,+1,0]           [0.258,0.258,0.500]  9e\n",
      "H_O_C1_H1.00Al1.90O2.68a   [+3,+2,+1,0]        [0.151,0.106,0.166]  18f\n",
      "H_O_C1_H1.00Al1.90O2.68b   [+3,+2,+1,0]        [0.044,0.151,0.334]  18f\n",
      "Cl_Al                      [0,-1,-2,-3,-4]     [0.000,0.000,0.250]  6c\n",
      "Cl_H_C1_O1.00H1.64Cl2.05a  [0,-1,-2]           [0.184,0.070,0.111]  18f\n",
      "Cl_H_C1_O1.00H1.64Cl2.05b  [0,-1,-2]           [0.114,0.184,0.389]  18f\n",
      "Cl_H_C1_O1.00H1.64Cl2.06a  [0,-1,-2]           [0.204,0.206,0.165]  18f\n",
      "Cl_H_C1_O1.00H1.64Cl2.06b  [0,-1,-2]           [0.206,0.002,0.334]  18f\n",
      "Cl_O_C1_H1.00Al1.90O2.68a  [+1,0]              [0.151,0.106,0.166]  18f\n",
      "Cl_O_C1_H1.00Al1.90O2.68b  [+1,0]              [0.044,0.151,0.334]  18f\n",
      "O_Al                       [0,-1,-2,-3,-4,-5]  [0.000,0.000,0.250]  6c\n",
      "O_H_C1_O1.00H1.64Cl2.05a   [0,-1,-2,-3]        [0.184,0.070,0.111]  18f\n",
      "O_H_C1_O1.00H1.64Cl2.05b   [0,-1,-2,-3]        [0.114,0.184,0.389]  18f\n",
      "O_H_C1_O1.00H1.64Cl2.06a   [0,-1,-2,-3]        [0.204,0.206,0.165]  18f\n",
      "O_H_C1_O1.00H1.64Cl2.06b   [0,-1,-2,-3]        [0.206,0.002,0.334]  18f\n",
      "O_Cl_C2_H2.05O3.05H3.46    [0,-1]              [0.259,0.000,0.000]  9d\n",
      "O_Cl_C2_H2.05O3.05H3.47    [0,-1]              [0.258,0.258,0.500]  9e\n",
      "Cr_Al                      [+3,+2,+1,0,-1]     [0.000,0.000,0.250]  6c\n",
      "Cr_H_C1_O1.00H1.64Cl2.05a  [+5,+4,+3,+2,+1,0]  [0.184,0.070,0.111]  18f\n",
      "Cr_H_C1_O1.00H1.64Cl2.05b  [+5,+4,+3,+2,+1,0]  [0.114,0.184,0.389]  18f\n",
      "Cr_H_C1_O1.00H1.64Cl2.06a  [+5,+4,+3,+2,+1,0]  [0.204,0.206,0.165]  18f\n",
      "Cr_H_C1_O1.00H1.64Cl2.06b  [+5,+4,+3,+2,+1,0]  [0.206,0.002,0.334]  18f\n",
      "Cr_Cl_C2_H2.05O3.05H3.46   [+4,+3,+2,+1,0]     [0.259,0.000,0.000]  9d\n",
      "Cr_Cl_C2_H2.05O3.05H3.47   [+4,+3,+2,+1,0]     [0.258,0.258,0.500]  9e\n",
      "Cr_O_C1_H1.00Al1.90O2.68a  [+5,+4,+3,+2,+1,0]  [0.151,0.106,0.166]  18f\n",
      "Cr_O_C1_H1.00Al1.90O2.68b  [+5,+4,+3,+2,+1,0]  [0.044,0.151,0.334]  18f\n",
      "\n",
      "The number in the Wyckoff label is the site multiplicity/degeneracy of that defect in the conventional ('conv.') unit cell, which comprises 6 formula unit(s) of AlH12(O2Cl)3.\n",
      "\n",
      "Oxidation states were not explicitly set, thus have been guessed as {'Al': 3.0, 'H': 1.0, 'Cl': -1.0, 'O': -2.0, 'Cr': 3.0}. If this is unreasonable you should manually set oxidation_states\n",
      "Applying ShakeNBreak... Will apply the following bond distortions: ['-0.6', '-0.5', '-0.4', '-0.3', '-0.2', '-0.1', '0.0', '0.1', '0.2', '0.3', '0.4', '0.5', '0.6', 'Dimer (for vacancies)']. Then, will rattle with a std dev of 0.10 Å \n",
      "\n"
     ]
    },
    {
     "name": "stderr",
     "output_type": "stream",
     "text": [
      "Generating distorted defect structures...0.0%|                                                         | [00:00,  ?it/s]distortions.py:577: UserWarning: Automatic bond-length detection gave a bulk bond length of 1.0005622801535428 Å, which is almost certainly too small. Reverting to 2.25 Å. If this is too large, set `d_min` manually\n"
     ]
    },
    {
     "name": "stdout",
     "output_type": "stream",
     "text": [
      "\u001b[1m\n",
      "Defect: Cr_Al\u001b[0m\n",
      "\u001b[1mNumber of missing electrons in neutral state: 0\u001b[0m\n",
      "\n",
      "Defect Cr_Al in charge state: 0. Number of distorted neighbours: 0\n"
     ]
    },
    {
     "name": "stderr",
     "output_type": "stream",
     "text": [
      "Generating distorted defect structures...100.0%|██████████████████████████████████████████████████| [02:05,  125.09s/it]\n"
     ]
    },
    {
     "name": "stdout",
     "output_type": "stream",
     "text": [
      "       Step     Time          Energy          fmax\n",
      "LBFGS:    0 19:50:39     -425.033545        0.008402\n"
     ]
    },
    {
     "name": "stderr",
     "output_type": "stream",
     "text": [
      "672513604.py:11: FutureWarning: Please use len(self) or, if your atoms are distributed, self.get_global_number_of_atoms.\n",
      "compatibility.py:629: UserWarning: Failed to guess oxidation states for Entry None (AlH12(ClO2)3). Assigning anion correction to only the most electronegative atom.\n"
     ]
    },
    {
     "name": "stdout",
     "output_type": "stream",
     "text": [
      "       Step     Time          Energy          fmax\n",
      "LBFGS:    0 19:50:43     -425.372590        1.715518\n",
      "LBFGS:    1 19:50:47     -425.532708        0.567573\n",
      "LBFGS:    2 19:50:50     -425.632051        0.541798\n",
      "LBFGS:    3 19:50:54     -425.737737        0.334187\n",
      "LBFGS:    4 19:50:58     -425.765470        0.295192\n",
      "LBFGS:    5 19:51:02     -425.802366        0.299671\n",
      "LBFGS:    6 19:51:05     -425.830293        0.260036\n",
      "LBFGS:    7 19:51:09     -425.844869        0.131612\n",
      "LBFGS:    8 19:51:13     -425.848459        0.053851\n",
      "LBFGS:    9 19:51:17     -425.849385        0.049089\n",
      "LBFGS:   10 19:51:20     -425.850770        0.057310\n",
      "LBFGS:   11 19:51:24     -425.852697        0.069292\n",
      "LBFGS:   12 19:51:28     -425.854173        0.048586\n",
      "LBFGS:   13 19:51:32     -425.854722        0.016212\n",
      "LBFGS:   14 19:51:36     -425.854882        0.015377\n",
      "LBFGS:   15 19:51:39     -425.855050        0.019370\n",
      "LBFGS:   16 19:51:43     -425.855340        0.028625\n",
      "LBFGS:   17 19:51:47     -425.855626        0.024733\n",
      "LBFGS:   18 19:51:51     -425.855844        0.011881\n",
      "LBFGS:   19 19:51:55     -425.855920        0.009305\n"
     ]
    },
    {
     "name": "stderr",
     "output_type": "stream",
     "text": [
      "compatibility.py:629: UserWarning: Failed to guess oxidation states for Entry None (Al3CrH48(ClO2)12). Assigning anion correction to only the most electronegative atom.\n"
     ]
    },
    {
     "name": "stdout",
     "output_type": "stream",
     "text": [
      "       Step     Time          Energy          fmax\n",
      "LBFGS:    0 19:52:00     -365.433965       21.283487\n",
      "LBFGS:    1 19:52:04     -391.789174        7.085522\n",
      "LBFGS:    2 19:52:08     -417.236066        5.007371\n",
      "LBFGS:    3 19:52:12     -420.515828        2.672199\n",
      "LBFGS:    4 19:52:16     -422.814019        3.077086\n",
      "LBFGS:    5 19:52:20     -424.158040        1.803053\n",
      "LBFGS:    6 19:52:23     -424.910455        2.273844\n",
      "LBFGS:    7 19:52:27     -425.077394        0.644882\n",
      "LBFGS:    8 19:52:31     -425.209966        0.790500\n",
      "LBFGS:    9 19:52:35     -425.453290        0.940290\n",
      "LBFGS:   10 19:52:39     -425.556886        0.781050\n",
      "LBFGS:   11 19:52:43     -425.651567        0.788073\n",
      "LBFGS:   12 19:52:46     -425.701745        0.467722\n",
      "LBFGS:   13 19:52:50     -425.729993        0.203577\n",
      "LBFGS:   14 19:52:54     -425.741838        0.179771\n",
      "LBFGS:   15 19:52:58     -425.755300        0.276615\n",
      "LBFGS:   16 19:53:02     -425.771718        0.325008\n",
      "LBFGS:   17 19:53:05     -425.790090        0.260402\n",
      "LBFGS:   18 19:53:09     -425.804704        0.242622\n",
      "LBFGS:   19 19:53:13     -425.814363        0.169724\n",
      "LBFGS:   20 19:53:17     -425.820680        0.160460\n",
      "LBFGS:   21 19:53:21     -425.824994        0.147755\n",
      "LBFGS:   22 19:53:24     -425.827817        0.105382\n",
      "LBFGS:   23 19:53:28     -425.830186        0.099933\n",
      "LBFGS:   24 19:53:32     -425.832914        0.142159\n",
      "LBFGS:   25 19:53:36     -425.836068        0.139038\n",
      "LBFGS:   26 19:53:40     -425.839097        0.129962\n",
      "LBFGS:   27 19:53:43     -425.841306        0.090656\n",
      "LBFGS:   28 19:53:47     -425.842645        0.053256\n",
      "LBFGS:   29 19:53:51     -425.843576        0.059387\n",
      "LBFGS:   30 19:53:55     -425.844499        0.076595\n",
      "LBFGS:   31 19:53:59     -425.845700        0.082903\n",
      "LBFGS:   32 19:54:03     -425.847078        0.086300\n",
      "LBFGS:   33 19:54:07     -425.848321        0.069654\n",
      "LBFGS:   34 19:54:10     -425.849244        0.055624\n",
      "LBFGS:   35 19:54:14     -425.849935        0.060599\n",
      "LBFGS:   36 19:54:18     -425.850526        0.051691\n",
      "LBFGS:   37 19:54:22     -425.851106        0.045171\n",
      "LBFGS:   38 19:54:26     -425.851751        0.050636\n",
      "LBFGS:   39 19:54:29     -425.852475        0.070772\n",
      "LBFGS:   40 19:54:33     -425.853273        0.060867\n",
      "LBFGS:   41 19:54:37     -425.853914        0.053634\n",
      "LBFGS:   42 19:54:41     -425.854280        0.030526\n",
      "LBFGS:   43 19:54:45     -425.854455        0.028052\n",
      "LBFGS:   44 19:54:49     -425.854619        0.022543\n",
      "LBFGS:   45 19:54:52     -425.854844        0.039066\n",
      "LBFGS:   46 19:54:56     -425.855165        0.050802\n",
      "LBFGS:   47 19:55:00     -425.855493        0.041868\n",
      "LBFGS:   48 19:55:04     -425.855726        0.031531\n",
      "LBFGS:   49 19:55:08     -425.855825        0.012525\n",
      "LBFGS:   50 19:55:11     -425.855890        0.012332\n",
      "LBFGS:   51 19:55:15     -425.855970        0.027715\n",
      "LBFGS:   52 19:55:19     -425.856069        0.034548\n",
      "LBFGS:   53 19:55:23     -425.856176        0.025717\n",
      "LBFGS:   54 19:55:27     -425.856279        0.012857\n",
      "LBFGS:   55 19:55:30     -425.856317        0.015933\n",
      "LBFGS:   56 19:55:34     -425.856405        0.023652\n",
      "LBFGS:   57 19:55:38     -425.856446        0.019382\n",
      "LBFGS:   58 19:55:42     -425.856492        0.009336\n"
     ]
    },
    {
     "name": "stderr",
     "output_type": "stream",
     "text": [
      "Generating DefectEntry objects: 100.0%|████████████████████████████████████████████████████████████| [00:35,   2.80it/s]\n"
     ]
    },
    {
     "name": "stdout",
     "output_type": "stream",
     "text": [
      "Vacancies     Guessed Charges        Conv. Cell Coords    Wyckoff\n",
      "------------  ---------------------  -------------------  ---------\n",
      "v_Na          [+1,0,-1]              [0.044,0.706,0.375]  12d\n",
      "v_Al          [+1,0,-1,-2,-3]        [0.875,0.875,0.875]  4b\n",
      "v_P_C1        [+1,0,-1,-2,-3,-4,-5]  [0.146,0.431,0.365]  24e\n",
      "v_P_C3        [+1,0,-1,-2,-3,-4,-5]  [0.233,0.233,0.233]  8c\n",
      "v_O_C1_P1.49  [+2,+1,0,-1]           [0.063,0.511,0.323]  24e\n",
      "v_O_C1_P1.50  [+2,+1,0,-1]           [0.123,0.367,0.468]  24e\n",
      "v_O_C1_P1.58  [+2,+1,0,-1]           [0.170,0.342,0.266]  24e\n",
      "v_O_C2        [+2,+1,0,-1]           [0.268,0.482,0.375]  12d\n",
      "v_O_C3        [+2,+1,0,-1]           [0.162,0.162,0.162]  8c\n",
      "\n",
      "Substitutions    Guessed Charges              Conv. Cell Coords    Wyckoff\n",
      "---------------  ---------------------------  -------------------  ---------\n",
      "Na_Al            [0,-1,-2]                    [0.875,0.875,0.875]  4b\n",
      "Na_P_C1          [0,-1,-2,-3,-4]              [0.146,0.431,0.365]  24e\n",
      "Na_P_C3          [0,-1,-2,-3,-4]              [0.233,0.233,0.233]  8c\n",
      "Na_O_C1_P1.49    [+3,+2,+1,0]                 [0.063,0.511,0.323]  24e\n",
      "Na_O_C1_P1.50    [+3,+2,+1,0]                 [0.123,0.367,0.468]  24e\n",
      "Na_O_C1_P1.58    [+3,+2,+1,0]                 [0.170,0.342,0.266]  24e\n",
      "Na_O_C2          [+3,+2,+1,0]                 [0.268,0.482,0.375]  12d\n",
      "Na_O_C3          [+3,+2,+1,0]                 [0.162,0.162,0.162]  8c\n",
      "Al_Na            [+2,+1,0]                    [0.044,0.706,0.375]  12d\n",
      "Al_P_C1          [0,-1,-2]                    [0.146,0.431,0.365]  24e\n",
      "Al_P_C3          [0,-1,-2]                    [0.233,0.233,0.233]  8c\n",
      "Al_O_C1_P1.49    [+5,+4,+3,+2,+1,0]           [0.063,0.511,0.323]  24e\n",
      "Al_O_C1_P1.50    [+5,+4,+3,+2,+1,0]           [0.123,0.367,0.468]  24e\n",
      "Al_O_C1_P1.58    [+5,+4,+3,+2,+1,0]           [0.170,0.342,0.266]  24e\n",
      "Al_O_C2          [+5,+4,+3,+2,+1,0]           [0.268,0.482,0.375]  12d\n",
      "Al_O_C3          [+5,+4,+3,+2,+1,0]           [0.162,0.162,0.162]  8c\n",
      "P_Na             [+4,+3,+2,+1,0,-1,-2,-3,-4]  [0.044,0.706,0.375]  12d\n",
      "P_Al             [+2,+1,0,-1,-2,-3,-4,-5,-6]  [0.875,0.875,0.875]  4b\n",
      "P_O_C1_P1.49     [+7,+6,+5,+4,+3,+2,+1,0,-1]  [0.063,0.511,0.323]  24e\n",
      "P_O_C1_P1.50     [+7,+6,+5,+4,+3,+2,+1,0,-1]  [0.123,0.367,0.468]  24e\n",
      "P_O_C1_P1.58     [+7,+6,+5,+4,+3,+2,+1,0,-1]  [0.170,0.342,0.266]  24e\n",
      "P_O_C2           [+7,+6,+5,+4,+3,+2,+1,0,-1]  [0.268,0.482,0.375]  12d\n",
      "P_O_C3           [+7,+6,+5,+4,+3,+2,+1,0,-1]  [0.162,0.162,0.162]  8c\n",
      "O_Na             [0,-1,-2,-3]                 [0.044,0.706,0.375]  12d\n",
      "O_Al             [0,-1,-2,-3,-4,-5]           [0.875,0.875,0.875]  4b\n",
      "O_P_C1           [0,-1,-2,-3,-4,-5,-6,-7]     [0.146,0.431,0.365]  24e\n",
      "O_P_C3           [0,-1,-2,-3,-4,-5,-6,-7]     [0.233,0.233,0.233]  8c\n",
      "Cr_Na            [+5,+4,+3,+2,+1,0]           [0.044,0.706,0.375]  12d\n",
      "Cr_Al            [+3,+2,+1,0,-1]              [0.875,0.875,0.875]  4b\n",
      "Cr_P_C1          [+1,0,-1,-2,-3]              [0.146,0.431,0.365]  24e\n",
      "Cr_P_C3          [+1,0,-1,-2,-3]              [0.233,0.233,0.233]  8c\n",
      "Cr_O_C1_P1.49    [+8,+7,+6,+5,+4,+3,+2,+1,0]  [0.063,0.511,0.323]  24e\n",
      "Cr_O_C1_P1.50    [+8,+7,+6,+5,+4,+3,+2,+1,0]  [0.123,0.367,0.468]  24e\n",
      "Cr_O_C1_P1.58    [+8,+7,+6,+5,+4,+3,+2,+1,0]  [0.170,0.342,0.266]  24e\n",
      "Cr_O_C2          [+8,+7,+6,+5,+4,+3,+2,+1,0]  [0.268,0.482,0.375]  12d\n",
      "Cr_O_C3          [+8,+7,+6,+5,+4,+3,+2,+1,0]  [0.162,0.162,0.162]  8c\n",
      "\n",
      "The number in the Wyckoff label is the site multiplicity/degeneracy of that defect in the conventional ('conv.') unit cell, which comprises 4 formula unit(s) of Na3AlP8O23.\n",
      "\n",
      "Oxidation states were not explicitly set, thus have been guessed as {'Na': 1.0, 'Al': 3.0, 'P': 5.0, 'O': -2.0, 'Cr': 3.0}. If this is unreasonable you should manually set oxidation_states\n",
      "Applying ShakeNBreak... Will apply the following bond distortions: ['-0.6', '-0.5', '-0.4', '-0.3', '-0.2', '-0.1', '0.0', '0.1', '0.2', '0.3', '0.4', '0.5', '0.6', 'Dimer (for vacancies)']. Then, will rattle with a std dev of 0.15 Å \n",
      "\n"
     ]
    },
    {
     "name": "stderr",
     "output_type": "stream",
     "text": [
      "Generating distorted defect structures...100.0%|███████████████████████████████████████████████████| [00:00,  12.53it/s]\n"
     ]
    },
    {
     "name": "stdout",
     "output_type": "stream",
     "text": [
      "\u001b[1m\n",
      "Defect: Cr_Al\u001b[0m\n",
      "\u001b[1mNumber of missing electrons in neutral state: 0\u001b[0m\n",
      "\n",
      "Defect Cr_Al in charge state: 0. Number of distorted neighbours: 0\n",
      "       Step     Time          Energy          fmax\n",
      "LBFGS:    0 19:56:21     -972.760121        0.006938\n"
     ]
    },
    {
     "name": "stderr",
     "output_type": "stream",
     "text": [
      "672513604.py:11: FutureWarning: Please use len(self) or, if your atoms are distributed, self.get_global_number_of_atoms.\n",
      "compatibility.py:629: UserWarning: Failed to guess oxidation states for Entry None (Na3AlP8O23). Assigning anion correction to only the most electronegative atom.\n"
     ]
    },
    {
     "name": "stdout",
     "output_type": "stream",
     "text": [
      "       Step     Time          Energy          fmax\n",
      "LBFGS:    0 19:56:26     -973.123484        1.702768\n",
      "LBFGS:    1 19:56:32     -973.274226        1.040932\n",
      "LBFGS:    2 19:56:37     -973.409114        0.512620\n",
      "LBFGS:    3 19:56:43     -973.470515        0.343293\n",
      "LBFGS:    4 19:56:48     -973.500903        0.300637\n",
      "LBFGS:    5 19:56:53     -973.530718        0.202187\n",
      "LBFGS:    6 19:56:59     -973.546809        0.121056\n",
      "LBFGS:    7 19:57:04     -973.558009        0.110714\n",
      "LBFGS:    8 19:57:09     -973.563746        0.087521\n",
      "LBFGS:    9 19:57:15     -973.567996        0.086715\n",
      "LBFGS:   10 19:57:20     -973.572840        0.081158\n",
      "LBFGS:   11 19:57:25     -973.577685        0.079670\n",
      "LBFGS:   12 19:57:31     -973.580790        0.055499\n",
      "LBFGS:   13 19:57:36     -973.582545        0.040183\n",
      "LBFGS:   14 19:57:41     -973.583750        0.042772\n",
      "LBFGS:   15 19:57:47     -973.584727        0.036147\n",
      "LBFGS:   16 19:57:52     -973.585612        0.027043\n",
      "LBFGS:   17 19:57:58     -973.586260        0.025257\n",
      "LBFGS:   18 19:58:03     -973.586672        0.021761\n",
      "LBFGS:   19 19:58:08     -973.587054        0.016583\n",
      "LBFGS:   20 19:58:14     -973.587397        0.016565\n",
      "LBFGS:   21 19:58:19     -973.587725        0.014773\n",
      "LBFGS:   22 19:58:24     -973.587901        0.016300\n",
      "LBFGS:   23 19:58:30     -973.588053        0.016802\n",
      "LBFGS:   24 19:58:35     -973.588183        0.014125\n",
      "LBFGS:   25 19:58:40     -973.588282        0.013723\n",
      "LBFGS:   26 19:58:46     -973.588366        0.009552\n"
     ]
    },
    {
     "name": "stderr",
     "output_type": "stream",
     "text": [
      "compatibility.py:629: UserWarning: Failed to guess oxidation states for Entry None (Na12Al3Cr(P8O23)4). Assigning anion correction to only the most electronegative atom.\n"
     ]
    },
    {
     "name": "stdout",
     "output_type": "stream",
     "text": [
      "       Step     Time          Energy          fmax\n",
      "LBFGS:    0 19:58:54     -866.507947       50.217520\n",
      "LBFGS:    1 19:58:59     -920.278178       17.579104\n",
      "LBFGS:    2 19:59:04     -947.377970       12.360848\n",
      "LBFGS:    3 19:59:10     -960.339121        6.291179\n",
      "LBFGS:    4 19:59:15     -966.187968        5.883618\n",
      "LBFGS:    5 19:59:20     -969.192629        4.314278\n",
      "LBFGS:    6 19:59:26     -970.659953        2.628970\n",
      "LBFGS:    7 19:59:31     -971.557902        1.261085\n",
      "LBFGS:    8 19:59:36     -972.173968        0.935725\n",
      "LBFGS:    9 19:59:42     -972.535945        0.642879\n",
      "LBFGS:   10 19:59:47     -972.762675        0.722713\n",
      "LBFGS:   11 19:59:53     -972.937075        0.700224\n",
      "LBFGS:   12 19:59:58     -973.076121        0.523475\n",
      "LBFGS:   13 20:00:03     -973.170764        0.338672\n",
      "LBFGS:   14 20:00:09     -973.247271        0.434301\n",
      "LBFGS:   15 20:00:14     -973.314624        0.465539\n",
      "LBFGS:   16 20:00:20     -973.372004        0.347978\n",
      "LBFGS:   17 20:00:25     -973.410403        0.207967\n",
      "LBFGS:   18 20:00:30     -973.439051        0.232593\n",
      "LBFGS:   19 20:00:36     -973.463778        0.238284\n",
      "LBFGS:   20 20:00:41     -973.484522        0.186704\n",
      "LBFGS:   21 20:00:47     -973.499697        0.125579\n",
      "LBFGS:   22 20:00:52     -973.511088        0.122271\n",
      "LBFGS:   23 20:00:58     -973.520861        0.129595\n",
      "LBFGS:   24 20:01:03     -973.529803        0.111178\n",
      "LBFGS:   25 20:01:08     -973.537394        0.114841\n",
      "LBFGS:   26 20:01:14     -973.543780        0.085624\n",
      "LBFGS:   27 20:01:19     -973.549250        0.108290\n",
      "LBFGS:   28 20:01:25     -973.554072        0.107445\n",
      "LBFGS:   29 20:01:31     -973.558238        0.092963\n",
      "LBFGS:   30 20:01:36     -973.561999        0.082205\n",
      "LBFGS:   31 20:01:41     -973.565592        0.077192\n",
      "LBFGS:   32 20:01:47     -973.568858        0.084659\n",
      "LBFGS:   33 20:01:52     -973.571582        0.066495\n",
      "LBFGS:   34 20:01:58     -973.573680        0.073140\n",
      "LBFGS:   35 20:02:03     -973.575511        0.053643\n",
      "LBFGS:   36 20:02:09     -973.577281        0.055968\n",
      "LBFGS:   37 20:02:14     -973.578768        0.044780\n",
      "LBFGS:   38 20:02:20     -973.580058        0.048307\n",
      "LBFGS:   39 20:02:25     -973.581179        0.044573\n",
      "LBFGS:   40 20:02:30     -973.582209        0.047019\n",
      "LBFGS:   41 20:02:36     -973.583163        0.035541\n",
      "LBFGS:   42 20:02:41     -973.583979        0.034390\n",
      "LBFGS:   43 20:02:46     -973.584620        0.032589\n",
      "LBFGS:   44 20:02:52     -973.585261        0.030632\n",
      "LBFGS:   45 20:02:57     -973.585757        0.026193\n",
      "LBFGS:   46 20:03:02     -973.586238        0.023128\n",
      "LBFGS:   47 20:03:08     -973.586566        0.023690\n",
      "LBFGS:   48 20:03:13     -973.586909        0.021027\n",
      "LBFGS:   49 20:03:19     -973.587260        0.020917\n",
      "LBFGS:   50 20:03:24     -973.587496        0.016776\n",
      "LBFGS:   51 20:03:29     -973.587748        0.014785\n",
      "LBFGS:   52 20:03:35     -973.587985        0.017392\n",
      "LBFGS:   53 20:03:40     -973.588084        0.016946\n",
      "LBFGS:   54 20:03:45     -973.588244        0.015704\n",
      "LBFGS:   55 20:03:51     -973.588389        0.011151\n",
      "LBFGS:   56 20:03:56     -973.588473        0.012860\n",
      "LBFGS:   57 20:04:01     -973.588626        0.013208\n",
      "LBFGS:   58 20:04:07     -973.588732        0.010717\n",
      "LBFGS:   59 20:04:12     -973.588771        0.009678\n"
     ]
    },
    {
     "name": "stderr",
     "output_type": "stream",
     "text": [
      "Generating DefectEntry objects: 100.0%|████████████████████████████████████████████████████████████| [00:57,   1.73it/s]\n"
     ]
    },
    {
     "name": "stdout",
     "output_type": "stream",
     "text": [
      "Vacancies                 Guessed Charges           Conv. Cell Coords    Wyckoff\n",
      "------------------------  ------------------------  -------------------  ---------\n",
      "v_Cs                      [+1,0,-1]                 [0.000,0.000,0.000]  4a\n",
      "v_Al                      [+1,0,-1,-2,-3]           [0.500,0.500,0.500]  4a\n",
      "v_H_C1_O0.99H1.56O1.77a   [+1,0,-1]                 [0.227,0.390,0.336]  12b\n",
      "v_H_C1_O0.99H1.56O1.77b   [+1,0,-1]                 [0.226,0.508,0.308]  12b\n",
      "v_H_C1_O0.99H1.56O1.77c   [+1,0,-1]                 [0.164,0.727,0.390]  12b\n",
      "v_H_C1_O1.00H1.56         [+1,0,-1]                 [0.009,0.308,0.275]  12b\n",
      "v_H_C1_O1.00H1.65O1.70a   [+1,0,-1]                 [0.042,0.083,0.319]  12b\n",
      "v_H_C1_O1.00H1.65O1.70b   [+1,0,-1]                 [0.084,0.181,0.542]  12b\n",
      "v_H_C1_O1.02O1.59         [+1,0,-1]                 [0.043,0.801,0.475]  12b\n",
      "v_H_C1_O1.02O1.60         [+1,0,-1]                 [0.301,0.475,0.457]  12b\n",
      "v_Se_C3_O1.68H2.92H2.97a  [+1,0,-1,-2,-3,-4,-5,-6]  [0.199,0.199,0.199]  4a\n",
      "v_Se_C3_O1.68H2.92H2.97b  [+1,0,-1,-2,-3,-4,-5,-6]  [0.801,0.801,0.801]  4a\n",
      "v_O_C1_H0.99H1.59         [+2,+1,0,-1]              [0.132,0.715,0.460]  12b\n",
      "v_O_C1_H0.99H1.60         [+2,+1,0,-1]              [0.215,0.459,0.368]  12b\n",
      "v_O_C1_H1.00Al1.91        [+2,+1,0,-1]              [0.017,0.147,0.518]  12b\n",
      "v_O_C1_H1.00H1.02         [+2,+1,0,-1]              [0.017,0.353,0.018]  12b\n",
      "v_O_C1_Se1.68H1.70H1.77a  [+2,+1,0,-1]              [0.079,0.191,0.251]  12b\n",
      "v_O_C1_Se1.68H1.70H1.77b  [+2,+1,0,-1]              [0.191,0.249,0.579]  12b\n",
      "v_O_C3_Se1.69H1.77O2.74a  [+2,+1,0,-1]              [0.275,0.275,0.275]  4a\n",
      "v_O_C3_Se1.69H1.77O2.74b  [+2,+1,0,-1]              [0.725,0.725,0.725]  4a\n",
      "\n",
      "Substitutions              Guessed Charges              Conv. Cell Coords    Wyckoff\n",
      "-------------------------  ---------------------------  -------------------  ---------\n",
      "Cs_Al                      [0,-1,-2]                    [0.500,0.500,0.500]  4a\n",
      "Cs_H_C1_O0.99H1.56O1.77a   [+1,0,-1]                    [0.227,0.390,0.336]  12b\n",
      "Cs_H_C1_O0.99H1.56O1.77b   [+1,0,-1]                    [0.226,0.508,0.308]  12b\n",
      "Cs_H_C1_O0.99H1.56O1.77c   [+1,0,-1]                    [0.164,0.727,0.390]  12b\n",
      "Cs_H_C1_O1.00H1.56         [+1,0,-1]                    [0.009,0.308,0.275]  12b\n",
      "Cs_H_C1_O1.00H1.65O1.70a   [+1,0,-1]                    [0.042,0.083,0.319]  12b\n",
      "Cs_H_C1_O1.00H1.65O1.70b   [+1,0,-1]                    [0.084,0.181,0.542]  12b\n",
      "Cs_H_C1_O1.02O1.59         [+1,0,-1]                    [0.043,0.801,0.475]  12b\n",
      "Cs_H_C1_O1.02O1.60         [+1,0,-1]                    [0.301,0.475,0.457]  12b\n",
      "Cs_Se_C3_O1.68H2.92H2.97a  [0,-1,-2,-3,-4,-5]           [0.199,0.199,0.199]  4a\n",
      "Cs_Se_C3_O1.68H2.92H2.97b  [0,-1,-2,-3,-4,-5]           [0.801,0.801,0.801]  4a\n",
      "Cs_O_C1_H0.99H1.59         [+3,+2,+1,0]                 [0.132,0.715,0.460]  12b\n",
      "Cs_O_C1_H0.99H1.60         [+3,+2,+1,0]                 [0.215,0.459,0.368]  12b\n",
      "Cs_O_C1_H1.00Al1.91        [+3,+2,+1,0]                 [0.017,0.147,0.518]  12b\n",
      "Cs_O_C1_H1.00H1.02         [+3,+2,+1,0]                 [0.017,0.353,0.018]  12b\n",
      "Cs_O_C1_Se1.68H1.70H1.77a  [+3,+2,+1,0]                 [0.079,0.191,0.251]  12b\n",
      "Cs_O_C1_Se1.68H1.70H1.77b  [+3,+2,+1,0]                 [0.191,0.249,0.579]  12b\n",
      "Cs_O_C3_Se1.69H1.77O2.74a  [+3,+2,+1,0]                 [0.275,0.275,0.275]  4a\n",
      "Cs_O_C3_Se1.69H1.77O2.74b  [+3,+2,+1,0]                 [0.725,0.725,0.725]  4a\n",
      "Al_Cs                      [+2,+1,0]                    [0.000,0.000,0.000]  4a\n",
      "Al_H_C1_O0.99H1.56O1.77a   [+2,+1,0]                    [0.227,0.390,0.336]  12b\n",
      "Al_H_C1_O0.99H1.56O1.77b   [+2,+1,0]                    [0.226,0.508,0.308]  12b\n",
      "Al_H_C1_O0.99H1.56O1.77c   [+2,+1,0]                    [0.164,0.727,0.390]  12b\n",
      "Al_H_C1_O1.00H1.56         [+2,+1,0]                    [0.009,0.308,0.275]  12b\n",
      "Al_H_C1_O1.00H1.65O1.70a   [+2,+1,0]                    [0.042,0.083,0.319]  12b\n",
      "Al_H_C1_O1.00H1.65O1.70b   [+2,+1,0]                    [0.084,0.181,0.542]  12b\n",
      "Al_H_C1_O1.02O1.59         [+2,+1,0]                    [0.043,0.801,0.475]  12b\n",
      "Al_H_C1_O1.02O1.60         [+2,+1,0]                    [0.301,0.475,0.457]  12b\n",
      "Al_Se_C3_O1.68H2.92H2.97a  [0,-1,-2,-3]                 [0.199,0.199,0.199]  4a\n",
      "Al_Se_C3_O1.68H2.92H2.97b  [0,-1,-2,-3]                 [0.801,0.801,0.801]  4a\n",
      "Al_O_C1_H0.99H1.59         [+5,+4,+3,+2,+1,0]           [0.132,0.715,0.460]  12b\n",
      "Al_O_C1_H0.99H1.60         [+5,+4,+3,+2,+1,0]           [0.215,0.459,0.368]  12b\n",
      "Al_O_C1_H1.00Al1.91        [+5,+4,+3,+2,+1,0]           [0.017,0.147,0.518]  12b\n",
      "Al_O_C1_H1.00H1.02         [+5,+4,+3,+2,+1,0]           [0.017,0.353,0.018]  12b\n",
      "Al_O_C1_Se1.68H1.70H1.77a  [+5,+4,+3,+2,+1,0]           [0.079,0.191,0.251]  12b\n",
      "Al_O_C1_Se1.68H1.70H1.77b  [+5,+4,+3,+2,+1,0]           [0.191,0.249,0.579]  12b\n",
      "Al_O_C3_Se1.69H1.77O2.74a  [+5,+4,+3,+2,+1,0]           [0.275,0.275,0.275]  4a\n",
      "Al_O_C3_Se1.69H1.77O2.74b  [+5,+4,+3,+2,+1,0]           [0.725,0.725,0.725]  4a\n",
      "H_Cs                       [+1,0,-1,-2]                 [0.000,0.000,0.000]  4a\n",
      "H_Al                       [0,-1,-2,-3,-4]              [0.500,0.500,0.500]  4a\n",
      "H_Se_C3_O1.68H2.92H2.97a   [0,-1,-2,-3,-4,-5,-6,-7]     [0.199,0.199,0.199]  4a\n",
      "H_Se_C3_O1.68H2.92H2.97b   [0,-1,-2,-3,-4,-5,-6,-7]     [0.801,0.801,0.801]  4a\n",
      "H_O_C1_H0.99H1.59          [+3,+2,+1,0]                 [0.132,0.715,0.460]  12b\n",
      "H_O_C1_H0.99H1.60          [+3,+2,+1,0]                 [0.215,0.459,0.368]  12b\n",
      "H_O_C1_H1.00Al1.91         [+3,+2,+1,0]                 [0.017,0.147,0.518]  12b\n",
      "H_O_C1_H1.00H1.02          [+3,+2,+1,0]                 [0.017,0.353,0.018]  12b\n",
      "H_O_C1_Se1.68H1.70H1.77a   [+3,+2,+1,0]                 [0.079,0.191,0.251]  12b\n",
      "H_O_C1_Se1.68H1.70H1.77b   [+3,+2,+1,0]                 [0.191,0.249,0.579]  12b\n",
      "H_O_C3_Se1.69H1.77O2.74a   [+3,+2,+1,0]                 [0.275,0.275,0.275]  4a\n",
      "H_O_C3_Se1.69H1.77O2.74b   [+3,+2,+1,0]                 [0.725,0.725,0.725]  4a\n",
      "Se_Cs                      [+5,+4,+3,+2,+1,0,-1,-2,-3]  [0.000,0.000,0.000]  4a\n",
      "Se_Al                      [+3,+2,+1,0,-1,-2,-3,-4,-5]  [0.500,0.500,0.500]  4a\n",
      "Se_H_C1_O0.99H1.56O1.77a   [+5,+4,+3,+2,+1,0,-1,-2,-3]  [0.227,0.390,0.336]  12b\n",
      "Se_H_C1_O0.99H1.56O1.77b   [+5,+4,+3,+2,+1,0,-1,-2,-3]  [0.226,0.508,0.308]  12b\n",
      "Se_H_C1_O0.99H1.56O1.77c   [+5,+4,+3,+2,+1,0,-1,-2,-3]  [0.164,0.727,0.390]  12b\n",
      "Se_H_C1_O1.00H1.56         [+5,+4,+3,+2,+1,0,-1,-2,-3]  [0.009,0.308,0.275]  12b\n",
      "Se_H_C1_O1.00H1.65O1.70a   [+5,+4,+3,+2,+1,0,-1,-2,-3]  [0.042,0.083,0.319]  12b\n",
      "Se_H_C1_O1.00H1.65O1.70b   [+5,+4,+3,+2,+1,0,-1,-2,-3]  [0.084,0.181,0.542]  12b\n",
      "Se_H_C1_O1.02O1.59         [+5,+4,+3,+2,+1,0,-1,-2,-3]  [0.043,0.801,0.475]  12b\n",
      "Se_H_C1_O1.02O1.60         [+5,+4,+3,+2,+1,0,-1,-2,-3]  [0.301,0.475,0.457]  12b\n",
      "Se_O_C1_H0.99H1.59         [+8,+7,+6,+5,+4,+3,+2,+1,0]  [0.132,0.715,0.460]  12b\n",
      "Se_O_C1_H0.99H1.60         [+8,+7,+6,+5,+4,+3,+2,+1,0]  [0.215,0.459,0.368]  12b\n",
      "Se_O_C1_H1.00Al1.91        [+8,+7,+6,+5,+4,+3,+2,+1,0]  [0.017,0.147,0.518]  12b\n",
      "Se_O_C1_H1.00H1.02         [+8,+7,+6,+5,+4,+3,+2,+1,0]  [0.017,0.353,0.018]  12b\n",
      "Se_O_C1_Se1.68H1.70H1.77a  [+8,+7,+6,+5,+4,+3,+2,+1,0]  [0.079,0.191,0.251]  12b\n",
      "Se_O_C1_Se1.68H1.70H1.77b  [+8,+7,+6,+5,+4,+3,+2,+1,0]  [0.191,0.249,0.579]  12b\n",
      "Se_O_C3_Se1.69H1.77O2.74a  [+8,+7,+6,+5,+4,+3,+2,+1,0]  [0.275,0.275,0.275]  4a\n",
      "Se_O_C3_Se1.69H1.77O2.74b  [+8,+7,+6,+5,+4,+3,+2,+1,0]  [0.725,0.725,0.725]  4a\n",
      "O_Cs                       [0,-1,-2,-3]                 [0.000,0.000,0.000]  4a\n",
      "O_Al                       [0,-1,-2,-3,-4,-5]           [0.500,0.500,0.500]  4a\n",
      "O_H_C1_O0.99H1.56O1.77a    [0,-1,-2,-3]                 [0.227,0.390,0.336]  12b\n",
      "O_H_C1_O0.99H1.56O1.77b    [0,-1,-2,-3]                 [0.226,0.508,0.308]  12b\n",
      "O_H_C1_O0.99H1.56O1.77c    [0,-1,-2,-3]                 [0.164,0.727,0.390]  12b\n",
      "O_H_C1_O1.00H1.56          [0,-1,-2,-3]                 [0.009,0.308,0.275]  12b\n",
      "O_H_C1_O1.00H1.65O1.70a    [0,-1,-2,-3]                 [0.042,0.083,0.319]  12b\n",
      "O_H_C1_O1.00H1.65O1.70b    [0,-1,-2,-3]                 [0.084,0.181,0.542]  12b\n",
      "O_H_C1_O1.02O1.59          [0,-1,-2,-3]                 [0.043,0.801,0.475]  12b\n",
      "O_H_C1_O1.02O1.60          [0,-1,-2,-3]                 [0.301,0.475,0.457]  12b\n",
      "O_Se_C3_O1.68H2.92H2.97a   [0,-1,-2,-3,-4,-5,-6,-7,-8]  [0.199,0.199,0.199]  4a\n",
      "O_Se_C3_O1.68H2.92H2.97b   [0,-1,-2,-3,-4,-5,-6,-7,-8]  [0.801,0.801,0.801]  4a\n",
      "Cr_Cs                      [+5,+4,+3,+2,+1,0]           [0.000,0.000,0.000]  4a\n",
      "Cr_Al                      [+3,+2,+1,0,-1]              [0.500,0.500,0.500]  4a\n",
      "Cr_H_C1_O0.99H1.56O1.77a   [+5,+4,+3,+2,+1,0]           [0.227,0.390,0.336]  12b\n",
      "Cr_H_C1_O0.99H1.56O1.77b   [+5,+4,+3,+2,+1,0]           [0.226,0.508,0.308]  12b\n",
      "Cr_H_C1_O0.99H1.56O1.77c   [+5,+4,+3,+2,+1,0]           [0.164,0.727,0.390]  12b\n",
      "Cr_H_C1_O1.00H1.56         [+5,+4,+3,+2,+1,0]           [0.009,0.308,0.275]  12b\n",
      "Cr_H_C1_O1.00H1.65O1.70a   [+5,+4,+3,+2,+1,0]           [0.042,0.083,0.319]  12b\n",
      "Cr_H_C1_O1.00H1.65O1.70b   [+5,+4,+3,+2,+1,0]           [0.084,0.181,0.542]  12b\n",
      "Cr_H_C1_O1.02O1.59         [+5,+4,+3,+2,+1,0]           [0.043,0.801,0.475]  12b\n",
      "Cr_H_C1_O1.02O1.60         [+5,+4,+3,+2,+1,0]           [0.301,0.475,0.457]  12b\n",
      "Cr_Se_C3_O1.68H2.92H2.97a  [0,-1,-2,-3,-4]              [0.199,0.199,0.199]  4a\n",
      "Cr_Se_C3_O1.68H2.92H2.97b  [0,-1,-2,-3,-4]              [0.801,0.801,0.801]  4a\n",
      "Cr_O_C1_H0.99H1.59         [+8,+7,+6,+5,+4,+3,+2,+1,0]  [0.132,0.715,0.460]  12b\n",
      "Cr_O_C1_H0.99H1.60         [+8,+7,+6,+5,+4,+3,+2,+1,0]  [0.215,0.459,0.368]  12b\n",
      "Cr_O_C1_H1.00Al1.91        [+8,+7,+6,+5,+4,+3,+2,+1,0]  [0.017,0.147,0.518]  12b\n",
      "Cr_O_C1_H1.00H1.02         [+8,+7,+6,+5,+4,+3,+2,+1,0]  [0.017,0.353,0.018]  12b\n",
      "Cr_O_C1_Se1.68H1.70H1.77a  [+8,+7,+6,+5,+4,+3,+2,+1,0]  [0.079,0.191,0.251]  12b\n",
      "Cr_O_C1_Se1.68H1.70H1.77b  [+8,+7,+6,+5,+4,+3,+2,+1,0]  [0.191,0.249,0.579]  12b\n",
      "Cr_O_C3_Se1.69H1.77O2.74a  [+8,+7,+6,+5,+4,+3,+2,+1,0]  [0.275,0.275,0.275]  4a\n",
      "Cr_O_C3_Se1.69H1.77O2.74b  [+8,+7,+6,+5,+4,+3,+2,+1,0]  [0.725,0.725,0.725]  4a\n",
      "\n",
      "The number in the Wyckoff label is the site multiplicity/degeneracy of that defect in the conventional ('conv.') unit cell, which comprises 4 formula unit(s) of CsAlH24(SeO10)2.\n",
      "\n",
      "Oxidation states were not explicitly set, thus have been guessed as {'Cs': 1.0, 'Al': 3.0, 'H': 1.0, 'Se': 6.0, 'O': -2.0, 'Cr': 3.0}. If this is unreasonable you should manually set oxidation_states\n",
      "Applying ShakeNBreak... Will apply the following bond distortions: ['-0.6', '-0.5', '-0.4', '-0.3', '-0.2', '-0.1', '0.0', '0.1', '0.2', '0.3', '0.4', '0.5', '0.6', 'Dimer (for vacancies)']. Then, will rattle with a std dev of 0.10 Å \n",
      "\n"
     ]
    },
    {
     "name": "stderr",
     "output_type": "stream",
     "text": [
      "Generating distorted defect structures...0.0%|                                                         | [00:00,  ?it/s]distortions.py:577: UserWarning: Automatic bond-length detection gave a bulk bond length of 0.9928838949155472 Å, which is almost certainly too small. Reverting to 2.25 Å. If this is too large, set `d_min` manually\n"
     ]
    },
    {
     "name": "stdout",
     "output_type": "stream",
     "text": [
      "\u001b[1m\n",
      "Defect: Cr_Al\u001b[0m\n",
      "\u001b[1mNumber of missing electrons in neutral state: 0\u001b[0m\n",
      "\n",
      "Defect Cr_Al in charge state: 0. Number of distorted neighbours: 0\n"
     ]
    },
    {
     "name": "stderr",
     "output_type": "stream",
     "text": [
      "Generating distorted defect structures...100.0%|███████████████████████████████████████████████████| [00:14,  14.05s/it]\n"
     ]
    },
    {
     "name": "stdout",
     "output_type": "stream",
     "text": [
      "       Step     Time          Energy          fmax\n",
      "LBFGS:    0 20:05:29     -986.646507        0.005830\n"
     ]
    },
    {
     "name": "stderr",
     "output_type": "stream",
     "text": [
      "672513604.py:11: FutureWarning: Please use len(self) or, if your atoms are distributed, self.get_global_number_of_atoms.\n",
      "compatibility.py:629: UserWarning: Failed to guess oxidation states for Entry None (CsAlH24(SeO10)2). Assigning anion correction to only the most electronegative atom.\n"
     ]
    },
    {
     "name": "stdout",
     "output_type": "stream",
     "text": [
      "       Step     Time          Energy          fmax\n",
      "LBFGS:    0 20:05:36     -986.973685        1.705819\n",
      "LBFGS:    1 20:05:44     -987.135435        0.538488\n",
      "LBFGS:    2 20:05:52     -987.233931        0.544957\n",
      "LBFGS:    3 20:06:00     -987.337302        0.346592\n",
      "LBFGS:    4 20:06:07     -987.367697        0.281826\n",
      "LBFGS:    5 20:06:15     -987.396094        0.266453\n",
      "LBFGS:    6 20:06:23     -987.419569        0.232855\n",
      "LBFGS:    7 20:06:31     -987.433661        0.138223\n",
      "LBFGS:    8 20:06:39     -987.438757        0.070847\n",
      "LBFGS:    9 20:06:47     -987.440871        0.067861\n",
      "LBFGS:   10 20:06:54     -987.444014        0.100963\n",
      "LBFGS:   11 20:07:02     -987.448027        0.120354\n",
      "LBFGS:   12 20:07:10     -987.450926        0.081431\n",
      "LBFGS:   13 20:07:18     -987.452292        0.042281\n",
      "LBFGS:   14 20:07:26     -987.453169        0.040136\n",
      "LBFGS:   15 20:07:34     -987.454352        0.071719\n",
      "LBFGS:   16 20:07:41     -987.455946        0.085363\n",
      "LBFGS:   17 20:07:49     -987.457411        0.057066\n",
      "LBFGS:   18 20:07:57     -987.458449        0.031003\n",
      "LBFGS:   19 20:08:05     -987.459097        0.037435\n",
      "LBFGS:   20 20:08:13     -987.459799        0.054061\n",
      "LBFGS:   21 20:08:21     -987.460509        0.042304\n",
      "LBFGS:   22 20:08:28     -987.460860        0.017176\n",
      "LBFGS:   23 20:08:36     -987.461104        0.016105\n",
      "LBFGS:   24 20:08:44     -987.461432        0.036323\n",
      "LBFGS:   25 20:08:52     -987.461813        0.041869\n",
      "LBFGS:   26 20:09:00     -987.462111        0.026202\n",
      "LBFGS:   27 20:09:08     -987.462340        0.017637\n",
      "LBFGS:   28 20:09:15     -987.462569        0.026123\n",
      "LBFGS:   29 20:09:23     -987.462874        0.040000\n",
      "LBFGS:   30 20:09:31     -987.463278        0.042101\n",
      "LBFGS:   31 20:09:40     -987.463537        0.022984\n",
      "LBFGS:   32 20:09:47     -987.463660        0.009928\n"
     ]
    },
    {
     "name": "stderr",
     "output_type": "stream",
     "text": [
      "compatibility.py:629: UserWarning: Failed to guess oxidation states for Entry None (Cs4Al3CrH96(SeO10)8). Assigning anion correction to only the most electronegative atom.\n"
     ]
    },
    {
     "name": "stdout",
     "output_type": "stream",
     "text": [
      "       Step     Time          Energy          fmax\n",
      "LBFGS:    0 20:09:59     -866.735300       29.016169\n",
      "LBFGS:    1 20:10:07     -905.169982       10.089423\n",
      "LBFGS:    2 20:10:15     -951.844565        4.733067\n",
      "LBFGS:    3 20:10:23     -968.629519        8.057102\n",
      "LBFGS:    4 20:10:31     -977.163290        3.453296\n",
      "LBFGS:    5 20:10:39     -980.863745        2.798731\n",
      "LBFGS:    6 20:10:46     -984.201109        3.307450\n",
      "LBFGS:    7 20:10:54     -985.462706        1.595590\n",
      "LBFGS:    8 20:11:02     -986.078795        0.682052\n",
      "LBFGS:    9 20:11:10     -986.300413        0.558058\n",
      "LBFGS:   10 20:11:18     -986.691962        0.651811\n",
      "LBFGS:   11 20:11:26     -986.875227        0.688248\n",
      "LBFGS:   12 20:11:34     -987.042319        0.615771\n",
      "LBFGS:   13 20:11:42     -987.133765        0.384423\n",
      "LBFGS:   14 20:11:50     -987.198553        0.349715\n",
      "LBFGS:   15 20:11:58     -987.240225        0.311590\n",
      "LBFGS:   16 20:12:06     -987.276350        0.261630\n",
      "LBFGS:   17 20:12:13     -987.304076        0.253831\n",
      "LBFGS:   18 20:12:21     -987.326910        0.259843\n",
      "LBFGS:   19 20:12:29     -987.347258        0.273257\n",
      "LBFGS:   20 20:12:37     -987.365309        0.286606\n",
      "LBFGS:   21 20:12:45     -987.378966        0.183960\n",
      "LBFGS:   22 20:12:53     -987.389082        0.169782\n",
      "LBFGS:   23 20:13:01     -987.398062        0.160525\n",
      "LBFGS:   24 20:13:09     -987.408079        0.247216\n",
      "LBFGS:   25 20:13:17     -987.417708        0.211511\n",
      "LBFGS:   26 20:13:25     -987.424078        0.125917\n",
      "LBFGS:   27 20:13:32     -987.427771        0.109201\n",
      "LBFGS:   28 20:13:40     -987.430609        0.091617\n",
      "LBFGS:   29 20:13:48     -987.433417        0.110503\n",
      "LBFGS:   30 20:13:56     -987.436415        0.142641\n",
      "LBFGS:   31 20:14:04     -987.439337        0.117999\n",
      "LBFGS:   32 20:14:12     -987.442023        0.092355\n",
      "LBFGS:   33 20:14:20     -987.444472        0.088501\n",
      "LBFGS:   34 20:14:28     -987.446707        0.126806\n",
      "LBFGS:   35 20:14:36     -987.448592        0.122405\n",
      "LBFGS:   36 20:14:44     -987.450201        0.057901\n",
      "LBFGS:   37 20:14:51     -987.451453        0.051593\n",
      "LBFGS:   38 20:14:59     -987.452650        0.097019\n",
      "LBFGS:   39 20:15:07     -987.453871        0.124971\n",
      "LBFGS:   40 20:15:15     -987.454970        0.092844\n",
      "LBFGS:   41 20:15:23     -987.455733        0.033707\n",
      "LBFGS:   42 20:15:31     -987.456297        0.037514\n",
      "LBFGS:   43 20:15:39     -987.456869        0.080990\n",
      "LBFGS:   44 20:15:47     -987.457709        0.101777\n",
      "LBFGS:   45 20:15:55     -987.458731        0.081378\n",
      "LBFGS:   46 20:16:03     -987.459608        0.045914\n",
      "LBFGS:   47 20:16:11     -987.460165        0.025493\n",
      "LBFGS:   48 20:16:19     -987.460501        0.043118\n",
      "LBFGS:   49 20:16:27     -987.460905        0.043219\n",
      "LBFGS:   50 20:16:35     -987.461363        0.045731\n",
      "LBFGS:   51 20:16:43     -987.461890        0.043450\n",
      "LBFGS:   52 20:16:51     -987.462286        0.030881\n",
      "LBFGS:   53 20:16:59     -987.462637        0.033664\n",
      "LBFGS:   54 20:17:07     -987.462950        0.024486\n",
      "LBFGS:   55 20:17:15     -987.463148        0.026110\n",
      "LBFGS:   56 20:17:23     -987.463293        0.016542\n",
      "LBFGS:   57 20:17:31     -987.463461        0.020740\n",
      "LBFGS:   58 20:17:39     -987.463621        0.023203\n",
      "LBFGS:   59 20:17:47     -987.463881        0.033266\n",
      "LBFGS:   60 20:17:55     -987.464026        0.031057\n",
      "LBFGS:   61 20:18:03     -987.464255        0.022610\n",
      "LBFGS:   62 20:18:11     -987.464392        0.017769\n",
      "LBFGS:   63 20:18:19     -987.464415        0.014885\n",
      "LBFGS:   64 20:18:27     -987.464545        0.018465\n",
      "LBFGS:   65 20:18:35     -987.464651        0.022130\n",
      "LBFGS:   66 20:18:43     -987.464751        0.025479\n",
      "LBFGS:   67 20:18:51     -987.464857        0.017103\n",
      "LBFGS:   68 20:18:59     -987.464957        0.013372\n",
      "LBFGS:   69 20:19:07     -987.465010        0.014575\n",
      "LBFGS:   70 20:19:15     -987.465071        0.018726\n",
      "LBFGS:   71 20:19:23     -987.465147        0.017613\n",
      "LBFGS:   72 20:19:31     -987.465239        0.009064\n"
     ]
    },
    {
     "name": "stderr",
     "output_type": "stream",
     "text": [
      "Generating DefectEntry objects: 100.0%|████████████████████████████████████████████████████████████| [01:09,   1.45it/s]\n"
     ]
    },
    {
     "name": "stdout",
     "output_type": "stream",
     "text": [
      "Vacancies    Guessed Charges    Conv. Cell Coords    Wyckoff\n",
      "-----------  -----------------  -------------------  ---------\n",
      "v_Al         [+1,0,-1,-2,-3]    [0.000,0.000,0.148]  12c\n",
      "v_O          [+2,+1,0,-1]       [0.306,0.306,0.250]  18e\n",
      "\n",
      "Substitutions    Guessed Charges     Conv. Cell Coords    Wyckoff\n",
      "---------------  ------------------  -------------------  ---------\n",
      "Al_O             [+5,+4,+3,+2,+1,0]  [0.306,0.306,0.250]  18e\n",
      "O_Al             [0,-1,-2,-3,-4,-5]  [0.000,0.000,0.148]  12c\n",
      "Cr_Al            [+3,+2,+1,0,-1]     [0.000,0.000,0.148]  12c\n",
      "Cr_O             [+5,+4,+3,+2,+1,0]  [0.306,0.306,0.250]  18e\n",
      "\n",
      "The number in the Wyckoff label is the site multiplicity/degeneracy of that defect in the conventional ('conv.') unit cell, which comprises 6 formula unit(s) of Al2O3.\n",
      "\n",
      "Oxidation states were not explicitly set, thus have been guessed as {'Al': 3.0, 'O': -2.0, 'Cr': 3.0}. If this is unreasonable you should manually set oxidation_states\n",
      "Applying ShakeNBreak... Will apply the following bond distortions: ['-0.6', '-0.5', '-0.4', '-0.3', '-0.2', '-0.1', '0.0', '0.1', '0.2', '0.3', '0.4', '0.5', '0.6', 'Dimer (for vacancies)']. Then, will rattle with a std dev of 0.19 Å \n",
      "\n"
     ]
    },
    {
     "name": "stderr",
     "output_type": "stream",
     "text": [
      "Generating distorted defect structures...0.0%|                                                         | [00:00,  ?it/s]"
     ]
    },
    {
     "name": "stdout",
     "output_type": "stream",
     "text": [
      "\u001b[1m\n",
      "Defect: Cr_Al\u001b[0m\n",
      "\u001b[1mNumber of missing electrons in neutral state: 0\u001b[0m\n",
      "\n",
      "Defect Cr_Al in charge state: 0. Number of distorted neighbours: 0\n"
     ]
    },
    {
     "name": "stderr",
     "output_type": "stream",
     "text": [
      "Generating distorted defect structures...100.0%|███████████████████████████████████████████████████| [00:00,   1.05it/s]\n"
     ]
    },
    {
     "name": "stdout",
     "output_type": "stream",
     "text": [
      "       Step     Time          Energy          fmax\n",
      "LBFGS:    0 20:20:47     -897.796176        0.009233\n"
     ]
    },
    {
     "name": "stderr",
     "output_type": "stream",
     "text": [
      "672513604.py:11: FutureWarning: Please use len(self) or, if your atoms are distributed, self.get_global_number_of_atoms.\n"
     ]
    },
    {
     "name": "stdout",
     "output_type": "stream",
     "text": [
      "       Step     Time          Energy          fmax\n",
      "LBFGS:    0 20:20:54     -898.323220        2.269435\n",
      "LBFGS:    1 20:21:00     -898.545236        1.107785\n",
      "LBFGS:    2 20:21:06     -898.651040        0.299511\n",
      "LBFGS:    3 20:21:13     -898.670022        0.182043\n",
      "LBFGS:    4 20:21:19     -898.681725        0.133071\n",
      "LBFGS:    5 20:21:26     -898.686501        0.078210\n",
      "LBFGS:    6 20:21:33     -898.689126        0.065248\n",
      "LBFGS:    7 20:21:39     -898.690331        0.048137\n",
      "LBFGS:    8 20:21:46     -898.691079        0.025253\n",
      "LBFGS:    9 20:21:52     -898.691369        0.024730\n",
      "LBFGS:   10 20:21:59     -898.691583        0.019331\n",
      "LBFGS:   11 20:22:06     -898.691720        0.012396\n",
      "LBFGS:   12 20:22:12     -898.691796        0.009364\n"
     ]
    },
    {
     "name": "stderr",
     "output_type": "stream",
     "text": [
      "compatibility.py:629: UserWarning: Failed to guess oxidation states for Entry None (Al47CrO72). Assigning anion correction to only the most electronegative atom.\n"
     ]
    },
    {
     "name": "stdout",
     "output_type": "stream",
     "text": [
      "       Step     Time          Energy          fmax\n",
      "LBFGS:    0 20:22:22     -802.695954       22.732684\n",
      "LBFGS:    1 20:22:28     -850.964333        9.594552\n",
      "LBFGS:    2 20:22:35     -878.899346        4.181862\n",
      "LBFGS:    3 20:22:42     -890.758645        3.130787\n",
      "LBFGS:    4 20:22:48     -894.093453        2.016651\n",
      "LBFGS:    5 20:22:55     -896.313119        1.268288\n",
      "LBFGS:    6 20:23:02     -897.349038        0.973542\n",
      "LBFGS:    7 20:23:08     -897.863915        0.892038\n",
      "LBFGS:    8 20:23:15     -898.171426        0.688745\n",
      "LBFGS:    9 20:23:22     -898.372567        0.447797\n",
      "LBFGS:   10 20:23:29     -898.480462        0.354718\n",
      "LBFGS:   11 20:23:36     -898.553643        0.331687\n",
      "LBFGS:   12 20:23:43     -898.603814        0.269508\n",
      "LBFGS:   13 20:23:49     -898.635232        0.217753\n",
      "LBFGS:   14 20:23:56     -898.655175        0.181945\n",
      "LBFGS:   15 20:24:02     -898.668954        0.137684\n",
      "LBFGS:   16 20:24:09     -898.678368        0.107222\n",
      "LBFGS:   17 20:24:15     -898.684136        0.068196\n",
      "LBFGS:   18 20:24:22     -898.687158        0.051665\n",
      "LBFGS:   19 20:24:29     -898.689050        0.039292\n",
      "LBFGS:   20 20:24:35     -898.690194        0.034297\n",
      "LBFGS:   21 20:24:42     -898.690972        0.024600\n",
      "LBFGS:   22 20:24:49     -898.691308        0.018507\n",
      "LBFGS:   23 20:24:55     -898.691522        0.016175\n",
      "LBFGS:   24 20:25:02     -898.691720        0.013143\n",
      "LBFGS:   25 20:25:08     -898.691827        0.009892\n"
     ]
    },
    {
     "name": "stderr",
     "output_type": "stream",
     "text": [
      "Generating DefectEntry objects: 100.0%|████████████████████████████████████████████████████████████| [03:08,   1.89s/it]\n"
     ]
    },
    {
     "name": "stdout",
     "output_type": "stream",
     "text": [
      "Vacancies                 Guessed Charges           Conv. Cell Coords    Wyckoff\n",
      "------------------------  ------------------------  -------------------  ---------\n",
      "v_Al_C3_O1.89             [+1,0,-1,-2,-3]           [0.000,0.000,0.145]  6c\n",
      "v_Al_C3_O1.90             [+1,0,-1,-2,-3]           [0.000,0.000,0.351]  6c\n",
      "v_S                       [+1,0,-1,-2,-3,-4,-5,-6]  [0.378,0.046,0.083]  18f\n",
      "v_O_C1_S1.47              [+2,+1,0,-1]              [0.014,0.190,0.091]  18f\n",
      "v_O_C1_S1.48Al1.90O2.38a  [+2,+1,0,-1]              [0.183,0.202,0.193]  18f\n",
      "v_O_C1_S1.48Al1.90O2.38b  [+2,+1,0,-1]              [0.217,0.148,0.302]  18f\n",
      "v_O_C1_S1.48Al1.90O2.38c  [+2,+1,0,-1]              [0.066,0.214,0.402]  18f\n",
      "\n",
      "Substitutions              Guessed Charges              Conv. Cell Coords    Wyckoff\n",
      "-------------------------  ---------------------------  -------------------  ---------\n",
      "Al_S                       [0,-1,-2,-3]                 [0.378,0.046,0.083]  18f\n",
      "Al_O_C1_S1.47              [+5,+4,+3,+2,+1,0]           [0.014,0.190,0.091]  18f\n",
      "Al_O_C1_S1.48Al1.90O2.38a  [+5,+4,+3,+2,+1,0]           [0.183,0.202,0.193]  18f\n",
      "Al_O_C1_S1.48Al1.90O2.38b  [+5,+4,+3,+2,+1,0]           [0.217,0.148,0.302]  18f\n",
      "Al_O_C1_S1.48Al1.90O2.38c  [+5,+4,+3,+2,+1,0]           [0.066,0.214,0.402]  18f\n",
      "S_Al_C3_O1.89              [+3,+2,+1,0,-1,-2,-3,-4,-5]  [0.000,0.000,0.145]  6c\n",
      "S_Al_C3_O1.90              [+3,+2,+1,0,-1,-2,-3,-4,-5]  [0.000,0.000,0.351]  6c\n",
      "S_O_C1_S1.47               [+8,+7,+6,+5,+4,+3,+2,+1,0]  [0.014,0.190,0.091]  18f\n",
      "S_O_C1_S1.48Al1.90O2.38a   [+8,+7,+6,+5,+4,+3,+2,+1,0]  [0.183,0.202,0.193]  18f\n",
      "S_O_C1_S1.48Al1.90O2.38b   [+8,+7,+6,+5,+4,+3,+2,+1,0]  [0.217,0.148,0.302]  18f\n",
      "S_O_C1_S1.48Al1.90O2.38c   [+8,+7,+6,+5,+4,+3,+2,+1,0]  [0.066,0.214,0.402]  18f\n",
      "O_Al_C3_O1.89              [0,-1,-2,-3,-4,-5]           [0.000,0.000,0.145]  6c\n",
      "O_Al_C3_O1.90              [0,-1,-2,-3,-4,-5]           [0.000,0.000,0.351]  6c\n",
      "O_S                        [0,-1,-2,-3,-4,-5,-6,-7,-8]  [0.378,0.046,0.083]  18f\n",
      "Cr_Al_C3_O1.89             [+3,+2,+1,0,-1]              [0.000,0.000,0.145]  6c\n",
      "Cr_Al_C3_O1.90             [+3,+2,+1,0,-1]              [0.000,0.000,0.351]  6c\n",
      "Cr_S                       [0,-1,-2,-3,-4]              [0.378,0.046,0.083]  18f\n",
      "Cr_O_C1_S1.47              [+8,+7,+6,+5,+4,+3,+2,+1,0]  [0.014,0.190,0.091]  18f\n",
      "Cr_O_C1_S1.48Al1.90O2.38a  [+8,+7,+6,+5,+4,+3,+2,+1,0]  [0.183,0.202,0.193]  18f\n",
      "Cr_O_C1_S1.48Al1.90O2.38b  [+8,+7,+6,+5,+4,+3,+2,+1,0]  [0.217,0.148,0.302]  18f\n",
      "Cr_O_C1_S1.48Al1.90O2.38c  [+8,+7,+6,+5,+4,+3,+2,+1,0]  [0.066,0.214,0.402]  18f\n",
      "\n",
      "The number in the Wyckoff label is the site multiplicity/degeneracy of that defect in the conventional ('conv.') unit cell, which comprises 6 formula unit(s) of Al2(SO4)3.\n",
      "\n",
      "Oxidation states were not explicitly set, thus have been guessed as {'Al': 3.0, 'S': 6.0, 'O': -2.0, 'Cr': 3.0}. If this is unreasonable you should manually set oxidation_states\n",
      "Applying ShakeNBreak... Will apply the following bond distortions: ['-0.6', '-0.5', '-0.4', '-0.3', '-0.2', '-0.1', '0.0', '0.1', '0.2', '0.3', '0.4', '0.5', '0.6', 'Dimer (for vacancies)']. Then, will rattle with a std dev of 0.15 Å \n",
      "\n"
     ]
    },
    {
     "name": "stderr",
     "output_type": "stream",
     "text": [
      "Generating distorted defect structures...0.0%|                                                         | [00:00,  ?it/s]"
     ]
    },
    {
     "name": "stdout",
     "output_type": "stream",
     "text": [
      "\u001b[1m\n",
      "Defect: Cr_Al_C3_O1.89\u001b[0m\n",
      "\u001b[1mNumber of missing electrons in neutral state: 0\u001b[0m\n",
      "\n",
      "Defect Cr_Al_C3_O1.89 in charge state: 0. Number of distorted neighbours: 0\n"
     ]
    },
    {
     "name": "stderr",
     "output_type": "stream",
     "text": [
      "Generating distorted defect structures...50.0%|██████████████████████████                          | [00:01,   1.24s/it]"
     ]
    },
    {
     "name": "stdout",
     "output_type": "stream",
     "text": [
      "\u001b[1m\n",
      "Defect: Cr_Al_C3_O1.90\u001b[0m\n",
      "\u001b[1mNumber of missing electrons in neutral state: 0\u001b[0m\n",
      "\n",
      "Defect Cr_Al_C3_O1.90 in charge state: 0. Number of distorted neighbours: 0\n"
     ]
    },
    {
     "name": "stderr",
     "output_type": "stream",
     "text": [
      "Generating distorted defect structures...100.0%|███████████████████████████████████████████████████| [00:02,   1.19s/it]\n"
     ]
    },
    {
     "name": "stdout",
     "output_type": "stream",
     "text": [
      "       Step     Time          Energy          fmax\n",
      "LBFGS:    0 20:28:24     -885.849208        0.009304\n"
     ]
    },
    {
     "name": "stderr",
     "output_type": "stream",
     "text": [
      "672513604.py:11: FutureWarning: Please use len(self) or, if your atoms are distributed, self.get_global_number_of_atoms.\n"
     ]
    },
    {
     "name": "stdout",
     "output_type": "stream",
     "text": [
      "       Step     Time          Energy          fmax\n",
      "LBFGS:    0 20:28:30     -886.236236        1.765379\n",
      "LBFGS:    1 20:28:35     -886.388658        1.117600\n",
      "LBFGS:    2 20:28:40     -886.497622        0.434263\n",
      "LBFGS:    3 20:28:45     -886.555816        0.364534\n",
      "LBFGS:    4 20:28:51     -886.601701        0.313951\n",
      "LBFGS:    5 20:28:56     -886.635362        0.225597\n",
      "LBFGS:    6 20:29:01     -886.653044        0.148259\n",
      "LBFGS:    7 20:29:07     -886.659667        0.114369\n",
      "LBFGS:    8 20:29:12     -886.664129        0.124951\n",
      "LBFGS:    9 20:29:17     -886.669566        0.103516\n",
      "LBFGS:   10 20:29:23     -886.674359        0.110560\n",
      "LBFGS:   11 20:29:28     -886.677884        0.091234\n",
      "LBFGS:   12 20:29:33     -886.681168        0.080421\n",
      "LBFGS:   13 20:29:39     -886.684332        0.088164\n",
      "LBFGS:   14 20:29:44     -886.687155        0.089932\n",
      "LBFGS:   15 20:29:49     -886.689333        0.056949\n",
      "LBFGS:   16 20:29:55     -886.690798        0.043460\n",
      "LBFGS:   17 20:30:00     -886.691675        0.031735\n",
      "LBFGS:   18 20:30:05     -886.692250        0.035601\n",
      "LBFGS:   19 20:30:11     -886.692809        0.036134\n",
      "LBFGS:   20 20:30:16     -886.693470        0.037088\n",
      "LBFGS:   21 20:30:21     -886.694029        0.038968\n",
      "LBFGS:   22 20:30:27     -886.694403        0.040916\n",
      "LBFGS:   23 20:30:32     -886.694703        0.030571\n",
      "LBFGS:   24 20:30:38     -886.695003        0.025086\n",
      "LBFGS:   25 20:30:43     -886.695272        0.021461\n",
      "LBFGS:   26 20:30:48     -886.695468        0.020833\n",
      "LBFGS:   27 20:30:54     -886.695609        0.017579\n",
      "LBFGS:   28 20:30:59     -886.695744        0.017509\n",
      "LBFGS:   29 20:31:05     -886.695886        0.017792\n",
      "LBFGS:   30 20:31:10     -886.696010        0.015067\n",
      "LBFGS:   31 20:31:15     -886.696094        0.014557\n",
      "LBFGS:   32 20:31:21     -886.696161        0.012256\n",
      "LBFGS:   33 20:31:26     -886.696223        0.010239\n",
      "LBFGS:   34 20:31:32     -886.696277        0.009635\n"
     ]
    },
    {
     "name": "stderr",
     "output_type": "stream",
     "text": [
      "672513604.py:11: FutureWarning: Please use len(self) or, if your atoms are distributed, self.get_global_number_of_atoms.\n",
      "compatibility.py:629: UserWarning: Failed to guess oxidation states for Entry None (Al15Cr(SO4)24). Assigning anion correction to only the most electronegative atom.\n"
     ]
    },
    {
     "name": "stdout",
     "output_type": "stream",
     "text": [
      "       Step     Time          Energy          fmax\n",
      "LBFGS:    0 20:31:40     -766.639604       73.497592\n",
      "LBFGS:    1 20:31:45     -818.730962       23.306523\n",
      "LBFGS:    2 20:31:50     -850.638632       12.355699\n",
      "LBFGS:    3 20:31:56     -872.272820        5.809668\n",
      "LBFGS:    4 20:32:01     -879.009860        5.865439\n",
      "LBFGS:    5 20:32:06     -882.136402        3.875855\n",
      "LBFGS:    6 20:32:12     -883.613569        2.022796\n",
      "LBFGS:    7 20:32:17     -884.659104        1.950834\n",
      "LBFGS:    8 20:32:23     -885.167682        1.052416\n",
      "LBFGS:    9 20:32:28     -885.537014        0.761915\n",
      "LBFGS:   10 20:32:33     -885.783361        1.158533\n",
      "LBFGS:   11 20:32:39     -885.987229        0.929657\n",
      "LBFGS:   12 20:32:45     -886.160465        0.552699\n",
      "LBFGS:   13 20:32:50     -886.289840        0.579684\n",
      "LBFGS:   14 20:32:55     -886.387609        0.716140\n",
      "LBFGS:   15 20:33:00     -886.450159        0.446681\n",
      "LBFGS:   16 20:33:06     -886.487339        0.239707\n",
      "LBFGS:   17 20:33:11     -886.516042        0.305649\n",
      "LBFGS:   18 20:33:16     -886.543123        0.348275\n",
      "LBFGS:   19 20:33:21     -886.568999        0.285162\n",
      "LBFGS:   20 20:33:26     -886.592645        0.190717\n",
      "LBFGS:   21 20:33:32     -886.614240        0.184758\n",
      "LBFGS:   22 20:33:37     -886.631610        0.216353\n",
      "LBFGS:   23 20:33:42     -886.643512        0.206203\n",
      "LBFGS:   24 20:33:48     -886.651531        0.107100\n",
      "LBFGS:   25 20:33:53     -886.657798        0.103912\n",
      "LBFGS:   26 20:33:59     -886.663364        0.091837\n",
      "LBFGS:   27 20:34:04     -886.668242        0.109764\n",
      "LBFGS:   28 20:34:10     -886.672580        0.088548\n",
      "LBFGS:   29 20:34:15     -886.676623        0.082773\n",
      "LBFGS:   30 20:34:20     -886.680111        0.086678\n",
      "LBFGS:   31 20:34:26     -886.682838        0.062808\n",
      "LBFGS:   32 20:34:31     -886.684913        0.060652\n",
      "LBFGS:   33 20:34:36     -886.686498        0.047583\n",
      "LBFGS:   34 20:34:42     -886.687805        0.048495\n",
      "LBFGS:   35 20:34:47     -886.689033        0.057168\n",
      "LBFGS:   36 20:34:53     -886.690287        0.062908\n",
      "LBFGS:   37 20:34:58     -886.691454        0.046787\n",
      "LBFGS:   38 20:35:04     -886.692364        0.036069\n",
      "LBFGS:   39 20:35:09     -886.692967        0.049342\n",
      "LBFGS:   40 20:35:14     -886.693416        0.051327\n",
      "LBFGS:   41 20:35:20     -886.693784        0.028619\n",
      "LBFGS:   42 20:35:25     -886.694127        0.021947\n",
      "LBFGS:   43 20:35:31     -886.694475        0.041704\n",
      "LBFGS:   44 20:35:36     -886.694809        0.055700\n",
      "LBFGS:   45 20:35:42     -886.695093        0.040351\n",
      "LBFGS:   46 20:35:47     -886.695334        0.017655\n",
      "LBFGS:   47 20:35:52     -886.695520        0.020761\n",
      "LBFGS:   48 20:35:58     -886.695657        0.029664\n",
      "LBFGS:   49 20:36:03     -886.695755        0.022438\n",
      "LBFGS:   50 20:36:09     -886.695867        0.011883\n",
      "LBFGS:   51 20:36:14     -886.695969        0.016161\n",
      "LBFGS:   52 20:36:19     -886.696062        0.028117\n",
      "LBFGS:   53 20:36:25     -886.696154        0.025187\n",
      "LBFGS:   54 20:36:30     -886.696222        0.010557\n",
      "LBFGS:   55 20:36:36     -886.696269        0.008516\n"
     ]
    },
    {
     "name": "stderr",
     "output_type": "stream",
     "text": [
      "672513604.py:11: FutureWarning: Please use len(self) or, if your atoms are distributed, self.get_global_number_of_atoms.\n",
      "compatibility.py:629: UserWarning: Failed to guess oxidation states for Entry None (Al15Cr(SO4)24). Assigning anion correction to only the most electronegative atom.\n"
     ]
    },
    {
     "name": "stdout",
     "output_type": "stream",
     "text": [
      "       Step     Time          Energy          fmax\n",
      "LBFGS:    0 20:36:44     -886.357184        1.820753\n",
      "LBFGS:    1 20:36:49     -886.510834        1.035098\n",
      "LBFGS:    2 20:36:54     -886.623924        0.521721\n",
      "LBFGS:    3 20:37:00     -886.680923        0.409322\n",
      "LBFGS:    4 20:37:05     -886.723153        0.337883\n",
      "LBFGS:    5 20:37:10     -886.754439        0.288758\n",
      "LBFGS:    6 20:37:16     -886.771037        0.169612\n",
      "LBFGS:    7 20:37:21     -886.779163        0.123596\n",
      "LBFGS:    8 20:37:26     -886.785582        0.130787\n",
      "LBFGS:    9 20:37:32     -886.792474        0.133083\n",
      "LBFGS:   10 20:37:37     -886.797373        0.121649\n",
      "LBFGS:   11 20:37:43     -886.800844        0.115563\n",
      "LBFGS:   12 20:37:48     -886.804505        0.104894\n",
      "LBFGS:   13 20:37:53     -886.808711        0.095769\n",
      "LBFGS:   14 20:37:59     -886.812592        0.094325\n",
      "LBFGS:   15 20:38:04     -886.815120        0.062529\n",
      "LBFGS:   16 20:38:10     -886.816390        0.046622\n",
      "LBFGS:   17 20:38:15     -886.816991        0.028708\n",
      "LBFGS:   18 20:38:20     -886.817366        0.029726\n",
      "LBFGS:   19 20:38:26     -886.817756        0.025244\n",
      "LBFGS:   20 20:38:31     -886.818168        0.027869\n",
      "LBFGS:   21 20:38:38     -886.818510        0.024984\n",
      "LBFGS:   22 20:38:43     -886.818702        0.016401\n",
      "LBFGS:   23 20:38:48     -886.818850        0.014961\n",
      "LBFGS:   24 20:38:54     -886.819001        0.016071\n",
      "LBFGS:   25 20:38:59     -886.819134        0.013992\n",
      "LBFGS:   26 20:39:05     -886.819242        0.012088\n",
      "LBFGS:   27 20:39:10     -886.819327        0.012788\n",
      "LBFGS:   28 20:39:15     -886.819420        0.013709\n",
      "LBFGS:   29 20:39:21     -886.819521        0.014992\n",
      "LBFGS:   30 20:39:26     -886.819588        0.014162\n",
      "LBFGS:   31 20:39:32     -886.819647        0.009998\n"
     ]
    },
    {
     "name": "stderr",
     "output_type": "stream",
     "text": [
      "672513604.py:11: FutureWarning: Please use len(self) or, if your atoms are distributed, self.get_global_number_of_atoms.\n",
      "compatibility.py:629: UserWarning: Failed to guess oxidation states for Entry None (Al15Cr(SO4)24). Assigning anion correction to only the most electronegative atom.\n"
     ]
    },
    {
     "name": "stdout",
     "output_type": "stream",
     "text": [
      "       Step     Time          Energy          fmax\n",
      "LBFGS:    0 20:39:40     -767.767679       73.696077\n",
      "LBFGS:    1 20:39:45     -819.616075       22.226808\n",
      "LBFGS:    2 20:39:51     -851.669096       12.602552\n",
      "LBFGS:    3 20:39:56     -871.654065        6.502581\n",
      "LBFGS:    4 20:40:02     -878.467394        6.975069\n",
      "LBFGS:    5 20:40:07     -881.794887        3.960694\n",
      "LBFGS:    6 20:40:13     -883.467447        2.337471\n",
      "LBFGS:    7 20:40:18     -884.685334        1.929311\n",
      "LBFGS:    8 20:40:24     -885.210085        1.028148\n",
      "LBFGS:    9 20:40:29     -885.576530        0.932066\n",
      "LBFGS:   10 20:40:34     -885.856515        1.367939\n",
      "LBFGS:   11 20:40:40     -886.079255        0.978534\n",
      "LBFGS:   12 20:40:45     -886.259603        0.515042\n",
      "LBFGS:   13 20:40:51     -886.390723        0.728649\n",
      "LBFGS:   14 20:40:56     -886.489476        0.776474\n",
      "LBFGS:   15 20:41:01     -886.551770        0.486918\n",
      "LBFGS:   16 20:41:07     -886.589455        0.197914\n",
      "LBFGS:   17 20:41:12     -886.619172        0.313513\n",
      "LBFGS:   18 20:41:18     -886.647695        0.379477\n",
      "LBFGS:   19 20:41:23     -886.673406        0.320140\n",
      "LBFGS:   20 20:41:29     -886.696963        0.214030\n",
      "LBFGS:   21 20:41:34     -886.720279        0.231020\n",
      "LBFGS:   22 20:41:39     -886.741397        0.276301\n",
      "LBFGS:   23 20:41:45     -886.756917        0.253531\n",
      "LBFGS:   24 20:41:50     -886.767490        0.154477\n",
      "LBFGS:   25 20:41:56     -886.775581        0.117914\n",
      "LBFGS:   26 20:42:01     -886.782687        0.119416\n",
      "LBFGS:   27 20:42:06     -886.788795        0.151470\n",
      "LBFGS:   28 20:42:12     -886.793956        0.115212\n",
      "LBFGS:   29 20:42:17     -886.798510        0.090445\n",
      "LBFGS:   30 20:42:22     -886.802294        0.088662\n",
      "LBFGS:   31 20:42:28     -886.805147        0.066325\n",
      "LBFGS:   32 20:42:33     -886.807371        0.057418\n",
      "LBFGS:   33 20:42:38     -886.809304        0.061763\n",
      "LBFGS:   34 20:42:44     -886.811016        0.055619\n",
      "LBFGS:   35 20:42:49     -886.812547        0.059499\n",
      "LBFGS:   36 20:42:55     -886.813952        0.067675\n",
      "LBFGS:   37 20:43:00     -886.815219        0.043265\n",
      "LBFGS:   38 20:43:05     -886.816135        0.033304\n",
      "LBFGS:   39 20:43:11     -886.816747        0.041598\n",
      "LBFGS:   40 20:43:16     -886.817205        0.047963\n",
      "LBFGS:   41 20:43:22     -886.817630        0.028179\n",
      "LBFGS:   42 20:43:27     -886.818046        0.024019\n",
      "LBFGS:   43 20:43:33     -886.818417        0.039917\n",
      "LBFGS:   44 20:43:38     -886.818738        0.046714\n",
      "LBFGS:   45 20:43:44     -886.818987        0.027705\n",
      "LBFGS:   46 20:43:49     -886.819168        0.016763\n",
      "LBFGS:   47 20:43:55     -886.819324        0.024423\n",
      "LBFGS:   48 20:44:00     -886.819438        0.029218\n",
      "LBFGS:   49 20:44:06     -886.819524        0.018740\n",
      "LBFGS:   50 20:44:11     -886.819613        0.011505\n",
      "LBFGS:   51 20:44:16     -886.819683        0.017958\n",
      "LBFGS:   52 20:44:22     -886.819742        0.023186\n",
      "LBFGS:   53 20:44:27     -886.819797        0.016366\n",
      "LBFGS:   54 20:44:33     -886.819845        0.006551\n"
     ]
    },
    {
     "name": "stderr",
     "output_type": "stream",
     "text": [
      "672513604.py:11: FutureWarning: Please use len(self) or, if your atoms are distributed, self.get_global_number_of_atoms.\n",
      "compatibility.py:629: UserWarning: Failed to guess oxidation states for Entry None (Al15Cr(SO4)24). Assigning anion correction to only the most electronegative atom.\n",
      "Generating DefectEntry objects: 100.0%|████████████████████████████████████████████████████████████| [01:05,   1.53it/s]\n"
     ]
    },
    {
     "name": "stdout",
     "output_type": "stream",
     "text": [
      "Vacancies    Guessed Charges    Conv. Cell Coords    Wyckoff\n",
      "-----------  -----------------  -------------------  ---------\n",
      "v_Al         [+1,0,-1,-2,-3]    [0.625,0.625,0.625]  16d\n",
      "v_Fe         [+1,0,-1,-2]       [0.000,0.000,0.000]  8a\n",
      "v_O          [+2,+1,0,-1]       [0.391,0.391,0.391]  32e\n",
      "\n",
      "Substitutions    Guessed Charges     Conv. Cell Coords    Wyckoff\n",
      "---------------  ------------------  -------------------  ---------\n",
      "Al_Fe            [+1,0]              [0.000,0.000,0.000]  8a\n",
      "Al_O             [+5,+4,+3,+2,+1,0]  [0.391,0.391,0.391]  32e\n",
      "Fe_Al            [+1,0,-1,-2]        [0.625,0.625,0.625]  16d\n",
      "Fe_O             [+5,+4,+3,+2,+1,0]  [0.391,0.391,0.391]  32e\n",
      "O_Al             [0,-1,-2,-3,-4,-5]  [0.625,0.625,0.625]  16d\n",
      "O_Fe             [0,-1,-2,-3,-4]     [0.000,0.000,0.000]  8a\n",
      "Cr_Al            [+3,+2,+1,0,-1]     [0.625,0.625,0.625]  16d\n",
      "Cr_Fe            [+4,+3,+2,+1,0]     [0.000,0.000,0.000]  8a\n",
      "Cr_O             [+5,+4,+3,+2,+1,0]  [0.391,0.391,0.391]  32e\n",
      "\n",
      "The number in the Wyckoff label is the site multiplicity/degeneracy of that defect in the conventional ('conv.') unit cell, which comprises 8 formula unit(s) of FeAl2O4.\n",
      "\n",
      "Oxidation states were not explicitly set, thus have been guessed as {'Al': 3.0, 'Fe': 2.0, 'O': -2.0, 'Cr': 3.0}. If this is unreasonable you should manually set oxidation_states\n",
      "Applying ShakeNBreak... Will apply the following bond distortions: ['-0.6', '-0.5', '-0.4', '-0.3', '-0.2', '-0.1', '0.0', '0.1', '0.2', '0.3', '0.4', '0.5', '0.6', 'Dimer (for vacancies)']. Then, will rattle with a std dev of 0.19 Å \n",
      "\n"
     ]
    },
    {
     "name": "stderr",
     "output_type": "stream",
     "text": [
      "Generating distorted defect structures...0.0%|                                                         | [00:00,  ?it/s]"
     ]
    },
    {
     "name": "stdout",
     "output_type": "stream",
     "text": [
      "\u001b[1m\n",
      "Defect: Cr_Al\u001b[0m\n",
      "\u001b[1mNumber of missing electrons in neutral state: 0\u001b[0m\n",
      "\n",
      "Defect Cr_Al in charge state: 0. Number of distorted neighbours: 0\n"
     ]
    },
    {
     "name": "stderr",
     "output_type": "stream",
     "text": [
      "Generating distorted defect structures...100.0%|███████████████████████████████████████████████████| [00:00,   2.09it/s]\n"
     ]
    },
    {
     "name": "stdout",
     "output_type": "stream",
     "text": [
      "       Step     Time          Energy          fmax\n",
      "LBFGS:    0 20:45:42     -609.861035        0.009678\n"
     ]
    },
    {
     "name": "stderr",
     "output_type": "stream",
     "text": [
      "672513604.py:11: FutureWarning: Please use len(self) or, if your atoms are distributed, self.get_global_number_of_atoms.\n"
     ]
    },
    {
     "name": "stdout",
     "output_type": "stream",
     "text": [
      "       Step     Time          Energy          fmax\n",
      "LBFGS:    0 20:45:46     -610.711459        1.557942\n",
      "LBFGS:    1 20:45:51     -610.881763        1.029252\n",
      "LBFGS:    2 20:45:55     -611.046062        0.268820\n",
      "LBFGS:    3 20:45:59     -611.066455        0.216884\n",
      "LBFGS:    4 20:46:03     -611.086383        0.214822\n",
      "LBFGS:    5 20:46:07     -611.094890        0.179101\n",
      "LBFGS:    6 20:46:11     -611.102580        0.143291\n",
      "LBFGS:    7 20:46:15     -611.106876        0.162596\n",
      "LBFGS:    8 20:46:19     -611.112048        0.152679\n",
      "LBFGS:    9 20:46:24     -611.116664        0.118149\n",
      "LBFGS:   10 20:46:28     -611.120212        0.075391\n",
      "LBFGS:   11 20:46:32     -611.122340        0.059893\n",
      "LBFGS:   12 20:46:36     -611.123599        0.050228\n",
      "LBFGS:   13 20:46:40     -611.124408        0.056752\n",
      "LBFGS:   14 20:46:44     -611.125125        0.039202\n",
      "LBFGS:   15 20:46:49     -611.125469        0.024016\n",
      "LBFGS:   16 20:46:53     -611.125720        0.017862\n",
      "LBFGS:   17 20:46:57     -611.125881        0.030027\n",
      "LBFGS:   18 20:47:01     -611.126102        0.028647\n",
      "LBFGS:   19 20:47:06     -611.126231        0.014865\n",
      "LBFGS:   20 20:47:10     -611.126293        0.010971\n",
      "LBFGS:   21 20:47:14     -611.126361        0.011887\n",
      "LBFGS:   22 20:47:18     -611.126422        0.016345\n",
      "LBFGS:   23 20:47:22     -611.126514        0.013360\n",
      "LBFGS:   24 20:47:26     -611.126552        0.007739\n"
     ]
    },
    {
     "name": "stderr",
     "output_type": "stream",
     "text": [
      "compatibility.py:629: UserWarning: Failed to guess oxidation states for Entry None (Al23Cr(FeO4)12). Assigning anion correction to only the most electronegative atom.\n"
     ]
    },
    {
     "name": "stdout",
     "output_type": "stream",
     "text": [
      "       Step     Time          Energy          fmax\n",
      "LBFGS:    0 20:47:33     -551.817855       18.911762\n",
      "LBFGS:    1 20:47:37     -578.582027        7.419562\n",
      "LBFGS:    2 20:47:41     -596.156520        3.597809\n",
      "LBFGS:    3 20:47:45     -603.681888        2.789900\n",
      "LBFGS:    4 20:47:49     -605.933452        2.014181\n",
      "LBFGS:    5 20:47:54     -608.492626        1.489465\n",
      "LBFGS:    6 20:47:58     -609.308887        1.200830\n",
      "LBFGS:    7 20:48:02     -610.124172        1.149264\n",
      "LBFGS:    8 20:48:06     -610.495456        0.812534\n",
      "LBFGS:    9 20:48:10     -610.757221        0.657829\n",
      "LBFGS:   10 20:48:14     -610.892627        0.519876\n",
      "LBFGS:   11 20:48:18     -610.985614        0.369176\n",
      "LBFGS:   12 20:48:22     -611.030147        0.244385\n",
      "LBFGS:   13 20:48:26     -611.055187        0.176635\n",
      "LBFGS:   14 20:48:31     -611.072467        0.154423\n",
      "LBFGS:   15 20:48:35     -611.084537        0.143732\n",
      "LBFGS:   16 20:48:39     -611.092708        0.119830\n",
      "LBFGS:   17 20:48:43     -611.098934        0.095031\n",
      "LBFGS:   18 20:48:48     -611.104015        0.081907\n",
      "LBFGS:   19 20:48:52     -611.108119        0.080903\n",
      "LBFGS:   20 20:48:56     -611.111614        0.072538\n",
      "LBFGS:   21 20:49:00     -611.114719        0.075208\n",
      "LBFGS:   22 20:49:04     -611.117221        0.056150\n",
      "LBFGS:   23 20:49:08     -611.118991        0.055021\n",
      "LBFGS:   24 20:49:13     -611.120281        0.043787\n",
      "LBFGS:   25 20:49:17     -611.121280        0.039850\n",
      "LBFGS:   26 20:49:21     -611.122127        0.037905\n",
      "LBFGS:   27 20:49:25     -611.122768        0.034163\n",
      "LBFGS:   28 20:49:29     -611.123363        0.031377\n",
      "LBFGS:   29 20:49:33     -611.123866        0.029592\n",
      "LBFGS:   30 20:49:38     -611.124294        0.023265\n",
      "LBFGS:   31 20:49:42     -611.124675        0.024519\n",
      "LBFGS:   32 20:49:46     -611.125003        0.024186\n",
      "LBFGS:   33 20:49:50     -611.125263        0.020670\n",
      "LBFGS:   34 20:49:55     -611.125446        0.018126\n",
      "LBFGS:   35 20:49:59     -611.125652        0.018417\n",
      "LBFGS:   36 20:50:03     -611.125781        0.018122\n",
      "LBFGS:   37 20:50:07     -611.125934        0.014248\n",
      "LBFGS:   38 20:50:11     -611.126048        0.012822\n",
      "LBFGS:   39 20:50:15     -611.126132        0.011533\n",
      "LBFGS:   40 20:50:20     -611.126209        0.012536\n",
      "LBFGS:   41 20:50:24     -611.126293        0.011680\n",
      "LBFGS:   42 20:50:28     -611.126361        0.011144\n",
      "LBFGS:   43 20:50:32     -611.126422        0.010700\n",
      "LBFGS:   44 20:50:36     -611.126460        0.009776\n"
     ]
    },
    {
     "name": "stderr",
     "output_type": "stream",
     "text": [
      "Generating DefectEntry objects: 100.0%|████████████████████████████████████████████████████████████| [00:50,   1.99it/s]\n"
     ]
    },
    {
     "name": "stdout",
     "output_type": "stream",
     "text": [
      "Vacancies    Guessed Charges    Conv. Cell Coords    Wyckoff\n",
      "-----------  -----------------  -------------------  ---------\n",
      "v_Mg         [+1,0,-1,-2]       [0.000,0.000,0.000]  8a\n",
      "v_Al         [+1,0,-1,-2,-3]    [0.625,0.625,0.625]  16d\n",
      "v_O          [+2,+1,0,-1]       [0.389,0.389,0.389]  32e\n",
      "\n",
      "Substitutions    Guessed Charges     Conv. Cell Coords    Wyckoff\n",
      "---------------  ------------------  -------------------  ---------\n",
      "Mg_Al            [0,-1]              [0.625,0.625,0.625]  16d\n",
      "Mg_O             [+4,+3,+2,+1,0]     [0.389,0.389,0.389]  32e\n",
      "Al_Mg            [+1,0]              [0.000,0.000,0.000]  8a\n",
      "Al_O             [+5,+4,+3,+2,+1,0]  [0.389,0.389,0.389]  32e\n",
      "O_Mg             [0,-1,-2,-3,-4]     [0.000,0.000,0.000]  8a\n",
      "O_Al             [0,-1,-2,-3,-4,-5]  [0.625,0.625,0.625]  16d\n",
      "Cr_Mg            [+4,+3,+2,+1,0]     [0.000,0.000,0.000]  8a\n",
      "Cr_Al            [+3,+2,+1,0,-1]     [0.625,0.625,0.625]  16d\n",
      "Cr_O             [+5,+4,+3,+2,+1,0]  [0.389,0.389,0.389]  32e\n",
      "\n",
      "The number in the Wyckoff label is the site multiplicity/degeneracy of that defect in the conventional ('conv.') unit cell, which comprises 8 formula unit(s) of MgAl2O4.\n",
      "\n",
      "Oxidation states were not explicitly set, thus have been guessed as {'Mg': 2.0, 'Al': 3.0, 'O': -2.0, 'Cr': 3.0}. If this is unreasonable you should manually set oxidation_states\n",
      "Applying ShakeNBreak... Will apply the following bond distortions: ['-0.6', '-0.5', '-0.4', '-0.3', '-0.2', '-0.1', '0.0', '0.1', '0.2', '0.3', '0.4', '0.5', '0.6', 'Dimer (for vacancies)']. Then, will rattle with a std dev of 0.19 Å \n",
      "\n"
     ]
    },
    {
     "name": "stderr",
     "output_type": "stream",
     "text": [
      "Generating distorted defect structures...0.0%|                                                         | [00:00,  ?it/s]"
     ]
    },
    {
     "name": "stdout",
     "output_type": "stream",
     "text": [
      "\u001b[1m\n",
      "Defect: Cr_Al\u001b[0m\n",
      "\u001b[1mNumber of missing electrons in neutral state: 0\u001b[0m\n",
      "\n",
      "Defect Cr_Al in charge state: 0. Number of distorted neighbours: 0\n"
     ]
    },
    {
     "name": "stderr",
     "output_type": "stream",
     "text": [
      "Generating distorted defect structures...100.0%|███████████████████████████████████████████████████| [00:00,   1.81it/s]\n"
     ]
    },
    {
     "name": "stdout",
     "output_type": "stream",
     "text": [
      "       Step     Time          Energy          fmax\n",
      "LBFGS:    0 20:51:30     -595.939994        0.002859\n"
     ]
    },
    {
     "name": "stderr",
     "output_type": "stream",
     "text": [
      "672513604.py:11: FutureWarning: Please use len(self) or, if your atoms are distributed, self.get_global_number_of_atoms.\n"
     ]
    },
    {
     "name": "stdout",
     "output_type": "stream",
     "text": [
      "       Step     Time          Energy          fmax\n",
      "LBFGS:    0 20:51:34     -596.720075        1.562962\n",
      "LBFGS:    1 20:51:38     -596.889493        0.986567\n",
      "LBFGS:    2 20:51:43     -597.031552        0.243019\n",
      "LBFGS:    3 20:51:47     -597.048810        0.189484\n",
      "LBFGS:    4 20:51:51     -597.063428        0.176802\n",
      "LBFGS:    5 20:51:55     -597.069837        0.153300\n",
      "LBFGS:    6 20:51:59     -597.074033        0.099664\n",
      "LBFGS:    7 20:52:03     -597.076200        0.097297\n",
      "LBFGS:    8 20:52:08     -597.077878        0.073202\n",
      "LBFGS:    9 20:52:12     -597.079129        0.039533\n",
      "LBFGS:   10 20:52:16     -597.079984        0.028682\n",
      "LBFGS:   11 20:52:20     -597.080472        0.024564\n",
      "LBFGS:   12 20:52:24     -597.080701        0.024278\n",
      "LBFGS:   13 20:52:28     -597.080884        0.016580\n",
      "LBFGS:   14 20:52:33     -597.080884        0.008175\n"
     ]
    },
    {
     "name": "stderr",
     "output_type": "stream",
     "text": [
      "compatibility.py:629: UserWarning: Failed to guess oxidation states for Entry None (Mg12Al23CrO48). Assigning anion correction to only the most electronegative atom.\n"
     ]
    },
    {
     "name": "stdout",
     "output_type": "stream",
     "text": [
      "       Step     Time          Energy          fmax\n",
      "LBFGS:    0 20:52:39     -538.977872       15.300269\n",
      "LBFGS:    1 20:52:43     -570.670713        6.519695\n",
      "LBFGS:    2 20:52:47     -585.459729        2.737885\n",
      "LBFGS:    3 20:52:52     -590.492032        2.618061\n",
      "LBFGS:    4 20:52:56     -592.839994        2.398267\n",
      "LBFGS:    5 20:53:00     -594.891416        1.253878\n",
      "LBFGS:    6 20:53:05     -595.771665        1.051601\n",
      "LBFGS:    7 20:53:09     -596.363126        0.937971\n",
      "LBFGS:    8 20:53:13     -596.668836        0.649937\n",
      "LBFGS:    9 20:53:17     -596.840497        0.449974\n",
      "LBFGS:   10 20:53:21     -596.922544        0.322797\n",
      "LBFGS:   11 20:53:26     -596.976575        0.255939\n",
      "LBFGS:   12 20:53:30     -597.008939        0.200986\n",
      "LBFGS:   13 20:53:34     -597.028775        0.154497\n",
      "LBFGS:   14 20:53:38     -597.041669        0.149049\n",
      "LBFGS:   15 20:53:42     -597.051297        0.106622\n",
      "LBFGS:   16 20:53:47     -597.058530        0.104528\n",
      "LBFGS:   17 20:53:51     -597.064267        0.091110\n",
      "LBFGS:   18 20:53:55     -597.068891        0.097564\n",
      "LBFGS:   19 20:54:00     -597.072278        0.086903\n",
      "LBFGS:   20 20:54:04     -597.074674        0.064272\n",
      "LBFGS:   21 20:54:08     -597.076383        0.048287\n",
      "LBFGS:   22 20:54:12     -597.077619        0.042947\n",
      "LBFGS:   23 20:54:16     -597.078504        0.039684\n",
      "LBFGS:   24 20:54:21     -597.079190        0.036083\n",
      "LBFGS:   25 20:54:25     -597.079740        0.031968\n",
      "LBFGS:   26 20:54:29     -597.080167        0.022449\n",
      "LBFGS:   27 20:54:33     -597.080487        0.020029\n",
      "LBFGS:   28 20:54:37     -597.080670        0.017984\n",
      "LBFGS:   29 20:54:42     -597.080747        0.011527\n",
      "LBFGS:   30 20:54:47     -597.080777        0.011153\n",
      "LBFGS:   31 20:54:51     -597.080854        0.007847\n"
     ]
    },
    {
     "name": "stderr",
     "output_type": "stream",
     "text": [
      "Generating DefectEntry objects: 100.0%|████████████████████████████████████████████████████████████| [01:07,   1.48it/s]\n"
     ]
    },
    {
     "name": "stdout",
     "output_type": "stream",
     "text": [
      "Vacancies    Guessed Charges    Conv. Cell Coords    Wyckoff\n",
      "-----------  -----------------  -------------------  ---------\n",
      "v_Mn         [+1,0,-1,-2]       [0.000,0.000,0.000]  8a\n",
      "v_Al         [+1,0,-1,-2,-3]    [0.625,0.625,0.625]  16d\n",
      "v_O          [+2,+1,0,-1]       [0.392,0.392,0.392]  32e\n",
      "\n",
      "Substitutions    Guessed Charges     Conv. Cell Coords    Wyckoff\n",
      "---------------  ------------------  -------------------  ---------\n",
      "Mn_Al            [+1,0,-1]           [0.625,0.625,0.625]  16d\n",
      "Mn_O             [+5,+4,+3,+2,+1,0]  [0.392,0.392,0.392]  32e\n",
      "Al_Mn            [+1,0]              [0.000,0.000,0.000]  8a\n",
      "Al_O             [+5,+4,+3,+2,+1,0]  [0.392,0.392,0.392]  32e\n",
      "O_Mn             [0,-1,-2,-3,-4]     [0.000,0.000,0.000]  8a\n",
      "O_Al             [0,-1,-2,-3,-4,-5]  [0.625,0.625,0.625]  16d\n",
      "Cr_Mn            [+4,+3,+2,+1,0]     [0.000,0.000,0.000]  8a\n",
      "Cr_Al            [+3,+2,+1,0,-1]     [0.625,0.625,0.625]  16d\n",
      "Cr_O             [+5,+4,+3,+2,+1,0]  [0.392,0.392,0.392]  32e\n",
      "\n",
      "The number in the Wyckoff label is the site multiplicity/degeneracy of that defect in the conventional ('conv.') unit cell, which comprises 8 formula unit(s) of MnAl2O4.\n",
      "\n",
      "Oxidation states were not explicitly set, thus have been guessed as {'Mn': 2.0, 'Al': 3.0, 'O': -2.0, 'Cr': 3.0}. If this is unreasonable you should manually set oxidation_states\n",
      "Applying ShakeNBreak... Will apply the following bond distortions: ['-0.6', '-0.5', '-0.4', '-0.3', '-0.2', '-0.1', '0.0', '0.1', '0.2', '0.3', '0.4', '0.5', '0.6', 'Dimer (for vacancies)']. Then, will rattle with a std dev of 0.19 Å \n",
      "\n"
     ]
    },
    {
     "name": "stderr",
     "output_type": "stream",
     "text": [
      "Generating distorted defect structures...0.0%|                                                         | [00:00,  ?it/s]"
     ]
    },
    {
     "name": "stdout",
     "output_type": "stream",
     "text": [
      "\u001b[1m\n",
      "Defect: Cr_Al\u001b[0m\n",
      "\u001b[1mNumber of missing electrons in neutral state: 0\u001b[0m\n",
      "\n",
      "Defect Cr_Al in charge state: 0. Number of distorted neighbours: 0\n"
     ]
    },
    {
     "name": "stderr",
     "output_type": "stream",
     "text": [
      "Generating distorted defect structures...100.0%|███████████████████████████████████████████████████| [00:00,   1.26it/s]\n"
     ]
    },
    {
     "name": "stdout",
     "output_type": "stream",
     "text": [
      "       Step     Time          Energy          fmax\n",
      "LBFGS:    0 20:56:02     -637.992567        0.002538\n"
     ]
    },
    {
     "name": "stderr",
     "output_type": "stream",
     "text": [
      "672513604.py:11: FutureWarning: Please use len(self) or, if your atoms are distributed, self.get_global_number_of_atoms.\n",
      "compatibility.py:598: UserWarning: Invalid U value of 3.98 on Mn, expected 3.9 for {'@module': 'pymatgen.entries.computed_entries', '@class': 'ComputedEntry', 'energy': -7.595149601915573, 'composition': {'Mn2+': 12.0, 'Al3+': 24.0, 'O2-': 48.0}, 'entry_id': None, 'correction': 0.0, 'energy_adjustments': [], 'parameters': {'run_type': 'GGA+U', 'hubbards': {'Mn': 3.98, 'Al': 0.0, 'O': 0.0}, 'is_hubbard': True}, 'data': {'material_id': 'mp-755882', 'oxidation_states': {'Mn': 2.0, 'Al': 3.0, 'O': -2.0}}}\n"
     ]
    },
    {
     "name": "stdout",
     "output_type": "stream",
     "text": [
      "       Step     Time          Energy          fmax\n",
      "LBFGS:    0 20:56:07     -638.893886        1.511551\n",
      "LBFGS:    1 20:56:11     -639.055164        0.993403\n",
      "LBFGS:    2 20:56:15     -639.209141        0.257951\n",
      "LBFGS:    3 20:56:19     -639.228596        0.212621\n",
      "LBFGS:    4 20:56:23     -639.245037        0.192320\n",
      "LBFGS:    5 20:56:27     -639.253025        0.162467\n",
      "LBFGS:    6 20:56:31     -639.258869        0.131842\n",
      "LBFGS:    7 20:56:35     -639.262493        0.138902\n",
      "LBFGS:    8 20:56:39     -639.265606        0.114249\n",
      "LBFGS:    9 20:56:43     -639.267887        0.066585\n",
      "LBFGS:   10 20:56:47     -639.269382        0.035135\n",
      "LBFGS:   11 20:56:51     -639.270244        0.028551\n",
      "LBFGS:   12 20:56:56     -639.270832        0.033965\n",
      "LBFGS:   13 20:57:00     -639.271190        0.033371\n",
      "LBFGS:   14 20:57:04     -639.271404        0.017042\n",
      "LBFGS:   15 20:57:08     -639.271534        0.012352\n",
      "LBFGS:   16 20:57:12     -639.271625        0.014941\n",
      "LBFGS:   17 20:57:16     -639.271702        0.016528\n",
      "LBFGS:   18 20:57:20     -639.271732        0.010011\n",
      "LBFGS:   19 20:57:24     -639.271732        0.003937\n"
     ]
    },
    {
     "name": "stderr",
     "output_type": "stream",
     "text": [
      "compatibility.py:629: UserWarning: Failed to guess oxidation states for Entry None (Mn12Al23CrO48). Assigning anion correction to only the most electronegative atom.\n",
      "compatibility.py:598: UserWarning: Invalid U value of 3.98 on Mn, expected 3.9 for {'@module': 'pymatgen.entries.computed_entries', '@class': 'ComputedEntry', 'energy': -7.6103777633292475, 'composition': {'Mn2+': 12.0, 'Al3+': 23.0, 'Cr3+': 1.0, 'O2-': 48.0}, 'entry_id': None, 'correction': 0.0, 'energy_adjustments': [], 'parameters': {'run_type': 'GGA+U', 'hubbards': {'Mn': 3.98, 'Al': 0.0, 'Cr': 3.7, 'O': 0.0}, 'is_hubbard': True}, 'data': {'material_id': 'mp-755882', 'oxidation_states': {}}}\n"
     ]
    },
    {
     "name": "stdout",
     "output_type": "stream",
     "text": [
      "       Step     Time          Energy          fmax\n",
      "LBFGS:    0 20:57:31     -577.422172       17.509566\n",
      "LBFGS:    1 20:57:35     -605.808376        6.822142\n",
      "LBFGS:    2 20:57:39     -625.884228        3.812242\n",
      "LBFGS:    3 20:57:43     -632.166546        3.504952\n",
      "LBFGS:    4 20:57:47     -634.703464        2.561339\n",
      "LBFGS:    5 20:57:51     -636.686779        1.920079\n",
      "LBFGS:    6 20:57:55     -637.772312        1.119458\n",
      "LBFGS:    7 20:57:59     -638.374256        0.872112\n",
      "LBFGS:    8 20:58:03     -638.726085        0.650969\n",
      "LBFGS:    9 20:58:07     -638.964199        0.458041\n",
      "LBFGS:   10 20:58:11     -639.077183        0.360095\n",
      "LBFGS:   11 20:58:15     -639.142490        0.356509\n",
      "LBFGS:   12 20:58:19     -639.185573        0.258396\n",
      "LBFGS:   13 20:58:23     -639.213650        0.166877\n",
      "LBFGS:   14 20:58:28     -639.231983        0.147361\n",
      "LBFGS:   15 20:58:32     -639.243320        0.131370\n",
      "LBFGS:   16 20:58:36     -639.250507        0.097001\n",
      "LBFGS:   17 20:58:40     -639.255779        0.088444\n",
      "LBFGS:   18 20:58:44     -639.259960        0.074972\n",
      "LBFGS:   19 20:58:48     -639.263080        0.076582\n",
      "LBFGS:   20 20:58:52     -639.265270        0.060174\n",
      "LBFGS:   21 20:58:56     -639.266880        0.055518\n",
      "LBFGS:   22 20:59:01     -639.268070        0.043552\n",
      "LBFGS:   23 20:59:05     -639.268970        0.034900\n",
      "LBFGS:   24 20:59:09     -639.269634        0.030637\n",
      "LBFGS:   25 20:59:13     -639.270153        0.032749\n",
      "LBFGS:   26 20:59:17     -639.270580        0.031932\n",
      "LBFGS:   27 20:59:21     -639.270908        0.022387\n",
      "LBFGS:   28 20:59:25     -639.271145        0.019715\n",
      "LBFGS:   29 20:59:29     -639.271343        0.015404\n",
      "LBFGS:   30 20:59:33     -639.271480        0.015302\n",
      "LBFGS:   31 20:59:38     -639.271564        0.013926\n",
      "LBFGS:   32 20:59:42     -639.271641        0.010440\n",
      "LBFGS:   33 20:59:46     -639.271679        0.007856\n"
     ]
    },
    {
     "name": "stderr",
     "output_type": "stream",
     "text": [
      "compatibility.py:598: UserWarning: Invalid U value of 3.98 on Mn, expected 3.9 for {'@module': 'pymatgen.entries.computed_entries', '@class': 'ComputedEntry', 'energy': -7.610377218372496, 'composition': {'Mn2+': 12.0, 'Al3+': 23.0, 'Cr3+': 1.0, 'O2-': 48.0}, 'entry_id': None, 'correction': 0.0, 'energy_adjustments': [], 'parameters': {'run_type': 'GGA+U', 'hubbards': {'Mn': 3.98, 'Al': 0.0, 'Cr': 3.7, 'O': 0.0}, 'is_hubbard': True}, 'data': {'material_id': 'mp-755882', 'oxidation_states': {}}}\n",
      "Generating DefectEntry objects: 100.0%|████████████████████████████████████████████████████████████| [01:25,   1.17it/s]\n"
     ]
    },
    {
     "name": "stdout",
     "output_type": "stream",
     "text": [
      "Vacancies            Guessed Charges           Conv. Cell Coords    Wyckoff\n",
      "-------------------  ------------------------  -------------------  ---------\n",
      "v_Al                 [+1,0,-1,-2,-3]           [0.382,0.250,0.033]  8d\n",
      "v_Mo_C1              [+1,0,-1,-2,-3,-4,-5,-6]  [0.355,0.107,0.386]  8d\n",
      "v_Mo_C2              [+1,0,-1,-2,-3,-4,-5,-6]  [0.000,0.027,0.250]  4c\n",
      "v_O_C1_Mo1.76Al1.89  [+2,+1,0,-1]              [0.070,0.139,0.373]  8d\n",
      "v_O_C1_Mo1.76Al1.93  [+2,+1,0,-1]              [0.523,0.184,0.064]  8d\n",
      "v_O_C1_Mo1.77Al1.89  [+2,+1,0,-1]              [0.255,0.185,0.494]  8d\n",
      "v_O_C1_Mo1.77Al1.90  [+2,+1,0,-1]              [0.140,0.416,0.412]  8d\n",
      "v_O_C1_Mo1.77Al1.91  [+2,+1,0,-1]              [0.335,0.143,0.199]  8d\n",
      "v_O_C1_Mo1.77Al1.92  [+2,+1,0,-1]              [0.410,0.415,0.156]  8d\n",
      "\n",
      "Substitutions         Guessed Charges              Conv. Cell Coords    Wyckoff\n",
      "--------------------  ---------------------------  -------------------  ---------\n",
      "Al_Mo_C1              [0,-1,-2,-3]                 [0.355,0.107,0.386]  8d\n",
      "Al_Mo_C2              [0,-1,-2,-3]                 [0.000,0.027,0.250]  4c\n",
      "Al_O_C1_Mo1.76Al1.89  [+5,+4,+3,+2,+1,0]           [0.070,0.139,0.373]  8d\n",
      "Al_O_C1_Mo1.76Al1.93  [+5,+4,+3,+2,+1,0]           [0.523,0.184,0.064]  8d\n",
      "Al_O_C1_Mo1.77Al1.89  [+5,+4,+3,+2,+1,0]           [0.255,0.185,0.494]  8d\n",
      "Al_O_C1_Mo1.77Al1.90  [+5,+4,+3,+2,+1,0]           [0.140,0.416,0.412]  8d\n",
      "Al_O_C1_Mo1.77Al1.91  [+5,+4,+3,+2,+1,0]           [0.335,0.143,0.199]  8d\n",
      "Al_O_C1_Mo1.77Al1.92  [+5,+4,+3,+2,+1,0]           [0.410,0.415,0.156]  8d\n",
      "Mo_Al                 [+3,+2,+1,0,-1]              [0.382,0.250,0.033]  8d\n",
      "Mo_O_C1_Mo1.76Al1.89  [+8,+7,+6,+5,+4,+3,+2,+1,0]  [0.070,0.139,0.373]  8d\n",
      "Mo_O_C1_Mo1.76Al1.93  [+8,+7,+6,+5,+4,+3,+2,+1,0]  [0.523,0.184,0.064]  8d\n",
      "Mo_O_C1_Mo1.77Al1.89  [+8,+7,+6,+5,+4,+3,+2,+1,0]  [0.255,0.185,0.494]  8d\n",
      "Mo_O_C1_Mo1.77Al1.90  [+8,+7,+6,+5,+4,+3,+2,+1,0]  [0.140,0.416,0.412]  8d\n",
      "Mo_O_C1_Mo1.77Al1.91  [+8,+7,+6,+5,+4,+3,+2,+1,0]  [0.335,0.143,0.199]  8d\n",
      "Mo_O_C1_Mo1.77Al1.92  [+8,+7,+6,+5,+4,+3,+2,+1,0]  [0.410,0.415,0.156]  8d\n",
      "O_Al                  [0,-1,-2,-3,-4,-5]           [0.382,0.250,0.033]  8d\n",
      "O_Mo_C1               [0,-1,-2,-3,-4,-5,-6,-7,-8]  [0.355,0.107,0.386]  8d\n",
      "O_Mo_C2               [0,-1,-2,-3,-4,-5,-6,-7,-8]  [0.000,0.027,0.250]  4c\n",
      "Cr_Al                 [+3,+2,+1,0,-1]              [0.382,0.250,0.033]  8d\n",
      "Cr_Mo_C1              [0,-1,-2,-3,-4]              [0.355,0.107,0.386]  8d\n",
      "Cr_Mo_C2              [0,-1,-2,-3,-4]              [0.000,0.027,0.250]  4c\n",
      "Cr_O_C1_Mo1.76Al1.89  [+8,+7,+6,+5,+4,+3,+2,+1,0]  [0.070,0.139,0.373]  8d\n",
      "Cr_O_C1_Mo1.76Al1.93  [+8,+7,+6,+5,+4,+3,+2,+1,0]  [0.523,0.184,0.064]  8d\n",
      "Cr_O_C1_Mo1.77Al1.89  [+8,+7,+6,+5,+4,+3,+2,+1,0]  [0.255,0.185,0.494]  8d\n",
      "Cr_O_C1_Mo1.77Al1.90  [+8,+7,+6,+5,+4,+3,+2,+1,0]  [0.140,0.416,0.412]  8d\n",
      "Cr_O_C1_Mo1.77Al1.91  [+8,+7,+6,+5,+4,+3,+2,+1,0]  [0.335,0.143,0.199]  8d\n",
      "Cr_O_C1_Mo1.77Al1.92  [+8,+7,+6,+5,+4,+3,+2,+1,0]  [0.410,0.415,0.156]  8d\n",
      "\n",
      "The number in the Wyckoff label is the site multiplicity/degeneracy of that defect in the conventional ('conv.') unit cell, which comprises 4 formula unit(s) of Al2(MoO4)3.\n",
      "\n",
      "Oxidation states were not explicitly set, thus have been guessed as {'Al': 3.0, 'Mo': 6.0, 'O': -2.0, 'Cr': 3.0}. If this is unreasonable you should manually set oxidation_states\n",
      "Applying ShakeNBreak... Will apply the following bond distortions: ['-0.6', '-0.5', '-0.4', '-0.3', '-0.2', '-0.1', '0.0', '0.1', '0.2', '0.3', '0.4', '0.5', '0.6', 'Dimer (for vacancies)']. Then, will rattle with a std dev of 0.18 Å \n",
      "\n"
     ]
    },
    {
     "name": "stderr",
     "output_type": "stream",
     "text": [
      "Generating distorted defect structures...0.0%|                                                         | [00:00,  ?it/s]"
     ]
    },
    {
     "name": "stdout",
     "output_type": "stream",
     "text": [
      "\u001b[1m\n",
      "Defect: Cr_Al\u001b[0m\n",
      "\u001b[1mNumber of missing electrons in neutral state: 0\u001b[0m\n",
      "\n",
      "Defect Cr_Al in charge state: 0. Number of distorted neighbours: 0\n"
     ]
    },
    {
     "name": "stderr",
     "output_type": "stream",
     "text": [
      "Generating distorted defect structures...100.0%|███████████████████████████████████████████████████| [00:00,   3.36it/s]\n"
     ]
    },
    {
     "name": "stdout",
     "output_type": "stream",
     "text": [
      "       Step     Time          Energy          fmax\n",
      "LBFGS:    0 21:01:15     -989.908111        0.009313\n"
     ]
    },
    {
     "name": "stderr",
     "output_type": "stream",
     "text": [
      "672513604.py:11: FutureWarning: Please use len(self) or, if your atoms are distributed, self.get_global_number_of_atoms.\n"
     ]
    },
    {
     "name": "stdout",
     "output_type": "stream",
     "text": [
      "       Step     Time          Energy          fmax\n",
      "LBFGS:    0 21:01:19     -990.635158        1.618592\n",
      "LBFGS:    1 21:01:23     -990.760053        0.825678\n",
      "LBFGS:    2 21:01:28     -990.856630        0.529245\n",
      "LBFGS:    3 21:01:32     -990.913494        0.229167\n",
      "LBFGS:    4 21:01:36     -990.928667        0.166452\n",
      "LBFGS:    5 21:01:40     -990.936535        0.135382\n",
      "LBFGS:    6 21:01:45     -990.944957        0.131709\n",
      "LBFGS:    7 21:01:49     -990.951532        0.129872\n",
      "LBFGS:    8 21:01:53     -990.955675        0.095637\n",
      "LBFGS:    9 21:01:57     -990.958137        0.058448\n",
      "LBFGS:   10 21:02:02     -990.960115        0.062981\n",
      "LBFGS:   11 21:02:06     -990.961795        0.064354\n",
      "LBFGS:   12 21:02:10     -990.963102        0.084991\n",
      "LBFGS:   13 21:02:15     -990.964334        0.070601\n",
      "LBFGS:   14 21:02:19     -990.965793        0.054849\n",
      "LBFGS:   15 21:02:23     -990.967241        0.055124\n",
      "LBFGS:   16 21:02:27     -990.968342        0.064594\n",
      "LBFGS:   17 21:02:32     -990.969171        0.060790\n",
      "LBFGS:   18 21:02:36     -990.970001        0.038489\n",
      "LBFGS:   19 21:02:40     -990.970926        0.044643\n",
      "LBFGS:   20 21:02:45     -990.971725        0.055318\n",
      "LBFGS:   21 21:02:49     -990.972309        0.060428\n",
      "LBFGS:   22 21:02:53     -990.972761        0.038222\n",
      "LBFGS:   23 21:02:58     -990.973205        0.025734\n",
      "LBFGS:   24 21:03:02     -990.973587        0.036009\n",
      "LBFGS:   25 21:03:06     -990.973898        0.049070\n",
      "LBFGS:   26 21:03:10     -990.974140        0.039693\n",
      "LBFGS:   27 21:03:15     -990.974435        0.023176\n",
      "LBFGS:   28 21:03:20     -990.974678        0.018913\n",
      "LBFGS:   29 21:03:24     -990.974872        0.033283\n",
      "LBFGS:   30 21:03:28     -990.975015        0.030600\n",
      "LBFGS:   31 21:03:33     -990.975139        0.017795\n",
      "LBFGS:   32 21:03:37     -990.975284        0.017322\n",
      "LBFGS:   33 21:03:41     -990.975418        0.027636\n",
      "LBFGS:   34 21:03:46     -990.975549        0.032503\n",
      "LBFGS:   35 21:03:50     -990.975671        0.024263\n",
      "LBFGS:   36 21:03:54     -990.975771        0.017027\n",
      "LBFGS:   37 21:03:58     -990.975874        0.012008\n",
      "LBFGS:   38 21:04:03     -990.975948        0.018708\n",
      "LBFGS:   39 21:04:07     -990.976022        0.017827\n",
      "LBFGS:   40 21:04:11     -990.976099        0.013883\n",
      "LBFGS:   41 21:04:16     -990.976183        0.010657\n",
      "LBFGS:   42 21:04:20     -990.976251        0.010957\n",
      "LBFGS:   43 21:04:24     -990.976295        0.012937\n",
      "LBFGS:   44 21:04:28     -990.976354        0.012667\n",
      "LBFGS:   45 21:04:33     -990.976419        0.012210\n",
      "LBFGS:   46 21:04:37     -990.976474        0.009656\n"
     ]
    },
    {
     "name": "stderr",
     "output_type": "stream",
     "text": [
      "compatibility.py:629: UserWarning: Failed to guess oxidation states for Entry None (Al15Cr(MoO4)24). Assigning anion correction to only the most electronegative atom.\n"
     ]
    },
    {
     "name": "stdout",
     "output_type": "stream",
     "text": [
      "       Step     Time          Energy          fmax\n",
      "LBFGS:    0 21:04:44     -877.293945       28.716194\n",
      "LBFGS:    1 21:04:48     -936.307811       13.037436\n",
      "LBFGS:    2 21:04:52     -967.817657        6.722998\n",
      "LBFGS:    3 21:04:57     -976.653015        8.431101\n",
      "LBFGS:    4 21:05:01     -981.785517        2.048433\n",
      "LBFGS:    5 21:05:05     -984.722839        4.139227\n",
      "LBFGS:    6 21:05:10     -987.228756        2.654696\n",
      "LBFGS:    7 21:05:14     -988.447134        1.581661\n",
      "LBFGS:    8 21:05:19     -989.078787        0.856268\n",
      "LBFGS:    9 21:05:23     -989.482221        0.974247\n",
      "LBFGS:   10 21:05:27     -989.823305        0.944382\n",
      "LBFGS:   11 21:05:32     -990.092338        0.768918\n",
      "LBFGS:   12 21:05:36     -990.255951        0.706533\n",
      "LBFGS:   13 21:05:40     -990.415588        0.875114\n",
      "LBFGS:   14 21:05:45     -990.557588        0.699459\n",
      "LBFGS:   15 21:05:49     -990.653965        0.451678\n",
      "LBFGS:   16 21:05:53     -990.714082        0.432239\n",
      "LBFGS:   17 21:05:58     -990.762169        0.356792\n",
      "LBFGS:   18 21:06:02     -990.807010        0.373226\n",
      "LBFGS:   19 21:06:06     -990.841692        0.283822\n",
      "LBFGS:   20 21:06:10     -990.865219        0.284216\n",
      "LBFGS:   21 21:06:15     -990.884674        0.212114\n",
      "LBFGS:   22 21:06:19     -990.902101        0.245205\n",
      "LBFGS:   23 21:06:23     -990.914373        0.212512\n",
      "LBFGS:   24 21:06:27     -990.922287        0.221226\n",
      "LBFGS:   25 21:06:32     -990.928913        0.136719\n",
      "LBFGS:   26 21:06:36     -990.935434        0.131231\n",
      "LBFGS:   27 21:06:40     -990.940801        0.131740\n",
      "LBFGS:   28 21:06:45     -990.944715        0.166827\n",
      "LBFGS:   29 21:06:49     -990.948097        0.123755\n",
      "LBFGS:   30 21:06:53     -990.951662        0.088700\n",
      "LBFGS:   31 21:06:57     -990.955053        0.091786\n",
      "LBFGS:   32 21:07:02     -990.957798        0.148795\n",
      "LBFGS:   33 21:07:06     -990.960193        0.138160\n",
      "LBFGS:   34 21:07:10     -990.962579        0.079867\n",
      "LBFGS:   35 21:07:15     -990.964683        0.068187\n",
      "LBFGS:   36 21:07:19     -990.966203        0.084305\n",
      "LBFGS:   37 21:07:23     -990.967392        0.093078\n",
      "LBFGS:   38 21:07:28     -990.968570        0.060269\n",
      "LBFGS:   39 21:07:32     -990.969722        0.046655\n",
      "LBFGS:   40 21:07:36     -990.970609        0.050020\n",
      "LBFGS:   41 21:07:40     -990.971279        0.063832\n",
      "LBFGS:   42 21:07:45     -990.971912        0.048001\n",
      "LBFGS:   43 21:07:49     -990.972543        0.039904\n",
      "LBFGS:   44 21:07:53     -990.973039        0.028407\n",
      "LBFGS:   45 21:07:57     -990.973484        0.046817\n",
      "LBFGS:   46 21:08:02     -990.973865        0.044307\n",
      "LBFGS:   47 21:08:06     -990.974291        0.035383\n",
      "LBFGS:   48 21:08:10     -990.974632        0.025527\n",
      "LBFGS:   49 21:08:15     -990.974851        0.022263\n",
      "LBFGS:   50 21:08:19     -990.975061        0.025357\n",
      "LBFGS:   51 21:08:24     -990.975269        0.023811\n",
      "LBFGS:   52 21:08:28     -990.975509        0.024008\n",
      "LBFGS:   53 21:08:32     -990.975704        0.019884\n",
      "LBFGS:   54 21:08:37     -990.975851        0.019320\n",
      "LBFGS:   55 21:08:41     -990.975982        0.017419\n",
      "LBFGS:   56 21:08:45     -990.976141        0.018153\n",
      "LBFGS:   57 21:08:49     -990.976236        0.012046\n",
      "LBFGS:   58 21:08:54     -990.976326        0.012286\n",
      "LBFGS:   59 21:08:58     -990.976391        0.013693\n",
      "LBFGS:   60 21:09:02     -990.976522        0.017281\n",
      "LBFGS:   61 21:09:07     -990.976598        0.015107\n",
      "LBFGS:   62 21:09:11     -990.976692        0.009245\n"
     ]
    },
    {
     "name": "stderr",
     "output_type": "stream",
     "text": [
      "Generating DefectEntry objects: 100.0%|████████████████████████████████████████████████████████████| [00:37,   2.64it/s]\n"
     ]
    },
    {
     "name": "stdout",
     "output_type": "stream",
     "text": [
      "Vacancies      Guessed Charges    Conv. Cell Coords    Wyckoff\n",
      "-------------  -----------------  -------------------  ---------\n",
      "v_Be           [+1,0,-1,-2]       [0.433,0.250,0.407]  4c\n",
      "v_Al_Ci        [+1,0,-1,-2,-3]    [0.000,0.000,0.500]  4b\n",
      "v_Al_Cs        [+1,0,-1,-2,-3]    [0.505,0.250,0.727]  4c\n",
      "v_O_C1         [+2,+1,0,-1]       [0.258,0.016,0.337]  8d\n",
      "v_O_Cs_Be1.58  [+2,+1,0,-1]       [0.287,0.750,0.090]  4c\n",
      "v_O_Cs_Be1.70  [+2,+1,0,-1]       [0.241,0.250,0.067]  4c\n",
      "\n",
      "Substitutions    Guessed Charges     Conv. Cell Coords    Wyckoff\n",
      "---------------  ------------------  -------------------  ---------\n",
      "Be_Al_Ci         [0,-1]              [0.000,0.000,0.500]  4b\n",
      "Be_Al_Cs         [0,-1]              [0.505,0.250,0.727]  4c\n",
      "Be_O_C1          [+4,+3,+2,+1,0]     [0.258,0.016,0.337]  8d\n",
      "Be_O_Cs_Be1.58   [+4,+3,+2,+1,0]     [0.287,0.750,0.090]  4c\n",
      "Be_O_Cs_Be1.70   [+4,+3,+2,+1,0]     [0.241,0.250,0.067]  4c\n",
      "Al_Be            [+1,0]              [0.433,0.250,0.407]  4c\n",
      "Al_O_C1          [+5,+4,+3,+2,+1,0]  [0.258,0.016,0.337]  8d\n",
      "Al_O_Cs_Be1.58   [+5,+4,+3,+2,+1,0]  [0.287,0.750,0.090]  4c\n",
      "Al_O_Cs_Be1.70   [+5,+4,+3,+2,+1,0]  [0.241,0.250,0.067]  4c\n",
      "O_Be             [0,-1,-2,-3,-4]     [0.433,0.250,0.407]  4c\n",
      "O_Al_Ci          [0,-1,-2,-3,-4,-5]  [0.000,0.000,0.500]  4b\n",
      "O_Al_Cs          [0,-1,-2,-3,-4,-5]  [0.505,0.250,0.727]  4c\n",
      "Cr_Be            [+4,+3,+2,+1,0]     [0.433,0.250,0.407]  4c\n",
      "Cr_Al_Ci         [+3,+2,+1,0,-1]     [0.000,0.000,0.500]  4b\n",
      "Cr_Al_Cs         [+3,+2,+1,0,-1]     [0.505,0.250,0.727]  4c\n",
      "Cr_O_C1          [+5,+4,+3,+2,+1,0]  [0.258,0.016,0.337]  8d\n",
      "Cr_O_Cs_Be1.58   [+5,+4,+3,+2,+1,0]  [0.287,0.750,0.090]  4c\n",
      "Cr_O_Cs_Be1.70   [+5,+4,+3,+2,+1,0]  [0.241,0.250,0.067]  4c\n",
      "\n",
      "The number in the Wyckoff label is the site multiplicity/degeneracy of that defect in the conventional ('conv.') unit cell, which comprises 4 formula unit(s) of BeAl2O4.\n",
      "\n",
      "Oxidation states were not explicitly set, thus have been guessed as {'Be': 2.0, 'Al': 3.0, 'O': -2.0, 'Cr': 3.0}. If this is unreasonable you should manually set oxidation_states\n",
      "Applying ShakeNBreak... Will apply the following bond distortions: ['-0.6', '-0.5', '-0.4', '-0.3', '-0.2', '-0.1', '0.0', '0.1', '0.2', '0.3', '0.4', '0.5', '0.6', 'Dimer (for vacancies)']. Then, will rattle with a std dev of 0.16 Å \n",
      "\n"
     ]
    },
    {
     "name": "stderr",
     "output_type": "stream",
     "text": [
      "Generating distorted defect structures...0.0%|                                                         | [00:00,  ?it/s]"
     ]
    },
    {
     "name": "stdout",
     "output_type": "stream",
     "text": [
      "\u001b[1m\n",
      "Defect: Cr_Al_Ci\u001b[0m\n",
      "\u001b[1mNumber of missing electrons in neutral state: 0\u001b[0m\n",
      "\n",
      "Defect Cr_Al_Ci in charge state: 0. Number of distorted neighbours: 0\n"
     ]
    },
    {
     "name": "stderr",
     "output_type": "stream",
     "text": [
      "Generating distorted defect structures...50.0%|██████████████████████████                          | [00:00,   1.71it/s]"
     ]
    },
    {
     "name": "stdout",
     "output_type": "stream",
     "text": [
      "\u001b[1m\n",
      "Defect: Cr_Al_Cs\u001b[0m\n",
      "\u001b[1mNumber of missing electrons in neutral state: 0\u001b[0m\n",
      "\n",
      "Defect Cr_Al_Cs in charge state: 0. Number of distorted neighbours: 0\n"
     ]
    },
    {
     "name": "stderr",
     "output_type": "stream",
     "text": [
      "Generating distorted defect structures...100.0%|███████████████████████████████████████████████████| [00:01,   1.55it/s]\n"
     ]
    },
    {
     "name": "stdout",
     "output_type": "stream",
     "text": [
      "       Step     Time          Energy          fmax\n",
      "LBFGS:    0 21:09:54     -827.937213        0.008062\n"
     ]
    },
    {
     "name": "stderr",
     "output_type": "stream",
     "text": [
      "672513604.py:11: FutureWarning: Please use len(self) or, if your atoms are distributed, self.get_global_number_of_atoms.\n"
     ]
    },
    {
     "name": "stdout",
     "output_type": "stream",
     "text": [
      "       Step     Time          Energy          fmax\n",
      "LBFGS:    0 21:10:00     -828.399667        2.074152\n",
      "LBFGS:    1 21:10:06     -828.621774        1.129064\n",
      "LBFGS:    2 21:10:13     -828.756127        0.261372\n",
      "LBFGS:    3 21:10:19     -828.774957        0.185095\n",
      "LBFGS:    4 21:10:26     -828.787789        0.172089\n",
      "LBFGS:    5 21:10:32     -828.793633        0.149447\n",
      "LBFGS:    6 21:10:38     -828.797235        0.082065\n",
      "LBFGS:    7 21:10:45     -828.798944        0.065526\n",
      "LBFGS:    8 21:10:51     -828.800164        0.053548\n",
      "LBFGS:    9 21:10:58     -828.800881        0.031614\n",
      "LBFGS:   10 21:11:04     -828.801354        0.024888\n",
      "LBFGS:   11 21:11:11     -828.801660        0.021201\n",
      "LBFGS:   12 21:11:17     -828.801812        0.019908\n",
      "LBFGS:   13 21:11:24     -828.801965        0.018555\n",
      "LBFGS:   14 21:11:30     -828.802011        0.009245\n"
     ]
    },
    {
     "name": "stderr",
     "output_type": "stream",
     "text": [
      "compatibility.py:629: UserWarning: Failed to guess oxidation states for Entry None (Be16Al31CrO64). Assigning anion correction to only the most electronegative atom.\n"
     ]
    },
    {
     "name": "stdout",
     "output_type": "stream",
     "text": [
      "       Step     Time          Energy          fmax\n",
      "LBFGS:    0 21:11:40     -725.629777       52.156442\n",
      "LBFGS:    1 21:11:46     -770.542916       14.634686\n",
      "LBFGS:    2 21:11:53     -802.092736       13.086531\n",
      "LBFGS:    3 21:11:59     -819.468942        4.301458\n",
      "LBFGS:    4 21:12:05     -823.909997        2.205892\n",
      "LBFGS:    5 21:12:12     -826.346673        1.657942\n",
      "LBFGS:    6 21:12:19     -827.456948        1.125933\n",
      "LBFGS:    7 21:12:25     -828.038537        0.868947\n",
      "LBFGS:    8 21:12:32     -828.354196        0.653319\n",
      "LBFGS:    9 21:12:39     -828.521935        0.511455\n",
      "LBFGS:   10 21:12:45     -828.620400        0.389454\n",
      "LBFGS:   11 21:12:52     -828.681878        0.279464\n",
      "LBFGS:   12 21:12:59     -828.724587        0.221737\n",
      "LBFGS:   13 21:13:06     -828.751687        0.187780\n",
      "LBFGS:   14 21:13:12     -828.768502        0.154878\n",
      "LBFGS:   15 21:13:19     -828.779794        0.150766\n",
      "LBFGS:   16 21:13:26     -828.787469        0.118153\n",
      "LBFGS:   17 21:13:32     -828.792184        0.081685\n",
      "LBFGS:   18 21:13:39     -828.795022        0.068761\n",
      "LBFGS:   19 21:13:46     -828.796929        0.055522\n",
      "LBFGS:   20 21:13:52     -828.798272        0.047454\n",
      "LBFGS:   21 21:13:59     -828.799249        0.034830\n",
      "LBFGS:   22 21:14:06     -828.800042        0.026598\n",
      "LBFGS:   23 21:14:13     -828.800515        0.024767\n",
      "LBFGS:   24 21:14:20     -828.800912        0.025494\n",
      "LBFGS:   25 21:14:27     -828.801278        0.020051\n",
      "LBFGS:   26 21:14:33     -828.801446        0.018401\n",
      "LBFGS:   27 21:14:40     -828.801660        0.018604\n",
      "LBFGS:   28 21:14:46     -828.801843        0.016749\n",
      "LBFGS:   29 21:14:53     -828.801950        0.013092\n",
      "LBFGS:   30 21:14:59     -828.801995        0.009441\n",
      "       Step     Time          Energy          fmax\n",
      "LBFGS:    0 21:15:09     -828.706582        2.231139\n",
      "LBFGS:    1 21:15:15     -828.889672        0.964038\n",
      "LBFGS:    2 21:15:21     -828.975778        0.320558\n",
      "LBFGS:    3 21:15:28     -828.993173        0.183099\n",
      "LBFGS:    4 21:15:34     -829.006143        0.177760\n",
      "LBFGS:    5 21:15:41     -829.012063        0.140213\n",
      "LBFGS:    6 21:15:47     -829.015328        0.092354\n",
      "LBFGS:    7 21:15:53     -829.016885        0.062933\n",
      "LBFGS:    8 21:16:00     -829.017800        0.045141\n",
      "LBFGS:    9 21:16:06     -829.018411        0.033154\n",
      "LBFGS:   10 21:16:12     -829.018792        0.026465\n",
      "LBFGS:   11 21:16:19     -829.019189        0.021777\n",
      "LBFGS:   12 21:16:25     -829.019280        0.016442\n",
      "LBFGS:   13 21:16:32     -829.019433        0.011981\n",
      "LBFGS:   14 21:16:38     -829.019509        0.009005\n",
      "       Step     Time          Energy          fmax\n",
      "LBFGS:    0 21:16:48     -728.408662       32.850982\n",
      "LBFGS:    1 21:16:54     -780.875665        9.935423\n",
      "LBFGS:    2 21:17:01     -810.767633        4.274937\n",
      "LBFGS:    3 21:17:07     -821.526696        3.165993\n",
      "LBFGS:    4 21:17:14     -825.086404        2.519756\n",
      "LBFGS:    5 21:17:20     -826.990609        1.543672\n",
      "LBFGS:    6 21:17:27     -827.902780        1.291181\n",
      "LBFGS:    7 21:17:34     -828.392877        0.882748\n",
      "LBFGS:    8 21:17:40     -828.665460        0.489045\n",
      "LBFGS:    9 21:17:47     -828.817605        0.428386\n",
      "LBFGS:   10 21:17:54     -828.895989        0.297476\n",
      "LBFGS:   11 21:18:00     -828.944024        0.233553\n",
      "LBFGS:   12 21:18:07     -828.972741        0.163233\n",
      "LBFGS:   13 21:18:13     -828.990182        0.142322\n",
      "LBFGS:   14 21:18:19     -829.001107        0.097802\n",
      "LBFGS:   15 21:18:26     -829.008050        0.081886\n",
      "LBFGS:   16 21:18:32     -829.012460        0.073999\n",
      "LBFGS:   17 21:18:38     -829.015145        0.058402\n",
      "LBFGS:   18 21:18:45     -829.016686        0.039607\n",
      "LBFGS:   19 21:18:51     -829.017541        0.031731\n",
      "LBFGS:   20 21:18:58     -829.018014        0.024924\n",
      "LBFGS:   21 21:19:04     -829.018426        0.019953\n",
      "LBFGS:   22 21:19:11     -829.018762        0.017500\n",
      "LBFGS:   23 21:19:17     -829.018868        0.015002\n",
      "LBFGS:   24 21:19:24     -829.019021        0.018511\n",
      "LBFGS:   25 21:19:30     -829.019189        0.014022\n",
      "LBFGS:   26 21:19:36     -829.019341        0.011490\n",
      "LBFGS:   27 21:19:43     -829.019387        0.010983\n",
      "LBFGS:   28 21:19:49     -829.019494        0.008674\n"
     ]
    }
   ],
   "source": [
    "data = {}\n",
    "for key, val in Al_prim.items():\n",
    "    unperturbed_structures, distortions, supercell = create_defect(Al_prim[key]['structure'])\n",
    "    mini_data = get_energy(unperturbed_structures, distortions, supercell, key) # add in host supercell relaxation move back from the front then see whats gonna happen \n",
    "    data[key] = mini_data\n"
   ]
  },
  {
   "cell_type": "code",
   "execution_count": 27,
   "id": "5211f9b2-1f76-46df-a696-d03cf8475b29",
   "metadata": {},
   "outputs": [],
   "source": [
    "for key, val in Al_prim.items():\n",
    "    data[key]['formula'] = val['formula']"
   ]
  },
  {
   "cell_type": "code",
   "execution_count": 30,
   "id": "308a31b4-decf-4efe-a3ea-5c8bfbf5be67",
   "metadata": {},
   "outputs": [
    {
     "name": "stdout",
     "output_type": "stream",
     "text": [
      "{'energy': -83.52845788261378, 'information': ['Cr_Al_0', 'unperturbed']}\n",
      "{'energy': -44.35046583885416, 'information': ['Cr_Al_0', 'unperturbed']}\n",
      "{'energy': -20.25754873677419, 'information': ['Cr_Al_0', 'distortions', 'Rattled']}\n",
      "{'energy': -42.92185585158421, 'information': ['Cr_Al_0', 'unperturbed']}\n",
      "{'energy': -110.1674235412428, 'information': ['Cr_Al_0', 'unperturbed']}\n",
      "{'energy': -66.78364401894031, 'information': ['Cr_Al_C1_O1.87O1.90O1.95_0', 'distortions', 'Rattled']}\n",
      "{'energy': -39.11507737412623, 'information': ['Cr_Al_0', 'unperturbed']}\n",
      "{'energy': -23.32627832128407, 'information': ['Cr_Al_0', 'distortions', 'Rattled']}\n",
      "{'energy': -72.1572055583566, 'information': ['Cr_Al_0', 'distortions', 'Rattled']}\n",
      "{'energy': -62.10204807929277, 'information': ['Cr_Al_0', 'distortions', 'Rattled']}\n",
      "{'energy': -58.952098556034784, 'information': ['Cr_Al_0', 'unperturbed']}\n",
      "{'energy': -74.47173419950727, 'information': ['Cr_Al_C3_O1.90_0', 'distortions', 'Rattled']}\n",
      "{'energy': -69.32231609435185, 'information': ['Cr_Al_0', 'unperturbed']}\n",
      "{'energy': -42.0831061263066, 'information': ['Cr_Al_0', 'unperturbed']}\n",
      "{'energy': -7.6103777633292475, 'information': ['Cr_Al_0', 'unperturbed']}\n",
      "{'energy': -152.085593196414, 'information': ['Cr_Al_0', 'distortions', 'Rattled']}\n",
      "{'energy': -53.36895990475898, 'information': ['Cr_Al_Cs_0', 'distortions', 'Rattled']}\n"
     ]
    }
   ],
   "source": [
    "for key in data.keys():\n",
    "    print(data[key]['minimum energy site'])"
   ]
  },
  {
   "cell_type": "code",
   "execution_count": 29,
   "id": "1405fe05-3eef-4943-99e2-1e48ac416fb1",
   "metadata": {},
   "outputs": [],
   "source": [
    "for key,val in data.items(): # goes through mp id's\n",
    "    min_energy = [float('inf'), '']\n",
    "    for key1, val1 in val.items(): # goes through supercell and sites\n",
    "        if key1 != 'supercell' and key1 != 'formula':\n",
    "            for key2, val2 in val1.items(): \n",
    "                if key2 == 'unperturbed':\n",
    "                    if val2['energy'] < min_energy[0]:\n",
    "                        min_energy[0] = val2['energy']\n",
    "                        min_energy[1] = [key1, key2]\n",
    "                else:\n",
    "                    for key3, val3 in val2.items():\n",
    "                        if val3['energy'] < min_energy[0]:\n",
    "                            min_energy[0] = val3['energy']\n",
    "                            min_energy[1] = [key1, key2, key3]\n",
    "    data[key]['minimum energy site'] = {\n",
    "        'energy': min_energy[0],\n",
    "        'information': min_energy[1]\n",
    "    }"
   ]
  },
  {
   "cell_type": "code",
   "execution_count": 31,
   "id": "8218d7f1-ebcd-4bac-ad7e-f37f0b3319cd",
   "metadata": {},
   "outputs": [],
   "source": [
    "dumpfn(data, f'../../data/{MODEL}_corrected_doped_defect_energies_per_atom_{supercell_size}A.json')"
   ]
  },
  {
   "cell_type": "code",
   "execution_count": 32,
   "id": "2fa86ac6-de23-400d-9d8c-b70c3660955c",
   "metadata": {
    "scrolled": true
   },
   "outputs": [],
   "source": [
    "data_load = loadfn(f'../../data/{MODEL}_corrected_doped_defect_energies_per_atom_{supercell_size}A.json')"
   ]
  },
  {
   "cell_type": "code",
   "execution_count": 140,
   "id": "8aa57bc3-8fb5-4ce3-b28f-95295ad416de",
   "metadata": {},
   "outputs": [
    {
     "name": "stdout",
     "output_type": "stream",
     "text": [
      "dict_keys(['supercell', 'Cr_Al_0', 'minimum energy site'])\n",
      "dict_keys(['supercell', 'Cr_Al_0', 'minimum energy site'])\n",
      "dict_keys(['supercell', 'Cr_Al_0', 'minimum energy site'])\n",
      "dict_keys(['supercell', 'Cr_Al_0', 'minimum energy site'])\n",
      "dict_keys(['supercell', 'Cr_Al_0', 'minimum energy site'])\n",
      "dict_keys(['supercell', 'Cr_Al_0', 'minimum energy site'])\n",
      "dict_keys(['supercell', 'Cr_Al_C1_O1.87O1.92O2.01a_0', 'Cr_Al_C1_O1.87O1.92O2.01b_0', 'Cr_Al_C1_O1.87O1.92O2.01c_0', 'minimum energy site'])\n",
      "dict_keys(['supercell', 'Cr_Al_0', 'minimum energy site'])\n",
      "dict_keys(['supercell', 'Cr_Al_0', 'minimum energy site'])\n",
      "dict_keys(['supercell', 'Cr_Al_C1_O1.90H2.59H2.63a_0', 'Cr_Al_C1_O1.90H2.59H2.63b_0', 'Cr_Al_C1_O1.90H2.59H2.63c_0', 'Cr_Al_C3_0', 'minimum energy site'])\n",
      "dict_keys(['supercell', 'Cr_Al_0', 'minimum energy site'])\n",
      "dict_keys(['supercell', 'Cr_Al_C3_O1.89_0', 'Cr_Al_C3_O1.90_0', 'minimum energy site'])\n",
      "dict_keys(['supercell', 'Cr_Al_0', 'minimum energy site'])\n",
      "dict_keys(['supercell', 'Cr_Al_0', 'minimum energy site'])\n",
      "dict_keys(['supercell', 'Cr_Al_0', 'minimum energy site'])\n",
      "dict_keys(['supercell', 'Cr_Al_0', 'minimum energy site'])\n",
      "dict_keys(['supercell', 'Cr_Al_Ci_0', 'Cr_Al_Cs_0', 'minimum energy site'])\n"
     ]
    }
   ],
   "source": []
  },
  {
   "cell_type": "code",
   "execution_count": 33,
   "id": "55e28db8-81cc-42f6-a8b7-e381a7abaf0c",
   "metadata": {},
   "outputs": [],
   "source": [
    "compounds = []\n",
    "delta_e = []\n",
    "for key, val in data_load.items():\n",
    "    min_energy = float('inf')\n",
    "    for key1, val1 in val.items():\n",
    "        if key1 != 'supercell' and key1 != 'formula' and key1 != 'minimum energy site':\n",
    "            for key2, val2 in val1.items():\n",
    "                if key2 != 'unperturbed':\n",
    "                    for key3, val3 in val2.items():\n",
    "                        if val3['energy'] < min_energy:\n",
    "                            min_energy = val3['energy']\n",
    "                            min_delta_e = val3['delta_e'] # filters for lowest energy rattled site, may be higher or lower than unperturbed\n",
    "    delta_e.append(min_delta_e)\n",
    "    compounds.append(data_load[key]['formula'])"
   ]
  },
  {
   "cell_type": "code",
   "execution_count": 34,
   "id": "654200f7-294b-46b7-b704-c2dadbe22d88",
   "metadata": {},
   "outputs": [],
   "source": [
    "import matplotlib.pyplot as plt"
   ]
  },
  {
   "cell_type": "code",
   "execution_count": 35,
   "id": "df3b5d12-bd91-4ab2-ba09-594a861c8413",
   "metadata": {},
   "outputs": [
    {
     "data": {
      "image/png": "[encoded data removed]",
      "text/plain": [
       "<Figure size 640x480 with 1 Axes>"
      ]
     },
     "metadata": {},
     "output_type": "display_data"
    }
   ],
   "source": [
    "fig, ax = plt.subplots()\n",
    "bars = ax.bar(compounds, delta_e)  # Assuming you have these lists already\n",
    "\n",
    "# Add labels on top of each bar\n",
    "ax.set_title(f\"Energy Difference of Rattled Structure with Respect to Unperturbed Structure with {MODEL} per atom\")\n",
    "ax.set_ylabel(\"$\\Delta$E(eV)\")\n",
    "plt.xticks(rotation=90)\n",
    "plt.tight_layout()\n",
    "plt.savefig(f\"../../figures/{MODEL}_corrected_energy_per_atom_difference_plot_{supercell_size}A.png\", dpi=300, bbox_inches='tight')\n",
    "\n",
    "plt.show()"
   ]
  },
  {
   "cell_type": "code",
   "execution_count": null,
   "id": "10345744-e395-4cfc-a703-92407d235601",
   "metadata": {},
   "outputs": [],
   "source": []
  }
 ],
 "metadata": {
  "kernelspec": {
   "display_name": "Python 3 (ipykernel)",
   "language": "python",
   "name": "python3"
  },
  "language_info": {
   "codemirror_mode": {
    "name": "ipython",
    "version": 3
   },
   "file_extension": ".py",
   "mimetype": "text/x-python",
   "name": "python",
   "nbconvert_exporter": "python",
   "pygments_lexer": "ipython3",
   "version": "3.11.13"
  }
 },
 "nbformat": 4,
 "nbformat_minor": 5
}
