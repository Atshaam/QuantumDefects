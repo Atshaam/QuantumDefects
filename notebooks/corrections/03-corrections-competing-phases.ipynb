{
 "cells": [
  {
   "cell_type": "code",
   "execution_count": 1,
   "id": "d8258f57-552a-42ac-9489-1287adb5fed1",
   "metadata": {},
   "outputs": [],
   "source": [
    "import os\n",
    "\n",
    "os.environ[\"CUDA_DEVICE_ORDER\"] = \"PCI_BUS_ID\"\n",
    "os.environ[\"CUDA_VISIBLE_DEVICES\"] = \"1\""
   ]
  },
  {
   "cell_type": "code",
   "execution_count": 2,
   "id": "2cb5eb5e-b5fb-4f67-8ca6-3a7d1a2fb20a",
   "metadata": {},
   "outputs": [],
   "source": [
    "from monty.serialization import loadfn, dumpfn"
   ]
  },
  {
   "cell_type": "code",
   "execution_count": 3,
   "id": "d394d09d-462e-4359-a188-215b84640bd0",
   "metadata": {},
   "outputs": [
    {
     "name": "stderr",
     "output_type": "stream",
     "text": [
      "/home/atshaam/miniconda3/envs/proj_env/lib/python3.11/site-packages/tqdm/auto.py:21: TqdmWarning: IProgress not found. Please update jupyter and ipywidgets. See https://ipywidgets.readthedocs.io/en/stable/user_install.html\n",
      "  from .autonotebook import tqdm as notebook_tqdm\n"
     ]
    }
   ],
   "source": [
    "from ase.filters import FrechetCellFilter\n",
    "from ase.optimize import LBFGS\n",
    "from pymatgen.io.ase import AseAtomsAdaptor\n",
    "# from orb_models.forcefield import pretrained\n",
    "# from orb_models.forcefield.calculator import ORBCalculator\n",
    "from fairchem.core import pretrained_mlip, FAIRChemCalculator\n",
    "# from eqnorm.calculator import EqnormCalculator\n",
    "# from mace.calculators import mace_mp\n",
    "# from mattersim.forcefield import MatterSimCalculator\n",
    "# from sevenn.calculator import SevenNetCalculator\n"
   ]
  },
  {
   "cell_type": "code",
   "execution_count": 4,
   "id": "2d95c05d-9c7c-4a53-89e3-0b2e482dd555",
   "metadata": {},
   "outputs": [],
   "source": [
    "MODEL = \"uma\" # \"orb\" or \"uma\" or \"mace\" or \"seven\" or \"mattersim\" or \"eqnorm\""
   ]
  },
  {
   "cell_type": "code",
   "execution_count": 5,
   "id": "4d713c5b-66a1-4e4d-b27e-05b4f0e5be29",
   "metadata": {},
   "outputs": [],
   "source": [
    "supercell_size = 10.1"
   ]
  },
  {
   "cell_type": "code",
   "execution_count": 6,
   "id": "a6d52bd2-e724-4357-8aba-31524591e3b8",
   "metadata": {},
   "outputs": [],
   "source": [
    "# orb_ff = pretrained.orb_v3_conservative_inf_omat(device=\"cuda\",precision=\"float32-high\")  # or \"float32-highest\" / \"float64\n",
    "# orb_calc = ORBCalculator(orb_ff, device=\"cuda\")\n",
    "\n",
    "uma_ff = pretrained_mlip.get_predict_unit(\"uma-m-1p1\", device=\"cuda\")\n",
    "uma_calc = FAIRChemCalculator(uma_ff, task_name=\"omat\")\n",
    "\n",
    "# eqnorm_calc = EqnormCalculator(model_name='eqnorm', model_variant='eqnorm-mptrj', device='cuda')\n",
    "\n",
    "\n",
    "# mace_calc = mace_mp(model=\"MACE-matpes-r2scan-omat-ft.model\", dispersion=False, device='cuda')\n",
    "# seven_calc = SevenNetCalculator('7net-mf-ompa', modal='omat24')\n",
    "\n",
    "# mattersim_calc = MatterSimCalculator(device=\"cuda\")\n",
    "\n",
    "MODELS = {\n",
    "    # \"orb\":orb_calc,\n",
    "    \"uma\": uma_calc,\n",
    "    # # \"seven\":seven_calc,\n",
    "    # \"mattersim\":mattersim_calc,\n",
    "    # \"eqnorm\":eqnorm_calc\n",
    "    # \"mace\": mace_calc\n",
    "}"
   ]
  },
  {
   "cell_type": "code",
   "execution_count": 7,
   "id": "52a4279b-3509-4551-ab60-4a1849200d29",
   "metadata": {},
   "outputs": [],
   "source": [
    "def relax_structure(structure): # takes in pymatgen structure\n",
    "    atoms = structure.to_ase_atoms()\n",
    "    atoms.calc = MODELS[MODEL]\n",
    "    \n",
    "    opt = LBFGS(FrechetCellFilter(atoms))# Delete this FrechetCellFilter when doing the defect structures, need FrechetCellFilter when doing competing phases\n",
    "    opt.run(0.01, 1000)\n",
    "    \n",
    "    relaxed_structure = AseAtomsAdaptor.get_structure(atoms)\n",
    "    energy = atoms.get_potential_energy()\n",
    "\n",
    "    return relaxed_structure, energy"
   ]
  },
  {
   "cell_type": "code",
   "execution_count": 8,
   "id": "8a5b163c-cfb9-473a-91a7-385d9e1a14a7",
   "metadata": {},
   "outputs": [],
   "source": [
    "from doped.chemical_potentials import CompetingPhases\n",
    "from pymatgen.entries.computed_entries import ComputedEntry\n",
    "from doped.chemical_potentials import CompetingPhasesAnalyzer\n",
    "from tqdm import tqdm\n",
    "from pymatgen.entries.compatibility import MaterialsProject2020Compatibility"
   ]
  },
  {
   "cell_type": "code",
   "execution_count": 9,
   "id": "18e63940-2ae8-40a4-8dec-cee07357b22d",
   "metadata": {},
   "outputs": [],
   "source": [
    "from pymatgen.core import Element\n",
    "\n",
    "MP_U_VALUES = {\n",
    "    \"Co\": 3.32,\n",
    "    \"Cr\": 3.7,\n",
    "    \"Fe\": 5.3,\n",
    "    \"Mn\": 3.98,\n",
    "    \"Mo\": 4.38,\n",
    "    \"Ni\": 6.2,\n",
    "    \"V\": 3.25,\n",
    "    \"W\": 6.2,\n",
    "}\n",
    "\n",
    "from pymatgen.core import Species\n",
    "\n",
    "def add_parameters(entry):\n",
    "    parameters = {}\n",
    "    if any([Element(el) in entry.composition.elements for el in MP_U_VALUES]):\n",
    "        parameters[\"run_type\"] = \"GGA+U\"\n",
    "        parameters[\"hubbards\"] = {el.name: MP_U_VALUES.get(el.symbol, 0.0) for el in entry.composition.elements}\n",
    "        parameters[\"is_hubbard\"] = True\n",
    "    else:\n",
    "        parameters[\"run_type\"] = \"GGA\"\n",
    "        parameters[\"hubbards\"] = None\n",
    "        parameters[\"is_hubbard\"] = False\n",
    "    entry.parameters = parameters\n",
    "    return entry"
   ]
  },
  {
   "cell_type": "code",
   "execution_count": 10,
   "id": "8bb00e64-3f2e-492c-a349-ac9778a000ae",
   "metadata": {
    "scrolled": true
   },
   "outputs": [],
   "source": [
    "calculated_entries = {}\n",
    "\n",
    "def calc_competing_phase(comp): # Pass in formula of species\n",
    "    cp = CompetingPhases(composition=comp, extrinsic='Cr', energy_above_hull=0.05)\n",
    "    \n",
    "    entries = []\n",
    "    for entry in tqdm(cp.entries):\n",
    "        key =  entry.data['material_id'] + entry.structure.composition.reduced_formula\n",
    "        \n",
    "        if key in calculated_entries:\n",
    "            new_entry = calculated_entries[key]\n",
    "        else:\n",
    "            try:\n",
    "                relaxed_structure, energy = relax_structure(entry.structure)\n",
    "            except ValueError as e:\n",
    "                print(f\"Skipping structure due to error: {e}\")\n",
    "                continue\n",
    "            new_entry = ComputedEntry(\n",
    "                relaxed_structure.composition,\n",
    "                energy, \n",
    "                data = {'material_id':entry.data['material_id']}\n",
    "            )\n",
    "            new_entry.structure = relaxed_structure   # IMPORTANT!\n",
    "            new_entry = add_parameters(new_entry)     # IMPORTANT!\n",
    "            calculated_entries[key] = new_entry \n",
    "        entries.append(new_entry)\n",
    "    compat = MaterialsProject2020Compatibility(check_potcar=False, check_potcar_hash=False)\n",
    "    new_entries = compat.process_entries(entries, inplace=False, on_error=\"warn\")\n",
    "    return cp, new_entries "
   ]
  },
  {
   "cell_type": "code",
   "execution_count": 11,
   "id": "e559469a-ceae-45fc-87c1-68edb6af93b0",
   "metadata": {},
   "outputs": [],
   "source": [
    "def calc_competing_phase_analysis(comp, entries):\n",
    "    \n",
    "    cpa = CompetingPhasesAnalyzer(composition=comp, entries=entries)\n",
    "    \n",
    "    return cpa.chempots, cpa.unstable_host"
   ]
  },
  {
   "cell_type": "code",
   "execution_count": 12,
   "id": "430c708c-cd0f-4989-991d-2e11927a3dc8",
   "metadata": {},
   "outputs": [],
   "source": [
    "relaxed_defect = loadfn(f'../../data/{MODEL}/{MODEL}_corrected_doped_defect_energies_{supercell_size}A.json')"
   ]
  },
  {
   "cell_type": "code",
   "execution_count": null,
   "id": "5f94fe97-7e54-4f86-b8f7-89204c93bf43",
   "metadata": {
    "scrolled": true
   },
   "outputs": [],
   "source": [
    "for key in relaxed_defect.keys():\n",
    "    formula = relaxed_defect[key]['formula']\n",
    "    cp, entries = calc_competing_phase(formula) # do you have to return cp?\n",
    "    chem_pot, unstable = calc_competing_phase_analysis(formula, entries)\n",
    "    relaxed_defect[key]['competing phases'] = {}\n",
    "    relaxed_defect[key]['competing phases']['chemical potentials'] = chem_pot\n",
    "    relaxed_defect[key]['competing phases']['entries'] = entries\n",
    "    relaxed_defect[key]['competing phases']['unstable'] = unstable"
   ]
  },
  {
   "cell_type": "code",
   "execution_count": 15,
   "id": "ab43fc86-b53e-4138-b88e-dd1d8f9596fd",
   "metadata": {},
   "outputs": [],
   "source": [
    "dumpfn(relaxed_defect, f'../../data/{MODEL}/{MODEL}_corrected_doped_defect_energies_{supercell_size}A.json')"
   ]
  }
 ],
 "metadata": {
  "kernelspec": {
   "display_name": "Python 3 (ipykernel)",
   "language": "python",
   "name": "python3"
  },
  "language_info": {
   "codemirror_mode": {
    "name": "ipython",
    "version": 3
   },
   "file_extension": ".py",
   "mimetype": "text/x-python",
   "name": "python",
   "nbconvert_exporter": "python",
   "pygments_lexer": "ipython3",
   "version": "3.11.13"
  }
 },
 "nbformat": 4,
 "nbformat_minor": 5
}
