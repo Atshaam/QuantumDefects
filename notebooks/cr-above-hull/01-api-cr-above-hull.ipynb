{
 "cells": [
  {
   "cell_type": "code",
   "execution_count": 1,
   "id": "6d522c1b-518b-4d49-a658-7532fdca3e81",
   "metadata": {},
   "outputs": [],
   "source": [
    "import os\n",
    "\n",
    "os.environ[\"CUDA_DEVICE_ORDER\"] = \"PCI_BUS_ID\"\n",
    "os.environ[\"CUDA_VISIBLE_DEVICES\"] = \"1\""
   ]
  },
  {
   "cell_type": "code",
   "execution_count": 2,
   "id": "9c819d58",
   "metadata": {
    "scrolled": true
   },
   "outputs": [],
   "source": [
    "from mp_api.client import MPRester\n",
    "from pymatgen.analysis.structure_matcher import StructureMatcher"
   ]
  },
  {
   "cell_type": "code",
   "execution_count": 3,
   "id": "5d9fe777",
   "metadata": {},
   "outputs": [],
   "source": [
    "mpr = MPRester() "
   ]
  },
  {
   "cell_type": "code",
   "execution_count": 4,
   "id": "7cec4403",
   "metadata": {
    "scrolled": true
   },
   "outputs": [
    {
     "data": {
      "application/vnd.jupyter.widget-view+json": {
       "model_id": "633f6957cf284254ad11e00b82b5c821",
       "version_major": 2,
       "version_minor": 0
      },
      "text/plain": [
       "Retrieving SummaryDoc documents:   0%|          | 0/229 [00:00<?, ?it/s]"
      ]
     },
     "metadata": {},
     "output_type": "display_data"
    },
    {
     "name": "stdout",
     "output_type": "stream",
     "text": [
      "Rb3AlO3\n",
      "NbAlO4\n",
      "K3AlO3\n",
      "Al(PO3)3\n",
      "Cs3AlO3\n",
      "Eu3AlO5\n",
      "Cs9AlO4\n",
      "AlAsO4\n",
      "AlPO4\n",
      "LiAlO2\n",
      "PrAlO3\n",
      "NdAlO3\n",
      "Al(IO3)3\n",
      "AlCuO2\n",
      "AlAgO2\n",
      "AlVO4\n",
      "RbAlO2\n",
      "CsAlO2\n",
      "NaAlO2\n",
      "AlClO\n",
      "TaAlO4\n",
      "Na5AlO4\n",
      "Li5AlO4\n",
      "KAlO2\n",
      "Ba3AlO4\n",
      "AlHO2\n",
      "SmAlO3\n",
      "AlWO4\n",
      "CeAlO3\n",
      "K3Al(PO4)2\n",
      "Na3Al(AsO4)2\n",
      "NaAlGeO4\n",
      "KAlP2O7\n",
      "AlFePO5\n",
      "Cs2AlP3O10\n",
      "Li2Al(BO2)5\n",
      "KLi4AlO4\n",
      "Sr4NbAlO8\n",
      "K3AlB8O15\n",
      "NdAlGe2O7\n",
      "MgAlPO5\n",
      "AlH11SO10\n",
      "CsAl(SiO3)2\n",
      "LiAlSiO4\n",
      "AlHSO5\n",
      "AlH6IO4\n",
      "AlH6BrO4\n",
      "AlH12(NO5)3\n",
      "CaTaAlO5\n",
      "Cs3AlGe2O7\n",
      "Cs2Al(NO3)5\n",
      "KAl(MoO4)2\n",
      "AlTl(MoO4)2\n",
      "CsAl(MoO4)2\n",
      "AlH12(ClO2)3\n",
      "KAlGeO4\n",
      "KAlSiO4\n",
      "ScAlCO\n",
      "Rb8AlAu3O4\n",
      "Ba2AlInO5\n",
      "AlSCl3O2\n",
      "RbAlAs2O7\n",
      "KAlSi3O8\n",
      "NaAlSi3O8\n",
      "Na3AlP8O23\n",
      "NaAlSiO4\n",
      "Li3AlSiO5\n",
      "CsAlSiO4\n",
      "RbAlSiO4\n",
      "Li3AlGeO5\n",
      "CaAlBO4\n",
      "AlBPbO4\n",
      "AlVMoO7\n",
      "Ba5AlIr2O11\n",
      "Ba3AlHO4\n",
      "MgAlBO4\n",
      "Na3AlP2H2O9\n",
      "NaAlH12(SO7)2\n",
      "Sr2AlCO3F5\n",
      "Cs2NaAl(PO4)2\n",
      "Na5AlP2(O4F)2\n",
      "K2CeAl(SiO3)4\n",
      "CsAlH4(OF2)2\n",
      "BaAlB4H3O10\n",
      "NaAlAsO4F\n",
      "Na3BeAl(SiO4)2\n",
      "BaAlBO3F2\n",
      "Na3AlP3NO9\n",
      "AlH14SeNO14\n",
      "AlH2PbO2F3\n",
      "Na2AlSi3HO9\n",
      "KAlP4(H2O7)2\n",
      "CsAlH24(SO10)2\n",
      "CsAlH24(SeO10)2\n",
      "KAlH6(OF3)2\n",
      "CsZr2Al(PO4)4\n",
      "Na4AlP2HO9\n",
      "K2AlSO4F3\n",
      "AlH10N2OF5\n",
      "AlH10SO9F\n",
      "KAlH2CO5\n",
      "NaAlH2CO5\n",
      "Na5Ca2Al(PO4)4\n",
      "AlSiH9C3Cl2O\n",
      "RbAlBP2HO9\n",
      "CsAlBP2HO9\n",
      "Na7AlH2C4(O3F)4\n",
      "Na4BeAlSi4ClO12\n",
      "Al2O3\n",
      "Nd4Al2O9\n",
      "Al2(SO4)3\n",
      "BaAl2O4\n",
      "Al2SiO5\n",
      "Sr3Al2O6\n",
      "Al2FeO4\n",
      "Al2ZnO4\n",
      "MgAl2O4\n",
      "MnAl2O4\n",
      "EuAl2O4\n",
      "SrAl2O4\n",
      "Al2PbO4\n",
      "Al2(MoO4)3\n",
      "BeAl2O4\n",
      "Ba4Al2O7\n",
      "Cs2Al2B2O7\n",
      "Al2Si2PbO8\n",
      "Rb2Al2B2O7\n",
      "Al2SnCl6O\n",
      "BaAl2(SiO4)2\n",
      "Al2H16S3O20\n",
      "Rb4Nb35Al2O70\n",
      "Na3Nb34Al2O64\n",
      "BaAl2(GeO4)2\n",
      "K2Al2B2O7\n",
      "BaAl2Sb2O7\n",
      "BaAl2B2O7\n",
      "Na2Al2B2O7\n",
      "K2Al2Sb2O7\n",
      "Cs2Al2Sb2O7\n",
      "Rb2Al2Sb2O7\n",
      "CaAl2B2O7\n",
      "SrAl2B2O7\n",
      "Al2P3(HO3)3\n",
      "Sr3Al2Cl2O5\n",
      "Al2H12(SeO5)3\n",
      "Ba7Sc6Al2O19\n",
      "Cs2Al2P2O9\n",
      "K3Al2(AsO4)3\n",
      "K3Al2(PO4)3\n",
      "Rb3Al2(PO4)3\n",
      "Cs2Al2As2O7\n",
      "Ca2Al2Sn2O9\n",
      "Al2AgCl5O\n",
      "Al2B3HO8\n",
      "Al2Ge(O2F)2\n",
      "Al2Si(O2F)2\n",
      "K4Nb11Al2O20F\n",
      "Rb2NaAl2(PO4)3\n",
      "LiAl2H6ClO6\n",
      "Ba5Er2ZrAl2O13\n",
      "BaAl2Si3(NO)4\n",
      "Al2Si3H8(NO5)2\n",
      "Na2Al2Si3(HO3)4\n",
      "Ba4NaAl2B8(ClO6)3\n",
      "Ba4NaAl2B8(BrO6)3\n",
      "Na2Sr2Al2PO4F9\n",
      "Ba5Al2In2IrClO13\n",
      "NaAl2H18S4N4ClO18\n",
      "Na7Al3O8\n",
      "YAl3(BO3)4\n",
      "RbAl3(P3O10)2\n",
      "NdAl3(PbO4)2\n",
      "SmAl3(PbO4)2\n",
      "Y3Sc2Al3O12\n",
      "Ca2Al3H3O8\n",
      "Na4Al3Si3ClO12\n",
      "Na4Al3Ge3ClO12\n",
      "Li4Al3Ge3IO12\n",
      "Na4Al3Ge3IO12\n",
      "K4Al3Si3ClO12\n",
      "Na4Al3Ge3BrO12\n",
      "Na4Al3Si3IO12\n",
      "Na4Al3Si3BrO12\n",
      "Li4Al3Si3ClO12\n",
      "Li4Al3Ge3BrO12\n",
      "Na14Al4O13\n",
      "Al4(B2O5)3\n",
      "Al4CdO7\n",
      "SrAl4O7\n",
      "CaAl4O7\n",
      "Al4CO4\n",
      "Al4Bi2O9\n",
      "Mn2Al4Si5O18\n",
      "Al4Fe2Si5O18\n",
      "Mg2Al4Si5O18\n",
      "BaAl4(SbO6)2\n",
      "K3Al4P2O8F9\n",
      "Mn13Al4Si2(SbO14)2\n",
      "Na2SrAl4(SiO4)4\n",
      "BaNa2Al4(SiO4)4\n",
      "NaCa2Al4H8C4ClO20\n",
      "K3Ba3Li2Al4B6O20F\n",
      "Lu3Al5O12\n",
      "Tb3Al5O12\n",
      "Gd3Al5O12\n",
      "Ho3Al5O12\n",
      "Er3Al5O12\n",
      "Y3Al5O12\n",
      "Al5BO9\n",
      "NaTi2Al5O12\n",
      "Sr13Al6Si8O\n",
      "Sr4Al6WO16\n",
      "Sr4Al6MoO16\n",
      "Al6B5(O5F)3\n",
      "Ca4Al6TeO12\n",
      "Ca4Al6SO12\n",
      "Al6Cd4SO12\n",
      "Sr4Al6TeO12\n",
      "Sr4Al6SO12\n",
      "Al6Cd4TeO12\n",
      "Ca4Al6SO16\n",
      "Sr4Al6CrO16\n",
      "Ca4Al6MoO16\n",
      "CaAl6H12(SO7)4\n",
      "Ca6Al7O16\n",
      "Al8(Pb3O7)3\n",
      "Ca2Al8PbO15\n",
      "Ba8Al10B12O41\n",
      "NaAl11O17\n"
     ]
    }
   ],
   "source": [
    "candidate_al = mpr.materials.summary.search(energy_above_hull=(0,0), elements=[\"O\", \"Al\"], theoretical=False)\n",
    "for material in candidate_al:\n",
    "    print(material.formula_pretty)"
   ]
  },
  {
   "cell_type": "code",
   "execution_count": 5,
   "id": "f1307c6b",
   "metadata": {
    "scrolled": true
   },
   "outputs": [
    {
     "data": {
      "application/vnd.jupyter.widget-view+json": {
       "model_id": "e72da8002a8c48a4bd93206c833653fe",
       "version_major": 2,
       "version_minor": 0
      },
      "text/plain": [
       "Retrieving SummaryDoc documents:   0%|          | 0/193 [00:00<?, ?it/s]"
      ]
     },
     "metadata": {},
     "output_type": "display_data"
    },
    {
     "name": "stdout",
     "output_type": "stream",
     "text": [
      "CrO2\n",
      "CrPb2O5\n",
      "CrPbO4\n",
      "CrHgO4\n",
      "Ta2CrO6\n",
      "SrCrO4\n",
      "Cr(PO3)3\n",
      "PrCrO4\n",
      "DyCrO4\n",
      "SmCrO4\n",
      "YbCrO4\n",
      "HoCrO4\n",
      "NdCrO4\n",
      "LuCrO4\n",
      "CaCrO4\n",
      "ErCrO4\n",
      "EuCrO4\n",
      "TbCrO4\n",
      "GdCrO4\n",
      "TmCrO4\n",
      "Li2CrO4\n",
      "La2CrO6\n",
      "CrHO2\n",
      "CrPdO2\n",
      "LiCrO2\n",
      "CrAgO2\n",
      "CrCuO2\n",
      "NaCrO2\n",
      "CrBO3\n",
      "KCrO2\n",
      "Na4CrO4\n",
      "Sr2CrO4\n",
      "CrClO\n",
      "UCrO4\n",
      "SmCrO3\n",
      "PrCrO3\n",
      "Rb2CrO4\n",
      "Ba2CrO4\n",
      "GdCrO3\n",
      "BaCrO4\n",
      "YCrO3\n",
      "ErCrO3\n",
      "LaCrO3\n",
      "NdCrO3\n",
      "DyCrO3\n",
      "Cs2CrO4\n",
      "LuCrO3\n",
      "TbCrO3\n",
      "HoCrO3\n",
      "TmCrO3\n",
      "CrNiO4\n",
      "CrCdO4\n",
      "CrCoO4\n",
      "Na2CrO4\n",
      "MgCrO4\n",
      "CrWO4\n",
      "CrAsO4\n",
      "CrPO4\n",
      "Sr2CrSbO6\n",
      "BaCr(Si2O5)2\n",
      "SrCr(Si2O5)2\n",
      "CrHSe3O8\n",
      "CsCrAs2O7\n",
      "RbCrP2O7\n",
      "NaCrP2O7\n",
      "TlCrP2O7\n",
      "RbUCrO6\n",
      "KCrP2O7\n",
      "LaCrHO5\n",
      "KUCrO6\n",
      "CrHg3(PbO4)2\n",
      "K2CrSO7\n",
      "CsLiCrO4\n",
      "CsCrP2O7\n",
      "CsUCrO6\n",
      "ErCrHO5\n",
      "CrH18(O3F)3\n",
      "Sr2CrOsO6\n",
      "NaCr(SiO3)2\n",
      "NaCr(GeO3)2\n",
      "Cs2Cr(NO3)5\n",
      "RbLiCrO4\n",
      "Ca9Cr(PO4)7\n",
      "LaCrTeO6\n",
      "TbCrTeO6\n",
      "DyCrTeO6\n",
      "NdCrTeO6\n",
      "SmCrTeO6\n",
      "TmCrTeO6\n",
      "PrCrTeO6\n",
      "YCrTeO6\n",
      "ErCrTeO6\n",
      "HoCrTeO6\n",
      "GdCrTeO6\n",
      "EuCrTeO6\n",
      "CrH12(ClO2)3\n",
      "ThCr(IO5)2\n",
      "Ba2TaCrO6\n",
      "Ba2NbCrO6\n",
      "Mn2CrPb2O9\n",
      "BaCrP2O7\n",
      "CaCrP2O7\n",
      "CrHg(PbO3)2\n",
      "Na3CrP8O23\n",
      "KLiCrO4\n",
      "Sr4Al6CrO16\n",
      "LiCrP2O7\n",
      "Sr2CrClO4\n",
      "CrBPbO4\n",
      "CrP2Pb5O13\n",
      "TlCr(MoO4)2\n",
      "KUCrNO9\n",
      "CrSiH8(O2F3)2\n",
      "RbUCrNO9\n",
      "K2UCr(IO6)2\n",
      "Rb2UCr(IO6)2\n",
      "SrCrSn(PO4)3\n",
      "CrH20N2O6F5\n",
      "CrH17N4Cl2O3\n",
      "CsCrH24(SeO10)2\n",
      "KCrPO4F\n",
      "CrH10N2Cl5O\n",
      "K2CrH2Cl5O\n",
      "Rb2CrH2Cl5O\n",
      "NaCrH22N6(Cl2O)2\n",
      "Cr2O3\n",
      "Cr2TeO6\n",
      "Cr2WO6\n",
      "SrCr2O7\n",
      "Cs6Cr2O7\n",
      "V4Cr2O13\n",
      "Cr2Te4O11\n",
      "Cr2FeO4\n",
      "Cr2(SO4)3\n",
      "Rb2Cr2O7\n",
      "Cr2P2O7\n",
      "K2Cr2O7\n",
      "BaCr2O7\n",
      "Na2Cr2O7\n",
      "MgCr2O4\n",
      "ZnCr2O4\n",
      "Cr2CdO4\n",
      "Cr2HgO4\n",
      "Cr2CoO4\n",
      "MnCr2O4\n",
      "Cr2(Bi2O5)3\n",
      "BaCr2O4\n",
      "SrCr2O4\n",
      "Cr2(MoO4)3\n",
      "BeCr2O4\n",
      "CaCr2O4\n",
      "KCr2FeO8\n",
      "KLaCr2O8\n",
      "Cr2PBrO4\n",
      "Cr2PIO4\n",
      "K3NaCr2O8\n",
      "KTbCr2O8\n",
      "Ba3Cr2MoO9\n",
      "BaCr2(P2O7)2\n",
      "Rb2UCr2O10\n",
      "Na3Cr2(AsO4)3\n",
      "Ca3Cr2(SiO4)3\n",
      "RbCr2BiO8\n",
      "RbCr2FeO8\n",
      "Rb2Cr2As2O9\n",
      "Cr2P4Pb3O16\n",
      "NaCr2In(H2O5)2\n",
      "K2MgCr2(H2O5)2\n",
      "K2Cr2Cd(H2O5)2\n",
      "Rb2Cr2Cd(H2O5)2\n",
      "ScCr2Ag(H2O5)2\n",
      "KNa2Li3Cr2(Si2O5)6\n",
      "NaCr3O8\n",
      "KCr3O8\n",
      "RbCr3O8\n",
      "Tl2Cr3O12\n",
      "CsCr3O8\n",
      "Cs3NdCr3O12\n",
      "Li9Cr3P8O29\n",
      "Sr5Cr3ClO12\n",
      "Sr5Cr3O12F\n",
      "Na4UCr3O14\n",
      "Ca3Cr3(PO4)4\n",
      "Cr3B7BrO13\n",
      "Cr3B7IO13\n",
      "Cr3B7ClO13\n",
      "KCr3H6(SO7)2\n",
      "YCr4(CuO4)3\n",
      "Cr4Si2Cl2O7\n",
      "Cr4Si2Br2O7\n",
      "Cr4AgBiO14\n",
      "K8UCr4(NO12)2\n",
      "Cs2Cr4Cd(HO4)4\n"
     ]
    }
   ],
   "source": [
    "candidate_cr = mpr.materials.summary.search(energy_above_hull=(0.3), elements=[\"O\", \"Cr\"], theoretical=False)\n",
    "for material in candidate_cr:\n",
    "    print(material.formula_pretty)"
   ]
  },
  {
   "cell_type": "code",
   "execution_count": 6,
   "id": "1bee1b6a",
   "metadata": {},
   "outputs": [],
   "source": [
    "from pymatgen.analysis.structure_matcher import ElementComparator\n",
    "from pymatgen.core import Element, Composition\n",
    "class AlCrComparotor(ElementComparator):\n",
    "\n",
    "    equal_species = (Composition('Al'), Composition('Cr'))\n",
    "\n",
    "    def are_equal(self, el1: Element, el2: Element):\n",
    "        if el1 == el2:\n",
    "            return True\n",
    "        \n",
    "        if el1 in self.equal_species and el2 in self.equal_species:\n",
    "            return True\n",
    "\n",
    "        return False\n",
    "        \n",
    "    def get_hash(self, composition):\n",
    "        \"\"\"Get the fractional composition.\"\"\"\n",
    "        comphash = composition.fractional_composition.formula\n",
    "        for el in self.equal_species:\n",
    "            comphash = comphash.replace(el.reduced_formula, 'J')\n",
    "        return comphash\n",
    "    \n",
    "\n",
    "sm = StructureMatcher(comparator=AlCrComparotor())"
   ]
  },
  {
   "cell_type": "code",
   "execution_count": 4,
   "id": "2f56f5a2-ac1f-4e72-9b95-ba65304a6e28",
   "metadata": {},
   "outputs": [],
   "source": [
    "from monty.serialization import loadfn, dumpfn"
   ]
  },
  {
   "cell_type": "code",
   "execution_count": 8,
   "id": "1e134062",
   "metadata": {
    "scrolled": true
   },
   "outputs": [
    {
     "name": "stdout",
     "output_type": "stream",
     "text": [
      "1: Al(PO3)3 (mp-1019377) and Cr(PO3)3 (mp-554600)\n",
      "2: LiAlO2 (mp-8001) and LiCrO2 (mp-18793)\n",
      "3: AlClO (mp-27863) and CrClO (mp-22946)\n",
      "4: SmAlO3 (mp-7405) and SmCrO3 (mp-1105788)\n",
      "5: AlWO4 (mp-1182867) and CrWO4 (mp-18785)\n",
      "6: KAlP2O7 (mp-17031) and KCrP2O7 (mp-18387)\n",
      "7: Cs2Al(NO3)5 (mp-572149) and Cs2Cr(NO3)5 (mp-560716)\n",
      "8: AlH12(ClO2)3 (mp-23743) and CrH12(ClO2)3 (mp-734815)\n",
      "9: Na3AlP8O23 (mp-14389) and Na3CrP8O23 (mp-8343)\n",
      "10: CsAlH24(SeO10)2 (mp-24523) and CsCrH24(SeO10)2 (mp-1202355)\n",
      "11: Al2O3 (mp-1143) and Cr2O3 (mp-19399)\n",
      "12: Al2(SO4)3 (mp-4417) and Cr2(SO4)3 (mp-19361)\n",
      "13: Al2FeO4 (mp-30084) and Cr2FeO4 (mp-1104680)\n",
      "14: MgAl2O4 (mp-3536) and MgCr2O4 (mp-19202)\n",
      "15: MnAl2O4 (mp-755882) and MnCr2O4 (mp-28226)\n",
      "16: Al2(MoO4)3 (mp-19521) and Cr2(MoO4)3 (mp-647862)\n",
      "17: BeAl2O4 (mp-3081) and BeCr2O4 (mp-1193887)\n",
      "18: Sr4Al6CrO16 (mp-554152) and Sr4Al6CrO16 (mp-554152)\n"
     ]
    }
   ],
   "source": [
    "matching_pairs = {}\n",
    "count = 0\n",
    "for material1 in candidate_al:\n",
    "    for material2 in candidate_cr:\n",
    "        if material1.composition.anonymized_formula == material2.composition.anonymized_formula:\n",
    "            if sm.fit(material1.structure, material2.structure):\n",
    "                count += 1\n",
    "                name1 = material1.formula_pretty\n",
    "                name2 = material2.formula_pretty\n",
    "                print(f\"{count}: {name1} ({material1.material_id}) and {name2} ({material2.material_id})\")\n",
    "                matching_pairs[material1.material_id] = {\n",
    "                    'formula':name1,\n",
    "                    'structure':material1.structure\n",
    "                }\n",
    "\n",
    "dumpfn(matching_pairs, \"../data/cr_above_hull_calculations/matching_AlCr_ox.json\")"
   ]
  },
  {
   "cell_type": "code",
   "execution_count": 5,
   "id": "707481d0",
   "metadata": {},
   "outputs": [],
   "source": [
    "from ase.filters import FrechetCellFilter\n",
    "from fairchem.core import pretrained_mlip, FAIRChemCalculator\n",
    "from ase.optimize import LBFGS\n",
    "from pymatgen.io.ase import AseAtomsAdaptor\n",
    "\n",
    "\n",
    "predictor = pretrained_mlip.get_predict_unit(\"uma-m-1p1\", device=\"cuda\")\n",
    "calc = FAIRChemCalculator(predictor, task_name=\"omat\") # use \"omat\" - inorganic materials"
   ]
  },
  {
   "cell_type": "code",
   "execution_count": 7,
   "id": "3a6f69a8-b85a-4a2e-be61-26e2ab9524e6",
   "metadata": {},
   "outputs": [],
   "source": [
    "matching_pairs = loadfn('../data/cr_above_hull_calculations/matching_AlCr_ox.json')"
   ]
  },
  {
   "cell_type": "code",
   "execution_count": null,
   "id": "743a3809",
   "metadata": {
    "scrolled": true
   },
   "outputs": [
    {
     "name": "stdout",
     "output_type": "stream",
     "text": [
      "       Step     Time          Energy          fmax\n",
      "LBFGS:    0 15:12:04     -380.434081        0.808930\n",
      "LBFGS:    1 15:12:04     -380.590289        0.524302\n"
     ]
    },
    {
     "name": "stderr",
     "output_type": "stream",
     "text": [
      "/home/atshaam/miniconda3/envs/project_env/lib/python3.11/site-packages/scipy/_lib/_util.py:1226: RuntimeWarning: logm result may be inaccurate, approximate err = 4.69990840829602e-13\n",
      "  return f(*arrays, *other_args, **kwargs)\n"
     ]
    },
    {
     "name": "stdout",
     "output_type": "stream",
     "text": [
      "LBFGS:    2 15:12:05     -380.685107        0.379666\n"
     ]
    },
    {
     "name": "stderr",
     "output_type": "stream",
     "text": [
      "/home/atshaam/miniconda3/envs/project_env/lib/python3.11/site-packages/scipy/_lib/_util.py:1226: RuntimeWarning: logm result may be inaccurate, approximate err = 4.664084446007361e-13\n",
      "  return f(*arrays, *other_args, **kwargs)\n"
     ]
    },
    {
     "name": "stdout",
     "output_type": "stream",
     "text": [
      "LBFGS:    3 15:12:05     -380.725901        0.335460\n"
     ]
    },
    {
     "name": "stderr",
     "output_type": "stream",
     "text": [
      "/home/atshaam/miniconda3/envs/project_env/lib/python3.11/site-packages/scipy/_lib/_util.py:1226: RuntimeWarning: logm result may be inaccurate, approximate err = 4.664055854123383e-13\n",
      "  return f(*arrays, *other_args, **kwargs)\n"
     ]
    },
    {
     "name": "stdout",
     "output_type": "stream",
     "text": [
      "LBFGS:    4 15:12:06     -380.755026        0.294177\n"
     ]
    },
    {
     "name": "stderr",
     "output_type": "stream",
     "text": [
      "/home/atshaam/miniconda3/envs/project_env/lib/python3.11/site-packages/scipy/_lib/_util.py:1226: RuntimeWarning: logm result may be inaccurate, approximate err = 4.715648363431096e-13\n",
      "  return f(*arrays, *other_args, **kwargs)\n"
     ]
    },
    {
     "name": "stdout",
     "output_type": "stream",
     "text": [
      "LBFGS:    5 15:12:06     -380.778326        0.275425\n"
     ]
    },
    {
     "name": "stderr",
     "output_type": "stream",
     "text": [
      "/home/atshaam/miniconda3/envs/project_env/lib/python3.11/site-packages/scipy/_lib/_util.py:1226: RuntimeWarning: logm result may be inaccurate, approximate err = 4.709591195532775e-13\n",
      "  return f(*arrays, *other_args, **kwargs)\n"
     ]
    },
    {
     "name": "stdout",
     "output_type": "stream",
     "text": [
      "LBFGS:    6 15:12:07     -380.796622        0.261814\n"
     ]
    },
    {
     "name": "stderr",
     "output_type": "stream",
     "text": [
      "/home/atshaam/miniconda3/envs/project_env/lib/python3.11/site-packages/scipy/_lib/_util.py:1226: RuntimeWarning: logm result may be inaccurate, approximate err = 4.654124327433569e-13\n",
      "  return f(*arrays, *other_args, **kwargs)\n"
     ]
    },
    {
     "name": "stdout",
     "output_type": "stream",
     "text": [
      "LBFGS:    7 15:12:07     -380.817931        0.245288\n"
     ]
    },
    {
     "name": "stderr",
     "output_type": "stream",
     "text": [
      "/home/atshaam/miniconda3/envs/project_env/lib/python3.11/site-packages/scipy/_lib/_util.py:1226: RuntimeWarning: logm result may be inaccurate, approximate err = 4.663856213303677e-13\n",
      "  return f(*arrays, *other_args, **kwargs)\n"
     ]
    },
    {
     "name": "stdout",
     "output_type": "stream",
     "text": [
      "LBFGS:    8 15:12:08     -380.838690        0.218169\n"
     ]
    },
    {
     "name": "stderr",
     "output_type": "stream",
     "text": [
      "/home/atshaam/miniconda3/envs/project_env/lib/python3.11/site-packages/scipy/_lib/_util.py:1226: RuntimeWarning: logm result may be inaccurate, approximate err = 4.787380241428361e-13\n",
      "  return f(*arrays, *other_args, **kwargs)\n"
     ]
    },
    {
     "name": "stdout",
     "output_type": "stream",
     "text": [
      "LBFGS:    9 15:12:08     -380.854308        0.191678\n"
     ]
    },
    {
     "name": "stderr",
     "output_type": "stream",
     "text": [
      "/home/atshaam/miniconda3/envs/project_env/lib/python3.11/site-packages/scipy/_lib/_util.py:1226: RuntimeWarning: logm result may be inaccurate, approximate err = 4.751594572254042e-13\n",
      "  return f(*arrays, *other_args, **kwargs)\n"
     ]
    },
    {
     "name": "stdout",
     "output_type": "stream",
     "text": [
      "LBFGS:   10 15:12:09     -380.866446        0.170785\n"
     ]
    },
    {
     "name": "stderr",
     "output_type": "stream",
     "text": [
      "/home/atshaam/miniconda3/envs/project_env/lib/python3.11/site-packages/scipy/_lib/_util.py:1226: RuntimeWarning: logm result may be inaccurate, approximate err = 4.750466465858505e-13\n",
      "  return f(*arrays, *other_args, **kwargs)\n"
     ]
    },
    {
     "name": "stdout",
     "output_type": "stream",
     "text": [
      "LBFGS:   11 15:12:09     -380.881094        0.178887\n"
     ]
    },
    {
     "name": "stderr",
     "output_type": "stream",
     "text": [
      "/home/atshaam/miniconda3/envs/project_env/lib/python3.11/site-packages/scipy/_lib/_util.py:1226: RuntimeWarning: logm result may be inaccurate, approximate err = 4.726783303286557e-13\n",
      "  return f(*arrays, *other_args, **kwargs)\n"
     ]
    },
    {
     "name": "stdout",
     "output_type": "stream",
     "text": [
      "LBFGS:   12 15:12:10     -380.901823        0.248964\n"
     ]
    },
    {
     "name": "stderr",
     "output_type": "stream",
     "text": [
      "/home/atshaam/miniconda3/envs/project_env/lib/python3.11/site-packages/scipy/_lib/_util.py:1226: RuntimeWarning: logm result may be inaccurate, approximate err = 4.787919492732139e-13\n",
      "  return f(*arrays, *other_args, **kwargs)\n"
     ]
    },
    {
     "name": "stdout",
     "output_type": "stream",
     "text": [
      "LBFGS:   13 15:12:10     -380.926131        0.256168\n"
     ]
    },
    {
     "name": "stderr",
     "output_type": "stream",
     "text": [
      "/home/atshaam/miniconda3/envs/project_env/lib/python3.11/site-packages/scipy/_lib/_util.py:1226: RuntimeWarning: logm result may be inaccurate, approximate err = 4.721111788456235e-13\n",
      "  return f(*arrays, *other_args, **kwargs)\n"
     ]
    },
    {
     "name": "stdout",
     "output_type": "stream",
     "text": [
      "LBFGS:   14 15:12:11     -380.946440        0.236704\n"
     ]
    },
    {
     "name": "stderr",
     "output_type": "stream",
     "text": [
      "/home/atshaam/miniconda3/envs/project_env/lib/python3.11/site-packages/scipy/_lib/_util.py:1226: RuntimeWarning: logm result may be inaccurate, approximate err = 4.742664106252788e-13\n",
      "  return f(*arrays, *other_args, **kwargs)\n"
     ]
    },
    {
     "name": "stdout",
     "output_type": "stream",
     "text": [
      "LBFGS:   15 15:12:11     -380.960680        0.175086\n"
     ]
    },
    {
     "name": "stderr",
     "output_type": "stream",
     "text": [
      "/home/atshaam/miniconda3/envs/project_env/lib/python3.11/site-packages/scipy/_lib/_util.py:1226: RuntimeWarning: logm result may be inaccurate, approximate err = 4.775154550010762e-13\n",
      "  return f(*arrays, *other_args, **kwargs)\n"
     ]
    },
    {
     "name": "stdout",
     "output_type": "stream",
     "text": [
      "LBFGS:   16 15:12:12     -380.973139        0.207446\n"
     ]
    },
    {
     "name": "stderr",
     "output_type": "stream",
     "text": [
      "/home/atshaam/miniconda3/envs/project_env/lib/python3.11/site-packages/scipy/_lib/_util.py:1226: RuntimeWarning: logm result may be inaccurate, approximate err = 4.846481305965761e-13\n",
      "  return f(*arrays, *other_args, **kwargs)\n"
     ]
    },
    {
     "name": "stdout",
     "output_type": "stream",
     "text": [
      "LBFGS:   17 15:12:12     -380.987200        0.188288\n"
     ]
    },
    {
     "name": "stderr",
     "output_type": "stream",
     "text": [
      "/home/atshaam/miniconda3/envs/project_env/lib/python3.11/site-packages/scipy/_lib/_util.py:1226: RuntimeWarning: logm result may be inaccurate, approximate err = 4.794618354288917e-13\n",
      "  return f(*arrays, *other_args, **kwargs)\n"
     ]
    },
    {
     "name": "stdout",
     "output_type": "stream",
     "text": [
      "LBFGS:   18 15:12:13     -380.999117        0.148088\n"
     ]
    },
    {
     "name": "stderr",
     "output_type": "stream",
     "text": [
      "/home/atshaam/miniconda3/envs/project_env/lib/python3.11/site-packages/scipy/_lib/_util.py:1226: RuntimeWarning: logm result may be inaccurate, approximate err = 4.804708272428274e-13\n",
      "  return f(*arrays, *other_args, **kwargs)\n"
     ]
    },
    {
     "name": "stdout",
     "output_type": "stream",
     "text": [
      "LBFGS:   19 15:12:14     -381.005820        0.121468\n"
     ]
    },
    {
     "name": "stderr",
     "output_type": "stream",
     "text": [
      "/home/atshaam/miniconda3/envs/project_env/lib/python3.11/site-packages/scipy/_lib/_util.py:1226: RuntimeWarning: logm result may be inaccurate, approximate err = 4.795132706490735e-13\n",
      "  return f(*arrays, *other_args, **kwargs)\n"
     ]
    },
    {
     "name": "stdout",
     "output_type": "stream",
     "text": [
      "LBFGS:   20 15:12:14     -381.009913        0.110414\n"
     ]
    },
    {
     "name": "stderr",
     "output_type": "stream",
     "text": [
      "/home/atshaam/miniconda3/envs/project_env/lib/python3.11/site-packages/scipy/_lib/_util.py:1226: RuntimeWarning: logm result may be inaccurate, approximate err = 4.815805095287261e-13\n",
      "  return f(*arrays, *other_args, **kwargs)\n"
     ]
    },
    {
     "name": "stdout",
     "output_type": "stream",
     "text": [
      "LBFGS:   21 15:12:15     -381.014407        0.105707\n"
     ]
    },
    {
     "name": "stderr",
     "output_type": "stream",
     "text": [
      "/home/atshaam/miniconda3/envs/project_env/lib/python3.11/site-packages/scipy/_lib/_util.py:1226: RuntimeWarning: logm result may be inaccurate, approximate err = 4.845650865477743e-13\n",
      "  return f(*arrays, *other_args, **kwargs)\n"
     ]
    },
    {
     "name": "stdout",
     "output_type": "stream",
     "text": [
      "LBFGS:   22 15:12:15     -381.020983        0.117033\n"
     ]
    },
    {
     "name": "stderr",
     "output_type": "stream",
     "text": [
      "/home/atshaam/miniconda3/envs/project_env/lib/python3.11/site-packages/scipy/_lib/_util.py:1226: RuntimeWarning: logm result may be inaccurate, approximate err = 4.827870922106832e-13\n",
      "  return f(*arrays, *other_args, **kwargs)\n"
     ]
    },
    {
     "name": "stdout",
     "output_type": "stream",
     "text": [
      "LBFGS:   23 15:12:16     -381.029089        0.135954\n"
     ]
    },
    {
     "name": "stderr",
     "output_type": "stream",
     "text": [
      "/home/atshaam/miniconda3/envs/project_env/lib/python3.11/site-packages/scipy/_lib/_util.py:1226: RuntimeWarning: logm result may be inaccurate, approximate err = 4.850659184193973e-13\n",
      "  return f(*arrays, *other_args, **kwargs)\n"
     ]
    },
    {
     "name": "stdout",
     "output_type": "stream",
     "text": [
      "LBFGS:   24 15:12:16     -381.036879        0.111417\n"
     ]
    },
    {
     "name": "stderr",
     "output_type": "stream",
     "text": [
      "/home/atshaam/miniconda3/envs/project_env/lib/python3.11/site-packages/scipy/_lib/_util.py:1226: RuntimeWarning: logm result may be inaccurate, approximate err = 4.835640270289995e-13\n",
      "  return f(*arrays, *other_args, **kwargs)\n"
     ]
    },
    {
     "name": "stdout",
     "output_type": "stream",
     "text": [
      "LBFGS:   25 15:12:17     -381.041949        0.101946\n"
     ]
    },
    {
     "name": "stderr",
     "output_type": "stream",
     "text": [
      "/home/atshaam/miniconda3/envs/project_env/lib/python3.11/site-packages/scipy/_lib/_util.py:1226: RuntimeWarning: logm result may be inaccurate, approximate err = 4.814415424031314e-13\n",
      "  return f(*arrays, *other_args, **kwargs)\n"
     ]
    },
    {
     "name": "stdout",
     "output_type": "stream",
     "text": [
      "LBFGS:   26 15:12:17     -381.044920        0.106668\n"
     ]
    },
    {
     "name": "stderr",
     "output_type": "stream",
     "text": [
      "/home/atshaam/miniconda3/envs/project_env/lib/python3.11/site-packages/scipy/_lib/_util.py:1226: RuntimeWarning: logm result may be inaccurate, approximate err = 4.835047943875096e-13\n",
      "  return f(*arrays, *other_args, **kwargs)\n"
     ]
    },
    {
     "name": "stdout",
     "output_type": "stream",
     "text": [
      "LBFGS:   27 15:12:18     -381.047449        0.088259\n"
     ]
    },
    {
     "name": "stderr",
     "output_type": "stream",
     "text": [
      "/home/atshaam/miniconda3/envs/project_env/lib/python3.11/site-packages/scipy/_lib/_util.py:1226: RuntimeWarning: logm result may be inaccurate, approximate err = 4.863032964586032e-13\n",
      "  return f(*arrays, *other_args, **kwargs)\n"
     ]
    },
    {
     "name": "stdout",
     "output_type": "stream",
     "text": [
      "LBFGS:   28 15:12:18     -381.050497        0.074032\n"
     ]
    },
    {
     "name": "stderr",
     "output_type": "stream",
     "text": [
      "/home/atshaam/miniconda3/envs/project_env/lib/python3.11/site-packages/scipy/_lib/_util.py:1226: RuntimeWarning: logm result may be inaccurate, approximate err = 4.843472650519631e-13\n",
      "  return f(*arrays, *other_args, **kwargs)\n"
     ]
    },
    {
     "name": "stdout",
     "output_type": "stream",
     "text": [
      "LBFGS:   29 15:12:19     -381.053435        0.070521\n"
     ]
    },
    {
     "name": "stderr",
     "output_type": "stream",
     "text": [
      "/home/atshaam/miniconda3/envs/project_env/lib/python3.11/site-packages/scipy/_lib/_util.py:1226: RuntimeWarning: logm result may be inaccurate, approximate err = 4.873380651597713e-13\n",
      "  return f(*arrays, *other_args, **kwargs)\n"
     ]
    },
    {
     "name": "stdout",
     "output_type": "stream",
     "text": [
      "LBFGS:   30 15:12:19     -381.055369        0.059921\n"
     ]
    },
    {
     "name": "stderr",
     "output_type": "stream",
     "text": [
      "/home/atshaam/miniconda3/envs/project_env/lib/python3.11/site-packages/scipy/_lib/_util.py:1226: RuntimeWarning: logm result may be inaccurate, approximate err = 4.85502054789882e-13\n",
      "  return f(*arrays, *other_args, **kwargs)\n"
     ]
    },
    {
     "name": "stdout",
     "output_type": "stream",
     "text": [
      "LBFGS:   31 15:12:20     -381.056879        0.074276\n"
     ]
    },
    {
     "name": "stderr",
     "output_type": "stream",
     "text": [
      "/home/atshaam/miniconda3/envs/project_env/lib/python3.11/site-packages/scipy/_lib/_util.py:1226: RuntimeWarning: logm result may be inaccurate, approximate err = 4.855339086170324e-13\n",
      "  return f(*arrays, *other_args, **kwargs)\n"
     ]
    },
    {
     "name": "stdout",
     "output_type": "stream",
     "text": [
      "LBFGS:   32 15:12:20     -381.058348        0.065562\n"
     ]
    },
    {
     "name": "stderr",
     "output_type": "stream",
     "text": [
      "/home/atshaam/miniconda3/envs/project_env/lib/python3.11/site-packages/scipy/_lib/_util.py:1226: RuntimeWarning: logm result may be inaccurate, approximate err = 4.906681923227612e-13\n",
      "  return f(*arrays, *other_args, **kwargs)\n"
     ]
    },
    {
     "name": "stdout",
     "output_type": "stream",
     "text": [
      "LBFGS:   33 15:12:21     -381.059893        0.062934\n"
     ]
    },
    {
     "name": "stderr",
     "output_type": "stream",
     "text": [
      "/home/atshaam/miniconda3/envs/project_env/lib/python3.11/site-packages/scipy/_lib/_util.py:1226: RuntimeWarning: logm result may be inaccurate, approximate err = 4.824735231878541e-13\n",
      "  return f(*arrays, *other_args, **kwargs)\n"
     ]
    },
    {
     "name": "stdout",
     "output_type": "stream",
     "text": [
      "LBFGS:   34 15:12:21     -381.061083        0.035522\n"
     ]
    },
    {
     "name": "stderr",
     "output_type": "stream",
     "text": [
      "/home/atshaam/miniconda3/envs/project_env/lib/python3.11/site-packages/scipy/_lib/_util.py:1226: RuntimeWarning: logm result may be inaccurate, approximate err = 4.89901777843881e-13\n",
      "  return f(*arrays, *other_args, **kwargs)\n"
     ]
    },
    {
     "name": "stdout",
     "output_type": "stream",
     "text": [
      "LBFGS:   35 15:12:22     -381.061865        0.038301\n"
     ]
    },
    {
     "name": "stderr",
     "output_type": "stream",
     "text": [
      "/home/atshaam/miniconda3/envs/project_env/lib/python3.11/site-packages/scipy/_lib/_util.py:1226: RuntimeWarning: logm result may be inaccurate, approximate err = 4.893078178127387e-13\n",
      "  return f(*arrays, *other_args, **kwargs)\n"
     ]
    },
    {
     "name": "stdout",
     "output_type": "stream",
     "text": [
      "LBFGS:   36 15:12:22     -381.062685        0.042732\n"
     ]
    },
    {
     "name": "stderr",
     "output_type": "stream",
     "text": [
      "/home/atshaam/miniconda3/envs/project_env/lib/python3.11/site-packages/scipy/_lib/_util.py:1226: RuntimeWarning: logm result may be inaccurate, approximate err = 4.831780013859125e-13\n",
      "  return f(*arrays, *other_args, **kwargs)\n"
     ]
    },
    {
     "name": "stdout",
     "output_type": "stream",
     "text": [
      "LBFGS:   37 15:12:23     -381.063708        0.050355\n"
     ]
    },
    {
     "name": "stderr",
     "output_type": "stream",
     "text": [
      "/home/atshaam/miniconda3/envs/project_env/lib/python3.11/site-packages/scipy/_lib/_util.py:1226: RuntimeWarning: logm result may be inaccurate, approximate err = 4.889316037938504e-13\n",
      "  return f(*arrays, *other_args, **kwargs)\n"
     ]
    },
    {
     "name": "stdout",
     "output_type": "stream",
     "text": [
      "LBFGS:   38 15:12:23     -381.064688        0.041222\n"
     ]
    },
    {
     "name": "stderr",
     "output_type": "stream",
     "text": [
      "/home/atshaam/miniconda3/envs/project_env/lib/python3.11/site-packages/scipy/_lib/_util.py:1226: RuntimeWarning: logm result may be inaccurate, approximate err = 4.906085217069145e-13\n",
      "  return f(*arrays, *other_args, **kwargs)\n"
     ]
    },
    {
     "name": "stdout",
     "output_type": "stream",
     "text": [
      "LBFGS:   39 15:12:24     -381.065279        0.026842\n"
     ]
    },
    {
     "name": "stderr",
     "output_type": "stream",
     "text": [
      "/home/atshaam/miniconda3/envs/project_env/lib/python3.11/site-packages/scipy/_lib/_util.py:1226: RuntimeWarning: logm result may be inaccurate, approximate err = 4.861576128318019e-13\n",
      "  return f(*arrays, *other_args, **kwargs)\n"
     ]
    },
    {
     "name": "stdout",
     "output_type": "stream",
     "text": [
      "LBFGS:   40 15:12:24     -381.065619        0.021747\n"
     ]
    },
    {
     "name": "stderr",
     "output_type": "stream",
     "text": [
      "/home/atshaam/miniconda3/envs/project_env/lib/python3.11/site-packages/scipy/_lib/_util.py:1226: RuntimeWarning: logm result may be inaccurate, approximate err = 4.835648911467859e-13\n",
      "  return f(*arrays, *other_args, **kwargs)\n"
     ]
    },
    {
     "name": "stdout",
     "output_type": "stream",
     "text": [
      "LBFGS:   41 15:12:25     -381.065939        0.024581\n"
     ]
    },
    {
     "name": "stderr",
     "output_type": "stream",
     "text": [
      "/home/atshaam/miniconda3/envs/project_env/lib/python3.11/site-packages/scipy/_lib/_util.py:1226: RuntimeWarning: logm result may be inaccurate, approximate err = 4.871601779627782e-13\n",
      "  return f(*arrays, *other_args, **kwargs)\n"
     ]
    },
    {
     "name": "stdout",
     "output_type": "stream",
     "text": [
      "LBFGS:   42 15:12:25     -381.066229        0.025416\n"
     ]
    },
    {
     "name": "stderr",
     "output_type": "stream",
     "text": [
      "/home/atshaam/miniconda3/envs/project_env/lib/python3.11/site-packages/scipy/_lib/_util.py:1226: RuntimeWarning: logm result may be inaccurate, approximate err = 4.833901699692092e-13\n",
      "  return f(*arrays, *other_args, **kwargs)\n"
     ]
    },
    {
     "name": "stdout",
     "output_type": "stream",
     "text": [
      "LBFGS:   43 15:12:26     -381.066428        0.019006\n"
     ]
    },
    {
     "name": "stderr",
     "output_type": "stream",
     "text": [
      "/home/atshaam/miniconda3/envs/project_env/lib/python3.11/site-packages/scipy/_lib/_util.py:1226: RuntimeWarning: logm result may be inaccurate, approximate err = 4.86032975227823e-13\n",
      "  return f(*arrays, *other_args, **kwargs)\n"
     ]
    },
    {
     "name": "stdout",
     "output_type": "stream",
     "text": [
      "LBFGS:   44 15:12:26     -381.066557        0.016989\n"
     ]
    },
    {
     "name": "stderr",
     "output_type": "stream",
     "text": [
      "/home/atshaam/miniconda3/envs/project_env/lib/python3.11/site-packages/scipy/_lib/_util.py:1226: RuntimeWarning: logm result may be inaccurate, approximate err = 4.908191494990104e-13\n",
      "  return f(*arrays, *other_args, **kwargs)\n"
     ]
    },
    {
     "name": "stdout",
     "output_type": "stream",
     "text": [
      "LBFGS:   45 15:12:27     -381.066721        0.017554\n"
     ]
    },
    {
     "name": "stderr",
     "output_type": "stream",
     "text": [
      "/home/atshaam/miniconda3/envs/project_env/lib/python3.11/site-packages/scipy/_lib/_util.py:1226: RuntimeWarning: logm result may be inaccurate, approximate err = 4.879035579133778e-13\n",
      "  return f(*arrays, *other_args, **kwargs)\n"
     ]
    },
    {
     "name": "stdout",
     "output_type": "stream",
     "text": [
      "LBFGS:   46 15:12:27     -381.066908        0.018250\n"
     ]
    },
    {
     "name": "stderr",
     "output_type": "stream",
     "text": [
      "/home/atshaam/miniconda3/envs/project_env/lib/python3.11/site-packages/scipy/_lib/_util.py:1226: RuntimeWarning: logm result may be inaccurate, approximate err = 4.90202142706815e-13\n",
      "  return f(*arrays, *other_args, **kwargs)\n"
     ]
    },
    {
     "name": "stdout",
     "output_type": "stream",
     "text": [
      "LBFGS:   47 15:12:28     -381.067049        0.017480\n"
     ]
    },
    {
     "name": "stderr",
     "output_type": "stream",
     "text": [
      "/home/atshaam/miniconda3/envs/project_env/lib/python3.11/site-packages/scipy/_lib/_util.py:1226: RuntimeWarning: logm result may be inaccurate, approximate err = 4.846424267051673e-13\n",
      "  return f(*arrays, *other_args, **kwargs)\n"
     ]
    },
    {
     "name": "stdout",
     "output_type": "stream",
     "text": [
      "LBFGS:   48 15:12:28     -381.067145        0.017816\n"
     ]
    },
    {
     "name": "stderr",
     "output_type": "stream",
     "text": [
      "/home/atshaam/miniconda3/envs/project_env/lib/python3.11/site-packages/scipy/_lib/_util.py:1226: RuntimeWarning: logm result may be inaccurate, approximate err = 4.885449720732387e-13\n",
      "  return f(*arrays, *other_args, **kwargs)\n"
     ]
    },
    {
     "name": "stdout",
     "output_type": "stream",
     "text": [
      "LBFGS:   49 15:12:29     -381.067271        0.018344\n"
     ]
    },
    {
     "name": "stderr",
     "output_type": "stream",
     "text": [
      "/home/atshaam/miniconda3/envs/project_env/lib/python3.11/site-packages/scipy/_lib/_util.py:1226: RuntimeWarning: logm result may be inaccurate, approximate err = 4.881394702949154e-13\n",
      "  return f(*arrays, *other_args, **kwargs)\n"
     ]
    },
    {
     "name": "stdout",
     "output_type": "stream",
     "text": [
      "LBFGS:   50 15:12:29     -381.067400        0.018271\n"
     ]
    },
    {
     "name": "stderr",
     "output_type": "stream",
     "text": [
      "/home/atshaam/miniconda3/envs/project_env/lib/python3.11/site-packages/scipy/_lib/_util.py:1226: RuntimeWarning: logm result may be inaccurate, approximate err = 4.810868330973891e-13\n",
      "  return f(*arrays, *other_args, **kwargs)\n"
     ]
    },
    {
     "name": "stdout",
     "output_type": "stream",
     "text": [
      "LBFGS:   51 15:12:30     -381.067572        0.019290\n"
     ]
    },
    {
     "name": "stderr",
     "output_type": "stream",
     "text": [
      "/home/atshaam/miniconda3/envs/project_env/lib/python3.11/site-packages/scipy/_lib/_util.py:1226: RuntimeWarning: logm result may be inaccurate, approximate err = 4.832352977767219e-13\n",
      "  return f(*arrays, *other_args, **kwargs)\n"
     ]
    },
    {
     "name": "stdout",
     "output_type": "stream",
     "text": [
      "LBFGS:   52 15:12:30     -381.067736        0.016279\n"
     ]
    },
    {
     "name": "stderr",
     "output_type": "stream",
     "text": [
      "/home/atshaam/miniconda3/envs/project_env/lib/python3.11/site-packages/scipy/_lib/_util.py:1226: RuntimeWarning: logm result may be inaccurate, approximate err = 4.917846136576444e-13\n",
      "  return f(*arrays, *other_args, **kwargs)\n"
     ]
    },
    {
     "name": "stdout",
     "output_type": "stream",
     "text": [
      "LBFGS:   53 15:12:31     -381.067912        0.017401\n"
     ]
    },
    {
     "name": "stderr",
     "output_type": "stream",
     "text": [
      "/home/atshaam/miniconda3/envs/project_env/lib/python3.11/site-packages/scipy/_lib/_util.py:1226: RuntimeWarning: logm result may be inaccurate, approximate err = 4.891939983372748e-13\n",
      "  return f(*arrays, *other_args, **kwargs)\n"
     ]
    },
    {
     "name": "stdout",
     "output_type": "stream",
     "text": [
      "LBFGS:   54 15:12:32     -381.068076        0.018394\n"
     ]
    },
    {
     "name": "stderr",
     "output_type": "stream",
     "text": [
      "/home/atshaam/miniconda3/envs/project_env/lib/python3.11/site-packages/scipy/_lib/_util.py:1226: RuntimeWarning: logm result may be inaccurate, approximate err = 4.90737117957852e-13\n",
      "  return f(*arrays, *other_args, **kwargs)\n"
     ]
    },
    {
     "name": "stdout",
     "output_type": "stream",
     "text": [
      "LBFGS:   55 15:12:32     -381.068205        0.017642\n"
     ]
    },
    {
     "name": "stderr",
     "output_type": "stream",
     "text": [
      "/home/atshaam/miniconda3/envs/project_env/lib/python3.11/site-packages/scipy/_lib/_util.py:1226: RuntimeWarning: logm result may be inaccurate, approximate err = 4.870055305862685e-13\n",
      "  return f(*arrays, *other_args, **kwargs)\n"
     ]
    },
    {
     "name": "stdout",
     "output_type": "stream",
     "text": [
      "LBFGS:   56 15:12:33     -381.068308        0.013919\n"
     ]
    },
    {
     "name": "stderr",
     "output_type": "stream",
     "text": [
      "/home/atshaam/miniconda3/envs/project_env/lib/python3.11/site-packages/scipy/_lib/_util.py:1226: RuntimeWarning: logm result may be inaccurate, approximate err = 4.872429734533385e-13\n",
      "  return f(*arrays, *other_args, **kwargs)\n"
     ]
    },
    {
     "name": "stdout",
     "output_type": "stream",
     "text": [
      "LBFGS:   57 15:12:33     -381.068388        0.013407\n"
     ]
    },
    {
     "name": "stderr",
     "output_type": "stream",
     "text": [
      "/home/atshaam/miniconda3/envs/project_env/lib/python3.11/site-packages/scipy/_lib/_util.py:1226: RuntimeWarning: logm result may be inaccurate, approximate err = 4.860857926803938e-13\n",
      "  return f(*arrays, *other_args, **kwargs)\n"
     ]
    },
    {
     "name": "stdout",
     "output_type": "stream",
     "text": [
      "LBFGS:   58 15:12:34     -381.068499        0.017332\n"
     ]
    },
    {
     "name": "stderr",
     "output_type": "stream",
     "text": [
      "/home/atshaam/miniconda3/envs/project_env/lib/python3.11/site-packages/scipy/_lib/_util.py:1226: RuntimeWarning: logm result may be inaccurate, approximate err = 4.935916301293281e-13\n",
      "  return f(*arrays, *other_args, **kwargs)\n"
     ]
    },
    {
     "name": "stdout",
     "output_type": "stream",
     "text": [
      "LBFGS:   59 15:12:34     -381.068613        0.016054\n"
     ]
    },
    {
     "name": "stderr",
     "output_type": "stream",
     "text": [
      "/home/atshaam/miniconda3/envs/project_env/lib/python3.11/site-packages/scipy/_lib/_util.py:1226: RuntimeWarning: logm result may be inaccurate, approximate err = 4.910623177282073e-13\n",
      "  return f(*arrays, *other_args, **kwargs)\n"
     ]
    },
    {
     "name": "stdout",
     "output_type": "stream",
     "text": [
      "LBFGS:   60 15:12:35     -381.068705        0.010510\n"
     ]
    },
    {
     "name": "stderr",
     "output_type": "stream",
     "text": [
      "/home/atshaam/miniconda3/envs/project_env/lib/python3.11/site-packages/scipy/_lib/_util.py:1226: RuntimeWarning: logm result may be inaccurate, approximate err = 4.891053089472591e-13\n",
      "  return f(*arrays, *other_args, **kwargs)\n"
     ]
    },
    {
     "name": "stdout",
     "output_type": "stream",
     "text": [
      "LBFGS:   61 15:12:35     -381.068777        0.010285\n"
     ]
    },
    {
     "name": "stderr",
     "output_type": "stream",
     "text": [
      "/home/atshaam/miniconda3/envs/project_env/lib/python3.11/site-packages/scipy/_lib/_util.py:1226: RuntimeWarning: logm result may be inaccurate, approximate err = 4.901473058968736e-13\n",
      "  return f(*arrays, *other_args, **kwargs)\n"
     ]
    },
    {
     "name": "stdout",
     "output_type": "stream",
     "text": [
      "LBFGS:   62 15:12:36     -381.068835        0.011060\n"
     ]
    },
    {
     "name": "stderr",
     "output_type": "stream",
     "text": [
      "/home/atshaam/miniconda3/envs/project_env/lib/python3.11/site-packages/scipy/_lib/_util.py:1226: RuntimeWarning: logm result may be inaccurate, approximate err = 4.843104797594711e-13\n",
      "  return f(*arrays, *other_args, **kwargs)\n"
     ]
    },
    {
     "name": "stdout",
     "output_type": "stream",
     "text": [
      "LBFGS:   63 15:12:36     -381.068938        0.015281\n"
     ]
    },
    {
     "name": "stderr",
     "output_type": "stream",
     "text": [
      "/home/atshaam/miniconda3/envs/project_env/lib/python3.11/site-packages/scipy/_lib/_util.py:1226: RuntimeWarning: logm result may be inaccurate, approximate err = 4.877847028598501e-13\n",
      "  return f(*arrays, *other_args, **kwargs)\n"
     ]
    },
    {
     "name": "stdout",
     "output_type": "stream",
     "text": [
      "LBFGS:   64 15:12:37     -381.069064        0.017689\n"
     ]
    },
    {
     "name": "stderr",
     "output_type": "stream",
     "text": [
      "/home/atshaam/miniconda3/envs/project_env/lib/python3.11/site-packages/scipy/_lib/_util.py:1226: RuntimeWarning: logm result may be inaccurate, approximate err = 4.876596198543689e-13\n",
      "  return f(*arrays, *other_args, **kwargs)\n"
     ]
    },
    {
     "name": "stdout",
     "output_type": "stream",
     "text": [
      "LBFGS:   65 15:12:37     -381.069209        0.018999\n"
     ]
    },
    {
     "name": "stderr",
     "output_type": "stream",
     "text": [
      "/home/atshaam/miniconda3/envs/project_env/lib/python3.11/site-packages/scipy/_lib/_util.py:1226: RuntimeWarning: logm result may be inaccurate, approximate err = 4.932345193053159e-13\n",
      "  return f(*arrays, *other_args, **kwargs)\n"
     ]
    },
    {
     "name": "stdout",
     "output_type": "stream",
     "text": [
      "LBFGS:   66 15:12:38     -381.069327        0.015708\n"
     ]
    },
    {
     "name": "stderr",
     "output_type": "stream",
     "text": [
      "/home/atshaam/miniconda3/envs/project_env/lib/python3.11/site-packages/scipy/_lib/_util.py:1226: RuntimeWarning: logm result may be inaccurate, approximate err = 4.873758658822248e-13\n",
      "  return f(*arrays, *other_args, **kwargs)\n"
     ]
    },
    {
     "name": "stdout",
     "output_type": "stream",
     "text": [
      "LBFGS:   67 15:12:38     -381.069411        0.011905\n"
     ]
    },
    {
     "name": "stderr",
     "output_type": "stream",
     "text": [
      "/home/atshaam/miniconda3/envs/project_env/lib/python3.11/site-packages/scipy/_lib/_util.py:1226: RuntimeWarning: logm result may be inaccurate, approximate err = 4.882592655832419e-13\n",
      "  return f(*arrays, *other_args, **kwargs)\n"
     ]
    },
    {
     "name": "stdout",
     "output_type": "stream",
     "text": [
      "LBFGS:   68 15:12:39     -381.069464        0.007917\n",
      "       Step     Time          Energy          fmax\n",
      "LBFGS:    0 15:12:39      -26.444063        0.385960\n",
      "LBFGS:    1 15:12:40      -26.451408        0.316380\n",
      "LBFGS:    2 15:12:40      -26.463084        0.203187\n",
      "LBFGS:    3 15:12:41      -26.465172        0.219248\n",
      "LBFGS:    4 15:12:41      -26.470321        0.130696\n",
      "LBFGS:    5 15:12:41      -26.471067        0.041693\n",
      "LBFGS:    6 15:12:42      -26.471207        0.043588\n",
      "LBFGS:    7 15:12:42      -26.471284        0.045527\n",
      "LBFGS:    8 15:12:43      -26.471448        0.040148\n",
      "LBFGS:    9 15:12:43      -26.471589        0.030697\n",
      "LBFGS:   10 15:12:44      -26.471654        0.012480\n",
      "LBFGS:   11 15:12:44      -26.471663        0.001904\n",
      "       Step     Time          Energy          fmax\n",
      "LBFGS:    0 15:12:44      -35.136176        0.418706\n",
      "LBFGS:    1 15:12:45      -35.143677        0.370641\n",
      "LBFGS:    2 15:12:45      -35.164570        0.099606\n",
      "LBFGS:    3 15:12:46      -35.165521        0.092851\n",
      "LBFGS:    4 15:12:46      -35.169801        0.144368\n",
      "LBFGS:    5 15:12:46      -35.171764        0.139604\n",
      "LBFGS:    6 15:12:47      -35.173038        0.094889\n",
      "LBFGS:    7 15:12:47      -35.173705        0.090845\n",
      "LBFGS:    8 15:12:47      -35.174486        0.122192\n",
      "LBFGS:    9 15:12:48      -35.175404        0.141377\n",
      "LBFGS:   10 15:12:48      -35.176791        0.148437\n",
      "LBFGS:   11 15:12:49      -35.178543        0.136831\n",
      "LBFGS:   12 15:12:49      -35.180456        0.129871\n",
      "LBFGS:   13 15:12:49      -35.182441        0.170973\n",
      "LBFGS:   14 15:12:50      -35.184985        0.179329\n",
      "LBFGS:   15 15:12:50      -35.188718        0.241383\n",
      "LBFGS:   16 15:12:51      -35.193343        0.244457\n",
      "LBFGS:   17 15:12:51      -35.196826        0.123367\n",
      "LBFGS:   18 15:12:51      -35.197557        0.060659\n",
      "LBFGS:   19 15:12:52      -35.197711        0.051364\n",
      "LBFGS:   20 15:12:52      -35.197821        0.048298\n",
      "LBFGS:   21 15:12:53      -35.198084        0.053115\n",
      "LBFGS:   22 15:12:53      -35.198440        0.046264\n",
      "LBFGS:   23 15:12:53      -35.198712        0.024569\n",
      "LBFGS:   24 15:12:54      -35.198829        0.010793\n",
      "LBFGS:   25 15:12:54      -35.198842        0.001269\n",
      "       Step     Time          Energy          fmax\n",
      "LBFGS:    0 15:12:54     -158.581021        0.348285\n",
      "LBFGS:    1 15:12:55     -158.586770        0.339000\n",
      "LBFGS:    2 15:12:55     -158.683820        0.121179\n",
      "LBFGS:    3 15:12:56     -158.685677        0.108182\n",
      "LBFGS:    4 15:12:56     -158.690366        0.047786\n",
      "LBFGS:    5 15:12:56     -158.691064        0.039652\n",
      "LBFGS:    6 15:12:57     -158.691464        0.038731\n",
      "LBFGS:    7 15:12:57     -158.691823        0.043143\n",
      "LBFGS:    8 15:12:58     -158.692239        0.043687\n",
      "LBFGS:    9 15:12:58     -158.692590        0.039244\n",
      "LBFGS:   10 15:12:59     -158.692960        0.031795\n",
      "LBFGS:   11 15:12:59     -158.693490        0.043165\n",
      "LBFGS:   12 15:12:59     -158.694245        0.048818\n",
      "LBFGS:   13 15:13:00     -158.694959        0.039653\n",
      "LBFGS:   14 15:13:00     -158.695351        0.023079\n",
      "LBFGS:   15 15:13:01     -158.695504        0.019286\n",
      "LBFGS:   16 15:13:01     -158.695577        0.017763\n",
      "LBFGS:   17 15:13:01     -158.695680        0.017734\n",
      "LBFGS:   18 15:13:02     -158.695767        0.016968\n",
      "LBFGS:   19 15:13:02     -158.695851        0.018579\n",
      "LBFGS:   20 15:13:03     -158.695943        0.015902\n",
      "LBFGS:   21 15:13:03     -158.696004        0.013014\n",
      "LBFGS:   22 15:13:03     -158.696042        0.010132\n",
      "LBFGS:   23 15:13:04     -158.696065        0.009253\n",
      "       Step     Time          Energy          fmax\n",
      "LBFGS:    0 15:13:04      -44.921281        1.227525\n",
      "LBFGS:    1 15:13:05      -44.961410        1.102445\n",
      "LBFGS:    2 15:13:05      -45.041426        0.690927\n",
      "LBFGS:    3 15:13:05      -45.076887        0.588709\n",
      "LBFGS:    4 15:13:06      -45.112316        0.402378\n",
      "LBFGS:    5 15:13:06      -45.130455        0.484883\n",
      "LBFGS:    6 15:13:07      -45.145758        0.541376\n",
      "LBFGS:    7 15:13:07      -45.168577        0.571352\n",
      "LBFGS:    8 15:13:08      -45.196535        0.715731\n",
      "LBFGS:    9 15:13:08      -45.237584        0.789544\n",
      "LBFGS:   10 15:13:08      -45.271458        0.436355\n",
      "LBFGS:   11 15:13:09      -45.280154        0.246997\n",
      "LBFGS:   12 15:13:09      -45.285723        0.220163\n",
      "LBFGS:   13 15:13:10      -45.288693        0.167064\n",
      "LBFGS:   14 15:13:10      -45.290942        0.144177\n",
      "LBFGS:   15 15:13:10      -45.292825        0.130192\n",
      "LBFGS:   16 15:13:11      -45.294415        0.134715\n",
      "LBFGS:   17 15:13:11      -45.295082        0.064147\n",
      "LBFGS:   18 15:13:12      -45.295194        0.011751\n",
      "LBFGS:   19 15:13:12      -45.295201        0.001198\n",
      "       Step     Time          Energy          fmax\n",
      "LBFGS:    0 15:13:13     -311.060556        0.015607\n"
     ]
    },
    {
     "name": "stderr",
     "output_type": "stream",
     "text": [
      "/home/atshaam/miniconda3/envs/project_env/lib/python3.11/site-packages/scipy/_lib/_util.py:1226: RuntimeWarning: logm result may be inaccurate, approximate err = 3.284645283036464e-13\n",
      "  return f(*arrays, *other_args, **kwargs)\n"
     ]
    },
    {
     "name": "stdout",
     "output_type": "stream",
     "text": [
      "LBFGS:    1 15:13:13     -311.060594        0.014720\n"
     ]
    },
    {
     "name": "stderr",
     "output_type": "stream",
     "text": [
      "/home/atshaam/miniconda3/envs/project_env/lib/python3.11/site-packages/scipy/_lib/_util.py:1226: RuntimeWarning: logm result may be inaccurate, approximate err = 3.333085572089757e-13\n",
      "  return f(*arrays, *other_args, **kwargs)\n"
     ]
    },
    {
     "name": "stdout",
     "output_type": "stream",
     "text": [
      "LBFGS:    2 15:13:14     -311.060663        0.013446\n"
     ]
    },
    {
     "name": "stderr",
     "output_type": "stream",
     "text": [
      "/home/atshaam/miniconda3/envs/project_env/lib/python3.11/site-packages/scipy/_lib/_util.py:1226: RuntimeWarning: logm result may be inaccurate, approximate err = 3.32709727745159e-13\n",
      "  return f(*arrays, *other_args, **kwargs)\n"
     ]
    },
    {
     "name": "stdout",
     "output_type": "stream",
     "text": [
      "LBFGS:    3 15:13:14     -311.060701        0.012411\n"
     ]
    },
    {
     "name": "stderr",
     "output_type": "stream",
     "text": [
      "/home/atshaam/miniconda3/envs/project_env/lib/python3.11/site-packages/scipy/_lib/_util.py:1226: RuntimeWarning: logm result may be inaccurate, approximate err = 3.27807380232583e-13\n",
      "  return f(*arrays, *other_args, **kwargs)\n"
     ]
    },
    {
     "name": "stdout",
     "output_type": "stream",
     "text": [
      "LBFGS:    4 15:13:15     -311.060731        0.011651\n"
     ]
    },
    {
     "name": "stderr",
     "output_type": "stream",
     "text": [
      "/home/atshaam/miniconda3/envs/project_env/lib/python3.11/site-packages/scipy/_lib/_util.py:1226: RuntimeWarning: logm result may be inaccurate, approximate err = 3.3232152378700765e-13\n",
      "  return f(*arrays, *other_args, **kwargs)\n"
     ]
    },
    {
     "name": "stdout",
     "output_type": "stream",
     "text": [
      "LBFGS:    5 15:13:15     -311.060815        0.013972\n"
     ]
    },
    {
     "name": "stderr",
     "output_type": "stream",
     "text": [
      "/home/atshaam/miniconda3/envs/project_env/lib/python3.11/site-packages/scipy/_lib/_util.py:1226: RuntimeWarning: logm result may be inaccurate, approximate err = 3.331908348106395e-13\n",
      "  return f(*arrays, *other_args, **kwargs)\n"
     ]
    },
    {
     "name": "stdout",
     "output_type": "stream",
     "text": [
      "LBFGS:    6 15:13:16     -311.060918        0.022674\n"
     ]
    },
    {
     "name": "stderr",
     "output_type": "stream",
     "text": [
      "/home/atshaam/miniconda3/envs/project_env/lib/python3.11/site-packages/scipy/_lib/_util.py:1226: RuntimeWarning: logm result may be inaccurate, approximate err = 3.361580014953535e-13\n",
      "  return f(*arrays, *other_args, **kwargs)\n"
     ]
    },
    {
     "name": "stdout",
     "output_type": "stream",
     "text": [
      "LBFGS:    7 15:13:16     -311.061044        0.021903\n"
     ]
    },
    {
     "name": "stderr",
     "output_type": "stream",
     "text": [
      "/home/atshaam/miniconda3/envs/project_env/lib/python3.11/site-packages/scipy/_lib/_util.py:1226: RuntimeWarning: logm result may be inaccurate, approximate err = 3.316947057204651e-13\n",
      "  return f(*arrays, *other_args, **kwargs)\n"
     ]
    },
    {
     "name": "stdout",
     "output_type": "stream",
     "text": [
      "LBFGS:    8 15:13:17     -311.061147        0.016631\n"
     ]
    },
    {
     "name": "stderr",
     "output_type": "stream",
     "text": [
      "/home/atshaam/miniconda3/envs/project_env/lib/python3.11/site-packages/scipy/_lib/_util.py:1226: RuntimeWarning: logm result may be inaccurate, approximate err = 3.357215189805214e-13\n",
      "  return f(*arrays, *other_args, **kwargs)\n"
     ]
    },
    {
     "name": "stdout",
     "output_type": "stream",
     "text": [
      "LBFGS:    9 15:13:17     -311.061246        0.014283\n"
     ]
    },
    {
     "name": "stderr",
     "output_type": "stream",
     "text": [
      "/home/atshaam/miniconda3/envs/project_env/lib/python3.11/site-packages/scipy/_lib/_util.py:1226: RuntimeWarning: logm result may be inaccurate, approximate err = 3.3166804011461075e-13\n",
      "  return f(*arrays, *other_args, **kwargs)\n"
     ]
    },
    {
     "name": "stdout",
     "output_type": "stream",
     "text": [
      "LBFGS:   10 15:13:18     -311.061330        0.015192\n"
     ]
    },
    {
     "name": "stderr",
     "output_type": "stream",
     "text": [
      "/home/atshaam/miniconda3/envs/project_env/lib/python3.11/site-packages/scipy/_lib/_util.py:1226: RuntimeWarning: logm result may be inaccurate, approximate err = 3.3589905868785593e-13\n",
      "  return f(*arrays, *other_args, **kwargs)\n"
     ]
    },
    {
     "name": "stdout",
     "output_type": "stream",
     "text": [
      "LBFGS:   11 15:13:18     -311.061441        0.021210\n"
     ]
    },
    {
     "name": "stderr",
     "output_type": "stream",
     "text": [
      "/home/atshaam/miniconda3/envs/project_env/lib/python3.11/site-packages/scipy/_lib/_util.py:1226: RuntimeWarning: logm result may be inaccurate, approximate err = 3.308714860469769e-13\n",
      "  return f(*arrays, *other_args, **kwargs)\n"
     ]
    },
    {
     "name": "stdout",
     "output_type": "stream",
     "text": [
      "LBFGS:   12 15:13:19     -311.061529        0.017896\n"
     ]
    },
    {
     "name": "stderr",
     "output_type": "stream",
     "text": [
      "/home/atshaam/miniconda3/envs/project_env/lib/python3.11/site-packages/scipy/_lib/_util.py:1226: RuntimeWarning: logm result may be inaccurate, approximate err = 3.3290668953792847e-13\n",
      "  return f(*arrays, *other_args, **kwargs)\n"
     ]
    },
    {
     "name": "stdout",
     "output_type": "stream",
     "text": [
      "LBFGS:   13 15:13:19     -311.061597        0.014232\n"
     ]
    },
    {
     "name": "stderr",
     "output_type": "stream",
     "text": [
      "/home/atshaam/miniconda3/envs/project_env/lib/python3.11/site-packages/scipy/_lib/_util.py:1226: RuntimeWarning: logm result may be inaccurate, approximate err = 3.3419743566726434e-13\n",
      "  return f(*arrays, *other_args, **kwargs)\n"
     ]
    },
    {
     "name": "stdout",
     "output_type": "stream",
     "text": [
      "LBFGS:   14 15:13:20     -311.061689        0.014650\n"
     ]
    },
    {
     "name": "stderr",
     "output_type": "stream",
     "text": [
      "/home/atshaam/miniconda3/envs/project_env/lib/python3.11/site-packages/scipy/_lib/_util.py:1226: RuntimeWarning: logm result may be inaccurate, approximate err = 3.3238799371338924e-13\n",
      "  return f(*arrays, *other_args, **kwargs)\n"
     ]
    },
    {
     "name": "stdout",
     "output_type": "stream",
     "text": [
      "LBFGS:   15 15:13:20     -311.061765        0.014475\n"
     ]
    },
    {
     "name": "stderr",
     "output_type": "stream",
     "text": [
      "/home/atshaam/miniconda3/envs/project_env/lib/python3.11/site-packages/scipy/_lib/_util.py:1226: RuntimeWarning: logm result may be inaccurate, approximate err = 3.3413720675321837e-13\n",
      "  return f(*arrays, *other_args, **kwargs)\n"
     ]
    },
    {
     "name": "stdout",
     "output_type": "stream",
     "text": [
      "LBFGS:   16 15:13:21     -311.061822        0.011331\n"
     ]
    },
    {
     "name": "stderr",
     "output_type": "stream",
     "text": [
      "/home/atshaam/miniconda3/envs/project_env/lib/python3.11/site-packages/scipy/_lib/_util.py:1226: RuntimeWarning: logm result may be inaccurate, approximate err = 3.3715792837494523e-13\n",
      "  return f(*arrays, *other_args, **kwargs)\n"
     ]
    },
    {
     "name": "stdout",
     "output_type": "stream",
     "text": [
      "LBFGS:   17 15:13:21     -311.061868        0.011547\n"
     ]
    },
    {
     "name": "stderr",
     "output_type": "stream",
     "text": [
      "/home/atshaam/miniconda3/envs/project_env/lib/python3.11/site-packages/scipy/_lib/_util.py:1226: RuntimeWarning: logm result may be inaccurate, approximate err = 3.347495122558406e-13\n",
      "  return f(*arrays, *other_args, **kwargs)\n"
     ]
    },
    {
     "name": "stdout",
     "output_type": "stream",
     "text": [
      "LBFGS:   18 15:13:22     -311.061902        0.008952\n",
      "       Step     Time          Energy          fmax\n",
      "LBFGS:    0 15:13:22     -426.244259        0.038023\n"
     ]
    },
    {
     "name": "stderr",
     "output_type": "stream",
     "text": [
      "/home/atshaam/miniconda3/envs/project_env/lib/python3.11/site-packages/scipy/_lib/_util.py:1226: RuntimeWarning: logm result may be inaccurate, approximate err = 8.206309008500078e-13\n",
      "  return f(*arrays, *other_args, **kwargs)\n"
     ]
    },
    {
     "name": "stdout",
     "output_type": "stream",
     "text": [
      "LBFGS:    1 15:13:23     -426.244587        0.036861\n"
     ]
    },
    {
     "name": "stderr",
     "output_type": "stream",
     "text": [
      "/home/atshaam/miniconda3/envs/project_env/lib/python3.11/site-packages/scipy/_lib/_util.py:1226: RuntimeWarning: logm result may be inaccurate, approximate err = 8.32434395039394e-13\n",
      "  return f(*arrays, *other_args, **kwargs)\n"
     ]
    },
    {
     "name": "stdout",
     "output_type": "stream",
     "text": [
      "LBFGS:    2 15:13:24     -426.244927        0.036235\n"
     ]
    },
    {
     "name": "stderr",
     "output_type": "stream",
     "text": [
      "/home/atshaam/miniconda3/envs/project_env/lib/python3.11/site-packages/scipy/_lib/_util.py:1226: RuntimeWarning: logm result may be inaccurate, approximate err = 8.192773101671233e-13\n",
      "  return f(*arrays, *other_args, **kwargs)\n"
     ]
    },
    {
     "name": "stdout",
     "output_type": "stream",
     "text": [
      "LBFGS:    3 15:13:24     -426.245518        0.044653\n"
     ]
    },
    {
     "name": "stderr",
     "output_type": "stream",
     "text": [
      "/home/atshaam/miniconda3/envs/project_env/lib/python3.11/site-packages/scipy/_lib/_util.py:1226: RuntimeWarning: logm result may be inaccurate, approximate err = 8.252033796073601e-13\n",
      "  return f(*arrays, *other_args, **kwargs)\n"
     ]
    },
    {
     "name": "stdout",
     "output_type": "stream",
     "text": [
      "LBFGS:    4 15:13:25     -426.246521        0.059049\n"
     ]
    },
    {
     "name": "stderr",
     "output_type": "stream",
     "text": [
      "/home/atshaam/miniconda3/envs/project_env/lib/python3.11/site-packages/scipy/_lib/_util.py:1226: RuntimeWarning: logm result may be inaccurate, approximate err = 8.317090360575665e-13\n",
      "  return f(*arrays, *other_args, **kwargs)\n"
     ]
    },
    {
     "name": "stdout",
     "output_type": "stream",
     "text": [
      "LBFGS:    5 15:13:25     -426.247876        0.051926\n"
     ]
    },
    {
     "name": "stderr",
     "output_type": "stream",
     "text": [
      "/home/atshaam/miniconda3/envs/project_env/lib/python3.11/site-packages/scipy/_lib/_util.py:1226: RuntimeWarning: logm result may be inaccurate, approximate err = 8.198460403428041e-13\n",
      "  return f(*arrays, *other_args, **kwargs)\n"
     ]
    },
    {
     "name": "stdout",
     "output_type": "stream",
     "text": [
      "LBFGS:    6 15:13:26     -426.249195        0.056166\n"
     ]
    },
    {
     "name": "stderr",
     "output_type": "stream",
     "text": [
      "/home/atshaam/miniconda3/envs/project_env/lib/python3.11/site-packages/scipy/_lib/_util.py:1226: RuntimeWarning: logm result may be inaccurate, approximate err = 8.265866511882602e-13\n",
      "  return f(*arrays, *other_args, **kwargs)\n"
     ]
    },
    {
     "name": "stdout",
     "output_type": "stream",
     "text": [
      "LBFGS:    7 15:13:27     -426.250019        0.059451\n"
     ]
    },
    {
     "name": "stderr",
     "output_type": "stream",
     "text": [
      "/home/atshaam/miniconda3/envs/project_env/lib/python3.11/site-packages/scipy/_lib/_util.py:1226: RuntimeWarning: logm result may be inaccurate, approximate err = 8.245558847125187e-13\n",
      "  return f(*arrays, *other_args, **kwargs)\n"
     ]
    },
    {
     "name": "stdout",
     "output_type": "stream",
     "text": [
      "LBFGS:    8 15:13:27     -426.250527        0.059350\n"
     ]
    },
    {
     "name": "stderr",
     "output_type": "stream",
     "text": [
      "/home/atshaam/miniconda3/envs/project_env/lib/python3.11/site-packages/scipy/_lib/_util.py:1226: RuntimeWarning: logm result may be inaccurate, approximate err = 8.274127548571161e-13\n",
      "  return f(*arrays, *other_args, **kwargs)\n"
     ]
    },
    {
     "name": "stdout",
     "output_type": "stream",
     "text": [
      "LBFGS:    9 15:13:28     -426.251042        0.057339\n"
     ]
    },
    {
     "name": "stderr",
     "output_type": "stream",
     "text": [
      "/home/atshaam/miniconda3/envs/project_env/lib/python3.11/site-packages/scipy/_lib/_util.py:1226: RuntimeWarning: logm result may be inaccurate, approximate err = 8.306222118262368e-13\n",
      "  return f(*arrays, *other_args, **kwargs)\n"
     ]
    },
    {
     "name": "stdout",
     "output_type": "stream",
     "text": [
      "LBFGS:   10 15:13:28     -426.252064        0.053583\n"
     ]
    },
    {
     "name": "stderr",
     "output_type": "stream",
     "text": [
      "/home/atshaam/miniconda3/envs/project_env/lib/python3.11/site-packages/scipy/_lib/_util.py:1226: RuntimeWarning: logm result may be inaccurate, approximate err = 8.174755594581417e-13\n",
      "  return f(*arrays, *other_args, **kwargs)\n"
     ]
    },
    {
     "name": "stdout",
     "output_type": "stream",
     "text": [
      "LBFGS:   11 15:13:29     -426.253437        0.084429\n"
     ]
    },
    {
     "name": "stderr",
     "output_type": "stream",
     "text": [
      "/home/atshaam/miniconda3/envs/project_env/lib/python3.11/site-packages/scipy/_lib/_util.py:1226: RuntimeWarning: logm result may be inaccurate, approximate err = 8.221231763712546e-13\n",
      "  return f(*arrays, *other_args, **kwargs)\n"
     ]
    },
    {
     "name": "stdout",
     "output_type": "stream",
     "text": [
      "LBFGS:   12 15:13:30     -426.255017        0.095158\n"
     ]
    },
    {
     "name": "stderr",
     "output_type": "stream",
     "text": [
      "/home/atshaam/miniconda3/envs/project_env/lib/python3.11/site-packages/scipy/_lib/_util.py:1226: RuntimeWarning: logm result may be inaccurate, approximate err = 8.237457161572314e-13\n",
      "  return f(*arrays, *other_args, **kwargs)\n"
     ]
    },
    {
     "name": "stdout",
     "output_type": "stream",
     "text": [
      "LBFGS:   13 15:13:30     -426.256318        0.068983\n"
     ]
    },
    {
     "name": "stderr",
     "output_type": "stream",
     "text": [
      "/home/atshaam/miniconda3/envs/project_env/lib/python3.11/site-packages/scipy/_lib/_util.py:1226: RuntimeWarning: logm result may be inaccurate, approximate err = 8.305101507867695e-13\n",
      "  return f(*arrays, *other_args, **kwargs)\n"
     ]
    },
    {
     "name": "stdout",
     "output_type": "stream",
     "text": [
      "LBFGS:   14 15:13:31     -426.257294        0.049382\n"
     ]
    },
    {
     "name": "stderr",
     "output_type": "stream",
     "text": [
      "/home/atshaam/miniconda3/envs/project_env/lib/python3.11/site-packages/scipy/_lib/_util.py:1226: RuntimeWarning: logm result may be inaccurate, approximate err = 8.20694766678541e-13\n",
      "  return f(*arrays, *other_args, **kwargs)\n"
     ]
    },
    {
     "name": "stdout",
     "output_type": "stream",
     "text": [
      "LBFGS:   15 15:13:31     -426.258061        0.050128\n"
     ]
    },
    {
     "name": "stderr",
     "output_type": "stream",
     "text": [
      "/home/atshaam/miniconda3/envs/project_env/lib/python3.11/site-packages/scipy/_lib/_util.py:1226: RuntimeWarning: logm result may be inaccurate, approximate err = 8.297574031366216e-13\n",
      "  return f(*arrays, *other_args, **kwargs)\n"
     ]
    },
    {
     "name": "stdout",
     "output_type": "stream",
     "text": [
      "LBFGS:   16 15:13:32     -426.258923        0.056672\n"
     ]
    },
    {
     "name": "stderr",
     "output_type": "stream",
     "text": [
      "/home/atshaam/miniconda3/envs/project_env/lib/python3.11/site-packages/scipy/_lib/_util.py:1226: RuntimeWarning: logm result may be inaccurate, approximate err = 8.323311268975966e-13\n",
      "  return f(*arrays, *other_args, **kwargs)\n"
     ]
    },
    {
     "name": "stdout",
     "output_type": "stream",
     "text": [
      "LBFGS:   17 15:13:32     -426.260231        0.086964\n"
     ]
    },
    {
     "name": "stderr",
     "output_type": "stream",
     "text": [
      "/home/atshaam/miniconda3/envs/project_env/lib/python3.11/site-packages/scipy/_lib/_util.py:1226: RuntimeWarning: logm result may be inaccurate, approximate err = 8.380359463079392e-13\n",
      "  return f(*arrays, *other_args, **kwargs)\n"
     ]
    },
    {
     "name": "stdout",
     "output_type": "stream",
     "text": [
      "LBFGS:   18 15:13:33     -426.262246        0.099753\n"
     ]
    },
    {
     "name": "stderr",
     "output_type": "stream",
     "text": [
      "/home/atshaam/miniconda3/envs/project_env/lib/python3.11/site-packages/scipy/_lib/_util.py:1226: RuntimeWarning: logm result may be inaccurate, approximate err = 8.277515874677162e-13\n",
      "  return f(*arrays, *other_args, **kwargs)\n"
     ]
    },
    {
     "name": "stdout",
     "output_type": "stream",
     "text": [
      "LBFGS:   19 15:13:34     -426.265011        0.088450\n"
     ]
    },
    {
     "name": "stderr",
     "output_type": "stream",
     "text": [
      "/home/atshaam/miniconda3/envs/project_env/lib/python3.11/site-packages/scipy/_lib/_util.py:1226: RuntimeWarning: logm result may be inaccurate, approximate err = 8.275967571049109e-13\n",
      "  return f(*arrays, *other_args, **kwargs)\n"
     ]
    },
    {
     "name": "stdout",
     "output_type": "stream",
     "text": [
      "LBFGS:   20 15:13:34     -426.267689        0.069793\n"
     ]
    },
    {
     "name": "stderr",
     "output_type": "stream",
     "text": [
      "/home/atshaam/miniconda3/envs/project_env/lib/python3.11/site-packages/scipy/_lib/_util.py:1226: RuntimeWarning: logm result may be inaccurate, approximate err = 8.334767845699635e-13\n",
      "  return f(*arrays, *other_args, **kwargs)\n"
     ]
    },
    {
     "name": "stdout",
     "output_type": "stream",
     "text": [
      "LBFGS:   21 15:13:35     -426.269432        0.058319\n"
     ]
    },
    {
     "name": "stderr",
     "output_type": "stream",
     "text": [
      "/home/atshaam/miniconda3/envs/project_env/lib/python3.11/site-packages/scipy/_lib/_util.py:1226: RuntimeWarning: logm result may be inaccurate, approximate err = 8.351755918536073e-13\n",
      "  return f(*arrays, *other_args, **kwargs)\n"
     ]
    },
    {
     "name": "stdout",
     "output_type": "stream",
     "text": [
      "LBFGS:   22 15:13:35     -426.270443        0.046225\n"
     ]
    },
    {
     "name": "stderr",
     "output_type": "stream",
     "text": [
      "/home/atshaam/miniconda3/envs/project_env/lib/python3.11/site-packages/scipy/_lib/_util.py:1226: RuntimeWarning: logm result may be inaccurate, approximate err = 8.293703881663776e-13\n",
      "  return f(*arrays, *other_args, **kwargs)\n"
     ]
    },
    {
     "name": "stdout",
     "output_type": "stream",
     "text": [
      "LBFGS:   23 15:13:36     -426.271557        0.046901\n"
     ]
    },
    {
     "name": "stderr",
     "output_type": "stream",
     "text": [
      "/home/atshaam/miniconda3/envs/project_env/lib/python3.11/site-packages/scipy/_lib/_util.py:1226: RuntimeWarning: logm result may be inaccurate, approximate err = 8.387451257172961e-13\n",
      "  return f(*arrays, *other_args, **kwargs)\n"
     ]
    },
    {
     "name": "stdout",
     "output_type": "stream",
     "text": [
      "LBFGS:   24 15:13:37     -426.273861        0.080066\n"
     ]
    },
    {
     "name": "stderr",
     "output_type": "stream",
     "text": [
      "/home/atshaam/miniconda3/envs/project_env/lib/python3.11/site-packages/scipy/_lib/_util.py:1226: RuntimeWarning: logm result may be inaccurate, approximate err = 8.404891058116157e-13\n",
      "  return f(*arrays, *other_args, **kwargs)\n"
     ]
    },
    {
     "name": "stdout",
     "output_type": "stream",
     "text": [
      "LBFGS:   25 15:13:37     -426.277611        0.112148\n"
     ]
    },
    {
     "name": "stderr",
     "output_type": "stream",
     "text": [
      "/home/atshaam/miniconda3/envs/project_env/lib/python3.11/site-packages/scipy/_lib/_util.py:1226: RuntimeWarning: logm result may be inaccurate, approximate err = 8.38366076976776e-13\n",
      "  return f(*arrays, *other_args, **kwargs)\n"
     ]
    },
    {
     "name": "stdout",
     "output_type": "stream",
     "text": [
      "LBFGS:   26 15:13:38     -426.282112        0.113261\n"
     ]
    },
    {
     "name": "stderr",
     "output_type": "stream",
     "text": [
      "/home/atshaam/miniconda3/envs/project_env/lib/python3.11/site-packages/scipy/_lib/_util.py:1226: RuntimeWarning: logm result may be inaccurate, approximate err = 8.367820477242521e-13\n",
      "  return f(*arrays, *other_args, **kwargs)\n"
     ]
    },
    {
     "name": "stdout",
     "output_type": "stream",
     "text": [
      "LBFGS:   27 15:13:38     -426.285172        0.074486\n"
     ]
    },
    {
     "name": "stderr",
     "output_type": "stream",
     "text": [
      "/home/atshaam/miniconda3/envs/project_env/lib/python3.11/site-packages/scipy/_lib/_util.py:1226: RuntimeWarning: logm result may be inaccurate, approximate err = 8.411834594837975e-13\n",
      "  return f(*arrays, *other_args, **kwargs)\n"
     ]
    },
    {
     "name": "stdout",
     "output_type": "stream",
     "text": [
      "LBFGS:   28 15:13:39     -426.286419        0.042481\n"
     ]
    },
    {
     "name": "stderr",
     "output_type": "stream",
     "text": [
      "/home/atshaam/miniconda3/envs/project_env/lib/python3.11/site-packages/scipy/_lib/_util.py:1226: RuntimeWarning: logm result may be inaccurate, approximate err = 8.375410002260545e-13\n",
      "  return f(*arrays, *other_args, **kwargs)\n"
     ]
    },
    {
     "name": "stdout",
     "output_type": "stream",
     "text": [
      "LBFGS:   29 15:13:39     -426.286980        0.043655\n"
     ]
    },
    {
     "name": "stderr",
     "output_type": "stream",
     "text": [
      "/home/atshaam/miniconda3/envs/project_env/lib/python3.11/site-packages/scipy/_lib/_util.py:1226: RuntimeWarning: logm result may be inaccurate, approximate err = 8.394932524315424e-13\n",
      "  return f(*arrays, *other_args, **kwargs)\n"
     ]
    },
    {
     "name": "stdout",
     "output_type": "stream",
     "text": [
      "LBFGS:   30 15:13:40     -426.287594        0.041929\n"
     ]
    },
    {
     "name": "stderr",
     "output_type": "stream",
     "text": [
      "/home/atshaam/miniconda3/envs/project_env/lib/python3.11/site-packages/scipy/_lib/_util.py:1226: RuntimeWarning: logm result may be inaccurate, approximate err = 8.46289498652388e-13\n",
      "  return f(*arrays, *other_args, **kwargs)\n"
     ]
    },
    {
     "name": "stdout",
     "output_type": "stream",
     "text": [
      "LBFGS:   31 15:13:41     -426.288510        0.041513\n"
     ]
    },
    {
     "name": "stderr",
     "output_type": "stream",
     "text": [
      "/home/atshaam/miniconda3/envs/project_env/lib/python3.11/site-packages/scipy/_lib/_util.py:1226: RuntimeWarning: logm result may be inaccurate, approximate err = 8.472253431055478e-13\n",
      "  return f(*arrays, *other_args, **kwargs)\n"
     ]
    },
    {
     "name": "stdout",
     "output_type": "stream",
     "text": [
      "LBFGS:   32 15:13:41     -426.289490        0.038077\n"
     ]
    },
    {
     "name": "stderr",
     "output_type": "stream",
     "text": [
      "/home/atshaam/miniconda3/envs/project_env/lib/python3.11/site-packages/scipy/_lib/_util.py:1226: RuntimeWarning: logm result may be inaccurate, approximate err = 8.505755836484966e-13\n",
      "  return f(*arrays, *other_args, **kwargs)\n"
     ]
    },
    {
     "name": "stdout",
     "output_type": "stream",
     "text": [
      "LBFGS:   33 15:13:42     -426.290196        0.034951\n"
     ]
    },
    {
     "name": "stderr",
     "output_type": "stream",
     "text": [
      "/home/atshaam/miniconda3/envs/project_env/lib/python3.11/site-packages/scipy/_lib/_util.py:1226: RuntimeWarning: logm result may be inaccurate, approximate err = 8.453000860484039e-13\n",
      "  return f(*arrays, *other_args, **kwargs)\n"
     ]
    },
    {
     "name": "stdout",
     "output_type": "stream",
     "text": [
      "LBFGS:   34 15:13:43     -426.290505        0.024450\n"
     ]
    },
    {
     "name": "stderr",
     "output_type": "stream",
     "text": [
      "/home/atshaam/miniconda3/envs/project_env/lib/python3.11/site-packages/scipy/_lib/_util.py:1226: RuntimeWarning: logm result may be inaccurate, approximate err = 8.429924977054645e-13\n",
      "  return f(*arrays, *other_args, **kwargs)\n"
     ]
    },
    {
     "name": "stdout",
     "output_type": "stream",
     "text": [
      "LBFGS:   35 15:13:43     -426.290635        0.016979\n"
     ]
    },
    {
     "name": "stderr",
     "output_type": "stream",
     "text": [
      "/home/atshaam/miniconda3/envs/project_env/lib/python3.11/site-packages/scipy/_lib/_util.py:1226: RuntimeWarning: logm result may be inaccurate, approximate err = 8.481513356213918e-13\n",
      "  return f(*arrays, *other_args, **kwargs)\n"
     ]
    },
    {
     "name": "stdout",
     "output_type": "stream",
     "text": [
      "LBFGS:   36 15:13:44     -426.290829        0.023056\n"
     ]
    },
    {
     "name": "stderr",
     "output_type": "stream",
     "text": [
      "/home/atshaam/miniconda3/envs/project_env/lib/python3.11/site-packages/scipy/_lib/_util.py:1226: RuntimeWarning: logm result may be inaccurate, approximate err = 8.479316127499779e-13\n",
      "  return f(*arrays, *other_args, **kwargs)\n"
     ]
    },
    {
     "name": "stdout",
     "output_type": "stream",
     "text": [
      "LBFGS:   37 15:13:44     -426.291211        0.030744\n"
     ]
    },
    {
     "name": "stderr",
     "output_type": "stream",
     "text": [
      "/home/atshaam/miniconda3/envs/project_env/lib/python3.11/site-packages/scipy/_lib/_util.py:1226: RuntimeWarning: logm result may be inaccurate, approximate err = 8.41952612934158e-13\n",
      "  return f(*arrays, *other_args, **kwargs)\n"
     ]
    },
    {
     "name": "stdout",
     "output_type": "stream",
     "text": [
      "LBFGS:   38 15:13:45     -426.291916        0.041667\n"
     ]
    },
    {
     "name": "stderr",
     "output_type": "stream",
     "text": [
      "/home/atshaam/miniconda3/envs/project_env/lib/python3.11/site-packages/scipy/_lib/_util.py:1226: RuntimeWarning: logm result may be inaccurate, approximate err = 8.538381149933838e-13\n",
      "  return f(*arrays, *other_args, **kwargs)\n"
     ]
    },
    {
     "name": "stdout",
     "output_type": "stream",
     "text": [
      "LBFGS:   39 15:13:45     -426.293042        0.049764\n"
     ]
    },
    {
     "name": "stderr",
     "output_type": "stream",
     "text": [
      "/home/atshaam/miniconda3/envs/project_env/lib/python3.11/site-packages/scipy/_lib/_util.py:1226: RuntimeWarning: logm result may be inaccurate, approximate err = 8.42540765840677e-13\n",
      "  return f(*arrays, *other_args, **kwargs)\n"
     ]
    },
    {
     "name": "stdout",
     "output_type": "stream",
     "text": [
      "LBFGS:   40 15:13:46     -426.294152        0.041206\n",
      "LBFGS:   41 15:13:47     -426.294762        0.032726\n",
      "LBFGS:   42 15:13:47     -426.294953        0.020532\n",
      "LBFGS:   43 15:13:48     -426.295105        0.019912\n",
      "LBFGS:   44 15:13:48     -426.295353        0.020053\n",
      "LBFGS:   45 15:13:49     -426.295708        0.047999\n",
      "LBFGS:   46 15:13:49     -426.296196        0.077518\n",
      "LBFGS:   47 15:13:50     -426.296826        0.093085\n",
      "LBFGS:   48 15:13:51     -426.297654        0.087869\n",
      "LBFGS:   49 15:13:51     -426.298554        0.056930\n",
      "LBFGS:   50 15:13:52     -426.299179        0.025141\n",
      "LBFGS:   51 15:13:52     -426.299431        0.014246\n",
      "LBFGS:   52 15:13:53     -426.299500        0.014881\n",
      "LBFGS:   53 15:13:53     -426.299591        0.015129\n",
      "LBFGS:   54 15:13:54     -426.299729        0.019346\n",
      "LBFGS:   55 15:13:54     -426.300045        0.030727\n",
      "LBFGS:   56 15:13:55     -426.300515        0.050933\n",
      "LBFGS:   57 15:13:56     -426.301007        0.060422\n",
      "LBFGS:   58 15:13:56     -426.301384        0.050314\n",
      "LBFGS:   59 15:13:57     -426.301594        0.028349\n",
      "LBFGS:   60 15:13:57     -426.301739        0.021217\n",
      "LBFGS:   61 15:13:58     -426.301861        0.016845\n",
      "LBFGS:   62 15:13:58     -426.301987        0.028877\n",
      "LBFGS:   63 15:13:59     -426.302132        0.036352\n",
      "LBFGS:   64 15:14:00     -426.302418        0.040641\n",
      "LBFGS:   65 15:14:00     -426.302891        0.040739\n",
      "LBFGS:   66 15:14:01     -426.303460        0.038489\n",
      "LBFGS:   67 15:14:01     -426.303872        0.024048\n",
      "LBFGS:   68 15:14:02     -426.304051        0.014004\n",
      "LBFGS:   69 15:14:02     -426.304146        0.017217\n",
      "LBFGS:   70 15:14:03     -426.304318        0.018222\n",
      "LBFGS:   71 15:14:04     -426.304650        0.026885\n",
      "LBFGS:   72 15:14:04     -426.305169        0.036478\n",
      "LBFGS:   73 15:14:05     -426.305779        0.042245\n",
      "LBFGS:   74 15:14:05     -426.306221        0.041596\n",
      "LBFGS:   75 15:14:06     -426.306469        0.025322\n",
      "LBFGS:   76 15:14:06     -426.306618        0.017546\n",
      "LBFGS:   77 15:14:07     -426.306797        0.017643\n",
      "LBFGS:   78 15:14:08     -426.307103        0.049774\n",
      "LBFGS:   79 15:14:08     -426.307652        0.088163\n",
      "LBFGS:   80 15:14:09     -426.308548        0.121051\n",
      "LBFGS:   81 15:14:09     -426.309636        0.121951\n",
      "LBFGS:   82 15:14:10     -426.310517        0.077455\n",
      "LBFGS:   83 15:14:10     -426.310997        0.026626\n",
      "LBFGS:   84 15:14:11     -426.311238        0.021502\n",
      "LBFGS:   85 15:14:12     -426.311417        0.035456\n",
      "LBFGS:   86 15:14:12     -426.311673        0.042808\n",
      "LBFGS:   87 15:14:13     -426.312111        0.039448\n",
      "LBFGS:   88 15:14:13     -426.312771        0.037082\n",
      "LBFGS:   89 15:14:14     -426.313561        0.040934\n",
      "LBFGS:   90 15:14:14     -426.314164        0.029415\n",
      "LBFGS:   91 15:14:15     -426.314537        0.028132\n",
      "LBFGS:   92 15:14:16     -426.314919        0.032556\n",
      "LBFGS:   93 15:14:16     -426.315575        0.049083\n",
      "LBFGS:   94 15:14:17     -426.316632        0.054250\n",
      "LBFGS:   95 15:14:17     -426.317723        0.038213\n",
      "LBFGS:   96 15:14:18     -426.318329        0.032650\n",
      "LBFGS:   97 15:14:18     -426.318570        0.023562\n",
      "LBFGS:   98 15:14:19     -426.318745        0.024541\n",
      "LBFGS:   99 15:14:20     -426.319207        0.035969\n",
      "LBFGS:  100 15:14:20     -426.320088        0.043873\n",
      "LBFGS:  101 15:14:21     -426.321240        0.038265\n",
      "LBFGS:  102 15:14:21     -426.322018        0.022427\n",
      "LBFGS:  103 15:14:22     -426.322277        0.015337\n",
      "LBFGS:  104 15:14:22     -426.322365        0.015242\n",
      "LBFGS:  105 15:14:23     -426.322483        0.014626\n",
      "LBFGS:  106 15:14:24     -426.322716        0.017837\n",
      "LBFGS:  107 15:14:24     -426.323113        0.035787\n",
      "LBFGS:  108 15:14:25     -426.323647        0.040951\n",
      "LBFGS:  109 15:14:25     -426.324089        0.042475\n",
      "LBFGS:  110 15:14:26     -426.324314        0.031158\n",
      "LBFGS:  111 15:14:26     -426.324433        0.015970\n",
      "LBFGS:  112 15:14:27     -426.324566        0.014685\n",
      "LBFGS:  113 15:14:28     -426.324677        0.018547\n",
      "LBFGS:  114 15:14:28     -426.324776        0.025706\n",
      "LBFGS:  115 15:14:29     -426.324871        0.025544\n",
      "LBFGS:  116 15:14:29     -426.324982        0.019610\n",
      "LBFGS:  117 15:14:30     -426.325108        0.012143\n",
      "LBFGS:  118 15:14:30     -426.325180        0.009292\n",
      "       Step     Time          Energy          fmax\n",
      "LBFGS:    0 15:14:31     -212.330074        0.439196\n"
     ]
    },
    {
     "name": "stderr",
     "output_type": "stream",
     "text": [
      "/home/atshaam/miniconda3/envs/project_env/lib/python3.11/site-packages/scipy/_lib/_util.py:1226: RuntimeWarning: logm result may be inaccurate, approximate err = 3.284645283036463e-13\n",
      "  return f(*arrays, *other_args, **kwargs)\n"
     ]
    },
    {
     "name": "stdout",
     "output_type": "stream",
     "text": [
      "LBFGS:    1 15:14:32     -212.371910        0.214872\n"
     ]
    },
    {
     "name": "stderr",
     "output_type": "stream",
     "text": [
      "/home/atshaam/miniconda3/envs/project_env/lib/python3.11/site-packages/scipy/_lib/_util.py:1226: RuntimeWarning: logm result may be inaccurate, approximate err = 3.348625031241216e-13\n",
      "  return f(*arrays, *other_args, **kwargs)\n"
     ]
    },
    {
     "name": "stdout",
     "output_type": "stream",
     "text": [
      "LBFGS:    2 15:14:32     -212.386924        0.210037\n"
     ]
    },
    {
     "name": "stderr",
     "output_type": "stream",
     "text": [
      "/home/atshaam/miniconda3/envs/project_env/lib/python3.11/site-packages/scipy/_lib/_util.py:1226: RuntimeWarning: logm result may be inaccurate, approximate err = 3.4395167173843166e-13\n",
      "  return f(*arrays, *other_args, **kwargs)\n"
     ]
    },
    {
     "name": "stdout",
     "output_type": "stream",
     "text": [
      "LBFGS:    3 15:14:33     -212.406663        0.094754\n"
     ]
    },
    {
     "name": "stderr",
     "output_type": "stream",
     "text": [
      "/home/atshaam/miniconda3/envs/project_env/lib/python3.11/site-packages/scipy/_lib/_util.py:1226: RuntimeWarning: logm result may be inaccurate, approximate err = 3.3827324944781644e-13\n",
      "  return f(*arrays, *other_args, **kwargs)\n"
     ]
    },
    {
     "name": "stdout",
     "output_type": "stream",
     "text": [
      "LBFGS:    4 15:14:33     -212.409587        0.091127\n"
     ]
    },
    {
     "name": "stderr",
     "output_type": "stream",
     "text": [
      "/home/atshaam/miniconda3/envs/project_env/lib/python3.11/site-packages/scipy/_lib/_util.py:1226: RuntimeWarning: logm result may be inaccurate, approximate err = 3.3237780105678027e-13\n",
      "  return f(*arrays, *other_args, **kwargs)\n"
     ]
    },
    {
     "name": "stdout",
     "output_type": "stream",
     "text": [
      "LBFGS:    5 15:14:34     -212.416524        0.092524\n"
     ]
    },
    {
     "name": "stderr",
     "output_type": "stream",
     "text": [
      "/home/atshaam/miniconda3/envs/project_env/lib/python3.11/site-packages/scipy/_lib/_util.py:1226: RuntimeWarning: logm result may be inaccurate, approximate err = 3.339743360244506e-13\n",
      "  return f(*arrays, *other_args, **kwargs)\n"
     ]
    },
    {
     "name": "stdout",
     "output_type": "stream",
     "text": [
      "LBFGS:    6 15:14:34     -212.421112        0.103752\n"
     ]
    },
    {
     "name": "stderr",
     "output_type": "stream",
     "text": [
      "/home/atshaam/miniconda3/envs/project_env/lib/python3.11/site-packages/scipy/_lib/_util.py:1226: RuntimeWarning: logm result may be inaccurate, approximate err = 3.3596260681062394e-13\n",
      "  return f(*arrays, *other_args, **kwargs)\n"
     ]
    },
    {
     "name": "stdout",
     "output_type": "stream",
     "text": [
      "LBFGS:    7 15:14:35     -212.423665        0.079783\n"
     ]
    },
    {
     "name": "stderr",
     "output_type": "stream",
     "text": [
      "/home/atshaam/miniconda3/envs/project_env/lib/python3.11/site-packages/scipy/_lib/_util.py:1226: RuntimeWarning: logm result may be inaccurate, approximate err = 3.314513548783396e-13\n",
      "  return f(*arrays, *other_args, **kwargs)\n"
     ]
    },
    {
     "name": "stdout",
     "output_type": "stream",
     "text": [
      "LBFGS:    8 15:14:36     -212.424472        0.078490\n"
     ]
    },
    {
     "name": "stderr",
     "output_type": "stream",
     "text": [
      "/home/atshaam/miniconda3/envs/project_env/lib/python3.11/site-packages/scipy/_lib/_util.py:1226: RuntimeWarning: logm result may be inaccurate, approximate err = 3.3766008612574513e-13\n",
      "  return f(*arrays, *other_args, **kwargs)\n"
     ]
    },
    {
     "name": "stdout",
     "output_type": "stream",
     "text": [
      "LBFGS:    9 15:14:36     -212.425342        0.077264\n"
     ]
    },
    {
     "name": "stderr",
     "output_type": "stream",
     "text": [
      "/home/atshaam/miniconda3/envs/project_env/lib/python3.11/site-packages/scipy/_lib/_util.py:1226: RuntimeWarning: logm result may be inaccurate, approximate err = 3.377266430370825e-13\n",
      "  return f(*arrays, *other_args, **kwargs)\n"
     ]
    },
    {
     "name": "stdout",
     "output_type": "stream",
     "text": [
      "LBFGS:   10 15:14:37     -212.427318        0.085406\n"
     ]
    },
    {
     "name": "stderr",
     "output_type": "stream",
     "text": [
      "/home/atshaam/miniconda3/envs/project_env/lib/python3.11/site-packages/scipy/_lib/_util.py:1226: RuntimeWarning: logm result may be inaccurate, approximate err = 3.359477464968976e-13\n",
      "  return f(*arrays, *other_args, **kwargs)\n"
     ]
    },
    {
     "name": "stdout",
     "output_type": "stream",
     "text": [
      "LBFGS:   11 15:14:37     -212.431835        0.159417\n"
     ]
    },
    {
     "name": "stderr",
     "output_type": "stream",
     "text": [
      "/home/atshaam/miniconda3/envs/project_env/lib/python3.11/site-packages/scipy/_lib/_util.py:1226: RuntimeWarning: logm result may be inaccurate, approximate err = 3.3896823736394364e-13\n",
      "  return f(*arrays, *other_args, **kwargs)\n"
     ]
    },
    {
     "name": "stdout",
     "output_type": "stream",
     "text": [
      "LBFGS:   12 15:14:38     -212.440706        0.228945\n"
     ]
    },
    {
     "name": "stderr",
     "output_type": "stream",
     "text": [
      "/home/atshaam/miniconda3/envs/project_env/lib/python3.11/site-packages/scipy/_lib/_util.py:1226: RuntimeWarning: logm result may be inaccurate, approximate err = 3.3441069148176225e-13\n",
      "  return f(*arrays, *other_args, **kwargs)\n"
     ]
    },
    {
     "name": "stdout",
     "output_type": "stream",
     "text": [
      "LBFGS:   13 15:14:38     -212.453186        0.228730\n"
     ]
    },
    {
     "name": "stderr",
     "output_type": "stream",
     "text": [
      "/home/atshaam/miniconda3/envs/project_env/lib/python3.11/site-packages/scipy/_lib/_util.py:1226: RuntimeWarning: logm result may be inaccurate, approximate err = 3.436064606676519e-13\n",
      "  return f(*arrays, *other_args, **kwargs)\n"
     ]
    },
    {
     "name": "stdout",
     "output_type": "stream",
     "text": [
      "LBFGS:   14 15:14:39     -212.462800        0.125428\n"
     ]
    },
    {
     "name": "stderr",
     "output_type": "stream",
     "text": [
      "/home/atshaam/miniconda3/envs/project_env/lib/python3.11/site-packages/scipy/_lib/_util.py:1226: RuntimeWarning: logm result may be inaccurate, approximate err = 3.4134762043980407e-13\n",
      "  return f(*arrays, *other_args, **kwargs)\n"
     ]
    },
    {
     "name": "stdout",
     "output_type": "stream",
     "text": [
      "LBFGS:   15 15:14:40     -212.466567        0.085811\n"
     ]
    },
    {
     "name": "stderr",
     "output_type": "stream",
     "text": [
      "/home/atshaam/miniconda3/envs/project_env/lib/python3.11/site-packages/scipy/_lib/_util.py:1226: RuntimeWarning: logm result may be inaccurate, approximate err = 3.427700919163923e-13\n",
      "  return f(*arrays, *other_args, **kwargs)\n"
     ]
    },
    {
     "name": "stdout",
     "output_type": "stream",
     "text": [
      "LBFGS:   16 15:14:40     -212.468477        0.077952\n"
     ]
    },
    {
     "name": "stderr",
     "output_type": "stream",
     "text": [
      "/home/atshaam/miniconda3/envs/project_env/lib/python3.11/site-packages/scipy/_lib/_util.py:1226: RuntimeWarning: logm result may be inaccurate, approximate err = 3.4286001623566485e-13\n",
      "  return f(*arrays, *other_args, **kwargs)\n"
     ]
    },
    {
     "name": "stdout",
     "output_type": "stream",
     "text": [
      "LBFGS:   17 15:14:41     -212.470994        0.094733\n"
     ]
    },
    {
     "name": "stderr",
     "output_type": "stream",
     "text": [
      "/home/atshaam/miniconda3/envs/project_env/lib/python3.11/site-packages/scipy/_lib/_util.py:1226: RuntimeWarning: logm result may be inaccurate, approximate err = 3.411072807041966e-13\n",
      "  return f(*arrays, *other_args, **kwargs)\n"
     ]
    },
    {
     "name": "stdout",
     "output_type": "stream",
     "text": [
      "LBFGS:   18 15:14:41     -212.474437        0.113475\n"
     ]
    },
    {
     "name": "stderr",
     "output_type": "stream",
     "text": [
      "/home/atshaam/miniconda3/envs/project_env/lib/python3.11/site-packages/scipy/_lib/_util.py:1226: RuntimeWarning: logm result may be inaccurate, approximate err = 3.413304399503561e-13\n",
      "  return f(*arrays, *other_args, **kwargs)\n"
     ]
    },
    {
     "name": "stdout",
     "output_type": "stream",
     "text": [
      "LBFGS:   19 15:14:42     -212.477607        0.083334\n"
     ]
    },
    {
     "name": "stderr",
     "output_type": "stream",
     "text": [
      "/home/atshaam/miniconda3/envs/project_env/lib/python3.11/site-packages/scipy/_lib/_util.py:1226: RuntimeWarning: logm result may be inaccurate, approximate err = 3.4149786888464247e-13\n",
      "  return f(*arrays, *other_args, **kwargs)\n"
     ]
    },
    {
     "name": "stdout",
     "output_type": "stream",
     "text": [
      "LBFGS:   20 15:14:42     -212.479076        0.041331\n"
     ]
    },
    {
     "name": "stderr",
     "output_type": "stream",
     "text": [
      "/home/atshaam/miniconda3/envs/project_env/lib/python3.11/site-packages/scipy/_lib/_util.py:1226: RuntimeWarning: logm result may be inaccurate, approximate err = 3.4888654279992043e-13\n",
      "  return f(*arrays, *other_args, **kwargs)\n"
     ]
    },
    {
     "name": "stdout",
     "output_type": "stream",
     "text": [
      "LBFGS:   21 15:14:43     -212.479568        0.035706\n"
     ]
    },
    {
     "name": "stderr",
     "output_type": "stream",
     "text": [
      "/home/atshaam/miniconda3/envs/project_env/lib/python3.11/site-packages/scipy/_lib/_util.py:1226: RuntimeWarning: logm result may be inaccurate, approximate err = 3.417734694458991e-13\n",
      "  return f(*arrays, *other_args, **kwargs)\n"
     ]
    },
    {
     "name": "stdout",
     "output_type": "stream",
     "text": [
      "LBFGS:   22 15:14:44     -212.480047        0.043486\n"
     ]
    },
    {
     "name": "stderr",
     "output_type": "stream",
     "text": [
      "/home/atshaam/miniconda3/envs/project_env/lib/python3.11/site-packages/scipy/_lib/_util.py:1226: RuntimeWarning: logm result may be inaccurate, approximate err = 3.463120778595275e-13\n",
      "  return f(*arrays, *other_args, **kwargs)\n"
     ]
    },
    {
     "name": "stdout",
     "output_type": "stream",
     "text": [
      "LBFGS:   23 15:14:44     -212.480909        0.055365\n"
     ]
    },
    {
     "name": "stderr",
     "output_type": "stream",
     "text": [
      "/home/atshaam/miniconda3/envs/project_env/lib/python3.11/site-packages/scipy/_lib/_util.py:1226: RuntimeWarning: logm result may be inaccurate, approximate err = 3.4467656990671045e-13\n",
      "  return f(*arrays, *other_args, **kwargs)\n"
     ]
    },
    {
     "name": "stdout",
     "output_type": "stream",
     "text": [
      "LBFGS:   24 15:14:45     -212.481927        0.051634\n"
     ]
    },
    {
     "name": "stderr",
     "output_type": "stream",
     "text": [
      "/home/atshaam/miniconda3/envs/project_env/lib/python3.11/site-packages/scipy/_lib/_util.py:1226: RuntimeWarning: logm result may be inaccurate, approximate err = 3.4293082832997646e-13\n",
      "  return f(*arrays, *other_args, **kwargs)\n"
     ]
    },
    {
     "name": "stdout",
     "output_type": "stream",
     "text": [
      "LBFGS:   25 15:14:45     -212.482599        0.026317\n"
     ]
    },
    {
     "name": "stderr",
     "output_type": "stream",
     "text": [
      "/home/atshaam/miniconda3/envs/project_env/lib/python3.11/site-packages/scipy/_lib/_util.py:1226: RuntimeWarning: logm result may be inaccurate, approximate err = 3.441110465181014e-13\n",
      "  return f(*arrays, *other_args, **kwargs)\n"
     ]
    },
    {
     "name": "stdout",
     "output_type": "stream",
     "text": [
      "LBFGS:   26 15:14:46     -212.482814        0.016534\n"
     ]
    },
    {
     "name": "stderr",
     "output_type": "stream",
     "text": [
      "/home/atshaam/miniconda3/envs/project_env/lib/python3.11/site-packages/scipy/_lib/_util.py:1226: RuntimeWarning: logm result may be inaccurate, approximate err = 3.490391968333196e-13\n",
      "  return f(*arrays, *other_args, **kwargs)\n"
     ]
    },
    {
     "name": "stdout",
     "output_type": "stream",
     "text": [
      "LBFGS:   27 15:14:46     -212.482902        0.016237\n"
     ]
    },
    {
     "name": "stderr",
     "output_type": "stream",
     "text": [
      "/home/atshaam/miniconda3/envs/project_env/lib/python3.11/site-packages/scipy/_lib/_util.py:1226: RuntimeWarning: logm result may be inaccurate, approximate err = 3.4642487404758345e-13\n",
      "  return f(*arrays, *other_args, **kwargs)\n"
     ]
    },
    {
     "name": "stdout",
     "output_type": "stream",
     "text": [
      "LBFGS:   28 15:14:47     -212.483041        0.018091\n"
     ]
    },
    {
     "name": "stderr",
     "output_type": "stream",
     "text": [
      "/home/atshaam/miniconda3/envs/project_env/lib/python3.11/site-packages/scipy/_lib/_util.py:1226: RuntimeWarning: logm result may be inaccurate, approximate err = 3.405337978050335e-13\n",
      "  return f(*arrays, *other_args, **kwargs)\n"
     ]
    },
    {
     "name": "stdout",
     "output_type": "stream",
     "text": [
      "LBFGS:   29 15:14:48     -212.483306        0.027214\n"
     ]
    },
    {
     "name": "stderr",
     "output_type": "stream",
     "text": [
      "/home/atshaam/miniconda3/envs/project_env/lib/python3.11/site-packages/scipy/_lib/_util.py:1226: RuntimeWarning: logm result may be inaccurate, approximate err = 3.4025048032164356e-13\n",
      "  return f(*arrays, *other_args, **kwargs)\n"
     ]
    },
    {
     "name": "stdout",
     "output_type": "stream",
     "text": [
      "LBFGS:   30 15:14:48     -212.483646        0.027693\n"
     ]
    },
    {
     "name": "stderr",
     "output_type": "stream",
     "text": [
      "/home/atshaam/miniconda3/envs/project_env/lib/python3.11/site-packages/scipy/_lib/_util.py:1226: RuntimeWarning: logm result may be inaccurate, approximate err = 3.4626005066557713e-13\n",
      "  return f(*arrays, *other_args, **kwargs)\n"
     ]
    },
    {
     "name": "stdout",
     "output_type": "stream",
     "text": [
      "LBFGS:   31 15:14:49     -212.483909        0.020601\n"
     ]
    },
    {
     "name": "stderr",
     "output_type": "stream",
     "text": [
      "/home/atshaam/miniconda3/envs/project_env/lib/python3.11/site-packages/scipy/_lib/_util.py:1226: RuntimeWarning: logm result may be inaccurate, approximate err = 3.405554681673322e-13\n",
      "  return f(*arrays, *other_args, **kwargs)\n"
     ]
    },
    {
     "name": "stdout",
     "output_type": "stream",
     "text": [
      "LBFGS:   32 15:14:49     -212.484056        0.016760\n"
     ]
    },
    {
     "name": "stderr",
     "output_type": "stream",
     "text": [
      "/home/atshaam/miniconda3/envs/project_env/lib/python3.11/site-packages/scipy/_lib/_util.py:1226: RuntimeWarning: logm result may be inaccurate, approximate err = 3.4366845873810345e-13\n",
      "  return f(*arrays, *other_args, **kwargs)\n"
     ]
    },
    {
     "name": "stdout",
     "output_type": "stream",
     "text": [
      "LBFGS:   33 15:14:50     -212.484167        0.014613\n"
     ]
    },
    {
     "name": "stderr",
     "output_type": "stream",
     "text": [
      "/home/atshaam/miniconda3/envs/project_env/lib/python3.11/site-packages/scipy/_lib/_util.py:1226: RuntimeWarning: logm result may be inaccurate, approximate err = 3.4580106046283213e-13\n",
      "  return f(*arrays, *other_args, **kwargs)\n"
     ]
    },
    {
     "name": "stdout",
     "output_type": "stream",
     "text": [
      "LBFGS:   34 15:14:50     -212.484264        0.014746\n"
     ]
    },
    {
     "name": "stderr",
     "output_type": "stream",
     "text": [
      "/home/atshaam/miniconda3/envs/project_env/lib/python3.11/site-packages/scipy/_lib/_util.py:1226: RuntimeWarning: logm result may be inaccurate, approximate err = 3.469432291757287e-13\n",
      "  return f(*arrays, *other_args, **kwargs)\n"
     ]
    },
    {
     "name": "stdout",
     "output_type": "stream",
     "text": [
      "LBFGS:   35 15:14:51     -212.484380        0.014639\n"
     ]
    },
    {
     "name": "stderr",
     "output_type": "stream",
     "text": [
      "/home/atshaam/miniconda3/envs/project_env/lib/python3.11/site-packages/scipy/_lib/_util.py:1226: RuntimeWarning: logm result may be inaccurate, approximate err = 3.4395406164208207e-13\n",
      "  return f(*arrays, *other_args, **kwargs)\n"
     ]
    },
    {
     "name": "stdout",
     "output_type": "stream",
     "text": [
      "LBFGS:   36 15:14:52     -212.484500        0.018271\n"
     ]
    },
    {
     "name": "stderr",
     "output_type": "stream",
     "text": [
      "/home/atshaam/miniconda3/envs/project_env/lib/python3.11/site-packages/scipy/_lib/_util.py:1226: RuntimeWarning: logm result may be inaccurate, approximate err = 3.45156281662893e-13\n",
      "  return f(*arrays, *other_args, **kwargs)\n"
     ]
    },
    {
     "name": "stdout",
     "output_type": "stream",
     "text": [
      "LBFGS:   37 15:14:52     -212.484655        0.021966\n"
     ]
    },
    {
     "name": "stderr",
     "output_type": "stream",
     "text": [
      "/home/atshaam/miniconda3/envs/project_env/lib/python3.11/site-packages/scipy/_lib/_util.py:1226: RuntimeWarning: logm result may be inaccurate, approximate err = 3.433133764152589e-13\n",
      "  return f(*arrays, *other_args, **kwargs)\n"
     ]
    },
    {
     "name": "stdout",
     "output_type": "stream",
     "text": [
      "LBFGS:   38 15:14:53     -212.484930        0.026435\n"
     ]
    },
    {
     "name": "stderr",
     "output_type": "stream",
     "text": [
      "/home/atshaam/miniconda3/envs/project_env/lib/python3.11/site-packages/scipy/_lib/_util.py:1226: RuntimeWarning: logm result may be inaccurate, approximate err = 3.441591463340126e-13\n",
      "  return f(*arrays, *other_args, **kwargs)\n"
     ]
    },
    {
     "name": "stdout",
     "output_type": "stream",
     "text": [
      "LBFGS:   39 15:14:53     -212.485406        0.037218\n"
     ]
    },
    {
     "name": "stderr",
     "output_type": "stream",
     "text": [
      "/home/atshaam/miniconda3/envs/project_env/lib/python3.11/site-packages/scipy/_lib/_util.py:1226: RuntimeWarning: logm result may be inaccurate, approximate err = 3.4321267669658645e-13\n",
      "  return f(*arrays, *other_args, **kwargs)\n"
     ]
    },
    {
     "name": "stdout",
     "output_type": "stream",
     "text": [
      "LBFGS:   40 15:14:54     -212.486034        0.036536\n"
     ]
    },
    {
     "name": "stderr",
     "output_type": "stream",
     "text": [
      "/home/atshaam/miniconda3/envs/project_env/lib/python3.11/site-packages/scipy/_lib/_util.py:1226: RuntimeWarning: logm result may be inaccurate, approximate err = 3.4581052454249937e-13\n",
      "  return f(*arrays, *other_args, **kwargs)\n"
     ]
    },
    {
     "name": "stdout",
     "output_type": "stream",
     "text": [
      "LBFGS:   41 15:14:54     -212.486516        0.020821\n"
     ]
    },
    {
     "name": "stderr",
     "output_type": "stream",
     "text": [
      "/home/atshaam/miniconda3/envs/project_env/lib/python3.11/site-packages/scipy/_lib/_util.py:1226: RuntimeWarning: logm result may be inaccurate, approximate err = 3.4099979039597047e-13\n",
      "  return f(*arrays, *other_args, **kwargs)\n"
     ]
    },
    {
     "name": "stdout",
     "output_type": "stream",
     "text": [
      "LBFGS:   42 15:14:55     -212.486742        0.016341\n"
     ]
    },
    {
     "name": "stderr",
     "output_type": "stream",
     "text": [
      "/home/atshaam/miniconda3/envs/project_env/lib/python3.11/site-packages/scipy/_lib/_util.py:1226: RuntimeWarning: logm result may be inaccurate, approximate err = 3.4240983165308657e-13\n",
      "  return f(*arrays, *other_args, **kwargs)\n"
     ]
    },
    {
     "name": "stdout",
     "output_type": "stream",
     "text": [
      "LBFGS:   43 15:14:56     -212.486883        0.016644\n"
     ]
    },
    {
     "name": "stderr",
     "output_type": "stream",
     "text": [
      "/home/atshaam/miniconda3/envs/project_env/lib/python3.11/site-packages/scipy/_lib/_util.py:1226: RuntimeWarning: logm result may be inaccurate, approximate err = 3.4454837586063094e-13\n",
      "  return f(*arrays, *other_args, **kwargs)\n"
     ]
    },
    {
     "name": "stdout",
     "output_type": "stream",
     "text": [
      "LBFGS:   44 15:14:56     -212.487129        0.022902\n"
     ]
    },
    {
     "name": "stderr",
     "output_type": "stream",
     "text": [
      "/home/atshaam/miniconda3/envs/project_env/lib/python3.11/site-packages/scipy/_lib/_util.py:1226: RuntimeWarning: logm result may be inaccurate, approximate err = 3.4428029669770157e-13\n",
      "  return f(*arrays, *other_args, **kwargs)\n"
     ]
    },
    {
     "name": "stdout",
     "output_type": "stream",
     "text": [
      "LBFGS:   45 15:14:57     -212.487556        0.031434\n"
     ]
    },
    {
     "name": "stderr",
     "output_type": "stream",
     "text": [
      "/home/atshaam/miniconda3/envs/project_env/lib/python3.11/site-packages/scipy/_lib/_util.py:1226: RuntimeWarning: logm result may be inaccurate, approximate err = 3.457612160384507e-13\n",
      "  return f(*arrays, *other_args, **kwargs)\n"
     ]
    },
    {
     "name": "stdout",
     "output_type": "stream",
     "text": [
      "LBFGS:   46 15:14:58     -212.488054        0.028414\n"
     ]
    },
    {
     "name": "stderr",
     "output_type": "stream",
     "text": [
      "/home/atshaam/miniconda3/envs/project_env/lib/python3.11/site-packages/scipy/_lib/_util.py:1226: RuntimeWarning: logm result may be inaccurate, approximate err = 3.4422948532119314e-13\n",
      "  return f(*arrays, *other_args, **kwargs)\n"
     ]
    },
    {
     "name": "stdout",
     "output_type": "stream",
     "text": [
      "LBFGS:   47 15:14:58     -212.488336        0.013499\n"
     ]
    },
    {
     "name": "stderr",
     "output_type": "stream",
     "text": [
      "/home/atshaam/miniconda3/envs/project_env/lib/python3.11/site-packages/scipy/_lib/_util.py:1226: RuntimeWarning: logm result may be inaccurate, approximate err = 3.4753681917318627e-13\n",
      "  return f(*arrays, *other_args, **kwargs)\n"
     ]
    },
    {
     "name": "stdout",
     "output_type": "stream",
     "text": [
      "LBFGS:   48 15:14:59     -212.488403        0.012331\n"
     ]
    },
    {
     "name": "stderr",
     "output_type": "stream",
     "text": [
      "/home/atshaam/miniconda3/envs/project_env/lib/python3.11/site-packages/scipy/_lib/_util.py:1226: RuntimeWarning: logm result may be inaccurate, approximate err = 3.4511150517797225e-13\n",
      "  return f(*arrays, *other_args, **kwargs)\n"
     ]
    },
    {
     "name": "stdout",
     "output_type": "stream",
     "text": [
      "LBFGS:   49 15:14:59     -212.488428        0.012270\n"
     ]
    },
    {
     "name": "stderr",
     "output_type": "stream",
     "text": [
      "/home/atshaam/miniconda3/envs/project_env/lib/python3.11/site-packages/scipy/_lib/_util.py:1226: RuntimeWarning: logm result may be inaccurate, approximate err = 3.421513942594002e-13\n",
      "  return f(*arrays, *other_args, **kwargs)\n"
     ]
    },
    {
     "name": "stdout",
     "output_type": "stream",
     "text": [
      "LBFGS:   50 15:15:00     -212.488470        0.012223\n"
     ]
    },
    {
     "name": "stderr",
     "output_type": "stream",
     "text": [
      "/home/atshaam/miniconda3/envs/project_env/lib/python3.11/site-packages/scipy/_lib/_util.py:1226: RuntimeWarning: logm result may be inaccurate, approximate err = 3.4533855252233697e-13\n",
      "  return f(*arrays, *other_args, **kwargs)\n"
     ]
    },
    {
     "name": "stdout",
     "output_type": "stream",
     "text": [
      "LBFGS:   51 15:15:00     -212.488561        0.014247\n"
     ]
    },
    {
     "name": "stderr",
     "output_type": "stream",
     "text": [
      "/home/atshaam/miniconda3/envs/project_env/lib/python3.11/site-packages/scipy/_lib/_util.py:1226: RuntimeWarning: logm result may be inaccurate, approximate err = 3.4197654885257624e-13\n",
      "  return f(*arrays, *other_args, **kwargs)\n"
     ]
    },
    {
     "name": "stdout",
     "output_type": "stream",
     "text": [
      "LBFGS:   52 15:15:01     -212.488811        0.024324\n"
     ]
    },
    {
     "name": "stderr",
     "output_type": "stream",
     "text": [
      "/home/atshaam/miniconda3/envs/project_env/lib/python3.11/site-packages/scipy/_lib/_util.py:1226: RuntimeWarning: logm result may be inaccurate, approximate err = 3.430627282970722e-13\n",
      "  return f(*arrays, *other_args, **kwargs)\n"
     ]
    },
    {
     "name": "stdout",
     "output_type": "stream",
     "text": [
      "LBFGS:   53 15:15:02     -212.489301        0.035566\n"
     ]
    },
    {
     "name": "stderr",
     "output_type": "stream",
     "text": [
      "/home/atshaam/miniconda3/envs/project_env/lib/python3.11/site-packages/scipy/_lib/_util.py:1226: RuntimeWarning: logm result may be inaccurate, approximate err = 3.438305550492006e-13\n",
      "  return f(*arrays, *other_args, **kwargs)\n"
     ]
    },
    {
     "name": "stdout",
     "output_type": "stream",
     "text": [
      "LBFGS:   54 15:15:02     -212.490076        0.040413\n"
     ]
    },
    {
     "name": "stderr",
     "output_type": "stream",
     "text": [
      "/home/atshaam/miniconda3/envs/project_env/lib/python3.11/site-packages/scipy/_lib/_util.py:1226: RuntimeWarning: logm result may be inaccurate, approximate err = 3.4173419859909047e-13\n",
      "  return f(*arrays, *other_args, **kwargs)\n"
     ]
    },
    {
     "name": "stdout",
     "output_type": "stream",
     "text": [
      "LBFGS:   55 15:15:03     -212.490867        0.030349\n"
     ]
    },
    {
     "name": "stderr",
     "output_type": "stream",
     "text": [
      "/home/atshaam/miniconda3/envs/project_env/lib/python3.11/site-packages/scipy/_lib/_util.py:1226: RuntimeWarning: logm result may be inaccurate, approximate err = 3.5146779177688435e-13\n",
      "  return f(*arrays, *other_args, **kwargs)\n"
     ]
    },
    {
     "name": "stdout",
     "output_type": "stream",
     "text": [
      "LBFGS:   56 15:15:03     -212.491380        0.027891\n"
     ]
    },
    {
     "name": "stderr",
     "output_type": "stream",
     "text": [
      "/home/atshaam/miniconda3/envs/project_env/lib/python3.11/site-packages/scipy/_lib/_util.py:1226: RuntimeWarning: logm result may be inaccurate, approximate err = 3.5071989857730613e-13\n",
      "  return f(*arrays, *other_args, **kwargs)\n"
     ]
    },
    {
     "name": "stdout",
     "output_type": "stream",
     "text": [
      "LBFGS:   57 15:15:04     -212.491731        0.025548\n"
     ]
    },
    {
     "name": "stderr",
     "output_type": "stream",
     "text": [
      "/home/atshaam/miniconda3/envs/project_env/lib/python3.11/site-packages/scipy/_lib/_util.py:1226: RuntimeWarning: logm result may be inaccurate, approximate err = 3.4928930328170167e-13\n",
      "  return f(*arrays, *other_args, **kwargs)\n"
     ]
    },
    {
     "name": "stdout",
     "output_type": "stream",
     "text": [
      "LBFGS:   58 15:15:05     -212.492256        0.028836\n"
     ]
    },
    {
     "name": "stderr",
     "output_type": "stream",
     "text": [
      "/home/atshaam/miniconda3/envs/project_env/lib/python3.11/site-packages/scipy/_lib/_util.py:1226: RuntimeWarning: logm result may be inaccurate, approximate err = 3.494107607417016e-13\n",
      "  return f(*arrays, *other_args, **kwargs)\n"
     ]
    },
    {
     "name": "stdout",
     "output_type": "stream",
     "text": [
      "LBFGS:   59 15:15:05     -212.493299        0.050026\n"
     ]
    },
    {
     "name": "stderr",
     "output_type": "stream",
     "text": [
      "/home/atshaam/miniconda3/envs/project_env/lib/python3.11/site-packages/scipy/_lib/_util.py:1226: RuntimeWarning: logm result may be inaccurate, approximate err = 3.4774638379945364e-13\n",
      "  return f(*arrays, *other_args, **kwargs)\n"
     ]
    },
    {
     "name": "stdout",
     "output_type": "stream",
     "text": [
      "LBFGS:   60 15:15:06     -212.495079        0.070362\n"
     ]
    },
    {
     "name": "stderr",
     "output_type": "stream",
     "text": [
      "/home/atshaam/miniconda3/envs/project_env/lib/python3.11/site-packages/scipy/_lib/_util.py:1226: RuntimeWarning: logm result may be inaccurate, approximate err = 3.5275273029754913e-13\n",
      "  return f(*arrays, *other_args, **kwargs)\n"
     ]
    },
    {
     "name": "stdout",
     "output_type": "stream",
     "text": [
      "LBFGS:   61 15:15:06     -212.497341        0.072354\n"
     ]
    },
    {
     "name": "stderr",
     "output_type": "stream",
     "text": [
      "/home/atshaam/miniconda3/envs/project_env/lib/python3.11/site-packages/scipy/_lib/_util.py:1226: RuntimeWarning: logm result may be inaccurate, approximate err = 3.582005219360489e-13\n",
      "  return f(*arrays, *other_args, **kwargs)\n"
     ]
    },
    {
     "name": "stdout",
     "output_type": "stream",
     "text": [
      "LBFGS:   62 15:15:07     -212.499433        0.068935\n"
     ]
    },
    {
     "name": "stderr",
     "output_type": "stream",
     "text": [
      "/home/atshaam/miniconda3/envs/project_env/lib/python3.11/site-packages/scipy/_lib/_util.py:1226: RuntimeWarning: logm result may be inaccurate, approximate err = 3.5984851187211027e-13\n",
      "  return f(*arrays, *other_args, **kwargs)\n"
     ]
    },
    {
     "name": "stdout",
     "output_type": "stream",
     "text": [
      "LBFGS:   63 15:15:07     -212.501001        0.061316\n"
     ]
    },
    {
     "name": "stderr",
     "output_type": "stream",
     "text": [
      "/home/atshaam/miniconda3/envs/project_env/lib/python3.11/site-packages/scipy/_lib/_util.py:1226: RuntimeWarning: logm result may be inaccurate, approximate err = 3.6679294675360496e-13\n",
      "  return f(*arrays, *other_args, **kwargs)\n"
     ]
    },
    {
     "name": "stdout",
     "output_type": "stream",
     "text": [
      "LBFGS:   64 15:15:08     -212.502645        0.054809\n"
     ]
    },
    {
     "name": "stderr",
     "output_type": "stream",
     "text": [
      "/home/atshaam/miniconda3/envs/project_env/lib/python3.11/site-packages/scipy/_lib/_util.py:1226: RuntimeWarning: logm result may be inaccurate, approximate err = 3.676092706886627e-13\n",
      "  return f(*arrays, *other_args, **kwargs)\n"
     ]
    },
    {
     "name": "stdout",
     "output_type": "stream",
     "text": [
      "LBFGS:   65 15:15:09     -212.504764        0.071273\n"
     ]
    },
    {
     "name": "stderr",
     "output_type": "stream",
     "text": [
      "/home/atshaam/miniconda3/envs/project_env/lib/python3.11/site-packages/scipy/_lib/_util.py:1226: RuntimeWarning: logm result may be inaccurate, approximate err = 3.6741263236314347e-13\n",
      "  return f(*arrays, *other_args, **kwargs)\n"
     ]
    },
    {
     "name": "stdout",
     "output_type": "stream",
     "text": [
      "LBFGS:   66 15:15:09     -212.507213        0.076905\n"
     ]
    },
    {
     "name": "stderr",
     "output_type": "stream",
     "text": [
      "/home/atshaam/miniconda3/envs/project_env/lib/python3.11/site-packages/scipy/_lib/_util.py:1226: RuntimeWarning: logm result may be inaccurate, approximate err = 3.8458049690634284e-13\n",
      "  return f(*arrays, *other_args, **kwargs)\n"
     ]
    },
    {
     "name": "stdout",
     "output_type": "stream",
     "text": [
      "LBFGS:   67 15:15:10     -212.509792        0.085228\n"
     ]
    },
    {
     "name": "stderr",
     "output_type": "stream",
     "text": [
      "/home/atshaam/miniconda3/envs/project_env/lib/python3.11/site-packages/scipy/_lib/_util.py:1226: RuntimeWarning: logm result may be inaccurate, approximate err = 3.833420935028747e-13\n",
      "  return f(*arrays, *other_args, **kwargs)\n"
     ]
    },
    {
     "name": "stdout",
     "output_type": "stream",
     "text": [
      "LBFGS:   68 15:15:10     -212.512393        0.081891\n"
     ]
    },
    {
     "name": "stderr",
     "output_type": "stream",
     "text": [
      "/home/atshaam/miniconda3/envs/project_env/lib/python3.11/site-packages/scipy/_lib/_util.py:1226: RuntimeWarning: logm result may be inaccurate, approximate err = 3.846772133457075e-13\n",
      "  return f(*arrays, *other_args, **kwargs)\n"
     ]
    },
    {
     "name": "stdout",
     "output_type": "stream",
     "text": [
      "LBFGS:   69 15:15:11     -212.514593        0.057954\n"
     ]
    },
    {
     "name": "stderr",
     "output_type": "stream",
     "text": [
      "/home/atshaam/miniconda3/envs/project_env/lib/python3.11/site-packages/scipy/_lib/_util.py:1226: RuntimeWarning: logm result may be inaccurate, approximate err = 3.9425678898093395e-13\n",
      "  return f(*arrays, *other_args, **kwargs)\n"
     ]
    },
    {
     "name": "stdout",
     "output_type": "stream",
     "text": [
      "LBFGS:   70 15:15:11     -212.515672        0.029023\n"
     ]
    },
    {
     "name": "stderr",
     "output_type": "stream",
     "text": [
      "/home/atshaam/miniconda3/envs/project_env/lib/python3.11/site-packages/scipy/_lib/_util.py:1226: RuntimeWarning: logm result may be inaccurate, approximate err = 3.9017834375342233e-13\n",
      "  return f(*arrays, *other_args, **kwargs)\n"
     ]
    },
    {
     "name": "stdout",
     "output_type": "stream",
     "text": [
      "LBFGS:   71 15:15:12     -212.515968        0.025415\n"
     ]
    },
    {
     "name": "stderr",
     "output_type": "stream",
     "text": [
      "/home/atshaam/miniconda3/envs/project_env/lib/python3.11/site-packages/scipy/_lib/_util.py:1226: RuntimeWarning: logm result may be inaccurate, approximate err = 3.8841739707429175e-13\n",
      "  return f(*arrays, *other_args, **kwargs)\n"
     ]
    },
    {
     "name": "stdout",
     "output_type": "stream",
     "text": [
      "LBFGS:   72 15:15:13     -212.516118        0.020503\n"
     ]
    },
    {
     "name": "stderr",
     "output_type": "stream",
     "text": [
      "/home/atshaam/miniconda3/envs/project_env/lib/python3.11/site-packages/scipy/_lib/_util.py:1226: RuntimeWarning: logm result may be inaccurate, approximate err = 3.943580372550128e-13\n",
      "  return f(*arrays, *other_args, **kwargs)\n"
     ]
    },
    {
     "name": "stdout",
     "output_type": "stream",
     "text": [
      "LBFGS:   73 15:15:13     -212.516212        0.013313\n"
     ]
    },
    {
     "name": "stderr",
     "output_type": "stream",
     "text": [
      "/home/atshaam/miniconda3/envs/project_env/lib/python3.11/site-packages/scipy/_lib/_util.py:1226: RuntimeWarning: logm result may be inaccurate, approximate err = 3.9113852366245667e-13\n",
      "  return f(*arrays, *other_args, **kwargs)\n"
     ]
    }
   ],
   "source": [
    "relaxed_Al_prim = {}\n",
    "for name, val in matching_pairs.items():\n",
    "    atoms = val['structure'].to_ase_atoms()\n",
    "    atoms.calc = calc\n",
    "    opt = LBFGS(FrechetCellFilter(atoms))\n",
    "    opt.run(0.01, 1000)\n",
    "    relaxed_Al_prim[name] = {\n",
    "        'formula': val['formula'],\n",
    "        'energy': atoms.get_potential_energy(),\n",
    "        'structure': AseAtomsAdaptor.get_structure(atoms)\n",
    "    }"
   ]
  },
  {
   "cell_type": "code",
   "execution_count": null,
   "id": "cd822650-602a-479f-9dc4-7d3adaf76cfc",
   "metadata": {},
   "outputs": [],
   "source": [
    "dumpfn(relaxed_Al_prim, '../data/cr_above_hull_calculations/relaxed_Al_prim.json')"
   ]
  }
 ],
 "metadata": {
  "kernelspec": {
   "display_name": "Python 3 (ipykernel)",
   "language": "python",
   "name": "python3"
  },
  "language_info": {
   "codemirror_mode": {
    "name": "ipython",
    "version": 3
   },
   "file_extension": ".py",
   "mimetype": "text/x-python",
   "name": "python",
   "nbconvert_exporter": "python",
   "pygments_lexer": "ipython3",
   "version": "3.11.13"
  }
 },
 "nbformat": 4,
 "nbformat_minor": 5
}
