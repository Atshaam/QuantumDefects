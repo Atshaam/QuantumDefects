{
 "cells": [
  {
   "cell_type": "code",
   "execution_count": 1,
   "id": "6c5da797-72c7-491a-93aa-c2010094d5bd",
   "metadata": {},
   "outputs": [],
   "source": [
    "import os\n",
    "\n",
    "os.environ[\"CUDA_DEVICE_ORDER\"] = \"PCI_BUS_ID\"\n",
    "os.environ[\"CUDA_VISIBLE_DEVICES\"] = \"1\""
   ]
  },
  {
   "cell_type": "code",
   "execution_count": 2,
   "id": "7020e85d-d2a9-42bb-999c-cfbbb3415785",
   "metadata": {},
   "outputs": [
    {
     "name": "stderr",
     "output_type": "stream",
     "text": [
      "/home/atshaam/miniconda3/envs/proj_env/lib/python3.11/site-packages/tqdm/auto.py:21: TqdmWarning: IProgress not found. Please update jupyter and ipywidgets. See https://ipywidgets.readthedocs.io/en/stable/user_install.html\n",
      "  from .autonotebook import tqdm as notebook_tqdm\n"
     ]
    }
   ],
   "source": [
    "from mp_api.client import MPRester\n",
    "from pymatgen.analysis.structure_matcher import StructureMatcher\n",
    "from monty.serialization import loadfn, dumpfn"
   ]
  },
  {
   "cell_type": "code",
   "execution_count": 3,
   "id": "fff85242-6b60-4074-a367-f300c0a720e9",
   "metadata": {},
   "outputs": [],
   "source": [
    "mpr = MPRester()"
   ]
  },
  {
   "cell_type": "code",
   "execution_count": 4,
   "id": "e9e92398-14c1-47a2-b4ee-96dd4fd05091",
   "metadata": {},
   "outputs": [
    {
     "name": "stderr",
     "output_type": "stream",
     "text": [
      "Retrieving SummaryDoc documents: 100%|█████████████████████████████████████████████| 7122/7122 [00:34<00:00, 207.58it/s]\n"
     ]
    }
   ],
   "source": [
    "candidates = mpr.materials.summary.search(theoretical=False, elements=['O'], energy_above_hull=(0,0))"
   ]
  },
  {
   "cell_type": "code",
   "execution_count": 5,
   "id": "e70bdef0-b1dc-4ea4-9aac-1235d0f532cf",
   "metadata": {},
   "outputs": [],
   "source": [
    "from pymatgen.core import Structure\n",
    "\n",
    "# Define f-block elements (lanthanides + actinides)\n",
    "lanthanides = [\n",
    "    \"La\", \"Ce\", \"Pr\", \"Nd\", \"Pm\", \"Sm\", \"Eu\",\n",
    "    \"Gd\", \"Tb\", \"Dy\", \"Ho\", \"Er\", \"Tm\", \"Yb\", \"Lu\"\n",
    "]\n",
    "\n",
    "actinides = [\n",
    "    \"Ac\", \"Th\", \"Pa\", \"U\", \"Np\", \"Pu\", \"Am\",\n",
    "    \"Cm\", \"Bk\", \"Cf\", \"Es\", \"Fm\", \"Md\", \"No\", \"Lr\"\n",
    "]\n",
    "\n",
    "non_TM = [\"Zn\", \"Cd\", \"Hg\"]\n",
    "\n",
    "f_block = set(lanthanides + actinides + non_TM)\n",
    "\n",
    "def filter_out_fblock(structures):\n",
    "    \"\"\"Remove any structures containing f-block elements.\"\"\"\n",
    "    filtered = []\n",
    "    for s in structures:\n",
    "        elems = {str(el) for el in s.composition.elements}\n",
    "        if not elems.intersection(f_block):\n",
    "            filtered.append(s)\n",
    "    return filtered"
   ]
  },
  {
   "cell_type": "code",
   "execution_count": 6,
   "id": "da705336-aa41-45d8-a569-1e6dcc26a0ac",
   "metadata": {},
   "outputs": [],
   "source": [
    "filtered_candidates = filter_out_fblock(candidates)"
   ]
  },
  {
   "cell_type": "code",
   "execution_count": 7,
   "id": "5a9f9e89-dae8-4d15-a441-2f4e5465004a",
   "metadata": {},
   "outputs": [],
   "source": [
    "from pymatgen.analysis.structure_matcher import ElementComparator\n",
    "from pymatgen.core import Element, Composition\n",
    "class TMComparator(ElementComparator):\n",
    "    def are_equal(self, el1: Element, el2: Element):\n",
    "        if el1 == el2:\n",
    "            return True\n",
    "        elif (\n",
    "            (el1.contains_element_type('transition_metal') \n",
    "             and el2.contains_element_type('metal') \n",
    "             and not el2.contains_element_type('transition_metal'))\n",
    "        ): # make sure 1 element is TM, other is metal that's not a TM\n",
    "            for el in el2.elements:\n",
    "                if 'd' not in el.electronic_structure: # make sure metal has no d-electrons\n",
    "                    return True\n",
    "        elif (el1.contains_element_type('metal') \n",
    "             and not el1.contains_element_type('transition_metal') \n",
    "             and el2.contains_element_type('transition_metal')\n",
    "        ):  # make sure 1 element is TM, other is metal that's not a TM\n",
    "            for el in el2.elements:\n",
    "                if 'd' not in el.electronic_structure:  # make sure metal has no d-electrons\n",
    "                    return True\n",
    "        elif el1.contains_element_type('transition_metal') or el2.contains_element_type('transition_metal'):\n",
    "            return False\n",
    "        \n",
    "        return False\n",
    "    def get_hash(self, composition):\n",
    "        \"\"\"Get the fractional composition.\"\"\"\n",
    "        comphash = composition.fractional_composition.formula\n",
    "        elements = composition.elements\n",
    "        tm_count = 0\n",
    "        metal_count = 0\n",
    "        for el in elements:\n",
    "            if el.is_transition_metal and tm_count == 0:\n",
    "                comphash = comphash.replace(el.symbol, 'J')\n",
    "                tm_count += 1 # make sure only 1 TM in whole material\n",
    "            elif el.is_metal and metal_count == 0:\n",
    "                if 'd' not in el.electronic_structure:\n",
    "                    comphash = comphash.replace(el.symbol, 'J')\n",
    "                    metal_count += 1\n",
    "        return comphash\n",
    "\n",
    "sm = StructureMatcher(comparator=TMComparator())"
   ]
  },
  {
   "cell_type": "code",
   "execution_count": 32,
   "id": "138148d5-c766-4994-8041-f3aec6cc8546",
   "metadata": {},
   "outputs": [],
   "source": [
    "matching_pairs = {}"
   ]
  },
  {
   "cell_type": "code",
   "execution_count": 34,
   "id": "41eb262b-c15e-4e8b-a606-7e37e2eb8dfc",
   "metadata": {},
   "outputs": [],
   "source": [
    "for candidate in filtered_candidates:\n",
    "    for candidate2 in filtered_candidates:\n",
    "        if candidate.composition.anonymized_formula == candidate2.composition.anonymized_formula:\n",
    "            if candidate.composition.formula != candidate2.composition.formula:\n",
    "                if sm.fit(candidate.structure, candidate2.structure):\n",
    "                    elements = candidate.elements + candidate2.elements\n",
    "                    for element in elements:\n",
    "                        if element.is_transition_metal:\n",
    "                            dopant = element\n",
    "                    if candidate.composition.contains_element_type('transition_metal'):\n",
    "                        for element in candidate2.elements:\n",
    "                            if element not in candidate.elements:\n",
    "                                metal = element.symbol\n",
    "                        if candidate2.material_id in previous.keys():\n",
    "                            if previous[candidate2.material_id]['dopant'] == dopant.symbol:\n",
    "                                continue\n",
    "                        key = candidate2.material_id + dopant.symbol\n",
    "                        matching_pairs[key] = {\n",
    "                            'matches': (candidate.material_id, candidate.formula_pretty),\n",
    "                            'formula': candidate2.formula_pretty,\n",
    "                            'structure': candidate2.structure,\n",
    "                            'dopant' : dopant.symbol,\n",
    "                            'metal': metal\n",
    "                        }\n",
    "                    elif candidate2.composition.contains_element_type('transition_metal'):\n",
    "                        for element in candidate.elements:\n",
    "                            if element not in candidate2.elements:\n",
    "                                metal = element.symbol\n",
    "                        if candidate.material_id in previous.keys():\n",
    "                            if previous[candidate.material_id]['dopant'] == dopant.symbol:\n",
    "                                continue\n",
    "                        key = candidate.material_id + dopant.symbol\n",
    "                        matching_pairs[key] = {\n",
    "                            'matches': (candidate2.material_id, candidate2.formula_pretty),\n",
    "                            'formula': candidate.formula_pretty,\n",
    "                            'structure': candidate.structure,\n",
    "                            'dopant' : dopant.symbol,\n",
    "                            'metal':metal\n",
    "                        }"
   ]
  },
  {
   "cell_type": "code",
   "execution_count": 36,
   "id": "ffe15c1a-3a46-4b1b-95e4-33b13ef8f480",
   "metadata": {
    "scrolled": true
   },
   "outputs": [],
   "source": [
    "dumpfn(matching_pairs, '../../data/matching_extended_screening.json')"
   ]
  }
 ],
 "metadata": {
  "kernelspec": {
   "display_name": "Python 3 (ipykernel)",
   "language": "python",
   "name": "python3"
  },
  "language_info": {
   "codemirror_mode": {
    "name": "ipython",
    "version": 3
   },
   "file_extension": ".py",
   "mimetype": "text/x-python",
   "name": "python",
   "nbconvert_exporter": "python",
   "pygments_lexer": "ipython3",
   "version": "3.11.13"
  }
 },
 "nbformat": 4,
 "nbformat_minor": 5
}
