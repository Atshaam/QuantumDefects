{
 "cells": [
  {
   "cell_type": "code",
   "execution_count": 2,
   "id": "5b999777-45ff-4696-8bc0-71dce0be418d",
   "metadata": {},
   "outputs": [],
   "source": [
    "import os\n",
    "\n",
    "os.environ[\"CUDA_DEVICE_ORDER\"] = \"PCI_BUS_ID\"\n",
    "os.environ[\"CUDA_VISIBLE_DEVICES\"] = \"1\""
   ]
  },
  {
   "cell_type": "code",
   "execution_count": 3,
   "id": "3ce474d5-4d96-4300-a124-12f30d03ae3a",
   "metadata": {},
   "outputs": [],
   "source": [
    "from monty.serialization import loadfn, dumpfn\n",
    "import json"
   ]
  },
  {
   "cell_type": "code",
   "execution_count": 4,
   "id": "46bd705c-45fc-4423-8703-31055cd2c162",
   "metadata": {},
   "outputs": [],
   "source": [
    "MODEL = \"uma\""
   ]
  },
  {
   "cell_type": "code",
   "execution_count": 5,
   "id": "f54a2520-cfaa-45c4-acff-b5f21759b54d",
   "metadata": {},
   "outputs": [],
   "source": [
    "supercell_size = 10.1"
   ]
  },
  {
   "cell_type": "code",
   "execution_count": 6,
   "id": "ddb23803-42f5-4a79-8fa2-f824810b952f",
   "metadata": {},
   "outputs": [],
   "source": [
    "complete_energies = loadfn(f'../../data/{MODEL}/{MODEL}_corrected_doped_defect_energies_{supercell_size}A.json')"
   ]
  },
  {
   "cell_type": "markdown",
   "id": "b10bb8c6-b282-4232-afab-afc00e1066f9",
   "metadata": {},
   "source": [
    "Defect formation energy = energy of defect supercell *min energy site* + Al atom chem potential - non defect supercell - Cr atom chem potential"
   ]
  },
  {
   "cell_type": "code",
   "execution_count": 7,
   "id": "18fa96cf-09ee-4106-9f08-b6ea7ef49e5c",
   "metadata": {},
   "outputs": [],
   "source": [
    "for key in complete_energies.keys():\n",
    "    complete_energies[key]['defect formation energy'] = {}\n",
    "    defect_supercell_e = complete_energies[key]['minimum energy site']['energy']\n",
    "    supercell_e = complete_energies[key]['defects']['supercell']['energy'] # pristine supercell\n",
    "    formation_energy = {}\n",
    "    for key1 in complete_energies[key]['competing phases']['chemical potentials']['limits'].keys():\n",
    "        defect_energy = defect_supercell_e + complete_energies[key]['competing phases']['chemical potentials']['limits'][key1]['Al'] - supercell_e - complete_energies[key]['competing phases']['chemical potentials']['limits'][key1]['Cr']\n",
    "        formation_energy[key1] = defect_energy\n",
    "    complete_energies[key]['defect formation energy'] = formation_energy"
   ]
  },
  {
   "cell_type": "code",
   "execution_count": 8,
   "id": "27edad6b-a3fe-4d6d-9bef-f74817212a64",
   "metadata": {},
   "outputs": [],
   "source": [
    "dumpfn(complete_energies, f'../data/{MODEL}/{MODEL}_corrected_calculated_defect_formation_energies_{supercell_size}A.json')"
   ]
  },
  {
   "cell_type": "code",
   "execution_count": 31,
   "id": "e74e9a13-34ce-4396-b4d3-e906eb4ea243",
   "metadata": {},
   "outputs": [],
   "source": [
    "complete_energies = loadfn(f'../data/{MODEL}/{MODEL}_corrected_calculated_defect_formation_energies_{supercell_size}A.json')"
   ]
  },
  {
   "cell_type": "code",
   "execution_count": 23,
   "id": "e7fe82a9-11db-46f4-9829-551f405b0ca1",
   "metadata": {},
   "outputs": [
    {
     "name": "stdout",
     "output_type": "stream",
     "text": [
      "{\n",
      " \"Al(PO3)3-AlPO4-P-CrP4\": 2.2218420193764477,\n",
      " \"Al(PO3)3-P2O5-P-CrP4\": 0.1779020193766545,\n",
      " \"Al(PO3)3-AlPO4-O2-Cr(PO3)3\": 0.07084201937649226,\n",
      " \"Al(PO3)3-P2O5-O2-Cr(PO3)3\": 0.07087201937654264\n",
      "}\n",
      "{\n",
      " \"LiAl3-LiAlO2-Al-Al45Cr7\": 5.64609466586081,\n",
      " \"LiAl3-LiAlO2-LiAl-Al45Cr7\": 5.59039466586076,\n",
      " \"LiAl5O8-LiAlO2-Al-Al45Cr7\": 5.64609466586081,\n",
      " \"LiAl5O8-LiAlO2-LiO8-Li2CrO4\": 0.6002446658607816,\n",
      " \"Li3Al2-LiAlO2-LiAl-Al3Cr\": 4.771414665860847,\n",
      " \"Li3Al2-Li5AlO4-LiAlO2-AlCr2\": 4.757984665860855,\n",
      " \"Li2O2-LiAlO2-LiO8-Li2CrO4\": 0.9973846658608085,\n",
      " \"Li2O2-Li5AlO4-LiAlO2-Li2CrO4\": 0.9378646658608041\n",
      "}\n",
      "{\n",
      " \"AlClO-Cl2-Al2O3-CrCl3\": 2.8106677884190017,\n",
      " \"AlClO-AlCl3-Cl2-CrCl3\": 2.8798877884190315,\n",
      " \"AlClO-Al-Al2O3-Al45Cr7\": 5.229857788419006,\n",
      " \"AlClO-AlCl3-Al-Al45Cr7\": 5.229857788419006\n",
      "}\n",
      "{\n",
      " \"SmAlO3-SmAl3-SmAl2-AlCr2\": 4.715655847501402,\n",
      " \"SmAlO3-Sm4Al2O9-SmAl2-AlCr2\": 4.685085847501471,\n",
      " \"SmAlO3-SmAl3-Sm3Al5O12-AlCr2\": 4.7534958475014815,\n",
      " \"SmAlO3-Sm3Al5O12-O2-SmCrO4\": 0.8850558475014694,\n",
      " \"SmAlO3-Sm4Al2O9-O2-SmCrO4\": 0.8850658475013891\n",
      "}\n",
      "{\n",
      " \"AlWO4-W-Al2O3-CrWO4\": -0.6302855331139998\n",
      "}\n",
      "{\n",
      " \"KAlP2O7-Al(PO3)3-AlPO4-P-CrP4\": 2.101602761563038,\n",
      " \"KAlP2O7-Al(PO3)3-P-KPO3-CrP4\": 1.868422761562977,\n",
      " \"KAlP2O7-Al(PO3)3-AlPO4-O2-KCrP2O7\": 0.06912276156308295,\n",
      " \"KAlP2O7-Al(PO3)3-O2-KPO3-KCrP2O7\": 0.0691327615630204,\n",
      " \"K3Al2(PO4)3-KAlP2O7-AlPO4-O2-K2Cr2O7\": 0.5720727615630583,\n",
      " \"K3Al2(PO4)3-KAlP2O7-AlPO4-P-CrP4\": 3.027542761563007,\n",
      " \"K3Al2(PO4)3-KAlP2O7-O2-KPO3-K2CrO4\": 0.4471327615629974,\n",
      " \"K3Al2(PO4)3-KAlP2O7-P-KPO3-CrP4\": 2.7943627615630593\n",
      "}\n",
      "{\n",
      " \"Cs2Al(NO3)5-NO3-Al2O3-NO2-Cs2Cr(NO3)5\": -0.008866016512959263,\n",
      " \"Cs2Al(NO3)5-NO3-CsNO3-NO2-Cs2Cr(NO3)5\": -0.008856016512954312,\n",
      " \"Cs2Al(NO3)5-Al2O3-N2-NO2-Cs2Cr(NO3)5\": -0.008956016512962961,\n",
      " \"Cs2Al(NO3)5-CsNO3-N2-NO2-Cs2Cr(NO3)5\": -0.00893601651299214,\n",
      " \"Cs2Al(NO3)5-CsNO3-Al2O3-N2-Cs2Cr(NO3)5\": -0.008846016512952914,\n",
      " \"Cs2Al(NO3)5-NO3-O2-Al2O3-Cs2Cr(NO3)5\": -0.008866016512985908,\n",
      " \"Cs2Al(NO3)5-NO3-CsNO3-O2-Cs2Cr(NO3)5\": -0.008856016512954312,\n",
      " \"Cs2Al(NO3)5-CsNO3-O2-Al2O3-Cs2Cr(NO3)5\": -0.008826016512985646\n",
      "}\n",
      "{\n",
      " \"AlH12(ClO2)3-AlClO-Al2O3-H2-CrCl3\": 3.397041090421162,\n",
      " \"AlH12(ClO2)3-AlClO-AlCl3-H2-CrCl3\": 3.466211090421128,\n",
      " \"AlH12(ClO2)3-AlClO-Al2O3-Cl2-CrCl3\": 3.3970210904211253,\n",
      " \"AlH12(ClO2)3-HCl-AlCl3-H2-CrCl3\": 3.4662110904211225,\n",
      " \"AlH12(ClO2)3-AlClO-AlCl3-Cl2-CrCl3\": 3.466241090421155,\n",
      " \"AlH12(ClO2)3-H2O-Cl2-ClO2-CrCl3\": 1.8551410904211334,\n",
      " \"AlH12(ClO2)3-HCl-AlCl3-Cl2-CrCl3\": 3.466241090421155,\n",
      " \"AlHO2-AlH12(ClO2)3-Al2O3-H2-CrCl3\": 3.0357110904211115,\n",
      " \"AlHO2-AlH12(ClO2)3-H2O-H2-Cr\": 2.528591090421145,\n",
      " \"AlHO2-AlH12(ClO2)3-H2O-ClO2-CrCl3\": 1.8551410904211618,\n",
      " \"AlHO2-AlH12(ClO2)3-Cl2-ClO2-CrCl3\": 2.503141090421158,\n",
      " \"AlHO2-AlH12(ClO2)3-Al2O3-Cl2-CrCl3\": 3.03574109042116,\n",
      " \"H3ClO-AlH12(ClO2)3-HCl-H2-CrCl3\": 3.3589910904211386,\n",
      " \"H3ClO-AlH12(ClO2)3-HCl-Cl2-CrCl3\": 3.3589910904211333,\n",
      " \"H7ClO3-AlH12(ClO2)3-H2O-H2-CrCl3\": 1.8551510904211312,\n",
      " \"H7ClO3-H3ClO-AlH12(ClO2)3-H2-CrCl3\": 2.0051510904211423,\n",
      " \"H7ClO3-AlH12(ClO2)3-H2O-Cl2-CrCl3\": 1.8551410904211334,\n",
      " \"H7ClO3-H3ClO-AlH12(ClO2)3-Cl2-CrCl3\": 2.005161090421117\n",
      "}\n",
      "{\n",
      " \"Na3AlP8O23-P2O5-NaPO3-O2-Na3CrP8O23\": 0.015055447110750464,\n",
      " \"Na3AlP8O23-P2O5-Al(PO3)3-O2-Cr(PO3)3\": 0.053385447110690265,\n",
      " \"Na3AlP8O23-Al(PO3)3-NaPO3-O2-Cr(PO3)3\": 0.053375447110679985,\n",
      " \"Na3AlP8O23-P2O5-NaPO3-P-Na3CrP8O23\": 0.014925447110750056,\n",
      " \"Na3AlP8O23-P2O5-Al(PO3)3-P-Cr(PO3)3\": 0.053315447110687586,\n",
      " \"Na3AlP8O23-Al(PO3)3-NaPO3-P-Cr(PO3)3\": 0.053395447110714755\n",
      "}\n",
      "{\n",
      " \"CsAlH24(SeO10)2-CsHSeO4-CsH3(SeO3)2-H2O-SeO2-CrHSe3O8\": 0.425696030606904,\n",
      " \"CsAlH24(SeO10)2-AlH5(SeO4)2-CsH3(SeO3)2-H2O-SeO2-CrHSe3O8\": 0.44161603060693544,\n",
      " \"CsAlH24(SeO10)2-AlH5(SeO4)2-CsHSeO4-CsH3(SeO3)2-SeO2-CrHSe3O8\": 0.4448260306069276,\n",
      " \"CsAlH24(SeO10)2-AlH5(SeO4)2-CsHSeO4-CsH3(SeO4)2-SeO2-CrHSe3O8\": 0.5333660306068726,\n",
      " \"CsAlH24(SeO10)2-Al2H12(SeO5)3-AlH5(SeO4)2-CsH3(SeO3)2-H2O-CrHSe3O8\": 0.3989360306068619,\n",
      " \"CsAlH24(SeO10)2-AlH5(SeO4)2-CsH3(SeO4)2-Al2(SeO4)3-SeO2-CrHSe3O8\": 0.5333560306068534,\n",
      " \"CsAlH24(SeO10)2-H4SeO5-CsH3(SeO4)2-Al2(SeO4)3-SeO2-CrHSe3O8\": 0.5003760306068799,\n",
      " \"CsAlH24(SeO10)2-AlH5(SeO4)2-CsHSeO4-CsH3(SeO4)2-Al2(SeO4)3-CrHSe3O8\": 0.5013860306069624,\n",
      " \"CsAlH24(SeO10)2-Al2H12(SeO5)3-AlH5(SeO4)2-CsHSeO4-Al2(SeO4)3-CrHSe3O8\": 0.46348603060694593,\n",
      " \"CsAlH24(SeO10)2-CsHSeO4-CsH3(SeO4)2-Al2(SeO4)3-O2-CsCr3O8\": 0.40246603060696273,\n",
      " \"CsAlH24(SeO10)2-Al2H12(SeO5)3-AlHO2-Al2(SeO4)3-H2O-CrHO2\": 0.2988660306069235,\n",
      " \"CsAlH24(SeO10)2-Al2H12(SeO5)3-CsHSeO4-AlHO2-Al2(SeO4)3-CrHSe3O8\": 0.37548603060693964,\n",
      " \"CsAlH24(SeO10)2-H4SeO5-CsH3(SeO4)2-Al2(SeO4)3-O2-Cr5O12\": 0.1879860306068757,\n",
      " \"CsAlH24(SeO10)2-AlHO2-Al2(SeO4)3-H2O-O2-Cr5O12\": 0.5545560306069,\n",
      " \"CsAlH24(SeO10)2-CsHSeO4-AlHO2-Al2(SeO4)3-O2-CsCr3O8\": 0.6455060306068781,\n",
      " \"Cs3H(SeO4)2-CsAlH24(SeO10)2-CsHSeO4-AlHO2-O2-CsCr3O8\": 0.7316860306069568,\n",
      " \"Cs3H(SeO4)2-CsAlH24(SeO10)2-AlH5(SeO4)2-CsHSeO4-CsH3(SeO3)2-CrHSe3O8\": 0.40929603060693864,\n",
      " \"Cs3H(SeO4)2-CsAlH24(SeO10)2-Al2H12(SeO5)3-AlH5(SeO4)2-CsH3(SeO3)2-CrHSe3O8\": 0.39923603060686297,\n",
      " \"Cs3H(SeO4)2-CsAlH24(SeO10)2-Al2H12(SeO5)3-AlH5(SeO4)2-CsHSeO4-CrHSe3O8\": 0.40345603060694124,\n",
      " \"Cs3H(SeO4)2-CsAlH24(SeO10)2-Al2H12(SeO5)3-CsHSeO4-AlHO2-CrHO2\": 0.2988860306069103,\n",
      " \"Cs3H(SeO4)2-CsAlH24(SeO10)2-AlHO2-H2O-O2-Cs2CrO4\": 1.0297260306069003,\n",
      " \"Cs3H(SeO4)2-CsAlH24(SeO10)2-CsHSeO4-H2O-O2-CsCr3O8\": 0.330426030606942,\n",
      " \"Cs3H(SeO4)2-CsAlH24(SeO10)2-CsHSeO4-CsH3(SeO3)2-H2O-CrHSe3O8\": 0.3886060306068604,\n",
      " \"Cs3H(SeO4)2-CsAlH24(SeO10)2-Al2H12(SeO5)3-CsH3(SeO3)2-H2O-CrHSe3O8\": 0.39607603060689556,\n",
      " \"Cs3H(SeO4)2-CsAlH24(SeO10)2-Al2H12(SeO5)3-AlHO2-H2O-CrHO2\": 0.29886603060696615,\n",
      " \"H10SeO8-CsAlH24(SeO10)2-H4SeO5-CsH3(SeO4)2-SeO2-CrHSe3O8\": 0.48887603060692975,\n",
      " \"H10SeO8-CsAlH24(SeO10)2-CsHSeO4-H2O-SeO2-CrHSe3O8\": 0.08750603060690132,\n",
      " \"H10SeO8-CsAlH24(SeO10)2-CsHSeO4-CsH3(SeO4)2-SeO2-CrHSe3O8\": 0.10640603060692122,\n",
      " \"H10SeO8-CsAlH24(SeO10)2-AlH5(SeO4)2-H2O-SeO2-CrHSe3O8\": 0.44160603060691805,\n",
      " \"H10SeO8-CsAlH24(SeO10)2-H4SeO5-CsH3(SeO4)2-O2-Cr5O12\": 0.17590603060690668,\n",
      " \"H10SeO8-CsAlH24(SeO10)2-CsHSeO4-H2O-O2-CsCrH24(SeO10)2\": 0.006446030606918285,\n",
      " \"H10SeO8-CsAlH24(SeO10)2-CsHSeO4-CsH3(SeO4)2-O2-CsCrH24(SeO10)2\": 0.006666030606950812,\n",
      " \"H10SeO8-CsAlH24(SeO10)2-AlH5(SeO4)2-Al2(SeO4)3-SeO2-CrHSe3O8\": 0.5203260306068653,\n",
      " \"H10SeO8-CsAlH24(SeO10)2-H4SeO5-Al2(SeO4)3-SeO2-CrHSe3O8\": 0.5043960306068538,\n",
      " \"H10SeO8-CsAlH24(SeO10)2-Al2H12(SeO5)3-AlH5(SeO4)2-H2O-CrHSe3O8\": 0.3989360306069276,\n",
      " \"H10SeO8-CsAlH24(SeO10)2-Al2(SeO4)3-H2O-O2-Cr5O12\": 0.501926030606878,\n",
      " \"H10SeO8-CsAlH24(SeO10)2-H4SeO5-Al2(SeO4)3-O2-Cr5O12\": 0.19143603060691916,\n",
      " \"H10SeO8-CsAlH24(SeO10)2-Al2H12(SeO5)3-AlH5(SeO4)2-Al2(SeO4)3-CrHSe3O8\": 0.4245360306068662,\n",
      " \"H10SeO8-CsAlH24(SeO10)2-Al2H12(SeO5)3-Al2(SeO4)3-H2O-CrHO2\": 0.24622603060692683\n",
      "}\n",
      "{\n",
      " \"Al2O3-Al-Al45Cr7\": 5.743506775235582,\n",
      " \"Al2O3-O2-Cr5O12\": 0.5758967752355737\n",
      "}\n",
      "{\n",
      " \"Al2(SO4)3-S-Al2O3-CrS2\": 1.6134923741431262,\n",
      " \"Al2(SO4)3-O2-Al2O3-Cr5O12\": 0.5010223741431581,\n",
      " \"Al2(SO4)3-SO3-O2-Cr2(SO4)3\": 0.048932374143129564,\n",
      " \"SO2-Al2(SO4)3-S-CrS2\": 0.3506723741432065,\n",
      " \"SO2-Al2(SO4)3-SO3-Cr2(SO4)3\": 0.04888237414316876\n",
      "}\n",
      "{\n",
      " \"Al2FeO4-Fe-Al2O3-AlCrFeO4\": -0.40333657193241024\n",
      "}\n",
      "{\n",
      " \"MgAl2O4-Al-MgO-Al45Cr7\": 5.5013040164462925,\n",
      " \"MgAl2O4-Al2O3-Al-Al45Cr7\": 5.5013040164462925,\n",
      " \"MgAl2O4-Al2O3-O2-MgCrO4\": 0.770794016446283,\n",
      " \"MgO2-MgAl2O4-MgO-MgCrO4\": 0.40857401644625035,\n",
      " \"MgO2-MgAl2O4-O2-MgCrO4\": 0.7784240164462464\n",
      "}\n",
      "{\n",
      " \"MnAl2O4-Mn3O4-Mn-MnCr2O4\": -0.004150817538500107,\n",
      " \"MnAl2O4-Al2O3-Mn-MnCr2O4\": -0.004150817538553397,\n",
      " \"MnAl2O4-Mn3O4-Al2O3-MnCr2O4\": -0.004130817538507969\n",
      "}\n",
      "{\n",
      " \"Al2(MoO4)3-Mo-Al2O3-Cr2(MoO4)3\": 0.05425047152464657,\n",
      " \"Al2(MoO4)3-MoO3-Mo-Cr2(MoO4)3\": 0.054250471524664334,\n",
      " \"Al2(MoO4)3-O2-Al2O3-Cr5O12\": 0.4030604715246362,\n",
      " \"Al2(MoO4)3-MoO3-O2-Cr5O12\": 0.07182047152465643\n",
      "}\n",
      "{\n",
      " \"BeAl2O4-Al-BeO-Al45Cr7\": 5.55690704379027,\n",
      " \"BeAl2O4-Al2O3-Al-Al45Cr7\": 5.55690704379027,\n",
      " \"BeAl2O4-O2-BeO-Cr5O12\": 0.3262770437903235,\n",
      " \"BeAl2O4-Al2O3-O2-Cr5O12\": 0.3892970437902612\n",
      "}\n"
     ]
    }
   ],
   "source": [
    "for key in complete_energies.keys():\n",
    "    pretty = json.dumps(complete_energies[key]['defect formation energy'], indent=1)\n",
    "    print(pretty)"
   ]
  },
  {
   "cell_type": "code",
   "execution_count": 32,
   "id": "ae9d4794-2d82-4a79-b457-800010b2b068",
   "metadata": {},
   "outputs": [],
   "source": [
    "#plot of min that includes negatives\n",
    "mfe = []\n",
    "compounds = []\n",
    "for key, val in complete_energies.items():\n",
    "    compounds.append(complete_energies[key]['formula'])\n",
    "    min_key = min(val['defect formation energy'], key=val['defect formation energy'].get)\n",
    "    min_value = complete_energies[key]['defect formation energy'][min_key]\n",
    "    mfe.append(val['defect formation energy'][min_key])"
   ]
  },
  {
   "cell_type": "code",
   "execution_count": 25,
   "id": "7fc9ee72-c160-4fbd-bfdf-abb979535835",
   "metadata": {},
   "outputs": [],
   "source": [
    "import numpy as np\n",
    "import matplotlib.pyplot as plt"
   ]
  },
  {
   "cell_type": "code",
   "execution_count": 33,
   "id": "eead8c24-3303-4eec-a319-a3255d22f4e7",
   "metadata": {
    "scrolled": true
   },
   "outputs": [
    {
     "data": {
      "image/png": "[encoded data removed]",
      "text/plain": [
       "<Figure size 640x480 with 1 Axes>"
      ]
     },
     "metadata": {},
     "output_type": "display_data"
    }
   ],
   "source": [
    "fig, ax = plt.subplots()\n",
    "bars = ax.bar(compounds, mfe)  # Assuming you have these lists already\n",
    "Al = 'Al'\n",
    "# Add labels on top of each bar\n",
    "# ax.set_title(f\"Minimum Formation Energy of Cr$_A$$_l$ Substitution Defect with Corrections, {supercell_size}Å supercell with the {MODEL} model\")\n",
    "ax.set_ylabel(\"Formation Energy (eV)\")\n",
    "plt.ylim(-0.7, 7)\n",
    "plt.xticks(rotation=90)\n",
    "plt.tight_layout()\n",
    "plt.savefig(f\"../../figures/{MODEL}/{MODEL}_corrected_min_defect_formation_energies_{supercell_size}A.png\", dpi=300, bbox_inches='tight')\n",
    "plt.show()"
   ]
  }
 ],
 "metadata": {
  "kernelspec": {
   "display_name": "Python 3 (ipykernel)",
   "language": "python",
   "name": "python3"
  },
  "language_info": {
   "codemirror_mode": {
    "name": "ipython",
    "version": 3
   },
   "file_extension": ".py",
   "mimetype": "text/x-python",
   "name": "python",
   "nbconvert_exporter": "python",
   "pygments_lexer": "ipython3",
   "version": "3.11.13"
  }
 },
 "nbformat": 4,
 "nbformat_minor": 5
}
