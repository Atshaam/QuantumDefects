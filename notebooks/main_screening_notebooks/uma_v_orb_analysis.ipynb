{
 "cells": [
  {
   "cell_type": "code",
   "execution_count": 1,
   "id": "179d53ec-77f5-47f0-b3de-afe9fb758c58",
   "metadata": {},
   "outputs": [],
   "source": [
    "import os\n",
    "\n",
    "os.environ[\"CUDA_DEVICE_ORDER\"] = \"PCI_BUS_ID\"\n",
    "os.environ[\"CUDA_VISIBLE_DEVICES\"] = \"1\""
   ]
  },
  {
   "cell_type": "code",
   "execution_count": 2,
   "id": "ce4f610c-660d-40aa-b60f-bcf5d5bc9526",
   "metadata": {},
   "outputs": [],
   "source": [
    "from monty.serialization import loadfn, dumpfn"
   ]
  },
  {
   "cell_type": "code",
   "execution_count": 3,
   "id": "acbd12d9-2ab9-4a63-9e00-800fbfed8039",
   "metadata": {},
   "outputs": [],
   "source": [
    "MODEL1 = \"uma\"\n",
    "MODEL2 = \"orb\""
   ]
  },
  {
   "cell_type": "code",
   "execution_count": 4,
   "id": "ea211d4e-d07a-4e99-aa54-fbfc1d1f89bb",
   "metadata": {},
   "outputs": [],
   "source": [
    "supercell_size = 10"
   ]
  },
  {
   "cell_type": "code",
   "execution_count": 5,
   "id": "50c71490-f358-4ba1-bf1e-e9020ab46b96",
   "metadata": {},
   "outputs": [],
   "source": [
    "formation_energy1 = loadfn(f'../data/{MODEL1}_corrected_calculated_defect_formation_energies_{supercell_size}A.json')"
   ]
  },
  {
   "cell_type": "code",
   "execution_count": 6,
   "id": "87a4e555-7d23-49c5-9df6-1e32e0a412ca",
   "metadata": {},
   "outputs": [],
   "source": [
    "formation_energy2 = loadfn(f'../data/{MODEL2}_corrected_calculated_defect_formation_energies_{supercell_size}A.json')"
   ]
  },
  {
   "cell_type": "code",
   "execution_count": 7,
   "id": "21735d08-fce7-4c3c-b5f5-ac54f70f2cfb",
   "metadata": {},
   "outputs": [],
   "source": [
    "mfe1 = []\n",
    "compounds = []\n",
    "for key, val in formation_energy1.items():\n",
    "    if key != 'mp-755882':\n",
    "        compounds.append(formation_energy1[key]['formula'])\n",
    "        min_key = min(val['defect formation energy'], key=val['defect formation energy'].get)\n",
    "        min_value = formation_energy1[key]['defect formation energy'][min_key]\n",
    "        mfe1.append(val['defect formation energy'][min_key])"
   ]
  },
  {
   "cell_type": "code",
   "execution_count": 8,
   "id": "b1832d1a-9465-46d0-9328-00162ab39717",
   "metadata": {},
   "outputs": [],
   "source": [
    "mfe2 = []\n",
    "for key, val in formation_energy2.items():\n",
    "    if key != 'mp-755882':\n",
    "        min_key = min(val['defect formation energy'], key=val['defect formation energy'].get)\n",
    "        min_value = formation_energy2[key]['defect formation energy'][min_key]\n",
    "        mfe2.append(val['defect formation energy'][min_key])"
   ]
  },
  {
   "cell_type": "code",
   "execution_count": null,
   "id": "4bd343e5-5e1e-4312-af9d-30504aba9a67",
   "metadata": {},
   "outputs": [],
   "source": [
    "uncertainties = {} # wrt to uma model\n",
    "for i in range(len(mfe1)):\n",
    "    uncertainties[compound_name] = {\n",
    "        MODEL1: val1, \n",
    "        MODEL2: val2, \n",
    "        'percentage difference': (abs(mfe1[i] - mfe2[i]) / abs(mfe1[i]))* 100\n",
    "    }\n",
    "    "
   ]
  },
  {
   "cell_type": "code",
   "execution_count": 30,
   "id": "48b5404e-30bc-45f9-889e-90ad6f71cf7c",
   "metadata": {},
   "outputs": [
    {
     "name": "stdout",
     "output_type": "stream",
     "text": [
      "{'Al(PO3)3': {'uma': 0.07079253695435028, 'orb': 0.07700238281256588, 'percentage difference': 8.771893373760493}, 'LiAlO2': {'uma': 1.4417894070716102, 'orb': 1.4941579296875602, 'percentage difference': 3.6321894417517404}, 'AlClO': {'uma': 5.6179620059486695, 'orb': 5.609338789062486, 'percentage difference': 0.15349368466808594}, 'SmAlO3': {'uma': 1.5720253299231324, 'orb': 0.9257679882811871, 'percentage difference': 41.10985550554363}, 'AlWO4': {'uma': 0.0654959109778126, 'orb': 0.04487345703127765, 'percentage difference': 31.486628155337836}, 'KAlP2O7': {'uma': 0.06911853793168099, 'orb': 0.08058839843745069, 'percentage difference': 16.594477905633486}, 'Cs2Al(NO3)5': {'uma': -0.008959831209626401, 'orb': 0.000759365234388909, 'percentage difference': 108.47521807746836}, 'AlH12(ClO2)3': {'uma': 0.09854201693463871, 'orb': 0.34689637695307773, 'percentage difference': 252.02889868102494}, 'Na3AlP8O23': {'uma': 0.015052558927360238, 'orb': 0.011132968750045436, 'percentage difference': 26.039361122781397}, 'CsAlH24(SeO10)2': {'uma': 0.0875865481843956, 'orb': 0.007521894531201667, 'percentage difference': 91.41204364468634}, 'Al2O3': {'uma': 1.1943035867593679, 'orb': 0.6263008789062852, 'percentage difference': 47.55932362175228}, 'Al2(SO4)3': {'uma': 0.04885524874622682, 'orb': 0.04030482421874737, 'percentage difference': 17.50154742204606}, 'Al2FeO4': {'uma': -0.04602842495971693, 'orb': -0.010260976562538104, 'percentage difference': 77.70730462422235}, 'MgAl2O4': {'uma': 1.0717511404700666, 'orb': 0.8329216015624219, 'percentage difference': 22.284048030300657}, 'Al2(MoO4)3': {'uma': 0.05428191561624374, 'orb': 0.04978205078120368, 'percentage difference': 8.289804779279903}, 'BeAl2O4': {'uma': 0.9446785965244615, 'orb': 0.35486171874996586, 'percentage difference': 62.435719401759826}}\n"
     ]
    }
   ],
   "source": [
    "print(uncertainties)"
   ]
  },
  {
   "cell_type": "code",
   "execution_count": 31,
   "id": "5fa72b3c-718c-43e6-aa91-19a338c5d00f",
   "metadata": {},
   "outputs": [],
   "source": [
    "dumpfn(uncertainties, f'../data/Uncertainty_{MODEL1} and {MODEL2}_corrected_calculated_defect_formation_energies_{supercell_size}A.json')"
   ]
  },
  {
   "cell_type": "code",
   "execution_count": null,
   "id": "de55bb08-1216-41c9-a8f7-8c53aabb0dc8",
   "metadata": {},
   "outputs": [],
   "source": []
  }
 ],
 "metadata": {
  "kernelspec": {
   "display_name": "Python 3 (ipykernel)",
   "language": "python",
   "name": "python3"
  },
  "language_info": {
   "codemirror_mode": {
    "name": "ipython",
    "version": 3
   },
   "file_extension": ".py",
   "mimetype": "text/x-python",
   "name": "python",
   "nbconvert_exporter": "python",
   "pygments_lexer": "ipython3",
   "version": "3.11.13"
  }
 },
 "nbformat": 4,
 "nbformat_minor": 5
}
