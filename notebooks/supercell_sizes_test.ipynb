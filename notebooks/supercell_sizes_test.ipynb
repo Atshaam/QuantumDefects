{
 "cells": [
  {
   "cell_type": "code",
   "execution_count": 1,
   "id": "598e4077-84a3-4e93-bcd6-8af2d2009d13",
   "metadata": {},
   "outputs": [],
   "source": [
    "import os\n",
    "\n",
    "os.environ[\"CUDA_DEVICE_ORDER\"] = \"PCI_BUS_ID\"\n",
    "os.environ[\"CUDA_VISIBLE_DEVICES\"] = \"2\""
   ]
  },
  {
   "cell_type": "code",
   "execution_count": 2,
   "id": "b81f5d3e-721b-44cf-8796-025d6196378b",
   "metadata": {},
   "outputs": [],
   "source": [
    "from monty.serialization import dumpfn, loadfn"
   ]
  },
  {
   "cell_type": "code",
   "execution_count": 3,
   "id": "5ef9b765-223e-45e7-ad05-c88c2c726912",
   "metadata": {
    "scrolled": true
   },
   "outputs": [],
   "source": [
    "from doped.generation import DefectsGenerator\n",
    "from shakenbreak.input import Distortions"
   ]
  },
  {
   "cell_type": "code",
   "execution_count": 4,
   "id": "3c63e393-0dd4-4d26-b579-a1f1176c9634",
   "metadata": {},
   "outputs": [
    {
     "name": "stderr",
     "output_type": "stream",
     "text": [
      "auto.py:21: TqdmWarning: IProgress not found. Please update jupyter and ipywidgets. See https://ipywidgets.readthedocs.io/en/stable/user_install.html\n"
     ]
    }
   ],
   "source": [
    "from ase.filters import FrechetCellFilter\n",
    "from ase.optimize import LBFGS\n",
    "from pymatgen.io.ase import AseAtomsAdaptor#\n",
    "from fairchem.core import pretrained_mlip, FAIRChemCalculator"
   ]
  },
  {
   "cell_type": "code",
   "execution_count": 5,
   "id": "a1b85c04-d08b-4ce1-bb02-6289b83610ae",
   "metadata": {},
   "outputs": [],
   "source": [
    "MODEL = \"uma\""
   ]
  },
  {
   "cell_type": "code",
   "execution_count": 37,
   "id": "a644ca8a-a81c-4df1-98d7-4a72e3de8841",
   "metadata": {},
   "outputs": [],
   "source": [
    "supercell_sizes = [10.1,10.2, 10.5, 10.6, 10.7]"
   ]
  },
  {
   "cell_type": "code",
   "execution_count": 7,
   "id": "ae13edfc-5e34-4511-8f63-9e5b4cdac726",
   "metadata": {},
   "outputs": [],
   "source": [
    "uma_ff = pretrained_mlip.get_predict_unit(\"uma-m-1p1\", device=\"cuda\")\n",
    "uma_calc = FAIRChemCalculator(uma_ff, task_name=\"omat\")\n",
    "\n",
    "MODELS = {\n",
    "    'uma': uma_calc\n",
    "}"
   ]
  },
  {
   "cell_type": "code",
   "execution_count": 8,
   "id": "954ba0f9-442c-4c10-8fa8-1847a6309bbb",
   "metadata": {},
   "outputs": [],
   "source": [
    "def full_relax_structure(structure):\n",
    "    atoms = structure.to_ase_atoms()\n",
    "    atoms.calc = MODELS[MODEL]\n",
    "\n",
    "    opt = LBFGS(FrechetCellFilter(atoms))\n",
    "    opt.run(0.01, 1000)\n",
    "\n",
    "    relaxed_structure = AseAtomsAdaptor.get_structure(atoms)\n",
    "    energy = atoms.get_potential_energy()\n",
    "\n",
    "    return relaxed_structure, energy, len(atoms) \n",
    "    "
   ]
  },
  {
   "cell_type": "code",
   "execution_count": 9,
   "id": "f8572ada-aae7-4d14-bc1d-f1a4ccba63b1",
   "metadata": {},
   "outputs": [],
   "source": [
    "def relax_structure(structure): # takes in pymatgen structure\n",
    "    atoms = structure.to_ase_atoms()\n",
    "    atoms.calc = MODELS[MODEL]\n",
    "\n",
    "    opt = LBFGS(atoms) \n",
    "    opt.run(0.01, 1000)\n",
    "\n",
    "    relaxed_structure = AseAtomsAdaptor.get_structure(atoms)\n",
    "    energy = atoms.get_potential_energy()\n",
    "\n",
    "    return relaxed_structure, energy, len(atoms)"
   ]
  },
  {
   "cell_type": "code",
   "execution_count": null,
   "id": "6249653c-11ff-472e-ae61-cf5f331ccd1c",
   "metadata": {},
   "outputs": [],
   "source": []
  },
  {
   "cell_type": "code",
   "execution_count": 10,
   "id": "d4f48a1d-3b11-447b-be1b-8696f9913614",
   "metadata": {},
   "outputs": [],
   "source": [
    "AlClO_primitive = loadfn(f'../data/{MODEL}/{MODEL}_relaxed_Al_prim.json')"
   ]
  },
  {
   "cell_type": "code",
   "execution_count": 11,
   "id": "956faca6-e731-407e-9745-7c17ff5eebf1",
   "metadata": {},
   "outputs": [],
   "source": [
    "def bulk_supercell_creation(structure, supercell_size):\n",
    "    defect_gen = DefectsGenerator(structure, extrinsic=\"Cr\", interstitial_gen_kwargs=False, supercell_gen_kwargs={'min_image_distance':supercell_size} ) # set large super cell 25 Angstroms 'supercell_gen_kwargs={'min_image_distance':15}valid_keys = []\n",
    "\n",
    "    return defect_gen.bulk_supercell"
   ]
  },
  {
   "cell_type": "code",
   "execution_count": 46,
   "id": "1659aa65-91c9-4c3d-8548-8539904478db",
   "metadata": {},
   "outputs": [],
   "source": [
    "AlClO_supercells = {} \n",
    "# AlClO_supercells = loadfn(f'../data/{MODEL}/{MODEL}_bulk_supercell_energy_experiment.json')"
   ]
  },
  {
   "cell_type": "code",
   "execution_count": 47,
   "id": "9a0799df-e330-4a9b-9f5d-81fc1a14846d",
   "metadata": {
    "scrolled": true
   },
   "outputs": [
    {
     "name": "stderr",
     "output_type": "stream",
     "text": [
      "Generating DefectEntry objects: 100.0%|████████████████████████████████████████████████████████████| [00:48,   2.08it/s]\n"
     ]
    },
    {
     "name": "stdout",
     "output_type": "stream",
     "text": [
      "Vacancies    Guessed Charges    Conv. Cell Coords    Wyckoff\n",
      "-----------  -----------------  -------------------  ---------\n",
      "v_Al         [+1,0,-1,-2,-3]    [0.125,0.125,0.125]  16c\n",
      "v_Fe         [+1,0,-1,-2]       [0.500,0.500,0.500]  8b\n",
      "v_O          [+2,+1,0,-1]       [0.359,0.359,0.359]  32e\n",
      "\n",
      "Substitutions    Guessed Charges     Conv. Cell Coords    Wyckoff\n",
      "---------------  ------------------  -------------------  ---------\n",
      "Al_Fe            [+1,0]              [0.500,0.500,0.500]  8b\n",
      "Al_O             [+5,+4,+3,+2,+1,0]  [0.359,0.359,0.359]  32e\n",
      "Fe_Al            [+1,0,-1,-2]        [0.125,0.125,0.125]  16c\n",
      "Fe_O             [+5,+4,+3,+2,+1,0]  [0.359,0.359,0.359]  32e\n",
      "O_Al             [0,-1,-2,-3,-4,-5]  [0.125,0.125,0.125]  16c\n",
      "O_Fe             [0,-1,-2,-3,-4]     [0.500,0.500,0.500]  8b\n",
      "Cr_Al            [+3,+2,+1,0,-1]     [0.125,0.125,0.125]  16c\n",
      "Cr_Fe            [+4,+3,+2,+1,0]     [0.500,0.500,0.500]  8b\n",
      "Cr_O             [+5,+4,+3,+2,+1,0]  [0.359,0.359,0.359]  32e\n",
      "\n",
      "The number in the Wyckoff label is the site multiplicity/degeneracy of that defect in the conventional ('conv.') unit cell, which comprises 8 formula unit(s) of FeAl2O4.\n",
      "\n",
      "       Step     Time          Energy          fmax\n",
      "LBFGS:    0 11:27:14     -609.861081        0.009682\n",
      "       Step     Time          Energy          fmax\n",
      "LBFGS:    0 11:27:15     -609.861081        0.009682\n"
     ]
    }
   ],
   "source": [
    "for size in supercell_sizes:\n",
    "    if size == 10.1:\n",
    "        if size not in AlClO_supercells.keys():\n",
    "            supercell_structure = bulk_supercell_creation(AlClO_primitive_structure, size)\n",
    "            fully_relaxed_structure, fully_relaxed_energy, full_relaxed_n_atoms = full_relax_structure(supercell_structure)\n",
    "            relaxed_structure, relaxed_energy, relaxed_n_atoms = relax_structure(supercell_structure)\n",
    "            multiplier = full_relaxed_n_atoms / n_primitive_atoms\n",
    "            AlClO_supercells[size] = {\n",
    "                'fully relaxed structure' : fully_relaxed_structure,\n",
    "                'fully relaxed energy' : fully_relaxed_energy,\n",
    "                'n atoms' : full_relaxed_n_atoms,\n",
    "                'relaxed structure' : relaxed_structure,\n",
    "                'relaxed energy' : relaxed_energy,\n",
    "                'expected energy multiplier' : multiplier,\n",
    "                'full energy per primitive' : fully_relaxed_energy / multiplier,\n",
    "                'energy per primitive' : relaxed_energy / multiplier\n",
    "            }"
   ]
  },
  {
   "cell_type": "code",
   "execution_count": 17,
   "id": "0f87b595-82f1-45ac-a010-0ef13459d280",
   "metadata": {},
   "outputs": [],
   "source": [
    "dumpfn(AlClO_supercells, f'../data/{MODEL}/{MODEL}_bulk_supercell_energy_experiment.json') "
   ]
  },
  {
   "cell_type": "code",
   "execution_count": 30,
   "id": "d1e90842-6188-4426-bb23-c31f16922598",
   "metadata": {},
   "outputs": [],
   "source": [
    "AlClO_supercells = loadfn(f'../data/{MODEL}/{MODEL}_bulk_supercell_energy_experiment.json')"
   ]
  },
  {
   "cell_type": "code",
   "execution_count": 31,
   "id": "46434c03-1bac-4ed0-996b-15d712800814",
   "metadata": {},
   "outputs": [],
   "source": [
    "import matplotlib.pyplot as plt"
   ]
  },
  {
   "cell_type": "code",
   "execution_count": 60,
   "id": "9d363836-fbb2-47eb-b711-b17e0f8257a5",
   "metadata": {},
   "outputs": [],
   "source": [
    "full_energies = []\n",
    "for size in supercell_sizes:\n",
    "    full_energies.append(AlClO_supercells[size]['full energy multiplied'])"
   ]
  },
  {
   "cell_type": "code",
   "execution_count": 61,
   "id": "74a01bc8-de3e-41bb-acf1-d66ef472f317",
   "metadata": {},
   "outputs": [],
   "source": [
    "energies = []\n",
    "for size in supercell_sizes:\n",
    "    energies.append(AlClO_supercells[size]['energy multiplied'])"
   ]
  },
  {
   "cell_type": "code",
   "execution_count": 77,
   "id": "0c1223e8-4bba-4f9e-a429-c90778a86b3a",
   "metadata": {},
   "outputs": [
    {
     "name": "stdout",
     "output_type": "stream",
     "text": [
      "[-35.19884084516134, -35.19883914974033, -35.19884453875712, -35.19885414362007]\n"
     ]
    },
    {
     "data": {
      "image/png": "[encoded data removed]",
      "text/plain": [
       "<Figure size 640x480 with 1 Axes>"
      ]
     },
     "metadata": {},
     "output_type": "display_data"
    }
   ],
   "source": [
    "plt.plot(supercell_sizes, full_energies)\n",
    "print(full_energies)\n",
    "plt.ylim(-35.2005, -35.1975)\n",
    "plt.ylabel('Energy per Primitive Cell (eV)')\n",
    "plt.xlabel('Supercell Size (Angstroms)')\n",
    "plt.savefig(F'../figures/{MODEL}/{MODEL}_full_relaxation_supercells_energy.png')\n",
    "plt.title('Full Relaxation')\n",
    "plt.show()"
   ]
  },
  {
   "cell_type": "code",
   "execution_count": 78,
   "id": "e8182dd9-d5c3-463c-8151-445d77e3f905",
   "metadata": {},
   "outputs": [
    {
     "name": "stdout",
     "output_type": "stream",
     "text": [
      "[-35.19883914974033, -35.19883914974033, -35.19884508371386, -35.19885414362007]\n"
     ]
    },
    {
     "data": {
      "image/png": "[encoded data removed]",
      "text/plain": [
       "<Figure size 640x480 with 1 Axes>"
      ]
     },
     "metadata": {},
     "output_type": "display_data"
    }
   ],
   "source": [
    "plt.plot(supercell_sizes, energies)\n",
    "print(energies)\n",
    "plt.ylabel('Energy per Primitive Cell (eV)')\n",
    "plt.xlabel('Supercell Size (Angstroms)')\n",
    "plt.title('Non Relaxation - No FrechetCellFilter')\n",
    "plt.ylim(-35.2005, -35.1975)\n",
    "plt.savefig(F'../figures/{MODEL}/{MODEL}_non_relaxation_supercells_energy.png')\n",
    "plt.show()"
   ]
  },
  {
   "cell_type": "code",
   "execution_count": null,
   "id": "8d53db2f-6c89-4035-a681-89528340524c",
   "metadata": {},
   "outputs": [],
   "source": []
  }
 ],
 "metadata": {
  "kernelspec": {
   "display_name": "Python 3 (ipykernel)",
   "language": "python",
   "name": "python3"
  },
  "language_info": {
   "codemirror_mode": {
    "name": "ipython",
    "version": 3
   },
   "file_extension": ".py",
   "mimetype": "text/x-python",
   "name": "python",
   "nbconvert_exporter": "python",
   "pygments_lexer": "ipython3",
   "version": "3.11.13"
  }
 },
 "nbformat": 4,
 "nbformat_minor": 5
}
